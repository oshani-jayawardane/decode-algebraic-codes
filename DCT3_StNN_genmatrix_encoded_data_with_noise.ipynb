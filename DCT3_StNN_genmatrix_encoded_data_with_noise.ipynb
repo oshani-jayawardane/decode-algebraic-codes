{
  "nbformat": 4,
  "nbformat_minor": 0,
  "metadata": {
    "colab": {
      "provenance": [],
      "gpuType": "T4"
    },
    "kernelspec": {
      "name": "python3",
      "display_name": "Python 3"
    },
    "language_info": {
      "name": "python"
    },
    "accelerator": "GPU"
  },
  "cells": [
    {
      "cell_type": "code",
      "execution_count": 85,
      "metadata": {
        "colab": {
          "base_uri": "https://localhost:8080/"
        },
        "id": "_CtDgpICg8j4",
        "outputId": "72d2add8-e268-40c7-c11d-e62217862c19"
      },
      "outputs": [
        {
          "output_type": "execute_result",
          "data": {
            "text/plain": [
              "32237"
            ]
          },
          "metadata": {},
          "execution_count": 85
        }
      ],
      "source": [
        "%reset -f\n",
        "import gc\n",
        "gc.collect()"
      ]
    },
    {
      "cell_type": "code",
      "source": [
        "import numpy as np\n",
        "import tensorflow as tf\n",
        "from scipy.fftpack import dct\n",
        "import math\n",
        "\n",
        "np.random.seed(42)"
      ],
      "metadata": {
        "id": "T5DNDJ9jhC5X"
      },
      "execution_count": 86,
      "outputs": []
    },
    {
      "cell_type": "code",
      "source": [
        "# (x, y, z, w) --> (1, 2, 3, 4)\n",
        "global z0\n",
        "global w0\n",
        "\n",
        "w0 = 4\n",
        "z0 = 3\n",
        "\n",
        "n = 27\n",
        "q = 7\n",
        "\n",
        "num_samples = 1000"
      ],
      "metadata": {
        "id": "ENylJtjkhEAq"
      },
      "execution_count": 87,
      "outputs": []
    },
    {
      "cell_type": "code",
      "source": [
        "def next_power_of_two(x):\n",
        "    return 2 ** math.ceil(math.log2(x))\n",
        "\n",
        "n_padded = next_power_of_two(n)\n",
        "\n",
        "x_original = np.random.randint(0, q, size=(num_samples, n))\n",
        "\n",
        "padding = n_padded - n\n",
        "dataset = np.pad(x_original, ((0, 0), (0, padding)), mode='constant', constant_values=0)\n",
        "\n",
        "print(f\"Original n: {n}, Padded to: {n_padded}\")"
      ],
      "metadata": {
        "colab": {
          "base_uri": "https://localhost:8080/"
        },
        "id": "LbOu10L0hFcT",
        "outputId": "43573342-5cf6-48de-b949-c8b536d23e30"
      },
      "execution_count": 88,
      "outputs": [
        {
          "output_type": "stream",
          "name": "stdout",
          "text": [
            "Original n: 27, Padded to: 32\n"
          ]
        }
      ]
    },
    {
      "cell_type": "code",
      "source": [
        "dataset.shape"
      ],
      "metadata": {
        "colab": {
          "base_uri": "https://localhost:8080/"
        },
        "id": "6CDKaRCshHcU",
        "outputId": "73d8116e-dd02-4834-f7df-651a673523a6"
      },
      "execution_count": 89,
      "outputs": [
        {
          "output_type": "execute_result",
          "data": {
            "text/plain": [
              "(1000, 32)"
            ]
          },
          "metadata": {},
          "execution_count": 89
        }
      ]
    },
    {
      "cell_type": "code",
      "source": [
        "from sklearn.model_selection import train_test_split\n",
        "\n",
        "y_train, y_val = train_test_split(\n",
        "    dataset,\n",
        "    test_size=0.2,\n",
        "    shuffle=True,\n",
        "    random_state=42\n",
        ")"
      ],
      "metadata": {
        "id": "2G_9yp1SvnL9"
      },
      "execution_count": 90,
      "outputs": []
    },
    {
      "cell_type": "code",
      "source": [
        "print(y_train.shape)\n",
        "print(y_val.shape)"
      ],
      "metadata": {
        "colab": {
          "base_uri": "https://localhost:8080/"
        },
        "id": "gheqSrSNvpGm",
        "outputId": "67119679-902d-4215-ac4f-fca1cc0a5e59"
      },
      "execution_count": 91,
      "outputs": [
        {
          "output_type": "stream",
          "name": "stdout",
          "text": [
            "(800, 32)\n",
            "(200, 32)\n"
          ]
        }
      ]
    },
    {
      "cell_type": "code",
      "source": [
        "print(y_train)"
      ],
      "metadata": {
        "colab": {
          "base_uri": "https://localhost:8080/"
        },
        "id": "QwHLiWB5vqgR",
        "outputId": "9384a2af-d23e-4c01-b6f6-707b3f58801f"
      },
      "execution_count": 92,
      "outputs": [
        {
          "output_type": "stream",
          "name": "stdout",
          "text": [
            "[[1 1 2 ... 0 0 0]\n",
            " [5 3 6 ... 0 0 0]\n",
            " [1 4 3 ... 0 0 0]\n",
            " ...\n",
            " [3 6 5 ... 0 0 0]\n",
            " [1 5 1 ... 0 0 0]\n",
            " [3 3 6 ... 0 0 0]]\n"
          ]
        }
      ]
    },
    {
      "cell_type": "code",
      "source": [
        "print(y_val)"
      ],
      "metadata": {
        "colab": {
          "base_uri": "https://localhost:8080/"
        },
        "id": "y9qaVFcpvrlh",
        "outputId": "0b663df1-306c-4639-9eec-c2dffd9380dd"
      },
      "execution_count": 93,
      "outputs": [
        {
          "output_type": "stream",
          "name": "stdout",
          "text": [
            "[[5 6 5 ... 0 0 0]\n",
            " [1 4 1 ... 0 0 0]\n",
            " [2 6 0 ... 0 0 0]\n",
            " ...\n",
            " [6 4 3 ... 0 0 0]\n",
            " [2 3 4 ... 0 0 0]\n",
            " [4 3 6 ... 0 0 0]]\n"
          ]
        }
      ]
    },
    {
      "cell_type": "markdown",
      "source": [
        "Encode using generator matrix\n",
        "$$\n",
        "\\tilde{M}_{kj} = \\left[ \\left( \\frac{w_0}{z_0} \\right)^j \\zeta^{kj} \\right]_{k,j=0}^{n-1}\n",
        "$$"
      ],
      "metadata": {
        "id": "Dk5m5Af1u9Dk"
      }
    },
    {
      "cell_type": "code",
      "source": [
        "def padded_generator_matrix(N, w0, z0):\n",
        "    n = np.arange(N)\n",
        "    k = n.reshape((N, 1))\n",
        "    zeta = np.exp(-2j * np.pi / N)\n",
        "    M_tilde = ((w0 / z0) ** n) * (zeta ** (k * n))\n",
        "    return M_tilde"
      ],
      "metadata": {
        "id": "RNfAGAYshJUg"
      },
      "execution_count": 94,
      "outputs": []
    },
    {
      "cell_type": "code",
      "source": [
        "M_tilde = padded_generator_matrix(n_padded, w0, z0)\n",
        "print(M_tilde.shape)"
      ],
      "metadata": {
        "colab": {
          "base_uri": "https://localhost:8080/"
        },
        "id": "EZDn5MaHhLId",
        "outputId": "38610c1d-fb1a-4426-be53-939ceade7a89"
      },
      "execution_count": 95,
      "outputs": [
        {
          "output_type": "stream",
          "name": "stdout",
          "text": [
            "(32, 32)\n"
          ]
        }
      ]
    },
    {
      "cell_type": "code",
      "source": [
        "class FirstLayer(tf.keras.layers.Layer):\n",
        "    def __init__(self, units, trainable=True, **kwargs):\n",
        "        super(FirstLayer, self).__init__(**kwargs)\n",
        "        self.n = units\n",
        "        self.n1 = units // 2\n",
        "        self.trainable = trainable\n",
        "\n",
        "        init_diag = tf.ones(self.n1, dtype=tf.float32)\n",
        "        init_diag = tf.tensor_scatter_nd_update(init_diag, [[0]], [tf.sqrt(2.0)])\n",
        "\n",
        "        self.B_1 = self.add_weight(\n",
        "                shape=(self.n1,),\n",
        "                initializer=tf.keras.initializers.Constant(init_diag),\n",
        "                trainable=self.trainable,\n",
        "                name='B_1'\n",
        "            )\n",
        "        self.B_2 = self.add_weight(\n",
        "                shape=(self.n1,),\n",
        "                initializer='ones',\n",
        "                trainable=self.trainable,\n",
        "                name='B_2'\n",
        "            )\n",
        "        self.bias = self.add_weight(\n",
        "            shape=(self.n,),\n",
        "            initializer='zeros',\n",
        "            trainable=True,\n",
        "            name='bias'\n",
        "        )\n",
        "\n",
        "    def call(self, x):\n",
        "        even = x[:, ::2]\n",
        "        odd = x[:, 1::2]\n",
        "\n",
        "        d1 = tf.multiply(odd, self.B_1) # diagonal\n",
        "        d2 = tf.multiply(tf.concat([tf.zeros_like(odd[:, :1]), odd[:, :-1]], axis=1), self.B_2) # off-diagonal\n",
        "        B_n = tf.add(d1, d2)\n",
        "\n",
        "        u = tf.concat([even, B_n], axis=1)\n",
        "\n",
        "        return u + self.bias"
      ],
      "metadata": {
        "id": "3hh6hl3phNfD"
      },
      "execution_count": 96,
      "outputs": []
    },
    {
      "cell_type": "code",
      "source": [
        "class DCTIII(tf.keras.layers.Layer):\n",
        "    def __init__(self, n, trainable=True, **kwargs):\n",
        "        super(DCTIII, self).__init__(**kwargs)\n",
        "        self.n = n\n",
        "        self.n1 = n // 2 if n > 2 else 1\n",
        "        self.trainable = trainable\n",
        "\n",
        "        if n == 2:\n",
        "            # Base case: trainable 2x2 matrix\n",
        "            self.C_2 = self.add_weight(\n",
        "                shape=(2, 2),\n",
        "                initializer=tf.keras.initializers.Constant((1 / np.sqrt(2)) * np.array([[1., 1.], [1., -1.]])),\n",
        "                trainable=self.trainable,\n",
        "                name='C_2'\n",
        "            )\n",
        "        else:\n",
        "            init_diag = tf.ones(self.n1, dtype=tf.float32)\n",
        "            init_diag = tf.tensor_scatter_nd_update(init_diag, [[0]], [tf.sqrt(2.0)])\n",
        "\n",
        "            # Weights for B^T_{n/2}\n",
        "            self.B_1 = self.add_weight(\n",
        "                shape=(self.n1,),\n",
        "                initializer=tf.keras.initializers.Constant(init_diag),\n",
        "                trainable=self.trainable,\n",
        "                name='B_1'\n",
        "            )\n",
        "            self.B_2 = self.add_weight(\n",
        "                shape=(self.n1,),\n",
        "                initializer='ones',\n",
        "                trainable=self.trainable,\n",
        "                name='B_2'\n",
        "            )\n",
        "\n",
        "            k = tf.cast(tf.range(1, self.n1 + 1), tf.float32)\n",
        "            pi = tf.constant(np.pi, dtype=tf.float32)\n",
        "            init_W_c = 1 / (2 * tf.cos((2 * k - 1) * (pi / (2 * self.n))))\n",
        "\n",
        "            # Weight for W_c\n",
        "            self.w_c = self.add_weight(\n",
        "                shape=(self.n1,),\n",
        "                initializer=tf.keras.initializers.Constant(init_W_c),\n",
        "                trainable=self.trainable,\n",
        "                name='W_c'\n",
        "            )\n",
        "            # Recursive DCTIII for n/2\n",
        "            self.dctiii_layer1 = DCTIII(self.n1,trainable=self.trainable)\n",
        "            self.dctiii_layer2 = DCTIII(self.n1,trainable=self.trainable)\n",
        "\n",
        "    def call(self, x):\n",
        "        if self.n == 2:\n",
        "            y = tf.matmul(self.C_2, x, transpose_b=True)\n",
        "            return tf.transpose(y)\n",
        "        else:\n",
        "            # Permutation\n",
        "            even = x[:, ::2]\n",
        "            odd = x[:, 1::2]\n",
        "\n",
        "            # B^T\n",
        "            d1 = tf.multiply(odd, self.B_1)\n",
        "            d2 = tf.multiply(tf.concat([tf.zeros_like(odd[:, :1]), odd[:, :-1]], axis=1), self.B_2)\n",
        "            B_n = tf.add(d1, d2)\n",
        "            u = tf.concat([even, B_n], axis=1)\n",
        "\n",
        "            # Recursive DCTIII\n",
        "            z1 = self.dctiii_layer1(u[:, :self.n1])\n",
        "            z2 = self.dctiii_layer2(u[:, self.n1:])\n",
        "            recurs_out = tf.concat([z1, z2], axis=1)\n",
        "\n",
        "            # W_c\n",
        "            W_n = tf.multiply(recurs_out[:, self.n1:], self.w_c)\n",
        "            v = tf.concat([recurs_out[:, :self.n1], W_n], axis=1)\n",
        "\n",
        "            # H_n\n",
        "            out1 = v[:, :self.n1]\n",
        "            out2 = v[:, self.n1:]\n",
        "            y = (1 / tf.sqrt(tf.constant(2.0, dtype=tf.float32))) * tf.concat(\n",
        "                [(out1 + out2), tf.reverse((out1 - out2), axis=[1])],\n",
        "                axis=1\n",
        "            )\n",
        "\n",
        "            return y"
      ],
      "metadata": {
        "id": "WoU_F5NAhRSZ"
      },
      "execution_count": 97,
      "outputs": []
    },
    {
      "cell_type": "code",
      "source": [
        "class SecondLayer(tf.keras.layers.Layer):\n",
        "    def __init__(self, units, trainable=True, **kwargs):\n",
        "        super(SecondLayer, self).__init__(**kwargs)\n",
        "        self.n = units\n",
        "        self.n1 = units // 2\n",
        "        self.trainable = trainable\n",
        "\n",
        "        self.bias = self.add_weight(\n",
        "            shape=(self.n,),\n",
        "            initializer='zeros',\n",
        "            trainable=True,\n",
        "            name='bias'\n",
        "        )\n",
        "\n",
        "        self.dctiii1 = DCTIII(self.n1, trainable=self.trainable)\n",
        "        self.dctiii2 = DCTIII(self.n1,trainable=self.trainable)\n",
        "\n",
        "    def call(self, x):\n",
        "        z1 = self.dctiii1(x[:, :self.n1])\n",
        "        z2 = self.dctiii2(x[:, self.n1:])\n",
        "        out = tf.concat([z1, z2], axis=1)\n",
        "        return out + self.bias"
      ],
      "metadata": {
        "id": "uaeZ-KLHhTzL"
      },
      "execution_count": 98,
      "outputs": []
    },
    {
      "cell_type": "code",
      "source": [
        "class ThirdLayer(tf.keras.layers.Layer):\n",
        "    def __init__(self, units, trainable=True, **kwargs):\n",
        "        super(ThirdLayer, self).__init__(**kwargs)\n",
        "        self.n = units\n",
        "        self.n1 = units // 2\n",
        "        self.trainable = trainable\n",
        "\n",
        "        k = tf.cast(tf.range(1, self.n1 + 1), tf.float32)\n",
        "        pi = tf.constant(np.pi, dtype=tf.float32)\n",
        "        init_W_c = 1 / (2 * tf.cos((2 * k - 1) * (pi / (2 * self.n))))\n",
        "\n",
        "        self.w_c = self.add_weight(\n",
        "                shape=(self.n1,),\n",
        "                initializer=tf.keras.initializers.Constant(init_W_c),\n",
        "                trainable=self.trainable,\n",
        "                name='W_c'\n",
        "            )\n",
        "\n",
        "        self.bias = self.add_weight(\n",
        "            shape=(self.n,),\n",
        "            initializer='zeros',\n",
        "            trainable=True,\n",
        "            name='bias'\n",
        "        )\n",
        "\n",
        "    def call(self, x):\n",
        "        input1 = x[:, :self.n1]\n",
        "        input2 = x[:, self.n1:]\n",
        "\n",
        "        # W_{N/2}\n",
        "        W_n = tf.multiply(input2, self.w_c)\n",
        "        v = tf.concat([input1, W_n], axis=1)\n",
        "\n",
        "        # H_n^T\n",
        "        out1 = v[:, :self.n1]\n",
        "        out2 = v[:, self.n1:]\n",
        "\n",
        "        y = (1 / tf.sqrt(tf.constant(2.0, dtype=tf.float32))) * tf.concat([(out1 + out2), tf.reverse((out1 - out2), axis=[1])], axis=1)\n",
        "\n",
        "        # y = self.h * tf.concat([(out1 + out2), tf.reverse((out1 - out2), axis=[1])], axis=1)\n",
        "\n",
        "        return y + self.bias"
      ],
      "metadata": {
        "id": "wbsgRFK9hV6V"
      },
      "execution_count": 99,
      "outputs": []
    },
    {
      "cell_type": "code",
      "source": [
        "class DiagonalLayer(tf.keras.layers.Layer):\n",
        "    def __init__(self, units, trainable=True, kernel_initializer='he_normal', bias_initializer='zeros', **kwargs):\n",
        "        super(DiagonalLayer, self).__init__(**kwargs)\n",
        "        self.units = units\n",
        "        self.kernel_initializer = kernel_initializer\n",
        "        self.bias_initializer = bias_initializer\n",
        "        self.trainable = trainable\n",
        "\n",
        "    def build(self, input_shape):\n",
        "        self.diag = self.add_weight(\n",
        "            shape=(self.units,),\n",
        "            initializer=tf.keras.initializers.get(self.kernel_initializer),\n",
        "            trainable=self.trainable,\n",
        "            name='diag'\n",
        "        )\n",
        "        self.bias = self.add_weight(\n",
        "            shape=(self.units,),\n",
        "            initializer=tf.keras.initializers.get(self.bias_initializer),\n",
        "            trainable=self.trainable,\n",
        "            name='bias'\n",
        "        )\n",
        "\n",
        "    def call(self, inputs):\n",
        "        scaled = tf.multiply(inputs, self.diag)\n",
        "        return scaled + self.bias"
      ],
      "metadata": {
        "id": "NOKX7m2ChXrH"
      },
      "execution_count": 100,
      "outputs": []
    },
    {
      "cell_type": "code",
      "source": [
        "class ScalingLayer(tf.keras.layers.Layer):\n",
        "    def __init__(self, units, initial_scale=1.0, trainable=True, kernel_initializer='he_normal', bias_initializer='zeros', **kwargs):\n",
        "        super(ScalingLayer, self).__init__(**kwargs)\n",
        "        self.units = units\n",
        "        self.initial_scale = initial_scale\n",
        "        self.kernel_initializer = kernel_initializer\n",
        "        self.bias_initializer = bias_initializer\n",
        "\n",
        "    def build(self, input_shape):\n",
        "\n",
        "      self.log_scale = self.add_weight(\n",
        "          shape=(),\n",
        "          initializer=tf.keras.initializers.Constant(self.initial_scale),\n",
        "          trainable=True,\n",
        "          name=\"log_scale\",\n",
        "      )\n",
        "      self.diag = self.add_weight(\n",
        "          shape=(self.units,),\n",
        "          initializer=tf.keras.initializers.get(self.kernel_initializer),\n",
        "          regularizer=tf.keras.regularizers.l2(1e-4),\n",
        "          trainable=True,\n",
        "          name='diag'\n",
        "      )\n",
        "      self.bias = self.add_weight(\n",
        "          shape=(self.units,),\n",
        "          initializer=tf.keras.initializers.get(self.bias_initializer),\n",
        "          trainable=True,\n",
        "          name='bias'\n",
        "        )\n",
        "\n",
        "      super().build(input_shape)\n",
        "\n",
        "    def call(self, inputs):\n",
        "      perm = tf.concat([inputs[:, ::2], inputs[:, 1::2][:, ::-1]], axis=-1)\n",
        "\n",
        "      dim = tf.shape(perm)[1]\n",
        "\n",
        "      D_hat_n = tf.exp(self.log_scale * tf.cast(tf.range(dim), tf.float32))\n",
        "\n",
        "      scaled = perm * D_hat_n * self.diag\n",
        "\n",
        "      return scaled + self.bias"
      ],
      "metadata": {
        "id": "vuh3x37ghZTd"
      },
      "execution_count": 101,
      "outputs": []
    },
    {
      "cell_type": "code",
      "source": [
        "def custom_accuracy(y_true, y_pred):\n",
        "    y_true_int = tf.cast(y_true * (q - 1), tf.int32)  # Rescale from [0,1] to [0, q-1]\n",
        "    y_pred_int = tf.cast(tf.round(y_pred * (q - 1)), tf.int32)\n",
        "    mask = tf.concat(\n",
        "        [tf.ones((tf.shape(y_true)[0], n), dtype=tf.float32),\n",
        "         tf.zeros((tf.shape(y_true)[0], n_padded - n), dtype=tf.float32)],\n",
        "        axis=1\n",
        "    )\n",
        "    correct = tf.cast(tf.equal(y_true_int, y_pred_int), tf.float32) * mask\n",
        "    return tf.reduce_sum(correct) / tf.reduce_sum(mask)\n",
        "\n",
        "def custom_mse(y_true, y_pred):\n",
        "    y_true = tf.cast(y_true, tf.float32)\n",
        "    y_pred = tf.cast(y_pred, tf.float32)\n",
        "    loss = tf.reduce_mean(tf.square(tf.cast(y_true - y_pred, tf.float32)))\n",
        "    return loss"
      ],
      "metadata": {
        "id": "7njrN3Llhh2U"
      },
      "execution_count": 102,
      "outputs": []
    },
    {
      "cell_type": "code",
      "source": [
        "from tensorflow.keras.layers import InputLayer, LeakyReLU, Activation\n",
        "from tensorflow.keras.models import Sequential\n",
        "from tensorflow.keras.optimizers import Adam\n",
        "\n",
        "initial_log_scale = np.log(z0 / w0)\n",
        "initial_scale = (z0 / w0)\n",
        "\n",
        "input_shape = (n_padded,)\n",
        "model = Sequential([\n",
        "    InputLayer(shape=input_shape),\n",
        "    FirstLayer(units=n_padded, trainable=True, name=\"first_layer\"),\n",
        "    # Activation('linear'),\n",
        "    SecondLayer(units=n_padded, trainable=True, name=\"second_layer\"),\n",
        "    # Activation('linear'),\n",
        "    ThirdLayer(units=n_padded, trainable=True, name=\"third_layer\"),\n",
        "    LeakyReLU(negative_slope=0.1),\n",
        "    ScalingLayer(units=n_padded, initial_scale=initial_log_scale, kernel_initializer='ones', bias_initializer='zeros', name=\"scaling_layer\"),\n",
        "    LeakyReLU(negative_slope=0.1),\n",
        "    DiagonalLayer(units=n_padded, trainable=False, kernel_initializer='ones', bias_initializer='zeros', name=\"output_layer\"),\n",
        "    Activation('linear')\n",
        "])\n",
        "\n",
        "model.compile(\n",
        "    optimizer=Adam(learning_rate=0.001),\n",
        "    loss='mse',\n",
        "    metrics=['mse', custom_accuracy]\n",
        ")\n",
        "\n",
        "model.summary()"
      ],
      "metadata": {
        "colab": {
          "base_uri": "https://localhost:8080/",
          "height": 385
        },
        "id": "aO4YeqWSha3a",
        "outputId": "a42b9317-ed83-4b7e-b525-7c4320afe1f9"
      },
      "execution_count": 103,
      "outputs": [
        {
          "output_type": "display_data",
          "data": {
            "text/plain": [
              "\u001b[1mModel: \"sequential\"\u001b[0m\n"
            ],
            "text/html": [
              "<pre style=\"white-space:pre;overflow-x:auto;line-height:normal;font-family:Menlo,'DejaVu Sans Mono',consolas,'Courier New',monospace\"><span style=\"font-weight: bold\">Model: \"sequential\"</span>\n",
              "</pre>\n"
            ]
          },
          "metadata": {}
        },
        {
          "output_type": "display_data",
          "data": {
            "text/plain": [
              "┏━━━━━━━━━━━━━━━━━━━━━━━━━━━━━━━━━━━━━━┳━━━━━━━━━━━━━━━━━━━━━━━━━━━━━┳━━━━━━━━━━━━━━━━━┓\n",
              "┃\u001b[1m \u001b[0m\u001b[1mLayer (type)                        \u001b[0m\u001b[1m \u001b[0m┃\u001b[1m \u001b[0m\u001b[1mOutput Shape               \u001b[0m\u001b[1m \u001b[0m┃\u001b[1m \u001b[0m\u001b[1m        Param #\u001b[0m\u001b[1m \u001b[0m┃\n",
              "┡━━━━━━━━━━━━━━━━━━━━━━━━━━━━━━━━━━━━━━╇━━━━━━━━━━━━━━━━━━━━━━━━━━━━━╇━━━━━━━━━━━━━━━━━┩\n",
              "│ first_layer (\u001b[38;5;33mFirstLayer\u001b[0m)             │ (\u001b[38;5;45mNone\u001b[0m, \u001b[38;5;34m32\u001b[0m)                  │              \u001b[38;5;34m64\u001b[0m │\n",
              "├──────────────────────────────────────┼─────────────────────────────┼─────────────────┤\n",
              "│ second_layer (\u001b[38;5;33mSecondLayer\u001b[0m)           │ (\u001b[38;5;45mNone\u001b[0m, \u001b[38;5;34m32\u001b[0m)                  │             \u001b[38;5;34m240\u001b[0m │\n",
              "├──────────────────────────────────────┼─────────────────────────────┼─────────────────┤\n",
              "│ third_layer (\u001b[38;5;33mThirdLayer\u001b[0m)             │ (\u001b[38;5;45mNone\u001b[0m, \u001b[38;5;34m32\u001b[0m)                  │              \u001b[38;5;34m48\u001b[0m │\n",
              "├──────────────────────────────────────┼─────────────────────────────┼─────────────────┤\n",
              "│ leaky_re_lu (\u001b[38;5;33mLeakyReLU\u001b[0m)              │ (\u001b[38;5;45mNone\u001b[0m, \u001b[38;5;34m32\u001b[0m)                  │               \u001b[38;5;34m0\u001b[0m │\n",
              "├──────────────────────────────────────┼─────────────────────────────┼─────────────────┤\n",
              "│ scaling_layer (\u001b[38;5;33mScalingLayer\u001b[0m)         │ (\u001b[38;5;45mNone\u001b[0m, \u001b[38;5;34m32\u001b[0m)                  │              \u001b[38;5;34m65\u001b[0m │\n",
              "├──────────────────────────────────────┼─────────────────────────────┼─────────────────┤\n",
              "│ leaky_re_lu_1 (\u001b[38;5;33mLeakyReLU\u001b[0m)            │ (\u001b[38;5;45mNone\u001b[0m, \u001b[38;5;34m32\u001b[0m)                  │               \u001b[38;5;34m0\u001b[0m │\n",
              "├──────────────────────────────────────┼─────────────────────────────┼─────────────────┤\n",
              "│ output_layer (\u001b[38;5;33mDiagonalLayer\u001b[0m)         │ (\u001b[38;5;45mNone\u001b[0m, \u001b[38;5;34m32\u001b[0m)                  │              \u001b[38;5;34m64\u001b[0m │\n",
              "├──────────────────────────────────────┼─────────────────────────────┼─────────────────┤\n",
              "│ activation (\u001b[38;5;33mActivation\u001b[0m)              │ (\u001b[38;5;45mNone\u001b[0m, \u001b[38;5;34m32\u001b[0m)                  │               \u001b[38;5;34m0\u001b[0m │\n",
              "└──────────────────────────────────────┴─────────────────────────────┴─────────────────┘\n"
            ],
            "text/html": [
              "<pre style=\"white-space:pre;overflow-x:auto;line-height:normal;font-family:Menlo,'DejaVu Sans Mono',consolas,'Courier New',monospace\">┏━━━━━━━━━━━━━━━━━━━━━━━━━━━━━━━━━━━━━━┳━━━━━━━━━━━━━━━━━━━━━━━━━━━━━┳━━━━━━━━━━━━━━━━━┓\n",
              "┃<span style=\"font-weight: bold\"> Layer (type)                         </span>┃<span style=\"font-weight: bold\"> Output Shape                </span>┃<span style=\"font-weight: bold\">         Param # </span>┃\n",
              "┡━━━━━━━━━━━━━━━━━━━━━━━━━━━━━━━━━━━━━━╇━━━━━━━━━━━━━━━━━━━━━━━━━━━━━╇━━━━━━━━━━━━━━━━━┩\n",
              "│ first_layer (<span style=\"color: #0087ff; text-decoration-color: #0087ff\">FirstLayer</span>)             │ (<span style=\"color: #00d7ff; text-decoration-color: #00d7ff\">None</span>, <span style=\"color: #00af00; text-decoration-color: #00af00\">32</span>)                  │              <span style=\"color: #00af00; text-decoration-color: #00af00\">64</span> │\n",
              "├──────────────────────────────────────┼─────────────────────────────┼─────────────────┤\n",
              "│ second_layer (<span style=\"color: #0087ff; text-decoration-color: #0087ff\">SecondLayer</span>)           │ (<span style=\"color: #00d7ff; text-decoration-color: #00d7ff\">None</span>, <span style=\"color: #00af00; text-decoration-color: #00af00\">32</span>)                  │             <span style=\"color: #00af00; text-decoration-color: #00af00\">240</span> │\n",
              "├──────────────────────────────────────┼─────────────────────────────┼─────────────────┤\n",
              "│ third_layer (<span style=\"color: #0087ff; text-decoration-color: #0087ff\">ThirdLayer</span>)             │ (<span style=\"color: #00d7ff; text-decoration-color: #00d7ff\">None</span>, <span style=\"color: #00af00; text-decoration-color: #00af00\">32</span>)                  │              <span style=\"color: #00af00; text-decoration-color: #00af00\">48</span> │\n",
              "├──────────────────────────────────────┼─────────────────────────────┼─────────────────┤\n",
              "│ leaky_re_lu (<span style=\"color: #0087ff; text-decoration-color: #0087ff\">LeakyReLU</span>)              │ (<span style=\"color: #00d7ff; text-decoration-color: #00d7ff\">None</span>, <span style=\"color: #00af00; text-decoration-color: #00af00\">32</span>)                  │               <span style=\"color: #00af00; text-decoration-color: #00af00\">0</span> │\n",
              "├──────────────────────────────────────┼─────────────────────────────┼─────────────────┤\n",
              "│ scaling_layer (<span style=\"color: #0087ff; text-decoration-color: #0087ff\">ScalingLayer</span>)         │ (<span style=\"color: #00d7ff; text-decoration-color: #00d7ff\">None</span>, <span style=\"color: #00af00; text-decoration-color: #00af00\">32</span>)                  │              <span style=\"color: #00af00; text-decoration-color: #00af00\">65</span> │\n",
              "├──────────────────────────────────────┼─────────────────────────────┼─────────────────┤\n",
              "│ leaky_re_lu_1 (<span style=\"color: #0087ff; text-decoration-color: #0087ff\">LeakyReLU</span>)            │ (<span style=\"color: #00d7ff; text-decoration-color: #00d7ff\">None</span>, <span style=\"color: #00af00; text-decoration-color: #00af00\">32</span>)                  │               <span style=\"color: #00af00; text-decoration-color: #00af00\">0</span> │\n",
              "├──────────────────────────────────────┼─────────────────────────────┼─────────────────┤\n",
              "│ output_layer (<span style=\"color: #0087ff; text-decoration-color: #0087ff\">DiagonalLayer</span>)         │ (<span style=\"color: #00d7ff; text-decoration-color: #00d7ff\">None</span>, <span style=\"color: #00af00; text-decoration-color: #00af00\">32</span>)                  │              <span style=\"color: #00af00; text-decoration-color: #00af00\">64</span> │\n",
              "├──────────────────────────────────────┼─────────────────────────────┼─────────────────┤\n",
              "│ activation (<span style=\"color: #0087ff; text-decoration-color: #0087ff\">Activation</span>)              │ (<span style=\"color: #00d7ff; text-decoration-color: #00d7ff\">None</span>, <span style=\"color: #00af00; text-decoration-color: #00af00\">32</span>)                  │               <span style=\"color: #00af00; text-decoration-color: #00af00\">0</span> │\n",
              "└──────────────────────────────────────┴─────────────────────────────┴─────────────────┘\n",
              "</pre>\n"
            ]
          },
          "metadata": {}
        },
        {
          "output_type": "display_data",
          "data": {
            "text/plain": [
              "\u001b[1m Total params: \u001b[0m\u001b[38;5;34m481\u001b[0m (1.88 KB)\n"
            ],
            "text/html": [
              "<pre style=\"white-space:pre;overflow-x:auto;line-height:normal;font-family:Menlo,'DejaVu Sans Mono',consolas,'Courier New',monospace\"><span style=\"font-weight: bold\"> Total params: </span><span style=\"color: #00af00; text-decoration-color: #00af00\">481</span> (1.88 KB)\n",
              "</pre>\n"
            ]
          },
          "metadata": {}
        },
        {
          "output_type": "display_data",
          "data": {
            "text/plain": [
              "\u001b[1m Trainable params: \u001b[0m\u001b[38;5;34m417\u001b[0m (1.63 KB)\n"
            ],
            "text/html": [
              "<pre style=\"white-space:pre;overflow-x:auto;line-height:normal;font-family:Menlo,'DejaVu Sans Mono',consolas,'Courier New',monospace\"><span style=\"font-weight: bold\"> Trainable params: </span><span style=\"color: #00af00; text-decoration-color: #00af00\">417</span> (1.63 KB)\n",
              "</pre>\n"
            ]
          },
          "metadata": {}
        },
        {
          "output_type": "display_data",
          "data": {
            "text/plain": [
              "\u001b[1m Non-trainable params: \u001b[0m\u001b[38;5;34m64\u001b[0m (256.00 B)\n"
            ],
            "text/html": [
              "<pre style=\"white-space:pre;overflow-x:auto;line-height:normal;font-family:Menlo,'DejaVu Sans Mono',consolas,'Courier New',monospace\"><span style=\"font-weight: bold\"> Non-trainable params: </span><span style=\"color: #00af00; text-decoration-color: #00af00\">64</span> (256.00 B)\n",
              "</pre>\n"
            ]
          },
          "metadata": {}
        }
      ]
    },
    {
      "cell_type": "code",
      "source": [
        "def batch_generator(train_dataset, M_tilde, q, batch_size, sigma):\n",
        "    n = train_dataset.shape[1]\n",
        "    k = np.arange(n)\n",
        "    alpha_k = np.where(k == 0, np.sqrt(1/n), np.sqrt(2/n))\n",
        "    shift = np.exp(-1j * np.pi * k / (2 * n))\n",
        "\n",
        "    # indices = np.arange(len(train_dataset))\n",
        "    # i = 0\n",
        "\n",
        "    while True:\n",
        "        # if i + batch_size > len(train_dataset):\n",
        "            # np.random.shuffle(indices)  # Shuffle for next epoch\n",
        "            # i = 0\n",
        "\n",
        "        # idx = indices[i:i+batch_size]\n",
        "        # i += batch_size\n",
        "\n",
        "        # x_batch = train_dataset[idx]\n",
        "\n",
        "        idx = np.random.choice(len(train_dataset), size=batch_size)\n",
        "        x_batch = train_dataset[idx]\n",
        "\n",
        "        # y = Mx ---> shape: (batch_size, n)\n",
        "        y_batch = np.dot(M_tilde, x_batch.T).T\n",
        "\n",
        "        # add noise to simulate a noisy channel\n",
        "        noise = np.random.normal(0, sigma, y_batch.shape)\n",
        "        y_noisy = y_batch + noise\n",
        "\n",
        "        # convert to DCT-II coefficients\n",
        "        dct2_batch = np.real(alpha_k * shift * y_noisy)\n",
        "        dct2_batch = np.round(dct2_batch, decimals=10)\n",
        "\n",
        "        # normalize\n",
        "        dct2_batch = (dct2_batch - dct2_batch.mean()) / dct2_batch.std()\n",
        "        y_scaled = x_batch / (q - 1)\n",
        "\n",
        "        yield dct2_batch.astype(np.float32), y_scaled.astype(np.float32)"
      ],
      "metadata": {
        "id": "et5brasFh86r"
      },
      "execution_count": 104,
      "outputs": []
    },
    {
      "cell_type": "code",
      "source": [
        "# preparing the validation data\n",
        "\n",
        "val_encoded = np.dot(M_tilde, y_val.T).T\n",
        "\n",
        "k = np.arange(n_padded)\n",
        "alpha_k = np.where(k == 0, np.sqrt(1/n_padded), np.sqrt(2/n_padded))\n",
        "shift = np.exp(-1j * np.pi * k / (2 * n_padded))\n",
        "X_val_dct2 = np.real(alpha_k * shift * val_encoded)\n",
        "X_val_dct2 = (X_val_dct2 - X_val_dct2.mean()) / X_val_dct2.std()\n",
        "\n",
        "y_val_labels = y_val / (q - 1)\n",
        "\n",
        "X_val_dct2 = X_val_dct2.astype(np.float32)\n",
        "y_val_labels = y_val_labels.astype(np.float32)"
      ],
      "metadata": {
        "id": "Ur0BCRvuwxKw"
      },
      "execution_count": 105,
      "outputs": []
    },
    {
      "cell_type": "code",
      "source": [
        "# y_train\n",
        "# y_val\n",
        "# y_val_labels\n",
        "# X_val_dct2"
      ],
      "metadata": {
        "id": "Vozzku4ysKBa"
      },
      "execution_count": 106,
      "outputs": []
    },
    {
      "cell_type": "code",
      "source": [
        "from tensorflow.keras.callbacks import EarlyStopping, ReduceLROnPlateau\n",
        "\n",
        "early_stopping = EarlyStopping(monitor='val_loss', patience=10, restore_best_weights=True)\n",
        "\n",
        "adjust_lr = ReduceLROnPlateau(\n",
        "    monitor='val_loss',\n",
        "    factor=0.5,\n",
        "    patience=5,\n",
        "    min_lr=1e-7,\n",
        "    verbose=1\n",
        ")\n",
        "\n",
        "history = model.fit(\n",
        "    batch_generator(y_train, M_tilde, q=q, batch_size=64, sigma=0.05),\n",
        "    steps_per_epoch=100,\n",
        "    epochs=200,\n",
        "    validation_data=(X_val_dct2, y_val_labels),\n",
        "    callbacks=[adjust_lr, early_stopping]\n",
        ")"
      ],
      "metadata": {
        "colab": {
          "base_uri": "https://localhost:8080/"
        },
        "id": "5eBKcNQch_y-",
        "outputId": "58a4cef0-49fa-424b-b0f8-12c0e4c4258c"
      },
      "execution_count": 107,
      "outputs": [
        {
          "output_type": "stream",
          "name": "stdout",
          "text": [
            "Epoch 1/200\n",
            "\u001b[1m100/100\u001b[0m \u001b[32m━━━━━━━━━━━━━━━━━━━━\u001b[0m\u001b[37m\u001b[0m \u001b[1m28s\u001b[0m 40ms/step - custom_accuracy: 0.1407 - loss: 0.2577 - mse: 0.2545 - val_custom_accuracy: 0.1483 - val_loss: 0.1644 - val_mse: 0.1611 - learning_rate: 0.0010\n",
            "Epoch 2/200\n",
            "\u001b[1m100/100\u001b[0m \u001b[32m━━━━━━━━━━━━━━━━━━━━\u001b[0m\u001b[37m\u001b[0m \u001b[1m2s\u001b[0m 18ms/step - custom_accuracy: 0.1538 - loss: 0.1376 - mse: 0.1342 - val_custom_accuracy: 0.1954 - val_loss: 0.0694 - val_mse: 0.0657 - learning_rate: 0.0010\n",
            "Epoch 3/200\n",
            "\u001b[1m100/100\u001b[0m \u001b[32m━━━━━━━━━━━━━━━━━━━━\u001b[0m\u001b[37m\u001b[0m \u001b[1m1s\u001b[0m 9ms/step - custom_accuracy: 0.2311 - loss: 0.0678 - mse: 0.0641 - val_custom_accuracy: 0.2665 - val_loss: 0.0648 - val_mse: 0.0612 - learning_rate: 0.0010\n",
            "Epoch 4/200\n",
            "\u001b[1m100/100\u001b[0m \u001b[32m━━━━━━━━━━━━━━━━━━━━\u001b[0m\u001b[37m\u001b[0m \u001b[1m1s\u001b[0m 8ms/step - custom_accuracy: 0.2759 - loss: 0.0643 - mse: 0.0607 - val_custom_accuracy: 0.2988 - val_loss: 0.0619 - val_mse: 0.0582 - learning_rate: 0.0010\n",
            "Epoch 5/200\n",
            "\u001b[1m100/100\u001b[0m \u001b[32m━━━━━━━━━━━━━━━━━━━━\u001b[0m\u001b[37m\u001b[0m \u001b[1m1s\u001b[0m 9ms/step - custom_accuracy: 0.3038 - loss: 0.0609 - mse: 0.0572 - val_custom_accuracy: 0.3193 - val_loss: 0.0594 - val_mse: 0.0558 - learning_rate: 0.0010\n",
            "Epoch 6/200\n",
            "\u001b[1m100/100\u001b[0m \u001b[32m━━━━━━━━━━━━━━━━━━━━\u001b[0m\u001b[37m\u001b[0m \u001b[1m1s\u001b[0m 8ms/step - custom_accuracy: 0.3244 - loss: 0.0581 - mse: 0.0544 - val_custom_accuracy: 0.3378 - val_loss: 0.0574 - val_mse: 0.0538 - learning_rate: 0.0010\n",
            "Epoch 7/200\n",
            "\u001b[1m100/100\u001b[0m \u001b[32m━━━━━━━━━━━━━━━━━━━━\u001b[0m\u001b[37m\u001b[0m \u001b[1m1s\u001b[0m 9ms/step - custom_accuracy: 0.3422 - loss: 0.0561 - mse: 0.0525 - val_custom_accuracy: 0.3459 - val_loss: 0.0554 - val_mse: 0.0517 - learning_rate: 0.0010\n",
            "Epoch 8/200\n",
            "\u001b[1m100/100\u001b[0m \u001b[32m━━━━━━━━━━━━━━━━━━━━\u001b[0m\u001b[37m\u001b[0m \u001b[1m1s\u001b[0m 8ms/step - custom_accuracy: 0.3716 - loss: 0.0543 - mse: 0.0506 - val_custom_accuracy: 0.3864 - val_loss: 0.0536 - val_mse: 0.0500 - learning_rate: 0.0010\n",
            "Epoch 9/200\n",
            "\u001b[1m100/100\u001b[0m \u001b[32m━━━━━━━━━━━━━━━━━━━━\u001b[0m\u001b[37m\u001b[0m \u001b[1m1s\u001b[0m 8ms/step - custom_accuracy: 0.3940 - loss: 0.0526 - mse: 0.0490 - val_custom_accuracy: 0.4081 - val_loss: 0.0520 - val_mse: 0.0483 - learning_rate: 0.0010\n",
            "Epoch 10/200\n",
            "\u001b[1m100/100\u001b[0m \u001b[32m━━━━━━━━━━━━━━━━━━━━\u001b[0m\u001b[37m\u001b[0m \u001b[1m1s\u001b[0m 7ms/step - custom_accuracy: 0.4283 - loss: 0.0512 - mse: 0.0476 - val_custom_accuracy: 0.4547 - val_loss: 0.0504 - val_mse: 0.0468 - learning_rate: 0.0010\n",
            "Epoch 11/200\n",
            "\u001b[1m100/100\u001b[0m \u001b[32m━━━━━━━━━━━━━━━━━━━━\u001b[0m\u001b[37m\u001b[0m \u001b[1m1s\u001b[0m 8ms/step - custom_accuracy: 0.4612 - loss: 0.0494 - mse: 0.0458 - val_custom_accuracy: 0.4737 - val_loss: 0.0488 - val_mse: 0.0453 - learning_rate: 0.0010\n",
            "Epoch 12/200\n",
            "\u001b[1m100/100\u001b[0m \u001b[32m━━━━━━━━━━━━━━━━━━━━\u001b[0m\u001b[37m\u001b[0m \u001b[1m1s\u001b[0m 8ms/step - custom_accuracy: 0.4829 - loss: 0.0480 - mse: 0.0445 - val_custom_accuracy: 0.5099 - val_loss: 0.0474 - val_mse: 0.0439 - learning_rate: 0.0010\n",
            "Epoch 13/200\n",
            "\u001b[1m100/100\u001b[0m \u001b[32m━━━━━━━━━━━━━━━━━━━━\u001b[0m\u001b[37m\u001b[0m \u001b[1m1s\u001b[0m 8ms/step - custom_accuracy: 0.5136 - loss: 0.0471 - mse: 0.0437 - val_custom_accuracy: 0.5271 - val_loss: 0.0464 - val_mse: 0.0430 - learning_rate: 0.0010\n",
            "Epoch 14/200\n",
            "\u001b[1m100/100\u001b[0m \u001b[32m━━━━━━━━━━━━━━━━━━━━\u001b[0m\u001b[37m\u001b[0m \u001b[1m1s\u001b[0m 8ms/step - custom_accuracy: 0.5317 - loss: 0.0459 - mse: 0.0425 - val_custom_accuracy: 0.5529 - val_loss: 0.0456 - val_mse: 0.0423 - learning_rate: 0.0010\n",
            "Epoch 15/200\n",
            "\u001b[1m100/100\u001b[0m \u001b[32m━━━━━━━━━━━━━━━━━━━━\u001b[0m\u001b[37m\u001b[0m \u001b[1m2s\u001b[0m 20ms/step - custom_accuracy: 0.5461 - loss: 0.0452 - mse: 0.0419 - val_custom_accuracy: 0.5622 - val_loss: 0.0447 - val_mse: 0.0414 - learning_rate: 0.0010\n",
            "Epoch 16/200\n",
            "\u001b[1m100/100\u001b[0m \u001b[32m━━━━━━━━━━━━━━━━━━━━\u001b[0m\u001b[37m\u001b[0m \u001b[1m1s\u001b[0m 11ms/step - custom_accuracy: 0.5605 - loss: 0.0439 - mse: 0.0407 - val_custom_accuracy: 0.5744 - val_loss: 0.0438 - val_mse: 0.0407 - learning_rate: 0.0010\n",
            "Epoch 17/200\n",
            "\u001b[1m100/100\u001b[0m \u001b[32m━━━━━━━━━━━━━━━━━━━━\u001b[0m\u001b[37m\u001b[0m \u001b[1m1s\u001b[0m 8ms/step - custom_accuracy: 0.5673 - loss: 0.0436 - mse: 0.0405 - val_custom_accuracy: 0.5845 - val_loss: 0.0437 - val_mse: 0.0406 - learning_rate: 0.0010\n",
            "Epoch 18/200\n",
            "\u001b[1m100/100\u001b[0m \u001b[32m━━━━━━━━━━━━━━━━━━━━\u001b[0m\u001b[37m\u001b[0m \u001b[1m1s\u001b[0m 8ms/step - custom_accuracy: 0.5791 - loss: 0.0436 - mse: 0.0405 - val_custom_accuracy: 0.5942 - val_loss: 0.0426 - val_mse: 0.0396 - learning_rate: 0.0010\n",
            "Epoch 19/200\n",
            "\u001b[1m100/100\u001b[0m \u001b[32m━━━━━━━━━━━━━━━━━━━━\u001b[0m\u001b[37m\u001b[0m \u001b[1m1s\u001b[0m 8ms/step - custom_accuracy: 0.5868 - loss: 0.0424 - mse: 0.0394 - val_custom_accuracy: 0.5966 - val_loss: 0.0422 - val_mse: 0.0392 - learning_rate: 0.0010\n",
            "Epoch 20/200\n",
            "\u001b[1m100/100\u001b[0m \u001b[32m━━━━━━━━━━━━━━━━━━━━\u001b[0m\u001b[37m\u001b[0m \u001b[1m1s\u001b[0m 8ms/step - custom_accuracy: 0.5910 - loss: 0.0419 - mse: 0.0390 - val_custom_accuracy: 0.6002 - val_loss: 0.0414 - val_mse: 0.0385 - learning_rate: 0.0010\n",
            "Epoch 21/200\n",
            "\u001b[1m100/100\u001b[0m \u001b[32m━━━━━━━━━━━━━━━━━━━━\u001b[0m\u001b[37m\u001b[0m \u001b[1m1s\u001b[0m 8ms/step - custom_accuracy: 0.5958 - loss: 0.0412 - mse: 0.0384 - val_custom_accuracy: 0.6043 - val_loss: 0.0409 - val_mse: 0.0381 - learning_rate: 0.0010\n",
            "Epoch 22/200\n",
            "\u001b[1m100/100\u001b[0m \u001b[32m━━━━━━━━━━━━━━━━━━━━\u001b[0m\u001b[37m\u001b[0m \u001b[1m1s\u001b[0m 7ms/step - custom_accuracy: 0.5986 - loss: 0.0409 - mse: 0.0381 - val_custom_accuracy: 0.6068 - val_loss: 0.0406 - val_mse: 0.0379 - learning_rate: 0.0010\n",
            "Epoch 23/200\n",
            "\u001b[1m100/100\u001b[0m \u001b[32m━━━━━━━━━━━━━━━━━━━━\u001b[0m\u001b[37m\u001b[0m \u001b[1m1s\u001b[0m 8ms/step - custom_accuracy: 0.5986 - loss: 0.0404 - mse: 0.0377 - val_custom_accuracy: 0.6017 - val_loss: 0.0405 - val_mse: 0.0378 - learning_rate: 0.0010\n",
            "Epoch 24/200\n",
            "\u001b[1m100/100\u001b[0m \u001b[32m━━━━━━━━━━━━━━━━━━━━\u001b[0m\u001b[37m\u001b[0m \u001b[1m1s\u001b[0m 12ms/step - custom_accuracy: 0.6056 - loss: 0.0398 - mse: 0.0371 - val_custom_accuracy: 0.6189 - val_loss: 0.0396 - val_mse: 0.0370 - learning_rate: 0.0010\n",
            "Epoch 25/200\n",
            "\u001b[1m100/100\u001b[0m \u001b[32m━━━━━━━━━━━━━━━━━━━━\u001b[0m\u001b[37m\u001b[0m \u001b[1m1s\u001b[0m 13ms/step - custom_accuracy: 0.6100 - loss: 0.0399 - mse: 0.0373 - val_custom_accuracy: 0.6227 - val_loss: 0.0393 - val_mse: 0.0368 - learning_rate: 0.0010\n",
            "Epoch 26/200\n",
            "\u001b[1m100/100\u001b[0m \u001b[32m━━━━━━━━━━━━━━━━━━━━\u001b[0m\u001b[37m\u001b[0m \u001b[1m1s\u001b[0m 11ms/step - custom_accuracy: 0.6145 - loss: 0.0393 - mse: 0.0368 - val_custom_accuracy: 0.6258 - val_loss: 0.0394 - val_mse: 0.0369 - learning_rate: 0.0010\n",
            "Epoch 27/200\n",
            "\u001b[1m100/100\u001b[0m \u001b[32m━━━━━━━━━━━━━━━━━━━━\u001b[0m\u001b[37m\u001b[0m \u001b[1m2s\u001b[0m 17ms/step - custom_accuracy: 0.6214 - loss: 0.0390 - mse: 0.0366 - val_custom_accuracy: 0.6371 - val_loss: 0.0388 - val_mse: 0.0364 - learning_rate: 0.0010\n",
            "Epoch 28/200\n",
            "\u001b[1m100/100\u001b[0m \u001b[32m━━━━━━━━━━━━━━━━━━━━\u001b[0m\u001b[37m\u001b[0m \u001b[1m1s\u001b[0m 13ms/step - custom_accuracy: 0.6260 - loss: 0.0386 - mse: 0.0362 - val_custom_accuracy: 0.6420 - val_loss: 0.0389 - val_mse: 0.0366 - learning_rate: 0.0010\n",
            "Epoch 29/200\n",
            "\u001b[1m100/100\u001b[0m \u001b[32m━━━━━━━━━━━━━━━━━━━━\u001b[0m\u001b[37m\u001b[0m \u001b[1m1s\u001b[0m 8ms/step - custom_accuracy: 0.6365 - loss: 0.0382 - mse: 0.0359 - val_custom_accuracy: 0.6362 - val_loss: 0.0383 - val_mse: 0.0360 - learning_rate: 0.0010\n",
            "Epoch 30/200\n",
            "\u001b[1m100/100\u001b[0m \u001b[32m━━━━━━━━━━━━━━━━━━━━\u001b[0m\u001b[37m\u001b[0m \u001b[1m1s\u001b[0m 9ms/step - custom_accuracy: 0.6393 - loss: 0.0381 - mse: 0.0358 - val_custom_accuracy: 0.6448 - val_loss: 0.0381 - val_mse: 0.0359 - learning_rate: 0.0010\n",
            "Epoch 31/200\n",
            "\u001b[1m100/100\u001b[0m \u001b[32m━━━━━━━━━━━━━━━━━━━━\u001b[0m\u001b[37m\u001b[0m \u001b[1m1s\u001b[0m 8ms/step - custom_accuracy: 0.6256 - loss: 0.0381 - mse: 0.0358 - val_custom_accuracy: 0.6432 - val_loss: 0.0380 - val_mse: 0.0358 - learning_rate: 0.0010\n",
            "Epoch 32/200\n",
            "\u001b[1m100/100\u001b[0m \u001b[32m━━━━━━━━━━━━━━━━━━━━\u001b[0m\u001b[37m\u001b[0m \u001b[1m1s\u001b[0m 8ms/step - custom_accuracy: 0.6299 - loss: 0.0379 - mse: 0.0357 - val_custom_accuracy: 0.6195 - val_loss: 0.0381 - val_mse: 0.0360 - learning_rate: 0.0010\n",
            "Epoch 33/200\n",
            "\u001b[1m100/100\u001b[0m \u001b[32m━━━━━━━━━━━━━━━━━━━━\u001b[0m\u001b[37m\u001b[0m \u001b[1m1s\u001b[0m 8ms/step - custom_accuracy: 0.6344 - loss: 0.0375 - mse: 0.0354 - val_custom_accuracy: 0.6488 - val_loss: 0.0375 - val_mse: 0.0354 - learning_rate: 0.0010\n",
            "Epoch 34/200\n",
            "\u001b[1m100/100\u001b[0m \u001b[32m━━━━━━━━━━━━━━━━━━━━\u001b[0m\u001b[37m\u001b[0m \u001b[1m1s\u001b[0m 8ms/step - custom_accuracy: 0.6440 - loss: 0.0371 - mse: 0.0350 - val_custom_accuracy: 0.6501 - val_loss: 0.0371 - val_mse: 0.0351 - learning_rate: 0.0010\n",
            "Epoch 35/200\n",
            "\u001b[1m100/100\u001b[0m \u001b[32m━━━━━━━━━━━━━━━━━━━━\u001b[0m\u001b[37m\u001b[0m \u001b[1m1s\u001b[0m 8ms/step - custom_accuracy: 0.6488 - loss: 0.0370 - mse: 0.0350 - val_custom_accuracy: 0.6515 - val_loss: 0.0369 - val_mse: 0.0349 - learning_rate: 0.0010\n",
            "Epoch 36/200\n",
            "\u001b[1m100/100\u001b[0m \u001b[32m━━━━━━━━━━━━━━━━━━━━\u001b[0m\u001b[37m\u001b[0m \u001b[1m1s\u001b[0m 8ms/step - custom_accuracy: 0.6444 - loss: 0.0368 - mse: 0.0348 - val_custom_accuracy: 0.6387 - val_loss: 0.0367 - val_mse: 0.0347 - learning_rate: 0.0010\n",
            "Epoch 37/200\n",
            "\u001b[1m100/100\u001b[0m \u001b[32m━━━━━━━━━━━━━━━━━━━━\u001b[0m\u001b[37m\u001b[0m \u001b[1m1s\u001b[0m 8ms/step - custom_accuracy: 0.6405 - loss: 0.0370 - mse: 0.0351 - val_custom_accuracy: 0.6498 - val_loss: 0.0364 - val_mse: 0.0344 - learning_rate: 0.0010\n",
            "Epoch 38/200\n",
            "\u001b[1m100/100\u001b[0m \u001b[32m━━━━━━━━━━━━━━━━━━━━\u001b[0m\u001b[37m\u001b[0m \u001b[1m1s\u001b[0m 8ms/step - custom_accuracy: 0.6443 - loss: 0.0365 - mse: 0.0346 - val_custom_accuracy: 0.6470 - val_loss: 0.0361 - val_mse: 0.0342 - learning_rate: 0.0010\n",
            "Epoch 39/200\n",
            "\u001b[1m100/100\u001b[0m \u001b[32m━━━━━━━━━━━━━━━━━━━━\u001b[0m\u001b[37m\u001b[0m \u001b[1m1s\u001b[0m 8ms/step - custom_accuracy: 0.6445 - loss: 0.0359 - mse: 0.0340 - val_custom_accuracy: 0.6543 - val_loss: 0.0357 - val_mse: 0.0339 - learning_rate: 0.0010\n",
            "Epoch 40/200\n",
            "\u001b[1m100/100\u001b[0m \u001b[32m━━━━━━━━━━━━━━━━━━━━\u001b[0m\u001b[37m\u001b[0m \u001b[1m1s\u001b[0m 10ms/step - custom_accuracy: 0.6467 - loss: 0.0358 - mse: 0.0339 - val_custom_accuracy: 0.6343 - val_loss: 0.0356 - val_mse: 0.0338 - learning_rate: 0.0010\n",
            "Epoch 41/200\n",
            "\u001b[1m100/100\u001b[0m \u001b[32m━━━━━━━━━━━━━━━━━━━━\u001b[0m\u001b[37m\u001b[0m \u001b[1m2s\u001b[0m 19ms/step - custom_accuracy: 0.6456 - loss: 0.0355 - mse: 0.0336 - val_custom_accuracy: 0.6349 - val_loss: 0.0356 - val_mse: 0.0338 - learning_rate: 0.0010\n",
            "Epoch 42/200\n",
            "\u001b[1m100/100\u001b[0m \u001b[32m━━━━━━━━━━━━━━━━━━━━\u001b[0m\u001b[37m\u001b[0m \u001b[1m1s\u001b[0m 9ms/step - custom_accuracy: 0.6407 - loss: 0.0353 - mse: 0.0334 - val_custom_accuracy: 0.6539 - val_loss: 0.0346 - val_mse: 0.0328 - learning_rate: 0.0010\n",
            "Epoch 43/200\n",
            "\u001b[1m100/100\u001b[0m \u001b[32m━━━━━━━━━━━━━━━━━━━━\u001b[0m\u001b[37m\u001b[0m \u001b[1m1s\u001b[0m 8ms/step - custom_accuracy: 0.6365 - loss: 0.0351 - mse: 0.0333 - val_custom_accuracy: 0.6528 - val_loss: 0.0345 - val_mse: 0.0327 - learning_rate: 0.0010\n",
            "Epoch 44/200\n",
            "\u001b[1m100/100\u001b[0m \u001b[32m━━━━━━━━━━━━━━━━━━━━\u001b[0m\u001b[37m\u001b[0m \u001b[1m1s\u001b[0m 8ms/step - custom_accuracy: 0.6520 - loss: 0.0344 - mse: 0.0326 - val_custom_accuracy: 0.6539 - val_loss: 0.0344 - val_mse: 0.0326 - learning_rate: 0.0010\n",
            "Epoch 45/200\n",
            "\u001b[1m100/100\u001b[0m \u001b[32m━━━━━━━━━━━━━━━━━━━━\u001b[0m\u001b[37m\u001b[0m \u001b[1m1s\u001b[0m 8ms/step - custom_accuracy: 0.6417 - loss: 0.0347 - mse: 0.0329 - val_custom_accuracy: 0.6558 - val_loss: 0.0346 - val_mse: 0.0327 - learning_rate: 0.0010\n",
            "Epoch 46/200\n",
            "\u001b[1m100/100\u001b[0m \u001b[32m━━━━━━━━━━━━━━━━━━━━\u001b[0m\u001b[37m\u001b[0m \u001b[1m1s\u001b[0m 8ms/step - custom_accuracy: 0.6526 - loss: 0.0338 - mse: 0.0320 - val_custom_accuracy: 0.6579 - val_loss: 0.0338 - val_mse: 0.0320 - learning_rate: 0.0010\n",
            "Epoch 47/200\n",
            "\u001b[1m100/100\u001b[0m \u001b[32m━━━━━━━━━━━━━━━━━━━━\u001b[0m\u001b[37m\u001b[0m \u001b[1m1s\u001b[0m 14ms/step - custom_accuracy: 0.6491 - loss: 0.0340 - mse: 0.0322 - val_custom_accuracy: 0.6351 - val_loss: 0.0335 - val_mse: 0.0317 - learning_rate: 0.0010\n",
            "Epoch 48/200\n",
            "\u001b[1m100/100\u001b[0m \u001b[32m━━━━━━━━━━━━━━━━━━━━\u001b[0m\u001b[37m\u001b[0m \u001b[1m1s\u001b[0m 8ms/step - custom_accuracy: 0.6420 - loss: 0.0334 - mse: 0.0316 - val_custom_accuracy: 0.6644 - val_loss: 0.0329 - val_mse: 0.0310 - learning_rate: 0.0010\n",
            "Epoch 49/200\n",
            "\u001b[1m100/100\u001b[0m \u001b[32m━━━━━━━━━━━━━━━━━━━━\u001b[0m\u001b[37m\u001b[0m \u001b[1m1s\u001b[0m 9ms/step - custom_accuracy: 0.6502 - loss: 0.0331 - mse: 0.0313 - val_custom_accuracy: 0.6619 - val_loss: 0.0324 - val_mse: 0.0306 - learning_rate: 0.0010\n",
            "Epoch 50/200\n",
            "\u001b[1m100/100\u001b[0m \u001b[32m━━━━━━━━━━━━━━━━━━━━\u001b[0m\u001b[37m\u001b[0m \u001b[1m1s\u001b[0m 8ms/step - custom_accuracy: 0.6458 - loss: 0.0328 - mse: 0.0310 - val_custom_accuracy: 0.6625 - val_loss: 0.0321 - val_mse: 0.0303 - learning_rate: 0.0010\n",
            "Epoch 51/200\n",
            "\u001b[1m100/100\u001b[0m \u001b[32m━━━━━━━━━━━━━━━━━━━━\u001b[0m\u001b[37m\u001b[0m \u001b[1m1s\u001b[0m 8ms/step - custom_accuracy: 0.6549 - loss: 0.0326 - mse: 0.0308 - val_custom_accuracy: 0.6432 - val_loss: 0.0322 - val_mse: 0.0304 - learning_rate: 0.0010\n",
            "Epoch 52/200\n",
            "\u001b[1m100/100\u001b[0m \u001b[32m━━━━━━━━━━━━━━━━━━━━\u001b[0m\u001b[37m\u001b[0m \u001b[1m1s\u001b[0m 8ms/step - custom_accuracy: 0.6501 - loss: 0.0326 - mse: 0.0307 - val_custom_accuracy: 0.6731 - val_loss: 0.0318 - val_mse: 0.0299 - learning_rate: 0.0010\n",
            "Epoch 53/200\n",
            "\u001b[1m100/100\u001b[0m \u001b[32m━━━━━━━━━━━━━━━━━━━━\u001b[0m\u001b[37m\u001b[0m \u001b[1m2s\u001b[0m 16ms/step - custom_accuracy: 0.6578 - loss: 0.0322 - mse: 0.0304 - val_custom_accuracy: 0.6667 - val_loss: 0.0313 - val_mse: 0.0294 - learning_rate: 0.0010\n",
            "Epoch 54/200\n",
            "\u001b[1m100/100\u001b[0m \u001b[32m━━━━━━━━━━━━━━━━━━━━\u001b[0m\u001b[37m\u001b[0m \u001b[1m1s\u001b[0m 14ms/step - custom_accuracy: 0.6647 - loss: 0.0316 - mse: 0.0297 - val_custom_accuracy: 0.6440 - val_loss: 0.0315 - val_mse: 0.0296 - learning_rate: 0.0010\n",
            "Epoch 55/200\n",
            "\u001b[1m100/100\u001b[0m \u001b[32m━━━━━━━━━━━━━━━━━━━━\u001b[0m\u001b[37m\u001b[0m \u001b[1m1s\u001b[0m 8ms/step - custom_accuracy: 0.6616 - loss: 0.0316 - mse: 0.0297 - val_custom_accuracy: 0.6799 - val_loss: 0.0313 - val_mse: 0.0294 - learning_rate: 0.0010\n",
            "Epoch 56/200\n",
            "\u001b[1m100/100\u001b[0m \u001b[32m━━━━━━━━━━━━━━━━━━━━\u001b[0m\u001b[37m\u001b[0m \u001b[1m1s\u001b[0m 8ms/step - custom_accuracy: 0.6613 - loss: 0.0316 - mse: 0.0297 - val_custom_accuracy: 0.6581 - val_loss: 0.0312 - val_mse: 0.0293 - learning_rate: 0.0010\n",
            "Epoch 57/200\n",
            "\u001b[1m100/100\u001b[0m \u001b[32m━━━━━━━━━━━━━━━━━━━━\u001b[0m\u001b[37m\u001b[0m \u001b[1m1s\u001b[0m 8ms/step - custom_accuracy: 0.6750 - loss: 0.0311 - mse: 0.0292 - val_custom_accuracy: 0.6819 - val_loss: 0.0305 - val_mse: 0.0286 - learning_rate: 0.0010\n",
            "Epoch 58/200\n",
            "\u001b[1m100/100\u001b[0m \u001b[32m━━━━━━━━━━━━━━━━━━━━\u001b[0m\u001b[37m\u001b[0m \u001b[1m1s\u001b[0m 8ms/step - custom_accuracy: 0.6762 - loss: 0.0308 - mse: 0.0289 - val_custom_accuracy: 0.6895 - val_loss: 0.0300 - val_mse: 0.0282 - learning_rate: 0.0010\n",
            "Epoch 59/200\n",
            "\u001b[1m100/100\u001b[0m \u001b[32m━━━━━━━━━━━━━━━━━━━━\u001b[0m\u001b[37m\u001b[0m \u001b[1m1s\u001b[0m 8ms/step - custom_accuracy: 0.6848 - loss: 0.0306 - mse: 0.0287 - val_custom_accuracy: 0.6918 - val_loss: 0.0301 - val_mse: 0.0282 - learning_rate: 0.0010\n",
            "Epoch 60/200\n",
            "\u001b[1m100/100\u001b[0m \u001b[32m━━━━━━━━━━━━━━━━━━━━\u001b[0m\u001b[37m\u001b[0m \u001b[1m1s\u001b[0m 8ms/step - custom_accuracy: 0.6727 - loss: 0.0306 - mse: 0.0287 - val_custom_accuracy: 0.6630 - val_loss: 0.0304 - val_mse: 0.0285 - learning_rate: 0.0010\n",
            "Epoch 61/200\n",
            "\u001b[1m100/100\u001b[0m \u001b[32m━━━━━━━━━━━━━━━━━━━━\u001b[0m\u001b[37m\u001b[0m \u001b[1m1s\u001b[0m 8ms/step - custom_accuracy: 0.6865 - loss: 0.0303 - mse: 0.0284 - val_custom_accuracy: 0.6852 - val_loss: 0.0295 - val_mse: 0.0277 - learning_rate: 0.0010\n",
            "Epoch 62/200\n",
            "\u001b[1m100/100\u001b[0m \u001b[32m━━━━━━━━━━━━━━━━━━━━\u001b[0m\u001b[37m\u001b[0m \u001b[1m1s\u001b[0m 9ms/step - custom_accuracy: 0.6673 - loss: 0.0307 - mse: 0.0289 - val_custom_accuracy: 0.6956 - val_loss: 0.0294 - val_mse: 0.0276 - learning_rate: 0.0010\n",
            "Epoch 63/200\n",
            "\u001b[1m100/100\u001b[0m \u001b[32m━━━━━━━━━━━━━━━━━━━━\u001b[0m\u001b[37m\u001b[0m \u001b[1m1s\u001b[0m 8ms/step - custom_accuracy: 0.6831 - loss: 0.0301 - mse: 0.0283 - val_custom_accuracy: 0.7025 - val_loss: 0.0292 - val_mse: 0.0274 - learning_rate: 0.0010\n",
            "Epoch 64/200\n",
            "\u001b[1m100/100\u001b[0m \u001b[32m━━━━━━━━━━━━━━━━━━━━\u001b[0m\u001b[37m\u001b[0m \u001b[1m1s\u001b[0m 8ms/step - custom_accuracy: 0.6726 - loss: 0.0304 - mse: 0.0286 - val_custom_accuracy: 0.7115 - val_loss: 0.0287 - val_mse: 0.0269 - learning_rate: 0.0010\n",
            "Epoch 65/200\n",
            "\u001b[1m100/100\u001b[0m \u001b[32m━━━━━━━━━━━━━━━━━━━━\u001b[0m\u001b[37m\u001b[0m \u001b[1m1s\u001b[0m 8ms/step - custom_accuracy: 0.6818 - loss: 0.0297 - mse: 0.0279 - val_custom_accuracy: 0.6908 - val_loss: 0.0295 - val_mse: 0.0277 - learning_rate: 0.0010\n",
            "Epoch 66/200\n",
            "\u001b[1m100/100\u001b[0m \u001b[32m━━━━━━━━━━━━━━━━━━━━\u001b[0m\u001b[37m\u001b[0m \u001b[1m1s\u001b[0m 10ms/step - custom_accuracy: 0.6897 - loss: 0.0295 - mse: 0.0277 - val_custom_accuracy: 0.6928 - val_loss: 0.0293 - val_mse: 0.0275 - learning_rate: 0.0010\n",
            "Epoch 67/200\n",
            "\u001b[1m100/100\u001b[0m \u001b[32m━━━━━━━━━━━━━━━━━━━━\u001b[0m\u001b[37m\u001b[0m \u001b[1m2s\u001b[0m 16ms/step - custom_accuracy: 0.6887 - loss: 0.0293 - mse: 0.0275 - val_custom_accuracy: 0.6625 - val_loss: 0.0293 - val_mse: 0.0275 - learning_rate: 0.0010\n",
            "Epoch 68/200\n",
            "\u001b[1m100/100\u001b[0m \u001b[32m━━━━━━━━━━━━━━━━━━━━\u001b[0m\u001b[37m\u001b[0m \u001b[1m1s\u001b[0m 11ms/step - custom_accuracy: 0.6747 - loss: 0.0295 - mse: 0.0277 - val_custom_accuracy: 0.6986 - val_loss: 0.0285 - val_mse: 0.0267 - learning_rate: 0.0010\n",
            "Epoch 69/200\n",
            "\u001b[1m100/100\u001b[0m \u001b[32m━━━━━━━━━━━━━━━━━━━━\u001b[0m\u001b[37m\u001b[0m \u001b[1m1s\u001b[0m 8ms/step - custom_accuracy: 0.6845 - loss: 0.0291 - mse: 0.0273 - val_custom_accuracy: 0.7073 - val_loss: 0.0281 - val_mse: 0.0263 - learning_rate: 0.0010\n",
            "Epoch 70/200\n",
            "\u001b[1m100/100\u001b[0m \u001b[32m━━━━━━━━━━━━━━━━━━━━\u001b[0m\u001b[37m\u001b[0m \u001b[1m1s\u001b[0m 9ms/step - custom_accuracy: 0.6889 - loss: 0.0289 - mse: 0.0271 - val_custom_accuracy: 0.7035 - val_loss: 0.0286 - val_mse: 0.0268 - learning_rate: 0.0010\n",
            "Epoch 71/200\n",
            "\u001b[1m100/100\u001b[0m \u001b[32m━━━━━━━━━━━━━━━━━━━━\u001b[0m\u001b[37m\u001b[0m \u001b[1m1s\u001b[0m 9ms/step - custom_accuracy: 0.6766 - loss: 0.0293 - mse: 0.0275 - val_custom_accuracy: 0.7037 - val_loss: 0.0280 - val_mse: 0.0262 - learning_rate: 0.0010\n",
            "Epoch 72/200\n",
            "\u001b[1m100/100\u001b[0m \u001b[32m━━━━━━━━━━━━━━━━━━━━\u001b[0m\u001b[37m\u001b[0m \u001b[1m1s\u001b[0m 8ms/step - custom_accuracy: 0.6736 - loss: 0.0294 - mse: 0.0276 - val_custom_accuracy: 0.6720 - val_loss: 0.0288 - val_mse: 0.0270 - learning_rate: 0.0010\n",
            "Epoch 73/200\n",
            "\u001b[1m100/100\u001b[0m \u001b[32m━━━━━━━━━━━━━━━━━━━━\u001b[0m\u001b[37m\u001b[0m \u001b[1m1s\u001b[0m 9ms/step - custom_accuracy: 0.6810 - loss: 0.0289 - mse: 0.0271 - val_custom_accuracy: 0.6786 - val_loss: 0.0282 - val_mse: 0.0264 - learning_rate: 0.0010\n",
            "Epoch 74/200\n",
            "\u001b[1m100/100\u001b[0m \u001b[32m━━━━━━━━━━━━━━━━━━━━\u001b[0m\u001b[37m\u001b[0m \u001b[1m0s\u001b[0m 7ms/step - custom_accuracy: 0.6727 - loss: 0.0291 - mse: 0.0273\n",
            "Epoch 74: ReduceLROnPlateau reducing learning rate to 0.0005000000237487257.\n",
            "\u001b[1m100/100\u001b[0m \u001b[32m━━━━━━━━━━━━━━━━━━━━\u001b[0m\u001b[37m\u001b[0m \u001b[1m1s\u001b[0m 8ms/step - custom_accuracy: 0.6728 - loss: 0.0291 - mse: 0.0273 - val_custom_accuracy: 0.6824 - val_loss: 0.0283 - val_mse: 0.0264 - learning_rate: 0.0010\n",
            "Epoch 75/200\n",
            "\u001b[1m100/100\u001b[0m \u001b[32m━━━━━━━━━━━━━━━━━━━━\u001b[0m\u001b[37m\u001b[0m \u001b[1m1s\u001b[0m 8ms/step - custom_accuracy: 0.6930 - loss: 0.0284 - mse: 0.0265 - val_custom_accuracy: 0.7037 - val_loss: 0.0276 - val_mse: 0.0258 - learning_rate: 5.0000e-04\n",
            "Epoch 76/200\n",
            "\u001b[1m100/100\u001b[0m \u001b[32m━━━━━━━━━━━━━━━━━━━━\u001b[0m\u001b[37m\u001b[0m \u001b[1m1s\u001b[0m 8ms/step - custom_accuracy: 0.7024 - loss: 0.0278 - mse: 0.0260 - val_custom_accuracy: 0.7072 - val_loss: 0.0274 - val_mse: 0.0255 - learning_rate: 5.0000e-04\n",
            "Epoch 77/200\n",
            "\u001b[1m100/100\u001b[0m \u001b[32m━━━━━━━━━━━━━━━━━━━━\u001b[0m\u001b[37m\u001b[0m \u001b[1m1s\u001b[0m 8ms/step - custom_accuracy: 0.6977 - loss: 0.0282 - mse: 0.0264 - val_custom_accuracy: 0.7184 - val_loss: 0.0269 - val_mse: 0.0251 - learning_rate: 5.0000e-04\n",
            "Epoch 78/200\n",
            "\u001b[1m100/100\u001b[0m \u001b[32m━━━━━━━━━━━━━━━━━━━━\u001b[0m\u001b[37m\u001b[0m \u001b[1m1s\u001b[0m 8ms/step - custom_accuracy: 0.6995 - loss: 0.0280 - mse: 0.0262 - val_custom_accuracy: 0.7204 - val_loss: 0.0273 - val_mse: 0.0254 - learning_rate: 5.0000e-04\n",
            "Epoch 79/200\n",
            "\u001b[1m100/100\u001b[0m \u001b[32m━━━━━━━━━━━━━━━━━━━━\u001b[0m\u001b[37m\u001b[0m \u001b[1m1s\u001b[0m 10ms/step - custom_accuracy: 0.6874 - loss: 0.0281 - mse: 0.0263 - val_custom_accuracy: 0.7007 - val_loss: 0.0273 - val_mse: 0.0254 - learning_rate: 5.0000e-04\n",
            "Epoch 80/200\n",
            "\u001b[1m100/100\u001b[0m \u001b[32m━━━━━━━━━━━━━━━━━━━━\u001b[0m\u001b[37m\u001b[0m \u001b[1m2s\u001b[0m 17ms/step - custom_accuracy: 0.6968 - loss: 0.0278 - mse: 0.0260 - val_custom_accuracy: 0.7121 - val_loss: 0.0269 - val_mse: 0.0250 - learning_rate: 5.0000e-04\n",
            "Epoch 81/200\n",
            "\u001b[1m100/100\u001b[0m \u001b[32m━━━━━━━━━━━━━━━━━━━━\u001b[0m\u001b[37m\u001b[0m \u001b[1m1s\u001b[0m 11ms/step - custom_accuracy: 0.6955 - loss: 0.0275 - mse: 0.0256 - val_custom_accuracy: 0.6930 - val_loss: 0.0269 - val_mse: 0.0250 - learning_rate: 5.0000e-04\n",
            "Epoch 82/200\n",
            "\u001b[1m 94/100\u001b[0m \u001b[32m━━━━━━━━━━━━━━━━━━\u001b[0m\u001b[37m━━\u001b[0m \u001b[1m0s\u001b[0m 8ms/step - custom_accuracy: 0.7027 - loss: 0.0273 - mse: 0.0254\n",
            "Epoch 82: ReduceLROnPlateau reducing learning rate to 0.0002500000118743628.\n",
            "\u001b[1m100/100\u001b[0m \u001b[32m━━━━━━━━━━━━━━━━━━━━\u001b[0m\u001b[37m\u001b[0m \u001b[1m1s\u001b[0m 8ms/step - custom_accuracy: 0.7025 - loss: 0.0273 - mse: 0.0254 - val_custom_accuracy: 0.7135 - val_loss: 0.0270 - val_mse: 0.0251 - learning_rate: 5.0000e-04\n",
            "Epoch 83/200\n",
            "\u001b[1m100/100\u001b[0m \u001b[32m━━━━━━━━━━━━━━━━━━━━\u001b[0m\u001b[37m\u001b[0m \u001b[1m1s\u001b[0m 9ms/step - custom_accuracy: 0.7128 - loss: 0.0270 - mse: 0.0251 - val_custom_accuracy: 0.7178 - val_loss: 0.0264 - val_mse: 0.0245 - learning_rate: 2.5000e-04\n",
            "Epoch 84/200\n",
            "\u001b[1m100/100\u001b[0m \u001b[32m━━━━━━━━━━━━━━━━━━━━\u001b[0m\u001b[37m\u001b[0m \u001b[1m1s\u001b[0m 9ms/step - custom_accuracy: 0.7105 - loss: 0.0270 - mse: 0.0251 - val_custom_accuracy: 0.7159 - val_loss: 0.0262 - val_mse: 0.0244 - learning_rate: 2.5000e-04\n",
            "Epoch 85/200\n",
            "\u001b[1m100/100\u001b[0m \u001b[32m━━━━━━━━━━━━━━━━━━━━\u001b[0m\u001b[37m\u001b[0m \u001b[1m1s\u001b[0m 8ms/step - custom_accuracy: 0.7167 - loss: 0.0267 - mse: 0.0248 - val_custom_accuracy: 0.7257 - val_loss: 0.0263 - val_mse: 0.0244 - learning_rate: 2.5000e-04\n",
            "Epoch 86/200\n",
            "\u001b[1m100/100\u001b[0m \u001b[32m━━━━━━━━━━━━━━━━━━━━\u001b[0m\u001b[37m\u001b[0m \u001b[1m1s\u001b[0m 8ms/step - custom_accuracy: 0.7112 - loss: 0.0268 - mse: 0.0249 - val_custom_accuracy: 0.7249 - val_loss: 0.0261 - val_mse: 0.0242 - learning_rate: 2.5000e-04\n",
            "Epoch 87/200\n",
            "\u001b[1m100/100\u001b[0m \u001b[32m━━━━━━━━━━━━━━━━━━━━\u001b[0m\u001b[37m\u001b[0m \u001b[1m1s\u001b[0m 8ms/step - custom_accuracy: 0.7149 - loss: 0.0267 - mse: 0.0248 - val_custom_accuracy: 0.7227 - val_loss: 0.0260 - val_mse: 0.0241 - learning_rate: 2.5000e-04\n",
            "Epoch 88/200\n",
            "\u001b[1m100/100\u001b[0m \u001b[32m━━━━━━━━━━━━━━━━━━━━\u001b[0m\u001b[37m\u001b[0m \u001b[1m1s\u001b[0m 8ms/step - custom_accuracy: 0.7130 - loss: 0.0268 - mse: 0.0249 - val_custom_accuracy: 0.7260 - val_loss: 0.0260 - val_mse: 0.0242 - learning_rate: 2.5000e-04\n",
            "Epoch 89/200\n",
            "\u001b[1m100/100\u001b[0m \u001b[32m━━━━━━━━━━━━━━━━━━━━\u001b[0m\u001b[37m\u001b[0m \u001b[1m1s\u001b[0m 8ms/step - custom_accuracy: 0.7138 - loss: 0.0266 - mse: 0.0247 - val_custom_accuracy: 0.7030 - val_loss: 0.0261 - val_mse: 0.0243 - learning_rate: 2.5000e-04\n",
            "Epoch 90/200\n",
            "\u001b[1m100/100\u001b[0m \u001b[32m━━━━━━━━━━━━━━━━━━━━\u001b[0m\u001b[37m\u001b[0m \u001b[1m1s\u001b[0m 8ms/step - custom_accuracy: 0.7026 - loss: 0.0267 - mse: 0.0248 - val_custom_accuracy: 0.7232 - val_loss: 0.0258 - val_mse: 0.0239 - learning_rate: 2.5000e-04\n",
            "Epoch 91/200\n",
            "\u001b[1m100/100\u001b[0m \u001b[32m━━━━━━━━━━━━━━━━━━━━\u001b[0m\u001b[37m\u001b[0m \u001b[1m1s\u001b[0m 14ms/step - custom_accuracy: 0.7047 - loss: 0.0267 - mse: 0.0248 - val_custom_accuracy: 0.7264 - val_loss: 0.0259 - val_mse: 0.0240 - learning_rate: 2.5000e-04\n",
            "Epoch 92/200\n",
            "\u001b[1m100/100\u001b[0m \u001b[32m━━━━━━━━━━━━━━━━━━━━\u001b[0m\u001b[37m\u001b[0m \u001b[1m2s\u001b[0m 21ms/step - custom_accuracy: 0.7114 - loss: 0.0267 - mse: 0.0248 - val_custom_accuracy: 0.7275 - val_loss: 0.0255 - val_mse: 0.0236 - learning_rate: 2.5000e-04\n",
            "Epoch 93/200\n",
            "\u001b[1m100/100\u001b[0m \u001b[32m━━━━━━━━━━━━━━━━━━━━\u001b[0m\u001b[37m\u001b[0m \u001b[1m1s\u001b[0m 13ms/step - custom_accuracy: 0.7122 - loss: 0.0265 - mse: 0.0246 - val_custom_accuracy: 0.7085 - val_loss: 0.0260 - val_mse: 0.0241 - learning_rate: 2.5000e-04\n",
            "Epoch 94/200\n",
            "\u001b[1m100/100\u001b[0m \u001b[32m━━━━━━━━━━━━━━━━━━━━\u001b[0m\u001b[37m\u001b[0m \u001b[1m1s\u001b[0m 8ms/step - custom_accuracy: 0.7052 - loss: 0.0266 - mse: 0.0247 - val_custom_accuracy: 0.7047 - val_loss: 0.0259 - val_mse: 0.0240 - learning_rate: 2.5000e-04\n",
            "Epoch 95/200\n",
            "\u001b[1m100/100\u001b[0m \u001b[32m━━━━━━━━━━━━━━━━━━━━\u001b[0m\u001b[37m\u001b[0m \u001b[1m1s\u001b[0m 8ms/step - custom_accuracy: 0.7092 - loss: 0.0265 - mse: 0.0246 - val_custom_accuracy: 0.7278 - val_loss: 0.0257 - val_mse: 0.0237 - learning_rate: 2.5000e-04\n",
            "Epoch 96/200\n",
            "\u001b[1m100/100\u001b[0m \u001b[32m━━━━━━━━━━━━━━━━━━━━\u001b[0m\u001b[37m\u001b[0m \u001b[1m1s\u001b[0m 9ms/step - custom_accuracy: 0.7066 - loss: 0.0265 - mse: 0.0246 - val_custom_accuracy: 0.7209 - val_loss: 0.0255 - val_mse: 0.0236 - learning_rate: 2.5000e-04\n",
            "Epoch 97/200\n",
            "\u001b[1m 97/100\u001b[0m \u001b[32m━━━━━━━━━━━━━━━━━━━\u001b[0m\u001b[37m━\u001b[0m \u001b[1m0s\u001b[0m 8ms/step - custom_accuracy: 0.7113 - loss: 0.0262 - mse: 0.0243\n",
            "Epoch 97: ReduceLROnPlateau reducing learning rate to 0.0001250000059371814.\n",
            "\u001b[1m100/100\u001b[0m \u001b[32m━━━━━━━━━━━━━━━━━━━━\u001b[0m\u001b[37m\u001b[0m \u001b[1m1s\u001b[0m 9ms/step - custom_accuracy: 0.7113 - loss: 0.0262 - mse: 0.0243 - val_custom_accuracy: 0.7045 - val_loss: 0.0256 - val_mse: 0.0237 - learning_rate: 2.5000e-04\n",
            "Epoch 98/200\n",
            "\u001b[1m100/100\u001b[0m \u001b[32m━━━━━━━━━━━━━━━━━━━━\u001b[0m\u001b[37m\u001b[0m \u001b[1m1s\u001b[0m 9ms/step - custom_accuracy: 0.7171 - loss: 0.0259 - mse: 0.0240 - val_custom_accuracy: 0.7321 - val_loss: 0.0251 - val_mse: 0.0232 - learning_rate: 1.2500e-04\n",
            "Epoch 99/200\n",
            "\u001b[1m100/100\u001b[0m \u001b[32m━━━━━━━━━━━━━━━━━━━━\u001b[0m\u001b[37m\u001b[0m \u001b[1m1s\u001b[0m 9ms/step - custom_accuracy: 0.7179 - loss: 0.0257 - mse: 0.0238 - val_custom_accuracy: 0.7307 - val_loss: 0.0252 - val_mse: 0.0233 - learning_rate: 1.2500e-04\n",
            "Epoch 100/200\n",
            "\u001b[1m100/100\u001b[0m \u001b[32m━━━━━━━━━━━━━━━━━━━━\u001b[0m\u001b[37m\u001b[0m \u001b[1m1s\u001b[0m 8ms/step - custom_accuracy: 0.7193 - loss: 0.0259 - mse: 0.0240 - val_custom_accuracy: 0.7146 - val_loss: 0.0255 - val_mse: 0.0236 - learning_rate: 1.2500e-04\n",
            "Epoch 101/200\n",
            "\u001b[1m100/100\u001b[0m \u001b[32m━━━━━━━━━━━━━━━━━━━━\u001b[0m\u001b[37m\u001b[0m \u001b[1m1s\u001b[0m 8ms/step - custom_accuracy: 0.7181 - loss: 0.0258 - mse: 0.0238 - val_custom_accuracy: 0.7340 - val_loss: 0.0250 - val_mse: 0.0231 - learning_rate: 1.2500e-04\n",
            "Epoch 102/200\n",
            "\u001b[1m100/100\u001b[0m \u001b[32m━━━━━━━━━━━━━━━━━━━━\u001b[0m\u001b[37m\u001b[0m \u001b[1m1s\u001b[0m 8ms/step - custom_accuracy: 0.7222 - loss: 0.0255 - mse: 0.0236 - val_custom_accuracy: 0.7321 - val_loss: 0.0249 - val_mse: 0.0230 - learning_rate: 1.2500e-04\n",
            "Epoch 103/200\n",
            "\u001b[1m100/100\u001b[0m \u001b[32m━━━━━━━━━━━━━━━━━━━━\u001b[0m\u001b[37m\u001b[0m \u001b[1m1s\u001b[0m 8ms/step - custom_accuracy: 0.7148 - loss: 0.0259 - mse: 0.0240 - val_custom_accuracy: 0.7312 - val_loss: 0.0251 - val_mse: 0.0232 - learning_rate: 1.2500e-04\n",
            "Epoch 104/200\n",
            "\u001b[1m100/100\u001b[0m \u001b[32m━━━━━━━━━━━━━━━━━━━━\u001b[0m\u001b[37m\u001b[0m \u001b[1m1s\u001b[0m 8ms/step - custom_accuracy: 0.7125 - loss: 0.0259 - mse: 0.0240 - val_custom_accuracy: 0.7278 - val_loss: 0.0251 - val_mse: 0.0231 - learning_rate: 1.2500e-04\n",
            "Epoch 105/200\n",
            "\u001b[1m100/100\u001b[0m \u001b[32m━━━━━━━━━━━━━━━━━━━━\u001b[0m\u001b[37m\u001b[0m \u001b[1m1s\u001b[0m 11ms/step - custom_accuracy: 0.7241 - loss: 0.0256 - mse: 0.0237 - val_custom_accuracy: 0.7312 - val_loss: 0.0251 - val_mse: 0.0231 - learning_rate: 1.2500e-04\n",
            "Epoch 106/200\n",
            "\u001b[1m100/100\u001b[0m \u001b[32m━━━━━━━━━━━━━━━━━━━━\u001b[0m\u001b[37m\u001b[0m \u001b[1m2s\u001b[0m 16ms/step - custom_accuracy: 0.7231 - loss: 0.0255 - mse: 0.0236 - val_custom_accuracy: 0.7054 - val_loss: 0.0254 - val_mse: 0.0235 - learning_rate: 1.2500e-04\n",
            "Epoch 107/200\n",
            "\u001b[1m 99/100\u001b[0m \u001b[32m━━━━━━━━━━━━━━━━━━━\u001b[0m\u001b[37m━\u001b[0m \u001b[1m0s\u001b[0m 9ms/step - custom_accuracy: 0.7169 - loss: 0.0258 - mse: 0.0239\n",
            "Epoch 107: ReduceLROnPlateau reducing learning rate to 6.25000029685907e-05.\n",
            "\u001b[1m100/100\u001b[0m \u001b[32m━━━━━━━━━━━━━━━━━━━━\u001b[0m\u001b[37m\u001b[0m \u001b[1m1s\u001b[0m 10ms/step - custom_accuracy: 0.7170 - loss: 0.0258 - mse: 0.0239 - val_custom_accuracy: 0.7335 - val_loss: 0.0250 - val_mse: 0.0230 - learning_rate: 1.2500e-04\n",
            "Epoch 108/200\n",
            "\u001b[1m100/100\u001b[0m \u001b[32m━━━━━━━━━━━━━━━━━━━━\u001b[0m\u001b[37m\u001b[0m \u001b[1m1s\u001b[0m 8ms/step - custom_accuracy: 0.7268 - loss: 0.0256 - mse: 0.0237 - val_custom_accuracy: 0.7353 - val_loss: 0.0248 - val_mse: 0.0229 - learning_rate: 6.2500e-05\n",
            "Epoch 109/200\n",
            "\u001b[1m100/100\u001b[0m \u001b[32m━━━━━━━━━━━━━━━━━━━━\u001b[0m\u001b[37m\u001b[0m \u001b[1m1s\u001b[0m 8ms/step - custom_accuracy: 0.7340 - loss: 0.0253 - mse: 0.0234 - val_custom_accuracy: 0.7369 - val_loss: 0.0248 - val_mse: 0.0228 - learning_rate: 6.2500e-05\n",
            "Epoch 110/200\n",
            "\u001b[1m100/100\u001b[0m \u001b[32m━━━━━━━━━━━━━━━━━━━━\u001b[0m\u001b[37m\u001b[0m \u001b[1m1s\u001b[0m 9ms/step - custom_accuracy: 0.7265 - loss: 0.0253 - mse: 0.0234 - val_custom_accuracy: 0.7373 - val_loss: 0.0247 - val_mse: 0.0228 - learning_rate: 6.2500e-05\n",
            "Epoch 111/200\n",
            "\u001b[1m100/100\u001b[0m \u001b[32m━━━━━━━━━━━━━━━━━━━━\u001b[0m\u001b[37m\u001b[0m \u001b[1m1s\u001b[0m 8ms/step - custom_accuracy: 0.7251 - loss: 0.0253 - mse: 0.0233 - val_custom_accuracy: 0.7351 - val_loss: 0.0248 - val_mse: 0.0229 - learning_rate: 6.2500e-05\n",
            "Epoch 112/200\n",
            "\u001b[1m100/100\u001b[0m \u001b[32m━━━━━━━━━━━━━━━━━━━━\u001b[0m\u001b[37m\u001b[0m \u001b[1m1s\u001b[0m 8ms/step - custom_accuracy: 0.7317 - loss: 0.0252 - mse: 0.0233 - val_custom_accuracy: 0.7384 - val_loss: 0.0247 - val_mse: 0.0228 - learning_rate: 6.2500e-05\n",
            "Epoch 113/200\n",
            "\u001b[1m100/100\u001b[0m \u001b[32m━━━━━━━━━━━━━━━━━━━━\u001b[0m\u001b[37m\u001b[0m \u001b[1m1s\u001b[0m 8ms/step - custom_accuracy: 0.7301 - loss: 0.0254 - mse: 0.0234 - val_custom_accuracy: 0.7374 - val_loss: 0.0247 - val_mse: 0.0228 - learning_rate: 6.2500e-05\n",
            "Epoch 114/200\n",
            "\u001b[1m 97/100\u001b[0m \u001b[32m━━━━━━━━━━━━━━━━━━━\u001b[0m\u001b[37m━\u001b[0m \u001b[1m0s\u001b[0m 7ms/step - custom_accuracy: 0.7296 - loss: 0.0254 - mse: 0.0235\n",
            "Epoch 114: ReduceLROnPlateau reducing learning rate to 3.125000148429535e-05.\n",
            "\u001b[1m100/100\u001b[0m \u001b[32m━━━━━━━━━━━━━━━━━━━━\u001b[0m\u001b[37m\u001b[0m \u001b[1m1s\u001b[0m 8ms/step - custom_accuracy: 0.7296 - loss: 0.0254 - mse: 0.0235 - val_custom_accuracy: 0.7358 - val_loss: 0.0247 - val_mse: 0.0228 - learning_rate: 6.2500e-05\n",
            "Epoch 115/200\n",
            "\u001b[1m100/100\u001b[0m \u001b[32m━━━━━━━━━━━━━━━━━━━━\u001b[0m\u001b[37m\u001b[0m \u001b[1m1s\u001b[0m 9ms/step - custom_accuracy: 0.7337 - loss: 0.0252 - mse: 0.0233 - val_custom_accuracy: 0.7393 - val_loss: 0.0246 - val_mse: 0.0226 - learning_rate: 3.1250e-05\n",
            "Epoch 116/200\n",
            "\u001b[1m100/100\u001b[0m \u001b[32m━━━━━━━━━━━━━━━━━━━━\u001b[0m\u001b[37m\u001b[0m \u001b[1m1s\u001b[0m 8ms/step - custom_accuracy: 0.7329 - loss: 0.0251 - mse: 0.0231 - val_custom_accuracy: 0.7389 - val_loss: 0.0246 - val_mse: 0.0226 - learning_rate: 3.1250e-05\n",
            "Epoch 117/200\n",
            "\u001b[1m100/100\u001b[0m \u001b[32m━━━━━━━━━━━━━━━━━━━━\u001b[0m\u001b[37m\u001b[0m \u001b[1m1s\u001b[0m 8ms/step - custom_accuracy: 0.7333 - loss: 0.0254 - mse: 0.0234 - val_custom_accuracy: 0.7396 - val_loss: 0.0246 - val_mse: 0.0226 - learning_rate: 3.1250e-05\n",
            "Epoch 118/200\n",
            "\u001b[1m100/100\u001b[0m \u001b[32m━━━━━━━━━━━━━━━━━━━━\u001b[0m\u001b[37m\u001b[0m \u001b[1m1s\u001b[0m 8ms/step - custom_accuracy: 0.7357 - loss: 0.0252 - mse: 0.0232 - val_custom_accuracy: 0.7358 - val_loss: 0.0246 - val_mse: 0.0227 - learning_rate: 3.1250e-05\n",
            "Epoch 119/200\n",
            "\u001b[1m100/100\u001b[0m \u001b[32m━━━━━━━━━━━━━━━━━━━━\u001b[0m\u001b[37m\u001b[0m \u001b[1m2s\u001b[0m 16ms/step - custom_accuracy: 0.7296 - loss: 0.0254 - mse: 0.0235 - val_custom_accuracy: 0.7397 - val_loss: 0.0246 - val_mse: 0.0226 - learning_rate: 3.1250e-05\n",
            "Epoch 120/200\n",
            "\u001b[1m 95/100\u001b[0m \u001b[32m━━━━━━━━━━━━━━━━━━━\u001b[0m\u001b[37m━\u001b[0m \u001b[1m0s\u001b[0m 13ms/step - custom_accuracy: 0.7330 - loss: 0.0250 - mse: 0.0231\n",
            "Epoch 120: ReduceLROnPlateau reducing learning rate to 1.5625000742147677e-05.\n",
            "\u001b[1m100/100\u001b[0m \u001b[32m━━━━━━━━━━━━━━━━━━━━\u001b[0m\u001b[37m\u001b[0m \u001b[1m1s\u001b[0m 14ms/step - custom_accuracy: 0.7329 - loss: 0.0250 - mse: 0.0231 - val_custom_accuracy: 0.7393 - val_loss: 0.0247 - val_mse: 0.0227 - learning_rate: 3.1250e-05\n",
            "Epoch 121/200\n",
            "\u001b[1m100/100\u001b[0m \u001b[32m━━━━━━━━━━━━━━━━━━━━\u001b[0m\u001b[37m\u001b[0m \u001b[1m1s\u001b[0m 9ms/step - custom_accuracy: 0.7359 - loss: 0.0253 - mse: 0.0233 - val_custom_accuracy: 0.7394 - val_loss: 0.0245 - val_mse: 0.0226 - learning_rate: 1.5625e-05\n",
            "Epoch 122/200\n",
            "\u001b[1m100/100\u001b[0m \u001b[32m━━━━━━━━━━━━━━━━━━━━\u001b[0m\u001b[37m\u001b[0m \u001b[1m1s\u001b[0m 9ms/step - custom_accuracy: 0.7363 - loss: 0.0253 - mse: 0.0233 - val_custom_accuracy: 0.7397 - val_loss: 0.0245 - val_mse: 0.0225 - learning_rate: 1.5625e-05\n",
            "Epoch 123/200\n",
            "\u001b[1m100/100\u001b[0m \u001b[32m━━━━━━━━━━━━━━━━━━━━\u001b[0m\u001b[37m\u001b[0m \u001b[1m1s\u001b[0m 9ms/step - custom_accuracy: 0.7362 - loss: 0.0250 - mse: 0.0231 - val_custom_accuracy: 0.7393 - val_loss: 0.0246 - val_mse: 0.0227 - learning_rate: 1.5625e-05\n",
            "Epoch 124/200\n",
            "\u001b[1m100/100\u001b[0m \u001b[32m━━━━━━━━━━━━━━━━━━━━\u001b[0m\u001b[37m\u001b[0m \u001b[1m1s\u001b[0m 9ms/step - custom_accuracy: 0.7359 - loss: 0.0251 - mse: 0.0231 - val_custom_accuracy: 0.7401 - val_loss: 0.0245 - val_mse: 0.0225 - learning_rate: 1.5625e-05\n",
            "Epoch 125/200\n",
            "\u001b[1m 99/100\u001b[0m \u001b[32m━━━━━━━━━━━━━━━━━━━\u001b[0m\u001b[37m━\u001b[0m \u001b[1m0s\u001b[0m 8ms/step - custom_accuracy: 0.7359 - loss: 0.0252 - mse: 0.0232\n",
            "Epoch 125: ReduceLROnPlateau reducing learning rate to 7.812500371073838e-06.\n",
            "\u001b[1m100/100\u001b[0m \u001b[32m━━━━━━━━━━━━━━━━━━━━\u001b[0m\u001b[37m\u001b[0m \u001b[1m1s\u001b[0m 9ms/step - custom_accuracy: 0.7359 - loss: 0.0252 - mse: 0.0232 - val_custom_accuracy: 0.7409 - val_loss: 0.0245 - val_mse: 0.0225 - learning_rate: 1.5625e-05\n",
            "Epoch 126/200\n",
            "\u001b[1m100/100\u001b[0m \u001b[32m━━━━━━━━━━━━━━━━━━━━\u001b[0m\u001b[37m\u001b[0m \u001b[1m1s\u001b[0m 9ms/step - custom_accuracy: 0.7387 - loss: 0.0250 - mse: 0.0231 - val_custom_accuracy: 0.7419 - val_loss: 0.0245 - val_mse: 0.0225 - learning_rate: 7.8125e-06\n",
            "Epoch 127/200\n",
            "\u001b[1m100/100\u001b[0m \u001b[32m━━━━━━━━━━━━━━━━━━━━\u001b[0m\u001b[37m\u001b[0m \u001b[1m1s\u001b[0m 9ms/step - custom_accuracy: 0.7370 - loss: 0.0251 - mse: 0.0231 - val_custom_accuracy: 0.7407 - val_loss: 0.0244 - val_mse: 0.0225 - learning_rate: 7.8125e-06\n",
            "Epoch 128/200\n",
            "\u001b[1m100/100\u001b[0m \u001b[32m━━━━━━━━━━━━━━━━━━━━\u001b[0m\u001b[37m\u001b[0m \u001b[1m1s\u001b[0m 8ms/step - custom_accuracy: 0.7363 - loss: 0.0254 - mse: 0.0234 - val_custom_accuracy: 0.7417 - val_loss: 0.0245 - val_mse: 0.0225 - learning_rate: 7.8125e-06\n",
            "Epoch 129/200\n",
            "\u001b[1m100/100\u001b[0m \u001b[32m━━━━━━━━━━━━━━━━━━━━\u001b[0m\u001b[37m\u001b[0m \u001b[1m1s\u001b[0m 8ms/step - custom_accuracy: 0.7402 - loss: 0.0250 - mse: 0.0230 - val_custom_accuracy: 0.7412 - val_loss: 0.0244 - val_mse: 0.0225 - learning_rate: 7.8125e-06\n",
            "Epoch 130/200\n",
            "\u001b[1m100/100\u001b[0m \u001b[32m━━━━━━━━━━━━━━━━━━━━\u001b[0m\u001b[37m\u001b[0m \u001b[1m1s\u001b[0m 9ms/step - custom_accuracy: 0.7382 - loss: 0.0253 - mse: 0.0234 - val_custom_accuracy: 0.7406 - val_loss: 0.0245 - val_mse: 0.0225 - learning_rate: 7.8125e-06\n",
            "Epoch 131/200\n",
            "\u001b[1m 95/100\u001b[0m \u001b[32m━━━━━━━━━━━━━━━━━━━\u001b[0m\u001b[37m━\u001b[0m \u001b[1m0s\u001b[0m 7ms/step - custom_accuracy: 0.7391 - loss: 0.0249 - mse: 0.0229\n",
            "Epoch 131: ReduceLROnPlateau reducing learning rate to 3.906250185536919e-06.\n",
            "\u001b[1m100/100\u001b[0m \u001b[32m━━━━━━━━━━━━━━━━━━━━\u001b[0m\u001b[37m\u001b[0m \u001b[1m1s\u001b[0m 8ms/step - custom_accuracy: 0.7391 - loss: 0.0249 - mse: 0.0229 - val_custom_accuracy: 0.7419 - val_loss: 0.0245 - val_mse: 0.0225 - learning_rate: 7.8125e-06\n",
            "Epoch 132/200\n",
            "\u001b[1m100/100\u001b[0m \u001b[32m━━━━━━━━━━━━━━━━━━━━\u001b[0m\u001b[37m\u001b[0m \u001b[1m2s\u001b[0m 15ms/step - custom_accuracy: 0.7400 - loss: 0.0250 - mse: 0.0230 - val_custom_accuracy: 0.7416 - val_loss: 0.0245 - val_mse: 0.0225 - learning_rate: 3.9063e-06\n",
            "Epoch 133/200\n",
            "\u001b[1m100/100\u001b[0m \u001b[32m━━━━━━━━━━━━━━━━━━━━\u001b[0m\u001b[37m\u001b[0m \u001b[1m2s\u001b[0m 16ms/step - custom_accuracy: 0.7387 - loss: 0.0251 - mse: 0.0231 - val_custom_accuracy: 0.7414 - val_loss: 0.0245 - val_mse: 0.0225 - learning_rate: 3.9063e-06\n",
            "Epoch 134/200\n",
            "\u001b[1m100/100\u001b[0m \u001b[32m━━━━━━━━━━━━━━━━━━━━\u001b[0m\u001b[37m\u001b[0m \u001b[1m1s\u001b[0m 9ms/step - custom_accuracy: 0.7410 - loss: 0.0248 - mse: 0.0229 - val_custom_accuracy: 0.7404 - val_loss: 0.0245 - val_mse: 0.0225 - learning_rate: 3.9063e-06\n",
            "Epoch 135/200\n",
            "\u001b[1m100/100\u001b[0m \u001b[32m━━━━━━━━━━━━━━━━━━━━\u001b[0m\u001b[37m\u001b[0m \u001b[1m1s\u001b[0m 9ms/step - custom_accuracy: 0.7401 - loss: 0.0252 - mse: 0.0232 - val_custom_accuracy: 0.7412 - val_loss: 0.0245 - val_mse: 0.0225 - learning_rate: 3.9063e-06\n",
            "Epoch 136/200\n",
            "\u001b[1m 98/100\u001b[0m \u001b[32m━━━━━━━━━━━━━━━━━━━\u001b[0m\u001b[37m━\u001b[0m \u001b[1m0s\u001b[0m 8ms/step - custom_accuracy: 0.7336 - loss: 0.0252 - mse: 0.0232\n",
            "Epoch 136: ReduceLROnPlateau reducing learning rate to 1.9531250927684596e-06.\n",
            "\u001b[1m100/100\u001b[0m \u001b[32m━━━━━━━━━━━━━━━━━━━━\u001b[0m\u001b[37m\u001b[0m \u001b[1m1s\u001b[0m 9ms/step - custom_accuracy: 0.7337 - loss: 0.0252 - mse: 0.0232 - val_custom_accuracy: 0.7411 - val_loss: 0.0245 - val_mse: 0.0225 - learning_rate: 3.9063e-06\n",
            "Epoch 137/200\n",
            "\u001b[1m100/100\u001b[0m \u001b[32m━━━━━━━━━━━━━━━━━━━━\u001b[0m\u001b[37m\u001b[0m \u001b[1m1s\u001b[0m 8ms/step - custom_accuracy: 0.7403 - loss: 0.0248 - mse: 0.0229 - val_custom_accuracy: 0.7409 - val_loss: 0.0244 - val_mse: 0.0225 - learning_rate: 1.9531e-06\n"
          ]
        }
      ]
    },
    {
      "cell_type": "code",
      "source": [
        "# Evaluate the model on the test set\n",
        "eval_results = model.evaluate(X_val_dct2, y_val_labels)\n",
        "print(f\"Test results - Loss: {eval_results[0]}, MSE: {eval_results[1]}, Accuracy: {eval_results[2]}\")"
      ],
      "metadata": {
        "colab": {
          "base_uri": "https://localhost:8080/"
        },
        "id": "1-5UKSRDiEwS",
        "outputId": "8b0bf466-1d6d-41cf-b61b-903c1e7724ff"
      },
      "execution_count": 108,
      "outputs": [
        {
          "output_type": "stream",
          "name": "stdout",
          "text": [
            "\u001b[1m7/7\u001b[0m \u001b[32m━━━━━━━━━━━━━━━━━━━━\u001b[0m\u001b[37m\u001b[0m \u001b[1m0s\u001b[0m 6ms/step - custom_accuracy: 0.7454 - loss: 0.0241 - mse: 0.0221 \n",
            "Test results - Loss: 0.024434909224510193, MSE: 0.022473029792308807, Accuracy: 0.7407407760620117\n"
          ]
        }
      ]
    },
    {
      "cell_type": "code",
      "source": [
        "import matplotlib.pyplot as plt\n",
        "\n",
        "plt.figure(figsize=(12, 5))\n",
        "\n",
        "plt.subplot(1, 2, 1)\n",
        "plt.plot(history.history['loss'], label='Training Loss')\n",
        "plt.plot(history.history['val_loss'], label='Validation Loss')\n",
        "plt.title('Loss Over Epochs')\n",
        "plt.xlabel('Epochs')\n",
        "plt.ylabel('MSE Loss')\n",
        "plt.legend()\n",
        "\n",
        "plt.subplot(1, 2, 2)\n",
        "plt.plot(history.history['custom_accuracy'], label='Training Accuracy')\n",
        "plt.plot(history.history['val_custom_accuracy'], label='Validation Accuracy')\n",
        "plt.title('Accuracy Over Epochs')\n",
        "plt.xlabel('Epochs')\n",
        "plt.ylabel('Accuracy (%)')\n",
        "plt.legend()\n",
        "\n",
        "plt.show()"
      ],
      "metadata": {
        "colab": {
          "base_uri": "https://localhost:8080/",
          "height": 487
        },
        "id": "Xz-YSvZxih8l",
        "outputId": "d7347c40-d423-4c78-8a34-15e905a17449"
      },
      "execution_count": 109,
      "outputs": [
        {
          "output_type": "display_data",
          "data": {
            "text/plain": [
              "<Figure size 1200x500 with 2 Axes>"
            ],
            "image/png": "[encoded data removed]"
          },
          "metadata": {}
        }
      ]
    },
    {
      "cell_type": "code",
      "source": [
        "from sklearn.metrics import r2_score\n",
        "\n",
        "y_pred = model.predict(X_val_dct2)\n",
        "\n",
        "r2 = r2_score(y_val_labels, y_pred)\n",
        "\n",
        "print(f\"R² Score: {r2:.4f}\")"
      ],
      "metadata": {
        "colab": {
          "base_uri": "https://localhost:8080/"
        },
        "id": "xU_xRt8_iiYd",
        "outputId": "8cbc5491-a04e-424c-f612-e85b9b90766c"
      },
      "execution_count": 110,
      "outputs": [
        {
          "output_type": "stream",
          "name": "stdout",
          "text": [
            "\u001b[1m7/7\u001b[0m \u001b[32m━━━━━━━━━━━━━━━━━━━━\u001b[0m\u001b[37m\u001b[0m \u001b[1m3s\u001b[0m 265ms/step\n",
            "R² Score: 0.6412\n"
          ]
        }
      ]
    },
    {
      "cell_type": "code",
      "source": [
        "y_pred = model.predict(X_val_dct2)\n",
        "y_pred_rescaled = y_pred * (q - 1)\n",
        "\n",
        "print(\"Comparison of predictions and ground truth:\")\n",
        "for i in range(3):\n",
        "    print(f\"Sample {i+1}:\")\n",
        "    print(f\"  Predicted:    {np.round(y_pred_rescaled[i]).astype(int)}\")\n",
        "    print(f\"  Ground Truth: {y_val[i].astype(int)}\")\n",
        "    print(\"-\" * 40)"
      ],
      "metadata": {
        "colab": {
          "base_uri": "https://localhost:8080/"
        },
        "id": "jMC6xUFdinH4",
        "outputId": "02554a08-0063-4683-b6b8-d6b5afe1d219"
      },
      "execution_count": 111,
      "outputs": [
        {
          "output_type": "stream",
          "name": "stdout",
          "text": [
            "\u001b[1m7/7\u001b[0m \u001b[32m━━━━━━━━━━━━━━━━━━━━\u001b[0m\u001b[37m\u001b[0m \u001b[1m0s\u001b[0m 5ms/step \n",
            "Comparison of predictions and ground truth:\n",
            "Sample 1:\n",
            "  Predicted:    [3 3 3 3 3 3 2 2 5 2 3 1 4 0 3 2 5 1 4 3 4 4 6 5 2 3 1 0 0 0 0 0]\n",
            "  Ground Truth: [5 6 5 1 3 4 1 1 6 2 3 1 4 0 3 2 5 1 4 3 4 4 6 5 2 3 1 0 0 0 0 0]\n",
            "----------------------------------------\n",
            "Sample 2:\n",
            "  Predicted:    [3 3 3 3 3 3 3 4 4 2 4 3 3 1 3 1 1 2 0 1 1 5 2 1 4 0 4 0 0 0 0 0]\n",
            "  Ground Truth: [1 4 1 3 3 3 0 5 5 2 4 3 3 1 3 1 1 2 0 1 1 5 2 1 4 0 4 0 0 0 0 0]\n",
            "----------------------------------------\n",
            "Sample 3:\n",
            "  Predicted:    [3 3 3 3 3 3 3 4 2 6 4 1 0 5 2 3 5 1 4 6 0 4 3 2 3 4 4 0 0 0 0 0]\n",
            "  Ground Truth: [2 6 0 2 2 1 3 4 2 6 4 1 0 5 2 3 5 1 4 6 0 4 3 2 3 4 4 0 0 0 0 0]\n",
            "----------------------------------------\n"
          ]
        }
      ]
    },
    {
      "cell_type": "code",
      "source": [
        "num_unseen_samples = 20\n",
        "x_unseen_original = np.random.randint(0, q, size=(num_unseen_samples, n))\n",
        "x_unseen_original_padded = np.pad(x_unseen_original, ((0, 0), (0, padding)), mode='constant', constant_values=0)\n",
        "\n",
        "encoded_dataset_unseen = np.array([np.dot(M_tilde, x) for x in x_unseen_original_padded])\n",
        "encoded_dataset_unseen[np.abs(encoded_dataset_unseen) < 1e-10] = 0\n",
        "encoded_dataset_unseen = np.round(encoded_dataset_unseen, decimals=10)\n",
        "\n",
        "# add some noise to simulate channel distortion\n",
        "noise_ratio = 0.05\n",
        "real_parts = np.real(encoded_dataset_unseen)\n",
        "imag_parts = np.imag(encoded_dataset_unseen)\n",
        "noise_std_real = np.abs(real_parts) * noise_ratio\n",
        "noise_std_imag = np.abs(imag_parts) * noise_ratio\n",
        "noise_real = np.random.normal(0, noise_std_real, size=encoded_dataset_unseen.shape)\n",
        "noise_imag = np.random.normal(0, noise_std_imag, size=encoded_dataset_unseen.shape)\n",
        "noise = noise_real + 1j * noise_imag\n",
        "\n",
        "# Add noise to the original data\n",
        "encoded_noisy = encoded_dataset_unseen + noise\n",
        "\n",
        "print(encoded_dataset_unseen[0])\n",
        "print(\"\\n\")\n",
        "print(encoded_noisy[0])"
      ],
      "metadata": {
        "colab": {
          "base_uri": "https://localhost:8080/"
        },
        "id": "v0xjTARgip8n",
        "outputId": "3c6ebcc4-cc16-445b-eed9-c527a6bc818d"
      },
      "execution_count": 119,
      "outputs": [
        {
          "output_type": "stream",
          "name": "stdout",
          "text": [
            "[ 23477.5885329     +0.j          -1148.19286514+20506.02208415j\n",
            " -15884.57004076  +817.19610968j  -2952.68056168-11877.39372372j\n",
            "   6882.37700825 -3879.93572511j   5506.80079231 +1509.77467339j\n",
            "   2197.70727923 +6690.69152199j  -6742.7461178  +4797.28961305j\n",
            "  -6282.29195171 -6155.15780497j   4755.89320912 -6095.84709376j\n",
            "   5869.39624311 +2238.39642393j   -912.20541743 +5598.69524192j\n",
            "  -4029.79613456  -644.62582004j   -174.72462939 -1483.21718922j\n",
            "    263.60325107 -1200.75538802j    909.65917528   -27.78160613j\n",
            "    165.95298732    +0.j            909.65917528   +27.78160613j\n",
            "    263.60325107 +1200.75538802j   -174.72462939 +1483.21718922j\n",
            "  -4029.79613456  +644.62582004j   -912.20541743 -5598.69524192j\n",
            "   5869.39624311 -2238.39642393j   4755.89320912 +6095.84709376j\n",
            "  -6282.29195171 +6155.15780497j  -6742.7461178  -4797.28961305j\n",
            "   2197.70727923 -6690.69152199j   5506.80079231 -1509.77467339j\n",
            "   6882.37700825 +3879.93572511j  -2952.68056168+11877.39372372j\n",
            " -15884.57004076  -817.19610968j  -1148.19286514-20506.02208415j]\n",
            "\n",
            "\n",
            "[ 25913.81762464    +0.j          -1201.73960298+20362.45960942j\n",
            " -16542.05069248  +828.85089936j  -2907.66366567-11909.0072887j\n",
            "   7272.8064748  -3868.18885488j   5652.31063553 +1418.39214111j\n",
            "   2003.30492549 +7011.75161532j  -6610.28002796 +5139.80242073j\n",
            "  -5957.40219751 -6157.29939172j   5050.11602861 -5911.71743071j\n",
            "   5800.29114879 +2218.50408149j   -916.87306982 +5384.25911884j\n",
            "  -4054.54955289  -656.31390613j   -163.53715926 -1497.30405442j\n",
            "    259.86815934 -1173.81225878j    924.61428947   -28.15402696j\n",
            "    152.8793568     +0.j            862.84236793   +31.9899474j\n",
            "    238.91098731 +1196.29499685j   -163.94882802 +1437.01731898j\n",
            "  -3829.51617435  +602.67916341j   -995.07195586 -5574.69133445j\n",
            "   5442.47356267 -2195.12648222j   4678.6129334  +5922.04221749j\n",
            "  -6138.35422147 +6277.58066336j  -6385.74994147 -4593.83189985j\n",
            "   2239.51164387 -6350.72267979j   5461.25780009 -1448.3260924j\n",
            "   7262.28428764 +4180.06926023j  -3034.6768661 +11717.28006305j\n",
            " -16293.65440329  -776.27071979j  -1170.47956621-21212.55243927j]\n"
          ]
        }
      ]
    },
    {
      "cell_type": "code",
      "source": [
        "# projection to get real-valued DCT-2 like input\n",
        "N = encoded_dataset_unseen.shape[1]\n",
        "\n",
        "k = np.arange(N)\n",
        "shift = np.exp(-1j * np.pi * k / (2 * N))\n",
        "alpha_k = np.where(k == 0, np.sqrt(1/N), np.sqrt(2/N))\n",
        "\n",
        "x_unseen_dct2 = np.array([np.real(alpha_k * shift * y) for y in encoded_dataset_unseen])\n",
        "x_unseen_dct2[np.abs(x_unseen_dct2) < 1e-10] = 0\n",
        "x_unseen_dct2 = np.round(x_unseen_dct2, decimals=10) # Round for numerical stability\n",
        "\n",
        "x_unseen_dct2_noisy = np.array([np.real(alpha_k * shift * y) for y in encoded_noisy])\n",
        "x_unseen_dct2_noisy[np.abs(x_unseen_dct2_noisy) < 1e-10] = 0\n",
        "x_unseen_dct2_noisy = np.round(x_unseen_dct2_noisy, decimals=10) # Round for numerical stability\n",
        "\n",
        "print(x_unseen_dct2[0])\n",
        "print(\"\\n\")\n",
        "print(x_unseen_dct2_noisy[0])"
      ],
      "metadata": {
        "colab": {
          "base_uri": "https://localhost:8080/"
        },
        "id": "V7wL0XE4isLc",
        "outputId": "dc7dcb66-f311-4138-b3d6-57e461a75112"
      },
      "execution_count": 120,
      "outputs": [
        {
          "output_type": "stream",
          "name": "stdout",
          "text": [
            "[ 4150.29051438   -35.15675079 -3931.99556714 -1165.87446735\n",
            "  1498.29903846  1427.15354885  1011.31999267 -1183.10859896\n",
            " -2039.88946675   423.24151664  1557.87953141   523.96997576\n",
            "  -927.19698668  -255.97289657  -139.49577137   163.83900081\n",
            "    29.33662067   157.86864433   273.85614976   271.81196925\n",
            "  -425.71199921 -1317.78209901   198.18120796  1885.99671766\n",
            "   820.62381705 -1697.10557881 -1441.15796077   -31.62129282\n",
            "  1287.01724872  2828.89766284  -592.55530445 -5134.41520902]\n",
            "\n",
            "\n",
            "[ 4580.9590422    -50.2883796  -4095.28865052 -1155.90172168\n",
            "  1594.6038321   1456.88978671   988.11183565 -1123.08066139\n",
            " -1965.05460564   509.41648012  1540.29892204   495.40853118\n",
            "  -933.96580364  -255.82431546  -135.94445254   166.54672735\n",
            "    27.02550747   150.78812658   269.07801593   264.13973266\n",
            "  -406.61394575 -1323.28536816   157.40888877  1838.45688698\n",
            "   862.67045651 -1619.14738083 -1356.79169465   -19.48604292\n",
            "  1379.13794544  2786.29465567  -592.39754356 -5311.10842526]\n"
          ]
        }
      ]
    },
    {
      "cell_type": "code",
      "source": [
        "# classical algorithm\n",
        "from scipy.fft import ifft\n",
        "\n",
        "def lrc(y, n, q, r, w0, z0):\n",
        "    if n >= 2:\n",
        "        z1 = ifft(y, n)\n",
        "\n",
        "        D_hat_n = np.diag([(z0 / w0) ** k for k in range(n)])\n",
        "        z2 = np.dot(D_hat_n, z1)\n",
        "\n",
        "        J_rxn = np.hstack([np.eye(r), np.zeros((r, n - r))])\n",
        "        z3 = np.dot(J_rxn, z2)\n",
        "\n",
        "        z4 = np.abs(z3)\n",
        "\n",
        "        # z5 = np.ceil(z4)\n",
        "        z5 = np.round(z4)\n",
        "\n",
        "        x_tilde = np.mod(z5, q)\n",
        "\n",
        "        return x_tilde\n",
        "\n",
        "    return y"
      ],
      "metadata": {
        "id": "k_DJ_pyFismO"
      },
      "execution_count": 121,
      "outputs": []
    },
    {
      "cell_type": "code",
      "source": [
        "############## just to compare with classical dct3 ##############\n",
        "\n",
        "classical_dct3_pred = np.array([dct(x, type=3, norm='ortho') for x in x_unseen_dct2_noisy])\n",
        "after_perm = np.hstack((classical_dct3_pred[:, ::2], classical_dct3_pred[:, 1::2][:, ::-1]))\n",
        "D_hat_n = np.array([(z0 / w0) ** k for k in range(N)])\n",
        "scaled_dct3_pred = after_perm * D_hat_n\n",
        "\n",
        "mse_classical_dct3 = custom_mse(x_unseen_original_padded, scaled_dct3_pred)\n",
        "acc_classical_dct3 = custom_accuracy(x_unseen_original_padded, scaled_dct3_pred)\n",
        "\n",
        "############## classical algorithm for recovery (here we assume the classical algorithm can also be used for global recovery. just to compare) ##############\n",
        "\n",
        "classical_pred = np.array([lrc(y=x, n=n_padded, q=q, r=n_padded, w0=w0, z0=z0) for x in encoded_noisy])\n",
        "mse_classical = custom_mse(x_unseen_original_padded, classical_pred)\n",
        "acc_classical = custom_accuracy(x_unseen_original_padded, classical_pred)\n",
        "\n",
        "############## predictions of our StNN ##############\n",
        "\n",
        "x_unseen_original_padded_normalized = x_unseen_original_padded.astype(np.float32) / (q - 1)  # Scale to [0, 1]\n",
        "\n",
        "x_unseen_dct2_noisy = (x_unseen_dct2_noisy - x_unseen_dct2_noisy.mean()) / x_unseen_dct2_noisy.std()\n",
        "nn_pred = model.predict(x_unseen_dct2_noisy)\n",
        "\n",
        "y_pred_final = np.mod(np.round(nn_pred * (q - 1)), q)\n",
        "\n",
        "mse_nn = custom_mse(x_unseen_original_padded, y_pred_final)\n",
        "acc_nn = custom_accuracy(x_unseen_original_padded_normalized, nn_pred)\n",
        "\n",
        "############## display ##############\n",
        "\n",
        "print(f\"\\nClassical DCT-III:\")\n",
        "print(f\"  MSE: {mse_classical_dct3}\")\n",
        "print(f\"  Accuracy: {acc_classical_dct3}\")\n",
        "\n",
        "print(f\"\\nClassical Algorithm:\")\n",
        "print(f\"  MSE: {mse_classical}\")\n",
        "print(f\"  Accuracy: {acc_classical}\")\n",
        "\n",
        "print(f\"\\nNeural Network:\")\n",
        "print(f\"  MSE: {mse_nn}\")\n",
        "print(f\"  Accuracy: {acc_nn}\")\n",
        "\n",
        "num_display_samples = 3\n",
        "for i in range(num_display_samples):\n",
        "    print(f\"\\nSample {i+1}:\")\n",
        "    print(f\"Original     : {x_unseen_original_padded[i]}\")\n",
        "    print(f\"Classical Al : {np.round(classical_pred[i]).astype(int)}\")\n",
        "    print(f\"NN Pred      : {np.mod(np.round(nn_pred[i]*(q-1)), q).astype(int)}\")"
      ],
      "metadata": {
        "colab": {
          "base_uri": "https://localhost:8080/"
        },
        "id": "R6Uw-j1yivdr",
        "outputId": "421a7566-c83f-4d6c-fbc4-21a21e5e8fe0"
      },
      "execution_count": 122,
      "outputs": [
        {
          "output_type": "stream",
          "name": "stdout",
          "text": [
            "\u001b[1m1/1\u001b[0m \u001b[32m━━━━━━━━━━━━━━━━━━━━\u001b[0m\u001b[37m\u001b[0m \u001b[1m0s\u001b[0m 421ms/step\n",
            "\n",
            "Classical DCT-III:\n",
            "  MSE: 319.59185791015625\n",
            "  Accuracy: 0.16851851344108582\n",
            "\n",
            "Classical Algorithm:\n",
            "  MSE: 3.676562547683716\n",
            "  Accuracy: 0.44999998807907104\n",
            "\n",
            "Neural Network:\n",
            "  MSE: 2.924999952316284\n",
            "  Accuracy: 0.5018518567085266\n",
            "\n",
            "Sample 1:\n",
            "Original     : [5 4 1 4 3 0 3 5 0 0 1 0 1 1 6 3 1 4 0 1 2 4 6 3 2 5 3 0 0 0 0 0]\n",
            "Classical Al : [6 5 1 2 2 0 1 5 1 2 6 2 2 2 0 4 2 5 1 1 2 4 6 3 2 5 3 0 0 0 0 0]\n",
            "NN Pred      : [3 3 3 3 3 3 5 5 1 0 5 0 0 1 0 3 1 5 1 1 2 4 6 3 2 5 3 0 0 0 0 0]\n",
            "\n",
            "Sample 2:\n",
            "Original     : [5 3 3 6 6 6 6 4 6 1 3 0 4 0 2 6 6 0 5 5 5 4 6 1 6 1 0 0 0 0 0 0]\n",
            "Classical Al : [1 0 2 5 1 1 4 6 1 5 2 3 0 1 3 6 5 0 5 5 5 4 6 1 6 1 0 0 0 0 0 0]\n",
            "NN Pred      : [3 3 3 4 4 4 4 6 5 1 4 2 1 0 0 6 4 1 5 5 5 4 6 1 6 1 0 0 0 0 0 0]\n",
            "\n",
            "Sample 3:\n",
            "Original     : [5 3 1 4 0 0 6 6 1 1 1 5 2 3 6 3 4 0 4 4 1 5 4 4 4 0 4 0 0 0 0 0]\n",
            "Classical Al : [0 1 0 2 5 3 4 4 4 2 2 1 3 5 6 4 4 1 4 4 1 5 4 4 4 0 4 0 0 0 0 0]\n",
            "NN Pred      : [3 3 3 4 2 2 0 0 0 0 0 2 6 1 1 3 5 0 4 4 1 5 4 4 4 0 4 0 0 0 0 0]\n"
          ]
        }
      ]
    },
    {
      "cell_type": "code",
      "source": [
        "import matplotlib.pyplot as plt\n",
        "plt.hist(y_pred.flatten(), bins=50)"
      ],
      "metadata": {
        "colab": {
          "base_uri": "https://localhost:8080/",
          "height": 847
        },
        "id": "_b82OYCHi39W",
        "outputId": "fc1a4d7a-54c0-4f0d-fc58-3dbcc6c876a0"
      },
      "execution_count": 123,
      "outputs": [
        {
          "output_type": "execute_result",
          "data": {
            "text/plain": [
              "(array([1.488e+03, 5.000e+01, 1.000e+00, 0.000e+00, 8.000e+00, 3.900e+01,\n",
              "        1.290e+02, 2.760e+02, 1.450e+02, 2.400e+01, 6.000e+00, 2.100e+01,\n",
              "        1.600e+01, 1.800e+01, 1.230e+02, 2.630e+02, 1.200e+02, 4.500e+01,\n",
              "        3.000e+01, 3.100e+01, 5.000e+01, 1.160e+02, 3.090e+02, 8.670e+02,\n",
              "        3.740e+02, 7.600e+01, 3.000e+01, 2.600e+01, 3.200e+01, 6.000e+01,\n",
              "        1.600e+02, 2.500e+02, 1.160e+02, 1.700e+01, 1.900e+01, 1.400e+01,\n",
              "        5.000e+00, 2.600e+01, 2.050e+02, 2.290e+02, 8.900e+01, 1.300e+01,\n",
              "        7.000e+00, 0.000e+00, 3.000e+00, 3.000e+01, 1.640e+02, 1.960e+02,\n",
              "        6.800e+01, 1.600e+01]),\n",
              " array([-5.29898913e-04,  2.09647268e-02,  4.24593501e-02,  6.39539734e-02,\n",
              "         8.54486004e-02,  1.06943227e-01,  1.28437847e-01,  1.49932474e-01,\n",
              "         1.71427101e-01,  1.92921728e-01,  2.14416355e-01,  2.35910982e-01,\n",
              "         2.57405609e-01,  2.78900236e-01,  3.00394863e-01,  3.21889490e-01,\n",
              "         3.43384117e-01,  3.64878744e-01,  3.86373371e-01,  4.07867998e-01,\n",
              "         4.29362625e-01,  4.50857252e-01,  4.72351879e-01,  4.93846506e-01,\n",
              "         5.15341103e-01,  5.36835730e-01,  5.58330357e-01,  5.79824984e-01,\n",
              "         6.01319611e-01,  6.22814238e-01,  6.44308865e-01,  6.65803492e-01,\n",
              "         6.87298119e-01,  7.08792746e-01,  7.30287373e-01,  7.51782000e-01,\n",
              "         7.73276627e-01,  7.94771254e-01,  8.16265881e-01,  8.37760508e-01,\n",
              "         8.59255135e-01,  8.80749762e-01,  9.02244389e-01,  9.23739016e-01,\n",
              "         9.45233643e-01,  9.66728270e-01,  9.88222897e-01,  1.00971746e+00,\n",
              "         1.03121209e+00,  1.05270672e+00,  1.07420135e+00]),\n",
              " <BarContainer object of 50 artists>)"
            ]
          },
          "metadata": {},
          "execution_count": 123
        },
        {
          "output_type": "display_data",
          "data": {
            "text/plain": [
              "<Figure size 640x480 with 1 Axes>"
            ],
            "image/png": "[encoded data removed]"
          },
          "metadata": {}
        }
      ]
    },
    {
      "cell_type": "code",
      "source": [
        "for layer in model.layers:\n",
        "    if layer.trainable_variables:  # Check if the layer has trainable variables\n",
        "        for i, var in enumerate(layer.trainable_variables):\n",
        "            print(f\"{layer.name} - Variable {i} ({var.name}): values: {var.numpy()}\")\n",
        "    else:\n",
        "        print(layer.name, \"has no trainable variables.\")"
      ],
      "metadata": {
        "colab": {
          "base_uri": "https://localhost:8080/"
        },
        "id": "TM5Icr6_i71u",
        "outputId": "db47dbc2-9d73-4ea1-a920-8f478d2cb997"
      },
      "execution_count": 124,
      "outputs": [
        {
          "output_type": "stream",
          "name": "stdout",
          "text": [
            "first_layer - Variable 0 (B_1): values: [1.6723859 1.0723083 1.0297962 1.0436304 1.1112401 1.0466756 1.047668\n",
            " 1.0736018 1.1896466 1.0547267 1.0780443 1.0524778 1.0642873 1.0265588\n",
            " 1.0414314 0.9948413]\n",
            "first_layer - Variable 1 (B_2): values: [1.        1.0455238 1.032533  1.028329  1.0817375 1.0284002 1.0382894\n",
            " 1.0756637 1.1967983 1.042281  1.0646832 1.0570801 1.0395105 1.0309416\n",
            " 1.0767908 1.0325639]\n",
            "first_layer - Variable 2 (bias): values: [-0.04369622  0.15750875  0.02353571 -0.03778159  0.06128626 -0.04620406\n",
            "  0.04069912  0.03096736  0.01823316  0.02324915  0.09390014  0.04393109\n",
            "  0.06715152  0.12073916  0.04517895  0.19834115  0.17401844  0.09476621\n",
            " -0.03973155 -0.01515612  0.0254927  -0.01058109  0.00109967  0.02258612\n",
            "  0.00075503  0.0054898   0.04984408 -0.01716691  0.01534438  0.03052239\n",
            " -0.01510951  0.02860627]\n",
            "second_layer - Variable 0 (bias): values: [ 0.06279591  0.09142458  0.08600129  0.06635917  0.09732451  0.06217078\n",
            "  0.04104561  0.05789851  0.03593937  0.06087825 -0.00110729 -0.11181166\n",
            " -0.00072517 -0.02860975  0.04601487  0.03063832  0.2554068  -0.03461402\n",
            "  0.2595202  -0.00990462  0.23873003 -0.03243897  0.13444874 -0.03993062\n",
            "  0.09775047 -0.05063893  0.02784863 -0.17825085  0.01685513 -0.09773131\n",
            "  0.00628582 -0.00922366]\n",
            "second_layer - Variable 1 (B_1): values: [1.5747397 1.0599768 1.0856527 1.0406284 1.163815  1.0672481 1.0593425\n",
            " 1.0461047]\n",
            "second_layer - Variable 2 (B_2): values: [1.        1.021004  1.024949  1.0492803 1.0963588 1.0853502 1.0190446\n",
            " 1.0230176]\n",
            "second_layer - Variable 3 (W_c): values: [0.607153   0.7107867  0.7410164  0.80261296 0.9366777  1.4518566\n",
            " 2.2235398  5.534852  ]\n",
            "second_layer - Variable 4 (B_1): values: [1.5863652 1.1133156 1.1174445 1.055551 ]\n",
            "second_layer - Variable 5 (B_2): values: [1.        1.0340796 1.1106015 1.0417297]\n",
            "second_layer - Variable 6 (W_c): values: [0.6060343 0.7901959 1.1323776 2.8337429]\n",
            "second_layer - Variable 7 (B_1): values: [1.5832176 1.2784884]\n",
            "second_layer - Variable 8 (B_2): values: [1.        0.9837886]\n",
            "second_layer - Variable 9 (W_c): values: [0.67187876 1.6133912 ]\n",
            "second_layer - Variable 10 (C_2): values: [[ 0.9842829  1.0911349]\n",
            " [ 1.2022694 -1.316587 ]]\n",
            "second_layer - Variable 11 (C_2): values: [[ 0.9125633   0.7047892 ]\n",
            " [ 0.8007281  -0.83593625]]\n",
            "second_layer - Variable 12 (B_1): values: [1.4762528 1.1083101]\n",
            "second_layer - Variable 13 (B_2): values: [1.       1.011018]\n",
            "second_layer - Variable 14 (W_c): values: [0.5971518 1.5574815]\n",
            "second_layer - Variable 15 (C_2): values: [[ 0.81266975  0.8660321 ]\n",
            " [ 0.9206709  -0.9542038 ]]\n",
            "second_layer - Variable 16 (C_2): values: [[ 0.78483015  0.7405733 ]\n",
            " [ 0.7475578  -0.7607522 ]]\n",
            "second_layer - Variable 17 (B_1): values: [1.500093  1.0651033 1.0705729 1.0420395]\n",
            "second_layer - Variable 18 (B_2): values: [1.        1.0053881 1.060172  0.9985501]\n",
            "second_layer - Variable 19 (W_c): values: [0.54887426 0.6797069  1.0102278  2.6262467 ]\n",
            "second_layer - Variable 20 (B_1): values: [1.5102009 1.1186671]\n",
            "second_layer - Variable 21 (B_2): values: [1.        1.0024606]\n",
            "second_layer - Variable 22 (W_c): values: [0.5911198 1.4585905]\n",
            "second_layer - Variable 23 (C_2): values: [[ 0.77787066  0.8303366 ]\n",
            " [ 0.8831201  -0.89290005]]\n",
            "second_layer - Variable 24 (C_2): values: [[ 0.77284914  0.7307143 ]\n",
            " [ 0.7571855  -0.77279395]]\n",
            "second_layer - Variable 25 (B_1): values: [1.463384 1.070024]\n",
            "second_layer - Variable 26 (B_2): values: [1.        1.0034975]\n",
            "second_layer - Variable 27 (W_c): values: [0.5635885 1.3946174]\n",
            "second_layer - Variable 28 (C_2): values: [[ 0.74032706  0.7694435 ]\n",
            " [ 0.8149181  -0.78228235]]\n",
            "second_layer - Variable 29 (C_2): values: [[ 0.73384714  0.7207137 ]\n",
            " [ 0.7230785  -0.7248189 ]]\n",
            "second_layer - Variable 30 (B_1): values: [1.566295  1.0342802 1.0812538 1.0151606 1.1153312 1.0674144 1.0418231\n",
            " 1.0216765]\n",
            "second_layer - Variable 31 (B_2): values: [1.        0.9915746 1.0427425 1.0348132 1.091138  1.059081  1.0067118\n",
            " 1.0741669]\n",
            "second_layer - Variable 32 (W_c): values: [0.58573407 0.69287795 0.7487008  0.72414017 0.91152924 1.3900901\n",
            " 2.2908251  5.8235826 ]\n",
            "second_layer - Variable 33 (B_1): values: [1.6026387 1.0888419 1.0834904 1.045223 ]\n",
            "second_layer - Variable 34 (B_2): values: [1.        1.032627  1.0964272 1.0270633]\n",
            "second_layer - Variable 35 (W_c): values: [0.57422084 0.7784485  1.1425986  2.7379396 ]\n",
            "second_layer - Variable 36 (B_1): values: [1.5632378 1.2275926]\n",
            "second_layer - Variable 37 (B_2): values: [1.        1.0023216]\n",
            "second_layer - Variable 38 (W_c): values: [0.63067853 1.7167853 ]\n",
            "second_layer - Variable 39 (C_2): values: [[ 0.8765571   0.92693573]\n",
            " [ 1.160791   -1.1774113 ]]\n",
            "second_layer - Variable 40 (C_2): values: [[ 0.8337148   0.7358849 ]\n",
            " [ 0.79697144 -0.836881  ]]\n",
            "second_layer - Variable 41 (B_1): values: [1.5270321 1.1013672]\n",
            "second_layer - Variable 42 (B_2): values: [1.        1.0177163]\n",
            "second_layer - Variable 43 (W_c): values: [0.58965164 1.5316284 ]\n",
            "second_layer - Variable 44 (C_2): values: [[ 0.80805916  0.85560566]\n",
            " [ 0.9387224  -0.9595559 ]]\n",
            "second_layer - Variable 45 (C_2): values: [[ 0.7820285   0.73199534]\n",
            " [ 0.7504697  -0.7732397 ]]\n",
            "second_layer - Variable 46 (B_1): values: [1.5141566 1.0572786 1.0479611 1.0392511]\n",
            "second_layer - Variable 47 (B_2): values: [1.        1.012725  1.0759321 0.9922794]\n",
            "second_layer - Variable 48 (W_c): values: [0.5378128  0.68496734 1.0015522  2.6422362 ]\n",
            "second_layer - Variable 49 (B_1): values: [1.5011849 1.1534263]\n",
            "second_layer - Variable 50 (B_2): values: [1.        1.0174819]\n",
            "second_layer - Variable 51 (W_c): values: [0.58354247 1.4947356 ]\n",
            "second_layer - Variable 52 (C_2): values: [[ 0.7672124   0.8104299 ]\n",
            " [ 0.9083722  -0.90738887]]\n",
            "second_layer - Variable 53 (C_2): values: [[ 0.7714348   0.71441114]\n",
            " [ 0.7540489  -0.7620743 ]]\n",
            "second_layer - Variable 54 (B_1): values: [1.4914765 1.0537938]\n",
            "second_layer - Variable 55 (B_2): values: [1.        0.9935693]\n",
            "second_layer - Variable 56 (W_c): values: [0.5646753 1.3819036]\n",
            "second_layer - Variable 57 (C_2): values: [[ 0.7597987   0.7708152 ]\n",
            " [ 0.82659686 -0.8137596 ]]\n",
            "second_layer - Variable 58 (C_2): values: [[ 0.7418923   0.7293944 ]\n",
            " [ 0.73258764 -0.7585357 ]]\n",
            "third_layer - Variable 0 (W_c): values: [0.54753006 1.1841526  0.4847176  1.3817157  0.5287292  1.4377034\n",
            " 0.57437867 1.9438039  0.72931606 1.9148687  0.9313209  1.1643226\n",
            " 1.551928   1.9392276  3.2470655  9.916717  ]\n",
            "third_layer - Variable 1 (bias): values: [ 0.17190091  0.23011702  0.15717028 -0.03955958  0.15143687 -0.00829167\n",
            "  0.07688639  0.02462211  0.06108207  0.07775453  0.0106067   0.08443148\n",
            "  0.00844233  0.13977917  0.02505286  0.03790149  0.01949711  0.11631963\n",
            "  0.03192123  0.17937565  0.04809055  0.14505367  0.0608939   0.10151046\n",
            "  0.05793922  0.06062042  0.06225305  0.00229334  0.06645873 -0.06567662\n",
            "  0.0914454  -0.01454363]\n",
            "leaky_re_lu has no trainable variables.\n",
            "scaling_layer - Variable 0 (log_scale): values: 0.24017570912837982\n",
            "scaling_layer - Variable 1 (diag): values: [ 4.4669726e-01  5.2609384e-01  5.2077121e-01  6.9630027e-01\n",
            "  8.2577032e-01  1.2520391e+00  1.7023115e+00  2.4407787e+00\n",
            "  2.0259774e+00  1.4084169e+00  1.0356144e+00  2.7421105e-01\n",
            "  1.7447752e-01  8.9304455e-02  6.5005012e-02  3.1625617e-02\n",
            "  3.8249597e-02  1.9406796e-02  1.4309211e-02  6.7656739e-03\n",
            "  4.9102185e-03  2.3158253e-03  1.6570807e-03  7.9877285e-04\n",
            "  5.8409409e-04  2.8683286e-04  2.1183235e-04 -1.0026761e-15\n",
            " -3.0637586e-09 -3.3388201e-07 -1.3601496e-08 -4.0926988e-08]\n",
            "scaling_layer - Variable 2 (bias): values: [ 1.95728391e-01  1.49585560e-01  1.25079960e-01  5.40461503e-02\n",
            "  2.24109851e-02  6.06715633e-03  1.28270555e-02  4.12594415e-02\n",
            "  3.50078121e-02  3.83840804e-03  2.39943061e-03  1.40808045e-03\n",
            "  1.77599816e-03  7.41986558e-04  1.93812721e-03  2.42424104e-03\n",
            "  2.44316831e-03  2.83412030e-03  3.24421097e-03  6.36410573e-03\n",
            "  8.02985113e-03  7.67947501e-03  1.20446775e-02  7.76215643e-03\n",
            "  1.31693529e-02  2.10837405e-02  3.21938694e-02 -1.91636275e-14\n",
            " -8.49651727e-08 -1.52710600e-05 -5.66633105e-07 -3.04307719e-06]\n",
            "leaky_re_lu_1 has no trainable variables.\n",
            "output_layer has no trainable variables.\n",
            "activation has no trainable variables.\n"
          ]
        }
      ]
    },
    {
      "cell_type": "code",
      "source": [
        "from tensorflow.keras import backend as K\n",
        "K.clear_session()"
      ],
      "metadata": {
        "id": "lnS7OZGki9iU"
      },
      "execution_count": 125,
      "outputs": []
    },
    {
      "cell_type": "code",
      "source": [],
      "metadata": {
        "id": "SmN_y4SyuZH_"
      },
      "execution_count": 118,
      "outputs": []
    }
  ]
}