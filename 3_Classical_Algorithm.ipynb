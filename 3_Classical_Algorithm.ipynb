{
  "cells": [
    {
      "cell_type": "markdown",
      "metadata": {
        "id": "ChtUvgZaYpit"
      },
      "source": [
        "### Local (partial) Recovery through FFT-Like Classical Algorithm (lrc)"
      ]
    },
    {
      "cell_type": "code",
      "execution_count": 1,
      "metadata": {
        "id": "2ig7k4ZIYpix"
      },
      "outputs": [],
      "source": [
        "import numpy as np\n",
        "\n",
        "def padded_generator_matrix(n, w0, z0):\n",
        "    zeta = np.exp(-2j * np.pi / n)\n",
        "    M_tilde = np.array([[(w0 / z0) ** j * zeta**(k * j) for j in range(n)] for k in range(n)], dtype=complex)\n",
        "    return M_tilde\n",
        "\n",
        "def idft(y, n):\n",
        "    n1 = n // 2\n",
        "\n",
        "    if n == 2:\n",
        "        return np.array([y[0] + y[1], y[0] - y[1]]) / 2\n",
        "\n",
        "    elif n >= 4:\n",
        "        q = np.concatenate((y[0:n:2], y[1:n:2]))\n",
        "\n",
        "        b1 = idft(q[:n1], n1)\n",
        "        b2 = idft(q[n1:], n1)\n",
        "\n",
        "        b_out = np.concatenate((b1, b2))\n",
        "\n",
        "        zeta = np.exp(-2j * np.pi / n)\n",
        "        Dn = np.diag([zeta**k for k in range(n1)])\n",
        "        Hn = np.block([[np.eye(n1), np.eye(n1)],\n",
        "                       [Dn, -Dn]])\n",
        "\n",
        "        Hn_conj = np.conjugate(Hn).T\n",
        "        z1 = np.dot(Hn_conj, b_out)\n",
        "        out = z1 / 2\n",
        "        return out\n",
        "\n",
        "def lrc(y, n, q, r, w0, z0):\n",
        "    if n >= 2:\n",
        "        z1 = idft(y, n)\n",
        "\n",
        "        D_hat_n = np.diag([(z0 / w0) ** k for k in range(n)])\n",
        "        z2 = np.dot(D_hat_n, z1)\n",
        "\n",
        "        J_rxn = np.hstack([np.eye(r), np.zeros((r, n - r))])\n",
        "        z3 = np.dot(J_rxn, z2)\n",
        "\n",
        "        z4 = np.abs(z3)\n",
        "\n",
        "        z5 = np.ceil(z4)\n",
        "        # z5 = np.round(z4)\n",
        "\n",
        "        x_tilde = np.mod(z5, q)\n",
        "\n",
        "        return x_tilde\n",
        "\n",
        "    return y"
      ]
    },
    {
      "cell_type": "code",
      "execution_count": 2,
      "metadata": {
        "colab": {
          "base_uri": "https://localhost:8080/"
        },
        "id": "aqg408d4Ypi0",
        "outputId": "0e93b33c-cc8a-4db6-ebfa-c65eb85eed69"
      },
      "outputs": [
        {
          "output_type": "stream",
          "name": "stdout",
          "text": [
            "original message:  [4 4 2 3 1 2 1 2 2 0 1 0 1 2 4 2]\n",
            "\n",
            "encoded message:  [ 579.83402332+0.00000000e+00j  289.81392536+3.06137288e+02j\n",
            "   38.9249984 +3.81907208e+02j -183.6820003 +2.29631017e+02j\n",
            " -192.71745144+7.38099257e+01j -137.72268248-4.31709904e+01j\n",
            "  -60.42968472-3.56890223e+01j  -32.31901244-8.02999114e+01j\n",
            "   40.4297919 -1.05306218e-12j  -32.31901244+8.02999114e+01j\n",
            "  -60.42968472+3.56890223e+01j -137.72268248+4.31709904e+01j\n",
            " -192.71745144-7.38099257e+01j -183.6820003 -2.29631017e+02j\n",
            "   38.9249984 -3.81907208e+02j  289.81392536-3.06137288e+02j]\n",
            "\n",
            "Locally Recovered message: [4. 4. 2.]\n"
          ]
        }
      ],
      "source": [
        "# Example usage\n",
        "n = 16\n",
        "r = 3\n",
        "q = 5\n",
        "\n",
        "w0 = 4\n",
        "z0 = 3\n",
        "\n",
        "x = np.random.randint(0, q, n)\n",
        "print(\"original message: \", x)\n",
        "\n",
        "M_tilde = padded_generator_matrix(n, w0, z0)\n",
        "y = np.dot(M_tilde, x)\n",
        "print(\"\\nencoded message: \", y)\n",
        "\n",
        "x_tilde = lrc(y, n, q, r, w0, z0)\n",
        "print(\"\\nLocally Recovered message:\", x_tilde)"
      ]
    },
    {
      "cell_type": "code",
      "execution_count": 3,
      "metadata": {
        "id": "S0YauXnEYpi1"
      },
      "outputs": [],
      "source": [
        "# 0 is also predicted as 1. (maybe cause of the ceil)"
      ]
    }
  ],
  "metadata": {
    "kernelspec": {
      "display_name": "base",
      "language": "python",
      "name": "python3"
    },
    "language_info": {
      "codemirror_mode": {
        "name": "ipython",
        "version": 3
      },
      "file_extension": ".py",
      "mimetype": "text/x-python",
      "name": "python",
      "nbconvert_exporter": "python",
      "pygments_lexer": "ipython3",
      "version": "3.9.18"
    },
    "colab": {
      "provenance": []
    }
  },
  "nbformat": 4,
  "nbformat_minor": 0
}