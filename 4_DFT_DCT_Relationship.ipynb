{
  "nbformat": 4,
  "nbformat_minor": 0,
  "metadata": {
    "colab": {
      "provenance": []
    },
    "kernelspec": {
      "name": "python3",
      "display_name": "Python 3"
    },
    "language_info": {
      "name": "python"
    }
  },
  "cells": [
    {
      "cell_type": "markdown",
      "source": [
        "# Extracting DCT2 Coefficients using DFT\n",
        "\n",
        "References:\n",
        "- Ahmed, Nasir, T_ Natarajan, and Kamisetty R. Rao. \"Discrete cosine transform.\" IEEE transactions on Computers 100.1 (2006): 90-93.\n",
        "- Strang, Gilbert. \"The discrete cosine transform.\" SIAM review 41.1 (1999): 135-147."
      ],
      "metadata": {
        "id": "LWfVoXbx8UHw"
      }
    },
    {
      "cell_type": "code",
      "source": [
        "import numpy as np\n",
        "from scipy.fftpack import dct"
      ],
      "metadata": {
        "id": "_Bf7YA6k5ZeG"
      },
      "execution_count": null,
      "outputs": []
    },
    {
      "cell_type": "markdown",
      "source": [
        "$$\n",
        "X(j) = \\alpha[j] \\cdot \\operatorname{Re} \\left\\{ e^{-j\\frac{j\\pi}{2n}} \\cdot Z_j \\right\\}, \\quad j = 0, 1, \\dots, n-1,\n",
        "\\\\\n",
        "\\text{where } \\alpha[0] = \\sqrt{\\frac{1}{N}}, \\text{ and } \\alpha[j] = \\sqrt{\\frac{2}{N}} \\text{ for }  j \\in \\{ 1, 2, \\dots , N-1\\}\n",
        "\\\\\n",
        "\\mathbf{Z} = \\mathbf{F}_{2n} \\cdot \\hat{\\mathbf{x}}, \\text{ given that } \\mathbf{F}_{2n} \\in \\mathbb{C}^{2n \\times 2n} \\text{ is the DFT matrix }.\n",
        "$$"
      ],
      "metadata": {
        "id": "SxNeKbk66GVs"
      }
    },
    {
      "cell_type": "code",
      "execution_count": null,
      "metadata": {
        "colab": {
          "base_uri": "https://localhost:8080/"
        },
        "id": "Sp1bCpMV2Ofe",
        "outputId": "e1da62b1-b833-404e-ccda-425c69e7e606"
      },
      "outputs": [
        {
          "output_type": "stream",
          "name": "stdout",
          "text": [
            "\n",
            "Original: [1 2 3 4 5 6 7 8]\n",
            "\n",
            "Padded: [1. 2. 3. 4. 5. 6. 7. 8. 0. 0. 0. 0. 0. 0. 0. 0.]\n",
            "\n",
            "DCT-II coefficients (via FFT): [ 3.60000000e+01 -1.28846460e+01  0.00000000e+00 -1.34690960e+00\n",
            " -4.44089210e-16 -4.01805807e-01  0.00000000e+00 -1.01404646e-01]\n",
            "\n",
            "Reconstructed (via DCT-III): [1. 2. 3. 4. 5. 6. 7. 8.]\n"
          ]
        }
      ],
      "source": [
        "x = np.array([1, 2, 3, 4, 5, 6, 7, 8])\n",
        "n = len(x)\n",
        "\n",
        "x_padded = np.concatenate((x, np.zeros(n)))  # Length 2n\n",
        "\n",
        "X_fft = np.fft.fft(x_padded)\n",
        "\n",
        "k = np.arange(n)\n",
        "rotation = np.exp(-1j * np.pi * k / (2 * n))\n",
        "dct2 = np.real(rotation * X_fft[k])\n",
        "\n",
        "alpha = np.ones(n) * np.sqrt(2 / n)\n",
        "alpha[0] = np.sqrt(1 / n)\n",
        "\n",
        "dct2_orthonormal = (dct2) * alpha\n",
        "\n",
        "x_reconstructed = dct(dct2_orthonormal, type=3, norm='ortho')\n",
        "\n",
        "print(\"\\nOriginal:\", x)\n",
        "print(\"\\nPadded:\", x_padded)\n",
        "print(\"\\nDCT-II coefficients (via FFT):\", dct2)\n",
        "print(\"\\nReconstructed (via DCT-III):\", x_reconstructed)"
      ]
    },
    {
      "cell_type": "code",
      "source": [
        "import numpy as np\n",
        "from scipy.fftpack import dct\n",
        "\n",
        "x = np.array([1, 2, 3, 4, 5, 6, 7, 8])\n",
        "n = len(x)\n",
        "\n",
        "X_fft = np.fft.fft(x)\n",
        "\n",
        "k = np.arange(n)\n",
        "rotation = np.exp(-1j * np.pi * k / (2 * n))\n",
        "dct2 = np.real(rotation * X_fft[k])\n",
        "\n",
        "alpha = np.ones(n) * np.sqrt(2 / n)\n",
        "alpha[0] = np.sqrt(1 / n)\n",
        "\n",
        "dct2_orthonormal = (dct2) * alpha\n",
        "\n",
        "x_reconstructed = dct(dct2_orthonormal, type=3, norm='ortho')\n",
        "\n",
        "x_final = np.concatenate((x_reconstructed[::2], x_reconstructed[1::2][::-1]))\n",
        "\n",
        "print(\"\\nOriginal:\", x)\n",
        "print(\"\\nDCT-II coefficients (via FFT):\", dct2)\n",
        "print(\"\\nReconstructed (via DCT-III):\", x_reconstructed)\n",
        "print(\"\\nPermuted:\", x_final)"
      ],
      "metadata": {
        "colab": {
          "base_uri": "https://localhost:8080/"
        },
        "id": "-47Wway64DTy",
        "outputId": "842c91e1-a91a-4891-c459-49637cb127ff"
      },
      "execution_count": null,
      "outputs": [
        {
          "output_type": "stream",
          "name": "stdout",
          "text": [
            "\n",
            "Original: [1 2 3 4 5 6 7 8]\n",
            "\n",
            "DCT-II coefficients (via FFT): [ 36.          -2.03918232  -2.1647844   -2.40537955  -2.82842712\n",
            "  -3.59990489  -5.22625186 -10.25166179]\n",
            "\n",
            "Reconstructed (via DCT-III): [1. 8. 2. 7. 3. 6. 4. 5.]\n",
            "\n",
            "Permuted: [1. 2. 3. 4. 5. 6. 7. 8.]\n"
          ]
        }
      ]
    },
    {
      "cell_type": "markdown",
      "source": [
        "# Test Case: Generator Matrix Encoded Data"
      ],
      "metadata": {
        "id": "yM2Oo5Yy8wMk"
      }
    },
    {
      "cell_type": "markdown",
      "source": [
        "$$\n",
        "\\text{Generator matrix: } \\quad \\tilde{M}_{kj} = \\left[ \\left( \\frac{w_0}{z_0} \\right)^j \\zeta^{kj} \\right]_{k,j=0}^{n-1} \\\\\n",
        "\\text{DFT matrix: } \\quad F_{kj} = \\left[ \\zeta^{kj} \\right]_{k,j=0}^{n-1} \\\\\n",
        "\\text{where:} \\quad \\zeta = e^{- \\frac{2\\pi i}{n}}\n",
        "$$"
      ],
      "metadata": {
        "id": "PVSoZWPi83GV"
      }
    },
    {
      "cell_type": "code",
      "source": [
        "def padded_generator_matrix(N, w0, z0):\n",
        "    n = np.arange(N)\n",
        "    k = n.reshape((N, 1))\n",
        "    zeta = np.exp(-2j * np.pi / N)\n",
        "    M_tilde = ((w0 / z0) ** n) * (zeta ** (k * n))\n",
        "    return M_tilde\n",
        "\n",
        "x = np.array([1, 2, 3, 4, 5, 6, 7, 8])\n",
        "n = len(x)\n",
        "\n",
        "w0 = 4\n",
        "z0 = 3\n",
        "\n",
        "M_tilde = padded_generator_matrix(n, w0, z0)\n",
        "X_encoded = np.dot(M_tilde, x)\n",
        "\n",
        "k = np.arange(n)\n",
        "rotation = np.exp(-1j * np.pi * k / (2 * n))\n",
        "dct2 = np.real(rotation * X_encoded[k])\n",
        "\n",
        "alpha = np.ones(n) * np.sqrt(2 / n)\n",
        "alpha[0] = np.sqrt(1 / n)\n",
        "\n",
        "dct2_orthonormal = (dct2) * alpha\n",
        "\n",
        "x_reconstructed = dct(dct2_orthonormal, type=3, norm='ortho')\n",
        "\n",
        "x_final = np.concatenate((x_reconstructed[::2], x_reconstructed[1::2][::-1]))\n",
        "\n",
        "D_hat_n = np.array([(z0 / w0) ** k for k in range(n)])\n",
        "x_rescaled = D_hat_n * x_final\n",
        "\n",
        "print(\"\\nOriginal:\", x)\n",
        "print(\"\\nDCT-II coefficients (via FFT):\", dct2)\n",
        "print(\"\\nReconstructed (via DCT-III):\", x_reconstructed)\n",
        "print(\"\\nPermuted:\", x_final)\n",
        "print(\"\\nRescaled:\", x_rescaled)"
      ],
      "metadata": {
        "colab": {
          "base_uri": "https://localhost:8080/"
        },
        "id": "Xuen5idY8ifV",
        "outputId": "9b0a80e6-993d-41ae-c9e0-8177177177d1"
      },
      "execution_count": null,
      "outputs": [
        {
          "output_type": "stream",
          "name": "stdout",
          "text": [
            "\n",
            "Original: [1 2 3 4 5 6 7 8]\n",
            "\n",
            "DCT-II coefficients (via FFT): [158.83081847  21.49734745  -9.87335067 -18.85543959 -25.38374316\n",
            " -33.84998579 -48.96911092 -83.06639977]\n",
            "\n",
            "Reconstructed (via DCT-III): [ 1.         59.93232739  2.66666667 39.33058985  5.33333333 25.28395062\n",
            "  9.48148148 15.80246914]\n",
            "\n",
            "Permuted: [ 1.          2.66666667  5.33333333  9.48148148 15.80246914 25.28395062\n",
            " 39.33058985 59.93232739]\n",
            "\n",
            "Rescaled: [1. 2. 3. 4. 5. 6. 7. 8.]\n"
          ]
        }
      ]
    },
    {
      "cell_type": "code",
      "source": [],
      "metadata": {
        "id": "Ijme_7919b30"
      },
      "execution_count": null,
      "outputs": []
    }
  ]
}
