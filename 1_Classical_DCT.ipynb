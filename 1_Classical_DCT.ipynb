{
  "nbformat": 4,
  "nbformat_minor": 0,
  "metadata": {
    "colab": {
      "provenance": []
    },
    "kernelspec": {
      "name": "python3",
      "display_name": "Python 3"
    },
    "language_info": {
      "name": "python"
    }
  },
  "cells": [
    {
      "cell_type": "markdown",
      "source": [
        "# Test File for Testing DCT2 and DCT3 Algorithms"
      ],
      "metadata": {
        "id": "Nd0iSn9Kbft3"
      }
    },
    {
      "cell_type": "code",
      "source": [
        "%reset -f\n",
        "import gc\n",
        "gc.collect()"
      ],
      "metadata": {
        "colab": {
          "base_uri": "https://localhost:8080/"
        },
        "id": "m1WDDcFevRJ2",
        "outputId": "791d5db6-d7ed-4db6-a6c1-98d092841dc6"
      },
      "execution_count": 1,
      "outputs": [
        {
          "output_type": "execute_result",
          "data": {
            "text/plain": [
              "0"
            ]
          },
          "metadata": {},
          "execution_count": 1
        }
      ]
    },
    {
      "cell_type": "code",
      "execution_count": 2,
      "metadata": {
        "colab": {
          "base_uri": "https://localhost:8080/"
        },
        "id": "Sax6jGjnbb6a",
        "outputId": "fdb98d56-978e-4df8-8349-48b42febb17e"
      },
      "outputs": [
        {
          "output_type": "stream",
          "name": "stdout",
          "text": [
            "[[3 4 2 4 4 1 2 2 2 4 3 2 4 1 3 1]\n",
            " [3 4 0 3 1 4 3 0 0 2 2 1 3 3 2 3]\n",
            " [3 0 2 4 2 4 0 1 3 0 3 1 1 0 1 4]]\n"
          ]
        }
      ],
      "source": [
        "import numpy as np\n",
        "from scipy.fftpack import dct, idct\n",
        "import tensorflow as tf\n",
        "\n",
        "np.random.seed(42)\n",
        "\n",
        "n = 16\n",
        "q = 5\n",
        "num_samples = 3\n",
        "\n",
        "dataset = np.random.randint(0, q, size=(num_samples, n))\n",
        "print(dataset)"
      ]
    },
    {
      "cell_type": "markdown",
      "source": [
        "# **DCT-II**"
      ],
      "metadata": {
        "id": "4Xo8H_9sQlmI"
      }
    },
    {
      "cell_type": "markdown",
      "source": [
        "### Brute Force DCT2"
      ],
      "metadata": {
        "id": "A7bANVajP0xG"
      }
    },
    {
      "cell_type": "markdown",
      "source": [
        "\\begin{equation}\n",
        "    c[k] = \\alpha[k] \\sum_{n=0}^{N-1} x[n] \\cdot \\cos\\left( \\frac{\\pi (2n+1) k}{2N} \\right), \\quad 0 \\leq k \\leq N-1\n",
        "    \\\\\n",
        "    \\text{where } \\alpha[0] = \\sqrt{\\frac{1}{N}}, \\text{ and } \\alpha[k] = \\sqrt{\\frac{2}{N}} \\text{ for }  k \\in \\{ 1, 2, \\dots , N-1\\}\n",
        "\\end{equation}"
      ],
      "metadata": {
        "id": "V6veXSLjR-ab"
      }
    },
    {
      "cell_type": "code",
      "source": [
        "def dct_ii(x):\n",
        "    N = len(x)\n",
        "    v = np.zeros(N)\n",
        "\n",
        "    for k in range(N):\n",
        "        alpha_k = np.sqrt(1/N) if k == 0 else np.sqrt(2/N)\n",
        "        summation = sum(x[n] * np.cos(np.pi * (2 * n + 1) * k / (2 * N)) for n in range(N))\n",
        "        v[k] = alpha_k * summation\n",
        "\n",
        "    return np.round(v,4)"
      ],
      "metadata": {
        "id": "5c6I8efjQgEu"
      },
      "execution_count": 3,
      "outputs": []
    },
    {
      "cell_type": "markdown",
      "source": [
        "### Recursive Radix-2 DCT-II"
      ],
      "metadata": {
        "id": "o_ms8ACQQaQn"
      }
    },
    {
      "cell_type": "markdown",
      "source": [
        "DCT-II Structure\n",
        "$$\n",
        "C^{II}_n = P^T_n\n",
        "\\begin{bmatrix}\n",
        "I_{\\frac{n}{2}} & 0 \\\\\n",
        "0 & B_{\\frac{n}{2}}\n",
        "\\end{bmatrix}\n",
        "\\begin{bmatrix}\n",
        "C^{II}_{\\frac{n}{2}} & 0 \\\\\n",
        "0 & C^{II}_{\\frac{n}{2}}\n",
        "\\end{bmatrix}\n",
        "\\begin{bmatrix}\n",
        "I_{\\frac{n}{2}} & 0 \\\\\n",
        "0 & [W_c]_{\\frac{n}{2}}\n",
        "\\end{bmatrix}\n",
        "\\bar{H}_n\n",
        "$$\n",
        "\n",
        "Bidiagonal Matrix\n",
        "\n",
        "$$\n",
        "B_{\\frac{n}{2}} =\n",
        "\\begin{bmatrix}\n",
        "\\sqrt{2} & 1 &  &  &  \\\\\n",
        " & 1 & 1 &  &  \\\\\n",
        " &  & \\ddots & \\ddots &  \\\\\n",
        " &  &  & \\ddots & 1 \\\\\n",
        " &  &  &  & 1\n",
        "\\end{bmatrix}\n",
        "$$\n",
        "\n",
        "Diagonal (weight) matrix\n",
        "\n",
        "$$\n",
        "[W_c]_{\\frac{n}{2}} = \\operatorname{diag} \\left[ \\left( \\frac{\\sec\\left(\\frac{(2k-1)\\pi}{2n}\\right)}{2} \\right) \\right]_{k=1}^{\\frac{n}{2}}\n",
        "$$\n",
        "\n",
        "Orthogonal matrix (Hadarmard)\n",
        "\n",
        "$$\n",
        "\\overline{H}_n = \\frac{1}{\\sqrt{2}}\n",
        "\\begin{bmatrix}\n",
        "I_{\\frac{n}{2}} & \\tilde{I}_{\\frac{n}{2}} \\\\\n",
        "I_{\\frac{n}{2}} & -\\tilde{I}_{\\frac{n}{2}}\n",
        "\\end{bmatrix}\n",
        "$$"
      ],
      "metadata": {
        "id": "gw6C4lLzQeDR"
      }
    },
    {
      "cell_type": "code",
      "source": [
        "def cos2(x, n):\n",
        "    if n == 2:\n",
        "        H_2 = (1 / np.sqrt(2)) * np.array([[1, 1], [1, -1]])\n",
        "        return H_2 @ x\n",
        "    else:\n",
        "        # recursive case: n >= 4\n",
        "        n1 = n // 2\n",
        "\n",
        "        # Orthogonal matrix (Hadamard-like)\n",
        "        I_half = np.eye(n1)\n",
        "        I_tilde_half = np.flip(I_half, axis=1)\n",
        "        H = np.block([\n",
        "            [I_half, I_tilde_half],\n",
        "            [I_half, -I_tilde_half]\n",
        "        ])\n",
        "        H_n = (1 / np.sqrt(2)) * H\n",
        "        u = H_n @ x\n",
        "\n",
        "        # Diagonal weight matrix [W_c] - matrix 3\n",
        "        W_entries = [1] * n1 + [ (1 / np.cos((2*k - 1)*np.pi / (2*n))) / 2 for k in range(1, n1+1) ]\n",
        "        W_c = np.diag(W_entries)\n",
        "        v = W_c @ u\n",
        "\n",
        "        # Recursive DCT-II on halves - matrix 2\n",
        "        z1 = cos2(v[:n1], n1)\n",
        "        z2 = cos2(v[n1:], n1)\n",
        "\n",
        "        # Bidiagonal matrix\n",
        "        B = np.eye(n1)\n",
        "        np.fill_diagonal(B[:-1, 1:], 1)\n",
        "        B[0, 0] = np.sqrt(2)\n",
        "        B_c = np.block([\n",
        "            [np.eye(n1), np.zeros((n1, n1))],\n",
        "            [np.zeros((n1, n1)), B]\n",
        "        ])\n",
        "        w = B_c @ np.concatenate([z1, z2])\n",
        "\n",
        "        y_my = np.concatenate([w[::2], w[1::2]])\n",
        "        # print(\"\\ny_my: \", y_my)\n",
        "        # Permutation (bit-reversal-like)\n",
        "        perm = np.arange(n).reshape(2, -1).T.flatten()\n",
        "        # print(\"\\nperm: \", perm)\n",
        "        y = w[perm]\n",
        "        # print(\"\\ny_perm: \", y)\n",
        "\n",
        "        return y"
      ],
      "metadata": {
        "id": "5Z6sHQ4RQytr"
      },
      "execution_count": 4,
      "outputs": []
    },
    {
      "cell_type": "markdown",
      "source": [
        "# **DCT-III**"
      ],
      "metadata": {
        "id": "jUoiRJvyQ5YS"
      }
    },
    {
      "cell_type": "markdown",
      "source": [
        "### Brute Force DCT3"
      ],
      "metadata": {
        "id": "S45FNDILRbjm"
      }
    },
    {
      "cell_type": "code",
      "source": [
        "def dct_iii(v):\n",
        "    N = len(v)\n",
        "    x = np.zeros(N)\n",
        "\n",
        "    for n in range(N):\n",
        "        summation = 0\n",
        "        for k in range(N):\n",
        "            alpha_k = np.sqrt(1/N) if k == 0 else np.sqrt(2/N)\n",
        "            summation += alpha_k * v[k] * np.cos(np.pi * (2 * n + 1) * k / (2 * N))\n",
        "        x[n] = summation\n",
        "\n",
        "    return np.round(x, 4)"
      ],
      "metadata": {
        "id": "0uY43GGSR855"
      },
      "execution_count": 5,
      "outputs": []
    },
    {
      "cell_type": "markdown",
      "source": [
        "### Recursive Radix-2 DCT-III"
      ],
      "metadata": {
        "id": "PGYq1Si7Qw8k"
      }
    },
    {
      "cell_type": "markdown",
      "source": [
        "DCT-III\n",
        "$$\n",
        "C_n^{III} = \\overline{H}_n^T\n",
        "\\begin{bmatrix}\n",
        "I_{\\frac{n}{2}} & 0 \\\\\n",
        "0 & [W_c]_{\\frac{n}{2}}\n",
        "\\end{bmatrix}\n",
        "\\begin{bmatrix}\n",
        "C_{\\frac{n}{2}}^{III} & 0 \\\\\n",
        "0 & C_{\\frac{n}{2}}^{III}\n",
        "\\end{bmatrix}\n",
        "\\begin{bmatrix}\n",
        "I_{\\frac{n}{2}} & 0 \\\\\n",
        "0 & B_{\\frac{n}{2}}^T\n",
        "\\end{bmatrix}\n",
        "P_n\n",
        "$$\n",
        "\n",
        "Bidiagonal Matrix\n",
        "\n",
        "$$\n",
        "B_{\\frac{n}{2}} =\n",
        "\\begin{bmatrix}\n",
        "\\sqrt{2} & 1 &  &  &  \\\\\n",
        " & 1 & 1 &  &  \\\\\n",
        " &  & \\ddots & \\ddots &  \\\\\n",
        " &  &  & \\ddots & 1 \\\\\n",
        " &  &  &  & 1\n",
        "\\end{bmatrix}\n",
        "$$\n",
        "\n",
        "Diagonal (weight) matrix\n",
        "\n",
        "$$\n",
        "[W_c]_{\\frac{n}{2}} = \\operatorname{diag} \\left[ \\left( \\frac{\\sec\\left(\\frac{(2k-1)\\pi}{2n}\\right)}{2} \\right) \\right]_{k=1}^{\\frac{n}{2}}\n",
        "$$\n",
        "\n",
        "Orthogonal matrix (Hadarmard)\n",
        "\n",
        "$$\n",
        "\\overline{H}_n = \\frac{1}{\\sqrt{2}}\n",
        "\\begin{bmatrix}\n",
        "I_{\\frac{n}{2}} & \\tilde{I}_{\\frac{n}{2}} \\\\\n",
        "I_{\\frac{n}{2}} & -\\tilde{I}_{\\frac{n}{2}}\n",
        "\\end{bmatrix}\n",
        "$$"
      ],
      "metadata": {
        "id": "bgonr9OrQtaQ"
      }
    },
    {
      "cell_type": "code",
      "source": [
        "def cos3(x, n):\n",
        "    if n == 2:\n",
        "        # base case: n = 2\n",
        "        H_2 = (1 / np.sqrt(2)) * np.array([[1, 1], [1, -1]])\n",
        "        y = H_2 @ x\n",
        "        return y\n",
        "\n",
        "    else:\n",
        "        # recursive case: n >= 4\n",
        "        n1 = n // 2\n",
        "\n",
        "        # Step 1: Permutation P_n\n",
        "        P_n = np.concatenate([x[::2], x[1::2]])\n",
        "\n",
        "        # Step 2: Apply B_c^T\n",
        "        B = np.eye(n1)\n",
        "        np.fill_diagonal(B[:-1, 1:], 1)\n",
        "        B[0, 0] = np.sqrt(2)\n",
        "\n",
        "        B_c_T = np.block([\n",
        "            [np.eye(n1), np.zeros((n1, n1))],\n",
        "            [np.zeros((n1, n1)), B.T]\n",
        "        ])\n",
        "        u = B_c_T @ P_n\n",
        "\n",
        "        # Step 3: Recursive calls for z1 and z2\n",
        "        z1 = cos3(u[:n1], n1)\n",
        "        z2 = cos3(u[n1:], n1)\n",
        "\n",
        "        # Step 4: Combine results using W_c\n",
        "        # n1 amount of 1s and n1 amount of Ws\n",
        "        W_c = np.diag([1] * n1 + [1 / np.cos((2 * k - 1) * np.pi / (2 * n)) / 2 for k in range(1, n1 + 1)])\n",
        "        w = W_c @ np.concatenate([z1, z2])\n",
        "\n",
        "        # Step 5: Apply H_n^T\n",
        "        I_half = np.eye(n1)\n",
        "        I_tilde_half = np.flip(I_half, axis=1)\n",
        "        H = np.block([\n",
        "            [I_half, I_tilde_half],\n",
        "            [I_half, -I_tilde_half]\n",
        "        ])\n",
        "        H_n_T = (1 / np.sqrt(2)) * H.T\n",
        "        y = H_n_T @ w\n",
        "\n",
        "        return y"
      ],
      "metadata": {
        "id": "8wBxIPbKulbv"
      },
      "execution_count": 6,
      "outputs": []
    },
    {
      "cell_type": "markdown",
      "source": [
        "### Recursive Radix-2 DCT-III without implicit matrix multiplications"
      ],
      "metadata": {
        "id": "l0uUI68aRMq8"
      }
    },
    {
      "cell_type": "code",
      "source": [
        "def DCT3(x, n):\n",
        "    if n == 2:\n",
        "        H_2 = (1 / tf.sqrt(2.0)) * tf.constant([[1, 1], [1, -1]], dtype=tf.float32)\n",
        "        y = tf.matmul(H_2, tf.transpose(x))\n",
        "        return tf.transpose(y)\n",
        "\n",
        "    else:\n",
        "        n1 = n // 2\n",
        "\n",
        "        x = tf.convert_to_tensor(x, dtype=tf.float32)\n",
        "\n",
        "        # Permutation\n",
        "        even = x[:, ::2]\n",
        "        odd = x[:, 1::2]\n",
        "\n",
        "        # B^T\n",
        "        diag = tf.ones(n1, dtype=tf.float32)\n",
        "        diag = tf.tensor_scatter_nd_update(diag, [[0]], [tf.sqrt(2.0)])\n",
        "        super_diag = tf.ones(n1, dtype=tf.float32)\n",
        "\n",
        "        d1 = tf.multiply(odd, diag)\n",
        "        d2 = tf.multiply(tf.concat([tf.zeros_like(odd[:, :1]), odd[:, :-1]], axis=1), super_diag)\n",
        "        B_n = tf.add(d1, d2)\n",
        "        u = tf.concat([even, B_n], axis=1)\n",
        "\n",
        "        # Recursive DCTIII\n",
        "        z1 = DCT3(u[:, :n1], n1)\n",
        "        z2 = DCT3(u[:, n1:], n1)\n",
        "        recurs_out = tf.concat([z1, z2], axis=1)\n",
        "\n",
        "        # W_c\n",
        "        k = tf.range(1, n1 + 1, dtype=tf.float32)\n",
        "        W_c = 1 / (2 * tf.cos((2 * k - 1) * (tf.constant(np.pi, dtype=tf.float32) / (2 * n))))\n",
        "        W_n = tf.multiply(recurs_out[:, n1:], W_c)\n",
        "        v = tf.concat([recurs_out[:, :n1], W_n], axis=1)\n",
        "\n",
        "        # H_n\n",
        "        out1 = v[:, :n1]\n",
        "        out2 = v[:, n1:]\n",
        "        y = (1 / tf.sqrt(tf.constant(2.0, dtype=tf.float32))) * tf.concat(\n",
        "                [(out1 + out2), tf.reverse((out1 - out2), axis=[1])],\n",
        "                axis=1\n",
        "            )\n",
        "\n",
        "        return y"
      ],
      "metadata": {
        "id": "cSok5oCwcIIr"
      },
      "execution_count": 7,
      "outputs": []
    },
    {
      "cell_type": "markdown",
      "source": [
        "# Test Cases"
      ],
      "metadata": {
        "id": "ocf4WZmBcOCa"
      }
    },
    {
      "cell_type": "code",
      "source": [
        "for i, message in enumerate(dataset):\n",
        "    print(f\"\\nOriginal Message {i+1}: {message}\")\n",
        "\n",
        "    brute_force_encode = dct_ii(message)\n",
        "    print(\"DCT-II (brute):\", np.round(brute_force_encode, 4))\n",
        "\n",
        "    cos2_encode = cos2(message, n)\n",
        "    print(\"DCT-II (recursive):\", np.round(cos2_encode, 4))\n",
        "\n",
        "    scipy_encode = dct(message, type=2, norm='ortho')\n",
        "    print(\"DCT-II (scipy):   \", np.round(scipy_encode, 4))\n",
        "\n",
        "    print(\"Match brute & scipy:\", np.allclose(brute_force_encode, scipy_encode))\n",
        "    print(\"Match recursive & scipy:\", np.allclose(cos2_encode, scipy_encode))\n",
        "    print(\"Match brute & recursive:\", np.allclose(brute_force_encode, cos2_encode))"
      ],
      "metadata": {
        "colab": {
          "base_uri": "https://localhost:8080/"
        },
        "id": "GRu-ktn6cUEr",
        "outputId": "a9c19623-c0f6-44ec-f8cb-277e1a1d490b"
      },
      "execution_count": 8,
      "outputs": [
        {
          "output_type": "stream",
          "name": "stdout",
          "text": [
            "\n",
            "Original Message 1: [3 4 2 4 4 1 2 2 2 4 3 2 4 1 3 1]\n",
            "DCT-II (brute): [10.5     1.2638  0.2355  1.5623 -1.1481 -0.9726 -0.1151  1.1637  0.5\n",
            "  0.3082  0.1722 -1.0868 -2.7716  0.9964 -1.1839  0.6269]\n",
            "DCT-II (recursive): [10.5     1.2638  0.2355  1.5623 -1.1481 -0.9726 -0.1151  1.1637  0.5\n",
            "  0.3082  0.1722 -1.0868 -2.7716  0.9964 -1.1839  0.6269]\n",
            "DCT-II (scipy):    [10.5     1.2638  0.2355  1.5623 -1.1481 -0.9726 -0.1151  1.1637  0.5\n",
            "  0.3082  0.1722 -1.0868 -2.7716  0.9964 -1.1839  0.6269]\n",
            "Match brute & scipy: False\n",
            "Match recursive & scipy: True\n",
            "Match brute & recursive: False\n",
            "\n",
            "Original Message 2: [3 4 0 3 1 4 3 0 0 2 2 1 3 3 2 3]\n",
            "DCT-II (brute): [ 8.5     0.1772  2.0612 -0.6324 -0.3827  1.6896  1.9494  0.5751 -1.5\n",
            " -0.8257  1.8007 -0.7953 -0.9239 -1.7571 -2.0515 -0.9905]\n",
            "DCT-II (recursive): [ 8.5     0.1772  2.0612 -0.6324 -0.3827  1.6896  1.9494  0.5751 -1.5\n",
            " -0.8257  1.8007 -0.7953 -0.9239 -1.7571 -2.0515 -0.9905]\n",
            "DCT-II (scipy):    [ 8.5     0.1772  2.0612 -0.6324 -0.3827  1.6896  1.9494  0.5751 -1.5\n",
            " -0.8257  1.8007 -0.7953 -0.9239 -1.7571 -2.0515 -0.9905]\n",
            "Match brute & scipy: False\n",
            "Match recursive & scipy: True\n",
            "Match brute & recursive: False\n",
            "\n",
            "Original Message 3: [3 0 2 4 2 4 0 1 3 0 3 1 1 0 1 4]\n",
            "DCT-II (brute): [ 7.25    1.075   0.4901 -1.4517 -0.1025 -2.1197  2.1539  0.2237  2.25\n",
            "  0.0182  0.4856  1.5002  3.019  -0.5364 -2.1529  0.3936]\n",
            "DCT-II (recursive): [ 7.25    1.075   0.4901 -1.4517 -0.1025 -2.1197  2.1539  0.2237  2.25\n",
            "  0.0182  0.4856  1.5002  3.019  -0.5364 -2.1529  0.3936]\n",
            "DCT-II (scipy):    [ 7.25    1.075   0.4901 -1.4517 -0.1025 -2.1197  2.1539  0.2237  2.25\n",
            "  0.0182  0.4856  1.5002  3.019  -0.5364 -2.1529  0.3936]\n",
            "Match brute & scipy: False\n",
            "Match recursive & scipy: True\n",
            "Match brute & recursive: False\n"
          ]
        }
      ]
    },
    {
      "cell_type": "code",
      "source": [
        "for i, message in enumerate(dataset):\n",
        "    print(f\"\\nOriginal Message {i+1}: {message}\")\n",
        "\n",
        "    encoded = cos2(message, n)\n",
        "    # encoded = dct(message, type=2, norm='ortho')\n",
        "\n",
        "    brute_decoded = dct_iii(encoded)\n",
        "    print(\"DCT-III (brute):\", np.round(brute_decoded, 4))\n",
        "\n",
        "    cos3_decoded = cos3(encoded, n)\n",
        "    print(\"DCT-III (cos3):\", np.round(cos3_decoded, 4))\n",
        "\n",
        "    scipy_decoded = dct(encoded, type=3, norm='ortho')\n",
        "    print(\"DCT-III (scipy):   \", np.round(scipy_decoded, 4))\n",
        "\n",
        "    # For TensorFlow version: reshape as batch (1, n)\n",
        "    tf_input = np.expand_dims(encoded, axis=0)\n",
        "    DCT3_decoded = DCT3(tf_input, n).numpy()[0]\n",
        "    print(\"DCT-III (DCT3):      \", np.round(DCT3_decoded, 4))\n",
        "\n",
        "    # Compare all\n",
        "    print(\"Match brute & scipy:\", np.allclose(brute_decoded, scipy_decoded))\n",
        "    print(\"Match cos3 & scipy:\", np.allclose(cos3_decoded, scipy_decoded))\n",
        "    print(\"Match DCT3 & scipy:\", np.allclose(DCT3_decoded, scipy_decoded))\n",
        "    print(\"Match DCT3 & cos3:\", np.allclose(DCT3_decoded, cos3_decoded))"
      ],
      "metadata": {
        "colab": {
          "base_uri": "https://localhost:8080/"
        },
        "id": "BWRwqL7pU8zL",
        "outputId": "ef5b9e82-3864-4dcf-bd59-268a897b6e07"
      },
      "execution_count": 9,
      "outputs": [
        {
          "output_type": "stream",
          "name": "stdout",
          "text": [
            "\n",
            "Original Message 1: [3 4 2 4 4 1 2 2 2 4 3 2 4 1 3 1]\n",
            "DCT-III (brute): [3. 4. 2. 4. 4. 1. 2. 2. 2. 4. 3. 2. 4. 1. 3. 1.]\n",
            "DCT-III (cos3): [3. 4. 2. 4. 4. 1. 2. 2. 2. 4. 3. 2. 4. 1. 3. 1.]\n",
            "DCT-III (scipy):    [3. 4. 2. 4. 4. 1. 2. 2. 2. 4. 3. 2. 4. 1. 3. 1.]\n",
            "DCT-III (DCT3):       [3. 4. 2. 4. 4. 1. 2. 2. 2. 4. 3. 2. 4. 1. 3. 1.]\n",
            "Match brute & scipy: True\n",
            "Match cos3 & scipy: True\n",
            "Match DCT3 & scipy: True\n",
            "Match DCT3 & cos3: True\n",
            "\n",
            "Original Message 2: [3 4 0 3 1 4 3 0 0 2 2 1 3 3 2 3]\n",
            "DCT-III (brute): [3. 4. 0. 3. 1. 4. 3. 0. 0. 2. 2. 1. 3. 3. 2. 3.]\n",
            "DCT-III (cos3): [ 3.  4.  0.  3.  1.  4.  3.  0. -0.  2.  2.  1.  3.  3.  2.  3.]\n",
            "DCT-III (scipy):    [ 3.  4. -0.  3.  1.  4.  3.  0.  0.  2.  2.  1.  3.  3.  2.  3.]\n",
            "DCT-III (DCT3):       [ 3.  4. -0.  3.  1.  4.  3. -0. -0.  2.  2.  1.  3.  3.  2.  3.]\n",
            "Match brute & scipy: True\n",
            "Match cos3 & scipy: True\n",
            "Match DCT3 & scipy: False\n",
            "Match DCT3 & cos3: False\n",
            "\n",
            "Original Message 3: [3 0 2 4 2 4 0 1 3 0 3 1 1 0 1 4]\n",
            "DCT-III (brute): [ 3. -0.  2.  4.  2.  4. -0.  1.  3. -0.  3.  1.  1.  0.  1.  4.]\n",
            "DCT-III (cos3): [ 3.  0.  2.  4.  2.  4.  0.  1.  3. -0.  3.  1.  1.  0.  1.  4.]\n",
            "DCT-III (scipy):    [3. 0. 2. 4. 2. 4. 0. 1. 3. 0. 3. 1. 1. 0. 1. 4.]\n",
            "DCT-III (DCT3):       [ 3.  0.  2.  4.  2.  4. -0.  1.  3. -0.  3.  1.  1. -0.  1.  4.]\n",
            "Match brute & scipy: True\n",
            "Match cos3 & scipy: True\n",
            "Match DCT3 & scipy: False\n",
            "Match DCT3 & cos3: False\n"
          ]
        }
      ]
    },
    {
      "cell_type": "markdown",
      "source": [
        "**Core Reason: Floating Point Precision + TensorFlow Ops**\n",
        "- cos3 version uses NumPy and native matrix multiplication, which are double-precision (float64) by default and are more numerically stable for small-scale matrix ops.\n",
        "- DCT3 version uses TensorFlow ops, which default to float32, and includes elementwise operations instead of matrix multiplications, which:\n",
        "-Reduce computation,\n",
        "- But also accumulate more rounding errors due to less precise handling in intermediate steps."
      ],
      "metadata": {
        "id": "M4iuuLyq4YY_"
      }
    },
    {
      "cell_type": "code",
      "source": [],
      "metadata": {
        "id": "gEnRYGjr4i_8"
      },
      "execution_count": 9,
      "outputs": []
    }
  ]
}