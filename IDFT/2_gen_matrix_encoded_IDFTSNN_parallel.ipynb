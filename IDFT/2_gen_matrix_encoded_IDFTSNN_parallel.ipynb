{
 "cells": [
  {
   "cell_type": "markdown",
   "metadata": {},
   "source": [
    "### DFTSNN - Generator Matrix Encoded dataset"
   ]
  },
  {
   "cell_type": "markdown",
   "metadata": {},
   "source": [
    "The dataset is encoded using the padded generator matrix. the imaginary and real values are parellel processed until concatenation. This mimics the IDFT SNN. One additional layer is included to account for the scaling diagonal matrix $\\hat{D}_n$ in the classical algorithm."
   ]
  },
  {
   "cell_type": "code",
   "execution_count": 1,
   "metadata": {},
   "outputs": [],
   "source": [
    "# (r + 1) | (q - 1)\n",
    "# (r + 1) | n\n",
    "# q is a prime number\n",
    "# n = 2^t\n",
    "# r < n"
   ]
  },
  {
   "cell_type": "code",
   "execution_count": 2,
   "metadata": {},
   "outputs": [
    {
     "data": {
      "text/plain": [
       "0"
      ]
     },
     "execution_count": 2,
     "metadata": {},
     "output_type": "execute_result"
    }
   ],
   "source": [
    "%reset -f\n",
    "import gc\n",
    "gc.collect()"
   ]
  },
  {
   "cell_type": "code",
   "execution_count": 3,
   "metadata": {},
   "outputs": [
    {
     "name": "stdout",
     "output_type": "stream",
     "text": [
      "Original n: 16\n",
      "Padded n: 16\n",
      "Generated dataset shape: (1000, 16)\n"
     ]
    }
   ],
   "source": [
    "import numpy as np\n",
    "\n",
    "np.random.seed(42)\n",
    "\n",
    "n = 16\n",
    "q = 5\n",
    "num_samples = 1000\n",
    "\n",
    "def next_power_of_two(x):\n",
    "    return 1 if x == 0 else 2**(x - 1).bit_length()\n",
    "\n",
    "n_padded = next_power_of_two(n)\n",
    "\n",
    "dataset = np.random.randint(0, q, size=(num_samples, n))\n",
    "\n",
    "if n_padded > n:\n",
    "    pad_width = n_padded - n\n",
    "    dataset = np.pad(dataset, ((0, 0), (0, pad_width)), mode='constant', constant_values=0)\n",
    "\n",
    "print(\"Original n:\", n)\n",
    "print(\"Padded n:\", n_padded)\n",
    "print(\"Generated dataset shape:\", dataset.shape)"
   ]
  },
  {
   "cell_type": "code",
   "execution_count": 4,
   "metadata": {},
   "outputs": [
    {
     "name": "stdout",
     "output_type": "stream",
     "text": [
      "[[3 4 2 ... 1 3 1]\n",
      " [3 4 0 ... 3 2 3]\n",
      " [3 0 2 ... 0 1 4]\n",
      " ...\n",
      " [4 4 4 ... 0 2 2]\n",
      " [4 2 4 ... 4 0 0]\n",
      " [2 2 2 ... 0 4 2]]\n",
      "(1000, 16)\n",
      "(16,)\n"
     ]
    }
   ],
   "source": [
    "print(dataset)\n",
    "print(dataset.shape)\n",
    "print(dataset[0].shape)"
   ]
  },
  {
   "cell_type": "markdown",
   "metadata": {},
   "source": [
    "$$\n",
    "\\tilde{M}_{kj} = \\left[ \\left( \\frac{w_0}{z_0} \\right)^j \\zeta^{kj} \\right]_{k,j=0}^{n-1}\n",
    "$$"
   ]
  },
  {
   "cell_type": "code",
   "execution_count": 5,
   "metadata": {},
   "outputs": [],
   "source": [
    "def padded_generator_matrix(n, w0, z0):\n",
    "    zeta = np.exp(-2j * np.pi / n)\n",
    "    M_tilde = np.array([[(w0 / z0) ** j * zeta**(k * j) for j in range(n)] for k in range(n)], dtype=complex)\n",
    "    return M_tilde"
   ]
  },
  {
   "cell_type": "code",
   "execution_count": 6,
   "metadata": {},
   "outputs": [
    {
     "name": "stdout",
     "output_type": "stream",
     "text": [
      "(16, 16)\n"
     ]
    }
   ],
   "source": [
    "# (x, y, z, w) --> (1, 2, 3, 4)\n",
    "w0 = 4\n",
    "z0 = 3\n",
    "\n",
    "M_tilde = padded_generator_matrix(n_padded, w0, z0)\n",
    "print(M_tilde.shape)"
   ]
  },
  {
   "cell_type": "code",
   "execution_count": 7,
   "metadata": {},
   "outputs": [
    {
     "name": "stdout",
     "output_type": "stream",
     "text": [
      "[[ 649.89449698  +0.j           69.97998169+371.13335899j\n",
      "   -83.92481787+137.40000024j ...  -88.37954911-103.22398682j\n",
      "   -83.92481787-137.40000024j   69.97998169-371.13335899j]\n",
      " [ 695.87003951  +0.j          268.59479107+394.57072111j\n",
      "   -36.50274968+309.16102475j ...  -47.36788425-179.88976988j\n",
      "   -36.50274968-309.16102475j  268.59479107-394.57072111j]\n",
      " [ 540.63797786  +0.j          235.29809241+209.31041098j\n",
      "   176.66145652+204.71795948j ...  108.87153914-320.22828928j\n",
      "   176.66145652-204.71795948j  235.29809241-209.31041098j]\n",
      " ...\n",
      " [ 460.45123158  +0.j          162.64910275+168.11969395j\n",
      "    54.45039471+219.81284778j ...  -26.91067254-124.72256855j\n",
      "    54.45039471-219.81284778j  162.64910275-168.11969395j]\n",
      " [ 558.17613119  +0.j          -92.41727316+362.85897707j\n",
      "  -228.64175513 +13.85662093j ...  -76.51498185+176.39278765j\n",
      "  -228.64175513 -13.85662093j  -92.41727316-362.85897707j]\n",
      " [ 671.99178181  +0.j          161.97417378+352.04621278j\n",
      "    43.09272997+244.01831359j ...  -56.20864468-237.97753496j\n",
      "    43.09272997-244.01831359j  161.97417378-352.04621278j]]\n"
     ]
    }
   ],
   "source": [
    "encoded_dataset = np.array([np.dot(M_tilde, x) for x in dataset])\n",
    "encoded_dataset[np.abs(encoded_dataset) < 1e-10] = 0\n",
    "encoded_dataset = np.round(encoded_dataset, decimals=10)\n",
    "print(encoded_dataset)"
   ]
  },
  {
   "cell_type": "code",
   "execution_count": 8,
   "metadata": {},
   "outputs": [
    {
     "name": "stdout",
     "output_type": "stream",
     "text": [
      "(1000, 16)\n"
     ]
    }
   ],
   "source": [
    "print(encoded_dataset.shape)"
   ]
  },
  {
   "cell_type": "code",
   "execution_count": 9,
   "metadata": {},
   "outputs": [
    {
     "name": "stdout",
     "output_type": "stream",
     "text": [
      "[3 4 2 4 4 1 2 2 2 4 3 2 4 1 3 1]\n",
      "[ 649.89449698  +0.j           69.97998169+371.13335899j\n",
      "  -83.92481787+137.40000024j  -88.37954911+103.22398682j\n",
      "  -74.53901813 +41.73652084j  -97.48254893 +37.96448017j\n",
      " -147.95858217-108.15626408j   47.97234649-148.66691513j\n",
      "  146.76987906  -0.j           47.97234649+148.66691513j\n",
      " -147.95858217+108.15626408j  -97.48254893 -37.96448017j\n",
      "  -74.53901813 -41.73652084j  -88.37954911-103.22398682j\n",
      "  -83.92481787-137.40000024j   69.97998169-371.13335899j]\n"
     ]
    }
   ],
   "source": [
    "print(dataset[0])\n",
    "print(encoded_dataset[0])"
   ]
  },
  {
   "cell_type": "code",
   "execution_count": 10,
   "metadata": {},
   "outputs": [],
   "source": [
    "# Normalize to zero mean and unit variance - output results of normalizing made unseen data converge to q-1\n",
    "# encoded_dataset = (encoded_dataset - np.mean(encoded_dataset, axis=0)) / np.std(encoded_dataset, axis=0)\n",
    "# print(encoded_dataset[0])"
   ]
  },
  {
   "cell_type": "code",
   "execution_count": 11,
   "metadata": {},
   "outputs": [
    {
     "name": "stdout",
     "output_type": "stream",
     "text": [
      "\n",
      "X_train_real : (1000, 16)\n",
      "[ 649.8945     69.97998   -83.92482   -88.37955   -74.53902   -97.48255\n",
      " -147.95859    47.972347  146.76988    47.972347 -147.95859   -97.48255\n",
      "  -74.53902   -88.37955   -83.92482    69.97998 ]\n",
      "\n",
      "X_train_imag : (1000, 16)\n",
      "[   0.        371.13336   137.4       103.22398    41.736523   37.96448\n",
      " -108.156265 -148.66692    -0.        148.66692   108.156265  -37.96448\n",
      "  -41.736523 -103.22398  -137.4      -371.13336 ]\n"
     ]
    }
   ],
   "source": [
    "X_real = np.real(encoded_dataset).astype(np.float32)\n",
    "X_imag = np.imag(encoded_dataset).astype(np.float32)\n",
    "\n",
    "print(\"\\nX_train_real :\", X_real.shape)\n",
    "print(X_real[0])\n",
    "print(\"\\nX_train_imag :\", X_imag.shape)\n",
    "print(X_imag[0])"
   ]
  },
  {
   "cell_type": "code",
   "execution_count": 12,
   "metadata": {},
   "outputs": [
    {
     "name": "stdout",
     "output_type": "stream",
     "text": [
      "y: \n",
      "[3. 4. 2. 4. 4. 1. 2. 2. 2. 4. 3. 2. 4. 1. 3. 1.]\n",
      "\n",
      "y_normalized: \n",
      "[0.75 1.   0.5  1.   1.   0.25 0.5  0.5  0.5  1.   0.75 0.5  1.   0.25\n",
      " 0.75 0.25]\n"
     ]
    }
   ],
   "source": [
    "# normalize target data (integers 0-q to [0, 1])\n",
    "y_normalized = dataset.astype(np.float32) / (q - 1)  # Scale to [0, 1]\n",
    "print(\"y: \")\n",
    "print(dataset.astype(np.float32)[0])\n",
    "print(\"\\ny_normalized: \")\n",
    "print(y_normalized[0])\n",
    "\n",
    "labels = y_normalized"
   ]
  },
  {
   "cell_type": "code",
   "execution_count": 13,
   "metadata": {},
   "outputs": [
    {
     "name": "stdout",
     "output_type": "stream",
     "text": [
      "Training data shapes: X_real: (800, 16) X_imag: (800, 16) y: (800, 16)\n",
      "Testing data shapes: X_real: (200, 16) X_imag: (200, 16) y: (200, 16)\n"
     ]
    }
   ],
   "source": [
    "from sklearn.model_selection import train_test_split\n",
    "\n",
    "X_real_train, X_real_test, y_train, y_test = train_test_split(\n",
    "    X_real, labels, test_size=0.2, random_state=42\n",
    ")\n",
    "\n",
    "X_imag_train, X_imag_test, _, _ = train_test_split(\n",
    "    X_imag, labels, test_size=0.2, random_state=42\n",
    ")\n",
    "\n",
    "print(\"Training data shapes: X_real:\", X_real_train.shape, \"X_imag:\", X_imag_train.shape, \"y:\", y_train.shape)\n",
    "print(\"Testing data shapes: X_real:\", X_real_test.shape, \"X_imag:\", X_imag_test.shape, \"y:\", y_test.shape)"
   ]
  },
  {
   "cell_type": "code",
   "execution_count": 14,
   "metadata": {},
   "outputs": [
    {
     "name": "stdout",
     "output_type": "stream",
     "text": [
      "16\n",
      "16\n",
      "16\n",
      "16\n",
      "16\n",
      "16\n"
     ]
    }
   ],
   "source": [
    "print(X_real_train.shape[1])\n",
    "print(X_real_test.shape[1])\n",
    "print(X_imag_train.shape[1])\n",
    "print(X_imag_test.shape[1])\n",
    "print(y_train.shape[1])\n",
    "print(y_test.shape[1])"
   ]
  },
  {
   "cell_type": "code",
   "execution_count": 15,
   "metadata": {},
   "outputs": [
    {
     "name": "stdout",
     "output_type": "stream",
     "text": [
      "16\n",
      "16\n"
     ]
    }
   ],
   "source": [
    "input_dim = X_real_train.shape[1]\n",
    "output_dim = y_train.shape[1]\n",
    "print(input_dim)\n",
    "print(output_dim)"
   ]
  },
  {
   "cell_type": "markdown",
   "metadata": {},
   "source": [
    "IDFT - Structure Imposed Neural Network"
   ]
  },
  {
   "cell_type": "code",
   "execution_count": 16,
   "metadata": {},
   "outputs": [
    {
     "name": "stdout",
     "output_type": "stream",
     "text": [
      "WARNING:tensorflow:From c:\\Users\\Asus\\anaconda3\\lib\\site-packages\\keras\\src\\losses.py:2976: The name tf.losses.sparse_softmax_cross_entropy is deprecated. Please use tf.compat.v1.losses.sparse_softmax_cross_entropy instead.\n",
      "\n"
     ]
    }
   ],
   "source": [
    "import tensorflow as tf"
   ]
  },
  {
   "cell_type": "code",
   "execution_count": 17,
   "metadata": {},
   "outputs": [],
   "source": [
    "class FirstLayer(tf.keras.layers.Layer):\n",
    "    def __init__(self, units, kernel_initializer='he_normal', bias_initializer='zeros', use_bias=True, **kwargs):\n",
    "        super(FirstLayer, self).__init__(**kwargs)\n",
    "        self.units = units  # Features/neurons\n",
    "        self.kernel_initializer = kernel_initializer\n",
    "        self.bias_initializer = bias_initializer\n",
    "        self.use_bias = use_bias\n",
    "\n",
    "    def build(self, input_shape):\n",
    "        n = self.units\n",
    "        n1 = n // 2\n",
    "        num_blocks = n1 // 2\n",
    "\n",
    "        self.b_1 = self.add_weight(name=\"kernel_b1\",\n",
    "                                   shape=(num_blocks, 2, 2),\n",
    "                                   initializer=tf.keras.initializers.get(self.kernel_initializer),\n",
    "                                   trainable=True)\n",
    "        self.b_2 = self.add_weight(name=\"kernel_b2\",\n",
    "                                   shape=(num_blocks, 2, 2),\n",
    "                                   initializer=tf.keras.initializers.get(self.kernel_initializer),\n",
    "                                   trainable=True)\n",
    "        self.d_1 = self.add_weight(name=\"kernel_d1\",\n",
    "                                   shape=(n1 - 2,),\n",
    "                                   initializer=tf.keras.initializers.get(self.kernel_initializer),\n",
    "                                   trainable=True)\n",
    "        self.d_2 = self.add_weight(name=\"kernel_d2\",\n",
    "                                   shape=(n1 - 2,),\n",
    "                                   initializer=tf.keras.initializers.get(self.kernel_initializer),\n",
    "                                   trainable=True)\n",
    "\n",
    "        if self.use_bias:\n",
    "            self.bias = self.add_weight(name=\"bias\",\n",
    "                                        shape=(self.units,),\n",
    "                                        initializer=tf.keras.initializers.get(self.bias_initializer),\n",
    "                                        trainable=True)\n",
    "\n",
    "    def call(self, inputs):\n",
    "        def recursiveIDFT(inputVector, B, d, level):\n",
    "            n = inputVector.shape[1]\n",
    "            n1 = n // 2\n",
    "\n",
    "            if n == 2:\n",
    "                out = tf.matmul(inputVector, B[level])\n",
    "                return out\n",
    "            else:\n",
    "                q = tf.concat([inputVector[:, ::2], inputVector[:, 1::2]], axis=1)\n",
    "\n",
    "                B1 = recursiveIDFT(q[:, :n1], B, d[n1:], level + 1)\n",
    "                B2 = recursiveIDFT(q[:, n1:], B, d[n1:], level + 1)\n",
    "\n",
    "                d_n = tf.reshape(d[:n1], (1, -1))\n",
    "                z1 = tf.concat([(B1 + tf.multiply(B2, d_n)), (B1 - tf.multiply(B2, d_n))], axis=1)\n",
    "\n",
    "                return z1 / tf.sqrt(tf.constant(2.0, dtype=tf.float32))\n",
    "\n",
    "        n = self.units\n",
    "        n1 = n // 2\n",
    "\n",
    "        q = tf.concat([inputs[:, ::2], inputs[:, 1::2]], axis=1)\n",
    "\n",
    "        B1 = recursiveIDFT(q[:, :n1], self.b_1, self.d_1, level=0)\n",
    "        B2 = recursiveIDFT(q[:, n1:], self.b_2, self.d_2, level=0)\n",
    "\n",
    "        out = tf.concat([B1, B2], axis=1)\n",
    "\n",
    "        if self.use_bias:\n",
    "            out += self.bias\n",
    "\n",
    "        return out"
   ]
  },
  {
   "cell_type": "code",
   "execution_count": 18,
   "metadata": {},
   "outputs": [],
   "source": [
    "class SecondLayer(tf.keras.layers.Layer):\n",
    "    def __init__(self, units, kernel_initializer='he_normal', bias_initializer='zeros', use_bias=True, **kwargs):\n",
    "        super(SecondLayer, self).__init__(**kwargs)\n",
    "        self.units = units  # Features/neurons\n",
    "        self.kernel_initializer = kernel_initializer\n",
    "        self.bias_initializer = bias_initializer\n",
    "        self.use_bias = use_bias\n",
    "\n",
    "    def build(self, input_shape):\n",
    "        n = self.units\n",
    "        n1 = n // 2\n",
    "\n",
    "        self.d_1 = self.add_weight(name=\"kernel_d1\",\n",
    "                                   shape=(n1,),\n",
    "                                   initializer=tf.keras.initializers.get(self.kernel_initializer),\n",
    "                                   trainable=True)\n",
    "\n",
    "        if self.use_bias:\n",
    "            self.bias = self.add_weight(name=\"bias\",\n",
    "                                        shape=(n,),\n",
    "                                        initializer=tf.keras.initializers.get(self.bias_initializer),\n",
    "                                        trainable=True)\n",
    "\n",
    "    def call(self, inputs):\n",
    "        out1 = inputs[:, :int(inputs.shape[1] / 2)]\n",
    "        out2 = inputs[:, int(inputs.shape[1] / 2):]\n",
    "\n",
    "        z1 = tf.concat([(out1 + tf.multiply(out2, self.d_1)), (out1 - tf.multiply(out2, self.d_1))], axis=1)\n",
    "        out = z1 / tf.sqrt(tf.constant(2.0, dtype=tf.float32))\n",
    "\n",
    "        if self.use_bias:\n",
    "            out += self.bias\n",
    "\n",
    "        return out"
   ]
  },
  {
   "cell_type": "code",
   "execution_count": 19,
   "metadata": {},
   "outputs": [],
   "source": [
    "class CustomLayer(tf.keras.layers.Layer):\n",
    "    def __init__(self, units, kernel_initializer='he_normal', bias_initializer='zeros', use_bias=True, **kwargs):\n",
    "        super(CustomLayer, self).__init__(**kwargs)\n",
    "        self.units = units  # features/neurons\n",
    "        self.kernel_initializer = kernel_initializer\n",
    "        self.bias_initializer = bias_initializer\n",
    "        self.use_bias = use_bias\n",
    "\n",
    "    def build(self, input_shape):\n",
    "        n = self.units\n",
    "\n",
    "        self.m = self.add_weight(name=\"kernel_m\",\n",
    "                                 shape=(n,),\n",
    "                                 initializer=tf.keras.initializers.get(self.kernel_initializer),\n",
    "                                 trainable=True)\n",
    "\n",
    "        if self.use_bias:\n",
    "            self.bias = self.add_weight(name=\"bias\",\n",
    "                                        shape=(self.units,),\n",
    "                                        initializer=tf.keras.initializers.get(self.bias_initializer),\n",
    "                                        trainable=True)\n",
    "\n",
    "    def call(self, inputs):\n",
    "        out = tf.multiply(inputs, self.m)\n",
    "        if self.use_bias:\n",
    "            out += self.bias\n",
    "        return out"
   ]
  },
  {
   "cell_type": "code",
   "execution_count": 20,
   "metadata": {},
   "outputs": [],
   "source": [
    "class LinearLayer(tf.keras.layers.Layer):\n",
    "    def __init__(self, units, kernel_initializer='ones', bias_initializer='zeros', use_bias=True, **kwargs):\n",
    "        super(LinearLayer, self).__init__(**kwargs)\n",
    "        self.units = units\n",
    "        self.kernel_initializer = kernel_initializer\n",
    "        self.bias_initializer = bias_initializer\n",
    "        self.use_bias = use_bias\n",
    "\n",
    "    def build(self, input_shape):\n",
    "        n = self.units\n",
    "\n",
    "        self.m = self.add_weight(name=\"kernel_m_1\",\n",
    "                                 shape=(n,),\n",
    "                                 initializer=tf.keras.initializers.get(self.kernel_initializer),\n",
    "                                 trainable=True)\n",
    "\n",
    "        if self.use_bias:\n",
    "            self.bias = self.add_weight(name=\"bias\",\n",
    "                                        shape=(self.units,),\n",
    "                                        initializer=tf.keras.initializers.get(self.bias_initializer),\n",
    "                                        trainable=True)\n",
    "\n",
    "    def call(self, inputs):\n",
    "        print(\"linear layer input:\", inputs.shape)\n",
    "\n",
    "        inputs1 = inputs[:, :int(inputs.shape[1] / 2)]\n",
    "        inputs2 = inputs[:, int(inputs.shape[1] / 2):]\n",
    "\n",
    "        out = tf.math.sqrt(inputs1**2 + inputs2**2)\n",
    "        out = tf.multiply(out, self.m)\n",
    "\n",
    "        if self.use_bias:\n",
    "            out += self.bias\n",
    "\n",
    "        print(\"linear layer output:\", out.shape)\n",
    "        return out"
   ]
  },
  {
   "cell_type": "markdown",
   "metadata": {},
   "source": [
    "Build Model"
   ]
  },
  {
   "cell_type": "code",
   "execution_count": 21,
   "metadata": {},
   "outputs": [],
   "source": [
    "from tensorflow.keras.initializers import Initializer\n",
    "\n",
    "class CustomScalingInitializer(Initializer):\n",
    "    def __init__(self, n, w0, z0):\n",
    "        self.n = n\n",
    "        self.w0 = w0\n",
    "        self.z0 = z0\n",
    "\n",
    "    def __call__(self, shape, dtype=None):\n",
    "        return tf.convert_to_tensor([(self.z0 / self.w0) ** k for k in range(self.n)], dtype=dtype)\n",
    "\n",
    "    def get_config(self):\n",
    "        return {\"n\": self.n, \"w0\": self.w0, \"z0\": self.z0}\n"
   ]
  },
  {
   "cell_type": "code",
   "execution_count": 22,
   "metadata": {},
   "outputs": [
    {
     "name": "stdout",
     "output_type": "stream",
     "text": [
      "WARNING:tensorflow:From c:\\Users\\Asus\\anaconda3\\lib\\site-packages\\keras\\src\\backend.py:1398: The name tf.executing_eagerly_outside_functions is deprecated. Please use tf.compat.v1.executing_eagerly_outside_functions instead.\n",
      "\n",
      "linear layer input: (None, 32)\n",
      "linear layer output: (None, 16)\n",
      "Model: \"model\"\n",
      "__________________________________________________________________________________________________\n",
      " Layer (type)                Output Shape                 Param #   Connected to                  \n",
      "==================================================================================================\n",
      " real_input (InputLayer)     [(None, 16)]                 0         []                            \n",
      "                                                                                                  \n",
      " imag_input (InputLayer)     [(None, 16)]                 0         []                            \n",
      "                                                                                                  \n",
      " real_layer1 (FirstLayer)    (None, 16)                   60        ['real_input[0][0]']          \n",
      "                                                                                                  \n",
      " imag_layer1 (FirstLayer)    (None, 16)                   60        ['imag_input[0][0]']          \n",
      "                                                                                                  \n",
      " leaky_re_lu (LeakyReLU)     (None, 16)                   0         ['real_layer1[0][0]']         \n",
      "                                                                                                  \n",
      " leaky_re_lu_3 (LeakyReLU)   (None, 16)                   0         ['imag_layer1[0][0]']         \n",
      "                                                                                                  \n",
      " real_support_layer_1 (Cust  (None, 16)                   32        ['leaky_re_lu[0][0]']         \n",
      " omLayer)                                                                                         \n",
      "                                                                                                  \n",
      " imag_support_layer_1 (Cust  (None, 16)                   32        ['leaky_re_lu_3[0][0]']       \n",
      " omLayer)                                                                                         \n",
      "                                                                                                  \n",
      " leaky_re_lu_1 (LeakyReLU)   (None, 16)                   0         ['real_support_layer_1[0][0]']\n",
      "                                                                                                  \n",
      " leaky_re_lu_4 (LeakyReLU)   (None, 16)                   0         ['imag_support_layer_1[0][0]']\n",
      "                                                                                                  \n",
      " real_layer2 (SecondLayer)   (None, 16)                   24        ['leaky_re_lu_1[0][0]']       \n",
      "                                                                                                  \n",
      " imag_layer2 (SecondLayer)   (None, 16)                   24        ['leaky_re_lu_4[0][0]']       \n",
      "                                                                                                  \n",
      " leaky_re_lu_2 (LeakyReLU)   (None, 16)                   0         ['real_layer2[0][0]']         \n",
      "                                                                                                  \n",
      " leaky_re_lu_5 (LeakyReLU)   (None, 16)                   0         ['imag_layer2[0][0]']         \n",
      "                                                                                                  \n",
      " merge_real_imag (Concatena  (None, 32)                   0         ['leaky_re_lu_2[0][0]',       \n",
      " te)                                                                 'leaky_re_lu_5[0][0]']       \n",
      "                                                                                                  \n",
      " diagonal_scaling_layer (Cu  (None, 32)                   64        ['merge_real_imag[0][0]']     \n",
      " stomLayer)                                                                                       \n",
      "                                                                                                  \n",
      " leaky_re_lu_6 (LeakyReLU)   (None, 32)                   0         ['diagonal_scaling_layer[0][0]\n",
      "                                                                    ']                            \n",
      "                                                                                                  \n",
      " output_layer (LinearLayer)  (None, 16)                   32        ['leaky_re_lu_6[0][0]']       \n",
      "                                                                                                  \n",
      " activation (Activation)     (None, 16)                   0         ['output_layer[0][0]']        \n",
      "                                                                                                  \n",
      "==================================================================================================\n",
      "Total params: 328 (1.28 KB)\n",
      "Trainable params: 328 (1.28 KB)\n",
      "Non-trainable params: 0 (0.00 Byte)\n",
      "__________________________________________________________________________________________________\n"
     ]
    }
   ],
   "source": [
    "import tensorflow as tf\n",
    "from tensorflow.keras.models import Model\n",
    "from tensorflow.keras.layers import Input, Concatenate, LeakyReLU, Activation\n",
    "from tensorflow.keras.optimizers import Adam\n",
    "\n",
    "def cosine_loss(y_true, y_pred):\n",
    "    y_true_norm = tf.nn.l2_normalize(y_true, axis=-1)\n",
    "    y_pred_norm = tf.nn.l2_normalize(y_pred, axis=-1)\n",
    "    return 1 - tf.reduce_mean(tf.reduce_sum(y_true_norm * y_pred_norm, axis=-1))\n",
    "\n",
    "def mse_loss(y_true, y_pred):\n",
    "    mse = tf.reduce_mean(tf.square(y_true - y_pred))\n",
    "    return mse\n",
    "\n",
    "def hybrid_loss(y_true, y_pred):\n",
    "    mse_part = tf.reduce_mean(tf.square(y_true - y_pred))\n",
    "    cos_part = cosine_loss(y_true, y_pred)\n",
    "    return 0.4* mse_part + 0.6 * cos_part\n",
    "\n",
    "\n",
    "def structured_NN(input_dim, output_dim):\n",
    "    real_input = Input(shape=(input_dim,), name=\"real_input\")\n",
    "    imag_input = Input(shape=(input_dim,), name=\"imag_input\")\n",
    "    \n",
    "    # he_normal\n",
    "    # glorot_normal\n",
    "    # glorot_uniform\n",
    "    \n",
    "    real_x = FirstLayer(units=input_dim, kernel_initializer='glorot_normal', bias_initializer='glorot_uniform', name=\"real_layer1\")(real_input)\n",
    "    real_x = LeakyReLU(alpha=0.1)(real_x)\n",
    "    real_x = CustomLayer(units=input_dim, kernel_initializer='glorot_normal', bias_initializer='glorot_uniform', name=\"real_support_layer_1\")(real_x)\n",
    "    real_x = LeakyReLU(alpha=0.1)(real_x)\n",
    "    real_x = SecondLayer(units=input_dim, kernel_initializer='glorot_normal', bias_initializer='glorot_uniform', name=\"real_layer2\")(real_x)\n",
    "    real_x = LeakyReLU(alpha=0.1)(real_x)\n",
    "\n",
    "    imag_x = FirstLayer(units=input_dim, kernel_initializer='glorot_normal', bias_initializer='glorot_uniform', name=\"imag_layer1\")(imag_input)\n",
    "    imag_x = LeakyReLU(alpha=0.1)(imag_x)\n",
    "    imag_x = CustomLayer(units=input_dim, kernel_initializer='glorot_normal', bias_initializer='glorot_uniform', name=\"imag_support_layer_1\")(imag_x)\n",
    "    imag_x = LeakyReLU(alpha=0.1)(imag_x)\n",
    "    imag_x = SecondLayer(units=input_dim, kernel_initializer='glorot_normal', bias_initializer='glorot_uniform', name=\"imag_layer2\")(imag_x)\n",
    "    imag_x = LeakyReLU(alpha=0.1)(imag_x)\n",
    "\n",
    "    merged = Concatenate(name=\"merge_real_imag\")([real_x, imag_x])\n",
    "    \n",
    "    # output = CustomLayer(units=input_dim * 2, kernel_initializer=CustomScalingInitializer(n=input_dim * 2, w0=w0, z0=z0), \n",
    "    #                      bias_initializer='zeros', name=\"diagonal_scaling_layer\")(merged)\n",
    "    output = CustomLayer(units=input_dim * 2, kernel_initializer='glorot_normal', bias_initializer='glorot_uniform', name=\"diagonal_scaling_layer\")(merged)\n",
    "    output = LeakyReLU(alpha=0.1)(output)\n",
    "    output = LinearLayer(units=output_dim, kernel_initializer='ones', bias_initializer='zeros', name=\"output_layer\")(output)\n",
    "    output = Activation('linear')(output) # sigmoid # tanh\n",
    "\n",
    "    model = Model(inputs=[real_input, imag_input], outputs=output)\n",
    "    model.compile(optimizer=Adam(learning_rate=0.001), loss=hybrid_loss, metrics=['mse', 'mae'])\n",
    "\n",
    "    return model\n",
    "\n",
    "input_dim = X_real_train.shape[1]\n",
    "output_dim = y_train.shape[1]\n",
    "model = structured_NN(input_dim, output_dim)\n",
    "model.summary()"
   ]
  },
  {
   "cell_type": "code",
   "execution_count": 23,
   "metadata": {},
   "outputs": [
    {
     "name": "stdout",
     "output_type": "stream",
     "text": [
      "real_input [(None, 16)]\n",
      "imag_input [(None, 16)]\n",
      "real_layer1 (None, 16)\n",
      "imag_layer1 (None, 16)\n",
      "leaky_re_lu (None, 16)\n",
      "leaky_re_lu_3 (None, 16)\n",
      "real_support_layer_1 (None, 16)\n",
      "imag_support_layer_1 (None, 16)\n",
      "leaky_re_lu_1 (None, 16)\n",
      "leaky_re_lu_4 (None, 16)\n",
      "real_layer2 (None, 16)\n",
      "imag_layer2 (None, 16)\n",
      "leaky_re_lu_2 (None, 16)\n",
      "leaky_re_lu_5 (None, 16)\n",
      "merge_real_imag (None, 32)\n",
      "diagonal_scaling_layer (None, 32)\n",
      "leaky_re_lu_6 (None, 32)\n",
      "output_layer (None, 16)\n",
      "activation (None, 16)\n"
     ]
    }
   ],
   "source": [
    "for layer in model.layers:\n",
    "    print(layer.name, layer.output_shape)"
   ]
  },
  {
   "cell_type": "markdown",
   "metadata": {},
   "source": [
    "Train Model"
   ]
  },
  {
   "cell_type": "code",
   "execution_count": 24,
   "metadata": {},
   "outputs": [],
   "source": [
    "from tensorflow.keras.callbacks import EarlyStopping, ReduceLROnPlateau\n",
    "\n",
    "early_stopping = EarlyStopping(monitor='val_loss', patience=10, restore_best_weights=True)\n",
    "\n",
    "adjust_lr = ReduceLROnPlateau(\n",
    "    monitor='val_loss',\n",
    "    factor=0.5,\n",
    "    patience=5,\n",
    "    min_lr=1e-7,\n",
    "    verbose=1\n",
    ")"
   ]
  },
  {
   "cell_type": "code",
   "execution_count": 25,
   "metadata": {},
   "outputs": [
    {
     "name": "stdout",
     "output_type": "stream",
     "text": [
      "Epoch 1/500\n",
      "linear layer input: (16, 32)\n",
      "linear layer output: (16, 16)\n",
      "WARNING:tensorflow:From c:\\Users\\Asus\\anaconda3\\lib\\site-packages\\keras\\src\\utils\\tf_utils.py:492: The name tf.ragged.RaggedTensorValue is deprecated. Please use tf.compat.v1.ragged.RaggedTensorValue instead.\n",
      "\n",
      "WARNING:tensorflow:From c:\\Users\\Asus\\anaconda3\\lib\\site-packages\\keras\\src\\engine\\base_layer_utils.py:384: The name tf.executing_eagerly_outside_functions is deprecated. Please use tf.compat.v1.executing_eagerly_outside_functions instead.\n",
      "\n",
      "linear layer input: (16, 32)\n",
      "linear layer output: (16, 16)\n",
      "48/50 [===========================>..] - ETA: 0s - loss: 0.3182 - mse: 0.2481 - mae: 0.4057linear layer input: (None, 32)\n",
      "linear layer output: (None, 16)\n",
      "50/50 [==============================] - 10s 49ms/step - loss: 0.3157 - mse: 0.2466 - mae: 0.4046 - val_loss: 0.2434 - val_mse: 0.2122 - val_mae: 0.3804 - lr: 0.0010\n",
      "Epoch 2/500\n",
      "50/50 [==============================] - 0s 9ms/step - loss: 0.2187 - mse: 0.2066 - mae: 0.3719 - val_loss: 0.2050 - val_mse: 0.1935 - val_mae: 0.3612 - lr: 0.0010\n",
      "Epoch 3/500\n",
      "50/50 [==============================] - 0s 7ms/step - loss: 0.1971 - mse: 0.1886 - mae: 0.3556 - val_loss: 0.1909 - val_mse: 0.1757 - val_mae: 0.3473 - lr: 0.0010\n",
      "Epoch 4/500\n",
      "50/50 [==============================] - 1s 12ms/step - loss: 0.1856 - mse: 0.1716 - mae: 0.3439 - val_loss: 0.1810 - val_mse: 0.1593 - val_mae: 0.3362 - lr: 0.0010\n",
      "Epoch 5/500\n",
      "50/50 [==============================] - 1s 12ms/step - loss: 0.1767 - mse: 0.1563 - mae: 0.3334 - val_loss: 0.1725 - val_mse: 0.1461 - val_mae: 0.3261 - lr: 0.0010\n",
      "Epoch 6/500\n",
      "50/50 [==============================] - 0s 8ms/step - loss: 0.1693 - mse: 0.1437 - mae: 0.3236 - val_loss: 0.1657 - val_mse: 0.1356 - val_mae: 0.3173 - lr: 0.0010\n",
      "Epoch 7/500\n",
      "50/50 [==============================] - 1s 13ms/step - loss: 0.1634 - mse: 0.1346 - mae: 0.3155 - val_loss: 0.1601 - val_mse: 0.1271 - val_mae: 0.3082 - lr: 0.0010\n",
      "Epoch 8/500\n",
      "50/50 [==============================] - 0s 8ms/step - loss: 0.1582 - mse: 0.1271 - mae: 0.3074 - val_loss: 0.1548 - val_mse: 0.1210 - val_mae: 0.3006 - lr: 0.0010\n",
      "Epoch 9/500\n",
      "50/50 [==============================] - 0s 7ms/step - loss: 0.1530 - mse: 0.1214 - mae: 0.3000 - val_loss: 0.1493 - val_mse: 0.1159 - val_mae: 0.2928 - lr: 0.0010\n",
      "Epoch 10/500\n",
      "50/50 [==============================] - 0s 5ms/step - loss: 0.1480 - mse: 0.1169 - mae: 0.2930 - val_loss: 0.1445 - val_mse: 0.1120 - val_mae: 0.2856 - lr: 0.0010\n",
      "Epoch 11/500\n",
      "50/50 [==============================] - 0s 5ms/step - loss: 0.1423 - mse: 0.1121 - mae: 0.2842 - val_loss: 0.1389 - val_mse: 0.1076 - val_mae: 0.2771 - lr: 0.0010\n",
      "Epoch 12/500\n",
      "50/50 [==============================] - 0s 5ms/step - loss: 0.1379 - mse: 0.1088 - mae: 0.2776 - val_loss: 0.1354 - val_mse: 0.1052 - val_mae: 0.2719 - lr: 0.0010\n",
      "Epoch 13/500\n",
      "50/50 [==============================] - 0s 8ms/step - loss: 0.1350 - mse: 0.1067 - mae: 0.2734 - val_loss: 0.1328 - val_mse: 0.1033 - val_mae: 0.2682 - lr: 0.0010\n",
      "Epoch 14/500\n",
      "50/50 [==============================] - 1s 10ms/step - loss: 0.1325 - mse: 0.1049 - mae: 0.2702 - val_loss: 0.1305 - val_mse: 0.1018 - val_mae: 0.2652 - lr: 0.0010\n",
      "Epoch 15/500\n",
      "50/50 [==============================] - 0s 5ms/step - loss: 0.1304 - mse: 0.1035 - mae: 0.2673 - val_loss: 0.1284 - val_mse: 0.1003 - val_mae: 0.2622 - lr: 0.0010\n",
      "Epoch 16/500\n",
      "50/50 [==============================] - 0s 5ms/step - loss: 0.1281 - mse: 0.1018 - mae: 0.2644 - val_loss: 0.1262 - val_mse: 0.0987 - val_mae: 0.2592 - lr: 0.0010\n",
      "Epoch 17/500\n",
      "50/50 [==============================] - 0s 6ms/step - loss: 0.1259 - mse: 0.1003 - mae: 0.2616 - val_loss: 0.1238 - val_mse: 0.0971 - val_mae: 0.2567 - lr: 0.0010\n",
      "Epoch 18/500\n",
      "50/50 [==============================] - 0s 6ms/step - loss: 0.1232 - mse: 0.0983 - mae: 0.2582 - val_loss: 0.1209 - val_mse: 0.0950 - val_mae: 0.2529 - lr: 0.0010\n",
      "Epoch 19/500\n",
      "50/50 [==============================] - 0s 5ms/step - loss: 0.1203 - mse: 0.0962 - mae: 0.2545 - val_loss: 0.1172 - val_mse: 0.0925 - val_mae: 0.2485 - lr: 0.0010\n",
      "Epoch 20/500\n",
      "50/50 [==============================] - 0s 9ms/step - loss: 0.1170 - mse: 0.0938 - mae: 0.2497 - val_loss: 0.1130 - val_mse: 0.0895 - val_mae: 0.2426 - lr: 0.0010\n",
      "Epoch 21/500\n",
      "50/50 [==============================] - 0s 10ms/step - loss: 0.1138 - mse: 0.0915 - mae: 0.2451 - val_loss: 0.1110 - val_mse: 0.0881 - val_mae: 0.2394 - lr: 0.0010\n",
      "Epoch 22/500\n",
      "50/50 [==============================] - 0s 7ms/step - loss: 0.1116 - mse: 0.0898 - mae: 0.2415 - val_loss: 0.1089 - val_mse: 0.0865 - val_mae: 0.2361 - lr: 0.0010\n",
      "Epoch 23/500\n",
      "50/50 [==============================] - 0s 7ms/step - loss: 0.1100 - mse: 0.0886 - mae: 0.2385 - val_loss: 0.1074 - val_mse: 0.0854 - val_mae: 0.2332 - lr: 0.0010\n",
      "Epoch 24/500\n",
      "50/50 [==============================] - 0s 9ms/step - loss: 0.1084 - mse: 0.0874 - mae: 0.2357 - val_loss: 0.1057 - val_mse: 0.0842 - val_mae: 0.2300 - lr: 0.0010\n",
      "Epoch 25/500\n",
      "50/50 [==============================] - 0s 9ms/step - loss: 0.1070 - mse: 0.0863 - mae: 0.2329 - val_loss: 0.1044 - val_mse: 0.0832 - val_mae: 0.2281 - lr: 0.0010\n",
      "Epoch 26/500\n",
      "50/50 [==============================] - 0s 7ms/step - loss: 0.1058 - mse: 0.0854 - mae: 0.2307 - val_loss: 0.1033 - val_mse: 0.0823 - val_mae: 0.2257 - lr: 0.0010\n",
      "Epoch 27/500\n",
      "50/50 [==============================] - 0s 5ms/step - loss: 0.1048 - mse: 0.0846 - mae: 0.2284 - val_loss: 0.1023 - val_mse: 0.0815 - val_mae: 0.2232 - lr: 0.0010\n",
      "Epoch 28/500\n",
      "50/50 [==============================] - 0s 6ms/step - loss: 0.1037 - mse: 0.0837 - mae: 0.2264 - val_loss: 0.1014 - val_mse: 0.0808 - val_mae: 0.2214 - lr: 0.0010\n",
      "Epoch 29/500\n",
      "50/50 [==============================] - 0s 6ms/step - loss: 0.1027 - mse: 0.0829 - mae: 0.2244 - val_loss: 0.1003 - val_mse: 0.0800 - val_mae: 0.2197 - lr: 0.0010\n",
      "Epoch 30/500\n",
      "50/50 [==============================] - 0s 5ms/step - loss: 0.1017 - mse: 0.0822 - mae: 0.2228 - val_loss: 0.0993 - val_mse: 0.0792 - val_mae: 0.2179 - lr: 0.0010\n",
      "Epoch 31/500\n",
      "50/50 [==============================] - 0s 4ms/step - loss: 0.1006 - mse: 0.0813 - mae: 0.2211 - val_loss: 0.0980 - val_mse: 0.0782 - val_mae: 0.2160 - lr: 0.0010\n",
      "Epoch 32/500\n",
      "50/50 [==============================] - 0s 5ms/step - loss: 0.0992 - mse: 0.0802 - mae: 0.2190 - val_loss: 0.0962 - val_mse: 0.0768 - val_mae: 0.2132 - lr: 0.0010\n",
      "Epoch 33/500\n",
      "50/50 [==============================] - 0s 5ms/step - loss: 0.0977 - mse: 0.0791 - mae: 0.2166 - val_loss: 0.0944 - val_mse: 0.0753 - val_mae: 0.2105 - lr: 0.0010\n",
      "Epoch 34/500\n",
      "50/50 [==============================] - 0s 6ms/step - loss: 0.0962 - mse: 0.0778 - mae: 0.2139 - val_loss: 0.0931 - val_mse: 0.0743 - val_mae: 0.2077 - lr: 0.0010\n",
      "Epoch 35/500\n",
      "50/50 [==============================] - 0s 5ms/step - loss: 0.0947 - mse: 0.0767 - mae: 0.2111 - val_loss: 0.0915 - val_mse: 0.0730 - val_mae: 0.2047 - lr: 0.0010\n",
      "Epoch 36/500\n",
      "50/50 [==============================] - 0s 6ms/step - loss: 0.0936 - mse: 0.0757 - mae: 0.2082 - val_loss: 0.0903 - val_mse: 0.0721 - val_mae: 0.2021 - lr: 0.0010\n",
      "Epoch 37/500\n",
      "50/50 [==============================] - 0s 6ms/step - loss: 0.0926 - mse: 0.0750 - mae: 0.2061 - val_loss: 0.0892 - val_mse: 0.0712 - val_mae: 0.1997 - lr: 0.0010\n",
      "Epoch 38/500\n",
      "50/50 [==============================] - 0s 5ms/step - loss: 0.0916 - mse: 0.0741 - mae: 0.2040 - val_loss: 0.0883 - val_mse: 0.0705 - val_mae: 0.1979 - lr: 0.0010\n",
      "Epoch 39/500\n",
      "50/50 [==============================] - 0s 5ms/step - loss: 0.0903 - mse: 0.0731 - mae: 0.2021 - val_loss: 0.0870 - val_mse: 0.0695 - val_mae: 0.1958 - lr: 0.0010\n",
      "Epoch 40/500\n",
      "50/50 [==============================] - 0s 4ms/step - loss: 0.0889 - mse: 0.0720 - mae: 0.1994 - val_loss: 0.0850 - val_mse: 0.0679 - val_mae: 0.1927 - lr: 0.0010\n",
      "Epoch 41/500\n",
      "50/50 [==============================] - 0s 4ms/step - loss: 0.0872 - mse: 0.0707 - mae: 0.1965 - val_loss: 0.0833 - val_mse: 0.0666 - val_mae: 0.1893 - lr: 0.0010\n",
      "Epoch 42/500\n",
      "50/50 [==============================] - 0s 7ms/step - loss: 0.0858 - mse: 0.0696 - mae: 0.1935 - val_loss: 0.0824 - val_mse: 0.0659 - val_mae: 0.1873 - lr: 0.0010\n",
      "Epoch 43/500\n",
      "50/50 [==============================] - 0s 6ms/step - loss: 0.0850 - mse: 0.0689 - mae: 0.1917 - val_loss: 0.0819 - val_mse: 0.0654 - val_mae: 0.1858 - lr: 0.0010\n",
      "Epoch 44/500\n",
      "50/50 [==============================] - 0s 6ms/step - loss: 0.0845 - mse: 0.0685 - mae: 0.1903 - val_loss: 0.0817 - val_mse: 0.0652 - val_mae: 0.1846 - lr: 0.0010\n",
      "Epoch 45/500\n",
      "50/50 [==============================] - 0s 7ms/step - loss: 0.0842 - mse: 0.0682 - mae: 0.1896 - val_loss: 0.0814 - val_mse: 0.0650 - val_mae: 0.1839 - lr: 0.0010\n",
      "Epoch 46/500\n",
      "50/50 [==============================] - 0s 8ms/step - loss: 0.0840 - mse: 0.0681 - mae: 0.1888 - val_loss: 0.0810 - val_mse: 0.0647 - val_mae: 0.1827 - lr: 0.0010\n",
      "Epoch 47/500\n",
      "50/50 [==============================] - 0s 8ms/step - loss: 0.0836 - mse: 0.0677 - mae: 0.1878 - val_loss: 0.0806 - val_mse: 0.0643 - val_mae: 0.1816 - lr: 0.0010\n",
      "Epoch 48/500\n",
      "50/50 [==============================] - 0s 7ms/step - loss: 0.0836 - mse: 0.0677 - mae: 0.1873 - val_loss: 0.0809 - val_mse: 0.0645 - val_mae: 0.1817 - lr: 0.0010\n",
      "Epoch 49/500\n",
      "50/50 [==============================] - 0s 5ms/step - loss: 0.0832 - mse: 0.0674 - mae: 0.1866 - val_loss: 0.0809 - val_mse: 0.0645 - val_mae: 0.1814 - lr: 0.0010\n",
      "Epoch 50/500\n",
      "50/50 [==============================] - 0s 6ms/step - loss: 0.0830 - mse: 0.0672 - mae: 0.1858 - val_loss: 0.0804 - val_mse: 0.0641 - val_mae: 0.1804 - lr: 0.0010\n",
      "Epoch 51/500\n",
      "50/50 [==============================] - 0s 6ms/step - loss: 0.0829 - mse: 0.0671 - mae: 0.1857 - val_loss: 0.0801 - val_mse: 0.0639 - val_mae: 0.1798 - lr: 0.0010\n",
      "Epoch 52/500\n",
      "50/50 [==============================] - 0s 5ms/step - loss: 0.0827 - mse: 0.0669 - mae: 0.1849 - val_loss: 0.0801 - val_mse: 0.0638 - val_mae: 0.1793 - lr: 0.0010\n",
      "Epoch 53/500\n",
      "50/50 [==============================] - 0s 5ms/step - loss: 0.0826 - mse: 0.0668 - mae: 0.1846 - val_loss: 0.0801 - val_mse: 0.0639 - val_mae: 0.1795 - lr: 0.0010\n",
      "Epoch 54/500\n",
      "50/50 [==============================] - 0s 4ms/step - loss: 0.0825 - mse: 0.0667 - mae: 0.1843 - val_loss: 0.0800 - val_mse: 0.0638 - val_mae: 0.1788 - lr: 0.0010\n",
      "Epoch 55/500\n",
      "50/50 [==============================] - 0s 4ms/step - loss: 0.0824 - mse: 0.0666 - mae: 0.1838 - val_loss: 0.0798 - val_mse: 0.0637 - val_mae: 0.1785 - lr: 0.0010\n",
      "Epoch 56/500\n",
      "50/50 [==============================] - 0s 4ms/step - loss: 0.0822 - mse: 0.0665 - mae: 0.1836 - val_loss: 0.0798 - val_mse: 0.0637 - val_mae: 0.1784 - lr: 0.0010\n",
      "Epoch 57/500\n",
      "50/50 [==============================] - 0s 5ms/step - loss: 0.0821 - mse: 0.0664 - mae: 0.1833 - val_loss: 0.0798 - val_mse: 0.0637 - val_mae: 0.1782 - lr: 0.0010\n",
      "Epoch 58/500\n",
      "50/50 [==============================] - 0s 4ms/step - loss: 0.0821 - mse: 0.0664 - mae: 0.1832 - val_loss: 0.0799 - val_mse: 0.0638 - val_mae: 0.1787 - lr: 0.0010\n",
      "Epoch 59/500\n",
      "50/50 [==============================] - 0s 4ms/step - loss: 0.0822 - mse: 0.0665 - mae: 0.1832 - val_loss: 0.0797 - val_mse: 0.0636 - val_mae: 0.1778 - lr: 0.0010\n",
      "Epoch 60/500\n",
      "50/50 [==============================] - 0s 4ms/step - loss: 0.0821 - mse: 0.0664 - mae: 0.1831 - val_loss: 0.0798 - val_mse: 0.0638 - val_mae: 0.1785 - lr: 0.0010\n",
      "Epoch 61/500\n",
      "50/50 [==============================] - 0s 4ms/step - loss: 0.0819 - mse: 0.0663 - mae: 0.1828 - val_loss: 0.0795 - val_mse: 0.0635 - val_mae: 0.1772 - lr: 0.0010\n",
      "Epoch 62/500\n",
      "50/50 [==============================] - 0s 4ms/step - loss: 0.0818 - mse: 0.0662 - mae: 0.1825 - val_loss: 0.0797 - val_mse: 0.0636 - val_mae: 0.1774 - lr: 0.0010\n",
      "Epoch 63/500\n",
      "50/50 [==============================] - 0s 4ms/step - loss: 0.0818 - mse: 0.0661 - mae: 0.1821 - val_loss: 0.0797 - val_mse: 0.0637 - val_mae: 0.1777 - lr: 0.0010\n",
      "Epoch 64/500\n",
      "50/50 [==============================] - 0s 4ms/step - loss: 0.0817 - mse: 0.0661 - mae: 0.1822 - val_loss: 0.0796 - val_mse: 0.0636 - val_mae: 0.1772 - lr: 0.0010\n",
      "Epoch 65/500\n",
      "50/50 [==============================] - 0s 3ms/step - loss: 0.0817 - mse: 0.0661 - mae: 0.1820 - val_loss: 0.0796 - val_mse: 0.0636 - val_mae: 0.1774 - lr: 0.0010\n",
      "Epoch 66/500\n",
      "46/50 [==========================>...] - ETA: 0s - loss: 0.0818 - mse: 0.0661 - mae: 0.1822\n",
      "Epoch 66: ReduceLROnPlateau reducing learning rate to 0.0005000000237487257.\n",
      "50/50 [==============================] - 0s 3ms/step - loss: 0.0817 - mse: 0.0661 - mae: 0.1820 - val_loss: 0.0796 - val_mse: 0.0636 - val_mae: 0.1771 - lr: 0.0010\n",
      "Epoch 67/500\n",
      "50/50 [==============================] - 0s 3ms/step - loss: 0.0815 - mse: 0.0659 - mae: 0.1815 - val_loss: 0.0794 - val_mse: 0.0635 - val_mae: 0.1770 - lr: 5.0000e-04\n",
      "Epoch 68/500\n",
      "50/50 [==============================] - 0s 3ms/step - loss: 0.0814 - mse: 0.0658 - mae: 0.1815 - val_loss: 0.0794 - val_mse: 0.0635 - val_mae: 0.1767 - lr: 5.0000e-04\n",
      "Epoch 69/500\n",
      "50/50 [==============================] - 0s 3ms/step - loss: 0.0814 - mse: 0.0658 - mae: 0.1815 - val_loss: 0.0794 - val_mse: 0.0635 - val_mae: 0.1767 - lr: 5.0000e-04\n",
      "Epoch 70/500\n",
      "50/50 [==============================] - 0s 3ms/step - loss: 0.0814 - mse: 0.0658 - mae: 0.1812 - val_loss: 0.0794 - val_mse: 0.0636 - val_mae: 0.1774 - lr: 5.0000e-04\n",
      "Epoch 71/500\n",
      "50/50 [==============================] - 0s 3ms/step - loss: 0.0813 - mse: 0.0658 - mae: 0.1814 - val_loss: 0.0794 - val_mse: 0.0635 - val_mae: 0.1765 - lr: 5.0000e-04\n",
      "Epoch 72/500\n",
      "50/50 [==============================] - 0s 4ms/step - loss: 0.0813 - mse: 0.0658 - mae: 0.1813 - val_loss: 0.0794 - val_mse: 0.0635 - val_mae: 0.1765 - lr: 5.0000e-04\n",
      "Epoch 73/500\n",
      "50/50 [==============================] - 0s 3ms/step - loss: 0.0813 - mse: 0.0657 - mae: 0.1811 - val_loss: 0.0794 - val_mse: 0.0636 - val_mae: 0.1767 - lr: 5.0000e-04\n",
      "Epoch 74/500\n",
      "39/50 [======================>.......] - ETA: 0s - loss: 0.0810 - mse: 0.0653 - mae: 0.1802\n",
      "Epoch 74: ReduceLROnPlateau reducing learning rate to 0.0002500000118743628.\n",
      "50/50 [==============================] - 0s 4ms/step - loss: 0.0812 - mse: 0.0657 - mae: 0.1810 - val_loss: 0.0794 - val_mse: 0.0635 - val_mae: 0.1764 - lr: 5.0000e-04\n",
      "Epoch 75/500\n",
      "50/50 [==============================] - 0s 3ms/step - loss: 0.0812 - mse: 0.0657 - mae: 0.1810 - val_loss: 0.0793 - val_mse: 0.0636 - val_mae: 0.1764 - lr: 2.5000e-04\n",
      "Epoch 76/500\n",
      "50/50 [==============================] - 0s 4ms/step - loss: 0.0811 - mse: 0.0656 - mae: 0.1809 - val_loss: 0.0794 - val_mse: 0.0636 - val_mae: 0.1764 - lr: 2.5000e-04\n",
      "Epoch 77/500\n",
      "50/50 [==============================] - 0s 4ms/step - loss: 0.0811 - mse: 0.0656 - mae: 0.1807 - val_loss: 0.0793 - val_mse: 0.0636 - val_mae: 0.1764 - lr: 2.5000e-04\n",
      "Epoch 78/500\n",
      "50/50 [==============================] - 0s 5ms/step - loss: 0.0811 - mse: 0.0657 - mae: 0.1809 - val_loss: 0.0794 - val_mse: 0.0636 - val_mae: 0.1762 - lr: 2.5000e-04\n",
      "Epoch 79/500\n",
      "37/50 [=====================>........] - ETA: 0s - loss: 0.0805 - mse: 0.0653 - mae: 0.1805\n",
      "Epoch 79: ReduceLROnPlateau reducing learning rate to 0.0001250000059371814.\n",
      "50/50 [==============================] - 0s 4ms/step - loss: 0.0811 - mse: 0.0656 - mae: 0.1808 - val_loss: 0.0794 - val_mse: 0.0636 - val_mae: 0.1763 - lr: 2.5000e-04\n",
      "Epoch 80/500\n",
      "50/50 [==============================] - 0s 4ms/step - loss: 0.0810 - mse: 0.0656 - mae: 0.1807 - val_loss: 0.0793 - val_mse: 0.0636 - val_mae: 0.1763 - lr: 1.2500e-04\n",
      "Epoch 81/500\n",
      "50/50 [==============================] - 0s 5ms/step - loss: 0.0811 - mse: 0.0656 - mae: 0.1806 - val_loss: 0.0793 - val_mse: 0.0636 - val_mae: 0.1763 - lr: 1.2500e-04\n",
      "Epoch 82/500\n",
      "50/50 [==============================] - 0s 5ms/step - loss: 0.0810 - mse: 0.0656 - mae: 0.1806 - val_loss: 0.0793 - val_mse: 0.0636 - val_mae: 0.1762 - lr: 1.2500e-04\n",
      "Epoch 83/500\n",
      "50/50 [==============================] - 0s 4ms/step - loss: 0.0810 - mse: 0.0656 - mae: 0.1806 - val_loss: 0.0793 - val_mse: 0.0636 - val_mae: 0.1762 - lr: 1.2500e-04\n",
      "Epoch 84/500\n",
      "47/50 [===========================>..] - ETA: 0s - loss: 0.0804 - mse: 0.0651 - mae: 0.1798\n",
      "Epoch 84: ReduceLROnPlateau reducing learning rate to 6.25000029685907e-05.\n",
      "50/50 [==============================] - 0s 3ms/step - loss: 0.0810 - mse: 0.0656 - mae: 0.1805 - val_loss: 0.0793 - val_mse: 0.0636 - val_mae: 0.1762 - lr: 1.2500e-04\n",
      "Epoch 85/500\n",
      "50/50 [==============================] - 0s 3ms/step - loss: 0.0810 - mse: 0.0655 - mae: 0.1806 - val_loss: 0.0793 - val_mse: 0.0636 - val_mae: 0.1762 - lr: 6.2500e-05\n",
      "Epoch 86/500\n",
      "50/50 [==============================] - 0s 4ms/step - loss: 0.0810 - mse: 0.0655 - mae: 0.1806 - val_loss: 0.0793 - val_mse: 0.0636 - val_mae: 0.1762 - lr: 6.2500e-05\n",
      "Epoch 87/500\n",
      "50/50 [==============================] - 0s 3ms/step - loss: 0.0810 - mse: 0.0655 - mae: 0.1806 - val_loss: 0.0793 - val_mse: 0.0636 - val_mae: 0.1761 - lr: 6.2500e-05\n",
      "Epoch 88/500\n",
      "50/50 [==============================] - 0s 4ms/step - loss: 0.0810 - mse: 0.0655 - mae: 0.1805 - val_loss: 0.0793 - val_mse: 0.0636 - val_mae: 0.1761 - lr: 6.2500e-05\n",
      "Epoch 89/500\n",
      "45/50 [==========================>...] - ETA: 0s - loss: 0.0814 - mse: 0.0659 - mae: 0.1813\n",
      "Epoch 89: ReduceLROnPlateau reducing learning rate to 3.125000148429535e-05.\n",
      "50/50 [==============================] - 0s 4ms/step - loss: 0.0810 - mse: 0.0655 - mae: 0.1805 - val_loss: 0.0793 - val_mse: 0.0636 - val_mae: 0.1761 - lr: 6.2500e-05\n",
      "Epoch 90/500\n",
      "50/50 [==============================] - 0s 5ms/step - loss: 0.0810 - mse: 0.0655 - mae: 0.1805 - val_loss: 0.0793 - val_mse: 0.0636 - val_mae: 0.1761 - lr: 3.1250e-05\n",
      "Epoch 91/500\n",
      "50/50 [==============================] - 0s 4ms/step - loss: 0.0810 - mse: 0.0655 - mae: 0.1805 - val_loss: 0.0793 - val_mse: 0.0636 - val_mae: 0.1762 - lr: 3.1250e-05\n",
      "Epoch 92/500\n",
      "50/50 [==============================] - 0s 4ms/step - loss: 0.0810 - mse: 0.0655 - mae: 0.1805 - val_loss: 0.0793 - val_mse: 0.0636 - val_mae: 0.1761 - lr: 3.1250e-05\n",
      "Epoch 93/500\n",
      "50/50 [==============================] - 0s 4ms/step - loss: 0.0810 - mse: 0.0655 - mae: 0.1805 - val_loss: 0.0793 - val_mse: 0.0636 - val_mae: 0.1761 - lr: 3.1250e-05\n",
      "Epoch 94/500\n",
      "47/50 [===========================>..] - ETA: 0s - loss: 0.0810 - mse: 0.0656 - mae: 0.1806\n",
      "Epoch 94: ReduceLROnPlateau reducing learning rate to 1.5625000742147677e-05.\n",
      "50/50 [==============================] - 0s 3ms/step - loss: 0.0810 - mse: 0.0655 - mae: 0.1805 - val_loss: 0.0793 - val_mse: 0.0636 - val_mae: 0.1761 - lr: 3.1250e-05\n",
      "Epoch 95/500\n",
      "50/50 [==============================] - 0s 3ms/step - loss: 0.0810 - mse: 0.0655 - mae: 0.1805 - val_loss: 0.0793 - val_mse: 0.0636 - val_mae: 0.1761 - lr: 1.5625e-05\n",
      "Epoch 96/500\n",
      "50/50 [==============================] - 0s 3ms/step - loss: 0.0810 - mse: 0.0655 - mae: 0.1805 - val_loss: 0.0793 - val_mse: 0.0636 - val_mae: 0.1761 - lr: 1.5625e-05\n"
     ]
    }
   ],
   "source": [
    "history = model.fit(\n",
    "    [X_real_train, X_imag_train],\n",
    "    y_train,\n",
    "    epochs=500,\n",
    "    batch_size=16,\n",
    "    validation_data=([X_real_test, X_imag_test], y_test),\n",
    "    callbacks=[adjust_lr, early_stopping]\n",
    ")"
   ]
  },
  {
   "cell_type": "markdown",
   "metadata": {},
   "source": [
    "Evaluate Model"
   ]
  },
  {
   "cell_type": "code",
   "execution_count": 26,
   "metadata": {},
   "outputs": [
    {
     "name": "stdout",
     "output_type": "stream",
     "text": [
      "7/7 [==============================] - 0s 3ms/step - loss: 0.0793 - mse: 0.0636 - mae: 0.1762\n",
      "Test MSE: 0.0636, Test MAE: 0.1762\n"
     ]
    }
   ],
   "source": [
    "test_loss, test_mse, test_mae = model.evaluate([X_real_test, X_imag_test], y_test)\n",
    "print(f\"Test MSE: {test_mse:.4f}, Test MAE: {test_mae:.4f}\")"
   ]
  },
  {
   "cell_type": "code",
   "execution_count": 27,
   "metadata": {},
   "outputs": [
    {
     "data": {
      "image/png": "[encoded data removed]",
      "text/plain": [
       "<Figure size 640x480 with 1 Axes>"
      ]
     },
     "metadata": {},
     "output_type": "display_data"
    }
   ],
   "source": [
    "import matplotlib.pyplot as plt\n",
    "\n",
    "plt.plot(history.history['loss'], label='Training Loss')\n",
    "plt.plot(history.history['val_loss'], label='Validation Loss')\n",
    "plt.xlabel('Epochs')\n",
    "plt.ylabel('Loss')\n",
    "plt.legend()\n",
    "plt.show()"
   ]
  },
  {
   "cell_type": "code",
   "execution_count": 28,
   "metadata": {},
   "outputs": [
    {
     "name": "stdout",
     "output_type": "stream",
     "text": [
      "linear layer input: (None, 32)\n",
      "linear layer output: (None, 16)\n",
      "7/7 [==============================] - 1s 3ms/step\n",
      "Comparison of predictions and ground truth:\n",
      "Sample 1:\n",
      "predicted as is:  [0.44383672 0.48603478 0.53472614 0.48886588 0.48485476 0.48317832\n",
      " 0.5665616  0.46203163 0.27088946 0.48238748 0.35986286 0.5413457\n",
      " 0.19802317 0.25216937 0.9065247  0.45193687]\n",
      "  Predicted:    [2. 2. 2. 2. 2. 2. 2. 2. 1. 2. 1. 2. 1. 1. 4. 2.]\n",
      "  Ground Truth: [1. 0. 1. 1. 1. 1. 3. 0. 1. 3. 1. 2. 1. 1. 4. 2.]\n",
      "----------------------------------------\n",
      "Sample 2:\n",
      "predicted as is:  [0.527374   0.45661992 0.44533956 0.5143304  0.5160997  0.48124358\n",
      " 0.42599738 0.4313909  0.21398124 0.5331556  0.5336961  0.60673815\n",
      " 0.7473113  0.00763299 0.33910936 0.00702644]\n",
      "  Predicted:    [2. 2. 2. 2. 2. 2. 2. 2. 1. 2. 2. 2. 3. 0. 1. 0.]\n",
      "  Ground Truth: [4. 0. 2. 0. 2. 0. 3. 2. 1. 2. 2. 2. 3. 0. 1. 0.]\n",
      "----------------------------------------\n",
      "Sample 3:\n",
      "predicted as is:  [0.4628202  0.4711332  0.46305507 0.40925178 0.54056644 0.47382215\n",
      " 0.4732408  0.45232108 0.73687696 0.8575354  0.3616426  0.832108\n",
      " 1.0264826  0.7581826  0.00811872 0.2940851 ]\n",
      "  Predicted:    [2. 2. 2. 2. 2. 2. 2. 2. 3. 3. 1. 3. 4. 3. 0. 1.]\n",
      "  Ground Truth: [3. 2. 0. 0. 2. 0. 4. 4. 3. 3. 1. 3. 4. 3. 0. 1.]\n",
      "----------------------------------------\n"
     ]
    }
   ],
   "source": [
    "y_pred_test = model.predict([X_real_test, X_imag_test])\n",
    "y_pred_test_rescaled = y_pred_test * (q - 1)\n",
    "# y_pred_test_rescaled = (y_pred_test * y_std) + y_mean\n",
    "y_test_rescaled = y_test * (q - 1)\n",
    "\n",
    "print(\"Comparison of predictions and ground truth:\")\n",
    "for i in range(3):\n",
    "    print(f\"Sample {i+1}:\")\n",
    "    print(f\"predicted as is: \", y_pred_test[i])\n",
    "    print(f\"  Predicted:    {np.round(y_pred_test_rescaled[i])}\")\n",
    "    print(f\"  Ground Truth: {np.round(y_test_rescaled[i])}\")\n",
    "    print(\"-\" * 40)"
   ]
  },
  {
   "cell_type": "markdown",
   "metadata": {},
   "source": [
    "predict on unseen data"
   ]
  },
  {
   "cell_type": "code",
   "execution_count": 29,
   "metadata": {},
   "outputs": [
    {
     "name": "stdout",
     "output_type": "stream",
     "text": [
      "\n",
      "Encoded Unseen Data (Real and Imaginary Parts):\n",
      "Real Part Shape: (5, 16)\n",
      "Imaginary Part Shape: (5, 16)\n",
      "1/1 [==============================] - 0s 33ms/step\n",
      "\n",
      "Comparison of Unseen Data and Predictions:\n",
      "============================================================\n",
      "Sample 1:\n",
      "  Ground Truth: [2 3 2 1 0 0 0 4 4 1 2 4 2 2 4 4]\n",
      "  Prediction  : [2 2 2 2 2 2 2 2 4 2 2 4 2 2 4 4]\n",
      "------------------------------------------------------------\n",
      "Sample 2:\n",
      "  Ground Truth: [1 3 0 4 4 2 3 4 3 0 2 1 0 3 3 0]\n",
      "  Prediction  : [2 2 2 2 2 2 2 2 3 1 2 1 0 3 3 0]\n",
      "------------------------------------------------------------\n",
      "Sample 3:\n",
      "  Ground Truth: [3 1 1 3 3 1 3 4 2 4 3 3 2 3 2 1]\n",
      "  Prediction  : [2 2 2 2 2 2 2 2 2 4 3 3 2 3 2 1]\n",
      "------------------------------------------------------------\n",
      "Sample 4:\n",
      "  Ground Truth: [2 2 4 3 1 0 2 0 3 2 0 4 0 4 1 3]\n",
      "  Prediction  : [2 2 2 2 2 2 2 2 3 1 0 4 0 4 1 3]\n",
      "------------------------------------------------------------\n",
      "Sample 5:\n",
      "  Ground Truth: [0 2 3 0 2 2 2 2 0 1 4 4 4 1 2 2]\n",
      "  Prediction  : [2 2 2 2 2 2 2 2 0 1 4 4 4 1 3 2]\n",
      "------------------------------------------------------------\n"
     ]
    }
   ],
   "source": [
    "num_unseen_samples = 5\n",
    "unseen_data = np.random.randint(0, q, size=(num_unseen_samples, n))\n",
    "\n",
    "padded_unseen_data = np.hstack((unseen_data, np.zeros((num_unseen_samples, n_padded - n))))\n",
    "\n",
    "unseen_data_normalized = unseen_data.astype(np.float32) / (q - 1)\n",
    "\n",
    "# print(\"Unseen Input Data (Before Encoding):\")\n",
    "# print(unseen_data)\n",
    "\n",
    "unseen_encoded = np.array([np.dot(M_tilde, x) for x in padded_unseen_data])\n",
    "unseen_encoded[np.abs(unseen_encoded) < 1e-10] = 0\n",
    "unseen_encoded = np.round(unseen_encoded, decimals=10)\n",
    "\n",
    "X_real_unseen = np.real(unseen_encoded).astype(np.float32)\n",
    "X_imag_unseen = np.imag(unseen_encoded).astype(np.float32)\n",
    "\n",
    "print(\"\\nEncoded Unseen Data (Real and Imaginary Parts):\")\n",
    "print(\"Real Part Shape:\", X_real_unseen.shape)\n",
    "print(\"Imaginary Part Shape:\", X_imag_unseen.shape)\n",
    "\n",
    "y_pred_unseen = model.predict([X_real_unseen, X_imag_unseen])\n",
    "\n",
    "y_pred_unseen_rescaled = y_pred_unseen * (q - 1)\n",
    "\n",
    "y_pred_unseen_final = np.mod(np.round(y_pred_unseen_rescaled), q)\n",
    "\n",
    "print(\"\\nComparison of Unseen Data and Predictions:\")\n",
    "print(\"=\" * 60)\n",
    "for i in range(num_unseen_samples):\n",
    "    print(f\"Sample {i+1}:\")\n",
    "    print(f\"  Ground Truth: {padded_unseen_data[i].astype(int)}\")\n",
    "    print(f\"  Prediction  : {y_pred_unseen_final[i].astype(int)}\")\n",
    "    print(\"-\" * 60)"
   ]
  },
  {
   "cell_type": "markdown",
   "metadata": {},
   "source": [
    "Check gradient flow"
   ]
  },
  {
   "cell_type": "code",
   "execution_count": 30,
   "metadata": {},
   "outputs": [
    {
     "name": "stdout",
     "output_type": "stream",
     "text": [
      "real_input has no trainable variables.\n",
      "imag_input has no trainable variables.\n",
      "real_layer1 Gradient Mean: 0.2382715\n",
      "imag_layer1 Gradient Mean: 0.33378655\n",
      "leaky_re_lu has no trainable variables.\n",
      "leaky_re_lu_3 has no trainable variables.\n",
      "real_support_layer_1 Gradient Mean: 0.38555908\n",
      "imag_support_layer_1 Gradient Mean: 0.472827\n",
      "leaky_re_lu_1 has no trainable variables.\n",
      "leaky_re_lu_4 has no trainable variables.\n",
      "real_layer2 Gradient Mean: 0.5938346\n",
      "imag_layer2 Gradient Mean: 0.56571734\n",
      "leaky_re_lu_2 has no trainable variables.\n",
      "leaky_re_lu_5 has no trainable variables.\n",
      "merge_real_imag has no trainable variables.\n",
      "diagonal_scaling_layer Gradient Mean: 0.40031403\n",
      "leaky_re_lu_6 has no trainable variables.\n",
      "output_layer Gradient Mean: 1.1929548\n",
      "activation has no trainable variables.\n"
     ]
    }
   ],
   "source": [
    "for layer in model.layers:\n",
    "    if layer.trainable_variables:\n",
    "        grads = tf.reduce_mean(tf.abs(layer.trainable_variables[0]))\n",
    "        print(layer.name, \"Gradient Mean:\", grads.numpy())\n",
    "    else:\n",
    "        print(layer.name, \"has no trainable variables.\")"
   ]
  },
  {
   "cell_type": "code",
   "execution_count": 31,
   "metadata": {},
   "outputs": [
    {
     "name": "stdout",
     "output_type": "stream",
     "text": [
      "linear layer input: (4, 32)\n",
      "linear layer output: (4, 16)\n",
      "✅ Gradient OK for real_layer1/kernel_b1:0, mean: 0.0019327610498294234\n",
      "✅ Gradient OK for real_layer1/kernel_b2:0, mean: 0.00017200794536620378\n",
      "✅ Gradient OK for real_layer1/kernel_d1:0, mean: 0.0004911997239105403\n",
      "✅ Gradient OK for real_layer1/kernel_d2:0, mean: -0.0006354645011015236\n",
      "✅ Gradient OK for real_layer1/bias:0, mean: 0.0009436324471607804\n",
      "✅ Gradient OK for imag_layer1/kernel_b1:0, mean: -0.0003010322107002139\n",
      "✅ Gradient OK for imag_layer1/kernel_b2:0, mean: -0.0002690846740733832\n",
      "✅ Gradient OK for imag_layer1/kernel_d1:0, mean: -0.00022621317475568503\n",
      "✅ Gradient OK for imag_layer1/kernel_d2:0, mean: 0.00020413317542988807\n",
      "✅ Gradient OK for imag_layer1/bias:0, mean: -0.0006644867826253176\n",
      "✅ Gradient OK for real_support_layer_1/kernel_m:0, mean: -0.0006778326351195574\n",
      "✅ Gradient OK for real_support_layer_1/bias:0, mean: -0.005381305702030659\n",
      "✅ Gradient OK for imag_support_layer_1/kernel_m:0, mean: -0.0011643213219940662\n",
      "✅ Gradient OK for imag_support_layer_1/bias:0, mean: -0.0031910687685012817\n",
      "✅ Gradient OK for real_layer2/kernel_d1:0, mean: 0.004191596992313862\n",
      "✅ Gradient OK for real_layer2/bias:0, mean: -0.007987899705767632\n",
      "✅ Gradient OK for imag_layer2/kernel_d1:0, mean: 0.005029289051890373\n",
      "✅ Gradient OK for imag_layer2/bias:0, mean: -0.002647761721163988\n",
      "✅ Gradient OK for diagonal_scaling_layer/kernel_m:0, mean: 0.002551817800849676\n",
      "✅ Gradient OK for diagonal_scaling_layer/bias:0, mean: 0.007639055605977774\n",
      "✅ Gradient OK for output_layer/kernel_m_1:0, mean: -0.005014162044972181\n",
      "✅ Gradient OK for output_layer/bias:0, mean: -0.14645454287528992\n"
     ]
    }
   ],
   "source": [
    "batch_size = 4 \n",
    "X_real_dummy = np.random.rand(batch_size, X_real_train.shape[1]).astype(np.float32)\n",
    "X_imag_dummy = np.random.rand(batch_size, X_imag_train.shape[1]).astype(np.float32)\n",
    "y_dummy = np.random.rand(batch_size, y_train.shape[1]).astype(np.float32)\n",
    "\n",
    "def check_gradients(model, X_real_dummy, X_imag_dummy, y_dummy):\n",
    "    with tf.GradientTape() as tape:\n",
    "        tape.watch(model.trainable_variables)\n",
    "        predictions = model([X_real_dummy, X_imag_dummy], training=True)\n",
    "        loss = tf.keras.losses.mean_squared_error(y_dummy, predictions)\n",
    "\n",
    "    grads = tape.gradient(loss, model.trainable_variables)\n",
    "\n",
    "    for i, (grad, var) in enumerate(zip(grads, model.trainable_variables)):\n",
    "        if grad is None:\n",
    "            print(f\"🚨 Gradient is None for {var.name} at index {i}\")\n",
    "        else:\n",
    "            print(f\"✅ Gradient OK for {var.name}, mean: {tf.reduce_mean(grad).numpy()}\")\n",
    "\n",
    "check_gradients(model, X_real_dummy, X_imag_dummy, y_dummy)\n"
   ]
  },
  {
   "cell_type": "code",
   "execution_count": null,
   "metadata": {},
   "outputs": [],
   "source": []
  }
 ],
 "metadata": {
  "kernelspec": {
   "display_name": "base",
   "language": "python",
   "name": "python3"
  },
  "language_info": {
   "codemirror_mode": {
    "name": "ipython",
    "version": 3
   },
   "file_extension": ".py",
   "mimetype": "text/x-python",
   "name": "python",
   "nbconvert_exporter": "python",
   "pygments_lexer": "ipython3",
   "version": "3.9.18"
  }
 },
 "nbformat": 4,
 "nbformat_minor": 2
}
