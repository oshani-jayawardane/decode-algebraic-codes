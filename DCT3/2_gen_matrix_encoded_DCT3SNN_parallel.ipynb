{
 "cells": [
  {
   "cell_type": "markdown",
   "metadata": {},
   "source": [
    "### DCT3SNN - DCT-2 Encoded Dataset"
   ]
  },
  {
   "cell_type": "markdown",
   "metadata": {},
   "source": [
    "The dataset is encoded using the padded generator matrix. the imaginary and real values are parellel processed until concatenation. The parallel execution mimics the DCT-III SNN. One additional layer is included to account for the scaling diagonal matrix $\\hat{D}_n$ in the classical algorithm."
   ]
  },
  {
   "cell_type": "code",
   "execution_count": 1,
   "metadata": {},
   "outputs": [],
   "source": [
    "# (r + 1) | (q - 1)\n",
    "# (r + 1) | n\n",
    "# q is a prime number\n",
    "# n = 2^t\n",
    "# r < n"
   ]
  },
  {
   "cell_type": "code",
   "execution_count": 2,
   "metadata": {},
   "outputs": [
    {
     "data": {
      "text/plain": [
       "0"
      ]
     },
     "execution_count": 2,
     "metadata": {},
     "output_type": "execute_result"
    }
   ],
   "source": [
    "%reset -f\n",
    "import gc\n",
    "gc.collect()"
   ]
  },
  {
   "cell_type": "code",
   "execution_count": 3,
   "metadata": {},
   "outputs": [
    {
     "name": "stdout",
     "output_type": "stream",
     "text": [
      "Original n: 16\n",
      "Padded n: 16\n",
      "Generated dataset shape: (1000, 16)\n"
     ]
    }
   ],
   "source": [
    "import numpy as np\n",
    "\n",
    "np.random.seed(42)\n",
    "\n",
    "n = 16\n",
    "q = 5\n",
    "num_samples = 1000\n",
    "\n",
    "def next_power_of_two(x):\n",
    "    return 1 if x == 0 else 2**(x - 1).bit_length()\n",
    "\n",
    "n_padded = next_power_of_two(n)\n",
    "\n",
    "dataset = np.random.randint(0, q, size=(num_samples, n))\n",
    "\n",
    "if n_padded > n:\n",
    "    pad_width = n_padded - n\n",
    "    dataset = np.pad(dataset, ((0, 0), (0, pad_width)), mode='constant', constant_values=0)\n",
    "\n",
    "print(\"Original n:\", n)\n",
    "print(\"Padded n:\", n_padded)\n",
    "print(\"Generated dataset shape:\", dataset.shape)"
   ]
  },
  {
   "cell_type": "code",
   "execution_count": 4,
   "metadata": {},
   "outputs": [
    {
     "name": "stdout",
     "output_type": "stream",
     "text": [
      "[[3 4 2 ... 1 3 1]\n",
      " [3 4 0 ... 3 2 3]\n",
      " [3 0 2 ... 0 1 4]\n",
      " ...\n",
      " [4 4 4 ... 0 2 2]\n",
      " [4 2 4 ... 4 0 0]\n",
      " [2 2 2 ... 0 4 2]]\n",
      "(1000, 16)\n",
      "(16,)\n"
     ]
    }
   ],
   "source": [
    "print(dataset)\n",
    "print(dataset.shape)\n",
    "print(dataset[0].shape)"
   ]
  },
  {
   "cell_type": "markdown",
   "metadata": {},
   "source": [
    "$$\n",
    "\\tilde{M}_{kj} = \\left[ \\left( \\frac{w_0}{z_0} \\right)^j \\zeta^{kj} \\right]_{k,j=0}^{n-1}\n",
    "$$"
   ]
  },
  {
   "cell_type": "code",
   "execution_count": 5,
   "metadata": {},
   "outputs": [],
   "source": [
    "def padded_generator_matrix(n, w0, z0):\n",
    "    zeta = np.exp(-2j * np.pi / n)\n",
    "    M_tilde = np.array([[(w0 / z0) ** j * zeta**(k * j) for j in range(n)] for k in range(n)], dtype=complex)\n",
    "    return M_tilde"
   ]
  },
  {
   "cell_type": "code",
   "execution_count": 6,
   "metadata": {},
   "outputs": [
    {
     "name": "stdout",
     "output_type": "stream",
     "text": [
      "(16, 16)\n"
     ]
    }
   ],
   "source": [
    "# (x, y, z, w) --> (1, 2, 3, 4)\n",
    "w0 = 4\n",
    "z0 = 3\n",
    "\n",
    "M_tilde = padded_generator_matrix(n_padded, w0, z0)\n",
    "print(M_tilde.shape)"
   ]
  },
  {
   "cell_type": "code",
   "execution_count": 7,
   "metadata": {},
   "outputs": [
    {
     "name": "stdout",
     "output_type": "stream",
     "text": [
      "[[ 649.89449698  +0.j           69.97998169+371.13335899j\n",
      "   -83.92481787+137.40000024j ...  -88.37954911-103.22398682j\n",
      "   -83.92481787-137.40000024j   69.97998169-371.13335899j]\n",
      " [ 695.87003951  +0.j          268.59479107+394.57072111j\n",
      "   -36.50274968+309.16102475j ...  -47.36788425-179.88976988j\n",
      "   -36.50274968-309.16102475j  268.59479107-394.57072111j]\n",
      " [ 540.63797786  +0.j          235.29809241+209.31041098j\n",
      "   176.66145652+204.71795948j ...  108.87153914-320.22828928j\n",
      "   176.66145652-204.71795948j  235.29809241-209.31041098j]\n",
      " ...\n",
      " [ 460.45123158  +0.j          162.64910275+168.11969395j\n",
      "    54.45039471+219.81284778j ...  -26.91067254-124.72256855j\n",
      "    54.45039471-219.81284778j  162.64910275-168.11969395j]\n",
      " [ 558.17613119  +0.j          -92.41727316+362.85897707j\n",
      "  -228.64175513 +13.85662093j ...  -76.51498185+176.39278765j\n",
      "  -228.64175513 -13.85662093j  -92.41727316-362.85897707j]\n",
      " [ 671.99178181  +0.j          161.97417378+352.04621278j\n",
      "    43.09272997+244.01831359j ...  -56.20864468-237.97753496j\n",
      "    43.09272997-244.01831359j  161.97417378-352.04621278j]]\n"
     ]
    }
   ],
   "source": [
    "encoded_dataset = np.array([np.dot(M_tilde, x) for x in dataset])\n",
    "encoded_dataset[np.abs(encoded_dataset) < 1e-10] = 0\n",
    "encoded_dataset = np.round(encoded_dataset, decimals=10)\n",
    "print(encoded_dataset)"
   ]
  },
  {
   "cell_type": "code",
   "execution_count": 8,
   "metadata": {},
   "outputs": [
    {
     "data": {
      "text/plain": [
       "(1000, 16)"
      ]
     },
     "execution_count": 8,
     "metadata": {},
     "output_type": "execute_result"
    }
   ],
   "source": [
    "encoded_dataset.shape"
   ]
  },
  {
   "cell_type": "code",
   "execution_count": 9,
   "metadata": {},
   "outputs": [
    {
     "name": "stdout",
     "output_type": "stream",
     "text": [
      "[3 4 2 4 4 1 2 2 2 4 3 2 4 1 3 1]\n",
      "[ 649.89449698  +0.j           69.97998169+371.13335899j\n",
      "  -83.92481787+137.40000024j  -88.37954911+103.22398682j\n",
      "  -74.53901813 +41.73652084j  -97.48254893 +37.96448017j\n",
      " -147.95858217-108.15626408j   47.97234649-148.66691513j\n",
      "  146.76987906  -0.j           47.97234649+148.66691513j\n",
      " -147.95858217+108.15626408j  -97.48254893 -37.96448017j\n",
      "  -74.53901813 -41.73652084j  -88.37954911-103.22398682j\n",
      "  -83.92481787-137.40000024j   69.97998169-371.13335899j]\n"
     ]
    }
   ],
   "source": [
    "print(dataset[0])\n",
    "print(encoded_dataset[0])"
   ]
  },
  {
   "cell_type": "code",
   "execution_count": 10,
   "metadata": {},
   "outputs": [
    {
     "name": "stdout",
     "output_type": "stream",
     "text": [
      "\n",
      "X_train_real : (1000, 16)\n",
      "[ 649.8945     69.97998   -83.92482   -88.37955   -74.53902   -97.48255\n",
      " -147.95859    47.972347  146.76988    47.972347 -147.95859   -97.48255\n",
      "  -74.53902   -88.37955   -83.92482    69.97998 ]\n",
      "\n",
      "X_train_imag : (1000, 16)\n",
      "[   0.        371.13336   137.4       103.22398    41.736523   37.96448\n",
      " -108.156265 -148.66692    -0.        148.66692   108.156265  -37.96448\n",
      "  -41.736523 -103.22398  -137.4      -371.13336 ]\n"
     ]
    }
   ],
   "source": [
    "X_real = np.real(encoded_dataset).astype(np.float32)\n",
    "X_imag = np.imag(encoded_dataset).astype(np.float32)\n",
    "\n",
    "print(\"\\nX_train_real :\", X_real.shape)\n",
    "print(X_real[0])\n",
    "print(\"\\nX_train_imag :\", X_imag.shape)\n",
    "print(X_imag[0])"
   ]
  },
  {
   "cell_type": "code",
   "execution_count": 11,
   "metadata": {},
   "outputs": [
    {
     "name": "stdout",
     "output_type": "stream",
     "text": [
      "y: \n",
      "[3. 4. 2. 4. 4. 1. 2. 2. 2. 4. 3. 2. 4. 1. 3. 1.]\n",
      "\n",
      "y_normalized: \n",
      "[0.75 1.   0.5  1.   1.   0.25 0.5  0.5  0.5  1.   0.75 0.5  1.   0.25\n",
      " 0.75 0.25]\n"
     ]
    }
   ],
   "source": [
    "# normalize target data (integers 0-q to [0, 1])\n",
    "y_normalized = dataset.astype(np.float32) / (q - 1)  # Scale to [0, 1]\n",
    "print(\"y: \")\n",
    "print(dataset.astype(np.float32)[0])\n",
    "print(\"\\ny_normalized: \")\n",
    "print(y_normalized[0])\n",
    "\n",
    "labels = y_normalized"
   ]
  },
  {
   "cell_type": "code",
   "execution_count": 12,
   "metadata": {},
   "outputs": [
    {
     "name": "stdout",
     "output_type": "stream",
     "text": [
      "Training data shapes: X_real: (800, 16) X_imag: (800, 16) y: (800, 16)\n",
      "Testing data shapes: X_real: (200, 16) X_imag: (200, 16) y: (200, 16)\n"
     ]
    }
   ],
   "source": [
    "from sklearn.model_selection import train_test_split\n",
    "\n",
    "X_real_train, X_real_test, y_train, y_test = train_test_split(\n",
    "    X_real, labels, test_size=0.2, random_state=42\n",
    ")\n",
    "\n",
    "X_imag_train, X_imag_test, _, _ = train_test_split(\n",
    "    X_imag, labels, test_size=0.2, random_state=42\n",
    ")\n",
    "\n",
    "print(\"Training data shapes: X_real:\", X_real_train.shape, \"X_imag:\", X_imag_train.shape, \"y:\", y_train.shape)\n",
    "print(\"Testing data shapes: X_real:\", X_real_test.shape, \"X_imag:\", X_imag_test.shape, \"y:\", y_test.shape)"
   ]
  },
  {
   "cell_type": "code",
   "execution_count": 13,
   "metadata": {},
   "outputs": [
    {
     "name": "stdout",
     "output_type": "stream",
     "text": [
      "16\n",
      "16\n",
      "16\n",
      "16\n",
      "16\n",
      "16\n"
     ]
    }
   ],
   "source": [
    "print(X_real_train.shape[1])\n",
    "print(X_real_test.shape[1])\n",
    "print(X_imag_train.shape[1])\n",
    "print(X_imag_test.shape[1])\n",
    "print(y_train.shape[1])\n",
    "print(y_test.shape[1])"
   ]
  },
  {
   "cell_type": "code",
   "execution_count": 14,
   "metadata": {},
   "outputs": [
    {
     "name": "stdout",
     "output_type": "stream",
     "text": [
      "16\n",
      "16\n"
     ]
    }
   ],
   "source": [
    "input_dim = X_real_train.shape[1]\n",
    "output_dim = y_train.shape[1]\n",
    "print(input_dim)\n",
    "print(output_dim)"
   ]
  },
  {
   "cell_type": "markdown",
   "metadata": {},
   "source": [
    "DCT-3 Structure Imposed Neural Network"
   ]
  },
  {
   "cell_type": "code",
   "execution_count": 15,
   "metadata": {},
   "outputs": [
    {
     "name": "stdout",
     "output_type": "stream",
     "text": [
      "WARNING:tensorflow:From c:\\Users\\Asus\\anaconda3\\lib\\site-packages\\keras\\src\\losses.py:2976: The name tf.losses.sparse_softmax_cross_entropy is deprecated. Please use tf.compat.v1.losses.sparse_softmax_cross_entropy instead.\n",
      "\n"
     ]
    }
   ],
   "source": [
    "import tensorflow as tf"
   ]
  },
  {
   "cell_type": "code",
   "execution_count": 16,
   "metadata": {},
   "outputs": [],
   "source": [
    "class FirstLayer(tf.keras.layers.Layer):\n",
    "  def __init__(self, units, kernel_initializer='he_normal', bias_initializer='zeros', use_bias=True, **kwargs):\n",
    "    super(FirstLayer, self).__init__(**kwargs)\n",
    "    self.units = units # features/neurons\n",
    "    self.kernel_initializer = kernel_initializer\n",
    "    self.bias_initializer = bias_initializer\n",
    "    self.use_bias = use_bias\n",
    "\n",
    "  def build(self, input_shape):\n",
    "    # input_shape --> (batch_size, input_dim)\n",
    "    n = self.units\n",
    "    n1 = n // 2\n",
    "    \n",
    "    self.d_1 = self.add_weight(name =\"kernel_d1\",\n",
    "                               shape=(n1,),\n",
    "                               initializer=tf.keras.initializers.get(self.kernel_initializer),\n",
    "                              #  regularizer=tf.keras.regularizers.l2(1e-4),\n",
    "                               trainable=True)\n",
    "    self.d_2 = self.add_weight(name =\"kernel_d2\",\n",
    "                               shape=(n1,),\n",
    "                               initializer=tf.keras.initializers.get(self.kernel_initializer),\n",
    "                              #  regularizer=tf.keras.regularizers.l2(1e-4),\n",
    "                               trainable=True)\n",
    "    if self.use_bias:\n",
    "      self.bias = self.add_weight(name =\"bias\",\n",
    "                                  shape=(self.units,),\n",
    "                                  initializer=tf.keras.initializers.get(self.bias_initializer),\n",
    "                                  # regularizer=tf.keras.regularizers.l2(1e-4),\n",
    "                                  trainable=True)\n",
    "\n",
    "  def call(self, inputs):\n",
    "    # print(\"Enters first layer\")\n",
    "    P_n = tf.concat([inputs[:, ::2], inputs[:, 1::2]], axis=1) # permutation [x0, x2, x4, ..., xn-2, x1, x3, x5, ..., xn-1]\n",
    "    out1 = P_n[:, :int(P_n.shape[1]/2)] # even indices [x0 x2 x4 ...]\n",
    "    out2 = P_n[:, int(P_n.shape[1]/2):] # odd indices [x1 x3 x5 ...]\n",
    "    \n",
    "    # expected output for rearrange out2 after bidiagonal matrix ---> out2_n = [sqrt(2).x1, x1+x3, x3+x5+ ..., xn-3+xn-1]   \n",
    "    \n",
    "    out3 = tf.add(\n",
    "      tf.multiply(out2, self.d_1), # diagonal\n",
    "      tf.multiply(tf.concat([tf.zeros_like(out2[:, :1]), out2[:, :-1]], axis=1), self.d_2) # super diagonal\n",
    "    )\n",
    "    \n",
    "    out = tf.concat([out1, out3], axis=1) # [x0 x2 x4 ... sqrt(2).x1, x1+x3, x3+x5+ ..., xn-3+xn-1]\n",
    "\n",
    "    if self.use_bias:\n",
    "      out += self.bias\n",
    "\n",
    "    return out"
   ]
  },
  {
   "cell_type": "code",
   "execution_count": 17,
   "metadata": {},
   "outputs": [],
   "source": [
    "class SecondLayer(tf.keras.layers.Layer):\n",
    "    def __init__(self, units, kernel_initializer='he_normal', bias_initializer='zeros', use_bias=True, **kwargs):\n",
    "        super(SecondLayer, self).__init__(**kwargs)\n",
    "        self.units = units  # Number of neurons/features\n",
    "        self.kernel_initializer = kernel_initializer\n",
    "        self.bias_initializer = bias_initializer\n",
    "        self.use_bias = use_bias\n",
    "\n",
    "    def build(self, input_shape):\n",
    "        n = self.units\n",
    "        n1 = n // 2\n",
    "        num_blocks = n1 // 2  # Number of 2×2 blocks needed for c1 and c2 (for 16 we need 4 blocks)\n",
    "\n",
    "        self.d_1 = self.add_weight(name=\"kernel_d1\",\n",
    "                                   shape=(n1 - 2,),\n",
    "                                   initializer=tf.keras.initializers.get(self.kernel_initializer),\n",
    "                                #    regularizer=tf.keras.regularizers.l2(1e-5),\n",
    "                                   trainable=True)\n",
    "        self.d_2 = self.add_weight(name=\"kernel_d2\",\n",
    "                                   shape=(n1 - 2,),\n",
    "                                   initializer=tf.keras.initializers.get(self.kernel_initializer),\n",
    "                                #    regularizer=tf.keras.regularizers.l2(1e-5),\n",
    "                                   trainable=True)\n",
    "        self.w = self.add_weight(name=\"kernel_w\",\n",
    "                                 shape=(n1 - 2,),\n",
    "                                 initializer=tf.keras.initializers.get(self.kernel_initializer),\n",
    "                                #  regularizer=tf.keras.regularizers.l2(1e-5),\n",
    "                                 trainable=True)\n",
    "    \n",
    "        self.C_1 = self.add_weight(name=\"kernel_C_1\",\n",
    "                                   shape=(num_blocks, 2, 2),\n",
    "                                   initializer=tf.keras.initializers.get(self.kernel_initializer),\n",
    "                                #    regularizer=tf.keras.regularizers.l2(1e-5),\n",
    "                                   trainable=True)\n",
    "        self.C_2 = self.add_weight(name=\"kernel_C_2\",\n",
    "                                   shape=(num_blocks, 2, 2),\n",
    "                                   initializer=tf.keras.initializers.get(self.kernel_initializer),\n",
    "                                #    regularizer=tf.keras.regularizers.l2(1e-5),\n",
    "                                   trainable=True)\n",
    "\n",
    "        if self.use_bias:\n",
    "            self.bias = self.add_weight(name=\"bias\",\n",
    "                                        shape=(self.units,),\n",
    "                                        initializer=tf.keras.initializers.get(self.bias_initializer),\n",
    "                                        # regularizer=tf.keras.regularizers.l2(1e-4),\n",
    "                                        trainable=True)\n",
    "    \n",
    "    def call(self, inputs):\n",
    "        # print(\"Enters second layer\")\n",
    "        \n",
    "        def build_final_matrix(C, n1):\n",
    "            \"\"\"Constructs an n1 x n1 block-diagonal matrix from 2x2 blocks in C.\"\"\"\n",
    "            final_C = tf.eye(n1)  # initialize as an identity matrix\n",
    "            num_blocks = n1 // 2\n",
    "\n",
    "            for i in range(num_blocks):\n",
    "                final_C = tf.tensor_scatter_nd_update(\n",
    "                    final_C,\n",
    "                    indices=[[2*i, 2*i], [2*i, 2*i+1], [2*i+1, 2*i], [2*i+1, 2*i+1]],\n",
    "                    updates=tf.reshape(C[i], (-1,))\n",
    "                )\n",
    "\n",
    "            return final_C\n",
    "\n",
    "        def recursiveDCTIII(inputVector, d_1, d_2, w, C, level):\n",
    "            n = inputVector.shape[1]\n",
    "\n",
    "            if n == 2:\n",
    "                out = tf.matmul(inputVector, C[level])  # select correct 2×2 matrix\n",
    "                return out\n",
    "            else:\n",
    "                P_n = tf.concat([inputVector[:, ::2], inputVector[:, 1::2]], axis=1)  # Permutation\n",
    "                out1 = P_n[:, :n // 2]\n",
    "                out2 = P_n[:, n // 2:]\n",
    "\n",
    "                # Apply diagonal and superdiagonal scaling\n",
    "                d1 = tf.multiply(out2, tf.reshape(d_1[:(n // 2)], (1, -1)))\n",
    "                d2 = tf.concat([tf.zeros_like(out2[:, :1]), tf.multiply(out2[:, :-1], tf.reshape(d_2[:(n // 2) - 1], (1, -1)))], axis=1)\n",
    "                out2_bn = tf.add(d1, d2)\n",
    "\n",
    "                # Recursively apply DCT-III\n",
    "                out1_n = recursiveDCTIII(out1, d_1[n // 2:], d_2[n // 2:], w[n // 2:], C, level + 1)\n",
    "                out2_n = recursiveDCTIII(out2_bn, d_1[n // 2:], d_2[n // 2:], w[n // 2:], C, level + 1)\n",
    "\n",
    "                out2_wn = tf.multiply(out2_n, tf.reshape(w[:n // 2], (1, -1)))\n",
    "\n",
    "                out = (1 / tf.sqrt(tf.constant(2.0, dtype=tf.float32))) * tf.concat(\n",
    "                    [(out1_n + out2_wn), tf.reverse((out1_n - out2_wn), axis=[1])], axis=1)\n",
    "\n",
    "                return out\n",
    "\n",
    "        input1 = inputs[:, :self.units // 2]\n",
    "        input2 = inputs[:, self.units // 2:]\n",
    "\n",
    "        z1 = recursiveDCTIII(input1, self.d_1, self.d_2, self.w, self.C_1, level=0)\n",
    "        z2 = recursiveDCTIII(input2, self.d_1, self.d_2, self.w, self.C_2, level=0)\n",
    "        \n",
    "        final_C1 = build_final_matrix(self.C_1, self.units // 2)\n",
    "        final_C2 = build_final_matrix(self.C_2, self.units // 2)\n",
    "\n",
    "        z1 = tf.matmul(z1, final_C1)\n",
    "        z2 = tf.matmul(z2, final_C2)\n",
    "\n",
    "        out = tf.concat([z1, z2], axis=1)\n",
    "\n",
    "        if self.use_bias:\n",
    "            out += self.bias\n",
    "\n",
    "        return out\n"
   ]
  },
  {
   "cell_type": "code",
   "execution_count": 18,
   "metadata": {},
   "outputs": [],
   "source": [
    "class ThirdLayer(tf.keras.layers.Layer):\n",
    "    def __init__(self, units, kernel_initializer='he_normal', bias_initializer='zeros', use_bias=True, **kwargs):\n",
    "        super(ThirdLayer, self).__init__(**kwargs)\n",
    "        self.units = units # features/neurons\n",
    "        self.kernel_initializer = kernel_initializer\n",
    "        self.bias_initializer = bias_initializer\n",
    "        self.use_bias = use_bias\n",
    "\n",
    "    def build(self, input_shape):\n",
    "        n = self.units\n",
    "        n1 = n // 2\n",
    "        \n",
    "        self.w = self.add_weight(name =\"kernel_w\",\n",
    "                                      shape=(n1,),\n",
    "                                      initializer=tf.keras.initializers.get(self.kernel_initializer),\n",
    "                                    #   regularizer=tf.keras.regularizers.l2(1e-4),\n",
    "                                      trainable=True)\n",
    "        # self.h = self.add_weight(name =\"kernel_h\",\n",
    "        #                               shape = (2,2),\n",
    "        #                               initializer='glorot_normal',\n",
    "        #                               trainable=True)\n",
    "\n",
    "        if self.use_bias:\n",
    "            self.bias = self.add_weight(name =\"bias\",\n",
    "                                       shape=(self.units,),\n",
    "                                       initializer=tf.keras.initializers.get(self.bias_initializer),\n",
    "                                    #    regularizer=tf.keras.regularizers.l2(1e-4),\n",
    "                                       trainable=True)\n",
    "\n",
    "    def call(self, inputs):\n",
    "        # print(\"Enters third layer\")\n",
    "        \n",
    "        out1 = inputs[:, :int(inputs.shape[1] / 2)]\n",
    "        out2 = inputs[:, int(inputs.shape[1] / 2):]\n",
    "\n",
    "        # out1 - stays as is\n",
    "        out3 = tf.multiply(out2, self.w)\n",
    "        \n",
    "        # TODO: make H trainable instead of hardcoded\n",
    "        \n",
    "        out = (1 / tf.sqrt(tf.constant(2.0, dtype=tf.float32))) * tf.concat([(out1 + out3), tf.reverse((out1 - out3), axis=[1])], axis=1)\n",
    "        \n",
    "        if self.use_bias:\n",
    "            out += self.bias\n",
    "\n",
    "        return out"
   ]
  },
  {
   "cell_type": "code",
   "execution_count": 19,
   "metadata": {},
   "outputs": [],
   "source": [
    "class CustomLayer(tf.keras.layers.Layer):\n",
    "    def __init__(self, units, kernel_initializer='he_normal', bias_initializer='zeros', use_bias=True, **kwargs):\n",
    "        super(CustomLayer, self).__init__(**kwargs)\n",
    "        self.units = units # features/neurons\n",
    "        self.kernel_initializer = kernel_initializer\n",
    "        self.bias_initializer = bias_initializer\n",
    "        self.use_bias = use_bias\n",
    "\n",
    "    def build(self, input_shape):\n",
    "        n = self.units\n",
    "        \n",
    "        self.m = self.add_weight(name =\"kernel_m\",\n",
    "                                      shape=(n,),\n",
    "                                      initializer=tf.keras.initializers.get(self.kernel_initializer),\n",
    "                                    #   regularizer=tf.keras.regularizers.l2(1e-4),\n",
    "                                      trainable=True)\n",
    "\n",
    "        if self.use_bias:\n",
    "            self.bias = self.add_weight(name =\"bias\",\n",
    "                                       shape=(self.units,),\n",
    "                                       initializer=tf.keras.initializers.get(self.bias_initializer),\n",
    "                                    #    regularizer=tf.keras.regularizers.l2(1e-4),\n",
    "                                       trainable=True)\n",
    "\n",
    "    def call(self, inputs):\n",
    "        # print(\"Enters custom layer\")\n",
    "\n",
    "        out = tf.multiply(inputs, self.m)\n",
    "        \n",
    "        if self.use_bias:\n",
    "            out += self.bias\n",
    "\n",
    "        return out"
   ]
  },
  {
   "cell_type": "markdown",
   "metadata": {},
   "source": [
    "only difference between the gen matrix encoded and dct encoded is the linear mapping (m weight matrix)"
   ]
  },
  {
   "cell_type": "code",
   "execution_count": 20,
   "metadata": {},
   "outputs": [],
   "source": [
    "class LinearLayer(tf.keras.layers.Layer):\n",
    "    def __init__(self, units, kernel_initializer='ones', bias_initializer='zeros', use_bias=True, **kwargs):\n",
    "        super(LinearLayer, self).__init__(**kwargs)\n",
    "        self.units = units\n",
    "        self.kernel_initializer = kernel_initializer\n",
    "        self.bias_initializer = bias_initializer\n",
    "        self.use_bias = use_bias\n",
    "\n",
    "    def build(self, input_shape):\n",
    "        n = self.units\n",
    "\n",
    "        self.m = self.add_weight(name=\"kernel_m_1\",\n",
    "                                 shape=(n,),\n",
    "                                 initializer=tf.keras.initializers.get(self.kernel_initializer),\n",
    "                                 trainable=True)\n",
    "\n",
    "        if self.use_bias:\n",
    "            self.bias = self.add_weight(name=\"bias\",\n",
    "                                        shape=(self.units,),\n",
    "                                        initializer=tf.keras.initializers.get(self.bias_initializer),\n",
    "                                        trainable=True)\n",
    "\n",
    "    def call(self, inputs):\n",
    "        # print(\"linear layer input:\", inputs.shape)\n",
    "\n",
    "        inputs1 = inputs[:, :int(inputs.shape[1] / 2)]\n",
    "        inputs2 = inputs[:, int(inputs.shape[1] / 2):]\n",
    "\n",
    "        out = tf.math.sqrt(inputs1**2 + inputs2**2)\n",
    "        out = tf.multiply(out, self.m)\n",
    "\n",
    "        if self.use_bias:\n",
    "            out += self.bias\n",
    "\n",
    "        # print(\"linear layer output:\", out.shape)\n",
    "        return out"
   ]
  },
  {
   "cell_type": "markdown",
   "metadata": {},
   "source": [
    "Compile Model"
   ]
  },
  {
   "cell_type": "code",
   "execution_count": 21,
   "metadata": {},
   "outputs": [],
   "source": [
    "from tensorflow.keras.initializers import Initializer\n",
    "\n",
    "class CustomScalingInitializer(Initializer):\n",
    "    def __init__(self, n, w0, z0):\n",
    "        self.n = n\n",
    "        self.w0 = w0\n",
    "        self.z0 = z0\n",
    "\n",
    "    def __call__(self, shape, dtype=None):\n",
    "        return tf.convert_to_tensor([(self.z0 / self.w0) ** k for k in range(self.n)], dtype=dtype)\n",
    "\n",
    "    def get_config(self):\n",
    "        return {\"n\": self.n, \"w0\": self.w0, \"z0\": self.z0}"
   ]
  },
  {
   "cell_type": "code",
   "execution_count": 22,
   "metadata": {},
   "outputs": [
    {
     "name": "stdout",
     "output_type": "stream",
     "text": [
      "WARNING:tensorflow:From c:\\Users\\Asus\\anaconda3\\lib\\site-packages\\keras\\src\\backend.py:1398: The name tf.executing_eagerly_outside_functions is deprecated. Please use tf.compat.v1.executing_eagerly_outside_functions instead.\n",
      "\n",
      "Model: \"model\"\n",
      "__________________________________________________________________________________________________\n",
      " Layer (type)                Output Shape                 Param #   Connected to                  \n",
      "==================================================================================================\n",
      " real_input (InputLayer)     [(None, 16)]                 0         []                            \n",
      "                                                                                                  \n",
      " imag_input (InputLayer)     [(None, 16)]                 0         []                            \n",
      "                                                                                                  \n",
      " real_layer_1 (FirstLayer)   (None, 16)                   32        ['real_input[0][0]']          \n",
      "                                                                                                  \n",
      " imag_layer_1 (FirstLayer)   (None, 16)                   32        ['imag_input[0][0]']          \n",
      "                                                                                                  \n",
      " leaky_re_lu (LeakyReLU)     (None, 16)                   0         ['real_layer_1[0][0]']        \n",
      "                                                                                                  \n",
      " leaky_re_lu_3 (LeakyReLU)   (None, 16)                   0         ['imag_layer_1[0][0]']        \n",
      "                                                                                                  \n",
      " real_layer_2 (SecondLayer)  (None, 16)                   66        ['leaky_re_lu[0][0]']         \n",
      "                                                                                                  \n",
      " imag_layer_2 (SecondLayer)  (None, 16)                   66        ['leaky_re_lu_3[0][0]']       \n",
      "                                                                                                  \n",
      " leaky_re_lu_1 (LeakyReLU)   (None, 16)                   0         ['real_layer_2[0][0]']        \n",
      "                                                                                                  \n",
      " leaky_re_lu_4 (LeakyReLU)   (None, 16)                   0         ['imag_layer_2[0][0]']        \n",
      "                                                                                                  \n",
      " real_layer_3 (ThirdLayer)   (None, 16)                   24        ['leaky_re_lu_1[0][0]']       \n",
      "                                                                                                  \n",
      " imag_layer_3 (ThirdLayer)   (None, 16)                   24        ['leaky_re_lu_4[0][0]']       \n",
      "                                                                                                  \n",
      " leaky_re_lu_2 (LeakyReLU)   (None, 16)                   0         ['real_layer_3[0][0]']        \n",
      "                                                                                                  \n",
      " leaky_re_lu_5 (LeakyReLU)   (None, 16)                   0         ['imag_layer_3[0][0]']        \n",
      "                                                                                                  \n",
      " merge_real_imag (Concatena  (None, 32)                   0         ['leaky_re_lu_2[0][0]',       \n",
      " te)                                                                 'leaky_re_lu_5[0][0]']       \n",
      "                                                                                                  \n",
      " diagonal_scaling_layer (Cu  (None, 32)                   64        ['merge_real_imag[0][0]']     \n",
      " stomLayer)                                                                                       \n",
      "                                                                                                  \n",
      " leaky_re_lu_6 (LeakyReLU)   (None, 32)                   0         ['diagonal_scaling_layer[0][0]\n",
      "                                                                    ']                            \n",
      "                                                                                                  \n",
      " output_layer (LinearLayer)  (None, 16)                   32        ['leaky_re_lu_6[0][0]']       \n",
      "                                                                                                  \n",
      " activation (Activation)     (None, 16)                   0         ['output_layer[0][0]']        \n",
      "                                                                                                  \n",
      "==================================================================================================\n",
      "Total params: 340 (1.33 KB)\n",
      "Trainable params: 340 (1.33 KB)\n",
      "Non-trainable params: 0 (0.00 Byte)\n",
      "__________________________________________________________________________________________________\n"
     ]
    }
   ],
   "source": [
    "import tensorflow as tf\n",
    "from tensorflow.keras.models import Model\n",
    "from tensorflow.keras.layers import Input, Concatenate, LeakyReLU, Activation\n",
    "from tensorflow.keras.optimizers import Adam\n",
    "\n",
    "def cosine_loss(y_true, y_pred):\n",
    "    y_true_norm = tf.nn.l2_normalize(y_true, axis=-1)\n",
    "    y_pred_norm = tf.nn.l2_normalize(y_pred, axis=-1)\n",
    "    return 1 - tf.reduce_mean(tf.reduce_sum(y_true_norm * y_pred_norm, axis=-1))\n",
    "\n",
    "def mse_loss(y_true, y_pred):\n",
    "    mse = tf.reduce_mean(tf.square(y_true - y_pred))\n",
    "    return mse\n",
    "\n",
    "def hybrid_loss(y_true, y_pred):\n",
    "    mse_part = tf.reduce_mean(tf.square(y_true - y_pred))\n",
    "    cos_part = cosine_loss(y_true, y_pred)\n",
    "    return 0.5 * mse_part + 0.5 * cos_part\n",
    "\n",
    "\n",
    "def structured_NN(input_dim, output_dim):\n",
    "    real_input = Input(shape=(input_dim,), name=\"real_input\")\n",
    "    imag_input = Input(shape=(input_dim,), name=\"imag_input\")\n",
    "    \n",
    "    # he_normal\n",
    "    # glorot_normal\n",
    "    # glorot_uniform\n",
    "    \n",
    "    real_x = FirstLayer(units=input_dim, kernel_initializer='glorot_normal', bias_initializer='glorot_uniform', name=\"real_layer_1\")(real_input)\n",
    "    real_x = LeakyReLU(alpha=0.1)(real_x)\n",
    "    # real_x = CustomLayer(units=input_dim, kernel_initializer='he_normal', bias_initializer='zeros', name=\"real_support_layer_1\")(real_x)\n",
    "    # real_x = LeakyReLU(alpha=0.1)(real_x)\n",
    "    real_x = SecondLayer(units=input_dim, kernel_initializer='glorot_normal', bias_initializer='glorot_uniform', name=\"real_layer_2\")(real_x)\n",
    "    real_x = LeakyReLU(alpha=0.1)(real_x)\n",
    "    # real_x = CustomLayer(units=input_dim, kernel_initializer='he_normal', bias_initializer='zeros', name=\"real_support_layer_2\")(real_x)\n",
    "    # real_x = LeakyReLU(alpha=0.1)(real_x)\n",
    "    real_x = ThirdLayer(units=input_dim, kernel_initializer='glorot_normal', bias_initializer='glorot_uniform', name=\"real_layer_3\")(real_x)\n",
    "    real_x = LeakyReLU(alpha=0.1)(real_x)\n",
    "\n",
    "    imag_x = FirstLayer(units=input_dim, kernel_initializer='glorot_normal', bias_initializer='glorot_uniform', name=\"imag_layer_1\")(imag_input)\n",
    "    imag_x = LeakyReLU(alpha=0.1)(imag_x)\n",
    "    # imag_x = CustomLayer(units=input_dim, kernel_initializer='he_normal', bias_initializer='zeros', name=\"imag_support_layer_1\")(imag_x)\n",
    "    # imag_x = LeakyReLU(alpha=0.1)(imag_x)\n",
    "    imag_x = SecondLayer(units=input_dim, kernel_initializer='glorot_normal', bias_initializer='glorot_uniform', name=\"imag_layer_2\")(imag_x)\n",
    "    imag_x = LeakyReLU(alpha=0.1)(imag_x)\n",
    "    # imag_x = CustomLayer(units=input_dim, kernel_initializer='he_normal', bias_initializer='zeros', name=\"imag_support_layer_2\")(imag_x)\n",
    "    # imag_x = LeakyReLU(alpha=0.1)(imag_x)\n",
    "    imag_x = ThirdLayer(units=input_dim, kernel_initializer='glorot_normal', bias_initializer='glorot_uniform', name=\"imag_layer_3\")(imag_x)\n",
    "    imag_x = LeakyReLU(alpha=0.1)(imag_x)\n",
    "\n",
    "    merged = Concatenate(name=\"merge_real_imag\")([real_x, imag_x])\n",
    "    \n",
    "    # output = CustomLayer(units=input_dim * 2, kernel_initializer=CustomScalingInitializer(n=input_dim * 2, w0=w0, z0=z0), \n",
    "    #                      bias_initializer='zeros', name=\"diagonal_scaling_layer\")(merged)\n",
    "    output = CustomLayer(units=input_dim * 2, kernel_initializer='glorot_normal', bias_initializer='glorot_uniform', name=\"diagonal_scaling_layer\")(merged)\n",
    "    output = LeakyReLU(alpha=0.1)(output)\n",
    "    output = LinearLayer(units=output_dim, kernel_initializer='glorot_normal', bias_initializer='glorot_uniform', name=\"output_layer\")(output)\n",
    "    output = Activation('sigmoid')(output) #sigmoid #tanh #linear\n",
    "\n",
    "    model = Model(inputs=[real_input, imag_input], outputs=output)\n",
    "    model.compile(optimizer=Adam(learning_rate=0.001), loss=hybrid_loss, metrics=['mse', 'mae'])\n",
    "\n",
    "    return model\n",
    "\n",
    "input_dim = X_real_train.shape[1]\n",
    "output_dim = y_train.shape[1]\n",
    "model = structured_NN(input_dim, output_dim)\n",
    "model.summary()"
   ]
  },
  {
   "cell_type": "code",
   "execution_count": 23,
   "metadata": {},
   "outputs": [
    {
     "name": "stdout",
     "output_type": "stream",
     "text": [
      "real_input [(None, 16)]\n",
      "imag_input [(None, 16)]\n",
      "real_layer_1 (None, 16)\n",
      "imag_layer_1 (None, 16)\n",
      "leaky_re_lu (None, 16)\n",
      "leaky_re_lu_3 (None, 16)\n",
      "real_layer_2 (None, 16)\n",
      "imag_layer_2 (None, 16)\n",
      "leaky_re_lu_1 (None, 16)\n",
      "leaky_re_lu_4 (None, 16)\n",
      "real_layer_3 (None, 16)\n",
      "imag_layer_3 (None, 16)\n",
      "leaky_re_lu_2 (None, 16)\n",
      "leaky_re_lu_5 (None, 16)\n",
      "merge_real_imag (None, 32)\n",
      "diagonal_scaling_layer (None, 32)\n",
      "leaky_re_lu_6 (None, 32)\n",
      "output_layer (None, 16)\n",
      "activation (None, 16)\n"
     ]
    }
   ],
   "source": [
    "for layer in model.layers:\n",
    "    print(layer.name, layer.output_shape)"
   ]
  },
  {
   "cell_type": "markdown",
   "metadata": {},
   "source": [
    "Training the NN"
   ]
  },
  {
   "cell_type": "code",
   "execution_count": 24,
   "metadata": {},
   "outputs": [],
   "source": [
    "from tensorflow.keras.callbacks import EarlyStopping, ReduceLROnPlateau\n",
    "\n",
    "early_stopping = EarlyStopping(monitor='val_loss', patience=10, restore_best_weights=True)\n",
    "\n",
    "adjust_lr = ReduceLROnPlateau(\n",
    "    monitor='val_loss',\n",
    "    factor=0.5,\n",
    "    patience=5,\n",
    "    min_lr=1e-7,\n",
    "    verbose=1\n",
    ")"
   ]
  },
  {
   "cell_type": "code",
   "execution_count": 25,
   "metadata": {},
   "outputs": [
    {
     "name": "stdout",
     "output_type": "stream",
     "text": [
      "Epoch 1/500\n",
      "WARNING:tensorflow:From c:\\Users\\Asus\\anaconda3\\lib\\site-packages\\keras\\src\\utils\\tf_utils.py:492: The name tf.ragged.RaggedTensorValue is deprecated. Please use tf.compat.v1.ragged.RaggedTensorValue instead.\n",
      "\n",
      "WARNING:tensorflow:From c:\\Users\\Asus\\anaconda3\\lib\\site-packages\\keras\\src\\engine\\base_layer_utils.py:384: The name tf.executing_eagerly_outside_functions is deprecated. Please use tf.compat.v1.executing_eagerly_outside_functions instead.\n",
      "\n",
      "50/50 [==============================] - 13s 42ms/step - loss: 0.1707 - mse: 0.1395 - mae: 0.3203 - val_loss: 0.1628 - val_mse: 0.1310 - val_mae: 0.3125 - lr: 0.0010\n",
      "Epoch 2/500\n",
      "50/50 [==============================] - 0s 5ms/step - loss: 0.1556 - mse: 0.1274 - mae: 0.3089 - val_loss: 0.1558 - val_mse: 0.1257 - val_mae: 0.3058 - lr: 0.0010\n",
      "Epoch 3/500\n",
      "50/50 [==============================] - 0s 4ms/step - loss: 0.1520 - mse: 0.1247 - mae: 0.3049 - val_loss: 0.1535 - val_mse: 0.1239 - val_mae: 0.3030 - lr: 0.0010\n",
      "Epoch 4/500\n",
      "50/50 [==============================] - 0s 5ms/step - loss: 0.1505 - mse: 0.1235 - mae: 0.3030 - val_loss: 0.1520 - val_mse: 0.1228 - val_mae: 0.3012 - lr: 0.0010\n",
      "Epoch 5/500\n",
      "50/50 [==============================] - 0s 5ms/step - loss: 0.1493 - mse: 0.1227 - mae: 0.3014 - val_loss: 0.1508 - val_mse: 0.1219 - val_mae: 0.2997 - lr: 0.0010\n",
      "Epoch 6/500\n",
      "50/50 [==============================] - 0s 7ms/step - loss: 0.1484 - mse: 0.1219 - mae: 0.3001 - val_loss: 0.1498 - val_mse: 0.1211 - val_mae: 0.2984 - lr: 0.0010\n",
      "Epoch 7/500\n",
      "50/50 [==============================] - 0s 6ms/step - loss: 0.1476 - mse: 0.1213 - mae: 0.2989 - val_loss: 0.1490 - val_mse: 0.1205 - val_mae: 0.2973 - lr: 0.0010\n",
      "Epoch 8/500\n",
      "50/50 [==============================] - 0s 6ms/step - loss: 0.1469 - mse: 0.1208 - mae: 0.2979 - val_loss: 0.1482 - val_mse: 0.1199 - val_mae: 0.2964 - lr: 0.0010\n",
      "Epoch 9/500\n",
      "50/50 [==============================] - 0s 8ms/step - loss: 0.1461 - mse: 0.1202 - mae: 0.2970 - val_loss: 0.1471 - val_mse: 0.1191 - val_mae: 0.2950 - lr: 0.0010\n",
      "Epoch 10/500\n",
      "50/50 [==============================] - 0s 4ms/step - loss: 0.1448 - mse: 0.1193 - mae: 0.2957 - val_loss: 0.1458 - val_mse: 0.1181 - val_mae: 0.2937 - lr: 0.0010\n",
      "Epoch 11/500\n",
      "50/50 [==============================] - 0s 5ms/step - loss: 0.1440 - mse: 0.1186 - mae: 0.2947 - val_loss: 0.1451 - val_mse: 0.1176 - val_mae: 0.2928 - lr: 0.0010\n",
      "Epoch 12/500\n",
      "50/50 [==============================] - 0s 5ms/step - loss: 0.1433 - mse: 0.1181 - mae: 0.2938 - val_loss: 0.1445 - val_mse: 0.1171 - val_mae: 0.2921 - lr: 0.0010\n",
      "Epoch 13/500\n",
      "50/50 [==============================] - 0s 4ms/step - loss: 0.1427 - mse: 0.1177 - mae: 0.2932 - val_loss: 0.1439 - val_mse: 0.1167 - val_mae: 0.2913 - lr: 0.0010\n",
      "Epoch 14/500\n",
      "50/50 [==============================] - 0s 4ms/step - loss: 0.1421 - mse: 0.1172 - mae: 0.2924 - val_loss: 0.1433 - val_mse: 0.1163 - val_mae: 0.2907 - lr: 0.0010\n",
      "Epoch 15/500\n",
      "50/50 [==============================] - 0s 5ms/step - loss: 0.1415 - mse: 0.1168 - mae: 0.2917 - val_loss: 0.1427 - val_mse: 0.1158 - val_mae: 0.2901 - lr: 0.0010\n",
      "Epoch 16/500\n",
      "50/50 [==============================] - 0s 8ms/step - loss: 0.1410 - mse: 0.1163 - mae: 0.2911 - val_loss: 0.1421 - val_mse: 0.1153 - val_mae: 0.2894 - lr: 0.0010\n",
      "Epoch 17/500\n",
      "50/50 [==============================] - 1s 11ms/step - loss: 0.1404 - mse: 0.1159 - mae: 0.2905 - val_loss: 0.1415 - val_mse: 0.1149 - val_mae: 0.2888 - lr: 0.0010\n",
      "Epoch 18/500\n",
      "50/50 [==============================] - 0s 9ms/step - loss: 0.1397 - mse: 0.1154 - mae: 0.2896 - val_loss: 0.1405 - val_mse: 0.1141 - val_mae: 0.2877 - lr: 0.0010\n",
      "Epoch 19/500\n",
      "50/50 [==============================] - 1s 14ms/step - loss: 0.1385 - mse: 0.1144 - mae: 0.2880 - val_loss: 0.1389 - val_mse: 0.1129 - val_mae: 0.2854 - lr: 0.0010\n",
      "Epoch 20/500\n",
      "50/50 [==============================] - 1s 12ms/step - loss: 0.1372 - mse: 0.1133 - mae: 0.2861 - val_loss: 0.1377 - val_mse: 0.1120 - val_mae: 0.2838 - lr: 0.0010\n",
      "Epoch 21/500\n",
      "50/50 [==============================] - 1s 12ms/step - loss: 0.1362 - mse: 0.1125 - mae: 0.2846 - val_loss: 0.1367 - val_mse: 0.1113 - val_mae: 0.2825 - lr: 0.0010\n",
      "Epoch 22/500\n",
      "50/50 [==============================] - 0s 9ms/step - loss: 0.1353 - mse: 0.1118 - mae: 0.2834 - val_loss: 0.1358 - val_mse: 0.1105 - val_mae: 0.2812 - lr: 0.0010\n",
      "Epoch 23/500\n",
      "50/50 [==============================] - 0s 8ms/step - loss: 0.1343 - mse: 0.1110 - mae: 0.2821 - val_loss: 0.1348 - val_mse: 0.1098 - val_mae: 0.2798 - lr: 0.0010\n",
      "Epoch 24/500\n",
      "50/50 [==============================] - 1s 16ms/step - loss: 0.1335 - mse: 0.1103 - mae: 0.2810 - val_loss: 0.1340 - val_mse: 0.1091 - val_mae: 0.2787 - lr: 0.0010\n",
      "Epoch 25/500\n",
      "50/50 [==============================] - 1s 24ms/step - loss: 0.1326 - mse: 0.1096 - mae: 0.2797 - val_loss: 0.1331 - val_mse: 0.1084 - val_mae: 0.2775 - lr: 0.0010\n",
      "Epoch 26/500\n",
      "50/50 [==============================] - 1s 14ms/step - loss: 0.1318 - mse: 0.1090 - mae: 0.2786 - val_loss: 0.1324 - val_mse: 0.1079 - val_mae: 0.2761 - lr: 0.0010\n",
      "Epoch 27/500\n",
      "50/50 [==============================] - 1s 16ms/step - loss: 0.1310 - mse: 0.1083 - mae: 0.2773 - val_loss: 0.1316 - val_mse: 0.1072 - val_mae: 0.2749 - lr: 0.0010\n",
      "Epoch 28/500\n",
      "50/50 [==============================] - 1s 12ms/step - loss: 0.1302 - mse: 0.1077 - mae: 0.2762 - val_loss: 0.1309 - val_mse: 0.1067 - val_mae: 0.2739 - lr: 0.0010\n",
      "Epoch 29/500\n",
      "50/50 [==============================] - 1s 11ms/step - loss: 0.1295 - mse: 0.1072 - mae: 0.2752 - val_loss: 0.1301 - val_mse: 0.1061 - val_mae: 0.2728 - lr: 0.0010\n",
      "Epoch 30/500\n",
      "50/50 [==============================] - 1s 19ms/step - loss: 0.1288 - mse: 0.1066 - mae: 0.2741 - val_loss: 0.1294 - val_mse: 0.1055 - val_mae: 0.2719 - lr: 0.0010\n",
      "Epoch 31/500\n",
      "50/50 [==============================] - 0s 10ms/step - loss: 0.1282 - mse: 0.1061 - mae: 0.2732 - val_loss: 0.1289 - val_mse: 0.1051 - val_mae: 0.2711 - lr: 0.0010\n",
      "Epoch 32/500\n",
      "50/50 [==============================] - 1s 16ms/step - loss: 0.1276 - mse: 0.1056 - mae: 0.2723 - val_loss: 0.1281 - val_mse: 0.1045 - val_mae: 0.2699 - lr: 0.0010\n",
      "Epoch 33/500\n",
      "50/50 [==============================] - 1s 16ms/step - loss: 0.1270 - mse: 0.1052 - mae: 0.2715 - val_loss: 0.1274 - val_mse: 0.1039 - val_mae: 0.2690 - lr: 0.0010\n",
      "Epoch 34/500\n",
      "50/50 [==============================] - 0s 8ms/step - loss: 0.1264 - mse: 0.1047 - mae: 0.2706 - val_loss: 0.1268 - val_mse: 0.1034 - val_mae: 0.2679 - lr: 0.0010\n",
      "Epoch 35/500\n",
      "50/50 [==============================] - 1s 12ms/step - loss: 0.1259 - mse: 0.1043 - mae: 0.2697 - val_loss: 0.1260 - val_mse: 0.1028 - val_mae: 0.2668 - lr: 0.0010\n",
      "Epoch 36/500\n",
      "50/50 [==============================] - 0s 9ms/step - loss: 0.1252 - mse: 0.1038 - mae: 0.2688 - val_loss: 0.1248 - val_mse: 0.1018 - val_mae: 0.2650 - lr: 0.0010\n",
      "Epoch 37/500\n",
      "50/50 [==============================] - 1s 11ms/step - loss: 0.1242 - mse: 0.1029 - mae: 0.2673 - val_loss: 0.1239 - val_mse: 0.1010 - val_mae: 0.2636 - lr: 0.0010\n",
      "Epoch 38/500\n",
      "50/50 [==============================] - 1s 11ms/step - loss: 0.1236 - mse: 0.1025 - mae: 0.2663 - val_loss: 0.1233 - val_mse: 0.1005 - val_mae: 0.2627 - lr: 0.0010\n",
      "Epoch 39/500\n",
      "50/50 [==============================] - 0s 9ms/step - loss: 0.1231 - mse: 0.1021 - mae: 0.2654 - val_loss: 0.1225 - val_mse: 0.0999 - val_mae: 0.2614 - lr: 0.0010\n",
      "Epoch 40/500\n",
      "50/50 [==============================] - 0s 7ms/step - loss: 0.1226 - mse: 0.1017 - mae: 0.2646 - val_loss: 0.1221 - val_mse: 0.0996 - val_mae: 0.2608 - lr: 0.0010\n",
      "Epoch 41/500\n",
      "50/50 [==============================] - 0s 7ms/step - loss: 0.1222 - mse: 0.1013 - mae: 0.2640 - val_loss: 0.1217 - val_mse: 0.0992 - val_mae: 0.2602 - lr: 0.0010\n",
      "Epoch 42/500\n",
      "50/50 [==============================] - 0s 7ms/step - loss: 0.1218 - mse: 0.1010 - mae: 0.2634 - val_loss: 0.1212 - val_mse: 0.0988 - val_mae: 0.2592 - lr: 0.0010\n",
      "Epoch 43/500\n",
      "50/50 [==============================] - 0s 8ms/step - loss: 0.1213 - mse: 0.1007 - mae: 0.2627 - val_loss: 0.1206 - val_mse: 0.0984 - val_mae: 0.2585 - lr: 0.0010\n",
      "Epoch 44/500\n",
      "50/50 [==============================] - 0s 7ms/step - loss: 0.1209 - mse: 0.1003 - mae: 0.2620 - val_loss: 0.1202 - val_mse: 0.0981 - val_mae: 0.2579 - lr: 0.0010\n",
      "Epoch 45/500\n",
      "50/50 [==============================] - 0s 6ms/step - loss: 0.1206 - mse: 0.1001 - mae: 0.2614 - val_loss: 0.1197 - val_mse: 0.0977 - val_mae: 0.2571 - lr: 0.0010\n",
      "Epoch 46/500\n",
      "50/50 [==============================] - 0s 6ms/step - loss: 0.1202 - mse: 0.0998 - mae: 0.2608 - val_loss: 0.1196 - val_mse: 0.0976 - val_mae: 0.2568 - lr: 0.0010\n",
      "Epoch 47/500\n",
      "50/50 [==============================] - 0s 7ms/step - loss: 0.1198 - mse: 0.0995 - mae: 0.2603 - val_loss: 0.1190 - val_mse: 0.0971 - val_mae: 0.2559 - lr: 0.0010\n",
      "Epoch 48/500\n",
      "50/50 [==============================] - 0s 6ms/step - loss: 0.1195 - mse: 0.0992 - mae: 0.2597 - val_loss: 0.1188 - val_mse: 0.0969 - val_mae: 0.2555 - lr: 0.0010\n",
      "Epoch 49/500\n",
      "50/50 [==============================] - 0s 7ms/step - loss: 0.1192 - mse: 0.0990 - mae: 0.2593 - val_loss: 0.1184 - val_mse: 0.0966 - val_mae: 0.2548 - lr: 0.0010\n",
      "Epoch 50/500\n",
      "50/50 [==============================] - 0s 8ms/step - loss: 0.1188 - mse: 0.0987 - mae: 0.2585 - val_loss: 0.1181 - val_mse: 0.0964 - val_mae: 0.2543 - lr: 0.0010\n",
      "Epoch 51/500\n",
      "50/50 [==============================] - 0s 7ms/step - loss: 0.1186 - mse: 0.0985 - mae: 0.2582 - val_loss: 0.1179 - val_mse: 0.0963 - val_mae: 0.2539 - lr: 0.0010\n",
      "Epoch 52/500\n",
      "50/50 [==============================] - 0s 6ms/step - loss: 0.1183 - mse: 0.0983 - mae: 0.2576 - val_loss: 0.1174 - val_mse: 0.0959 - val_mae: 0.2531 - lr: 0.0010\n",
      "Epoch 53/500\n",
      "50/50 [==============================] - 0s 6ms/step - loss: 0.1180 - mse: 0.0980 - mae: 0.2572 - val_loss: 0.1171 - val_mse: 0.0957 - val_mae: 0.2528 - lr: 0.0010\n",
      "Epoch 54/500\n",
      "50/50 [==============================] - 0s 6ms/step - loss: 0.1178 - mse: 0.0978 - mae: 0.2568 - val_loss: 0.1168 - val_mse: 0.0954 - val_mae: 0.2520 - lr: 0.0010\n",
      "Epoch 55/500\n",
      "50/50 [==============================] - 0s 6ms/step - loss: 0.1175 - mse: 0.0976 - mae: 0.2562 - val_loss: 0.1166 - val_mse: 0.0953 - val_mae: 0.2516 - lr: 0.0010\n",
      "Epoch 56/500\n",
      "50/50 [==============================] - 0s 6ms/step - loss: 0.1172 - mse: 0.0974 - mae: 0.2557 - val_loss: 0.1165 - val_mse: 0.0952 - val_mae: 0.2513 - lr: 0.0010\n",
      "Epoch 57/500\n",
      "50/50 [==============================] - 0s 6ms/step - loss: 0.1169 - mse: 0.0971 - mae: 0.2551 - val_loss: 0.1158 - val_mse: 0.0946 - val_mae: 0.2503 - lr: 0.0010\n",
      "Epoch 58/500\n",
      "50/50 [==============================] - 0s 6ms/step - loss: 0.1165 - mse: 0.0968 - mae: 0.2543 - val_loss: 0.1156 - val_mse: 0.0945 - val_mae: 0.2498 - lr: 0.0010\n",
      "Epoch 59/500\n",
      "50/50 [==============================] - 0s 7ms/step - loss: 0.1162 - mse: 0.0966 - mae: 0.2538 - val_loss: 0.1154 - val_mse: 0.0943 - val_mae: 0.2494 - lr: 0.0010\n",
      "Epoch 60/500\n",
      "50/50 [==============================] - 0s 6ms/step - loss: 0.1160 - mse: 0.0964 - mae: 0.2534 - val_loss: 0.1152 - val_mse: 0.0942 - val_mae: 0.2491 - lr: 0.0010\n",
      "Epoch 61/500\n",
      "50/50 [==============================] - 0s 7ms/step - loss: 0.1158 - mse: 0.0963 - mae: 0.2532 - val_loss: 0.1150 - val_mse: 0.0940 - val_mae: 0.2487 - lr: 0.0010\n",
      "Epoch 62/500\n",
      "50/50 [==============================] - 0s 6ms/step - loss: 0.1157 - mse: 0.0962 - mae: 0.2528 - val_loss: 0.1149 - val_mse: 0.0939 - val_mae: 0.2484 - lr: 0.0010\n",
      "Epoch 63/500\n",
      "50/50 [==============================] - 0s 7ms/step - loss: 0.1155 - mse: 0.0960 - mae: 0.2525 - val_loss: 0.1147 - val_mse: 0.0938 - val_mae: 0.2481 - lr: 0.0010\n",
      "Epoch 64/500\n",
      "50/50 [==============================] - 0s 6ms/step - loss: 0.1154 - mse: 0.0959 - mae: 0.2523 - val_loss: 0.1147 - val_mse: 0.0937 - val_mae: 0.2479 - lr: 0.0010\n",
      "Epoch 65/500\n",
      "50/50 [==============================] - 0s 6ms/step - loss: 0.1152 - mse: 0.0958 - mae: 0.2520 - val_loss: 0.1146 - val_mse: 0.0936 - val_mae: 0.2477 - lr: 0.0010\n",
      "Epoch 66/500\n",
      "50/50 [==============================] - 0s 6ms/step - loss: 0.1151 - mse: 0.0957 - mae: 0.2518 - val_loss: 0.1144 - val_mse: 0.0935 - val_mae: 0.2474 - lr: 0.0010\n",
      "Epoch 67/500\n",
      "50/50 [==============================] - 0s 6ms/step - loss: 0.1150 - mse: 0.0956 - mae: 0.2517 - val_loss: 0.1142 - val_mse: 0.0933 - val_mae: 0.2471 - lr: 0.0010\n",
      "Epoch 68/500\n",
      "50/50 [==============================] - 0s 5ms/step - loss: 0.1149 - mse: 0.0956 - mae: 0.2513 - val_loss: 0.1142 - val_mse: 0.0933 - val_mae: 0.2470 - lr: 0.0010\n",
      "Epoch 69/500\n",
      "50/50 [==============================] - 0s 5ms/step - loss: 0.1148 - mse: 0.0955 - mae: 0.2512 - val_loss: 0.1141 - val_mse: 0.0932 - val_mae: 0.2466 - lr: 0.0010\n",
      "Epoch 70/500\n",
      "50/50 [==============================] - 0s 6ms/step - loss: 0.1147 - mse: 0.0953 - mae: 0.2508 - val_loss: 0.1141 - val_mse: 0.0932 - val_mae: 0.2465 - lr: 0.0010\n",
      "Epoch 71/500\n",
      "50/50 [==============================] - 0s 6ms/step - loss: 0.1147 - mse: 0.0953 - mae: 0.2508 - val_loss: 0.1140 - val_mse: 0.0931 - val_mae: 0.2463 - lr: 0.0010\n",
      "Epoch 72/500\n",
      "50/50 [==============================] - 0s 5ms/step - loss: 0.1145 - mse: 0.0952 - mae: 0.2504 - val_loss: 0.1141 - val_mse: 0.0932 - val_mae: 0.2461 - lr: 0.0010\n",
      "Epoch 73/500\n",
      "50/50 [==============================] - 0s 6ms/step - loss: 0.1144 - mse: 0.0951 - mae: 0.2503 - val_loss: 0.1137 - val_mse: 0.0929 - val_mae: 0.2458 - lr: 0.0010\n",
      "Epoch 74/500\n",
      "50/50 [==============================] - 0s 7ms/step - loss: 0.1144 - mse: 0.0951 - mae: 0.2503 - val_loss: 0.1138 - val_mse: 0.0930 - val_mae: 0.2457 - lr: 0.0010\n",
      "Epoch 75/500\n",
      "50/50 [==============================] - 0s 6ms/step - loss: 0.1142 - mse: 0.0950 - mae: 0.2498 - val_loss: 0.1136 - val_mse: 0.0928 - val_mae: 0.2455 - lr: 0.0010\n",
      "Epoch 76/500\n",
      "50/50 [==============================] - 0s 6ms/step - loss: 0.1142 - mse: 0.0949 - mae: 0.2498 - val_loss: 0.1135 - val_mse: 0.0927 - val_mae: 0.2452 - lr: 0.0010\n",
      "Epoch 77/500\n",
      "50/50 [==============================] - 0s 6ms/step - loss: 0.1141 - mse: 0.0949 - mae: 0.2497 - val_loss: 0.1136 - val_mse: 0.0928 - val_mae: 0.2453 - lr: 0.0010\n",
      "Epoch 78/500\n",
      "50/50 [==============================] - 0s 5ms/step - loss: 0.1140 - mse: 0.0948 - mae: 0.2495 - val_loss: 0.1135 - val_mse: 0.0927 - val_mae: 0.2451 - lr: 0.0010\n",
      "Epoch 79/500\n",
      "50/50 [==============================] - 0s 6ms/step - loss: 0.1140 - mse: 0.0948 - mae: 0.2494 - val_loss: 0.1133 - val_mse: 0.0926 - val_mae: 0.2449 - lr: 0.0010\n",
      "Epoch 80/500\n",
      "50/50 [==============================] - 0s 8ms/step - loss: 0.1138 - mse: 0.0946 - mae: 0.2492 - val_loss: 0.1137 - val_mse: 0.0928 - val_mae: 0.2451 - lr: 0.0010\n",
      "Epoch 81/500\n",
      "50/50 [==============================] - 0s 6ms/step - loss: 0.1138 - mse: 0.0947 - mae: 0.2491 - val_loss: 0.1135 - val_mse: 0.0927 - val_mae: 0.2449 - lr: 0.0010\n",
      "Epoch 82/500\n",
      "50/50 [==============================] - 0s 8ms/step - loss: 0.1137 - mse: 0.0946 - mae: 0.2491 - val_loss: 0.1132 - val_mse: 0.0925 - val_mae: 0.2445 - lr: 0.0010\n",
      "Epoch 83/500\n",
      "50/50 [==============================] - 0s 6ms/step - loss: 0.1137 - mse: 0.0945 - mae: 0.2488 - val_loss: 0.1134 - val_mse: 0.0926 - val_mae: 0.2446 - lr: 0.0010\n",
      "Epoch 84/500\n",
      "50/50 [==============================] - 0s 7ms/step - loss: 0.1136 - mse: 0.0945 - mae: 0.2487 - val_loss: 0.1130 - val_mse: 0.0923 - val_mae: 0.2443 - lr: 0.0010\n",
      "Epoch 85/500\n",
      "50/50 [==============================] - 0s 6ms/step - loss: 0.1135 - mse: 0.0944 - mae: 0.2486 - val_loss: 0.1133 - val_mse: 0.0925 - val_mae: 0.2445 - lr: 0.0010\n",
      "Epoch 86/500\n",
      "50/50 [==============================] - 0s 6ms/step - loss: 0.1135 - mse: 0.0944 - mae: 0.2485 - val_loss: 0.1130 - val_mse: 0.0923 - val_mae: 0.2442 - lr: 0.0010\n",
      "Epoch 87/500\n",
      "50/50 [==============================] - 0s 6ms/step - loss: 0.1134 - mse: 0.0943 - mae: 0.2483 - val_loss: 0.1130 - val_mse: 0.0923 - val_mae: 0.2440 - lr: 0.0010\n",
      "Epoch 88/500\n",
      "50/50 [==============================] - 0s 9ms/step - loss: 0.1133 - mse: 0.0942 - mae: 0.2482 - val_loss: 0.1130 - val_mse: 0.0923 - val_mae: 0.2439 - lr: 0.0010\n",
      "Epoch 89/500\n",
      "42/50 [========================>.....] - ETA: 0s - loss: 0.1136 - mse: 0.0945 - mae: 0.2490\n",
      "Epoch 89: ReduceLROnPlateau reducing learning rate to 0.0005000000237487257.\n",
      "50/50 [==============================] - 0s 7ms/step - loss: 0.1133 - mse: 0.0942 - mae: 0.2481 - val_loss: 0.1131 - val_mse: 0.0924 - val_mae: 0.2440 - lr: 0.0010\n",
      "Epoch 90/500\n",
      "50/50 [==============================] - 0s 8ms/step - loss: 0.1132 - mse: 0.0941 - mae: 0.2480 - val_loss: 0.1129 - val_mse: 0.0922 - val_mae: 0.2438 - lr: 5.0000e-04\n",
      "Epoch 91/500\n",
      "50/50 [==============================] - 0s 7ms/step - loss: 0.1131 - mse: 0.0941 - mae: 0.2478 - val_loss: 0.1129 - val_mse: 0.0922 - val_mae: 0.2437 - lr: 5.0000e-04\n",
      "Epoch 92/500\n",
      "50/50 [==============================] - 0s 6ms/step - loss: 0.1131 - mse: 0.0941 - mae: 0.2478 - val_loss: 0.1130 - val_mse: 0.0923 - val_mae: 0.2437 - lr: 5.0000e-04\n",
      "Epoch 93/500\n",
      "50/50 [==============================] - 0s 6ms/step - loss: 0.1131 - mse: 0.0940 - mae: 0.2477 - val_loss: 0.1129 - val_mse: 0.0922 - val_mae: 0.2436 - lr: 5.0000e-04\n",
      "Epoch 94/500\n",
      "50/50 [==============================] - 0s 6ms/step - loss: 0.1130 - mse: 0.0940 - mae: 0.2476 - val_loss: 0.1129 - val_mse: 0.0922 - val_mae: 0.2435 - lr: 5.0000e-04\n",
      "Epoch 95/500\n",
      "50/50 [==============================] - ETA: 0s - loss: 0.1130 - mse: 0.0940 - mae: 0.2475\n",
      "Epoch 95: ReduceLROnPlateau reducing learning rate to 0.0002500000118743628.\n",
      "50/50 [==============================] - 0s 7ms/step - loss: 0.1130 - mse: 0.0940 - mae: 0.2475 - val_loss: 0.1129 - val_mse: 0.0922 - val_mae: 0.2435 - lr: 5.0000e-04\n",
      "Epoch 96/500\n",
      "50/50 [==============================] - 0s 8ms/step - loss: 0.1130 - mse: 0.0940 - mae: 0.2475 - val_loss: 0.1128 - val_mse: 0.0922 - val_mae: 0.2434 - lr: 2.5000e-04\n",
      "Epoch 97/500\n",
      "50/50 [==============================] - 0s 6ms/step - loss: 0.1129 - mse: 0.0939 - mae: 0.2474 - val_loss: 0.1128 - val_mse: 0.0921 - val_mae: 0.2434 - lr: 2.5000e-04\n",
      "Epoch 98/500\n",
      "50/50 [==============================] - 0s 6ms/step - loss: 0.1129 - mse: 0.0939 - mae: 0.2474 - val_loss: 0.1128 - val_mse: 0.0922 - val_mae: 0.2435 - lr: 2.5000e-04\n",
      "Epoch 99/500\n",
      "50/50 [==============================] - 0s 6ms/step - loss: 0.1129 - mse: 0.0939 - mae: 0.2474 - val_loss: 0.1128 - val_mse: 0.0922 - val_mae: 0.2434 - lr: 2.5000e-04\n",
      "Epoch 100/500\n",
      "50/50 [==============================] - 0s 8ms/step - loss: 0.1129 - mse: 0.0939 - mae: 0.2473 - val_loss: 0.1128 - val_mse: 0.0922 - val_mae: 0.2434 - lr: 2.5000e-04\n",
      "Epoch 101/500\n",
      "50/50 [==============================] - 0s 6ms/step - loss: 0.1129 - mse: 0.0939 - mae: 0.2473 - val_loss: 0.1129 - val_mse: 0.0922 - val_mae: 0.2434 - lr: 2.5000e-04\n",
      "Epoch 102/500\n",
      "48/50 [===========================>..] - ETA: 0s - loss: 0.1127 - mse: 0.0938 - mae: 0.2471\n",
      "Epoch 102: ReduceLROnPlateau reducing learning rate to 0.0001250000059371814.\n",
      "50/50 [==============================] - 0s 6ms/step - loss: 0.1129 - mse: 0.0939 - mae: 0.2473 - val_loss: 0.1128 - val_mse: 0.0922 - val_mae: 0.2434 - lr: 2.5000e-04\n",
      "Epoch 103/500\n",
      "50/50 [==============================] - 0s 6ms/step - loss: 0.1129 - mse: 0.0939 - mae: 0.2473 - val_loss: 0.1128 - val_mse: 0.0921 - val_mae: 0.2433 - lr: 1.2500e-04\n",
      "Epoch 104/500\n",
      "50/50 [==============================] - 0s 7ms/step - loss: 0.1128 - mse: 0.0938 - mae: 0.2472 - val_loss: 0.1128 - val_mse: 0.0921 - val_mae: 0.2433 - lr: 1.2500e-04\n",
      "Epoch 105/500\n",
      "50/50 [==============================] - 0s 7ms/step - loss: 0.1128 - mse: 0.0938 - mae: 0.2472 - val_loss: 0.1128 - val_mse: 0.0921 - val_mae: 0.2433 - lr: 1.2500e-04\n",
      "Epoch 106/500\n",
      "50/50 [==============================] - 0s 6ms/step - loss: 0.1128 - mse: 0.0938 - mae: 0.2472 - val_loss: 0.1128 - val_mse: 0.0921 - val_mae: 0.2433 - lr: 1.2500e-04\n",
      "Epoch 107/500\n",
      "47/50 [===========================>..] - ETA: 0s - loss: 0.1124 - mse: 0.0939 - mae: 0.2472\n",
      "Epoch 107: ReduceLROnPlateau reducing learning rate to 6.25000029685907e-05.\n",
      "50/50 [==============================] - 0s 6ms/step - loss: 0.1128 - mse: 0.0938 - mae: 0.2472 - val_loss: 0.1128 - val_mse: 0.0921 - val_mae: 0.2433 - lr: 1.2500e-04\n",
      "Epoch 108/500\n",
      "50/50 [==============================] - 0s 6ms/step - loss: 0.1128 - mse: 0.0938 - mae: 0.2472 - val_loss: 0.1128 - val_mse: 0.0921 - val_mae: 0.2433 - lr: 6.2500e-05\n",
      "Epoch 109/500\n",
      "50/50 [==============================] - 0s 6ms/step - loss: 0.1128 - mse: 0.0938 - mae: 0.2472 - val_loss: 0.1128 - val_mse: 0.0921 - val_mae: 0.2433 - lr: 6.2500e-05\n",
      "Epoch 110/500\n",
      "50/50 [==============================] - 0s 6ms/step - loss: 0.1128 - mse: 0.0938 - mae: 0.2471 - val_loss: 0.1128 - val_mse: 0.0921 - val_mae: 0.2433 - lr: 6.2500e-05\n",
      "Epoch 111/500\n",
      "50/50 [==============================] - 0s 6ms/step - loss: 0.1128 - mse: 0.0938 - mae: 0.2471 - val_loss: 0.1128 - val_mse: 0.0921 - val_mae: 0.2433 - lr: 6.2500e-05\n",
      "Epoch 112/500\n",
      "43/50 [========================>.....] - ETA: 0s - loss: 0.1132 - mse: 0.0940 - mae: 0.2475\n",
      "Epoch 112: ReduceLROnPlateau reducing learning rate to 3.125000148429535e-05.\n",
      "50/50 [==============================] - 0s 7ms/step - loss: 0.1128 - mse: 0.0938 - mae: 0.2471 - val_loss: 0.1128 - val_mse: 0.0921 - val_mae: 0.2433 - lr: 6.2500e-05\n",
      "Epoch 113/500\n",
      "50/50 [==============================] - 0s 6ms/step - loss: 0.1128 - mse: 0.0938 - mae: 0.2471 - val_loss: 0.1128 - val_mse: 0.0921 - val_mae: 0.2433 - lr: 3.1250e-05\n",
      "Epoch 114/500\n",
      "50/50 [==============================] - 0s 6ms/step - loss: 0.1128 - mse: 0.0938 - mae: 0.2471 - val_loss: 0.1128 - val_mse: 0.0921 - val_mae: 0.2432 - lr: 3.1250e-05\n",
      "Epoch 115/500\n",
      "50/50 [==============================] - 0s 8ms/step - loss: 0.1128 - mse: 0.0938 - mae: 0.2471 - val_loss: 0.1128 - val_mse: 0.0921 - val_mae: 0.2432 - lr: 3.1250e-05\n",
      "Epoch 116/500\n",
      "50/50 [==============================] - 0s 6ms/step - loss: 0.1127 - mse: 0.0938 - mae: 0.2471 - val_loss: 0.1128 - val_mse: 0.0921 - val_mae: 0.2432 - lr: 3.1250e-05\n",
      "Epoch 117/500\n",
      "45/50 [==========================>...] - ETA: 0s - loss: 0.1128 - mse: 0.0940 - mae: 0.2472\n",
      "Epoch 117: ReduceLROnPlateau reducing learning rate to 1.5625000742147677e-05.\n",
      "50/50 [==============================] - 0s 6ms/step - loss: 0.1127 - mse: 0.0938 - mae: 0.2471 - val_loss: 0.1128 - val_mse: 0.0921 - val_mae: 0.2432 - lr: 3.1250e-05\n",
      "Epoch 118/500\n",
      "50/50 [==============================] - 0s 6ms/step - loss: 0.1127 - mse: 0.0938 - mae: 0.2471 - val_loss: 0.1128 - val_mse: 0.0921 - val_mae: 0.2432 - lr: 1.5625e-05\n",
      "Epoch 119/500\n",
      "50/50 [==============================] - 0s 6ms/step - loss: 0.1127 - mse: 0.0938 - mae: 0.2471 - val_loss: 0.1128 - val_mse: 0.0921 - val_mae: 0.2432 - lr: 1.5625e-05\n",
      "Epoch 120/500\n",
      "50/50 [==============================] - 0s 6ms/step - loss: 0.1127 - mse: 0.0938 - mae: 0.2471 - val_loss: 0.1128 - val_mse: 0.0921 - val_mae: 0.2432 - lr: 1.5625e-05\n"
     ]
    }
   ],
   "source": [
    "history = model.fit(\n",
    "    [X_real_train, X_imag_train],\n",
    "    y_train,\n",
    "    epochs=500,\n",
    "    batch_size=16,\n",
    "    validation_data=([X_real_test, X_imag_test], y_test),\n",
    "    callbacks=[adjust_lr, early_stopping]\n",
    ")"
   ]
  },
  {
   "cell_type": "markdown",
   "metadata": {},
   "source": [
    "Evaluate"
   ]
  },
  {
   "cell_type": "code",
   "execution_count": 26,
   "metadata": {},
   "outputs": [
    {
     "name": "stdout",
     "output_type": "stream",
     "text": [
      "7/7 [==============================] - 0s 4ms/step - loss: 0.1128 - mse: 0.0921 - mae: 0.2433\n",
      "Test MSE: 0.0921, Test MAE: 0.2433\n"
     ]
    }
   ],
   "source": [
    "test_loss, test_mse, test_mae = model.evaluate([X_real_test, X_imag_test], y_test)\n",
    "print(f\"Test MSE: {test_mse:.4f}, Test MAE: {test_mae:.4f}\")"
   ]
  },
  {
   "cell_type": "code",
   "execution_count": 27,
   "metadata": {},
   "outputs": [
    {
     "data": {
      "image/png": "[encoded data removed]",
      "text/plain": [
       "<Figure size 640x480 with 1 Axes>"
      ]
     },
     "metadata": {},
     "output_type": "display_data"
    }
   ],
   "source": [
    "import matplotlib.pyplot as plt\n",
    "\n",
    "plt.plot(history.history['loss'], label='Training Loss')\n",
    "plt.plot(history.history['val_loss'], label='Validation Loss')\n",
    "plt.xlabel('Epochs')\n",
    "plt.ylabel('Loss')\n",
    "plt.legend()\n",
    "plt.show()"
   ]
  },
  {
   "cell_type": "code",
   "execution_count": 28,
   "metadata": {},
   "outputs": [
    {
     "name": "stdout",
     "output_type": "stream",
     "text": [
      "7/7 [==============================] - 2s 3ms/step\n",
      "Comparison of predictions and ground truth:\n",
      "Sample 1:\n",
      "predicted as is:  [0.48633242 0.4861646  0.48073894 0.5032941  0.4964755  0.4988162\n",
      " 0.5002389  0.4910947  0.4849074  0.48880762 0.53606254 0.34193242\n",
      " 0.25931448 0.3225183  0.9208442  0.43935198]\n",
      "  Predicted:    [2. 2. 2. 2. 2. 2. 2. 2. 2. 2. 2. 1. 1. 1. 4. 2.]\n",
      "  Ground Truth: [1. 0. 1. 1. 1. 1. 3. 0. 1. 3. 1. 2. 1. 1. 4. 2.]\n",
      "----------------------------------------\n",
      "Sample 2:\n",
      "predicted as is:  [0.49705675 0.48679802 0.49531263 0.50319725 0.49753606 0.49883005\n",
      " 0.49668062 0.48524767 0.49537262 0.51703924 0.50907946 0.7093346\n",
      " 0.65734375 0.07373916 0.23822236 0.10370464]\n",
      "  Predicted:    [2. 2. 2. 2. 2. 2. 2. 2. 2. 2. 2. 3. 3. 0. 1. 0.]\n",
      "  Ground Truth: [4. 0. 2. 0. 2. 0. 3. 2. 1. 2. 2. 2. 3. 0. 1. 0.]\n",
      "----------------------------------------\n",
      "Sample 3:\n",
      "predicted as is:  [0.49717757 0.48586762 0.49903563 0.50495344 0.49695113 0.4988446\n",
      " 0.49399972 0.50953734 0.46826348 0.5266119  0.40379876 0.739067\n",
      " 0.99444956 0.71744156 0.13254479 0.24802169]\n",
      "  Predicted:    [2. 2. 2. 2. 2. 2. 2. 2. 2. 2. 2. 3. 4. 3. 1. 1.]\n",
      "  Ground Truth: [3. 2. 0. 0. 2. 0. 4. 4. 3. 3. 1. 3. 4. 3. 0. 1.]\n",
      "----------------------------------------\n"
     ]
    }
   ],
   "source": [
    "y_pred_test = model.predict([X_real_test, X_imag_test])\n",
    "y_pred_test_rescaled = y_pred_test * (q - 1)\n",
    "y_test_rescaled = y_test * (q - 1)\n",
    "\n",
    "print(\"Comparison of predictions and ground truth:\")\n",
    "for i in range(3):\n",
    "    print(f\"Sample {i+1}:\")\n",
    "    print(f\"predicted as is: \", y_pred_test[i])\n",
    "    print(f\"  Predicted:    {np.round(y_pred_test_rescaled[i])}\")\n",
    "    print(f\"  Ground Truth: {np.round(y_test_rescaled[i])}\")\n",
    "    print(\"-\" * 40)"
   ]
  },
  {
   "cell_type": "code",
   "execution_count": 29,
   "metadata": {},
   "outputs": [
    {
     "name": "stdout",
     "output_type": "stream",
     "text": [
      "\n",
      "Encoded Unseen Data (Real and Imaginary Parts):\n",
      "Real Part Shape: (5, 16)\n",
      "Imaginary Part Shape: (5, 16)\n",
      "1/1 [==============================] - 0s 42ms/step\n",
      "\n",
      "Comparison of Unseen Data and Predictions:\n",
      "============================================================\n",
      "Sample 1:\n",
      "  Ground Truth: [2 3 2 1 0 0 0 4 4 1 2 4 2 2 4 4]\n",
      "  Prediction  : [2 2 2 2 2 2 2 2 2 2 2 3 2 1 4 4]\n",
      "------------------------------------------------------------\n",
      "Sample 2:\n",
      "  Ground Truth: [1 3 0 4 4 2 3 4 3 0 2 1 0 3 3 0]\n",
      "  Prediction  : [2 2 2 2 2 2 2 2 2 2 2 2 1 3 2 0]\n",
      "------------------------------------------------------------\n",
      "Sample 3:\n",
      "  Ground Truth: [3 1 1 3 3 1 3 4 2 4 3 3 2 3 2 1]\n",
      "  Prediction  : [2 2 2 2 2 2 2 2 2 2 2 3 2 3 1 1]\n",
      "------------------------------------------------------------\n",
      "Sample 4:\n",
      "  Ground Truth: [2 2 4 3 1 0 2 0 3 2 0 4 0 4 1 3]\n",
      "  Prediction  : [2 2 2 2 2 2 2 2 2 2 2 3 1 3 2 3]\n",
      "------------------------------------------------------------\n",
      "Sample 5:\n",
      "  Ground Truth: [0 2 3 0 2 2 2 2 0 1 4 4 4 1 2 2]\n",
      "  Prediction  : [2 2 2 2 2 2 2 2 2 2 2 3 3 1 1 2]\n",
      "------------------------------------------------------------\n"
     ]
    }
   ],
   "source": [
    "num_unseen_samples = 5\n",
    "unseen_data = np.random.randint(0, q, size=(num_unseen_samples, n))\n",
    "\n",
    "padded_unseen_data = np.hstack((unseen_data, np.zeros((num_unseen_samples, n_padded - n))))\n",
    "\n",
    "unseen_data_normalized = unseen_data.astype(np.float32) / (q - 1)\n",
    "\n",
    "# print(\"Unseen Input Data (Before Encoding):\")\n",
    "# print(unseen_data)\n",
    "\n",
    "unseen_encoded = np.array([np.dot(M_tilde, x) for x in padded_unseen_data])\n",
    "unseen_encoded[np.abs(unseen_encoded) < 1e-10] = 0\n",
    "unseen_encoded = np.round(unseen_encoded, decimals=10)\n",
    "\n",
    "X_real_unseen = np.real(unseen_encoded).astype(np.float32)\n",
    "X_imag_unseen = np.imag(unseen_encoded).astype(np.float32)\n",
    "\n",
    "print(\"\\nEncoded Unseen Data (Real and Imaginary Parts):\")\n",
    "print(\"Real Part Shape:\", X_real_unseen.shape)\n",
    "print(\"Imaginary Part Shape:\", X_imag_unseen.shape)\n",
    "\n",
    "y_pred_unseen = model.predict([X_real_unseen, X_imag_unseen])\n",
    "\n",
    "y_pred_unseen_rescaled = y_pred_unseen * (q - 1)\n",
    "\n",
    "y_pred_unseen_final = np.mod(np.round(y_pred_unseen_rescaled), q)\n",
    "\n",
    "print(\"\\nComparison of Unseen Data and Predictions:\")\n",
    "print(\"=\" * 60)\n",
    "for i in range(num_unseen_samples):\n",
    "    print(f\"Sample {i+1}:\")\n",
    "    print(f\"  Ground Truth: {padded_unseen_data[i].astype(int)}\")\n",
    "    print(f\"  Prediction  : {y_pred_unseen_final[i].astype(int)}\")\n",
    "    print(\"-\" * 60)"
   ]
  },
  {
   "cell_type": "markdown",
   "metadata": {},
   "source": [
    "Check Gradient Flow"
   ]
  },
  {
   "cell_type": "code",
   "execution_count": 30,
   "metadata": {},
   "outputs": [
    {
     "name": "stdout",
     "output_type": "stream",
     "text": [
      "real_input has no trainable variables.\n",
      "imag_input has no trainable variables.\n",
      "real_layer_1 Gradient Mean: 0.6040417\n",
      "imag_layer_1 Gradient Mean: 0.30142528\n",
      "leaky_re_lu has no trainable variables.\n",
      "leaky_re_lu_3 has no trainable variables.\n",
      "real_layer_2 Gradient Mean: 0.6628104\n",
      "imag_layer_2 Gradient Mean: 0.29396912\n",
      "leaky_re_lu_1 has no trainable variables.\n",
      "leaky_re_lu_4 has no trainable variables.\n",
      "real_layer_3 Gradient Mean: 0.62275213\n",
      "imag_layer_3 Gradient Mean: 0.45728993\n",
      "leaky_re_lu_2 has no trainable variables.\n",
      "leaky_re_lu_5 has no trainable variables.\n",
      "merge_real_imag has no trainable variables.\n",
      "diagonal_scaling_layer Gradient Mean: 0.2913307\n",
      "leaky_re_lu_6 has no trainable variables.\n",
      "output_layer Gradient Mean: 0.5089798\n",
      "activation has no trainable variables.\n"
     ]
    }
   ],
   "source": [
    "for layer in model.layers:\n",
    "    if layer.trainable_variables:\n",
    "        grads = tf.reduce_mean(tf.abs(layer.trainable_variables[0]))\n",
    "        print(layer.name, \"Gradient Mean:\", grads.numpy())\n",
    "    else:\n",
    "        print(layer.name, \"has no trainable variables.\")"
   ]
  },
  {
   "cell_type": "code",
   "execution_count": 31,
   "metadata": {},
   "outputs": [
    {
     "name": "stdout",
     "output_type": "stream",
     "text": [
      "✅ Gradient OK for real_layer_1/kernel_d1:0, mean: 0.0001550926681375131\n",
      "✅ Gradient OK for real_layer_1/kernel_d2:0, mean: 6.899983418406919e-05\n",
      "✅ Gradient OK for real_layer_1/bias:0, mean: 0.0004951264709234238\n",
      "✅ Gradient OK for imag_layer_1/kernel_d1:0, mean: 0.00013981651864014566\n",
      "✅ Gradient OK for imag_layer_1/kernel_d2:0, mean: 1.5891451766947284e-05\n",
      "✅ Gradient OK for imag_layer_1/bias:0, mean: 0.00033514344249852\n",
      "✅ Gradient OK for real_layer_2/kernel_d1:0, mean: 0.0009915679693222046\n",
      "✅ Gradient OK for real_layer_2/kernel_d2:0, mean: 0.0006112392875365913\n",
      "✅ Gradient OK for real_layer_2/kernel_w:0, mean: -0.0036891985218971968\n",
      "✅ Gradient OK for real_layer_2/kernel_C_1:0, mean: -0.00041032821172848344\n",
      "✅ Gradient OK for real_layer_2/kernel_C_2:0, mean: 0.00023541174596175551\n",
      "✅ Gradient OK for real_layer_2/bias:0, mean: 0.0006862310110591352\n",
      "✅ Gradient OK for imag_layer_2/kernel_d1:0, mean: -0.0012795616639778018\n",
      "✅ Gradient OK for imag_layer_2/kernel_d2:0, mean: 0.0007310691871680319\n",
      "✅ Gradient OK for imag_layer_2/kernel_w:0, mean: 5.46859810128808e-05\n",
      "✅ Gradient OK for imag_layer_2/kernel_C_1:0, mean: 9.528837108518928e-05\n",
      "✅ Gradient OK for imag_layer_2/kernel_C_2:0, mean: 0.0019464532379060984\n",
      "✅ Gradient OK for imag_layer_2/bias:0, mean: 0.0014258868759498\n",
      "✅ Gradient OK for real_layer_3/kernel_w:0, mean: 0.00031419098377227783\n",
      "✅ Gradient OK for real_layer_3/bias:0, mean: 0.0008021187386475503\n",
      "✅ Gradient OK for imag_layer_3/kernel_w:0, mean: -0.008450101129710674\n",
      "✅ Gradient OK for imag_layer_3/bias:0, mean: 0.0027424017898738384\n",
      "✅ Gradient OK for diagonal_scaling_layer/kernel_m:0, mean: 0.0019046503584831953\n",
      "✅ Gradient OK for diagonal_scaling_layer/bias:0, mean: 0.0003974689170718193\n",
      "✅ Gradient OK for output_layer/kernel_m_1:0, mean: -0.004991681315004826\n",
      "✅ Gradient OK for output_layer/bias:0, mean: -0.006328670307993889\n"
     ]
    }
   ],
   "source": [
    "batch_size = 4 \n",
    "X_real_dummy = np.random.rand(batch_size, X_real_train.shape[1]).astype(np.float32)\n",
    "X_imag_dummy = np.random.rand(batch_size, X_imag_train.shape[1]).astype(np.float32)\n",
    "y_dummy = np.random.rand(batch_size, y_train.shape[1]).astype(np.float32)\n",
    "\n",
    "def check_gradients(model, X_real_dummy, X_imag_dummy, y_dummy):\n",
    "    with tf.GradientTape() as tape:\n",
    "        tape.watch(model.trainable_variables)\n",
    "        predictions = model([X_real_dummy, X_imag_dummy], training=True)\n",
    "        loss = tf.keras.losses.mean_squared_error(y_dummy, predictions)\n",
    "\n",
    "    grads = tape.gradient(loss, model.trainable_variables)\n",
    "\n",
    "    for i, (grad, var) in enumerate(zip(grads, model.trainable_variables)):\n",
    "        if grad is None:\n",
    "            print(f\"🚨 Gradient is None for {var.name} at index {i}\")\n",
    "        else:\n",
    "            print(f\"✅ Gradient OK for {var.name}, mean: {tf.reduce_mean(grad).numpy()}\")\n",
    "\n",
    "check_gradients(model, X_real_dummy, X_imag_dummy, y_dummy)"
   ]
  }
 ],
 "metadata": {
  "kernelspec": {
   "display_name": "base",
   "language": "python",
   "name": "python3"
  },
  "language_info": {
   "codemirror_mode": {
    "name": "ipython",
    "version": 3
   },
   "file_extension": ".py",
   "mimetype": "text/x-python",
   "name": "python",
   "nbconvert_exporter": "python",
   "pygments_lexer": "ipython3",
   "version": "3.9.18"
  }
 },
 "nbformat": 4,
 "nbformat_minor": 2
}
