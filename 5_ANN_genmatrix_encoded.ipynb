{
  "cells": [
    {
      "cell_type": "markdown",
      "metadata": {
        "id": "nXAJCz9v39RU"
      },
      "source": [
        "### ANN - Gen Matrix Encoded Dataset"
      ]
    },
    {
      "cell_type": "code",
      "execution_count": 1,
      "metadata": {
        "id": "itaY18VK39Re"
      },
      "outputs": [],
      "source": [
        "# (r + 1) | (q - 1)\n",
        "# (r + 1) | n\n",
        "# q is a prime number\n",
        "# n = 2^t\n",
        "# r < n"
      ]
    },
    {
      "cell_type": "code",
      "execution_count": 2,
      "metadata": {
        "colab": {
          "base_uri": "https://localhost:8080/"
        },
        "id": "8yry-yis39Ri",
        "outputId": "f141439b-fdc1-41e0-b5d8-eb9c86870c40"
      },
      "outputs": [
        {
          "output_type": "execute_result",
          "data": {
            "text/plain": [
              "0"
            ]
          },
          "metadata": {},
          "execution_count": 2
        }
      ],
      "source": [
        "%reset -f\n",
        "import gc\n",
        "gc.collect()"
      ]
    },
    {
      "cell_type": "code",
      "execution_count": 3,
      "metadata": {
        "id": "VC4-bslz39Rj"
      },
      "outputs": [],
      "source": [
        "w0 = 4\n",
        "z0 = 3\n",
        "\n",
        "n = 27\n",
        "q = 7\n",
        "num_samples = 1000\n",
        "\n",
        "num_unseen_samples = 20"
      ]
    },
    {
      "cell_type": "code",
      "source": [
        "import numpy as np\n",
        "import tensorflow as tf\n",
        "from tensorflow.keras.models import Sequential\n",
        "from tensorflow.keras.layers import Dense, Input, LeakyReLU\n",
        "from tensorflow.keras.optimizers import Adam\n",
        "from tensorflow.keras.losses import Huber\n",
        "\n",
        "np.random.seed(42)"
      ],
      "metadata": {
        "id": "QkEBVFQR4SEY"
      },
      "execution_count": 4,
      "outputs": []
    },
    {
      "cell_type": "code",
      "execution_count": 5,
      "metadata": {
        "colab": {
          "base_uri": "https://localhost:8080/"
        },
        "id": "rnINb41e39Rk",
        "outputId": "910d8a00-aea1-4aa2-dac5-2cbf48237200"
      },
      "outputs": [
        {
          "output_type": "stream",
          "name": "stdout",
          "text": [
            "Original n: 27\n",
            "Padded n: 32\n",
            "Generated dataset shape: (1000, 32)\n"
          ]
        }
      ],
      "source": [
        "def next_power_of_two(x):\n",
        "    return 1 if x == 0 else 2**(x - 1).bit_length()\n",
        "\n",
        "n_padded = next_power_of_two(n)\n",
        "\n",
        "dataset = np.random.randint(0, q, size=(num_samples, n))\n",
        "\n",
        "if n_padded > n:\n",
        "    pad_width = n_padded - n\n",
        "    dataset = np.pad(dataset, ((0, 0), (0, pad_width)), mode='constant', constant_values=0)\n",
        "\n",
        "print(\"Original n:\", n)\n",
        "print(\"Padded n:\", n_padded)\n",
        "print(\"Generated dataset shape:\", dataset.shape)"
      ]
    },
    {
      "cell_type": "code",
      "execution_count": 6,
      "metadata": {
        "colab": {
          "base_uri": "https://localhost:8080/"
        },
        "id": "YwQZ3E8o39Rm",
        "outputId": "520d29cb-f303-4bef-d19f-7132b89e4677"
      },
      "outputs": [
        {
          "output_type": "stream",
          "name": "stdout",
          "text": [
            "[[6 3 4 ... 0 0 0]\n",
            " [1 5 4 ... 0 0 0]\n",
            " [0 6 1 ... 0 0 0]\n",
            " ...\n",
            " [4 1 1 ... 0 0 0]\n",
            " [6 1 2 ... 0 0 0]\n",
            " [1 5 4 ... 0 0 0]]\n",
            "(1000, 32)\n",
            "(32,)\n"
          ]
        }
      ],
      "source": [
        "print(dataset)\n",
        "print(dataset.shape)\n",
        "print(dataset[0].shape)"
      ]
    },
    {
      "cell_type": "markdown",
      "metadata": {
        "id": "pH_I3jW739Ro"
      },
      "source": [
        "$$\n",
        "\\tilde{M}_{kj} = \\left[ \\left( \\frac{w_0}{z_0} \\right)^j \\zeta^{kj} \\right]_{k,j=0}^{n-1}\n",
        "$$"
      ]
    },
    {
      "cell_type": "code",
      "execution_count": 7,
      "metadata": {
        "id": "d37Ydmgw39Rp"
      },
      "outputs": [],
      "source": [
        "def padded_generator_matrix(N, w0, z0):\n",
        "    n = np.arange(N)\n",
        "    k = n.reshape((N, 1))\n",
        "    zeta = np.exp(-2j * np.pi / N)\n",
        "    M_tilde = ((w0 / z0) ** n) * (zeta ** (k * n))\n",
        "    return M_tilde"
      ]
    },
    {
      "cell_type": "code",
      "execution_count": 8,
      "metadata": {
        "colab": {
          "base_uri": "https://localhost:8080/"
        },
        "id": "jnbsILy_39Rp",
        "outputId": "67b2a233-efc7-4ee8-fc14-40eb9a63f58b"
      },
      "outputs": [
        {
          "output_type": "stream",
          "name": "stdout",
          "text": [
            "(32, 32)\n"
          ]
        }
      ],
      "source": [
        "M_tilde = padded_generator_matrix(n_padded, w0, z0)\n",
        "print(M_tilde.shape)"
      ]
    },
    {
      "cell_type": "code",
      "execution_count": 9,
      "metadata": {
        "colab": {
          "base_uri": "https://localhost:8080/"
        },
        "id": "gL9uV1SM39Rq",
        "outputId": "db08fdff-b47e-426e-c5d3-f29d8fbbc901"
      },
      "outputs": [
        {
          "output_type": "stream",
          "name": "stdout",
          "text": [
            "[[ 18563.60052945    +0.j          -3175.07412411+14542.65392496j\n",
            "   -9480.13851167 -1549.89213738j ...   -850.18419129 +5788.51248279j\n",
            "   -9480.13851167 +1549.89213738j  -3175.07412411-14542.65392496j]\n",
            " [ 26201.57565547    +0.j           -888.79870167+21381.54383229j\n",
            "  -15711.89592314 +4225.02464251j ...  -8448.43948841+12321.54894128j\n",
            "  -15711.89592314 -4225.02464251j   -888.79870167-21381.54383229j]\n",
            " [ 18708.3418798     +0.j          -3692.76914231+14315.81246485j\n",
            "   -8001.63897938 -1445.78154582j ...  -2196.87866369 +4388.0650906j\n",
            "   -8001.63897938 +1445.78154582j  -3692.76914231-14315.81246485j]\n",
            " ...\n",
            " [ 23026.93389135    +0.j          -1109.76273792+19062.65254237j\n",
            "  -13040.7009937  +1311.43274328j ...  -3589.38928495 +6599.51636282j\n",
            "  -13040.7009937  -1311.43274328j  -1109.76273792-19062.65254237j]\n",
            " [ 13466.17623911    +0.j          -3519.32538663 +9603.71035865j\n",
            "   -6399.29947006 -1233.3778371j  ...  -1243.67319172 +6320.28545061j\n",
            "   -6399.29947006 +1233.3778371j   -3519.32538663 -9603.71035865j]\n",
            " [ 14588.02290132    +0.j          -1642.56444197+11272.19910547j\n",
            "   -6953.08933372  +889.35665809j ...  -4636.08674653 +4233.01026956j\n",
            "   -6953.08933372  -889.35665809j  -1642.56444197-11272.19910547j]]\n"
          ]
        }
      ],
      "source": [
        "encoded_dataset = np.array([np.dot(M_tilde, x) for x in dataset])\n",
        "encoded_dataset[np.abs(encoded_dataset) < 1e-10] = 0\n",
        "encoded_dataset = np.round(encoded_dataset, decimals=10)\n",
        "print(encoded_dataset)"
      ]
    },
    {
      "cell_type": "code",
      "execution_count": 10,
      "metadata": {
        "colab": {
          "base_uri": "https://localhost:8080/"
        },
        "id": "-1t98OtS39Rr",
        "outputId": "4271331c-515f-4756-f8c4-1ba260288107"
      },
      "outputs": [
        {
          "output_type": "execute_result",
          "data": {
            "text/plain": [
              "(1000, 32)"
            ]
          },
          "metadata": {},
          "execution_count": 10
        }
      ],
      "source": [
        "encoded_dataset.shape"
      ]
    },
    {
      "cell_type": "code",
      "execution_count": 11,
      "metadata": {
        "colab": {
          "base_uri": "https://localhost:8080/"
        },
        "id": "aqymbNzP39Rs",
        "outputId": "ce866756-abe9-42a1-da62-30ad9c01b271"
      },
      "outputs": [
        {
          "output_type": "stream",
          "name": "stdout",
          "text": [
            "[6 3 4 6 2 4 4 6 1 2 6 2 2 4 3 2 5 4 1 3 5 5 1 3 4 0 3 0 0 0 0 0]\n",
            "[18563.60052945    +0.j         -3175.07412411+14542.65392496j\n",
            " -9480.13851167 -1549.89213738j  -850.18419129 -5788.51248279j\n",
            "  2813.63372348 -2457.36436449j  3312.0476391   +337.88077825j\n",
            "  1059.2907911  +3489.68169028j -2366.82367016  +909.74502726j\n",
            "  -210.29906943  +357.85181443j -3878.07651347  +373.95548592j\n",
            "   -49.25036994 -6370.32567308j  6901.71964373 -1088.5938127j\n",
            "  2896.76301761 +7252.43377368j -6714.83312544 +4427.90575271j\n",
            " -5496.28870703 -5330.43278044j  2828.24226801 -6162.17891893j\n",
            "  6446.94186958    -0.j          2828.24226801 +6162.17891893j\n",
            " -5496.28870703 +5330.43278044j -6714.83312544 -4427.90575271j\n",
            "  2896.76301761 -7252.43377368j  6901.71964373 +1088.5938127j\n",
            "   -49.25036994 +6370.32567308j -3878.07651347  -373.95548592j\n",
            "  -210.29906943  -357.85181443j -2366.82367016  -909.74502726j\n",
            "  1059.2907911  -3489.68169028j  3312.0476391   -337.88077825j\n",
            "  2813.63372348 +2457.36436449j  -850.18419129 +5788.51248279j\n",
            " -9480.13851167 +1549.89213738j -3175.07412411-14542.65392496j]\n"
          ]
        }
      ],
      "source": [
        "print(dataset[0])\n",
        "print(encoded_dataset[0])"
      ]
    },
    {
      "cell_type": "code",
      "execution_count": 12,
      "metadata": {
        "id": "QPJOcCXk39Rs"
      },
      "outputs": [],
      "source": [
        "X_real = np.real(encoded_dataset).astype(np.float32)\n",
        "X_imag = np.imag(encoded_dataset).astype(np.float32)"
      ]
    },
    {
      "cell_type": "code",
      "execution_count": 13,
      "metadata": {
        "colab": {
          "base_uri": "https://localhost:8080/"
        },
        "id": "23brJMGr39Rt",
        "outputId": "dd56030a-6283-4159-c837-fcf188429aed"
      },
      "outputs": [
        {
          "output_type": "stream",
          "name": "stdout",
          "text": [
            "x_real_min:   -25398.395\n",
            "x_real_max:   37088.72\n",
            "x_imag_min:   -32553.318\n",
            "x_imag_max:   32553.318\n"
          ]
        }
      ],
      "source": [
        "print(\"x_real_min:  \", np.min(X_real))\n",
        "print(\"x_real_max:  \", np.max(X_real))\n",
        "print(\"x_imag_min:  \", np.min(X_imag))\n",
        "print(\"x_imag_max:  \", np.max(X_imag))"
      ]
    },
    {
      "cell_type": "code",
      "execution_count": 14,
      "metadata": {
        "id": "E5goI5TM39Rt"
      },
      "outputs": [],
      "source": [
        "# mean_real = np.mean(X_real, axis=0)\n",
        "# std_real = np.std(X_real, axis=0) + 1e-8  # Avoid division by zero\n",
        "# X_real = (X_real - mean_real) / std_real\n",
        "\n",
        "# mean_imag = np.mean(X_imag, axis=0)\n",
        "# std_imag = np.std(X_imag, axis=0) + 1e-8\n",
        "# X_imag = (X_imag - mean_imag) / std_imag"
      ]
    },
    {
      "cell_type": "code",
      "execution_count": 15,
      "metadata": {
        "colab": {
          "base_uri": "https://localhost:8080/"
        },
        "id": "sT2gZEvW39Ru",
        "outputId": "e3fce7d5-3dfc-4132-c8bd-4d726f789805"
      },
      "outputs": [
        {
          "output_type": "stream",
          "name": "stdout",
          "text": [
            "x_real_min:   -25398.395\n",
            "x_real_max:   37088.72\n",
            "x_imag_min:   -32553.318\n",
            "x_imag_max:   32553.318\n"
          ]
        }
      ],
      "source": [
        "print(\"x_real_min:  \", np.min(X_real))\n",
        "print(\"x_real_max:  \", np.max(X_real))\n",
        "print(\"x_imag_min:  \", np.min(X_imag))\n",
        "print(\"x_imag_max:  \", np.max(X_imag))"
      ]
    },
    {
      "cell_type": "code",
      "execution_count": 16,
      "metadata": {
        "colab": {
          "base_uri": "https://localhost:8080/"
        },
        "id": "_lVbrpj839Ru",
        "outputId": "a4a43f5b-2b66-47e9-a54c-39bb5865e43f"
      },
      "outputs": [
        {
          "output_type": "stream",
          "name": "stdout",
          "text": [
            "\n",
            "X_train : (1000, 64)\n",
            "[ 18563.6      -3175.0742   -9480.139     -850.1842    2813.6338\n",
            "   3312.0476    1059.2908   -2366.8237    -210.29907  -3878.0764\n",
            "    -49.25037   6901.7197    2896.763    -6714.833    -5496.2886\n",
            "   2828.2422    6446.942     2828.2422   -5496.2886   -6714.833\n",
            "   2896.763     6901.7197     -49.25037  -3878.0764    -210.29907\n",
            "  -2366.8237    1059.2908    3312.0476    2813.6338    -850.1842\n",
            "  -9480.139    -3175.0742       0.       14542.654    -1549.8921\n",
            "  -5788.5127   -2457.3643     337.88077   3489.6816     909.74506\n",
            "    357.8518     373.95547  -6370.3257   -1088.5939    7252.4336\n",
            "   4427.906    -5330.4326   -6162.1787      -0.        6162.1787\n",
            "   5330.4326   -4427.906    -7252.4336    1088.5939    6370.3257\n",
            "   -373.95547   -357.8518    -909.74506  -3489.6816    -337.88077\n",
            "   2457.3643    5788.5127    1549.8921  -14542.654  ]\n"
          ]
        }
      ],
      "source": [
        "X_real_imag = np.hstack([X_real, X_imag])\n",
        "\n",
        "print(\"\\nX_train :\", X_real_imag.shape)\n",
        "print(X_real_imag[0])"
      ]
    },
    {
      "cell_type": "code",
      "execution_count": 17,
      "metadata": {
        "colab": {
          "base_uri": "https://localhost:8080/"
        },
        "id": "3nU7yUWL39Rv",
        "outputId": "31197550-d24d-48f5-ee76-ef6bb95eac96"
      },
      "outputs": [
        {
          "output_type": "stream",
          "name": "stdout",
          "text": [
            "y: \n",
            "[6. 3. 4. 6. 2. 4. 4. 6. 1. 2. 6. 2. 2. 4. 3. 2. 5. 4. 1. 3. 5. 5. 1. 3.\n",
            " 4. 0. 3. 0. 0. 0. 0. 0.]\n",
            "\n",
            "y_normalized: \n",
            "[1.         0.5        0.6666667  1.         0.33333334 0.6666667\n",
            " 0.6666667  1.         0.16666667 0.33333334 1.         0.33333334\n",
            " 0.33333334 0.6666667  0.5        0.33333334 0.8333333  0.6666667\n",
            " 0.16666667 0.5        0.8333333  0.8333333  0.16666667 0.5\n",
            " 0.6666667  0.         0.5        0.         0.         0.\n",
            " 0.         0.        ]\n"
          ]
        }
      ],
      "source": [
        "# normalize target data (integers 0-q to [0, 1])\n",
        "y = dataset.astype(np.float32)\n",
        "# y[:, :r] = 0\n",
        "y_normalized = y / (q - 1)  # Scale to [0, 1]\n",
        "\n",
        "labels = y_normalized\n",
        "\n",
        "\n",
        "print(\"y: \")\n",
        "print(y[0])\n",
        "print(\"\\ny_normalized: \")\n",
        "print(y_normalized[0])"
      ]
    },
    {
      "cell_type": "code",
      "execution_count": 18,
      "metadata": {
        "id": "PbiB8Mja39Rv"
      },
      "outputs": [],
      "source": [
        "from sklearn.model_selection import train_test_split\n",
        "\n",
        "\n",
        "x_train, x_test, y_train, y_test = train_test_split(\n",
        "    X_real_imag, labels, test_size=0.2, random_state=42\n",
        ")"
      ]
    },
    {
      "cell_type": "code",
      "source": [
        "print(f\"x_train shape: {x_train.shape}, y_train shape: {y_train.shape}\")\n",
        "print(f\"x_test shape: {x_test.shape}, y_test shape: {y_test.shape}\")"
      ],
      "metadata": {
        "colab": {
          "base_uri": "https://localhost:8080/"
        },
        "id": "jwlQQc2e4dpU",
        "outputId": "4c921cf5-96ef-4262-8dd8-d2553f362cc8"
      },
      "execution_count": 19,
      "outputs": [
        {
          "output_type": "stream",
          "name": "stdout",
          "text": [
            "x_train shape: (800, 64), y_train shape: (800, 32)\n",
            "x_test shape: (200, 64), y_test shape: (200, 32)\n"
          ]
        }
      ]
    },
    {
      "cell_type": "code",
      "source": [
        "x_train = (x_train - x_train.mean()) / x_train.std()\n",
        "x_test = (x_test - x_test.mean()) / x_test.std()"
      ],
      "metadata": {
        "id": "uCGdGit64gyc"
      },
      "execution_count": 20,
      "outputs": []
    },
    {
      "cell_type": "code",
      "execution_count": 21,
      "metadata": {
        "colab": {
          "base_uri": "https://localhost:8080/"
        },
        "id": "SemgHF5b39Rv",
        "outputId": "88e43bbc-d167-48b1-b035-b55cb7064efa"
      },
      "outputs": [
        {
          "output_type": "stream",
          "name": "stdout",
          "text": [
            "64\n",
            "32\n"
          ]
        }
      ],
      "source": [
        "input_dim = x_train.shape[1]\n",
        "output_dim = y_train.shape[1]\n",
        "print(input_dim)\n",
        "print(output_dim)"
      ]
    },
    {
      "cell_type": "markdown",
      "metadata": {
        "id": "q6pk994M39Rw"
      },
      "source": [
        "Compile Model"
      ]
    },
    {
      "cell_type": "code",
      "source": [
        "def custom_accuracy(y_true, y_pred):\n",
        "    y_true_int = tf.cast(y_true*(q-1), tf.int32)\n",
        "    y_pred_int = tf.cast(tf.round(y_pred*(q-1)), tf.int32)\n",
        "    correct = tf.cast(tf.equal(y_true_int, y_pred_int), tf.float32)\n",
        "    return tf.reduce_mean(correct)\n",
        "\n",
        "# accuracy function that does not consider the padding\n",
        "def custom_accuracy_without_padding(y_true, y_pred):\n",
        "    y_true_int = tf.cast(y_true * (q - 1), tf.int32)\n",
        "    y_pred_int = tf.cast(tf.round(y_pred * (q - 1)), tf.int32)\n",
        "    mask = tf.concat(\n",
        "        [tf.ones((tf.shape(y_true)[0], n), dtype=tf.float32),\n",
        "         tf.zeros((tf.shape(y_true)[0], n_padded - n), dtype=tf.float32)],\n",
        "        axis=1\n",
        "    )\n",
        "    correct = tf.cast(tf.equal(y_true_int, y_pred_int), tf.float32) * mask\n",
        "    return tf.reduce_sum(correct) / tf.reduce_sum(mask)\n",
        "\n",
        "def custom_mse(y_true, y_pred):\n",
        "    y_true = tf.cast(y_true, tf.float32)\n",
        "    y_pred = tf.cast(y_pred, tf.float32)\n",
        "    return tf.reduce_mean(tf.square(tf.cast(y_true - y_pred, tf.float32)))"
      ],
      "metadata": {
        "id": "kCbO2XUz4sjf"
      },
      "execution_count": 22,
      "outputs": []
    },
    {
      "cell_type": "code",
      "execution_count": 23,
      "metadata": {
        "colab": {
          "base_uri": "https://localhost:8080/",
          "height": 257
        },
        "id": "_u1Z1KLg39Rw",
        "outputId": "6f2e2c74-6bce-41d0-9a3d-76a4c6a1a2bf"
      },
      "outputs": [
        {
          "output_type": "display_data",
          "data": {
            "text/plain": [
              "\u001b[1mModel: \"sequential\"\u001b[0m\n"
            ],
            "text/html": [
              "<pre style=\"white-space:pre;overflow-x:auto;line-height:normal;font-family:Menlo,'DejaVu Sans Mono',consolas,'Courier New',monospace\"><span style=\"font-weight: bold\">Model: \"sequential\"</span>\n",
              "</pre>\n"
            ]
          },
          "metadata": {}
        },
        {
          "output_type": "display_data",
          "data": {
            "text/plain": [
              "┏━━━━━━━━━━━━━━━━━━━━━━━━━━━━━━━━━┳━━━━━━━━━━━━━━━━━━━━━━━━┳━━━━━━━━━━━━━━━┓\n",
              "┃\u001b[1m \u001b[0m\u001b[1mLayer (type)                   \u001b[0m\u001b[1m \u001b[0m┃\u001b[1m \u001b[0m\u001b[1mOutput Shape          \u001b[0m\u001b[1m \u001b[0m┃\u001b[1m \u001b[0m\u001b[1m      Param #\u001b[0m\u001b[1m \u001b[0m┃\n",
              "┡━━━━━━━━━━━━━━━━━━━━━━━━━━━━━━━━━╇━━━━━━━━━━━━━━━━━━━━━━━━╇━━━━━━━━━━━━━━━┩\n",
              "│ dense (\u001b[38;5;33mDense\u001b[0m)                   │ (\u001b[38;5;45mNone\u001b[0m, \u001b[38;5;34m32\u001b[0m)             │         \u001b[38;5;34m2,080\u001b[0m │\n",
              "├─────────────────────────────────┼────────────────────────┼───────────────┤\n",
              "│ dense_1 (\u001b[38;5;33mDense\u001b[0m)                 │ (\u001b[38;5;45mNone\u001b[0m, \u001b[38;5;34m32\u001b[0m)             │         \u001b[38;5;34m1,056\u001b[0m │\n",
              "├─────────────────────────────────┼────────────────────────┼───────────────┤\n",
              "│ dense_2 (\u001b[38;5;33mDense\u001b[0m)                 │ (\u001b[38;5;45mNone\u001b[0m, \u001b[38;5;34m32\u001b[0m)             │         \u001b[38;5;34m1,056\u001b[0m │\n",
              "├─────────────────────────────────┼────────────────────────┼───────────────┤\n",
              "│ dense_3 (\u001b[38;5;33mDense\u001b[0m)                 │ (\u001b[38;5;45mNone\u001b[0m, \u001b[38;5;34m32\u001b[0m)             │         \u001b[38;5;34m1,056\u001b[0m │\n",
              "└─────────────────────────────────┴────────────────────────┴───────────────┘\n"
            ],
            "text/html": [
              "<pre style=\"white-space:pre;overflow-x:auto;line-height:normal;font-family:Menlo,'DejaVu Sans Mono',consolas,'Courier New',monospace\">┏━━━━━━━━━━━━━━━━━━━━━━━━━━━━━━━━━┳━━━━━━━━━━━━━━━━━━━━━━━━┳━━━━━━━━━━━━━━━┓\n",
              "┃<span style=\"font-weight: bold\"> Layer (type)                    </span>┃<span style=\"font-weight: bold\"> Output Shape           </span>┃<span style=\"font-weight: bold\">       Param # </span>┃\n",
              "┡━━━━━━━━━━━━━━━━━━━━━━━━━━━━━━━━━╇━━━━━━━━━━━━━━━━━━━━━━━━╇━━━━━━━━━━━━━━━┩\n",
              "│ dense (<span style=\"color: #0087ff; text-decoration-color: #0087ff\">Dense</span>)                   │ (<span style=\"color: #00d7ff; text-decoration-color: #00d7ff\">None</span>, <span style=\"color: #00af00; text-decoration-color: #00af00\">32</span>)             │         <span style=\"color: #00af00; text-decoration-color: #00af00\">2,080</span> │\n",
              "├─────────────────────────────────┼────────────────────────┼───────────────┤\n",
              "│ dense_1 (<span style=\"color: #0087ff; text-decoration-color: #0087ff\">Dense</span>)                 │ (<span style=\"color: #00d7ff; text-decoration-color: #00d7ff\">None</span>, <span style=\"color: #00af00; text-decoration-color: #00af00\">32</span>)             │         <span style=\"color: #00af00; text-decoration-color: #00af00\">1,056</span> │\n",
              "├─────────────────────────────────┼────────────────────────┼───────────────┤\n",
              "│ dense_2 (<span style=\"color: #0087ff; text-decoration-color: #0087ff\">Dense</span>)                 │ (<span style=\"color: #00d7ff; text-decoration-color: #00d7ff\">None</span>, <span style=\"color: #00af00; text-decoration-color: #00af00\">32</span>)             │         <span style=\"color: #00af00; text-decoration-color: #00af00\">1,056</span> │\n",
              "├─────────────────────────────────┼────────────────────────┼───────────────┤\n",
              "│ dense_3 (<span style=\"color: #0087ff; text-decoration-color: #0087ff\">Dense</span>)                 │ (<span style=\"color: #00d7ff; text-decoration-color: #00d7ff\">None</span>, <span style=\"color: #00af00; text-decoration-color: #00af00\">32</span>)             │         <span style=\"color: #00af00; text-decoration-color: #00af00\">1,056</span> │\n",
              "└─────────────────────────────────┴────────────────────────┴───────────────┘\n",
              "</pre>\n"
            ]
          },
          "metadata": {}
        },
        {
          "output_type": "display_data",
          "data": {
            "text/plain": [
              "\u001b[1m Total params: \u001b[0m\u001b[38;5;34m5,248\u001b[0m (20.50 KB)\n"
            ],
            "text/html": [
              "<pre style=\"white-space:pre;overflow-x:auto;line-height:normal;font-family:Menlo,'DejaVu Sans Mono',consolas,'Courier New',monospace\"><span style=\"font-weight: bold\"> Total params: </span><span style=\"color: #00af00; text-decoration-color: #00af00\">5,248</span> (20.50 KB)\n",
              "</pre>\n"
            ]
          },
          "metadata": {}
        },
        {
          "output_type": "display_data",
          "data": {
            "text/plain": [
              "\u001b[1m Trainable params: \u001b[0m\u001b[38;5;34m5,248\u001b[0m (20.50 KB)\n"
            ],
            "text/html": [
              "<pre style=\"white-space:pre;overflow-x:auto;line-height:normal;font-family:Menlo,'DejaVu Sans Mono',consolas,'Courier New',monospace\"><span style=\"font-weight: bold\"> Trainable params: </span><span style=\"color: #00af00; text-decoration-color: #00af00\">5,248</span> (20.50 KB)\n",
              "</pre>\n"
            ]
          },
          "metadata": {}
        },
        {
          "output_type": "display_data",
          "data": {
            "text/plain": [
              "\u001b[1m Non-trainable params: \u001b[0m\u001b[38;5;34m0\u001b[0m (0.00 B)\n"
            ],
            "text/html": [
              "<pre style=\"white-space:pre;overflow-x:auto;line-height:normal;font-family:Menlo,'DejaVu Sans Mono',consolas,'Courier New',monospace\"><span style=\"font-weight: bold\"> Non-trainable params: </span><span style=\"color: #00af00; text-decoration-color: #00af00\">0</span> (0.00 B)\n",
              "</pre>\n"
            ]
          },
          "metadata": {}
        }
      ],
      "source": [
        "def simple_NN(input_dim, output_dim, activation='relu'):\n",
        "    model = Sequential([\n",
        "        Input(shape=(input_dim,)),\n",
        "        Dense(n_padded, activation=activation),\n",
        "        Dense(n_padded, activation=activation),\n",
        "        Dense(n_padded, activation=activation),\n",
        "        Dense(output_dim, activation='linear')  # Linear activation for regression\n",
        "    ])\n",
        "\n",
        "    model.compile(\n",
        "        optimizer=Adam(learning_rate=0.001),\n",
        "        loss=custom_mse,\n",
        "        metrics=[custom_mse, custom_accuracy_without_padding]\n",
        "    )\n",
        "    return model\n",
        "\n",
        "\n",
        "input_dim = x_train.shape[1]\n",
        "output_dim = y_train.shape[1]\n",
        "activation = LeakyReLU(negative_slope=0.1) #leaky_relu #relu\n",
        "model = simple_NN(input_dim, output_dim, activation=activation)\n",
        "model.summary()"
      ]
    },
    {
      "cell_type": "code",
      "source": [
        "# ------------- FLOP counts ---------------\n",
        "\n",
        "# Create a concrete function\n",
        "input_shape = (1, input_dim)  # batch size 1\n",
        "concrete_func = tf.function(model).get_concrete_function(tf.TensorSpec(input_shape, tf.float32))\n",
        "\n",
        "from tensorflow.python.profiler import model_analyzer\n",
        "from tensorflow.python.profiler.option_builder import ProfileOptionBuilder\n",
        "\n",
        "profile_opts = ProfileOptionBuilder.float_operation()\n",
        "flops = model_analyzer.profile(concrete_func.graph, options=profile_opts)\n",
        "\n",
        "print('FLOPs:', flops.total_float_ops)"
      ],
      "metadata": {
        "colab": {
          "base_uri": "https://localhost:8080/"
        },
        "id": "34ExlsCLVPP2",
        "outputId": "dc9ca6eb-b765-43af-8a61-0840c19dcb18"
      },
      "execution_count": 24,
      "outputs": [
        {
          "output_type": "stream",
          "name": "stderr",
          "text": [
            "WARNING:tensorflow:From /usr/local/lib/python3.11/dist-packages/tensorflow/python/profiler/internal/flops_registry.py:453: tensor_shape_from_node_def_name (from tensorflow.python.framework.graph_util_impl) is deprecated and will be removed in a future version.\n",
            "Instructions for updating:\n",
            "This API was designed for TensorFlow v1. See https://www.tensorflow.org/guide/migrate for instructions on how to migrate your code to TensorFlow v2.\n"
          ]
        },
        {
          "output_type": "stream",
          "name": "stdout",
          "text": [
            "FLOPs: 10368\n"
          ]
        }
      ]
    },
    {
      "cell_type": "markdown",
      "metadata": {
        "id": "q6g-bbZY39Rw"
      },
      "source": [
        "Training the NN"
      ]
    },
    {
      "cell_type": "code",
      "source": [
        "# from google.colab import drive\n",
        "# drive.mount('/content/drive')"
      ],
      "metadata": {
        "id": "gMycoGP8BPpr"
      },
      "execution_count": 25,
      "outputs": []
    },
    {
      "cell_type": "code",
      "execution_count": 26,
      "metadata": {
        "colab": {
          "base_uri": "https://localhost:8080/"
        },
        "id": "KHoxqzWu39Rx",
        "outputId": "31d972d3-ecbb-4883-eda7-a73227696578"
      },
      "outputs": [
        {
          "output_type": "stream",
          "name": "stdout",
          "text": [
            "Epoch 1/500\n",
            "\u001b[1m15/25\u001b[0m \u001b[32m━━━━━━━━━━━━\u001b[0m\u001b[37m━━━━━━━━\u001b[0m \u001b[1m0s\u001b[0m 4ms/step - custom_accuracy_without_padding: 0.1076 - custom_mse: 0.3840 - loss: 0.3840\n",
            "Epoch 1: val_loss improved from inf to 0.15946, saving model to /content/drive/MyDrive/10 Masters/Research/error-correcting-codes/ThisIsTheCleanest/weights/ANN_model_27.keras\n",
            "\u001b[1m25/25\u001b[0m \u001b[32m━━━━━━━━━━━━━━━━━━━━\u001b[0m\u001b[37m\u001b[0m \u001b[1m2s\u001b[0m 25ms/step - custom_accuracy_without_padding: 0.1151 - custom_mse: 0.3382 - loss: 0.3382 - val_custom_accuracy_without_padding: 0.1486 - val_custom_mse: 0.1588 - val_loss: 0.1595 - learning_rate: 0.0010\n",
            "Epoch 2/500\n",
            "\u001b[1m14/25\u001b[0m \u001b[32m━━━━━━━━━━━\u001b[0m\u001b[37m━━━━━━━━━\u001b[0m \u001b[1m0s\u001b[0m 4ms/step - custom_accuracy_without_padding: 0.1411 - custom_mse: 0.1513 - loss: 0.1513   \n",
            "Epoch 2: val_loss improved from 0.15946 to 0.10459, saving model to /content/drive/MyDrive/10 Masters/Research/error-correcting-codes/ThisIsTheCleanest/weights/ANN_model_27.keras\n",
            "\u001b[1m25/25\u001b[0m \u001b[32m━━━━━━━━━━━━━━━━━━━━\u001b[0m\u001b[37m\u001b[0m \u001b[1m1s\u001b[0m 11ms/step - custom_accuracy_without_padding: 0.1450 - custom_mse: 0.1433 - loss: 0.1433 - val_custom_accuracy_without_padding: 0.1501 - val_custom_mse: 0.1041 - val_loss: 0.1046 - learning_rate: 0.0010\n",
            "Epoch 3/500\n",
            "\u001b[1m25/25\u001b[0m \u001b[32m━━━━━━━━━━━━━━━━━━━━\u001b[0m\u001b[37m\u001b[0m \u001b[1m0s\u001b[0m 2ms/step - custom_accuracy_without_padding: 0.1596 - custom_mse: 0.0983 - loss: 0.0983  \n",
            "Epoch 3: val_loss improved from 0.10459 to 0.09163, saving model to /content/drive/MyDrive/10 Masters/Research/error-correcting-codes/ThisIsTheCleanest/weights/ANN_model_27.keras\n",
            "\u001b[1m25/25\u001b[0m \u001b[32m━━━━━━━━━━━━━━━━━━━━\u001b[0m\u001b[37m\u001b[0m \u001b[1m1s\u001b[0m 7ms/step - custom_accuracy_without_padding: 0.1596 - custom_mse: 0.0982 - loss: 0.0982 - val_custom_accuracy_without_padding: 0.1541 - val_custom_mse: 0.0917 - val_loss: 0.0916 - learning_rate: 0.0010\n",
            "Epoch 4/500\n",
            "\u001b[1m 1/25\u001b[0m \u001b[37m━━━━━━━━━━━━━━━━━━━━\u001b[0m \u001b[1m3s\u001b[0m 136ms/step - custom_accuracy_without_padding: 0.1435 - custom_mse: 0.0984 - loss: 0.0984\n",
            "Epoch 4: val_loss improved from 0.09163 to 0.08749, saving model to /content/drive/MyDrive/10 Masters/Research/error-correcting-codes/ThisIsTheCleanest/weights/ANN_model_27.keras\n",
            "\u001b[1m25/25\u001b[0m \u001b[32m━━━━━━━━━━━━━━━━━━━━\u001b[0m\u001b[37m\u001b[0m \u001b[1m0s\u001b[0m 6ms/step - custom_accuracy_without_padding: 0.1632 - custom_mse: 0.0904 - loss: 0.0904 - val_custom_accuracy_without_padding: 0.1594 - val_custom_mse: 0.0876 - val_loss: 0.0875 - learning_rate: 0.0010\n",
            "Epoch 5/500\n",
            "\u001b[1m 1/25\u001b[0m \u001b[37m━━━━━━━━━━━━━━━━━━━━\u001b[0m \u001b[1m3s\u001b[0m 145ms/step - custom_accuracy_without_padding: 0.1701 - custom_mse: 0.0856 - loss: 0.0856\n",
            "Epoch 5: val_loss improved from 0.08749 to 0.08540, saving model to /content/drive/MyDrive/10 Masters/Research/error-correcting-codes/ThisIsTheCleanest/weights/ANN_model_27.keras\n",
            "\u001b[1m25/25\u001b[0m \u001b[32m━━━━━━━━━━━━━━━━━━━━\u001b[0m\u001b[37m\u001b[0m \u001b[1m0s\u001b[0m 8ms/step - custom_accuracy_without_padding: 0.1690 - custom_mse: 0.0861 - loss: 0.0861 - val_custom_accuracy_without_padding: 0.1622 - val_custom_mse: 0.0855 - val_loss: 0.0854 - learning_rate: 0.0010\n",
            "Epoch 6/500\n",
            "\u001b[1m 1/25\u001b[0m \u001b[37m━━━━━━━━━━━━━━━━━━━━\u001b[0m \u001b[1m0s\u001b[0m 23ms/step - custom_accuracy_without_padding: 0.1910 - custom_mse: 0.0814 - loss: 0.0814\n",
            "Epoch 6: val_loss improved from 0.08540 to 0.08371, saving model to /content/drive/MyDrive/10 Masters/Research/error-correcting-codes/ThisIsTheCleanest/weights/ANN_model_27.keras\n",
            "\u001b[1m25/25\u001b[0m \u001b[32m━━━━━━━━━━━━━━━━━━━━\u001b[0m\u001b[37m\u001b[0m \u001b[1m0s\u001b[0m 6ms/step - custom_accuracy_without_padding: 0.1782 - custom_mse: 0.0841 - loss: 0.0841 - val_custom_accuracy_without_padding: 0.1758 - val_custom_mse: 0.0839 - val_loss: 0.0837 - learning_rate: 0.0010\n",
            "Epoch 7/500\n",
            "\u001b[1m 1/25\u001b[0m \u001b[37m━━━━━━━━━━━━━━━━━━━━\u001b[0m \u001b[1m0s\u001b[0m 25ms/step - custom_accuracy_without_padding: 0.1794 - custom_mse: 0.0846 - loss: 0.0846\n",
            "Epoch 7: val_loss improved from 0.08371 to 0.08178, saving model to /content/drive/MyDrive/10 Masters/Research/error-correcting-codes/ThisIsTheCleanest/weights/ANN_model_27.keras\n",
            "\u001b[1m25/25\u001b[0m \u001b[32m━━━━━━━━━━━━━━━━━━━━\u001b[0m\u001b[37m\u001b[0m \u001b[1m0s\u001b[0m 6ms/step - custom_accuracy_without_padding: 0.1830 - custom_mse: 0.0826 - loss: 0.0826 - val_custom_accuracy_without_padding: 0.1782 - val_custom_mse: 0.0820 - val_loss: 0.0818 - learning_rate: 0.0010\n",
            "Epoch 8/500\n",
            "\u001b[1m 1/25\u001b[0m \u001b[37m━━━━━━━━━━━━━━━━━━━━\u001b[0m \u001b[1m3s\u001b[0m 147ms/step - custom_accuracy_without_padding: 0.1736 - custom_mse: 0.0784 - loss: 0.0784\n",
            "Epoch 8: val_loss improved from 0.08178 to 0.08028, saving model to /content/drive/MyDrive/10 Masters/Research/error-correcting-codes/ThisIsTheCleanest/weights/ANN_model_27.keras\n",
            "\u001b[1m25/25\u001b[0m \u001b[32m━━━━━━━━━━━━━━━━━━━━\u001b[0m\u001b[37m\u001b[0m \u001b[1m0s\u001b[0m 6ms/step - custom_accuracy_without_padding: 0.1864 - custom_mse: 0.0807 - loss: 0.0807 - val_custom_accuracy_without_padding: 0.1839 - val_custom_mse: 0.0803 - val_loss: 0.0803 - learning_rate: 0.0010\n",
            "Epoch 9/500\n",
            "\u001b[1m 1/25\u001b[0m \u001b[37m━━━━━━━━━━━━━━━━━━━━\u001b[0m \u001b[1m3s\u001b[0m 146ms/step - custom_accuracy_without_padding: 0.1817 - custom_mse: 0.0776 - loss: 0.0776\n",
            "Epoch 9: val_loss improved from 0.08028 to 0.07888, saving model to /content/drive/MyDrive/10 Masters/Research/error-correcting-codes/ThisIsTheCleanest/weights/ANN_model_27.keras\n",
            "\u001b[1m25/25\u001b[0m \u001b[32m━━━━━━━━━━━━━━━━━━━━\u001b[0m\u001b[37m\u001b[0m \u001b[1m0s\u001b[0m 6ms/step - custom_accuracy_without_padding: 0.1916 - custom_mse: 0.0791 - loss: 0.0791 - val_custom_accuracy_without_padding: 0.1920 - val_custom_mse: 0.0788 - val_loss: 0.0789 - learning_rate: 0.0010\n",
            "Epoch 10/500\n",
            "\u001b[1m 1/25\u001b[0m \u001b[37m━━━━━━━━━━━━━━━━━━━━\u001b[0m \u001b[1m3s\u001b[0m 145ms/step - custom_accuracy_without_padding: 0.2037 - custom_mse: 0.0721 - loss: 0.0721\n",
            "Epoch 10: val_loss improved from 0.07888 to 0.07761, saving model to /content/drive/MyDrive/10 Masters/Research/error-correcting-codes/ThisIsTheCleanest/weights/ANN_model_27.keras\n",
            "\u001b[1m25/25\u001b[0m \u001b[32m━━━━━━━━━━━━━━━━━━━━\u001b[0m\u001b[37m\u001b[0m \u001b[1m0s\u001b[0m 8ms/step - custom_accuracy_without_padding: 0.2057 - custom_mse: 0.0764 - loss: 0.0764 - val_custom_accuracy_without_padding: 0.1989 - val_custom_mse: 0.0775 - val_loss: 0.0776 - learning_rate: 0.0010\n",
            "Epoch 11/500\n",
            "\u001b[1m 1/25\u001b[0m \u001b[37m━━━━━━━━━━━━━━━━━━━━\u001b[0m \u001b[1m2s\u001b[0m 115ms/step - custom_accuracy_without_padding: 0.1921 - custom_mse: 0.0786 - loss: 0.0786\n",
            "Epoch 11: val_loss improved from 0.07761 to 0.07585, saving model to /content/drive/MyDrive/10 Masters/Research/error-correcting-codes/ThisIsTheCleanest/weights/ANN_model_27.keras\n",
            "\u001b[1m25/25\u001b[0m \u001b[32m━━━━━━━━━━━━━━━━━━━━\u001b[0m\u001b[37m\u001b[0m \u001b[1m0s\u001b[0m 6ms/step - custom_accuracy_without_padding: 0.2073 - custom_mse: 0.0760 - loss: 0.0760 - val_custom_accuracy_without_padding: 0.2065 - val_custom_mse: 0.0758 - val_loss: 0.0758 - learning_rate: 0.0010\n",
            "Epoch 12/500\n",
            "\u001b[1m 1/25\u001b[0m \u001b[37m━━━━━━━━━━━━━━━━━━━━\u001b[0m \u001b[1m0s\u001b[0m 23ms/step - custom_accuracy_without_padding: 0.2407 - custom_mse: 0.0708 - loss: 0.0708\n",
            "Epoch 12: val_loss improved from 0.07585 to 0.07449, saving model to /content/drive/MyDrive/10 Masters/Research/error-correcting-codes/ThisIsTheCleanest/weights/ANN_model_27.keras\n",
            "\u001b[1m25/25\u001b[0m \u001b[32m━━━━━━━━━━━━━━━━━━━━\u001b[0m\u001b[37m\u001b[0m \u001b[1m0s\u001b[0m 7ms/step - custom_accuracy_without_padding: 0.2207 - custom_mse: 0.0745 - loss: 0.0745 - val_custom_accuracy_without_padding: 0.2151 - val_custom_mse: 0.0744 - val_loss: 0.0745 - learning_rate: 0.0010\n",
            "Epoch 13/500\n",
            "\u001b[1m 1/25\u001b[0m \u001b[37m━━━━━━━━━━━━━━━━━━━━\u001b[0m \u001b[1m3s\u001b[0m 136ms/step - custom_accuracy_without_padding: 0.2361 - custom_mse: 0.0730 - loss: 0.0730\n",
            "Epoch 13: val_loss improved from 0.07449 to 0.07417, saving model to /content/drive/MyDrive/10 Masters/Research/error-correcting-codes/ThisIsTheCleanest/weights/ANN_model_27.keras\n",
            "\u001b[1m25/25\u001b[0m \u001b[32m━━━━━━━━━━━━━━━━━━━━\u001b[0m\u001b[37m\u001b[0m \u001b[1m0s\u001b[0m 8ms/step - custom_accuracy_without_padding: 0.2264 - custom_mse: 0.0735 - loss: 0.0735 - val_custom_accuracy_without_padding: 0.2333 - val_custom_mse: 0.0741 - val_loss: 0.0742 - learning_rate: 0.0010\n",
            "Epoch 14/500\n",
            "\u001b[1m 1/25\u001b[0m \u001b[37m━━━━━━━━━━━━━━━━━━━━\u001b[0m \u001b[1m0s\u001b[0m 24ms/step - custom_accuracy_without_padding: 0.2269 - custom_mse: 0.0740 - loss: 0.0740\n",
            "Epoch 14: val_loss improved from 0.07417 to 0.07222, saving model to /content/drive/MyDrive/10 Masters/Research/error-correcting-codes/ThisIsTheCleanest/weights/ANN_model_27.keras\n",
            "\u001b[1m25/25\u001b[0m \u001b[32m━━━━━━━━━━━━━━━━━━━━\u001b[0m\u001b[37m\u001b[0m \u001b[1m0s\u001b[0m 8ms/step - custom_accuracy_without_padding: 0.2373 - custom_mse: 0.0717 - loss: 0.0717 - val_custom_accuracy_without_padding: 0.2325 - val_custom_mse: 0.0721 - val_loss: 0.0722 - learning_rate: 0.0010\n",
            "Epoch 15/500\n",
            "\u001b[1m 1/25\u001b[0m \u001b[37m━━━━━━━━━━━━━━━━━━━━\u001b[0m \u001b[1m0s\u001b[0m 23ms/step - custom_accuracy_without_padding: 0.2257 - custom_mse: 0.0712 - loss: 0.0712\n",
            "Epoch 15: val_loss improved from 0.07222 to 0.07090, saving model to /content/drive/MyDrive/10 Masters/Research/error-correcting-codes/ThisIsTheCleanest/weights/ANN_model_27.keras\n",
            "\u001b[1m25/25\u001b[0m \u001b[32m━━━━━━━━━━━━━━━━━━━━\u001b[0m\u001b[37m\u001b[0m \u001b[1m0s\u001b[0m 6ms/step - custom_accuracy_without_padding: 0.2413 - custom_mse: 0.0706 - loss: 0.0706 - val_custom_accuracy_without_padding: 0.2507 - val_custom_mse: 0.0709 - val_loss: 0.0709 - learning_rate: 0.0010\n",
            "Epoch 16/500\n",
            "\u001b[1m 1/25\u001b[0m \u001b[37m━━━━━━━━━━━━━━━━━━━━\u001b[0m \u001b[1m3s\u001b[0m 148ms/step - custom_accuracy_without_padding: 0.2500 - custom_mse: 0.0672 - loss: 0.0672\n",
            "Epoch 16: val_loss improved from 0.07090 to 0.07026, saving model to /content/drive/MyDrive/10 Masters/Research/error-correcting-codes/ThisIsTheCleanest/weights/ANN_model_27.keras\n",
            "\u001b[1m25/25\u001b[0m \u001b[32m━━━━━━━━━━━━━━━━━━━━\u001b[0m\u001b[37m\u001b[0m \u001b[1m0s\u001b[0m 6ms/step - custom_accuracy_without_padding: 0.2586 - custom_mse: 0.0688 - loss: 0.0688 - val_custom_accuracy_without_padding: 0.2654 - val_custom_mse: 0.0703 - val_loss: 0.0703 - learning_rate: 0.0010\n",
            "Epoch 17/500\n",
            "\u001b[1m25/25\u001b[0m \u001b[32m━━━━━━━━━━━━━━━━━━━━\u001b[0m\u001b[37m\u001b[0m \u001b[1m0s\u001b[0m 2ms/step - custom_accuracy_without_padding: 0.2698 - custom_mse: 0.0685 - loss: 0.0685  \n",
            "Epoch 17: val_loss improved from 0.07026 to 0.06906, saving model to /content/drive/MyDrive/10 Masters/Research/error-correcting-codes/ThisIsTheCleanest/weights/ANN_model_27.keras\n",
            "\u001b[1m25/25\u001b[0m \u001b[32m━━━━━━━━━━━━━━━━━━━━\u001b[0m\u001b[37m\u001b[0m \u001b[1m0s\u001b[0m 7ms/step - custom_accuracy_without_padding: 0.2699 - custom_mse: 0.0685 - loss: 0.0685 - val_custom_accuracy_without_padding: 0.2621 - val_custom_mse: 0.0691 - val_loss: 0.0691 - learning_rate: 0.0010\n",
            "Epoch 18/500\n",
            "\u001b[1m 1/25\u001b[0m \u001b[37m━━━━━━━━━━━━━━━━━━━━\u001b[0m \u001b[1m0s\u001b[0m 23ms/step - custom_accuracy_without_padding: 0.2639 - custom_mse: 0.0700 - loss: 0.0700\n",
            "Epoch 18: val_loss improved from 0.06906 to 0.06816, saving model to /content/drive/MyDrive/10 Masters/Research/error-correcting-codes/ThisIsTheCleanest/weights/ANN_model_27.keras\n",
            "\u001b[1m25/25\u001b[0m \u001b[32m━━━━━━━━━━━━━━━━━━━━\u001b[0m\u001b[37m\u001b[0m \u001b[1m0s\u001b[0m 6ms/step - custom_accuracy_without_padding: 0.2751 - custom_mse: 0.0675 - loss: 0.0675 - val_custom_accuracy_without_padding: 0.2821 - val_custom_mse: 0.0682 - val_loss: 0.0682 - learning_rate: 0.0010\n",
            "Epoch 19/500\n",
            "\u001b[1m 1/25\u001b[0m \u001b[37m━━━━━━━━━━━━━━━━━━━━\u001b[0m \u001b[1m3s\u001b[0m 145ms/step - custom_accuracy_without_padding: 0.2928 - custom_mse: 0.0678 - loss: 0.0678\n",
            "Epoch 19: val_loss improved from 0.06816 to 0.06723, saving model to /content/drive/MyDrive/10 Masters/Research/error-correcting-codes/ThisIsTheCleanest/weights/ANN_model_27.keras\n",
            "\u001b[1m25/25\u001b[0m \u001b[32m━━━━━━━━━━━━━━━━━━━━\u001b[0m\u001b[37m\u001b[0m \u001b[1m0s\u001b[0m 6ms/step - custom_accuracy_without_padding: 0.2925 - custom_mse: 0.0668 - loss: 0.0668 - val_custom_accuracy_without_padding: 0.2910 - val_custom_mse: 0.0673 - val_loss: 0.0672 - learning_rate: 0.0010\n",
            "Epoch 20/500\n",
            "\u001b[1m 1/25\u001b[0m \u001b[37m━━━━━━━━━━━━━━━━━━━━\u001b[0m \u001b[1m3s\u001b[0m 146ms/step - custom_accuracy_without_padding: 0.2789 - custom_mse: 0.0690 - loss: 0.0690\n",
            "Epoch 20: val_loss improved from 0.06723 to 0.06666, saving model to /content/drive/MyDrive/10 Masters/Research/error-correcting-codes/ThisIsTheCleanest/weights/ANN_model_27.keras\n",
            "\u001b[1m25/25\u001b[0m \u001b[32m━━━━━━━━━━━━━━━━━━━━\u001b[0m\u001b[37m\u001b[0m \u001b[1m0s\u001b[0m 8ms/step - custom_accuracy_without_padding: 0.2939 - custom_mse: 0.0660 - loss: 0.0660 - val_custom_accuracy_without_padding: 0.2908 - val_custom_mse: 0.0668 - val_loss: 0.0667 - learning_rate: 0.0010\n",
            "Epoch 21/500\n",
            "\u001b[1m 1/25\u001b[0m \u001b[37m━━━━━━━━━━━━━━━━━━━━\u001b[0m \u001b[1m2s\u001b[0m 114ms/step - custom_accuracy_without_padding: 0.3009 - custom_mse: 0.0623 - loss: 0.0623\n",
            "Epoch 21: val_loss improved from 0.06666 to 0.06603, saving model to /content/drive/MyDrive/10 Masters/Research/error-correcting-codes/ThisIsTheCleanest/weights/ANN_model_27.keras\n",
            "\u001b[1m25/25\u001b[0m \u001b[32m━━━━━━━━━━━━━━━━━━━━\u001b[0m\u001b[37m\u001b[0m \u001b[1m0s\u001b[0m 6ms/step - custom_accuracy_without_padding: 0.3036 - custom_mse: 0.0649 - loss: 0.0649 - val_custom_accuracy_without_padding: 0.3102 - val_custom_mse: 0.0659 - val_loss: 0.0660 - learning_rate: 0.0010\n",
            "Epoch 22/500\n",
            "\u001b[1m 1/25\u001b[0m \u001b[37m━━━━━━━━━━━━━━━━━━━━\u001b[0m \u001b[1m0s\u001b[0m 24ms/step - custom_accuracy_without_padding: 0.3252 - custom_mse: 0.0629 - loss: 0.0629\n",
            "Epoch 22: val_loss improved from 0.06603 to 0.06533, saving model to /content/drive/MyDrive/10 Masters/Research/error-correcting-codes/ThisIsTheCleanest/weights/ANN_model_27.keras\n",
            "\u001b[1m25/25\u001b[0m \u001b[32m━━━━━━━━━━━━━━━━━━━━\u001b[0m\u001b[37m\u001b[0m \u001b[1m0s\u001b[0m 6ms/step - custom_accuracy_without_padding: 0.3194 - custom_mse: 0.0637 - loss: 0.0637 - val_custom_accuracy_without_padding: 0.3173 - val_custom_mse: 0.0654 - val_loss: 0.0653 - learning_rate: 0.0010\n",
            "Epoch 23/500\n",
            "\u001b[1m 1/25\u001b[0m \u001b[37m━━━━━━━━━━━━━━━━━━━━\u001b[0m \u001b[1m0s\u001b[0m 23ms/step - custom_accuracy_without_padding: 0.3264 - custom_mse: 0.0649 - loss: 0.0649\n",
            "Epoch 23: val_loss improved from 0.06533 to 0.06467, saving model to /content/drive/MyDrive/10 Masters/Research/error-correcting-codes/ThisIsTheCleanest/weights/ANN_model_27.keras\n",
            "\u001b[1m25/25\u001b[0m \u001b[32m━━━━━━━━━━━━━━━━━━━━\u001b[0m\u001b[37m\u001b[0m \u001b[1m0s\u001b[0m 6ms/step - custom_accuracy_without_padding: 0.3259 - custom_mse: 0.0639 - loss: 0.0639 - val_custom_accuracy_without_padding: 0.3173 - val_custom_mse: 0.0647 - val_loss: 0.0647 - learning_rate: 0.0010\n",
            "Epoch 24/500\n",
            "\u001b[1m 1/25\u001b[0m \u001b[37m━━━━━━━━━━━━━━━━━━━━\u001b[0m \u001b[1m0s\u001b[0m 22ms/step - custom_accuracy_without_padding: 0.3519 - custom_mse: 0.0571 - loss: 0.0571\n",
            "Epoch 24: val_loss did not improve from 0.06467\n",
            "\u001b[1m25/25\u001b[0m \u001b[32m━━━━━━━━━━━━━━━━━━━━\u001b[0m\u001b[37m\u001b[0m \u001b[1m0s\u001b[0m 5ms/step - custom_accuracy_without_padding: 0.3380 - custom_mse: 0.0622 - loss: 0.0622 - val_custom_accuracy_without_padding: 0.3224 - val_custom_mse: 0.0652 - val_loss: 0.0651 - learning_rate: 0.0010\n",
            "Epoch 25/500\n",
            "\u001b[1m 1/25\u001b[0m \u001b[37m━━━━━━━━━━━━━━━━━━━━\u001b[0m \u001b[1m0s\u001b[0m 23ms/step - custom_accuracy_without_padding: 0.3218 - custom_mse: 0.0682 - loss: 0.0682\n",
            "Epoch 25: val_loss improved from 0.06467 to 0.06407, saving model to /content/drive/MyDrive/10 Masters/Research/error-correcting-codes/ThisIsTheCleanest/weights/ANN_model_27.keras\n",
            "\u001b[1m25/25\u001b[0m \u001b[32m━━━━━━━━━━━━━━━━━━━━\u001b[0m\u001b[37m\u001b[0m \u001b[1m0s\u001b[0m 7ms/step - custom_accuracy_without_padding: 0.3367 - custom_mse: 0.0631 - loss: 0.0631 - val_custom_accuracy_without_padding: 0.3416 - val_custom_mse: 0.0642 - val_loss: 0.0641 - learning_rate: 0.0010\n",
            "Epoch 26/500\n",
            "\u001b[1m25/25\u001b[0m \u001b[32m━━━━━━━━━━━━━━━━━━━━\u001b[0m\u001b[37m\u001b[0m \u001b[1m0s\u001b[0m 2ms/step - custom_accuracy_without_padding: 0.3507 - custom_mse: 0.0614 - loss: 0.0614  \n",
            "Epoch 26: val_loss improved from 0.06407 to 0.06334, saving model to /content/drive/MyDrive/10 Masters/Research/error-correcting-codes/ThisIsTheCleanest/weights/ANN_model_27.keras\n",
            "\u001b[1m25/25\u001b[0m \u001b[32m━━━━━━━━━━━━━━━━━━━━\u001b[0m\u001b[37m\u001b[0m \u001b[1m0s\u001b[0m 7ms/step - custom_accuracy_without_padding: 0.3506 - custom_mse: 0.0614 - loss: 0.0614 - val_custom_accuracy_without_padding: 0.3378 - val_custom_mse: 0.0634 - val_loss: 0.0633 - learning_rate: 0.0010\n",
            "Epoch 27/500\n",
            "\u001b[1m 1/25\u001b[0m \u001b[37m━━━━━━━━━━━━━━━━━━━━\u001b[0m \u001b[1m0s\u001b[0m 26ms/step - custom_accuracy_without_padding: 0.3414 - custom_mse: 0.0648 - loss: 0.0648\n",
            "Epoch 27: val_loss improved from 0.06334 to 0.06256, saving model to /content/drive/MyDrive/10 Masters/Research/error-correcting-codes/ThisIsTheCleanest/weights/ANN_model_27.keras\n",
            "\u001b[1m25/25\u001b[0m \u001b[32m━━━━━━━━━━━━━━━━━━━━\u001b[0m\u001b[37m\u001b[0m \u001b[1m0s\u001b[0m 6ms/step - custom_accuracy_without_padding: 0.3530 - custom_mse: 0.0623 - loss: 0.0623 - val_custom_accuracy_without_padding: 0.3429 - val_custom_mse: 0.0626 - val_loss: 0.0626 - learning_rate: 0.0010\n",
            "Epoch 28/500\n",
            "\u001b[1m 1/25\u001b[0m \u001b[37m━━━━━━━━━━━━━━━━━━━━\u001b[0m \u001b[1m0s\u001b[0m 26ms/step - custom_accuracy_without_padding: 0.3634 - custom_mse: 0.0618 - loss: 0.0618\n",
            "Epoch 28: val_loss did not improve from 0.06256\n",
            "\u001b[1m25/25\u001b[0m \u001b[32m━━━━━━━━━━━━━━━━━━━━\u001b[0m\u001b[37m\u001b[0m \u001b[1m0s\u001b[0m 5ms/step - custom_accuracy_without_padding: 0.3666 - custom_mse: 0.0608 - loss: 0.0608 - val_custom_accuracy_without_padding: 0.3542 - val_custom_mse: 0.0630 - val_loss: 0.0628 - learning_rate: 0.0010\n",
            "Epoch 29/500\n",
            "\u001b[1m 1/25\u001b[0m \u001b[37m━━━━━━━━━━━━━━━━━━━━\u001b[0m \u001b[1m0s\u001b[0m 24ms/step - custom_accuracy_without_padding: 0.3831 - custom_mse: 0.0560 - loss: 0.0560\n",
            "Epoch 29: val_loss improved from 0.06256 to 0.06226, saving model to /content/drive/MyDrive/10 Masters/Research/error-correcting-codes/ThisIsTheCleanest/weights/ANN_model_27.keras\n",
            "\u001b[1m25/25\u001b[0m \u001b[32m━━━━━━━━━━━━━━━━━━━━\u001b[0m\u001b[37m\u001b[0m \u001b[1m0s\u001b[0m 6ms/step - custom_accuracy_without_padding: 0.3682 - custom_mse: 0.0600 - loss: 0.0600 - val_custom_accuracy_without_padding: 0.3598 - val_custom_mse: 0.0622 - val_loss: 0.0623 - learning_rate: 0.0010\n",
            "Epoch 30/500\n",
            "\u001b[1m23/25\u001b[0m \u001b[32m━━━━━━━━━━━━━━━━━━\u001b[0m\u001b[37m━━\u001b[0m \u001b[1m0s\u001b[0m 2ms/step - custom_accuracy_without_padding: 0.3702 - custom_mse: 0.0601 - loss: 0.0601  \n",
            "Epoch 30: val_loss improved from 0.06226 to 0.06152, saving model to /content/drive/MyDrive/10 Masters/Research/error-correcting-codes/ThisIsTheCleanest/weights/ANN_model_27.keras\n",
            "\u001b[1m25/25\u001b[0m \u001b[32m━━━━━━━━━━━━━━━━━━━━\u001b[0m\u001b[37m\u001b[0m \u001b[1m0s\u001b[0m 7ms/step - custom_accuracy_without_padding: 0.3706 - custom_mse: 0.0601 - loss: 0.0601 - val_custom_accuracy_without_padding: 0.3537 - val_custom_mse: 0.0617 - val_loss: 0.0615 - learning_rate: 0.0010\n",
            "Epoch 31/500\n",
            "\u001b[1m 1/25\u001b[0m \u001b[37m━━━━━━━━━━━━━━━━━━━━\u001b[0m \u001b[1m0s\u001b[0m 24ms/step - custom_accuracy_without_padding: 0.3900 - custom_mse: 0.0606 - loss: 0.0606\n",
            "Epoch 31: val_loss improved from 0.06152 to 0.06124, saving model to /content/drive/MyDrive/10 Masters/Research/error-correcting-codes/ThisIsTheCleanest/weights/ANN_model_27.keras\n",
            "\u001b[1m25/25\u001b[0m \u001b[32m━━━━━━━━━━━━━━━━━━━━\u001b[0m\u001b[37m\u001b[0m \u001b[1m0s\u001b[0m 6ms/step - custom_accuracy_without_padding: 0.3785 - custom_mse: 0.0593 - loss: 0.0593 - val_custom_accuracy_without_padding: 0.3618 - val_custom_mse: 0.0613 - val_loss: 0.0612 - learning_rate: 0.0010\n",
            "Epoch 32/500\n",
            "\u001b[1m 1/25\u001b[0m \u001b[37m━━━━━━━━━━━━━━━━━━━━\u001b[0m \u001b[1m0s\u001b[0m 23ms/step - custom_accuracy_without_padding: 0.3843 - custom_mse: 0.0594 - loss: 0.0594\n",
            "Epoch 32: val_loss did not improve from 0.06124\n",
            "\u001b[1m25/25\u001b[0m \u001b[32m━━━━━━━━━━━━━━━━━━━━\u001b[0m\u001b[37m\u001b[0m \u001b[1m0s\u001b[0m 5ms/step - custom_accuracy_without_padding: 0.3803 - custom_mse: 0.0595 - loss: 0.0595 - val_custom_accuracy_without_padding: 0.3679 - val_custom_mse: 0.0614 - val_loss: 0.0614 - learning_rate: 0.0010\n",
            "Epoch 33/500\n",
            "\u001b[1m 1/25\u001b[0m \u001b[37m━━━━━━━━━━━━━━━━━━━━\u001b[0m \u001b[1m0s\u001b[0m 24ms/step - custom_accuracy_without_padding: 0.3669 - custom_mse: 0.0593 - loss: 0.0593\n",
            "Epoch 33: val_loss improved from 0.06124 to 0.06086, saving model to /content/drive/MyDrive/10 Masters/Research/error-correcting-codes/ThisIsTheCleanest/weights/ANN_model_27.keras\n",
            "\u001b[1m25/25\u001b[0m \u001b[32m━━━━━━━━━━━━━━━━━━━━\u001b[0m\u001b[37m\u001b[0m \u001b[1m0s\u001b[0m 6ms/step - custom_accuracy_without_padding: 0.3827 - custom_mse: 0.0592 - loss: 0.0592 - val_custom_accuracy_without_padding: 0.3724 - val_custom_mse: 0.0610 - val_loss: 0.0609 - learning_rate: 0.0010\n",
            "Epoch 34/500\n",
            "\u001b[1m 1/25\u001b[0m \u001b[37m━━━━━━━━━━━━━━━━━━━━\u001b[0m \u001b[1m0s\u001b[0m 25ms/step - custom_accuracy_without_padding: 0.3738 - custom_mse: 0.0571 - loss: 0.0571\n",
            "Epoch 34: val_loss improved from 0.06086 to 0.06031, saving model to /content/drive/MyDrive/10 Masters/Research/error-correcting-codes/ThisIsTheCleanest/weights/ANN_model_27.keras\n",
            "\u001b[1m25/25\u001b[0m \u001b[32m━━━━━━━━━━━━━━━━━━━━\u001b[0m\u001b[37m\u001b[0m \u001b[1m0s\u001b[0m 8ms/step - custom_accuracy_without_padding: 0.3813 - custom_mse: 0.0590 - loss: 0.0590 - val_custom_accuracy_without_padding: 0.3743 - val_custom_mse: 0.0603 - val_loss: 0.0603 - learning_rate: 0.0010\n",
            "Epoch 35/500\n",
            "\u001b[1m25/25\u001b[0m \u001b[32m━━━━━━━━━━━━━━━━━━━━\u001b[0m\u001b[37m\u001b[0m \u001b[1m0s\u001b[0m 2ms/step - custom_accuracy_without_padding: 0.3947 - custom_mse: 0.0586 - loss: 0.0586  \n",
            "Epoch 35: val_loss improved from 0.06031 to 0.05970, saving model to /content/drive/MyDrive/10 Masters/Research/error-correcting-codes/ThisIsTheCleanest/weights/ANN_model_27.keras\n",
            "\u001b[1m25/25\u001b[0m \u001b[32m━━━━━━━━━━━━━━━━━━━━\u001b[0m\u001b[37m\u001b[0m \u001b[1m0s\u001b[0m 7ms/step - custom_accuracy_without_padding: 0.3945 - custom_mse: 0.0586 - loss: 0.0586 - val_custom_accuracy_without_padding: 0.3834 - val_custom_mse: 0.0598 - val_loss: 0.0597 - learning_rate: 0.0010\n",
            "Epoch 36/500\n",
            "\u001b[1m25/25\u001b[0m \u001b[32m━━━━━━━━━━━━━━━━━━━━\u001b[0m\u001b[37m\u001b[0m \u001b[1m0s\u001b[0m 2ms/step - custom_accuracy_without_padding: 0.3877 - custom_mse: 0.0577 - loss: 0.0577  \n",
            "Epoch 36: val_loss did not improve from 0.05970\n",
            "\u001b[1m25/25\u001b[0m \u001b[32m━━━━━━━━━━━━━━━━━━━━\u001b[0m\u001b[37m\u001b[0m \u001b[1m0s\u001b[0m 5ms/step - custom_accuracy_without_padding: 0.3876 - custom_mse: 0.0577 - loss: 0.0577 - val_custom_accuracy_without_padding: 0.3520 - val_custom_mse: 0.0606 - val_loss: 0.0605 - learning_rate: 0.0010\n",
            "Epoch 37/500\n",
            "\u001b[1m 1/25\u001b[0m \u001b[37m━━━━━━━━━━━━━━━━━━━━\u001b[0m \u001b[1m3s\u001b[0m 162ms/step - custom_accuracy_without_padding: 0.3854 - custom_mse: 0.0583 - loss: 0.0583\n",
            "Epoch 37: val_loss improved from 0.05970 to 0.05932, saving model to /content/drive/MyDrive/10 Masters/Research/error-correcting-codes/ThisIsTheCleanest/weights/ANN_model_27.keras\n",
            "\u001b[1m25/25\u001b[0m \u001b[32m━━━━━━━━━━━━━━━━━━━━\u001b[0m\u001b[37m\u001b[0m \u001b[1m0s\u001b[0m 6ms/step - custom_accuracy_without_padding: 0.3902 - custom_mse: 0.0577 - loss: 0.0577 - val_custom_accuracy_without_padding: 0.3824 - val_custom_mse: 0.0593 - val_loss: 0.0593 - learning_rate: 0.0010\n",
            "Epoch 38/500\n",
            "\u001b[1m 1/25\u001b[0m \u001b[37m━━━━━━━━━━━━━━━━━━━━\u001b[0m \u001b[1m0s\u001b[0m 24ms/step - custom_accuracy_without_padding: 0.4005 - custom_mse: 0.0561 - loss: 0.0561\n",
            "Epoch 38: val_loss improved from 0.05932 to 0.05930, saving model to /content/drive/MyDrive/10 Masters/Research/error-correcting-codes/ThisIsTheCleanest/weights/ANN_model_27.keras\n",
            "\u001b[1m25/25\u001b[0m \u001b[32m━━━━━━━━━━━━━━━━━━━━\u001b[0m\u001b[37m\u001b[0m \u001b[1m0s\u001b[0m 6ms/step - custom_accuracy_without_padding: 0.4052 - custom_mse: 0.0572 - loss: 0.0572 - val_custom_accuracy_without_padding: 0.3829 - val_custom_mse: 0.0593 - val_loss: 0.0593 - learning_rate: 0.0010\n",
            "Epoch 39/500\n",
            "\u001b[1m22/25\u001b[0m \u001b[32m━━━━━━━━━━━━━━━━━\u001b[0m\u001b[37m━━━\u001b[0m \u001b[1m0s\u001b[0m 2ms/step - custom_accuracy_without_padding: 0.4017 - custom_mse: 0.0579 - loss: 0.0579  \n",
            "Epoch 39: val_loss improved from 0.05930 to 0.05881, saving model to /content/drive/MyDrive/10 Masters/Research/error-correcting-codes/ThisIsTheCleanest/weights/ANN_model_27.keras\n",
            "\u001b[1m25/25\u001b[0m \u001b[32m━━━━━━━━━━━━━━━━━━━━\u001b[0m\u001b[37m\u001b[0m \u001b[1m0s\u001b[0m 7ms/step - custom_accuracy_without_padding: 0.4025 - custom_mse: 0.0579 - loss: 0.0579 - val_custom_accuracy_without_padding: 0.3864 - val_custom_mse: 0.0589 - val_loss: 0.0588 - learning_rate: 0.0010\n",
            "Epoch 40/500\n",
            "\u001b[1m 1/25\u001b[0m \u001b[37m━━━━━━━━━━━━━━━━━━━━\u001b[0m \u001b[1m0s\u001b[0m 23ms/step - custom_accuracy_without_padding: 0.3912 - custom_mse: 0.0602 - loss: 0.0602\n",
            "Epoch 40: val_loss improved from 0.05881 to 0.05819, saving model to /content/drive/MyDrive/10 Masters/Research/error-correcting-codes/ThisIsTheCleanest/weights/ANN_model_27.keras\n",
            "\u001b[1m25/25\u001b[0m \u001b[32m━━━━━━━━━━━━━━━━━━━━\u001b[0m\u001b[37m\u001b[0m \u001b[1m0s\u001b[0m 6ms/step - custom_accuracy_without_padding: 0.4030 - custom_mse: 0.0576 - loss: 0.0576 - val_custom_accuracy_without_padding: 0.3909 - val_custom_mse: 0.0584 - val_loss: 0.0582 - learning_rate: 0.0010\n",
            "Epoch 41/500\n",
            "\u001b[1m 1/25\u001b[0m \u001b[37m━━━━━━━━━━━━━━━━━━━━\u001b[0m \u001b[1m0s\u001b[0m 25ms/step - custom_accuracy_without_padding: 0.3912 - custom_mse: 0.0557 - loss: 0.0557\n",
            "Epoch 41: val_loss did not improve from 0.05819\n",
            "\u001b[1m25/25\u001b[0m \u001b[32m━━━━━━━━━━━━━━━━━━━━\u001b[0m\u001b[37m\u001b[0m \u001b[1m0s\u001b[0m 5ms/step - custom_accuracy_without_padding: 0.4099 - custom_mse: 0.0565 - loss: 0.0565 - val_custom_accuracy_without_padding: 0.3937 - val_custom_mse: 0.0585 - val_loss: 0.0585 - learning_rate: 0.0010\n",
            "Epoch 42/500\n",
            "\u001b[1m 1/25\u001b[0m \u001b[37m━━━━━━━━━━━━━━━━━━━━\u001b[0m \u001b[1m0s\u001b[0m 23ms/step - custom_accuracy_without_padding: 0.4062 - custom_mse: 0.0548 - loss: 0.0548\n",
            "Epoch 42: val_loss improved from 0.05819 to 0.05798, saving model to /content/drive/MyDrive/10 Masters/Research/error-correcting-codes/ThisIsTheCleanest/weights/ANN_model_27.keras\n",
            "\u001b[1m25/25\u001b[0m \u001b[32m━━━━━━━━━━━━━━━━━━━━\u001b[0m\u001b[37m\u001b[0m \u001b[1m0s\u001b[0m 6ms/step - custom_accuracy_without_padding: 0.4122 - custom_mse: 0.0563 - loss: 0.0563 - val_custom_accuracy_without_padding: 0.4041 - val_custom_mse: 0.0581 - val_loss: 0.0580 - learning_rate: 0.0010\n",
            "Epoch 43/500\n",
            "\u001b[1m 1/25\u001b[0m \u001b[37m━━━━━━━━━━━━━━━━━━━━\u001b[0m \u001b[1m3s\u001b[0m 146ms/step - custom_accuracy_without_padding: 0.4398 - custom_mse: 0.0501 - loss: 0.0501\n",
            "Epoch 43: val_loss improved from 0.05798 to 0.05783, saving model to /content/drive/MyDrive/10 Masters/Research/error-correcting-codes/ThisIsTheCleanest/weights/ANN_model_27.keras\n",
            "\u001b[1m25/25\u001b[0m \u001b[32m━━━━━━━━━━━━━━━━━━━━\u001b[0m\u001b[37m\u001b[0m \u001b[1m0s\u001b[0m 7ms/step - custom_accuracy_without_padding: 0.4231 - custom_mse: 0.0551 - loss: 0.0551 - val_custom_accuracy_without_padding: 0.4069 - val_custom_mse: 0.0579 - val_loss: 0.0578 - learning_rate: 0.0010\n",
            "Epoch 44/500\n",
            "\u001b[1m17/25\u001b[0m \u001b[32m━━━━━━━━━━━━━\u001b[0m\u001b[37m━━━━━━━\u001b[0m \u001b[1m0s\u001b[0m 3ms/step - custom_accuracy_without_padding: 0.4232 - custom_mse: 0.0570 - loss: 0.0570  \n",
            "Epoch 44: val_loss improved from 0.05783 to 0.05736, saving model to /content/drive/MyDrive/10 Masters/Research/error-correcting-codes/ThisIsTheCleanest/weights/ANN_model_27.keras\n",
            "\u001b[1m25/25\u001b[0m \u001b[32m━━━━━━━━━━━━━━━━━━━━\u001b[0m\u001b[37m\u001b[0m \u001b[1m0s\u001b[0m 10ms/step - custom_accuracy_without_padding: 0.4230 - custom_mse: 0.0565 - loss: 0.0565 - val_custom_accuracy_without_padding: 0.4041 - val_custom_mse: 0.0576 - val_loss: 0.0574 - learning_rate: 0.0010\n",
            "Epoch 45/500\n",
            "\u001b[1m15/25\u001b[0m \u001b[32m━━━━━━━━━━━━\u001b[0m\u001b[37m━━━━━━━━\u001b[0m \u001b[1m0s\u001b[0m 4ms/step - custom_accuracy_without_padding: 0.4204 - custom_mse: 0.0558 - loss: 0.0558 \n",
            "Epoch 45: val_loss improved from 0.05736 to 0.05727, saving model to /content/drive/MyDrive/10 Masters/Research/error-correcting-codes/ThisIsTheCleanest/weights/ANN_model_27.keras\n",
            "\u001b[1m25/25\u001b[0m \u001b[32m━━━━━━━━━━━━━━━━━━━━\u001b[0m\u001b[37m\u001b[0m \u001b[1m0s\u001b[0m 12ms/step - custom_accuracy_without_padding: 0.4188 - custom_mse: 0.0557 - loss: 0.0557 - val_custom_accuracy_without_padding: 0.3991 - val_custom_mse: 0.0574 - val_loss: 0.0573 - learning_rate: 0.0010\n",
            "Epoch 46/500\n",
            "\u001b[1m11/25\u001b[0m \u001b[32m━━━━━━━━\u001b[0m\u001b[37m━━━━━━━━━━━━\u001b[0m \u001b[1m0s\u001b[0m 5ms/step - custom_accuracy_without_padding: 0.4240 - custom_mse: 0.0557 - loss: 0.0557  \n",
            "Epoch 46: val_loss improved from 0.05727 to 0.05695, saving model to /content/drive/MyDrive/10 Masters/Research/error-correcting-codes/ThisIsTheCleanest/weights/ANN_model_27.keras\n",
            "\u001b[1m25/25\u001b[0m \u001b[32m━━━━━━━━━━━━━━━━━━━━\u001b[0m\u001b[37m\u001b[0m \u001b[1m1s\u001b[0m 12ms/step - custom_accuracy_without_padding: 0.4233 - custom_mse: 0.0557 - loss: 0.0557 - val_custom_accuracy_without_padding: 0.4099 - val_custom_mse: 0.0571 - val_loss: 0.0570 - learning_rate: 0.0010\n",
            "Epoch 47/500\n",
            "\u001b[1m25/25\u001b[0m \u001b[32m━━━━━━━━━━━━━━━━━━━━\u001b[0m\u001b[37m\u001b[0m \u001b[1m0s\u001b[0m 5ms/step - custom_accuracy_without_padding: 0.4194 - custom_mse: 0.0553 - loss: 0.0553\n",
            "Epoch 47: val_loss improved from 0.05695 to 0.05633, saving model to /content/drive/MyDrive/10 Masters/Research/error-correcting-codes/ThisIsTheCleanest/weights/ANN_model_27.keras\n",
            "\u001b[1m25/25\u001b[0m \u001b[32m━━━━━━━━━━━━━━━━━━━━\u001b[0m\u001b[37m\u001b[0m \u001b[1m1s\u001b[0m 20ms/step - custom_accuracy_without_padding: 0.4197 - custom_mse: 0.0553 - loss: 0.0553 - val_custom_accuracy_without_padding: 0.4233 - val_custom_mse: 0.0564 - val_loss: 0.0563 - learning_rate: 0.0010\n",
            "Epoch 48/500\n",
            "\u001b[1m15/25\u001b[0m \u001b[32m━━━━━━━━━━━━\u001b[0m\u001b[37m━━━━━━━━\u001b[0m \u001b[1m0s\u001b[0m 4ms/step - custom_accuracy_without_padding: 0.4315 - custom_mse: 0.0549 - loss: 0.0549 \n",
            "Epoch 48: val_loss improved from 0.05633 to 0.05617, saving model to /content/drive/MyDrive/10 Masters/Research/error-correcting-codes/ThisIsTheCleanest/weights/ANN_model_27.keras\n",
            "\u001b[1m25/25\u001b[0m \u001b[32m━━━━━━━━━━━━━━━━━━━━\u001b[0m\u001b[37m\u001b[0m \u001b[1m0s\u001b[0m 12ms/step - custom_accuracy_without_padding: 0.4325 - custom_mse: 0.0547 - loss: 0.0547 - val_custom_accuracy_without_padding: 0.4148 - val_custom_mse: 0.0563 - val_loss: 0.0562 - learning_rate: 0.0010\n",
            "Epoch 49/500\n",
            "\u001b[1m18/25\u001b[0m \u001b[32m━━━━━━━━━━━━━━\u001b[0m\u001b[37m━━━━━━\u001b[0m \u001b[1m0s\u001b[0m 9ms/step - custom_accuracy_without_padding: 0.4411 - custom_mse: 0.0537 - loss: 0.0537 \n",
            "Epoch 49: val_loss improved from 0.05617 to 0.05593, saving model to /content/drive/MyDrive/10 Masters/Research/error-correcting-codes/ThisIsTheCleanest/weights/ANN_model_27.keras\n",
            "\u001b[1m25/25\u001b[0m \u001b[32m━━━━━━━━━━━━━━━━━━━━\u001b[0m\u001b[37m\u001b[0m \u001b[1m1s\u001b[0m 16ms/step - custom_accuracy_without_padding: 0.4408 - custom_mse: 0.0538 - loss: 0.0538 - val_custom_accuracy_without_padding: 0.4304 - val_custom_mse: 0.0562 - val_loss: 0.0559 - learning_rate: 0.0010\n",
            "Epoch 50/500\n",
            "\u001b[1m20/25\u001b[0m \u001b[32m━━━━━━━━━━━━━━━━\u001b[0m\u001b[37m━━━━\u001b[0m \u001b[1m0s\u001b[0m 8ms/step - custom_accuracy_without_padding: 0.4457 - custom_mse: 0.0538 - loss: 0.0538\n",
            "Epoch 50: val_loss improved from 0.05593 to 0.05547, saving model to /content/drive/MyDrive/10 Masters/Research/error-correcting-codes/ThisIsTheCleanest/weights/ANN_model_27.keras\n",
            "\u001b[1m25/25\u001b[0m \u001b[32m━━━━━━━━━━━━━━━━━━━━\u001b[0m\u001b[37m\u001b[0m \u001b[1m1s\u001b[0m 16ms/step - custom_accuracy_without_padding: 0.4450 - custom_mse: 0.0538 - loss: 0.0538 - val_custom_accuracy_without_padding: 0.4292 - val_custom_mse: 0.0556 - val_loss: 0.0555 - learning_rate: 0.0010\n",
            "Epoch 51/500\n",
            "\u001b[1m18/25\u001b[0m \u001b[32m━━━━━━━━━━━━━━\u001b[0m\u001b[37m━━━━━━\u001b[0m \u001b[1m0s\u001b[0m 3ms/step - custom_accuracy_without_padding: 0.4417 - custom_mse: 0.0532 - loss: 0.0532  \n",
            "Epoch 51: val_loss improved from 0.05547 to 0.05503, saving model to /content/drive/MyDrive/10 Masters/Research/error-correcting-codes/ThisIsTheCleanest/weights/ANN_model_27.keras\n",
            "\u001b[1m25/25\u001b[0m \u001b[32m━━━━━━━━━━━━━━━━━━━━\u001b[0m\u001b[37m\u001b[0m \u001b[1m1s\u001b[0m 13ms/step - custom_accuracy_without_padding: 0.4421 - custom_mse: 0.0533 - loss: 0.0533 - val_custom_accuracy_without_padding: 0.4294 - val_custom_mse: 0.0553 - val_loss: 0.0550 - learning_rate: 0.0010\n",
            "Epoch 52/500\n",
            "\u001b[1m19/25\u001b[0m \u001b[32m━━━━━━━━━━━━━━━\u001b[0m\u001b[37m━━━━━\u001b[0m \u001b[1m0s\u001b[0m 3ms/step - custom_accuracy_without_padding: 0.4505 - custom_mse: 0.0535 - loss: 0.0535  \n",
            "Epoch 52: val_loss did not improve from 0.05503\n",
            "\u001b[1m25/25\u001b[0m \u001b[32m━━━━━━━━━━━━━━━━━━━━\u001b[0m\u001b[37m\u001b[0m \u001b[1m0s\u001b[0m 9ms/step - custom_accuracy_without_padding: 0.4511 - custom_mse: 0.0534 - loss: 0.0534 - val_custom_accuracy_without_padding: 0.4327 - val_custom_mse: 0.0554 - val_loss: 0.0551 - learning_rate: 0.0010\n",
            "Epoch 53/500\n",
            "\u001b[1m21/25\u001b[0m \u001b[32m━━━━━━━━━━━━━━━━\u001b[0m\u001b[37m━━━━\u001b[0m \u001b[1m0s\u001b[0m 5ms/step - custom_accuracy_without_padding: 0.4520 - custom_mse: 0.0520 - loss: 0.0520\n",
            "Epoch 53: val_loss did not improve from 0.05503\n",
            "\u001b[1m25/25\u001b[0m \u001b[32m━━━━━━━━━━━━━━━━━━━━\u001b[0m\u001b[37m\u001b[0m \u001b[1m0s\u001b[0m 11ms/step - custom_accuracy_without_padding: 0.4522 - custom_mse: 0.0522 - loss: 0.0522 - val_custom_accuracy_without_padding: 0.4320 - val_custom_mse: 0.0553 - val_loss: 0.0551 - learning_rate: 0.0010\n",
            "Epoch 54/500\n",
            "\u001b[1m18/25\u001b[0m \u001b[32m━━━━━━━━━━━━━━\u001b[0m\u001b[37m━━━━━━\u001b[0m \u001b[1m0s\u001b[0m 3ms/step - custom_accuracy_without_padding: 0.4447 - custom_mse: 0.0533 - loss: 0.0533  \n",
            "Epoch 54: val_loss improved from 0.05503 to 0.05444, saving model to /content/drive/MyDrive/10 Masters/Research/error-correcting-codes/ThisIsTheCleanest/weights/ANN_model_27.keras\n",
            "\u001b[1m25/25\u001b[0m \u001b[32m━━━━━━━━━━━━━━━━━━━━\u001b[0m\u001b[37m\u001b[0m \u001b[1m1s\u001b[0m 13ms/step - custom_accuracy_without_padding: 0.4449 - custom_mse: 0.0533 - loss: 0.0533 - val_custom_accuracy_without_padding: 0.4372 - val_custom_mse: 0.0548 - val_loss: 0.0544 - learning_rate: 0.0010\n",
            "Epoch 55/500\n",
            "\u001b[1m18/25\u001b[0m \u001b[32m━━━━━━━━━━━━━━\u001b[0m\u001b[37m━━━━━━\u001b[0m \u001b[1m0s\u001b[0m 10ms/step - custom_accuracy_without_padding: 0.4586 - custom_mse: 0.0520 - loss: 0.0520\n",
            "Epoch 55: val_loss improved from 0.05444 to 0.05431, saving model to /content/drive/MyDrive/10 Masters/Research/error-correcting-codes/ThisIsTheCleanest/weights/ANN_model_27.keras\n",
            "\u001b[1m25/25\u001b[0m \u001b[32m━━━━━━━━━━━━━━━━━━━━\u001b[0m\u001b[37m\u001b[0m \u001b[1m1s\u001b[0m 26ms/step - custom_accuracy_without_padding: 0.4591 - custom_mse: 0.0522 - loss: 0.0522 - val_custom_accuracy_without_padding: 0.4489 - val_custom_mse: 0.0545 - val_loss: 0.0543 - learning_rate: 0.0010\n",
            "Epoch 56/500\n",
            "\u001b[1m22/25\u001b[0m \u001b[32m━━━━━━━━━━━━━━━━━\u001b[0m\u001b[37m━━━\u001b[0m \u001b[1m0s\u001b[0m 12ms/step - custom_accuracy_without_padding: 0.4648 - custom_mse: 0.0522 - loss: 0.0522\n",
            "Epoch 56: val_loss improved from 0.05431 to 0.05417, saving model to /content/drive/MyDrive/10 Masters/Research/error-correcting-codes/ThisIsTheCleanest/weights/ANN_model_27.keras\n",
            "\u001b[1m25/25\u001b[0m \u001b[32m━━━━━━━━━━━━━━━━━━━━\u001b[0m\u001b[37m\u001b[0m \u001b[1m1s\u001b[0m 44ms/step - custom_accuracy_without_padding: 0.4644 - custom_mse: 0.0523 - loss: 0.0523 - val_custom_accuracy_without_padding: 0.4557 - val_custom_mse: 0.0544 - val_loss: 0.0542 - learning_rate: 0.0010\n",
            "Epoch 57/500\n",
            "\u001b[1m18/25\u001b[0m \u001b[32m━━━━━━━━━━━━━━\u001b[0m\u001b[37m━━━━━━\u001b[0m \u001b[1m0s\u001b[0m 10ms/step - custom_accuracy_without_padding: 0.4591 - custom_mse: 0.0536 - loss: 0.0536\n",
            "Epoch 57: val_loss did not improve from 0.05417\n",
            "\u001b[1m25/25\u001b[0m \u001b[32m━━━━━━━━━━━━━━━━━━━━\u001b[0m\u001b[37m\u001b[0m \u001b[1m1s\u001b[0m 16ms/step - custom_accuracy_without_padding: 0.4597 - custom_mse: 0.0532 - loss: 0.0532 - val_custom_accuracy_without_padding: 0.4582 - val_custom_mse: 0.0546 - val_loss: 0.0543 - learning_rate: 0.0010\n",
            "Epoch 58/500\n",
            "\u001b[1m15/25\u001b[0m \u001b[32m━━━━━━━━━━━━\u001b[0m\u001b[37m━━━━━━━━\u001b[0m \u001b[1m0s\u001b[0m 8ms/step - custom_accuracy_without_padding: 0.4584 - custom_mse: 0.0527 - loss: 0.0527\n",
            "Epoch 58: val_loss did not improve from 0.05417\n",
            "\u001b[1m25/25\u001b[0m \u001b[32m━━━━━━━━━━━━━━━━━━━━\u001b[0m\u001b[37m\u001b[0m \u001b[1m1s\u001b[0m 18ms/step - custom_accuracy_without_padding: 0.4566 - custom_mse: 0.0526 - loss: 0.0526 - val_custom_accuracy_without_padding: 0.4468 - val_custom_mse: 0.0544 - val_loss: 0.0542 - learning_rate: 0.0010\n",
            "Epoch 59/500\n",
            "\u001b[1m19/25\u001b[0m \u001b[32m━━━━━━━━━━━━━━━\u001b[0m\u001b[37m━━━━━\u001b[0m \u001b[1m0s\u001b[0m 9ms/step - custom_accuracy_without_padding: 0.4617 - custom_mse: 0.0522 - loss: 0.0522 \n",
            "Epoch 59: val_loss improved from 0.05417 to 0.05358, saving model to /content/drive/MyDrive/10 Masters/Research/error-correcting-codes/ThisIsTheCleanest/weights/ANN_model_27.keras\n",
            "\u001b[1m25/25\u001b[0m \u001b[32m━━━━━━━━━━━━━━━━━━━━\u001b[0m\u001b[37m\u001b[0m \u001b[1m1s\u001b[0m 21ms/step - custom_accuracy_without_padding: 0.4633 - custom_mse: 0.0521 - loss: 0.0521 - val_custom_accuracy_without_padding: 0.4595 - val_custom_mse: 0.0537 - val_loss: 0.0536 - learning_rate: 0.0010\n",
            "Epoch 60/500\n",
            "\u001b[1m17/25\u001b[0m \u001b[32m━━━━━━━━━━━━━\u001b[0m\u001b[37m━━━━━━━\u001b[0m \u001b[1m0s\u001b[0m 15ms/step - custom_accuracy_without_padding: 0.4670 - custom_mse: 0.0522 - loss: 0.0522\n",
            "Epoch 60: val_loss did not improve from 0.05358\n",
            "\u001b[1m25/25\u001b[0m \u001b[32m━━━━━━━━━━━━━━━━━━━━\u001b[0m\u001b[37m\u001b[0m \u001b[1m0s\u001b[0m 16ms/step - custom_accuracy_without_padding: 0.4689 - custom_mse: 0.0520 - loss: 0.0520 - val_custom_accuracy_without_padding: 0.4529 - val_custom_mse: 0.0542 - val_loss: 0.0540 - learning_rate: 0.0010\n",
            "Epoch 61/500\n",
            "\u001b[1m15/25\u001b[0m \u001b[32m━━━━━━━━━━━━\u001b[0m\u001b[37m━━━━━━━━\u001b[0m \u001b[1m0s\u001b[0m 4ms/step - custom_accuracy_without_padding: 0.4767 - custom_mse: 0.0517 - loss: 0.0517  \n",
            "Epoch 61: val_loss improved from 0.05358 to 0.05337, saving model to /content/drive/MyDrive/10 Masters/Research/error-correcting-codes/ThisIsTheCleanest/weights/ANN_model_27.keras\n",
            "\u001b[1m25/25\u001b[0m \u001b[32m━━━━━━━━━━━━━━━━━━━━\u001b[0m\u001b[37m\u001b[0m \u001b[1m0s\u001b[0m 12ms/step - custom_accuracy_without_padding: 0.4770 - custom_mse: 0.0516 - loss: 0.0516 - val_custom_accuracy_without_padding: 0.4608 - val_custom_mse: 0.0536 - val_loss: 0.0534 - learning_rate: 0.0010\n",
            "Epoch 62/500\n",
            "\u001b[1m23/25\u001b[0m \u001b[32m━━━━━━━━━━━━━━━━━━\u001b[0m\u001b[37m━━\u001b[0m \u001b[1m0s\u001b[0m 7ms/step - custom_accuracy_without_padding: 0.4779 - custom_mse: 0.0510 - loss: 0.0510\n",
            "Epoch 62: val_loss improved from 0.05337 to 0.05303, saving model to /content/drive/MyDrive/10 Masters/Research/error-correcting-codes/ThisIsTheCleanest/weights/ANN_model_27.keras\n",
            "\u001b[1m25/25\u001b[0m \u001b[32m━━━━━━━━━━━━━━━━━━━━\u001b[0m\u001b[37m\u001b[0m \u001b[1m1s\u001b[0m 17ms/step - custom_accuracy_without_padding: 0.4780 - custom_mse: 0.0510 - loss: 0.0510 - val_custom_accuracy_without_padding: 0.4628 - val_custom_mse: 0.0532 - val_loss: 0.0530 - learning_rate: 0.0010\n",
            "Epoch 63/500\n",
            "\u001b[1m24/25\u001b[0m \u001b[32m━━━━━━━━━━━━━━━━━━━\u001b[0m\u001b[37m━\u001b[0m \u001b[1m0s\u001b[0m 7ms/step - custom_accuracy_without_padding: 0.4850 - custom_mse: 0.0500 - loss: 0.0500\n",
            "Epoch 63: val_loss did not improve from 0.05303\n",
            "\u001b[1m25/25\u001b[0m \u001b[32m━━━━━━━━━━━━━━━━━━━━\u001b[0m\u001b[37m\u001b[0m \u001b[1m1s\u001b[0m 18ms/step - custom_accuracy_without_padding: 0.4847 - custom_mse: 0.0501 - loss: 0.0501 - val_custom_accuracy_without_padding: 0.4654 - val_custom_mse: 0.0537 - val_loss: 0.0534 - learning_rate: 0.0010\n",
            "Epoch 64/500\n",
            "\u001b[1m24/25\u001b[0m \u001b[32m━━━━━━━━━━━━━━━━━━━\u001b[0m\u001b[37m━\u001b[0m \u001b[1m0s\u001b[0m 7ms/step - custom_accuracy_without_padding: 0.4741 - custom_mse: 0.0510 - loss: 0.0510\n",
            "Epoch 64: val_loss improved from 0.05303 to 0.05244, saving model to /content/drive/MyDrive/10 Masters/Research/error-correcting-codes/ThisIsTheCleanest/weights/ANN_model_27.keras\n",
            "\u001b[1m25/25\u001b[0m \u001b[32m━━━━━━━━━━━━━━━━━━━━\u001b[0m\u001b[37m\u001b[0m \u001b[1m1s\u001b[0m 37ms/step - custom_accuracy_without_padding: 0.4738 - custom_mse: 0.0509 - loss: 0.0509 - val_custom_accuracy_without_padding: 0.4727 - val_custom_mse: 0.0527 - val_loss: 0.0524 - learning_rate: 0.0010\n",
            "Epoch 65/500\n",
            "\u001b[1m17/25\u001b[0m \u001b[32m━━━━━━━━━━━━━\u001b[0m\u001b[37m━━━━━━━\u001b[0m \u001b[1m0s\u001b[0m 6ms/step - custom_accuracy_without_padding: 0.4866 - custom_mse: 0.0500 - loss: 0.0500\n",
            "Epoch 65: val_loss did not improve from 0.05244\n",
            "\u001b[1m25/25\u001b[0m \u001b[32m━━━━━━━━━━━━━━━━━━━━\u001b[0m\u001b[37m\u001b[0m \u001b[1m1s\u001b[0m 26ms/step - custom_accuracy_without_padding: 0.4845 - custom_mse: 0.0502 - loss: 0.0502 - val_custom_accuracy_without_padding: 0.4744 - val_custom_mse: 0.0529 - val_loss: 0.0526 - learning_rate: 0.0010\n",
            "Epoch 66/500\n",
            "\u001b[1m25/25\u001b[0m \u001b[32m━━━━━━━━━━━━━━━━━━━━\u001b[0m\u001b[37m\u001b[0m \u001b[1m0s\u001b[0m 11ms/step - custom_accuracy_without_padding: 0.4933 - custom_mse: 0.0495 - loss: 0.0495\n",
            "Epoch 66: val_loss did not improve from 0.05244\n",
            "\u001b[1m25/25\u001b[0m \u001b[32m━━━━━━━━━━━━━━━━━━━━\u001b[0m\u001b[37m\u001b[0m \u001b[1m1s\u001b[0m 24ms/step - custom_accuracy_without_padding: 0.4930 - custom_mse: 0.0495 - loss: 0.0495 - val_custom_accuracy_without_padding: 0.4559 - val_custom_mse: 0.0528 - val_loss: 0.0526 - learning_rate: 0.0010\n",
            "Epoch 67/500\n",
            "\u001b[1m22/25\u001b[0m \u001b[32m━━━━━━━━━━━━━━━━━\u001b[0m\u001b[37m━━━\u001b[0m \u001b[1m0s\u001b[0m 10ms/step - custom_accuracy_without_padding: 0.4805 - custom_mse: 0.0510 - loss: 0.0510\n",
            "Epoch 67: val_loss improved from 0.05244 to 0.05222, saving model to /content/drive/MyDrive/10 Masters/Research/error-correcting-codes/ThisIsTheCleanest/weights/ANN_model_27.keras\n",
            "\u001b[1m25/25\u001b[0m \u001b[32m━━━━━━━━━━━━━━━━━━━━\u001b[0m\u001b[37m\u001b[0m \u001b[1m1s\u001b[0m 29ms/step - custom_accuracy_without_padding: 0.4811 - custom_mse: 0.0509 - loss: 0.0509 - val_custom_accuracy_without_padding: 0.4749 - val_custom_mse: 0.0523 - val_loss: 0.0522 - learning_rate: 0.0010\n",
            "Epoch 68/500\n",
            "\u001b[1m14/25\u001b[0m \u001b[32m━━━━━━━━━━━\u001b[0m\u001b[37m━━━━━━━━━\u001b[0m \u001b[1m0s\u001b[0m 4ms/step - custom_accuracy_without_padding: 0.4838 - custom_mse: 0.0488 - loss: 0.0488   \n",
            "Epoch 68: val_loss improved from 0.05222 to 0.05193, saving model to /content/drive/MyDrive/10 Masters/Research/error-correcting-codes/ThisIsTheCleanest/weights/ANN_model_27.keras\n",
            "\u001b[1m25/25\u001b[0m \u001b[32m━━━━━━━━━━━━━━━━━━━━\u001b[0m\u001b[37m\u001b[0m \u001b[1m1s\u001b[0m 11ms/step - custom_accuracy_without_padding: 0.4827 - custom_mse: 0.0494 - loss: 0.0494 - val_custom_accuracy_without_padding: 0.4807 - val_custom_mse: 0.0522 - val_loss: 0.0519 - learning_rate: 0.0010\n",
            "Epoch 69/500\n",
            "\u001b[1m20/25\u001b[0m \u001b[32m━━━━━━━━━━━━━━━━\u001b[0m\u001b[37m━━━━\u001b[0m \u001b[1m0s\u001b[0m 6ms/step - custom_accuracy_without_padding: 0.4895 - custom_mse: 0.0502 - loss: 0.0502\n",
            "Epoch 69: val_loss did not improve from 0.05193\n",
            "\u001b[1m25/25\u001b[0m \u001b[32m━━━━━━━━━━━━━━━━━━━━\u001b[0m\u001b[37m\u001b[0m \u001b[1m0s\u001b[0m 12ms/step - custom_accuracy_without_padding: 0.4893 - custom_mse: 0.0501 - loss: 0.0501 - val_custom_accuracy_without_padding: 0.4800 - val_custom_mse: 0.0524 - val_loss: 0.0522 - learning_rate: 0.0010\n",
            "Epoch 70/500\n",
            "\u001b[1m17/25\u001b[0m \u001b[32m━━━━━━━━━━━━━\u001b[0m\u001b[37m━━━━━━━\u001b[0m \u001b[1m0s\u001b[0m 3ms/step - custom_accuracy_without_padding: 0.4818 - custom_mse: 0.0493 - loss: 0.0493  \n",
            "Epoch 70: val_loss improved from 0.05193 to 0.05149, saving model to /content/drive/MyDrive/10 Masters/Research/error-correcting-codes/ThisIsTheCleanest/weights/ANN_model_27.keras\n",
            "\u001b[1m25/25\u001b[0m \u001b[32m━━━━━━━━━━━━━━━━━━━━\u001b[0m\u001b[37m\u001b[0m \u001b[1m1s\u001b[0m 19ms/step - custom_accuracy_without_padding: 0.4831 - custom_mse: 0.0495 - loss: 0.0495 - val_custom_accuracy_without_padding: 0.4785 - val_custom_mse: 0.0517 - val_loss: 0.0515 - learning_rate: 0.0010\n",
            "Epoch 71/500\n",
            "\u001b[1m24/25\u001b[0m \u001b[32m━━━━━━━━━━━━━━━━━━━\u001b[0m\u001b[37m━\u001b[0m \u001b[1m0s\u001b[0m 5ms/step - custom_accuracy_without_padding: 0.4941 - custom_mse: 0.0497 - loss: 0.0497\n",
            "Epoch 71: val_loss did not improve from 0.05149\n",
            "\u001b[1m25/25\u001b[0m \u001b[32m━━━━━━━━━━━━━━━━━━━━\u001b[0m\u001b[37m\u001b[0m \u001b[1m0s\u001b[0m 13ms/step - custom_accuracy_without_padding: 0.4940 - custom_mse: 0.0497 - loss: 0.0497 - val_custom_accuracy_without_padding: 0.4749 - val_custom_mse: 0.0518 - val_loss: 0.0517 - learning_rate: 0.0010\n",
            "Epoch 72/500\n",
            "\u001b[1m25/25\u001b[0m \u001b[32m━━━━━━━━━━━━━━━━━━━━\u001b[0m\u001b[37m\u001b[0m \u001b[1m0s\u001b[0m 2ms/step - custom_accuracy_without_padding: 0.4925 - custom_mse: 0.0487 - loss: 0.0487  \n",
            "Epoch 72: val_loss did not improve from 0.05149\n",
            "\u001b[1m25/25\u001b[0m \u001b[32m━━━━━━━━━━━━━━━━━━━━\u001b[0m\u001b[37m\u001b[0m \u001b[1m0s\u001b[0m 6ms/step - custom_accuracy_without_padding: 0.4924 - custom_mse: 0.0488 - loss: 0.0488 - val_custom_accuracy_without_padding: 0.4858 - val_custom_mse: 0.0519 - val_loss: 0.0516 - learning_rate: 0.0010\n",
            "Epoch 73/500\n",
            "\u001b[1m25/25\u001b[0m \u001b[32m━━━━━━━━━━━━━━━━━━━━\u001b[0m\u001b[37m\u001b[0m \u001b[1m0s\u001b[0m 2ms/step - custom_accuracy_without_padding: 0.4870 - custom_mse: 0.0486 - loss: 0.0486  \n",
            "Epoch 73: val_loss improved from 0.05149 to 0.05140, saving model to /content/drive/MyDrive/10 Masters/Research/error-correcting-codes/ThisIsTheCleanest/weights/ANN_model_27.keras\n",
            "\u001b[1m25/25\u001b[0m \u001b[32m━━━━━━━━━━━━━━━━━━━━\u001b[0m\u001b[37m\u001b[0m \u001b[1m0s\u001b[0m 7ms/step - custom_accuracy_without_padding: 0.4869 - custom_mse: 0.0487 - loss: 0.0487 - val_custom_accuracy_without_padding: 0.4737 - val_custom_mse: 0.0515 - val_loss: 0.0514 - learning_rate: 0.0010\n",
            "Epoch 74/500\n",
            "\u001b[1m24/25\u001b[0m \u001b[32m━━━━━━━━━━━━━━━━━━━\u001b[0m\u001b[37m━\u001b[0m \u001b[1m0s\u001b[0m 2ms/step - custom_accuracy_without_padding: 0.4837 - custom_mse: 0.0490 - loss: 0.0490 \n",
            "Epoch 74: val_loss improved from 0.05140 to 0.05107, saving model to /content/drive/MyDrive/10 Masters/Research/error-correcting-codes/ThisIsTheCleanest/weights/ANN_model_27.keras\n",
            "\u001b[1m25/25\u001b[0m \u001b[32m━━━━━━━━━━━━━━━━━━━━\u001b[0m\u001b[37m\u001b[0m \u001b[1m0s\u001b[0m 7ms/step - custom_accuracy_without_padding: 0.4838 - custom_mse: 0.0491 - loss: 0.0491 - val_custom_accuracy_without_padding: 0.4934 - val_custom_mse: 0.0512 - val_loss: 0.0511 - learning_rate: 0.0010\n",
            "Epoch 75/500\n",
            "\u001b[1m23/25\u001b[0m \u001b[32m━━━━━━━━━━━━━━━━━━\u001b[0m\u001b[37m━━\u001b[0m \u001b[1m0s\u001b[0m 2ms/step - custom_accuracy_without_padding: 0.5017 - custom_mse: 0.0483 - loss: 0.0483 \n",
            "Epoch 75: val_loss improved from 0.05107 to 0.05065, saving model to /content/drive/MyDrive/10 Masters/Research/error-correcting-codes/ThisIsTheCleanest/weights/ANN_model_27.keras\n",
            "\u001b[1m25/25\u001b[0m \u001b[32m━━━━━━━━━━━━━━━━━━━━\u001b[0m\u001b[37m\u001b[0m \u001b[1m0s\u001b[0m 7ms/step - custom_accuracy_without_padding: 0.5014 - custom_mse: 0.0484 - loss: 0.0484 - val_custom_accuracy_without_padding: 0.4858 - val_custom_mse: 0.0509 - val_loss: 0.0507 - learning_rate: 0.0010\n",
            "Epoch 76/500\n",
            "\u001b[1m 1/25\u001b[0m \u001b[37m━━━━━━━━━━━━━━━━━━━━\u001b[0m \u001b[1m0s\u001b[0m 27ms/step - custom_accuracy_without_padding: 0.4907 - custom_mse: 0.0455 - loss: 0.0455\n",
            "Epoch 76: val_loss did not improve from 0.05065\n",
            "\u001b[1m25/25\u001b[0m \u001b[32m━━━━━━━━━━━━━━━━━━━━\u001b[0m\u001b[37m\u001b[0m \u001b[1m0s\u001b[0m 5ms/step - custom_accuracy_without_padding: 0.4947 - custom_mse: 0.0486 - loss: 0.0486 - val_custom_accuracy_without_padding: 0.4974 - val_custom_mse: 0.0508 - val_loss: 0.0507 - learning_rate: 0.0010\n",
            "Epoch 77/500\n",
            "\u001b[1m22/25\u001b[0m \u001b[32m━━━━━━━━━━━━━━━━━\u001b[0m\u001b[37m━━━\u001b[0m \u001b[1m0s\u001b[0m 2ms/step - custom_accuracy_without_padding: 0.5051 - custom_mse: 0.0480 - loss: 0.0480  \n",
            "Epoch 77: val_loss improved from 0.05065 to 0.05031, saving model to /content/drive/MyDrive/10 Masters/Research/error-correcting-codes/ThisIsTheCleanest/weights/ANN_model_27.keras\n",
            "\u001b[1m25/25\u001b[0m \u001b[32m━━━━━━━━━━━━━━━━━━━━\u001b[0m\u001b[37m\u001b[0m \u001b[1m0s\u001b[0m 7ms/step - custom_accuracy_without_padding: 0.5044 - custom_mse: 0.0481 - loss: 0.0481 - val_custom_accuracy_without_padding: 0.4916 - val_custom_mse: 0.0505 - val_loss: 0.0503 - learning_rate: 0.0010\n",
            "Epoch 78/500\n",
            "\u001b[1m 1/25\u001b[0m \u001b[37m━━━━━━━━━━━━━━━━━━━━\u001b[0m \u001b[1m0s\u001b[0m 27ms/step - custom_accuracy_without_padding: 0.5000 - custom_mse: 0.0472 - loss: 0.0472\n",
            "Epoch 78: val_loss improved from 0.05031 to 0.05011, saving model to /content/drive/MyDrive/10 Masters/Research/error-correcting-codes/ThisIsTheCleanest/weights/ANN_model_27.keras\n",
            "\u001b[1m25/25\u001b[0m \u001b[32m━━━━━━━━━━━━━━━━━━━━\u001b[0m\u001b[37m\u001b[0m \u001b[1m0s\u001b[0m 6ms/step - custom_accuracy_without_padding: 0.4975 - custom_mse: 0.0478 - loss: 0.0478 - val_custom_accuracy_without_padding: 0.4854 - val_custom_mse: 0.0503 - val_loss: 0.0501 - learning_rate: 0.0010\n",
            "Epoch 79/500\n",
            "\u001b[1m 1/25\u001b[0m \u001b[37m━━━━━━━━━━━━━━━━━━━━\u001b[0m \u001b[1m3s\u001b[0m 143ms/step - custom_accuracy_without_padding: 0.4931 - custom_mse: 0.0419 - loss: 0.0419\n",
            "Epoch 79: val_loss improved from 0.05011 to 0.05001, saving model to /content/drive/MyDrive/10 Masters/Research/error-correcting-codes/ThisIsTheCleanest/weights/ANN_model_27.keras\n",
            "\u001b[1m25/25\u001b[0m \u001b[32m━━━━━━━━━━━━━━━━━━━━\u001b[0m\u001b[37m\u001b[0m \u001b[1m0s\u001b[0m 7ms/step - custom_accuracy_without_padding: 0.5022 - custom_mse: 0.0473 - loss: 0.0473 - val_custom_accuracy_without_padding: 0.4949 - val_custom_mse: 0.0502 - val_loss: 0.0500 - learning_rate: 0.0010\n",
            "Epoch 80/500\n",
            "\u001b[1m 1/25\u001b[0m \u001b[37m━━━━━━━━━━━━━━━━━━━━\u001b[0m \u001b[1m3s\u001b[0m 138ms/step - custom_accuracy_without_padding: 0.5127 - custom_mse: 0.0453 - loss: 0.0453\n",
            "Epoch 80: val_loss improved from 0.05001 to 0.04968, saving model to /content/drive/MyDrive/10 Masters/Research/error-correcting-codes/ThisIsTheCleanest/weights/ANN_model_27.keras\n",
            "\u001b[1m25/25\u001b[0m \u001b[32m━━━━━━━━━━━━━━━━━━━━\u001b[0m\u001b[37m\u001b[0m \u001b[1m0s\u001b[0m 7ms/step - custom_accuracy_without_padding: 0.5081 - custom_mse: 0.0478 - loss: 0.0478 - val_custom_accuracy_without_padding: 0.4909 - val_custom_mse: 0.0499 - val_loss: 0.0497 - learning_rate: 0.0010\n",
            "Epoch 81/500\n",
            "\u001b[1m 1/25\u001b[0m \u001b[37m━━━━━━━━━━━━━━━━━━━━\u001b[0m \u001b[1m0s\u001b[0m 39ms/step - custom_accuracy_without_padding: 0.5266 - custom_mse: 0.0479 - loss: 0.0479\n",
            "Epoch 81: val_loss did not improve from 0.04968\n",
            "\u001b[1m25/25\u001b[0m \u001b[32m━━━━━━━━━━━━━━━━━━━━\u001b[0m\u001b[37m\u001b[0m \u001b[1m0s\u001b[0m 5ms/step - custom_accuracy_without_padding: 0.5060 - custom_mse: 0.0476 - loss: 0.0476 - val_custom_accuracy_without_padding: 0.4931 - val_custom_mse: 0.0506 - val_loss: 0.0504 - learning_rate: 0.0010\n",
            "Epoch 82/500\n",
            "\u001b[1m 1/25\u001b[0m \u001b[37m━━━━━━━━━━━━━━━━━━━━\u001b[0m \u001b[1m0s\u001b[0m 28ms/step - custom_accuracy_without_padding: 0.5231 - custom_mse: 0.0460 - loss: 0.0460\n",
            "Epoch 82: val_loss improved from 0.04968 to 0.04955, saving model to /content/drive/MyDrive/10 Masters/Research/error-correcting-codes/ThisIsTheCleanest/weights/ANN_model_27.keras\n",
            "\u001b[1m25/25\u001b[0m \u001b[32m━━━━━━━━━━━━━━━━━━━━\u001b[0m\u001b[37m\u001b[0m \u001b[1m0s\u001b[0m 7ms/step - custom_accuracy_without_padding: 0.5088 - custom_mse: 0.0472 - loss: 0.0472 - val_custom_accuracy_without_padding: 0.5061 - val_custom_mse: 0.0496 - val_loss: 0.0495 - learning_rate: 0.0010\n",
            "Epoch 83/500\n",
            "\u001b[1m 1/25\u001b[0m \u001b[37m━━━━━━━━━━━━━━━━━━━━\u001b[0m \u001b[1m0s\u001b[0m 32ms/step - custom_accuracy_without_padding: 0.5116 - custom_mse: 0.0471 - loss: 0.0471\n",
            "Epoch 83: val_loss improved from 0.04955 to 0.04935, saving model to /content/drive/MyDrive/10 Masters/Research/error-correcting-codes/ThisIsTheCleanest/weights/ANN_model_27.keras\n",
            "\u001b[1m25/25\u001b[0m \u001b[32m━━━━━━━━━━━━━━━━━━━━\u001b[0m\u001b[37m\u001b[0m \u001b[1m0s\u001b[0m 7ms/step - custom_accuracy_without_padding: 0.5120 - custom_mse: 0.0475 - loss: 0.0475 - val_custom_accuracy_without_padding: 0.4990 - val_custom_mse: 0.0495 - val_loss: 0.0493 - learning_rate: 0.0010\n",
            "Epoch 84/500\n",
            "\u001b[1m25/25\u001b[0m \u001b[32m━━━━━━━━━━━━━━━━━━━━\u001b[0m\u001b[37m\u001b[0m \u001b[1m0s\u001b[0m 2ms/step - custom_accuracy_without_padding: 0.5145 - custom_mse: 0.0467 - loss: 0.0467 \n",
            "Epoch 84: val_loss improved from 0.04935 to 0.04915, saving model to /content/drive/MyDrive/10 Masters/Research/error-correcting-codes/ThisIsTheCleanest/weights/ANN_model_27.keras\n",
            "\u001b[1m25/25\u001b[0m \u001b[32m━━━━━━━━━━━━━━━━━━━━\u001b[0m\u001b[37m\u001b[0m \u001b[1m0s\u001b[0m 7ms/step - custom_accuracy_without_padding: 0.5145 - custom_mse: 0.0467 - loss: 0.0467 - val_custom_accuracy_without_padding: 0.5058 - val_custom_mse: 0.0494 - val_loss: 0.0492 - learning_rate: 0.0010\n",
            "Epoch 85/500\n",
            "\u001b[1m 1/25\u001b[0m \u001b[37m━━━━━━━━━━━━━━━━━━━━\u001b[0m \u001b[1m0s\u001b[0m 25ms/step - custom_accuracy_without_padding: 0.5174 - custom_mse: 0.0479 - loss: 0.0479\n",
            "Epoch 85: val_loss did not improve from 0.04915\n",
            "\u001b[1m25/25\u001b[0m \u001b[32m━━━━━━━━━━━━━━━━━━━━\u001b[0m\u001b[37m\u001b[0m \u001b[1m0s\u001b[0m 5ms/step - custom_accuracy_without_padding: 0.5128 - custom_mse: 0.0469 - loss: 0.0469 - val_custom_accuracy_without_padding: 0.5078 - val_custom_mse: 0.0493 - val_loss: 0.0492 - learning_rate: 0.0010\n",
            "Epoch 86/500\n",
            "\u001b[1m22/25\u001b[0m \u001b[32m━━━━━━━━━━━━━━━━━\u001b[0m\u001b[37m━━━\u001b[0m \u001b[1m0s\u001b[0m 2ms/step - custom_accuracy_without_padding: 0.5102 - custom_mse: 0.0479 - loss: 0.0479  \n",
            "Epoch 86: val_loss did not improve from 0.04915\n",
            "\u001b[1m25/25\u001b[0m \u001b[32m━━━━━━━━━━━━━━━━━━━━\u001b[0m\u001b[37m\u001b[0m \u001b[1m0s\u001b[0m 6ms/step - custom_accuracy_without_padding: 0.5104 - custom_mse: 0.0478 - loss: 0.0478 - val_custom_accuracy_without_padding: 0.4962 - val_custom_mse: 0.0498 - val_loss: 0.0497 - learning_rate: 0.0010\n",
            "Epoch 87/500\n",
            "\u001b[1m25/25\u001b[0m \u001b[32m━━━━━━━━━━━━━━━━━━━━\u001b[0m\u001b[37m\u001b[0m \u001b[1m0s\u001b[0m 2ms/step - custom_accuracy_without_padding: 0.5139 - custom_mse: 0.0467 - loss: 0.0467  \n",
            "Epoch 87: val_loss improved from 0.04915 to 0.04895, saving model to /content/drive/MyDrive/10 Masters/Research/error-correcting-codes/ThisIsTheCleanest/weights/ANN_model_27.keras\n",
            "\u001b[1m25/25\u001b[0m \u001b[32m━━━━━━━━━━━━━━━━━━━━\u001b[0m\u001b[37m\u001b[0m \u001b[1m0s\u001b[0m 7ms/step - custom_accuracy_without_padding: 0.5140 - custom_mse: 0.0467 - loss: 0.0467 - val_custom_accuracy_without_padding: 0.5126 - val_custom_mse: 0.0490 - val_loss: 0.0490 - learning_rate: 0.0010\n",
            "Epoch 88/500\n",
            "\u001b[1m25/25\u001b[0m \u001b[32m━━━━━━━━━━━━━━━━━━━━\u001b[0m\u001b[37m\u001b[0m \u001b[1m0s\u001b[0m 2ms/step - custom_accuracy_without_padding: 0.5210 - custom_mse: 0.0473 - loss: 0.0473  \n",
            "Epoch 88: val_loss improved from 0.04895 to 0.04884, saving model to /content/drive/MyDrive/10 Masters/Research/error-correcting-codes/ThisIsTheCleanest/weights/ANN_model_27.keras\n",
            "\u001b[1m25/25\u001b[0m \u001b[32m━━━━━━━━━━━━━━━━━━━━\u001b[0m\u001b[37m\u001b[0m \u001b[1m0s\u001b[0m 7ms/step - custom_accuracy_without_padding: 0.5210 - custom_mse: 0.0473 - loss: 0.0473 - val_custom_accuracy_without_padding: 0.5094 - val_custom_mse: 0.0490 - val_loss: 0.0488 - learning_rate: 0.0010\n",
            "Epoch 89/500\n",
            "\u001b[1m 1/25\u001b[0m \u001b[37m━━━━━━━━━━━━━━━━━━━━\u001b[0m \u001b[1m0s\u001b[0m 29ms/step - custom_accuracy_without_padding: 0.5093 - custom_mse: 0.0442 - loss: 0.0442\n",
            "Epoch 89: val_loss did not improve from 0.04884\n",
            "\u001b[1m25/25\u001b[0m \u001b[32m━━━━━━━━━━━━━━━━━━━━\u001b[0m\u001b[37m\u001b[0m \u001b[1m0s\u001b[0m 5ms/step - custom_accuracy_without_padding: 0.5225 - custom_mse: 0.0462 - loss: 0.0462 - val_custom_accuracy_without_padding: 0.5126 - val_custom_mse: 0.0492 - val_loss: 0.0490 - learning_rate: 0.0010\n",
            "Epoch 90/500\n",
            "\u001b[1m25/25\u001b[0m \u001b[32m━━━━━━━━━━━━━━━━━━━━\u001b[0m\u001b[37m\u001b[0m \u001b[1m0s\u001b[0m 2ms/step - custom_accuracy_without_padding: 0.5164 - custom_mse: 0.0466 - loss: 0.0466  \n",
            "Epoch 90: val_loss did not improve from 0.04884\n",
            "\u001b[1m25/25\u001b[0m \u001b[32m━━━━━━━━━━━━━━━━━━━━\u001b[0m\u001b[37m\u001b[0m \u001b[1m0s\u001b[0m 6ms/step - custom_accuracy_without_padding: 0.5165 - custom_mse: 0.0466 - loss: 0.0466 - val_custom_accuracy_without_padding: 0.5187 - val_custom_mse: 0.0490 - val_loss: 0.0489 - learning_rate: 0.0010\n",
            "Epoch 91/500\n",
            "\u001b[1m 1/25\u001b[0m \u001b[37m━━━━━━━━━━━━━━━━━━━━\u001b[0m \u001b[1m0s\u001b[0m 28ms/step - custom_accuracy_without_padding: 0.5347 - custom_mse: 0.0460 - loss: 0.0460\n",
            "Epoch 91: val_loss improved from 0.04884 to 0.04850, saving model to /content/drive/MyDrive/10 Masters/Research/error-correcting-codes/ThisIsTheCleanest/weights/ANN_model_27.keras\n",
            "\u001b[1m25/25\u001b[0m \u001b[32m━━━━━━━━━━━━━━━━━━━━\u001b[0m\u001b[37m\u001b[0m \u001b[1m0s\u001b[0m 7ms/step - custom_accuracy_without_padding: 0.5256 - custom_mse: 0.0464 - loss: 0.0464 - val_custom_accuracy_without_padding: 0.5210 - val_custom_mse: 0.0487 - val_loss: 0.0485 - learning_rate: 0.0010\n",
            "Epoch 92/500\n",
            "\u001b[1m 1/25\u001b[0m \u001b[37m━━━━━━━━━━━━━━━━━━━━\u001b[0m \u001b[1m3s\u001b[0m 137ms/step - custom_accuracy_without_padding: 0.5255 - custom_mse: 0.0459 - loss: 0.0459\n",
            "Epoch 92: val_loss did not improve from 0.04850\n",
            "\u001b[1m25/25\u001b[0m \u001b[32m━━━━━━━━━━━━━━━━━━━━\u001b[0m\u001b[37m\u001b[0m \u001b[1m0s\u001b[0m 5ms/step - custom_accuracy_without_padding: 0.5224 - custom_mse: 0.0464 - loss: 0.0464 - val_custom_accuracy_without_padding: 0.5179 - val_custom_mse: 0.0488 - val_loss: 0.0487 - learning_rate: 0.0010\n",
            "Epoch 93/500\n",
            "\u001b[1m 1/25\u001b[0m \u001b[37m━━━━━━━━━━━━━━━━━━━━\u001b[0m \u001b[1m0s\u001b[0m 30ms/step - custom_accuracy_without_padding: 0.5174 - custom_mse: 0.0476 - loss: 0.0476\n",
            "Epoch 93: val_loss did not improve from 0.04850\n",
            "\u001b[1m25/25\u001b[0m \u001b[32m━━━━━━━━━━━━━━━━━━━━\u001b[0m\u001b[37m\u001b[0m \u001b[1m0s\u001b[0m 5ms/step - custom_accuracy_without_padding: 0.5256 - custom_mse: 0.0466 - loss: 0.0466 - val_custom_accuracy_without_padding: 0.5228 - val_custom_mse: 0.0489 - val_loss: 0.0489 - learning_rate: 0.0010\n",
            "Epoch 94/500\n",
            "\u001b[1m25/25\u001b[0m \u001b[32m━━━━━━━━━━━━━━━━━━━━\u001b[0m\u001b[37m\u001b[0m \u001b[1m0s\u001b[0m 2ms/step - custom_accuracy_without_padding: 0.5209 - custom_mse: 0.0465 - loss: 0.0465  \n",
            "Epoch 94: val_loss improved from 0.04850 to 0.04821, saving model to /content/drive/MyDrive/10 Masters/Research/error-correcting-codes/ThisIsTheCleanest/weights/ANN_model_27.keras\n",
            "\u001b[1m25/25\u001b[0m \u001b[32m━━━━━━━━━━━━━━━━━━━━\u001b[0m\u001b[37m\u001b[0m \u001b[1m0s\u001b[0m 7ms/step - custom_accuracy_without_padding: 0.5209 - custom_mse: 0.0465 - loss: 0.0465 - val_custom_accuracy_without_padding: 0.5177 - val_custom_mse: 0.0483 - val_loss: 0.0482 - learning_rate: 0.0010\n",
            "Epoch 95/500\n",
            "\u001b[1m25/25\u001b[0m \u001b[32m━━━━━━━━━━━━━━━━━━━━\u001b[0m\u001b[37m\u001b[0m \u001b[1m0s\u001b[0m 2ms/step - custom_accuracy_without_padding: 0.5223 - custom_mse: 0.0471 - loss: 0.0471  \n",
            "Epoch 95: val_loss did not improve from 0.04821\n",
            "\u001b[1m25/25\u001b[0m \u001b[32m━━━━━━━━━━━━━━━━━━━━\u001b[0m\u001b[37m\u001b[0m \u001b[1m0s\u001b[0m 6ms/step - custom_accuracy_without_padding: 0.5225 - custom_mse: 0.0471 - loss: 0.0471 - val_custom_accuracy_without_padding: 0.5230 - val_custom_mse: 0.0485 - val_loss: 0.0483 - learning_rate: 0.0010\n",
            "Epoch 96/500\n",
            "\u001b[1m 1/25\u001b[0m \u001b[37m━━━━━━━━━━━━━━━━━━━━\u001b[0m \u001b[1m0s\u001b[0m 27ms/step - custom_accuracy_without_padding: 0.5278 - custom_mse: 0.0491 - loss: 0.0491\n",
            "Epoch 96: val_loss did not improve from 0.04821\n",
            "\u001b[1m25/25\u001b[0m \u001b[32m━━━━━━━━━━━━━━━━━━━━\u001b[0m\u001b[37m\u001b[0m \u001b[1m0s\u001b[0m 5ms/step - custom_accuracy_without_padding: 0.5266 - custom_mse: 0.0473 - loss: 0.0473 - val_custom_accuracy_without_padding: 0.5202 - val_custom_mse: 0.0485 - val_loss: 0.0484 - learning_rate: 0.0010\n",
            "Epoch 97/500\n",
            "\u001b[1m 1/25\u001b[0m \u001b[37m━━━━━━━━━━━━━━━━━━━━\u001b[0m \u001b[1m0s\u001b[0m 33ms/step - custom_accuracy_without_padding: 0.5116 - custom_mse: 0.0472 - loss: 0.0472\n",
            "Epoch 97: val_loss did not improve from 0.04821\n",
            "\u001b[1m25/25\u001b[0m \u001b[32m━━━━━━━━━━━━━━━━━━━━\u001b[0m\u001b[37m\u001b[0m \u001b[1m0s\u001b[0m 5ms/step - custom_accuracy_without_padding: 0.5253 - custom_mse: 0.0464 - loss: 0.0464 - val_custom_accuracy_without_padding: 0.5172 - val_custom_mse: 0.0487 - val_loss: 0.0486 - learning_rate: 0.0010\n",
            "Epoch 98/500\n",
            "\u001b[1m16/25\u001b[0m \u001b[32m━━━━━━━━━━━━\u001b[0m\u001b[37m━━━━━━━━\u001b[0m \u001b[1m0s\u001b[0m 3ms/step - custom_accuracy_without_padding: 0.5276 - custom_mse: 0.0462 - loss: 0.0462  \n",
            "Epoch 98: val_loss improved from 0.04821 to 0.04800, saving model to /content/drive/MyDrive/10 Masters/Research/error-correcting-codes/ThisIsTheCleanest/weights/ANN_model_27.keras\n",
            "\u001b[1m25/25\u001b[0m \u001b[32m━━━━━━━━━━━━━━━━━━━━\u001b[0m\u001b[37m\u001b[0m \u001b[1m0s\u001b[0m 8ms/step - custom_accuracy_without_padding: 0.5287 - custom_mse: 0.0463 - loss: 0.0463 - val_custom_accuracy_without_padding: 0.5261 - val_custom_mse: 0.0482 - val_loss: 0.0480 - learning_rate: 0.0010\n",
            "Epoch 99/500\n",
            "\u001b[1m 1/25\u001b[0m \u001b[37m━━━━━━━━━━━━━━━━━━━━\u001b[0m \u001b[1m2s\u001b[0m 116ms/step - custom_accuracy_without_padding: 0.5255 - custom_mse: 0.0499 - loss: 0.0499\n",
            "Epoch 99: val_loss did not improve from 0.04800\n",
            "\u001b[1m25/25\u001b[0m \u001b[32m━━━━━━━━━━━━━━━━━━━━\u001b[0m\u001b[37m\u001b[0m \u001b[1m0s\u001b[0m 5ms/step - custom_accuracy_without_padding: 0.5283 - custom_mse: 0.0471 - loss: 0.0471 - val_custom_accuracy_without_padding: 0.5124 - val_custom_mse: 0.0487 - val_loss: 0.0485 - learning_rate: 0.0010\n",
            "Epoch 100/500\n",
            "\u001b[1m15/25\u001b[0m \u001b[32m━━━━━━━━━━━━\u001b[0m\u001b[37m━━━━━━━━\u001b[0m \u001b[1m0s\u001b[0m 4ms/step - custom_accuracy_without_padding: 0.5213 - custom_mse: 0.0463 - loss: 0.0463  \n",
            "Epoch 100: val_loss did not improve from 0.04800\n",
            "\u001b[1m25/25\u001b[0m \u001b[32m━━━━━━━━━━━━━━━━━━━━\u001b[0m\u001b[37m\u001b[0m \u001b[1m0s\u001b[0m 9ms/step - custom_accuracy_without_padding: 0.5228 - custom_mse: 0.0462 - loss: 0.0462 - val_custom_accuracy_without_padding: 0.5296 - val_custom_mse: 0.0482 - val_loss: 0.0480 - learning_rate: 0.0010\n",
            "Epoch 101/500\n",
            "\u001b[1m14/25\u001b[0m \u001b[32m━━━━━━━━━━━\u001b[0m\u001b[37m━━━━━━━━━\u001b[0m \u001b[1m0s\u001b[0m 4ms/step - custom_accuracy_without_padding: 0.5363 - custom_mse: 0.0451 - loss: 0.0451 \n",
            "Epoch 101: val_loss improved from 0.04800 to 0.04782, saving model to /content/drive/MyDrive/10 Masters/Research/error-correcting-codes/ThisIsTheCleanest/weights/ANN_model_27.keras\n",
            "\u001b[1m25/25\u001b[0m \u001b[32m━━━━━━━━━━━━━━━━━━━━\u001b[0m\u001b[37m\u001b[0m \u001b[1m0s\u001b[0m 11ms/step - custom_accuracy_without_padding: 0.5346 - custom_mse: 0.0453 - loss: 0.0453 - val_custom_accuracy_without_padding: 0.5284 - val_custom_mse: 0.0479 - val_loss: 0.0478 - learning_rate: 0.0010\n",
            "Epoch 102/500\n",
            "\u001b[1m18/25\u001b[0m \u001b[32m━━━━━━━━━━━━━━\u001b[0m\u001b[37m━━━━━━\u001b[0m \u001b[1m0s\u001b[0m 3ms/step - custom_accuracy_without_padding: 0.5331 - custom_mse: 0.0463 - loss: 0.0463  \n",
            "Epoch 102: val_loss did not improve from 0.04782\n",
            "\u001b[1m25/25\u001b[0m \u001b[32m━━━━━━━━━━━━━━━━━━━━\u001b[0m\u001b[37m\u001b[0m \u001b[1m1s\u001b[0m 7ms/step - custom_accuracy_without_padding: 0.5330 - custom_mse: 0.0461 - loss: 0.0461 - val_custom_accuracy_without_padding: 0.5293 - val_custom_mse: 0.0479 - val_loss: 0.0478 - learning_rate: 0.0010\n",
            "Epoch 103/500\n",
            "\u001b[1m14/25\u001b[0m \u001b[32m━━━━━━━━━━━\u001b[0m\u001b[37m━━━━━━━━━\u001b[0m \u001b[1m0s\u001b[0m 4ms/step - custom_accuracy_without_padding: 0.5407 - custom_mse: 0.0452 - loss: 0.0452  \n",
            "Epoch 103: val_loss improved from 0.04782 to 0.04766, saving model to /content/drive/MyDrive/10 Masters/Research/error-correcting-codes/ThisIsTheCleanest/weights/ANN_model_27.keras\n",
            "\u001b[1m25/25\u001b[0m \u001b[32m━━━━━━━━━━━━━━━━━━━━\u001b[0m\u001b[37m\u001b[0m \u001b[1m0s\u001b[0m 11ms/step - custom_accuracy_without_padding: 0.5377 - custom_mse: 0.0454 - loss: 0.0454 - val_custom_accuracy_without_padding: 0.5298 - val_custom_mse: 0.0478 - val_loss: 0.0477 - learning_rate: 0.0010\n",
            "Epoch 104/500\n",
            "\u001b[1m17/25\u001b[0m \u001b[32m━━━━━━━━━━━━━\u001b[0m\u001b[37m━━━━━━━\u001b[0m \u001b[1m0s\u001b[0m 3ms/step - custom_accuracy_without_padding: 0.5392 - custom_mse: 0.0459 - loss: 0.0459  \n",
            "Epoch 104: val_loss did not improve from 0.04766\n",
            "\u001b[1m25/25\u001b[0m \u001b[32m━━━━━━━━━━━━━━━━━━━━\u001b[0m\u001b[37m\u001b[0m \u001b[1m1s\u001b[0m 9ms/step - custom_accuracy_without_padding: 0.5385 - custom_mse: 0.0458 - loss: 0.0458 - val_custom_accuracy_without_padding: 0.5213 - val_custom_mse: 0.0480 - val_loss: 0.0478 - learning_rate: 0.0010\n",
            "Epoch 105/500\n",
            "\u001b[1m14/25\u001b[0m \u001b[32m━━━━━━━━━━━\u001b[0m\u001b[37m━━━━━━━━━\u001b[0m \u001b[1m0s\u001b[0m 4ms/step - custom_accuracy_without_padding: 0.5364 - custom_mse: 0.0452 - loss: 0.0452 \n",
            "Epoch 105: val_loss did not improve from 0.04766\n",
            "\u001b[1m25/25\u001b[0m \u001b[32m━━━━━━━━━━━━━━━━━━━━\u001b[0m\u001b[37m\u001b[0m \u001b[1m0s\u001b[0m 6ms/step - custom_accuracy_without_padding: 0.5350 - custom_mse: 0.0453 - loss: 0.0453 - val_custom_accuracy_without_padding: 0.5311 - val_custom_mse: 0.0481 - val_loss: 0.0479 - learning_rate: 0.0010\n",
            "Epoch 106/500\n",
            "\u001b[1m25/25\u001b[0m \u001b[32m━━━━━━━━━━━━━━━━━━━━\u001b[0m\u001b[37m\u001b[0m \u001b[1m0s\u001b[0m 2ms/step - custom_accuracy_without_padding: 0.5356 - custom_mse: 0.0446 - loss: 0.0446  \n",
            "Epoch 106: val_loss did not improve from 0.04766\n",
            "\u001b[1m25/25\u001b[0m \u001b[32m━━━━━━━━━━━━━━━━━━━━\u001b[0m\u001b[37m\u001b[0m \u001b[1m0s\u001b[0m 6ms/step - custom_accuracy_without_padding: 0.5356 - custom_mse: 0.0446 - loss: 0.0446 - val_custom_accuracy_without_padding: 0.5205 - val_custom_mse: 0.0484 - val_loss: 0.0482 - learning_rate: 0.0010\n",
            "Epoch 107/500\n",
            "\u001b[1m25/25\u001b[0m \u001b[32m━━━━━━━━━━━━━━━━━━━━\u001b[0m\u001b[37m\u001b[0m \u001b[1m0s\u001b[0m 2ms/step - custom_accuracy_without_padding: 0.5326 - custom_mse: 0.0459 - loss: 0.0459  \n",
            "Epoch 107: val_loss improved from 0.04766 to 0.04757, saving model to /content/drive/MyDrive/10 Masters/Research/error-correcting-codes/ThisIsTheCleanest/weights/ANN_model_27.keras\n",
            "\u001b[1m25/25\u001b[0m \u001b[32m━━━━━━━━━━━━━━━━━━━━\u001b[0m\u001b[37m\u001b[0m \u001b[1m0s\u001b[0m 7ms/step - custom_accuracy_without_padding: 0.5326 - custom_mse: 0.0459 - loss: 0.0459 - val_custom_accuracy_without_padding: 0.5308 - val_custom_mse: 0.0478 - val_loss: 0.0476 - learning_rate: 0.0010\n",
            "Epoch 108/500\n",
            "\u001b[1m24/25\u001b[0m \u001b[32m━━━━━━━━━━━━━━━━━━━\u001b[0m\u001b[37m━\u001b[0m \u001b[1m0s\u001b[0m 2ms/step - custom_accuracy_without_padding: 0.5342 - custom_mse: 0.0455 - loss: 0.0455 \n",
            "Epoch 108: ReduceLROnPlateau reducing learning rate to 0.0005000000237487257.\n",
            "\n",
            "Epoch 108: val_loss did not improve from 0.04757\n",
            "\u001b[1m25/25\u001b[0m \u001b[32m━━━━━━━━━━━━━━━━━━━━\u001b[0m\u001b[37m\u001b[0m \u001b[1m0s\u001b[0m 6ms/step - custom_accuracy_without_padding: 0.5343 - custom_mse: 0.0455 - loss: 0.0455 - val_custom_accuracy_without_padding: 0.5106 - val_custom_mse: 0.0482 - val_loss: 0.0480 - learning_rate: 0.0010\n",
            "Epoch 109/500\n",
            "\u001b[1m 1/25\u001b[0m \u001b[37m━━━━━━━━━━━━━━━━━━━━\u001b[0m \u001b[1m0s\u001b[0m 28ms/step - custom_accuracy_without_padding: 0.5255 - custom_mse: 0.0476 - loss: 0.0476\n",
            "Epoch 109: val_loss improved from 0.04757 to 0.04711, saving model to /content/drive/MyDrive/10 Masters/Research/error-correcting-codes/ThisIsTheCleanest/weights/ANN_model_27.keras\n",
            "\u001b[1m25/25\u001b[0m \u001b[32m━━━━━━━━━━━━━━━━━━━━\u001b[0m\u001b[37m\u001b[0m \u001b[1m0s\u001b[0m 7ms/step - custom_accuracy_without_padding: 0.5376 - custom_mse: 0.0454 - loss: 0.0454 - val_custom_accuracy_without_padding: 0.5355 - val_custom_mse: 0.0473 - val_loss: 0.0471 - learning_rate: 5.0000e-04\n",
            "Epoch 110/500\n",
            "\u001b[1m 1/25\u001b[0m \u001b[37m━━━━━━━━━━━━━━━━━━━━\u001b[0m \u001b[1m0s\u001b[0m 32ms/step - custom_accuracy_without_padding: 0.5324 - custom_mse: 0.0441 - loss: 0.0441\n",
            "Epoch 110: val_loss did not improve from 0.04711\n",
            "\u001b[1m25/25\u001b[0m \u001b[32m━━━━━━━━━━━━━━━━━━━━\u001b[0m\u001b[37m\u001b[0m \u001b[1m0s\u001b[0m 5ms/step - custom_accuracy_without_padding: 0.5460 - custom_mse: 0.0443 - loss: 0.0443 - val_custom_accuracy_without_padding: 0.5379 - val_custom_mse: 0.0474 - val_loss: 0.0473 - learning_rate: 5.0000e-04\n",
            "Epoch 111/500\n",
            "\u001b[1m 1/25\u001b[0m \u001b[37m━━━━━━━━━━━━━━━━━━━━\u001b[0m \u001b[1m0s\u001b[0m 30ms/step - custom_accuracy_without_padding: 0.5683 - custom_mse: 0.0414 - loss: 0.0414\n",
            "Epoch 111: val_loss did not improve from 0.04711\n",
            "\u001b[1m25/25\u001b[0m \u001b[32m━━━━━━━━━━━━━━━━━━━━\u001b[0m\u001b[37m\u001b[0m \u001b[1m0s\u001b[0m 6ms/step - custom_accuracy_without_padding: 0.5503 - custom_mse: 0.0443 - loss: 0.0443 - val_custom_accuracy_without_padding: 0.5380 - val_custom_mse: 0.0473 - val_loss: 0.0471 - learning_rate: 5.0000e-04\n",
            "Epoch 112/500\n",
            "\u001b[1m24/25\u001b[0m \u001b[32m━━━━━━━━━━━━━━━━━━━\u001b[0m\u001b[37m━\u001b[0m \u001b[1m0s\u001b[0m 2ms/step - custom_accuracy_without_padding: 0.5405 - custom_mse: 0.0451 - loss: 0.0451  \n",
            "Epoch 112: val_loss did not improve from 0.04711\n",
            "\u001b[1m25/25\u001b[0m \u001b[32m━━━━━━━━━━━━━━━━━━━━\u001b[0m\u001b[37m\u001b[0m \u001b[1m0s\u001b[0m 6ms/step - custom_accuracy_without_padding: 0.5409 - custom_mse: 0.0450 - loss: 0.0450 - val_custom_accuracy_without_padding: 0.5397 - val_custom_mse: 0.0474 - val_loss: 0.0473 - learning_rate: 5.0000e-04\n",
            "Epoch 113/500\n",
            "\u001b[1m25/25\u001b[0m \u001b[32m━━━━━━━━━━━━━━━━━━━━\u001b[0m\u001b[37m\u001b[0m \u001b[1m0s\u001b[0m 2ms/step - custom_accuracy_without_padding: 0.5468 - custom_mse: 0.0451 - loss: 0.0451  \n",
            "Epoch 113: val_loss improved from 0.04711 to 0.04704, saving model to /content/drive/MyDrive/10 Masters/Research/error-correcting-codes/ThisIsTheCleanest/weights/ANN_model_27.keras\n",
            "\u001b[1m25/25\u001b[0m \u001b[32m━━━━━━━━━━━━━━━━━━━━\u001b[0m\u001b[37m\u001b[0m \u001b[1m0s\u001b[0m 8ms/step - custom_accuracy_without_padding: 0.5468 - custom_mse: 0.0451 - loss: 0.0451 - val_custom_accuracy_without_padding: 0.5379 - val_custom_mse: 0.0472 - val_loss: 0.0470 - learning_rate: 5.0000e-04\n",
            "Epoch 114/500\n",
            "\u001b[1m24/25\u001b[0m \u001b[32m━━━━━━━━━━━━━━━━━━━\u001b[0m\u001b[37m━\u001b[0m \u001b[1m0s\u001b[0m 2ms/step - custom_accuracy_without_padding: 0.5479 - custom_mse: 0.0439 - loss: 0.0439 \n",
            "Epoch 114: ReduceLROnPlateau reducing learning rate to 0.0002500000118743628.\n",
            "\n",
            "Epoch 114: val_loss did not improve from 0.04704\n",
            "\u001b[1m25/25\u001b[0m \u001b[32m━━━━━━━━━━━━━━━━━━━━\u001b[0m\u001b[37m\u001b[0m \u001b[1m0s\u001b[0m 6ms/step - custom_accuracy_without_padding: 0.5477 - custom_mse: 0.0440 - loss: 0.0440 - val_custom_accuracy_without_padding: 0.5355 - val_custom_mse: 0.0477 - val_loss: 0.0476 - learning_rate: 5.0000e-04\n",
            "Epoch 115/500\n",
            "\u001b[1m25/25\u001b[0m \u001b[32m━━━━━━━━━━━━━━━━━━━━\u001b[0m\u001b[37m\u001b[0m \u001b[1m0s\u001b[0m 2ms/step - custom_accuracy_without_padding: 0.5421 - custom_mse: 0.0445 - loss: 0.0445 \n",
            "Epoch 115: val_loss improved from 0.04704 to 0.04695, saving model to /content/drive/MyDrive/10 Masters/Research/error-correcting-codes/ThisIsTheCleanest/weights/ANN_model_27.keras\n",
            "\u001b[1m25/25\u001b[0m \u001b[32m━━━━━━━━━━━━━━━━━━━━\u001b[0m\u001b[37m\u001b[0m \u001b[1m0s\u001b[0m 8ms/step - custom_accuracy_without_padding: 0.5423 - custom_mse: 0.0445 - loss: 0.0445 - val_custom_accuracy_without_padding: 0.5430 - val_custom_mse: 0.0471 - val_loss: 0.0469 - learning_rate: 2.5000e-04\n",
            "Epoch 116/500\n",
            "\u001b[1m25/25\u001b[0m \u001b[32m━━━━━━━━━━━━━━━━━━━━\u001b[0m\u001b[37m\u001b[0m \u001b[1m0s\u001b[0m 2ms/step - custom_accuracy_without_padding: 0.5473 - custom_mse: 0.0448 - loss: 0.0448 \n",
            "Epoch 116: val_loss improved from 0.04695 to 0.04693, saving model to /content/drive/MyDrive/10 Masters/Research/error-correcting-codes/ThisIsTheCleanest/weights/ANN_model_27.keras\n",
            "\u001b[1m25/25\u001b[0m \u001b[32m━━━━━━━━━━━━━━━━━━━━\u001b[0m\u001b[37m\u001b[0m \u001b[1m0s\u001b[0m 7ms/step - custom_accuracy_without_padding: 0.5473 - custom_mse: 0.0448 - loss: 0.0448 - val_custom_accuracy_without_padding: 0.5433 - val_custom_mse: 0.0471 - val_loss: 0.0469 - learning_rate: 2.5000e-04\n",
            "Epoch 117/500\n",
            "\u001b[1m 1/25\u001b[0m \u001b[37m━━━━━━━━━━━━━━━━━━━━\u001b[0m \u001b[1m0s\u001b[0m 30ms/step - custom_accuracy_without_padding: 0.5370 - custom_mse: 0.0451 - loss: 0.0451\n",
            "Epoch 117: val_loss did not improve from 0.04693\n",
            "\u001b[1m25/25\u001b[0m \u001b[32m━━━━━━━━━━━━━━━━━━━━\u001b[0m\u001b[37m\u001b[0m \u001b[1m0s\u001b[0m 5ms/step - custom_accuracy_without_padding: 0.5449 - custom_mse: 0.0443 - loss: 0.0443 - val_custom_accuracy_without_padding: 0.5433 - val_custom_mse: 0.0472 - val_loss: 0.0470 - learning_rate: 2.5000e-04\n",
            "Epoch 118/500\n",
            "\u001b[1m 1/25\u001b[0m \u001b[37m━━━━━━━━━━━━━━━━━━━━\u001b[0m \u001b[1m0s\u001b[0m 28ms/step - custom_accuracy_without_padding: 0.5556 - custom_mse: 0.0437 - loss: 0.0437\n",
            "Epoch 118: val_loss did not improve from 0.04693\n",
            "\u001b[1m25/25\u001b[0m \u001b[32m━━━━━━━━━━━━━━━━━━━━\u001b[0m\u001b[37m\u001b[0m \u001b[1m0s\u001b[0m 5ms/step - custom_accuracy_without_padding: 0.5489 - custom_mse: 0.0440 - loss: 0.0440 - val_custom_accuracy_without_padding: 0.5443 - val_custom_mse: 0.0471 - val_loss: 0.0469 - learning_rate: 2.5000e-04\n",
            "Epoch 119/500\n",
            "\u001b[1m24/25\u001b[0m \u001b[32m━━━━━━━━━━━━━━━━━━━\u001b[0m\u001b[37m━\u001b[0m \u001b[1m0s\u001b[0m 2ms/step - custom_accuracy_without_padding: 0.5465 - custom_mse: 0.0449 - loss: 0.0449  \n",
            "Epoch 119: val_loss did not improve from 0.04693\n",
            "\u001b[1m25/25\u001b[0m \u001b[32m━━━━━━━━━━━━━━━━━━━━\u001b[0m\u001b[37m\u001b[0m \u001b[1m0s\u001b[0m 6ms/step - custom_accuracy_without_padding: 0.5467 - custom_mse: 0.0449 - loss: 0.0449 - val_custom_accuracy_without_padding: 0.5422 - val_custom_mse: 0.0471 - val_loss: 0.0469 - learning_rate: 2.5000e-04\n",
            "Epoch 120/500\n",
            "\u001b[1m21/25\u001b[0m \u001b[32m━━━━━━━━━━━━━━━━\u001b[0m\u001b[37m━━━━\u001b[0m \u001b[1m0s\u001b[0m 3ms/step - custom_accuracy_without_padding: 0.5523 - custom_mse: 0.0446 - loss: 0.0446  \n",
            "Epoch 120: ReduceLROnPlateau reducing learning rate to 0.0001250000059371814.\n",
            "\n",
            "Epoch 120: val_loss did not improve from 0.04693\n",
            "\u001b[1m25/25\u001b[0m \u001b[32m━━━━━━━━━━━━━━━━━━━━\u001b[0m\u001b[37m\u001b[0m \u001b[1m0s\u001b[0m 6ms/step - custom_accuracy_without_padding: 0.5518 - custom_mse: 0.0445 - loss: 0.0445 - val_custom_accuracy_without_padding: 0.5432 - val_custom_mse: 0.0471 - val_loss: 0.0469 - learning_rate: 2.5000e-04\n",
            "Epoch 121/500\n",
            "\u001b[1m21/25\u001b[0m \u001b[32m━━━━━━━━━━━━━━━━\u001b[0m\u001b[37m━━━━\u001b[0m \u001b[1m0s\u001b[0m 3ms/step - custom_accuracy_without_padding: 0.5506 - custom_mse: 0.0453 - loss: 0.0453  \n",
            "Epoch 121: val_loss improved from 0.04693 to 0.04690, saving model to /content/drive/MyDrive/10 Masters/Research/error-correcting-codes/ThisIsTheCleanest/weights/ANN_model_27.keras\n",
            "\u001b[1m25/25\u001b[0m \u001b[32m━━━━━━━━━━━━━━━━━━━━\u001b[0m\u001b[37m\u001b[0m \u001b[1m0s\u001b[0m 7ms/step - custom_accuracy_without_padding: 0.5505 - custom_mse: 0.0451 - loss: 0.0451 - val_custom_accuracy_without_padding: 0.5448 - val_custom_mse: 0.0471 - val_loss: 0.0469 - learning_rate: 1.2500e-04\n",
            "Epoch 122/500\n",
            "\u001b[1m25/25\u001b[0m \u001b[32m━━━━━━━━━━━━━━━━━━━━\u001b[0m\u001b[37m\u001b[0m \u001b[1m0s\u001b[0m 2ms/step - custom_accuracy_without_padding: 0.5534 - custom_mse: 0.0441 - loss: 0.0441  \n",
            "Epoch 122: val_loss improved from 0.04690 to 0.04681, saving model to /content/drive/MyDrive/10 Masters/Research/error-correcting-codes/ThisIsTheCleanest/weights/ANN_model_27.keras\n",
            "\u001b[1m25/25\u001b[0m \u001b[32m━━━━━━━━━━━━━━━━━━━━\u001b[0m\u001b[37m\u001b[0m \u001b[1m0s\u001b[0m 7ms/step - custom_accuracy_without_padding: 0.5533 - custom_mse: 0.0441 - loss: 0.0441 - val_custom_accuracy_without_padding: 0.5433 - val_custom_mse: 0.0469 - val_loss: 0.0468 - learning_rate: 1.2500e-04\n",
            "Epoch 123/500\n",
            "\u001b[1m25/25\u001b[0m \u001b[32m━━━━━━━━━━━━━━━━━━━━\u001b[0m\u001b[37m\u001b[0m \u001b[1m0s\u001b[0m 2ms/step - custom_accuracy_without_padding: 0.5458 - custom_mse: 0.0440 - loss: 0.0440 \n",
            "Epoch 123: val_loss did not improve from 0.04681\n",
            "\u001b[1m25/25\u001b[0m \u001b[32m━━━━━━━━━━━━━━━━━━━━\u001b[0m\u001b[37m\u001b[0m \u001b[1m0s\u001b[0m 6ms/step - custom_accuracy_without_padding: 0.5460 - custom_mse: 0.0440 - loss: 0.0440 - val_custom_accuracy_without_padding: 0.5440 - val_custom_mse: 0.0470 - val_loss: 0.0468 - learning_rate: 1.2500e-04\n",
            "Epoch 124/500\n",
            "\u001b[1m24/25\u001b[0m \u001b[32m━━━━━━━━━━━━━━━━━━━\u001b[0m\u001b[37m━\u001b[0m \u001b[1m0s\u001b[0m 2ms/step - custom_accuracy_without_padding: 0.5454 - custom_mse: 0.0440 - loss: 0.0440 \n",
            "Epoch 124: val_loss did not improve from 0.04681\n",
            "\u001b[1m25/25\u001b[0m \u001b[32m━━━━━━━━━━━━━━━━━━━━\u001b[0m\u001b[37m\u001b[0m \u001b[1m0s\u001b[0m 7ms/step - custom_accuracy_without_padding: 0.5457 - custom_mse: 0.0441 - loss: 0.0441 - val_custom_accuracy_without_padding: 0.5450 - val_custom_mse: 0.0470 - val_loss: 0.0468 - learning_rate: 1.2500e-04\n",
            "Epoch 125/500\n",
            "\u001b[1m 1/25\u001b[0m \u001b[37m━━━━━━━━━━━━━━━━━━━━\u001b[0m \u001b[1m0s\u001b[0m 31ms/step - custom_accuracy_without_padding: 0.5579 - custom_mse: 0.0452 - loss: 0.0452\n",
            "Epoch 125: val_loss did not improve from 0.04681\n",
            "\u001b[1m25/25\u001b[0m \u001b[32m━━━━━━━━━━━━━━━━━━━━\u001b[0m\u001b[37m\u001b[0m \u001b[1m0s\u001b[0m 5ms/step - custom_accuracy_without_padding: 0.5495 - custom_mse: 0.0446 - loss: 0.0446 - val_custom_accuracy_without_padding: 0.5445 - val_custom_mse: 0.0470 - val_loss: 0.0469 - learning_rate: 1.2500e-04\n",
            "Epoch 126/500\n",
            "\u001b[1m22/25\u001b[0m \u001b[32m━━━━━━━━━━━━━━━━━\u001b[0m\u001b[37m━━━\u001b[0m \u001b[1m0s\u001b[0m 2ms/step - custom_accuracy_without_padding: 0.5484 - custom_mse: 0.0440 - loss: 0.0440  \n",
            "Epoch 126: val_loss improved from 0.04681 to 0.04680, saving model to /content/drive/MyDrive/10 Masters/Research/error-correcting-codes/ThisIsTheCleanest/weights/ANN_model_27.keras\n",
            "\u001b[1m25/25\u001b[0m \u001b[32m━━━━━━━━━━━━━━━━━━━━\u001b[0m\u001b[37m\u001b[0m \u001b[1m0s\u001b[0m 8ms/step - custom_accuracy_without_padding: 0.5486 - custom_mse: 0.0440 - loss: 0.0440 - val_custom_accuracy_without_padding: 0.5450 - val_custom_mse: 0.0469 - val_loss: 0.0468 - learning_rate: 1.2500e-04\n",
            "Epoch 127/500\n",
            "\u001b[1m 1/25\u001b[0m \u001b[37m━━━━━━━━━━━━━━━━━━━━\u001b[0m \u001b[1m2s\u001b[0m 119ms/step - custom_accuracy_without_padding: 0.5509 - custom_mse: 0.0411 - loss: 0.0411\n",
            "Epoch 127: ReduceLROnPlateau reducing learning rate to 6.25000029685907e-05.\n",
            "\n",
            "Epoch 127: val_loss did not improve from 0.04680\n",
            "\u001b[1m25/25\u001b[0m \u001b[32m━━━━━━━━━━━━━━━━━━━━\u001b[0m\u001b[37m\u001b[0m \u001b[1m0s\u001b[0m 6ms/step - custom_accuracy_without_padding: 0.5499 - custom_mse: 0.0444 - loss: 0.0444 - val_custom_accuracy_without_padding: 0.5445 - val_custom_mse: 0.0470 - val_loss: 0.0468 - learning_rate: 1.2500e-04\n",
            "Epoch 128/500\n",
            "\u001b[1m25/25\u001b[0m \u001b[32m━━━━━━━━━━━━━━━━━━━━\u001b[0m\u001b[37m\u001b[0m \u001b[1m0s\u001b[0m 2ms/step - custom_accuracy_without_padding: 0.5517 - custom_mse: 0.0442 - loss: 0.0442 \n",
            "Epoch 128: val_loss improved from 0.04680 to 0.04679, saving model to /content/drive/MyDrive/10 Masters/Research/error-correcting-codes/ThisIsTheCleanest/weights/ANN_model_27.keras\n",
            "\u001b[1m25/25\u001b[0m \u001b[32m━━━━━━━━━━━━━━━━━━━━\u001b[0m\u001b[37m\u001b[0m \u001b[1m0s\u001b[0m 7ms/step - custom_accuracy_without_padding: 0.5516 - custom_mse: 0.0442 - loss: 0.0442 - val_custom_accuracy_without_padding: 0.5451 - val_custom_mse: 0.0469 - val_loss: 0.0468 - learning_rate: 6.2500e-05\n",
            "Epoch 129/500\n",
            "\u001b[1m 1/25\u001b[0m \u001b[37m━━━━━━━━━━━━━━━━━━━━\u001b[0m \u001b[1m2s\u001b[0m 122ms/step - custom_accuracy_without_padding: 0.5312 - custom_mse: 0.0454 - loss: 0.0454\n",
            "Epoch 129: val_loss did not improve from 0.04679\n",
            "\u001b[1m25/25\u001b[0m \u001b[32m━━━━━━━━━━━━━━━━━━━━\u001b[0m\u001b[37m\u001b[0m \u001b[1m0s\u001b[0m 5ms/step - custom_accuracy_without_padding: 0.5464 - custom_mse: 0.0444 - loss: 0.0444 - val_custom_accuracy_without_padding: 0.5450 - val_custom_mse: 0.0469 - val_loss: 0.0468 - learning_rate: 6.2500e-05\n",
            "Epoch 130/500\n",
            "\u001b[1m25/25\u001b[0m \u001b[32m━━━━━━━━━━━━━━━━━━━━\u001b[0m\u001b[37m\u001b[0m \u001b[1m0s\u001b[0m 2ms/step - custom_accuracy_without_padding: 0.5485 - custom_mse: 0.0450 - loss: 0.0450  \n",
            "Epoch 130: val_loss improved from 0.04679 to 0.04677, saving model to /content/drive/MyDrive/10 Masters/Research/error-correcting-codes/ThisIsTheCleanest/weights/ANN_model_27.keras\n",
            "\u001b[1m25/25\u001b[0m \u001b[32m━━━━━━━━━━━━━━━━━━━━\u001b[0m\u001b[37m\u001b[0m \u001b[1m0s\u001b[0m 7ms/step - custom_accuracy_without_padding: 0.5486 - custom_mse: 0.0450 - loss: 0.0450 - val_custom_accuracy_without_padding: 0.5450 - val_custom_mse: 0.0469 - val_loss: 0.0468 - learning_rate: 6.2500e-05\n",
            "Epoch 131/500\n",
            "\u001b[1m22/25\u001b[0m \u001b[32m━━━━━━━━━━━━━━━━━\u001b[0m\u001b[37m━━━\u001b[0m \u001b[1m0s\u001b[0m 3ms/step - custom_accuracy_without_padding: 0.5519 - custom_mse: 0.0436 - loss: 0.0436  \n",
            "Epoch 131: val_loss did not improve from 0.04677\n",
            "\u001b[1m25/25\u001b[0m \u001b[32m━━━━━━━━━━━━━━━━━━━━\u001b[0m\u001b[37m\u001b[0m \u001b[1m0s\u001b[0m 7ms/step - custom_accuracy_without_padding: 0.5517 - custom_mse: 0.0437 - loss: 0.0437 - val_custom_accuracy_without_padding: 0.5448 - val_custom_mse: 0.0469 - val_loss: 0.0468 - learning_rate: 6.2500e-05\n",
            "Epoch 132/500\n",
            "\u001b[1m 1/25\u001b[0m \u001b[37m━━━━━━━━━━━━━━━━━━━━\u001b[0m \u001b[1m0s\u001b[0m 27ms/step - custom_accuracy_without_padding: 0.5625 - custom_mse: 0.0475 - loss: 0.0475\n",
            "Epoch 132: ReduceLROnPlateau reducing learning rate to 3.125000148429535e-05.\n",
            "\n",
            "Epoch 132: val_loss improved from 0.04677 to 0.04675, saving model to /content/drive/MyDrive/10 Masters/Research/error-correcting-codes/ThisIsTheCleanest/weights/ANN_model_27.keras\n",
            "\u001b[1m25/25\u001b[0m \u001b[32m━━━━━━━━━━━━━━━━━━━━\u001b[0m\u001b[37m\u001b[0m \u001b[1m0s\u001b[0m 7ms/step - custom_accuracy_without_padding: 0.5478 - custom_mse: 0.0449 - loss: 0.0449 - val_custom_accuracy_without_padding: 0.5453 - val_custom_mse: 0.0469 - val_loss: 0.0467 - learning_rate: 6.2500e-05\n",
            "Epoch 133/500\n",
            "\u001b[1m23/25\u001b[0m \u001b[32m━━━━━━━━━━━━━━━━━━\u001b[0m\u001b[37m━━\u001b[0m \u001b[1m0s\u001b[0m 2ms/step - custom_accuracy_without_padding: 0.5496 - custom_mse: 0.0443 - loss: 0.0443  \n",
            "Epoch 133: val_loss did not improve from 0.04675\n",
            "\u001b[1m25/25\u001b[0m \u001b[32m━━━━━━━━━━━━━━━━━━━━\u001b[0m\u001b[37m\u001b[0m \u001b[1m0s\u001b[0m 6ms/step - custom_accuracy_without_padding: 0.5498 - custom_mse: 0.0443 - loss: 0.0443 - val_custom_accuracy_without_padding: 0.5455 - val_custom_mse: 0.0469 - val_loss: 0.0468 - learning_rate: 3.1250e-05\n",
            "Epoch 134/500\n",
            "\u001b[1m 1/25\u001b[0m \u001b[37m━━━━━━━━━━━━━━━━━━━━\u001b[0m \u001b[1m0s\u001b[0m 30ms/step - custom_accuracy_without_padding: 0.5822 - custom_mse: 0.0396 - loss: 0.0396\n",
            "Epoch 134: val_loss did not improve from 0.04675\n",
            "\u001b[1m25/25\u001b[0m \u001b[32m━━━━━━━━━━━━━━━━━━━━\u001b[0m\u001b[37m\u001b[0m \u001b[1m0s\u001b[0m 5ms/step - custom_accuracy_without_padding: 0.5527 - custom_mse: 0.0434 - loss: 0.0434 - val_custom_accuracy_without_padding: 0.5450 - val_custom_mse: 0.0469 - val_loss: 0.0468 - learning_rate: 3.1250e-05\n",
            "Epoch 135/500\n",
            "\u001b[1m25/25\u001b[0m \u001b[32m━━━━━━━━━━━━━━━━━━━━\u001b[0m\u001b[37m\u001b[0m \u001b[1m0s\u001b[0m 2ms/step - custom_accuracy_without_padding: 0.5505 - custom_mse: 0.0447 - loss: 0.0447 \n",
            "Epoch 135: val_loss did not improve from 0.04675\n",
            "\u001b[1m25/25\u001b[0m \u001b[32m━━━━━━━━━━━━━━━━━━━━\u001b[0m\u001b[37m\u001b[0m \u001b[1m0s\u001b[0m 6ms/step - custom_accuracy_without_padding: 0.5505 - custom_mse: 0.0447 - loss: 0.0447 - val_custom_accuracy_without_padding: 0.5446 - val_custom_mse: 0.0469 - val_loss: 0.0468 - learning_rate: 3.1250e-05\n",
            "Epoch 136/500\n",
            "\u001b[1m25/25\u001b[0m \u001b[32m━━━━━━━━━━━━━━━━━━━━\u001b[0m\u001b[37m\u001b[0m \u001b[1m0s\u001b[0m 2ms/step - custom_accuracy_without_padding: 0.5480 - custom_mse: 0.0441 - loss: 0.0441  \n",
            "Epoch 136: val_loss did not improve from 0.04675\n",
            "\u001b[1m25/25\u001b[0m \u001b[32m━━━━━━━━━━━━━━━━━━━━\u001b[0m\u001b[37m\u001b[0m \u001b[1m0s\u001b[0m 6ms/step - custom_accuracy_without_padding: 0.5481 - custom_mse: 0.0441 - loss: 0.0441 - val_custom_accuracy_without_padding: 0.5443 - val_custom_mse: 0.0469 - val_loss: 0.0468 - learning_rate: 3.1250e-05\n",
            "Epoch 137/500\n",
            "\u001b[1m 1/25\u001b[0m \u001b[37m━━━━━━━━━━━━━━━━━━━━\u001b[0m \u001b[1m0s\u001b[0m 28ms/step - custom_accuracy_without_padding: 0.5613 - custom_mse: 0.0423 - loss: 0.0423\n",
            "Epoch 137: ReduceLROnPlateau reducing learning rate to 1.5625000742147677e-05.\n",
            "\n",
            "Epoch 137: val_loss did not improve from 0.04675\n",
            "\u001b[1m25/25\u001b[0m \u001b[32m━━━━━━━━━━━━━━━━━━━━\u001b[0m\u001b[37m\u001b[0m \u001b[1m0s\u001b[0m 5ms/step - custom_accuracy_without_padding: 0.5523 - custom_mse: 0.0440 - loss: 0.0440 - val_custom_accuracy_without_padding: 0.5450 - val_custom_mse: 0.0469 - val_loss: 0.0468 - learning_rate: 3.1250e-05\n",
            "Epoch 138/500\n",
            "\u001b[1m23/25\u001b[0m \u001b[32m━━━━━━━━━━━━━━━━━━\u001b[0m\u001b[37m━━\u001b[0m \u001b[1m0s\u001b[0m 2ms/step - custom_accuracy_without_padding: 0.5531 - custom_mse: 0.0438 - loss: 0.0438 \n",
            "Epoch 138: val_loss did not improve from 0.04675\n",
            "\u001b[1m25/25\u001b[0m \u001b[32m━━━━━━━━━━━━━━━━━━━━\u001b[0m\u001b[37m\u001b[0m \u001b[1m0s\u001b[0m 6ms/step - custom_accuracy_without_padding: 0.5529 - custom_mse: 0.0439 - loss: 0.0439 - val_custom_accuracy_without_padding: 0.5458 - val_custom_mse: 0.0469 - val_loss: 0.0468 - learning_rate: 1.5625e-05\n",
            "Epoch 139/500\n",
            "\u001b[1m 1/25\u001b[0m \u001b[37m━━━━━━━━━━━━━━━━━━━━\u001b[0m \u001b[1m0s\u001b[0m 31ms/step - custom_accuracy_without_padding: 0.5347 - custom_mse: 0.0463 - loss: 0.0463\n",
            "Epoch 139: val_loss did not improve from 0.04675\n",
            "\u001b[1m25/25\u001b[0m \u001b[32m━━━━━━━━━━━━━━━━━━━━\u001b[0m\u001b[37m\u001b[0m \u001b[1m0s\u001b[0m 5ms/step - custom_accuracy_without_padding: 0.5497 - custom_mse: 0.0447 - loss: 0.0447 - val_custom_accuracy_without_padding: 0.5455 - val_custom_mse: 0.0469 - val_loss: 0.0468 - learning_rate: 1.5625e-05\n",
            "Epoch 140/500\n",
            "\u001b[1m25/25\u001b[0m \u001b[32m━━━━━━━━━━━━━━━━━━━━\u001b[0m\u001b[37m\u001b[0m \u001b[1m0s\u001b[0m 2ms/step - custom_accuracy_without_padding: 0.5510 - custom_mse: 0.0442 - loss: 0.0442  \n",
            "Epoch 140: val_loss did not improve from 0.04675\n",
            "\u001b[1m25/25\u001b[0m \u001b[32m━━━━━━━━━━━━━━━━━━━━\u001b[0m\u001b[37m\u001b[0m \u001b[1m0s\u001b[0m 6ms/step - custom_accuracy_without_padding: 0.5510 - custom_mse: 0.0442 - loss: 0.0442 - val_custom_accuracy_without_padding: 0.5458 - val_custom_mse: 0.0469 - val_loss: 0.0468 - learning_rate: 1.5625e-05\n",
            "Epoch 141/500\n",
            "\u001b[1m25/25\u001b[0m \u001b[32m━━━━━━━━━━━━━━━━━━━━\u001b[0m\u001b[37m\u001b[0m \u001b[1m0s\u001b[0m 2ms/step - custom_accuracy_without_padding: 0.5541 - custom_mse: 0.0446 - loss: 0.0446  \n",
            "Epoch 141: val_loss did not improve from 0.04675\n",
            "\u001b[1m25/25\u001b[0m \u001b[32m━━━━━━━━━━━━━━━━━━━━\u001b[0m\u001b[37m\u001b[0m \u001b[1m0s\u001b[0m 5ms/step - custom_accuracy_without_padding: 0.5540 - custom_mse: 0.0446 - loss: 0.0446 - val_custom_accuracy_without_padding: 0.5455 - val_custom_mse: 0.0469 - val_loss: 0.0468 - learning_rate: 1.5625e-05\n",
            "Epoch 142/500\n",
            "\u001b[1m24/25\u001b[0m \u001b[32m━━━━━━━━━━━━━━━━━━━\u001b[0m\u001b[37m━\u001b[0m \u001b[1m0s\u001b[0m 2ms/step - custom_accuracy_without_padding: 0.5468 - custom_mse: 0.0442 - loss: 0.0442 \n",
            "Epoch 142: ReduceLROnPlateau reducing learning rate to 7.812500371073838e-06.\n",
            "\n",
            "Epoch 142: val_loss did not improve from 0.04675\n",
            "\u001b[1m25/25\u001b[0m \u001b[32m━━━━━━━━━━━━━━━━━━━━\u001b[0m\u001b[37m\u001b[0m \u001b[1m0s\u001b[0m 6ms/step - custom_accuracy_without_padding: 0.5471 - custom_mse: 0.0442 - loss: 0.0442 - val_custom_accuracy_without_padding: 0.5456 - val_custom_mse: 0.0469 - val_loss: 0.0468 - learning_rate: 1.5625e-05\n"
          ]
        }
      ],
      "source": [
        "from tensorflow.keras.callbacks import EarlyStopping, ReduceLROnPlateau, ModelCheckpoint\n",
        "\n",
        "checkpoint_path = f\"/content/drive/MyDrive/10 Masters/Research/error-correcting-codes/ThisIsTheCleanest/weights/ANN_model_{n}.keras\"\n",
        "\n",
        "model_checkpoint = ModelCheckpoint(\n",
        "    filepath=checkpoint_path,\n",
        "    monitor='val_loss',\n",
        "    save_best_only=True,\n",
        "    save_weights_only=False,\n",
        "    verbose=1\n",
        ")\n",
        "\n",
        "early_stopping = EarlyStopping(monitor='val_loss', patience=10, restore_best_weights=True)\n",
        "\n",
        "adjust_lr = ReduceLROnPlateau(\n",
        "    monitor='val_loss',\n",
        "    factor=0.5,\n",
        "    patience=5,\n",
        "    min_lr=1e-7,\n",
        "    verbose=1\n",
        ")\n",
        "\n",
        "history = model.fit(\n",
        "    x_train, y_train,\n",
        "    epochs=500,\n",
        "    batch_size=32,\n",
        "    validation_data=(x_test, y_test),\n",
        "    callbacks=[adjust_lr, early_stopping, model_checkpoint]\n",
        ")"
      ]
    },
    {
      "cell_type": "markdown",
      "metadata": {
        "id": "5yHldkKB39Ry"
      },
      "source": [
        "Evaluate"
      ]
    },
    {
      "cell_type": "code",
      "execution_count": 27,
      "metadata": {
        "colab": {
          "base_uri": "https://localhost:8080/"
        },
        "id": "S3v8j07n39Ry",
        "outputId": "adbb001b-bf1d-435b-c68b-eb9461132b8c"
      },
      "outputs": [
        {
          "output_type": "stream",
          "name": "stdout",
          "text": [
            "\u001b[1m7/7\u001b[0m \u001b[32m━━━━━━━━━━━━━━━━━━━━\u001b[0m\u001b[37m\u001b[0m \u001b[1m0s\u001b[0m 5ms/step - custom_accuracy_without_padding: 0.5527 - custom_mse: 0.0461 - loss: 0.0461 \n",
            "Test results - Loss: 0.046747706830501556, MSE: 0.046886708587408066, Accuracy: 0.5453042387962341\n"
          ]
        }
      ],
      "source": [
        "eval_results = model.evaluate(x_test, y_test)\n",
        "print(f\"Test results - Loss: {eval_results[0]}, MSE: {eval_results[1]}, Accuracy: {eval_results[2]}\")"
      ]
    },
    {
      "cell_type": "code",
      "execution_count": 28,
      "metadata": {
        "colab": {
          "base_uri": "https://localhost:8080/",
          "height": 487
        },
        "id": "PX7cZ6Rr39Rz",
        "outputId": "47b05fef-2e21-46da-c469-d95f25e277b2"
      },
      "outputs": [
        {
          "output_type": "display_data",
          "data": {
            "text/plain": [
              "<Figure size 1200x500 with 2 Axes>"
            ],
            "image/png": "[encoded data removed]"
          },
          "metadata": {}
        }
      ],
      "source": [
        "import matplotlib.pyplot as plt\n",
        "\n",
        "plt.figure(figsize=(12, 5))\n",
        "\n",
        "plt.subplot(1, 2, 1)\n",
        "plt.plot(history.history['loss'], label='Training Loss')\n",
        "plt.plot(history.history['val_loss'], label='Validation Loss')\n",
        "plt.title('Loss Over Epochs')\n",
        "plt.xlabel('Epochs')\n",
        "plt.ylabel('MSE Loss')\n",
        "plt.legend()\n",
        "\n",
        "plt.subplot(1, 2, 2)\n",
        "plt.plot(history.history['custom_accuracy_without_padding'], label='Training Accuracy')\n",
        "plt.plot(history.history['val_custom_accuracy_without_padding'], label='Validation Accuracy')\n",
        "plt.title('Accuracy Over Epochs')\n",
        "plt.xlabel('Epochs')\n",
        "plt.ylabel('Accuracy (%)')\n",
        "plt.legend()\n",
        "\n",
        "plt.show()"
      ]
    },
    {
      "cell_type": "markdown",
      "source": [
        "Predict"
      ],
      "metadata": {
        "id": "dvFI3YwIAwGM"
      }
    },
    {
      "cell_type": "code",
      "execution_count": 29,
      "metadata": {
        "colab": {
          "base_uri": "https://localhost:8080/"
        },
        "id": "h9p3lDWX39R1",
        "outputId": "171366f0-acb0-49f8-fa30-ca3017f7f6d4"
      },
      "outputs": [
        {
          "output_type": "stream",
          "name": "stdout",
          "text": [
            "\u001b[1m7/7\u001b[0m \u001b[32m━━━━━━━━━━━━━━━━━━━━\u001b[0m\u001b[37m\u001b[0m \u001b[1m0s\u001b[0m 10ms/step\n",
            "Comparison of predictions and ground truth:\n",
            "Sample 1:\n",
            "  Predicted:    [3 3 3 3 2 3 3 3 3 3 2 2 3 1 3 2 5 1 4 3 4 4 6 5 2 3 1 0 0 0 0 0]\n",
            "  Ground Truth: [5 6 5 1 3 4 1 1 6 2 3 1 4 0 3 2 5 1 4 3 4 4 6 5 2 3 1 0 0 0 0 0]\n",
            "----------------------------------------\n",
            "Sample 2:\n",
            "  Predicted:    [4 3 3 3 3 3 3 3 2 4 3 3 3 2 3 2 1 2 0 1 1 5 2 1 4 0 4 0 0 0 0 0]\n",
            "  Ground Truth: [1 4 1 3 3 3 0 5 5 2 4 3 3 1 3 1 1 2 0 1 1 5 2 1 4 0 4 0 0 0 0 0]\n",
            "----------------------------------------\n",
            "Sample 3:\n",
            "  Predicted:    [3 3 3 3 3 3 3 3 3 2 3 3 3 4 3 3 5 1 4 6 0 4 3 2 3 4 4 0 0 0 0 0]\n",
            "  Ground Truth: [2 6 0 2 2 1 3 4 2 6 4 1 0 5 2 3 5 1 4 6 0 4 3 2 3 4 4 0 0 0 0 0]\n",
            "----------------------------------------\n"
          ]
        }
      ],
      "source": [
        "y_pred = model.predict(x_test)\n",
        "y_pred_rescaled = y_pred * (q-1)\n",
        "y_test_rescaled = y_test * (q-1)\n",
        "\n",
        "print(\"Comparison of predictions and ground truth:\")\n",
        "for i in range(3):\n",
        "    print(f\"Sample {i+1}:\")\n",
        "    print(f\"  Predicted:    {np.round(y_pred_rescaled[i]).astype(int)}\")\n",
        "    print(f\"  Ground Truth: {np.round(y_test_rescaled[i]).astype(int)}\")\n",
        "    print(\"-\" * 40)"
      ]
    },
    {
      "cell_type": "code",
      "source": [
        "from sklearn.metrics import r2_score\n",
        "\n",
        "r2 = r2_score(y_test, y_pred)\n",
        "\n",
        "print(f\"R² Score: {r2:.4f}\")"
      ],
      "metadata": {
        "colab": {
          "base_uri": "https://localhost:8080/"
        },
        "id": "4rrdoPg65FNz",
        "outputId": "657a3990-11c1-41f5-d35f-7b41d44065e2"
      },
      "execution_count": 30,
      "outputs": [
        {
          "output_type": "stream",
          "name": "stdout",
          "text": [
            "R² Score: 0.4228\n"
          ]
        }
      ]
    },
    {
      "cell_type": "code",
      "source": [
        "# ---------------------- Inference time on Test Set ----------------------------\n",
        "\n",
        "import time\n",
        "\n",
        "_ = model.predict(x_test, verbose=0)  # warm up\n",
        "\n",
        "times = []\n",
        "for _ in range(100):\n",
        "    start = time.perf_counter()\n",
        "    _ = model.predict(x_test, verbose=0)\n",
        "    end = time.perf_counter()\n",
        "    times.append(end - start)\n",
        "\n",
        "average_inference_time = np.mean(times)\n",
        "print(f\"Average batch inference time over 100 runs: {average_inference_time:.6f} seconds\")\n",
        "\n",
        "average_per_sample = average_inference_time / x_test.shape[0]\n",
        "print(f\"Average inference time per sample (from batch): {average_per_sample:.6f} seconds\")"
      ],
      "metadata": {
        "colab": {
          "base_uri": "https://localhost:8080/"
        },
        "id": "w0GHeUug-lJM",
        "outputId": "9593d9b0-1143-414c-f723-a5e8e6a289fc"
      },
      "execution_count": 31,
      "outputs": [
        {
          "output_type": "stream",
          "name": "stdout",
          "text": [
            "Average batch inference time over 100 runs: 0.109672 seconds\n",
            "Average inference time per sample (from batch): 0.000548 seconds\n"
          ]
        }
      ]
    },
    {
      "cell_type": "code",
      "execution_count": 32,
      "metadata": {
        "colab": {
          "base_uri": "https://localhost:8080/"
        },
        "id": "JyQx5pZf39R1",
        "outputId": "37df16b8-992a-4907-d8d1-83fcb132ceed"
      },
      "outputs": [
        {
          "output_type": "stream",
          "name": "stdout",
          "text": [
            "\u001b[1m1/1\u001b[0m \u001b[32m━━━━━━━━━━━━━━━━━━━━\u001b[0m\u001b[37m\u001b[0m \u001b[1m0s\u001b[0m 43ms/step\n",
            "MSE on unseen data: 0.04372256621718407\n",
            "Accuracy on unseen data: 0.5481481552124023\n",
            "Sample 1:\n",
            "[6. 3. 4. 6. 2. 4. 4. 6. 1. 2. 6. 2. 2. 4. 3. 2. 5. 4. 1. 3. 5. 5. 1. 3.\n",
            " 4. 0. 3. 0. 0. 0. 0. 0.]: True values\n",
            "[3 3 3 3 3 3 3 3 2 3 3 3 3 3 3 2 5 4 1 3 5 5 1 3 4 0 3 0 0 0 0 0]: Predicted values\n",
            "--------------------\n",
            "Sample 2:\n",
            "[1. 5. 4. 3. 0. 0. 2. 2. 6. 1. 3. 3. 6. 5. 5. 6. 5. 2. 3. 6. 3. 0. 2. 4.\n",
            " 2. 6. 4. 0. 0. 0. 0. 0.]: True values\n",
            "[3 3 4 4 4 3 3 3 3 3 3 4 4 4 4 6 5 2 3 6 3 0 2 4 2 6 4 0 0 0 0 0]: Predicted values\n",
            "--------------------\n",
            "Sample 3:\n",
            "[0. 6. 1. 3. 0. 3. 5. 1. 1. 0. 1. 4. 1. 3. 3. 6. 3. 6. 3. 4. 6. 2. 5. 0.\n",
            " 3. 1. 3. 0. 0. 0. 0. 0.]: True values\n",
            "[3 3 3 4 3 3 3 4 3 3 3 3 2 2 3 6 3 6 3 4 6 2 5 0 3 1 3 0 0 0 0 0]: Predicted values\n",
            "--------------------\n"
          ]
        }
      ],
      "source": [
        "# --------------------- Predictions on unseen samples -------------------------\n",
        "\n",
        "np.random.seed(42)\n",
        "\n",
        "unseen_data = np.random.randint(0, q, size=(num_unseen_samples, n))\n",
        "\n",
        "padded_unseen_data = np.hstack((unseen_data, np.zeros((num_unseen_samples, n_padded - n))))\n",
        "\n",
        "unseen_data_normalized = padded_unseen_data.astype(np.float32) / (q - 1)\n",
        "\n",
        "unseen_encoded = np.array([np.dot(M_tilde, x) for x in padded_unseen_data])\n",
        "unseen_encoded[np.abs(unseen_encoded) < 1e-10] = 0\n",
        "unseen_encoded = np.round(unseen_encoded, decimals=10)\n",
        "\n",
        "X_real_unseen = np.real(unseen_encoded).astype(np.float32)\n",
        "X_imag_unseen = np.imag(unseen_encoded).astype(np.float32)\n",
        "\n",
        "X_real_imag_unseen = np.hstack([X_real_unseen, X_imag_unseen])\n",
        "\n",
        "X_real_imag_unseen = (X_real_imag_unseen - X_real_imag_unseen.mean()) / X_real_imag_unseen.std()\n",
        "\n",
        "y_pred_unseen = model.predict(X_real_imag_unseen)\n",
        "\n",
        "mse_unseen = tf.reduce_mean(tf.square(unseen_data_normalized - y_pred_unseen)).numpy()\n",
        "print(f\"MSE on unseen data: {mse_unseen}\")\n",
        "\n",
        "accuracy_unseen = custom_accuracy_without_padding(unseen_data_normalized, y_pred_unseen)\n",
        "print(f\"Accuracy on unseen data: {accuracy_unseen}\")\n",
        "\n",
        "num_display_samples = 3\n",
        "for i in range(num_display_samples):\n",
        "    print(f\"Sample {i+1}:\")\n",
        "    true_labels = padded_unseen_data[i]\n",
        "    pred_scaled = y_pred_unseen[i] * (q - 1)\n",
        "    pred_rounded = tf.round(pred_scaled).numpy().astype(int)\n",
        "    print(f\"{true_labels}: True values\")\n",
        "    print(f\"{pred_rounded}: Predicted values\")\n",
        "    print(\"-\" * 20)"
      ]
    },
    {
      "cell_type": "code",
      "source": [
        "import matplotlib.pyplot as plt\n",
        "\n",
        "# exclude zero pads\n",
        "y_pred_first_n = y_pred[:, :n]\n",
        "y_pred_first_n_rescaled = y_pred_first_n * (q - 1)\n",
        "\n",
        "plt.hist(y_pred_first_n_rescaled.flatten(), bins=50)\n",
        "plt.xlabel('Prediction Value')\n",
        "plt.ylabel('Frequency')\n",
        "plt.show()"
      ],
      "metadata": {
        "colab": {
          "base_uri": "https://localhost:8080/",
          "height": 449
        },
        "id": "kD70EwfY5kFW",
        "outputId": "b2259c69-65f8-44bd-eaad-6c7397d34f1d"
      },
      "execution_count": 33,
      "outputs": [
        {
          "output_type": "display_data",
          "data": {
            "text/plain": [
              "<Figure size 640x480 with 1 Axes>"
            ],
            "image/png": "[encoded data removed]"
          },
          "metadata": {}
        }
      ]
    },
    {
      "cell_type": "code",
      "execution_count": 34,
      "metadata": {
        "id": "8nidbP-E39R1"
      },
      "outputs": [],
      "source": [
        "# for layer in model.layers:\n",
        "#     if layer.trainable_variables:  # Check if the layer has trainable variables\n",
        "#         for i, var in enumerate(layer.trainable_variables):\n",
        "#             print(f\"{layer.name} - Variable {i} ({var.name}): values: {var.numpy()}\")\n",
        "#     else:\n",
        "#         print(layer.name, \"has no trainable variables.\")"
      ]
    },
    {
      "cell_type": "code",
      "execution_count": 34,
      "metadata": {
        "id": "N7q_PYa739R2"
      },
      "outputs": [],
      "source": []
    }
  ],
  "metadata": {
    "kernelspec": {
      "display_name": "Python 3",
      "name": "python3"
    },
    "language_info": {
      "codemirror_mode": {
        "name": "ipython",
        "version": 3
      },
      "file_extension": ".py",
      "mimetype": "text/x-python",
      "name": "python",
      "nbconvert_exporter": "python",
      "pygments_lexer": "ipython3",
      "version": "3.9.18"
    },
    "colab": {
      "provenance": []
    }
  },
  "nbformat": 4,
  "nbformat_minor": 0
}