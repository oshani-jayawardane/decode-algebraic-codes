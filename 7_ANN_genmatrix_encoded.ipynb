{
  "cells": [
    {
      "cell_type": "markdown",
      "metadata": {
        "id": "nXAJCz9v39RU"
      },
      "source": [
        "### ANN - Gen Matrix Encoded Dataset"
      ]
    },
    {
      "cell_type": "code",
      "execution_count": null,
      "metadata": {
        "id": "itaY18VK39Re"
      },
      "outputs": [],
      "source": [
        "# (r + 1) | (q - 1)\n",
        "# (r + 1) | n\n",
        "# q is a prime number\n",
        "# n = 2^t\n",
        "# r < n"
      ]
    },
    {
      "cell_type": "code",
      "execution_count": null,
      "metadata": {
        "colab": {
          "base_uri": "https://localhost:8080/"
        },
        "id": "8yry-yis39Ri",
        "outputId": "093b5d09-95ea-46df-9107-5cb72c29a777"
      },
      "outputs": [
        {
          "output_type": "execute_result",
          "data": {
            "text/plain": [
              "4329"
            ]
          },
          "metadata": {},
          "execution_count": 290
        }
      ],
      "source": [
        "%reset -f\n",
        "import gc\n",
        "gc.collect()"
      ]
    },
    {
      "cell_type": "code",
      "source": [
        "import numpy as np\n",
        "import tensorflow as tf\n",
        "from tensorflow.keras.models import Sequential\n",
        "from tensorflow.keras.layers import Dense, Input, LeakyReLU\n",
        "from tensorflow.keras.optimizers import Adam\n",
        "from tensorflow.keras.losses import Huber\n",
        "\n",
        "np.random.seed(42)"
      ],
      "metadata": {
        "id": "QkEBVFQR4SEY"
      },
      "execution_count": null,
      "outputs": []
    },
    {
      "cell_type": "code",
      "execution_count": null,
      "metadata": {
        "id": "VC4-bslz39Rj"
      },
      "outputs": [],
      "source": [
        "w0 = 4\n",
        "z0 = 3\n",
        "\n",
        "n = 27\n",
        "q = 7\n",
        "num_samples = 1000"
      ]
    },
    {
      "cell_type": "code",
      "execution_count": null,
      "metadata": {
        "colab": {
          "base_uri": "https://localhost:8080/"
        },
        "id": "rnINb41e39Rk",
        "outputId": "e6c9a613-bf5e-435d-f9fb-66050dd9e8ef"
      },
      "outputs": [
        {
          "output_type": "stream",
          "name": "stdout",
          "text": [
            "Original n: 27\n",
            "Padded n: 32\n",
            "Generated dataset shape: (1000, 32)\n"
          ]
        }
      ],
      "source": [
        "def next_power_of_two(x):\n",
        "    return 1 if x == 0 else 2**(x - 1).bit_length()\n",
        "\n",
        "n_padded = next_power_of_two(n)\n",
        "\n",
        "dataset = np.random.randint(0, q, size=(num_samples, n))\n",
        "\n",
        "if n_padded > n:\n",
        "    pad_width = n_padded - n\n",
        "    dataset = np.pad(dataset, ((0, 0), (0, pad_width)), mode='constant', constant_values=0)\n",
        "\n",
        "print(\"Original n:\", n)\n",
        "print(\"Padded n:\", n_padded)\n",
        "print(\"Generated dataset shape:\", dataset.shape)"
      ]
    },
    {
      "cell_type": "code",
      "execution_count": null,
      "metadata": {
        "colab": {
          "base_uri": "https://localhost:8080/"
        },
        "id": "YwQZ3E8o39Rm",
        "outputId": "2ab327a6-ba56-432b-d2fb-8b60a4492103"
      },
      "outputs": [
        {
          "output_type": "stream",
          "name": "stdout",
          "text": [
            "[[6 3 4 ... 0 0 0]\n",
            " [1 5 4 ... 0 0 0]\n",
            " [0 6 1 ... 0 0 0]\n",
            " ...\n",
            " [4 1 1 ... 0 0 0]\n",
            " [6 1 2 ... 0 0 0]\n",
            " [1 5 4 ... 0 0 0]]\n",
            "(1000, 32)\n",
            "(32,)\n"
          ]
        }
      ],
      "source": [
        "print(dataset)\n",
        "print(dataset.shape)\n",
        "print(dataset[0].shape)"
      ]
    },
    {
      "cell_type": "markdown",
      "metadata": {
        "id": "pH_I3jW739Ro"
      },
      "source": [
        "$$\n",
        "\\tilde{M}_{kj} = \\left[ \\left( \\frac{w_0}{z_0} \\right)^j \\zeta^{kj} \\right]_{k,j=0}^{n-1}\n",
        "$$"
      ]
    },
    {
      "cell_type": "code",
      "execution_count": null,
      "metadata": {
        "id": "d37Ydmgw39Rp"
      },
      "outputs": [],
      "source": [
        "def padded_generator_matrix(N, w0, z0):\n",
        "    n = np.arange(N)\n",
        "    k = n.reshape((N, 1))\n",
        "    zeta = np.exp(-2j * np.pi / N)\n",
        "    M_tilde = ((w0 / z0) ** n) * (zeta ** (k * n))\n",
        "    return M_tilde"
      ]
    },
    {
      "cell_type": "code",
      "execution_count": null,
      "metadata": {
        "colab": {
          "base_uri": "https://localhost:8080/"
        },
        "id": "jnbsILy_39Rp",
        "outputId": "ccf541f2-4a61-4934-c94c-e2e7160ff4a9"
      },
      "outputs": [
        {
          "output_type": "stream",
          "name": "stdout",
          "text": [
            "(32, 32)\n"
          ]
        }
      ],
      "source": [
        "M_tilde = padded_generator_matrix(n_padded, w0, z0)\n",
        "print(M_tilde.shape)"
      ]
    },
    {
      "cell_type": "code",
      "execution_count": null,
      "metadata": {
        "colab": {
          "base_uri": "https://localhost:8080/"
        },
        "id": "gL9uV1SM39Rq",
        "outputId": "ac62b5eb-ce11-47bd-ea5e-64d6559aae94"
      },
      "outputs": [
        {
          "output_type": "stream",
          "name": "stdout",
          "text": [
            "[[ 18563.60052945    +0.j          -3175.07412411+14542.65392496j\n",
            "   -9480.13851167 -1549.89213738j ...   -850.18419129 +5788.51248279j\n",
            "   -9480.13851167 +1549.89213738j  -3175.07412411-14542.65392496j]\n",
            " [ 26201.57565547    +0.j           -888.79870167+21381.54383229j\n",
            "  -15711.89592314 +4225.02464251j ...  -8448.43948841+12321.54894128j\n",
            "  -15711.89592314 -4225.02464251j   -888.79870167-21381.54383229j]\n",
            " [ 18708.3418798     +0.j          -3692.76914231+14315.81246485j\n",
            "   -8001.63897938 -1445.78154582j ...  -2196.87866369 +4388.0650906j\n",
            "   -8001.63897938 +1445.78154582j  -3692.76914231-14315.81246485j]\n",
            " ...\n",
            " [ 23026.93389135    +0.j          -1109.76273792+19062.65254237j\n",
            "  -13040.7009937  +1311.43274328j ...  -3589.38928495 +6599.51636282j\n",
            "  -13040.7009937  -1311.43274328j  -1109.76273792-19062.65254237j]\n",
            " [ 13466.17623911    +0.j          -3519.32538663 +9603.71035865j\n",
            "   -6399.29947006 -1233.3778371j  ...  -1243.67319172 +6320.28545061j\n",
            "   -6399.29947006 +1233.3778371j   -3519.32538663 -9603.71035865j]\n",
            " [ 14588.02290132    +0.j          -1642.56444197+11272.19910547j\n",
            "   -6953.08933372  +889.35665809j ...  -4636.08674653 +4233.01026956j\n",
            "   -6953.08933372  -889.35665809j  -1642.56444197-11272.19910547j]]\n"
          ]
        }
      ],
      "source": [
        "encoded_dataset = np.array([np.dot(M_tilde, x) for x in dataset])\n",
        "encoded_dataset[np.abs(encoded_dataset) < 1e-10] = 0\n",
        "encoded_dataset = np.round(encoded_dataset, decimals=10)\n",
        "print(encoded_dataset)"
      ]
    },
    {
      "cell_type": "code",
      "execution_count": null,
      "metadata": {
        "colab": {
          "base_uri": "https://localhost:8080/"
        },
        "id": "-1t98OtS39Rr",
        "outputId": "f634f2ec-efc8-4883-cbbc-7d10c2cf0e59"
      },
      "outputs": [
        {
          "output_type": "execute_result",
          "data": {
            "text/plain": [
              "(1000, 32)"
            ]
          },
          "metadata": {},
          "execution_count": 298
        }
      ],
      "source": [
        "encoded_dataset.shape"
      ]
    },
    {
      "cell_type": "code",
      "execution_count": null,
      "metadata": {
        "colab": {
          "base_uri": "https://localhost:8080/"
        },
        "id": "aqymbNzP39Rs",
        "outputId": "9f0082a2-aa57-4471-803e-3e56aea82c51"
      },
      "outputs": [
        {
          "output_type": "stream",
          "name": "stdout",
          "text": [
            "[6 3 4 6 2 4 4 6 1 2 6 2 2 4 3 2 5 4 1 3 5 5 1 3 4 0 3 0 0 0 0 0]\n",
            "[18563.60052945    +0.j         -3175.07412411+14542.65392496j\n",
            " -9480.13851167 -1549.89213738j  -850.18419129 -5788.51248279j\n",
            "  2813.63372348 -2457.36436449j  3312.0476391   +337.88077825j\n",
            "  1059.2907911  +3489.68169028j -2366.82367016  +909.74502726j\n",
            "  -210.29906943  +357.85181443j -3878.07651347  +373.95548592j\n",
            "   -49.25036994 -6370.32567308j  6901.71964373 -1088.5938127j\n",
            "  2896.76301761 +7252.43377368j -6714.83312544 +4427.90575271j\n",
            " -5496.28870703 -5330.43278044j  2828.24226801 -6162.17891893j\n",
            "  6446.94186958    -0.j          2828.24226801 +6162.17891893j\n",
            " -5496.28870703 +5330.43278044j -6714.83312544 -4427.90575271j\n",
            "  2896.76301761 -7252.43377368j  6901.71964373 +1088.5938127j\n",
            "   -49.25036994 +6370.32567308j -3878.07651347  -373.95548592j\n",
            "  -210.29906943  -357.85181443j -2366.82367016  -909.74502726j\n",
            "  1059.2907911  -3489.68169028j  3312.0476391   -337.88077825j\n",
            "  2813.63372348 +2457.36436449j  -850.18419129 +5788.51248279j\n",
            " -9480.13851167 +1549.89213738j -3175.07412411-14542.65392496j]\n"
          ]
        }
      ],
      "source": [
        "print(dataset[0])\n",
        "print(encoded_dataset[0])"
      ]
    },
    {
      "cell_type": "code",
      "execution_count": null,
      "metadata": {
        "id": "QPJOcCXk39Rs"
      },
      "outputs": [],
      "source": [
        "X_real = np.real(encoded_dataset).astype(np.float32)\n",
        "X_imag = np.imag(encoded_dataset).astype(np.float32)"
      ]
    },
    {
      "cell_type": "code",
      "execution_count": null,
      "metadata": {
        "colab": {
          "base_uri": "https://localhost:8080/"
        },
        "id": "23brJMGr39Rt",
        "outputId": "bc8b5973-bfd2-403d-bb40-a3d97ea16239"
      },
      "outputs": [
        {
          "output_type": "stream",
          "name": "stdout",
          "text": [
            "x_real_min:   -25398.395\n",
            "x_real_max:   37088.72\n",
            "x_imag_min:   -32553.318\n",
            "x_imag_max:   32553.318\n"
          ]
        }
      ],
      "source": [
        "print(\"x_real_min:  \", np.min(X_real))\n",
        "print(\"x_real_max:  \", np.max(X_real))\n",
        "print(\"x_imag_min:  \", np.min(X_imag))\n",
        "print(\"x_imag_max:  \", np.max(X_imag))"
      ]
    },
    {
      "cell_type": "code",
      "execution_count": null,
      "metadata": {
        "id": "E5goI5TM39Rt"
      },
      "outputs": [],
      "source": [
        "# mean_real = np.mean(X_real, axis=0)\n",
        "# std_real = np.std(X_real, axis=0) + 1e-8  # Avoid division by zero\n",
        "# X_real = (X_real - mean_real) / std_real\n",
        "\n",
        "# mean_imag = np.mean(X_imag, axis=0)\n",
        "# std_imag = np.std(X_imag, axis=0) + 1e-8\n",
        "# X_imag = (X_imag - mean_imag) / std_imag"
      ]
    },
    {
      "cell_type": "code",
      "execution_count": null,
      "metadata": {
        "colab": {
          "base_uri": "https://localhost:8080/"
        },
        "id": "sT2gZEvW39Ru",
        "outputId": "63f6774a-a888-49fe-ff05-cbaf0f3d58d4"
      },
      "outputs": [
        {
          "output_type": "stream",
          "name": "stdout",
          "text": [
            "x_real_min:   -25398.395\n",
            "x_real_max:   37088.72\n",
            "x_imag_min:   -32553.318\n",
            "x_imag_max:   32553.318\n"
          ]
        }
      ],
      "source": [
        "print(\"x_real_min:  \", np.min(X_real))\n",
        "print(\"x_real_max:  \", np.max(X_real))\n",
        "print(\"x_imag_min:  \", np.min(X_imag))\n",
        "print(\"x_imag_max:  \", np.max(X_imag))"
      ]
    },
    {
      "cell_type": "code",
      "execution_count": null,
      "metadata": {
        "colab": {
          "base_uri": "https://localhost:8080/"
        },
        "id": "_lVbrpj839Ru",
        "outputId": "8bed4515-dba1-4f98-b837-e81ff6cc11d0"
      },
      "outputs": [
        {
          "output_type": "stream",
          "name": "stdout",
          "text": [
            "\n",
            "X_train : (1000, 64)\n",
            "[ 18563.6      -3175.0742   -9480.139     -850.1842    2813.6338\n",
            "   3312.0476    1059.2908   -2366.8237    -210.29907  -3878.0764\n",
            "    -49.25037   6901.7197    2896.763    -6714.833    -5496.2886\n",
            "   2828.2422    6446.942     2828.2422   -5496.2886   -6714.833\n",
            "   2896.763     6901.7197     -49.25037  -3878.0764    -210.29907\n",
            "  -2366.8237    1059.2908    3312.0476    2813.6338    -850.1842\n",
            "  -9480.139    -3175.0742       0.       14542.654    -1549.8921\n",
            "  -5788.5127   -2457.3643     337.88077   3489.6816     909.74506\n",
            "    357.8518     373.95547  -6370.3257   -1088.5939    7252.4336\n",
            "   4427.906    -5330.4326   -6162.1787      -0.        6162.1787\n",
            "   5330.4326   -4427.906    -7252.4336    1088.5939    6370.3257\n",
            "   -373.95547   -357.8518    -909.74506  -3489.6816    -337.88077\n",
            "   2457.3643    5788.5127    1549.8921  -14542.654  ]\n"
          ]
        }
      ],
      "source": [
        "X_real_imag = np.hstack([X_real, X_imag])\n",
        "\n",
        "print(\"\\nX_train :\", X_real_imag.shape)\n",
        "print(X_real_imag[0])"
      ]
    },
    {
      "cell_type": "code",
      "execution_count": null,
      "metadata": {
        "colab": {
          "base_uri": "https://localhost:8080/"
        },
        "id": "3nU7yUWL39Rv",
        "outputId": "02b4c861-90bd-4bcb-adf0-e5b2e998d2c4"
      },
      "outputs": [
        {
          "output_type": "stream",
          "name": "stdout",
          "text": [
            "y: \n",
            "[6. 3. 4. 6. 2. 4. 4. 6. 1. 2. 6. 2. 2. 4. 3. 2. 5. 4. 1. 3. 5. 5. 1. 3.\n",
            " 4. 0. 3. 0. 0. 0. 0. 0.]\n",
            "\n",
            "y_normalized: \n",
            "[1.         0.5        0.6666667  1.         0.33333334 0.6666667\n",
            " 0.6666667  1.         0.16666667 0.33333334 1.         0.33333334\n",
            " 0.33333334 0.6666667  0.5        0.33333334 0.8333333  0.6666667\n",
            " 0.16666667 0.5        0.8333333  0.8333333  0.16666667 0.5\n",
            " 0.6666667  0.         0.5        0.         0.         0.\n",
            " 0.         0.        ]\n"
          ]
        }
      ],
      "source": [
        "# normalize target data (integers 0-q to [0, 1])\n",
        "y = dataset.astype(np.float32)\n",
        "# y[:, :r] = 0\n",
        "y_normalized = y / (q - 1)  # Scale to [0, 1]\n",
        "\n",
        "labels = y_normalized\n",
        "\n",
        "\n",
        "print(\"y: \")\n",
        "print(y[0])\n",
        "print(\"\\ny_normalized: \")\n",
        "print(y_normalized[0])"
      ]
    },
    {
      "cell_type": "code",
      "execution_count": null,
      "metadata": {
        "id": "PbiB8Mja39Rv"
      },
      "outputs": [],
      "source": [
        "from sklearn.model_selection import train_test_split\n",
        "\n",
        "\n",
        "x_train, x_test, y_train, y_test = train_test_split(\n",
        "    X_real_imag, labels, test_size=0.2, random_state=42\n",
        ")"
      ]
    },
    {
      "cell_type": "code",
      "source": [
        "print(f\"x_train shape: {x_train.shape}, y_train shape: {y_train.shape}\")\n",
        "print(f\"x_test shape: {x_test.shape}, y_test shape: {y_test.shape}\")"
      ],
      "metadata": {
        "colab": {
          "base_uri": "https://localhost:8080/"
        },
        "id": "jwlQQc2e4dpU",
        "outputId": "bce7e023-4363-4949-beb8-006c96c11b61"
      },
      "execution_count": null,
      "outputs": [
        {
          "output_type": "stream",
          "name": "stdout",
          "text": [
            "x_train shape: (800, 64), y_train shape: (800, 32)\n",
            "x_test shape: (200, 64), y_test shape: (200, 32)\n"
          ]
        }
      ]
    },
    {
      "cell_type": "code",
      "source": [
        "x_train = (x_train - x_train.mean()) / x_train.std()\n",
        "x_test = (x_test - x_test.mean()) / x_test.std()"
      ],
      "metadata": {
        "id": "uCGdGit64gyc"
      },
      "execution_count": null,
      "outputs": []
    },
    {
      "cell_type": "code",
      "execution_count": null,
      "metadata": {
        "colab": {
          "base_uri": "https://localhost:8080/"
        },
        "id": "SemgHF5b39Rv",
        "outputId": "ed6fa270-c780-4d4d-fd67-76fa7592c47d"
      },
      "outputs": [
        {
          "output_type": "stream",
          "name": "stdout",
          "text": [
            "64\n",
            "32\n"
          ]
        }
      ],
      "source": [
        "input_dim = x_train.shape[1]\n",
        "output_dim = y_train.shape[1]\n",
        "print(input_dim)\n",
        "print(output_dim)"
      ]
    },
    {
      "cell_type": "markdown",
      "metadata": {
        "id": "q6pk994M39Rw"
      },
      "source": [
        "Compile Model"
      ]
    },
    {
      "cell_type": "code",
      "source": [
        "def custom_accuracy(y_true, y_pred):\n",
        "    y_true_int = tf.cast(y_true*(q-1), tf.int32)\n",
        "    y_pred_int = tf.cast(tf.round(y_pred*(q-1)), tf.int32)\n",
        "    correct = tf.cast(tf.equal(y_true_int, y_pred_int), tf.float32)\n",
        "    return tf.reduce_mean(correct)\n",
        "\n",
        "# accuracy function that does not consider the padding\n",
        "def custom_accuracy_without_padding(y_true, y_pred):\n",
        "    y_true_int = tf.cast(y_true * (q - 1), tf.int32)\n",
        "    y_pred_int = tf.cast(tf.round(y_pred * (q - 1)), tf.int32)\n",
        "    mask = tf.concat(\n",
        "        [tf.ones((tf.shape(y_true)[0], n), dtype=tf.float32),\n",
        "         tf.zeros((tf.shape(y_true)[0], n_padded - n), dtype=tf.float32)],\n",
        "        axis=1\n",
        "    )\n",
        "    correct = tf.cast(tf.equal(y_true_int, y_pred_int), tf.float32) * mask\n",
        "    return tf.reduce_sum(correct) / tf.reduce_sum(mask)\n",
        "\n",
        "def custom_mse(y_true, y_pred):\n",
        "    y_true = tf.cast(y_true, tf.float32)\n",
        "    y_pred = tf.cast(y_pred, tf.float32)\n",
        "    return tf.reduce_mean(tf.square(tf.cast(y_true - y_pred, tf.float32)))"
      ],
      "metadata": {
        "id": "kCbO2XUz4sjf"
      },
      "execution_count": null,
      "outputs": []
    },
    {
      "cell_type": "code",
      "execution_count": null,
      "metadata": {
        "colab": {
          "base_uri": "https://localhost:8080/",
          "height": 257
        },
        "id": "_u1Z1KLg39Rw",
        "outputId": "61875e05-1d4c-4990-a162-3a6d37da4760"
      },
      "outputs": [
        {
          "output_type": "display_data",
          "data": {
            "text/plain": [
              "\u001b[1mModel: \"sequential_8\"\u001b[0m\n"
            ],
            "text/html": [
              "<pre style=\"white-space:pre;overflow-x:auto;line-height:normal;font-family:Menlo,'DejaVu Sans Mono',consolas,'Courier New',monospace\"><span style=\"font-weight: bold\">Model: \"sequential_8\"</span>\n",
              "</pre>\n"
            ]
          },
          "metadata": {}
        },
        {
          "output_type": "display_data",
          "data": {
            "text/plain": [
              "┏━━━━━━━━━━━━━━━━━━━━━━━━━━━━━━━━━━━━━━┳━━━━━━━━━━━━━━━━━━━━━━━━━━━━━┳━━━━━━━━━━━━━━━━━┓\n",
              "┃\u001b[1m \u001b[0m\u001b[1mLayer (type)                        \u001b[0m\u001b[1m \u001b[0m┃\u001b[1m \u001b[0m\u001b[1mOutput Shape               \u001b[0m\u001b[1m \u001b[0m┃\u001b[1m \u001b[0m\u001b[1m        Param #\u001b[0m\u001b[1m \u001b[0m┃\n",
              "┡━━━━━━━━━━━━━━━━━━━━━━━━━━━━━━━━━━━━━━╇━━━━━━━━━━━━━━━━━━━━━━━━━━━━━╇━━━━━━━━━━━━━━━━━┩\n",
              "│ dense_32 (\u001b[38;5;33mDense\u001b[0m)                     │ (\u001b[38;5;45mNone\u001b[0m, \u001b[38;5;34m32\u001b[0m)                  │           \u001b[38;5;34m2,080\u001b[0m │\n",
              "├──────────────────────────────────────┼─────────────────────────────┼─────────────────┤\n",
              "│ dense_33 (\u001b[38;5;33mDense\u001b[0m)                     │ (\u001b[38;5;45mNone\u001b[0m, \u001b[38;5;34m32\u001b[0m)                  │           \u001b[38;5;34m1,056\u001b[0m │\n",
              "├──────────────────────────────────────┼─────────────────────────────┼─────────────────┤\n",
              "│ dense_34 (\u001b[38;5;33mDense\u001b[0m)                     │ (\u001b[38;5;45mNone\u001b[0m, \u001b[38;5;34m32\u001b[0m)                  │           \u001b[38;5;34m1,056\u001b[0m │\n",
              "├──────────────────────────────────────┼─────────────────────────────┼─────────────────┤\n",
              "│ dense_35 (\u001b[38;5;33mDense\u001b[0m)                     │ (\u001b[38;5;45mNone\u001b[0m, \u001b[38;5;34m32\u001b[0m)                  │           \u001b[38;5;34m1,056\u001b[0m │\n",
              "└──────────────────────────────────────┴─────────────────────────────┴─────────────────┘\n"
            ],
            "text/html": [
              "<pre style=\"white-space:pre;overflow-x:auto;line-height:normal;font-family:Menlo,'DejaVu Sans Mono',consolas,'Courier New',monospace\">┏━━━━━━━━━━━━━━━━━━━━━━━━━━━━━━━━━━━━━━┳━━━━━━━━━━━━━━━━━━━━━━━━━━━━━┳━━━━━━━━━━━━━━━━━┓\n",
              "┃<span style=\"font-weight: bold\"> Layer (type)                         </span>┃<span style=\"font-weight: bold\"> Output Shape                </span>┃<span style=\"font-weight: bold\">         Param # </span>┃\n",
              "┡━━━━━━━━━━━━━━━━━━━━━━━━━━━━━━━━━━━━━━╇━━━━━━━━━━━━━━━━━━━━━━━━━━━━━╇━━━━━━━━━━━━━━━━━┩\n",
              "│ dense_32 (<span style=\"color: #0087ff; text-decoration-color: #0087ff\">Dense</span>)                     │ (<span style=\"color: #00d7ff; text-decoration-color: #00d7ff\">None</span>, <span style=\"color: #00af00; text-decoration-color: #00af00\">32</span>)                  │           <span style=\"color: #00af00; text-decoration-color: #00af00\">2,080</span> │\n",
              "├──────────────────────────────────────┼─────────────────────────────┼─────────────────┤\n",
              "│ dense_33 (<span style=\"color: #0087ff; text-decoration-color: #0087ff\">Dense</span>)                     │ (<span style=\"color: #00d7ff; text-decoration-color: #00d7ff\">None</span>, <span style=\"color: #00af00; text-decoration-color: #00af00\">32</span>)                  │           <span style=\"color: #00af00; text-decoration-color: #00af00\">1,056</span> │\n",
              "├──────────────────────────────────────┼─────────────────────────────┼─────────────────┤\n",
              "│ dense_34 (<span style=\"color: #0087ff; text-decoration-color: #0087ff\">Dense</span>)                     │ (<span style=\"color: #00d7ff; text-decoration-color: #00d7ff\">None</span>, <span style=\"color: #00af00; text-decoration-color: #00af00\">32</span>)                  │           <span style=\"color: #00af00; text-decoration-color: #00af00\">1,056</span> │\n",
              "├──────────────────────────────────────┼─────────────────────────────┼─────────────────┤\n",
              "│ dense_35 (<span style=\"color: #0087ff; text-decoration-color: #0087ff\">Dense</span>)                     │ (<span style=\"color: #00d7ff; text-decoration-color: #00d7ff\">None</span>, <span style=\"color: #00af00; text-decoration-color: #00af00\">32</span>)                  │           <span style=\"color: #00af00; text-decoration-color: #00af00\">1,056</span> │\n",
              "└──────────────────────────────────────┴─────────────────────────────┴─────────────────┘\n",
              "</pre>\n"
            ]
          },
          "metadata": {}
        },
        {
          "output_type": "display_data",
          "data": {
            "text/plain": [
              "\u001b[1m Total params: \u001b[0m\u001b[38;5;34m5,248\u001b[0m (20.50 KB)\n"
            ],
            "text/html": [
              "<pre style=\"white-space:pre;overflow-x:auto;line-height:normal;font-family:Menlo,'DejaVu Sans Mono',consolas,'Courier New',monospace\"><span style=\"font-weight: bold\"> Total params: </span><span style=\"color: #00af00; text-decoration-color: #00af00\">5,248</span> (20.50 KB)\n",
              "</pre>\n"
            ]
          },
          "metadata": {}
        },
        {
          "output_type": "display_data",
          "data": {
            "text/plain": [
              "\u001b[1m Trainable params: \u001b[0m\u001b[38;5;34m5,248\u001b[0m (20.50 KB)\n"
            ],
            "text/html": [
              "<pre style=\"white-space:pre;overflow-x:auto;line-height:normal;font-family:Menlo,'DejaVu Sans Mono',consolas,'Courier New',monospace\"><span style=\"font-weight: bold\"> Trainable params: </span><span style=\"color: #00af00; text-decoration-color: #00af00\">5,248</span> (20.50 KB)\n",
              "</pre>\n"
            ]
          },
          "metadata": {}
        },
        {
          "output_type": "display_data",
          "data": {
            "text/plain": [
              "\u001b[1m Non-trainable params: \u001b[0m\u001b[38;5;34m0\u001b[0m (0.00 B)\n"
            ],
            "text/html": [
              "<pre style=\"white-space:pre;overflow-x:auto;line-height:normal;font-family:Menlo,'DejaVu Sans Mono',consolas,'Courier New',monospace\"><span style=\"font-weight: bold\"> Non-trainable params: </span><span style=\"color: #00af00; text-decoration-color: #00af00\">0</span> (0.00 B)\n",
              "</pre>\n"
            ]
          },
          "metadata": {}
        }
      ],
      "source": [
        "def simple_NN(input_dim, output_dim, activation='relu'):\n",
        "    model = Sequential([\n",
        "        Input(shape=(input_dim,)),\n",
        "        Dense(n_padded, activation=activation),\n",
        "        Dense(n_padded, activation=activation),\n",
        "        Dense(n_padded, activation=activation),\n",
        "        Dense(output_dim, activation='linear')  # Linear activation for regression\n",
        "    ])\n",
        "\n",
        "    model.compile(\n",
        "        optimizer=Adam(learning_rate=0.001),\n",
        "        loss=custom_mse,\n",
        "        metrics=[custom_mse, custom_accuracy_without_padding]\n",
        "    )\n",
        "    return model\n",
        "\n",
        "\n",
        "input_dim = x_train.shape[1]\n",
        "output_dim = y_train.shape[1]\n",
        "activation = LeakyReLU(negative_slope=0.1) #leaky_relu #relu\n",
        "model = simple_NN(input_dim, output_dim, activation=activation)\n",
        "model.summary()"
      ]
    },
    {
      "cell_type": "markdown",
      "metadata": {
        "id": "q6g-bbZY39Rw"
      },
      "source": [
        "Training the NN"
      ]
    },
    {
      "cell_type": "code",
      "execution_count": null,
      "metadata": {
        "id": "r9tBmnFs39Rx"
      },
      "outputs": [],
      "source": [
        "from tensorflow.keras.callbacks import EarlyStopping, ReduceLROnPlateau\n",
        "\n",
        "early_stopping = EarlyStopping(monitor='val_loss', patience=10, restore_best_weights=True)\n",
        "\n",
        "adjust_lr = ReduceLROnPlateau(\n",
        "    monitor='val_loss',\n",
        "    factor=0.5,\n",
        "    patience=5,\n",
        "    min_lr=1e-7,\n",
        "    verbose=1\n",
        ")"
      ]
    },
    {
      "cell_type": "code",
      "execution_count": null,
      "metadata": {
        "colab": {
          "base_uri": "https://localhost:8080/"
        },
        "id": "KHoxqzWu39Rx",
        "outputId": "56b9a0a6-d212-4f2a-eea4-2400967be655"
      },
      "outputs": [
        {
          "output_type": "stream",
          "name": "stdout",
          "text": [
            "Epoch 1/500\n",
            "\u001b[1m25/25\u001b[0m \u001b[32m━━━━━━━━━━━━━━━━━━━━\u001b[0m\u001b[37m\u001b[0m \u001b[1m2s\u001b[0m 14ms/step - custom_accuracy_without_padding: 0.1076 - custom_mse: 0.2949 - loss: 0.2949 - val_custom_accuracy_without_padding: 0.1493 - val_custom_mse: 0.1458 - val_loss: 0.1461 - learning_rate: 0.0010\n",
            "Epoch 2/500\n",
            "\u001b[1m25/25\u001b[0m \u001b[32m━━━━━━━━━━━━━━━━━━━━\u001b[0m\u001b[37m\u001b[0m \u001b[1m0s\u001b[0m 5ms/step - custom_accuracy_without_padding: 0.1447 - custom_mse: 0.1311 - loss: 0.1311 - val_custom_accuracy_without_padding: 0.1452 - val_custom_mse: 0.0996 - val_loss: 0.0994 - learning_rate: 0.0010\n",
            "Epoch 3/500\n",
            "\u001b[1m25/25\u001b[0m \u001b[32m━━━━━━━━━━━━━━━━━━━━\u001b[0m\u001b[37m\u001b[0m \u001b[1m0s\u001b[0m 5ms/step - custom_accuracy_without_padding: 0.1580 - custom_mse: 0.0986 - loss: 0.0986 - val_custom_accuracy_without_padding: 0.1485 - val_custom_mse: 0.0925 - val_loss: 0.0925 - learning_rate: 0.0010\n",
            "Epoch 4/500\n",
            "\u001b[1m25/25\u001b[0m \u001b[32m━━━━━━━━━━━━━━━━━━━━\u001b[0m\u001b[37m\u001b[0m \u001b[1m0s\u001b[0m 6ms/step - custom_accuracy_without_padding: 0.1527 - custom_mse: 0.0946 - loss: 0.0946 - val_custom_accuracy_without_padding: 0.1531 - val_custom_mse: 0.0896 - val_loss: 0.0897 - learning_rate: 0.0010\n",
            "Epoch 5/500\n",
            "\u001b[1m25/25\u001b[0m \u001b[32m━━━━━━━━━━━━━━━━━━━━\u001b[0m\u001b[37m\u001b[0m \u001b[1m0s\u001b[0m 5ms/step - custom_accuracy_without_padding: 0.1556 - custom_mse: 0.0906 - loss: 0.0906 - val_custom_accuracy_without_padding: 0.1543 - val_custom_mse: 0.0877 - val_loss: 0.0875 - learning_rate: 0.0010\n",
            "Epoch 6/500\n",
            "\u001b[1m25/25\u001b[0m \u001b[32m━━━━━━━━━━━━━━━━━━━━\u001b[0m\u001b[37m\u001b[0m \u001b[1m0s\u001b[0m 5ms/step - custom_accuracy_without_padding: 0.1624 - custom_mse: 0.0878 - loss: 0.0878 - val_custom_accuracy_without_padding: 0.1599 - val_custom_mse: 0.0855 - val_loss: 0.0854 - learning_rate: 0.0010\n",
            "Epoch 7/500\n",
            "\u001b[1m25/25\u001b[0m \u001b[32m━━━━━━━━━━━━━━━━━━━━\u001b[0m\u001b[37m\u001b[0m \u001b[1m0s\u001b[0m 5ms/step - custom_accuracy_without_padding: 0.1636 - custom_mse: 0.0868 - loss: 0.0868 - val_custom_accuracy_without_padding: 0.1635 - val_custom_mse: 0.0836 - val_loss: 0.0834 - learning_rate: 0.0010\n",
            "Epoch 8/500\n",
            "\u001b[1m25/25\u001b[0m \u001b[32m━━━━━━━━━━━━━━━━━━━━\u001b[0m\u001b[37m\u001b[0m \u001b[1m0s\u001b[0m 6ms/step - custom_accuracy_without_padding: 0.1674 - custom_mse: 0.0837 - loss: 0.0837 - val_custom_accuracy_without_padding: 0.1700 - val_custom_mse: 0.0817 - val_loss: 0.0814 - learning_rate: 0.0010\n",
            "Epoch 9/500\n",
            "\u001b[1m25/25\u001b[0m \u001b[32m━━━━━━━━━━━━━━━━━━━━\u001b[0m\u001b[37m\u001b[0m \u001b[1m0s\u001b[0m 6ms/step - custom_accuracy_without_padding: 0.1802 - custom_mse: 0.0810 - loss: 0.0810 - val_custom_accuracy_without_padding: 0.1801 - val_custom_mse: 0.0798 - val_loss: 0.0795 - learning_rate: 0.0010\n",
            "Epoch 10/500\n",
            "\u001b[1m25/25\u001b[0m \u001b[32m━━━━━━━━━━━━━━━━━━━━\u001b[0m\u001b[37m\u001b[0m \u001b[1m0s\u001b[0m 6ms/step - custom_accuracy_without_padding: 0.1909 - custom_mse: 0.0796 - loss: 0.0796 - val_custom_accuracy_without_padding: 0.1926 - val_custom_mse: 0.0784 - val_loss: 0.0780 - learning_rate: 0.0010\n",
            "Epoch 11/500\n",
            "\u001b[1m25/25\u001b[0m \u001b[32m━━━━━━━━━━━━━━━━━━━━\u001b[0m\u001b[37m\u001b[0m \u001b[1m0s\u001b[0m 5ms/step - custom_accuracy_without_padding: 0.2014 - custom_mse: 0.0777 - loss: 0.0777 - val_custom_accuracy_without_padding: 0.2002 - val_custom_mse: 0.0767 - val_loss: 0.0764 - learning_rate: 0.0010\n",
            "Epoch 12/500\n",
            "\u001b[1m25/25\u001b[0m \u001b[32m━━━━━━━━━━━━━━━━━━━━\u001b[0m\u001b[37m\u001b[0m \u001b[1m0s\u001b[0m 5ms/step - custom_accuracy_without_padding: 0.2066 - custom_mse: 0.0770 - loss: 0.0770 - val_custom_accuracy_without_padding: 0.2098 - val_custom_mse: 0.0754 - val_loss: 0.0751 - learning_rate: 0.0010\n",
            "Epoch 13/500\n",
            "\u001b[1m25/25\u001b[0m \u001b[32m━━━━━━━━━━━━━━━━━━━━\u001b[0m\u001b[37m\u001b[0m \u001b[1m0s\u001b[0m 5ms/step - custom_accuracy_without_padding: 0.2131 - custom_mse: 0.0759 - loss: 0.0759 - val_custom_accuracy_without_padding: 0.2121 - val_custom_mse: 0.0740 - val_loss: 0.0736 - learning_rate: 0.0010\n",
            "Epoch 14/500\n",
            "\u001b[1m25/25\u001b[0m \u001b[32m━━━━━━━━━━━━━━━━━━━━\u001b[0m\u001b[37m\u001b[0m \u001b[1m0s\u001b[0m 7ms/step - custom_accuracy_without_padding: 0.2321 - custom_mse: 0.0734 - loss: 0.0734 - val_custom_accuracy_without_padding: 0.2154 - val_custom_mse: 0.0726 - val_loss: 0.0724 - learning_rate: 0.0010\n",
            "Epoch 15/500\n",
            "\u001b[1m25/25\u001b[0m \u001b[32m━━━━━━━━━━━━━━━━━━━━\u001b[0m\u001b[37m\u001b[0m \u001b[1m0s\u001b[0m 8ms/step - custom_accuracy_without_padding: 0.2317 - custom_mse: 0.0721 - loss: 0.0721 - val_custom_accuracy_without_padding: 0.2353 - val_custom_mse: 0.0718 - val_loss: 0.0715 - learning_rate: 0.0010\n",
            "Epoch 16/500\n",
            "\u001b[1m25/25\u001b[0m \u001b[32m━━━━━━━━━━━━━━━━━━━━\u001b[0m\u001b[37m\u001b[0m \u001b[1m0s\u001b[0m 8ms/step - custom_accuracy_without_padding: 0.2449 - custom_mse: 0.0707 - loss: 0.0707 - val_custom_accuracy_without_padding: 0.2412 - val_custom_mse: 0.0704 - val_loss: 0.0702 - learning_rate: 0.0010\n",
            "Epoch 17/500\n",
            "\u001b[1m25/25\u001b[0m \u001b[32m━━━━━━━━━━━━━━━━━━━━\u001b[0m\u001b[37m\u001b[0m \u001b[1m0s\u001b[0m 7ms/step - custom_accuracy_without_padding: 0.2579 - custom_mse: 0.0696 - loss: 0.0696 - val_custom_accuracy_without_padding: 0.2521 - val_custom_mse: 0.0693 - val_loss: 0.0692 - learning_rate: 0.0010\n",
            "Epoch 18/500\n",
            "\u001b[1m25/25\u001b[0m \u001b[32m━━━━━━━━━━━━━━━━━━━━\u001b[0m\u001b[37m\u001b[0m \u001b[1m0s\u001b[0m 9ms/step - custom_accuracy_without_padding: 0.2690 - custom_mse: 0.0690 - loss: 0.0690 - val_custom_accuracy_without_padding: 0.2601 - val_custom_mse: 0.0684 - val_loss: 0.0683 - learning_rate: 0.0010\n",
            "Epoch 19/500\n",
            "\u001b[1m25/25\u001b[0m \u001b[32m━━━━━━━━━━━━━━━━━━━━\u001b[0m\u001b[37m\u001b[0m \u001b[1m0s\u001b[0m 9ms/step - custom_accuracy_without_padding: 0.2716 - custom_mse: 0.0685 - loss: 0.0685 - val_custom_accuracy_without_padding: 0.2710 - val_custom_mse: 0.0677 - val_loss: 0.0677 - learning_rate: 0.0010\n",
            "Epoch 20/500\n",
            "\u001b[1m25/25\u001b[0m \u001b[32m━━━━━━━━━━━━━━━━━━━━\u001b[0m\u001b[37m\u001b[0m \u001b[1m0s\u001b[0m 9ms/step - custom_accuracy_without_padding: 0.2798 - custom_mse: 0.0672 - loss: 0.0672 - val_custom_accuracy_without_padding: 0.2851 - val_custom_mse: 0.0673 - val_loss: 0.0672 - learning_rate: 0.0010\n",
            "Epoch 21/500\n",
            "\u001b[1m25/25\u001b[0m \u001b[32m━━━━━━━━━━━━━━━━━━━━\u001b[0m\u001b[37m\u001b[0m \u001b[1m0s\u001b[0m 8ms/step - custom_accuracy_without_padding: 0.2896 - custom_mse: 0.0658 - loss: 0.0658 - val_custom_accuracy_without_padding: 0.2910 - val_custom_mse: 0.0663 - val_loss: 0.0663 - learning_rate: 0.0010\n",
            "Epoch 22/500\n",
            "\u001b[1m25/25\u001b[0m \u001b[32m━━━━━━━━━━━━━━━━━━━━\u001b[0m\u001b[37m\u001b[0m \u001b[1m0s\u001b[0m 5ms/step - custom_accuracy_without_padding: 0.3104 - custom_mse: 0.0652 - loss: 0.0652 - val_custom_accuracy_without_padding: 0.3061 - val_custom_mse: 0.0657 - val_loss: 0.0656 - learning_rate: 0.0010\n",
            "Epoch 23/500\n",
            "\u001b[1m25/25\u001b[0m \u001b[32m━━━━━━━━━━━━━━━━━━━━\u001b[0m\u001b[37m\u001b[0m \u001b[1m0s\u001b[0m 5ms/step - custom_accuracy_without_padding: 0.3108 - custom_mse: 0.0646 - loss: 0.0646 - val_custom_accuracy_without_padding: 0.3062 - val_custom_mse: 0.0653 - val_loss: 0.0652 - learning_rate: 0.0010\n",
            "Epoch 24/500\n",
            "\u001b[1m25/25\u001b[0m \u001b[32m━━━━━━━━━━━━━━━━━━━━\u001b[0m\u001b[37m\u001b[0m \u001b[1m0s\u001b[0m 5ms/step - custom_accuracy_without_padding: 0.3140 - custom_mse: 0.0642 - loss: 0.0642 - val_custom_accuracy_without_padding: 0.3137 - val_custom_mse: 0.0650 - val_loss: 0.0649 - learning_rate: 0.0010\n",
            "Epoch 25/500\n",
            "\u001b[1m25/25\u001b[0m \u001b[32m━━━━━━━━━━━━━━━━━━━━\u001b[0m\u001b[37m\u001b[0m \u001b[1m0s\u001b[0m 5ms/step - custom_accuracy_without_padding: 0.3239 - custom_mse: 0.0634 - loss: 0.0634 - val_custom_accuracy_without_padding: 0.3198 - val_custom_mse: 0.0643 - val_loss: 0.0643 - learning_rate: 0.0010\n",
            "Epoch 26/500\n",
            "\u001b[1m25/25\u001b[0m \u001b[32m━━━━━━━━━━━━━━━━━━━━\u001b[0m\u001b[37m\u001b[0m \u001b[1m0s\u001b[0m 6ms/step - custom_accuracy_without_padding: 0.3246 - custom_mse: 0.0635 - loss: 0.0635 - val_custom_accuracy_without_padding: 0.3236 - val_custom_mse: 0.0639 - val_loss: 0.0639 - learning_rate: 0.0010\n",
            "Epoch 27/500\n",
            "\u001b[1m25/25\u001b[0m \u001b[32m━━━━━━━━━━━━━━━━━━━━\u001b[0m\u001b[37m\u001b[0m \u001b[1m0s\u001b[0m 5ms/step - custom_accuracy_without_padding: 0.3278 - custom_mse: 0.0623 - loss: 0.0623 - val_custom_accuracy_without_padding: 0.3198 - val_custom_mse: 0.0640 - val_loss: 0.0639 - learning_rate: 0.0010\n",
            "Epoch 28/500\n",
            "\u001b[1m25/25\u001b[0m \u001b[32m━━━━━━━━━━━━━━━━━━━━\u001b[0m\u001b[37m\u001b[0m \u001b[1m0s\u001b[0m 6ms/step - custom_accuracy_without_padding: 0.3308 - custom_mse: 0.0626 - loss: 0.0626 - val_custom_accuracy_without_padding: 0.3330 - val_custom_mse: 0.0635 - val_loss: 0.0632 - learning_rate: 0.0010\n",
            "Epoch 29/500\n",
            "\u001b[1m25/25\u001b[0m \u001b[32m━━━━━━━━━━━━━━━━━━━━\u001b[0m\u001b[37m\u001b[0m \u001b[1m0s\u001b[0m 5ms/step - custom_accuracy_without_padding: 0.3330 - custom_mse: 0.0627 - loss: 0.0627 - val_custom_accuracy_without_padding: 0.3236 - val_custom_mse: 0.0630 - val_loss: 0.0629 - learning_rate: 0.0010\n",
            "Epoch 30/500\n",
            "\u001b[1m25/25\u001b[0m \u001b[32m━━━━━━━━━━━━━━━━━━━━\u001b[0m\u001b[37m\u001b[0m \u001b[1m0s\u001b[0m 5ms/step - custom_accuracy_without_padding: 0.3349 - custom_mse: 0.0615 - loss: 0.0615 - val_custom_accuracy_without_padding: 0.3363 - val_custom_mse: 0.0629 - val_loss: 0.0626 - learning_rate: 0.0010\n",
            "Epoch 31/500\n",
            "\u001b[1m25/25\u001b[0m \u001b[32m━━━━━━━━━━━━━━━━━━━━\u001b[0m\u001b[37m\u001b[0m \u001b[1m0s\u001b[0m 5ms/step - custom_accuracy_without_padding: 0.3454 - custom_mse: 0.0609 - loss: 0.0609 - val_custom_accuracy_without_padding: 0.3376 - val_custom_mse: 0.0625 - val_loss: 0.0623 - learning_rate: 0.0010\n",
            "Epoch 32/500\n",
            "\u001b[1m25/25\u001b[0m \u001b[32m━━━━━━━━━━━━━━━━━━━━\u001b[0m\u001b[37m\u001b[0m \u001b[1m0s\u001b[0m 5ms/step - custom_accuracy_without_padding: 0.3413 - custom_mse: 0.0607 - loss: 0.0607 - val_custom_accuracy_without_padding: 0.3323 - val_custom_mse: 0.0622 - val_loss: 0.0620 - learning_rate: 0.0010\n",
            "Epoch 33/500\n",
            "\u001b[1m25/25\u001b[0m \u001b[32m━━━━━━━━━━━━━━━━━━━━\u001b[0m\u001b[37m\u001b[0m \u001b[1m0s\u001b[0m 5ms/step - custom_accuracy_without_padding: 0.3429 - custom_mse: 0.0612 - loss: 0.0612 - val_custom_accuracy_without_padding: 0.3418 - val_custom_mse: 0.0615 - val_loss: 0.0613 - learning_rate: 0.0010\n",
            "Epoch 34/500\n",
            "\u001b[1m25/25\u001b[0m \u001b[32m━━━━━━━━━━━━━━━━━━━━\u001b[0m\u001b[37m\u001b[0m \u001b[1m0s\u001b[0m 5ms/step - custom_accuracy_without_padding: 0.3581 - custom_mse: 0.0601 - loss: 0.0601 - val_custom_accuracy_without_padding: 0.3390 - val_custom_mse: 0.0618 - val_loss: 0.0617 - learning_rate: 0.0010\n",
            "Epoch 35/500\n",
            "\u001b[1m25/25\u001b[0m \u001b[32m━━━━━━━━━━━━━━━━━━━━\u001b[0m\u001b[37m\u001b[0m \u001b[1m0s\u001b[0m 5ms/step - custom_accuracy_without_padding: 0.3439 - custom_mse: 0.0595 - loss: 0.0595 - val_custom_accuracy_without_padding: 0.3482 - val_custom_mse: 0.0611 - val_loss: 0.0610 - learning_rate: 0.0010\n",
            "Epoch 36/500\n",
            "\u001b[1m25/25\u001b[0m \u001b[32m━━━━━━━━━━━━━━━━━━━━\u001b[0m\u001b[37m\u001b[0m \u001b[1m0s\u001b[0m 6ms/step - custom_accuracy_without_padding: 0.3539 - custom_mse: 0.0585 - loss: 0.0585 - val_custom_accuracy_without_padding: 0.3585 - val_custom_mse: 0.0605 - val_loss: 0.0603 - learning_rate: 0.0010\n",
            "Epoch 37/500\n",
            "\u001b[1m25/25\u001b[0m \u001b[32m━━━━━━━━━━━━━━━━━━━━\u001b[0m\u001b[37m\u001b[0m \u001b[1m0s\u001b[0m 5ms/step - custom_accuracy_without_padding: 0.3665 - custom_mse: 0.0586 - loss: 0.0586 - val_custom_accuracy_without_padding: 0.3528 - val_custom_mse: 0.0606 - val_loss: 0.0603 - learning_rate: 0.0010\n",
            "Epoch 38/500\n",
            "\u001b[1m25/25\u001b[0m \u001b[32m━━━━━━━━━━━━━━━━━━━━\u001b[0m\u001b[37m\u001b[0m \u001b[1m0s\u001b[0m 5ms/step - custom_accuracy_without_padding: 0.3653 - custom_mse: 0.0589 - loss: 0.0589 - val_custom_accuracy_without_padding: 0.3763 - val_custom_mse: 0.0598 - val_loss: 0.0596 - learning_rate: 0.0010\n",
            "Epoch 39/500\n",
            "\u001b[1m25/25\u001b[0m \u001b[32m━━━━━━━━━━━━━━━━━━━━\u001b[0m\u001b[37m\u001b[0m \u001b[1m0s\u001b[0m 5ms/step - custom_accuracy_without_padding: 0.3817 - custom_mse: 0.0584 - loss: 0.0584 - val_custom_accuracy_without_padding: 0.3788 - val_custom_mse: 0.0595 - val_loss: 0.0592 - learning_rate: 0.0010\n",
            "Epoch 40/500\n",
            "\u001b[1m25/25\u001b[0m \u001b[32m━━━━━━━━━━━━━━━━━━━━\u001b[0m\u001b[37m\u001b[0m \u001b[1m0s\u001b[0m 5ms/step - custom_accuracy_without_padding: 0.3856 - custom_mse: 0.0579 - loss: 0.0579 - val_custom_accuracy_without_padding: 0.3712 - val_custom_mse: 0.0591 - val_loss: 0.0589 - learning_rate: 0.0010\n",
            "Epoch 41/500\n",
            "\u001b[1m25/25\u001b[0m \u001b[32m━━━━━━━━━━━━━━━━━━━━\u001b[0m\u001b[37m\u001b[0m \u001b[1m0s\u001b[0m 6ms/step - custom_accuracy_without_padding: 0.3914 - custom_mse: 0.0569 - loss: 0.0569 - val_custom_accuracy_without_padding: 0.3816 - val_custom_mse: 0.0586 - val_loss: 0.0585 - learning_rate: 0.0010\n",
            "Epoch 42/500\n",
            "\u001b[1m25/25\u001b[0m \u001b[32m━━━━━━━━━━━━━━━━━━━━\u001b[0m\u001b[37m\u001b[0m \u001b[1m0s\u001b[0m 6ms/step - custom_accuracy_without_padding: 0.3929 - custom_mse: 0.0567 - loss: 0.0567 - val_custom_accuracy_without_padding: 0.3975 - val_custom_mse: 0.0584 - val_loss: 0.0583 - learning_rate: 0.0010\n",
            "Epoch 43/500\n",
            "\u001b[1m25/25\u001b[0m \u001b[32m━━━━━━━━━━━━━━━━━━━━\u001b[0m\u001b[37m\u001b[0m \u001b[1m0s\u001b[0m 5ms/step - custom_accuracy_without_padding: 0.4022 - custom_mse: 0.0571 - loss: 0.0571 - val_custom_accuracy_without_padding: 0.3943 - val_custom_mse: 0.0584 - val_loss: 0.0582 - learning_rate: 0.0010\n",
            "Epoch 44/500\n",
            "\u001b[1m25/25\u001b[0m \u001b[32m━━━━━━━━━━━━━━━━━━━━\u001b[0m\u001b[37m\u001b[0m \u001b[1m0s\u001b[0m 5ms/step - custom_accuracy_without_padding: 0.4054 - custom_mse: 0.0561 - loss: 0.0561 - val_custom_accuracy_without_padding: 0.4031 - val_custom_mse: 0.0576 - val_loss: 0.0575 - learning_rate: 0.0010\n",
            "Epoch 45/500\n",
            "\u001b[1m25/25\u001b[0m \u001b[32m━━━━━━━━━━━━━━━━━━━━\u001b[0m\u001b[37m\u001b[0m \u001b[1m0s\u001b[0m 5ms/step - custom_accuracy_without_padding: 0.4084 - custom_mse: 0.0560 - loss: 0.0560 - val_custom_accuracy_without_padding: 0.4120 - val_custom_mse: 0.0574 - val_loss: 0.0572 - learning_rate: 0.0010\n",
            "Epoch 46/500\n",
            "\u001b[1m25/25\u001b[0m \u001b[32m━━━━━━━━━━━━━━━━━━━━\u001b[0m\u001b[37m\u001b[0m \u001b[1m0s\u001b[0m 5ms/step - custom_accuracy_without_padding: 0.4213 - custom_mse: 0.0561 - loss: 0.0561 - val_custom_accuracy_without_padding: 0.4077 - val_custom_mse: 0.0573 - val_loss: 0.0571 - learning_rate: 0.0010\n",
            "Epoch 47/500\n",
            "\u001b[1m25/25\u001b[0m \u001b[32m━━━━━━━━━━━━━━━━━━━━\u001b[0m\u001b[37m\u001b[0m \u001b[1m0s\u001b[0m 5ms/step - custom_accuracy_without_padding: 0.4210 - custom_mse: 0.0562 - loss: 0.0562 - val_custom_accuracy_without_padding: 0.4177 - val_custom_mse: 0.0571 - val_loss: 0.0569 - learning_rate: 0.0010\n",
            "Epoch 48/500\n",
            "\u001b[1m25/25\u001b[0m \u001b[32m━━━━━━━━━━━━━━━━━━━━\u001b[0m\u001b[37m\u001b[0m \u001b[1m0s\u001b[0m 6ms/step - custom_accuracy_without_padding: 0.4305 - custom_mse: 0.0542 - loss: 0.0542 - val_custom_accuracy_without_padding: 0.4011 - val_custom_mse: 0.0577 - val_loss: 0.0576 - learning_rate: 0.0010\n",
            "Epoch 49/500\n",
            "\u001b[1m25/25\u001b[0m \u001b[32m━━━━━━━━━━━━━━━━━━━━\u001b[0m\u001b[37m\u001b[0m \u001b[1m0s\u001b[0m 5ms/step - custom_accuracy_without_padding: 0.4249 - custom_mse: 0.0551 - loss: 0.0551 - val_custom_accuracy_without_padding: 0.4228 - val_custom_mse: 0.0568 - val_loss: 0.0565 - learning_rate: 0.0010\n",
            "Epoch 50/500\n",
            "\u001b[1m25/25\u001b[0m \u001b[32m━━━━━━━━━━━━━━━━━━━━\u001b[0m\u001b[37m\u001b[0m \u001b[1m0s\u001b[0m 5ms/step - custom_accuracy_without_padding: 0.4328 - custom_mse: 0.0547 - loss: 0.0547 - val_custom_accuracy_without_padding: 0.4297 - val_custom_mse: 0.0567 - val_loss: 0.0565 - learning_rate: 0.0010\n",
            "Epoch 51/500\n",
            "\u001b[1m25/25\u001b[0m \u001b[32m━━━━━━━━━━━━━━━━━━━━\u001b[0m\u001b[37m\u001b[0m \u001b[1m0s\u001b[0m 5ms/step - custom_accuracy_without_padding: 0.4348 - custom_mse: 0.0545 - loss: 0.0545 - val_custom_accuracy_without_padding: 0.4261 - val_custom_mse: 0.0568 - val_loss: 0.0566 - learning_rate: 0.0010\n",
            "Epoch 52/500\n",
            "\u001b[1m25/25\u001b[0m \u001b[32m━━━━━━━━━━━━━━━━━━━━\u001b[0m\u001b[37m\u001b[0m \u001b[1m0s\u001b[0m 5ms/step - custom_accuracy_without_padding: 0.4284 - custom_mse: 0.0555 - loss: 0.0555 - val_custom_accuracy_without_padding: 0.4238 - val_custom_mse: 0.0569 - val_loss: 0.0566 - learning_rate: 0.0010\n",
            "Epoch 53/500\n",
            "\u001b[1m25/25\u001b[0m \u001b[32m━━━━━━━━━━━━━━━━━━━━\u001b[0m\u001b[37m\u001b[0m \u001b[1m0s\u001b[0m 6ms/step - custom_accuracy_without_padding: 0.4383 - custom_mse: 0.0542 - loss: 0.0542 - val_custom_accuracy_without_padding: 0.4282 - val_custom_mse: 0.0563 - val_loss: 0.0562 - learning_rate: 0.0010\n",
            "Epoch 54/500\n",
            "\u001b[1m25/25\u001b[0m \u001b[32m━━━━━━━━━━━━━━━━━━━━\u001b[0m\u001b[37m\u001b[0m \u001b[1m0s\u001b[0m 5ms/step - custom_accuracy_without_padding: 0.4427 - custom_mse: 0.0544 - loss: 0.0544 - val_custom_accuracy_without_padding: 0.4243 - val_custom_mse: 0.0564 - val_loss: 0.0562 - learning_rate: 0.0010\n",
            "Epoch 55/500\n",
            "\u001b[1m25/25\u001b[0m \u001b[32m━━━━━━━━━━━━━━━━━━━━\u001b[0m\u001b[37m\u001b[0m \u001b[1m0s\u001b[0m 5ms/step - custom_accuracy_without_padding: 0.4429 - custom_mse: 0.0540 - loss: 0.0540 - val_custom_accuracy_without_padding: 0.4332 - val_custom_mse: 0.0561 - val_loss: 0.0559 - learning_rate: 0.0010\n",
            "Epoch 56/500\n",
            "\u001b[1m25/25\u001b[0m \u001b[32m━━━━━━━━━━━━━━━━━━━━\u001b[0m\u001b[37m\u001b[0m \u001b[1m0s\u001b[0m 5ms/step - custom_accuracy_without_padding: 0.4414 - custom_mse: 0.0539 - loss: 0.0539 - val_custom_accuracy_without_padding: 0.4362 - val_custom_mse: 0.0564 - val_loss: 0.0562 - learning_rate: 0.0010\n",
            "Epoch 57/500\n",
            "\u001b[1m25/25\u001b[0m \u001b[32m━━━━━━━━━━━━━━━━━━━━\u001b[0m\u001b[37m\u001b[0m \u001b[1m0s\u001b[0m 5ms/step - custom_accuracy_without_padding: 0.4543 - custom_mse: 0.0528 - loss: 0.0528 - val_custom_accuracy_without_padding: 0.4317 - val_custom_mse: 0.0559 - val_loss: 0.0557 - learning_rate: 0.0010\n",
            "Epoch 58/500\n",
            "\u001b[1m25/25\u001b[0m \u001b[32m━━━━━━━━━━━━━━━━━━━━\u001b[0m\u001b[37m\u001b[0m \u001b[1m0s\u001b[0m 6ms/step - custom_accuracy_without_padding: 0.4417 - custom_mse: 0.0539 - loss: 0.0539 - val_custom_accuracy_without_padding: 0.4287 - val_custom_mse: 0.0558 - val_loss: 0.0556 - learning_rate: 0.0010\n",
            "Epoch 59/500\n",
            "\u001b[1m25/25\u001b[0m \u001b[32m━━━━━━━━━━━━━━━━━━━━\u001b[0m\u001b[37m\u001b[0m \u001b[1m0s\u001b[0m 5ms/step - custom_accuracy_without_padding: 0.4469 - custom_mse: 0.0539 - loss: 0.0539 - val_custom_accuracy_without_padding: 0.4294 - val_custom_mse: 0.0555 - val_loss: 0.0553 - learning_rate: 0.0010\n",
            "Epoch 60/500\n",
            "\u001b[1m25/25\u001b[0m \u001b[32m━━━━━━━━━━━━━━━━━━━━\u001b[0m\u001b[37m\u001b[0m \u001b[1m0s\u001b[0m 5ms/step - custom_accuracy_without_padding: 0.4475 - custom_mse: 0.0538 - loss: 0.0538 - val_custom_accuracy_without_padding: 0.4322 - val_custom_mse: 0.0557 - val_loss: 0.0555 - learning_rate: 0.0010\n",
            "Epoch 61/500\n",
            "\u001b[1m25/25\u001b[0m \u001b[32m━━━━━━━━━━━━━━━━━━━━\u001b[0m\u001b[37m\u001b[0m \u001b[1m0s\u001b[0m 5ms/step - custom_accuracy_without_padding: 0.4470 - custom_mse: 0.0538 - loss: 0.0538 - val_custom_accuracy_without_padding: 0.4504 - val_custom_mse: 0.0555 - val_loss: 0.0553 - learning_rate: 0.0010\n",
            "Epoch 62/500\n",
            "\u001b[1m25/25\u001b[0m \u001b[32m━━━━━━━━━━━━━━━━━━━━\u001b[0m\u001b[37m\u001b[0m \u001b[1m0s\u001b[0m 6ms/step - custom_accuracy_without_padding: 0.4536 - custom_mse: 0.0535 - loss: 0.0535 - val_custom_accuracy_without_padding: 0.4406 - val_custom_mse: 0.0552 - val_loss: 0.0550 - learning_rate: 0.0010\n",
            "Epoch 63/500\n",
            "\u001b[1m25/25\u001b[0m \u001b[32m━━━━━━━━━━━━━━━━━━━━\u001b[0m\u001b[37m\u001b[0m \u001b[1m0s\u001b[0m 5ms/step - custom_accuracy_without_padding: 0.4563 - custom_mse: 0.0534 - loss: 0.0534 - val_custom_accuracy_without_padding: 0.4330 - val_custom_mse: 0.0552 - val_loss: 0.0550 - learning_rate: 0.0010\n",
            "Epoch 64/500\n",
            "\u001b[1m25/25\u001b[0m \u001b[32m━━━━━━━━━━━━━━━━━━━━\u001b[0m\u001b[37m\u001b[0m \u001b[1m0s\u001b[0m 5ms/step - custom_accuracy_without_padding: 0.4581 - custom_mse: 0.0529 - loss: 0.0529 - val_custom_accuracy_without_padding: 0.4451 - val_custom_mse: 0.0555 - val_loss: 0.0553 - learning_rate: 0.0010\n",
            "Epoch 65/500\n",
            "\u001b[1m25/25\u001b[0m \u001b[32m━━━━━━━━━━━━━━━━━━━━\u001b[0m\u001b[37m\u001b[0m \u001b[1m0s\u001b[0m 5ms/step - custom_accuracy_without_padding: 0.4614 - custom_mse: 0.0519 - loss: 0.0519 - val_custom_accuracy_without_padding: 0.4582 - val_custom_mse: 0.0550 - val_loss: 0.0548 - learning_rate: 0.0010\n",
            "Epoch 66/500\n",
            "\u001b[1m25/25\u001b[0m \u001b[32m━━━━━━━━━━━━━━━━━━━━\u001b[0m\u001b[37m\u001b[0m \u001b[1m0s\u001b[0m 5ms/step - custom_accuracy_without_padding: 0.4657 - custom_mse: 0.0522 - loss: 0.0522 - val_custom_accuracy_without_padding: 0.4491 - val_custom_mse: 0.0548 - val_loss: 0.0546 - learning_rate: 0.0010\n",
            "Epoch 67/500\n",
            "\u001b[1m25/25\u001b[0m \u001b[32m━━━━━━━━━━━━━━━━━━━━\u001b[0m\u001b[37m\u001b[0m \u001b[1m0s\u001b[0m 6ms/step - custom_accuracy_without_padding: 0.4600 - custom_mse: 0.0528 - loss: 0.0528 - val_custom_accuracy_without_padding: 0.4547 - val_custom_mse: 0.0546 - val_loss: 0.0543 - learning_rate: 0.0010\n",
            "Epoch 68/500\n",
            "\u001b[1m25/25\u001b[0m \u001b[32m━━━━━━━━━━━━━━━━━━━━\u001b[0m\u001b[37m\u001b[0m \u001b[1m0s\u001b[0m 5ms/step - custom_accuracy_without_padding: 0.4601 - custom_mse: 0.0531 - loss: 0.0531 - val_custom_accuracy_without_padding: 0.4537 - val_custom_mse: 0.0546 - val_loss: 0.0544 - learning_rate: 0.0010\n",
            "Epoch 69/500\n",
            "\u001b[1m25/25\u001b[0m \u001b[32m━━━━━━━━━━━━━━━━━━━━\u001b[0m\u001b[37m\u001b[0m \u001b[1m0s\u001b[0m 7ms/step - custom_accuracy_without_padding: 0.4690 - custom_mse: 0.0527 - loss: 0.0527 - val_custom_accuracy_without_padding: 0.4532 - val_custom_mse: 0.0543 - val_loss: 0.0541 - learning_rate: 0.0010\n",
            "Epoch 70/500\n",
            "\u001b[1m25/25\u001b[0m \u001b[32m━━━━━━━━━━━━━━━━━━━━\u001b[0m\u001b[37m\u001b[0m \u001b[1m0s\u001b[0m 5ms/step - custom_accuracy_without_padding: 0.4674 - custom_mse: 0.0527 - loss: 0.0527 - val_custom_accuracy_without_padding: 0.4486 - val_custom_mse: 0.0542 - val_loss: 0.0540 - learning_rate: 0.0010\n",
            "Epoch 71/500\n",
            "\u001b[1m25/25\u001b[0m \u001b[32m━━━━━━━━━━━━━━━━━━━━\u001b[0m\u001b[37m\u001b[0m \u001b[1m0s\u001b[0m 7ms/step - custom_accuracy_without_padding: 0.4655 - custom_mse: 0.0524 - loss: 0.0524 - val_custom_accuracy_without_padding: 0.4365 - val_custom_mse: 0.0551 - val_loss: 0.0549 - learning_rate: 0.0010\n",
            "Epoch 72/500\n",
            "\u001b[1m25/25\u001b[0m \u001b[32m━━━━━━━━━━━━━━━━━━━━\u001b[0m\u001b[37m\u001b[0m \u001b[1m0s\u001b[0m 8ms/step - custom_accuracy_without_padding: 0.4629 - custom_mse: 0.0518 - loss: 0.0518 - val_custom_accuracy_without_padding: 0.4436 - val_custom_mse: 0.0545 - val_loss: 0.0543 - learning_rate: 0.0010\n",
            "Epoch 73/500\n",
            "\u001b[1m25/25\u001b[0m \u001b[32m━━━━━━━━━━━━━━━━━━━━\u001b[0m\u001b[37m\u001b[0m \u001b[1m0s\u001b[0m 7ms/step - custom_accuracy_without_padding: 0.4625 - custom_mse: 0.0525 - loss: 0.0525 - val_custom_accuracy_without_padding: 0.4575 - val_custom_mse: 0.0544 - val_loss: 0.0541 - learning_rate: 0.0010\n",
            "Epoch 74/500\n",
            "\u001b[1m25/25\u001b[0m \u001b[32m━━━━━━━━━━━━━━━━━━━━\u001b[0m\u001b[37m\u001b[0m \u001b[1m0s\u001b[0m 10ms/step - custom_accuracy_without_padding: 0.4588 - custom_mse: 0.0523 - loss: 0.0523 - val_custom_accuracy_without_padding: 0.4521 - val_custom_mse: 0.0543 - val_loss: 0.0540 - learning_rate: 0.0010\n",
            "Epoch 75/500\n",
            "\u001b[1m25/25\u001b[0m \u001b[32m━━━━━━━━━━━━━━━━━━━━\u001b[0m\u001b[37m\u001b[0m \u001b[1m0s\u001b[0m 7ms/step - custom_accuracy_without_padding: 0.4669 - custom_mse: 0.0524 - loss: 0.0524 - val_custom_accuracy_without_padding: 0.4525 - val_custom_mse: 0.0540 - val_loss: 0.0537 - learning_rate: 0.0010\n",
            "Epoch 76/500\n",
            "\u001b[1m25/25\u001b[0m \u001b[32m━━━━━━━━━━━━━━━━━━━━\u001b[0m\u001b[37m\u001b[0m \u001b[1m0s\u001b[0m 9ms/step - custom_accuracy_without_padding: 0.4739 - custom_mse: 0.0520 - loss: 0.0520 - val_custom_accuracy_without_padding: 0.4575 - val_custom_mse: 0.0539 - val_loss: 0.0537 - learning_rate: 0.0010\n",
            "Epoch 77/500\n",
            "\u001b[1m25/25\u001b[0m \u001b[32m━━━━━━━━━━━━━━━━━━━━\u001b[0m\u001b[37m\u001b[0m \u001b[1m0s\u001b[0m 9ms/step - custom_accuracy_without_padding: 0.4723 - custom_mse: 0.0516 - loss: 0.0516 - val_custom_accuracy_without_padding: 0.4646 - val_custom_mse: 0.0537 - val_loss: 0.0534 - learning_rate: 0.0010\n",
            "Epoch 78/500\n",
            "\u001b[1m25/25\u001b[0m \u001b[32m━━━━━━━━━━━━━━━━━━━━\u001b[0m\u001b[37m\u001b[0m \u001b[1m0s\u001b[0m 8ms/step - custom_accuracy_without_padding: 0.4785 - custom_mse: 0.0513 - loss: 0.0513 - val_custom_accuracy_without_padding: 0.4583 - val_custom_mse: 0.0535 - val_loss: 0.0533 - learning_rate: 0.0010\n",
            "Epoch 79/500\n",
            "\u001b[1m25/25\u001b[0m \u001b[32m━━━━━━━━━━━━━━━━━━━━\u001b[0m\u001b[37m\u001b[0m \u001b[1m0s\u001b[0m 9ms/step - custom_accuracy_without_padding: 0.4708 - custom_mse: 0.0517 - loss: 0.0517 - val_custom_accuracy_without_padding: 0.4661 - val_custom_mse: 0.0533 - val_loss: 0.0529 - learning_rate: 0.0010\n",
            "Epoch 80/500\n",
            "\u001b[1m25/25\u001b[0m \u001b[32m━━━━━━━━━━━━━━━━━━━━\u001b[0m\u001b[37m\u001b[0m \u001b[1m0s\u001b[0m 5ms/step - custom_accuracy_without_padding: 0.4841 - custom_mse: 0.0509 - loss: 0.0509 - val_custom_accuracy_without_padding: 0.4613 - val_custom_mse: 0.0536 - val_loss: 0.0534 - learning_rate: 0.0010\n",
            "Epoch 81/500\n",
            "\u001b[1m25/25\u001b[0m \u001b[32m━━━━━━━━━━━━━━━━━━━━\u001b[0m\u001b[37m\u001b[0m \u001b[1m0s\u001b[0m 4ms/step - custom_accuracy_without_padding: 0.4775 - custom_mse: 0.0515 - loss: 0.0515 - val_custom_accuracy_without_padding: 0.4641 - val_custom_mse: 0.0535 - val_loss: 0.0532 - learning_rate: 0.0010\n",
            "Epoch 82/500\n",
            "\u001b[1m25/25\u001b[0m \u001b[32m━━━━━━━━━━━━━━━━━━━━\u001b[0m\u001b[37m\u001b[0m \u001b[1m0s\u001b[0m 5ms/step - custom_accuracy_without_padding: 0.4652 - custom_mse: 0.0514 - loss: 0.0514 - val_custom_accuracy_without_padding: 0.4603 - val_custom_mse: 0.0536 - val_loss: 0.0533 - learning_rate: 0.0010\n",
            "Epoch 83/500\n",
            "\u001b[1m25/25\u001b[0m \u001b[32m━━━━━━━━━━━━━━━━━━━━\u001b[0m\u001b[37m\u001b[0m \u001b[1m0s\u001b[0m 5ms/step - custom_accuracy_without_padding: 0.4748 - custom_mse: 0.0509 - loss: 0.0509 - val_custom_accuracy_without_padding: 0.4721 - val_custom_mse: 0.0527 - val_loss: 0.0524 - learning_rate: 0.0010\n",
            "Epoch 84/500\n",
            "\u001b[1m25/25\u001b[0m \u001b[32m━━━━━━━━━━━━━━━━━━━━\u001b[0m\u001b[37m\u001b[0m \u001b[1m0s\u001b[0m 5ms/step - custom_accuracy_without_padding: 0.4755 - custom_mse: 0.0502 - loss: 0.0502 - val_custom_accuracy_without_padding: 0.4633 - val_custom_mse: 0.0524 - val_loss: 0.0522 - learning_rate: 0.0010\n",
            "Epoch 85/500\n",
            "\u001b[1m25/25\u001b[0m \u001b[32m━━━━━━━━━━━━━━━━━━━━\u001b[0m\u001b[37m\u001b[0m \u001b[1m0s\u001b[0m 5ms/step - custom_accuracy_without_padding: 0.4728 - custom_mse: 0.0510 - loss: 0.0510 - val_custom_accuracy_without_padding: 0.4656 - val_custom_mse: 0.0523 - val_loss: 0.0520 - learning_rate: 0.0010\n",
            "Epoch 86/500\n",
            "\u001b[1m25/25\u001b[0m \u001b[32m━━━━━━━━━━━━━━━━━━━━\u001b[0m\u001b[37m\u001b[0m \u001b[1m0s\u001b[0m 5ms/step - custom_accuracy_without_padding: 0.4815 - custom_mse: 0.0507 - loss: 0.0507 - val_custom_accuracy_without_padding: 0.4689 - val_custom_mse: 0.0527 - val_loss: 0.0524 - learning_rate: 0.0010\n",
            "Epoch 87/500\n",
            "\u001b[1m25/25\u001b[0m \u001b[32m━━━━━━━━━━━━━━━━━━━━\u001b[0m\u001b[37m\u001b[0m \u001b[1m0s\u001b[0m 5ms/step - custom_accuracy_without_padding: 0.4869 - custom_mse: 0.0494 - loss: 0.0494 - val_custom_accuracy_without_padding: 0.4688 - val_custom_mse: 0.0520 - val_loss: 0.0517 - learning_rate: 0.0010\n",
            "Epoch 88/500\n",
            "\u001b[1m25/25\u001b[0m \u001b[32m━━━━━━━━━━━━━━━━━━━━\u001b[0m\u001b[37m\u001b[0m \u001b[1m0s\u001b[0m 5ms/step - custom_accuracy_without_padding: 0.4889 - custom_mse: 0.0505 - loss: 0.0505 - val_custom_accuracy_without_padding: 0.4732 - val_custom_mse: 0.0520 - val_loss: 0.0516 - learning_rate: 0.0010\n",
            "Epoch 89/500\n",
            "\u001b[1m25/25\u001b[0m \u001b[32m━━━━━━━━━━━━━━━━━━━━\u001b[0m\u001b[37m\u001b[0m \u001b[1m0s\u001b[0m 6ms/step - custom_accuracy_without_padding: 0.4905 - custom_mse: 0.0489 - loss: 0.0489 - val_custom_accuracy_without_padding: 0.4663 - val_custom_mse: 0.0519 - val_loss: 0.0516 - learning_rate: 0.0010\n",
            "Epoch 90/500\n",
            "\u001b[1m25/25\u001b[0m \u001b[32m━━━━━━━━━━━━━━━━━━━━\u001b[0m\u001b[37m\u001b[0m \u001b[1m0s\u001b[0m 5ms/step - custom_accuracy_without_padding: 0.4920 - custom_mse: 0.0495 - loss: 0.0495 - val_custom_accuracy_without_padding: 0.4805 - val_custom_mse: 0.0519 - val_loss: 0.0517 - learning_rate: 0.0010\n",
            "Epoch 91/500\n",
            "\u001b[1m25/25\u001b[0m \u001b[32m━━━━━━━━━━━━━━━━━━━━\u001b[0m\u001b[37m\u001b[0m \u001b[1m0s\u001b[0m 5ms/step - custom_accuracy_without_padding: 0.4938 - custom_mse: 0.0493 - loss: 0.0493 - val_custom_accuracy_without_padding: 0.4717 - val_custom_mse: 0.0517 - val_loss: 0.0514 - learning_rate: 0.0010\n",
            "Epoch 92/500\n",
            "\u001b[1m25/25\u001b[0m \u001b[32m━━━━━━━━━━━━━━━━━━━━\u001b[0m\u001b[37m\u001b[0m \u001b[1m0s\u001b[0m 5ms/step - custom_accuracy_without_padding: 0.4890 - custom_mse: 0.0488 - loss: 0.0488 - val_custom_accuracy_without_padding: 0.4848 - val_custom_mse: 0.0514 - val_loss: 0.0511 - learning_rate: 0.0010\n",
            "Epoch 93/500\n",
            "\u001b[1m25/25\u001b[0m \u001b[32m━━━━━━━━━━━━━━━━━━━━\u001b[0m\u001b[37m\u001b[0m \u001b[1m0s\u001b[0m 5ms/step - custom_accuracy_without_padding: 0.4965 - custom_mse: 0.0490 - loss: 0.0490 - val_custom_accuracy_without_padding: 0.4845 - val_custom_mse: 0.0513 - val_loss: 0.0509 - learning_rate: 0.0010\n",
            "Epoch 94/500\n",
            "\u001b[1m25/25\u001b[0m \u001b[32m━━━━━━━━━━━━━━━━━━━━\u001b[0m\u001b[37m\u001b[0m \u001b[1m0s\u001b[0m 6ms/step - custom_accuracy_without_padding: 0.4994 - custom_mse: 0.0484 - loss: 0.0484 - val_custom_accuracy_without_padding: 0.4797 - val_custom_mse: 0.0514 - val_loss: 0.0511 - learning_rate: 0.0010\n",
            "Epoch 95/500\n",
            "\u001b[1m25/25\u001b[0m \u001b[32m━━━━━━━━━━━━━━━━━━━━\u001b[0m\u001b[37m\u001b[0m \u001b[1m0s\u001b[0m 5ms/step - custom_accuracy_without_padding: 0.4927 - custom_mse: 0.0484 - loss: 0.0484 - val_custom_accuracy_without_padding: 0.4897 - val_custom_mse: 0.0508 - val_loss: 0.0506 - learning_rate: 0.0010\n",
            "Epoch 96/500\n",
            "\u001b[1m25/25\u001b[0m \u001b[32m━━━━━━━━━━━━━━━━━━━━\u001b[0m\u001b[37m\u001b[0m \u001b[1m0s\u001b[0m 5ms/step - custom_accuracy_without_padding: 0.5040 - custom_mse: 0.0480 - loss: 0.0480 - val_custom_accuracy_without_padding: 0.4840 - val_custom_mse: 0.0511 - val_loss: 0.0508 - learning_rate: 0.0010\n",
            "Epoch 97/500\n",
            "\u001b[1m25/25\u001b[0m \u001b[32m━━━━━━━━━━━━━━━━━━━━\u001b[0m\u001b[37m\u001b[0m \u001b[1m0s\u001b[0m 5ms/step - custom_accuracy_without_padding: 0.5010 - custom_mse: 0.0482 - loss: 0.0482 - val_custom_accuracy_without_padding: 0.4845 - val_custom_mse: 0.0507 - val_loss: 0.0504 - learning_rate: 0.0010\n",
            "Epoch 98/500\n",
            "\u001b[1m25/25\u001b[0m \u001b[32m━━━━━━━━━━━━━━━━━━━━\u001b[0m\u001b[37m\u001b[0m \u001b[1m0s\u001b[0m 5ms/step - custom_accuracy_without_padding: 0.4980 - custom_mse: 0.0483 - loss: 0.0483 - val_custom_accuracy_without_padding: 0.4873 - val_custom_mse: 0.0507 - val_loss: 0.0503 - learning_rate: 0.0010\n",
            "Epoch 99/500\n",
            "\u001b[1m25/25\u001b[0m \u001b[32m━━━━━━━━━━━━━━━━━━━━\u001b[0m\u001b[37m\u001b[0m \u001b[1m0s\u001b[0m 5ms/step - custom_accuracy_without_padding: 0.5049 - custom_mse: 0.0477 - loss: 0.0477 - val_custom_accuracy_without_padding: 0.4840 - val_custom_mse: 0.0510 - val_loss: 0.0506 - learning_rate: 0.0010\n",
            "Epoch 100/500\n",
            "\u001b[1m25/25\u001b[0m \u001b[32m━━━━━━━━━━━━━━━━━━━━\u001b[0m\u001b[37m\u001b[0m \u001b[1m0s\u001b[0m 5ms/step - custom_accuracy_without_padding: 0.5015 - custom_mse: 0.0475 - loss: 0.0475 - val_custom_accuracy_without_padding: 0.4931 - val_custom_mse: 0.0505 - val_loss: 0.0501 - learning_rate: 0.0010\n",
            "Epoch 101/500\n",
            "\u001b[1m25/25\u001b[0m \u001b[32m━━━━━━━━━━━━━━━━━━━━\u001b[0m\u001b[37m\u001b[0m \u001b[1m0s\u001b[0m 7ms/step - custom_accuracy_without_padding: 0.4997 - custom_mse: 0.0478 - loss: 0.0478 - val_custom_accuracy_without_padding: 0.4864 - val_custom_mse: 0.0503 - val_loss: 0.0500 - learning_rate: 0.0010\n",
            "Epoch 102/500\n",
            "\u001b[1m25/25\u001b[0m \u001b[32m━━━━━━━━━━━━━━━━━━━━\u001b[0m\u001b[37m\u001b[0m \u001b[1m0s\u001b[0m 6ms/step - custom_accuracy_without_padding: 0.5004 - custom_mse: 0.0479 - loss: 0.0479 - val_custom_accuracy_without_padding: 0.4924 - val_custom_mse: 0.0503 - val_loss: 0.0500 - learning_rate: 0.0010\n",
            "Epoch 103/500\n",
            "\u001b[1m25/25\u001b[0m \u001b[32m━━━━━━━━━━━━━━━━━━━━\u001b[0m\u001b[37m\u001b[0m \u001b[1m0s\u001b[0m 5ms/step - custom_accuracy_without_padding: 0.5026 - custom_mse: 0.0479 - loss: 0.0479 - val_custom_accuracy_without_padding: 0.4950 - val_custom_mse: 0.0501 - val_loss: 0.0498 - learning_rate: 0.0010\n",
            "Epoch 104/500\n",
            "\u001b[1m25/25\u001b[0m \u001b[32m━━━━━━━━━━━━━━━━━━━━\u001b[0m\u001b[37m\u001b[0m \u001b[1m0s\u001b[0m 5ms/step - custom_accuracy_without_padding: 0.5024 - custom_mse: 0.0474 - loss: 0.0474 - val_custom_accuracy_without_padding: 0.4780 - val_custom_mse: 0.0503 - val_loss: 0.0499 - learning_rate: 0.0010\n",
            "Epoch 105/500\n",
            "\u001b[1m25/25\u001b[0m \u001b[32m━━━━━━━━━━━━━━━━━━━━\u001b[0m\u001b[37m\u001b[0m \u001b[1m0s\u001b[0m 5ms/step - custom_accuracy_without_padding: 0.4929 - custom_mse: 0.0475 - loss: 0.0475 - val_custom_accuracy_without_padding: 0.4861 - val_custom_mse: 0.0502 - val_loss: 0.0500 - learning_rate: 0.0010\n",
            "Epoch 106/500\n",
            "\u001b[1m25/25\u001b[0m \u001b[32m━━━━━━━━━━━━━━━━━━━━\u001b[0m\u001b[37m\u001b[0m \u001b[1m0s\u001b[0m 5ms/step - custom_accuracy_without_padding: 0.4956 - custom_mse: 0.0467 - loss: 0.0467 - val_custom_accuracy_without_padding: 0.4843 - val_custom_mse: 0.0500 - val_loss: 0.0496 - learning_rate: 0.0010\n",
            "Epoch 107/500\n",
            "\u001b[1m25/25\u001b[0m \u001b[32m━━━━━━━━━━━━━━━━━━━━\u001b[0m\u001b[37m\u001b[0m \u001b[1m0s\u001b[0m 5ms/step - custom_accuracy_without_padding: 0.5080 - custom_mse: 0.0464 - loss: 0.0464 - val_custom_accuracy_without_padding: 0.4988 - val_custom_mse: 0.0495 - val_loss: 0.0492 - learning_rate: 0.0010\n",
            "Epoch 108/500\n",
            "\u001b[1m25/25\u001b[0m \u001b[32m━━━━━━━━━━━━━━━━━━━━\u001b[0m\u001b[37m\u001b[0m \u001b[1m0s\u001b[0m 5ms/step - custom_accuracy_without_padding: 0.5116 - custom_mse: 0.0471 - loss: 0.0471 - val_custom_accuracy_without_padding: 0.5013 - val_custom_mse: 0.0498 - val_loss: 0.0494 - learning_rate: 0.0010\n",
            "Epoch 109/500\n",
            "\u001b[1m25/25\u001b[0m \u001b[32m━━━━━━━━━━━━━━━━━━━━\u001b[0m\u001b[37m\u001b[0m \u001b[1m0s\u001b[0m 5ms/step - custom_accuracy_without_padding: 0.5073 - custom_mse: 0.0466 - loss: 0.0466 - val_custom_accuracy_without_padding: 0.4826 - val_custom_mse: 0.0495 - val_loss: 0.0493 - learning_rate: 0.0010\n",
            "Epoch 110/500\n",
            "\u001b[1m25/25\u001b[0m \u001b[32m━━━━━━━━━━━━━━━━━━━━\u001b[0m\u001b[37m\u001b[0m \u001b[1m0s\u001b[0m 5ms/step - custom_accuracy_without_padding: 0.5062 - custom_mse: 0.0469 - loss: 0.0469 - val_custom_accuracy_without_padding: 0.5076 - val_custom_mse: 0.0490 - val_loss: 0.0489 - learning_rate: 0.0010\n",
            "Epoch 111/500\n",
            "\u001b[1m25/25\u001b[0m \u001b[32m━━━━━━━━━━━━━━━━━━━━\u001b[0m\u001b[37m\u001b[0m \u001b[1m0s\u001b[0m 5ms/step - custom_accuracy_without_padding: 0.5090 - custom_mse: 0.0467 - loss: 0.0467 - val_custom_accuracy_without_padding: 0.4990 - val_custom_mse: 0.0496 - val_loss: 0.0491 - learning_rate: 0.0010\n",
            "Epoch 112/500\n",
            "\u001b[1m25/25\u001b[0m \u001b[32m━━━━━━━━━━━━━━━━━━━━\u001b[0m\u001b[37m\u001b[0m \u001b[1m0s\u001b[0m 5ms/step - custom_accuracy_without_padding: 0.5080 - custom_mse: 0.0464 - loss: 0.0464 - val_custom_accuracy_without_padding: 0.5025 - val_custom_mse: 0.0491 - val_loss: 0.0487 - learning_rate: 0.0010\n",
            "Epoch 113/500\n",
            "\u001b[1m25/25\u001b[0m \u001b[32m━━━━━━━━━━━━━━━━━━━━\u001b[0m\u001b[37m\u001b[0m \u001b[1m0s\u001b[0m 5ms/step - custom_accuracy_without_padding: 0.5135 - custom_mse: 0.0459 - loss: 0.0459 - val_custom_accuracy_without_padding: 0.5086 - val_custom_mse: 0.0490 - val_loss: 0.0487 - learning_rate: 0.0010\n",
            "Epoch 114/500\n",
            "\u001b[1m25/25\u001b[0m \u001b[32m━━━━━━━━━━━━━━━━━━━━\u001b[0m\u001b[37m\u001b[0m \u001b[1m0s\u001b[0m 6ms/step - custom_accuracy_without_padding: 0.5138 - custom_mse: 0.0463 - loss: 0.0463 - val_custom_accuracy_without_padding: 0.4977 - val_custom_mse: 0.0491 - val_loss: 0.0488 - learning_rate: 0.0010\n",
            "Epoch 115/500\n",
            "\u001b[1m25/25\u001b[0m \u001b[32m━━━━━━━━━━━━━━━━━━━━\u001b[0m\u001b[37m\u001b[0m \u001b[1m0s\u001b[0m 5ms/step - custom_accuracy_without_padding: 0.5160 - custom_mse: 0.0465 - loss: 0.0465 - val_custom_accuracy_without_padding: 0.5147 - val_custom_mse: 0.0486 - val_loss: 0.0483 - learning_rate: 0.0010\n",
            "Epoch 116/500\n",
            "\u001b[1m25/25\u001b[0m \u001b[32m━━━━━━━━━━━━━━━━━━━━\u001b[0m\u001b[37m\u001b[0m \u001b[1m0s\u001b[0m 5ms/step - custom_accuracy_without_padding: 0.5124 - custom_mse: 0.0461 - loss: 0.0461 - val_custom_accuracy_without_padding: 0.5023 - val_custom_mse: 0.0488 - val_loss: 0.0485 - learning_rate: 0.0010\n",
            "Epoch 117/500\n",
            "\u001b[1m25/25\u001b[0m \u001b[32m━━━━━━━━━━━━━━━━━━━━\u001b[0m\u001b[37m\u001b[0m \u001b[1m0s\u001b[0m 5ms/step - custom_accuracy_without_padding: 0.5222 - custom_mse: 0.0453 - loss: 0.0453 - val_custom_accuracy_without_padding: 0.5028 - val_custom_mse: 0.0488 - val_loss: 0.0485 - learning_rate: 0.0010\n",
            "Epoch 118/500\n",
            "\u001b[1m25/25\u001b[0m \u001b[32m━━━━━━━━━━━━━━━━━━━━\u001b[0m\u001b[37m\u001b[0m \u001b[1m0s\u001b[0m 5ms/step - custom_accuracy_without_padding: 0.5161 - custom_mse: 0.0459 - loss: 0.0459 - val_custom_accuracy_without_padding: 0.5103 - val_custom_mse: 0.0486 - val_loss: 0.0483 - learning_rate: 0.0010\n",
            "Epoch 119/500\n",
            "\u001b[1m25/25\u001b[0m \u001b[32m━━━━━━━━━━━━━━━━━━━━\u001b[0m\u001b[37m\u001b[0m \u001b[1m0s\u001b[0m 5ms/step - custom_accuracy_without_padding: 0.5204 - custom_mse: 0.0462 - loss: 0.0462 - val_custom_accuracy_without_padding: 0.5005 - val_custom_mse: 0.0490 - val_loss: 0.0488 - learning_rate: 0.0010\n",
            "Epoch 120/500\n",
            "\u001b[1m25/25\u001b[0m \u001b[32m━━━━━━━━━━━━━━━━━━━━\u001b[0m\u001b[37m\u001b[0m \u001b[1m0s\u001b[0m 2ms/step - custom_accuracy_without_padding: 0.5213 - custom_mse: 0.0455 - loss: 0.0455 \n",
            "Epoch 120: ReduceLROnPlateau reducing learning rate to 0.0005000000237487257.\n",
            "\u001b[1m25/25\u001b[0m \u001b[32m━━━━━━━━━━━━━━━━━━━━\u001b[0m\u001b[37m\u001b[0m \u001b[1m0s\u001b[0m 6ms/step - custom_accuracy_without_padding: 0.5212 - custom_mse: 0.0456 - loss: 0.0456 - val_custom_accuracy_without_padding: 0.5030 - val_custom_mse: 0.0487 - val_loss: 0.0483 - learning_rate: 0.0010\n",
            "Epoch 121/500\n",
            "\u001b[1m25/25\u001b[0m \u001b[32m━━━━━━━━━━━━━━━━━━━━\u001b[0m\u001b[37m\u001b[0m \u001b[1m0s\u001b[0m 5ms/step - custom_accuracy_without_padding: 0.5214 - custom_mse: 0.0456 - loss: 0.0456 - val_custom_accuracy_without_padding: 0.5061 - val_custom_mse: 0.0481 - val_loss: 0.0479 - learning_rate: 5.0000e-04\n",
            "Epoch 122/500\n",
            "\u001b[1m25/25\u001b[0m \u001b[32m━━━━━━━━━━━━━━━━━━━━\u001b[0m\u001b[37m\u001b[0m \u001b[1m0s\u001b[0m 5ms/step - custom_accuracy_without_padding: 0.5239 - custom_mse: 0.0452 - loss: 0.0452 - val_custom_accuracy_without_padding: 0.5084 - val_custom_mse: 0.0480 - val_loss: 0.0478 - learning_rate: 5.0000e-04\n",
            "Epoch 123/500\n",
            "\u001b[1m25/25\u001b[0m \u001b[32m━━━━━━━━━━━━━━━━━━━━\u001b[0m\u001b[37m\u001b[0m \u001b[1m0s\u001b[0m 6ms/step - custom_accuracy_without_padding: 0.5254 - custom_mse: 0.0447 - loss: 0.0447 - val_custom_accuracy_without_padding: 0.5093 - val_custom_mse: 0.0483 - val_loss: 0.0480 - learning_rate: 5.0000e-04\n",
            "Epoch 124/500\n",
            "\u001b[1m25/25\u001b[0m \u001b[32m━━━━━━━━━━━━━━━━━━━━\u001b[0m\u001b[37m\u001b[0m \u001b[1m0s\u001b[0m 5ms/step - custom_accuracy_without_padding: 0.5263 - custom_mse: 0.0453 - loss: 0.0453 - val_custom_accuracy_without_padding: 0.5167 - val_custom_mse: 0.0480 - val_loss: 0.0478 - learning_rate: 5.0000e-04\n",
            "Epoch 125/500\n",
            "\u001b[1m25/25\u001b[0m \u001b[32m━━━━━━━━━━━━━━━━━━━━\u001b[0m\u001b[37m\u001b[0m \u001b[1m0s\u001b[0m 5ms/step - custom_accuracy_without_padding: 0.5272 - custom_mse: 0.0449 - loss: 0.0449 - val_custom_accuracy_without_padding: 0.5141 - val_custom_mse: 0.0479 - val_loss: 0.0476 - learning_rate: 5.0000e-04\n",
            "Epoch 126/500\n",
            "\u001b[1m25/25\u001b[0m \u001b[32m━━━━━━━━━━━━━━━━━━━━\u001b[0m\u001b[37m\u001b[0m \u001b[1m0s\u001b[0m 7ms/step - custom_accuracy_without_padding: 0.5302 - custom_mse: 0.0452 - loss: 0.0452 - val_custom_accuracy_without_padding: 0.5197 - val_custom_mse: 0.0478 - val_loss: 0.0476 - learning_rate: 5.0000e-04\n",
            "Epoch 127/500\n",
            "\u001b[1m25/25\u001b[0m \u001b[32m━━━━━━━━━━━━━━━━━━━━\u001b[0m\u001b[37m\u001b[0m \u001b[1m0s\u001b[0m 8ms/step - custom_accuracy_without_padding: 0.5304 - custom_mse: 0.0449 - loss: 0.0449 - val_custom_accuracy_without_padding: 0.5233 - val_custom_mse: 0.0480 - val_loss: 0.0478 - learning_rate: 5.0000e-04\n",
            "Epoch 128/500\n",
            "\u001b[1m25/25\u001b[0m \u001b[32m━━━━━━━━━━━━━━━━━━━━\u001b[0m\u001b[37m\u001b[0m \u001b[1m0s\u001b[0m 8ms/step - custom_accuracy_without_padding: 0.5308 - custom_mse: 0.0446 - loss: 0.0446 - val_custom_accuracy_without_padding: 0.5167 - val_custom_mse: 0.0478 - val_loss: 0.0475 - learning_rate: 5.0000e-04\n",
            "Epoch 129/500\n",
            "\u001b[1m25/25\u001b[0m \u001b[32m━━━━━━━━━━━━━━━━━━━━\u001b[0m\u001b[37m\u001b[0m \u001b[1m0s\u001b[0m 8ms/step - custom_accuracy_without_padding: 0.5289 - custom_mse: 0.0450 - loss: 0.0450 - val_custom_accuracy_without_padding: 0.5190 - val_custom_mse: 0.0479 - val_loss: 0.0477 - learning_rate: 5.0000e-04\n",
            "Epoch 130/500\n",
            "\u001b[1m25/25\u001b[0m \u001b[32m━━━━━━━━━━━━━━━━━━━━\u001b[0m\u001b[37m\u001b[0m \u001b[1m0s\u001b[0m 7ms/step - custom_accuracy_without_padding: 0.5296 - custom_mse: 0.0454 - loss: 0.0454 - val_custom_accuracy_without_padding: 0.5233 - val_custom_mse: 0.0477 - val_loss: 0.0475 - learning_rate: 5.0000e-04\n",
            "Epoch 131/500\n",
            "\u001b[1m25/25\u001b[0m \u001b[32m━━━━━━━━━━━━━━━━━━━━\u001b[0m\u001b[37m\u001b[0m \u001b[1m0s\u001b[0m 9ms/step - custom_accuracy_without_padding: 0.5285 - custom_mse: 0.0452 - loss: 0.0452 - val_custom_accuracy_without_padding: 0.5177 - val_custom_mse: 0.0478 - val_loss: 0.0475 - learning_rate: 5.0000e-04\n",
            "Epoch 132/500\n",
            "\u001b[1m25/25\u001b[0m \u001b[32m━━━━━━━━━━━━━━━━━━━━\u001b[0m\u001b[37m\u001b[0m \u001b[1m0s\u001b[0m 8ms/step - custom_accuracy_without_padding: 0.5282 - custom_mse: 0.0448 - loss: 0.0448 - val_custom_accuracy_without_padding: 0.5172 - val_custom_mse: 0.0478 - val_loss: 0.0476 - learning_rate: 5.0000e-04\n",
            "Epoch 133/500\n",
            "\u001b[1m25/25\u001b[0m \u001b[32m━━━━━━━━━━━━━━━━━━━━\u001b[0m\u001b[37m\u001b[0m \u001b[1m0s\u001b[0m 9ms/step - custom_accuracy_without_padding: 0.5342 - custom_mse: 0.0443 - loss: 0.0443 - val_custom_accuracy_without_padding: 0.5187 - val_custom_mse: 0.0476 - val_loss: 0.0474 - learning_rate: 5.0000e-04\n",
            "Epoch 134/500\n",
            "\u001b[1m25/25\u001b[0m \u001b[32m━━━━━━━━━━━━━━━━━━━━\u001b[0m\u001b[37m\u001b[0m \u001b[1m0s\u001b[0m 6ms/step - custom_accuracy_without_padding: 0.5318 - custom_mse: 0.0450 - loss: 0.0450 - val_custom_accuracy_without_padding: 0.5208 - val_custom_mse: 0.0478 - val_loss: 0.0476 - learning_rate: 5.0000e-04\n",
            "Epoch 135/500\n",
            "\u001b[1m25/25\u001b[0m \u001b[32m━━━━━━━━━━━━━━━━━━━━\u001b[0m\u001b[37m\u001b[0m \u001b[1m0s\u001b[0m 5ms/step - custom_accuracy_without_padding: 0.5328 - custom_mse: 0.0446 - loss: 0.0446 - val_custom_accuracy_without_padding: 0.5198 - val_custom_mse: 0.0475 - val_loss: 0.0473 - learning_rate: 5.0000e-04\n",
            "Epoch 136/500\n",
            "\u001b[1m25/25\u001b[0m \u001b[32m━━━━━━━━━━━━━━━━━━━━\u001b[0m\u001b[37m\u001b[0m \u001b[1m0s\u001b[0m 5ms/step - custom_accuracy_without_padding: 0.5318 - custom_mse: 0.0445 - loss: 0.0445 - val_custom_accuracy_without_padding: 0.5235 - val_custom_mse: 0.0478 - val_loss: 0.0476 - learning_rate: 5.0000e-04\n",
            "Epoch 137/500\n",
            "\u001b[1m25/25\u001b[0m \u001b[32m━━━━━━━━━━━━━━━━━━━━\u001b[0m\u001b[37m\u001b[0m \u001b[1m0s\u001b[0m 7ms/step - custom_accuracy_without_padding: 0.5306 - custom_mse: 0.0452 - loss: 0.0452 - val_custom_accuracy_without_padding: 0.5238 - val_custom_mse: 0.0475 - val_loss: 0.0473 - learning_rate: 5.0000e-04\n",
            "Epoch 138/500\n",
            "\u001b[1m25/25\u001b[0m \u001b[32m━━━━━━━━━━━━━━━━━━━━\u001b[0m\u001b[37m\u001b[0m \u001b[1m0s\u001b[0m 5ms/step - custom_accuracy_without_padding: 0.5383 - custom_mse: 0.0445 - loss: 0.0445 - val_custom_accuracy_without_padding: 0.5268 - val_custom_mse: 0.0476 - val_loss: 0.0474 - learning_rate: 5.0000e-04\n",
            "Epoch 139/500\n",
            "\u001b[1m25/25\u001b[0m \u001b[32m━━━━━━━━━━━━━━━━━━━━\u001b[0m\u001b[37m\u001b[0m \u001b[1m0s\u001b[0m 7ms/step - custom_accuracy_without_padding: 0.5383 - custom_mse: 0.0444 - loss: 0.0444 - val_custom_accuracy_without_padding: 0.5261 - val_custom_mse: 0.0475 - val_loss: 0.0474 - learning_rate: 5.0000e-04\n",
            "Epoch 140/500\n",
            "\u001b[1m25/25\u001b[0m \u001b[32m━━━━━━━━━━━━━━━━━━━━\u001b[0m\u001b[37m\u001b[0m \u001b[1m0s\u001b[0m 5ms/step - custom_accuracy_without_padding: 0.5337 - custom_mse: 0.0451 - loss: 0.0451 - val_custom_accuracy_without_padding: 0.5248 - val_custom_mse: 0.0474 - val_loss: 0.0472 - learning_rate: 5.0000e-04\n",
            "Epoch 141/500\n",
            "\u001b[1m25/25\u001b[0m \u001b[32m━━━━━━━━━━━━━━━━━━━━\u001b[0m\u001b[37m\u001b[0m \u001b[1m0s\u001b[0m 5ms/step - custom_accuracy_without_padding: 0.5331 - custom_mse: 0.0452 - loss: 0.0452 - val_custom_accuracy_without_padding: 0.5243 - val_custom_mse: 0.0476 - val_loss: 0.0474 - learning_rate: 5.0000e-04\n",
            "Epoch 142/500\n",
            "\u001b[1m 1/25\u001b[0m \u001b[37m━━━━━━━━━━━━━━━━━━━━\u001b[0m \u001b[1m0s\u001b[0m 33ms/step - custom_accuracy_without_padding: 0.5405 - custom_mse: 0.0474 - loss: 0.0474\n",
            "Epoch 142: ReduceLROnPlateau reducing learning rate to 0.0002500000118743628.\n",
            "\u001b[1m25/25\u001b[0m \u001b[32m━━━━━━━━━━━━━━━━━━━━\u001b[0m\u001b[37m\u001b[0m \u001b[1m0s\u001b[0m 5ms/step - custom_accuracy_without_padding: 0.5317 - custom_mse: 0.0445 - loss: 0.0445 - val_custom_accuracy_without_padding: 0.5235 - val_custom_mse: 0.0474 - val_loss: 0.0473 - learning_rate: 5.0000e-04\n",
            "Epoch 143/500\n",
            "\u001b[1m25/25\u001b[0m \u001b[32m━━━━━━━━━━━━━━━━━━━━\u001b[0m\u001b[37m\u001b[0m \u001b[1m0s\u001b[0m 5ms/step - custom_accuracy_without_padding: 0.5375 - custom_mse: 0.0451 - loss: 0.0451 - val_custom_accuracy_without_padding: 0.5288 - val_custom_mse: 0.0474 - val_loss: 0.0472 - learning_rate: 2.5000e-04\n",
            "Epoch 144/500\n",
            "\u001b[1m25/25\u001b[0m \u001b[32m━━━━━━━━━━━━━━━━━━━━\u001b[0m\u001b[37m\u001b[0m \u001b[1m0s\u001b[0m 5ms/step - custom_accuracy_without_padding: 0.5395 - custom_mse: 0.0440 - loss: 0.0440 - val_custom_accuracy_without_padding: 0.5265 - val_custom_mse: 0.0472 - val_loss: 0.0470 - learning_rate: 2.5000e-04\n",
            "Epoch 145/500\n",
            "\u001b[1m25/25\u001b[0m \u001b[32m━━━━━━━━━━━━━━━━━━━━\u001b[0m\u001b[37m\u001b[0m \u001b[1m0s\u001b[0m 6ms/step - custom_accuracy_without_padding: 0.5322 - custom_mse: 0.0452 - loss: 0.0452 - val_custom_accuracy_without_padding: 0.5284 - val_custom_mse: 0.0474 - val_loss: 0.0472 - learning_rate: 2.5000e-04\n",
            "Epoch 146/500\n",
            "\u001b[1m25/25\u001b[0m \u001b[32m━━━━━━━━━━━━━━━━━━━━\u001b[0m\u001b[37m\u001b[0m \u001b[1m0s\u001b[0m 5ms/step - custom_accuracy_without_padding: 0.5367 - custom_mse: 0.0445 - loss: 0.0445 - val_custom_accuracy_without_padding: 0.5260 - val_custom_mse: 0.0472 - val_loss: 0.0471 - learning_rate: 2.5000e-04\n",
            "Epoch 147/500\n",
            "\u001b[1m25/25\u001b[0m \u001b[32m━━━━━━━━━━━━━━━━━━━━\u001b[0m\u001b[37m\u001b[0m \u001b[1m0s\u001b[0m 5ms/step - custom_accuracy_without_padding: 0.5407 - custom_mse: 0.0441 - loss: 0.0441 - val_custom_accuracy_without_padding: 0.5281 - val_custom_mse: 0.0472 - val_loss: 0.0471 - learning_rate: 2.5000e-04\n",
            "Epoch 148/500\n",
            "\u001b[1m25/25\u001b[0m \u001b[32m━━━━━━━━━━━━━━━━━━━━\u001b[0m\u001b[37m\u001b[0m \u001b[1m0s\u001b[0m 5ms/step - custom_accuracy_without_padding: 0.5412 - custom_mse: 0.0439 - loss: 0.0439 - val_custom_accuracy_without_padding: 0.5276 - val_custom_mse: 0.0473 - val_loss: 0.0470 - learning_rate: 2.5000e-04\n",
            "Epoch 149/500\n",
            "\u001b[1m 1/25\u001b[0m \u001b[37m━━━━━━━━━━━━━━━━━━━━\u001b[0m \u001b[1m4s\u001b[0m 183ms/step - custom_accuracy_without_padding: 0.5301 - custom_mse: 0.0442 - loss: 0.0442\n",
            "Epoch 149: ReduceLROnPlateau reducing learning rate to 0.0001250000059371814.\n",
            "\u001b[1m25/25\u001b[0m \u001b[32m━━━━━━━━━━━━━━━━━━━━\u001b[0m\u001b[37m\u001b[0m \u001b[1m0s\u001b[0m 5ms/step - custom_accuracy_without_padding: 0.5414 - custom_mse: 0.0442 - loss: 0.0442 - val_custom_accuracy_without_padding: 0.5266 - val_custom_mse: 0.0472 - val_loss: 0.0471 - learning_rate: 2.5000e-04\n",
            "Epoch 150/500\n",
            "\u001b[1m25/25\u001b[0m \u001b[32m━━━━━━━━━━━━━━━━━━━━\u001b[0m\u001b[37m\u001b[0m \u001b[1m0s\u001b[0m 5ms/step - custom_accuracy_without_padding: 0.5376 - custom_mse: 0.0445 - loss: 0.0445 - val_custom_accuracy_without_padding: 0.5308 - val_custom_mse: 0.0472 - val_loss: 0.0470 - learning_rate: 1.2500e-04\n",
            "Epoch 151/500\n",
            "\u001b[1m25/25\u001b[0m \u001b[32m━━━━━━━━━━━━━━━━━━━━\u001b[0m\u001b[37m\u001b[0m \u001b[1m0s\u001b[0m 5ms/step - custom_accuracy_without_padding: 0.5405 - custom_mse: 0.0442 - loss: 0.0442 - val_custom_accuracy_without_padding: 0.5289 - val_custom_mse: 0.0472 - val_loss: 0.0470 - learning_rate: 1.2500e-04\n",
            "Epoch 152/500\n",
            "\u001b[1m25/25\u001b[0m \u001b[32m━━━━━━━━━━━━━━━━━━━━\u001b[0m\u001b[37m\u001b[0m \u001b[1m0s\u001b[0m 5ms/step - custom_accuracy_without_padding: 0.5393 - custom_mse: 0.0437 - loss: 0.0437 - val_custom_accuracy_without_padding: 0.5306 - val_custom_mse: 0.0472 - val_loss: 0.0470 - learning_rate: 1.2500e-04\n",
            "Epoch 153/500\n",
            "\u001b[1m25/25\u001b[0m \u001b[32m━━━━━━━━━━━━━━━━━━━━\u001b[0m\u001b[37m\u001b[0m \u001b[1m0s\u001b[0m 5ms/step - custom_accuracy_without_padding: 0.5397 - custom_mse: 0.0440 - loss: 0.0440 - val_custom_accuracy_without_padding: 0.5301 - val_custom_mse: 0.0472 - val_loss: 0.0470 - learning_rate: 1.2500e-04\n",
            "Epoch 154/500\n",
            "\u001b[1m 1/25\u001b[0m \u001b[37m━━━━━━━━━━━━━━━━━━━━\u001b[0m \u001b[1m0s\u001b[0m 29ms/step - custom_accuracy_without_padding: 0.5625 - custom_mse: 0.0466 - loss: 0.0466\n",
            "Epoch 154: ReduceLROnPlateau reducing learning rate to 6.25000029685907e-05.\n",
            "\u001b[1m25/25\u001b[0m \u001b[32m━━━━━━━━━━━━━━━━━━━━\u001b[0m\u001b[37m\u001b[0m \u001b[1m0s\u001b[0m 5ms/step - custom_accuracy_without_padding: 0.5435 - custom_mse: 0.0442 - loss: 0.0442 - val_custom_accuracy_without_padding: 0.5294 - val_custom_mse: 0.0472 - val_loss: 0.0471 - learning_rate: 1.2500e-04\n",
            "Epoch 155/500\n",
            "\u001b[1m25/25\u001b[0m \u001b[32m━━━━━━━━━━━━━━━━━━━━\u001b[0m\u001b[37m\u001b[0m \u001b[1m0s\u001b[0m 7ms/step - custom_accuracy_without_padding: 0.5378 - custom_mse: 0.0442 - loss: 0.0442 - val_custom_accuracy_without_padding: 0.5316 - val_custom_mse: 0.0472 - val_loss: 0.0470 - learning_rate: 6.2500e-05\n",
            "Epoch 156/500\n",
            "\u001b[1m25/25\u001b[0m \u001b[32m━━━━━━━━━━━━━━━━━━━━\u001b[0m\u001b[37m\u001b[0m \u001b[1m0s\u001b[0m 6ms/step - custom_accuracy_without_padding: 0.5404 - custom_mse: 0.0447 - loss: 0.0447 - val_custom_accuracy_without_padding: 0.5294 - val_custom_mse: 0.0471 - val_loss: 0.0470 - learning_rate: 6.2500e-05\n",
            "Epoch 157/500\n",
            "\u001b[1m25/25\u001b[0m \u001b[32m━━━━━━━━━━━━━━━━━━━━\u001b[0m\u001b[37m\u001b[0m \u001b[1m0s\u001b[0m 5ms/step - custom_accuracy_without_padding: 0.5399 - custom_mse: 0.0441 - loss: 0.0441 - val_custom_accuracy_without_padding: 0.5306 - val_custom_mse: 0.0472 - val_loss: 0.0470 - learning_rate: 6.2500e-05\n",
            "Epoch 158/500\n",
            "\u001b[1m25/25\u001b[0m \u001b[32m━━━━━━━━━━━━━━━━━━━━\u001b[0m\u001b[37m\u001b[0m \u001b[1m0s\u001b[0m 5ms/step - custom_accuracy_without_padding: 0.5403 - custom_mse: 0.0444 - loss: 0.0444 - val_custom_accuracy_without_padding: 0.5311 - val_custom_mse: 0.0471 - val_loss: 0.0470 - learning_rate: 6.2500e-05\n",
            "Epoch 159/500\n",
            "\u001b[1m 1/25\u001b[0m \u001b[37m━━━━━━━━━━━━━━━━━━━━\u001b[0m \u001b[1m0s\u001b[0m 29ms/step - custom_accuracy_without_padding: 0.5359 - custom_mse: 0.0425 - loss: 0.0425\n",
            "Epoch 159: ReduceLROnPlateau reducing learning rate to 3.125000148429535e-05.\n",
            "\u001b[1m25/25\u001b[0m \u001b[32m━━━━━━━━━━━━━━━━━━━━\u001b[0m\u001b[37m\u001b[0m \u001b[1m0s\u001b[0m 5ms/step - custom_accuracy_without_padding: 0.5377 - custom_mse: 0.0444 - loss: 0.0444 - val_custom_accuracy_without_padding: 0.5321 - val_custom_mse: 0.0472 - val_loss: 0.0470 - learning_rate: 6.2500e-05\n",
            "Epoch 160/500\n",
            "\u001b[1m25/25\u001b[0m \u001b[32m━━━━━━━━━━━━━━━━━━━━\u001b[0m\u001b[37m\u001b[0m \u001b[1m0s\u001b[0m 6ms/step - custom_accuracy_without_padding: 0.5420 - custom_mse: 0.0433 - loss: 0.0433 - val_custom_accuracy_without_padding: 0.5313 - val_custom_mse: 0.0472 - val_loss: 0.0470 - learning_rate: 3.1250e-05\n",
            "Epoch 161/500\n",
            "\u001b[1m25/25\u001b[0m \u001b[32m━━━━━━━━━━━━━━━━━━━━\u001b[0m\u001b[37m\u001b[0m \u001b[1m0s\u001b[0m 5ms/step - custom_accuracy_without_padding: 0.5390 - custom_mse: 0.0444 - loss: 0.0444 - val_custom_accuracy_without_padding: 0.5311 - val_custom_mse: 0.0471 - val_loss: 0.0470 - learning_rate: 3.1250e-05\n",
            "Epoch 162/500\n",
            "\u001b[1m25/25\u001b[0m \u001b[32m━━━━━━━━━━━━━━━━━━━━\u001b[0m\u001b[37m\u001b[0m \u001b[1m0s\u001b[0m 5ms/step - custom_accuracy_without_padding: 0.5364 - custom_mse: 0.0442 - loss: 0.0442 - val_custom_accuracy_without_padding: 0.5303 - val_custom_mse: 0.0471 - val_loss: 0.0470 - learning_rate: 3.1250e-05\n",
            "Epoch 163/500\n",
            "\u001b[1m25/25\u001b[0m \u001b[32m━━━━━━━━━━━━━━━━━━━━\u001b[0m\u001b[37m\u001b[0m \u001b[1m0s\u001b[0m 5ms/step - custom_accuracy_without_padding: 0.5396 - custom_mse: 0.0441 - loss: 0.0441 - val_custom_accuracy_without_padding: 0.5324 - val_custom_mse: 0.0472 - val_loss: 0.0470 - learning_rate: 3.1250e-05\n",
            "Epoch 164/500\n",
            "\u001b[1m 1/25\u001b[0m \u001b[37m━━━━━━━━━━━━━━━━━━━━\u001b[0m \u001b[1m0s\u001b[0m 29ms/step - custom_accuracy_without_padding: 0.5428 - custom_mse: 0.0443 - loss: 0.0443\n",
            "Epoch 164: ReduceLROnPlateau reducing learning rate to 1.5625000742147677e-05.\n",
            "\u001b[1m25/25\u001b[0m \u001b[32m━━━━━━━━━━━━━━━━━━━━\u001b[0m\u001b[37m\u001b[0m \u001b[1m0s\u001b[0m 5ms/step - custom_accuracy_without_padding: 0.5386 - custom_mse: 0.0439 - loss: 0.0439 - val_custom_accuracy_without_padding: 0.5312 - val_custom_mse: 0.0472 - val_loss: 0.0470 - learning_rate: 3.1250e-05\n",
            "Epoch 165/500\n",
            "\u001b[1m25/25\u001b[0m \u001b[32m━━━━━━━━━━━━━━━━━━━━\u001b[0m\u001b[37m\u001b[0m \u001b[1m0s\u001b[0m 6ms/step - custom_accuracy_without_padding: 0.5373 - custom_mse: 0.0445 - loss: 0.0445 - val_custom_accuracy_without_padding: 0.5322 - val_custom_mse: 0.0472 - val_loss: 0.0470 - learning_rate: 1.5625e-05\n",
            "Epoch 166/500\n",
            "\u001b[1m25/25\u001b[0m \u001b[32m━━━━━━━━━━━━━━━━━━━━\u001b[0m\u001b[37m\u001b[0m \u001b[1m0s\u001b[0m 5ms/step - custom_accuracy_without_padding: 0.5383 - custom_mse: 0.0447 - loss: 0.0447 - val_custom_accuracy_without_padding: 0.5324 - val_custom_mse: 0.0471 - val_loss: 0.0470 - learning_rate: 1.5625e-05\n",
            "Epoch 167/500\n",
            "\u001b[1m25/25\u001b[0m \u001b[32m━━━━━━━━━━━━━━━━━━━━\u001b[0m\u001b[37m\u001b[0m \u001b[1m0s\u001b[0m 5ms/step - custom_accuracy_without_padding: 0.5407 - custom_mse: 0.0442 - loss: 0.0442 - val_custom_accuracy_without_padding: 0.5322 - val_custom_mse: 0.0472 - val_loss: 0.0470 - learning_rate: 1.5625e-05\n",
            "Epoch 168/500\n",
            "\u001b[1m25/25\u001b[0m \u001b[32m━━━━━━━━━━━━━━━━━━━━\u001b[0m\u001b[37m\u001b[0m \u001b[1m0s\u001b[0m 5ms/step - custom_accuracy_without_padding: 0.5415 - custom_mse: 0.0442 - loss: 0.0442 - val_custom_accuracy_without_padding: 0.5316 - val_custom_mse: 0.0472 - val_loss: 0.0470 - learning_rate: 1.5625e-05\n"
          ]
        }
      ],
      "source": [
        "history = model.fit(\n",
        "    x_train, y_train,\n",
        "    epochs=500,\n",
        "    batch_size=32,\n",
        "    validation_data=(x_test, y_test),\n",
        "    callbacks=[adjust_lr, early_stopping]\n",
        ")"
      ]
    },
    {
      "cell_type": "code",
      "execution_count": null,
      "metadata": {
        "colab": {
          "base_uri": "https://localhost:8080/"
        },
        "id": "HXe9PxBG39Rx",
        "outputId": "3641a28c-5ba7-4951-f9f6-befb9bf3a081"
      },
      "outputs": [
        {
          "output_type": "stream",
          "name": "stdout",
          "text": [
            "4\n",
            "3\n"
          ]
        }
      ],
      "source": [
        "print(w0)\n",
        "print(z0)"
      ]
    },
    {
      "cell_type": "markdown",
      "metadata": {
        "id": "5yHldkKB39Ry"
      },
      "source": [
        "Evaluate"
      ]
    },
    {
      "cell_type": "code",
      "execution_count": null,
      "metadata": {
        "colab": {
          "base_uri": "https://localhost:8080/"
        },
        "id": "S3v8j07n39Ry",
        "outputId": "9ee2ebbd-818c-4d9b-aeda-16d211c59404"
      },
      "outputs": [
        {
          "output_type": "stream",
          "name": "stdout",
          "text": [
            "\u001b[1m7/7\u001b[0m \u001b[32m━━━━━━━━━━━━━━━━━━━━\u001b[0m\u001b[37m\u001b[0m \u001b[1m0s\u001b[0m 5ms/step - custom_accuracy_without_padding: 0.5306 - custom_mse: 0.0464 - loss: 0.0464 \n",
            "Test results - Loss: 0.04696609452366829, MSE: 0.047137316316366196, Accuracy: 0.5310847163200378\n"
          ]
        }
      ],
      "source": [
        "eval_results = model.evaluate(x_test, y_test)\n",
        "print(f\"Test results - Loss: {eval_results[0]}, MSE: {eval_results[1]}, Accuracy: {eval_results[2]}\")"
      ]
    },
    {
      "cell_type": "code",
      "execution_count": null,
      "metadata": {
        "colab": {
          "base_uri": "https://localhost:8080/",
          "height": 487
        },
        "id": "PX7cZ6Rr39Rz",
        "outputId": "8a57733b-5e47-473e-86ed-462b5f4738be"
      },
      "outputs": [
        {
          "output_type": "display_data",
          "data": {
            "text/plain": [
              "<Figure size 1200x500 with 2 Axes>"
            ],
            "image/png": "[encoded data removed]"
          },
          "metadata": {}
        }
      ],
      "source": [
        "import matplotlib.pyplot as plt\n",
        "\n",
        "plt.figure(figsize=(12, 5))\n",
        "\n",
        "plt.subplot(1, 2, 1)\n",
        "plt.plot(history.history['loss'], label='Training Loss')\n",
        "plt.plot(history.history['val_loss'], label='Validation Loss')\n",
        "plt.title('Loss Over Epochs')\n",
        "plt.xlabel('Epochs')\n",
        "plt.ylabel('MSE Loss')\n",
        "plt.legend()\n",
        "\n",
        "plt.subplot(1, 2, 2)\n",
        "plt.plot(history.history['custom_accuracy_without_padding'], label='Training Accuracy')\n",
        "plt.plot(history.history['val_custom_accuracy_without_padding'], label='Validation Accuracy')\n",
        "plt.title('Accuracy Over Epochs')\n",
        "plt.xlabel('Epochs')\n",
        "plt.ylabel('Accuracy (%)')\n",
        "plt.legend()\n",
        "\n",
        "plt.show()"
      ]
    },
    {
      "cell_type": "code",
      "source": [
        "from sklearn.metrics import r2_score\n",
        "\n",
        "y_pred = model.predict(x_test)\n",
        "\n",
        "r2 = r2_score(y_test, y_pred)\n",
        "\n",
        "print(f\"R² Score: {r2:.4f}\")"
      ],
      "metadata": {
        "colab": {
          "base_uri": "https://localhost:8080/"
        },
        "id": "4rrdoPg65FNz",
        "outputId": "cfa1f33f-60b7-4d57-82a4-9f88cf1f3044"
      },
      "execution_count": null,
      "outputs": [
        {
          "output_type": "stream",
          "name": "stdout",
          "text": [
            "\u001b[1m7/7\u001b[0m \u001b[32m━━━━━━━━━━━━━━━━━━━━\u001b[0m\u001b[37m\u001b[0m \u001b[1m0s\u001b[0m 11ms/step\n",
            "R² Score: 0.4208\n"
          ]
        }
      ]
    },
    {
      "cell_type": "code",
      "execution_count": null,
      "metadata": {
        "colab": {
          "base_uri": "https://localhost:8080/"
        },
        "id": "h9p3lDWX39R1",
        "outputId": "e1b2f1d7-306b-46dd-e683-3ba7840d4fa9"
      },
      "outputs": [
        {
          "output_type": "stream",
          "name": "stdout",
          "text": [
            "\u001b[1m7/7\u001b[0m \u001b[32m━━━━━━━━━━━━━━━━━━━━\u001b[0m\u001b[37m\u001b[0m \u001b[1m0s\u001b[0m 4ms/step \n",
            "Comparison of predictions and ground truth:\n",
            "Sample 1:\n",
            "  Predicted:    [3 3 3 3 3 3 3 3 3 3 3 3 4 1 3 2 5 1 4 3 4 4 6 5 2 3 1 0 0 0 0 0]\n",
            "  Ground Truth: [5 6 5 1 3 4 1 1 6 2 3 1 4 0 3 2 5 1 4 3 4 4 6 5 2 3 1 0 0 0 0 0]\n",
            "----------------------------------------\n",
            "Sample 2:\n",
            "  Predicted:    [3 3 3 3 3 3 3 3 2 3 2 3 2 2 4 1 1 2 0 1 1 5 2 1 4 0 4 0 0 0 0 0]\n",
            "  Ground Truth: [1 4 1 3 3 3 0 5 5 2 4 3 3 1 3 1 1 2 0 1 1 5 2 1 4 0 4 0 0 0 0 0]\n",
            "----------------------------------------\n",
            "Sample 3:\n",
            "  Predicted:    [3 3 3 3 3 3 3 3 4 2 3 3 2 5 2 3 5 1 4 6 0 4 3 2 3 4 4 0 0 0 0 0]\n",
            "  Ground Truth: [2 6 0 2 2 1 3 4 2 6 4 1 0 5 2 3 5 1 4 6 0 4 3 2 3 4 4 0 0 0 0 0]\n",
            "----------------------------------------\n"
          ]
        }
      ],
      "source": [
        "y_pred_test = model.predict(x_test)\n",
        "y_pred_test_rescaled = y_pred_test * (q-1)\n",
        "y_test_rescaled = y_test * (q-1)\n",
        "\n",
        "# print(\"Comparison of predictions and ground truth:\")\n",
        "# for i in range(3):\n",
        "#     print(f\"Sample {i+1}:\")\n",
        "#     print(f\"  Predicted:    {(y_pred_test_rescaled[i])}\")\n",
        "#     print(f\"  Ground Truth: {(y_test_rescaled[i])}\")\n",
        "#     print(\"-\" * 40)\n",
        "\n",
        "print(\"Comparison of predictions and ground truth:\")\n",
        "for i in range(3):\n",
        "    print(f\"Sample {i+1}:\")\n",
        "    print(f\"  Predicted:    {np.round(y_pred_test_rescaled[i]).astype(int)}\")\n",
        "    print(f\"  Ground Truth: {np.round(y_test_rescaled[i]).astype(int)}\")\n",
        "    print(\"-\" * 40)"
      ]
    },
    {
      "cell_type": "code",
      "execution_count": null,
      "metadata": {
        "colab": {
          "base_uri": "https://localhost:8080/"
        },
        "id": "JyQx5pZf39R1",
        "outputId": "88efebac-a8fe-4a49-bfc8-552ca114dc90"
      },
      "outputs": [
        {
          "output_type": "stream",
          "name": "stdout",
          "text": [
            "\u001b[1m1/1\u001b[0m \u001b[32m━━━━━━━━━━━━━━━━━━━━\u001b[0m\u001b[37m\u001b[0m \u001b[1m0s\u001b[0m 36ms/step\n",
            "MSE on unseen data: 0.08137370645999908\n",
            "Accuracy on unseen data: 0.40740740299224854\n",
            "Sample 1:\n",
            "[0. 5. 3. 5. 5. 5. 3. 5. 3. 4. 6. 0. 1. 5. 2. 4. 2. 1. 3. 1. 2. 1. 0. 1.\n",
            " 5. 0. 5. 0. 0. 0. 0. 0.]: True values\n",
            "[3 3 3 3 3 3 4 3 3 3 3 3 2 5 2 4 2 1 3 1 2 1 0 1 5 0 5 0 0 0 0 0]: Predicted values\n",
            "--------------------\n",
            "Sample 2:\n",
            "[6. 6. 1. 0. 0. 6. 1. 4. 3. 3. 3. 0. 6. 3. 6. 0. 6. 4. 1. 6. 6. 1. 0. 0.\n",
            " 6. 4. 3. 0. 0. 0. 0. 0.]: True values\n",
            "[ 3  2  3  3  3  3  2  2  1  3  4  3  4  2  6  0  7  5  1  6  6  1  0 -1\n",
            "  6  4  3  0  0  0  0  0]: Predicted values\n",
            "--------------------\n",
            "Sample 3:\n",
            "[4. 1. 1. 5. 3. 6. 1. 5. 0. 1. 2. 3. 5. 3. 3. 2. 4. 0. 3. 1. 0. 1. 0. 6.\n",
            " 0. 5. 1. 0. 0. 0. 0. 0.]: True values\n",
            "[ 2  2  5  4  4  0  4  1  1  8  2  4  4  0  2  1  3 -1  2  1 -2  0  0  6\n",
            "  0  6  1 -1  0 -1 -1  0]: Predicted values\n",
            "--------------------\n"
          ]
        }
      ],
      "source": [
        "num_unseen_samples = 3\n",
        "unseen_data = np.random.randint(0, q, size=(num_unseen_samples, n))\n",
        "\n",
        "padded_unseen_data = np.hstack((unseen_data, np.zeros((num_unseen_samples, n_padded - n))))\n",
        "\n",
        "unseen_data_normalized = padded_unseen_data.astype(np.float32) / (q - 1)\n",
        "\n",
        "unseen_encoded = np.array([np.dot(M_tilde, x) for x in padded_unseen_data])\n",
        "unseen_encoded[np.abs(unseen_encoded) < 1e-10] = 0\n",
        "unseen_encoded = np.round(unseen_encoded, decimals=10)\n",
        "\n",
        "X_real_unseen = np.real(unseen_encoded).astype(np.float32)\n",
        "X_imag_unseen = np.imag(unseen_encoded).astype(np.float32)\n",
        "\n",
        "X_real_imag_unseen = np.hstack([X_real_unseen, X_imag_unseen])\n",
        "\n",
        "X_real_imag_unseen = (X_real_imag_unseen - X_real_imag_unseen.mean()) / X_real_imag_unseen.std()\n",
        "\n",
        "y_pred_unseen = model.predict(X_real_imag_unseen)\n",
        "\n",
        "mse_unseen = tf.reduce_mean(tf.square(unseen_data_normalized - y_pred_unseen)).numpy()\n",
        "print(f\"MSE on unseen data: {mse_unseen}\")\n",
        "\n",
        "accuracy_unseen = custom_accuracy_without_padding(unseen_data_normalized, y_pred_unseen)\n",
        "print(f\"Accuracy on unseen data: {accuracy_unseen}\")\n",
        "\n",
        "num_display_samples = 3\n",
        "for i in range(num_display_samples):\n",
        "    print(f\"Sample {i+1}:\")\n",
        "    true_labels = padded_unseen_data[i]\n",
        "    pred_scaled = y_pred_unseen[i] * (q - 1)\n",
        "    pred_rounded = tf.round(pred_scaled).numpy().astype(int)\n",
        "    print(f\"{true_labels}: True values\")\n",
        "    print(f\"{pred_rounded}: Predicted values\")\n",
        "    print(\"-\" * 20)"
      ]
    },
    {
      "cell_type": "code",
      "source": [
        "import matplotlib.pyplot as plt\n",
        "plt.hist(y_pred.flatten(), bins=50)"
      ],
      "metadata": {
        "colab": {
          "base_uri": "https://localhost:8080/",
          "height": 739
        },
        "id": "kD70EwfY5kFW",
        "outputId": "16b5265a-4e83-4a73-d591-687482a790f9"
      },
      "execution_count": null,
      "outputs": [
        {
          "output_type": "execute_result",
          "data": {
            "text/plain": [
              "(array([  1.,   0.,   0.,   0.,   1.,   2.,   1.,   2.,   2.,  12.,  47.,\n",
              "        249., 916., 101.,  47.,  14.,  41., 125., 173.,  62.,  29.,  44.,\n",
              "         55., 165., 166., 125., 191., 318., 483., 645., 493., 332., 216.,\n",
              "        124., 125., 202.,  71.,  42.,  35.,  46., 107., 156.,  58.,  32.,\n",
              "         33.,  43., 119., 111.,  25.,  13.]),\n",
              " array([-0.3546643 , -0.32561448, -0.29656464, -0.26751482, -0.23846501,\n",
              "        -0.20941518, -0.18036535, -0.15131554, -0.12226571, -0.09321588,\n",
              "        -0.06416607, -0.03511626, -0.00606641,  0.0229834 ,  0.05203322,\n",
              "         0.08108306,  0.11013287,  0.13918269,  0.16823253,  0.19728234,\n",
              "         0.22633216,  0.25538197,  0.28443179,  0.31348166,  0.34253147,\n",
              "         0.37158129,  0.4006311 ,  0.42968091,  0.45873073,  0.4877806 ,\n",
              "         0.51683044,  0.5458802 ,  0.57493007,  0.60397983,  0.6330297 ,\n",
              "         0.66207945,  0.69112933,  0.72017908,  0.74922895,  0.77827883,\n",
              "         0.80732858,  0.83637846,  0.86542821,  0.89447808,  0.92352784,\n",
              "         0.95257771,  0.98162758,  1.01067734,  1.03972721,  1.06877697,\n",
              "         1.09782684]),\n",
              " <BarContainer object of 50 artists>)"
            ]
          },
          "metadata": {},
          "execution_count": 320
        },
        {
          "output_type": "display_data",
          "data": {
            "text/plain": [
              "<Figure size 640x480 with 1 Axes>"
            ],
            "image/png": "[encoded data removed]"
          },
          "metadata": {}
        }
      ]
    },
    {
      "cell_type": "code",
      "execution_count": null,
      "metadata": {
        "id": "8nidbP-E39R1"
      },
      "outputs": [],
      "source": [
        "# for layer in model.layers:\n",
        "#     if layer.trainable_variables:  # Check if the layer has trainable variables\n",
        "#         for i, var in enumerate(layer.trainable_variables):\n",
        "#             print(f\"{layer.name} - Variable {i} ({var.name}): values: {var.numpy()}\")\n",
        "#     else:\n",
        "#         print(layer.name, \"has no trainable variables.\")"
      ]
    },
    {
      "cell_type": "code",
      "execution_count": null,
      "metadata": {
        "id": "N7q_PYa739R2"
      },
      "outputs": [],
      "source": []
    }
  ],
  "metadata": {
    "kernelspec": {
      "display_name": "base",
      "language": "python",
      "name": "python3"
    },
    "language_info": {
      "codemirror_mode": {
        "name": "ipython",
        "version": 3
      },
      "file_extension": ".py",
      "mimetype": "text/x-python",
      "name": "python",
      "nbconvert_exporter": "python",
      "pygments_lexer": "ipython3",
      "version": "3.9.18"
    },
    "colab": {
      "provenance": []
    }
  },
  "nbformat": 4,
  "nbformat_minor": 0
}