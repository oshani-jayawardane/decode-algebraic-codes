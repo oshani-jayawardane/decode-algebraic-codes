{
  "nbformat": 4,
  "nbformat_minor": 0,
  "metadata": {
    "colab": {
      "provenance": [],
      "gpuType": "T4"
    },
    "kernelspec": {
      "name": "python3",
      "display_name": "Python 3"
    },
    "language_info": {
      "name": "python"
    },
    "accelerator": "GPU"
  },
  "cells": [
    {
      "cell_type": "code",
      "execution_count": 72,
      "metadata": {
        "colab": {
          "base_uri": "https://localhost:8080/"
        },
        "id": "_CtDgpICg8j4",
        "outputId": "3c6be475-4271-4364-95e7-5faac39a17e4"
      },
      "outputs": [
        {
          "output_type": "execute_result",
          "data": {
            "text/plain": [
              "17164"
            ]
          },
          "metadata": {},
          "execution_count": 72
        }
      ],
      "source": [
        "%reset -f\n",
        "import gc\n",
        "gc.collect()"
      ]
    },
    {
      "cell_type": "code",
      "source": [
        "global z0\n",
        "global w0\n",
        "\n",
        "w0 = 4\n",
        "z0 = 3\n",
        "\n",
        "n = 27\n",
        "q = 7\n",
        "num_samples = 1000\n",
        "\n",
        "num_unseen_samples= 20"
      ],
      "metadata": {
        "id": "ENylJtjkhEAq"
      },
      "execution_count": 73,
      "outputs": []
    },
    {
      "cell_type": "code",
      "source": [
        "import numpy as np\n",
        "import tensorflow as tf\n",
        "import math\n",
        "\n",
        "np.random.seed(42)"
      ],
      "metadata": {
        "id": "T5DNDJ9jhC5X"
      },
      "execution_count": 74,
      "outputs": []
    },
    {
      "cell_type": "code",
      "source": [
        "def next_power_of_two(x):\n",
        "    return 2 ** math.ceil(math.log2(x))\n",
        "\n",
        "n_padded = next_power_of_two(n)\n",
        "\n",
        "x_original = np.random.randint(0, q, size=(num_samples, n))\n",
        "\n",
        "padding = n_padded - n\n",
        "dataset = np.pad(x_original, ((0, 0), (0, padding)), mode='constant', constant_values=0)\n",
        "\n",
        "print(f\"Original n: {n}, Padded to: {n_padded}\")"
      ],
      "metadata": {
        "colab": {
          "base_uri": "https://localhost:8080/"
        },
        "id": "LbOu10L0hFcT",
        "outputId": "fa05daec-e581-4b7a-cc6e-0dff88c8d176"
      },
      "execution_count": 75,
      "outputs": [
        {
          "output_type": "stream",
          "name": "stdout",
          "text": [
            "Original n: 27, Padded to: 32\n"
          ]
        }
      ]
    },
    {
      "cell_type": "code",
      "source": [
        "dataset.shape"
      ],
      "metadata": {
        "colab": {
          "base_uri": "https://localhost:8080/"
        },
        "id": "6CDKaRCshHcU",
        "outputId": "b763f477-713d-4415-ce22-29a1645be46f"
      },
      "execution_count": 76,
      "outputs": [
        {
          "output_type": "execute_result",
          "data": {
            "text/plain": [
              "(1000, 32)"
            ]
          },
          "metadata": {},
          "execution_count": 76
        }
      ]
    },
    {
      "cell_type": "code",
      "source": [
        "from sklearn.model_selection import train_test_split\n",
        "\n",
        "y_train, y_val = train_test_split(\n",
        "    dataset,\n",
        "    test_size=0.2,\n",
        "    shuffle=True,\n",
        "    random_state=42\n",
        ")"
      ],
      "metadata": {
        "id": "2G_9yp1SvnL9"
      },
      "execution_count": 77,
      "outputs": []
    },
    {
      "cell_type": "code",
      "source": [
        "print(y_train.shape)\n",
        "print(y_val.shape)"
      ],
      "metadata": {
        "colab": {
          "base_uri": "https://localhost:8080/"
        },
        "id": "gheqSrSNvpGm",
        "outputId": "8e00ab03-6493-42ce-fe9e-baef48d42b0d"
      },
      "execution_count": 78,
      "outputs": [
        {
          "output_type": "stream",
          "name": "stdout",
          "text": [
            "(800, 32)\n",
            "(200, 32)\n"
          ]
        }
      ]
    },
    {
      "cell_type": "code",
      "source": [
        "print(y_train)"
      ],
      "metadata": {
        "colab": {
          "base_uri": "https://localhost:8080/"
        },
        "id": "QwHLiWB5vqgR",
        "outputId": "1aefbd1f-fe28-4005-f481-eb09709a623d"
      },
      "execution_count": 79,
      "outputs": [
        {
          "output_type": "stream",
          "name": "stdout",
          "text": [
            "[[1 1 2 ... 0 0 0]\n",
            " [5 3 6 ... 0 0 0]\n",
            " [1 4 3 ... 0 0 0]\n",
            " ...\n",
            " [3 6 5 ... 0 0 0]\n",
            " [1 5 1 ... 0 0 0]\n",
            " [3 3 6 ... 0 0 0]]\n"
          ]
        }
      ]
    },
    {
      "cell_type": "code",
      "source": [
        "print(y_val)"
      ],
      "metadata": {
        "colab": {
          "base_uri": "https://localhost:8080/"
        },
        "id": "y9qaVFcpvrlh",
        "outputId": "6558d63a-9935-47fc-e9dd-1964804e3225"
      },
      "execution_count": 80,
      "outputs": [
        {
          "output_type": "stream",
          "name": "stdout",
          "text": [
            "[[5 6 5 ... 0 0 0]\n",
            " [1 4 1 ... 0 0 0]\n",
            " [2 6 0 ... 0 0 0]\n",
            " ...\n",
            " [6 4 3 ... 0 0 0]\n",
            " [2 3 4 ... 0 0 0]\n",
            " [4 3 6 ... 0 0 0]]\n"
          ]
        }
      ]
    },
    {
      "cell_type": "markdown",
      "source": [
        "Encode using generator matrix\n",
        "$$\n",
        "\\tilde{M}_{kj} = \\left[ \\left( \\frac{w_0}{z_0} \\right)^j \\zeta^{kj} \\right]_{k,j=0}^{n-1}\n",
        "$$"
      ],
      "metadata": {
        "id": "Dk5m5Af1u9Dk"
      }
    },
    {
      "cell_type": "code",
      "source": [
        "def padded_generator_matrix(N, w0, z0):\n",
        "    n = np.arange(N)\n",
        "    k = n.reshape((N, 1))\n",
        "    zeta = np.exp(-2j * np.pi / N)\n",
        "    M_tilde = ((w0 / z0) ** n) * (zeta ** (k * n))\n",
        "    return M_tilde"
      ],
      "metadata": {
        "id": "RNfAGAYshJUg"
      },
      "execution_count": 81,
      "outputs": []
    },
    {
      "cell_type": "code",
      "source": [
        "M_tilde = padded_generator_matrix(n_padded, w0, z0)\n",
        "print(M_tilde.shape)"
      ],
      "metadata": {
        "colab": {
          "base_uri": "https://localhost:8080/"
        },
        "id": "EZDn5MaHhLId",
        "outputId": "131e3050-ebfc-4cbd-fb95-f135e60d6e55"
      },
      "execution_count": 82,
      "outputs": [
        {
          "output_type": "stream",
          "name": "stdout",
          "text": [
            "(32, 32)\n"
          ]
        }
      ]
    },
    {
      "cell_type": "markdown",
      "source": [
        "DCT-III Structured imposed layers"
      ],
      "metadata": {
        "id": "YCC2VCZtxrOS"
      }
    },
    {
      "cell_type": "code",
      "source": [
        "class FirstLayer(tf.keras.layers.Layer):\n",
        "    def __init__(self, units, trainable=True, **kwargs):\n",
        "        super(FirstLayer, self).__init__(**kwargs)\n",
        "        self.n = units\n",
        "        self.n1 = units // 2\n",
        "        self.trainable = trainable\n",
        "\n",
        "        init_diag = tf.ones(self.n1, dtype=tf.float32)\n",
        "        init_diag = tf.tensor_scatter_nd_update(init_diag, [[0]], [tf.sqrt(2.0)])\n",
        "\n",
        "        self.B_1 = self.add_weight(\n",
        "                shape=(self.n1,),\n",
        "                initializer=tf.keras.initializers.Constant(init_diag),\n",
        "                trainable=self.trainable,\n",
        "                name='B_1'\n",
        "            )\n",
        "        self.B_2 = self.add_weight(\n",
        "                shape=(self.n1,),\n",
        "                initializer='ones',\n",
        "                trainable=self.trainable,\n",
        "                name='B_2'\n",
        "            )\n",
        "        self.bias = self.add_weight(\n",
        "            shape=(self.n,),\n",
        "            initializer='zeros',\n",
        "            trainable=True,\n",
        "            name='bias'\n",
        "        )\n",
        "\n",
        "    def call(self, x):\n",
        "        even = x[:, ::2]\n",
        "        odd = x[:, 1::2]\n",
        "\n",
        "        d1 = tf.multiply(odd, self.B_1) # diagonal\n",
        "        d2 = tf.multiply(tf.concat([tf.zeros_like(odd[:, :1]), odd[:, :-1]], axis=1), self.B_2) # off-diagonal\n",
        "        B_n = tf.add(d1, d2)\n",
        "\n",
        "        u = tf.concat([even, B_n], axis=1)\n",
        "\n",
        "        return u + self.bias"
      ],
      "metadata": {
        "id": "3hh6hl3phNfD"
      },
      "execution_count": 83,
      "outputs": []
    },
    {
      "cell_type": "code",
      "source": [
        "class DCTIII(tf.keras.layers.Layer):\n",
        "    def __init__(self, n, trainable=True, **kwargs):\n",
        "        super(DCTIII, self).__init__(**kwargs)\n",
        "        self.n = n\n",
        "        self.n1 = n // 2 if n > 2 else 1\n",
        "        self.trainable = trainable\n",
        "\n",
        "        if n == 2:\n",
        "            # Base case: trainable 2x2 matrix\n",
        "            self.C_2 = self.add_weight(\n",
        "                shape=(2, 2),\n",
        "                initializer=tf.keras.initializers.Constant((1 / np.sqrt(2)) * np.array([[1., 1.], [1., -1.]])),\n",
        "                trainable=self.trainable,\n",
        "                name='C_2'\n",
        "            )\n",
        "        else:\n",
        "            init_diag = tf.ones(self.n1, dtype=tf.float32)\n",
        "            init_diag = tf.tensor_scatter_nd_update(init_diag, [[0]], [tf.sqrt(2.0)])\n",
        "\n",
        "            # Weights for B^T_{n/2}\n",
        "            self.B_1 = self.add_weight(\n",
        "                shape=(self.n1,),\n",
        "                initializer=tf.keras.initializers.Constant(init_diag),\n",
        "                trainable=self.trainable,\n",
        "                name='B_1'\n",
        "            )\n",
        "            self.B_2 = self.add_weight(\n",
        "                shape=(self.n1,),\n",
        "                initializer='ones',\n",
        "                trainable=self.trainable,\n",
        "                name='B_2'\n",
        "            )\n",
        "\n",
        "            k = tf.cast(tf.range(1, self.n1 + 1), tf.float32)\n",
        "            pi = tf.constant(np.pi, dtype=tf.float32)\n",
        "            init_W_c = 1 / (2 * tf.cos((2 * k - 1) * (pi / (2 * self.n))))\n",
        "\n",
        "            # Weight for W_c\n",
        "            self.w_c = self.add_weight(\n",
        "                shape=(self.n1,),\n",
        "                initializer=tf.keras.initializers.Constant(init_W_c),\n",
        "                trainable=self.trainable,\n",
        "                name='W_c'\n",
        "            )\n",
        "            # Recursive DCTIII for n/2\n",
        "            self.dctiii_layer1 = DCTIII(self.n1,trainable=self.trainable)\n",
        "            self.dctiii_layer2 = DCTIII(self.n1,trainable=self.trainable)\n",
        "\n",
        "    def call(self, x):\n",
        "        if self.n == 2:\n",
        "            y = tf.matmul(self.C_2, x, transpose_b=True)\n",
        "            return tf.transpose(y)\n",
        "        else:\n",
        "            # Permutation\n",
        "            even = x[:, ::2]\n",
        "            odd = x[:, 1::2]\n",
        "\n",
        "            # B^T\n",
        "            d1 = tf.multiply(odd, self.B_1)\n",
        "            d2 = tf.multiply(tf.concat([tf.zeros_like(odd[:, :1]), odd[:, :-1]], axis=1), self.B_2)\n",
        "            B_n = tf.add(d1, d2)\n",
        "            u = tf.concat([even, B_n], axis=1)\n",
        "\n",
        "            # Recursive DCTIII\n",
        "            z1 = self.dctiii_layer1(u[:, :self.n1])\n",
        "            z2 = self.dctiii_layer2(u[:, self.n1:])\n",
        "            recurs_out = tf.concat([z1, z2], axis=1)\n",
        "\n",
        "            # W_c\n",
        "            W_n = tf.multiply(recurs_out[:, self.n1:], self.w_c)\n",
        "            v = tf.concat([recurs_out[:, :self.n1], W_n], axis=1)\n",
        "\n",
        "            # H_n\n",
        "            out1 = v[:, :self.n1]\n",
        "            out2 = v[:, self.n1:]\n",
        "            y = (1 / tf.sqrt(tf.constant(2.0, dtype=tf.float32))) * tf.concat(\n",
        "                [(out1 + out2), tf.reverse((out1 - out2), axis=[1])],\n",
        "                axis=1\n",
        "            )\n",
        "\n",
        "            return y"
      ],
      "metadata": {
        "id": "WoU_F5NAhRSZ"
      },
      "execution_count": 84,
      "outputs": []
    },
    {
      "cell_type": "code",
      "source": [
        "class SecondLayer(tf.keras.layers.Layer):\n",
        "    def __init__(self, units, trainable=True, **kwargs):\n",
        "        super(SecondLayer, self).__init__(**kwargs)\n",
        "        self.n = units\n",
        "        self.n1 = units // 2\n",
        "        self.trainable = trainable\n",
        "\n",
        "        self.bias = self.add_weight(\n",
        "            shape=(self.n,),\n",
        "            initializer='zeros',\n",
        "            trainable=True,\n",
        "            name='bias'\n",
        "        )\n",
        "\n",
        "        self.dctiii1 = DCTIII(self.n1, trainable=self.trainable)\n",
        "        self.dctiii2 = DCTIII(self.n1,trainable=self.trainable)\n",
        "\n",
        "    def call(self, x):\n",
        "        z1 = self.dctiii1(x[:, :self.n1])\n",
        "        z2 = self.dctiii2(x[:, self.n1:])\n",
        "        out = tf.concat([z1, z2], axis=1)\n",
        "        return out + self.bias"
      ],
      "metadata": {
        "id": "uaeZ-KLHhTzL"
      },
      "execution_count": 85,
      "outputs": []
    },
    {
      "cell_type": "code",
      "source": [
        "class ThirdLayer(tf.keras.layers.Layer):\n",
        "    def __init__(self, units, trainable=True, **kwargs):\n",
        "        super(ThirdLayer, self).__init__(**kwargs)\n",
        "        self.n = units\n",
        "        self.n1 = units // 2\n",
        "        self.trainable = trainable\n",
        "\n",
        "        k = tf.cast(tf.range(1, self.n1 + 1), tf.float32)\n",
        "        pi = tf.constant(np.pi, dtype=tf.float32)\n",
        "        init_W_c = 1 / (2 * tf.cos((2 * k - 1) * (pi / (2 * self.n))))\n",
        "\n",
        "        self.w_c = self.add_weight(\n",
        "                shape=(self.n1,),\n",
        "                initializer=tf.keras.initializers.Constant(init_W_c),\n",
        "                trainable=self.trainable,\n",
        "                name='W_c'\n",
        "            )\n",
        "\n",
        "        self.bias = self.add_weight(\n",
        "            shape=(self.n,),\n",
        "            initializer='zeros',\n",
        "            trainable=True,\n",
        "            name='bias'\n",
        "        )\n",
        "\n",
        "    def call(self, x):\n",
        "        input1 = x[:, :self.n1]\n",
        "        input2 = x[:, self.n1:]\n",
        "\n",
        "        # W_{N/2}\n",
        "        W_n = tf.multiply(input2, self.w_c)\n",
        "        v = tf.concat([input1, W_n], axis=1)\n",
        "\n",
        "        # H_n^T\n",
        "        out1 = v[:, :self.n1]\n",
        "        out2 = v[:, self.n1:]\n",
        "\n",
        "        y = (1 / tf.sqrt(tf.constant(2.0, dtype=tf.float32))) * tf.concat([(out1 + out2), tf.reverse((out1 - out2), axis=[1])], axis=1)\n",
        "\n",
        "        # y = self.h * tf.concat([(out1 + out2), tf.reverse((out1 - out2), axis=[1])], axis=1)\n",
        "\n",
        "        return y + self.bias"
      ],
      "metadata": {
        "id": "wbsgRFK9hV6V"
      },
      "execution_count": 86,
      "outputs": []
    },
    {
      "cell_type": "code",
      "source": [
        "class DiagonalLayer(tf.keras.layers.Layer):\n",
        "    def __init__(self, units, trainable=True, kernel_initializer='he_normal', bias_initializer='zeros', **kwargs):\n",
        "        super(DiagonalLayer, self).__init__(**kwargs)\n",
        "        self.units = units\n",
        "        self.kernel_initializer = kernel_initializer\n",
        "        self.bias_initializer = bias_initializer\n",
        "        self.trainable = trainable\n",
        "\n",
        "    def build(self, input_shape):\n",
        "        self.diag = self.add_weight(\n",
        "            shape=(self.units,),\n",
        "            initializer=tf.keras.initializers.get(self.kernel_initializer),\n",
        "            trainable=self.trainable,\n",
        "            name='diag'\n",
        "        )\n",
        "        self.bias = self.add_weight(\n",
        "            shape=(self.units,),\n",
        "            initializer=tf.keras.initializers.get(self.bias_initializer),\n",
        "            trainable=self.trainable,\n",
        "            name='bias'\n",
        "        )\n",
        "\n",
        "    def call(self, inputs):\n",
        "        scaled = tf.multiply(inputs, self.diag)\n",
        "        return scaled + self.bias"
      ],
      "metadata": {
        "id": "NOKX7m2ChXrH"
      },
      "execution_count": 87,
      "outputs": []
    },
    {
      "cell_type": "code",
      "source": [
        "class ScalingLayer(tf.keras.layers.Layer):\n",
        "    def __init__(self, units, initial_scale=1.0, trainable=True, kernel_initializer='he_normal', bias_initializer='zeros', **kwargs):\n",
        "        super(ScalingLayer, self).__init__(**kwargs)\n",
        "        self.units = units\n",
        "        self.initial_scale = initial_scale\n",
        "        self.kernel_initializer = kernel_initializer\n",
        "        self.bias_initializer = bias_initializer\n",
        "\n",
        "    def build(self, input_shape):\n",
        "\n",
        "      self.log_scale = self.add_weight(\n",
        "          shape=(),\n",
        "          initializer=tf.keras.initializers.Constant(self.initial_scale),\n",
        "          trainable=True,\n",
        "          name=\"log_scale\",\n",
        "      )\n",
        "      self.diag = self.add_weight(\n",
        "          shape=(self.units,),\n",
        "          initializer=tf.keras.initializers.get(self.kernel_initializer),\n",
        "          regularizer=tf.keras.regularizers.l2(1e-4),\n",
        "          trainable=True,\n",
        "          name='diag'\n",
        "      )\n",
        "      self.bias = self.add_weight(\n",
        "          shape=(self.units,),\n",
        "          initializer=tf.keras.initializers.get(self.bias_initializer),\n",
        "          trainable=True,\n",
        "          name='bias'\n",
        "        )\n",
        "\n",
        "      super().build(input_shape)\n",
        "\n",
        "    def call(self, inputs):\n",
        "      perm = tf.concat([inputs[:, ::2], inputs[:, 1::2][:, ::-1]], axis=-1)\n",
        "\n",
        "      dim = tf.shape(perm)[1]\n",
        "\n",
        "      D_hat_n = tf.exp(self.log_scale * tf.cast(tf.range(dim), tf.float32))\n",
        "\n",
        "      scaled = perm * D_hat_n * self.diag\n",
        "\n",
        "      return scaled + self.bias"
      ],
      "metadata": {
        "id": "vuh3x37ghZTd"
      },
      "execution_count": 88,
      "outputs": []
    },
    {
      "cell_type": "code",
      "source": [
        "def custom_accuracy(y_true, y_pred):\n",
        "    y_true_int = tf.cast(y_true * (q - 1), tf.int32)  # Rescale from [0,1] to [0, q-1]\n",
        "    y_pred_int = tf.cast(tf.round(y_pred * (q - 1)), tf.int32)\n",
        "    mask = tf.concat(\n",
        "        [tf.ones((tf.shape(y_true)[0], n), dtype=tf.float32),\n",
        "         tf.zeros((tf.shape(y_true)[0], n_padded - n), dtype=tf.float32)],\n",
        "        axis=1\n",
        "    )\n",
        "    correct = tf.cast(tf.equal(y_true_int, y_pred_int), tf.float32) * mask\n",
        "    return tf.reduce_sum(correct) / tf.reduce_sum(mask)\n",
        "\n",
        "def custom_mse(y_true, y_pred):\n",
        "    y_true = tf.cast(y_true, tf.float32)\n",
        "    y_pred = tf.cast(y_pred, tf.float32)\n",
        "    loss = tf.reduce_mean(tf.square(tf.cast(y_true - y_pred, tf.float32)))\n",
        "    return loss"
      ],
      "metadata": {
        "id": "7njrN3Llhh2U"
      },
      "execution_count": 89,
      "outputs": []
    },
    {
      "cell_type": "code",
      "source": [
        "from tensorflow.keras.layers import InputLayer, LeakyReLU, Activation\n",
        "from tensorflow.keras.models import Sequential\n",
        "from tensorflow.keras.optimizers import Adam\n",
        "\n",
        "initial_log_scale = np.log(z0 / w0)\n",
        "initial_scale = (z0 / w0)\n",
        "\n",
        "input_shape = (n_padded,)\n",
        "model = Sequential([\n",
        "    InputLayer(shape=input_shape),\n",
        "    FirstLayer(units=n_padded, trainable=True, name=\"first_layer\"),\n",
        "    # Activation('linear'),\n",
        "    SecondLayer(units=n_padded, trainable=True, name=\"second_layer\"),\n",
        "    # Activation('linear'),\n",
        "    ThirdLayer(units=n_padded, trainable=True, name=\"third_layer\"),\n",
        "    LeakyReLU(negative_slope=0.1),\n",
        "    ScalingLayer(units=n_padded, initial_scale=initial_log_scale, kernel_initializer='ones', bias_initializer='zeros', name=\"scaling_layer\"),\n",
        "    LeakyReLU(negative_slope=0.1),\n",
        "    DiagonalLayer(units=n_padded, trainable=False, kernel_initializer='ones', bias_initializer='zeros', name=\"output_layer\"),\n",
        "    Activation('linear')\n",
        "])\n",
        "\n",
        "model.compile(\n",
        "    optimizer=Adam(learning_rate=0.001),\n",
        "    loss='mse',\n",
        "    metrics=['mse', custom_accuracy]\n",
        ")\n",
        "\n",
        "model.summary()"
      ],
      "metadata": {
        "colab": {
          "base_uri": "https://localhost:8080/",
          "height": 385
        },
        "id": "aO4YeqWSha3a",
        "outputId": "8fc01891-5cd0-4d7c-87b3-f724bc6daa28"
      },
      "execution_count": 90,
      "outputs": [
        {
          "output_type": "display_data",
          "data": {
            "text/plain": [
              "\u001b[1mModel: \"sequential_2\"\u001b[0m\n"
            ],
            "text/html": [
              "<pre style=\"white-space:pre;overflow-x:auto;line-height:normal;font-family:Menlo,'DejaVu Sans Mono',consolas,'Courier New',monospace\"><span style=\"font-weight: bold\">Model: \"sequential_2\"</span>\n",
              "</pre>\n"
            ]
          },
          "metadata": {}
        },
        {
          "output_type": "display_data",
          "data": {
            "text/plain": [
              "┏━━━━━━━━━━━━━━━━━━━━━━━━━━━━━━━━━┳━━━━━━━━━━━━━━━━━━━━━━━━┳━━━━━━━━━━━━━━━┓\n",
              "┃\u001b[1m \u001b[0m\u001b[1mLayer (type)                   \u001b[0m\u001b[1m \u001b[0m┃\u001b[1m \u001b[0m\u001b[1mOutput Shape          \u001b[0m\u001b[1m \u001b[0m┃\u001b[1m \u001b[0m\u001b[1m      Param #\u001b[0m\u001b[1m \u001b[0m┃\n",
              "┡━━━━━━━━━━━━━━━━━━━━━━━━━━━━━━━━━╇━━━━━━━━━━━━━━━━━━━━━━━━╇━━━━━━━━━━━━━━━┩\n",
              "│ first_layer (\u001b[38;5;33mFirstLayer\u001b[0m)        │ (\u001b[38;5;45mNone\u001b[0m, \u001b[38;5;34m32\u001b[0m)             │            \u001b[38;5;34m64\u001b[0m │\n",
              "├─────────────────────────────────┼────────────────────────┼───────────────┤\n",
              "│ second_layer (\u001b[38;5;33mSecondLayer\u001b[0m)      │ (\u001b[38;5;45mNone\u001b[0m, \u001b[38;5;34m32\u001b[0m)             │           \u001b[38;5;34m240\u001b[0m │\n",
              "├─────────────────────────────────┼────────────────────────┼───────────────┤\n",
              "│ third_layer (\u001b[38;5;33mThirdLayer\u001b[0m)        │ (\u001b[38;5;45mNone\u001b[0m, \u001b[38;5;34m32\u001b[0m)             │            \u001b[38;5;34m48\u001b[0m │\n",
              "├─────────────────────────────────┼────────────────────────┼───────────────┤\n",
              "│ leaky_re_lu_4 (\u001b[38;5;33mLeakyReLU\u001b[0m)       │ (\u001b[38;5;45mNone\u001b[0m, \u001b[38;5;34m32\u001b[0m)             │             \u001b[38;5;34m0\u001b[0m │\n",
              "├─────────────────────────────────┼────────────────────────┼───────────────┤\n",
              "│ scaling_layer (\u001b[38;5;33mScalingLayer\u001b[0m)    │ (\u001b[38;5;45mNone\u001b[0m, \u001b[38;5;34m32\u001b[0m)             │            \u001b[38;5;34m65\u001b[0m │\n",
              "├─────────────────────────────────┼────────────────────────┼───────────────┤\n",
              "│ leaky_re_lu_5 (\u001b[38;5;33mLeakyReLU\u001b[0m)       │ (\u001b[38;5;45mNone\u001b[0m, \u001b[38;5;34m32\u001b[0m)             │             \u001b[38;5;34m0\u001b[0m │\n",
              "├─────────────────────────────────┼────────────────────────┼───────────────┤\n",
              "│ output_layer (\u001b[38;5;33mDiagonalLayer\u001b[0m)    │ (\u001b[38;5;45mNone\u001b[0m, \u001b[38;5;34m32\u001b[0m)             │            \u001b[38;5;34m64\u001b[0m │\n",
              "├─────────────────────────────────┼────────────────────────┼───────────────┤\n",
              "│ activation_2 (\u001b[38;5;33mActivation\u001b[0m)       │ (\u001b[38;5;45mNone\u001b[0m, \u001b[38;5;34m32\u001b[0m)             │             \u001b[38;5;34m0\u001b[0m │\n",
              "└─────────────────────────────────┴────────────────────────┴───────────────┘\n"
            ],
            "text/html": [
              "<pre style=\"white-space:pre;overflow-x:auto;line-height:normal;font-family:Menlo,'DejaVu Sans Mono',consolas,'Courier New',monospace\">┏━━━━━━━━━━━━━━━━━━━━━━━━━━━━━━━━━┳━━━━━━━━━━━━━━━━━━━━━━━━┳━━━━━━━━━━━━━━━┓\n",
              "┃<span style=\"font-weight: bold\"> Layer (type)                    </span>┃<span style=\"font-weight: bold\"> Output Shape           </span>┃<span style=\"font-weight: bold\">       Param # </span>┃\n",
              "┡━━━━━━━━━━━━━━━━━━━━━━━━━━━━━━━━━╇━━━━━━━━━━━━━━━━━━━━━━━━╇━━━━━━━━━━━━━━━┩\n",
              "│ first_layer (<span style=\"color: #0087ff; text-decoration-color: #0087ff\">FirstLayer</span>)        │ (<span style=\"color: #00d7ff; text-decoration-color: #00d7ff\">None</span>, <span style=\"color: #00af00; text-decoration-color: #00af00\">32</span>)             │            <span style=\"color: #00af00; text-decoration-color: #00af00\">64</span> │\n",
              "├─────────────────────────────────┼────────────────────────┼───────────────┤\n",
              "│ second_layer (<span style=\"color: #0087ff; text-decoration-color: #0087ff\">SecondLayer</span>)      │ (<span style=\"color: #00d7ff; text-decoration-color: #00d7ff\">None</span>, <span style=\"color: #00af00; text-decoration-color: #00af00\">32</span>)             │           <span style=\"color: #00af00; text-decoration-color: #00af00\">240</span> │\n",
              "├─────────────────────────────────┼────────────────────────┼───────────────┤\n",
              "│ third_layer (<span style=\"color: #0087ff; text-decoration-color: #0087ff\">ThirdLayer</span>)        │ (<span style=\"color: #00d7ff; text-decoration-color: #00d7ff\">None</span>, <span style=\"color: #00af00; text-decoration-color: #00af00\">32</span>)             │            <span style=\"color: #00af00; text-decoration-color: #00af00\">48</span> │\n",
              "├─────────────────────────────────┼────────────────────────┼───────────────┤\n",
              "│ leaky_re_lu_4 (<span style=\"color: #0087ff; text-decoration-color: #0087ff\">LeakyReLU</span>)       │ (<span style=\"color: #00d7ff; text-decoration-color: #00d7ff\">None</span>, <span style=\"color: #00af00; text-decoration-color: #00af00\">32</span>)             │             <span style=\"color: #00af00; text-decoration-color: #00af00\">0</span> │\n",
              "├─────────────────────────────────┼────────────────────────┼───────────────┤\n",
              "│ scaling_layer (<span style=\"color: #0087ff; text-decoration-color: #0087ff\">ScalingLayer</span>)    │ (<span style=\"color: #00d7ff; text-decoration-color: #00d7ff\">None</span>, <span style=\"color: #00af00; text-decoration-color: #00af00\">32</span>)             │            <span style=\"color: #00af00; text-decoration-color: #00af00\">65</span> │\n",
              "├─────────────────────────────────┼────────────────────────┼───────────────┤\n",
              "│ leaky_re_lu_5 (<span style=\"color: #0087ff; text-decoration-color: #0087ff\">LeakyReLU</span>)       │ (<span style=\"color: #00d7ff; text-decoration-color: #00d7ff\">None</span>, <span style=\"color: #00af00; text-decoration-color: #00af00\">32</span>)             │             <span style=\"color: #00af00; text-decoration-color: #00af00\">0</span> │\n",
              "├─────────────────────────────────┼────────────────────────┼───────────────┤\n",
              "│ output_layer (<span style=\"color: #0087ff; text-decoration-color: #0087ff\">DiagonalLayer</span>)    │ (<span style=\"color: #00d7ff; text-decoration-color: #00d7ff\">None</span>, <span style=\"color: #00af00; text-decoration-color: #00af00\">32</span>)             │            <span style=\"color: #00af00; text-decoration-color: #00af00\">64</span> │\n",
              "├─────────────────────────────────┼────────────────────────┼───────────────┤\n",
              "│ activation_2 (<span style=\"color: #0087ff; text-decoration-color: #0087ff\">Activation</span>)       │ (<span style=\"color: #00d7ff; text-decoration-color: #00d7ff\">None</span>, <span style=\"color: #00af00; text-decoration-color: #00af00\">32</span>)             │             <span style=\"color: #00af00; text-decoration-color: #00af00\">0</span> │\n",
              "└─────────────────────────────────┴────────────────────────┴───────────────┘\n",
              "</pre>\n"
            ]
          },
          "metadata": {}
        },
        {
          "output_type": "display_data",
          "data": {
            "text/plain": [
              "\u001b[1m Total params: \u001b[0m\u001b[38;5;34m481\u001b[0m (1.88 KB)\n"
            ],
            "text/html": [
              "<pre style=\"white-space:pre;overflow-x:auto;line-height:normal;font-family:Menlo,'DejaVu Sans Mono',consolas,'Courier New',monospace\"><span style=\"font-weight: bold\"> Total params: </span><span style=\"color: #00af00; text-decoration-color: #00af00\">481</span> (1.88 KB)\n",
              "</pre>\n"
            ]
          },
          "metadata": {}
        },
        {
          "output_type": "display_data",
          "data": {
            "text/plain": [
              "\u001b[1m Trainable params: \u001b[0m\u001b[38;5;34m417\u001b[0m (1.63 KB)\n"
            ],
            "text/html": [
              "<pre style=\"white-space:pre;overflow-x:auto;line-height:normal;font-family:Menlo,'DejaVu Sans Mono',consolas,'Courier New',monospace\"><span style=\"font-weight: bold\"> Trainable params: </span><span style=\"color: #00af00; text-decoration-color: #00af00\">417</span> (1.63 KB)\n",
              "</pre>\n"
            ]
          },
          "metadata": {}
        },
        {
          "output_type": "display_data",
          "data": {
            "text/plain": [
              "\u001b[1m Non-trainable params: \u001b[0m\u001b[38;5;34m64\u001b[0m (256.00 B)\n"
            ],
            "text/html": [
              "<pre style=\"white-space:pre;overflow-x:auto;line-height:normal;font-family:Menlo,'DejaVu Sans Mono',consolas,'Courier New',monospace\"><span style=\"font-weight: bold\"> Non-trainable params: </span><span style=\"color: #00af00; text-decoration-color: #00af00\">64</span> (256.00 B)\n",
              "</pre>\n"
            ]
          },
          "metadata": {}
        }
      ]
    },
    {
      "cell_type": "markdown",
      "source": [
        "Create Batches with random noise injected"
      ],
      "metadata": {
        "id": "8ZLNLfSdyNo5"
      }
    },
    {
      "cell_type": "code",
      "source": [
        "def batch_generator(train_dataset, M_tilde, q, batch_size):\n",
        "    n = train_dataset.shape[1]\n",
        "    k = np.arange(n)\n",
        "    alpha_k = np.where(k == 0, np.sqrt(1/n), np.sqrt(2/n))\n",
        "    shift = np.exp(-1j * np.pi * k / (2 * n))\n",
        "\n",
        "    # indices = np.arange(len(train_dataset))\n",
        "    # i = 0\n",
        "\n",
        "    while True:\n",
        "        # if i + batch_size > len(train_dataset):\n",
        "            # np.random.shuffle(indices)  # Shuffle for next epoch\n",
        "            # i = 0\n",
        "\n",
        "        # idx = indices[i:i+batch_size]\n",
        "        # i += batch_size\n",
        "\n",
        "        # x_batch = train_dataset[idx]\n",
        "\n",
        "        idx = np.random.choice(len(train_dataset), size=batch_size)\n",
        "        x_batch = train_dataset[idx]\n",
        "\n",
        "        # y = Mx ---> shape: (batch_size, n)\n",
        "        y_batch = np.dot(M_tilde, x_batch.T).T\n",
        "\n",
        "        # add noise to simulate a noisy channel\n",
        "        sigma_batch = np.random.uniform(0.04, 0.06)\n",
        "        noise = np.random.normal(0, sigma_batch, y_batch.shape)\n",
        "        y_noisy = y_batch + noise\n",
        "\n",
        "        # convert to DCT-II coefficients\n",
        "        dct2_batch = np.real(alpha_k * shift * y_noisy)\n",
        "        dct2_batch = np.round(dct2_batch, decimals=10)\n",
        "\n",
        "        # normalize\n",
        "        dct2_batch = (dct2_batch - dct2_batch.mean()) / dct2_batch.std()\n",
        "        y_scaled = x_batch / (q - 1)\n",
        "\n",
        "        yield dct2_batch.astype(np.float32), y_scaled.astype(np.float32)"
      ],
      "metadata": {
        "id": "et5brasFh86r"
      },
      "execution_count": 91,
      "outputs": []
    },
    {
      "cell_type": "code",
      "source": [
        "# preparing the validation data\n",
        "\n",
        "val_encoded = np.dot(M_tilde, y_val.T).T\n",
        "\n",
        "k = np.arange(n_padded)\n",
        "alpha_k = np.where(k == 0, np.sqrt(1/n_padded), np.sqrt(2/n_padded))\n",
        "shift = np.exp(-1j * np.pi * k / (2 * n_padded))\n",
        "X_val_dct2 = np.real(alpha_k * shift * val_encoded)\n",
        "X_val_dct2 = (X_val_dct2 - X_val_dct2.mean()) / X_val_dct2.std()\n",
        "\n",
        "y_val_labels = y_val / (q - 1)\n",
        "\n",
        "X_val_dct2 = X_val_dct2.astype(np.float32)\n",
        "y_val_labels = y_val_labels.astype(np.float32)"
      ],
      "metadata": {
        "id": "Ur0BCRvuwxKw"
      },
      "execution_count": 92,
      "outputs": []
    },
    {
      "cell_type": "code",
      "source": [
        "# y_train\n",
        "# y_val\n",
        "# y_val_labels\n",
        "# X_val_dct2"
      ],
      "metadata": {
        "id": "Vozzku4ysKBa"
      },
      "execution_count": 93,
      "outputs": []
    },
    {
      "cell_type": "markdown",
      "source": [
        "Train NN (under 5% noise)"
      ],
      "metadata": {
        "id": "7nb0oLhNyL3I"
      }
    },
    {
      "cell_type": "code",
      "source": [
        "from tensorflow.keras.callbacks import EarlyStopping, ReduceLROnPlateau\n",
        "\n",
        "early_stopping = EarlyStopping(monitor='val_loss', patience=10, restore_best_weights=True)\n",
        "\n",
        "adjust_lr = ReduceLROnPlateau(\n",
        "    monitor='val_loss',\n",
        "    factor=0.5,\n",
        "    patience=5,\n",
        "    min_lr=1e-7,\n",
        "    verbose=1\n",
        ")\n",
        "\n",
        "history = model.fit(\n",
        "    batch_generator(y_train, M_tilde, q=q, batch_size=64),\n",
        "    steps_per_epoch=100,\n",
        "    epochs=200,\n",
        "    validation_data=(X_val_dct2, y_val_labels),\n",
        "    callbacks=[adjust_lr, early_stopping]\n",
        ")"
      ],
      "metadata": {
        "colab": {
          "base_uri": "https://localhost:8080/"
        },
        "id": "5eBKcNQch_y-",
        "outputId": "32a8125a-db65-441d-c3b4-e56bc144969a"
      },
      "execution_count": 94,
      "outputs": [
        {
          "output_type": "stream",
          "name": "stdout",
          "text": [
            "Epoch 1/200\n",
            "\u001b[1m100/100\u001b[0m \u001b[32m━━━━━━━━━━━━━━━━━━━━\u001b[0m\u001b[37m\u001b[0m \u001b[1m22s\u001b[0m 41ms/step - custom_accuracy: 0.1416 - loss: 0.2577 - mse: 0.2546 - val_custom_accuracy: 0.1488 - val_loss: 0.1646 - val_mse: 0.1612 - learning_rate: 0.0010\n",
            "Epoch 2/200\n",
            "\u001b[1m100/100\u001b[0m \u001b[32m━━━━━━━━━━━━━━━━━━━━\u001b[0m\u001b[37m\u001b[0m \u001b[1m2s\u001b[0m 17ms/step - custom_accuracy: 0.1551 - loss: 0.1364 - mse: 0.1329 - val_custom_accuracy: 0.1944 - val_loss: 0.0694 - val_mse: 0.0657 - learning_rate: 0.0010\n",
            "Epoch 3/200\n",
            "\u001b[1m100/100\u001b[0m \u001b[32m━━━━━━━━━━━━━━━━━━━━\u001b[0m\u001b[37m\u001b[0m \u001b[1m2s\u001b[0m 17ms/step - custom_accuracy: 0.2279 - loss: 0.0677 - mse: 0.0640 - val_custom_accuracy: 0.2606 - val_loss: 0.0649 - val_mse: 0.0612 - learning_rate: 0.0010\n",
            "Epoch 4/200\n",
            "\u001b[1m100/100\u001b[0m \u001b[32m━━━━━━━━━━━━━━━━━━━━\u001b[0m\u001b[37m\u001b[0m \u001b[1m2s\u001b[0m 18ms/step - custom_accuracy: 0.2774 - loss: 0.0638 - mse: 0.0601 - val_custom_accuracy: 0.2902 - val_loss: 0.0621 - val_mse: 0.0584 - learning_rate: 0.0010\n",
            "Epoch 5/200\n",
            "\u001b[1m100/100\u001b[0m \u001b[32m━━━━━━━━━━━━━━━━━━━━\u001b[0m\u001b[37m\u001b[0m \u001b[1m2s\u001b[0m 17ms/step - custom_accuracy: 0.3045 - loss: 0.0610 - mse: 0.0573 - val_custom_accuracy: 0.3206 - val_loss: 0.0595 - val_mse: 0.0558 - learning_rate: 0.0010\n",
            "Epoch 6/200\n",
            "\u001b[1m100/100\u001b[0m \u001b[32m━━━━━━━━━━━━━━━━━━━━\u001b[0m\u001b[37m\u001b[0m \u001b[1m3s\u001b[0m 31ms/step - custom_accuracy: 0.3241 - loss: 0.0585 - mse: 0.0548 - val_custom_accuracy: 0.3370 - val_loss: 0.0575 - val_mse: 0.0539 - learning_rate: 0.0010\n",
            "Epoch 7/200\n",
            "\u001b[1m100/100\u001b[0m \u001b[32m━━━━━━━━━━━━━━━━━━━━\u001b[0m\u001b[37m\u001b[0m \u001b[1m2s\u001b[0m 21ms/step - custom_accuracy: 0.3474 - loss: 0.0560 - mse: 0.0523 - val_custom_accuracy: 0.3512 - val_loss: 0.0554 - val_mse: 0.0518 - learning_rate: 0.0010\n",
            "Epoch 8/200\n",
            "\u001b[1m100/100\u001b[0m \u001b[32m━━━━━━━━━━━━━━━━━━━━\u001b[0m\u001b[37m\u001b[0m \u001b[1m2s\u001b[0m 19ms/step - custom_accuracy: 0.3670 - loss: 0.0544 - mse: 0.0508 - val_custom_accuracy: 0.3765 - val_loss: 0.0534 - val_mse: 0.0498 - learning_rate: 0.0010\n",
            "Epoch 9/200\n",
            "\u001b[1m100/100\u001b[0m \u001b[32m━━━━━━━━━━━━━━━━━━━━\u001b[0m\u001b[37m\u001b[0m \u001b[1m2s\u001b[0m 18ms/step - custom_accuracy: 0.3952 - loss: 0.0527 - mse: 0.0491 - val_custom_accuracy: 0.4053 - val_loss: 0.0522 - val_mse: 0.0486 - learning_rate: 0.0010\n",
            "Epoch 10/200\n",
            "\u001b[1m100/100\u001b[0m \u001b[32m━━━━━━━━━━━━━━━━━━━━\u001b[0m\u001b[37m\u001b[0m \u001b[1m2s\u001b[0m 18ms/step - custom_accuracy: 0.4258 - loss: 0.0514 - mse: 0.0477 - val_custom_accuracy: 0.4461 - val_loss: 0.0502 - val_mse: 0.0466 - learning_rate: 0.0010\n",
            "Epoch 11/200\n",
            "\u001b[1m100/100\u001b[0m \u001b[32m━━━━━━━━━━━━━━━━━━━━\u001b[0m\u001b[37m\u001b[0m \u001b[1m2s\u001b[0m 18ms/step - custom_accuracy: 0.4607 - loss: 0.0495 - mse: 0.0459 - val_custom_accuracy: 0.4805 - val_loss: 0.0488 - val_mse: 0.0452 - learning_rate: 0.0010\n",
            "Epoch 12/200\n",
            "\u001b[1m100/100\u001b[0m \u001b[32m━━━━━━━━━━━━━━━━━━━━\u001b[0m\u001b[37m\u001b[0m \u001b[1m2s\u001b[0m 22ms/step - custom_accuracy: 0.4884 - loss: 0.0479 - mse: 0.0444 - val_custom_accuracy: 0.5079 - val_loss: 0.0479 - val_mse: 0.0444 - learning_rate: 0.0010\n",
            "Epoch 13/200\n",
            "\u001b[1m100/100\u001b[0m \u001b[32m━━━━━━━━━━━━━━━━━━━━\u001b[0m\u001b[37m\u001b[0m \u001b[1m3s\u001b[0m 29ms/step - custom_accuracy: 0.5134 - loss: 0.0471 - mse: 0.0437 - val_custom_accuracy: 0.5321 - val_loss: 0.0466 - val_mse: 0.0432 - learning_rate: 0.0010\n",
            "Epoch 14/200\n",
            "\u001b[1m100/100\u001b[0m \u001b[32m━━━━━━━━━━━━━━━━━━━━\u001b[0m\u001b[37m\u001b[0m \u001b[1m2s\u001b[0m 18ms/step - custom_accuracy: 0.5324 - loss: 0.0462 - mse: 0.0428 - val_custom_accuracy: 0.5351 - val_loss: 0.0455 - val_mse: 0.0422 - learning_rate: 0.0010\n",
            "Epoch 15/200\n",
            "\u001b[1m100/100\u001b[0m \u001b[32m━━━━━━━━━━━━━━━━━━━━\u001b[0m\u001b[37m\u001b[0m \u001b[1m2s\u001b[0m 18ms/step - custom_accuracy: 0.5453 - loss: 0.0454 - mse: 0.0420 - val_custom_accuracy: 0.5552 - val_loss: 0.0450 - val_mse: 0.0417 - learning_rate: 0.0010\n",
            "Epoch 16/200\n",
            "\u001b[1m100/100\u001b[0m \u001b[32m━━━━━━━━━━━━━━━━━━━━\u001b[0m\u001b[37m\u001b[0m \u001b[1m2s\u001b[0m 17ms/step - custom_accuracy: 0.5593 - loss: 0.0446 - mse: 0.0414 - val_custom_accuracy: 0.5580 - val_loss: 0.0442 - val_mse: 0.0411 - learning_rate: 0.0010\n",
            "Epoch 17/200\n",
            "\u001b[1m100/100\u001b[0m \u001b[32m━━━━━━━━━━━━━━━━━━━━\u001b[0m\u001b[37m\u001b[0m \u001b[1m2s\u001b[0m 18ms/step - custom_accuracy: 0.5700 - loss: 0.0438 - mse: 0.0407 - val_custom_accuracy: 0.5847 - val_loss: 0.0433 - val_mse: 0.0402 - learning_rate: 0.0010\n",
            "Epoch 18/200\n",
            "\u001b[1m100/100\u001b[0m \u001b[32m━━━━━━━━━━━━━━━━━━━━\u001b[0m\u001b[37m\u001b[0m \u001b[1m2s\u001b[0m 19ms/step - custom_accuracy: 0.5767 - loss: 0.0434 - mse: 0.0403 - val_custom_accuracy: 0.5951 - val_loss: 0.0428 - val_mse: 0.0398 - learning_rate: 0.0010\n",
            "Epoch 19/200\n",
            "\u001b[1m100/100\u001b[0m \u001b[32m━━━━━━━━━━━━━━━━━━━━\u001b[0m\u001b[37m\u001b[0m \u001b[1m2s\u001b[0m 24ms/step - custom_accuracy: 0.5834 - loss: 0.0428 - mse: 0.0398 - val_custom_accuracy: 0.5949 - val_loss: 0.0422 - val_mse: 0.0393 - learning_rate: 0.0010\n",
            "Epoch 20/200\n",
            "\u001b[1m100/100\u001b[0m \u001b[32m━━━━━━━━━━━━━━━━━━━━\u001b[0m\u001b[37m\u001b[0m \u001b[1m3s\u001b[0m 26ms/step - custom_accuracy: 0.5916 - loss: 0.0419 - mse: 0.0390 - val_custom_accuracy: 0.6000 - val_loss: 0.0416 - val_mse: 0.0388 - learning_rate: 0.0010\n",
            "Epoch 21/200\n",
            "\u001b[1m100/100\u001b[0m \u001b[32m━━━━━━━━━━━━━━━━━━━━\u001b[0m\u001b[37m\u001b[0m \u001b[1m2s\u001b[0m 19ms/step - custom_accuracy: 0.5942 - loss: 0.0414 - mse: 0.0385 - val_custom_accuracy: 0.5919 - val_loss: 0.0413 - val_mse: 0.0386 - learning_rate: 0.0010\n",
            "Epoch 22/200\n",
            "\u001b[1m100/100\u001b[0m \u001b[32m━━━━━━━━━━━━━━━━━━━━\u001b[0m\u001b[37m\u001b[0m \u001b[1m2s\u001b[0m 19ms/step - custom_accuracy: 0.5973 - loss: 0.0408 - mse: 0.0380 - val_custom_accuracy: 0.6098 - val_loss: 0.0408 - val_mse: 0.0380 - learning_rate: 0.0010\n",
            "Epoch 23/200\n",
            "\u001b[1m100/100\u001b[0m \u001b[32m━━━━━━━━━━━━━━━━━━━━\u001b[0m\u001b[37m\u001b[0m \u001b[1m2s\u001b[0m 18ms/step - custom_accuracy: 0.5988 - loss: 0.0406 - mse: 0.0379 - val_custom_accuracy: 0.6138 - val_loss: 0.0402 - val_mse: 0.0375 - learning_rate: 0.0010\n",
            "Epoch 24/200\n",
            "\u001b[1m100/100\u001b[0m \u001b[32m━━━━━━━━━━━━━━━━━━━━\u001b[0m\u001b[37m\u001b[0m \u001b[1m2s\u001b[0m 19ms/step - custom_accuracy: 0.6065 - loss: 0.0400 - mse: 0.0374 - val_custom_accuracy: 0.6151 - val_loss: 0.0403 - val_mse: 0.0377 - learning_rate: 0.0010\n",
            "Epoch 25/200\n",
            "\u001b[1m100/100\u001b[0m \u001b[32m━━━━━━━━━━━━━━━━━━━━\u001b[0m\u001b[37m\u001b[0m \u001b[1m2s\u001b[0m 20ms/step - custom_accuracy: 0.6138 - loss: 0.0396 - mse: 0.0370 - val_custom_accuracy: 0.6278 - val_loss: 0.0392 - val_mse: 0.0367 - learning_rate: 0.0010\n",
            "Epoch 26/200\n",
            "\u001b[1m100/100\u001b[0m \u001b[32m━━━━━━━━━━━━━━━━━━━━\u001b[0m\u001b[37m\u001b[0m \u001b[1m3s\u001b[0m 29ms/step - custom_accuracy: 0.6195 - loss: 0.0394 - mse: 0.0369 - val_custom_accuracy: 0.6152 - val_loss: 0.0390 - val_mse: 0.0365 - learning_rate: 0.0010\n",
            "Epoch 27/200\n",
            "\u001b[1m100/100\u001b[0m \u001b[32m━━━━━━━━━━━━━━━━━━━━\u001b[0m\u001b[37m\u001b[0m \u001b[1m2s\u001b[0m 19ms/step - custom_accuracy: 0.6235 - loss: 0.0389 - mse: 0.0365 - val_custom_accuracy: 0.6361 - val_loss: 0.0386 - val_mse: 0.0362 - learning_rate: 0.0010\n",
            "Epoch 28/200\n",
            "\u001b[1m100/100\u001b[0m \u001b[32m━━━━━━━━━━━━━━━━━━━━\u001b[0m\u001b[37m\u001b[0m \u001b[1m2s\u001b[0m 18ms/step - custom_accuracy: 0.6261 - loss: 0.0386 - mse: 0.0362 - val_custom_accuracy: 0.6314 - val_loss: 0.0385 - val_mse: 0.0361 - learning_rate: 0.0010\n",
            "Epoch 29/200\n",
            "\u001b[1m100/100\u001b[0m \u001b[32m━━━━━━━━━━━━━━━━━━━━\u001b[0m\u001b[37m\u001b[0m \u001b[1m2s\u001b[0m 18ms/step - custom_accuracy: 0.6228 - loss: 0.0386 - mse: 0.0362 - val_custom_accuracy: 0.6435 - val_loss: 0.0381 - val_mse: 0.0358 - learning_rate: 0.0010\n",
            "Epoch 30/200\n",
            "\u001b[1m100/100\u001b[0m \u001b[32m━━━━━━━━━━━━━━━━━━━━\u001b[0m\u001b[37m\u001b[0m \u001b[1m2s\u001b[0m 17ms/step - custom_accuracy: 0.6398 - loss: 0.0380 - mse: 0.0357 - val_custom_accuracy: 0.6405 - val_loss: 0.0380 - val_mse: 0.0357 - learning_rate: 0.0010\n",
            "Epoch 31/200\n",
            "\u001b[1m100/100\u001b[0m \u001b[32m━━━━━━━━━━━━━━━━━━━━\u001b[0m\u001b[37m\u001b[0m \u001b[1m2s\u001b[0m 17ms/step - custom_accuracy: 0.6252 - loss: 0.0384 - mse: 0.0362 - val_custom_accuracy: 0.6481 - val_loss: 0.0376 - val_mse: 0.0354 - learning_rate: 0.0010\n",
            "Epoch 32/200\n",
            "\u001b[1m100/100\u001b[0m \u001b[32m━━━━━━━━━━━━━━━━━━━━\u001b[0m\u001b[37m\u001b[0m \u001b[1m2s\u001b[0m 24ms/step - custom_accuracy: 0.6413 - loss: 0.0375 - mse: 0.0353 - val_custom_accuracy: 0.6381 - val_loss: 0.0378 - val_mse: 0.0356 - learning_rate: 0.0010\n",
            "Epoch 33/200\n",
            "\u001b[1m100/100\u001b[0m \u001b[32m━━━━━━━━━━━━━━━━━━━━\u001b[0m\u001b[37m\u001b[0m \u001b[1m3s\u001b[0m 26ms/step - custom_accuracy: 0.6426 - loss: 0.0372 - mse: 0.0350 - val_custom_accuracy: 0.6493 - val_loss: 0.0374 - val_mse: 0.0353 - learning_rate: 0.0010\n",
            "Epoch 34/200\n",
            "\u001b[1m100/100\u001b[0m \u001b[32m━━━━━━━━━━━━━━━━━━━━\u001b[0m\u001b[37m\u001b[0m \u001b[1m2s\u001b[0m 20ms/step - custom_accuracy: 0.6393 - loss: 0.0372 - mse: 0.0351 - val_custom_accuracy: 0.6508 - val_loss: 0.0370 - val_mse: 0.0349 - learning_rate: 0.0010\n",
            "Epoch 35/200\n",
            "\u001b[1m100/100\u001b[0m \u001b[32m━━━━━━━━━━━━━━━━━━━━\u001b[0m\u001b[37m\u001b[0m \u001b[1m2s\u001b[0m 19ms/step - custom_accuracy: 0.6379 - loss: 0.0371 - mse: 0.0350 - val_custom_accuracy: 0.6478 - val_loss: 0.0371 - val_mse: 0.0351 - learning_rate: 0.0010\n",
            "Epoch 36/200\n",
            "\u001b[1m100/100\u001b[0m \u001b[32m━━━━━━━━━━━━━━━━━━━━\u001b[0m\u001b[37m\u001b[0m \u001b[1m2s\u001b[0m 19ms/step - custom_accuracy: 0.6462 - loss: 0.0368 - mse: 0.0348 - val_custom_accuracy: 0.6521 - val_loss: 0.0365 - val_mse: 0.0345 - learning_rate: 0.0010\n",
            "Epoch 37/200\n",
            "\u001b[1m100/100\u001b[0m \u001b[32m━━━━━━━━━━━━━━━━━━━━\u001b[0m\u001b[37m\u001b[0m \u001b[1m2s\u001b[0m 19ms/step - custom_accuracy: 0.6452 - loss: 0.0367 - mse: 0.0347 - val_custom_accuracy: 0.6422 - val_loss: 0.0363 - val_mse: 0.0344 - learning_rate: 0.0010\n",
            "Epoch 38/200\n",
            "\u001b[1m100/100\u001b[0m \u001b[32m━━━━━━━━━━━━━━━━━━━━\u001b[0m\u001b[37m\u001b[0m \u001b[1m2s\u001b[0m 19ms/step - custom_accuracy: 0.6465 - loss: 0.0359 - mse: 0.0340 - val_custom_accuracy: 0.6531 - val_loss: 0.0362 - val_mse: 0.0343 - learning_rate: 0.0010\n",
            "Epoch 39/200\n",
            "\u001b[1m100/100\u001b[0m \u001b[32m━━━━━━━━━━━━━━━━━━━━\u001b[0m\u001b[37m\u001b[0m \u001b[1m3s\u001b[0m 34ms/step - custom_accuracy: 0.6486 - loss: 0.0363 - mse: 0.0344 - val_custom_accuracy: 0.6427 - val_loss: 0.0360 - val_mse: 0.0341 - learning_rate: 0.0010\n",
            "Epoch 40/200\n",
            "\u001b[1m100/100\u001b[0m \u001b[32m━━━━━━━━━━━━━━━━━━━━\u001b[0m\u001b[37m\u001b[0m \u001b[1m2s\u001b[0m 22ms/step - custom_accuracy: 0.6455 - loss: 0.0357 - mse: 0.0338 - val_custom_accuracy: 0.6524 - val_loss: 0.0358 - val_mse: 0.0339 - learning_rate: 0.0010\n",
            "Epoch 41/200\n",
            "\u001b[1m100/100\u001b[0m \u001b[32m━━━━━━━━━━━━━━━━━━━━\u001b[0m\u001b[37m\u001b[0m \u001b[1m2s\u001b[0m 18ms/step - custom_accuracy: 0.6443 - loss: 0.0354 - mse: 0.0336 - val_custom_accuracy: 0.6498 - val_loss: 0.0355 - val_mse: 0.0337 - learning_rate: 0.0010\n",
            "Epoch 42/200\n",
            "\u001b[1m100/100\u001b[0m \u001b[32m━━━━━━━━━━━━━━━━━━━━\u001b[0m\u001b[37m\u001b[0m \u001b[1m2s\u001b[0m 18ms/step - custom_accuracy: 0.6469 - loss: 0.0355 - mse: 0.0337 - val_custom_accuracy: 0.6515 - val_loss: 0.0347 - val_mse: 0.0328 - learning_rate: 0.0010\n",
            "Epoch 43/200\n",
            "\u001b[1m100/100\u001b[0m \u001b[32m━━━━━━━━━━━━━━━━━━━━\u001b[0m\u001b[37m\u001b[0m \u001b[1m2s\u001b[0m 18ms/step - custom_accuracy: 0.6500 - loss: 0.0351 - mse: 0.0333 - val_custom_accuracy: 0.6379 - val_loss: 0.0350 - val_mse: 0.0331 - learning_rate: 0.0010\n",
            "Epoch 44/200\n",
            "\u001b[1m100/100\u001b[0m \u001b[32m━━━━━━━━━━━━━━━━━━━━\u001b[0m\u001b[37m\u001b[0m \u001b[1m2s\u001b[0m 18ms/step - custom_accuracy: 0.6406 - loss: 0.0349 - mse: 0.0330 - val_custom_accuracy: 0.6210 - val_loss: 0.0349 - val_mse: 0.0331 - learning_rate: 0.0010\n",
            "Epoch 45/200\n",
            "\u001b[1m100/100\u001b[0m \u001b[32m━━━━━━━━━━━━━━━━━━━━\u001b[0m\u001b[37m\u001b[0m \u001b[1m2s\u001b[0m 21ms/step - custom_accuracy: 0.6380 - loss: 0.0348 - mse: 0.0330 - val_custom_accuracy: 0.6559 - val_loss: 0.0336 - val_mse: 0.0318 - learning_rate: 0.0010\n",
            "Epoch 46/200\n",
            "\u001b[1m100/100\u001b[0m \u001b[32m━━━━━━━━━━━━━━━━━━━━\u001b[0m\u001b[37m\u001b[0m \u001b[1m3s\u001b[0m 28ms/step - custom_accuracy: 0.6529 - loss: 0.0338 - mse: 0.0320 - val_custom_accuracy: 0.6561 - val_loss: 0.0339 - val_mse: 0.0320 - learning_rate: 0.0010\n",
            "Epoch 47/200\n",
            "\u001b[1m100/100\u001b[0m \u001b[32m━━━━━━━━━━━━━━━━━━━━\u001b[0m\u001b[37m\u001b[0m \u001b[1m2s\u001b[0m 18ms/step - custom_accuracy: 0.6377 - loss: 0.0339 - mse: 0.0321 - val_custom_accuracy: 0.6529 - val_loss: 0.0332 - val_mse: 0.0314 - learning_rate: 0.0010\n",
            "Epoch 48/200\n",
            "\u001b[1m100/100\u001b[0m \u001b[32m━━━━━━━━━━━━━━━━━━━━\u001b[0m\u001b[37m\u001b[0m \u001b[1m2s\u001b[0m 18ms/step - custom_accuracy: 0.6460 - loss: 0.0335 - mse: 0.0317 - val_custom_accuracy: 0.6587 - val_loss: 0.0325 - val_mse: 0.0307 - learning_rate: 0.0010\n",
            "Epoch 49/200\n",
            "\u001b[1m100/100\u001b[0m \u001b[32m━━━━━━━━━━━━━━━━━━━━\u001b[0m\u001b[37m\u001b[0m \u001b[1m2s\u001b[0m 18ms/step - custom_accuracy: 0.6560 - loss: 0.0329 - mse: 0.0311 - val_custom_accuracy: 0.6670 - val_loss: 0.0323 - val_mse: 0.0304 - learning_rate: 0.0010\n",
            "Epoch 50/200\n",
            "\u001b[1m100/100\u001b[0m \u001b[32m━━━━━━━━━━━━━━━━━━━━\u001b[0m\u001b[37m\u001b[0m \u001b[1m2s\u001b[0m 18ms/step - custom_accuracy: 0.6528 - loss: 0.0330 - mse: 0.0312 - val_custom_accuracy: 0.6473 - val_loss: 0.0322 - val_mse: 0.0303 - learning_rate: 0.0010\n",
            "Epoch 51/200\n",
            "\u001b[1m100/100\u001b[0m \u001b[32m━━━━━━━━━━━━━━━━━━━━\u001b[0m\u001b[37m\u001b[0m \u001b[1m2s\u001b[0m 18ms/step - custom_accuracy: 0.6477 - loss: 0.0322 - mse: 0.0304 - val_custom_accuracy: 0.6721 - val_loss: 0.0317 - val_mse: 0.0299 - learning_rate: 0.0010\n",
            "Epoch 52/200\n",
            "\u001b[1m100/100\u001b[0m \u001b[32m━━━━━━━━━━━━━━━━━━━━\u001b[0m\u001b[37m\u001b[0m \u001b[1m3s\u001b[0m 29ms/step - custom_accuracy: 0.6566 - loss: 0.0322 - mse: 0.0303 - val_custom_accuracy: 0.6743 - val_loss: 0.0319 - val_mse: 0.0300 - learning_rate: 0.0010\n",
            "Epoch 53/200\n",
            "\u001b[1m100/100\u001b[0m \u001b[32m━━━━━━━━━━━━━━━━━━━━\u001b[0m\u001b[37m\u001b[0m \u001b[1m2s\u001b[0m 23ms/step - custom_accuracy: 0.6568 - loss: 0.0320 - mse: 0.0301 - val_custom_accuracy: 0.6829 - val_loss: 0.0316 - val_mse: 0.0298 - learning_rate: 0.0010\n",
            "Epoch 54/200\n",
            "\u001b[1m100/100\u001b[0m \u001b[32m━━━━━━━━━━━━━━━━━━━━\u001b[0m\u001b[37m\u001b[0m \u001b[1m2s\u001b[0m 18ms/step - custom_accuracy: 0.6660 - loss: 0.0317 - mse: 0.0299 - val_custom_accuracy: 0.6799 - val_loss: 0.0311 - val_mse: 0.0293 - learning_rate: 0.0010\n",
            "Epoch 55/200\n",
            "\u001b[1m100/100\u001b[0m \u001b[32m━━━━━━━━━━━━━━━━━━━━\u001b[0m\u001b[37m\u001b[0m \u001b[1m2s\u001b[0m 19ms/step - custom_accuracy: 0.6609 - loss: 0.0315 - mse: 0.0297 - val_custom_accuracy: 0.6311 - val_loss: 0.0324 - val_mse: 0.0306 - learning_rate: 0.0010\n",
            "Epoch 56/200\n",
            "\u001b[1m100/100\u001b[0m \u001b[32m━━━━━━━━━━━━━━━━━━━━\u001b[0m\u001b[37m\u001b[0m \u001b[1m2s\u001b[0m 18ms/step - custom_accuracy: 0.6490 - loss: 0.0319 - mse: 0.0301 - val_custom_accuracy: 0.6923 - val_loss: 0.0306 - val_mse: 0.0287 - learning_rate: 0.0010\n",
            "Epoch 57/200\n",
            "\u001b[1m100/100\u001b[0m \u001b[32m━━━━━━━━━━━━━━━━━━━━\u001b[0m\u001b[37m\u001b[0m \u001b[1m2s\u001b[0m 19ms/step - custom_accuracy: 0.6712 - loss: 0.0314 - mse: 0.0295 - val_custom_accuracy: 0.6677 - val_loss: 0.0306 - val_mse: 0.0287 - learning_rate: 0.0010\n",
            "Epoch 58/200\n",
            "\u001b[1m100/100\u001b[0m \u001b[32m━━━━━━━━━━━━━━━━━━━━\u001b[0m\u001b[37m\u001b[0m \u001b[1m2s\u001b[0m 21ms/step - custom_accuracy: 0.6692 - loss: 0.0308 - mse: 0.0290 - val_custom_accuracy: 0.6655 - val_loss: 0.0305 - val_mse: 0.0286 - learning_rate: 0.0010\n",
            "Epoch 59/200\n",
            "\u001b[1m100/100\u001b[0m \u001b[32m━━━━━━━━━━━━━━━━━━━━\u001b[0m\u001b[37m\u001b[0m \u001b[1m3s\u001b[0m 30ms/step - custom_accuracy: 0.6700 - loss: 0.0308 - mse: 0.0290 - val_custom_accuracy: 0.6391 - val_loss: 0.0314 - val_mse: 0.0296 - learning_rate: 0.0010\n",
            "Epoch 60/200\n",
            "\u001b[1m100/100\u001b[0m \u001b[32m━━━━━━━━━━━━━━━━━━━━\u001b[0m\u001b[37m\u001b[0m \u001b[1m2s\u001b[0m 20ms/step - custom_accuracy: 0.6513 - loss: 0.0311 - mse: 0.0293 - val_custom_accuracy: 0.7059 - val_loss: 0.0300 - val_mse: 0.0281 - learning_rate: 0.0010\n",
            "Epoch 61/200\n",
            "\u001b[1m100/100\u001b[0m \u001b[32m━━━━━━━━━━━━━━━━━━━━\u001b[0m\u001b[37m\u001b[0m \u001b[1m2s\u001b[0m 18ms/step - custom_accuracy: 0.6897 - loss: 0.0305 - mse: 0.0286 - val_custom_accuracy: 0.7052 - val_loss: 0.0294 - val_mse: 0.0276 - learning_rate: 0.0010\n",
            "Epoch 62/200\n",
            "\u001b[1m100/100\u001b[0m \u001b[32m━━━━━━━━━━━━━━━━━━━━\u001b[0m\u001b[37m\u001b[0m \u001b[1m2s\u001b[0m 19ms/step - custom_accuracy: 0.6832 - loss: 0.0301 - mse: 0.0282 - val_custom_accuracy: 0.6794 - val_loss: 0.0297 - val_mse: 0.0278 - learning_rate: 0.0010\n",
            "Epoch 63/200\n",
            "\u001b[1m100/100\u001b[0m \u001b[32m━━━━━━━━━━━━━━━━━━━━\u001b[0m\u001b[37m\u001b[0m \u001b[1m2s\u001b[0m 19ms/step - custom_accuracy: 0.6850 - loss: 0.0298 - mse: 0.0280 - val_custom_accuracy: 0.7130 - val_loss: 0.0289 - val_mse: 0.0271 - learning_rate: 0.0010\n",
            "Epoch 64/200\n",
            "\u001b[1m100/100\u001b[0m \u001b[32m━━━━━━━━━━━━━━━━━━━━\u001b[0m\u001b[37m\u001b[0m \u001b[1m2s\u001b[0m 19ms/step - custom_accuracy: 0.6762 - loss: 0.0302 - mse: 0.0284 - val_custom_accuracy: 0.6847 - val_loss: 0.0296 - val_mse: 0.0278 - learning_rate: 0.0010\n",
            "Epoch 65/200\n",
            "\u001b[1m100/100\u001b[0m \u001b[32m━━━━━━━━━━━━━━━━━━━━\u001b[0m\u001b[37m\u001b[0m \u001b[1m3s\u001b[0m 32ms/step - custom_accuracy: 0.6737 - loss: 0.0303 - mse: 0.0285 - val_custom_accuracy: 0.6951 - val_loss: 0.0289 - val_mse: 0.0271 - learning_rate: 0.0010\n",
            "Epoch 66/200\n",
            "\u001b[1m100/100\u001b[0m \u001b[32m━━━━━━━━━━━━━━━━━━━━\u001b[0m\u001b[37m\u001b[0m \u001b[1m2s\u001b[0m 20ms/step - custom_accuracy: 0.6945 - loss: 0.0293 - mse: 0.0275 - val_custom_accuracy: 0.6916 - val_loss: 0.0293 - val_mse: 0.0275 - learning_rate: 0.0010\n",
            "Epoch 67/200\n",
            "\u001b[1m100/100\u001b[0m \u001b[32m━━━━━━━━━━━━━━━━━━━━\u001b[0m\u001b[37m\u001b[0m \u001b[1m2s\u001b[0m 18ms/step - custom_accuracy: 0.6620 - loss: 0.0297 - mse: 0.0279 - val_custom_accuracy: 0.6738 - val_loss: 0.0293 - val_mse: 0.0276 - learning_rate: 0.0010\n",
            "Epoch 68/200\n",
            "\u001b[1m100/100\u001b[0m \u001b[32m━━━━━━━━━━━━━━━━━━━━\u001b[0m\u001b[37m\u001b[0m \u001b[1m2s\u001b[0m 18ms/step - custom_accuracy: 0.6759 - loss: 0.0296 - mse: 0.0278 - val_custom_accuracy: 0.6966 - val_loss: 0.0285 - val_mse: 0.0267 - learning_rate: 0.0010\n",
            "Epoch 69/200\n",
            "\u001b[1m100/100\u001b[0m \u001b[32m━━━━━━━━━━━━━━━━━━━━\u001b[0m\u001b[37m\u001b[0m \u001b[1m2s\u001b[0m 19ms/step - custom_accuracy: 0.6813 - loss: 0.0291 - mse: 0.0273 - val_custom_accuracy: 0.7039 - val_loss: 0.0286 - val_mse: 0.0269 - learning_rate: 0.0010\n",
            "Epoch 70/200\n",
            "\u001b[1m100/100\u001b[0m \u001b[32m━━━━━━━━━━━━━━━━━━━━\u001b[0m\u001b[37m\u001b[0m \u001b[1m2s\u001b[0m 20ms/step - custom_accuracy: 0.6838 - loss: 0.0295 - mse: 0.0278 - val_custom_accuracy: 0.6769 - val_loss: 0.0287 - val_mse: 0.0269 - learning_rate: 0.0010\n",
            "Epoch 71/200\n",
            "\u001b[1m100/100\u001b[0m \u001b[32m━━━━━━━━━━━━━━━━━━━━\u001b[0m\u001b[37m\u001b[0m \u001b[1m2s\u001b[0m 24ms/step - custom_accuracy: 0.6769 - loss: 0.0294 - mse: 0.0276 - val_custom_accuracy: 0.6923 - val_loss: 0.0292 - val_mse: 0.0274 - learning_rate: 0.0010\n",
            "Epoch 72/200\n",
            "\u001b[1m100/100\u001b[0m \u001b[32m━━━━━━━━━━━━━━━━━━━━\u001b[0m\u001b[37m\u001b[0m \u001b[1m3s\u001b[0m 26ms/step - custom_accuracy: 0.6894 - loss: 0.0289 - mse: 0.0271 - val_custom_accuracy: 0.6915 - val_loss: 0.0286 - val_mse: 0.0268 - learning_rate: 0.0010\n",
            "Epoch 73/200\n",
            "\u001b[1m100/100\u001b[0m \u001b[32m━━━━━━━━━━━━━━━━━━━━\u001b[0m\u001b[37m\u001b[0m \u001b[1m2s\u001b[0m 18ms/step - custom_accuracy: 0.6776 - loss: 0.0293 - mse: 0.0275 - val_custom_accuracy: 0.6875 - val_loss: 0.0282 - val_mse: 0.0264 - learning_rate: 0.0010\n",
            "Epoch 74/200\n",
            "\u001b[1m100/100\u001b[0m \u001b[32m━━━━━━━━━━━━━━━━━━━━\u001b[0m\u001b[37m\u001b[0m \u001b[1m2s\u001b[0m 17ms/step - custom_accuracy: 0.6929 - loss: 0.0288 - mse: 0.0269 - val_custom_accuracy: 0.6979 - val_loss: 0.0278 - val_mse: 0.0260 - learning_rate: 0.0010\n",
            "Epoch 75/200\n",
            "\u001b[1m100/100\u001b[0m \u001b[32m━━━━━━━━━━━━━━━━━━━━\u001b[0m\u001b[37m\u001b[0m \u001b[1m2s\u001b[0m 18ms/step - custom_accuracy: 0.6812 - loss: 0.0289 - mse: 0.0271 - val_custom_accuracy: 0.6880 - val_loss: 0.0277 - val_mse: 0.0259 - learning_rate: 0.0010\n",
            "Epoch 76/200\n",
            "\u001b[1m100/100\u001b[0m \u001b[32m━━━━━━━━━━━━━━━━━━━━\u001b[0m\u001b[37m\u001b[0m \u001b[1m2s\u001b[0m 18ms/step - custom_accuracy: 0.6791 - loss: 0.0287 - mse: 0.0269 - val_custom_accuracy: 0.7191 - val_loss: 0.0275 - val_mse: 0.0256 - learning_rate: 0.0010\n",
            "Epoch 77/200\n",
            "\u001b[1m100/100\u001b[0m \u001b[32m━━━━━━━━━━━━━━━━━━━━\u001b[0m\u001b[37m\u001b[0m \u001b[1m2s\u001b[0m 18ms/step - custom_accuracy: 0.6751 - loss: 0.0285 - mse: 0.0267 - val_custom_accuracy: 0.6806 - val_loss: 0.0278 - val_mse: 0.0259 - learning_rate: 0.0010\n",
            "Epoch 78/200\n",
            "\u001b[1m100/100\u001b[0m \u001b[32m━━━━━━━━━━━━━━━━━━━━\u001b[0m\u001b[37m\u001b[0m \u001b[1m2s\u001b[0m 25ms/step - custom_accuracy: 0.6946 - loss: 0.0283 - mse: 0.0265 - val_custom_accuracy: 0.6878 - val_loss: 0.0278 - val_mse: 0.0259 - learning_rate: 0.0010\n",
            "Epoch 79/200\n",
            "\u001b[1m100/100\u001b[0m \u001b[32m━━━━━━━━━━━━━━━━━━━━\u001b[0m\u001b[37m\u001b[0m \u001b[1m2s\u001b[0m 24ms/step - custom_accuracy: 0.6725 - loss: 0.0286 - mse: 0.0267 - val_custom_accuracy: 0.6763 - val_loss: 0.0278 - val_mse: 0.0259 - learning_rate: 0.0010\n",
            "Epoch 80/200\n",
            "\u001b[1m100/100\u001b[0m \u001b[32m━━━━━━━━━━━━━━━━━━━━\u001b[0m\u001b[37m\u001b[0m \u001b[1m2s\u001b[0m 18ms/step - custom_accuracy: 0.6919 - loss: 0.0279 - mse: 0.0261 - val_custom_accuracy: 0.6844 - val_loss: 0.0273 - val_mse: 0.0254 - learning_rate: 0.0010\n",
            "Epoch 81/200\n",
            "\u001b[1m100/100\u001b[0m \u001b[32m━━━━━━━━━━━━━━━━━━━━\u001b[0m\u001b[37m\u001b[0m \u001b[1m2s\u001b[0m 19ms/step - custom_accuracy: 0.6816 - loss: 0.0280 - mse: 0.0261 - val_custom_accuracy: 0.6830 - val_loss: 0.0276 - val_mse: 0.0258 - learning_rate: 0.0010\n",
            "Epoch 82/200\n",
            "\u001b[1m100/100\u001b[0m \u001b[32m━━━━━━━━━━━━━━━━━━━━\u001b[0m\u001b[37m\u001b[0m \u001b[1m2s\u001b[0m 18ms/step - custom_accuracy: 0.6757 - loss: 0.0282 - mse: 0.0263 - val_custom_accuracy: 0.6956 - val_loss: 0.0272 - val_mse: 0.0253 - learning_rate: 0.0010\n",
            "Epoch 83/200\n",
            "\u001b[1m100/100\u001b[0m \u001b[32m━━━━━━━━━━━━━━━━━━━━\u001b[0m\u001b[37m\u001b[0m \u001b[1m2s\u001b[0m 18ms/step - custom_accuracy: 0.6782 - loss: 0.0284 - mse: 0.0265 - val_custom_accuracy: 0.6668 - val_loss: 0.0279 - val_mse: 0.0260 - learning_rate: 0.0010\n",
            "Epoch 84/200\n",
            "\u001b[1m100/100\u001b[0m \u001b[32m━━━━━━━━━━━━━━━━━━━━\u001b[0m\u001b[37m\u001b[0m \u001b[1m2s\u001b[0m 18ms/step - custom_accuracy: 0.6897 - loss: 0.0280 - mse: 0.0260 - val_custom_accuracy: 0.6700 - val_loss: 0.0273 - val_mse: 0.0253 - learning_rate: 0.0010\n",
            "Epoch 85/200\n",
            "\u001b[1m 99/100\u001b[0m \u001b[32m━━━━━━━━━━━━━━━━━━━\u001b[0m\u001b[37m━\u001b[0m \u001b[1m0s\u001b[0m 28ms/step - custom_accuracy: 0.6782 - loss: 0.0278 - mse: 0.0258\n",
            "Epoch 85: ReduceLROnPlateau reducing learning rate to 0.0005000000237487257.\n",
            "\u001b[1m100/100\u001b[0m \u001b[32m━━━━━━━━━━━━━━━━━━━━\u001b[0m\u001b[37m\u001b[0m \u001b[1m3s\u001b[0m 30ms/step - custom_accuracy: 0.6781 - loss: 0.0278 - mse: 0.0258 - val_custom_accuracy: 0.6672 - val_loss: 0.0273 - val_mse: 0.0254 - learning_rate: 0.0010\n",
            "Epoch 86/200\n",
            "\u001b[1m100/100\u001b[0m \u001b[32m━━━━━━━━━━━━━━━━━━━━\u001b[0m\u001b[37m\u001b[0m \u001b[1m2s\u001b[0m 20ms/step - custom_accuracy: 0.7124 - loss: 0.0271 - mse: 0.0252 - val_custom_accuracy: 0.6700 - val_loss: 0.0272 - val_mse: 0.0252 - learning_rate: 5.0000e-04\n",
            "Epoch 87/200\n",
            "\u001b[1m100/100\u001b[0m \u001b[32m━━━━━━━━━━━━━━━━━━━━\u001b[0m\u001b[37m\u001b[0m \u001b[1m2s\u001b[0m 19ms/step - custom_accuracy: 0.6942 - loss: 0.0272 - mse: 0.0252 - val_custom_accuracy: 0.7161 - val_loss: 0.0263 - val_mse: 0.0244 - learning_rate: 5.0000e-04\n",
            "Epoch 88/200\n",
            "\u001b[1m100/100\u001b[0m \u001b[32m━━━━━━━━━━━━━━━━━━━━\u001b[0m\u001b[37m\u001b[0m \u001b[1m2s\u001b[0m 18ms/step - custom_accuracy: 0.7038 - loss: 0.0270 - mse: 0.0250 - val_custom_accuracy: 0.6890 - val_loss: 0.0266 - val_mse: 0.0246 - learning_rate: 5.0000e-04\n",
            "Epoch 89/200\n",
            "\u001b[1m100/100\u001b[0m \u001b[32m━━━━━━━━━━━━━━━━━━━━\u001b[0m\u001b[37m\u001b[0m \u001b[1m2s\u001b[0m 18ms/step - custom_accuracy: 0.6900 - loss: 0.0270 - mse: 0.0250 - val_custom_accuracy: 0.7100 - val_loss: 0.0262 - val_mse: 0.0242 - learning_rate: 5.0000e-04\n",
            "Epoch 90/200\n",
            "\u001b[1m100/100\u001b[0m \u001b[32m━━━━━━━━━━━━━━━━━━━━\u001b[0m\u001b[37m\u001b[0m \u001b[1m2s\u001b[0m 18ms/step - custom_accuracy: 0.6946 - loss: 0.0272 - mse: 0.0252 - val_custom_accuracy: 0.7275 - val_loss: 0.0259 - val_mse: 0.0239 - learning_rate: 5.0000e-04\n",
            "Epoch 91/200\n",
            "\u001b[1m100/100\u001b[0m \u001b[32m━━━━━━━━━━━━━━━━━━━━\u001b[0m\u001b[37m\u001b[0m \u001b[1m2s\u001b[0m 20ms/step - custom_accuracy: 0.7028 - loss: 0.0267 - mse: 0.0247 - val_custom_accuracy: 0.7090 - val_loss: 0.0262 - val_mse: 0.0241 - learning_rate: 5.0000e-04\n",
            "Epoch 92/200\n",
            "\u001b[1m100/100\u001b[0m \u001b[32m━━━━━━━━━━━━━━━━━━━━\u001b[0m\u001b[37m\u001b[0m \u001b[1m3s\u001b[0m 31ms/step - custom_accuracy: 0.7111 - loss: 0.0264 - mse: 0.0244 - val_custom_accuracy: 0.6986 - val_loss: 0.0259 - val_mse: 0.0239 - learning_rate: 5.0000e-04\n",
            "Epoch 93/200\n",
            "\u001b[1m100/100\u001b[0m \u001b[32m━━━━━━━━━━━━━━━━━━━━\u001b[0m\u001b[37m\u001b[0m \u001b[1m2s\u001b[0m 19ms/step - custom_accuracy: 0.6953 - loss: 0.0268 - mse: 0.0248 - val_custom_accuracy: 0.7098 - val_loss: 0.0258 - val_mse: 0.0238 - learning_rate: 5.0000e-04\n",
            "Epoch 94/200\n",
            "\u001b[1m100/100\u001b[0m \u001b[32m━━━━━━━━━━━━━━━━━━━━\u001b[0m\u001b[37m\u001b[0m \u001b[1m2s\u001b[0m 19ms/step - custom_accuracy: 0.6986 - loss: 0.0267 - mse: 0.0247 - val_custom_accuracy: 0.7275 - val_loss: 0.0257 - val_mse: 0.0236 - learning_rate: 5.0000e-04\n",
            "Epoch 95/200\n",
            "\u001b[1m100/100\u001b[0m \u001b[32m━━━━━━━━━━━━━━━━━━━━\u001b[0m\u001b[37m\u001b[0m \u001b[1m2s\u001b[0m 18ms/step - custom_accuracy: 0.7106 - loss: 0.0261 - mse: 0.0241 - val_custom_accuracy: 0.6617 - val_loss: 0.0265 - val_mse: 0.0244 - learning_rate: 5.0000e-04\n",
            "Epoch 96/200\n",
            "\u001b[1m100/100\u001b[0m \u001b[32m━━━━━━━━━━━━━━━━━━━━\u001b[0m\u001b[37m\u001b[0m \u001b[1m2s\u001b[0m 19ms/step - custom_accuracy: 0.6972 - loss: 0.0264 - mse: 0.0243 - val_custom_accuracy: 0.7063 - val_loss: 0.0257 - val_mse: 0.0237 - learning_rate: 5.0000e-04\n",
            "Epoch 97/200\n",
            "\u001b[1m100/100\u001b[0m \u001b[32m━━━━━━━━━━━━━━━━━━━━\u001b[0m\u001b[37m\u001b[0m \u001b[1m2s\u001b[0m 19ms/step - custom_accuracy: 0.7052 - loss: 0.0265 - mse: 0.0244 - val_custom_accuracy: 0.7131 - val_loss: 0.0257 - val_mse: 0.0236 - learning_rate: 5.0000e-04\n",
            "Epoch 98/200\n",
            "\u001b[1m100/100\u001b[0m \u001b[32m━━━━━━━━━━━━━━━━━━━━\u001b[0m\u001b[37m\u001b[0m \u001b[1m3s\u001b[0m 28ms/step - custom_accuracy: 0.7174 - loss: 0.0260 - mse: 0.0240 - val_custom_accuracy: 0.7217 - val_loss: 0.0253 - val_mse: 0.0232 - learning_rate: 5.0000e-04\n",
            "Epoch 99/200\n",
            "\u001b[1m100/100\u001b[0m \u001b[32m━━━━━━━━━━━━━━━━━━━━\u001b[0m\u001b[37m\u001b[0m \u001b[1m2s\u001b[0m 22ms/step - custom_accuracy: 0.6955 - loss: 0.0264 - mse: 0.0243 - val_custom_accuracy: 0.7135 - val_loss: 0.0255 - val_mse: 0.0234 - learning_rate: 5.0000e-04\n",
            "Epoch 100/200\n",
            "\u001b[1m100/100\u001b[0m \u001b[32m━━━━━━━━━━━━━━━━━━━━\u001b[0m\u001b[37m\u001b[0m \u001b[1m2s\u001b[0m 18ms/step - custom_accuracy: 0.6807 - loss: 0.0266 - mse: 0.0245 - val_custom_accuracy: 0.6989 - val_loss: 0.0255 - val_mse: 0.0234 - learning_rate: 5.0000e-04\n",
            "Epoch 101/200\n",
            "\u001b[1m100/100\u001b[0m \u001b[32m━━━━━━━━━━━━━━━━━━━━\u001b[0m\u001b[37m\u001b[0m \u001b[1m2s\u001b[0m 19ms/step - custom_accuracy: 0.6973 - loss: 0.0263 - mse: 0.0242 - val_custom_accuracy: 0.7161 - val_loss: 0.0255 - val_mse: 0.0234 - learning_rate: 5.0000e-04\n",
            "Epoch 102/200\n",
            "\u001b[1m100/100\u001b[0m \u001b[32m━━━━━━━━━━━━━━━━━━━━\u001b[0m\u001b[37m\u001b[0m \u001b[1m2s\u001b[0m 18ms/step - custom_accuracy: 0.6972 - loss: 0.0266 - mse: 0.0245 - val_custom_accuracy: 0.7300 - val_loss: 0.0250 - val_mse: 0.0229 - learning_rate: 5.0000e-04\n",
            "Epoch 103/200\n",
            "\u001b[1m100/100\u001b[0m \u001b[32m━━━━━━━━━━━━━━━━━━━━\u001b[0m\u001b[37m\u001b[0m \u001b[1m2s\u001b[0m 19ms/step - custom_accuracy: 0.7170 - loss: 0.0256 - mse: 0.0235 - val_custom_accuracy: 0.7242 - val_loss: 0.0252 - val_mse: 0.0230 - learning_rate: 5.0000e-04\n",
            "Epoch 104/200\n",
            "\u001b[1m100/100\u001b[0m \u001b[32m━━━━━━━━━━━━━━━━━━━━\u001b[0m\u001b[37m\u001b[0m \u001b[1m2s\u001b[0m 20ms/step - custom_accuracy: 0.7134 - loss: 0.0259 - mse: 0.0238 - val_custom_accuracy: 0.7335 - val_loss: 0.0253 - val_mse: 0.0232 - learning_rate: 5.0000e-04\n",
            "Epoch 105/200\n",
            "\u001b[1m100/100\u001b[0m \u001b[32m━━━━━━━━━━━━━━━━━━━━\u001b[0m\u001b[37m\u001b[0m \u001b[1m3s\u001b[0m 29ms/step - custom_accuracy: 0.7086 - loss: 0.0262 - mse: 0.0241 - val_custom_accuracy: 0.7186 - val_loss: 0.0253 - val_mse: 0.0232 - learning_rate: 5.0000e-04\n",
            "Epoch 106/200\n",
            "\u001b[1m100/100\u001b[0m \u001b[32m━━━━━━━━━━━━━━━━━━━━\u001b[0m\u001b[37m\u001b[0m \u001b[1m2s\u001b[0m 20ms/step - custom_accuracy: 0.7003 - loss: 0.0265 - mse: 0.0243 - val_custom_accuracy: 0.6844 - val_loss: 0.0259 - val_mse: 0.0237 - learning_rate: 5.0000e-04\n",
            "Epoch 107/200\n",
            "\u001b[1m100/100\u001b[0m \u001b[32m━━━━━━━━━━━━━━━━━━━━\u001b[0m\u001b[37m\u001b[0m \u001b[1m2s\u001b[0m 19ms/step - custom_accuracy: 0.6895 - loss: 0.0262 - mse: 0.0240 - val_custom_accuracy: 0.7399 - val_loss: 0.0249 - val_mse: 0.0228 - learning_rate: 5.0000e-04\n",
            "Epoch 108/200\n",
            "\u001b[1m100/100\u001b[0m \u001b[32m━━━━━━━━━━━━━━━━━━━━\u001b[0m\u001b[37m\u001b[0m \u001b[1m2s\u001b[0m 18ms/step - custom_accuracy: 0.7119 - loss: 0.0258 - mse: 0.0237 - val_custom_accuracy: 0.6976 - val_loss: 0.0260 - val_mse: 0.0238 - learning_rate: 5.0000e-04\n",
            "Epoch 109/200\n",
            "\u001b[1m100/100\u001b[0m \u001b[32m━━━━━━━━━━━━━━━━━━━━\u001b[0m\u001b[37m\u001b[0m \u001b[1m2s\u001b[0m 18ms/step - custom_accuracy: 0.7064 - loss: 0.0260 - mse: 0.0238 - val_custom_accuracy: 0.7088 - val_loss: 0.0252 - val_mse: 0.0230 - learning_rate: 5.0000e-04\n",
            "Epoch 110/200\n",
            "\u001b[1m100/100\u001b[0m \u001b[32m━━━━━━━━━━━━━━━━━━━━\u001b[0m\u001b[37m\u001b[0m \u001b[1m2s\u001b[0m 18ms/step - custom_accuracy: 0.7136 - loss: 0.0256 - mse: 0.0234 - val_custom_accuracy: 0.7072 - val_loss: 0.0253 - val_mse: 0.0231 - learning_rate: 5.0000e-04\n",
            "Epoch 111/200\n",
            "\u001b[1m100/100\u001b[0m \u001b[32m━━━━━━━━━━━━━━━━━━━━\u001b[0m\u001b[37m\u001b[0m \u001b[1m3s\u001b[0m 26ms/step - custom_accuracy: 0.7095 - loss: 0.0258 - mse: 0.0236 - val_custom_accuracy: 0.7006 - val_loss: 0.0259 - val_mse: 0.0237 - learning_rate: 5.0000e-04\n",
            "Epoch 112/200\n",
            "\u001b[1m 97/100\u001b[0m \u001b[32m━━━━━━━━━━━━━━━━━━━\u001b[0m\u001b[37m━\u001b[0m \u001b[1m0s\u001b[0m 26ms/step - custom_accuracy: 0.6924 - loss: 0.0263 - mse: 0.0241\n",
            "Epoch 112: ReduceLROnPlateau reducing learning rate to 0.0002500000118743628.\n",
            "\u001b[1m100/100\u001b[0m \u001b[32m━━━━━━━━━━━━━━━━━━━━\u001b[0m\u001b[37m\u001b[0m \u001b[1m3s\u001b[0m 27ms/step - custom_accuracy: 0.6923 - loss: 0.0263 - mse: 0.0241 - val_custom_accuracy: 0.7030 - val_loss: 0.0253 - val_mse: 0.0231 - learning_rate: 5.0000e-04\n",
            "Epoch 113/200\n",
            "\u001b[1m100/100\u001b[0m \u001b[32m━━━━━━━━━━━━━━━━━━━━\u001b[0m\u001b[37m\u001b[0m \u001b[1m2s\u001b[0m 19ms/step - custom_accuracy: 0.7256 - loss: 0.0252 - mse: 0.0230 - val_custom_accuracy: 0.7222 - val_loss: 0.0248 - val_mse: 0.0226 - learning_rate: 2.5000e-04\n",
            "Epoch 114/200\n",
            "\u001b[1m100/100\u001b[0m \u001b[32m━━━━━━━━━━━━━━━━━━━━\u001b[0m\u001b[37m\u001b[0m \u001b[1m2s\u001b[0m 18ms/step - custom_accuracy: 0.7304 - loss: 0.0251 - mse: 0.0229 - val_custom_accuracy: 0.7445 - val_loss: 0.0245 - val_mse: 0.0223 - learning_rate: 2.5000e-04\n",
            "Epoch 115/200\n",
            "\u001b[1m100/100\u001b[0m \u001b[32m━━━━━━━━━━━━━━━━━━━━\u001b[0m\u001b[37m\u001b[0m \u001b[1m2s\u001b[0m 18ms/step - custom_accuracy: 0.7313 - loss: 0.0253 - mse: 0.0230 - val_custom_accuracy: 0.7219 - val_loss: 0.0249 - val_mse: 0.0227 - learning_rate: 2.5000e-04\n",
            "Epoch 116/200\n",
            "\u001b[1m100/100\u001b[0m \u001b[32m━━━━━━━━━━━━━━━━━━━━\u001b[0m\u001b[37m\u001b[0m \u001b[1m2s\u001b[0m 19ms/step - custom_accuracy: 0.7264 - loss: 0.0251 - mse: 0.0229 - val_custom_accuracy: 0.7278 - val_loss: 0.0245 - val_mse: 0.0223 - learning_rate: 2.5000e-04\n",
            "Epoch 117/200\n",
            "\u001b[1m100/100\u001b[0m \u001b[32m━━━━━━━━━━━━━━━━━━━━\u001b[0m\u001b[37m\u001b[0m \u001b[1m2s\u001b[0m 20ms/step - custom_accuracy: 0.7362 - loss: 0.0248 - mse: 0.0225 - val_custom_accuracy: 0.7312 - val_loss: 0.0244 - val_mse: 0.0222 - learning_rate: 2.5000e-04\n",
            "Epoch 118/200\n",
            "\u001b[1m100/100\u001b[0m \u001b[32m━━━━━━━━━━━━━━━━━━━━\u001b[0m\u001b[37m\u001b[0m \u001b[1m3s\u001b[0m 30ms/step - custom_accuracy: 0.7270 - loss: 0.0254 - mse: 0.0231 - val_custom_accuracy: 0.7235 - val_loss: 0.0245 - val_mse: 0.0223 - learning_rate: 2.5000e-04\n",
            "Epoch 119/200\n",
            "\u001b[1m 98/100\u001b[0m \u001b[32m━━━━━━━━━━━━━━━━━━━\u001b[0m\u001b[37m━\u001b[0m \u001b[1m0s\u001b[0m 19ms/step - custom_accuracy: 0.7341 - loss: 0.0249 - mse: 0.0227\n",
            "Epoch 119: ReduceLROnPlateau reducing learning rate to 0.0001250000059371814.\n",
            "\u001b[1m100/100\u001b[0m \u001b[32m━━━━━━━━━━━━━━━━━━━━\u001b[0m\u001b[37m\u001b[0m \u001b[1m2s\u001b[0m 21ms/step - custom_accuracy: 0.7341 - loss: 0.0249 - mse: 0.0227 - val_custom_accuracy: 0.7323 - val_loss: 0.0245 - val_mse: 0.0223 - learning_rate: 2.5000e-04\n",
            "Epoch 120/200\n",
            "\u001b[1m100/100\u001b[0m \u001b[32m━━━━━━━━━━━━━━━━━━━━\u001b[0m\u001b[37m\u001b[0m \u001b[1m2s\u001b[0m 18ms/step - custom_accuracy: 0.7419 - loss: 0.0246 - mse: 0.0224 - val_custom_accuracy: 0.7429 - val_loss: 0.0241 - val_mse: 0.0219 - learning_rate: 1.2500e-04\n",
            "Epoch 121/200\n",
            "\u001b[1m100/100\u001b[0m \u001b[32m━━━━━━━━━━━━━━━━━━━━\u001b[0m\u001b[37m\u001b[0m \u001b[1m2s\u001b[0m 18ms/step - custom_accuracy: 0.7475 - loss: 0.0247 - mse: 0.0224 - val_custom_accuracy: 0.7386 - val_loss: 0.0242 - val_mse: 0.0220 - learning_rate: 1.2500e-04\n",
            "Epoch 122/200\n",
            "\u001b[1m100/100\u001b[0m \u001b[32m━━━━━━━━━━━━━━━━━━━━\u001b[0m\u001b[37m\u001b[0m \u001b[1m2s\u001b[0m 18ms/step - custom_accuracy: 0.7402 - loss: 0.0249 - mse: 0.0227 - val_custom_accuracy: 0.7485 - val_loss: 0.0241 - val_mse: 0.0219 - learning_rate: 1.2500e-04\n",
            "Epoch 123/200\n",
            "\u001b[1m100/100\u001b[0m \u001b[32m━━━━━━━━━━━━━━━━━━━━\u001b[0m\u001b[37m\u001b[0m \u001b[1m2s\u001b[0m 20ms/step - custom_accuracy: 0.7490 - loss: 0.0247 - mse: 0.0224 - val_custom_accuracy: 0.7432 - val_loss: 0.0242 - val_mse: 0.0220 - learning_rate: 1.2500e-04\n",
            "Epoch 124/200\n",
            "\u001b[1m100/100\u001b[0m \u001b[32m━━━━━━━━━━━━━━━━━━━━\u001b[0m\u001b[37m\u001b[0m \u001b[1m3s\u001b[0m 26ms/step - custom_accuracy: 0.7476 - loss: 0.0246 - mse: 0.0224 - val_custom_accuracy: 0.7459 - val_loss: 0.0240 - val_mse: 0.0218 - learning_rate: 1.2500e-04\n",
            "Epoch 125/200\n",
            "\u001b[1m100/100\u001b[0m \u001b[32m━━━━━━━━━━━━━━━━━━━━\u001b[0m\u001b[37m\u001b[0m \u001b[1m3s\u001b[0m 26ms/step - custom_accuracy: 0.7337 - loss: 0.0250 - mse: 0.0227 - val_custom_accuracy: 0.7555 - val_loss: 0.0239 - val_mse: 0.0217 - learning_rate: 1.2500e-04\n",
            "Epoch 126/200\n",
            "\u001b[1m100/100\u001b[0m \u001b[32m━━━━━━━━━━━━━━━━━━━━\u001b[0m\u001b[37m\u001b[0m \u001b[1m2s\u001b[0m 19ms/step - custom_accuracy: 0.7484 - loss: 0.0244 - mse: 0.0222 - val_custom_accuracy: 0.7397 - val_loss: 0.0242 - val_mse: 0.0219 - learning_rate: 1.2500e-04\n",
            "Epoch 127/200\n",
            "\u001b[1m100/100\u001b[0m \u001b[32m━━━━━━━━━━━━━━━━━━━━\u001b[0m\u001b[37m\u001b[0m \u001b[1m2s\u001b[0m 18ms/step - custom_accuracy: 0.7435 - loss: 0.0246 - mse: 0.0223 - val_custom_accuracy: 0.7495 - val_loss: 0.0241 - val_mse: 0.0219 - learning_rate: 1.2500e-04\n",
            "Epoch 128/200\n",
            "\u001b[1m100/100\u001b[0m \u001b[32m━━━━━━━━━━━━━━━━━━━━\u001b[0m\u001b[37m\u001b[0m \u001b[1m2s\u001b[0m 20ms/step - custom_accuracy: 0.7300 - loss: 0.0248 - mse: 0.0226 - val_custom_accuracy: 0.7234 - val_loss: 0.0244 - val_mse: 0.0221 - learning_rate: 1.2500e-04\n",
            "Epoch 129/200\n",
            "\u001b[1m100/100\u001b[0m \u001b[32m━━━━━━━━━━━━━━━━━━━━\u001b[0m\u001b[37m\u001b[0m \u001b[1m2s\u001b[0m 20ms/step - custom_accuracy: 0.7420 - loss: 0.0245 - mse: 0.0223 - val_custom_accuracy: 0.7616 - val_loss: 0.0238 - val_mse: 0.0216 - learning_rate: 1.2500e-04\n",
            "Epoch 130/200\n",
            "\u001b[1m100/100\u001b[0m \u001b[32m━━━━━━━━━━━━━━━━━━━━\u001b[0m\u001b[37m\u001b[0m \u001b[1m2s\u001b[0m 22ms/step - custom_accuracy: 0.7427 - loss: 0.0249 - mse: 0.0226 - val_custom_accuracy: 0.7421 - val_loss: 0.0242 - val_mse: 0.0220 - learning_rate: 1.2500e-04\n",
            "Epoch 131/200\n",
            "\u001b[1m100/100\u001b[0m \u001b[32m━━━━━━━━━━━━━━━━━━━━\u001b[0m\u001b[37m\u001b[0m \u001b[1m3s\u001b[0m 30ms/step - custom_accuracy: 0.7335 - loss: 0.0248 - mse: 0.0226 - val_custom_accuracy: 0.7417 - val_loss: 0.0243 - val_mse: 0.0220 - learning_rate: 1.2500e-04\n",
            "Epoch 132/200\n",
            "\u001b[1m100/100\u001b[0m \u001b[32m━━━━━━━━━━━━━━━━━━━━\u001b[0m\u001b[37m\u001b[0m \u001b[1m2s\u001b[0m 19ms/step - custom_accuracy: 0.7473 - loss: 0.0245 - mse: 0.0223 - val_custom_accuracy: 0.7305 - val_loss: 0.0241 - val_mse: 0.0219 - learning_rate: 1.2500e-04\n",
            "Epoch 133/200\n",
            "\u001b[1m100/100\u001b[0m \u001b[32m━━━━━━━━━━━━━━━━━━━━\u001b[0m\u001b[37m\u001b[0m \u001b[1m2s\u001b[0m 20ms/step - custom_accuracy: 0.7447 - loss: 0.0244 - mse: 0.0221 - val_custom_accuracy: 0.7617 - val_loss: 0.0238 - val_mse: 0.0216 - learning_rate: 1.2500e-04\n",
            "Epoch 134/200\n",
            "\u001b[1m 98/100\u001b[0m \u001b[32m━━━━━━━━━━━━━━━━━━━\u001b[0m\u001b[37m━\u001b[0m \u001b[1m0s\u001b[0m 19ms/step - custom_accuracy: 0.7394 - loss: 0.0247 - mse: 0.0224\n",
            "Epoch 134: ReduceLROnPlateau reducing learning rate to 6.25000029685907e-05.\n",
            "\u001b[1m100/100\u001b[0m \u001b[32m━━━━━━━━━━━━━━━━━━━━\u001b[0m\u001b[37m\u001b[0m \u001b[1m2s\u001b[0m 20ms/step - custom_accuracy: 0.7394 - loss: 0.0247 - mse: 0.0224 - val_custom_accuracy: 0.7479 - val_loss: 0.0240 - val_mse: 0.0218 - learning_rate: 1.2500e-04\n",
            "Epoch 135/200\n",
            "\u001b[1m100/100\u001b[0m \u001b[32m━━━━━━━━━━━━━━━━━━━━\u001b[0m\u001b[37m\u001b[0m \u001b[1m2s\u001b[0m 19ms/step - custom_accuracy: 0.7480 - loss: 0.0245 - mse: 0.0223 - val_custom_accuracy: 0.7639 - val_loss: 0.0237 - val_mse: 0.0215 - learning_rate: 6.2500e-05\n",
            "Epoch 136/200\n",
            "\u001b[1m100/100\u001b[0m \u001b[32m━━━━━━━━━━━━━━━━━━━━\u001b[0m\u001b[37m\u001b[0m \u001b[1m2s\u001b[0m 20ms/step - custom_accuracy: 0.7513 - loss: 0.0244 - mse: 0.0221 - val_custom_accuracy: 0.7642 - val_loss: 0.0237 - val_mse: 0.0214 - learning_rate: 6.2500e-05\n",
            "Epoch 137/200\n",
            "\u001b[1m100/100\u001b[0m \u001b[32m━━━━━━━━━━━━━━━━━━━━\u001b[0m\u001b[37m\u001b[0m \u001b[1m3s\u001b[0m 27ms/step - custom_accuracy: 0.7616 - loss: 0.0238 - mse: 0.0215 - val_custom_accuracy: 0.7647 - val_loss: 0.0237 - val_mse: 0.0215 - learning_rate: 6.2500e-05\n",
            "Epoch 138/200\n",
            "\u001b[1m100/100\u001b[0m \u001b[32m━━━━━━━━━━━━━━━━━━━━\u001b[0m\u001b[37m\u001b[0m \u001b[1m2s\u001b[0m 25ms/step - custom_accuracy: 0.7459 - loss: 0.0247 - mse: 0.0225 - val_custom_accuracy: 0.7655 - val_loss: 0.0236 - val_mse: 0.0213 - learning_rate: 6.2500e-05\n",
            "Epoch 139/200\n",
            "\u001b[1m100/100\u001b[0m \u001b[32m━━━━━━━━━━━━━━━━━━━━\u001b[0m\u001b[37m\u001b[0m \u001b[1m2s\u001b[0m 19ms/step - custom_accuracy: 0.7562 - loss: 0.0246 - mse: 0.0223 - val_custom_accuracy: 0.7407 - val_loss: 0.0240 - val_mse: 0.0217 - learning_rate: 6.2500e-05\n",
            "Epoch 140/200\n",
            "\u001b[1m100/100\u001b[0m \u001b[32m━━━━━━━━━━━━━━━━━━━━\u001b[0m\u001b[37m\u001b[0m \u001b[1m2s\u001b[0m 20ms/step - custom_accuracy: 0.7533 - loss: 0.0244 - mse: 0.0221 - val_custom_accuracy: 0.7316 - val_loss: 0.0242 - val_mse: 0.0219 - learning_rate: 6.2500e-05\n",
            "Epoch 141/200\n",
            "\u001b[1m100/100\u001b[0m \u001b[32m━━━━━━━━━━━━━━━━━━━━\u001b[0m\u001b[37m\u001b[0m \u001b[1m2s\u001b[0m 19ms/step - custom_accuracy: 0.7502 - loss: 0.0244 - mse: 0.0221 - val_custom_accuracy: 0.7564 - val_loss: 0.0237 - val_mse: 0.0215 - learning_rate: 6.2500e-05\n",
            "Epoch 142/200\n",
            "\u001b[1m100/100\u001b[0m \u001b[32m━━━━━━━━━━━━━━━━━━━━\u001b[0m\u001b[37m\u001b[0m \u001b[1m2s\u001b[0m 20ms/step - custom_accuracy: 0.7550 - loss: 0.0245 - mse: 0.0223 - val_custom_accuracy: 0.7660 - val_loss: 0.0236 - val_mse: 0.0213 - learning_rate: 6.2500e-05\n",
            "Epoch 143/200\n",
            "\u001b[1m 99/100\u001b[0m \u001b[32m━━━━━━━━━━━━━━━━━━━\u001b[0m\u001b[37m━\u001b[0m \u001b[1m0s\u001b[0m 21ms/step - custom_accuracy: 0.7544 - loss: 0.0244 - mse: 0.0221\n",
            "Epoch 143: ReduceLROnPlateau reducing learning rate to 3.125000148429535e-05.\n",
            "\u001b[1m100/100\u001b[0m \u001b[32m━━━━━━━━━━━━━━━━━━━━\u001b[0m\u001b[37m\u001b[0m \u001b[1m2s\u001b[0m 23ms/step - custom_accuracy: 0.7544 - loss: 0.0244 - mse: 0.0221 - val_custom_accuracy: 0.7593 - val_loss: 0.0236 - val_mse: 0.0214 - learning_rate: 6.2500e-05\n",
            "Epoch 144/200\n",
            "\u001b[1m100/100\u001b[0m \u001b[32m━━━━━━━━━━━━━━━━━━━━\u001b[0m\u001b[37m\u001b[0m \u001b[1m3s\u001b[0m 30ms/step - custom_accuracy: 0.7596 - loss: 0.0241 - mse: 0.0219 - val_custom_accuracy: 0.7650 - val_loss: 0.0235 - val_mse: 0.0213 - learning_rate: 3.1250e-05\n",
            "Epoch 145/200\n",
            "\u001b[1m100/100\u001b[0m \u001b[32m━━━━━━━━━━━━━━━━━━━━\u001b[0m\u001b[37m\u001b[0m \u001b[1m2s\u001b[0m 18ms/step - custom_accuracy: 0.7597 - loss: 0.0243 - mse: 0.0220 - val_custom_accuracy: 0.7659 - val_loss: 0.0236 - val_mse: 0.0214 - learning_rate: 3.1250e-05\n",
            "Epoch 146/200\n",
            "\u001b[1m100/100\u001b[0m \u001b[32m━━━━━━━━━━━━━━━━━━━━\u001b[0m\u001b[37m\u001b[0m \u001b[1m2s\u001b[0m 19ms/step - custom_accuracy: 0.7588 - loss: 0.0243 - mse: 0.0221 - val_custom_accuracy: 0.7669 - val_loss: 0.0235 - val_mse: 0.0213 - learning_rate: 3.1250e-05\n",
            "Epoch 147/200\n",
            "\u001b[1m100/100\u001b[0m \u001b[32m━━━━━━━━━━━━━━━━━━━━\u001b[0m\u001b[37m\u001b[0m \u001b[1m2s\u001b[0m 18ms/step - custom_accuracy: 0.7592 - loss: 0.0244 - mse: 0.0222 - val_custom_accuracy: 0.7664 - val_loss: 0.0235 - val_mse: 0.0213 - learning_rate: 3.1250e-05\n",
            "Epoch 148/200\n",
            "\u001b[1m 98/100\u001b[0m \u001b[32m━━━━━━━━━━━━━━━━━━━\u001b[0m\u001b[37m━\u001b[0m \u001b[1m0s\u001b[0m 19ms/step - custom_accuracy: 0.7564 - loss: 0.0241 - mse: 0.0218\n",
            "Epoch 148: ReduceLROnPlateau reducing learning rate to 1.5625000742147677e-05.\n",
            "\u001b[1m100/100\u001b[0m \u001b[32m━━━━━━━━━━━━━━━━━━━━\u001b[0m\u001b[37m\u001b[0m \u001b[1m2s\u001b[0m 21ms/step - custom_accuracy: 0.7564 - loss: 0.0241 - mse: 0.0218 - val_custom_accuracy: 0.7650 - val_loss: 0.0236 - val_mse: 0.0214 - learning_rate: 3.1250e-05\n",
            "Epoch 149/200\n",
            "\u001b[1m100/100\u001b[0m \u001b[32m━━━━━━━━━━━━━━━━━━━━\u001b[0m\u001b[37m\u001b[0m \u001b[1m2s\u001b[0m 20ms/step - custom_accuracy: 0.7587 - loss: 0.0240 - mse: 0.0218 - val_custom_accuracy: 0.7677 - val_loss: 0.0235 - val_mse: 0.0212 - learning_rate: 1.5625e-05\n",
            "Epoch 150/200\n",
            "\u001b[1m100/100\u001b[0m \u001b[32m━━━━━━━━━━━━━━━━━━━━\u001b[0m\u001b[37m\u001b[0m \u001b[1m3s\u001b[0m 31ms/step - custom_accuracy: 0.7638 - loss: 0.0242 - mse: 0.0219 - val_custom_accuracy: 0.7664 - val_loss: 0.0234 - val_mse: 0.0212 - learning_rate: 1.5625e-05\n",
            "Epoch 151/200\n",
            "\u001b[1m100/100\u001b[0m \u001b[32m━━━━━━━━━━━━━━━━━━━━\u001b[0m\u001b[37m\u001b[0m \u001b[1m2s\u001b[0m 20ms/step - custom_accuracy: 0.7669 - loss: 0.0238 - mse: 0.0216 - val_custom_accuracy: 0.7665 - val_loss: 0.0234 - val_mse: 0.0212 - learning_rate: 1.5625e-05\n",
            "Epoch 152/200\n",
            "\u001b[1m100/100\u001b[0m \u001b[32m━━━━━━━━━━━━━━━━━━━━\u001b[0m\u001b[37m\u001b[0m \u001b[1m2s\u001b[0m 19ms/step - custom_accuracy: 0.7634 - loss: 0.0241 - mse: 0.0219 - val_custom_accuracy: 0.7660 - val_loss: 0.0235 - val_mse: 0.0213 - learning_rate: 1.5625e-05\n",
            "Epoch 153/200\n",
            "\u001b[1m100/100\u001b[0m \u001b[32m━━━━━━━━━━━━━━━━━━━━\u001b[0m\u001b[37m\u001b[0m \u001b[1m2s\u001b[0m 20ms/step - custom_accuracy: 0.7602 - loss: 0.0240 - mse: 0.0217 - val_custom_accuracy: 0.7667 - val_loss: 0.0234 - val_mse: 0.0212 - learning_rate: 1.5625e-05\n",
            "Epoch 154/200\n",
            "\u001b[1m 98/100\u001b[0m \u001b[32m━━━━━━━━━━━━━━━━━━━\u001b[0m\u001b[37m━\u001b[0m \u001b[1m0s\u001b[0m 18ms/step - custom_accuracy: 0.7596 - loss: 0.0240 - mse: 0.0218\n",
            "Epoch 154: ReduceLROnPlateau reducing learning rate to 7.812500371073838e-06.\n",
            "\u001b[1m100/100\u001b[0m \u001b[32m━━━━━━━━━━━━━━━━━━━━\u001b[0m\u001b[37m\u001b[0m \u001b[1m2s\u001b[0m 20ms/step - custom_accuracy: 0.7596 - loss: 0.0240 - mse: 0.0218 - val_custom_accuracy: 0.7675 - val_loss: 0.0235 - val_mse: 0.0213 - learning_rate: 1.5625e-05\n",
            "Epoch 155/200\n",
            "\u001b[1m100/100\u001b[0m \u001b[32m━━━━━━━━━━━━━━━━━━━━\u001b[0m\u001b[37m\u001b[0m \u001b[1m2s\u001b[0m 19ms/step - custom_accuracy: 0.7661 - loss: 0.0241 - mse: 0.0219 - val_custom_accuracy: 0.7670 - val_loss: 0.0234 - val_mse: 0.0212 - learning_rate: 7.8125e-06\n",
            "Epoch 156/200\n",
            "\u001b[1m100/100\u001b[0m \u001b[32m━━━━━━━━━━━━━━━━━━━━\u001b[0m\u001b[37m\u001b[0m \u001b[1m3s\u001b[0m 27ms/step - custom_accuracy: 0.7626 - loss: 0.0241 - mse: 0.0218 - val_custom_accuracy: 0.7670 - val_loss: 0.0235 - val_mse: 0.0212 - learning_rate: 7.8125e-06\n",
            "Epoch 157/200\n",
            "\u001b[1m100/100\u001b[0m \u001b[32m━━━━━━━━━━━━━━━━━━━━\u001b[0m\u001b[37m\u001b[0m \u001b[1m3s\u001b[0m 26ms/step - custom_accuracy: 0.7645 - loss: 0.0241 - mse: 0.0219 - val_custom_accuracy: 0.7662 - val_loss: 0.0234 - val_mse: 0.0212 - learning_rate: 7.8125e-06\n",
            "Epoch 158/200\n",
            "\u001b[1m100/100\u001b[0m \u001b[32m━━━━━━━━━━━━━━━━━━━━\u001b[0m\u001b[37m\u001b[0m \u001b[1m2s\u001b[0m 19ms/step - custom_accuracy: 0.7662 - loss: 0.0241 - mse: 0.0219 - val_custom_accuracy: 0.7667 - val_loss: 0.0235 - val_mse: 0.0212 - learning_rate: 7.8125e-06\n",
            "Epoch 159/200\n",
            "\u001b[1m 98/100\u001b[0m \u001b[32m━━━━━━━━━━━━━━━━━━━\u001b[0m\u001b[37m━\u001b[0m \u001b[1m0s\u001b[0m 18ms/step - custom_accuracy: 0.7624 - loss: 0.0241 - mse: 0.0219\n",
            "Epoch 159: ReduceLROnPlateau reducing learning rate to 3.906250185536919e-06.\n",
            "\u001b[1m100/100\u001b[0m \u001b[32m━━━━━━━━━━━━━━━━━━━━\u001b[0m\u001b[37m\u001b[0m \u001b[1m2s\u001b[0m 19ms/step - custom_accuracy: 0.7625 - loss: 0.0241 - mse: 0.0219 - val_custom_accuracy: 0.7627 - val_loss: 0.0236 - val_mse: 0.0213 - learning_rate: 7.8125e-06\n",
            "Epoch 160/200\n",
            "\u001b[1m100/100\u001b[0m \u001b[32m━━━━━━━━━━━━━━━━━━━━\u001b[0m\u001b[37m\u001b[0m \u001b[1m2s\u001b[0m 19ms/step - custom_accuracy: 0.7617 - loss: 0.0242 - mse: 0.0220 - val_custom_accuracy: 0.7682 - val_loss: 0.0234 - val_mse: 0.0212 - learning_rate: 3.9063e-06\n"
          ]
        }
      ]
    },
    {
      "cell_type": "code",
      "source": [
        "# Evaluate the model on the test set\n",
        "eval_results = model.evaluate(X_val_dct2, y_val_labels)\n",
        "print(f\"Test results - Loss: {eval_results[0]}, MSE: {eval_results[1]}, Accuracy: {eval_results[2]}\")"
      ],
      "metadata": {
        "colab": {
          "base_uri": "https://localhost:8080/"
        },
        "id": "1-5UKSRDiEwS",
        "outputId": "04f0b70f-5a8a-4860-a0ea-51a8d53470d9"
      },
      "execution_count": 95,
      "outputs": [
        {
          "output_type": "stream",
          "name": "stdout",
          "text": [
            "\u001b[1m7/7\u001b[0m \u001b[32m━━━━━━━━━━━━━━━━━━━━\u001b[0m\u001b[37m\u001b[0m \u001b[1m0s\u001b[0m 8ms/step - custom_accuracy: 0.7691 - loss: 0.0231 - mse: 0.0209 \n",
            "Test results - Loss: 0.023422034457325935, MSE: 0.02120308391749859, Accuracy: 0.7663689851760864\n"
          ]
        }
      ]
    },
    {
      "cell_type": "code",
      "source": [
        "import matplotlib.pyplot as plt\n",
        "\n",
        "plt.figure(figsize=(12, 5))\n",
        "\n",
        "plt.subplot(1, 2, 1)\n",
        "plt.plot(history.history['loss'], label='Training Loss')\n",
        "plt.plot(history.history['val_loss'], label='Validation Loss')\n",
        "plt.title('Loss Over Epochs')\n",
        "plt.xlabel('Epochs')\n",
        "plt.ylabel('MSE Loss')\n",
        "plt.legend()\n",
        "\n",
        "plt.subplot(1, 2, 2)\n",
        "plt.plot(history.history['custom_accuracy'], label='Training Accuracy')\n",
        "plt.plot(history.history['val_custom_accuracy'], label='Validation Accuracy')\n",
        "plt.title('Accuracy Over Epochs')\n",
        "plt.xlabel('Epochs')\n",
        "plt.ylabel('Accuracy (%)')\n",
        "plt.legend()\n",
        "\n",
        "plt.show()"
      ],
      "metadata": {
        "colab": {
          "base_uri": "https://localhost:8080/",
          "height": 487
        },
        "id": "Xz-YSvZxih8l",
        "outputId": "969fbae6-b173-450e-bdc2-a385dbd0de8c"
      },
      "execution_count": 96,
      "outputs": [
        {
          "output_type": "display_data",
          "data": {
            "text/plain": [
              "<Figure size 1200x500 with 2 Axes>"
            ],
            "image/png": "[encoded data removed]"
          },
          "metadata": {}
        }
      ]
    },
    {
      "cell_type": "code",
      "source": [
        "y_pred = model.predict(X_val_dct2)\n",
        "y_pred_rescaled = y_pred * (q - 1)\n",
        "\n",
        "print(\"Comparison of predictions and ground truth:\")\n",
        "for i in range(3):\n",
        "    print(f\"Sample {i+1}:\")\n",
        "    print(f\"  Predicted:    {np.round(y_pred_rescaled[i]).astype(int)}\")\n",
        "    print(f\"  Ground Truth: {y_val[i].astype(int)}\")\n",
        "    print(\"-\" * 40)"
      ],
      "metadata": {
        "colab": {
          "base_uri": "https://localhost:8080/"
        },
        "id": "jMC6xUFdinH4",
        "outputId": "1ac0141f-8d3f-4d2e-ff0d-1e62583243f7"
      },
      "execution_count": 97,
      "outputs": [
        {
          "output_type": "stream",
          "name": "stdout",
          "text": [
            "\u001b[1m7/7\u001b[0m \u001b[32m━━━━━━━━━━━━━━━━━━━━\u001b[0m\u001b[37m\u001b[0m \u001b[1m3s\u001b[0m 209ms/step\n",
            "Comparison of predictions and ground truth:\n",
            "Sample 1:\n",
            "  Predicted:    [3 3 3 3 3 3 2 2 6 2 3 1 4 0 3 2 5 1 4 3 4 4 6 5 2 3 1 0 0 0 0 0]\n",
            "  Ground Truth: [5 6 5 1 3 4 1 1 6 2 3 1 4 0 3 2 5 1 4 3 4 4 6 5 2 3 1 0 0 0 0 0]\n",
            "----------------------------------------\n",
            "Sample 2:\n",
            "  Predicted:    [3 3 3 3 3 3 2 5 5 2 4 3 3 1 3 1 1 2 0 1 1 5 2 1 4 0 4 0 0 0 0 0]\n",
            "  Ground Truth: [1 4 1 3 3 3 0 5 5 2 4 3 3 1 3 1 1 2 0 1 1 5 2 1 4 0 4 0 0 0 0 0]\n",
            "----------------------------------------\n",
            "Sample 3:\n",
            "  Predicted:    [3 3 3 3 3 3 3 4 2 6 4 1 0 5 2 3 5 1 4 6 0 4 3 2 3 4 4 0 0 0 0 0]\n",
            "  Ground Truth: [2 6 0 2 2 1 3 4 2 6 4 1 0 5 2 3 5 1 4 6 0 4 3 2 3 4 4 0 0 0 0 0]\n",
            "----------------------------------------\n"
          ]
        }
      ]
    },
    {
      "cell_type": "code",
      "source": [
        "from sklearn.metrics import r2_score\n",
        "\n",
        "r2 = r2_score(y_val_labels, y_pred)\n",
        "\n",
        "print(f\"R² Score: {r2:.4f}\")"
      ],
      "metadata": {
        "colab": {
          "base_uri": "https://localhost:8080/"
        },
        "id": "xU_xRt8_iiYd",
        "outputId": "6a03965a-b158-4e94-c21e-e39345a623ad"
      },
      "execution_count": 98,
      "outputs": [
        {
          "output_type": "stream",
          "name": "stdout",
          "text": [
            "R² Score: 0.6838\n"
          ]
        }
      ]
    },
    {
      "cell_type": "code",
      "source": [
        "# ---------------------- Inference time on Test Set ----------------------------\n",
        "\n",
        "import time\n",
        "\n",
        "_ = model.predict(X_val_dct2, verbose=0)  # warm up\n",
        "\n",
        "times = []\n",
        "for _ in range(100):\n",
        "    start = time.perf_counter()\n",
        "    _ = model.predict(X_val_dct2, verbose=0)\n",
        "    end = time.perf_counter()\n",
        "    times.append(end - start)\n",
        "\n",
        "average_inference_time = np.mean(times)\n",
        "print(f\"Average batch inference time over 100 runs: {average_inference_time:.6f} seconds\")\n",
        "\n",
        "average_per_sample = average_inference_time / X_val_dct2.shape[0]\n",
        "print(f\"Average inference time per sample (from batch): {average_per_sample:.6f} seconds\")"
      ],
      "metadata": {
        "colab": {
          "base_uri": "https://localhost:8080/"
        },
        "id": "JdHn1D1WEwdC",
        "outputId": "bc2d4e84-07ee-4149-f39e-8216999ff187"
      },
      "execution_count": 99,
      "outputs": [
        {
          "output_type": "stream",
          "name": "stdout",
          "text": [
            "Average batch inference time over 100 runs: 0.123209 seconds\n",
            "Average inference time per sample (from batch): 0.000616 seconds\n"
          ]
        }
      ]
    },
    {
      "cell_type": "markdown",
      "source": [
        "Test on Unseen Samples"
      ],
      "metadata": {
        "id": "ypFjvRU8_HkR"
      }
    },
    {
      "cell_type": "code",
      "source": [
        "# --------------------- Predictions on unseen samples (no noise) -------------------------\n",
        "\n",
        "np.random.seed(42)\n",
        "\n",
        "x_unseen_original = np.random.randint(0, q, size=(num_unseen_samples, n))\n",
        "x_unseen_original_padded = np.pad(x_unseen_original, ((0, 0), (0, padding)), mode='constant', constant_values=0)\n",
        "\n",
        "# encode\n",
        "encoded_dataset_unseen = np.array([np.dot(M_tilde, x) for x in x_unseen_original_padded])\n",
        "encoded_dataset_unseen[np.abs(encoded_dataset_unseen) < 1e-10] = 0\n",
        "encoded_dataset_unseen = np.round(encoded_dataset_unseen, decimals=10)\n",
        "\n",
        "# pre-process\n",
        "N = encoded_dataset_unseen.shape[1]\n",
        "k = np.arange(N)\n",
        "shift = np.exp(-1j * np.pi * k / (2 * N))\n",
        "alpha_k = np.where(k == 0, np.sqrt(1/N), np.sqrt(2/N))\n",
        "\n",
        "x_unseen_dct2 = np.array([np.real(alpha_k * shift * y) for y in encoded_dataset_unseen])\n",
        "x_unseen_dct2[np.abs(x_unseen_dct2) < 1e-10] = 0\n",
        "x_unseen_dct2 = np.round(x_unseen_dct2, decimals=10)\n",
        "\n",
        "# Normalize\n",
        "x_unseen_dct2_normalized = (x_unseen_dct2 - x_unseen_dct2.mean()) / x_unseen_dct2.std()\n",
        "\n",
        "# Predict\n",
        "nn_pred = model.predict(x_unseen_dct2_normalized)\n",
        "\n",
        "# Rescale prediction\n",
        "y_pred_final = np.mod(np.round(nn_pred * (q - 1)), q)\n",
        "\n",
        "# Evaluate\n",
        "x_unseen_original_padded_normalized = x_unseen_original_padded.astype(np.float32) / (q - 1)\n",
        "\n",
        "mse_nn = custom_mse(x_unseen_original_padded_normalized, nn_pred)\n",
        "acc_nn = custom_accuracy(x_unseen_original_padded_normalized, nn_pred)\n",
        "\n",
        "print(f\"MSE on unseen data (no noise): {mse_nn}\")\n",
        "print(f\"Accuracy on unseen data (no noise): {acc_nn}\")\n",
        "\n",
        "num_display_samples = 3\n",
        "for i in range(num_display_samples):\n",
        "    print(f\"\\nSample {i+1}:\")\n",
        "    print(f\"Original : {x_unseen_original_padded[i]}\")\n",
        "    print(f\"NN Pred  : {y_pred_final[i].astype(int)}\")"
      ],
      "metadata": {
        "colab": {
          "base_uri": "https://localhost:8080/"
        },
        "id": "VoouSrZHD9ga",
        "outputId": "67705857-6a71-4ed6-9c39-e8ab4722a76c"
      },
      "execution_count": 100,
      "outputs": [
        {
          "output_type": "stream",
          "name": "stdout",
          "text": [
            "\u001b[1m1/1\u001b[0m \u001b[32m━━━━━━━━━━━━━━━━━━━━\u001b[0m\u001b[37m\u001b[0m \u001b[1m0s\u001b[0m 64ms/step\n",
            "MSE on unseen data (no noise): 0.022840730845928192\n",
            "Accuracy on unseen data (no noise): 0.7740740776062012\n",
            "\n",
            "Sample 1:\n",
            "Original : [6 3 4 6 2 4 4 6 1 2 6 2 2 4 3 2 5 4 1 3 5 5 1 3 4 0 3 0 0 0 0 0]\n",
            "NN Pred  : [3 3 3 3 3 3 4 5 1 2 6 2 2 4 3 2 5 4 1 3 5 5 1 3 4 0 3 0 0 0 0 0]\n",
            "\n",
            "Sample 2:\n",
            "Original : [1 5 4 3 0 0 2 2 6 1 3 3 6 5 5 6 5 2 3 6 3 0 2 4 2 6 4 0 0 0 0 0]\n",
            "NN Pred  : [3 3 3 3 3 2 3 2 6 1 3 3 6 5 5 6 5 2 3 6 3 0 2 4 2 6 4 0 0 0 0 0]\n",
            "\n",
            "Sample 3:\n",
            "Original : [0 6 1 3 0 3 5 1 1 0 1 4 1 3 3 6 3 6 3 4 6 2 5 0 3 1 3 0 0 0 0 0]\n",
            "NN Pred  : [3 3 3 3 3 3 4 2 1 0 1 4 1 3 3 6 3 6 3 4 6 2 5 0 3 1 3 0 0 0 0 0]\n"
          ]
        }
      ]
    },
    {
      "cell_type": "code",
      "source": [
        "# --------------------- Predictions on unseen samples (with gaussian noise) -------------------------\n",
        "\n",
        "np.random.seed(42)\n",
        "\n",
        "x_unseen_original = np.random.randint(0, q, size=(num_unseen_samples, n))\n",
        "x_unseen_original_padded = np.pad(x_unseen_original, ((0, 0), (0, padding)), mode='constant', constant_values=0)\n",
        "\n",
        "# Encode\n",
        "encoded_dataset_unseen = np.array([np.dot(M_tilde, x) for x in x_unseen_original_padded])\n",
        "encoded_dataset_unseen[np.abs(encoded_dataset_unseen) < 1e-10] = 0\n",
        "encoded_dataset_unseen = np.round(encoded_dataset_unseen, decimals=10)\n",
        "\n",
        "# -------------------- Add noise ---------------------\n",
        "noise_ratio = 0.02 # 2% noise\n",
        "\n",
        "real_parts = np.real(encoded_dataset_unseen)\n",
        "imag_parts = np.imag(encoded_dataset_unseen)\n",
        "\n",
        "noise_std_real = np.abs(real_parts) * noise_ratio\n",
        "noise_std_imag = np.abs(imag_parts) * noise_ratio\n",
        "\n",
        "noise_real = np.random.normal(0, noise_std_real)\n",
        "noise_imag = np.random.normal(0, noise_std_imag)\n",
        "noise = noise_real + 1j * noise_imag\n",
        "\n",
        "encoded_noisy = encoded_dataset_unseen + noise\n",
        "\n",
        "# Preprocess\n",
        "N = encoded_noisy.shape[1]\n",
        "k = np.arange(N)\n",
        "shift = np.exp(-1j * np.pi * k / (2 * N))\n",
        "alpha_k = np.where(k == 0, np.sqrt(1/N), np.sqrt(2/N))\n",
        "\n",
        "x_unseen_dct2 = np.array([np.real(alpha_k * shift * y) for y in encoded_noisy])\n",
        "x_unseen_dct2[np.abs(x_unseen_dct2) < 1e-10] = 0\n",
        "x_unseen_dct2 = np.round(x_unseen_dct2, decimals=10)\n",
        "\n",
        "# Normalize\n",
        "x_unseen_dct2_normalized = (x_unseen_dct2 - x_unseen_dct2.mean()) / (x_unseen_dct2.std() + 1e-8)\n",
        "\n",
        "# Predict\n",
        "nn_pred = model.predict(x_unseen_dct2_normalized)\n",
        "\n",
        "# Rescale prediction\n",
        "y_pred_final = np.mod(np.round(nn_pred * (q - 1)), q)\n",
        "\n",
        "# Evaluate\n",
        "x_unseen_original_padded_normalized = x_unseen_original_padded.astype(np.float32) / (q - 1)\n",
        "\n",
        "mse_nn = custom_mse(x_unseen_original_padded_normalized, nn_pred)\n",
        "acc_nn = custom_accuracy(x_unseen_original_padded_normalized, nn_pred)\n",
        "\n",
        "print(f\"MSE on unseen data (with 2% noise): {mse_nn}\")\n",
        "print(f\"Accuracy on unseen data (with 2% noise): {acc_nn}\")\n",
        "\n",
        "num_display_samples = 3\n",
        "for i in range(num_display_samples):\n",
        "    print(f\"\\nSample {i+1}:\")\n",
        "    print(f\"Original : {x_unseen_original_padded[i]}\")\n",
        "    print(f\"NN Pred  : {y_pred_final[i].astype(int)}\")"
      ],
      "metadata": {
        "colab": {
          "base_uri": "https://localhost:8080/"
        },
        "id": "z6krMXN0D-sS",
        "outputId": "59305677-641d-4235-cb4a-2c703f7f1e8a"
      },
      "execution_count": 101,
      "outputs": [
        {
          "output_type": "stream",
          "name": "stdout",
          "text": [
            "\u001b[1m1/1\u001b[0m \u001b[32m━━━━━━━━━━━━━━━━━━━━\u001b[0m\u001b[37m\u001b[0m \u001b[1m0s\u001b[0m 68ms/step\n",
            "MSE on unseen data (with 2% noise): 0.05940413475036621\n",
            "Accuracy on unseen data (with 2% noise): 0.5518518686294556\n",
            "\n",
            "Sample 1:\n",
            "Original : [6 3 4 6 2 4 4 6 1 2 6 2 2 4 3 2 5 4 1 3 5 5 1 3 4 0 3 0 0 0 0 0]\n",
            "NN Pred  : [3 3 3 3 3 2 3 0 2 0 6 2 1 3 3 2 5 4 1 3 5 5 1 3 4 0 3 0 0 0 0 0]\n",
            "\n",
            "Sample 2:\n",
            "Original : [1 5 4 3 0 0 2 2 6 1 3 3 6 5 5 6 5 2 3 6 3 0 2 4 2 6 4 0 0 0 0 0]\n",
            "NN Pred  : [3 3 3 3 3 4 6 4 4 1 4 5 1 6 5 5 4 2 3 6 3 0 2 4 2 6 4 0 0 0 0 0]\n",
            "\n",
            "Sample 3:\n",
            "Original : [0 6 1 3 0 3 5 1 1 0 1 4 1 3 3 6 3 6 3 4 6 2 5 0 3 1 3 0 0 0 0 0]\n",
            "NN Pred  : [3 3 3 3 3 2 4 3 1 0 0 5 2 3 3 6 3 6 3 4 6 2 5 0 3 1 3 0 0 0 0 0]\n"
          ]
        }
      ]
    },
    {
      "cell_type": "code",
      "source": [
        "# --------------------- Predictions on unseen samples (with gaussian noise) -------------------------\n",
        "\n",
        "np.random.seed(42)\n",
        "\n",
        "x_unseen_original = np.random.randint(0, q, size=(num_unseen_samples, n))\n",
        "x_unseen_original_padded = np.pad(x_unseen_original, ((0, 0), (0, padding)), mode='constant', constant_values=0)\n",
        "\n",
        "# Encode\n",
        "encoded_dataset_unseen = np.array([np.dot(M_tilde, x) for x in x_unseen_original_padded])\n",
        "encoded_dataset_unseen[np.abs(encoded_dataset_unseen) < 1e-10] = 0\n",
        "encoded_dataset_unseen = np.round(encoded_dataset_unseen, decimals=10)\n",
        "\n",
        "# -------------------- Add noise ---------------------\n",
        "noise_ratio = 0.05 # 5% noise\n",
        "\n",
        "real_parts = np.real(encoded_dataset_unseen)\n",
        "imag_parts = np.imag(encoded_dataset_unseen)\n",
        "\n",
        "noise_std_real = np.abs(real_parts) * noise_ratio\n",
        "noise_std_imag = np.abs(imag_parts) * noise_ratio\n",
        "\n",
        "noise_real = np.random.normal(0, noise_std_real)\n",
        "noise_imag = np.random.normal(0, noise_std_imag)\n",
        "noise = noise_real + 1j * noise_imag\n",
        "\n",
        "encoded_noisy = encoded_dataset_unseen + noise\n",
        "\n",
        "# Preprocess\n",
        "N = encoded_noisy.shape[1]\n",
        "k = np.arange(N)\n",
        "shift = np.exp(-1j * np.pi * k / (2 * N))\n",
        "alpha_k = np.where(k == 0, np.sqrt(1/N), np.sqrt(2/N))\n",
        "\n",
        "x_unseen_dct2 = np.array([np.real(alpha_k * shift * y) for y in encoded_noisy])\n",
        "x_unseen_dct2[np.abs(x_unseen_dct2) < 1e-10] = 0\n",
        "x_unseen_dct2 = np.round(x_unseen_dct2, decimals=10)\n",
        "\n",
        "# Normalize\n",
        "x_unseen_dct2_normalized = (x_unseen_dct2 - x_unseen_dct2.mean()) / (x_unseen_dct2.std() + 1e-8)\n",
        "\n",
        "# Predict\n",
        "nn_pred = model.predict(x_unseen_dct2_normalized)\n",
        "\n",
        "# Rescale prediction\n",
        "y_pred_final = np.mod(np.round(nn_pred * (q - 1)), q)\n",
        "\n",
        "# Evaluate\n",
        "x_unseen_original_padded_normalized = x_unseen_original_padded.astype(np.float32) / (q - 1)\n",
        "\n",
        "mse_nn = custom_mse(x_unseen_original_padded_normalized, nn_pred)\n",
        "acc_nn = custom_accuracy(x_unseen_original_padded_normalized, nn_pred)\n",
        "\n",
        "print(f\"MSE on unseen data (with 5% noise): {mse_nn}\")\n",
        "print(f\"Accuracy on unseen data (with 5% noise): {acc_nn}\")\n",
        "\n",
        "num_display_samples = 3\n",
        "for i in range(num_display_samples):\n",
        "    print(f\"\\nSample {i+1}:\")\n",
        "    print(f\"Original : {x_unseen_original_padded[i]}\")\n",
        "    print(f\"NN Pred  : {y_pred_final[i].astype(int)}\")"
      ],
      "metadata": {
        "colab": {
          "base_uri": "https://localhost:8080/"
        },
        "id": "ixa9hx3KEN9d",
        "outputId": "8c9bbfaf-c31e-4fc2-87c0-daeddff4177b"
      },
      "execution_count": 102,
      "outputs": [
        {
          "output_type": "stream",
          "name": "stdout",
          "text": [
            "\u001b[1m1/1\u001b[0m \u001b[32m━━━━━━━━━━━━━━━━━━━━\u001b[0m\u001b[37m\u001b[0m \u001b[1m0s\u001b[0m 58ms/step\n",
            "MSE on unseen data (with 5% noise): 0.21250486373901367\n",
            "Accuracy on unseen data (with 5% noise): 0.44999998807907104\n",
            "\n",
            "Sample 1:\n",
            "Original : [6 3 4 6 2 4 4 6 1 2 6 2 2 4 3 2 5 4 1 3 5 5 1 3 4 0 3 0 0 0 0 0]\n",
            "NN Pred  : [3 3 3 3 3 1 2 0 4 0 6 3 0 3 3 2 4 3 1 2 5 5 1 3 4 0 3 0 0 0 0 0]\n",
            "\n",
            "Sample 2:\n",
            "Original : [1 5 4 3 0 0 2 2 6 1 3 3 6 5 5 6 5 2 3 6 3 0 2 4 2 6 4 0 0 0 0 0]\n",
            "NN Pred  : [3 3 3 3 3 0 5 2 4 1 5 1 4 1 5 4 3 1 3 6 3 0 2 4 2 6 4 0 0 0 0 0]\n",
            "\n",
            "Sample 3:\n",
            "Original : [0 6 1 3 0 3 5 1 1 0 1 4 1 3 3 6 3 6 3 4 6 2 5 0 3 1 3 0 0 0 0 0]\n",
            "NN Pred  : [3 4 3 3 3 1 5 6 1 0 0 6 3 4 3 5 2 6 3 4 6 2 5 0 3 1 3 0 0 0 0 0]\n"
          ]
        }
      ]
    },
    {
      "cell_type": "markdown",
      "source": [
        "Visualize and Analyse model training"
      ],
      "metadata": {
        "id": "9xwMBctfDbQw"
      }
    },
    {
      "cell_type": "code",
      "source": [
        "import matplotlib.pyplot as plt\n",
        "\n",
        "# exclude zero pads\n",
        "y_pred_first_n = y_pred[:, :n]\n",
        "y_pred_first_n_rescaled = y_pred_first_n * (q - 1)\n",
        "\n",
        "plt.hist(y_pred_first_n_rescaled.flatten(), bins=50)\n",
        "plt.xlabel('Prediction Value')\n",
        "plt.ylabel('Frequency')\n",
        "plt.show()"
      ],
      "metadata": {
        "colab": {
          "base_uri": "https://localhost:8080/",
          "height": 454
        },
        "id": "_b82OYCHi39W",
        "outputId": "86e0e151-6934-4dde-eb66-0f0643506388"
      },
      "execution_count": 103,
      "outputs": [
        {
          "output_type": "display_data",
          "data": {
            "text/plain": [
              "<Figure size 640x480 with 1 Axes>"
            ],
            "image/png": "[encoded data removed]"
          },
          "metadata": {}
        }
      ]
    },
    {
      "cell_type": "code",
      "source": [
        "# for layer in model.layers:\n",
        "#     if layer.trainable_variables:  # Check if the layer has trainable variables\n",
        "#         for i, var in enumerate(layer.trainable_variables):\n",
        "#             print(f\"{layer.name} - Variable {i} ({var.name}): values: {var.numpy()}\")\n",
        "#     else:\n",
        "#         print(layer.name, \"has no trainable variables.\")"
      ],
      "metadata": {
        "id": "TM5Icr6_i71u"
      },
      "execution_count": 104,
      "outputs": []
    },
    {
      "cell_type": "code",
      "source": [
        "# from tensorflow.keras import backend as K\n",
        "# K.clear_session()"
      ],
      "metadata": {
        "id": "lnS7OZGki9iU"
      },
      "execution_count": 105,
      "outputs": []
    },
    {
      "cell_type": "code",
      "source": [],
      "metadata": {
        "id": "SmN_y4SyuZH_"
      },
      "execution_count": 105,
      "outputs": []
    }
  ]
}