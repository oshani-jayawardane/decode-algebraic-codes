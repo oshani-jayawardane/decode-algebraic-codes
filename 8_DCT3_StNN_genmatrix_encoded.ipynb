{
  "cells": [
    {
      "cell_type": "markdown",
      "metadata": {
        "id": "C-ud9f6pKYDR"
      },
      "source": [
        "### 3-layer DCT-III StNN - Generator matrix encoded data"
      ]
    },
    {
      "cell_type": "code",
      "execution_count": 235,
      "metadata": {
        "colab": {
          "base_uri": "https://localhost:8080/"
        },
        "id": "Qocs-9CH8ygv",
        "outputId": "29098832-fc13-4453-c0b0-b7b542429c6e"
      },
      "outputs": [
        {
          "data": {
            "text/plain": [
              "0"
            ]
          },
          "execution_count": 235,
          "metadata": {},
          "output_type": "execute_result"
        }
      ],
      "source": [
        "%reset -f\n",
        "import gc\n",
        "gc.collect()"
      ]
    },
    {
      "cell_type": "code",
      "execution_count": 236,
      "metadata": {
        "id": "oneNe27mQFge"
      },
      "outputs": [],
      "source": [
        "import numpy as np\n",
        "import tensorflow as tf\n",
        "from scipy.fftpack import dct\n",
        "import math\n",
        "\n",
        "np.random.seed(42)"
      ]
    },
    {
      "cell_type": "code",
      "execution_count": 237,
      "metadata": {
        "id": "MtNHp_3SQTvu"
      },
      "outputs": [],
      "source": [
        "# (x, y, z, w) --> (1, 2, 3, 4)\n",
        "global z0\n",
        "global w0\n",
        "\n",
        "w0 = 4\n",
        "z0 = 3\n",
        "\n",
        "n = 27\n",
        "q = 7\n",
        "\n",
        "num_samples = 1000"
      ]
    },
    {
      "cell_type": "code",
      "execution_count": 238,
      "metadata": {
        "colab": {
          "base_uri": "https://localhost:8080/"
        },
        "id": "e0r-9MqtY73B",
        "outputId": "39a29177-80fa-427c-ccf9-a8c89ab87993"
      },
      "outputs": [
        {
          "name": "stdout",
          "output_type": "stream",
          "text": [
            "Original n: 27, Padded to: 32\n"
          ]
        }
      ],
      "source": [
        "def next_power_of_two(x):\n",
        "    return 2 ** math.ceil(math.log2(x))\n",
        "\n",
        "n_padded = next_power_of_two(n)\n",
        "\n",
        "x_original = np.random.randint(0, q, size=(num_samples, n))\n",
        "\n",
        "padding = n_padded - n\n",
        "dataset = np.pad(x_original, ((0, 0), (0, padding)), mode='constant', constant_values=0)\n",
        "\n",
        "print(f\"Original n: {n}, Padded to: {n_padded}\")"
      ]
    },
    {
      "cell_type": "code",
      "execution_count": 239,
      "metadata": {
        "colab": {
          "base_uri": "https://localhost:8080/"
        },
        "id": "mzQ0bCdWQXOk",
        "outputId": "ad302cb0-ea5c-4fb0-f48c-9ad5b0a3e494"
      },
      "outputs": [
        {
          "data": {
            "text/plain": [
              "(1000, 27)"
            ]
          },
          "execution_count": 239,
          "metadata": {},
          "output_type": "execute_result"
        }
      ],
      "source": [
        "x_original.shape"
      ]
    },
    {
      "cell_type": "code",
      "execution_count": 240,
      "metadata": {
        "colab": {
          "base_uri": "https://localhost:8080/"
        },
        "id": "vboxM2LadPcr",
        "outputId": "e260ba5c-d6e5-4300-d0a8-753b9ed8a6f2"
      },
      "outputs": [
        {
          "data": {
            "text/plain": [
              "(1000, 32)"
            ]
          },
          "execution_count": 240,
          "metadata": {},
          "output_type": "execute_result"
        }
      ],
      "source": [
        "dataset.shape"
      ]
    },
    {
      "cell_type": "markdown",
      "metadata": {
        "id": "pqoj-jjAZAWc"
      },
      "source": [
        "Encode using generator matrix\n",
        "$$\n",
        "\\tilde{M}_{kj} = \\left[ \\left( \\frac{w_0}{z_0} \\right)^j \\zeta^{kj} \\right]_{k,j=0}^{n-1}\n",
        "$$"
      ]
    },
    {
      "cell_type": "code",
      "execution_count": 241,
      "metadata": {
        "id": "64eOPlmF9Ex_"
      },
      "outputs": [],
      "source": [
        "def padded_generator_matrix(N, w0, z0):\n",
        "    n = np.arange(N)\n",
        "    k = n.reshape((N, 1))\n",
        "    zeta = np.exp(-2j * np.pi / N)\n",
        "    M_tilde = ((w0 / z0) ** n) * (zeta ** (k * n))\n",
        "    return M_tilde"
      ]
    },
    {
      "cell_type": "code",
      "execution_count": 242,
      "metadata": {
        "colab": {
          "base_uri": "https://localhost:8080/"
        },
        "id": "PSIUpVnGQsG1",
        "outputId": "8528e1ec-f28e-4f81-d7d7-53e61a899ea6"
      },
      "outputs": [
        {
          "name": "stdout",
          "output_type": "stream",
          "text": [
            "(32, 32)\n"
          ]
        }
      ],
      "source": [
        "M_tilde = padded_generator_matrix(n_padded, w0, z0)\n",
        "print(M_tilde.shape)"
      ]
    },
    {
      "cell_type": "code",
      "execution_count": 243,
      "metadata": {
        "colab": {
          "base_uri": "https://localhost:8080/"
        },
        "id": "RRGEWiz9NzyQ",
        "outputId": "9b17f7b4-4099-4192-a5f4-c094c750e70f"
      },
      "outputs": [
        {
          "data": {
            "text/plain": [
              "(1000, 32)"
            ]
          },
          "execution_count": 243,
          "metadata": {},
          "output_type": "execute_result"
        }
      ],
      "source": [
        "encoded_dataset = np.array([np.dot(M_tilde, x) for x in dataset])\n",
        "encoded_dataset[np.abs(encoded_dataset) < 1e-10] = 0\n",
        "encoded_dataset = np.round(encoded_dataset, decimals=10)\n",
        "encoded_dataset.shape"
      ]
    },
    {
      "cell_type": "code",
      "execution_count": 244,
      "metadata": {
        "colab": {
          "base_uri": "https://localhost:8080/"
        },
        "id": "3X06HpkJZG0d",
        "outputId": "201a3b5a-b691-47d3-a56d-5fa51a862f8e"
      },
      "outputs": [
        {
          "name": "stdout",
          "output_type": "stream",
          "text": [
            "x_original[0]: [6 3 4 6 2 4 4 6 1 2 6 2 2 4 3 2 5 4 1 3 5 5 1 3 4 0 3]\n",
            "\n",
            "After encoding:\n",
            " [18563.60052945    +0.j         -3175.07412411+14542.65392496j\n",
            " -9480.13851167 -1549.89213738j  -850.18419129 -5788.51248279j\n",
            "  2813.63372348 -2457.36436449j  3312.0476391   +337.88077825j\n",
            "  1059.2907911  +3489.68169028j -2366.82367016  +909.74502726j\n",
            "  -210.29906943  +357.85181443j -3878.07651347  +373.95548592j\n",
            "   -49.25036994 -6370.32567308j  6901.71964373 -1088.5938127j\n",
            "  2896.76301761 +7252.43377368j -6714.83312544 +4427.90575271j\n",
            " -5496.28870703 -5330.43278044j  2828.24226801 -6162.17891893j\n",
            "  6446.94186958    -0.j          2828.24226801 +6162.17891893j\n",
            " -5496.28870703 +5330.43278044j -6714.83312544 -4427.90575271j\n",
            "  2896.76301761 -7252.43377368j  6901.71964373 +1088.5938127j\n",
            "   -49.25036994 +6370.32567308j -3878.07651347  -373.95548592j\n",
            "  -210.29906943  -357.85181443j -2366.82367016  -909.74502726j\n",
            "  1059.2907911  -3489.68169028j  3312.0476391   -337.88077825j\n",
            "  2813.63372348 +2457.36436449j  -850.18419129 +5788.51248279j\n",
            " -9480.13851167 +1549.89213738j -3175.07412411-14542.65392496j]\n"
          ]
        }
      ],
      "source": [
        "print(f\"x_original[0]:\", x_original[0])\n",
        "print(f\"\\nAfter encoding:\\n\", encoded_dataset[0])"
      ]
    },
    {
      "cell_type": "code",
      "execution_count": null,
      "metadata": {
        "id": "WWUxLrXBZIcT"
      },
      "outputs": [],
      "source": [
        "N = encoded_dataset.shape[1]\n",
        "\n",
        "k = np.arange(N)\n",
        "shift = np.exp(-1j * np.pi * k / (2 * N))\n",
        "alpha_k = np.where(k == 0, np.sqrt(1/N), np.sqrt(2/N))\n",
        "\n",
        "dct2_dataset = np.array([np.real(alpha_k * shift * y) for y in encoded_dataset])\n",
        "dct2_dataset[np.abs(dct2_dataset) < 1e-10] = 0\n",
        "dct2_dataset = np.round(dct2_dataset, decimals=10) # Round for numerical stability"
      ]
    },
    {
      "cell_type": "code",
      "execution_count": 246,
      "metadata": {
        "colab": {
          "base_uri": "https://localhost:8080/"
        },
        "id": "HwXaAAfPZKP4",
        "outputId": "9d523af0-7db3-4236-bb04-e3553ee852f4"
      },
      "outputs": [
        {
          "name": "stdout",
          "output_type": "stream",
          "text": [
            "Original x: [4 3 6 4 2 0 5 6 6 2 2 1 6 1 1 5 1 4 3 0 2 4 0 6 6 6 4 0 0 0 0 0]\n",
            "\n",
            "Encoded y: [ 29916.11588021    +0.j            328.95686704+26422.4846445j\n",
            " -21936.20111033 +3988.95593508j  -7301.38988823-17810.36382931j\n",
            "  13577.84642585 -8953.74117052j   9354.9421295  +8727.48732799j\n",
            "  -4221.49645678 +8798.15590637j  -7861.90722461  -861.73832776j\n",
            "   -779.76795929 -5322.56486315j   2168.22506293 -1740.90057156j\n",
            "   1615.33333537 -1441.8771791j    5127.91361716 +2018.69510167j\n",
            "  -2943.81135295 +6208.60576073j  -5262.87924206 -2070.18847016j\n",
            "    798.8487054  -4460.7613612j    2679.94226354  +633.97975698j\n",
            "   -477.22622529    -0.j           2679.94226354  -633.97975698j\n",
            "    798.8487054  +4460.7613612j   -5262.87924206 +2070.18847016j\n",
            "  -2943.81135295 -6208.60576073j   5127.91361716 -2018.69510167j\n",
            "   1615.33333537 +1441.8771791j    2168.22506293 +1740.90057156j\n",
            "   -779.76795929 +5322.56486315j  -7861.90722461  +861.73832776j\n",
            "  -4221.49645678 -8798.15590637j   9354.9421295  -8727.48732799j\n",
            "  13577.84642585 +8953.74117052j  -7301.38988823+17810.36382931j\n",
            " -21936.20111033 -3988.95593508j    328.95686704-26422.4846445j ]\n",
            "\n",
            "DCT Coefficients: [ 5288.4721   406.2626 -5359.8966 -2458.9216  2892.5409  2798.7982\n",
            "  -371.4376 -1923.1607  -689.3173   303.9303   186.2252  1359.0437\n",
            "   250.4067 -1365.0985  -553.0897   602.8653   -84.3625   332.4978\n",
            "   988.7499  -368.0756 -1699.4402   226.1955   508.2713   625.1978\n",
            "  1154.7511  -459.308  -2411.1865 -1548.2175  2857.651   4136.5643\n",
            " -1529.9679 -6593.6291]\n",
            "\n",
            "Reconstructed Signal: [ 4.0000000e+00  0.0000000e+00  4.0000000e+00  0.0000000e+00\n",
            "  1.0666700e+01 -0.0000000e+00  9.4815000e+00  0.0000000e+00\n",
            "  6.3210000e+00  0.0000000e+00  0.0000000e+00  7.0870769e+03\n",
            "  2.8093300e+01  7.9729615e+03  4.4949200e+01  5.9797211e+03\n",
            "  5.9932300e+01  4.4847908e+03  2.6636600e+01 -0.0000000e+00\n",
            "  3.5515500e+01  1.6817966e+03  2.3677000e+01  6.3067370e+02\n",
            "  1.8941580e+02  0.0000000e+00  4.2092400e+01  5.3213090e+02\n",
            "  5.6123200e+01  5.3213090e+02  3.7415460e+02  9.9774600e+01]\n",
            "\n",
            "After Permutation: [ 4.0000000e+00  4.0000000e+00  1.0666700e+01  9.4815000e+00\n",
            "  6.3210000e+00  0.0000000e+00  2.8093300e+01  4.4949200e+01\n",
            "  5.9932300e+01  2.6636600e+01  3.5515500e+01  2.3677000e+01\n",
            "  1.8941580e+02  4.2092400e+01  5.6123200e+01  3.7415460e+02\n",
            "  9.9774600e+01  5.3213090e+02  5.3213090e+02  0.0000000e+00\n",
            "  6.3067370e+02  1.6817966e+03 -0.0000000e+00  4.4847908e+03\n",
            "  5.9797211e+03  7.9729615e+03  7.0870769e+03  0.0000000e+00\n",
            "  0.0000000e+00 -0.0000000e+00  0.0000000e+00  0.0000000e+00]\n",
            "\n",
            "After Scaling: [ 4.  3.  6.  4.  2.  0.  5.  6.  6.  2.  2.  1.  6.  1.  1.  5.  1.  4.\n",
            "  3.  0.  2.  4. -0.  6.  6.  6.  4.  0.  0. -0.  0.  0.]\n"
          ]
        }
      ],
      "source": [
        "\"\"\"\n",
        "The part below is for testing purposes only\n",
        "\"\"\"\n",
        "\n",
        "from scipy.fftpack import dct\n",
        "\n",
        "dct3_dataset = np.array([dct(x, type=3, norm='ortho') for x in dct2_dataset])\n",
        "\n",
        "X_perm = np.hstack((dct3_dataset[:, ::2], dct3_dataset[:, 1::2][:, ::-1]))\n",
        "\n",
        "D_hat_n = np.array([(z0 / w0) ** k for k in range(N)])\n",
        "decoded_dataset = X_perm * D_hat_n\n",
        "\n",
        "# Print verification (for one sample)\n",
        "sample_idx = 78\n",
        "print(\"Original x:\", dataset[sample_idx])\n",
        "print(\"\\nEncoded y:\", encoded_dataset[sample_idx])\n",
        "print(\"\\nDCT Coefficients:\", np.round(dct2_dataset[sample_idx], 4))\n",
        "print(\"\\nReconstructed Signal:\", np.round(dct3_dataset[sample_idx], 4))\n",
        "print(\"\\nAfter Permutation:\", np.round(X_perm[sample_idx], 4))\n",
        "print(\"\\nAfter Scaling:\", np.round(decoded_dataset[sample_idx], 4))"
      ]
    },
    {
      "cell_type": "code",
      "execution_count": 247,
      "metadata": {
        "id": "928uXOxxWlF0"
      },
      "outputs": [],
      "source": [
        "y = dataset.astype(np.float32)\n",
        "y_normalized = y / (q - 1)  # Scale to [0, 1]\n",
        "\n",
        "# labels = y\n",
        "labels = y_normalized"
      ]
    },
    {
      "cell_type": "code",
      "execution_count": 248,
      "metadata": {
        "colab": {
          "base_uri": "https://localhost:8080/"
        },
        "id": "zZOVVoAFZLyI",
        "outputId": "2735d73d-0817-4da8-86bc-cde0471ab103"
      },
      "outputs": [
        {
          "name": "stdout",
          "output_type": "stream",
          "text": [
            "(800, 32) (800, 32)\n",
            "(200, 32) (200, 32)\n"
          ]
        }
      ],
      "source": [
        "from sklearn.model_selection import train_test_split\n",
        "\n",
        "X_train, X_test, y_train, y_test = train_test_split(\n",
        "    dct2_dataset, labels, test_size=0.2, random_state=42\n",
        ")\n",
        "\n",
        "print(X_train.shape, y_train.shape)\n",
        "print(X_test.shape, y_test.shape)"
      ]
    },
    {
      "cell_type": "code",
      "execution_count": 249,
      "metadata": {
        "id": "8zK2aRevZPoV"
      },
      "outputs": [],
      "source": [
        "X_train = (X_train - X_train.mean()) / X_train.std()\n",
        "X_test = (X_test - X_test.mean()) / X_test.std()"
      ]
    },
    {
      "cell_type": "markdown",
      "metadata": {
        "id": "W5pqrx0t9He3"
      },
      "source": [
        "DCT-3 imposed 1 StNN (one custom layer)"
      ]
    },
    {
      "cell_type": "code",
      "execution_count": 250,
      "metadata": {
        "id": "oS5eTBiryfqP"
      },
      "outputs": [],
      "source": [
        "class FirstLayer(tf.keras.layers.Layer):\n",
        "    def __init__(self, units, trainable=True, **kwargs):\n",
        "        super(FirstLayer, self).__init__(**kwargs)\n",
        "        self.n = units\n",
        "        self.n1 = units // 2\n",
        "        self.trainable = trainable\n",
        "\n",
        "        init_diag = tf.ones(self.n1, dtype=tf.float32)\n",
        "        init_diag = tf.tensor_scatter_nd_update(init_diag, [[0]], [tf.sqrt(2.0)])\n",
        "\n",
        "        self.B_1 = self.add_weight(\n",
        "                shape=(self.n1,),\n",
        "                initializer=tf.keras.initializers.Constant(init_diag),\n",
        "                trainable=self.trainable,\n",
        "                name='B_1'\n",
        "            )\n",
        "        self.B_2 = self.add_weight(\n",
        "                shape=(self.n1,),\n",
        "                initializer='ones',\n",
        "                trainable=self.trainable,\n",
        "                name='B_2'\n",
        "            )\n",
        "        self.bias = self.add_weight(\n",
        "            shape=(self.n,),\n",
        "            initializer='zeros',\n",
        "            trainable=True,\n",
        "            name='bias'\n",
        "        )\n",
        "\n",
        "    def call(self, x):\n",
        "        even = x[:, ::2]\n",
        "        odd = x[:, 1::2]\n",
        "\n",
        "        d1 = tf.multiply(odd, self.B_1) # diagonal\n",
        "        d2 = tf.multiply(tf.concat([tf.zeros_like(odd[:, :1]), odd[:, :-1]], axis=1), self.B_2) # off-diagonal\n",
        "        B_n = tf.add(d1, d2)\n",
        "\n",
        "        u = tf.concat([even, B_n], axis=1)\n",
        "\n",
        "        return u + self.bias"
      ]
    },
    {
      "cell_type": "code",
      "execution_count": null,
      "metadata": {
        "id": "fcaYg5rTygAg"
      },
      "outputs": [],
      "source": [
        "class DCTIII(tf.keras.layers.Layer):\n",
        "    def __init__(self, n, trainable=True, **kwargs):\n",
        "        super(DCTIII, self).__init__(**kwargs)\n",
        "        self.n = n\n",
        "        self.n1 = n // 2 if n > 2 else 1\n",
        "        self.trainable = trainable\n",
        "\n",
        "        if n == 2:\n",
        "            # Base case: trainable 2x2 matrix\n",
        "            self.C_2 = self.add_weight(\n",
        "                shape=(2, 2),\n",
        "                initializer=tf.keras.initializers.Constant((1 / np.sqrt(2)) * np.array([[1., 1.], [1., -1.]])),\n",
        "                trainable=self.trainable,\n",
        "                name='C_2'\n",
        "            )\n",
        "        else:\n",
        "            init_diag = tf.ones(self.n1, dtype=tf.float32)\n",
        "            init_diag = tf.tensor_scatter_nd_update(init_diag, [[0]], [tf.sqrt(2.0)])\n",
        "\n",
        "            # Weights for B^T_{n/2}\n",
        "            self.B_1 = self.add_weight(\n",
        "                shape=(self.n1,),\n",
        "                initializer=tf.keras.initializers.Constant(init_diag),\n",
        "                trainable=self.trainable,\n",
        "                name='B_1'\n",
        "            )\n",
        "            self.B_2 = self.add_weight(\n",
        "                shape=(self.n1,),\n",
        "                initializer='ones',\n",
        "                trainable=self.trainable,\n",
        "                name='B_2'\n",
        "            )\n",
        "\n",
        "            k = tf.cast(tf.range(1, self.n1 + 1), tf.float32)\n",
        "            pi = tf.constant(np.pi, dtype=tf.float32)\n",
        "            init_W_c = 1 / (2 * tf.cos((2 * k - 1) * (pi / (2 * self.n))))\n",
        "\n",
        "            # Weight for W_c\n",
        "            self.w_c = self.add_weight(\n",
        "                shape=(self.n1,),\n",
        "                initializer=tf.keras.initializers.Constant(init_W_c),\n",
        "                trainable=self.trainable,\n",
        "                name='W_c'\n",
        "            )\n",
        "\n",
        "            # Recursive DCTIII for n/2\n",
        "            self.dctiii_layer1 = DCTIII(self.n1,trainable=self.trainable)\n",
        "            self.dctiii_layer2 = DCTIII(self.n1,trainable=self.trainable)\n",
        "\n",
        "    def call(self, x):\n",
        "        if self.n == 2:\n",
        "            y = tf.matmul(self.C_2, x, transpose_b=True)\n",
        "            return tf.transpose(y)\n",
        "        else:\n",
        "            # Permutation\n",
        "            even = x[:, ::2]\n",
        "            odd = x[:, 1::2]\n",
        "\n",
        "            # B^T\n",
        "            d1 = tf.multiply(odd, self.B_1)\n",
        "            d2 = tf.multiply(tf.concat([tf.zeros_like(odd[:, :1]), odd[:, :-1]], axis=1), self.B_2)\n",
        "            B_n = tf.add(d1, d2)\n",
        "            u = tf.concat([even, B_n], axis=1)\n",
        "\n",
        "            # Recursive DCTIII\n",
        "            z1 = self.dctiii_layer1(u[:, :self.n1])\n",
        "            z2 = self.dctiii_layer2(u[:, self.n1:])\n",
        "            recurs_out = tf.concat([z1, z2], axis=1)\n",
        "\n",
        "            # W_c\n",
        "            W_n = tf.multiply(recurs_out[:, self.n1:], self.w_c)\n",
        "            v = tf.concat([recurs_out[:, :self.n1], W_n], axis=1)\n",
        "\n",
        "            # H_n\n",
        "            out1 = v[:, :self.n1]\n",
        "            out2 = v[:, self.n1:]\n",
        "            y = (1 / tf.sqrt(tf.constant(2.0, dtype=tf.float32))) * tf.concat(\n",
        "                [(out1 + out2), tf.reverse((out1 - out2), axis=[1])],\n",
        "                axis=1\n",
        "            )\n",
        "\n",
        "            return y"
      ]
    },
    {
      "cell_type": "code",
      "execution_count": null,
      "metadata": {
        "id": "MeXg1Z4SygVQ"
      },
      "outputs": [],
      "source": [
        "class SecondLayer(tf.keras.layers.Layer):\n",
        "    def __init__(self, units, trainable=True, **kwargs):\n",
        "        super(SecondLayer, self).__init__(**kwargs)\n",
        "        self.n = units\n",
        "        self.n1 = units // 2\n",
        "        self.trainable = trainable\n",
        "\n",
        "        self.bias = self.add_weight(\n",
        "            shape=(self.n,),\n",
        "            initializer='zeros',\n",
        "            trainable=True,\n",
        "            name='bias'\n",
        "        )\n",
        "\n",
        "        # Recursive DCTIII for n/2\n",
        "        self.dctiii1 = DCTIII(self.n1, trainable=self.trainable)\n",
        "        self.dctiii2 = DCTIII(self.n1,trainable=self.trainable)\n",
        "\n",
        "    def call(self, x):\n",
        "        z1 = self.dctiii1(x[:, :self.n1])\n",
        "        z2 = self.dctiii2(x[:, self.n1:])\n",
        "        out = tf.concat([z1, z2], axis=1)\n",
        "        return out + self.bias"
      ]
    },
    {
      "cell_type": "code",
      "execution_count": null,
      "metadata": {
        "id": "glm5oQbeyg3Y"
      },
      "outputs": [],
      "source": [
        "class ThirdLayer(tf.keras.layers.Layer):\n",
        "    def __init__(self, units, trainable=True, **kwargs):\n",
        "        super(ThirdLayer, self).__init__(**kwargs)\n",
        "        self.n = units\n",
        "        self.n1 = units // 2\n",
        "        self.trainable = trainable\n",
        "\n",
        "        k = tf.cast(tf.range(1, self.n1 + 1), tf.float32)\n",
        "        pi = tf.constant(np.pi, dtype=tf.float32)\n",
        "        init_W_c = 1 / (2 * tf.cos((2 * k - 1) * (pi / (2 * self.n))))\n",
        "\n",
        "        self.w_c = self.add_weight(\n",
        "                shape=(self.n1,),\n",
        "                initializer=tf.keras.initializers.Constant(init_W_c),\n",
        "                trainable=self.trainable,\n",
        "                name='W_c'\n",
        "            )\n",
        "\n",
        "        self.bias = self.add_weight(\n",
        "            shape=(self.n,),\n",
        "            initializer='zeros',\n",
        "            trainable=True,\n",
        "            name='bias'\n",
        "        )\n",
        "\n",
        "    def call(self, x):\n",
        "        input1 = x[:, :self.n1]\n",
        "        input2 = x[:, self.n1:]\n",
        "\n",
        "        # W_{N/2}\n",
        "        W_n = tf.multiply(input2, self.w_c)\n",
        "        v = tf.concat([input1, W_n], axis=1)\n",
        "\n",
        "        # H_n^T\n",
        "        out1 = v[:, :self.n1]\n",
        "        out2 = v[:, self.n1:]\n",
        "\n",
        "        y = (1 / tf.sqrt(tf.constant(2.0, dtype=tf.float32))) * tf.concat([(out1 + out2), tf.reverse((out1 - out2), axis=[1])], axis=1)\n",
        "\n",
        "        return y + self.bias"
      ]
    },
    {
      "cell_type": "code",
      "execution_count": 254,
      "metadata": {
        "id": "pf57bB4nAyhO"
      },
      "outputs": [],
      "source": [
        "class DiagonalLayer(tf.keras.layers.Layer):\n",
        "    def __init__(self, units, trainable=True, kernel_initializer='he_normal', bias_initializer='zeros', **kwargs):\n",
        "        super(DiagonalLayer, self).__init__(**kwargs)\n",
        "        self.units = units\n",
        "        self.kernel_initializer = kernel_initializer\n",
        "        self.bias_initializer = bias_initializer\n",
        "        self.trainable = trainable\n",
        "\n",
        "    def build(self, input_shape):\n",
        "        self.diag = self.add_weight(\n",
        "            shape=(self.units,),\n",
        "            initializer=tf.keras.initializers.get(self.kernel_initializer),\n",
        "            trainable=self.trainable,\n",
        "            name='diag'\n",
        "        )\n",
        "        self.bias = self.add_weight(\n",
        "            shape=(self.units,),\n",
        "            initializer=tf.keras.initializers.get(self.bias_initializer),\n",
        "            trainable=self.trainable,\n",
        "            name='bias'\n",
        "        )\n",
        "\n",
        "    def call(self, inputs):\n",
        "        scaled = tf.multiply(inputs, self.diag)\n",
        "        return scaled + self.bias"
      ]
    },
    {
      "cell_type": "code",
      "execution_count": null,
      "metadata": {
        "id": "2AmJRF7yZkyY"
      },
      "outputs": [],
      "source": [
        "class ScalingLayer(tf.keras.layers.Layer):\n",
        "    def __init__(self, units, initial_scale=1.0, trainable=True, kernel_initializer='he_normal', bias_initializer='zeros', **kwargs):\n",
        "        super(ScalingLayer, self).__init__(**kwargs)\n",
        "        self.units = units\n",
        "        self.initial_scale = initial_scale\n",
        "        self.kernel_initializer = kernel_initializer\n",
        "        self.bias_initializer = bias_initializer\n",
        "\n",
        "    def build(self, input_shape):\n",
        "\n",
        "      self.log_scale = self.add_weight(\n",
        "          shape=(),\n",
        "          initializer=tf.keras.initializers.Constant(self.initial_scale),\n",
        "          trainable=True,\n",
        "          name=\"log_scale\",\n",
        "      )\n",
        "      self.diag = self.add_weight(\n",
        "          shape=(self.units,),\n",
        "          initializer=tf.keras.initializers.get(self.kernel_initializer),\n",
        "          regularizer=tf.keras.regularizers.l2(1e-4),\n",
        "          trainable=True,\n",
        "          name='diag'\n",
        "      )\n",
        "      self.bias = self.add_weight(\n",
        "          shape=(self.units,),\n",
        "          initializer=tf.keras.initializers.get(self.bias_initializer),\n",
        "          trainable=True,\n",
        "          name='bias'\n",
        "        )\n",
        "\n",
        "      super().build(input_shape)\n",
        "\n",
        "    def call(self, inputs):\n",
        "      perm = tf.concat([inputs[:, ::2], inputs[:, 1::2][:, ::-1]], axis=-1)\n",
        "\n",
        "      dim = tf.shape(perm)[1]\n",
        "\n",
        "      D_hat_n = tf.exp(self.log_scale * tf.cast(tf.range(dim), tf.float32))\n",
        "\n",
        "      scaled = perm * D_hat_n * self.diag\n",
        "\n",
        "      return scaled + self.bias"
      ]
    },
    {
      "cell_type": "markdown",
      "metadata": {
        "id": "RT8qO-gPZmDh"
      },
      "source": [
        "Model"
      ]
    },
    {
      "cell_type": "code",
      "execution_count": null,
      "metadata": {
        "id": "hJeHHbsUZXRH"
      },
      "outputs": [],
      "source": [
        "def custom_accuracy(y_true, y_pred):\n",
        "    y_true_int = tf.cast(y_true*(q-1), tf.int32)\n",
        "    y_pred_int = tf.cast(tf.round(y_pred*(q-1)), tf.int32)\n",
        "    correct = tf.cast(tf.equal(y_true_int, y_pred_int), tf.float32)\n",
        "    return tf.reduce_mean(correct)\n",
        "\n",
        "def custom_accuracy_without_padding(y_true, y_pred):\n",
        "    y_true_int = tf.cast(y_true * (q - 1), tf.int32)\n",
        "    y_pred_int = tf.cast(tf.round(y_pred * (q - 1)), tf.int32)\n",
        "    mask = tf.concat(\n",
        "        [tf.ones((tf.shape(y_true)[0], n), dtype=tf.float32),\n",
        "         tf.zeros((tf.shape(y_true)[0], n_padded - n), dtype=tf.float32)],\n",
        "        axis=1\n",
        "    )\n",
        "    correct = tf.cast(tf.equal(y_true_int, y_pred_int), tf.float32) * mask\n",
        "    return tf.reduce_sum(correct) / tf.reduce_sum(mask)\n",
        "\n",
        "def custom_mse(y_true, y_pred):\n",
        "    y_true = tf.cast(y_true, tf.float32)\n",
        "    y_pred = tf.cast(y_pred, tf.float32)\n",
        "    loss = tf.reduce_mean(tf.square(tf.cast(y_true - y_pred, tf.float32)))\n",
        "    return loss"
      ]
    },
    {
      "cell_type": "code",
      "execution_count": null,
      "metadata": {
        "colab": {
          "base_uri": "https://localhost:8080/",
          "height": 385
        },
        "id": "CSdpIWpo_gzq",
        "outputId": "caac92b0-7124-4c36-e9ea-cffc9b7cdb10"
      },
      "outputs": [
        {
          "data": {
            "text/html": [
              "<pre style=\"white-space:pre;overflow-x:auto;line-height:normal;font-family:Menlo,'DejaVu Sans Mono',consolas,'Courier New',monospace\"><span style=\"font-weight: bold\">Model: \"sequential_1\"</span>\n",
              "</pre>\n"
            ],
            "text/plain": [
              "\u001b[1mModel: \"sequential_1\"\u001b[0m\n"
            ]
          },
          "metadata": {},
          "output_type": "display_data"
        },
        {
          "data": {
            "text/html": [
              "<pre style=\"white-space:pre;overflow-x:auto;line-height:normal;font-family:Menlo,'DejaVu Sans Mono',consolas,'Courier New',monospace\">┏━━━━━━━━━━━━━━━━━━━━━━━━━━━━━━━━━━━━━━┳━━━━━━━━━━━━━━━━━━━━━━━━━━━━━┳━━━━━━━━━━━━━━━━━┓\n",
              "┃<span style=\"font-weight: bold\"> Layer (type)                         </span>┃<span style=\"font-weight: bold\"> Output Shape                </span>┃<span style=\"font-weight: bold\">         Param # </span>┃\n",
              "┡━━━━━━━━━━━━━━━━━━━━━━━━━━━━━━━━━━━━━━╇━━━━━━━━━━━━━━━━━━━━━━━━━━━━━╇━━━━━━━━━━━━━━━━━┩\n",
              "│ first_layer (<span style=\"color: #0087ff; text-decoration-color: #0087ff\">FirstLayer</span>)             │ (<span style=\"color: #00d7ff; text-decoration-color: #00d7ff\">None</span>, <span style=\"color: #00af00; text-decoration-color: #00af00\">32</span>)                  │              <span style=\"color: #00af00; text-decoration-color: #00af00\">64</span> │\n",
              "├──────────────────────────────────────┼─────────────────────────────┼─────────────────┤\n",
              "│ second_layer (<span style=\"color: #0087ff; text-decoration-color: #0087ff\">SecondLayer</span>)           │ (<span style=\"color: #00d7ff; text-decoration-color: #00d7ff\">None</span>, <span style=\"color: #00af00; text-decoration-color: #00af00\">32</span>)                  │             <span style=\"color: #00af00; text-decoration-color: #00af00\">240</span> │\n",
              "├──────────────────────────────────────┼─────────────────────────────┼─────────────────┤\n",
              "│ third_layer (<span style=\"color: #0087ff; text-decoration-color: #0087ff\">ThirdLayer</span>)             │ (<span style=\"color: #00d7ff; text-decoration-color: #00d7ff\">None</span>, <span style=\"color: #00af00; text-decoration-color: #00af00\">32</span>)                  │              <span style=\"color: #00af00; text-decoration-color: #00af00\">48</span> │\n",
              "├──────────────────────────────────────┼─────────────────────────────┼─────────────────┤\n",
              "│ leaky_re_lu_2 (<span style=\"color: #0087ff; text-decoration-color: #0087ff\">LeakyReLU</span>)            │ (<span style=\"color: #00d7ff; text-decoration-color: #00d7ff\">None</span>, <span style=\"color: #00af00; text-decoration-color: #00af00\">32</span>)                  │               <span style=\"color: #00af00; text-decoration-color: #00af00\">0</span> │\n",
              "├──────────────────────────────────────┼─────────────────────────────┼─────────────────┤\n",
              "│ scaling_layer (<span style=\"color: #0087ff; text-decoration-color: #0087ff\">ScalingLayer</span>)         │ (<span style=\"color: #00d7ff; text-decoration-color: #00d7ff\">None</span>, <span style=\"color: #00af00; text-decoration-color: #00af00\">32</span>)                  │              <span style=\"color: #00af00; text-decoration-color: #00af00\">65</span> │\n",
              "├──────────────────────────────────────┼─────────────────────────────┼─────────────────┤\n",
              "│ leaky_re_lu_3 (<span style=\"color: #0087ff; text-decoration-color: #0087ff\">LeakyReLU</span>)            │ (<span style=\"color: #00d7ff; text-decoration-color: #00d7ff\">None</span>, <span style=\"color: #00af00; text-decoration-color: #00af00\">32</span>)                  │               <span style=\"color: #00af00; text-decoration-color: #00af00\">0</span> │\n",
              "├──────────────────────────────────────┼─────────────────────────────┼─────────────────┤\n",
              "│ output_layer (<span style=\"color: #0087ff; text-decoration-color: #0087ff\">DiagonalLayer</span>)         │ (<span style=\"color: #00d7ff; text-decoration-color: #00d7ff\">None</span>, <span style=\"color: #00af00; text-decoration-color: #00af00\">32</span>)                  │              <span style=\"color: #00af00; text-decoration-color: #00af00\">64</span> │\n",
              "├──────────────────────────────────────┼─────────────────────────────┼─────────────────┤\n",
              "│ activation_1 (<span style=\"color: #0087ff; text-decoration-color: #0087ff\">Activation</span>)            │ (<span style=\"color: #00d7ff; text-decoration-color: #00d7ff\">None</span>, <span style=\"color: #00af00; text-decoration-color: #00af00\">32</span>)                  │               <span style=\"color: #00af00; text-decoration-color: #00af00\">0</span> │\n",
              "└──────────────────────────────────────┴─────────────────────────────┴─────────────────┘\n",
              "</pre>\n"
            ],
            "text/plain": [
              "┏━━━━━━━━━━━━━━━━━━━━━━━━━━━━━━━━━━━━━━┳━━━━━━━━━━━━━━━━━━━━━━━━━━━━━┳━━━━━━━━━━━━━━━━━┓\n",
              "┃\u001b[1m \u001b[0m\u001b[1mLayer (type)                        \u001b[0m\u001b[1m \u001b[0m┃\u001b[1m \u001b[0m\u001b[1mOutput Shape               \u001b[0m\u001b[1m \u001b[0m┃\u001b[1m \u001b[0m\u001b[1m        Param #\u001b[0m\u001b[1m \u001b[0m┃\n",
              "┡━━━━━━━━━━━━━━━━━━━━━━━━━━━━━━━━━━━━━━╇━━━━━━━━━━━━━━━━━━━━━━━━━━━━━╇━━━━━━━━━━━━━━━━━┩\n",
              "│ first_layer (\u001b[38;5;33mFirstLayer\u001b[0m)             │ (\u001b[38;5;45mNone\u001b[0m, \u001b[38;5;34m32\u001b[0m)                  │              \u001b[38;5;34m64\u001b[0m │\n",
              "├──────────────────────────────────────┼─────────────────────────────┼─────────────────┤\n",
              "│ second_layer (\u001b[38;5;33mSecondLayer\u001b[0m)           │ (\u001b[38;5;45mNone\u001b[0m, \u001b[38;5;34m32\u001b[0m)                  │             \u001b[38;5;34m240\u001b[0m │\n",
              "├──────────────────────────────────────┼─────────────────────────────┼─────────────────┤\n",
              "│ third_layer (\u001b[38;5;33mThirdLayer\u001b[0m)             │ (\u001b[38;5;45mNone\u001b[0m, \u001b[38;5;34m32\u001b[0m)                  │              \u001b[38;5;34m48\u001b[0m │\n",
              "├──────────────────────────────────────┼─────────────────────────────┼─────────────────┤\n",
              "│ leaky_re_lu_2 (\u001b[38;5;33mLeakyReLU\u001b[0m)            │ (\u001b[38;5;45mNone\u001b[0m, \u001b[38;5;34m32\u001b[0m)                  │               \u001b[38;5;34m0\u001b[0m │\n",
              "├──────────────────────────────────────┼─────────────────────────────┼─────────────────┤\n",
              "│ scaling_layer (\u001b[38;5;33mScalingLayer\u001b[0m)         │ (\u001b[38;5;45mNone\u001b[0m, \u001b[38;5;34m32\u001b[0m)                  │              \u001b[38;5;34m65\u001b[0m │\n",
              "├──────────────────────────────────────┼─────────────────────────────┼─────────────────┤\n",
              "│ leaky_re_lu_3 (\u001b[38;5;33mLeakyReLU\u001b[0m)            │ (\u001b[38;5;45mNone\u001b[0m, \u001b[38;5;34m32\u001b[0m)                  │               \u001b[38;5;34m0\u001b[0m │\n",
              "├──────────────────────────────────────┼─────────────────────────────┼─────────────────┤\n",
              "│ output_layer (\u001b[38;5;33mDiagonalLayer\u001b[0m)         │ (\u001b[38;5;45mNone\u001b[0m, \u001b[38;5;34m32\u001b[0m)                  │              \u001b[38;5;34m64\u001b[0m │\n",
              "├──────────────────────────────────────┼─────────────────────────────┼─────────────────┤\n",
              "│ activation_1 (\u001b[38;5;33mActivation\u001b[0m)            │ (\u001b[38;5;45mNone\u001b[0m, \u001b[38;5;34m32\u001b[0m)                  │               \u001b[38;5;34m0\u001b[0m │\n",
              "└──────────────────────────────────────┴─────────────────────────────┴─────────────────┘\n"
            ]
          },
          "metadata": {},
          "output_type": "display_data"
        },
        {
          "data": {
            "text/html": [
              "<pre style=\"white-space:pre;overflow-x:auto;line-height:normal;font-family:Menlo,'DejaVu Sans Mono',consolas,'Courier New',monospace\"><span style=\"font-weight: bold\"> Total params: </span><span style=\"color: #00af00; text-decoration-color: #00af00\">481</span> (1.88 KB)\n",
              "</pre>\n"
            ],
            "text/plain": [
              "\u001b[1m Total params: \u001b[0m\u001b[38;5;34m481\u001b[0m (1.88 KB)\n"
            ]
          },
          "metadata": {},
          "output_type": "display_data"
        },
        {
          "data": {
            "text/html": [
              "<pre style=\"white-space:pre;overflow-x:auto;line-height:normal;font-family:Menlo,'DejaVu Sans Mono',consolas,'Courier New',monospace\"><span style=\"font-weight: bold\"> Trainable params: </span><span style=\"color: #00af00; text-decoration-color: #00af00\">417</span> (1.63 KB)\n",
              "</pre>\n"
            ],
            "text/plain": [
              "\u001b[1m Trainable params: \u001b[0m\u001b[38;5;34m417\u001b[0m (1.63 KB)\n"
            ]
          },
          "metadata": {},
          "output_type": "display_data"
        },
        {
          "data": {
            "text/html": [
              "<pre style=\"white-space:pre;overflow-x:auto;line-height:normal;font-family:Menlo,'DejaVu Sans Mono',consolas,'Courier New',monospace\"><span style=\"font-weight: bold\"> Non-trainable params: </span><span style=\"color: #00af00; text-decoration-color: #00af00\">64</span> (256.00 B)\n",
              "</pre>\n"
            ],
            "text/plain": [
              "\u001b[1m Non-trainable params: \u001b[0m\u001b[38;5;34m64\u001b[0m (256.00 B)\n"
            ]
          },
          "metadata": {},
          "output_type": "display_data"
        }
      ],
      "source": [
        "from tensorflow.keras.layers import InputLayer, LeakyReLU, Activation\n",
        "from tensorflow.keras.models import Sequential\n",
        "from tensorflow.keras.optimizers import Adam\n",
        "\n",
        "initial_log_scale = np.log(z0 / w0)\n",
        "initial_scale = (z0 / w0)\n",
        "\n",
        "input_shape = (n_padded,)\n",
        "model = Sequential([\n",
        "    InputLayer(shape=input_shape),\n",
        "    FirstLayer(units=n_padded, trainable=True, name=\"first_layer\"),\n",
        "    # LeakyReLU(negative_slope=0.1),\n",
        "    SecondLayer(units=n_padded, trainable=True, name=\"second_layer\"),\n",
        "    # LeakyReLU(negative_slope=0.1),\n",
        "    ThirdLayer(units=n_padded, trainable=True, name=\"third_layer\"),\n",
        "    LeakyReLU(negative_slope=0.1),\n",
        "    ScalingLayer(units=n_padded, initial_scale=initial_log_scale, kernel_initializer='ones', bias_initializer='zeros', name=\"scaling_layer\"),\n",
        "    LeakyReLU(negative_slope=0.1),\n",
        "    DiagonalLayer(units=n_padded, trainable=False, kernel_initializer='ones', bias_initializer='zeros', name=\"output_layer\"),\n",
        "    Activation('linear')\n",
        "])\n",
        "\n",
        "# notes:\n",
        "# 1. adding the diagonal layers in the middle worsens results\n",
        "# 2. residual connections does not work\n",
        "# 3. removing bias in hidden layers worsens performance\n",
        "# 4. removing \"LeakyReLU\" activation in between layers improved performance\n",
        "\n",
        "\n",
        "model.compile(\n",
        "    optimizer=Adam(learning_rate=0.001),\n",
        "    loss=custom_mse,\n",
        "    metrics=[custom_mse, custom_accuracy_without_padding]\n",
        ")\n",
        "\n",
        "model.summary()"
      ]
    },
    {
      "cell_type": "markdown",
      "metadata": {
        "id": "tyCrYB69D1dF"
      },
      "source": [
        "Training"
      ]
    },
    {
      "cell_type": "code",
      "execution_count": 258,
      "metadata": {
        "colab": {
          "base_uri": "https://localhost:8080/"
        },
        "id": "U_4ibK4NcIlO",
        "outputId": "d572a74d-3dfd-4e74-9edb-081805e908ff"
      },
      "outputs": [
        {
          "name": "stdout",
          "output_type": "stream",
          "text": [
            "Epoch 1/500\n",
            "\u001b[1m25/25\u001b[0m \u001b[32m━━━━━━━━━━━━━━━━━━━━\u001b[0m\u001b[37m\u001b[0m \u001b[1m26s\u001b[0m 168ms/step - custom_accuracy_without_padding: 0.1415 - custom_mse: 0.2881 - loss: 0.2913 - val_custom_accuracy_without_padding: 0.1480 - val_custom_mse: 0.2402 - val_loss: 0.2443 - learning_rate: 0.0010\n",
            "Epoch 2/500\n",
            "\u001b[1m25/25\u001b[0m \u001b[32m━━━━━━━━━━━━━━━━━━━━\u001b[0m\u001b[37m\u001b[0m \u001b[1m0s\u001b[0m 9ms/step - custom_accuracy_without_padding: 0.1401 - custom_mse: 0.2396 - loss: 0.2427 - val_custom_accuracy_without_padding: 0.1496 - val_custom_mse: 0.2068 - val_loss: 0.2110 - learning_rate: 0.0010\n",
            "Epoch 3/500\n",
            "\u001b[1m25/25\u001b[0m \u001b[32m━━━━━━━━━━━━━━━━━━━━\u001b[0m\u001b[37m\u001b[0m \u001b[1m0s\u001b[0m 10ms/step - custom_accuracy_without_padding: 0.1393 - custom_mse: 0.2071 - loss: 0.2103 - val_custom_accuracy_without_padding: 0.1533 - val_custom_mse: 0.1821 - val_loss: 0.1864 - learning_rate: 0.0010\n",
            "Epoch 4/500\n",
            "\u001b[1m25/25\u001b[0m \u001b[32m━━━━━━━━━━━━━━━━━━━━\u001b[0m\u001b[37m\u001b[0m \u001b[1m0s\u001b[0m 8ms/step - custom_accuracy_without_padding: 0.1504 - custom_mse: 0.1854 - loss: 0.1886 - val_custom_accuracy_without_padding: 0.1493 - val_custom_mse: 0.1605 - val_loss: 0.1645 - learning_rate: 0.0010\n",
            "Epoch 5/500\n",
            "\u001b[1m25/25\u001b[0m \u001b[32m━━━━━━━━━━━━━━━━━━━━\u001b[0m\u001b[37m\u001b[0m \u001b[1m0s\u001b[0m 10ms/step - custom_accuracy_without_padding: 0.1422 - custom_mse: 0.1606 - loss: 0.1640 - val_custom_accuracy_without_padding: 0.1505 - val_custom_mse: 0.1323 - val_loss: 0.1361 - learning_rate: 0.0010\n",
            "Epoch 6/500\n",
            "\u001b[1m25/25\u001b[0m \u001b[32m━━━━━━━━━━━━━━━━━━━━\u001b[0m\u001b[37m\u001b[0m \u001b[1m0s\u001b[0m 9ms/step - custom_accuracy_without_padding: 0.1502 - custom_mse: 0.1244 - loss: 0.1279 - val_custom_accuracy_without_padding: 0.1982 - val_custom_mse: 0.0856 - val_loss: 0.0890 - learning_rate: 0.0010\n",
            "Epoch 7/500\n",
            "\u001b[1m25/25\u001b[0m \u001b[32m━━━━━━━━━━━━━━━━━━━━\u001b[0m\u001b[37m\u001b[0m \u001b[1m0s\u001b[0m 9ms/step - custom_accuracy_without_padding: 0.1942 - custom_mse: 0.0796 - loss: 0.0832 - val_custom_accuracy_without_padding: 0.1923 - val_custom_mse: 0.0692 - val_loss: 0.0728 - learning_rate: 0.0010\n",
            "Epoch 8/500\n",
            "\u001b[1m25/25\u001b[0m \u001b[32m━━━━━━━━━━━━━━━━━━━━\u001b[0m\u001b[37m\u001b[0m \u001b[1m0s\u001b[0m 9ms/step - custom_accuracy_without_padding: 0.2021 - custom_mse: 0.0692 - loss: 0.0728 - val_custom_accuracy_without_padding: 0.1925 - val_custom_mse: 0.0659 - val_loss: 0.0695 - learning_rate: 0.0010\n",
            "Epoch 9/500\n",
            "\u001b[1m25/25\u001b[0m \u001b[32m━━━━━━━━━━━━━━━━━━━━\u001b[0m\u001b[37m\u001b[0m \u001b[1m0s\u001b[0m 9ms/step - custom_accuracy_without_padding: 0.2119 - custom_mse: 0.0654 - loss: 0.0690 - val_custom_accuracy_without_padding: 0.2131 - val_custom_mse: 0.0645 - val_loss: 0.0681 - learning_rate: 0.0010\n",
            "Epoch 10/500\n",
            "\u001b[1m25/25\u001b[0m \u001b[32m━━━━━━━━━━━━━━━━━━━━\u001b[0m\u001b[37m\u001b[0m \u001b[1m0s\u001b[0m 9ms/step - custom_accuracy_without_padding: 0.2377 - custom_mse: 0.0638 - loss: 0.0675 - val_custom_accuracy_without_padding: 0.2338 - val_custom_mse: 0.0633 - val_loss: 0.0669 - learning_rate: 0.0010\n",
            "Epoch 11/500\n",
            "\u001b[1m25/25\u001b[0m \u001b[32m━━━━━━━━━━━━━━━━━━━━\u001b[0m\u001b[37m\u001b[0m \u001b[1m0s\u001b[0m 10ms/step - custom_accuracy_without_padding: 0.2498 - custom_mse: 0.0630 - loss: 0.0667 - val_custom_accuracy_without_padding: 0.2479 - val_custom_mse: 0.0624 - val_loss: 0.0660 - learning_rate: 0.0010\n",
            "Epoch 12/500\n",
            "\u001b[1m25/25\u001b[0m \u001b[32m━━━━━━━━━━━━━━━━━━━━\u001b[0m\u001b[37m\u001b[0m \u001b[1m0s\u001b[0m 9ms/step - custom_accuracy_without_padding: 0.2604 - custom_mse: 0.0622 - loss: 0.0659 - val_custom_accuracy_without_padding: 0.2604 - val_custom_mse: 0.0615 - val_loss: 0.0651 - learning_rate: 0.0010\n",
            "Epoch 13/500\n",
            "\u001b[1m25/25\u001b[0m \u001b[32m━━━━━━━━━━━━━━━━━━━━\u001b[0m\u001b[37m\u001b[0m \u001b[1m0s\u001b[0m 14ms/step - custom_accuracy_without_padding: 0.2707 - custom_mse: 0.0613 - loss: 0.0649 - val_custom_accuracy_without_padding: 0.2727 - val_custom_mse: 0.0610 - val_loss: 0.0645 - learning_rate: 0.0010\n",
            "Epoch 14/500\n",
            "\u001b[1m25/25\u001b[0m \u001b[32m━━━━━━━━━━━━━━━━━━━━\u001b[0m\u001b[37m\u001b[0m \u001b[1m0s\u001b[0m 13ms/step - custom_accuracy_without_padding: 0.2824 - custom_mse: 0.0607 - loss: 0.0644 - val_custom_accuracy_without_padding: 0.2822 - val_custom_mse: 0.0600 - val_loss: 0.0635 - learning_rate: 0.0010\n",
            "Epoch 15/500\n",
            "\u001b[1m25/25\u001b[0m \u001b[32m━━━━━━━━━━━━━━━━━━━━\u001b[0m\u001b[37m\u001b[0m \u001b[1m1s\u001b[0m 13ms/step - custom_accuracy_without_padding: 0.2896 - custom_mse: 0.0601 - loss: 0.0637 - val_custom_accuracy_without_padding: 0.2910 - val_custom_mse: 0.0593 - val_loss: 0.0628 - learning_rate: 0.0010\n",
            "Epoch 16/500\n",
            "\u001b[1m25/25\u001b[0m \u001b[32m━━━━━━━━━━━━━━━━━━━━\u001b[0m\u001b[37m\u001b[0m \u001b[1m1s\u001b[0m 12ms/step - custom_accuracy_without_padding: 0.2942 - custom_mse: 0.0587 - loss: 0.0624 - val_custom_accuracy_without_padding: 0.2922 - val_custom_mse: 0.0586 - val_loss: 0.0621 - learning_rate: 0.0010\n",
            "Epoch 17/500\n",
            "\u001b[1m25/25\u001b[0m \u001b[32m━━━━━━━━━━━━━━━━━━━━\u001b[0m\u001b[37m\u001b[0m \u001b[1m1s\u001b[0m 10ms/step - custom_accuracy_without_padding: 0.2995 - custom_mse: 0.0579 - loss: 0.0615 - val_custom_accuracy_without_padding: 0.3039 - val_custom_mse: 0.0581 - val_loss: 0.0616 - learning_rate: 0.0010\n",
            "Epoch 18/500\n",
            "\u001b[1m25/25\u001b[0m \u001b[32m━━━━━━━━━━━━━━━━━━━━\u001b[0m\u001b[37m\u001b[0m \u001b[1m0s\u001b[0m 8ms/step - custom_accuracy_without_padding: 0.3063 - custom_mse: 0.0573 - loss: 0.0609 - val_custom_accuracy_without_padding: 0.3079 - val_custom_mse: 0.0575 - val_loss: 0.0609 - learning_rate: 0.0010\n",
            "Epoch 19/500\n",
            "\u001b[1m25/25\u001b[0m \u001b[32m━━━━━━━━━━━━━━━━━━━━\u001b[0m\u001b[37m\u001b[0m \u001b[1m0s\u001b[0m 10ms/step - custom_accuracy_without_padding: 0.3091 - custom_mse: 0.0569 - loss: 0.0606 - val_custom_accuracy_without_padding: 0.3130 - val_custom_mse: 0.0569 - val_loss: 0.0603 - learning_rate: 0.0010\n",
            "Epoch 20/500\n",
            "\u001b[1m25/25\u001b[0m \u001b[32m━━━━━━━━━━━━━━━━━━━━\u001b[0m\u001b[37m\u001b[0m \u001b[1m0s\u001b[0m 10ms/step - custom_accuracy_without_padding: 0.3157 - custom_mse: 0.0567 - loss: 0.0604 - val_custom_accuracy_without_padding: 0.3175 - val_custom_mse: 0.0563 - val_loss: 0.0598 - learning_rate: 0.0010\n",
            "Epoch 21/500\n",
            "\u001b[1m25/25\u001b[0m \u001b[32m━━━━━━━━━━━━━━━━━━━━\u001b[0m\u001b[37m\u001b[0m \u001b[1m0s\u001b[0m 9ms/step - custom_accuracy_without_padding: 0.3195 - custom_mse: 0.0563 - loss: 0.0599 - val_custom_accuracy_without_padding: 0.3181 - val_custom_mse: 0.0558 - val_loss: 0.0592 - learning_rate: 0.0010\n",
            "Epoch 22/500\n",
            "\u001b[1m25/25\u001b[0m \u001b[32m━━━━━━━━━━━━━━━━━━━━\u001b[0m\u001b[37m\u001b[0m \u001b[1m0s\u001b[0m 10ms/step - custom_accuracy_without_padding: 0.3207 - custom_mse: 0.0558 - loss: 0.0594 - val_custom_accuracy_without_padding: 0.3269 - val_custom_mse: 0.0553 - val_loss: 0.0588 - learning_rate: 0.0010\n",
            "Epoch 23/500\n",
            "\u001b[1m25/25\u001b[0m \u001b[32m━━━━━━━━━━━━━━━━━━━━\u001b[0m\u001b[37m\u001b[0m \u001b[1m0s\u001b[0m 9ms/step - custom_accuracy_without_padding: 0.3281 - custom_mse: 0.0544 - loss: 0.0580 - val_custom_accuracy_without_padding: 0.3289 - val_custom_mse: 0.0547 - val_loss: 0.0581 - learning_rate: 0.0010\n",
            "Epoch 24/500\n",
            "\u001b[1m25/25\u001b[0m \u001b[32m━━━━━━━━━━━━━━━━━━━━\u001b[0m\u001b[37m\u001b[0m \u001b[1m0s\u001b[0m 10ms/step - custom_accuracy_without_padding: 0.3355 - custom_mse: 0.0534 - loss: 0.0570 - val_custom_accuracy_without_padding: 0.3342 - val_custom_mse: 0.0543 - val_loss: 0.0576 - learning_rate: 0.0010\n",
            "Epoch 25/500\n",
            "\u001b[1m25/25\u001b[0m \u001b[32m━━━━━━━━━━━━━━━━━━━━\u001b[0m\u001b[37m\u001b[0m \u001b[1m0s\u001b[0m 9ms/step - custom_accuracy_without_padding: 0.3415 - custom_mse: 0.0539 - loss: 0.0575 - val_custom_accuracy_without_padding: 0.3418 - val_custom_mse: 0.0539 - val_loss: 0.0573 - learning_rate: 0.0010\n",
            "Epoch 26/500\n",
            "\u001b[1m25/25\u001b[0m \u001b[32m━━━━━━━━━━━━━━━━━━━━\u001b[0m\u001b[37m\u001b[0m \u001b[1m0s\u001b[0m 8ms/step - custom_accuracy_without_padding: 0.3493 - custom_mse: 0.0532 - loss: 0.0568 - val_custom_accuracy_without_padding: 0.3433 - val_custom_mse: 0.0533 - val_loss: 0.0567 - learning_rate: 0.0010\n",
            "Epoch 27/500\n",
            "\u001b[1m25/25\u001b[0m \u001b[32m━━━━━━━━━━━━━━━━━━━━\u001b[0m\u001b[37m\u001b[0m \u001b[1m0s\u001b[0m 9ms/step - custom_accuracy_without_padding: 0.3520 - custom_mse: 0.0524 - loss: 0.0560 - val_custom_accuracy_without_padding: 0.3519 - val_custom_mse: 0.0527 - val_loss: 0.0561 - learning_rate: 0.0010\n",
            "Epoch 28/500\n",
            "\u001b[1m25/25\u001b[0m \u001b[32m━━━━━━━━━━━━━━━━━━━━\u001b[0m\u001b[37m\u001b[0m \u001b[1m0s\u001b[0m 8ms/step - custom_accuracy_without_padding: 0.3583 - custom_mse: 0.0517 - loss: 0.0553 - val_custom_accuracy_without_padding: 0.3520 - val_custom_mse: 0.0525 - val_loss: 0.0559 - learning_rate: 0.0010\n",
            "Epoch 29/500\n",
            "\u001b[1m25/25\u001b[0m \u001b[32m━━━━━━━━━━━━━━━━━━━━\u001b[0m\u001b[37m\u001b[0m \u001b[1m0s\u001b[0m 9ms/step - custom_accuracy_without_padding: 0.3677 - custom_mse: 0.0512 - loss: 0.0547 - val_custom_accuracy_without_padding: 0.3662 - val_custom_mse: 0.0519 - val_loss: 0.0553 - learning_rate: 0.0010\n",
            "Epoch 30/500\n",
            "\u001b[1m25/25\u001b[0m \u001b[32m━━━━━━━━━━━━━━━━━━━━\u001b[0m\u001b[37m\u001b[0m \u001b[1m0s\u001b[0m 9ms/step - custom_accuracy_without_padding: 0.3808 - custom_mse: 0.0508 - loss: 0.0543 - val_custom_accuracy_without_padding: 0.3767 - val_custom_mse: 0.0513 - val_loss: 0.0546 - learning_rate: 0.0010\n",
            "Epoch 31/500\n",
            "\u001b[1m25/25\u001b[0m \u001b[32m━━━━━━━━━━━━━━━━━━━━\u001b[0m\u001b[37m\u001b[0m \u001b[1m0s\u001b[0m 9ms/step - custom_accuracy_without_padding: 0.3899 - custom_mse: 0.0504 - loss: 0.0540 - val_custom_accuracy_without_padding: 0.3857 - val_custom_mse: 0.0510 - val_loss: 0.0543 - learning_rate: 0.0010\n",
            "Epoch 32/500\n",
            "\u001b[1m25/25\u001b[0m \u001b[32m━━━━━━━━━━━━━━━━━━━━\u001b[0m\u001b[37m\u001b[0m \u001b[1m0s\u001b[0m 9ms/step - custom_accuracy_without_padding: 0.3906 - custom_mse: 0.0504 - loss: 0.0539 - val_custom_accuracy_without_padding: 0.3854 - val_custom_mse: 0.0504 - val_loss: 0.0537 - learning_rate: 0.0010\n",
            "Epoch 33/500\n",
            "\u001b[1m25/25\u001b[0m \u001b[32m━━━━━━━━━━━━━━━━━━━━\u001b[0m\u001b[37m\u001b[0m \u001b[1m0s\u001b[0m 8ms/step - custom_accuracy_without_padding: 0.3961 - custom_mse: 0.0500 - loss: 0.0535 - val_custom_accuracy_without_padding: 0.3948 - val_custom_mse: 0.0503 - val_loss: 0.0536 - learning_rate: 0.0010\n",
            "Epoch 34/500\n",
            "\u001b[1m25/25\u001b[0m \u001b[32m━━━━━━━━━━━━━━━━━━━━\u001b[0m\u001b[37m\u001b[0m \u001b[1m0s\u001b[0m 9ms/step - custom_accuracy_without_padding: 0.4030 - custom_mse: 0.0489 - loss: 0.0525 - val_custom_accuracy_without_padding: 0.4006 - val_custom_mse: 0.0497 - val_loss: 0.0530 - learning_rate: 0.0010\n",
            "Epoch 35/500\n",
            "\u001b[1m25/25\u001b[0m \u001b[32m━━━━━━━━━━━━━━━━━━━━\u001b[0m\u001b[37m\u001b[0m \u001b[1m0s\u001b[0m 10ms/step - custom_accuracy_without_padding: 0.4024 - custom_mse: 0.0492 - loss: 0.0527 - val_custom_accuracy_without_padding: 0.4074 - val_custom_mse: 0.0493 - val_loss: 0.0526 - learning_rate: 0.0010\n",
            "Epoch 36/500\n",
            "\u001b[1m25/25\u001b[0m \u001b[32m━━━━━━━━━━━━━━━━━━━━\u001b[0m\u001b[37m\u001b[0m \u001b[1m0s\u001b[0m 11ms/step - custom_accuracy_without_padding: 0.4148 - custom_mse: 0.0483 - loss: 0.0518 - val_custom_accuracy_without_padding: 0.4200 - val_custom_mse: 0.0490 - val_loss: 0.0522 - learning_rate: 0.0010\n",
            "Epoch 37/500\n",
            "\u001b[1m25/25\u001b[0m \u001b[32m━━━━━━━━━━━━━━━━━━━━\u001b[0m\u001b[37m\u001b[0m \u001b[1m0s\u001b[0m 10ms/step - custom_accuracy_without_padding: 0.4312 - custom_mse: 0.0481 - loss: 0.0516 - val_custom_accuracy_without_padding: 0.4299 - val_custom_mse: 0.0485 - val_loss: 0.0517 - learning_rate: 0.0010\n",
            "Epoch 38/500\n",
            "\u001b[1m25/25\u001b[0m \u001b[32m━━━━━━━━━━━━━━━━━━━━\u001b[0m\u001b[37m\u001b[0m \u001b[1m0s\u001b[0m 9ms/step - custom_accuracy_without_padding: 0.4374 - custom_mse: 0.0481 - loss: 0.0516 - val_custom_accuracy_without_padding: 0.4272 - val_custom_mse: 0.0485 - val_loss: 0.0516 - learning_rate: 0.0010\n",
            "Epoch 39/500\n",
            "\u001b[1m25/25\u001b[0m \u001b[32m━━━━━━━━━━━━━━━━━━━━\u001b[0m\u001b[37m\u001b[0m \u001b[1m0s\u001b[0m 9ms/step - custom_accuracy_without_padding: 0.4474 - custom_mse: 0.0473 - loss: 0.0508 - val_custom_accuracy_without_padding: 0.4415 - val_custom_mse: 0.0478 - val_loss: 0.0510 - learning_rate: 0.0010\n",
            "Epoch 40/500\n",
            "\u001b[1m25/25\u001b[0m \u001b[32m━━━━━━━━━━━━━━━━━━━━\u001b[0m\u001b[37m\u001b[0m \u001b[1m0s\u001b[0m 9ms/step - custom_accuracy_without_padding: 0.4562 - custom_mse: 0.0469 - loss: 0.0504 - val_custom_accuracy_without_padding: 0.4463 - val_custom_mse: 0.0475 - val_loss: 0.0507 - learning_rate: 0.0010\n",
            "Epoch 41/500\n",
            "\u001b[1m25/25\u001b[0m \u001b[32m━━━━━━━━━━━━━━━━━━━━\u001b[0m\u001b[37m\u001b[0m \u001b[1m0s\u001b[0m 9ms/step - custom_accuracy_without_padding: 0.4642 - custom_mse: 0.0469 - loss: 0.0504 - val_custom_accuracy_without_padding: 0.4554 - val_custom_mse: 0.0473 - val_loss: 0.0504 - learning_rate: 0.0010\n",
            "Epoch 42/500\n",
            "\u001b[1m25/25\u001b[0m \u001b[32m━━━━━━━━━━━━━━━━━━━━\u001b[0m\u001b[37m\u001b[0m \u001b[1m0s\u001b[0m 7ms/step - custom_accuracy_without_padding: 0.4734 - custom_mse: 0.0466 - loss: 0.0501 - val_custom_accuracy_without_padding: 0.4592 - val_custom_mse: 0.0473 - val_loss: 0.0505 - learning_rate: 0.0010\n",
            "Epoch 43/500\n",
            "\u001b[1m25/25\u001b[0m \u001b[32m━━━━━━━━━━━━━━━━━━━━\u001b[0m\u001b[37m\u001b[0m \u001b[1m0s\u001b[0m 10ms/step - custom_accuracy_without_padding: 0.4764 - custom_mse: 0.0459 - loss: 0.0493 - val_custom_accuracy_without_padding: 0.4663 - val_custom_mse: 0.0466 - val_loss: 0.0496 - learning_rate: 0.0010\n",
            "Epoch 44/500\n",
            "\u001b[1m25/25\u001b[0m \u001b[32m━━━━━━━━━━━━━━━━━━━━\u001b[0m\u001b[37m\u001b[0m \u001b[1m0s\u001b[0m 8ms/step - custom_accuracy_without_padding: 0.4869 - custom_mse: 0.0462 - loss: 0.0496 - val_custom_accuracy_without_padding: 0.4782 - val_custom_mse: 0.0460 - val_loss: 0.0491 - learning_rate: 0.0010\n",
            "Epoch 45/500\n",
            "\u001b[1m25/25\u001b[0m \u001b[32m━━━━━━━━━━━━━━━━━━━━\u001b[0m\u001b[37m\u001b[0m \u001b[1m0s\u001b[0m 10ms/step - custom_accuracy_without_padding: 0.4980 - custom_mse: 0.0454 - loss: 0.0488 - val_custom_accuracy_without_padding: 0.4926 - val_custom_mse: 0.0459 - val_loss: 0.0489 - learning_rate: 0.0010\n",
            "Epoch 46/500\n",
            "\u001b[1m25/25\u001b[0m \u001b[32m━━━━━━━━━━━━━━━━━━━━\u001b[0m\u001b[37m\u001b[0m \u001b[1m0s\u001b[0m 10ms/step - custom_accuracy_without_padding: 0.5054 - custom_mse: 0.0453 - loss: 0.0486 - val_custom_accuracy_without_padding: 0.4932 - val_custom_mse: 0.0457 - val_loss: 0.0488 - learning_rate: 0.0010\n",
            "Epoch 47/500\n",
            "\u001b[1m25/25\u001b[0m \u001b[32m━━━━━━━━━━━━━━━━━━━━\u001b[0m\u001b[37m\u001b[0m \u001b[1m0s\u001b[0m 9ms/step - custom_accuracy_without_padding: 0.5088 - custom_mse: 0.0447 - loss: 0.0481 - val_custom_accuracy_without_padding: 0.4992 - val_custom_mse: 0.0452 - val_loss: 0.0482 - learning_rate: 0.0010\n",
            "Epoch 48/500\n",
            "\u001b[1m25/25\u001b[0m \u001b[32m━━━━━━━━━━━━━━━━━━━━\u001b[0m\u001b[37m\u001b[0m \u001b[1m0s\u001b[0m 9ms/step - custom_accuracy_without_padding: 0.5127 - custom_mse: 0.0446 - loss: 0.0479 - val_custom_accuracy_without_padding: 0.5094 - val_custom_mse: 0.0450 - val_loss: 0.0480 - learning_rate: 0.0010\n",
            "Epoch 49/500\n",
            "\u001b[1m25/25\u001b[0m \u001b[32m━━━━━━━━━━━━━━━━━━━━\u001b[0m\u001b[37m\u001b[0m \u001b[1m0s\u001b[0m 9ms/step - custom_accuracy_without_padding: 0.5195 - custom_mse: 0.0444 - loss: 0.0476 - val_custom_accuracy_without_padding: 0.5073 - val_custom_mse: 0.0448 - val_loss: 0.0477 - learning_rate: 0.0010\n",
            "Epoch 50/500\n",
            "\u001b[1m25/25\u001b[0m \u001b[32m━━━━━━━━━━━━━━━━━━━━\u001b[0m\u001b[37m\u001b[0m \u001b[1m0s\u001b[0m 10ms/step - custom_accuracy_without_padding: 0.5247 - custom_mse: 0.0439 - loss: 0.0472 - val_custom_accuracy_without_padding: 0.5165 - val_custom_mse: 0.0445 - val_loss: 0.0475 - learning_rate: 0.0010\n",
            "Epoch 51/500\n",
            "\u001b[1m25/25\u001b[0m \u001b[32m━━━━━━━━━━━━━━━━━━━━\u001b[0m\u001b[37m\u001b[0m \u001b[1m0s\u001b[0m 11ms/step - custom_accuracy_without_padding: 0.5292 - custom_mse: 0.0442 - loss: 0.0475 - val_custom_accuracy_without_padding: 0.5187 - val_custom_mse: 0.0440 - val_loss: 0.0469 - learning_rate: 0.0010\n",
            "Epoch 52/500\n",
            "\u001b[1m25/25\u001b[0m \u001b[32m━━━━━━━━━━━━━━━━━━━━\u001b[0m\u001b[37m\u001b[0m \u001b[1m1s\u001b[0m 13ms/step - custom_accuracy_without_padding: 0.5338 - custom_mse: 0.0433 - loss: 0.0465 - val_custom_accuracy_without_padding: 0.5230 - val_custom_mse: 0.0438 - val_loss: 0.0467 - learning_rate: 0.0010\n",
            "Epoch 53/500\n",
            "\u001b[1m25/25\u001b[0m \u001b[32m━━━━━━━━━━━━━━━━━━━━\u001b[0m\u001b[37m\u001b[0m \u001b[1m1s\u001b[0m 14ms/step - custom_accuracy_without_padding: 0.5340 - custom_mse: 0.0434 - loss: 0.0466 - val_custom_accuracy_without_padding: 0.5271 - val_custom_mse: 0.0434 - val_loss: 0.0464 - learning_rate: 0.0010\n",
            "Epoch 54/500\n",
            "\u001b[1m25/25\u001b[0m \u001b[32m━━━━━━━━━━━━━━━━━━━━\u001b[0m\u001b[37m\u001b[0m \u001b[1m0s\u001b[0m 14ms/step - custom_accuracy_without_padding: 0.5406 - custom_mse: 0.0430 - loss: 0.0462 - val_custom_accuracy_without_padding: 0.5362 - val_custom_mse: 0.0434 - val_loss: 0.0463 - learning_rate: 0.0010\n",
            "Epoch 55/500\n",
            "\u001b[1m25/25\u001b[0m \u001b[32m━━━━━━━━━━━━━━━━━━━━\u001b[0m\u001b[37m\u001b[0m \u001b[1m0s\u001b[0m 9ms/step - custom_accuracy_without_padding: 0.5396 - custom_mse: 0.0430 - loss: 0.0461 - val_custom_accuracy_without_padding: 0.5347 - val_custom_mse: 0.0431 - val_loss: 0.0460 - learning_rate: 0.0010\n",
            "Epoch 56/500\n",
            "\u001b[1m25/25\u001b[0m \u001b[32m━━━━━━━━━━━━━━━━━━━━\u001b[0m\u001b[37m\u001b[0m \u001b[1m0s\u001b[0m 8ms/step - custom_accuracy_without_padding: 0.5461 - custom_mse: 0.0426 - loss: 0.0457 - val_custom_accuracy_without_padding: 0.5384 - val_custom_mse: 0.0428 - val_loss: 0.0456 - learning_rate: 0.0010\n",
            "Epoch 57/500\n",
            "\u001b[1m25/25\u001b[0m \u001b[32m━━━━━━━━━━━━━━━━━━━━\u001b[0m\u001b[37m\u001b[0m \u001b[1m0s\u001b[0m 7ms/step - custom_accuracy_without_padding: 0.5470 - custom_mse: 0.0425 - loss: 0.0456 - val_custom_accuracy_without_padding: 0.5461 - val_custom_mse: 0.0428 - val_loss: 0.0456 - learning_rate: 0.0010\n",
            "Epoch 58/500\n",
            "\u001b[1m25/25\u001b[0m \u001b[32m━━━━━━━━━━━━━━━━━━━━\u001b[0m\u001b[37m\u001b[0m \u001b[1m0s\u001b[0m 10ms/step - custom_accuracy_without_padding: 0.5518 - custom_mse: 0.0421 - loss: 0.0452 - val_custom_accuracy_without_padding: 0.5458 - val_custom_mse: 0.0425 - val_loss: 0.0453 - learning_rate: 0.0010\n",
            "Epoch 59/500\n",
            "\u001b[1m25/25\u001b[0m \u001b[32m━━━━━━━━━━━━━━━━━━━━\u001b[0m\u001b[37m\u001b[0m \u001b[1m0s\u001b[0m 9ms/step - custom_accuracy_without_padding: 0.5565 - custom_mse: 0.0418 - loss: 0.0449 - val_custom_accuracy_without_padding: 0.5546 - val_custom_mse: 0.0423 - val_loss: 0.0451 - learning_rate: 0.0010\n",
            "Epoch 60/500\n",
            "\u001b[1m25/25\u001b[0m \u001b[32m━━━━━━━━━━━━━━━━━━━━\u001b[0m\u001b[37m\u001b[0m \u001b[1m0s\u001b[0m 10ms/step - custom_accuracy_without_padding: 0.5562 - custom_mse: 0.0416 - loss: 0.0446 - val_custom_accuracy_without_padding: 0.5559 - val_custom_mse: 0.0418 - val_loss: 0.0447 - learning_rate: 0.0010\n",
            "Epoch 61/500\n",
            "\u001b[1m25/25\u001b[0m \u001b[32m━━━━━━━━━━━━━━━━━━━━\u001b[0m\u001b[37m\u001b[0m \u001b[1m0s\u001b[0m 8ms/step - custom_accuracy_without_padding: 0.5606 - custom_mse: 0.0412 - loss: 0.0442 - val_custom_accuracy_without_padding: 0.5527 - val_custom_mse: 0.0422 - val_loss: 0.0449 - learning_rate: 0.0010\n",
            "Epoch 62/500\n",
            "\u001b[1m25/25\u001b[0m \u001b[32m━━━━━━━━━━━━━━━━━━━━\u001b[0m\u001b[37m\u001b[0m \u001b[1m0s\u001b[0m 10ms/step - custom_accuracy_without_padding: 0.5633 - custom_mse: 0.0420 - loss: 0.0449 - val_custom_accuracy_without_padding: 0.5613 - val_custom_mse: 0.0415 - val_loss: 0.0443 - learning_rate: 0.0010\n",
            "Epoch 63/500\n",
            "\u001b[1m25/25\u001b[0m \u001b[32m━━━━━━━━━━━━━━━━━━━━\u001b[0m\u001b[37m\u001b[0m \u001b[1m0s\u001b[0m 9ms/step - custom_accuracy_without_padding: 0.5683 - custom_mse: 0.0411 - loss: 0.0440 - val_custom_accuracy_without_padding: 0.5646 - val_custom_mse: 0.0416 - val_loss: 0.0442 - learning_rate: 0.0010\n",
            "Epoch 64/500\n",
            "\u001b[1m25/25\u001b[0m \u001b[32m━━━━━━━━━━━━━━━━━━━━\u001b[0m\u001b[37m\u001b[0m \u001b[1m0s\u001b[0m 8ms/step - custom_accuracy_without_padding: 0.5733 - custom_mse: 0.0408 - loss: 0.0437 - val_custom_accuracy_without_padding: 0.5671 - val_custom_mse: 0.0413 - val_loss: 0.0440 - learning_rate: 0.0010\n",
            "Epoch 65/500\n",
            "\u001b[1m25/25\u001b[0m \u001b[32m━━━━━━━━━━━━━━━━━━━━\u001b[0m\u001b[37m\u001b[0m \u001b[1m0s\u001b[0m 9ms/step - custom_accuracy_without_padding: 0.5738 - custom_mse: 0.0406 - loss: 0.0435 - val_custom_accuracy_without_padding: 0.5694 - val_custom_mse: 0.0410 - val_loss: 0.0437 - learning_rate: 0.0010\n",
            "Epoch 66/500\n",
            "\u001b[1m25/25\u001b[0m \u001b[32m━━━━━━━━━━━━━━━━━━━━\u001b[0m\u001b[37m\u001b[0m \u001b[1m0s\u001b[0m 9ms/step - custom_accuracy_without_padding: 0.5778 - custom_mse: 0.0402 - loss: 0.0431 - val_custom_accuracy_without_padding: 0.5734 - val_custom_mse: 0.0408 - val_loss: 0.0435 - learning_rate: 0.0010\n",
            "Epoch 67/500\n",
            "\u001b[1m25/25\u001b[0m \u001b[32m━━━━━━━━━━━━━━━━━━━━\u001b[0m\u001b[37m\u001b[0m \u001b[1m0s\u001b[0m 10ms/step - custom_accuracy_without_padding: 0.5824 - custom_mse: 0.0407 - loss: 0.0436 - val_custom_accuracy_without_padding: 0.5795 - val_custom_mse: 0.0406 - val_loss: 0.0432 - learning_rate: 0.0010\n",
            "Epoch 68/500\n",
            "\u001b[1m25/25\u001b[0m \u001b[32m━━━━━━━━━━━━━━━━━━━━\u001b[0m\u001b[37m\u001b[0m \u001b[1m0s\u001b[0m 10ms/step - custom_accuracy_without_padding: 0.5853 - custom_mse: 0.0402 - loss: 0.0430 - val_custom_accuracy_without_padding: 0.5799 - val_custom_mse: 0.0404 - val_loss: 0.0430 - learning_rate: 0.0010\n",
            "Epoch 69/500\n",
            "\u001b[1m25/25\u001b[0m \u001b[32m━━━━━━━━━━━━━━━━━━━━\u001b[0m\u001b[37m\u001b[0m \u001b[1m0s\u001b[0m 8ms/step - custom_accuracy_without_padding: 0.5847 - custom_mse: 0.0400 - loss: 0.0428 - val_custom_accuracy_without_padding: 0.5833 - val_custom_mse: 0.0405 - val_loss: 0.0431 - learning_rate: 0.0010\n",
            "Epoch 70/500\n",
            "\u001b[1m25/25\u001b[0m \u001b[32m━━━━━━━━━━━━━━━━━━━━\u001b[0m\u001b[37m\u001b[0m \u001b[1m0s\u001b[0m 8ms/step - custom_accuracy_without_padding: 0.5864 - custom_mse: 0.0395 - loss: 0.0422 - val_custom_accuracy_without_padding: 0.5876 - val_custom_mse: 0.0406 - val_loss: 0.0431 - learning_rate: 0.0010\n",
            "Epoch 71/500\n",
            "\u001b[1m25/25\u001b[0m \u001b[32m━━━━━━━━━━━━━━━━━━━━\u001b[0m\u001b[37m\u001b[0m \u001b[1m0s\u001b[0m 9ms/step - custom_accuracy_without_padding: 0.5924 - custom_mse: 0.0398 - loss: 0.0426 - val_custom_accuracy_without_padding: 0.5901 - val_custom_mse: 0.0404 - val_loss: 0.0428 - learning_rate: 0.0010\n",
            "Epoch 72/500\n",
            "\u001b[1m25/25\u001b[0m \u001b[32m━━━━━━━━━━━━━━━━━━━━\u001b[0m\u001b[37m\u001b[0m \u001b[1m0s\u001b[0m 9ms/step - custom_accuracy_without_padding: 0.5882 - custom_mse: 0.0403 - loss: 0.0430 - val_custom_accuracy_without_padding: 0.5916 - val_custom_mse: 0.0400 - val_loss: 0.0425 - learning_rate: 0.0010\n",
            "Epoch 73/500\n",
            "\u001b[1m25/25\u001b[0m \u001b[32m━━━━━━━━━━━━━━━━━━━━\u001b[0m\u001b[37m\u001b[0m \u001b[1m0s\u001b[0m 9ms/step - custom_accuracy_without_padding: 0.5945 - custom_mse: 0.0393 - loss: 0.0420 - val_custom_accuracy_without_padding: 0.5891 - val_custom_mse: 0.0399 - val_loss: 0.0424 - learning_rate: 0.0010\n",
            "Epoch 74/500\n",
            "\u001b[1m25/25\u001b[0m \u001b[32m━━━━━━━━━━━━━━━━━━━━\u001b[0m\u001b[37m\u001b[0m \u001b[1m0s\u001b[0m 9ms/step - custom_accuracy_without_padding: 0.5937 - custom_mse: 0.0397 - loss: 0.0423 - val_custom_accuracy_without_padding: 0.5918 - val_custom_mse: 0.0395 - val_loss: 0.0420 - learning_rate: 0.0010\n",
            "Epoch 75/500\n",
            "\u001b[1m25/25\u001b[0m \u001b[32m━━━━━━━━━━━━━━━━━━━━\u001b[0m\u001b[37m\u001b[0m \u001b[1m0s\u001b[0m 9ms/step - custom_accuracy_without_padding: 0.5933 - custom_mse: 0.0393 - loss: 0.0419 - val_custom_accuracy_without_padding: 0.5938 - val_custom_mse: 0.0395 - val_loss: 0.0419 - learning_rate: 0.0010\n",
            "Epoch 76/500\n",
            "\u001b[1m25/25\u001b[0m \u001b[32m━━━━━━━━━━━━━━━━━━━━\u001b[0m\u001b[37m\u001b[0m \u001b[1m0s\u001b[0m 10ms/step - custom_accuracy_without_padding: 0.5986 - custom_mse: 0.0390 - loss: 0.0416 - val_custom_accuracy_without_padding: 0.5906 - val_custom_mse: 0.0394 - val_loss: 0.0418 - learning_rate: 0.0010\n",
            "Epoch 77/500\n",
            "\u001b[1m25/25\u001b[0m \u001b[32m━━━━━━━━━━━━━━━━━━━━\u001b[0m\u001b[37m\u001b[0m \u001b[1m0s\u001b[0m 8ms/step - custom_accuracy_without_padding: 0.5972 - custom_mse: 0.0391 - loss: 0.0417 - val_custom_accuracy_without_padding: 0.5933 - val_custom_mse: 0.0391 - val_loss: 0.0416 - learning_rate: 0.0010\n",
            "Epoch 78/500\n",
            "\u001b[1m25/25\u001b[0m \u001b[32m━━━━━━━━━━━━━━━━━━━━\u001b[0m\u001b[37m\u001b[0m \u001b[1m0s\u001b[0m 9ms/step - custom_accuracy_without_padding: 0.5980 - custom_mse: 0.0386 - loss: 0.0411 - val_custom_accuracy_without_padding: 0.5947 - val_custom_mse: 0.0393 - val_loss: 0.0417 - learning_rate: 0.0010\n",
            "Epoch 79/500\n",
            "\u001b[1m25/25\u001b[0m \u001b[32m━━━━━━━━━━━━━━━━━━━━\u001b[0m\u001b[37m\u001b[0m \u001b[1m0s\u001b[0m 9ms/step - custom_accuracy_without_padding: 0.5971 - custom_mse: 0.0389 - loss: 0.0414 - val_custom_accuracy_without_padding: 0.5947 - val_custom_mse: 0.0388 - val_loss: 0.0411 - learning_rate: 0.0010\n",
            "Epoch 80/500\n",
            "\u001b[1m25/25\u001b[0m \u001b[32m━━━━━━━━━━━━━━━━━━━━\u001b[0m\u001b[37m\u001b[0m \u001b[1m0s\u001b[0m 9ms/step - custom_accuracy_without_padding: 0.5973 - custom_mse: 0.0384 - loss: 0.0409 - val_custom_accuracy_without_padding: 0.5962 - val_custom_mse: 0.0388 - val_loss: 0.0411 - learning_rate: 0.0010\n",
            "Epoch 81/500\n",
            "\u001b[1m25/25\u001b[0m \u001b[32m━━━━━━━━━━━━━━━━━━━━\u001b[0m\u001b[37m\u001b[0m \u001b[1m0s\u001b[0m 9ms/step - custom_accuracy_without_padding: 0.5963 - custom_mse: 0.0387 - loss: 0.0411 - val_custom_accuracy_without_padding: 0.5982 - val_custom_mse: 0.0390 - val_loss: 0.0412 - learning_rate: 0.0010\n",
            "Epoch 82/500\n",
            "\u001b[1m25/25\u001b[0m \u001b[32m━━━━━━━━━━━━━━━━━━━━\u001b[0m\u001b[37m\u001b[0m \u001b[1m0s\u001b[0m 10ms/step - custom_accuracy_without_padding: 0.6011 - custom_mse: 0.0382 - loss: 0.0406 - val_custom_accuracy_without_padding: 0.5976 - val_custom_mse: 0.0383 - val_loss: 0.0406 - learning_rate: 0.0010\n",
            "Epoch 83/500\n",
            "\u001b[1m25/25\u001b[0m \u001b[32m━━━━━━━━━━━━━━━━━━━━\u001b[0m\u001b[37m\u001b[0m \u001b[1m0s\u001b[0m 8ms/step - custom_accuracy_without_padding: 0.6007 - custom_mse: 0.0383 - loss: 0.0408 - val_custom_accuracy_without_padding: 0.5999 - val_custom_mse: 0.0387 - val_loss: 0.0410 - learning_rate: 0.0010\n",
            "Epoch 84/500\n",
            "\u001b[1m25/25\u001b[0m \u001b[32m━━━━━━━━━━━━━━━━━━━━\u001b[0m\u001b[37m\u001b[0m \u001b[1m0s\u001b[0m 9ms/step - custom_accuracy_without_padding: 0.6028 - custom_mse: 0.0384 - loss: 0.0408 - val_custom_accuracy_without_padding: 0.6007 - val_custom_mse: 0.0382 - val_loss: 0.0405 - learning_rate: 0.0010\n",
            "Epoch 85/500\n",
            "\u001b[1m25/25\u001b[0m \u001b[32m━━━━━━━━━━━━━━━━━━━━\u001b[0m\u001b[37m\u001b[0m \u001b[1m0s\u001b[0m 9ms/step - custom_accuracy_without_padding: 0.6019 - custom_mse: 0.0382 - loss: 0.0406 - val_custom_accuracy_without_padding: 0.6022 - val_custom_mse: 0.0379 - val_loss: 0.0401 - learning_rate: 0.0010\n",
            "Epoch 86/500\n",
            "\u001b[1m25/25\u001b[0m \u001b[32m━━━━━━━━━━━━━━━━━━━━\u001b[0m\u001b[37m\u001b[0m \u001b[1m0s\u001b[0m 8ms/step - custom_accuracy_without_padding: 0.6034 - custom_mse: 0.0375 - loss: 0.0399 - val_custom_accuracy_without_padding: 0.6062 - val_custom_mse: 0.0381 - val_loss: 0.0403 - learning_rate: 0.0010\n",
            "Epoch 87/500\n",
            "\u001b[1m25/25\u001b[0m \u001b[32m━━━━━━━━━━━━━━━━━━━━\u001b[0m\u001b[37m\u001b[0m \u001b[1m0s\u001b[0m 9ms/step - custom_accuracy_without_padding: 0.6072 - custom_mse: 0.0380 - loss: 0.0404 - val_custom_accuracy_without_padding: 0.6100 - val_custom_mse: 0.0380 - val_loss: 0.0401 - learning_rate: 0.0010\n",
            "Epoch 88/500\n",
            "\u001b[1m25/25\u001b[0m \u001b[32m━━━━━━━━━━━━━━━━━━━━\u001b[0m\u001b[37m\u001b[0m \u001b[1m0s\u001b[0m 9ms/step - custom_accuracy_without_padding: 0.6092 - custom_mse: 0.0373 - loss: 0.0396 - val_custom_accuracy_without_padding: 0.6090 - val_custom_mse: 0.0376 - val_loss: 0.0398 - learning_rate: 0.0010\n",
            "Epoch 89/500\n",
            "\u001b[1m25/25\u001b[0m \u001b[32m━━━━━━━━━━━━━━━━━━━━\u001b[0m\u001b[37m\u001b[0m \u001b[1m0s\u001b[0m 10ms/step - custom_accuracy_without_padding: 0.6094 - custom_mse: 0.0378 - loss: 0.0401 - val_custom_accuracy_without_padding: 0.6118 - val_custom_mse: 0.0376 - val_loss: 0.0398 - learning_rate: 0.0010\n",
            "Epoch 90/500\n",
            "\u001b[1m25/25\u001b[0m \u001b[32m━━━━━━━━━━━━━━━━━━━━\u001b[0m\u001b[37m\u001b[0m \u001b[1m0s\u001b[0m 9ms/step - custom_accuracy_without_padding: 0.6141 - custom_mse: 0.0369 - loss: 0.0392 - val_custom_accuracy_without_padding: 0.6143 - val_custom_mse: 0.0373 - val_loss: 0.0395 - learning_rate: 0.0010\n",
            "Epoch 91/500\n",
            "\u001b[1m25/25\u001b[0m \u001b[32m━━━━━━━━━━━━━━━━━━━━\u001b[0m\u001b[37m\u001b[0m \u001b[1m0s\u001b[0m 9ms/step - custom_accuracy_without_padding: 0.6165 - custom_mse: 0.0370 - loss: 0.0393 - val_custom_accuracy_without_padding: 0.6138 - val_custom_mse: 0.0375 - val_loss: 0.0395 - learning_rate: 0.0010\n",
            "Epoch 92/500\n",
            "\u001b[1m25/25\u001b[0m \u001b[32m━━━━━━━━━━━━━━━━━━━━\u001b[0m\u001b[37m\u001b[0m \u001b[1m0s\u001b[0m 10ms/step - custom_accuracy_without_padding: 0.6145 - custom_mse: 0.0373 - loss: 0.0396 - val_custom_accuracy_without_padding: 0.6182 - val_custom_mse: 0.0371 - val_loss: 0.0392 - learning_rate: 0.0010\n",
            "Epoch 93/500\n",
            "\u001b[1m25/25\u001b[0m \u001b[32m━━━━━━━━━━━━━━━━━━━━\u001b[0m\u001b[37m\u001b[0m \u001b[1m0s\u001b[0m 14ms/step - custom_accuracy_without_padding: 0.6196 - custom_mse: 0.0367 - loss: 0.0389 - val_custom_accuracy_without_padding: 0.6194 - val_custom_mse: 0.0369 - val_loss: 0.0389 - learning_rate: 0.0010\n",
            "Epoch 94/500\n",
            "\u001b[1m25/25\u001b[0m \u001b[32m━━━━━━━━━━━━━━━━━━━━\u001b[0m\u001b[37m\u001b[0m \u001b[1m0s\u001b[0m 10ms/step - custom_accuracy_without_padding: 0.6205 - custom_mse: 0.0363 - loss: 0.0385 - val_custom_accuracy_without_padding: 0.6248 - val_custom_mse: 0.0374 - val_loss: 0.0394 - learning_rate: 0.0010\n",
            "Epoch 95/500\n",
            "\u001b[1m25/25\u001b[0m \u001b[32m━━━━━━━━━━━━━━━━━━━━\u001b[0m\u001b[37m\u001b[0m \u001b[1m0s\u001b[0m 12ms/step - custom_accuracy_without_padding: 0.6251 - custom_mse: 0.0363 - loss: 0.0385 - val_custom_accuracy_without_padding: 0.6199 - val_custom_mse: 0.0367 - val_loss: 0.0388 - learning_rate: 0.0010\n",
            "Epoch 96/500\n",
            "\u001b[1m25/25\u001b[0m \u001b[32m━━━━━━━━━━━━━━━━━━━━\u001b[0m\u001b[37m\u001b[0m \u001b[1m1s\u001b[0m 14ms/step - custom_accuracy_without_padding: 0.6225 - custom_mse: 0.0365 - loss: 0.0387 - val_custom_accuracy_without_padding: 0.6258 - val_custom_mse: 0.0365 - val_loss: 0.0385 - learning_rate: 0.0010\n",
            "Epoch 97/500\n",
            "\u001b[1m25/25\u001b[0m \u001b[32m━━━━━━━━━━━━━━━━━━━━\u001b[0m\u001b[37m\u001b[0m \u001b[1m0s\u001b[0m 8ms/step - custom_accuracy_without_padding: 0.6269 - custom_mse: 0.0365 - loss: 0.0387 - val_custom_accuracy_without_padding: 0.6257 - val_custom_mse: 0.0366 - val_loss: 0.0386 - learning_rate: 0.0010\n",
            "Epoch 98/500\n",
            "\u001b[1m25/25\u001b[0m \u001b[32m━━━━━━━━━━━━━━━━━━━━\u001b[0m\u001b[37m\u001b[0m \u001b[1m0s\u001b[0m 8ms/step - custom_accuracy_without_padding: 0.6252 - custom_mse: 0.0369 - loss: 0.0390 - val_custom_accuracy_without_padding: 0.6276 - val_custom_mse: 0.0366 - val_loss: 0.0386 - learning_rate: 0.0010\n",
            "Epoch 99/500\n",
            "\u001b[1m25/25\u001b[0m \u001b[32m━━━━━━━━━━━━━━━━━━━━\u001b[0m\u001b[37m\u001b[0m \u001b[1m0s\u001b[0m 9ms/step - custom_accuracy_without_padding: 0.6282 - custom_mse: 0.0367 - loss: 0.0388 - val_custom_accuracy_without_padding: 0.6271 - val_custom_mse: 0.0362 - val_loss: 0.0381 - learning_rate: 0.0010\n",
            "Epoch 100/500\n",
            "\u001b[1m25/25\u001b[0m \u001b[32m━━━━━━━━━━━━━━━━━━━━\u001b[0m\u001b[37m\u001b[0m \u001b[1m0s\u001b[0m 8ms/step - custom_accuracy_without_padding: 0.6312 - custom_mse: 0.0356 - loss: 0.0377 - val_custom_accuracy_without_padding: 0.6288 - val_custom_mse: 0.0363 - val_loss: 0.0383 - learning_rate: 0.0010\n",
            "Epoch 101/500\n",
            "\u001b[1m25/25\u001b[0m \u001b[32m━━━━━━━━━━━━━━━━━━━━\u001b[0m\u001b[37m\u001b[0m \u001b[1m0s\u001b[0m 8ms/step - custom_accuracy_without_padding: 0.6299 - custom_mse: 0.0362 - loss: 0.0382 - val_custom_accuracy_without_padding: 0.6310 - val_custom_mse: 0.0362 - val_loss: 0.0382 - learning_rate: 0.0010\n",
            "Epoch 102/500\n",
            "\u001b[1m25/25\u001b[0m \u001b[32m━━━━━━━━━━━━━━━━━━━━\u001b[0m\u001b[37m\u001b[0m \u001b[1m0s\u001b[0m 10ms/step - custom_accuracy_without_padding: 0.6321 - custom_mse: 0.0353 - loss: 0.0373 - val_custom_accuracy_without_padding: 0.6319 - val_custom_mse: 0.0362 - val_loss: 0.0380 - learning_rate: 0.0010\n",
            "Epoch 103/500\n",
            "\u001b[1m25/25\u001b[0m \u001b[32m━━━━━━━━━━━━━━━━━━━━\u001b[0m\u001b[37m\u001b[0m \u001b[1m0s\u001b[0m 8ms/step - custom_accuracy_without_padding: 0.6352 - custom_mse: 0.0360 - loss: 0.0380 - val_custom_accuracy_without_padding: 0.6372 - val_custom_mse: 0.0364 - val_loss: 0.0382 - learning_rate: 0.0010\n",
            "Epoch 104/500\n",
            "\u001b[1m25/25\u001b[0m \u001b[32m━━━━━━━━━━━━━━━━━━━━\u001b[0m\u001b[37m\u001b[0m \u001b[1m0s\u001b[0m 9ms/step - custom_accuracy_without_padding: 0.6340 - custom_mse: 0.0361 - loss: 0.0381 - val_custom_accuracy_without_padding: 0.6364 - val_custom_mse: 0.0360 - val_loss: 0.0378 - learning_rate: 0.0010\n",
            "Epoch 105/500\n",
            "\u001b[1m25/25\u001b[0m \u001b[32m━━━━━━━━━━━━━━━━━━━━\u001b[0m\u001b[37m\u001b[0m \u001b[1m0s\u001b[0m 9ms/step - custom_accuracy_without_padding: 0.6392 - custom_mse: 0.0352 - loss: 0.0372 - val_custom_accuracy_without_padding: 0.6295 - val_custom_mse: 0.0361 - val_loss: 0.0379 - learning_rate: 0.0010\n",
            "Epoch 106/500\n",
            "\u001b[1m25/25\u001b[0m \u001b[32m━━━━━━━━━━━━━━━━━━━━\u001b[0m\u001b[37m\u001b[0m \u001b[1m0s\u001b[0m 8ms/step - custom_accuracy_without_padding: 0.6380 - custom_mse: 0.0353 - loss: 0.0373 - val_custom_accuracy_without_padding: 0.6414 - val_custom_mse: 0.0360 - val_loss: 0.0378 - learning_rate: 0.0010\n",
            "Epoch 107/500\n",
            "\u001b[1m25/25\u001b[0m \u001b[32m━━━━━━━━━━━━━━━━━━━━\u001b[0m\u001b[37m\u001b[0m \u001b[1m0s\u001b[0m 9ms/step - custom_accuracy_without_padding: 0.6422 - custom_mse: 0.0356 - loss: 0.0376 - val_custom_accuracy_without_padding: 0.6424 - val_custom_mse: 0.0357 - val_loss: 0.0374 - learning_rate: 0.0010\n",
            "Epoch 108/500\n",
            "\u001b[1m25/25\u001b[0m \u001b[32m━━━━━━━━━━━━━━━━━━━━\u001b[0m\u001b[37m\u001b[0m \u001b[1m0s\u001b[0m 8ms/step - custom_accuracy_without_padding: 0.6416 - custom_mse: 0.0357 - loss: 0.0376 - val_custom_accuracy_without_padding: 0.6397 - val_custom_mse: 0.0356 - val_loss: 0.0375 - learning_rate: 0.0010\n",
            "Epoch 109/500\n",
            "\u001b[1m25/25\u001b[0m \u001b[32m━━━━━━━━━━━━━━━━━━━━\u001b[0m\u001b[37m\u001b[0m \u001b[1m0s\u001b[0m 8ms/step - custom_accuracy_without_padding: 0.6435 - custom_mse: 0.0353 - loss: 0.0372 - val_custom_accuracy_without_padding: 0.6412 - val_custom_mse: 0.0353 - val_loss: 0.0370 - learning_rate: 0.0010\n",
            "Epoch 110/500\n",
            "\u001b[1m25/25\u001b[0m \u001b[32m━━━━━━━━━━━━━━━━━━━━\u001b[0m\u001b[37m\u001b[0m \u001b[1m0s\u001b[0m 9ms/step - custom_accuracy_without_padding: 0.6424 - custom_mse: 0.0354 - loss: 0.0373 - val_custom_accuracy_without_padding: 0.6326 - val_custom_mse: 0.0356 - val_loss: 0.0374 - learning_rate: 0.0010\n",
            "Epoch 111/500\n",
            "\u001b[1m25/25\u001b[0m \u001b[32m━━━━━━━━━━━━━━━━━━━━\u001b[0m\u001b[37m\u001b[0m \u001b[1m0s\u001b[0m 10ms/step - custom_accuracy_without_padding: 0.6415 - custom_mse: 0.0349 - loss: 0.0368 - val_custom_accuracy_without_padding: 0.6447 - val_custom_mse: 0.0352 - val_loss: 0.0369 - learning_rate: 0.0010\n",
            "Epoch 112/500\n",
            "\u001b[1m25/25\u001b[0m \u001b[32m━━━━━━━━━━━━━━━━━━━━\u001b[0m\u001b[37m\u001b[0m \u001b[1m0s\u001b[0m 9ms/step - custom_accuracy_without_padding: 0.6464 - custom_mse: 0.0355 - loss: 0.0374 - val_custom_accuracy_without_padding: 0.6427 - val_custom_mse: 0.0355 - val_loss: 0.0373 - learning_rate: 0.0010\n",
            "Epoch 113/500\n",
            "\u001b[1m25/25\u001b[0m \u001b[32m━━━━━━━━━━━━━━━━━━━━\u001b[0m\u001b[37m\u001b[0m \u001b[1m0s\u001b[0m 10ms/step - custom_accuracy_without_padding: 0.6501 - custom_mse: 0.0351 - loss: 0.0369 - val_custom_accuracy_without_padding: 0.6452 - val_custom_mse: 0.0350 - val_loss: 0.0368 - learning_rate: 0.0010\n",
            "Epoch 114/500\n",
            "\u001b[1m25/25\u001b[0m \u001b[32m━━━━━━━━━━━━━━━━━━━━\u001b[0m\u001b[37m\u001b[0m \u001b[1m0s\u001b[0m 9ms/step - custom_accuracy_without_padding: 0.6491 - custom_mse: 0.0352 - loss: 0.0371 - val_custom_accuracy_without_padding: 0.6486 - val_custom_mse: 0.0349 - val_loss: 0.0366 - learning_rate: 0.0010\n",
            "Epoch 115/500\n",
            "\u001b[1m25/25\u001b[0m \u001b[32m━━━━━━━━━━━━━━━━━━━━\u001b[0m\u001b[37m\u001b[0m \u001b[1m0s\u001b[0m 9ms/step - custom_accuracy_without_padding: 0.6464 - custom_mse: 0.0352 - loss: 0.0370 - val_custom_accuracy_without_padding: 0.6477 - val_custom_mse: 0.0352 - val_loss: 0.0370 - learning_rate: 0.0010\n",
            "Epoch 116/500\n",
            "\u001b[1m25/25\u001b[0m \u001b[32m━━━━━━━━━━━━━━━━━━━━\u001b[0m\u001b[37m\u001b[0m \u001b[1m0s\u001b[0m 9ms/step - custom_accuracy_without_padding: 0.6458 - custom_mse: 0.0354 - loss: 0.0372 - val_custom_accuracy_without_padding: 0.6458 - val_custom_mse: 0.0351 - val_loss: 0.0368 - learning_rate: 0.0010\n",
            "Epoch 117/500\n",
            "\u001b[1m25/25\u001b[0m \u001b[32m━━━━━━━━━━━━━━━━━━━━\u001b[0m\u001b[37m\u001b[0m \u001b[1m0s\u001b[0m 8ms/step - custom_accuracy_without_padding: 0.6477 - custom_mse: 0.0350 - loss: 0.0368 - val_custom_accuracy_without_padding: 0.6491 - val_custom_mse: 0.0349 - val_loss: 0.0368 - learning_rate: 0.0010\n",
            "Epoch 118/500\n",
            "\u001b[1m25/25\u001b[0m \u001b[32m━━━━━━━━━━━━━━━━━━━━\u001b[0m\u001b[37m\u001b[0m \u001b[1m0s\u001b[0m 9ms/step - custom_accuracy_without_padding: 0.6503 - custom_mse: 0.0348 - loss: 0.0365 - val_custom_accuracy_without_padding: 0.6420 - val_custom_mse: 0.0345 - val_loss: 0.0362 - learning_rate: 0.0010\n",
            "Epoch 119/500\n",
            "\u001b[1m25/25\u001b[0m \u001b[32m━━━━━━━━━━━━━━━━━━━━\u001b[0m\u001b[37m\u001b[0m \u001b[1m0s\u001b[0m 9ms/step - custom_accuracy_without_padding: 0.6490 - custom_mse: 0.0347 - loss: 0.0365 - val_custom_accuracy_without_padding: 0.6447 - val_custom_mse: 0.0347 - val_loss: 0.0362 - learning_rate: 0.0010\n",
            "Epoch 120/500\n",
            "\u001b[1m25/25\u001b[0m \u001b[32m━━━━━━━━━━━━━━━━━━━━\u001b[0m\u001b[37m\u001b[0m \u001b[1m0s\u001b[0m 8ms/step - custom_accuracy_without_padding: 0.6496 - custom_mse: 0.0343 - loss: 0.0361 - val_custom_accuracy_without_padding: 0.6435 - val_custom_mse: 0.0346 - val_loss: 0.0364 - learning_rate: 0.0010\n",
            "Epoch 121/500\n",
            "\u001b[1m25/25\u001b[0m \u001b[32m━━━━━━━━━━━━━━━━━━━━\u001b[0m\u001b[37m\u001b[0m \u001b[1m0s\u001b[0m 10ms/step - custom_accuracy_without_padding: 0.6488 - custom_mse: 0.0346 - loss: 0.0364 - val_custom_accuracy_without_padding: 0.6462 - val_custom_mse: 0.0344 - val_loss: 0.0359 - learning_rate: 0.0010\n",
            "Epoch 122/500\n",
            "\u001b[1m25/25\u001b[0m \u001b[32m━━━━━━━━━━━━━━━━━━━━\u001b[0m\u001b[37m\u001b[0m \u001b[1m0s\u001b[0m 8ms/step - custom_accuracy_without_padding: 0.6473 - custom_mse: 0.0342 - loss: 0.0359 - val_custom_accuracy_without_padding: 0.6490 - val_custom_mse: 0.0347 - val_loss: 0.0363 - learning_rate: 0.0010\n",
            "Epoch 123/500\n",
            "\u001b[1m25/25\u001b[0m \u001b[32m━━━━━━━━━━━━━━━━━━━━\u001b[0m\u001b[37m\u001b[0m \u001b[1m0s\u001b[0m 8ms/step - custom_accuracy_without_padding: 0.6527 - custom_mse: 0.0340 - loss: 0.0357 - val_custom_accuracy_without_padding: 0.6450 - val_custom_mse: 0.0344 - val_loss: 0.0360 - learning_rate: 0.0010\n",
            "Epoch 124/500\n",
            "\u001b[1m25/25\u001b[0m \u001b[32m━━━━━━━━━━━━━━━━━━━━\u001b[0m\u001b[37m\u001b[0m \u001b[1m0s\u001b[0m 10ms/step - custom_accuracy_without_padding: 0.6446 - custom_mse: 0.0346 - loss: 0.0363 - val_custom_accuracy_without_padding: 0.6387 - val_custom_mse: 0.0342 - val_loss: 0.0358 - learning_rate: 0.0010\n",
            "Epoch 125/500\n",
            "\u001b[1m25/25\u001b[0m \u001b[32m━━━━━━━━━━━━━━━━━━━━\u001b[0m\u001b[37m\u001b[0m \u001b[1m0s\u001b[0m 9ms/step - custom_accuracy_without_padding: 0.6424 - custom_mse: 0.0338 - loss: 0.0354 - val_custom_accuracy_without_padding: 0.6486 - val_custom_mse: 0.0345 - val_loss: 0.0359 - learning_rate: 0.0010\n",
            "Epoch 126/500\n",
            "\u001b[1m25/25\u001b[0m \u001b[32m━━━━━━━━━━━━━━━━━━━━\u001b[0m\u001b[37m\u001b[0m \u001b[1m0s\u001b[0m 9ms/step - custom_accuracy_without_padding: 0.6449 - custom_mse: 0.0341 - loss: 0.0357 - val_custom_accuracy_without_padding: 0.6415 - val_custom_mse: 0.0343 - val_loss: 0.0358 - learning_rate: 0.0010\n",
            "Epoch 127/500\n",
            "\u001b[1m25/25\u001b[0m \u001b[32m━━━━━━━━━━━━━━━━━━━━\u001b[0m\u001b[37m\u001b[0m \u001b[1m0s\u001b[0m 9ms/step - custom_accuracy_without_padding: 0.6467 - custom_mse: 0.0343 - loss: 0.0360 - val_custom_accuracy_without_padding: 0.6391 - val_custom_mse: 0.0346 - val_loss: 0.0361 - learning_rate: 0.0010\n",
            "Epoch 128/500\n",
            "\u001b[1m25/25\u001b[0m \u001b[32m━━━━━━━━━━━━━━━━━━━━\u001b[0m\u001b[37m\u001b[0m \u001b[1m0s\u001b[0m 9ms/step - custom_accuracy_without_padding: 0.6430 - custom_mse: 0.0344 - loss: 0.0361 - val_custom_accuracy_without_padding: 0.6472 - val_custom_mse: 0.0342 - val_loss: 0.0357 - learning_rate: 0.0010\n",
            "Epoch 129/500\n",
            "\u001b[1m25/25\u001b[0m \u001b[32m━━━━━━━━━━━━━━━━━━━━\u001b[0m\u001b[37m\u001b[0m \u001b[1m0s\u001b[0m 10ms/step - custom_accuracy_without_padding: 0.6504 - custom_mse: 0.0334 - loss: 0.0350 - val_custom_accuracy_without_padding: 0.6453 - val_custom_mse: 0.0338 - val_loss: 0.0353 - learning_rate: 0.0010\n",
            "Epoch 130/500\n",
            "\u001b[1m25/25\u001b[0m \u001b[32m━━━━━━━━━━━━━━━━━━━━\u001b[0m\u001b[37m\u001b[0m \u001b[1m0s\u001b[0m 9ms/step - custom_accuracy_without_padding: 0.6476 - custom_mse: 0.0344 - loss: 0.0360 - val_custom_accuracy_without_padding: 0.6453 - val_custom_mse: 0.0334 - val_loss: 0.0349 - learning_rate: 0.0010\n",
            "Epoch 131/500\n",
            "\u001b[1m25/25\u001b[0m \u001b[32m━━━━━━━━━━━━━━━━━━━━\u001b[0m\u001b[37m\u001b[0m \u001b[1m0s\u001b[0m 8ms/step - custom_accuracy_without_padding: 0.6448 - custom_mse: 0.0338 - loss: 0.0354 - val_custom_accuracy_without_padding: 0.6435 - val_custom_mse: 0.0344 - val_loss: 0.0358 - learning_rate: 0.0010\n",
            "Epoch 132/500\n",
            "\u001b[1m25/25\u001b[0m \u001b[32m━━━━━━━━━━━━━━━━━━━━\u001b[0m\u001b[37m\u001b[0m \u001b[1m0s\u001b[0m 8ms/step - custom_accuracy_without_padding: 0.6476 - custom_mse: 0.0344 - loss: 0.0360 - val_custom_accuracy_without_padding: 0.6404 - val_custom_mse: 0.0341 - val_loss: 0.0356 - learning_rate: 0.0010\n",
            "Epoch 133/500\n",
            "\u001b[1m25/25\u001b[0m \u001b[32m━━━━━━━━━━━━━━━━━━━━\u001b[0m\u001b[37m\u001b[0m \u001b[1m0s\u001b[0m 10ms/step - custom_accuracy_without_padding: 0.6466 - custom_mse: 0.0336 - loss: 0.0352 - val_custom_accuracy_without_padding: 0.6458 - val_custom_mse: 0.0334 - val_loss: 0.0348 - learning_rate: 0.0010\n",
            "Epoch 134/500\n",
            "\u001b[1m25/25\u001b[0m \u001b[32m━━━━━━━━━━━━━━━━━━━━\u001b[0m\u001b[37m\u001b[0m \u001b[1m0s\u001b[0m 11ms/step - custom_accuracy_without_padding: 0.6404 - custom_mse: 0.0337 - loss: 0.0353 - val_custom_accuracy_without_padding: 0.6438 - val_custom_mse: 0.0331 - val_loss: 0.0346 - learning_rate: 0.0010\n",
            "Epoch 135/500\n",
            "\u001b[1m25/25\u001b[0m \u001b[32m━━━━━━━━━━━━━━━━━━━━\u001b[0m\u001b[37m\u001b[0m \u001b[1m0s\u001b[0m 12ms/step - custom_accuracy_without_padding: 0.6427 - custom_mse: 0.0333 - loss: 0.0349 - val_custom_accuracy_without_padding: 0.6438 - val_custom_mse: 0.0335 - val_loss: 0.0349 - learning_rate: 0.0010\n",
            "Epoch 136/500\n",
            "\u001b[1m25/25\u001b[0m \u001b[32m━━━━━━━━━━━━━━━━━━━━\u001b[0m\u001b[37m\u001b[0m \u001b[1m1s\u001b[0m 11ms/step - custom_accuracy_without_padding: 0.6445 - custom_mse: 0.0332 - loss: 0.0347 - val_custom_accuracy_without_padding: 0.6460 - val_custom_mse: 0.0328 - val_loss: 0.0342 - learning_rate: 0.0010\n",
            "Epoch 137/500\n",
            "\u001b[1m25/25\u001b[0m \u001b[32m━━━━━━━━━━━━━━━━━━━━\u001b[0m\u001b[37m\u001b[0m \u001b[1m1s\u001b[0m 13ms/step - custom_accuracy_without_padding: 0.6474 - custom_mse: 0.0325 - loss: 0.0340 - val_custom_accuracy_without_padding: 0.6419 - val_custom_mse: 0.0330 - val_loss: 0.0345 - learning_rate: 0.0010\n",
            "Epoch 138/500\n",
            "\u001b[1m25/25\u001b[0m \u001b[32m━━━━━━━━━━━━━━━━━━━━\u001b[0m\u001b[37m\u001b[0m \u001b[1m0s\u001b[0m 11ms/step - custom_accuracy_without_padding: 0.6435 - custom_mse: 0.0328 - loss: 0.0343 - val_custom_accuracy_without_padding: 0.6452 - val_custom_mse: 0.0326 - val_loss: 0.0341 - learning_rate: 0.0010\n",
            "Epoch 139/500\n",
            "\u001b[1m25/25\u001b[0m \u001b[32m━━━━━━━━━━━━━━━━━━━━\u001b[0m\u001b[37m\u001b[0m \u001b[1m0s\u001b[0m 9ms/step - custom_accuracy_without_padding: 0.6413 - custom_mse: 0.0334 - loss: 0.0349 - val_custom_accuracy_without_padding: 0.6417 - val_custom_mse: 0.0324 - val_loss: 0.0338 - learning_rate: 0.0010\n",
            "Epoch 140/500\n",
            "\u001b[1m25/25\u001b[0m \u001b[32m━━━━━━━━━━━━━━━━━━━━\u001b[0m\u001b[37m\u001b[0m \u001b[1m0s\u001b[0m 8ms/step - custom_accuracy_without_padding: 0.6414 - custom_mse: 0.0321 - loss: 0.0336 - val_custom_accuracy_without_padding: 0.6412 - val_custom_mse: 0.0324 - val_loss: 0.0339 - learning_rate: 0.0010\n",
            "Epoch 141/500\n",
            "\u001b[1m25/25\u001b[0m \u001b[32m━━━━━━━━━━━━━━━━━━━━\u001b[0m\u001b[37m\u001b[0m \u001b[1m0s\u001b[0m 10ms/step - custom_accuracy_without_padding: 0.6465 - custom_mse: 0.0328 - loss: 0.0343 - val_custom_accuracy_without_padding: 0.6396 - val_custom_mse: 0.0325 - val_loss: 0.0338 - learning_rate: 0.0010\n",
            "Epoch 142/500\n",
            "\u001b[1m25/25\u001b[0m \u001b[32m━━━━━━━━━━━━━━━━━━━━\u001b[0m\u001b[37m\u001b[0m \u001b[1m0s\u001b[0m 9ms/step - custom_accuracy_without_padding: 0.6448 - custom_mse: 0.0325 - loss: 0.0340 - val_custom_accuracy_without_padding: 0.6452 - val_custom_mse: 0.0321 - val_loss: 0.0334 - learning_rate: 0.0010\n",
            "Epoch 143/500\n",
            "\u001b[1m25/25\u001b[0m \u001b[32m━━━━━━━━━━━━━━━━━━━━\u001b[0m\u001b[37m\u001b[0m \u001b[1m0s\u001b[0m 10ms/step - custom_accuracy_without_padding: 0.6491 - custom_mse: 0.0316 - loss: 0.0331 - val_custom_accuracy_without_padding: 0.6354 - val_custom_mse: 0.0319 - val_loss: 0.0334 - learning_rate: 0.0010\n",
            "Epoch 144/500\n",
            "\u001b[1m25/25\u001b[0m \u001b[32m━━━━━━━━━━━━━━━━━━━━\u001b[0m\u001b[37m\u001b[0m \u001b[1m0s\u001b[0m 8ms/step - custom_accuracy_without_padding: 0.6433 - custom_mse: 0.0322 - loss: 0.0337 - val_custom_accuracy_without_padding: 0.6402 - val_custom_mse: 0.0319 - val_loss: 0.0335 - learning_rate: 0.0010\n",
            "Epoch 145/500\n",
            "\u001b[1m25/25\u001b[0m \u001b[32m━━━━━━━━━━━━━━━━━━━━\u001b[0m\u001b[37m\u001b[0m \u001b[1m0s\u001b[0m 9ms/step - custom_accuracy_without_padding: 0.6387 - custom_mse: 0.0320 - loss: 0.0335 - val_custom_accuracy_without_padding: 0.6308 - val_custom_mse: 0.0316 - val_loss: 0.0330 - learning_rate: 0.0010\n",
            "Epoch 146/500\n",
            "\u001b[1m25/25\u001b[0m \u001b[32m━━━━━━━━━━━━━━━━━━━━\u001b[0m\u001b[37m\u001b[0m \u001b[1m0s\u001b[0m 9ms/step - custom_accuracy_without_padding: 0.6471 - custom_mse: 0.0322 - loss: 0.0336 - val_custom_accuracy_without_padding: 0.6445 - val_custom_mse: 0.0327 - val_loss: 0.0343 - learning_rate: 0.0010\n",
            "Epoch 147/500\n",
            "\u001b[1m25/25\u001b[0m \u001b[32m━━━━━━━━━━━━━━━━━━━━\u001b[0m\u001b[37m\u001b[0m \u001b[1m0s\u001b[0m 10ms/step - custom_accuracy_without_padding: 0.6457 - custom_mse: 0.0324 - loss: 0.0338 - val_custom_accuracy_without_padding: 0.6452 - val_custom_mse: 0.0314 - val_loss: 0.0329 - learning_rate: 0.0010\n",
            "Epoch 148/500\n",
            "\u001b[1m25/25\u001b[0m \u001b[32m━━━━━━━━━━━━━━━━━━━━\u001b[0m\u001b[37m\u001b[0m \u001b[1m0s\u001b[0m 10ms/step - custom_accuracy_without_padding: 0.6487 - custom_mse: 0.0313 - loss: 0.0328 - val_custom_accuracy_without_padding: 0.6410 - val_custom_mse: 0.0315 - val_loss: 0.0328 - learning_rate: 0.0010\n",
            "Epoch 149/500\n",
            "\u001b[1m25/25\u001b[0m \u001b[32m━━━━━━━━━━━━━━━━━━━━\u001b[0m\u001b[37m\u001b[0m \u001b[1m0s\u001b[0m 10ms/step - custom_accuracy_without_padding: 0.6491 - custom_mse: 0.0318 - loss: 0.0333 - val_custom_accuracy_without_padding: 0.6526 - val_custom_mse: 0.0308 - val_loss: 0.0322 - learning_rate: 0.0010\n",
            "Epoch 150/500\n",
            "\u001b[1m25/25\u001b[0m \u001b[32m━━━━━━━━━━━━━━━━━━━━\u001b[0m\u001b[37m\u001b[0m \u001b[1m0s\u001b[0m 9ms/step - custom_accuracy_without_padding: 0.6542 - custom_mse: 0.0311 - loss: 0.0325 - val_custom_accuracy_without_padding: 0.6458 - val_custom_mse: 0.0312 - val_loss: 0.0324 - learning_rate: 0.0010\n",
            "Epoch 151/500\n",
            "\u001b[1m25/25\u001b[0m \u001b[32m━━━━━━━━━━━━━━━━━━━━\u001b[0m\u001b[37m\u001b[0m \u001b[1m0s\u001b[0m 8ms/step - custom_accuracy_without_padding: 0.6463 - custom_mse: 0.0312 - loss: 0.0326 - val_custom_accuracy_without_padding: 0.6268 - val_custom_mse: 0.0312 - val_loss: 0.0326 - learning_rate: 0.0010\n",
            "Epoch 152/500\n",
            "\u001b[1m25/25\u001b[0m \u001b[32m━━━━━━━━━━━━━━━━━━━━\u001b[0m\u001b[37m\u001b[0m \u001b[1m0s\u001b[0m 8ms/step - custom_accuracy_without_padding: 0.6348 - custom_mse: 0.0316 - loss: 0.0330 - val_custom_accuracy_without_padding: 0.6625 - val_custom_mse: 0.0313 - val_loss: 0.0328 - learning_rate: 0.0010\n",
            "Epoch 153/500\n",
            "\u001b[1m25/25\u001b[0m \u001b[32m━━━━━━━━━━━━━━━━━━━━\u001b[0m\u001b[37m\u001b[0m \u001b[1m0s\u001b[0m 9ms/step - custom_accuracy_without_padding: 0.6545 - custom_mse: 0.0316 - loss: 0.0330 - val_custom_accuracy_without_padding: 0.6591 - val_custom_mse: 0.0299 - val_loss: 0.0313 - learning_rate: 0.0010\n",
            "Epoch 154/500\n",
            "\u001b[1m25/25\u001b[0m \u001b[32m━━━━━━━━━━━━━━━━━━━━\u001b[0m\u001b[37m\u001b[0m \u001b[1m0s\u001b[0m 8ms/step - custom_accuracy_without_padding: 0.6585 - custom_mse: 0.0308 - loss: 0.0322 - val_custom_accuracy_without_padding: 0.6581 - val_custom_mse: 0.0299 - val_loss: 0.0313 - learning_rate: 0.0010\n",
            "Epoch 155/500\n",
            "\u001b[1m25/25\u001b[0m \u001b[32m━━━━━━━━━━━━━━━━━━━━\u001b[0m\u001b[37m\u001b[0m \u001b[1m0s\u001b[0m 8ms/step - custom_accuracy_without_padding: 0.6573 - custom_mse: 0.0307 - loss: 0.0321 - val_custom_accuracy_without_padding: 0.6622 - val_custom_mse: 0.0299 - val_loss: 0.0313 - learning_rate: 0.0010\n",
            "Epoch 156/500\n",
            "\u001b[1m25/25\u001b[0m \u001b[32m━━━━━━━━━━━━━━━━━━━━\u001b[0m\u001b[37m\u001b[0m \u001b[1m0s\u001b[0m 8ms/step - custom_accuracy_without_padding: 0.6641 - custom_mse: 0.0305 - loss: 0.0319 - val_custom_accuracy_without_padding: 0.6610 - val_custom_mse: 0.0307 - val_loss: 0.0322 - learning_rate: 0.0010\n",
            "Epoch 157/500\n",
            "\u001b[1m25/25\u001b[0m \u001b[32m━━━━━━━━━━━━━━━━━━━━\u001b[0m\u001b[37m\u001b[0m \u001b[1m0s\u001b[0m 9ms/step - custom_accuracy_without_padding: 0.6618 - custom_mse: 0.0304 - loss: 0.0318 - val_custom_accuracy_without_padding: 0.6648 - val_custom_mse: 0.0296 - val_loss: 0.0310 - learning_rate: 0.0010\n",
            "Epoch 158/500\n",
            "\u001b[1m25/25\u001b[0m \u001b[32m━━━━━━━━━━━━━━━━━━━━\u001b[0m\u001b[37m\u001b[0m \u001b[1m0s\u001b[0m 8ms/step - custom_accuracy_without_padding: 0.6702 - custom_mse: 0.0298 - loss: 0.0312 - val_custom_accuracy_without_padding: 0.6713 - val_custom_mse: 0.0298 - val_loss: 0.0312 - learning_rate: 0.0010\n",
            "Epoch 159/500\n",
            "\u001b[1m25/25\u001b[0m \u001b[32m━━━━━━━━━━━━━━━━━━━━\u001b[0m\u001b[37m\u001b[0m \u001b[1m0s\u001b[0m 9ms/step - custom_accuracy_without_padding: 0.6704 - custom_mse: 0.0298 - loss: 0.0312 - val_custom_accuracy_without_padding: 0.6693 - val_custom_mse: 0.0294 - val_loss: 0.0308 - learning_rate: 0.0010\n",
            "Epoch 160/500\n",
            "\u001b[1m25/25\u001b[0m \u001b[32m━━━━━━━━━━━━━━━━━━━━\u001b[0m\u001b[37m\u001b[0m \u001b[1m0s\u001b[0m 9ms/step - custom_accuracy_without_padding: 0.6682 - custom_mse: 0.0298 - loss: 0.0311 - val_custom_accuracy_without_padding: 0.6554 - val_custom_mse: 0.0294 - val_loss: 0.0309 - learning_rate: 0.0010\n",
            "Epoch 161/500\n",
            "\u001b[1m25/25\u001b[0m \u001b[32m━━━━━━━━━━━━━━━━━━━━\u001b[0m\u001b[37m\u001b[0m \u001b[1m0s\u001b[0m 10ms/step - custom_accuracy_without_padding: 0.6725 - custom_mse: 0.0300 - loss: 0.0314 - val_custom_accuracy_without_padding: 0.6754 - val_custom_mse: 0.0294 - val_loss: 0.0308 - learning_rate: 0.0010\n",
            "Epoch 162/500\n",
            "\u001b[1m25/25\u001b[0m \u001b[32m━━━━━━━━━━━━━━━━━━━━\u001b[0m\u001b[37m\u001b[0m \u001b[1m0s\u001b[0m 10ms/step - custom_accuracy_without_padding: 0.6696 - custom_mse: 0.0300 - loss: 0.0314 - val_custom_accuracy_without_padding: 0.6693 - val_custom_mse: 0.0291 - val_loss: 0.0306 - learning_rate: 0.0010\n",
            "Epoch 163/500\n",
            "\u001b[1m25/25\u001b[0m \u001b[32m━━━━━━━━━━━━━━━━━━━━\u001b[0m\u001b[37m\u001b[0m \u001b[1m0s\u001b[0m 8ms/step - custom_accuracy_without_padding: 0.6777 - custom_mse: 0.0293 - loss: 0.0307 - val_custom_accuracy_without_padding: 0.6541 - val_custom_mse: 0.0306 - val_loss: 0.0323 - learning_rate: 0.0010\n",
            "Epoch 164/500\n",
            "\u001b[1m25/25\u001b[0m \u001b[32m━━━━━━━━━━━━━━━━━━━━\u001b[0m\u001b[37m\u001b[0m \u001b[1m0s\u001b[0m 9ms/step - custom_accuracy_without_padding: 0.6691 - custom_mse: 0.0301 - loss: 0.0315 - val_custom_accuracy_without_padding: 0.6786 - val_custom_mse: 0.0291 - val_loss: 0.0305 - learning_rate: 0.0010\n",
            "Epoch 165/500\n",
            "\u001b[1m25/25\u001b[0m \u001b[32m━━━━━━━━━━━━━━━━━━━━\u001b[0m\u001b[37m\u001b[0m \u001b[1m0s\u001b[0m 9ms/step - custom_accuracy_without_padding: 0.6726 - custom_mse: 0.0296 - loss: 0.0310 - val_custom_accuracy_without_padding: 0.6728 - val_custom_mse: 0.0287 - val_loss: 0.0302 - learning_rate: 0.0010\n",
            "Epoch 166/500\n",
            "\u001b[1m25/25\u001b[0m \u001b[32m━━━━━━━━━━━━━━━━━━━━\u001b[0m\u001b[37m\u001b[0m \u001b[1m0s\u001b[0m 8ms/step - custom_accuracy_without_padding: 0.6737 - custom_mse: 0.0297 - loss: 0.0311 - val_custom_accuracy_without_padding: 0.6749 - val_custom_mse: 0.0289 - val_loss: 0.0303 - learning_rate: 0.0010\n",
            "Epoch 167/500\n",
            "\u001b[1m25/25\u001b[0m \u001b[32m━━━━━━━━━━━━━━━━━━━━\u001b[0m\u001b[37m\u001b[0m \u001b[1m0s\u001b[0m 8ms/step - custom_accuracy_without_padding: 0.6805 - custom_mse: 0.0294 - loss: 0.0307 - val_custom_accuracy_without_padding: 0.6779 - val_custom_mse: 0.0289 - val_loss: 0.0302 - learning_rate: 0.0010\n",
            "Epoch 168/500\n",
            "\u001b[1m25/25\u001b[0m \u001b[32m━━━━━━━━━━━━━━━━━━━━\u001b[0m\u001b[37m\u001b[0m \u001b[1m0s\u001b[0m 8ms/step - custom_accuracy_without_padding: 0.6756 - custom_mse: 0.0296 - loss: 0.0310 - val_custom_accuracy_without_padding: 0.6647 - val_custom_mse: 0.0301 - val_loss: 0.0314 - learning_rate: 0.0010\n",
            "Epoch 169/500\n",
            "\u001b[1m25/25\u001b[0m \u001b[32m━━━━━━━━━━━━━━━━━━━━\u001b[0m\u001b[37m\u001b[0m \u001b[1m0s\u001b[0m 8ms/step - custom_accuracy_without_padding: 0.6696 - custom_mse: 0.0300 - loss: 0.0314 - val_custom_accuracy_without_padding: 0.6964 - val_custom_mse: 0.0287 - val_loss: 0.0302 - learning_rate: 0.0010\n",
            "Epoch 170/500\n",
            "\u001b[1m20/25\u001b[0m \u001b[32m━━━━━━━━━━━━━━━━\u001b[0m\u001b[37m━━━━\u001b[0m \u001b[1m0s\u001b[0m 5ms/step - custom_accuracy_without_padding: 0.6882 - custom_mse: 0.0291 - loss: 0.0305\n",
            "Epoch 170: ReduceLROnPlateau reducing learning rate to 0.0005000000237487257.\n",
            "\u001b[1m25/25\u001b[0m \u001b[32m━━━━━━━━━━━━━━━━━━━━\u001b[0m\u001b[37m\u001b[0m \u001b[1m0s\u001b[0m 10ms/step - custom_accuracy_without_padding: 0.6876 - custom_mse: 0.0291 - loss: 0.0305 - val_custom_accuracy_without_padding: 0.6850 - val_custom_mse: 0.0287 - val_loss: 0.0301 - learning_rate: 0.0010\n",
            "Epoch 171/500\n",
            "\u001b[1m25/25\u001b[0m \u001b[32m━━━━━━━━━━━━━━━━━━━━\u001b[0m\u001b[37m\u001b[0m \u001b[1m0s\u001b[0m 9ms/step - custom_accuracy_without_padding: 0.6956 - custom_mse: 0.0291 - loss: 0.0305 - val_custom_accuracy_without_padding: 0.6923 - val_custom_mse: 0.0289 - val_loss: 0.0302 - learning_rate: 5.0000e-04\n",
            "Epoch 172/500\n",
            "\u001b[1m25/25\u001b[0m \u001b[32m━━━━━━━━━━━━━━━━━━━━\u001b[0m\u001b[37m\u001b[0m \u001b[1m0s\u001b[0m 9ms/step - custom_accuracy_without_padding: 0.7006 - custom_mse: 0.0283 - loss: 0.0297 - val_custom_accuracy_without_padding: 0.7029 - val_custom_mse: 0.0278 - val_loss: 0.0293 - learning_rate: 5.0000e-04\n",
            "Epoch 173/500\n",
            "\u001b[1m25/25\u001b[0m \u001b[32m━━━━━━━━━━━━━━━━━━━━\u001b[0m\u001b[37m\u001b[0m \u001b[1m0s\u001b[0m 8ms/step - custom_accuracy_without_padding: 0.6998 - custom_mse: 0.0283 - loss: 0.0297 - val_custom_accuracy_without_padding: 0.7002 - val_custom_mse: 0.0280 - val_loss: 0.0293 - learning_rate: 5.0000e-04\n",
            "Epoch 174/500\n",
            "\u001b[1m25/25\u001b[0m \u001b[32m━━━━━━━━━━━━━━━━━━━━\u001b[0m\u001b[37m\u001b[0m \u001b[1m0s\u001b[0m 10ms/step - custom_accuracy_without_padding: 0.7048 - custom_mse: 0.0280 - loss: 0.0294 - val_custom_accuracy_without_padding: 0.7032 - val_custom_mse: 0.0280 - val_loss: 0.0293 - learning_rate: 5.0000e-04\n",
            "Epoch 175/500\n",
            "\u001b[1m25/25\u001b[0m \u001b[32m━━━━━━━━━━━━━━━━━━━━\u001b[0m\u001b[37m\u001b[0m \u001b[1m0s\u001b[0m 14ms/step - custom_accuracy_without_padding: 0.7026 - custom_mse: 0.0283 - loss: 0.0297 - val_custom_accuracy_without_padding: 0.6978 - val_custom_mse: 0.0278 - val_loss: 0.0292 - learning_rate: 5.0000e-04\n",
            "Epoch 176/500\n",
            "\u001b[1m25/25\u001b[0m \u001b[32m━━━━━━━━━━━━━━━━━━━━\u001b[0m\u001b[37m\u001b[0m \u001b[1m1s\u001b[0m 14ms/step - custom_accuracy_without_padding: 0.7072 - custom_mse: 0.0279 - loss: 0.0293 - val_custom_accuracy_without_padding: 0.7062 - val_custom_mse: 0.0280 - val_loss: 0.0294 - learning_rate: 5.0000e-04\n",
            "Epoch 177/500\n",
            "\u001b[1m22/25\u001b[0m \u001b[32m━━━━━━━━━━━━━━━━━\u001b[0m\u001b[37m━━━\u001b[0m \u001b[1m0s\u001b[0m 7ms/step - custom_accuracy_without_padding: 0.7027 - custom_mse: 0.0283 - loss: 0.0297\n",
            "Epoch 177: ReduceLROnPlateau reducing learning rate to 0.0002500000118743628.\n",
            "\u001b[1m25/25\u001b[0m \u001b[32m━━━━━━━━━━━━━━━━━━━━\u001b[0m\u001b[37m\u001b[0m \u001b[1m1s\u001b[0m 14ms/step - custom_accuracy_without_padding: 0.7028 - custom_mse: 0.0283 - loss: 0.0297 - val_custom_accuracy_without_padding: 0.6966 - val_custom_mse: 0.0277 - val_loss: 0.0292 - learning_rate: 5.0000e-04\n",
            "Epoch 178/500\n",
            "\u001b[1m25/25\u001b[0m \u001b[32m━━━━━━━━━━━━━━━━━━━━\u001b[0m\u001b[37m\u001b[0m \u001b[1m0s\u001b[0m 15ms/step - custom_accuracy_without_padding: 0.7061 - custom_mse: 0.0280 - loss: 0.0294 - val_custom_accuracy_without_padding: 0.7093 - val_custom_mse: 0.0275 - val_loss: 0.0288 - learning_rate: 2.5000e-04\n",
            "Epoch 179/500\n",
            "\u001b[1m25/25\u001b[0m \u001b[32m━━━━━━━━━━━━━━━━━━━━\u001b[0m\u001b[37m\u001b[0m \u001b[1m0s\u001b[0m 10ms/step - custom_accuracy_without_padding: 0.7087 - custom_mse: 0.0280 - loss: 0.0294 - val_custom_accuracy_without_padding: 0.7072 - val_custom_mse: 0.0275 - val_loss: 0.0288 - learning_rate: 2.5000e-04\n",
            "Epoch 180/500\n",
            "\u001b[1m25/25\u001b[0m \u001b[32m━━━━━━━━━━━━━━━━━━━━\u001b[0m\u001b[37m\u001b[0m \u001b[1m0s\u001b[0m 8ms/step - custom_accuracy_without_padding: 0.7083 - custom_mse: 0.0279 - loss: 0.0293 - val_custom_accuracy_without_padding: 0.7072 - val_custom_mse: 0.0275 - val_loss: 0.0289 - learning_rate: 2.5000e-04\n",
            "Epoch 181/500\n",
            "\u001b[1m25/25\u001b[0m \u001b[32m━━━━━━━━━━━━━━━━━━━━\u001b[0m\u001b[37m\u001b[0m \u001b[1m0s\u001b[0m 10ms/step - custom_accuracy_without_padding: 0.7066 - custom_mse: 0.0280 - loss: 0.0294 - val_custom_accuracy_without_padding: 0.7060 - val_custom_mse: 0.0274 - val_loss: 0.0288 - learning_rate: 2.5000e-04\n",
            "Epoch 182/500\n",
            "\u001b[1m25/25\u001b[0m \u001b[32m━━━━━━━━━━━━━━━━━━━━\u001b[0m\u001b[37m\u001b[0m \u001b[1m0s\u001b[0m 9ms/step - custom_accuracy_without_padding: 0.7110 - custom_mse: 0.0276 - loss: 0.0289 - val_custom_accuracy_without_padding: 0.7034 - val_custom_mse: 0.0274 - val_loss: 0.0289 - learning_rate: 2.5000e-04\n",
            "Epoch 183/500\n",
            "\u001b[1m23/25\u001b[0m \u001b[32m━━━━━━━━━━━━━━━━━━\u001b[0m\u001b[37m━━\u001b[0m \u001b[1m0s\u001b[0m 5ms/step - custom_accuracy_without_padding: 0.7070 - custom_mse: 0.0276 - loss: 0.0289\n",
            "Epoch 183: ReduceLROnPlateau reducing learning rate to 0.0001250000059371814.\n",
            "\u001b[1m25/25\u001b[0m \u001b[32m━━━━━━━━━━━━━━━━━━━━\u001b[0m\u001b[37m\u001b[0m \u001b[1m0s\u001b[0m 9ms/step - custom_accuracy_without_padding: 0.7071 - custom_mse: 0.0276 - loss: 0.0289 - val_custom_accuracy_without_padding: 0.7085 - val_custom_mse: 0.0274 - val_loss: 0.0288 - learning_rate: 2.5000e-04\n",
            "Epoch 184/500\n",
            "\u001b[1m25/25\u001b[0m \u001b[32m━━━━━━━━━━━━━━━━━━━━\u001b[0m\u001b[37m\u001b[0m \u001b[1m0s\u001b[0m 9ms/step - custom_accuracy_without_padding: 0.7111 - custom_mse: 0.0279 - loss: 0.0293 - val_custom_accuracy_without_padding: 0.7108 - val_custom_mse: 0.0273 - val_loss: 0.0287 - learning_rate: 1.2500e-04\n",
            "Epoch 185/500\n",
            "\u001b[1m25/25\u001b[0m \u001b[32m━━━━━━━━━━━━━━━━━━━━\u001b[0m\u001b[37m\u001b[0m \u001b[1m0s\u001b[0m 9ms/step - custom_accuracy_without_padding: 0.7112 - custom_mse: 0.0272 - loss: 0.0286 - val_custom_accuracy_without_padding: 0.7090 - val_custom_mse: 0.0272 - val_loss: 0.0286 - learning_rate: 1.2500e-04\n",
            "Epoch 186/500\n",
            "\u001b[1m25/25\u001b[0m \u001b[32m━━━━━━━━━━━━━━━━━━━━\u001b[0m\u001b[37m\u001b[0m \u001b[1m0s\u001b[0m 10ms/step - custom_accuracy_without_padding: 0.7128 - custom_mse: 0.0271 - loss: 0.0284 - val_custom_accuracy_without_padding: 0.7083 - val_custom_mse: 0.0272 - val_loss: 0.0286 - learning_rate: 1.2500e-04\n",
            "Epoch 187/500\n",
            "\u001b[1m25/25\u001b[0m \u001b[32m━━━━━━━━━━━━━━━━━━━━\u001b[0m\u001b[37m\u001b[0m \u001b[1m0s\u001b[0m 8ms/step - custom_accuracy_without_padding: 0.7126 - custom_mse: 0.0274 - loss: 0.0287 - val_custom_accuracy_without_padding: 0.7083 - val_custom_mse: 0.0273 - val_loss: 0.0287 - learning_rate: 1.2500e-04\n",
            "Epoch 188/500\n",
            "\u001b[1m25/25\u001b[0m \u001b[32m━━━━━━━━━━━━━━━━━━━━\u001b[0m\u001b[37m\u001b[0m \u001b[1m0s\u001b[0m 8ms/step - custom_accuracy_without_padding: 0.7112 - custom_mse: 0.0281 - loss: 0.0295 - val_custom_accuracy_without_padding: 0.7103 - val_custom_mse: 0.0272 - val_loss: 0.0286 - learning_rate: 1.2500e-04\n",
            "Epoch 189/500\n",
            "\u001b[1m25/25\u001b[0m \u001b[32m━━━━━━━━━━━━━━━━━━━━\u001b[0m\u001b[37m\u001b[0m \u001b[1m0s\u001b[0m 8ms/step - custom_accuracy_without_padding: 0.7127 - custom_mse: 0.0271 - loss: 0.0284 - val_custom_accuracy_without_padding: 0.7100 - val_custom_mse: 0.0272 - val_loss: 0.0286 - learning_rate: 1.2500e-04\n",
            "Epoch 190/500\n",
            "\u001b[1m25/25\u001b[0m \u001b[32m━━━━━━━━━━━━━━━━━━━━\u001b[0m\u001b[37m\u001b[0m \u001b[1m0s\u001b[0m 8ms/step - custom_accuracy_without_padding: 0.7123 - custom_mse: 0.0280 - loss: 0.0293 - val_custom_accuracy_without_padding: 0.7060 - val_custom_mse: 0.0271 - val_loss: 0.0286 - learning_rate: 1.2500e-04\n",
            "Epoch 191/500\n",
            "\u001b[1m24/25\u001b[0m \u001b[32m━━━━━━━━━━━━━━━━━━━\u001b[0m\u001b[37m━\u001b[0m \u001b[1m0s\u001b[0m 5ms/step - custom_accuracy_without_padding: 0.7110 - custom_mse: 0.0276 - loss: 0.0290\n",
            "Epoch 191: ReduceLROnPlateau reducing learning rate to 6.25000029685907e-05.\n",
            "\u001b[1m25/25\u001b[0m \u001b[32m━━━━━━━━━━━━━━━━━━━━\u001b[0m\u001b[37m\u001b[0m \u001b[1m0s\u001b[0m 9ms/step - custom_accuracy_without_padding: 0.7110 - custom_mse: 0.0276 - loss: 0.0290 - val_custom_accuracy_without_padding: 0.7097 - val_custom_mse: 0.0271 - val_loss: 0.0285 - learning_rate: 1.2500e-04\n",
            "Epoch 192/500\n",
            "\u001b[1m25/25\u001b[0m \u001b[32m━━━━━━━━━━━━━━━━━━━━\u001b[0m\u001b[37m\u001b[0m \u001b[1m0s\u001b[0m 9ms/step - custom_accuracy_without_padding: 0.7133 - custom_mse: 0.0274 - loss: 0.0288 - val_custom_accuracy_without_padding: 0.7070 - val_custom_mse: 0.0271 - val_loss: 0.0286 - learning_rate: 6.2500e-05\n",
            "Epoch 193/500\n",
            "\u001b[1m25/25\u001b[0m \u001b[32m━━━━━━━━━━━━━━━━━━━━\u001b[0m\u001b[37m\u001b[0m \u001b[1m0s\u001b[0m 9ms/step - custom_accuracy_without_padding: 0.7126 - custom_mse: 0.0273 - loss: 0.0286 - val_custom_accuracy_without_padding: 0.7072 - val_custom_mse: 0.0271 - val_loss: 0.0285 - learning_rate: 6.2500e-05\n",
            "Epoch 194/500\n",
            "\u001b[1m25/25\u001b[0m \u001b[32m━━━━━━━━━━━━━━━━━━━━\u001b[0m\u001b[37m\u001b[0m \u001b[1m0s\u001b[0m 8ms/step - custom_accuracy_without_padding: 0.7097 - custom_mse: 0.0276 - loss: 0.0290 - val_custom_accuracy_without_padding: 0.7070 - val_custom_mse: 0.0271 - val_loss: 0.0285 - learning_rate: 6.2500e-05\n",
            "Epoch 195/500\n",
            "\u001b[1m25/25\u001b[0m \u001b[32m━━━━━━━━━━━━━━━━━━━━\u001b[0m\u001b[37m\u001b[0m \u001b[1m0s\u001b[0m 9ms/step - custom_accuracy_without_padding: 0.7132 - custom_mse: 0.0273 - loss: 0.0286 - val_custom_accuracy_without_padding: 0.7067 - val_custom_mse: 0.0271 - val_loss: 0.0285 - learning_rate: 6.2500e-05\n",
            "Epoch 196/500\n",
            "\u001b[1m25/25\u001b[0m \u001b[32m━━━━━━━━━━━━━━━━━━━━\u001b[0m\u001b[37m\u001b[0m \u001b[1m0s\u001b[0m 10ms/step - custom_accuracy_without_padding: 0.7133 - custom_mse: 0.0273 - loss: 0.0287 - val_custom_accuracy_without_padding: 0.7073 - val_custom_mse: 0.0270 - val_loss: 0.0284 - learning_rate: 6.2500e-05\n",
            "Epoch 197/500\n",
            "\u001b[1m25/25\u001b[0m \u001b[32m━━━━━━━━━━━━━━━━━━━━\u001b[0m\u001b[37m\u001b[0m \u001b[1m0s\u001b[0m 8ms/step - custom_accuracy_without_padding: 0.7106 - custom_mse: 0.0272 - loss: 0.0285 - val_custom_accuracy_without_padding: 0.7077 - val_custom_mse: 0.0270 - val_loss: 0.0284 - learning_rate: 6.2500e-05\n",
            "Epoch 198/500\n",
            "\u001b[1m25/25\u001b[0m \u001b[32m━━━━━━━━━━━━━━━━━━━━\u001b[0m\u001b[37m\u001b[0m \u001b[1m0s\u001b[0m 8ms/step - custom_accuracy_without_padding: 0.7120 - custom_mse: 0.0267 - loss: 0.0280 - val_custom_accuracy_without_padding: 0.7092 - val_custom_mse: 0.0271 - val_loss: 0.0285 - learning_rate: 6.2500e-05\n",
            "Epoch 199/500\n",
            "\u001b[1m25/25\u001b[0m \u001b[32m━━━━━━━━━━━━━━━━━━━━\u001b[0m\u001b[37m\u001b[0m \u001b[1m0s\u001b[0m 9ms/step - custom_accuracy_without_padding: 0.7106 - custom_mse: 0.0275 - loss: 0.0289 - val_custom_accuracy_without_padding: 0.7068 - val_custom_mse: 0.0270 - val_loss: 0.0284 - learning_rate: 6.2500e-05\n",
            "Epoch 200/500\n",
            "\u001b[1m25/25\u001b[0m \u001b[32m━━━━━━━━━━━━━━━━━━━━\u001b[0m\u001b[37m\u001b[0m \u001b[1m0s\u001b[0m 10ms/step - custom_accuracy_without_padding: 0.7114 - custom_mse: 0.0270 - loss: 0.0283 - val_custom_accuracy_without_padding: 0.7085 - val_custom_mse: 0.0270 - val_loss: 0.0284 - learning_rate: 6.2500e-05\n",
            "Epoch 201/500\n",
            "\u001b[1m22/25\u001b[0m \u001b[32m━━━━━━━━━━━━━━━━━\u001b[0m\u001b[37m━━━\u001b[0m \u001b[1m0s\u001b[0m 5ms/step - custom_accuracy_without_padding: 0.7150 - custom_mse: 0.0270 - loss: 0.0284\n",
            "Epoch 201: ReduceLROnPlateau reducing learning rate to 3.125000148429535e-05.\n",
            "\u001b[1m25/25\u001b[0m \u001b[32m━━━━━━━━━━━━━━━━━━━━\u001b[0m\u001b[37m\u001b[0m \u001b[1m0s\u001b[0m 10ms/step - custom_accuracy_without_padding: 0.7146 - custom_mse: 0.0271 - loss: 0.0284 - val_custom_accuracy_without_padding: 0.7082 - val_custom_mse: 0.0270 - val_loss: 0.0284 - learning_rate: 6.2500e-05\n",
            "Epoch 202/500\n",
            "\u001b[1m25/25\u001b[0m \u001b[32m━━━━━━━━━━━━━━━━━━━━\u001b[0m\u001b[37m\u001b[0m \u001b[1m0s\u001b[0m 9ms/step - custom_accuracy_without_padding: 0.7108 - custom_mse: 0.0274 - loss: 0.0288 - val_custom_accuracy_without_padding: 0.7078 - val_custom_mse: 0.0270 - val_loss: 0.0284 - learning_rate: 3.1250e-05\n",
            "Epoch 203/500\n",
            "\u001b[1m25/25\u001b[0m \u001b[32m━━━━━━━━━━━━━━━━━━━━\u001b[0m\u001b[37m\u001b[0m \u001b[1m0s\u001b[0m 8ms/step - custom_accuracy_without_padding: 0.7099 - custom_mse: 0.0269 - loss: 0.0283 - val_custom_accuracy_without_padding: 0.7075 - val_custom_mse: 0.0270 - val_loss: 0.0284 - learning_rate: 3.1250e-05\n",
            "Epoch 204/500\n",
            "\u001b[1m25/25\u001b[0m \u001b[32m━━━━━━━━━━━━━━━━━━━━\u001b[0m\u001b[37m\u001b[0m \u001b[1m0s\u001b[0m 10ms/step - custom_accuracy_without_padding: 0.7127 - custom_mse: 0.0269 - loss: 0.0283 - val_custom_accuracy_without_padding: 0.7068 - val_custom_mse: 0.0270 - val_loss: 0.0284 - learning_rate: 3.1250e-05\n",
            "Epoch 205/500\n",
            "\u001b[1m25/25\u001b[0m \u001b[32m━━━━━━━━━━━━━━━━━━━━\u001b[0m\u001b[37m\u001b[0m \u001b[1m0s\u001b[0m 8ms/step - custom_accuracy_without_padding: 0.7112 - custom_mse: 0.0277 - loss: 0.0290 - val_custom_accuracy_without_padding: 0.7067 - val_custom_mse: 0.0270 - val_loss: 0.0284 - learning_rate: 3.1250e-05\n",
            "Epoch 206/500\n",
            "\u001b[1m22/25\u001b[0m \u001b[32m━━━━━━━━━━━━━━━━━\u001b[0m\u001b[37m━━━\u001b[0m \u001b[1m0s\u001b[0m 5ms/step - custom_accuracy_without_padding: 0.7109 - custom_mse: 0.0274 - loss: 0.0287\n",
            "Epoch 206: ReduceLROnPlateau reducing learning rate to 1.5625000742147677e-05.\n",
            "\u001b[1m25/25\u001b[0m \u001b[32m━━━━━━━━━━━━━━━━━━━━\u001b[0m\u001b[37m\u001b[0m \u001b[1m0s\u001b[0m 8ms/step - custom_accuracy_without_padding: 0.7108 - custom_mse: 0.0274 - loss: 0.0287 - val_custom_accuracy_without_padding: 0.7062 - val_custom_mse: 0.0270 - val_loss: 0.0284 - learning_rate: 3.1250e-05\n",
            "Epoch 207/500\n",
            "\u001b[1m25/25\u001b[0m \u001b[32m━━━━━━━━━━━━━━━━━━━━\u001b[0m\u001b[37m\u001b[0m \u001b[1m0s\u001b[0m 8ms/step - custom_accuracy_without_padding: 0.7103 - custom_mse: 0.0274 - loss: 0.0288 - val_custom_accuracy_without_padding: 0.7060 - val_custom_mse: 0.0270 - val_loss: 0.0284 - learning_rate: 1.5625e-05\n",
            "Epoch 208/500\n",
            "\u001b[1m25/25\u001b[0m \u001b[32m━━━━━━━━━━━━━━━━━━━━\u001b[0m\u001b[37m\u001b[0m \u001b[1m0s\u001b[0m 9ms/step - custom_accuracy_without_padding: 0.7088 - custom_mse: 0.0268 - loss: 0.0282 - val_custom_accuracy_without_padding: 0.7075 - val_custom_mse: 0.0270 - val_loss: 0.0284 - learning_rate: 1.5625e-05\n",
            "Epoch 209/500\n",
            "\u001b[1m25/25\u001b[0m \u001b[32m━━━━━━━━━━━━━━━━━━━━\u001b[0m\u001b[37m\u001b[0m \u001b[1m0s\u001b[0m 8ms/step - custom_accuracy_without_padding: 0.7113 - custom_mse: 0.0273 - loss: 0.0287 - val_custom_accuracy_without_padding: 0.7068 - val_custom_mse: 0.0270 - val_loss: 0.0284 - learning_rate: 1.5625e-05\n",
            "Epoch 210/500\n",
            "\u001b[1m25/25\u001b[0m \u001b[32m━━━━━━━━━━━━━━━━━━━━\u001b[0m\u001b[37m\u001b[0m \u001b[1m0s\u001b[0m 10ms/step - custom_accuracy_without_padding: 0.7091 - custom_mse: 0.0272 - loss: 0.0286 - val_custom_accuracy_without_padding: 0.7073 - val_custom_mse: 0.0270 - val_loss: 0.0284 - learning_rate: 1.5625e-05\n",
            "Epoch 211/500\n",
            "\u001b[1m22/25\u001b[0m \u001b[32m━━━━━━━━━━━━━━━━━\u001b[0m\u001b[37m━━━\u001b[0m \u001b[1m0s\u001b[0m 5ms/step - custom_accuracy_without_padding: 0.7093 - custom_mse: 0.0275 - loss: 0.0288\n",
            "Epoch 211: ReduceLROnPlateau reducing learning rate to 7.812500371073838e-06.\n",
            "\u001b[1m25/25\u001b[0m \u001b[32m━━━━━━━━━━━━━━━━━━━━\u001b[0m\u001b[37m\u001b[0m \u001b[1m0s\u001b[0m 8ms/step - custom_accuracy_without_padding: 0.7095 - custom_mse: 0.0274 - loss: 0.0288 - val_custom_accuracy_without_padding: 0.7062 - val_custom_mse: 0.0270 - val_loss: 0.0284 - learning_rate: 1.5625e-05\n",
            "Epoch 212/500\n",
            "\u001b[1m25/25\u001b[0m \u001b[32m━━━━━━━━━━━━━━━━━━━━\u001b[0m\u001b[37m\u001b[0m \u001b[1m0s\u001b[0m 8ms/step - custom_accuracy_without_padding: 0.7124 - custom_mse: 0.0273 - loss: 0.0287 - val_custom_accuracy_without_padding: 0.7075 - val_custom_mse: 0.0270 - val_loss: 0.0284 - learning_rate: 7.8125e-06\n",
            "Epoch 213/500\n",
            "\u001b[1m25/25\u001b[0m \u001b[32m━━━━━━━━━━━━━━━━━━━━\u001b[0m\u001b[37m\u001b[0m \u001b[1m0s\u001b[0m 8ms/step - custom_accuracy_without_padding: 0.7120 - custom_mse: 0.0275 - loss: 0.0288 - val_custom_accuracy_without_padding: 0.7067 - val_custom_mse: 0.0270 - val_loss: 0.0284 - learning_rate: 7.8125e-06\n",
            "Epoch 214/500\n",
            "\u001b[1m25/25\u001b[0m \u001b[32m━━━━━━━━━━━━━━━━━━━━\u001b[0m\u001b[37m\u001b[0m \u001b[1m0s\u001b[0m 8ms/step - custom_accuracy_without_padding: 0.7108 - custom_mse: 0.0268 - loss: 0.0282 - val_custom_accuracy_without_padding: 0.7067 - val_custom_mse: 0.0270 - val_loss: 0.0284 - learning_rate: 7.8125e-06\n",
            "Epoch 215/500\n",
            "\u001b[1m25/25\u001b[0m \u001b[32m━━━━━━━━━━━━━━━━━━━━\u001b[0m\u001b[37m\u001b[0m \u001b[1m0s\u001b[0m 13ms/step - custom_accuracy_without_padding: 0.7115 - custom_mse: 0.0271 - loss: 0.0285 - val_custom_accuracy_without_padding: 0.7077 - val_custom_mse: 0.0270 - val_loss: 0.0284 - learning_rate: 7.8125e-06\n",
            "Epoch 216/500\n",
            "\u001b[1m21/25\u001b[0m \u001b[32m━━━━━━━━━━━━━━━━\u001b[0m\u001b[37m━━━━\u001b[0m \u001b[1m0s\u001b[0m 8ms/step - custom_accuracy_without_padding: 0.7120 - custom_mse: 0.0270 - loss: 0.0284\n",
            "Epoch 216: ReduceLROnPlateau reducing learning rate to 3.906250185536919e-06.\n",
            "\u001b[1m25/25\u001b[0m \u001b[32m━━━━━━━━━━━━━━━━━━━━\u001b[0m\u001b[37m\u001b[0m \u001b[1m0s\u001b[0m 12ms/step - custom_accuracy_without_padding: 0.7118 - custom_mse: 0.0270 - loss: 0.0284 - val_custom_accuracy_without_padding: 0.7065 - val_custom_mse: 0.0270 - val_loss: 0.0284 - learning_rate: 7.8125e-06\n",
            "Epoch 217/500\n",
            "\u001b[1m25/25\u001b[0m \u001b[32m━━━━━━━━━━━━━━━━━━━━\u001b[0m\u001b[37m\u001b[0m \u001b[1m1s\u001b[0m 17ms/step - custom_accuracy_without_padding: 0.7114 - custom_mse: 0.0271 - loss: 0.0285 - val_custom_accuracy_without_padding: 0.7063 - val_custom_mse: 0.0270 - val_loss: 0.0284 - learning_rate: 3.9063e-06\n",
            "Epoch 218/500\n",
            "\u001b[1m25/25\u001b[0m \u001b[32m━━━━━━━━━━━━━━━━━━━━\u001b[0m\u001b[37m\u001b[0m \u001b[1m1s\u001b[0m 13ms/step - custom_accuracy_without_padding: 0.7117 - custom_mse: 0.0270 - loss: 0.0284 - val_custom_accuracy_without_padding: 0.7067 - val_custom_mse: 0.0270 - val_loss: 0.0284 - learning_rate: 3.9063e-06\n",
            "Epoch 219/500\n",
            "\u001b[1m25/25\u001b[0m \u001b[32m━━━━━━━━━━━━━━━━━━━━\u001b[0m\u001b[37m\u001b[0m \u001b[1m1s\u001b[0m 9ms/step - custom_accuracy_without_padding: 0.7103 - custom_mse: 0.0270 - loss: 0.0283 - val_custom_accuracy_without_padding: 0.7065 - val_custom_mse: 0.0270 - val_loss: 0.0284 - learning_rate: 3.9063e-06\n",
            "Epoch 220/500\n",
            "\u001b[1m25/25\u001b[0m \u001b[32m━━━━━━━━━━━━━━━━━━━━\u001b[0m\u001b[37m\u001b[0m \u001b[1m0s\u001b[0m 9ms/step - custom_accuracy_without_padding: 0.7112 - custom_mse: 0.0274 - loss: 0.0288 - val_custom_accuracy_without_padding: 0.7063 - val_custom_mse: 0.0270 - val_loss: 0.0284 - learning_rate: 3.9063e-06\n",
            "Epoch 221/500\n",
            "\u001b[1m23/25\u001b[0m \u001b[32m━━━━━━━━━━━━━━━━━━\u001b[0m\u001b[37m━━\u001b[0m \u001b[1m0s\u001b[0m 5ms/step - custom_accuracy_without_padding: 0.7125 - custom_mse: 0.0275 - loss: 0.0288\n",
            "Epoch 221: ReduceLROnPlateau reducing learning rate to 1.9531250927684596e-06.\n",
            "\u001b[1m25/25\u001b[0m \u001b[32m━━━━━━━━━━━━━━━━━━━━\u001b[0m\u001b[37m\u001b[0m \u001b[1m0s\u001b[0m 9ms/step - custom_accuracy_without_padding: 0.7123 - custom_mse: 0.0274 - loss: 0.0288 - val_custom_accuracy_without_padding: 0.7067 - val_custom_mse: 0.0270 - val_loss: 0.0284 - learning_rate: 3.9063e-06\n",
            "Epoch 222/500\n",
            "\u001b[1m25/25\u001b[0m \u001b[32m━━━━━━━━━━━━━━━━━━━━\u001b[0m\u001b[37m\u001b[0m \u001b[1m0s\u001b[0m 8ms/step - custom_accuracy_without_padding: 0.7118 - custom_mse: 0.0271 - loss: 0.0284 - val_custom_accuracy_without_padding: 0.7068 - val_custom_mse: 0.0270 - val_loss: 0.0284 - learning_rate: 1.9531e-06\n",
            "Epoch 223/500\n",
            "\u001b[1m25/25\u001b[0m \u001b[32m━━━━━━━━━━━━━━━━━━━━\u001b[0m\u001b[37m\u001b[0m \u001b[1m0s\u001b[0m 8ms/step - custom_accuracy_without_padding: 0.7099 - custom_mse: 0.0273 - loss: 0.0286 - val_custom_accuracy_without_padding: 0.7065 - val_custom_mse: 0.0270 - val_loss: 0.0284 - learning_rate: 1.9531e-06\n",
            "Epoch 224/500\n",
            "\u001b[1m25/25\u001b[0m \u001b[32m━━━━━━━━━━━━━━━━━━━━\u001b[0m\u001b[37m\u001b[0m \u001b[1m0s\u001b[0m 8ms/step - custom_accuracy_without_padding: 0.7103 - custom_mse: 0.0273 - loss: 0.0286 - val_custom_accuracy_without_padding: 0.7068 - val_custom_mse: 0.0270 - val_loss: 0.0284 - learning_rate: 1.9531e-06\n",
            "Epoch 225/500\n",
            "\u001b[1m25/25\u001b[0m \u001b[32m━━━━━━━━━━━━━━━━━━━━\u001b[0m\u001b[37m\u001b[0m \u001b[1m0s\u001b[0m 10ms/step - custom_accuracy_without_padding: 0.7080 - custom_mse: 0.0275 - loss: 0.0288 - val_custom_accuracy_without_padding: 0.7067 - val_custom_mse: 0.0270 - val_loss: 0.0284 - learning_rate: 1.9531e-06\n",
            "Epoch 226/500\n",
            "\u001b[1m22/25\u001b[0m \u001b[32m━━━━━━━━━━━━━━━━━\u001b[0m\u001b[37m━━━\u001b[0m \u001b[1m0s\u001b[0m 5ms/step - custom_accuracy_without_padding: 0.7087 - custom_mse: 0.0275 - loss: 0.0288\n",
            "Epoch 226: ReduceLROnPlateau reducing learning rate to 9.765625463842298e-07.\n",
            "\u001b[1m25/25\u001b[0m \u001b[32m━━━━━━━━━━━━━━━━━━━━\u001b[0m\u001b[37m\u001b[0m \u001b[1m0s\u001b[0m 9ms/step - custom_accuracy_without_padding: 0.7090 - custom_mse: 0.0274 - loss: 0.0288 - val_custom_accuracy_without_padding: 0.7067 - val_custom_mse: 0.0270 - val_loss: 0.0284 - learning_rate: 1.9531e-06\n",
            "Epoch 227/500\n",
            "\u001b[1m25/25\u001b[0m \u001b[32m━━━━━━━━━━━━━━━━━━━━\u001b[0m\u001b[37m\u001b[0m \u001b[1m0s\u001b[0m 8ms/step - custom_accuracy_without_padding: 0.7101 - custom_mse: 0.0271 - loss: 0.0284 - val_custom_accuracy_without_padding: 0.7065 - val_custom_mse: 0.0270 - val_loss: 0.0284 - learning_rate: 9.7656e-07\n",
            "Epoch 228/500\n",
            "\u001b[1m25/25\u001b[0m \u001b[32m━━━━━━━━━━━━━━━━━━━━\u001b[0m\u001b[37m\u001b[0m \u001b[1m0s\u001b[0m 9ms/step - custom_accuracy_without_padding: 0.7094 - custom_mse: 0.0276 - loss: 0.0290 - val_custom_accuracy_without_padding: 0.7065 - val_custom_mse: 0.0270 - val_loss: 0.0284 - learning_rate: 9.7656e-07\n",
            "Epoch 229/500\n",
            "\u001b[1m25/25\u001b[0m \u001b[32m━━━━━━━━━━━━━━━━━━━━\u001b[0m\u001b[37m\u001b[0m \u001b[1m0s\u001b[0m 9ms/step - custom_accuracy_without_padding: 0.7117 - custom_mse: 0.0273 - loss: 0.0286 - val_custom_accuracy_without_padding: 0.7067 - val_custom_mse: 0.0270 - val_loss: 0.0284 - learning_rate: 9.7656e-07\n",
            "Epoch 230/500\n",
            "\u001b[1m25/25\u001b[0m \u001b[32m━━━━━━━━━━━━━━━━━━━━\u001b[0m\u001b[37m\u001b[0m \u001b[1m0s\u001b[0m 11ms/step - custom_accuracy_without_padding: 0.7096 - custom_mse: 0.0271 - loss: 0.0285 - val_custom_accuracy_without_padding: 0.7067 - val_custom_mse: 0.0270 - val_loss: 0.0284 - learning_rate: 9.7656e-07\n",
            "Epoch 231/500\n",
            "\u001b[1m23/25\u001b[0m \u001b[32m━━━━━━━━━━━━━━━━━━\u001b[0m\u001b[37m━━\u001b[0m \u001b[1m0s\u001b[0m 5ms/step - custom_accuracy_without_padding: 0.7120 - custom_mse: 0.0270 - loss: 0.0283\n",
            "Epoch 231: ReduceLROnPlateau reducing learning rate to 4.882812731921149e-07.\n",
            "\u001b[1m25/25\u001b[0m \u001b[32m━━━━━━━━━━━━━━━━━━━━\u001b[0m\u001b[37m\u001b[0m \u001b[1m0s\u001b[0m 9ms/step - custom_accuracy_without_padding: 0.7118 - custom_mse: 0.0270 - loss: 0.0283 - val_custom_accuracy_without_padding: 0.7065 - val_custom_mse: 0.0270 - val_loss: 0.0284 - learning_rate: 9.7656e-07\n",
            "Epoch 232/500\n",
            "\u001b[1m25/25\u001b[0m \u001b[32m━━━━━━━━━━━━━━━━━━━━\u001b[0m\u001b[37m\u001b[0m \u001b[1m0s\u001b[0m 9ms/step - custom_accuracy_without_padding: 0.7097 - custom_mse: 0.0273 - loss: 0.0287 - val_custom_accuracy_without_padding: 0.7068 - val_custom_mse: 0.0270 - val_loss: 0.0284 - learning_rate: 4.8828e-07\n",
            "Epoch 233/500\n",
            "\u001b[1m25/25\u001b[0m \u001b[32m━━━━━━━━━━━━━━━━━━━━\u001b[0m\u001b[37m\u001b[0m \u001b[1m0s\u001b[0m 8ms/step - custom_accuracy_without_padding: 0.7101 - custom_mse: 0.0272 - loss: 0.0285 - val_custom_accuracy_without_padding: 0.7063 - val_custom_mse: 0.0270 - val_loss: 0.0284 - learning_rate: 4.8828e-07\n",
            "Epoch 234/500\n",
            "\u001b[1m25/25\u001b[0m \u001b[32m━━━━━━━━━━━━━━━━━━━━\u001b[0m\u001b[37m\u001b[0m \u001b[1m0s\u001b[0m 8ms/step - custom_accuracy_without_padding: 0.7119 - custom_mse: 0.0271 - loss: 0.0284 - val_custom_accuracy_without_padding: 0.7065 - val_custom_mse: 0.0270 - val_loss: 0.0284 - learning_rate: 4.8828e-07\n",
            "Epoch 235/500\n",
            "\u001b[1m25/25\u001b[0m \u001b[32m━━━━━━━━━━━━━━━━━━━━\u001b[0m\u001b[37m\u001b[0m \u001b[1m0s\u001b[0m 9ms/step - custom_accuracy_without_padding: 0.7107 - custom_mse: 0.0269 - loss: 0.0282 - val_custom_accuracy_without_padding: 0.7065 - val_custom_mse: 0.0270 - val_loss: 0.0284 - learning_rate: 4.8828e-07\n",
            "Epoch 236/500\n",
            "\u001b[1m22/25\u001b[0m \u001b[32m━━━━━━━━━━━━━━━━━\u001b[0m\u001b[37m━━━\u001b[0m \u001b[1m0s\u001b[0m 5ms/step - custom_accuracy_without_padding: 0.7086 - custom_mse: 0.0270 - loss: 0.0284\n",
            "Epoch 236: ReduceLROnPlateau reducing learning rate to 2.4414063659605745e-07.\n",
            "\u001b[1m25/25\u001b[0m \u001b[32m━━━━━━━━━━━━━━━━━━━━\u001b[0m\u001b[37m\u001b[0m \u001b[1m0s\u001b[0m 8ms/step - custom_accuracy_without_padding: 0.7089 - custom_mse: 0.0271 - loss: 0.0284 - val_custom_accuracy_without_padding: 0.7065 - val_custom_mse: 0.0270 - val_loss: 0.0284 - learning_rate: 4.8828e-07\n",
            "Epoch 237/500\n",
            "\u001b[1m25/25\u001b[0m \u001b[32m━━━━━━━━━━━━━━━━━━━━\u001b[0m\u001b[37m\u001b[0m \u001b[1m0s\u001b[0m 8ms/step - custom_accuracy_without_padding: 0.7118 - custom_mse: 0.0272 - loss: 0.0286 - val_custom_accuracy_without_padding: 0.7065 - val_custom_mse: 0.0270 - val_loss: 0.0284 - learning_rate: 2.4414e-07\n",
            "Epoch 238/500\n",
            "\u001b[1m25/25\u001b[0m \u001b[32m━━━━━━━━━━━━━━━━━━━━\u001b[0m\u001b[37m\u001b[0m \u001b[1m0s\u001b[0m 10ms/step - custom_accuracy_without_padding: 0.7109 - custom_mse: 0.0269 - loss: 0.0282 - val_custom_accuracy_without_padding: 0.7065 - val_custom_mse: 0.0270 - val_loss: 0.0284 - learning_rate: 2.4414e-07\n",
            "Epoch 239/500\n",
            "\u001b[1m25/25\u001b[0m \u001b[32m━━━━━━━━━━━━━━━━━━━━\u001b[0m\u001b[37m\u001b[0m \u001b[1m0s\u001b[0m 8ms/step - custom_accuracy_without_padding: 0.7101 - custom_mse: 0.0275 - loss: 0.0288 - val_custom_accuracy_without_padding: 0.7065 - val_custom_mse: 0.0270 - val_loss: 0.0284 - learning_rate: 2.4414e-07\n",
            "Epoch 240/500\n",
            "\u001b[1m25/25\u001b[0m \u001b[32m━━━━━━━━━━━━━━━━━━━━\u001b[0m\u001b[37m\u001b[0m \u001b[1m0s\u001b[0m 9ms/step - custom_accuracy_without_padding: 0.7095 - custom_mse: 0.0270 - loss: 0.0283 - val_custom_accuracy_without_padding: 0.7065 - val_custom_mse: 0.0270 - val_loss: 0.0284 - learning_rate: 2.4414e-07\n",
            "Epoch 241/500\n",
            "\u001b[1m23/25\u001b[0m \u001b[32m━━━━━━━━━━━━━━━━━━\u001b[0m\u001b[37m━━\u001b[0m \u001b[1m0s\u001b[0m 5ms/step - custom_accuracy_without_padding: 0.7115 - custom_mse: 0.0272 - loss: 0.0285\n",
            "Epoch 241: ReduceLROnPlateau reducing learning rate to 1.2207031829802872e-07.\n",
            "\u001b[1m25/25\u001b[0m \u001b[32m━━━━━━━━━━━━━━━━━━━━\u001b[0m\u001b[37m\u001b[0m \u001b[1m0s\u001b[0m 9ms/step - custom_accuracy_without_padding: 0.7114 - custom_mse: 0.0272 - loss: 0.0285 - val_custom_accuracy_without_padding: 0.7065 - val_custom_mse: 0.0270 - val_loss: 0.0284 - learning_rate: 2.4414e-07\n",
            "Epoch 242/500\n",
            "\u001b[1m25/25\u001b[0m \u001b[32m━━━━━━━━━━━━━━━━━━━━\u001b[0m\u001b[37m\u001b[0m \u001b[1m0s\u001b[0m 10ms/step - custom_accuracy_without_padding: 0.7107 - custom_mse: 0.0267 - loss: 0.0281 - val_custom_accuracy_without_padding: 0.7065 - val_custom_mse: 0.0270 - val_loss: 0.0284 - learning_rate: 1.2207e-07\n",
            "Epoch 243/500\n",
            "\u001b[1m25/25\u001b[0m \u001b[32m━━━━━━━━━━━━━━━━━━━━\u001b[0m\u001b[37m\u001b[0m \u001b[1m0s\u001b[0m 8ms/step - custom_accuracy_without_padding: 0.7100 - custom_mse: 0.0272 - loss: 0.0285 - val_custom_accuracy_without_padding: 0.7065 - val_custom_mse: 0.0270 - val_loss: 0.0284 - learning_rate: 1.2207e-07\n",
            "Epoch 244/500\n",
            "\u001b[1m25/25\u001b[0m \u001b[32m━━━━━━━━━━━━━━━━━━━━\u001b[0m\u001b[37m\u001b[0m \u001b[1m0s\u001b[0m 8ms/step - custom_accuracy_without_padding: 0.7117 - custom_mse: 0.0268 - loss: 0.0282 - val_custom_accuracy_without_padding: 0.7065 - val_custom_mse: 0.0270 - val_loss: 0.0284 - learning_rate: 1.2207e-07\n",
            "Epoch 245/500\n",
            "\u001b[1m25/25\u001b[0m \u001b[32m━━━━━━━━━━━━━━━━━━━━\u001b[0m\u001b[37m\u001b[0m \u001b[1m0s\u001b[0m 9ms/step - custom_accuracy_without_padding: 0.7095 - custom_mse: 0.0273 - loss: 0.0287 - val_custom_accuracy_without_padding: 0.7065 - val_custom_mse: 0.0270 - val_loss: 0.0284 - learning_rate: 1.2207e-07\n",
            "Epoch 246/500\n",
            "\u001b[1m21/25\u001b[0m \u001b[32m━━━━━━━━━━━━━━━━\u001b[0m\u001b[37m━━━━\u001b[0m \u001b[1m0s\u001b[0m 5ms/step - custom_accuracy_without_padding: 0.7117 - custom_mse: 0.0270 - loss: 0.0284\n",
            "Epoch 246: ReduceLROnPlateau reducing learning rate to 1e-07.\n",
            "\u001b[1m25/25\u001b[0m \u001b[32m━━━━━━━━━━━━━━━━━━━━\u001b[0m\u001b[37m\u001b[0m \u001b[1m0s\u001b[0m 8ms/step - custom_accuracy_without_padding: 0.7115 - custom_mse: 0.0270 - loss: 0.0284 - val_custom_accuracy_without_padding: 0.7065 - val_custom_mse: 0.0270 - val_loss: 0.0284 - learning_rate: 1.2207e-07\n",
            "Epoch 247/500\n",
            "\u001b[1m25/25\u001b[0m \u001b[32m━━━━━━━━━━━━━━━━━━━━\u001b[0m\u001b[37m\u001b[0m \u001b[1m0s\u001b[0m 8ms/step - custom_accuracy_without_padding: 0.7101 - custom_mse: 0.0272 - loss: 0.0286 - val_custom_accuracy_without_padding: 0.7065 - val_custom_mse: 0.0270 - val_loss: 0.0284 - learning_rate: 1.0000e-07\n",
            "Epoch 248/500\n",
            "\u001b[1m25/25\u001b[0m \u001b[32m━━━━━━━━━━━━━━━━━━━━\u001b[0m\u001b[37m\u001b[0m \u001b[1m0s\u001b[0m 8ms/step - custom_accuracy_without_padding: 0.7124 - custom_mse: 0.0269 - loss: 0.0283 - val_custom_accuracy_without_padding: 0.7065 - val_custom_mse: 0.0270 - val_loss: 0.0284 - learning_rate: 1.0000e-07\n",
            "Epoch 249/500\n",
            "\u001b[1m25/25\u001b[0m \u001b[32m━━━━━━━━━━━━━━━━━━━━\u001b[0m\u001b[37m\u001b[0m \u001b[1m0s\u001b[0m 8ms/step - custom_accuracy_without_padding: 0.7107 - custom_mse: 0.0272 - loss: 0.0285 - val_custom_accuracy_without_padding: 0.7065 - val_custom_mse: 0.0270 - val_loss: 0.0284 - learning_rate: 1.0000e-07\n",
            "Epoch 250/500\n",
            "\u001b[1m25/25\u001b[0m \u001b[32m━━━━━━━━━━━━━━━━━━━━\u001b[0m\u001b[37m\u001b[0m \u001b[1m0s\u001b[0m 8ms/step - custom_accuracy_without_padding: 0.7114 - custom_mse: 0.0270 - loss: 0.0284 - val_custom_accuracy_without_padding: 0.7065 - val_custom_mse: 0.0270 - val_loss: 0.0284 - learning_rate: 1.0000e-07\n"
          ]
        }
      ],
      "source": [
        "from tensorflow.keras.callbacks import EarlyStopping, ReduceLROnPlateau\n",
        "\n",
        "early_stopping = EarlyStopping(monitor='val_loss', patience=10, restore_best_weights=True)\n",
        "\n",
        "adjust_lr = ReduceLROnPlateau(\n",
        "    monitor='val_loss',\n",
        "    factor=0.5,\n",
        "    patience=5,\n",
        "    min_lr=1e-7,\n",
        "    verbose=1\n",
        ")\n",
        "\n",
        "history = model.fit(\n",
        "    X_train, y_train,\n",
        "    epochs=500,\n",
        "    batch_size=32,\n",
        "    validation_data=(X_test, y_test),\n",
        "    callbacks=[adjust_lr, early_stopping]\n",
        ")"
      ]
    },
    {
      "cell_type": "code",
      "execution_count": 259,
      "metadata": {
        "colab": {
          "base_uri": "https://localhost:8080/"
        },
        "id": "98_GbV7sEJVR",
        "outputId": "29e74606-69a2-4d00-f946-80866d83611d"
      },
      "outputs": [
        {
          "name": "stdout",
          "output_type": "stream",
          "text": [
            "\u001b[1m7/7\u001b[0m \u001b[32m━━━━━━━━━━━━━━━━━━━━\u001b[0m\u001b[37m\u001b[0m \u001b[1m0s\u001b[0m 6ms/step - custom_accuracy_without_padding: 0.7084 - custom_mse: 0.0265 - loss: 0.0278 \n",
            "Test results - Loss: 0.028354652225971222, MSE: 0.026951540261507034, Accuracy: 0.7065146565437317\n"
          ]
        }
      ],
      "source": [
        "# Evaluate the model on the test set\n",
        "eval_results = model.evaluate(X_test, y_test)\n",
        "print(f\"Test results - Loss: {eval_results[0]}, MSE: {eval_results[1]}, Accuracy: {eval_results[2]}\")"
      ]
    },
    {
      "cell_type": "code",
      "execution_count": 260,
      "metadata": {
        "colab": {
          "base_uri": "https://localhost:8080/",
          "height": 487
        },
        "id": "Dj_btsBkEPeB",
        "outputId": "6690e707-54e7-42cd-8573-fc59e84cfa9a"
      },
      "outputs": [
        {
          "data": {
            "image/png": "[encoded data removed]",
            "text/plain": [
              "<Figure size 1200x500 with 2 Axes>"
            ]
          },
          "metadata": {},
          "output_type": "display_data"
        }
      ],
      "source": [
        "import matplotlib.pyplot as plt\n",
        "\n",
        "plt.figure(figsize=(12, 5))\n",
        "\n",
        "plt.subplot(1, 2, 1)\n",
        "plt.plot(history.history['loss'], label='Training Loss')\n",
        "plt.plot(history.history['val_loss'], label='Validation Loss')\n",
        "plt.title('Loss Over Epochs')\n",
        "plt.xlabel('Epochs')\n",
        "plt.ylabel('MSE Loss')\n",
        "plt.legend()\n",
        "\n",
        "plt.subplot(1, 2, 2)\n",
        "plt.plot(history.history['custom_accuracy_without_padding'], label='Training Accuracy')\n",
        "plt.plot(history.history['val_custom_accuracy_without_padding'], label='Validation Accuracy')\n",
        "plt.title('Accuracy Over Epochs')\n",
        "plt.xlabel('Epochs')\n",
        "plt.ylabel('Accuracy (%)')\n",
        "plt.legend()\n",
        "\n",
        "plt.show()"
      ]
    },
    {
      "cell_type": "code",
      "execution_count": 261,
      "metadata": {
        "colab": {
          "base_uri": "https://localhost:8080/"
        },
        "id": "8fHImfiSERH2",
        "outputId": "50610471-0a4c-4ef5-913b-d5d9e6557d55"
      },
      "outputs": [
        {
          "name": "stdout",
          "output_type": "stream",
          "text": [
            "\u001b[1m7/7\u001b[0m \u001b[32m━━━━━━━━━━━━━━━━━━━━\u001b[0m\u001b[37m\u001b[0m \u001b[1m4s\u001b[0m 317ms/step\n",
            "R² Score: 0.6015\n"
          ]
        }
      ],
      "source": [
        "from sklearn.metrics import r2_score\n",
        "\n",
        "y_pred = model.predict(X_test)\n",
        "\n",
        "r2 = r2_score(y_test, y_pred)\n",
        "\n",
        "print(f\"R² Score: {r2:.4f}\")"
      ]
    },
    {
      "cell_type": "code",
      "execution_count": 262,
      "metadata": {
        "colab": {
          "base_uri": "https://localhost:8080/"
        },
        "id": "xc61iBzoEY73",
        "outputId": "373671b3-d604-4ae3-9c11-3758dd8a1a96"
      },
      "outputs": [
        {
          "name": "stdout",
          "output_type": "stream",
          "text": [
            "\u001b[1m7/7\u001b[0m \u001b[32m━━━━━━━━━━━━━━━━━━━━\u001b[0m\u001b[37m\u001b[0m \u001b[1m0s\u001b[0m 4ms/step \n",
            "Comparison of predictions and ground truth:\n",
            "Sample 1:\n",
            "  Predicted:    [3 3 3 3 3 3 3 3 4 2 3 1 4 0 3 2 5 1 4 3 4 4 6 5 2 3 1 0 0 0 0 0]\n",
            "  Ground Truth: [5 6 5 1 3 4 1 1 6 2 3 1 4 0 3 2 5 1 4 3 4 4 6 5 2 3 1 0 0 0 0 0]\n",
            "----------------------------------------\n",
            "Sample 2:\n",
            "  Predicted:    [3 3 3 3 3 3 3 3 3 2 4 3 3 1 3 1 1 2 0 1 1 5 2 1 4 0 4 0 0 0 0 0]\n",
            "  Ground Truth: [1 4 1 3 3 3 0 5 5 2 4 3 3 1 3 1 1 2 0 1 1 5 2 1 4 0 4 0 0 0 0 0]\n",
            "----------------------------------------\n",
            "Sample 3:\n",
            "  Predicted:    [3 3 3 3 3 3 3 3 3 6 4 1 0 5 2 3 5 1 4 6 0 4 3 2 3 4 4 0 0 0 0 0]\n",
            "  Ground Truth: [2 6 0 2 2 1 3 4 2 6 4 1 0 5 2 3 5 1 4 6 0 4 3 2 3 4 4 0 0 0 0 0]\n",
            "----------------------------------------\n"
          ]
        }
      ],
      "source": [
        "y_pred = model.predict(X_test)\n",
        "y_test_rescaled = y_test * (q - 1)\n",
        "y_pred_rescaled = y_pred * (q - 1)\n",
        "\n",
        "print(\"Comparison of predictions and ground truth:\")\n",
        "for i in range(3):\n",
        "    print(f\"Sample {i+1}:\")\n",
        "    print(f\"  Predicted:    {np.round(y_pred_rescaled[i]).astype(int)}\")\n",
        "    print(f\"  Ground Truth: {np.round(y_test_rescaled[i]).astype(int)}\")\n",
        "    print(\"-\" * 40)"
      ]
    },
    {
      "cell_type": "markdown",
      "metadata": {
        "id": "pjgc4S3JQ0Ix"
      },
      "source": [
        "Test on unseen samples"
      ]
    },
    {
      "cell_type": "code",
      "execution_count": 263,
      "metadata": {
        "colab": {
          "base_uri": "https://localhost:8080/"
        },
        "id": "3XPHxylAQ4GV",
        "outputId": "25494dbc-34ae-4dc6-c3a3-ea95e856688f"
      },
      "outputs": [
        {
          "name": "stdout",
          "output_type": "stream",
          "text": [
            "[ 17700.17533602    +0.j            958.67427771+14545.05859731j\n",
            " -11067.68026502 +4750.16621573j  -7541.94219873 -8050.90562821j\n",
            "   4801.06762678 -8458.12148009j   8081.44036169 +1412.87970794j\n",
            "    909.73843657 +6296.7835732j   -2846.8320572  +2775.87690291j\n",
            "  -3741.2973968   +487.64736489j  -3997.29300812 -2951.21922264j\n",
            "   1247.21351285 -6986.82292053j   9126.05640729 -1748.64789028j\n",
            "   4268.0738087 +10289.38728272j  -8635.34104673 +6950.27874978j\n",
            " -10343.34361125 -6073.81272702j   3258.84443464-12644.40361606j\n",
            "  13345.0660992     -0.j           3258.84443464+12644.40361606j\n",
            " -10343.34361125 +6073.81272702j  -8635.34104673 -6950.27874978j\n",
            "   4268.0738087 -10289.38728272j   9126.05640729 +1748.64789028j\n",
            "   1247.21351285 +6986.82292053j  -3997.29300812 +2951.21922264j\n",
            "  -3741.2973968   -487.64736489j  -2846.8320572  -2775.87690291j\n",
            "    909.73843657 -6296.7835732j    8081.44036169 -1412.87970794j\n",
            "   4801.06762678 +8458.12148009j  -7541.94219873 +8050.90562821j\n",
            " -11067.68026502 -4750.16621573j    958.67427771-14545.05859731j]\n",
            "\n",
            "\n",
            "[ 17685.50621736    +0.j            958.13940474+14718.69027913j\n",
            " -10866.15121927 +4763.14132265j  -7638.88750337 -8213.44469659j\n",
            "   4812.97669571 -8414.04905691j   8088.60462578 +1416.30285088j\n",
            "    904.24712697 +6275.20847853j  -2788.76176949 +2780.92281477j\n",
            "  -3728.70610943  +480.84046464j  -3970.44026918 -2949.71443438j\n",
            "   1257.37336381 -6953.38451909j   9096.77506001 -1760.76472909j\n",
            "   4321.07322341+10240.94223445j  -8545.48734868 +6910.82724291j\n",
            " -10355.97287415 -6102.68051517j   3289.42109035-12749.3704538j\n",
            "  13510.5363654     +0.j           3284.75534607+12709.66018938j\n",
            " -10429.73324342 +5967.96477778j  -8643.31619231 -6937.56036626j\n",
            "   4288.36296969-10236.4848483j    9149.06506648 +1724.99392037j\n",
            "   1237.91961694 +6981.47374786j  -4008.74778817 +2924.17012263j\n",
            "  -3728.13302011  -482.10609168j  -2889.79686183 -2781.58494841j\n",
            "    909.91429078 -6204.02451263j   8137.73928965 -1394.19751892j\n",
            "   4814.65167321 +8484.11575432j  -7606.61274736 +8223.41299751j\n",
            " -11143.10786048 -4824.95659829j    972.92971852-14334.82181284j]\n"
          ]
        }
      ],
      "source": [
        "num_unseen_samples = 20\n",
        "x_unseen_original = np.random.randint(0, q, size=(num_unseen_samples, n))\n",
        "x_unseen_original_padded = np.pad(x_unseen_original, ((0, 0), (0, padding)), mode='constant', constant_values=0)\n",
        "\n",
        "encoded_dataset_unseen = np.array([np.dot(M_tilde, x) for x in x_unseen_original_padded])\n",
        "encoded_dataset_unseen[np.abs(encoded_dataset_unseen) < 1e-10] = 0\n",
        "encoded_dataset_unseen = np.round(encoded_dataset_unseen, decimals=10)\n",
        "\n",
        "# add some noise to simulate channel distortion\n",
        "noise_ratio = 0.01\n",
        "real_parts = np.real(encoded_dataset_unseen)\n",
        "imag_parts = np.imag(encoded_dataset_unseen)\n",
        "noise_std_real = np.abs(real_parts) * noise_ratio\n",
        "noise_std_imag = np.abs(imag_parts) * noise_ratio\n",
        "noise_real = np.random.normal(0, noise_std_real, size=encoded_dataset_unseen.shape)\n",
        "noise_imag = np.random.normal(0, noise_std_imag, size=encoded_dataset_unseen.shape)\n",
        "noise = noise_real + 1j * noise_imag\n",
        "\n",
        "encoded_noisy = encoded_dataset_unseen + noise\n",
        "\n",
        "print(encoded_dataset_unseen[0])\n",
        "print(\"\\n\")\n",
        "print(encoded_noisy[0])"
      ]
    },
    {
      "cell_type": "code",
      "execution_count": 264,
      "metadata": {
        "colab": {
          "base_uri": "https://localhost:8080/"
        },
        "id": "t3nJbA-y-ZXc",
        "outputId": "d7d3724f-bf39-4ddb-c8d9-5eef6f02ab9a"
      },
      "outputs": [
        {
          "name": "stdout",
          "output_type": "stream",
          "text": [
            "[ 3128.97850207   417.80292772 -2637.19716272 -2160.40631628\n",
            "   764.67970384  2045.63787182   674.60629805  -436.31326629\n",
            "  -817.47338064 -1218.82972282  -548.40535184  1732.1737495\n",
            "  2316.31274132  -698.92368709 -2962.17468438 -1519.20450647\n",
            "  2359.09668353  2889.34781282  -466.65674826 -2681.64572333\n",
            " -1546.02452359  1547.89899174  1687.44002098   239.70189834\n",
            "  -470.5649872   -893.1698145  -1440.39076453   148.27308981\n",
            "  2308.06071922  1714.28349356 -1453.02880918 -3620.12463   ]\n",
            "\n",
            "\n",
            "[ 3126.38534375   419.79929625 -2586.73955992 -2190.34267946\n",
            "   769.74928953  2047.58320081   671.72685429  -422.21935348\n",
            "  -815.21639446 -1212.60023073  -542.22461636  1724.33756215\n",
            "  2320.60093533  -686.75620414 -2969.19370517 -1531.16340956\n",
            "  2388.34797036  2905.78597183  -500.81339168 -2680.27954514\n",
            " -1532.20981845  1545.78402376  1685.16535565   232.36448675\n",
            "  -468.02567276  -898.13201027 -1418.18678094   156.22354753\n",
            "  2315.0969486   1754.57126786 -1473.48467009 -3567.4538734 ]\n"
          ]
        }
      ],
      "source": [
        "# projection to get real-valued DCT-2 like input\n",
        "N = encoded_dataset_unseen.shape[1]\n",
        "\n",
        "k = np.arange(N)\n",
        "shift = np.exp(-1j * np.pi * k / (2 * N))\n",
        "alpha_k = np.where(k == 0, np.sqrt(1/N), np.sqrt(2/N))\n",
        "\n",
        "x_unseen_dct2 = np.array([np.real(alpha_k * shift * y) for y in encoded_dataset_unseen])\n",
        "x_unseen_dct2[np.abs(x_unseen_dct2) < 1e-10] = 0\n",
        "x_unseen_dct2 = np.round(x_unseen_dct2, decimals=10) # for numerical stability\n",
        "\n",
        "x_unseen_dct2_noisy = np.array([np.real(alpha_k * shift * y) for y in encoded_noisy])\n",
        "x_unseen_dct2_noisy[np.abs(x_unseen_dct2_noisy) < 1e-10] = 0\n",
        "x_unseen_dct2_noisy = np.round(x_unseen_dct2_noisy, decimals=10) # for numerical stability\n",
        "\n",
        "print(x_unseen_dct2[0])\n",
        "print(\"\\n\")\n",
        "print(x_unseen_dct2_noisy[0])"
      ]
    },
    {
      "cell_type": "code",
      "execution_count": 265,
      "metadata": {
        "id": "PmZu8EKvTttT"
      },
      "outputs": [],
      "source": [
        "# classical algorithm\n",
        "from scipy.fft import ifft\n",
        "\n",
        "def lrc(y, n, q, r, w0, z0):\n",
        "    if n >= 2:\n",
        "        z1 = ifft(y, n)\n",
        "\n",
        "        D_hat_n = np.diag([(z0 / w0) ** k for k in range(n)])\n",
        "        z2 = np.dot(D_hat_n, z1)\n",
        "\n",
        "        J_rxn = np.hstack([np.eye(r), np.zeros((r, n - r))])\n",
        "        z3 = np.dot(J_rxn, z2)\n",
        "\n",
        "        z4 = np.abs(z3)\n",
        "\n",
        "        # z5 = np.ceil(z4)\n",
        "        z5 = np.round(z4)\n",
        "\n",
        "        x_tilde = np.mod(z5, q)\n",
        "\n",
        "        return x_tilde\n",
        "\n",
        "    return y"
      ]
    },
    {
      "cell_type": "code",
      "execution_count": 266,
      "metadata": {
        "colab": {
          "base_uri": "https://localhost:8080/"
        },
        "id": "vhXXYUbREbRz",
        "outputId": "13f81376-241c-4ebc-923b-eea88824f07b"
      },
      "outputs": [
        {
          "name": "stdout",
          "output_type": "stream",
          "text": [
            "\u001b[1m1/1\u001b[0m \u001b[32m━━━━━━━━━━━━━━━━━━━━\u001b[0m\u001b[37m\u001b[0m \u001b[1m1s\u001b[0m 625ms/step\n",
            "\n",
            "Classical DCT-III:\n",
            "  MSE: 15.607465744018555\n",
            "  Accuracy: 0.39814814925193787\n",
            "\n",
            "Classical Algorithm:\n",
            "  MSE: 1.9171874523162842\n",
            "  Accuracy: 0.6592592597007751\n",
            "\n",
            "Neural Network:\n",
            "  MSE: 3.604687452316284\n",
            "  Accuracy: 0.49259260296821594\n",
            "\n",
            "Sample 1:\n",
            "Original     : [0 5 3 5 5 5 3 5 3 4 6 0 1 5 2 4 2 1 3 1 2 1 0 1 5 0 5 0 0 0 0 0]\n",
            "Classical Al : [0 1 2 4 6 0 5 3 3 3 5 1 1 6 2 4 2 1 3 1 2 1 0 1 5 0 5 0 0 0 0 0]\n",
            "NN Pred      : [3 3 3 3 3 3 4 3 3 3 0 0 1 0 3 5 2 1 3 1 2 1 0 1 6 0 6 0 0 0 0 0]\n",
            "\n",
            "Sample 2:\n",
            "Original     : [6 6 1 0 0 6 1 4 3 3 3 0 6 3 6 0 6 4 1 6 6 1 0 0 6 4 3 0 0 0 0 0]\n",
            "Classical Al : [0 3 3 1 1 4 1 5 3 2 2 1 6 3 6 0 6 4 1 6 6 1 0 0 6 4 3 0 0 0 0 0]\n",
            "NN Pred      : [3 3 3 3 3 3 3 4 2 3 2 0 6 3 6 0 0 4 1 0 0 1 0 0 0 4 3 0 0 0 0 0]\n",
            "\n",
            "Sample 3:\n",
            "Original     : [4 1 1 5 3 6 1 5 0 1 2 3 5 3 3 2 4 0 3 1 0 1 0 6 0 5 1 0 0 0 0 0]\n",
            "Classical Al : [0 0 4 6 4 0 4 4 2 1 3 3 5 3 3 2 4 0 3 1 0 1 0 6 0 5 1 0 0 0 0 0]\n",
            "NN Pred      : [3 3 3 3 3 3 3 3 3 2 1 3 6 3 3 3 5 0 3 1 0 1 0 0 0 6 1 0 0 0 0 0]\n"
          ]
        }
      ],
      "source": [
        "############## just to compare with classical dct3 ##############\n",
        "\n",
        "classical_dct3_pred = np.array([dct(x, type=3, norm='ortho') for x in x_unseen_dct2_noisy])\n",
        "after_perm = np.hstack((classical_dct3_pred[:, ::2], classical_dct3_pred[:, 1::2][:, ::-1]))\n",
        "D_hat_n = np.array([(z0 / w0) ** k for k in range(N)])\n",
        "scaled_dct3_pred = after_perm * D_hat_n\n",
        "\n",
        "mse_classical_dct3 = custom_mse(x_unseen_original_padded, scaled_dct3_pred)\n",
        "acc_classical_dct3 = custom_accuracy_without_padding(x_unseen_original_padded, scaled_dct3_pred)\n",
        "\n",
        "############## classical algorithm for recovery (here we assume the classical algorithm can also be used for global recovery. just to compare) ##############\n",
        "\n",
        "classical_pred = np.array([lrc(y=x, n=n_padded, q=q, r=n_padded, w0=w0, z0=z0) for x in encoded_noisy])\n",
        "mse_classical = custom_mse(x_unseen_original_padded, classical_pred)\n",
        "acc_classical = custom_accuracy_without_padding(x_unseen_original_padded, classical_pred)\n",
        "\n",
        "############## predictions of our StNN ##############\n",
        "\n",
        "x_unseen_original_padded_normalized = x_unseen_original_padded.astype(np.float32) / (q - 1)  # Scale to [0, 1]\n",
        "\n",
        "x_unseen_dct2_noisy = (x_unseen_dct2_noisy - x_unseen_dct2_noisy.mean()) / x_unseen_dct2_noisy.std()\n",
        "nn_pred = model.predict(x_unseen_dct2_noisy)\n",
        "\n",
        "y_pred_final = np.mod(np.round(nn_pred * (q - 1)), q)\n",
        "\n",
        "mse_nn = custom_mse(x_unseen_original_padded, y_pred_final)\n",
        "acc_nn = custom_accuracy_without_padding(x_unseen_original_padded_normalized, nn_pred)\n",
        "\n",
        "############## display ##############\n",
        "\n",
        "print(f\"\\nClassical DCT-III:\")\n",
        "print(f\"  MSE: {mse_classical_dct3}\")\n",
        "print(f\"  Accuracy: {acc_classical_dct3}\")\n",
        "\n",
        "print(f\"\\nClassical Algorithm:\")\n",
        "print(f\"  MSE: {mse_classical}\")\n",
        "print(f\"  Accuracy: {acc_classical}\")\n",
        "\n",
        "print(f\"\\nNeural Network:\")\n",
        "print(f\"  MSE: {mse_nn}\")\n",
        "print(f\"  Accuracy: {acc_nn}\")\n",
        "\n",
        "num_display_samples = 3\n",
        "for i in range(num_display_samples):\n",
        "    print(f\"\\nSample {i+1}:\")\n",
        "    print(f\"Original     : {x_unseen_original_padded[i]}\")\n",
        "    # print(f\"DCT-III Pred : {np.round(scaled_dct3_pred[i]).astype(int)}\")\n",
        "    print(f\"Classical Al : {np.round(classical_pred[i]).astype(int)}\")\n",
        "    print(f\"NN Pred      : {np.mod(np.round(nn_pred[i]*(q-1)), q).astype(int)}\")"
      ]
    },
    {
      "cell_type": "markdown",
      "metadata": {
        "id": "d8BovHaCR0xB"
      },
      "source": [
        "Visualize and Analyse model training"
      ]
    },
    {
      "cell_type": "code",
      "execution_count": 267,
      "metadata": {
        "colab": {
          "base_uri": "https://localhost:8080/",
          "height": 847
        },
        "id": "LUT9w-n75IKZ",
        "outputId": "e1d46e30-6d4c-4b70-bd34-3a3e4dd20e6d"
      },
      "outputs": [
        {
          "data": {
            "text/plain": [
              "(array([1.479e+03, 5.700e+01, 7.000e+00, 1.700e+01, 1.000e+01, 3.700e+01,\n",
              "        2.040e+02, 2.320e+02, 4.600e+01, 6.000e+00, 3.000e+00, 4.000e+00,\n",
              "        1.800e+01, 1.260e+02, 2.970e+02, 1.050e+02, 2.900e+01, 3.700e+01,\n",
              "        6.300e+01, 8.500e+01, 2.470e+02, 8.860e+02, 5.640e+02, 1.460e+02,\n",
              "        5.700e+01, 3.900e+01, 4.400e+01, 4.700e+01, 1.890e+02, 2.760e+02,\n",
              "        4.900e+01, 8.000e+00, 3.000e+00, 2.000e+00, 1.300e+01, 9.500e+01,\n",
              "        3.100e+02, 6.400e+01, 1.200e+01, 8.000e+00, 2.000e+00, 1.000e+01,\n",
              "        5.000e+01, 2.510e+02, 1.070e+02, 2.300e+01, 1.600e+01, 1.200e+01,\n",
              "        7.000e+00, 1.000e+00]),\n",
              " array([-1.05405517e-03,  2.22476535e-02,  4.55493629e-02,  6.88510761e-02,\n",
              "         9.21527818e-02,  1.15454488e-01,  1.38756216e-01,  1.62057921e-01,\n",
              "         1.85359627e-01,  2.08661333e-01,  2.31963038e-01,  2.55264759e-01,\n",
              "         2.78566480e-01,  3.01868170e-01,  3.25169891e-01,  3.48471582e-01,\n",
              "         3.71773303e-01,  3.95075023e-01,  4.18376714e-01,  4.41678435e-01,\n",
              "         4.64980125e-01,  4.88281846e-01,  5.11583567e-01,  5.34885287e-01,\n",
              "         5.58187008e-01,  5.81488669e-01,  6.04790390e-01,  6.28092110e-01,\n",
              "         6.51393831e-01,  6.74695551e-01,  6.97997212e-01,  7.21298933e-01,\n",
              "         7.44600654e-01,  7.67902374e-01,  7.91204095e-01,  8.14505756e-01,\n",
              "         8.37807477e-01,  8.61109197e-01,  8.84410918e-01,  9.07712638e-01,\n",
              "         9.31014299e-01,  9.54316020e-01,  9.77617741e-01,  1.00091946e+00,\n",
              "         1.02422118e+00,  1.04752290e+00,  1.07082462e+00,  1.09412634e+00,\n",
              "         1.11742806e+00,  1.14072967e+00,  1.16403139e+00]),\n",
              " <BarContainer object of 50 artists>)"
            ]
          },
          "execution_count": 267,
          "metadata": {},
          "output_type": "execute_result"
        },
        {
          "data": {
            "image/png": "[encoded data removed]",
            "text/plain": [
              "<Figure size 640x480 with 1 Axes>"
            ]
          },
          "metadata": {},
          "output_type": "display_data"
        }
      ],
      "source": [
        "import matplotlib.pyplot as plt\n",
        "plt.hist(y_pred.flatten(), bins=50)"
      ]
    },
    {
      "cell_type": "code",
      "execution_count": 268,
      "metadata": {
        "colab": {
          "base_uri": "https://localhost:8080/"
        },
        "id": "ORZAY2sdoc3a",
        "outputId": "e48db347-0c4f-419a-c82a-2bd021b50f0f"
      },
      "outputs": [
        {
          "name": "stdout",
          "output_type": "stream",
          "text": [
            "first_layer - Variable 0 (B_1): values: [1.5617666  1.0402123  1.0186718  1.0366426  1.0704058  1.0300487\n",
            " 1.0298858  1.0538523  1.1174018  1.0451584  1.0538269  1.0444632\n",
            " 1.0413015  1.0138091  1.0191019  0.98636407]\n",
            "first_layer - Variable 1 (B_2): values: [1.        1.0225952 1.0200723 1.0117565 1.0585263 1.0251638 1.0272615\n",
            " 1.0368515 1.1155035 1.0334078 1.050324  1.0526329 1.0276366 1.017031\n",
            " 1.0607955 1.0248648]\n",
            "first_layer - Variable 2 (bias): values: [-0.09495096  0.15015669  0.0446674  -0.03476667  0.05724891 -0.03577304\n",
            "  0.04303388  0.01933845  0.02384249  0.03326129  0.08459681  0.04572241\n",
            "  0.07154721  0.11122643  0.04201946  0.20667669  0.16571103  0.07630511\n",
            " -0.03237079 -0.00876974  0.01115838 -0.00326111 -0.00258211  0.0107482\n",
            " -0.00091992  0.0064886   0.03897548 -0.01453951  0.00649328  0.0180587\n",
            " -0.01861875 -0.00567097]\n",
            "second_layer - Variable 0 (bias): values: [ 0.06628799  0.07976314  0.07266404  0.05792183  0.07933764  0.06066126\n",
            "  0.04880022  0.05479135  0.05301251  0.05838402  0.02342447 -0.1078592\n",
            "  0.0069986  -0.02342832  0.04918904  0.04300948  0.21508497 -0.03063614\n",
            "  0.22947952 -0.01135975  0.22371326 -0.03626778  0.14727652 -0.04040636\n",
            "  0.11660548 -0.05125041  0.06313401 -0.184388    0.04400134 -0.10205418\n",
            "  0.00986698 -0.01037886]\n",
            "second_layer - Variable 1 (B_1): values: [1.4883349 1.0463173 1.0398208 1.0410945 1.1074258 1.0573239 1.0471542\n",
            " 1.0805867]\n",
            "second_layer - Variable 2 (B_2): values: [1.        0.996104  1.0283827 1.0104023 1.065903  1.0626707 1.0099066\n",
            " 0.9931074]\n",
            "second_layer - Variable 3 (W_c): values: [0.56885713 0.6342837  0.68963134 0.7256304  0.8586096  1.2863035\n",
            " 2.0778742  5.3350973 ]\n",
            "second_layer - Variable 4 (B_1): values: [1.5089834 1.0803179 1.0739753 1.035677 ]\n",
            "second_layer - Variable 5 (B_2): values: [1.        1.0034311 1.068074  1.023602 ]\n",
            "second_layer - Variable 6 (W_c): values: [0.58208364 0.7144036  1.0679748  2.6798537 ]\n",
            "second_layer - Variable 7 (B_1): values: [1.5241215 1.1970832]\n",
            "second_layer - Variable 8 (B_2): values: [1.         0.98330206]\n",
            "second_layer - Variable 9 (W_c): values: [0.6121715 1.5142808]\n",
            "second_layer - Variable 10 (C_2): values: [[ 0.84277886  0.9289893 ]\n",
            " [ 0.9632163  -1.0908095 ]]\n",
            "second_layer - Variable 11 (C_2): values: [[ 0.8272361   0.698166  ]\n",
            " [ 0.7719507  -0.79167384]]\n",
            "second_layer - Variable 12 (B_1): values: [1.4396536 1.0712179]\n",
            "second_layer - Variable 13 (B_2): values: [1.        0.9982855]\n",
            "second_layer - Variable 14 (W_c): values: [0.57176614 1.4725289 ]\n",
            "second_layer - Variable 15 (C_2): values: [[ 0.7550863   0.79147595]\n",
            " [ 0.8529677  -0.8728117 ]]\n",
            "second_layer - Variable 16 (C_2): values: [[ 0.75123125  0.7240511 ]\n",
            " [ 0.73777163 -0.74003667]]\n",
            "second_layer - Variable 17 (B_1): values: [1.4662938 1.0394698 1.0443339 1.0228693]\n",
            "second_layer - Variable 18 (B_2): values: [1.        0.9990056 1.0370041 1.0025629]\n",
            "second_layer - Variable 19 (W_c): values: [0.5317193  0.6510859  0.98611325 2.5696604 ]\n",
            "second_layer - Variable 20 (B_1): values: [1.4632618 1.0833601]\n",
            "second_layer - Variable 21 (B_2): values: [1.        1.0004919]\n",
            "second_layer - Variable 22 (W_c): values: [0.5702277 1.4136415]\n",
            "second_layer - Variable 23 (C_2): values: [[ 0.7433032   0.78354543]\n",
            " [ 0.8134185  -0.83744437]]\n",
            "second_layer - Variable 24 (C_2): values: [[ 0.7452758   0.7224504 ]\n",
            " [ 0.7439533  -0.74600637]]\n",
            "second_layer - Variable 25 (B_1): values: [1.4490771 1.046374 ]\n",
            "second_layer - Variable 26 (B_2): values: [1.        1.0040083]\n",
            "second_layer - Variable 27 (W_c): values: [0.55541   1.3620523]\n",
            "second_layer - Variable 28 (C_2): values: [[ 0.72477126  0.7475607 ]\n",
            " [ 0.77034485 -0.7559886 ]]\n",
            "second_layer - Variable 29 (C_2): values: [[ 0.72260755  0.71670204]\n",
            " [ 0.7166701  -0.7164819 ]]\n",
            "second_layer - Variable 30 (B_1): values: [1.5116041  1.0233306  1.0488943  1.0123516  1.0840174  1.0531267\n",
            " 1.0295908  0.99438924]\n",
            "second_layer - Variable 31 (B_2): values: [1.         0.99458957 1.0265397  1.019864   1.0605695  1.0582206\n",
            " 1.0057734  1.0833366 ]\n",
            "second_layer - Variable 32 (W_c): values: [0.55410075 0.63175565 0.6878995  0.68711674 0.85697997 1.2898617\n",
            " 2.0830011  5.5017443 ]\n",
            "second_layer - Variable 33 (B_1): values: [1.5309303 1.0529433 1.0609616 1.0225936]\n",
            "second_layer - Variable 34 (B_2): values: [1.        1.0204018 1.0551474 1.0300385]\n",
            "second_layer - Variable 35 (W_c): values: [0.5516084  0.72031075 1.064551   2.6548524 ]\n",
            "second_layer - Variable 36 (B_1): values: [1.5143713 1.1410997]\n",
            "second_layer - Variable 37 (B_2): values: [1.        0.9972637]\n",
            "second_layer - Variable 38 (W_c): values: [0.5965888 1.5931073]\n",
            "second_layer - Variable 39 (C_2): values: [[ 0.8171414  0.8496799]\n",
            " [ 1.0133334 -1.0253693]]\n",
            "second_layer - Variable 40 (C_2): values: [[ 0.789954    0.71969116]\n",
            " [ 0.76483625 -0.7927026 ]]\n",
            "second_layer - Variable 41 (B_1): values: [1.4844184 1.0636013]\n",
            "second_layer - Variable 42 (B_2): values: [1.        1.0109166]\n",
            "second_layer - Variable 43 (W_c): values: [0.5699945 1.4613681]\n",
            "second_layer - Variable 44 (C_2): values: [[ 0.7657322   0.78930724]\n",
            " [ 0.8642921  -0.875941  ]]\n",
            "second_layer - Variable 45 (C_2): values: [[ 0.7551461   0.71855253]\n",
            " [ 0.741372   -0.7498677 ]]\n",
            "second_layer - Variable 46 (B_1): values: [1.4814807 1.0433035 1.0292825 1.0266626]\n",
            "second_layer - Variable 47 (B_2): values: [1.         1.0100178  1.0541269  0.99419045]\n",
            "second_layer - Variable 48 (W_c): values: [0.5246194  0.66688883 0.96327317 2.612615  ]\n",
            "second_layer - Variable 49 (B_1): values: [1.464467  1.1018147]\n",
            "second_layer - Variable 50 (B_2): values: [1.        1.0092965]\n",
            "second_layer - Variable 51 (W_c): values: [0.5679839 1.4398495]\n",
            "second_layer - Variable 52 (C_2): values: [[ 0.7449999  0.764423 ]\n",
            " [ 0.8548619 -0.8462956]]\n",
            "second_layer - Variable 53 (C_2): values: [[ 0.75023156  0.7092058 ]\n",
            " [ 0.7457026  -0.74031436]]\n",
            "second_layer - Variable 54 (B_1): values: [1.467126  1.0345033]\n",
            "second_layer - Variable 55 (B_2): values: [1.         0.99368054]\n",
            "second_layer - Variable 56 (W_c): values: [0.55468357 1.34587   ]\n",
            "second_layer - Variable 57 (C_2): values: [[ 0.7416961   0.73979574]\n",
            " [ 0.7951734  -0.7770013 ]]\n",
            "second_layer - Variable 58 (C_2): values: [[ 0.72714907  0.7229846 ]\n",
            " [ 0.7211045  -0.7319119 ]]\n",
            "third_layer - Variable 0 (W_c): values: [0.5581186  1.1225681  0.48849666 1.3272617  0.516235   1.3092579\n",
            " 0.5882572  1.5138439  0.73669696 1.5389496  0.9265389  1.1437318\n",
            " 1.4926997  1.9794639  3.2357762  9.931543  ]\n",
            "third_layer - Variable 1 (bias): values: [ 0.12828414  0.17042908  0.1352766  -0.09286073  0.13731937  0.03205708\n",
            "  0.09138078  0.05573551  0.08421803  0.10124921  0.0419465   0.14515765\n",
            "  0.02591589  0.27089268  0.02841559  0.15160263  0.02760277  0.23498943\n",
            "  0.0340718   0.19560672  0.04699143  0.17511044  0.05840072  0.09160242\n",
            "  0.05482861  0.06853682  0.06070792  0.0095701   0.05801605 -0.04501771\n",
            "  0.07961254 -0.0247895 ]\n",
            "leaky_re_lu_2 has no trainable variables.\n",
            "scaling_layer - Variable 0 (log_scale): values: 0.223085418343544\n",
            "scaling_layer - Variable 1 (diag): values: [ 6.41269624e-01  6.99787199e-01  6.53380871e-01  7.55544722e-01\n",
            "  7.76481032e-01  9.15261745e-01  1.03089595e+00  1.27326918e+00\n",
            "  1.09912574e+00  1.79837430e+00  1.63298750e+00  5.07497549e-01\n",
            "  3.08386654e-01  1.47193670e-01  1.00039534e-01  5.28372563e-02\n",
            "  5.87496758e-02  3.19018997e-02  2.35479660e-02  1.14843808e-02\n",
            "  8.10731668e-03  4.11016075e-03  2.94018094e-03  1.48590747e-03\n",
            "  1.03870453e-03  5.37899439e-04  3.95595678e-04 -1.75192667e-07\n",
            " -2.08863309e-12 -3.43028672e-09 -5.03432140e-09 -2.13254132e-12]\n",
            "scaling_layer - Variable 2 (bias): values: [ 1.3750914e-01  1.2432172e-01  1.1338832e-01  7.1188539e-02\n",
            "  4.8970081e-02  3.9768014e-02  3.4459397e-02  4.5021247e-02\n",
            "  3.5033543e-02  4.5531150e-02  2.6251012e-02  1.3356523e-02\n",
            "  6.4388635e-03  1.6821007e-03  1.4343391e-03  1.0279210e-03\n",
            "  1.5534721e-03  2.6927672e-03  2.9802311e-03  3.2015718e-03\n",
            "  5.2902997e-03  4.1193371e-03  4.7959546e-03 -7.5212740e-03\n",
            " -9.5514888e-03  1.4141646e-02  2.7559301e-02 -2.0051366e-06\n",
            " -2.0559304e-11 -6.5999082e-08 -1.0805295e-07 -6.7039312e-11]\n",
            "leaky_re_lu_3 has no trainable variables.\n",
            "output_layer has no trainable variables.\n",
            "activation_1 has no trainable variables.\n"
          ]
        }
      ],
      "source": [
        "for layer in model.layers:\n",
        "    if layer.trainable_variables:  # Check if the layer has trainable variables\n",
        "        for i, var in enumerate(layer.trainable_variables):\n",
        "            print(f\"{layer.name} - Variable {i} ({var.name}): values: {var.numpy()}\")\n",
        "    else:\n",
        "        print(layer.name, \"has no trainable variables.\")"
      ]
    },
    {
      "cell_type": "code",
      "execution_count": 269,
      "metadata": {
        "id": "iIDKNMn9P4aW"
      },
      "outputs": [],
      "source": [
        "from tensorflow.keras import backend as K\n",
        "K.clear_session()"
      ]
    },
    {
      "cell_type": "code",
      "execution_count": 269,
      "metadata": {
        "id": "qfK5aX4sZt2Q"
      },
      "outputs": [],
      "source": []
    }
  ],
  "metadata": {
    "accelerator": "GPU",
    "colab": {
      "gpuType": "T4",
      "provenance": []
    },
    "kernelspec": {
      "display_name": "Python 3",
      "name": "python3"
    },
    "language_info": {
      "name": "python"
    }
  },
  "nbformat": 4,
  "nbformat_minor": 0
}
