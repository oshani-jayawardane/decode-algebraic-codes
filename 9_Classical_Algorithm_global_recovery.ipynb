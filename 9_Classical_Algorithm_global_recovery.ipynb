{
  "cells": [
    {
      "cell_type": "markdown",
      "metadata": {
        "id": "ChtUvgZaYpit"
      },
      "source": [
        "### Global Recovery through FFT-Like Classical Algorithm"
      ]
    },
    {
      "cell_type": "code",
      "source": [
        "%reset -f\n",
        "import gc\n",
        "gc.collect()"
      ],
      "metadata": {
        "colab": {
          "base_uri": "https://localhost:8080/"
        },
        "id": "MQvq8j8ozf2Z",
        "outputId": "df164a1a-da37-4734-d2ef-bd2cbca493a4"
      },
      "execution_count": null,
      "outputs": [
        {
          "output_type": "execute_result",
          "data": {
            "text/plain": [
              "0"
            ]
          },
          "metadata": {},
          "execution_count": 139
        }
      ]
    },
    {
      "cell_type": "code",
      "source": [
        "global w0\n",
        "global z0\n",
        "\n",
        "w0 = 4\n",
        "z0 = 3\n",
        "\n",
        "n = 27\n",
        "q = 7\n",
        "r = n # cause we are considering global recovery in this case\n",
        "num_samples = 1000\n",
        "\n",
        "num_unseen_samples = 20"
      ],
      "metadata": {
        "id": "p4uYRTqvzkNf"
      },
      "execution_count": null,
      "outputs": []
    },
    {
      "cell_type": "code",
      "source": [
        "import numpy as np\n",
        "import tensorflow as tf\n",
        "import math\n",
        "\n",
        "np.random.seed(42)"
      ],
      "metadata": {
        "id": "u4SrvguSzo0K"
      },
      "execution_count": null,
      "outputs": []
    },
    {
      "cell_type": "code",
      "source": [
        "def next_power_of_two(x):\n",
        "    return 2 ** math.ceil(math.log2(x))\n",
        "\n",
        "n_padded = next_power_of_two(n)\n",
        "\n",
        "x_original = np.random.randint(0, q, size=(num_samples, n))\n",
        "\n",
        "padding = n_padded - n\n",
        "dataset = np.pad(x_original, ((0, 0), (0, padding)), mode='constant', constant_values=0)\n",
        "\n",
        "print(f\"Original n: {n}, Padded to: {n_padded}\")"
      ],
      "metadata": {
        "colab": {
          "base_uri": "https://localhost:8080/"
        },
        "id": "wQ8njBcyzs9F",
        "outputId": "092f8651-897b-4f5e-c0f2-820841f861af"
      },
      "execution_count": null,
      "outputs": [
        {
          "output_type": "stream",
          "name": "stdout",
          "text": [
            "Original n: 27, Padded to: 32\n"
          ]
        }
      ]
    },
    {
      "cell_type": "code",
      "source": [
        "x_original.shape"
      ],
      "metadata": {
        "colab": {
          "base_uri": "https://localhost:8080/"
        },
        "id": "L4ze-3F_zvGw",
        "outputId": "87d3dc34-c91d-466b-f22a-eeb17dcdab39"
      },
      "execution_count": null,
      "outputs": [
        {
          "output_type": "execute_result",
          "data": {
            "text/plain": [
              "(1000, 27)"
            ]
          },
          "metadata": {},
          "execution_count": 143
        }
      ]
    },
    {
      "cell_type": "code",
      "source": [
        "dataset.shape"
      ],
      "metadata": {
        "colab": {
          "base_uri": "https://localhost:8080/"
        },
        "id": "_gjCFRUUzwoU",
        "outputId": "0507751d-2dad-404a-995f-931c01e6b3f1"
      },
      "execution_count": null,
      "outputs": [
        {
          "output_type": "execute_result",
          "data": {
            "text/plain": [
              "(1000, 32)"
            ]
          },
          "metadata": {},
          "execution_count": 144
        }
      ]
    },
    {
      "cell_type": "markdown",
      "source": [
        "Encode using generator matrix\n",
        "$$\n",
        "\\tilde{M}_{kj} = \\left[ \\left( \\frac{w_0}{z_0} \\right)^j \\zeta^{kj} \\right]_{k,j=0}^{n-1}\n",
        "$$"
      ],
      "metadata": {
        "id": "xg9d7jhPzyiY"
      }
    },
    {
      "cell_type": "code",
      "source": [
        "def padded_generator_matrix(N, w0, z0):\n",
        "    n = np.arange(N)\n",
        "    k = n.reshape((N, 1))\n",
        "    zeta = np.exp(-2j * np.pi / N)\n",
        "    M_tilde = ((w0 / z0) ** n) * (zeta ** (k * n))\n",
        "    return M_tilde"
      ],
      "metadata": {
        "id": "aRgJvDbG3xym"
      },
      "execution_count": null,
      "outputs": []
    },
    {
      "cell_type": "code",
      "source": [
        "M_tilde = padded_generator_matrix(n_padded, w0, z0)\n",
        "print(M_tilde.shape)"
      ],
      "metadata": {
        "colab": {
          "base_uri": "https://localhost:8080/"
        },
        "id": "CNW1UmdjzyT4",
        "outputId": "d9e8e9a2-7c6f-4318-9734-62588466df1b"
      },
      "execution_count": null,
      "outputs": [
        {
          "output_type": "stream",
          "name": "stdout",
          "text": [
            "(32, 32)\n"
          ]
        }
      ]
    },
    {
      "cell_type": "code",
      "source": [
        "encoded_dataset = np.array([np.dot(M_tilde, x) for x in dataset])\n",
        "encoded_dataset[np.abs(encoded_dataset) < 1e-10] = 0\n",
        "encoded_dataset = np.round(encoded_dataset, decimals=10)\n",
        "encoded_dataset.shape"
      ],
      "metadata": {
        "colab": {
          "base_uri": "https://localhost:8080/"
        },
        "id": "e58OS08vz57N",
        "outputId": "1a199a81-2ad1-4e44-fabd-71154db0f31a"
      },
      "execution_count": null,
      "outputs": [
        {
          "output_type": "execute_result",
          "data": {
            "text/plain": [
              "(1000, 32)"
            ]
          },
          "metadata": {},
          "execution_count": 147
        }
      ]
    },
    {
      "cell_type": "code",
      "source": [
        "# ---- This split is not to train a NN model, but to make sure the test dataset is consistent for classical algorithm as well -----\n",
        "\n",
        "from sklearn.model_selection import train_test_split\n",
        "\n",
        "x_train, x_test, y_train, y_test = train_test_split(\n",
        "    encoded_dataset, dataset, test_size=0.2, random_state=42\n",
        ")"
      ],
      "metadata": {
        "id": "CzY6cSIn0ObC"
      },
      "execution_count": null,
      "outputs": []
    },
    {
      "cell_type": "code",
      "source": [
        "print(f\"x_train shape: {x_train.shape}, y_train shape: {y_train.shape}\")\n",
        "print(f\"x_test shape: {x_test.shape}, y_test shape: {y_test.shape}\")"
      ],
      "metadata": {
        "colab": {
          "base_uri": "https://localhost:8080/"
        },
        "id": "3oJd1Diw0TSV",
        "outputId": "84b2e428-aad4-4659-e08d-953836d23d61"
      },
      "execution_count": null,
      "outputs": [
        {
          "output_type": "stream",
          "name": "stdout",
          "text": [
            "x_train shape: (800, 32), y_train shape: (800, 32)\n",
            "x_test shape: (200, 32), y_test shape: (200, 32)\n"
          ]
        }
      ]
    },
    {
      "cell_type": "markdown",
      "source": [
        "Classical Algorithm"
      ],
      "metadata": {
        "id": "3LyKP-an0Uc8"
      }
    },
    {
      "cell_type": "code",
      "execution_count": null,
      "metadata": {
        "id": "2ig7k4ZIYpix"
      },
      "outputs": [],
      "source": [
        "# def idft(y, n):\n",
        "#     n1 = n // 2\n",
        "\n",
        "#     if n == 2:\n",
        "#         return np.array([y[0] + y[1], y[0] - y[1]]) / 2\n",
        "\n",
        "#     elif n >= 4:\n",
        "#         q = np.concatenate((y[0:n:2], y[1:n:2]))\n",
        "\n",
        "#         b1 = idft(q[:n1], n1)\n",
        "#         b2 = idft(q[n1:], n1)\n",
        "\n",
        "#         b_out = np.concatenate((b1, b2))\n",
        "\n",
        "#         zeta = np.exp(-2j * np.pi / n)\n",
        "#         Dn = np.diag([zeta**k for k in range(n1)])\n",
        "#         Hn = np.block([[np.eye(n1), np.eye(n1)],\n",
        "#                        [Dn, -Dn]])\n",
        "\n",
        "#         Hn_conj = np.conjugate(Hn).T\n",
        "#         z1 = np.dot(Hn_conj, b_out)\n",
        "#         out = z1 / 2\n",
        "#         return out\n",
        "\n",
        "def idft(y, n):\n",
        "    n1 = n// 2\n",
        "\n",
        "    if n == 2:\n",
        "        return np.array([y[0] + y[1], y[0] - y[1]]) / 2\n",
        "\n",
        "    elif n >= 4:\n",
        "        q = np.concatenate((y[0:n:2], y[1:n:2]))\n",
        "\n",
        "        B1 = idft(q[:n1], n1)\n",
        "        B2 = idft(q[n1:], n1)\n",
        "\n",
        "        b_out = np.concatenate((B1, B2))\n",
        "\n",
        "        zeta = np.exp(-2j * np.pi / n)\n",
        "        Dn = np.array([zeta**k for k in range(n1)])\n",
        "\n",
        "        z1 = np.concatenate([B1 + np.conj(Dn) * B2, B1 - np.conj(Dn) * B2], axis=0)\n",
        "\n",
        "        out = z1 / 2\n",
        "        return out\n",
        "\n",
        "def lrc(y, n, q, r, w0, z0):\n",
        "    if n >= 2:\n",
        "        z1 = idft(y, n)\n",
        "\n",
        "        D_hat_n = np.diag([(z0 / w0) ** k for k in range(n)])\n",
        "        z2 = np.dot(D_hat_n, z1)\n",
        "\n",
        "        J_rxn = np.hstack([np.eye(r), np.zeros((r, n - r))])\n",
        "        z3 = np.dot(J_rxn, z2)\n",
        "\n",
        "        z4 = np.abs(z3)\n",
        "\n",
        "        # z5 = np.ceil(z4)\n",
        "        z5 = np.round(z4)\n",
        "\n",
        "        x_tilde = np.mod(z5, q)\n",
        "\n",
        "        return x_tilde\n",
        "\n",
        "    return y"
      ]
    },
    {
      "cell_type": "markdown",
      "source": [
        "Recovered Messages"
      ],
      "metadata": {
        "id": "AbYm_-wi2dhw"
      }
    },
    {
      "cell_type": "code",
      "source": [
        "lrc_preds = np.array([lrc(y, n_padded, q, r, w0, z0) for y in x_test])\n",
        "\n",
        "print(\"Comparison of Classical Predictions and Ground Truth:\")\n",
        "for i in range(3):\n",
        "    print(f\"Sample {i+1}:\")\n",
        "    print(f\"  Recovered:    {lrc_preds[i][:n].astype(int)}\")\n",
        "    print(f\"  Ground Truth: {y_test[i][:n].astype(int)}\")\n",
        "    print(\"-\" * 40)"
      ],
      "metadata": {
        "colab": {
          "base_uri": "https://localhost:8080/"
        },
        "id": "1Gw4iZUI2fMk",
        "outputId": "5d83043e-a615-4efb-e4db-e45270938051"
      },
      "execution_count": null,
      "outputs": [
        {
          "output_type": "stream",
          "name": "stdout",
          "text": [
            "Comparison of Classical Predictions and Ground Truth:\n",
            "Sample 1:\n",
            "  Recovered:    [5 6 5 1 3 4 1 1 6 2 3 1 4 0 3 2 5 1 4 3 4 4 6 5 2 3 1]\n",
            "  Ground Truth: [5 6 5 1 3 4 1 1 6 2 3 1 4 0 3 2 5 1 4 3 4 4 6 5 2 3 1]\n",
            "----------------------------------------\n",
            "Sample 2:\n",
            "  Recovered:    [1 4 1 3 3 3 0 5 5 2 4 3 3 1 3 1 1 2 0 1 1 5 2 1 4 0 4]\n",
            "  Ground Truth: [1 4 1 3 3 3 0 5 5 2 4 3 3 1 3 1 1 2 0 1 1 5 2 1 4 0 4]\n",
            "----------------------------------------\n",
            "Sample 3:\n",
            "  Recovered:    [2 6 0 2 2 1 3 4 2 6 4 1 0 5 2 3 5 1 4 6 0 4 3 2 3 4 4]\n",
            "  Ground Truth: [2 6 0 2 2 1 3 4 2 6 4 1 0 5 2 3 5 1 4 6 0 4 3 2 3 4 4]\n",
            "----------------------------------------\n"
          ]
        }
      ]
    },
    {
      "cell_type": "code",
      "source": [
        "def classical_accuracy(y_true, y_rec, n):\n",
        "    y_true_trimmed = y_true[:, :n]\n",
        "    y_rec_trimmed = y_rec[:, :n]\n",
        "    correct = np.sum(y_true_trimmed == y_rec_trimmed)\n",
        "    total = y_true_trimmed.size\n",
        "    return correct / total\n",
        "\n",
        "acc_classical = classical_accuracy(y_test, lrc_preds, n)\n",
        "print(f\"Classical Algorithm Accuracy: {acc_classical:.6f}\")"
      ],
      "metadata": {
        "colab": {
          "base_uri": "https://localhost:8080/"
        },
        "id": "4qi4rxIo3Bt-",
        "outputId": "fd06d414-ecb0-4a80-96ae-49cfd824a2a5"
      },
      "execution_count": null,
      "outputs": [
        {
          "output_type": "stream",
          "name": "stdout",
          "text": [
            "Classical Algorithm Accuracy: 1.000000\n"
          ]
        }
      ]
    },
    {
      "cell_type": "code",
      "source": [
        "# ---------------------- Inference time on Test Set ----------------------------\n",
        "\n",
        "import time\n",
        "\n",
        "# warm-up\n",
        "_ = lrc(x_test[0], n_padded, q, r, w0, z0)\n",
        "\n",
        "times = []\n",
        "for _ in range(100):\n",
        "    start = time.perf_counter()\n",
        "    for y in x_test:\n",
        "        _ = lrc(y, n_padded, q, r, w0, z0)\n",
        "    end = time.perf_counter()\n",
        "    times.append(end - start)\n",
        "\n",
        "avg_time = np.mean(times)\n",
        "avg_time_per_sample = avg_time / x_test.shape[0]\n",
        "print(f\"Avg inference time for dataset (classical LRC): {avg_time:.6f} seconds\")\n",
        "print(f\"Avg inference time per sample (classical LRC): {avg_time_per_sample:.6f} seconds\")"
      ],
      "metadata": {
        "colab": {
          "base_uri": "https://localhost:8080/"
        },
        "id": "-2dzGlX-2XZk",
        "outputId": "7eac360c-b123-4d09-e52b-0b81979dea59"
      },
      "execution_count": null,
      "outputs": [
        {
          "output_type": "stream",
          "name": "stdout",
          "text": [
            "Avg inference time for dataset (classical LRC): 0.108062 seconds\n",
            "Avg inference time per sample (classical LRC): 0.000540 seconds\n"
          ]
        }
      ]
    },
    {
      "cell_type": "markdown",
      "source": [
        "Unseen Data (Just to replicate other work)"
      ],
      "metadata": {
        "id": "9Zs8Ji4Y5PFp"
      }
    },
    {
      "cell_type": "code",
      "source": [
        "# --------------------- Classical Algorithm on unseen samples (no noise) -------------------------\n",
        "\n",
        "np.random.seed(42)\n",
        "\n",
        "x_unseen_original = np.random.randint(0, q, size=(num_unseen_samples, n))\n",
        "x_unseen_original_padded = np.pad(x_unseen_original, ((0, 0), (0, padding)), mode='constant', constant_values=0)\n",
        "\n",
        "# Encode\n",
        "encoded_dataset_unseen = np.array([np.dot(M_tilde, x) for x in x_unseen_original_padded])\n",
        "encoded_dataset_unseen[np.abs(encoded_dataset_unseen) < 1e-10] = 0\n",
        "encoded_dataset_unseen = np.round(encoded_dataset_unseen, decimals=10)\n",
        "\n",
        "# Decode using classical algorithm\n",
        "lrc_preds_unseen = np.array([\n",
        "    lrc(encoded_dataset_unseen[i], n_padded, q, r, w0, z0)\n",
        "    for i in range(num_unseen_samples)\n",
        "])\n",
        "\n",
        "def classical_accuracy(y_true, y_pred, n):\n",
        "    y_true_trimmed = y_true[:, :n]\n",
        "    y_pred_trimmed = y_pred[:, :n]\n",
        "    correct = np.sum(y_true_trimmed == y_pred_trimmed)\n",
        "    total = y_true_trimmed.size\n",
        "    return correct / total\n",
        "\n",
        "# Accuracy\n",
        "acc_classical_unseen = classical_accuracy(x_unseen_original_padded, lrc_preds_unseen, n)\n",
        "\n",
        "print(f\"Accuracy on unseen data (classical): {acc_classical_unseen:.6f}\")\n",
        "\n",
        "num_display_samples = 3\n",
        "for i in range(num_display_samples):\n",
        "    print(f\"\\nSample {i+1}:\")\n",
        "    print(f\"Original : {x_unseen_original[i]}\")\n",
        "    print(f\"Recovered: {lrc_preds_unseen[i].astype(int)}\")"
      ],
      "metadata": {
        "colab": {
          "base_uri": "https://localhost:8080/"
        },
        "id": "FVFiE7Co5P5z",
        "outputId": "234986b2-1b02-4b4e-f7ff-c8c618490590"
      },
      "execution_count": null,
      "outputs": [
        {
          "output_type": "stream",
          "name": "stdout",
          "text": [
            "Accuracy on unseen data (classical): 1.000000\n",
            "\n",
            "Sample 1:\n",
            "Original : [6 3 4 6 2 4 4 6 1 2 6 2 2 4 3 2 5 4 1 3 5 5 1 3 4 0 3]\n",
            "Recovered: [6 3 4 6 2 4 4 6 1 2 6 2 2 4 3 2 5 4 1 3 5 5 1 3 4 0 3]\n",
            "\n",
            "Sample 2:\n",
            "Original : [1 5 4 3 0 0 2 2 6 1 3 3 6 5 5 6 5 2 3 6 3 0 2 4 2 6 4]\n",
            "Recovered: [1 5 4 3 0 0 2 2 6 1 3 3 6 5 5 6 5 2 3 6 3 0 2 4 2 6 4]\n",
            "\n",
            "Sample 3:\n",
            "Original : [0 6 1 3 0 3 5 1 1 0 1 4 1 3 3 6 3 6 3 4 6 2 5 0 3 1 3]\n",
            "Recovered: [0 6 1 3 0 3 5 1 1 0 1 4 1 3 3 6 3 6 3 4 6 2 5 0 3 1 3]\n"
          ]
        }
      ]
    },
    {
      "cell_type": "code",
      "source": [
        "# --------------------- Classical Algorithm on noisy unseen samples -------------------------\n",
        "\n",
        "np.random.seed(42)\n",
        "\n",
        "x_unseen_original = np.random.randint(0, q, size=(num_unseen_samples, n))\n",
        "x_unseen_original_padded = np.pad(x_unseen_original, ((0, 0), (0, padding)), mode='constant', constant_values=0)\n",
        "\n",
        "# Encode\n",
        "encoded_dataset_unseen = np.array([np.dot(M_tilde, x) for x in x_unseen_original_padded])\n",
        "encoded_dataset_unseen[np.abs(encoded_dataset_unseen) < 1e-10] = 0\n",
        "encoded_dataset_unseen = np.round(encoded_dataset_unseen, decimals=10)\n",
        "\n",
        "# ---- Add Gaussian noise ----\n",
        "noise_ratio = 0.02  # 2% noise\n",
        "real_parts = np.real(encoded_dataset_unseen)\n",
        "imag_parts = np.imag(encoded_dataset_unseen)\n",
        "\n",
        "noise_std_real = np.abs(real_parts) * noise_ratio\n",
        "noise_std_imag = np.abs(imag_parts) * noise_ratio\n",
        "\n",
        "noise_real = np.random.normal(0, noise_std_real)\n",
        "noise_imag = np.random.normal(0, noise_std_imag)\n",
        "noise = noise_real + 1j * noise_imag\n",
        "\n",
        "encoded_noisy = encoded_dataset_unseen + noise\n",
        "\n",
        "# Decode with classical algorithm\n",
        "lrc_preds_noisy = np.array([\n",
        "    lrc(encoded_noisy[i], n_padded, q, r, w0, z0)\n",
        "    for i in range(num_unseen_samples)\n",
        "])\n",
        "\n",
        "# Accuracy\n",
        "acc_classical_noisy = classical_accuracy(x_unseen_original_padded, lrc_preds_noisy, n)\n",
        "\n",
        "print(f\"Accuracy on unseen data with 2% noise (classical): {acc_classical_noisy:.6f}\")\n",
        "\n",
        "# Display a few samples\n",
        "num_display_samples = 3\n",
        "for i in range(num_display_samples):\n",
        "    print(f\"\\nSample {i+1}:\")\n",
        "    print(f\"Original :  {x_unseen_original[i]}\")\n",
        "    print(f\"Recovered: {lrc_preds_noisy[i][:n].astype(int)}\")"
      ],
      "metadata": {
        "colab": {
          "base_uri": "https://localhost:8080/"
        },
        "id": "EMJPnO0K5Tvr",
        "outputId": "6fd8bcdf-dc9a-4db1-d02e-d6e3e582b3a6"
      },
      "execution_count": null,
      "outputs": [
        {
          "output_type": "stream",
          "name": "stdout",
          "text": [
            "Accuracy on unseen data with 2% noise (classical): 0.562963\n",
            "\n",
            "Sample 1:\n",
            "Original :  [6 3 4 6 2 4 4 6 1 2 6 2 2 4 3 2 5 4 1 3 5 5 1 3 4 0 3]\n",
            "Recovered: [2 4 2 2 0 4 5 6 4 2 0 2 2 4 3 2 5 4 1 3 5 5 1 3 4 0 3]\n",
            "\n",
            "Sample 2:\n",
            "Original :  [1 5 4 3 0 0 2 2 6 1 3 3 6 5 5 6 5 2 3 6 3 0 2 4 2 6 4]\n",
            "Recovered: [6 5 1 6 1 3 3 6 4 2 4 4 0 6 5 6 5 2 3 6 3 0 2 4 2 6 4]\n",
            "\n",
            "Sample 3:\n",
            "Original :  [0 6 1 3 0 3 5 1 1 0 1 4 1 3 3 6 3 6 3 4 6 2 5 0 3 1 3]\n",
            "Recovered: [0 0 3 1 0 0 6 3 2 1 1 5 2 3 3 6 3 6 3 4 6 2 5 0 3 1 3]\n"
          ]
        }
      ]
    },
    {
      "cell_type": "code",
      "source": [
        "# --------------------- Classical Algorithm on noisy unseen samples -------------------------\n",
        "\n",
        "np.random.seed(42)\n",
        "\n",
        "x_unseen_original = np.random.randint(0, q, size=(num_unseen_samples, n))\n",
        "x_unseen_original_padded = np.pad(x_unseen_original, ((0, 0), (0, padding)), mode='constant', constant_values=0)\n",
        "\n",
        "# Encode\n",
        "encoded_dataset_unseen = np.array([np.dot(M_tilde, x) for x in x_unseen_original_padded])\n",
        "encoded_dataset_unseen[np.abs(encoded_dataset_unseen) < 1e-10] = 0\n",
        "encoded_dataset_unseen = np.round(encoded_dataset_unseen, decimals=10)\n",
        "\n",
        "# ---- Add Gaussian noise ----\n",
        "noise_ratio = 0.05  # 5% noise\n",
        "real_parts = np.real(encoded_dataset_unseen)\n",
        "imag_parts = np.imag(encoded_dataset_unseen)\n",
        "\n",
        "noise_std_real = np.abs(real_parts) * noise_ratio\n",
        "noise_std_imag = np.abs(imag_parts) * noise_ratio\n",
        "\n",
        "noise_real = np.random.normal(0, noise_std_real)\n",
        "noise_imag = np.random.normal(0, noise_std_imag)\n",
        "noise = noise_real + 1j * noise_imag\n",
        "\n",
        "encoded_noisy = encoded_dataset_unseen + noise\n",
        "\n",
        "# Decode with classical algorithm\n",
        "lrc_preds_noisy = np.array([\n",
        "    lrc(encoded_noisy[i], n_padded, q, r, w0, z0)\n",
        "    for i in range(num_unseen_samples)\n",
        "])\n",
        "\n",
        "# Accuracy\n",
        "acc_classical_noisy = classical_accuracy(x_unseen_original_padded, lrc_preds_noisy, n)\n",
        "\n",
        "print(f\"Accuracy on unseen data with 5% noise (classical): {acc_classical_noisy:.6f}\")\n",
        "\n",
        "# Display a few samples\n",
        "num_display_samples = 3\n",
        "for i in range(num_display_samples):\n",
        "    print(f\"\\nSample {i+1}:\")\n",
        "    print(f\"Original :  {x_unseen_original[i]}\")\n",
        "    print(f\"Recovered: {lrc_preds_noisy[i][:n].astype(int)}\")"
      ],
      "metadata": {
        "colab": {
          "base_uri": "https://localhost:8080/"
        },
        "id": "BNFLLEdx8HSR",
        "outputId": "1d4097b7-9ecf-488b-c690-09eec2572c8d"
      },
      "execution_count": null,
      "outputs": [
        {
          "output_type": "stream",
          "name": "stdout",
          "text": [
            "Accuracy on unseen data with 5% noise (classical): 0.446296\n",
            "\n",
            "Sample 1:\n",
            "Original :  [6 3 4 6 2 4 4 6 1 2 6 2 2 4 3 2 5 4 1 3 5 5 1 3 4 0 3]\n",
            "Recovered: [1 1 1 0 6 2 6 6 1 5 2 2 3 4 2 3 4 3 1 3 5 5 1 3 4 0 3]\n",
            "\n",
            "Sample 2:\n",
            "Original :  [1 5 4 3 0 0 2 2 6 1 3 3 6 5 5 6 5 2 3 6 3 0 2 4 2 6 4]\n",
            "Recovered: [4 6 5 0 3 5 4 1 4 3 5 5 1 0 6 5 4 2 3 6 3 0 2 4 2 6 4]\n",
            "\n",
            "Sample 3:\n",
            "Original :  [0 6 1 3 0 3 5 1 1 0 1 4 1 3 3 6 3 6 3 4 6 2 5 0 3 1 3]\n",
            "Recovered: [3 6 2 4 4 2 1 6 3 2 1 5 3 4 2 5 2 6 3 4 6 2 5 0 3 1 3]\n"
          ]
        }
      ]
    },
    {
      "cell_type": "code",
      "source": [],
      "metadata": {
        "id": "F2PGhat68LJR"
      },
      "execution_count": null,
      "outputs": []
    }
  ],
  "metadata": {
    "kernelspec": {
      "display_name": "base",
      "language": "python",
      "name": "python3"
    },
    "language_info": {
      "codemirror_mode": {
        "name": "ipython",
        "version": 3
      },
      "file_extension": ".py",
      "mimetype": "text/x-python",
      "name": "python",
      "nbconvert_exporter": "python",
      "pygments_lexer": "ipython3",
      "version": "3.9.18"
    },
    "colab": {
      "provenance": []
    }
  },
  "nbformat": 4,
  "nbformat_minor": 0
}