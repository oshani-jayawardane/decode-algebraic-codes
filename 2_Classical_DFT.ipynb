{
  "nbformat": 4,
  "nbformat_minor": 0,
  "metadata": {
    "colab": {
      "provenance": []
    },
    "kernelspec": {
      "name": "python3",
      "display_name": "Python 3"
    },
    "language_info": {
      "name": "python"
    }
  },
  "cells": [
    {
      "cell_type": "markdown",
      "source": [
        "# Test File for Testing DFT and IDFT Algorithms"
      ],
      "metadata": {
        "id": "d8LkINAAngP4"
      }
    },
    {
      "cell_type": "code",
      "source": [
        "%reset -f\n",
        "import gc\n",
        "gc.collect()"
      ],
      "metadata": {
        "colab": {
          "base_uri": "https://localhost:8080/"
        },
        "id": "1ZwmUCBaau1y",
        "outputId": "b3e602dd-13da-44c6-d446-d8169f74d49e"
      },
      "execution_count": 1,
      "outputs": [
        {
          "output_type": "execute_result",
          "data": {
            "text/plain": [
              "0"
            ]
          },
          "metadata": {},
          "execution_count": 1
        }
      ]
    },
    {
      "cell_type": "code",
      "source": [
        "import numpy as np\n",
        "from scipy.fft import fft, ifft\n",
        "import tensorflow as tf\n",
        "\n",
        "np.random.seed(42)\n",
        "\n",
        "n = 16\n",
        "q = 5\n",
        "num_samples = 3\n",
        "\n",
        "dataset = np.random.randint(0, q, size=(num_samples, n))\n",
        "print(dataset)"
      ],
      "metadata": {
        "colab": {
          "base_uri": "https://localhost:8080/"
        },
        "id": "jQjyzEFNawHn",
        "outputId": "d0b594f6-986a-4155-a099-a7045c0aa0ad"
      },
      "execution_count": 2,
      "outputs": [
        {
          "output_type": "stream",
          "name": "stdout",
          "text": [
            "[[3 4 2 4 4 1 2 2 2 4 3 2 4 1 3 1]\n",
            " [3 4 0 3 1 4 3 0 0 2 2 1 3 3 2 3]\n",
            " [3 0 2 4 2 4 0 1 3 0 3 1 1 0 1 4]]\n"
          ]
        }
      ]
    },
    {
      "cell_type": "code",
      "source": [
        "n1=n//2\n",
        "\n",
        "zeta = np.exp(-2j * np.pi / n)\n",
        "Dn = np.array([zeta**k for k in range(n1)])\n",
        "\n",
        "print(Dn)\n",
        "print(np.conj(Dn))"
      ],
      "metadata": {
        "colab": {
          "base_uri": "https://localhost:8080/"
        },
        "id": "9LRNOOqXnokk",
        "outputId": "4d74f742-8c20-4a42-e356-be26d0adaae0"
      },
      "execution_count": 3,
      "outputs": [
        {
          "output_type": "stream",
          "name": "stdout",
          "text": [
            "[ 1.00000000e+00+0.j          9.23879533e-01-0.38268343j\n",
            "  7.07106781e-01-0.70710678j  3.82683432e-01-0.92387953j\n",
            " -2.22044605e-16-1.j         -3.82683432e-01-0.92387953j\n",
            " -7.07106781e-01-0.70710678j -9.23879533e-01-0.38268343j]\n",
            "[ 1.00000000e+00-0.j          9.23879533e-01+0.38268343j\n",
            "  7.07106781e-01+0.70710678j  3.82683432e-01+0.92387953j\n",
            " -2.22044605e-16+1.j         -3.82683432e-01+0.92387953j\n",
            " -7.07106781e-01+0.70710678j -9.23879533e-01+0.38268343j]\n"
          ]
        }
      ]
    },
    {
      "cell_type": "markdown",
      "source": [
        "# **DFT**"
      ],
      "metadata": {
        "id": "AiI8GJ6SoHER"
      }
    },
    {
      "cell_type": "markdown",
      "source": [
        "### Brute Force DFT"
      ],
      "metadata": {
        "id": "wygIpSLytmNV"
      }
    },
    {
      "cell_type": "markdown",
      "source": [
        "$$\n",
        "    X[k] = \\sum_{n=0}^{N-1} x[n] e^{-j \\frac{2\\pi}{N} kn}, \\quad k = 0,1,\\dots, N-1\n",
        "$$"
      ],
      "metadata": {
        "id": "9ucTn4r7uTXL"
      }
    },
    {
      "cell_type": "code",
      "source": [
        "def dft_brute_force(x, N):\n",
        "    X = np.zeros(N, dtype=complex)\n",
        "\n",
        "    for k in range(N):\n",
        "        for n in range(N):\n",
        "            X[k] += x[n] * np.exp(-2j * np.pi * k * n / N)\n",
        "\n",
        "    return X"
      ],
      "metadata": {
        "id": "MDJRTW77tyw8"
      },
      "execution_count": 4,
      "outputs": []
    },
    {
      "cell_type": "markdown",
      "source": [
        "### Recursive Radix-2 DFT"
      ],
      "metadata": {
        "id": "cv0Ky8JytuTu"
      }
    },
    {
      "cell_type": "markdown",
      "source": [
        "$$\n",
        "F_n = P_n\n",
        "\\begin{bmatrix}\n",
        "F_{n/2} & 0 \\\\\n",
        "0 & F_{n/2}\n",
        "\\end{bmatrix}\n",
        "H_n\n",
        "$$\n",
        "\n",
        "$$\n",
        "H_n =\n",
        "\\begin{bmatrix}\n",
        "I_{\\frac{n}{2}} & I_{\\frac{n}{2}} \\\\\n",
        "D_n & -D_n\n",
        "\\end{bmatrix}\n",
        "\\quad \\text{ where } \\quad\n",
        "D_n = \\operatorname{diag}(1, \\zeta, \\zeta^2, \\dots, \\zeta^{\\frac{n}{2} - 1}), \\quad \\text{where } \\zeta = e^{-2\\pi i/n}\n",
        "$$"
      ],
      "metadata": {
        "id": "vLJbnEZmv12T"
      }
    },
    {
      "cell_type": "code",
      "source": [
        "# using matmul\n",
        "\n",
        "def dft_matmul(u, n):\n",
        "    n1 = n // 2\n",
        "    if n == 2:\n",
        "        return np.array([u[0] + u[1], u[0] - u[1]])\n",
        "\n",
        "    zeta = np.exp(-2j * np.pi / n)\n",
        "    Dn = np.diag([zeta**k for k in range(n1)])\n",
        "    Hn = np.block([[np.eye(n1), np.eye(n1)],\n",
        "                   [Dn, -Dn]])\n",
        "\n",
        "    p = np.dot(Hn, u)\n",
        "    # p = Hn @ u\n",
        "\n",
        "    s1 = dft(p[:n1], n1)\n",
        "    s2 = dft(p[n1:], n1)\n",
        "\n",
        "    interleaved = np.empty((len(s1) + len(s2)), dtype=complex)  # data type - complex\n",
        "    interleaved[0::2] = s1  # even indices with s1\n",
        "    interleaved[1::2] = s2  # odd indices with s2\n",
        "\n",
        "    y = interleaved\n",
        "\n",
        "    return y"
      ],
      "metadata": {
        "id": "0kpJ0dyrogu2"
      },
      "execution_count": 5,
      "outputs": []
    },
    {
      "cell_type": "code",
      "source": [
        "def dft(u, n):\n",
        "    n1 = n // 2\n",
        "    if n == 2:\n",
        "        return np.array([u[0] + u[1], u[0] - u[1]])\n",
        "    else:\n",
        "        zeta = np.exp(-2j * np.pi / n)\n",
        "        Dn = np.array([zeta**k for k in range(n1)])\n",
        "        p_first = u[:n1] + u[n1:]\n",
        "        p_second = Dn * (u[:n1] - u[n1:])\n",
        "        s1 = dft(p_first, n1)\n",
        "        s2 = dft(p_second, n1)\n",
        "        y = np.empty(n, dtype=complex)\n",
        "        y[0::2] = s1\n",
        "        y[1::2] = s2\n",
        "        return y"
      ],
      "metadata": {
        "id": "bYsaQ-1xoIQc"
      },
      "execution_count": 6,
      "outputs": []
    },
    {
      "cell_type": "markdown",
      "source": [
        "# **IDFT**"
      ],
      "metadata": {
        "id": "9Yw61AWxnrfG"
      }
    },
    {
      "cell_type": "markdown",
      "source": [
        "### Brute Force IDFT"
      ],
      "metadata": {
        "id": "tACrK1pHtsLK"
      }
    },
    {
      "cell_type": "code",
      "source": [
        "def idft_brute_force(X, N):\n",
        "    x = np.zeros(N, dtype=complex)\n",
        "\n",
        "    for n in range(N):\n",
        "        for k in range(N):\n",
        "            x[n] += X[k] * np.exp(2j * np.pi * k * n / N)\n",
        "\n",
        "    return x / N"
      ],
      "metadata": {
        "id": "h_GRvXwet18n"
      },
      "execution_count": 7,
      "outputs": []
    },
    {
      "cell_type": "markdown",
      "source": [
        "### Recursive Radix-2 IDFT"
      ],
      "metadata": {
        "id": "jC1VQH3yt0TW"
      }
    },
    {
      "cell_type": "markdown",
      "source": [
        "$$\n",
        "F_n^{*} = \\frac{1}{2} H_n^*\n",
        "\\begin{bmatrix}\n",
        "F_{n/2}^{*} & 0 \\\\\n",
        "0 & F_{n/2}^{*}\n",
        "\\end{bmatrix}\n",
        "P_n^T\n",
        "$$\n",
        "\n",
        "$$\n",
        "H_n =\n",
        "\\begin{bmatrix}\n",
        "I_{\\frac{n}{2}} & I_{\\frac{n}{2}} \\\\\n",
        "D_n & -D_n\n",
        "\\end{bmatrix}\n",
        "\\quad \\text{ where } \\quad\n",
        "D_n = \\operatorname{diag}(1, \\zeta, \\zeta^2, \\dots, \\zeta^{\\frac{n}{2} - 1}), \\quad \\text{where } \\zeta = e^{-2\\pi i/n}\n",
        "$$"
      ],
      "metadata": {
        "id": "pWjiZ_XsxPf6"
      }
    },
    {
      "cell_type": "code",
      "source": [
        "# using matmul\n",
        "\n",
        "def idft_matmul(y, n):\n",
        "    n1 = n// 2\n",
        "\n",
        "    if n == 2:\n",
        "        return np.array([y[0] + y[1], y[0] - y[1]]) / 2\n",
        "\n",
        "    elif n >= 4:\n",
        "        q = np.concatenate((y[0:n:2], y[1:n:2]))\n",
        "\n",
        "        b1 = idft(q[:n1], n1)\n",
        "        b2 = idft(q[n1:], n1)\n",
        "\n",
        "        b_out = np.concatenate((b1, b2))\n",
        "\n",
        "        zeta = np.exp(-2j * np.pi / n)\n",
        "        Dn = np.diag([zeta**k for k in range(n1)])\n",
        "        Hn = np.block([[np.eye(n1), np.eye(n1)],\n",
        "                       [Dn, -Dn]])\n",
        "\n",
        "        Hn_conj = np.conjugate(Hn).T\n",
        "\n",
        "        z1 = np.dot(Hn_conj, b_out)\n",
        "\n",
        "        out = z1 / 2\n",
        "\n",
        "        # real = np.real(out)\n",
        "        # img = np.imag(out)\n",
        "\n",
        "        return out # Scale down since IDFT requires normalization\n",
        "\n",
        "    # note: i tried to uncomment np.real(out) and return only the real value. it doesn't work.\n",
        "    # rather run the algorithm as it is and then take the np.real() of the final result\n",
        "    # this might be because this is a recursive function and the function implicitly passes the value as a complex number in the next call."
      ],
      "metadata": {
        "id": "dzjzvL7NoUVv"
      },
      "execution_count": 8,
      "outputs": []
    },
    {
      "cell_type": "code",
      "source": [
        "def idft(y, n):\n",
        "    n1 = n// 2\n",
        "\n",
        "    if n == 2:\n",
        "        return np.array([y[0] + y[1], y[0] - y[1]]) / 2\n",
        "\n",
        "    elif n >= 4:\n",
        "        q = np.concatenate((y[0:n:2], y[1:n:2]))\n",
        "\n",
        "        B1 = idft(q[:n1], n1)\n",
        "        B2 = idft(q[n1:], n1)\n",
        "\n",
        "        b_out = np.concatenate((B1, B2))\n",
        "\n",
        "        zeta = np.exp(-2j * np.pi / n)\n",
        "        Dn = np.array([zeta**k for k in range(n1)])\n",
        "\n",
        "        # z1 = np.concatenate([B1 + Dn * B2, B1 - Dn * B2], axis=0)\n",
        "        z1 = np.concatenate([B1 + np.conj(Dn) * B2, B1 - np.conj(Dn) * B2], axis=0)\n",
        "\n",
        "        out = z1 / 2\n",
        "\n",
        "        return out"
      ],
      "metadata": {
        "id": "nrTcveSBns-n"
      },
      "execution_count": 9,
      "outputs": []
    },
    {
      "cell_type": "markdown",
      "source": [
        "### Test Cases"
      ],
      "metadata": {
        "id": "xRGxu4LunxFM"
      }
    },
    {
      "cell_type": "markdown",
      "source": [
        "Encoding (DFT)"
      ],
      "metadata": {
        "id": "KmOOW1JLn_Ud"
      }
    },
    {
      "cell_type": "code",
      "source": [
        "for i, message in enumerate(dataset):\n",
        "    print(f\"\\nOriginal Message {i+1}: {message}\")\n",
        "\n",
        "    brute = dft_brute_force(message, n)\n",
        "    print(\"DFT (brute):     \", np.round(brute, 4))\n",
        "\n",
        "    scipy_fft = fft(message)\n",
        "    print(\"DFT (scipy fft): \", np.round(scipy_fft, 4))\n",
        "\n",
        "    matmul = dft_matmul(message, n)\n",
        "    print(\"DFT (matmul):    \", np.round(matmul, 4))\n",
        "\n",
        "    rec = dft(message, n)\n",
        "    print(\"DFT (optimized): \", np.round(rec, 4))\n",
        "\n",
        "    print(\"Match brute & scipy:\", np.allclose(brute, scipy_fft))\n",
        "    print(\"Match optimized DFT & scipy:\", np.allclose(rec, scipy_fft))\n",
        "    print(\"Match matmul & scipy:\", np.allclose(matmul, scipy_fft))\n",
        "    print(\"Match optimized DFT & matmul:\", np.allclose(matmul, rec))"
      ],
      "metadata": {
        "colab": {
          "base_uri": "https://localhost:8080/"
        },
        "id": "tbCkz3dNzwLN",
        "outputId": "8ca8abfd-b565-4128-aa48-3ce827a81289"
      },
      "execution_count": 10,
      "outputs": [
        {
          "output_type": "stream",
          "name": "stdout",
          "text": [
            "\n",
            "Original Message 1: [3 4 2 4 4 1 2 2 2 4 3 2 4 1 3 1]\n",
            "DFT (brute):      [42.    +0.j      0.8415-0.8162j -0.8787-6.364j  -1.2304+1.2557j\n",
            "  3.    -1.j      3.2304-1.5727j -5.1213-6.364j   1.1585-3.6447j\n",
            "  4.    -0.j      1.1585+3.6447j -5.1213+6.364j   3.2304+1.5727j\n",
            "  3.    +1.j     -1.2304-1.2557j -0.8787+6.364j   0.8415+0.8162j]\n",
            "DFT (scipy fft):  [42.    -0.j      0.8415-0.8162j -0.8787-6.364j  -1.2304+1.2557j\n",
            "  3.    -1.j      3.2304-1.5727j -5.1213-6.364j   1.1585-3.6447j\n",
            "  4.    -0.j      1.1585+3.6447j -5.1213+6.364j   3.2304+1.5727j\n",
            "  3.    +1.j     -1.2304-1.2557j -0.8787+6.364j   0.8415+0.8162j]\n",
            "DFT (matmul):     [42.    +0.j      0.8415-0.8162j -0.8787-6.364j  -1.2304+1.2557j\n",
            "  3.    -1.j      3.2304-1.5727j -5.1213-6.364j   1.1585-3.6447j\n",
            "  4.    +0.j      1.1585+3.6447j -5.1213+6.364j   3.2304+1.5727j\n",
            "  3.    +1.j     -1.2304-1.2557j -0.8787+6.364j   0.8415+0.8162j]\n",
            "DFT (optimized):  [42.    +0.j      0.8415-0.8162j -0.8787-6.364j  -1.2304+1.2557j\n",
            "  3.    -1.j      3.2304-1.5727j -5.1213-6.364j   1.1585-3.6447j\n",
            "  4.    +0.j      1.1585+3.6447j -5.1213+6.364j   3.2304+1.5727j\n",
            "  3.    +1.j     -1.2304-1.2557j -0.8787+6.364j   0.8415+0.8162j]\n",
            "Match brute & scipy: True\n",
            "Match optimized DFT & scipy: True\n",
            "Match matmul & scipy: True\n",
            "Match optimized DFT & matmul: True\n",
            "\n",
            "Original Message 2: [3 4 0 3 1 4 3 0 0 2 2 1 3 3 2 3]\n",
            "DFT (brute):      [34.    +0.j      5.8808+0.3182j -2.4142+3.j      6.1109+0.779j\n",
            " -0.    -6.j      4.1318+3.3648j  0.4142-3.j     -4.1234-5.0961j\n",
            " -6.    -0.j     -4.1234+5.0961j  0.4142+3.j      4.1318-3.3648j\n",
            " -0.    +6.j      6.1109-0.779j  -2.4142-3.j      5.8808-0.3182j]\n",
            "DFT (scipy fft):  [34.    -0.j      5.8808+0.3182j -2.4142+3.j      6.1109+0.779j\n",
            "  0.    -6.j      4.1318+3.3648j  0.4142-3.j     -4.1234-5.0961j\n",
            " -6.    -0.j     -4.1234+5.0961j  0.4142+3.j      4.1318-3.3648j\n",
            "  0.    +6.j      6.1109-0.779j  -2.4142-3.j      5.8808-0.3182j]\n",
            "DFT (matmul):     [34.    +0.j      5.8808+0.3182j -2.4142+3.j      6.1109+0.779j\n",
            "  0.    -6.j      4.1318+3.3648j  0.4142-3.j     -4.1234-5.0961j\n",
            " -6.    +0.j     -4.1234+5.0961j  0.4142+3.j      4.1318-3.3648j\n",
            " -0.    +6.j      6.1109-0.779j  -2.4142-3.j      5.8808-0.3182j]\n",
            "DFT (optimized):  [34.    +0.j      5.8808+0.3182j -2.4142+3.j      6.1109+0.779j\n",
            "  0.    -6.j      4.1318+3.3648j  0.4142-3.j     -4.1234-5.0961j\n",
            " -6.    +0.j     -4.1234+5.0961j  0.4142+3.j      4.1318-3.3648j\n",
            " -0.    +6.j      6.1109-0.779j  -2.4142-3.j      5.8808-0.3182j]\n",
            "Match brute & scipy: True\n",
            "Match optimized DFT & scipy: True\n",
            "Match matmul & scipy: True\n",
            "Match optimized DFT & matmul: True\n",
            "\n",
            "Original Message 3: [3 0 2 4 2 4 0 1 3 0 3 1 1 0 1 4]\n",
            "DFT (brute):      [29.    +0.j      2.389 -4.9049j  0.1716-1.1716j  2.0719+7.8646j\n",
            "  3.    +6.j     -2.0719+3.0362j  5.8284+6.8284j -2.389 -5.7333j\n",
            "  1.    -0.j     -2.389 +5.7333j  5.8284-6.8284j -2.0719-3.0362j\n",
            "  3.    -6.j      2.0719-7.8646j  0.1716+1.1716j  2.389 +4.9049j]\n",
            "DFT (scipy fft):  [29.    -0.j      2.389 -4.9049j  0.1716-1.1716j  2.0719+7.8646j\n",
            "  3.    +6.j     -2.0719+3.0362j  5.8284+6.8284j -2.389 -5.7333j\n",
            "  1.    -0.j     -2.389 +5.7333j  5.8284-6.8284j -2.0719-3.0362j\n",
            "  3.    -6.j      2.0719-7.8646j  0.1716+1.1716j  2.389 +4.9049j]\n",
            "DFT (matmul):     [29.    +0.j      2.389 -4.9049j  0.1716-1.1716j  2.0719+7.8646j\n",
            "  3.    +6.j     -2.0719+3.0362j  5.8284+6.8284j -2.389 -5.7333j\n",
            "  1.    +0.j     -2.389 +5.7333j  5.8284-6.8284j -2.0719-3.0362j\n",
            "  3.    -6.j      2.0719-7.8646j  0.1716+1.1716j  2.389 +4.9049j]\n",
            "DFT (optimized):  [29.    +0.j      2.389 -4.9049j  0.1716-1.1716j  2.0719+7.8646j\n",
            "  3.    +6.j     -2.0719+3.0362j  5.8284+6.8284j -2.389 -5.7333j\n",
            "  1.    +0.j     -2.389 +5.7333j  5.8284-6.8284j -2.0719-3.0362j\n",
            "  3.    -6.j      2.0719-7.8646j  0.1716+1.1716j  2.389 +4.9049j]\n",
            "Match brute & scipy: True\n",
            "Match optimized DFT & scipy: True\n",
            "Match matmul & scipy: True\n",
            "Match optimized DFT & matmul: True\n"
          ]
        }
      ]
    },
    {
      "cell_type": "markdown",
      "source": [
        "Decoding (IDFT)"
      ],
      "metadata": {
        "id": "bkedLmnHoA3l"
      }
    },
    {
      "cell_type": "code",
      "source": [
        "for i, message in enumerate(dataset):\n",
        "    print(f\"\\nOriginal Message {i+1}: {message}\")\n",
        "\n",
        "    encoded = fft(message)\n",
        "    # print(\"Encoded (scipy FFT):\", np.round(encoded, 4))\n",
        "\n",
        "    brute_decoded = idft_brute_force(encoded, n)\n",
        "    print(\"iDFT (brute):       \", np.round(brute_decoded, 4))\n",
        "\n",
        "    scipy_ifft = ifft(encoded)\n",
        "    print(\"iDFT (scipy ifft):  \", np.round(scipy_ifft, 4))\n",
        "\n",
        "    matmul_decoded = idft_matmul(encoded, n)\n",
        "    print(\"iDFT (matmul):      \", np.round(matmul_decoded, 4))\n",
        "\n",
        "    rec_decoded = idft(encoded, n)\n",
        "    print(\"iDFT (optimized):   \", np.round(rec_decoded, 4))\n",
        "\n",
        "    # compare all decoders to original message\n",
        "    print(\"Brute ≈ original:\", np.allclose(brute_decoded, message))\n",
        "    print(\"Optimized ≈ original:\", np.allclose(rec_decoded, message))\n",
        "    print(\"Matmul ≈ original:\", np.allclose(matmul_decoded, message))\n",
        "    print(\"Scipy ≈ original:\", np.allclose(scipy_ifft, message))\n",
        "\n",
        "    # compare among methods too\n",
        "    print(\"Optimized ≈ Matmul:\", np.allclose(matmul_decoded, rec_decoded))\n",
        "    print(\"Brute ≈ Scipy:\", np.allclose(brute_decoded, scipy_ifft))"
      ],
      "metadata": {
        "colab": {
          "base_uri": "https://localhost:8080/"
        },
        "id": "6xxSgEUVzvWT",
        "outputId": "d5ea679b-4ff5-41e7-9eda-15ff6378f127"
      },
      "execution_count": 11,
      "outputs": [
        {
          "output_type": "stream",
          "name": "stdout",
          "text": [
            "\n",
            "Original Message 1: [3 4 2 4 4 1 2 2 2 4 3 2 4 1 3 1]\n",
            "iDFT (brute):        [3.-0.j 4.-0.j 2.+0.j 4.-0.j 4.-0.j 1.+0.j 2.-0.j 2.+0.j 2.+0.j 4.-0.j\n",
            " 3.-0.j 2.+0.j 4.-0.j 1.+0.j 3.+0.j 1.+0.j]\n",
            "iDFT (scipy ifft):   [3.+0.j 4.+0.j 2.+0.j 4.+0.j 4.+0.j 1.-0.j 2.+0.j 2.-0.j 2.+0.j 4.+0.j\n",
            " 3.+0.j 2.+0.j 4.+0.j 1.-0.j 3.-0.j 1.-0.j]\n",
            "iDFT (matmul):       [3.+0.j 4.-0.j 2.+0.j 4.-0.j 4.+0.j 1.+0.j 2.-0.j 2.+0.j 2.+0.j 4.-0.j\n",
            " 3.+0.j 2.-0.j 4.+0.j 1.+0.j 3.+0.j 1.+0.j]\n",
            "iDFT (optimized):    [3.+0.j 4.-0.j 2.-0.j 4.-0.j 4.+0.j 1.+0.j 2.-0.j 2.+0.j 2.+0.j 4.-0.j\n",
            " 3.+0.j 2.-0.j 4.+0.j 1.+0.j 3.+0.j 1.+0.j]\n",
            "Brute ≈ original: True\n",
            "Optimized ≈ original: True\n",
            "Matmul ≈ original: True\n",
            "Scipy ≈ original: True\n",
            "Optimized ≈ Matmul: True\n",
            "Brute ≈ Scipy: True\n",
            "\n",
            "Original Message 2: [3 4 0 3 1 4 3 0 0 2 2 1 3 3 2 3]\n",
            "iDFT (brute):        [ 3.+0.j  4.-0.j  0.-0.j  3.-0.j  1.+0.j  4.-0.j  3.+0.j -0.+0.j  0.+0.j\n",
            "  2.-0.j  2.+0.j  1.+0.j  3.-0.j  3.-0.j  2.-0.j  3.-0.j]\n",
            "iDFT (scipy ifft):   [ 3.+0.j  4.-0.j  0.+0.j  3.+0.j  1.+0.j  4.+0.j  3.+0.j -0.-0.j  0.+0.j\n",
            "  2.-0.j  2.+0.j  1.+0.j  3.+0.j  3.+0.j  2.-0.j  3.-0.j]\n",
            "iDFT (matmul):       [ 3.+0.j  4.-0.j  0.+0.j  3.-0.j  1.-0.j  4.+0.j  3.-0.j -0.-0.j  0.+0.j\n",
            "  2.+0.j  2.+0.j  1.+0.j  3.+0.j  3.-0.j  2.-0.j  3.+0.j]\n",
            "iDFT (optimized):    [ 3.+0.j  4.-0.j  0.+0.j  3.-0.j  1.-0.j  4.+0.j  3.-0.j -0.-0.j  0.+0.j\n",
            "  2.+0.j  2.+0.j  1.+0.j  3.+0.j  3.-0.j  2.-0.j  3.+0.j]\n",
            "Brute ≈ original: True\n",
            "Optimized ≈ original: True\n",
            "Matmul ≈ original: True\n",
            "Scipy ≈ original: True\n",
            "Optimized ≈ Matmul: True\n",
            "Brute ≈ Scipy: True\n",
            "\n",
            "Original Message 3: [3 0 2 4 2 4 0 1 3 0 3 1 1 0 1 4]\n",
            "iDFT (brute):        [ 3.+0.j  0.-0.j  2.-0.j  4.-0.j  2.+0.j  4.-0.j -0.+0.j  1.-0.j  3.-0.j\n",
            " -0.+0.j  3.+0.j  1.+0.j  1.+0.j -0.+0.j  1.+0.j  4.-0.j]\n",
            "iDFT (scipy ifft):   [ 3.+0.j  0.-0.j  2.+0.j  4.+0.j  2.+0.j  4.+0.j  0.+0.j  1.+0.j  3.+0.j\n",
            " -0.-0.j  3.+0.j  1.+0.j  1.+0.j  0.+0.j  1.-0.j  4.+0.j]\n",
            "iDFT (matmul):       [ 3.+0.j  0.+0.j  2.-0.j  4.-0.j  2.+0.j  4.+0.j  0.+0.j  1.-0.j  3.+0.j\n",
            " -0.+0.j  3.-0.j  1.+0.j  1.-0.j  0.-0.j  1.+0.j  4.+0.j]\n",
            "iDFT (optimized):    [ 3.+0.j  0.+0.j  2.-0.j  4.-0.j  2.+0.j  4.+0.j  0.+0.j  1.-0.j  3.+0.j\n",
            " -0.+0.j  3.-0.j  1.+0.j  1.-0.j  0.-0.j  1.+0.j  4.+0.j]\n",
            "Brute ≈ original: True\n",
            "Optimized ≈ original: True\n",
            "Matmul ≈ original: True\n",
            "Scipy ≈ original: True\n",
            "Optimized ≈ Matmul: True\n",
            "Brute ≈ Scipy: True\n"
          ]
        }
      ]
    },
    {
      "cell_type": "markdown",
      "source": [
        "Notes: take the real part of the output"
      ],
      "metadata": {
        "id": "CL6rX1Am1gdy"
      }
    },
    {
      "cell_type": "code",
      "source": [],
      "metadata": {
        "id": "vjYXA_gA1c5v"
      },
      "execution_count": 11,
      "outputs": []
    }
  ]
}