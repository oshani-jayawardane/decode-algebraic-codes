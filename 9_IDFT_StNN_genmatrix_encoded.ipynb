{
  "cells": [
    {
      "cell_type": "markdown",
      "metadata": {
        "id": "J8twykWyP4sb"
      },
      "source": [
        "### DFTSNN - DFT Encoded dataset"
      ]
    },
    {
      "cell_type": "markdown",
      "metadata": {
        "id": "L6fHPxK2P4sf"
      },
      "source": [
        "The imaginary and real values are parellel processed until concatenation."
      ]
    },
    {
      "cell_type": "code",
      "execution_count": 29,
      "metadata": {
        "id": "VTBoQRiKP4sg"
      },
      "outputs": [],
      "source": [
        "# (r + 1) | (q - 1)\n",
        "# (r + 1) | n\n",
        "# q is a prime number\n",
        "# n = 2^t\n",
        "# r < n"
      ]
    },
    {
      "cell_type": "code",
      "execution_count": 30,
      "metadata": {
        "colab": {
          "base_uri": "https://localhost:8080/"
        },
        "id": "s_JFe59EP4sh",
        "outputId": "a84361f4-a027-495d-d410-0e50d95adeb2"
      },
      "outputs": [
        {
          "output_type": "execute_result",
          "data": {
            "text/plain": [
              "31442"
            ]
          },
          "metadata": {},
          "execution_count": 30
        }
      ],
      "source": [
        "%reset -f\n",
        "import gc\n",
        "gc.collect()"
      ]
    },
    {
      "cell_type": "code",
      "execution_count": 31,
      "metadata": {
        "id": "9I3hZpocP4sj"
      },
      "outputs": [],
      "source": [
        "w0 = 4\n",
        "z0 = 3"
      ]
    },
    {
      "cell_type": "code",
      "execution_count": 32,
      "metadata": {
        "colab": {
          "base_uri": "https://localhost:8080/"
        },
        "id": "qzmAn2qrP4sj",
        "outputId": "19375ad3-ae6a-4090-ec1f-4c144ab7081a"
      },
      "outputs": [
        {
          "output_type": "stream",
          "name": "stdout",
          "text": [
            "Original n: 27\n",
            "Padded n: 32\n",
            "Generated dataset shape: (1000, 32)\n"
          ]
        }
      ],
      "source": [
        "import numpy as np\n",
        "\n",
        "np.random.seed(42)\n",
        "\n",
        "n = 27\n",
        "q = 7\n",
        "num_samples = 1000\n",
        "\n",
        "def next_power_of_two(x):\n",
        "    return 1 if x == 0 else 2**(x - 1).bit_length()\n",
        "\n",
        "n_padded = next_power_of_two(n)\n",
        "\n",
        "dataset = np.random.randint(0, q, size=(num_samples, n))\n",
        "\n",
        "if n_padded > n:\n",
        "    pad_width = n_padded - n\n",
        "    dataset = np.pad(dataset, ((0, 0), (0, pad_width)), mode='constant', constant_values=0)\n",
        "\n",
        "print(\"Original n:\", n)\n",
        "print(\"Padded n:\", n_padded)\n",
        "print(\"Generated dataset shape:\", dataset.shape)"
      ]
    },
    {
      "cell_type": "code",
      "execution_count": 33,
      "metadata": {
        "colab": {
          "base_uri": "https://localhost:8080/"
        },
        "id": "4KplhSnaP4sk",
        "outputId": "b98dddb7-9d6e-47eb-f537-7c9581a28dcf"
      },
      "outputs": [
        {
          "output_type": "stream",
          "name": "stdout",
          "text": [
            "[[6 3 4 ... 0 0 0]\n",
            " [1 5 4 ... 0 0 0]\n",
            " [0 6 1 ... 0 0 0]\n",
            " ...\n",
            " [4 1 1 ... 0 0 0]\n",
            " [6 1 2 ... 0 0 0]\n",
            " [1 5 4 ... 0 0 0]]\n",
            "(1000, 32)\n",
            "(32,)\n"
          ]
        }
      ],
      "source": [
        "print(dataset)\n",
        "print(dataset.shape)\n",
        "print(dataset[0].shape)"
      ]
    },
    {
      "cell_type": "markdown",
      "metadata": {
        "id": "vk6Ngc1WP4sl"
      },
      "source": [
        "$$\n",
        "\\tilde{M}_{kj} = \\left[ \\left( \\frac{w_0}{z_0} \\right)^j \\zeta^{kj} \\right]_{k,j=0}^{n-1}\n",
        "$$"
      ]
    },
    {
      "cell_type": "code",
      "execution_count": 34,
      "metadata": {
        "id": "j02vexbkP4sl"
      },
      "outputs": [],
      "source": [
        "def padded_generator_matrix(N, w0, z0):\n",
        "    n = np.arange(N)\n",
        "    k = n.reshape((N, 1))\n",
        "    zeta = np.exp(-2j * np.pi / N)\n",
        "    M_tilde = ((w0 / z0) ** n) * (zeta ** (k * n))\n",
        "    return M_tilde"
      ]
    },
    {
      "cell_type": "code",
      "execution_count": 35,
      "metadata": {
        "colab": {
          "base_uri": "https://localhost:8080/"
        },
        "id": "fvL1X2UNP4sl",
        "outputId": "d70736c8-be4f-4ea3-92e6-7ae6fcda4cc5"
      },
      "outputs": [
        {
          "output_type": "stream",
          "name": "stdout",
          "text": [
            "(32, 32)\n"
          ]
        }
      ],
      "source": [
        "M_tilde = padded_generator_matrix(n_padded, w0, z0)\n",
        "print(M_tilde.shape)"
      ]
    },
    {
      "cell_type": "code",
      "execution_count": 36,
      "metadata": {
        "colab": {
          "base_uri": "https://localhost:8080/"
        },
        "id": "WXtND8r0P4sm",
        "outputId": "5a314f0d-979e-4a6f-fa0c-326d83a0b933"
      },
      "outputs": [
        {
          "output_type": "stream",
          "name": "stdout",
          "text": [
            "[[ 18563.60052945    +0.j          -3175.07412411+14542.65392496j\n",
            "   -9480.13851167 -1549.89213738j ...   -850.18419129 +5788.51248279j\n",
            "   -9480.13851167 +1549.89213738j  -3175.07412411-14542.65392496j]\n",
            " [ 26201.57565547    +0.j           -888.79870167+21381.54383229j\n",
            "  -15711.89592314 +4225.02464251j ...  -8448.43948841+12321.54894128j\n",
            "  -15711.89592314 -4225.02464251j   -888.79870167-21381.54383229j]\n",
            " [ 18708.3418798     +0.j          -3692.76914231+14315.81246485j\n",
            "   -8001.63897938 -1445.78154582j ...  -2196.87866369 +4388.0650906j\n",
            "   -8001.63897938 +1445.78154582j  -3692.76914231-14315.81246485j]\n",
            " ...\n",
            " [ 23026.93389135    +0.j          -1109.76273792+19062.65254237j\n",
            "  -13040.7009937  +1311.43274328j ...  -3589.38928495 +6599.51636282j\n",
            "  -13040.7009937  -1311.43274328j  -1109.76273792-19062.65254237j]\n",
            " [ 13466.17623911    +0.j          -3519.32538663 +9603.71035865j\n",
            "   -6399.29947006 -1233.3778371j  ...  -1243.67319172 +6320.28545061j\n",
            "   -6399.29947006 +1233.3778371j   -3519.32538663 -9603.71035865j]\n",
            " [ 14588.02290132    +0.j          -1642.56444197+11272.19910547j\n",
            "   -6953.08933372  +889.35665809j ...  -4636.08674653 +4233.01026956j\n",
            "   -6953.08933372  -889.35665809j  -1642.56444197-11272.19910547j]]\n"
          ]
        }
      ],
      "source": [
        "encoded_dataset = np.array([np.dot(M_tilde, x) for x in dataset])\n",
        "encoded_dataset[np.abs(encoded_dataset) < 1e-10] = 0\n",
        "encoded_dataset = np.round(encoded_dataset, decimals=10)\n",
        "print(encoded_dataset)"
      ]
    },
    {
      "cell_type": "code",
      "execution_count": 37,
      "metadata": {
        "colab": {
          "base_uri": "https://localhost:8080/"
        },
        "id": "Pz2vHXGcP4sm",
        "outputId": "a57fa0cf-1121-480a-b163-1c1a39f992a9"
      },
      "outputs": [
        {
          "output_type": "stream",
          "name": "stdout",
          "text": [
            "(1000, 32)\n"
          ]
        }
      ],
      "source": [
        "print(encoded_dataset.shape)"
      ]
    },
    {
      "cell_type": "code",
      "execution_count": 38,
      "metadata": {
        "colab": {
          "base_uri": "https://localhost:8080/"
        },
        "id": "EABkoSUVP4sm",
        "outputId": "fa607138-b6da-47e1-dda7-e3313a39cf79"
      },
      "outputs": [
        {
          "output_type": "stream",
          "name": "stdout",
          "text": [
            "[6 3 4 6 2 4 4 6 1 2 6 2 2 4 3 2 5 4 1 3 5 5 1 3 4 0 3 0 0 0 0 0]\n",
            "[18563.60052945    +0.j         -3175.07412411+14542.65392496j\n",
            " -9480.13851167 -1549.89213738j  -850.18419129 -5788.51248279j\n",
            "  2813.63372348 -2457.36436449j  3312.0476391   +337.88077825j\n",
            "  1059.2907911  +3489.68169028j -2366.82367016  +909.74502726j\n",
            "  -210.29906943  +357.85181443j -3878.07651347  +373.95548592j\n",
            "   -49.25036994 -6370.32567308j  6901.71964373 -1088.5938127j\n",
            "  2896.76301761 +7252.43377368j -6714.83312544 +4427.90575271j\n",
            " -5496.28870703 -5330.43278044j  2828.24226801 -6162.17891893j\n",
            "  6446.94186958    -0.j          2828.24226801 +6162.17891893j\n",
            " -5496.28870703 +5330.43278044j -6714.83312544 -4427.90575271j\n",
            "  2896.76301761 -7252.43377368j  6901.71964373 +1088.5938127j\n",
            "   -49.25036994 +6370.32567308j -3878.07651347  -373.95548592j\n",
            "  -210.29906943  -357.85181443j -2366.82367016  -909.74502726j\n",
            "  1059.2907911  -3489.68169028j  3312.0476391   -337.88077825j\n",
            "  2813.63372348 +2457.36436449j  -850.18419129 +5788.51248279j\n",
            " -9480.13851167 +1549.89213738j -3175.07412411-14542.65392496j]\n"
          ]
        }
      ],
      "source": [
        "print(dataset[0])\n",
        "print(encoded_dataset[0])"
      ]
    },
    {
      "cell_type": "code",
      "execution_count": 39,
      "metadata": {
        "colab": {
          "base_uri": "https://localhost:8080/"
        },
        "id": "bcXxvLEBP4sn",
        "outputId": "af5c4478-eeb8-4777-c7e7-34407c238524"
      },
      "outputs": [
        {
          "output_type": "stream",
          "name": "stdout",
          "text": [
            "\n",
            "X_train_real : (1000, 32)\n",
            "[18563.6     -3175.0742  -9480.139    -850.1842   2813.6338   3312.0476\n",
            "  1059.2908  -2366.8237   -210.29907 -3878.0764    -49.25037  6901.7197\n",
            "  2896.763   -6714.833   -5496.2886   2828.2422   6446.942    2828.2422\n",
            " -5496.2886  -6714.833    2896.763    6901.7197    -49.25037 -3878.0764\n",
            "  -210.29907 -2366.8237   1059.2908   3312.0476   2813.6338   -850.1842\n",
            " -9480.139   -3175.0742 ]\n",
            "\n",
            "X_train_imag : (1000, 32)\n",
            "[     0.       14542.654    -1549.8921   -5788.5127   -2457.3643\n",
            "    337.88077   3489.6816     909.74506    357.8518     373.95547\n",
            "  -6370.3257   -1088.5939    7252.4336    4427.906    -5330.4326\n",
            "  -6162.1787      -0.        6162.1787    5330.4326   -4427.906\n",
            "  -7252.4336    1088.5939    6370.3257    -373.95547   -357.8518\n",
            "   -909.74506  -3489.6816    -337.88077   2457.3643    5788.5127\n",
            "   1549.8921  -14542.654  ]\n"
          ]
        }
      ],
      "source": [
        "X_real = np.real(encoded_dataset).astype(np.float32)\n",
        "X_imag = np.imag(encoded_dataset).astype(np.float32)\n",
        "\n",
        "print(\"\\nX_train_real :\", X_real.shape)\n",
        "print(X_real[0])\n",
        "print(\"\\nX_train_imag :\", X_imag.shape)\n",
        "print(X_imag[0])"
      ]
    },
    {
      "cell_type": "code",
      "execution_count": 40,
      "metadata": {
        "colab": {
          "base_uri": "https://localhost:8080/"
        },
        "id": "5oszMd19P4sn",
        "outputId": "6775d1f3-c52b-4027-d560-9b8bc3cf2d41"
      },
      "outputs": [
        {
          "output_type": "stream",
          "name": "stdout",
          "text": [
            "[-0.5349025  -0.6596515   0.7757606   0.5577905  -0.9361864  -0.52822787\n",
            "  0.26922125  0.5281825   0.72306824 -1.3387995  -0.9591273   1.0555125\n",
            "  1.3157916  -0.90254843 -0.8986112   0.8085635   0.6702558   0.8085635\n",
            " -0.8986112  -0.90254843  1.3157916   1.0555125  -0.9591273  -1.3387995\n",
            "  0.72306824  0.5281825   0.26922125 -0.52822787 -0.9361864   0.5577905\n",
            "  0.7757606  -0.6596515 ]\n",
            "[ 0.0000000e+00 -6.2298882e-01 -6.1096108e-01  9.1586119e-01\n",
            "  5.5390155e-01 -7.0446509e-01 -4.5943576e-01 -2.8642637e-01\n",
            "  9.1341501e-01  1.0008837e+00 -1.3572260e+00 -1.1246126e+00\n",
            "  9.5678961e-01  1.1653606e+00 -9.0699339e-01 -7.2105145e-01\n",
            "  1.9968052e-04  7.2105145e-01  9.0699339e-01 -1.1653606e+00\n",
            " -9.5678961e-01  1.1246126e+00  1.3572260e+00 -1.0008837e+00\n",
            " -9.1341501e-01  2.8642637e-01  4.5943576e-01  7.0446509e-01\n",
            " -5.5390155e-01 -9.1586119e-01  6.1096108e-01  6.2298882e-01]\n"
          ]
        }
      ],
      "source": [
        "mean_real = np.mean(X_real, axis=0)\n",
        "std_real = np.std(X_real, axis=0) + 1e-8  # Avoid division by zero\n",
        "X_real = (X_real - mean_real) / std_real\n",
        "\n",
        "mean_imag = np.mean(X_imag, axis=0)\n",
        "std_imag = np.std(X_imag, axis=0) + 1e-8  # Avoid division by zero\n",
        "X_imag = (X_imag - mean_imag) / std_imag\n",
        "\n",
        "print(X_real[0])\n",
        "print(X_imag[0])"
      ]
    },
    {
      "cell_type": "code",
      "execution_count": 41,
      "metadata": {
        "colab": {
          "base_uri": "https://localhost:8080/"
        },
        "id": "mDBXE_VsP4sn",
        "outputId": "e0b1c6c2-c9b6-46ba-ff72-31b47a77c941"
      },
      "outputs": [
        {
          "output_type": "stream",
          "name": "stdout",
          "text": [
            "y: \n",
            "[6. 3. 4. 6. 2. 4. 4. 6. 1. 2. 6. 2. 2. 4. 3. 2. 5. 4. 1. 3. 5. 5. 1. 3.\n",
            " 4. 0. 3. 0. 0. 0. 0. 0.]\n",
            "\n",
            "y_normalized: \n",
            "[1.         0.5        0.6666667  1.         0.33333334 0.6666667\n",
            " 0.6666667  1.         0.16666667 0.33333334 1.         0.33333334\n",
            " 0.33333334 0.6666667  0.5        0.33333334 0.8333333  0.6666667\n",
            " 0.16666667 0.5        0.8333333  0.8333333  0.16666667 0.5\n",
            " 0.6666667  0.         0.5        0.         0.         0.\n",
            " 0.         0.        ]\n"
          ]
        }
      ],
      "source": [
        "# normalize target data (integers 0-q to [0, 1])\n",
        "y_normalized = dataset.astype(np.float32) / (q - 1)  # Scale to [0, 1]\n",
        "print(\"y: \")\n",
        "print(dataset.astype(np.float32)[0])\n",
        "print(\"\\ny_normalized: \")\n",
        "print(y_normalized[0])\n",
        "\n",
        "labels = y_normalized"
      ]
    },
    {
      "cell_type": "code",
      "execution_count": 42,
      "metadata": {
        "colab": {
          "base_uri": "https://localhost:8080/"
        },
        "id": "gJLXeIZXP4so",
        "outputId": "a894dc41-fe3c-4a98-902b-8fe46823e222"
      },
      "outputs": [
        {
          "output_type": "stream",
          "name": "stdout",
          "text": [
            "Training data shapes: X_real: (800, 32) X_imag: (800, 32) y: (800, 32)\n",
            "Testing data shapes: X_real: (200, 32) X_imag: (200, 32) y: (200, 32)\n"
          ]
        }
      ],
      "source": [
        "from sklearn.model_selection import train_test_split\n",
        "\n",
        "X_real_train, X_real_test, y_train, y_test = train_test_split(\n",
        "    X_real, labels, test_size=0.2, random_state=42\n",
        ")\n",
        "\n",
        "X_imag_train, X_imag_test, _, _ = train_test_split(\n",
        "    X_imag, labels, test_size=0.2, random_state=42\n",
        ")\n",
        "\n",
        "print(\"Training data shapes: X_real:\", X_real_train.shape, \"X_imag:\", X_imag_train.shape, \"y:\", y_train.shape)\n",
        "print(\"Testing data shapes: X_real:\", X_real_test.shape, \"X_imag:\", X_imag_test.shape, \"y:\", y_test.shape)"
      ]
    },
    {
      "cell_type": "code",
      "execution_count": 43,
      "metadata": {
        "colab": {
          "base_uri": "https://localhost:8080/"
        },
        "id": "FSIv6cPUP4so",
        "outputId": "ae98709c-25d1-4553-93cf-2ecee1ca3f5d"
      },
      "outputs": [
        {
          "output_type": "stream",
          "name": "stdout",
          "text": [
            "32\n",
            "32\n",
            "32\n",
            "32\n",
            "32\n",
            "32\n"
          ]
        }
      ],
      "source": [
        "print(X_real_train.shape[1])\n",
        "print(X_real_test.shape[1])\n",
        "print(X_imag_train.shape[1])\n",
        "print(X_imag_test.shape[1])\n",
        "print(y_train.shape[1])\n",
        "print(y_test.shape[1])"
      ]
    },
    {
      "cell_type": "code",
      "execution_count": 44,
      "metadata": {
        "colab": {
          "base_uri": "https://localhost:8080/"
        },
        "id": "Snnk7Bh-P4so",
        "outputId": "35ab0046-ac24-4d27-ce93-80ba947d720d"
      },
      "outputs": [
        {
          "output_type": "stream",
          "name": "stdout",
          "text": [
            "32\n",
            "32\n"
          ]
        }
      ],
      "source": [
        "input_dim = X_real_train.shape[1]\n",
        "output_dim = y_train.shape[1]\n",
        "print(input_dim)\n",
        "print(output_dim)"
      ]
    },
    {
      "cell_type": "markdown",
      "metadata": {
        "id": "H1d1GgSsP4so"
      },
      "source": [
        "IDFT - Structure Imposed Neural Network"
      ]
    },
    {
      "cell_type": "code",
      "execution_count": 45,
      "metadata": {
        "id": "6hGEhIomP4so"
      },
      "outputs": [],
      "source": [
        "import tensorflow as tf"
      ]
    },
    {
      "cell_type": "code",
      "execution_count": 46,
      "metadata": {
        "id": "j86PMbDuP4sp"
      },
      "outputs": [],
      "source": [
        "class FirstLayer(tf.keras.layers.Layer):\n",
        "    def __init__(self, units, kernel_initializer='he_normal', bias_initializer='zeros', use_bias=True, **kwargs):\n",
        "        super(FirstLayer, self).__init__(**kwargs)\n",
        "        self.units = units  # Features/neurons\n",
        "        self.kernel_initializer = kernel_initializer\n",
        "        self.bias_initializer = bias_initializer\n",
        "        self.use_bias = use_bias\n",
        "\n",
        "    def build(self, input_shape):\n",
        "        n = self.units\n",
        "        n1 = n // 2\n",
        "        num_blocks = n1 // 2\n",
        "\n",
        "        self.b_1 = self.add_weight(name=\"kernel_b1\",\n",
        "                                   shape=(num_blocks, 2, 2),\n",
        "                                   initializer=tf.keras.initializers.get(self.kernel_initializer),\n",
        "                                   trainable=True)\n",
        "        self.b_2 = self.add_weight(name=\"kernel_b2\",\n",
        "                                   shape=(num_blocks, 2, 2),\n",
        "                                   initializer=tf.keras.initializers.get(self.kernel_initializer),\n",
        "                                   trainable=True)\n",
        "        self.d_1 = self.add_weight(name=\"kernel_d1\",\n",
        "                                   shape=(n1 - 2,),\n",
        "                                   initializer=tf.keras.initializers.get(self.kernel_initializer),\n",
        "                                   trainable=True)\n",
        "        self.d_2 = self.add_weight(name=\"kernel_d2\",\n",
        "                                   shape=(n1 - 2,),\n",
        "                                   initializer=tf.keras.initializers.get(self.kernel_initializer),\n",
        "                                   trainable=True)\n",
        "\n",
        "        if self.use_bias:\n",
        "            self.bias = self.add_weight(name=\"bias\",\n",
        "                                        shape=(self.units,),\n",
        "                                        initializer=tf.keras.initializers.get(self.bias_initializer),\n",
        "                                        trainable=True)\n",
        "\n",
        "    def call(self, inputs):\n",
        "        def recursiveIDFT(inputVector, B, d, block_index):\n",
        "            n = inputVector.shape[1]\n",
        "            n1 = n // 2\n",
        "\n",
        "            if n == 2:\n",
        "                out = tf.matmul(inputVector, B[block_index])\n",
        "                return out\n",
        "            else:\n",
        "                q = tf.concat([inputVector[:, ::2], inputVector[:, 1::2]], axis=1)\n",
        "\n",
        "                B1 = recursiveIDFT(q[:, :n1], B, d[n1:], block_index)\n",
        "                B2 = recursiveIDFT(q[:, n1:], B, d[n1:], block_index + (n // 4))\n",
        "\n",
        "                d_n = tf.reshape(d[:n1], (1, -1))\n",
        "                z1 = tf.concat([(B1 + tf.multiply(B2, d_n)), (B1 - tf.multiply(B2, d_n))], axis=1)\n",
        "\n",
        "                return z1 / tf.sqrt(tf.constant(2.0, dtype=tf.float32))\n",
        "\n",
        "        n = self.units\n",
        "        n1 = n // 2\n",
        "\n",
        "        q = tf.concat([inputs[:, ::2], inputs[:, 1::2]], axis=1)\n",
        "\n",
        "        B1 = recursiveIDFT(q[:, :n1], self.b_1, self.d_1, block_index=0)\n",
        "        B2 = recursiveIDFT(q[:, n1:], self.b_2, self.d_2, block_index=0)\n",
        "\n",
        "        out = tf.concat([B1, B2], axis=1)\n",
        "\n",
        "        if self.use_bias:\n",
        "            out += self.bias\n",
        "\n",
        "        return out"
      ]
    },
    {
      "cell_type": "code",
      "execution_count": 47,
      "metadata": {
        "id": "5m0COEYYP4sp"
      },
      "outputs": [],
      "source": [
        "class SecondLayer(tf.keras.layers.Layer):\n",
        "    def __init__(self, units, kernel_initializer='he_normal', bias_initializer='zeros', use_bias=True, **kwargs):\n",
        "        super(SecondLayer, self).__init__(**kwargs)\n",
        "        self.units = units  # Features/neurons\n",
        "        self.kernel_initializer = kernel_initializer\n",
        "        self.bias_initializer = bias_initializer\n",
        "        self.use_bias = use_bias\n",
        "\n",
        "    def build(self, input_shape):\n",
        "        n = self.units\n",
        "        n1 = n // 2\n",
        "\n",
        "        self.d_1 = self.add_weight(name=\"kernel_d1\",\n",
        "                                   shape=(n1,),\n",
        "                                   initializer=tf.keras.initializers.get(self.kernel_initializer),\n",
        "                                   trainable=True)\n",
        "\n",
        "        if self.use_bias:\n",
        "            self.bias = self.add_weight(name=\"bias\",\n",
        "                                        shape=(n,),\n",
        "                                        initializer=tf.keras.initializers.get(self.bias_initializer),\n",
        "                                        trainable=True)\n",
        "\n",
        "    def call(self, inputs):\n",
        "        out1 = inputs[:, :int(inputs.shape[1] / 2)]\n",
        "        out2 = inputs[:, int(inputs.shape[1] / 2):]\n",
        "\n",
        "        z1 = tf.concat([(out1 + tf.multiply(out2, self.d_1)), (out1 - tf.multiply(out2, self.d_1))], axis=1)\n",
        "        out = z1 / tf.sqrt(tf.constant(2.0, dtype=tf.float32))\n",
        "\n",
        "        if self.use_bias:\n",
        "            out += self.bias\n",
        "\n",
        "        return out"
      ]
    },
    {
      "cell_type": "code",
      "execution_count": 48,
      "metadata": {
        "id": "h2ZTRoT3P4sp"
      },
      "outputs": [],
      "source": [
        "class CustomLayer(tf.keras.layers.Layer):\n",
        "    def __init__(self, units, kernel_initializer='he_normal', bias_initializer='zeros', use_bias=True, **kwargs):\n",
        "        super(CustomLayer, self).__init__(**kwargs)\n",
        "        self.units = units  # features/neurons\n",
        "        self.kernel_initializer = kernel_initializer\n",
        "        self.bias_initializer = bias_initializer\n",
        "        self.use_bias = use_bias\n",
        "\n",
        "    def build(self, input_shape):\n",
        "        n = self.units\n",
        "\n",
        "        self.m = self.add_weight(name=\"kernel_m\",\n",
        "                                 shape=(n,),\n",
        "                                 initializer=tf.keras.initializers.get(self.kernel_initializer),\n",
        "                                 trainable=True)\n",
        "\n",
        "        if self.use_bias:\n",
        "            self.bias = self.add_weight(name=\"bias\",\n",
        "                                        shape=(self.units,),\n",
        "                                        initializer=tf.keras.initializers.get(self.bias_initializer),\n",
        "                                        trainable=True)\n",
        "\n",
        "    def call(self, inputs):\n",
        "        out = tf.multiply(inputs, self.m)\n",
        "        if self.use_bias:\n",
        "            out += self.bias\n",
        "        return out"
      ]
    },
    {
      "cell_type": "code",
      "execution_count": 49,
      "metadata": {
        "id": "pZFra2-PP4sp"
      },
      "outputs": [],
      "source": [
        "class ScalingLayer(tf.keras.layers.Layer):\n",
        "    def __init__(self, units, initial_scale=0.1, kernel_initializer='ones', bias_initializer='zeros', use_bias=True, **kwargs):\n",
        "        super(ScalingLayer, self).__init__(**kwargs)\n",
        "        self.units = units\n",
        "        self.kernel_initializer = kernel_initializer\n",
        "        self.bias_initializer = bias_initializer\n",
        "        self.use_bias = use_bias\n",
        "        self.initial_scale = initial_scale\n",
        "\n",
        "    def build(self, input_shape):\n",
        "        n = self.units\n",
        "\n",
        "        self.m = self.add_weight(name=\"kernel_m_1\",\n",
        "                                 shape=(n,),\n",
        "                                 initializer=tf.keras.initializers.get(self.kernel_initializer),\n",
        "                                 regularizer=tf.keras.regularizers.l2(1e-4),\n",
        "                                 trainable=True)\n",
        "\n",
        "        # self.scale = self.add_weight(name=\"kernel_scale\",\n",
        "        #                              shape=(),\n",
        "        #                              initializer=tf.keras.initializers.Constant(1.0),\n",
        "        #                              regularizer=tf.keras.regularizers.l2(1e-4),\n",
        "        #                              trainable=True)\n",
        "\n",
        "        self.log_scale = self.add_weight(\n",
        "                                  shape=(),\n",
        "                                  initializer=tf.keras.initializers.Constant(self.initial_scale),\n",
        "                                  trainable=True,\n",
        "                                  name=\"log_scale\",\n",
        "                                  )\n",
        "\n",
        "        if self.use_bias:\n",
        "            self.bias = self.add_weight(name=\"bias\",\n",
        "                                        shape=(self.units,),\n",
        "                                        initializer=tf.keras.initializers.get(self.bias_initializer),\n",
        "                                        trainable=True)\n",
        "\n",
        "    def call(self, inputs):\n",
        "        # print(\"linear layer input:\", inputs.shape)\n",
        "\n",
        "        inputs1 = inputs[:, :int(inputs.shape[1] / 2)]\n",
        "        inputs2 = inputs[:, int(inputs.shape[1] / 2):]\n",
        "\n",
        "        out = tf.math.sqrt(inputs1**2 + inputs2**2)\n",
        "\n",
        "        dim = tf.shape(out)[1]\n",
        "        # D_hat_n = tf.pow(self.scale, tf.cast(tf.range(dim), dtype=tf.float32))\n",
        "        D_hat_n = tf.exp(self.log_scale * tf.cast(tf.range(dim), tf.float32))\n",
        "\n",
        "        out2 = out * D_hat_n * self.m\n",
        "\n",
        "        # out = tf.multiply(out, self.m) # diagonal scaling\n",
        "\n",
        "        if self.use_bias:\n",
        "            out2 += self.bias\n",
        "\n",
        "        # print(\"linear layer output:\", out.shape)\n",
        "        return out2"
      ]
    },
    {
      "cell_type": "markdown",
      "metadata": {
        "id": "zfYlzemAP4sq"
      },
      "source": [
        "Build Model"
      ]
    },
    {
      "cell_type": "code",
      "execution_count": 50,
      "metadata": {
        "colab": {
          "base_uri": "https://localhost:8080/",
          "height": 737
        },
        "id": "t1H7vNT0P4sq",
        "outputId": "44e1c882-cdf6-473b-d6c7-800bd1d7c2fb"
      },
      "outputs": [
        {
          "output_type": "display_data",
          "data": {
            "text/plain": [
              "\u001b[1mModel: \"functional_1\"\u001b[0m\n"
            ],
            "text/html": [
              "<pre style=\"white-space:pre;overflow-x:auto;line-height:normal;font-family:Menlo,'DejaVu Sans Mono',consolas,'Courier New',monospace\"><span style=\"font-weight: bold\">Model: \"functional_1\"</span>\n",
              "</pre>\n"
            ]
          },
          "metadata": {}
        },
        {
          "output_type": "display_data",
          "data": {
            "text/plain": [
              "┏━━━━━━━━━━━━━━━━━━━━━━━━━━━┳━━━━━━━━━━━━━━━━━━━━━━━━┳━━━━━━━━━━━━━━━━┳━━━━━━━━━━━━━━━━━━━━━━━━┓\n",
              "┃\u001b[1m \u001b[0m\u001b[1mLayer (type)             \u001b[0m\u001b[1m \u001b[0m┃\u001b[1m \u001b[0m\u001b[1mOutput Shape          \u001b[0m\u001b[1m \u001b[0m┃\u001b[1m \u001b[0m\u001b[1m       Param #\u001b[0m\u001b[1m \u001b[0m┃\u001b[1m \u001b[0m\u001b[1mConnected to          \u001b[0m\u001b[1m \u001b[0m┃\n",
              "┡━━━━━━━━━━━━━━━━━━━━━━━━━━━╇━━━━━━━━━━━━━━━━━━━━━━━━╇━━━━━━━━━━━━━━━━╇━━━━━━━━━━━━━━━━━━━━━━━━┩\n",
              "│ real_input (\u001b[38;5;33mInputLayer\u001b[0m)   │ (\u001b[38;5;45mNone\u001b[0m, \u001b[38;5;34m32\u001b[0m)             │              \u001b[38;5;34m0\u001b[0m │ -                      │\n",
              "├───────────────────────────┼────────────────────────┼────────────────┼────────────────────────┤\n",
              "│ imag_input (\u001b[38;5;33mInputLayer\u001b[0m)   │ (\u001b[38;5;45mNone\u001b[0m, \u001b[38;5;34m32\u001b[0m)             │              \u001b[38;5;34m0\u001b[0m │ -                      │\n",
              "├───────────────────────────┼────────────────────────┼────────────────┼────────────────────────┤\n",
              "│ real_layer1 (\u001b[38;5;33mFirstLayer\u001b[0m)  │ (\u001b[38;5;45mNone\u001b[0m, \u001b[38;5;34m32\u001b[0m)             │            \u001b[38;5;34m124\u001b[0m │ real_input[\u001b[38;5;34m0\u001b[0m][\u001b[38;5;34m0\u001b[0m]       │\n",
              "├───────────────────────────┼────────────────────────┼────────────────┼────────────────────────┤\n",
              "│ imag_layer1 (\u001b[38;5;33mFirstLayer\u001b[0m)  │ (\u001b[38;5;45mNone\u001b[0m, \u001b[38;5;34m32\u001b[0m)             │            \u001b[38;5;34m124\u001b[0m │ imag_input[\u001b[38;5;34m0\u001b[0m][\u001b[38;5;34m0\u001b[0m]       │\n",
              "├───────────────────────────┼────────────────────────┼────────────────┼────────────────────────┤\n",
              "│ leaky_re_lu_4 (\u001b[38;5;33mLeakyReLU\u001b[0m) │ (\u001b[38;5;45mNone\u001b[0m, \u001b[38;5;34m32\u001b[0m)             │              \u001b[38;5;34m0\u001b[0m │ real_layer1[\u001b[38;5;34m0\u001b[0m][\u001b[38;5;34m0\u001b[0m]      │\n",
              "├───────────────────────────┼────────────────────────┼────────────────┼────────────────────────┤\n",
              "│ leaky_re_lu_7 (\u001b[38;5;33mLeakyReLU\u001b[0m) │ (\u001b[38;5;45mNone\u001b[0m, \u001b[38;5;34m32\u001b[0m)             │              \u001b[38;5;34m0\u001b[0m │ imag_layer1[\u001b[38;5;34m0\u001b[0m][\u001b[38;5;34m0\u001b[0m]      │\n",
              "├───────────────────────────┼────────────────────────┼────────────────┼────────────────────────┤\n",
              "│ real_support_layer_1      │ (\u001b[38;5;45mNone\u001b[0m, \u001b[38;5;34m32\u001b[0m)             │             \u001b[38;5;34m64\u001b[0m │ leaky_re_lu_4[\u001b[38;5;34m0\u001b[0m][\u001b[38;5;34m0\u001b[0m]    │\n",
              "│ (\u001b[38;5;33mCustomLayer\u001b[0m)             │                        │                │                        │\n",
              "├───────────────────────────┼────────────────────────┼────────────────┼────────────────────────┤\n",
              "│ imag_support_layer_1      │ (\u001b[38;5;45mNone\u001b[0m, \u001b[38;5;34m32\u001b[0m)             │             \u001b[38;5;34m64\u001b[0m │ leaky_re_lu_7[\u001b[38;5;34m0\u001b[0m][\u001b[38;5;34m0\u001b[0m]    │\n",
              "│ (\u001b[38;5;33mCustomLayer\u001b[0m)             │                        │                │                        │\n",
              "├───────────────────────────┼────────────────────────┼────────────────┼────────────────────────┤\n",
              "│ leaky_re_lu_5 (\u001b[38;5;33mLeakyReLU\u001b[0m) │ (\u001b[38;5;45mNone\u001b[0m, \u001b[38;5;34m32\u001b[0m)             │              \u001b[38;5;34m0\u001b[0m │ real_support_layer_1[\u001b[38;5;34m…\u001b[0m │\n",
              "├───────────────────────────┼────────────────────────┼────────────────┼────────────────────────┤\n",
              "│ leaky_re_lu_8 (\u001b[38;5;33mLeakyReLU\u001b[0m) │ (\u001b[38;5;45mNone\u001b[0m, \u001b[38;5;34m32\u001b[0m)             │              \u001b[38;5;34m0\u001b[0m │ imag_support_layer_1[\u001b[38;5;34m…\u001b[0m │\n",
              "├───────────────────────────┼────────────────────────┼────────────────┼────────────────────────┤\n",
              "│ real_layer2 (\u001b[38;5;33mSecondLayer\u001b[0m) │ (\u001b[38;5;45mNone\u001b[0m, \u001b[38;5;34m32\u001b[0m)             │             \u001b[38;5;34m48\u001b[0m │ leaky_re_lu_5[\u001b[38;5;34m0\u001b[0m][\u001b[38;5;34m0\u001b[0m]    │\n",
              "├───────────────────────────┼────────────────────────┼────────────────┼────────────────────────┤\n",
              "│ imag_layer2 (\u001b[38;5;33mSecondLayer\u001b[0m) │ (\u001b[38;5;45mNone\u001b[0m, \u001b[38;5;34m32\u001b[0m)             │             \u001b[38;5;34m48\u001b[0m │ leaky_re_lu_8[\u001b[38;5;34m0\u001b[0m][\u001b[38;5;34m0\u001b[0m]    │\n",
              "├───────────────────────────┼────────────────────────┼────────────────┼────────────────────────┤\n",
              "│ leaky_re_lu_6 (\u001b[38;5;33mLeakyReLU\u001b[0m) │ (\u001b[38;5;45mNone\u001b[0m, \u001b[38;5;34m32\u001b[0m)             │              \u001b[38;5;34m0\u001b[0m │ real_layer2[\u001b[38;5;34m0\u001b[0m][\u001b[38;5;34m0\u001b[0m]      │\n",
              "├───────────────────────────┼────────────────────────┼────────────────┼────────────────────────┤\n",
              "│ leaky_re_lu_9 (\u001b[38;5;33mLeakyReLU\u001b[0m) │ (\u001b[38;5;45mNone\u001b[0m, \u001b[38;5;34m32\u001b[0m)             │              \u001b[38;5;34m0\u001b[0m │ imag_layer2[\u001b[38;5;34m0\u001b[0m][\u001b[38;5;34m0\u001b[0m]      │\n",
              "├───────────────────────────┼────────────────────────┼────────────────┼────────────────────────┤\n",
              "│ merge_real_imag           │ (\u001b[38;5;45mNone\u001b[0m, \u001b[38;5;34m64\u001b[0m)             │              \u001b[38;5;34m0\u001b[0m │ leaky_re_lu_6[\u001b[38;5;34m0\u001b[0m][\u001b[38;5;34m0\u001b[0m],   │\n",
              "│ (\u001b[38;5;33mConcatenate\u001b[0m)             │                        │                │ leaky_re_lu_9[\u001b[38;5;34m0\u001b[0m][\u001b[38;5;34m0\u001b[0m]    │\n",
              "├───────────────────────────┼────────────────────────┼────────────────┼────────────────────────┤\n",
              "│ output_layer              │ (\u001b[38;5;45mNone\u001b[0m, \u001b[38;5;34m32\u001b[0m)             │             \u001b[38;5;34m65\u001b[0m │ merge_real_imag[\u001b[38;5;34m0\u001b[0m][\u001b[38;5;34m0\u001b[0m]  │\n",
              "│ (\u001b[38;5;33mScalingLayer\u001b[0m)            │                        │                │                        │\n",
              "├───────────────────────────┼────────────────────────┼────────────────┼────────────────────────┤\n",
              "│ activation_1 (\u001b[38;5;33mActivation\u001b[0m) │ (\u001b[38;5;45mNone\u001b[0m, \u001b[38;5;34m32\u001b[0m)             │              \u001b[38;5;34m0\u001b[0m │ output_layer[\u001b[38;5;34m0\u001b[0m][\u001b[38;5;34m0\u001b[0m]     │\n",
              "└───────────────────────────┴────────────────────────┴────────────────┴────────────────────────┘\n"
            ],
            "text/html": [
              "<pre style=\"white-space:pre;overflow-x:auto;line-height:normal;font-family:Menlo,'DejaVu Sans Mono',consolas,'Courier New',monospace\">┏━━━━━━━━━━━━━━━━━━━━━━━━━━━┳━━━━━━━━━━━━━━━━━━━━━━━━┳━━━━━━━━━━━━━━━━┳━━━━━━━━━━━━━━━━━━━━━━━━┓\n",
              "┃<span style=\"font-weight: bold\"> Layer (type)              </span>┃<span style=\"font-weight: bold\"> Output Shape           </span>┃<span style=\"font-weight: bold\">        Param # </span>┃<span style=\"font-weight: bold\"> Connected to           </span>┃\n",
              "┡━━━━━━━━━━━━━━━━━━━━━━━━━━━╇━━━━━━━━━━━━━━━━━━━━━━━━╇━━━━━━━━━━━━━━━━╇━━━━━━━━━━━━━━━━━━━━━━━━┩\n",
              "│ real_input (<span style=\"color: #0087ff; text-decoration-color: #0087ff\">InputLayer</span>)   │ (<span style=\"color: #00d7ff; text-decoration-color: #00d7ff\">None</span>, <span style=\"color: #00af00; text-decoration-color: #00af00\">32</span>)             │              <span style=\"color: #00af00; text-decoration-color: #00af00\">0</span> │ -                      │\n",
              "├───────────────────────────┼────────────────────────┼────────────────┼────────────────────────┤\n",
              "│ imag_input (<span style=\"color: #0087ff; text-decoration-color: #0087ff\">InputLayer</span>)   │ (<span style=\"color: #00d7ff; text-decoration-color: #00d7ff\">None</span>, <span style=\"color: #00af00; text-decoration-color: #00af00\">32</span>)             │              <span style=\"color: #00af00; text-decoration-color: #00af00\">0</span> │ -                      │\n",
              "├───────────────────────────┼────────────────────────┼────────────────┼────────────────────────┤\n",
              "│ real_layer1 (<span style=\"color: #0087ff; text-decoration-color: #0087ff\">FirstLayer</span>)  │ (<span style=\"color: #00d7ff; text-decoration-color: #00d7ff\">None</span>, <span style=\"color: #00af00; text-decoration-color: #00af00\">32</span>)             │            <span style=\"color: #00af00; text-decoration-color: #00af00\">124</span> │ real_input[<span style=\"color: #00af00; text-decoration-color: #00af00\">0</span>][<span style=\"color: #00af00; text-decoration-color: #00af00\">0</span>]       │\n",
              "├───────────────────────────┼────────────────────────┼────────────────┼────────────────────────┤\n",
              "│ imag_layer1 (<span style=\"color: #0087ff; text-decoration-color: #0087ff\">FirstLayer</span>)  │ (<span style=\"color: #00d7ff; text-decoration-color: #00d7ff\">None</span>, <span style=\"color: #00af00; text-decoration-color: #00af00\">32</span>)             │            <span style=\"color: #00af00; text-decoration-color: #00af00\">124</span> │ imag_input[<span style=\"color: #00af00; text-decoration-color: #00af00\">0</span>][<span style=\"color: #00af00; text-decoration-color: #00af00\">0</span>]       │\n",
              "├───────────────────────────┼────────────────────────┼────────────────┼────────────────────────┤\n",
              "│ leaky_re_lu_4 (<span style=\"color: #0087ff; text-decoration-color: #0087ff\">LeakyReLU</span>) │ (<span style=\"color: #00d7ff; text-decoration-color: #00d7ff\">None</span>, <span style=\"color: #00af00; text-decoration-color: #00af00\">32</span>)             │              <span style=\"color: #00af00; text-decoration-color: #00af00\">0</span> │ real_layer1[<span style=\"color: #00af00; text-decoration-color: #00af00\">0</span>][<span style=\"color: #00af00; text-decoration-color: #00af00\">0</span>]      │\n",
              "├───────────────────────────┼────────────────────────┼────────────────┼────────────────────────┤\n",
              "│ leaky_re_lu_7 (<span style=\"color: #0087ff; text-decoration-color: #0087ff\">LeakyReLU</span>) │ (<span style=\"color: #00d7ff; text-decoration-color: #00d7ff\">None</span>, <span style=\"color: #00af00; text-decoration-color: #00af00\">32</span>)             │              <span style=\"color: #00af00; text-decoration-color: #00af00\">0</span> │ imag_layer1[<span style=\"color: #00af00; text-decoration-color: #00af00\">0</span>][<span style=\"color: #00af00; text-decoration-color: #00af00\">0</span>]      │\n",
              "├───────────────────────────┼────────────────────────┼────────────────┼────────────────────────┤\n",
              "│ real_support_layer_1      │ (<span style=\"color: #00d7ff; text-decoration-color: #00d7ff\">None</span>, <span style=\"color: #00af00; text-decoration-color: #00af00\">32</span>)             │             <span style=\"color: #00af00; text-decoration-color: #00af00\">64</span> │ leaky_re_lu_4[<span style=\"color: #00af00; text-decoration-color: #00af00\">0</span>][<span style=\"color: #00af00; text-decoration-color: #00af00\">0</span>]    │\n",
              "│ (<span style=\"color: #0087ff; text-decoration-color: #0087ff\">CustomLayer</span>)             │                        │                │                        │\n",
              "├───────────────────────────┼────────────────────────┼────────────────┼────────────────────────┤\n",
              "│ imag_support_layer_1      │ (<span style=\"color: #00d7ff; text-decoration-color: #00d7ff\">None</span>, <span style=\"color: #00af00; text-decoration-color: #00af00\">32</span>)             │             <span style=\"color: #00af00; text-decoration-color: #00af00\">64</span> │ leaky_re_lu_7[<span style=\"color: #00af00; text-decoration-color: #00af00\">0</span>][<span style=\"color: #00af00; text-decoration-color: #00af00\">0</span>]    │\n",
              "│ (<span style=\"color: #0087ff; text-decoration-color: #0087ff\">CustomLayer</span>)             │                        │                │                        │\n",
              "├───────────────────────────┼────────────────────────┼────────────────┼────────────────────────┤\n",
              "│ leaky_re_lu_5 (<span style=\"color: #0087ff; text-decoration-color: #0087ff\">LeakyReLU</span>) │ (<span style=\"color: #00d7ff; text-decoration-color: #00d7ff\">None</span>, <span style=\"color: #00af00; text-decoration-color: #00af00\">32</span>)             │              <span style=\"color: #00af00; text-decoration-color: #00af00\">0</span> │ real_support_layer_1[<span style=\"color: #00af00; text-decoration-color: #00af00\">…</span> │\n",
              "├───────────────────────────┼────────────────────────┼────────────────┼────────────────────────┤\n",
              "│ leaky_re_lu_8 (<span style=\"color: #0087ff; text-decoration-color: #0087ff\">LeakyReLU</span>) │ (<span style=\"color: #00d7ff; text-decoration-color: #00d7ff\">None</span>, <span style=\"color: #00af00; text-decoration-color: #00af00\">32</span>)             │              <span style=\"color: #00af00; text-decoration-color: #00af00\">0</span> │ imag_support_layer_1[<span style=\"color: #00af00; text-decoration-color: #00af00\">…</span> │\n",
              "├───────────────────────────┼────────────────────────┼────────────────┼────────────────────────┤\n",
              "│ real_layer2 (<span style=\"color: #0087ff; text-decoration-color: #0087ff\">SecondLayer</span>) │ (<span style=\"color: #00d7ff; text-decoration-color: #00d7ff\">None</span>, <span style=\"color: #00af00; text-decoration-color: #00af00\">32</span>)             │             <span style=\"color: #00af00; text-decoration-color: #00af00\">48</span> │ leaky_re_lu_5[<span style=\"color: #00af00; text-decoration-color: #00af00\">0</span>][<span style=\"color: #00af00; text-decoration-color: #00af00\">0</span>]    │\n",
              "├───────────────────────────┼────────────────────────┼────────────────┼────────────────────────┤\n",
              "│ imag_layer2 (<span style=\"color: #0087ff; text-decoration-color: #0087ff\">SecondLayer</span>) │ (<span style=\"color: #00d7ff; text-decoration-color: #00d7ff\">None</span>, <span style=\"color: #00af00; text-decoration-color: #00af00\">32</span>)             │             <span style=\"color: #00af00; text-decoration-color: #00af00\">48</span> │ leaky_re_lu_8[<span style=\"color: #00af00; text-decoration-color: #00af00\">0</span>][<span style=\"color: #00af00; text-decoration-color: #00af00\">0</span>]    │\n",
              "├───────────────────────────┼────────────────────────┼────────────────┼────────────────────────┤\n",
              "│ leaky_re_lu_6 (<span style=\"color: #0087ff; text-decoration-color: #0087ff\">LeakyReLU</span>) │ (<span style=\"color: #00d7ff; text-decoration-color: #00d7ff\">None</span>, <span style=\"color: #00af00; text-decoration-color: #00af00\">32</span>)             │              <span style=\"color: #00af00; text-decoration-color: #00af00\">0</span> │ real_layer2[<span style=\"color: #00af00; text-decoration-color: #00af00\">0</span>][<span style=\"color: #00af00; text-decoration-color: #00af00\">0</span>]      │\n",
              "├───────────────────────────┼────────────────────────┼────────────────┼────────────────────────┤\n",
              "│ leaky_re_lu_9 (<span style=\"color: #0087ff; text-decoration-color: #0087ff\">LeakyReLU</span>) │ (<span style=\"color: #00d7ff; text-decoration-color: #00d7ff\">None</span>, <span style=\"color: #00af00; text-decoration-color: #00af00\">32</span>)             │              <span style=\"color: #00af00; text-decoration-color: #00af00\">0</span> │ imag_layer2[<span style=\"color: #00af00; text-decoration-color: #00af00\">0</span>][<span style=\"color: #00af00; text-decoration-color: #00af00\">0</span>]      │\n",
              "├───────────────────────────┼────────────────────────┼────────────────┼────────────────────────┤\n",
              "│ merge_real_imag           │ (<span style=\"color: #00d7ff; text-decoration-color: #00d7ff\">None</span>, <span style=\"color: #00af00; text-decoration-color: #00af00\">64</span>)             │              <span style=\"color: #00af00; text-decoration-color: #00af00\">0</span> │ leaky_re_lu_6[<span style=\"color: #00af00; text-decoration-color: #00af00\">0</span>][<span style=\"color: #00af00; text-decoration-color: #00af00\">0</span>],   │\n",
              "│ (<span style=\"color: #0087ff; text-decoration-color: #0087ff\">Concatenate</span>)             │                        │                │ leaky_re_lu_9[<span style=\"color: #00af00; text-decoration-color: #00af00\">0</span>][<span style=\"color: #00af00; text-decoration-color: #00af00\">0</span>]    │\n",
              "├───────────────────────────┼────────────────────────┼────────────────┼────────────────────────┤\n",
              "│ output_layer              │ (<span style=\"color: #00d7ff; text-decoration-color: #00d7ff\">None</span>, <span style=\"color: #00af00; text-decoration-color: #00af00\">32</span>)             │             <span style=\"color: #00af00; text-decoration-color: #00af00\">65</span> │ merge_real_imag[<span style=\"color: #00af00; text-decoration-color: #00af00\">0</span>][<span style=\"color: #00af00; text-decoration-color: #00af00\">0</span>]  │\n",
              "│ (<span style=\"color: #0087ff; text-decoration-color: #0087ff\">ScalingLayer</span>)            │                        │                │                        │\n",
              "├───────────────────────────┼────────────────────────┼────────────────┼────────────────────────┤\n",
              "│ activation_1 (<span style=\"color: #0087ff; text-decoration-color: #0087ff\">Activation</span>) │ (<span style=\"color: #00d7ff; text-decoration-color: #00d7ff\">None</span>, <span style=\"color: #00af00; text-decoration-color: #00af00\">32</span>)             │              <span style=\"color: #00af00; text-decoration-color: #00af00\">0</span> │ output_layer[<span style=\"color: #00af00; text-decoration-color: #00af00\">0</span>][<span style=\"color: #00af00; text-decoration-color: #00af00\">0</span>]     │\n",
              "└───────────────────────────┴────────────────────────┴────────────────┴────────────────────────┘\n",
              "</pre>\n"
            ]
          },
          "metadata": {}
        },
        {
          "output_type": "display_data",
          "data": {
            "text/plain": [
              "\u001b[1m Total params: \u001b[0m\u001b[38;5;34m537\u001b[0m (2.10 KB)\n"
            ],
            "text/html": [
              "<pre style=\"white-space:pre;overflow-x:auto;line-height:normal;font-family:Menlo,'DejaVu Sans Mono',consolas,'Courier New',monospace\"><span style=\"font-weight: bold\"> Total params: </span><span style=\"color: #00af00; text-decoration-color: #00af00\">537</span> (2.10 KB)\n",
              "</pre>\n"
            ]
          },
          "metadata": {}
        },
        {
          "output_type": "display_data",
          "data": {
            "text/plain": [
              "\u001b[1m Trainable params: \u001b[0m\u001b[38;5;34m537\u001b[0m (2.10 KB)\n"
            ],
            "text/html": [
              "<pre style=\"white-space:pre;overflow-x:auto;line-height:normal;font-family:Menlo,'DejaVu Sans Mono',consolas,'Courier New',monospace\"><span style=\"font-weight: bold\"> Trainable params: </span><span style=\"color: #00af00; text-decoration-color: #00af00\">537</span> (2.10 KB)\n",
              "</pre>\n"
            ]
          },
          "metadata": {}
        },
        {
          "output_type": "display_data",
          "data": {
            "text/plain": [
              "\u001b[1m Non-trainable params: \u001b[0m\u001b[38;5;34m0\u001b[0m (0.00 B)\n"
            ],
            "text/html": [
              "<pre style=\"white-space:pre;overflow-x:auto;line-height:normal;font-family:Menlo,'DejaVu Sans Mono',consolas,'Courier New',monospace\"><span style=\"font-weight: bold\"> Non-trainable params: </span><span style=\"color: #00af00; text-decoration-color: #00af00\">0</span> (0.00 B)\n",
              "</pre>\n"
            ]
          },
          "metadata": {}
        }
      ],
      "source": [
        "import tensorflow as tf\n",
        "from tensorflow.keras.models import Model\n",
        "from tensorflow.keras.layers import Input, Concatenate, LeakyReLU, Activation\n",
        "from tensorflow.keras.optimizers import Adam\n",
        "\n",
        "global initial_log_scale\n",
        "initial_log_scale = np.log(z0 / w0)\n",
        "\n",
        "def structured_NN(input_dim, output_dim):\n",
        "    real_input = Input(shape=(input_dim,), name=\"real_input\")\n",
        "    imag_input = Input(shape=(input_dim,), name=\"imag_input\")\n",
        "\n",
        "    real_x = FirstLayer(units=input_dim, kernel_initializer='he_normal', bias_initializer='zeros', name=\"real_layer1\")(real_input)\n",
        "    real_x = LeakyReLU(alpha=0.1)(real_x)\n",
        "    real_x = CustomLayer(units=input_dim, kernel_initializer='he_normal', bias_initializer='zeros', name=\"real_support_layer_1\")(real_x)\n",
        "    real_x = LeakyReLU(alpha=0.1)(real_x)\n",
        "    real_x = SecondLayer(units=input_dim, kernel_initializer='he_normal', bias_initializer='zeros', name=\"real_layer2\")(real_x)\n",
        "    real_x = LeakyReLU(alpha=0.1)(real_x)\n",
        "\n",
        "    imag_x = FirstLayer(units=input_dim, kernel_initializer='he_normal', bias_initializer='zeros', name=\"imag_layer1\")(imag_input)\n",
        "    imag_x = LeakyReLU(alpha=0.1)(imag_x)\n",
        "    imag_x = CustomLayer(units=input_dim, kernel_initializer='he_normal', bias_initializer='zeros', name=\"imag_support_layer_1\")(imag_x)\n",
        "    imag_x = LeakyReLU(alpha=0.1)(imag_x)\n",
        "    imag_x = SecondLayer(units=input_dim, kernel_initializer='he_normal', bias_initializer='zeros', name=\"imag_layer2\")(imag_x)\n",
        "    imag_x = LeakyReLU(alpha=0.1)(imag_x)\n",
        "\n",
        "    merged = Concatenate(name=\"merge_real_imag\")([real_x, imag_x])\n",
        "\n",
        "    output = ScalingLayer(units=output_dim, initial_scale=initial_log_scale, kernel_initializer='ones', bias_initializer='zeros', name=\"output_layer\")(merged)\n",
        "    output = Activation('linear')(output)\n",
        "\n",
        "    model = Model(inputs=[real_input, imag_input], outputs=output)\n",
        "    model.compile(optimizer=Adam(learning_rate=0.001), loss='mean_squared_error', metrics=['mse', 'mae'])\n",
        "\n",
        "    return model\n",
        "\n",
        "input_dim = X_real_train.shape[1]\n",
        "output_dim = y_train.shape[1]\n",
        "model = structured_NN(input_dim, output_dim)\n",
        "model.summary()"
      ]
    },
    {
      "cell_type": "markdown",
      "metadata": {
        "id": "rsjEhlGcP4sr"
      },
      "source": [
        "Train Model"
      ]
    },
    {
      "cell_type": "code",
      "execution_count": 51,
      "metadata": {
        "id": "kzJ_harIP4sr"
      },
      "outputs": [],
      "source": [
        "from tensorflow.keras.callbacks import EarlyStopping, ReduceLROnPlateau\n",
        "\n",
        "early_stopping = EarlyStopping(monitor='val_loss', patience=10, restore_best_weights=True)\n",
        "\n",
        "adjust_lr = ReduceLROnPlateau(\n",
        "    monitor='val_loss',\n",
        "    factor=0.5,\n",
        "    patience=5,\n",
        "    min_lr=1e-7,\n",
        "    verbose=1\n",
        ")"
      ]
    },
    {
      "cell_type": "code",
      "execution_count": 52,
      "metadata": {
        "colab": {
          "base_uri": "https://localhost:8080/"
        },
        "id": "ZGsWtAjdP4sr",
        "outputId": "bda31b14-4771-41f0-8e09-e0f2b1533946"
      },
      "outputs": [
        {
          "output_type": "stream",
          "name": "stdout",
          "text": [
            "Epoch 1/500\n",
            "\u001b[1m25/25\u001b[0m \u001b[32m━━━━━━━━━━━━━━━━━━━━\u001b[0m\u001b[37m\u001b[0m \u001b[1m12s\u001b[0m 92ms/step - loss: 0.3016 - mae: 0.4182 - mse: 0.2984 - val_loss: 0.2723 - val_mae: 0.3935 - val_mse: 0.2692 - learning_rate: 0.0010\n",
            "Epoch 2/500\n",
            "\u001b[1m25/25\u001b[0m \u001b[32m━━━━━━━━━━━━━━━━━━━━\u001b[0m\u001b[37m\u001b[0m \u001b[1m0s\u001b[0m 10ms/step - loss: 0.2751 - mae: 0.3972 - mse: 0.2720 - val_loss: 0.2440 - val_mae: 0.3705 - val_mse: 0.2409 - learning_rate: 0.0010\n",
            "Epoch 3/500\n",
            "\u001b[1m25/25\u001b[0m \u001b[32m━━━━━━━━━━━━━━━━━━━━\u001b[0m\u001b[37m\u001b[0m \u001b[1m0s\u001b[0m 9ms/step - loss: 0.2452 - mae: 0.3722 - mse: 0.2421 - val_loss: 0.2152 - val_mae: 0.3458 - val_mse: 0.2121 - learning_rate: 0.0010\n",
            "Epoch 4/500\n",
            "\u001b[1m25/25\u001b[0m \u001b[32m━━━━━━━━━━━━━━━━━━━━\u001b[0m\u001b[37m\u001b[0m \u001b[1m0s\u001b[0m 9ms/step - loss: 0.2151 - mae: 0.3466 - mse: 0.2120 - val_loss: 0.1839 - val_mae: 0.3180 - val_mse: 0.1807 - learning_rate: 0.0010\n",
            "Epoch 5/500\n",
            "\u001b[1m25/25\u001b[0m \u001b[32m━━━━━━━━━━━━━━━━━━━━\u001b[0m\u001b[37m\u001b[0m \u001b[1m0s\u001b[0m 9ms/step - loss: 0.1811 - mae: 0.3165 - mse: 0.1778 - val_loss: 0.1469 - val_mae: 0.2858 - val_mse: 0.1435 - learning_rate: 0.0010\n",
            "Epoch 6/500\n",
            "\u001b[1m25/25\u001b[0m \u001b[32m━━━━━━━━━━━━━━━━━━━━\u001b[0m\u001b[37m\u001b[0m \u001b[1m0s\u001b[0m 10ms/step - loss: 0.1427 - mae: 0.2842 - mse: 0.1393 - val_loss: 0.1104 - val_mae: 0.2561 - val_mse: 0.1068 - learning_rate: 0.0010\n",
            "Epoch 7/500\n",
            "\u001b[1m25/25\u001b[0m \u001b[32m━━━━━━━━━━━━━━━━━━━━\u001b[0m\u001b[37m\u001b[0m \u001b[1m0s\u001b[0m 9ms/step - loss: 0.1075 - mae: 0.2536 - mse: 0.1039 - val_loss: 0.1018 - val_mae: 0.2502 - val_mse: 0.0981 - learning_rate: 0.0010\n",
            "Epoch 8/500\n",
            "\u001b[1m25/25\u001b[0m \u001b[32m━━━━━━━━━━━━━━━━━━━━\u001b[0m\u001b[37m\u001b[0m \u001b[1m0s\u001b[0m 9ms/step - loss: 0.1004 - mae: 0.2480 - mse: 0.0968 - val_loss: 0.0987 - val_mae: 0.2465 - val_mse: 0.0951 - learning_rate: 0.0010\n",
            "Epoch 9/500\n",
            "\u001b[1m25/25\u001b[0m \u001b[32m━━━━━━━━━━━━━━━━━━━━\u001b[0m\u001b[37m\u001b[0m \u001b[1m0s\u001b[0m 9ms/step - loss: 0.0986 - mae: 0.2449 - mse: 0.0950 - val_loss: 0.0981 - val_mae: 0.2458 - val_mse: 0.0946 - learning_rate: 0.0010\n",
            "Epoch 10/500\n",
            "\u001b[1m25/25\u001b[0m \u001b[32m━━━━━━━━━━━━━━━━━━━━\u001b[0m\u001b[37m\u001b[0m \u001b[1m0s\u001b[0m 10ms/step - loss: 0.0983 - mae: 0.2453 - mse: 0.0948 - val_loss: 0.0976 - val_mae: 0.2452 - val_mse: 0.0942 - learning_rate: 0.0010\n",
            "Epoch 11/500\n",
            "\u001b[1m25/25\u001b[0m \u001b[32m━━━━━━━━━━━━━━━━━━━━\u001b[0m\u001b[37m\u001b[0m \u001b[1m0s\u001b[0m 9ms/step - loss: 0.0964 - mae: 0.2419 - mse: 0.0930 - val_loss: 0.0973 - val_mae: 0.2448 - val_mse: 0.0938 - learning_rate: 0.0010\n",
            "Epoch 12/500\n",
            "\u001b[1m25/25\u001b[0m \u001b[32m━━━━━━━━━━━━━━━━━━━━\u001b[0m\u001b[37m\u001b[0m \u001b[1m0s\u001b[0m 18ms/step - loss: 0.0962 - mae: 0.2420 - mse: 0.0928 - val_loss: 0.0972 - val_mae: 0.2448 - val_mse: 0.0938 - learning_rate: 0.0010\n",
            "Epoch 13/500\n",
            "\u001b[1m25/25\u001b[0m \u001b[32m━━━━━━━━━━━━━━━━━━━━\u001b[0m\u001b[37m\u001b[0m \u001b[1m0s\u001b[0m 15ms/step - loss: 0.0965 - mae: 0.2426 - mse: 0.0931 - val_loss: 0.0965 - val_mae: 0.2439 - val_mse: 0.0932 - learning_rate: 0.0010\n",
            "Epoch 14/500\n",
            "\u001b[1m25/25\u001b[0m \u001b[32m━━━━━━━━━━━━━━━━━━━━\u001b[0m\u001b[37m\u001b[0m \u001b[1m1s\u001b[0m 17ms/step - loss: 0.0962 - mae: 0.2418 - mse: 0.0928 - val_loss: 0.0962 - val_mae: 0.2433 - val_mse: 0.0929 - learning_rate: 0.0010\n",
            "Epoch 15/500\n",
            "\u001b[1m25/25\u001b[0m \u001b[32m━━━━━━━━━━━━━━━━━━━━\u001b[0m\u001b[37m\u001b[0m \u001b[1m1s\u001b[0m 15ms/step - loss: 0.0954 - mae: 0.2407 - mse: 0.0921 - val_loss: 0.0956 - val_mae: 0.2425 - val_mse: 0.0924 - learning_rate: 0.0010\n",
            "Epoch 16/500\n",
            "\u001b[1m25/25\u001b[0m \u001b[32m━━━━━━━━━━━━━━━━━━━━\u001b[0m\u001b[37m\u001b[0m \u001b[1m0s\u001b[0m 10ms/step - loss: 0.0951 - mae: 0.2405 - mse: 0.0919 - val_loss: 0.0951 - val_mae: 0.2415 - val_mse: 0.0918 - learning_rate: 0.0010\n",
            "Epoch 17/500\n",
            "\u001b[1m25/25\u001b[0m \u001b[32m━━━━━━━━━━━━━━━━━━━━\u001b[0m\u001b[37m\u001b[0m \u001b[1m0s\u001b[0m 10ms/step - loss: 0.0950 - mae: 0.2403 - mse: 0.0917 - val_loss: 0.0944 - val_mae: 0.2403 - val_mse: 0.0912 - learning_rate: 0.0010\n",
            "Epoch 18/500\n",
            "\u001b[1m25/25\u001b[0m \u001b[32m━━━━━━━━━━━━━━━━━━━━\u001b[0m\u001b[37m\u001b[0m \u001b[1m0s\u001b[0m 9ms/step - loss: 0.0925 - mae: 0.2360 - mse: 0.0893 - val_loss: 0.0940 - val_mae: 0.2394 - val_mse: 0.0908 - learning_rate: 0.0010\n",
            "Epoch 19/500\n",
            "\u001b[1m25/25\u001b[0m \u001b[32m━━━━━━━━━━━━━━━━━━━━\u001b[0m\u001b[37m\u001b[0m \u001b[1m0s\u001b[0m 9ms/step - loss: 0.0934 - mae: 0.2374 - mse: 0.0902 - val_loss: 0.0929 - val_mae: 0.2377 - val_mse: 0.0898 - learning_rate: 0.0010\n",
            "Epoch 20/500\n",
            "\u001b[1m25/25\u001b[0m \u001b[32m━━━━━━━━━━━━━━━━━━━━\u001b[0m\u001b[37m\u001b[0m \u001b[1m0s\u001b[0m 9ms/step - loss: 0.0917 - mae: 0.2345 - mse: 0.0885 - val_loss: 0.0924 - val_mae: 0.2367 - val_mse: 0.0894 - learning_rate: 0.0010\n",
            "Epoch 21/500\n",
            "\u001b[1m25/25\u001b[0m \u001b[32m━━━━━━━━━━━━━━━━━━━━\u001b[0m\u001b[37m\u001b[0m \u001b[1m0s\u001b[0m 9ms/step - loss: 0.0915 - mae: 0.2346 - mse: 0.0884 - val_loss: 0.0921 - val_mae: 0.2360 - val_mse: 0.0890 - learning_rate: 0.0010\n",
            "Epoch 22/500\n",
            "\u001b[1m25/25\u001b[0m \u001b[32m━━━━━━━━━━━━━━━━━━━━\u001b[0m\u001b[37m\u001b[0m \u001b[1m0s\u001b[0m 9ms/step - loss: 0.0907 - mae: 0.2330 - mse: 0.0876 - val_loss: 0.0912 - val_mae: 0.2346 - val_mse: 0.0882 - learning_rate: 0.0010\n",
            "Epoch 23/500\n",
            "\u001b[1m25/25\u001b[0m \u001b[32m━━━━━━━━━━━━━━━━━━━━\u001b[0m\u001b[37m\u001b[0m \u001b[1m0s\u001b[0m 10ms/step - loss: 0.0901 - mae: 0.2315 - mse: 0.0870 - val_loss: 0.0906 - val_mae: 0.2335 - val_mse: 0.0876 - learning_rate: 0.0010\n",
            "Epoch 24/500\n",
            "\u001b[1m25/25\u001b[0m \u001b[32m━━━━━━━━━━━━━━━━━━━━\u001b[0m\u001b[37m\u001b[0m \u001b[1m0s\u001b[0m 10ms/step - loss: 0.0913 - mae: 0.2335 - mse: 0.0883 - val_loss: 0.0901 - val_mae: 0.2323 - val_mse: 0.0871 - learning_rate: 0.0010\n",
            "Epoch 25/500\n",
            "\u001b[1m25/25\u001b[0m \u001b[32m━━━━━━━━━━━━━━━━━━━━\u001b[0m\u001b[37m\u001b[0m \u001b[1m0s\u001b[0m 9ms/step - loss: 0.0890 - mae: 0.2294 - mse: 0.0860 - val_loss: 0.0892 - val_mae: 0.2309 - val_mse: 0.0863 - learning_rate: 0.0010\n",
            "Epoch 26/500\n",
            "\u001b[1m25/25\u001b[0m \u001b[32m━━━━━━━━━━━━━━━━━━━━\u001b[0m\u001b[37m\u001b[0m \u001b[1m0s\u001b[0m 9ms/step - loss: 0.0874 - mae: 0.2266 - mse: 0.0845 - val_loss: 0.0886 - val_mae: 0.2295 - val_mse: 0.0857 - learning_rate: 0.0010\n",
            "Epoch 27/500\n",
            "\u001b[1m25/25\u001b[0m \u001b[32m━━━━━━━━━━━━━━━━━━━━\u001b[0m\u001b[37m\u001b[0m \u001b[1m0s\u001b[0m 9ms/step - loss: 0.0870 - mae: 0.2258 - mse: 0.0841 - val_loss: 0.0881 - val_mae: 0.2284 - val_mse: 0.0852 - learning_rate: 0.0010\n",
            "Epoch 28/500\n",
            "\u001b[1m25/25\u001b[0m \u001b[32m━━━━━━━━━━━━━━━━━━━━\u001b[0m\u001b[37m\u001b[0m \u001b[1m0s\u001b[0m 10ms/step - loss: 0.0869 - mae: 0.2252 - mse: 0.0841 - val_loss: 0.0876 - val_mae: 0.2273 - val_mse: 0.0847 - learning_rate: 0.0010\n",
            "Epoch 29/500\n",
            "\u001b[1m25/25\u001b[0m \u001b[32m━━━━━━━━━━━━━━━━━━━━\u001b[0m\u001b[37m\u001b[0m \u001b[1m0s\u001b[0m 9ms/step - loss: 0.0863 - mae: 0.2239 - mse: 0.0835 - val_loss: 0.0869 - val_mae: 0.2262 - val_mse: 0.0841 - learning_rate: 0.0010\n",
            "Epoch 30/500\n",
            "\u001b[1m25/25\u001b[0m \u001b[32m━━━━━━━━━━━━━━━━━━━━\u001b[0m\u001b[37m\u001b[0m \u001b[1m0s\u001b[0m 9ms/step - loss: 0.0866 - mae: 0.2245 - mse: 0.0838 - val_loss: 0.0863 - val_mae: 0.2250 - val_mse: 0.0835 - learning_rate: 0.0010\n",
            "Epoch 31/500\n",
            "\u001b[1m25/25\u001b[0m \u001b[32m━━━━━━━━━━━━━━━━━━━━\u001b[0m\u001b[37m\u001b[0m \u001b[1m0s\u001b[0m 9ms/step - loss: 0.0852 - mae: 0.2218 - mse: 0.0824 - val_loss: 0.0856 - val_mae: 0.2236 - val_mse: 0.0829 - learning_rate: 0.0010\n",
            "Epoch 32/500\n",
            "\u001b[1m25/25\u001b[0m \u001b[32m━━━━━━━━━━━━━━━━━━━━\u001b[0m\u001b[37m\u001b[0m \u001b[1m0s\u001b[0m 9ms/step - loss: 0.0852 - mae: 0.2216 - mse: 0.0825 - val_loss: 0.0850 - val_mae: 0.2223 - val_mse: 0.0823 - learning_rate: 0.0010\n",
            "Epoch 33/500\n",
            "\u001b[1m25/25\u001b[0m \u001b[32m━━━━━━━━━━━━━━━━━━━━\u001b[0m\u001b[37m\u001b[0m \u001b[1m0s\u001b[0m 9ms/step - loss: 0.0834 - mae: 0.2187 - mse: 0.0807 - val_loss: 0.0839 - val_mae: 0.2204 - val_mse: 0.0812 - learning_rate: 0.0010\n",
            "Epoch 34/500\n",
            "\u001b[1m25/25\u001b[0m \u001b[32m━━━━━━━━━━━━━━━━━━━━\u001b[0m\u001b[37m\u001b[0m \u001b[1m0s\u001b[0m 9ms/step - loss: 0.0833 - mae: 0.2177 - mse: 0.0806 - val_loss: 0.0830 - val_mae: 0.2183 - val_mse: 0.0804 - learning_rate: 0.0010\n",
            "Epoch 35/500\n",
            "\u001b[1m25/25\u001b[0m \u001b[32m━━━━━━━━━━━━━━━━━━━━\u001b[0m\u001b[37m\u001b[0m \u001b[1m0s\u001b[0m 9ms/step - loss: 0.0824 - mae: 0.2163 - mse: 0.0797 - val_loss: 0.0820 - val_mae: 0.2163 - val_mse: 0.0793 - learning_rate: 0.0010\n",
            "Epoch 36/500\n",
            "\u001b[1m25/25\u001b[0m \u001b[32m━━━━━━━━━━━━━━━━━━━━\u001b[0m\u001b[37m\u001b[0m \u001b[1m0s\u001b[0m 10ms/step - loss: 0.0810 - mae: 0.2137 - mse: 0.0783 - val_loss: 0.0810 - val_mae: 0.2142 - val_mse: 0.0784 - learning_rate: 0.0010\n",
            "Epoch 37/500\n",
            "\u001b[1m25/25\u001b[0m \u001b[32m━━━━━━━━━━━━━━━━━━━━\u001b[0m\u001b[37m\u001b[0m \u001b[1m0s\u001b[0m 9ms/step - loss: 0.0799 - mae: 0.2110 - mse: 0.0773 - val_loss: 0.0802 - val_mae: 0.2123 - val_mse: 0.0777 - learning_rate: 0.0010\n",
            "Epoch 38/500\n",
            "\u001b[1m25/25\u001b[0m \u001b[32m━━━━━━━━━━━━━━━━━━━━\u001b[0m\u001b[37m\u001b[0m \u001b[1m0s\u001b[0m 9ms/step - loss: 0.0793 - mae: 0.2094 - mse: 0.0767 - val_loss: 0.0794 - val_mae: 0.2106 - val_mse: 0.0768 - learning_rate: 0.0010\n",
            "Epoch 39/500\n",
            "\u001b[1m25/25\u001b[0m \u001b[32m━━━━━━━━━━━━━━━━━━━━\u001b[0m\u001b[37m\u001b[0m \u001b[1m0s\u001b[0m 10ms/step - loss: 0.0792 - mae: 0.2094 - mse: 0.0766 - val_loss: 0.0786 - val_mae: 0.2088 - val_mse: 0.0761 - learning_rate: 0.0010\n",
            "Epoch 40/500\n",
            "\u001b[1m25/25\u001b[0m \u001b[32m━━━━━━━━━━━━━━━━━━━━\u001b[0m\u001b[37m\u001b[0m \u001b[1m0s\u001b[0m 10ms/step - loss: 0.0780 - mae: 0.2062 - mse: 0.0755 - val_loss: 0.0779 - val_mae: 0.2071 - val_mse: 0.0754 - learning_rate: 0.0010\n",
            "Epoch 41/500\n",
            "\u001b[1m25/25\u001b[0m \u001b[32m━━━━━━━━━━━━━━━━━━━━\u001b[0m\u001b[37m\u001b[0m \u001b[1m0s\u001b[0m 9ms/step - loss: 0.0774 - mae: 0.2052 - mse: 0.0749 - val_loss: 0.0772 - val_mae: 0.2055 - val_mse: 0.0748 - learning_rate: 0.0010\n",
            "Epoch 42/500\n",
            "\u001b[1m25/25\u001b[0m \u001b[32m━━━━━━━━━━━━━━━━━━━━\u001b[0m\u001b[37m\u001b[0m \u001b[1m0s\u001b[0m 9ms/step - loss: 0.0763 - mae: 0.2026 - mse: 0.0738 - val_loss: 0.0766 - val_mae: 0.2038 - val_mse: 0.0741 - learning_rate: 0.0010\n",
            "Epoch 43/500\n",
            "\u001b[1m25/25\u001b[0m \u001b[32m━━━━━━━━━━━━━━━━━━━━\u001b[0m\u001b[37m\u001b[0m \u001b[1m0s\u001b[0m 9ms/step - loss: 0.0760 - mae: 0.2013 - mse: 0.0736 - val_loss: 0.0759 - val_mae: 0.2021 - val_mse: 0.0735 - learning_rate: 0.0010\n",
            "Epoch 44/500\n",
            "\u001b[1m25/25\u001b[0m \u001b[32m━━━━━━━━━━━━━━━━━━━━\u001b[0m\u001b[37m\u001b[0m \u001b[1m0s\u001b[0m 9ms/step - loss: 0.0754 - mae: 0.2000 - mse: 0.0730 - val_loss: 0.0754 - val_mae: 0.2008 - val_mse: 0.0730 - learning_rate: 0.0010\n",
            "Epoch 45/500\n",
            "\u001b[1m25/25\u001b[0m \u001b[32m━━━━━━━━━━━━━━━━━━━━\u001b[0m\u001b[37m\u001b[0m \u001b[1m0s\u001b[0m 9ms/step - loss: 0.0754 - mae: 0.1996 - mse: 0.0730 - val_loss: 0.0750 - val_mae: 0.1997 - val_mse: 0.0726 - learning_rate: 0.0010\n",
            "Epoch 46/500\n",
            "\u001b[1m25/25\u001b[0m \u001b[32m━━━━━━━━━━━━━━━━━━━━\u001b[0m\u001b[37m\u001b[0m \u001b[1m0s\u001b[0m 9ms/step - loss: 0.0747 - mae: 0.1980 - mse: 0.0723 - val_loss: 0.0745 - val_mae: 0.1985 - val_mse: 0.0722 - learning_rate: 0.0010\n",
            "Epoch 47/500\n",
            "\u001b[1m25/25\u001b[0m \u001b[32m━━━━━━━━━━━━━━━━━━━━\u001b[0m\u001b[37m\u001b[0m \u001b[1m0s\u001b[0m 9ms/step - loss: 0.0738 - mae: 0.1961 - mse: 0.0715 - val_loss: 0.0741 - val_mae: 0.1976 - val_mse: 0.0718 - learning_rate: 0.0010\n",
            "Epoch 48/500\n",
            "\u001b[1m25/25\u001b[0m \u001b[32m━━━━━━━━━━━━━━━━━━━━\u001b[0m\u001b[37m\u001b[0m \u001b[1m0s\u001b[0m 9ms/step - loss: 0.0735 - mae: 0.1952 - mse: 0.0711 - val_loss: 0.0737 - val_mae: 0.1968 - val_mse: 0.0714 - learning_rate: 0.0010\n",
            "Epoch 49/500\n",
            "\u001b[1m25/25\u001b[0m \u001b[32m━━━━━━━━━━━━━━━━━━━━\u001b[0m\u001b[37m\u001b[0m \u001b[1m0s\u001b[0m 9ms/step - loss: 0.0734 - mae: 0.1952 - mse: 0.0711 - val_loss: 0.0734 - val_mae: 0.1960 - val_mse: 0.0711 - learning_rate: 0.0010\n",
            "Epoch 50/500\n",
            "\u001b[1m25/25\u001b[0m \u001b[32m━━━━━━━━━━━━━━━━━━━━\u001b[0m\u001b[37m\u001b[0m \u001b[1m0s\u001b[0m 9ms/step - loss: 0.0735 - mae: 0.1952 - mse: 0.0712 - val_loss: 0.0731 - val_mae: 0.1956 - val_mse: 0.0709 - learning_rate: 0.0010\n",
            "Epoch 51/500\n",
            "\u001b[1m25/25\u001b[0m \u001b[32m━━━━━━━━━━━━━━━━━━━━\u001b[0m\u001b[37m\u001b[0m \u001b[1m0s\u001b[0m 10ms/step - loss: 0.0726 - mae: 0.1937 - mse: 0.0703 - val_loss: 0.0727 - val_mae: 0.1945 - val_mse: 0.0704 - learning_rate: 0.0010\n",
            "Epoch 52/500\n",
            "\u001b[1m25/25\u001b[0m \u001b[32m━━━━━━━━━━━━━━━━━━━━\u001b[0m\u001b[37m\u001b[0m \u001b[1m0s\u001b[0m 9ms/step - loss: 0.0717 - mae: 0.1920 - mse: 0.0695 - val_loss: 0.0724 - val_mae: 0.1938 - val_mse: 0.0702 - learning_rate: 0.0010\n",
            "Epoch 53/500\n",
            "\u001b[1m25/25\u001b[0m \u001b[32m━━━━━━━━━━━━━━━━━━━━\u001b[0m\u001b[37m\u001b[0m \u001b[1m0s\u001b[0m 15ms/step - loss: 0.0728 - mae: 0.1937 - mse: 0.0706 - val_loss: 0.0720 - val_mae: 0.1929 - val_mse: 0.0698 - learning_rate: 0.0010\n",
            "Epoch 54/500\n",
            "\u001b[1m25/25\u001b[0m \u001b[32m━━━━━━━━━━━━━━━━━━━━\u001b[0m\u001b[37m\u001b[0m \u001b[1m1s\u001b[0m 14ms/step - loss: 0.0716 - mae: 0.1914 - mse: 0.0694 - val_loss: 0.0716 - val_mae: 0.1920 - val_mse: 0.0694 - learning_rate: 0.0010\n",
            "Epoch 55/500\n",
            "\u001b[1m25/25\u001b[0m \u001b[32m━━━━━━━━━━━━━━━━━━━━\u001b[0m\u001b[37m\u001b[0m \u001b[1m0s\u001b[0m 14ms/step - loss: 0.0715 - mae: 0.1909 - mse: 0.0693 - val_loss: 0.0713 - val_mae: 0.1914 - val_mse: 0.0691 - learning_rate: 0.0010\n",
            "Epoch 56/500\n",
            "\u001b[1m25/25\u001b[0m \u001b[32m━━━━━━━━━━━━━━━━━━━━\u001b[0m\u001b[37m\u001b[0m \u001b[1m1s\u001b[0m 16ms/step - loss: 0.0699 - mae: 0.1886 - mse: 0.0678 - val_loss: 0.0710 - val_mae: 0.1903 - val_mse: 0.0688 - learning_rate: 0.0010\n",
            "Epoch 57/500\n",
            "\u001b[1m25/25\u001b[0m \u001b[32m━━━━━━━━━━━━━━━━━━━━\u001b[0m\u001b[37m\u001b[0m \u001b[1m0s\u001b[0m 9ms/step - loss: 0.0704 - mae: 0.1887 - mse: 0.0682 - val_loss: 0.0706 - val_mae: 0.1895 - val_mse: 0.0685 - learning_rate: 0.0010\n",
            "Epoch 58/500\n",
            "\u001b[1m25/25\u001b[0m \u001b[32m━━━━━━━━━━━━━━━━━━━━\u001b[0m\u001b[37m\u001b[0m \u001b[1m0s\u001b[0m 9ms/step - loss: 0.0700 - mae: 0.1872 - mse: 0.0678 - val_loss: 0.0700 - val_mae: 0.1884 - val_mse: 0.0679 - learning_rate: 0.0010\n",
            "Epoch 59/500\n",
            "\u001b[1m25/25\u001b[0m \u001b[32m━━━━━━━━━━━━━━━━━━━━\u001b[0m\u001b[37m\u001b[0m \u001b[1m0s\u001b[0m 10ms/step - loss: 0.0705 - mae: 0.1884 - mse: 0.0684 - val_loss: 0.0697 - val_mae: 0.1877 - val_mse: 0.0676 - learning_rate: 0.0010\n",
            "Epoch 60/500\n",
            "\u001b[1m25/25\u001b[0m \u001b[32m━━━━━━━━━━━━━━━━━━━━\u001b[0m\u001b[37m\u001b[0m \u001b[1m0s\u001b[0m 9ms/step - loss: 0.0694 - mae: 0.1871 - mse: 0.0673 - val_loss: 0.0694 - val_mae: 0.1868 - val_mse: 0.0673 - learning_rate: 0.0010\n",
            "Epoch 61/500\n",
            "\u001b[1m25/25\u001b[0m \u001b[32m━━━━━━━━━━━━━━━━━━━━\u001b[0m\u001b[37m\u001b[0m \u001b[1m0s\u001b[0m 9ms/step - loss: 0.0696 - mae: 0.1867 - mse: 0.0675 - val_loss: 0.0689 - val_mae: 0.1861 - val_mse: 0.0669 - learning_rate: 0.0010\n",
            "Epoch 62/500\n",
            "\u001b[1m25/25\u001b[0m \u001b[32m━━━━━━━━━━━━━━━━━━━━\u001b[0m\u001b[37m\u001b[0m \u001b[1m0s\u001b[0m 10ms/step - loss: 0.0687 - mae: 0.1848 - mse: 0.0667 - val_loss: 0.0684 - val_mae: 0.1852 - val_mse: 0.0664 - learning_rate: 0.0010\n",
            "Epoch 63/500\n",
            "\u001b[1m25/25\u001b[0m \u001b[32m━━━━━━━━━━━━━━━━━━━━\u001b[0m\u001b[37m\u001b[0m \u001b[1m0s\u001b[0m 9ms/step - loss: 0.0681 - mae: 0.1837 - mse: 0.0660 - val_loss: 0.0681 - val_mae: 0.1843 - val_mse: 0.0661 - learning_rate: 0.0010\n",
            "Epoch 64/500\n",
            "\u001b[1m25/25\u001b[0m \u001b[32m━━━━━━━━━━━━━━━━━━━━\u001b[0m\u001b[37m\u001b[0m \u001b[1m0s\u001b[0m 10ms/step - loss: 0.0676 - mae: 0.1829 - mse: 0.0656 - val_loss: 0.0676 - val_mae: 0.1833 - val_mse: 0.0656 - learning_rate: 0.0010\n",
            "Epoch 65/500\n",
            "\u001b[1m25/25\u001b[0m \u001b[32m━━━━━━━━━━━━━━━━━━━━\u001b[0m\u001b[37m\u001b[0m \u001b[1m0s\u001b[0m 12ms/step - loss: 0.0679 - mae: 0.1835 - mse: 0.0659 - val_loss: 0.0670 - val_mae: 0.1821 - val_mse: 0.0650 - learning_rate: 0.0010\n",
            "Epoch 66/500\n",
            "\u001b[1m25/25\u001b[0m \u001b[32m━━━━━━━━━━━━━━━━━━━━\u001b[0m\u001b[37m\u001b[0m \u001b[1m0s\u001b[0m 11ms/step - loss: 0.0665 - mae: 0.1806 - mse: 0.0645 - val_loss: 0.0667 - val_mae: 0.1813 - val_mse: 0.0647 - learning_rate: 0.0010\n",
            "Epoch 67/500\n",
            "\u001b[1m25/25\u001b[0m \u001b[32m━━━━━━━━━━━━━━━━━━━━\u001b[0m\u001b[37m\u001b[0m \u001b[1m0s\u001b[0m 12ms/step - loss: 0.0667 - mae: 0.1807 - mse: 0.0648 - val_loss: 0.0664 - val_mae: 0.1807 - val_mse: 0.0644 - learning_rate: 0.0010\n",
            "Epoch 68/500\n",
            "\u001b[1m25/25\u001b[0m \u001b[32m━━━━━━━━━━━━━━━━━━━━\u001b[0m\u001b[37m\u001b[0m \u001b[1m0s\u001b[0m 11ms/step - loss: 0.0655 - mae: 0.1782 - mse: 0.0636 - val_loss: 0.0659 - val_mae: 0.1794 - val_mse: 0.0640 - learning_rate: 0.0010\n",
            "Epoch 69/500\n",
            "\u001b[1m25/25\u001b[0m \u001b[32m━━━━━━━━━━━━━━━━━━━━\u001b[0m\u001b[37m\u001b[0m \u001b[1m0s\u001b[0m 12ms/step - loss: 0.0648 - mae: 0.1771 - mse: 0.0629 - val_loss: 0.0656 - val_mae: 0.1786 - val_mse: 0.0637 - learning_rate: 0.0010\n",
            "Epoch 70/500\n",
            "\u001b[1m25/25\u001b[0m \u001b[32m━━━━━━━━━━━━━━━━━━━━\u001b[0m\u001b[37m\u001b[0m \u001b[1m0s\u001b[0m 11ms/step - loss: 0.0660 - mae: 0.1787 - mse: 0.0641 - val_loss: 0.0655 - val_mae: 0.1782 - val_mse: 0.0636 - learning_rate: 0.0010\n",
            "Epoch 71/500\n",
            "\u001b[1m25/25\u001b[0m \u001b[32m━━━━━━━━━━━━━━━━━━━━\u001b[0m\u001b[37m\u001b[0m \u001b[1m0s\u001b[0m 11ms/step - loss: 0.0657 - mae: 0.1776 - mse: 0.0638 - val_loss: 0.0652 - val_mae: 0.1776 - val_mse: 0.0633 - learning_rate: 0.0010\n",
            "Epoch 72/500\n",
            "\u001b[1m25/25\u001b[0m \u001b[32m━━━━━━━━━━━━━━━━━━━━\u001b[0m\u001b[37m\u001b[0m \u001b[1m0s\u001b[0m 11ms/step - loss: 0.0652 - mae: 0.1766 - mse: 0.0633 - val_loss: 0.0648 - val_mae: 0.1768 - val_mse: 0.0630 - learning_rate: 0.0010\n",
            "Epoch 73/500\n",
            "\u001b[1m25/25\u001b[0m \u001b[32m━━━━━━━━━━━━━━━━━━━━\u001b[0m\u001b[37m\u001b[0m \u001b[1m0s\u001b[0m 11ms/step - loss: 0.0645 - mae: 0.1754 - mse: 0.0627 - val_loss: 0.0646 - val_mae: 0.1762 - val_mse: 0.0628 - learning_rate: 0.0010\n",
            "Epoch 74/500\n",
            "\u001b[1m25/25\u001b[0m \u001b[32m━━━━━━━━━━━━━━━━━━━━\u001b[0m\u001b[37m\u001b[0m \u001b[1m0s\u001b[0m 11ms/step - loss: 0.0651 - mae: 0.1765 - mse: 0.0633 - val_loss: 0.0644 - val_mae: 0.1756 - val_mse: 0.0626 - learning_rate: 0.0010\n",
            "Epoch 75/500\n",
            "\u001b[1m25/25\u001b[0m \u001b[32m━━━━━━━━━━━━━━━━━━━━\u001b[0m\u001b[37m\u001b[0m \u001b[1m0s\u001b[0m 10ms/step - loss: 0.0640 - mae: 0.1741 - mse: 0.0622 - val_loss: 0.0642 - val_mae: 0.1750 - val_mse: 0.0624 - learning_rate: 0.0010\n",
            "Epoch 76/500\n",
            "\u001b[1m25/25\u001b[0m \u001b[32m━━━━━━━━━━━━━━━━━━━━\u001b[0m\u001b[37m\u001b[0m \u001b[1m0s\u001b[0m 11ms/step - loss: 0.0642 - mae: 0.1742 - mse: 0.0624 - val_loss: 0.0640 - val_mae: 0.1746 - val_mse: 0.0622 - learning_rate: 0.0010\n",
            "Epoch 77/500\n",
            "\u001b[1m25/25\u001b[0m \u001b[32m━━━━━━━━━━━━━━━━━━━━\u001b[0m\u001b[37m\u001b[0m \u001b[1m0s\u001b[0m 13ms/step - loss: 0.0637 - mae: 0.1731 - mse: 0.0619 - val_loss: 0.0637 - val_mae: 0.1737 - val_mse: 0.0620 - learning_rate: 0.0010\n",
            "Epoch 78/500\n",
            "\u001b[1m25/25\u001b[0m \u001b[32m━━━━━━━━━━━━━━━━━━━━\u001b[0m\u001b[37m\u001b[0m \u001b[1m1s\u001b[0m 11ms/step - loss: 0.0636 - mae: 0.1727 - mse: 0.0618 - val_loss: 0.0634 - val_mae: 0.1730 - val_mse: 0.0616 - learning_rate: 0.0010\n",
            "Epoch 79/500\n",
            "\u001b[1m25/25\u001b[0m \u001b[32m━━━━━━━━━━━━━━━━━━━━\u001b[0m\u001b[37m\u001b[0m \u001b[1m0s\u001b[0m 11ms/step - loss: 0.0629 - mae: 0.1712 - mse: 0.0611 - val_loss: 0.0632 - val_mae: 0.1719 - val_mse: 0.0614 - learning_rate: 0.0010\n",
            "Epoch 80/500\n",
            "\u001b[1m25/25\u001b[0m \u001b[32m━━━━━━━━━━━━━━━━━━━━\u001b[0m\u001b[37m\u001b[0m \u001b[1m1s\u001b[0m 11ms/step - loss: 0.0620 - mae: 0.1695 - mse: 0.0603 - val_loss: 0.0628 - val_mae: 0.1711 - val_mse: 0.0611 - learning_rate: 0.0010\n",
            "Epoch 81/500\n",
            "\u001b[1m25/25\u001b[0m \u001b[32m━━━━━━━━━━━━━━━━━━━━\u001b[0m\u001b[37m\u001b[0m \u001b[1m0s\u001b[0m 11ms/step - loss: 0.0628 - mae: 0.1702 - mse: 0.0611 - val_loss: 0.0627 - val_mae: 0.1703 - val_mse: 0.0610 - learning_rate: 0.0010\n",
            "Epoch 82/500\n",
            "\u001b[1m25/25\u001b[0m \u001b[32m━━━━━━━━━━━━━━━━━━━━\u001b[0m\u001b[37m\u001b[0m \u001b[1m0s\u001b[0m 10ms/step - loss: 0.0625 - mae: 0.1694 - mse: 0.0608 - val_loss: 0.0624 - val_mae: 0.1697 - val_mse: 0.0607 - learning_rate: 0.0010\n",
            "Epoch 83/500\n",
            "\u001b[1m25/25\u001b[0m \u001b[32m━━━━━━━━━━━━━━━━━━━━\u001b[0m\u001b[37m\u001b[0m \u001b[1m0s\u001b[0m 10ms/step - loss: 0.0622 - mae: 0.1683 - mse: 0.0605 - val_loss: 0.0623 - val_mae: 0.1695 - val_mse: 0.0607 - learning_rate: 0.0010\n",
            "Epoch 84/500\n",
            "\u001b[1m25/25\u001b[0m \u001b[32m━━━━━━━━━━━━━━━━━━━━\u001b[0m\u001b[37m\u001b[0m \u001b[1m0s\u001b[0m 11ms/step - loss: 0.0626 - mae: 0.1692 - mse: 0.0609 - val_loss: 0.0623 - val_mae: 0.1684 - val_mse: 0.0607 - learning_rate: 0.0010\n",
            "Epoch 85/500\n",
            "\u001b[1m25/25\u001b[0m \u001b[32m━━━━━━━━━━━━━━━━━━━━\u001b[0m\u001b[37m\u001b[0m \u001b[1m0s\u001b[0m 11ms/step - loss: 0.0615 - mae: 0.1661 - mse: 0.0598 - val_loss: 0.0622 - val_mae: 0.1677 - val_mse: 0.0605 - learning_rate: 0.0010\n",
            "Epoch 86/500\n",
            "\u001b[1m25/25\u001b[0m \u001b[32m━━━━━━━━━━━━━━━━━━━━\u001b[0m\u001b[37m\u001b[0m \u001b[1m0s\u001b[0m 11ms/step - loss: 0.0622 - mae: 0.1674 - mse: 0.0606 - val_loss: 0.0620 - val_mae: 0.1672 - val_mse: 0.0604 - learning_rate: 0.0010\n",
            "Epoch 87/500\n",
            "\u001b[1m25/25\u001b[0m \u001b[32m━━━━━━━━━━━━━━━━━━━━\u001b[0m\u001b[37m\u001b[0m \u001b[1m1s\u001b[0m 20ms/step - loss: 0.0618 - mae: 0.1666 - mse: 0.0602 - val_loss: 0.0621 - val_mae: 0.1671 - val_mse: 0.0604 - learning_rate: 0.0010\n",
            "Epoch 88/500\n",
            "\u001b[1m25/25\u001b[0m \u001b[32m━━━━━━━━━━━━━━━━━━━━\u001b[0m\u001b[37m\u001b[0m \u001b[1m1s\u001b[0m 23ms/step - loss: 0.0618 - mae: 0.1656 - mse: 0.0602 - val_loss: 0.0620 - val_mae: 0.1669 - val_mse: 0.0604 - learning_rate: 0.0010\n",
            "Epoch 89/500\n",
            "\u001b[1m25/25\u001b[0m \u001b[32m━━━━━━━━━━━━━━━━━━━━\u001b[0m\u001b[37m\u001b[0m \u001b[1m1s\u001b[0m 23ms/step - loss: 0.0609 - mae: 0.1645 - mse: 0.0592 - val_loss: 0.0619 - val_mae: 0.1665 - val_mse: 0.0603 - learning_rate: 0.0010\n",
            "Epoch 90/500\n",
            "\u001b[1m25/25\u001b[0m \u001b[32m━━━━━━━━━━━━━━━━━━━━\u001b[0m\u001b[37m\u001b[0m \u001b[1m1s\u001b[0m 23ms/step - loss: 0.0612 - mae: 0.1648 - mse: 0.0596 - val_loss: 0.0620 - val_mae: 0.1665 - val_mse: 0.0604 - learning_rate: 0.0010\n",
            "Epoch 91/500\n",
            "\u001b[1m25/25\u001b[0m \u001b[32m━━━━━━━━━━━━━━━━━━━━\u001b[0m\u001b[37m\u001b[0m \u001b[1m1s\u001b[0m 36ms/step - loss: 0.0619 - mae: 0.1656 - mse: 0.0603 - val_loss: 0.0618 - val_mae: 0.1666 - val_mse: 0.0602 - learning_rate: 0.0010\n",
            "Epoch 92/500\n",
            "\u001b[1m25/25\u001b[0m \u001b[32m━━━━━━━━━━━━━━━━━━━━\u001b[0m\u001b[37m\u001b[0m \u001b[1m1s\u001b[0m 20ms/step - loss: 0.0616 - mae: 0.1656 - mse: 0.0601 - val_loss: 0.0618 - val_mae: 0.1660 - val_mse: 0.0602 - learning_rate: 0.0010\n",
            "Epoch 93/500\n",
            "\u001b[1m25/25\u001b[0m \u001b[32m━━━━━━━━━━━━━━━━━━━━\u001b[0m\u001b[37m\u001b[0m \u001b[1m0s\u001b[0m 12ms/step - loss: 0.0612 - mae: 0.1642 - mse: 0.0596 - val_loss: 0.0617 - val_mae: 0.1660 - val_mse: 0.0602 - learning_rate: 0.0010\n",
            "Epoch 94/500\n",
            "\u001b[1m25/25\u001b[0m \u001b[32m━━━━━━━━━━━━━━━━━━━━\u001b[0m\u001b[37m\u001b[0m \u001b[1m1s\u001b[0m 10ms/step - loss: 0.0620 - mae: 0.1659 - mse: 0.0604 - val_loss: 0.0619 - val_mae: 0.1662 - val_mse: 0.0603 - learning_rate: 0.0010\n",
            "Epoch 95/500\n",
            "\u001b[1m25/25\u001b[0m \u001b[32m━━━━━━━━━━━━━━━━━━━━\u001b[0m\u001b[37m\u001b[0m \u001b[1m0s\u001b[0m 10ms/step - loss: 0.0605 - mae: 0.1630 - mse: 0.0589 - val_loss: 0.0616 - val_mae: 0.1657 - val_mse: 0.0601 - learning_rate: 0.0010\n",
            "Epoch 96/500\n",
            "\u001b[1m25/25\u001b[0m \u001b[32m━━━━━━━━━━━━━━━━━━━━\u001b[0m\u001b[37m\u001b[0m \u001b[1m0s\u001b[0m 10ms/step - loss: 0.0612 - mae: 0.1645 - mse: 0.0596 - val_loss: 0.0618 - val_mae: 0.1659 - val_mse: 0.0603 - learning_rate: 0.0010\n",
            "Epoch 97/500\n",
            "\u001b[1m25/25\u001b[0m \u001b[32m━━━━━━━━━━━━━━━━━━━━\u001b[0m\u001b[37m\u001b[0m \u001b[1m0s\u001b[0m 10ms/step - loss: 0.0615 - mae: 0.1646 - mse: 0.0600 - val_loss: 0.0616 - val_mae: 0.1654 - val_mse: 0.0601 - learning_rate: 0.0010\n",
            "Epoch 98/500\n",
            "\u001b[1m25/25\u001b[0m \u001b[32m━━━━━━━━━━━━━━━━━━━━\u001b[0m\u001b[37m\u001b[0m \u001b[1m0s\u001b[0m 9ms/step - loss: 0.0611 - mae: 0.1644 - mse: 0.0596 - val_loss: 0.0617 - val_mae: 0.1655 - val_mse: 0.0602 - learning_rate: 0.0010\n",
            "Epoch 99/500\n",
            "\u001b[1m25/25\u001b[0m \u001b[32m━━━━━━━━━━━━━━━━━━━━\u001b[0m\u001b[37m\u001b[0m \u001b[1m0s\u001b[0m 10ms/step - loss: 0.0609 - mae: 0.1633 - mse: 0.0594 - val_loss: 0.0617 - val_mae: 0.1654 - val_mse: 0.0602 - learning_rate: 0.0010\n",
            "Epoch 100/500\n",
            "\u001b[1m22/25\u001b[0m \u001b[32m━━━━━━━━━━━━━━━━━\u001b[0m\u001b[37m━━━\u001b[0m \u001b[1m0s\u001b[0m 5ms/step - loss: 0.0612 - mae: 0.1640 - mse: 0.0597\n",
            "Epoch 100: ReduceLROnPlateau reducing learning rate to 0.0005000000237487257.\n",
            "\u001b[1m25/25\u001b[0m \u001b[32m━━━━━━━━━━━━━━━━━━━━\u001b[0m\u001b[37m\u001b[0m \u001b[1m0s\u001b[0m 10ms/step - loss: 0.0612 - mae: 0.1640 - mse: 0.0597 - val_loss: 0.0615 - val_mae: 0.1650 - val_mse: 0.0601 - learning_rate: 0.0010\n",
            "Epoch 101/500\n",
            "\u001b[1m25/25\u001b[0m \u001b[32m━━━━━━━━━━━━━━━━━━━━\u001b[0m\u001b[37m\u001b[0m \u001b[1m0s\u001b[0m 9ms/step - loss: 0.0620 - mae: 0.1653 - mse: 0.0606 - val_loss: 0.0615 - val_mae: 0.1650 - val_mse: 0.0601 - learning_rate: 5.0000e-04\n",
            "Epoch 102/500\n",
            "\u001b[1m25/25\u001b[0m \u001b[32m━━━━━━━━━━━━━━━━━━━━\u001b[0m\u001b[37m\u001b[0m \u001b[1m0s\u001b[0m 11ms/step - loss: 0.0608 - mae: 0.1634 - mse: 0.0593 - val_loss: 0.0615 - val_mae: 0.1647 - val_mse: 0.0600 - learning_rate: 5.0000e-04\n",
            "Epoch 103/500\n",
            "\u001b[1m25/25\u001b[0m \u001b[32m━━━━━━━━━━━━━━━━━━━━\u001b[0m\u001b[37m\u001b[0m \u001b[1m0s\u001b[0m 10ms/step - loss: 0.0614 - mae: 0.1640 - mse: 0.0599 - val_loss: 0.0615 - val_mae: 0.1648 - val_mse: 0.0600 - learning_rate: 5.0000e-04\n",
            "Epoch 104/500\n",
            "\u001b[1m25/25\u001b[0m \u001b[32m━━━━━━━━━━━━━━━━━━━━\u001b[0m\u001b[37m\u001b[0m \u001b[1m0s\u001b[0m 10ms/step - loss: 0.0609 - mae: 0.1635 - mse: 0.0594 - val_loss: 0.0615 - val_mae: 0.1647 - val_mse: 0.0600 - learning_rate: 5.0000e-04\n",
            "Epoch 105/500\n",
            "\u001b[1m25/25\u001b[0m \u001b[32m━━━━━━━━━━━━━━━━━━━━\u001b[0m\u001b[37m\u001b[0m \u001b[1m0s\u001b[0m 9ms/step - loss: 0.0608 - mae: 0.1630 - mse: 0.0593 - val_loss: 0.0614 - val_mae: 0.1645 - val_mse: 0.0600 - learning_rate: 5.0000e-04\n",
            "Epoch 106/500\n",
            "\u001b[1m25/25\u001b[0m \u001b[32m━━━━━━━━━━━━━━━━━━━━\u001b[0m\u001b[37m\u001b[0m \u001b[1m0s\u001b[0m 9ms/step - loss: 0.0609 - mae: 0.1635 - mse: 0.0594 - val_loss: 0.0614 - val_mae: 0.1646 - val_mse: 0.0600 - learning_rate: 5.0000e-04\n",
            "Epoch 107/500\n",
            "\u001b[1m25/25\u001b[0m \u001b[32m━━━━━━━━━━━━━━━━━━━━\u001b[0m\u001b[37m\u001b[0m \u001b[1m0s\u001b[0m 11ms/step - loss: 0.0607 - mae: 0.1633 - mse: 0.0592 - val_loss: 0.0614 - val_mae: 0.1645 - val_mse: 0.0600 - learning_rate: 5.0000e-04\n",
            "Epoch 108/500\n",
            "\u001b[1m25/25\u001b[0m \u001b[32m━━━━━━━━━━━━━━━━━━━━\u001b[0m\u001b[37m\u001b[0m \u001b[1m0s\u001b[0m 9ms/step - loss: 0.0609 - mae: 0.1632 - mse: 0.0595 - val_loss: 0.0614 - val_mae: 0.1645 - val_mse: 0.0600 - learning_rate: 5.0000e-04\n",
            "Epoch 109/500\n",
            "\u001b[1m25/25\u001b[0m \u001b[32m━━━━━━━━━━━━━━━━━━━━\u001b[0m\u001b[37m\u001b[0m \u001b[1m0s\u001b[0m 9ms/step - loss: 0.0602 - mae: 0.1622 - mse: 0.0587 - val_loss: 0.0613 - val_mae: 0.1645 - val_mse: 0.0599 - learning_rate: 5.0000e-04\n",
            "Epoch 110/500\n",
            "\u001b[1m22/25\u001b[0m \u001b[32m━━━━━━━━━━━━━━━━━\u001b[0m\u001b[37m━━━\u001b[0m \u001b[1m0s\u001b[0m 5ms/step - loss: 0.0604 - mae: 0.1626 - mse: 0.0590\n",
            "Epoch 110: ReduceLROnPlateau reducing learning rate to 0.0002500000118743628.\n",
            "\u001b[1m25/25\u001b[0m \u001b[32m━━━━━━━━━━━━━━━━━━━━\u001b[0m\u001b[37m\u001b[0m \u001b[1m0s\u001b[0m 9ms/step - loss: 0.0605 - mae: 0.1627 - mse: 0.0591 - val_loss: 0.0614 - val_mae: 0.1645 - val_mse: 0.0600 - learning_rate: 5.0000e-04\n",
            "Epoch 111/500\n",
            "\u001b[1m25/25\u001b[0m \u001b[32m━━━━━━━━━━━━━━━━━━━━\u001b[0m\u001b[37m\u001b[0m \u001b[1m0s\u001b[0m 10ms/step - loss: 0.0606 - mae: 0.1627 - mse: 0.0592 - val_loss: 0.0613 - val_mae: 0.1644 - val_mse: 0.0599 - learning_rate: 2.5000e-04\n",
            "Epoch 112/500\n",
            "\u001b[1m25/25\u001b[0m \u001b[32m━━━━━━━━━━━━━━━━━━━━\u001b[0m\u001b[37m\u001b[0m \u001b[1m0s\u001b[0m 9ms/step - loss: 0.0605 - mae: 0.1627 - mse: 0.0591 - val_loss: 0.0613 - val_mae: 0.1644 - val_mse: 0.0599 - learning_rate: 2.5000e-04\n",
            "Epoch 113/500\n",
            "\u001b[1m25/25\u001b[0m \u001b[32m━━━━━━━━━━━━━━━━━━━━\u001b[0m\u001b[37m\u001b[0m \u001b[1m0s\u001b[0m 10ms/step - loss: 0.0609 - mae: 0.1628 - mse: 0.0595 - val_loss: 0.0613 - val_mae: 0.1643 - val_mse: 0.0599 - learning_rate: 2.5000e-04\n",
            "Epoch 114/500\n",
            "\u001b[1m25/25\u001b[0m \u001b[32m━━━━━━━━━━━━━━━━━━━━\u001b[0m\u001b[37m\u001b[0m \u001b[1m0s\u001b[0m 9ms/step - loss: 0.0608 - mae: 0.1628 - mse: 0.0593 - val_loss: 0.0613 - val_mae: 0.1643 - val_mse: 0.0599 - learning_rate: 2.5000e-04\n",
            "Epoch 115/500\n",
            "\u001b[1m25/25\u001b[0m \u001b[32m━━━━━━━━━━━━━━━━━━━━\u001b[0m\u001b[37m\u001b[0m \u001b[1m0s\u001b[0m 10ms/step - loss: 0.0606 - mae: 0.1623 - mse: 0.0592 - val_loss: 0.0613 - val_mae: 0.1643 - val_mse: 0.0599 - learning_rate: 2.5000e-04\n",
            "Epoch 116/500\n",
            "\u001b[1m25/25\u001b[0m \u001b[32m━━━━━━━━━━━━━━━━━━━━\u001b[0m\u001b[37m\u001b[0m \u001b[1m0s\u001b[0m 9ms/step - loss: 0.0602 - mae: 0.1625 - mse: 0.0588 - val_loss: 0.0613 - val_mae: 0.1642 - val_mse: 0.0599 - learning_rate: 2.5000e-04\n",
            "Epoch 117/500\n",
            "\u001b[1m25/25\u001b[0m \u001b[32m━━━━━━━━━━━━━━━━━━━━\u001b[0m\u001b[37m\u001b[0m \u001b[1m0s\u001b[0m 10ms/step - loss: 0.0602 - mae: 0.1622 - mse: 0.0588 - val_loss: 0.0613 - val_mae: 0.1642 - val_mse: 0.0599 - learning_rate: 2.5000e-04\n",
            "Epoch 118/500\n",
            "\u001b[1m25/25\u001b[0m \u001b[32m━━━━━━━━━━━━━━━━━━━━\u001b[0m\u001b[37m\u001b[0m \u001b[1m0s\u001b[0m 10ms/step - loss: 0.0608 - mae: 0.1629 - mse: 0.0594 - val_loss: 0.0613 - val_mae: 0.1642 - val_mse: 0.0599 - learning_rate: 2.5000e-04\n",
            "Epoch 119/500\n",
            "\u001b[1m20/25\u001b[0m \u001b[32m━━━━━━━━━━━━━━━━\u001b[0m\u001b[37m━━━━\u001b[0m \u001b[1m0s\u001b[0m 6ms/step - loss: 0.0594 - mae: 0.1603 - mse: 0.0580\n",
            "Epoch 119: ReduceLROnPlateau reducing learning rate to 0.0001250000059371814.\n",
            "\u001b[1m25/25\u001b[0m \u001b[32m━━━━━━━━━━━━━━━━━━━━\u001b[0m\u001b[37m\u001b[0m \u001b[1m0s\u001b[0m 10ms/step - loss: 0.0596 - mae: 0.1608 - mse: 0.0582 - val_loss: 0.0612 - val_mae: 0.1641 - val_mse: 0.0599 - learning_rate: 2.5000e-04\n",
            "Epoch 120/500\n",
            "\u001b[1m25/25\u001b[0m \u001b[32m━━━━━━━━━━━━━━━━━━━━\u001b[0m\u001b[37m\u001b[0m \u001b[1m0s\u001b[0m 9ms/step - loss: 0.0606 - mae: 0.1625 - mse: 0.0593 - val_loss: 0.0612 - val_mae: 0.1642 - val_mse: 0.0599 - learning_rate: 1.2500e-04\n",
            "Epoch 121/500\n",
            "\u001b[1m25/25\u001b[0m \u001b[32m━━━━━━━━━━━━━━━━━━━━\u001b[0m\u001b[37m\u001b[0m \u001b[1m0s\u001b[0m 9ms/step - loss: 0.0604 - mae: 0.1622 - mse: 0.0590 - val_loss: 0.0612 - val_mae: 0.1641 - val_mse: 0.0599 - learning_rate: 1.2500e-04\n",
            "Epoch 122/500\n",
            "\u001b[1m25/25\u001b[0m \u001b[32m━━━━━━━━━━━━━━━━━━━━\u001b[0m\u001b[37m\u001b[0m \u001b[1m0s\u001b[0m 10ms/step - loss: 0.0610 - mae: 0.1631 - mse: 0.0596 - val_loss: 0.0612 - val_mae: 0.1641 - val_mse: 0.0599 - learning_rate: 1.2500e-04\n",
            "Epoch 123/500\n",
            "\u001b[1m25/25\u001b[0m \u001b[32m━━━━━━━━━━━━━━━━━━━━\u001b[0m\u001b[37m\u001b[0m \u001b[1m0s\u001b[0m 9ms/step - loss: 0.0598 - mae: 0.1615 - mse: 0.0584 - val_loss: 0.0612 - val_mae: 0.1641 - val_mse: 0.0599 - learning_rate: 1.2500e-04\n",
            "Epoch 124/500\n",
            "\u001b[1m22/25\u001b[0m \u001b[32m━━━━━━━━━━━━━━━━━\u001b[0m\u001b[37m━━━\u001b[0m \u001b[1m0s\u001b[0m 5ms/step - loss: 0.0607 - mae: 0.1631 - mse: 0.0594\n",
            "Epoch 124: ReduceLROnPlateau reducing learning rate to 6.25000029685907e-05.\n",
            "\u001b[1m25/25\u001b[0m \u001b[32m━━━━━━━━━━━━━━━━━━━━\u001b[0m\u001b[37m\u001b[0m \u001b[1m0s\u001b[0m 10ms/step - loss: 0.0607 - mae: 0.1630 - mse: 0.0593 - val_loss: 0.0612 - val_mae: 0.1642 - val_mse: 0.0598 - learning_rate: 1.2500e-04\n",
            "Epoch 125/500\n",
            "\u001b[1m25/25\u001b[0m \u001b[32m━━━━━━━━━━━━━━━━━━━━\u001b[0m\u001b[37m\u001b[0m \u001b[1m0s\u001b[0m 9ms/step - loss: 0.0607 - mae: 0.1628 - mse: 0.0593 - val_loss: 0.0612 - val_mae: 0.1640 - val_mse: 0.0598 - learning_rate: 6.2500e-05\n",
            "Epoch 126/500\n",
            "\u001b[1m25/25\u001b[0m \u001b[32m━━━━━━━━━━━━━━━━━━━━\u001b[0m\u001b[37m\u001b[0m \u001b[1m0s\u001b[0m 9ms/step - loss: 0.0605 - mae: 0.1623 - mse: 0.0591 - val_loss: 0.0612 - val_mae: 0.1641 - val_mse: 0.0598 - learning_rate: 6.2500e-05\n",
            "Epoch 127/500\n",
            "\u001b[1m25/25\u001b[0m \u001b[32m━━━━━━━━━━━━━━━━━━━━\u001b[0m\u001b[37m\u001b[0m \u001b[1m0s\u001b[0m 9ms/step - loss: 0.0608 - mae: 0.1628 - mse: 0.0595 - val_loss: 0.0612 - val_mae: 0.1640 - val_mse: 0.0598 - learning_rate: 6.2500e-05\n",
            "Epoch 128/500\n",
            "\u001b[1m25/25\u001b[0m \u001b[32m━━━━━━━━━━━━━━━━━━━━\u001b[0m\u001b[37m\u001b[0m \u001b[1m0s\u001b[0m 17ms/step - loss: 0.0612 - mae: 0.1634 - mse: 0.0598 - val_loss: 0.0612 - val_mae: 0.1640 - val_mse: 0.0598 - learning_rate: 6.2500e-05\n",
            "Epoch 129/500\n",
            "\u001b[1m25/25\u001b[0m \u001b[32m━━━━━━━━━━━━━━━━━━━━\u001b[0m\u001b[37m\u001b[0m \u001b[1m1s\u001b[0m 17ms/step - loss: 0.0606 - mae: 0.1621 - mse: 0.0592 - val_loss: 0.0612 - val_mae: 0.1640 - val_mse: 0.0598 - learning_rate: 6.2500e-05\n",
            "Epoch 130/500\n",
            "\u001b[1m22/25\u001b[0m \u001b[32m━━━━━━━━━━━━━━━━━\u001b[0m\u001b[37m━━━\u001b[0m \u001b[1m0s\u001b[0m 8ms/step - loss: 0.0604 - mae: 0.1622 - mse: 0.0590\n",
            "Epoch 130: ReduceLROnPlateau reducing learning rate to 3.125000148429535e-05.\n",
            "\u001b[1m25/25\u001b[0m \u001b[32m━━━━━━━━━━━━━━━━━━━━\u001b[0m\u001b[37m\u001b[0m \u001b[1m1s\u001b[0m 18ms/step - loss: 0.0604 - mae: 0.1623 - mse: 0.0590 - val_loss: 0.0612 - val_mae: 0.1640 - val_mse: 0.0598 - learning_rate: 6.2500e-05\n",
            "Epoch 131/500\n",
            "\u001b[1m25/25\u001b[0m \u001b[32m━━━━━━━━━━━━━━━━━━━━\u001b[0m\u001b[37m\u001b[0m \u001b[1m0s\u001b[0m 15ms/step - loss: 0.0599 - mae: 0.1613 - mse: 0.0586 - val_loss: 0.0612 - val_mae: 0.1640 - val_mse: 0.0598 - learning_rate: 3.1250e-05\n",
            "Epoch 132/500\n",
            "\u001b[1m25/25\u001b[0m \u001b[32m━━━━━━━━━━━━━━━━━━━━\u001b[0m\u001b[37m\u001b[0m \u001b[1m0s\u001b[0m 12ms/step - loss: 0.0601 - mae: 0.1621 - mse: 0.0587 - val_loss: 0.0612 - val_mae: 0.1640 - val_mse: 0.0598 - learning_rate: 3.1250e-05\n",
            "Epoch 133/500\n",
            "\u001b[1m25/25\u001b[0m \u001b[32m━━━━━━━━━━━━━━━━━━━━\u001b[0m\u001b[37m\u001b[0m \u001b[1m1s\u001b[0m 10ms/step - loss: 0.0598 - mae: 0.1609 - mse: 0.0584 - val_loss: 0.0612 - val_mae: 0.1640 - val_mse: 0.0598 - learning_rate: 3.1250e-05\n",
            "Epoch 134/500\n",
            "\u001b[1m25/25\u001b[0m \u001b[32m━━━━━━━━━━━━━━━━━━━━\u001b[0m\u001b[37m\u001b[0m \u001b[1m0s\u001b[0m 9ms/step - loss: 0.0604 - mae: 0.1624 - mse: 0.0591 - val_loss: 0.0612 - val_mae: 0.1640 - val_mse: 0.0598 - learning_rate: 3.1250e-05\n",
            "Epoch 135/500\n",
            "\u001b[1m21/25\u001b[0m \u001b[32m━━━━━━━━━━━━━━━━\u001b[0m\u001b[37m━━━━\u001b[0m \u001b[1m0s\u001b[0m 5ms/step - loss: 0.0608 - mae: 0.1626 - mse: 0.0594\n",
            "Epoch 135: ReduceLROnPlateau reducing learning rate to 1.5625000742147677e-05.\n",
            "\u001b[1m25/25\u001b[0m \u001b[32m━━━━━━━━━━━━━━━━━━━━\u001b[0m\u001b[37m\u001b[0m \u001b[1m0s\u001b[0m 10ms/step - loss: 0.0607 - mae: 0.1625 - mse: 0.0594 - val_loss: 0.0612 - val_mae: 0.1640 - val_mse: 0.0598 - learning_rate: 3.1250e-05\n",
            "Epoch 136/500\n",
            "\u001b[1m25/25\u001b[0m \u001b[32m━━━━━━━━━━━━━━━━━━━━\u001b[0m\u001b[37m\u001b[0m \u001b[1m0s\u001b[0m 9ms/step - loss: 0.0605 - mae: 0.1625 - mse: 0.0591 - val_loss: 0.0612 - val_mae: 0.1640 - val_mse: 0.0598 - learning_rate: 1.5625e-05\n",
            "Epoch 137/500\n",
            "\u001b[1m25/25\u001b[0m \u001b[32m━━━━━━━━━━━━━━━━━━━━\u001b[0m\u001b[37m\u001b[0m \u001b[1m0s\u001b[0m 10ms/step - loss: 0.0606 - mae: 0.1625 - mse: 0.0593 - val_loss: 0.0612 - val_mae: 0.1640 - val_mse: 0.0598 - learning_rate: 1.5625e-05\n",
            "Epoch 138/500\n",
            "\u001b[1m25/25\u001b[0m \u001b[32m━━━━━━━━━━━━━━━━━━━━\u001b[0m\u001b[37m\u001b[0m \u001b[1m0s\u001b[0m 9ms/step - loss: 0.0602 - mae: 0.1619 - mse: 0.0589 - val_loss: 0.0612 - val_mae: 0.1640 - val_mse: 0.0598 - learning_rate: 1.5625e-05\n",
            "Epoch 139/500\n",
            "\u001b[1m25/25\u001b[0m \u001b[32m━━━━━━━━━━━━━━━━━━━━\u001b[0m\u001b[37m\u001b[0m \u001b[1m0s\u001b[0m 10ms/step - loss: 0.0598 - mae: 0.1610 - mse: 0.0584 - val_loss: 0.0612 - val_mae: 0.1640 - val_mse: 0.0598 - learning_rate: 1.5625e-05\n",
            "Epoch 140/500\n",
            "\u001b[1m23/25\u001b[0m \u001b[32m━━━━━━━━━━━━━━━━━━\u001b[0m\u001b[37m━━\u001b[0m \u001b[1m0s\u001b[0m 5ms/step - loss: 0.0611 - mae: 0.1634 - mse: 0.0597\n",
            "Epoch 140: ReduceLROnPlateau reducing learning rate to 7.812500371073838e-06.\n",
            "\u001b[1m25/25\u001b[0m \u001b[32m━━━━━━━━━━━━━━━━━━━━\u001b[0m\u001b[37m\u001b[0m \u001b[1m0s\u001b[0m 10ms/step - loss: 0.0610 - mae: 0.1633 - mse: 0.0596 - val_loss: 0.0612 - val_mae: 0.1640 - val_mse: 0.0598 - learning_rate: 1.5625e-05\n",
            "Epoch 141/500\n",
            "\u001b[1m25/25\u001b[0m \u001b[32m━━━━━━━━━━━━━━━━━━━━\u001b[0m\u001b[37m\u001b[0m \u001b[1m0s\u001b[0m 9ms/step - loss: 0.0604 - mae: 0.1623 - mse: 0.0591 - val_loss: 0.0612 - val_mae: 0.1640 - val_mse: 0.0598 - learning_rate: 7.8125e-06\n",
            "Epoch 142/500\n",
            "\u001b[1m25/25\u001b[0m \u001b[32m━━━━━━━━━━━━━━━━━━━━\u001b[0m\u001b[37m\u001b[0m \u001b[1m0s\u001b[0m 10ms/step - loss: 0.0606 - mae: 0.1628 - mse: 0.0592 - val_loss: 0.0612 - val_mae: 0.1640 - val_mse: 0.0598 - learning_rate: 7.8125e-06\n",
            "Epoch 143/500\n",
            "\u001b[1m25/25\u001b[0m \u001b[32m━━━━━━━━━━━━━━━━━━━━\u001b[0m\u001b[37m\u001b[0m \u001b[1m0s\u001b[0m 10ms/step - loss: 0.0600 - mae: 0.1617 - mse: 0.0586 - val_loss: 0.0612 - val_mae: 0.1640 - val_mse: 0.0598 - learning_rate: 7.8125e-06\n",
            "Epoch 144/500\n",
            "\u001b[1m25/25\u001b[0m \u001b[32m━━━━━━━━━━━━━━━━━━━━\u001b[0m\u001b[37m\u001b[0m \u001b[1m0s\u001b[0m 10ms/step - loss: 0.0610 - mae: 0.1631 - mse: 0.0596 - val_loss: 0.0612 - val_mae: 0.1640 - val_mse: 0.0598 - learning_rate: 7.8125e-06\n",
            "Epoch 145/500\n",
            "\u001b[1m22/25\u001b[0m \u001b[32m━━━━━━━━━━━━━━━━━\u001b[0m\u001b[37m━━━\u001b[0m \u001b[1m0s\u001b[0m 5ms/step - loss: 0.0607 - mae: 0.1628 - mse: 0.0593\n",
            "Epoch 145: ReduceLROnPlateau reducing learning rate to 3.906250185536919e-06.\n",
            "\u001b[1m25/25\u001b[0m \u001b[32m━━━━━━━━━━━━━━━━━━━━\u001b[0m\u001b[37m\u001b[0m \u001b[1m0s\u001b[0m 10ms/step - loss: 0.0607 - mae: 0.1628 - mse: 0.0593 - val_loss: 0.0612 - val_mae: 0.1640 - val_mse: 0.0598 - learning_rate: 7.8125e-06\n",
            "Epoch 146/500\n",
            "\u001b[1m25/25\u001b[0m \u001b[32m━━━━━━━━━━━━━━━━━━━━\u001b[0m\u001b[37m\u001b[0m \u001b[1m0s\u001b[0m 10ms/step - loss: 0.0607 - mae: 0.1628 - mse: 0.0594 - val_loss: 0.0612 - val_mae: 0.1640 - val_mse: 0.0598 - learning_rate: 3.9063e-06\n",
            "Epoch 147/500\n",
            "\u001b[1m25/25\u001b[0m \u001b[32m━━━━━━━━━━━━━━━━━━━━\u001b[0m\u001b[37m\u001b[0m \u001b[1m0s\u001b[0m 10ms/step - loss: 0.0607 - mae: 0.1629 - mse: 0.0593 - val_loss: 0.0612 - val_mae: 0.1640 - val_mse: 0.0598 - learning_rate: 3.9063e-06\n",
            "Epoch 148/500\n",
            "\u001b[1m25/25\u001b[0m \u001b[32m━━━━━━━━━━━━━━━━━━━━\u001b[0m\u001b[37m\u001b[0m \u001b[1m0s\u001b[0m 10ms/step - loss: 0.0608 - mae: 0.1631 - mse: 0.0594 - val_loss: 0.0612 - val_mae: 0.1640 - val_mse: 0.0598 - learning_rate: 3.9063e-06\n",
            "Epoch 149/500\n",
            "\u001b[1m25/25\u001b[0m \u001b[32m━━━━━━━━━━━━━━━━━━━━\u001b[0m\u001b[37m\u001b[0m \u001b[1m0s\u001b[0m 9ms/step - loss: 0.0600 - mae: 0.1615 - mse: 0.0586 - val_loss: 0.0612 - val_mae: 0.1640 - val_mse: 0.0598 - learning_rate: 3.9063e-06\n",
            "Epoch 150/500\n",
            "\u001b[1m19/25\u001b[0m \u001b[32m━━━━━━━━━━━━━━━\u001b[0m\u001b[37m━━━━━\u001b[0m \u001b[1m0s\u001b[0m 6ms/step - loss: 0.0602 - mae: 0.1618 - mse: 0.0589\n",
            "Epoch 150: ReduceLROnPlateau reducing learning rate to 1.9531250927684596e-06.\n",
            "\u001b[1m25/25\u001b[0m \u001b[32m━━━━━━━━━━━━━━━━━━━━\u001b[0m\u001b[37m\u001b[0m \u001b[1m0s\u001b[0m 10ms/step - loss: 0.0603 - mae: 0.1619 - mse: 0.0589 - val_loss: 0.0612 - val_mae: 0.1640 - val_mse: 0.0598 - learning_rate: 3.9063e-06\n",
            "Epoch 151/500\n",
            "\u001b[1m25/25\u001b[0m \u001b[32m━━━━━━━━━━━━━━━━━━━━\u001b[0m\u001b[37m\u001b[0m \u001b[1m0s\u001b[0m 9ms/step - loss: 0.0603 - mae: 0.1618 - mse: 0.0590 - val_loss: 0.0612 - val_mae: 0.1640 - val_mse: 0.0598 - learning_rate: 1.9531e-06\n",
            "Epoch 152/500\n",
            "\u001b[1m25/25\u001b[0m \u001b[32m━━━━━━━━━━━━━━━━━━━━\u001b[0m\u001b[37m\u001b[0m \u001b[1m0s\u001b[0m 9ms/step - loss: 0.0595 - mae: 0.1607 - mse: 0.0582 - val_loss: 0.0612 - val_mae: 0.1640 - val_mse: 0.0598 - learning_rate: 1.9531e-06\n",
            "Epoch 153/500\n",
            "\u001b[1m25/25\u001b[0m \u001b[32m━━━━━━━━━━━━━━━━━━━━\u001b[0m\u001b[37m\u001b[0m \u001b[1m0s\u001b[0m 10ms/step - loss: 0.0609 - mae: 0.1630 - mse: 0.0595 - val_loss: 0.0612 - val_mae: 0.1640 - val_mse: 0.0598 - learning_rate: 1.9531e-06\n",
            "Epoch 154/500\n",
            "\u001b[1m25/25\u001b[0m \u001b[32m━━━━━━━━━━━━━━━━━━━━\u001b[0m\u001b[37m\u001b[0m \u001b[1m0s\u001b[0m 10ms/step - loss: 0.0605 - mae: 0.1623 - mse: 0.0591 - val_loss: 0.0612 - val_mae: 0.1640 - val_mse: 0.0598 - learning_rate: 1.9531e-06\n",
            "Epoch 155/500\n",
            "\u001b[1m21/25\u001b[0m \u001b[32m━━━━━━━━━━━━━━━━\u001b[0m\u001b[37m━━━━\u001b[0m \u001b[1m0s\u001b[0m 5ms/step - loss: 0.0601 - mae: 0.1614 - mse: 0.0587\n",
            "Epoch 155: ReduceLROnPlateau reducing learning rate to 9.765625463842298e-07.\n",
            "\u001b[1m25/25\u001b[0m \u001b[32m━━━━━━━━━━━━━━━━━━━━\u001b[0m\u001b[37m\u001b[0m \u001b[1m0s\u001b[0m 9ms/step - loss: 0.0601 - mae: 0.1615 - mse: 0.0588 - val_loss: 0.0612 - val_mae: 0.1640 - val_mse: 0.0598 - learning_rate: 1.9531e-06\n",
            "Epoch 156/500\n",
            "\u001b[1m25/25\u001b[0m \u001b[32m━━━━━━━━━━━━━━━━━━━━\u001b[0m\u001b[37m\u001b[0m \u001b[1m0s\u001b[0m 10ms/step - loss: 0.0605 - mae: 0.1623 - mse: 0.0591 - val_loss: 0.0612 - val_mae: 0.1640 - val_mse: 0.0598 - learning_rate: 9.7656e-07\n",
            "Epoch 157/500\n",
            "\u001b[1m25/25\u001b[0m \u001b[32m━━━━━━━━━━━━━━━━━━━━\u001b[0m\u001b[37m\u001b[0m \u001b[1m0s\u001b[0m 10ms/step - loss: 0.0605 - mae: 0.1623 - mse: 0.0591 - val_loss: 0.0612 - val_mae: 0.1640 - val_mse: 0.0598 - learning_rate: 9.7656e-07\n",
            "Epoch 158/500\n",
            "\u001b[1m25/25\u001b[0m \u001b[32m━━━━━━━━━━━━━━━━━━━━\u001b[0m\u001b[37m\u001b[0m \u001b[1m0s\u001b[0m 10ms/step - loss: 0.0602 - mae: 0.1615 - mse: 0.0589 - val_loss: 0.0612 - val_mae: 0.1640 - val_mse: 0.0598 - learning_rate: 9.7656e-07\n",
            "Epoch 159/500\n",
            "\u001b[1m25/25\u001b[0m \u001b[32m━━━━━━━━━━━━━━━━━━━━\u001b[0m\u001b[37m\u001b[0m \u001b[1m0s\u001b[0m 10ms/step - loss: 0.0607 - mae: 0.1627 - mse: 0.0594 - val_loss: 0.0612 - val_mae: 0.1640 - val_mse: 0.0598 - learning_rate: 9.7656e-07\n",
            "Epoch 160/500\n",
            "\u001b[1m21/25\u001b[0m \u001b[32m━━━━━━━━━━━━━━━━\u001b[0m\u001b[37m━━━━\u001b[0m \u001b[1m0s\u001b[0m 5ms/step - loss: 0.0610 - mae: 0.1633 - mse: 0.0597\n",
            "Epoch 160: ReduceLROnPlateau reducing learning rate to 4.882812731921149e-07.\n",
            "\u001b[1m25/25\u001b[0m \u001b[32m━━━━━━━━━━━━━━━━━━━━\u001b[0m\u001b[37m\u001b[0m \u001b[1m0s\u001b[0m 9ms/step - loss: 0.0609 - mae: 0.1632 - mse: 0.0596 - val_loss: 0.0612 - val_mae: 0.1640 - val_mse: 0.0598 - learning_rate: 9.7656e-07\n",
            "Epoch 161/500\n",
            "\u001b[1m25/25\u001b[0m \u001b[32m━━━━━━━━━━━━━━━━━━━━\u001b[0m\u001b[37m\u001b[0m \u001b[1m0s\u001b[0m 10ms/step - loss: 0.0605 - mae: 0.1625 - mse: 0.0592 - val_loss: 0.0612 - val_mae: 0.1640 - val_mse: 0.0598 - learning_rate: 4.8828e-07\n",
            "Epoch 162/500\n",
            "\u001b[1m25/25\u001b[0m \u001b[32m━━━━━━━━━━━━━━━━━━━━\u001b[0m\u001b[37m\u001b[0m \u001b[1m0s\u001b[0m 9ms/step - loss: 0.0610 - mae: 0.1634 - mse: 0.0596 - val_loss: 0.0612 - val_mae: 0.1640 - val_mse: 0.0598 - learning_rate: 4.8828e-07\n",
            "Epoch 163/500\n",
            "\u001b[1m25/25\u001b[0m \u001b[32m━━━━━━━━━━━━━━━━━━━━\u001b[0m\u001b[37m\u001b[0m \u001b[1m0s\u001b[0m 9ms/step - loss: 0.0601 - mae: 0.1615 - mse: 0.0587 - val_loss: 0.0612 - val_mae: 0.1640 - val_mse: 0.0598 - learning_rate: 4.8828e-07\n",
            "Epoch 164/500\n",
            "\u001b[1m25/25\u001b[0m \u001b[32m━━━━━━━━━━━━━━━━━━━━\u001b[0m\u001b[37m\u001b[0m \u001b[1m0s\u001b[0m 10ms/step - loss: 0.0608 - mae: 0.1631 - mse: 0.0595 - val_loss: 0.0612 - val_mae: 0.1640 - val_mse: 0.0598 - learning_rate: 4.8828e-07\n",
            "Epoch 165/500\n",
            "\u001b[1m19/25\u001b[0m \u001b[32m━━━━━━━━━━━━━━━\u001b[0m\u001b[37m━━━━━\u001b[0m \u001b[1m0s\u001b[0m 6ms/step - loss: 0.0611 - mae: 0.1634 - mse: 0.0597\n",
            "Epoch 165: ReduceLROnPlateau reducing learning rate to 2.4414063659605745e-07.\n",
            "\u001b[1m25/25\u001b[0m \u001b[32m━━━━━━━━━━━━━━━━━━━━\u001b[0m\u001b[37m\u001b[0m \u001b[1m0s\u001b[0m 10ms/step - loss: 0.0609 - mae: 0.1631 - mse: 0.0596 - val_loss: 0.0612 - val_mae: 0.1640 - val_mse: 0.0598 - learning_rate: 4.8828e-07\n",
            "Epoch 166/500\n",
            "\u001b[1m25/25\u001b[0m \u001b[32m━━━━━━━━━━━━━━━━━━━━\u001b[0m\u001b[37m\u001b[0m \u001b[1m0s\u001b[0m 16ms/step - loss: 0.0608 - mae: 0.1631 - mse: 0.0594 - val_loss: 0.0612 - val_mae: 0.1640 - val_mse: 0.0598 - learning_rate: 2.4414e-07\n",
            "Epoch 167/500\n",
            "\u001b[1m25/25\u001b[0m \u001b[32m━━━━━━━━━━━━━━━━━━━━\u001b[0m\u001b[37m\u001b[0m \u001b[1m1s\u001b[0m 15ms/step - loss: 0.0611 - mae: 0.1633 - mse: 0.0597 - val_loss: 0.0612 - val_mae: 0.1640 - val_mse: 0.0598 - learning_rate: 2.4414e-07\n",
            "Epoch 168/500\n",
            "\u001b[1m25/25\u001b[0m \u001b[32m━━━━━━━━━━━━━━━━━━━━\u001b[0m\u001b[37m\u001b[0m \u001b[1m1s\u001b[0m 16ms/step - loss: 0.0593 - mae: 0.1604 - mse: 0.0579 - val_loss: 0.0612 - val_mae: 0.1640 - val_mse: 0.0598 - learning_rate: 2.4414e-07\n",
            "Epoch 169/500\n",
            "\u001b[1m25/25\u001b[0m \u001b[32m━━━━━━━━━━━━━━━━━━━━\u001b[0m\u001b[37m\u001b[0m \u001b[1m0s\u001b[0m 17ms/step - loss: 0.0602 - mae: 0.1618 - mse: 0.0589 - val_loss: 0.0612 - val_mae: 0.1640 - val_mse: 0.0598 - learning_rate: 2.4414e-07\n",
            "Epoch 170/500\n",
            "\u001b[1m22/25\u001b[0m \u001b[32m━━━━━━━━━━━━━━━━━\u001b[0m\u001b[37m━━━\u001b[0m \u001b[1m0s\u001b[0m 8ms/step - loss: 0.0613 - mae: 0.1635 - mse: 0.0600 \n",
            "Epoch 170: ReduceLROnPlateau reducing learning rate to 1.2207031829802872e-07.\n",
            "\u001b[1m25/25\u001b[0m \u001b[32m━━━━━━━━━━━━━━━━━━━━\u001b[0m\u001b[37m\u001b[0m \u001b[1m0s\u001b[0m 11ms/step - loss: 0.0612 - mae: 0.1633 - mse: 0.0598 - val_loss: 0.0612 - val_mae: 0.1640 - val_mse: 0.0598 - learning_rate: 2.4414e-07\n",
            "Epoch 171/500\n",
            "\u001b[1m25/25\u001b[0m \u001b[32m━━━━━━━━━━━━━━━━━━━━\u001b[0m\u001b[37m\u001b[0m \u001b[1m1s\u001b[0m 9ms/step - loss: 0.0603 - mae: 0.1616 - mse: 0.0589 - val_loss: 0.0612 - val_mae: 0.1640 - val_mse: 0.0598 - learning_rate: 1.2207e-07\n",
            "Epoch 172/500\n",
            "\u001b[1m25/25\u001b[0m \u001b[32m━━━━━━━━━━━━━━━━━━━━\u001b[0m\u001b[37m\u001b[0m \u001b[1m0s\u001b[0m 9ms/step - loss: 0.0607 - mae: 0.1628 - mse: 0.0594 - val_loss: 0.0612 - val_mae: 0.1640 - val_mse: 0.0598 - learning_rate: 1.2207e-07\n",
            "Epoch 173/500\n",
            "\u001b[1m25/25\u001b[0m \u001b[32m━━━━━━━━━━━━━━━━━━━━\u001b[0m\u001b[37m\u001b[0m \u001b[1m0s\u001b[0m 10ms/step - loss: 0.0601 - mae: 0.1618 - mse: 0.0587 - val_loss: 0.0612 - val_mae: 0.1640 - val_mse: 0.0598 - learning_rate: 1.2207e-07\n",
            "Epoch 174/500\n",
            "\u001b[1m25/25\u001b[0m \u001b[32m━━━━━━━━━━━━━━━━━━━━\u001b[0m\u001b[37m\u001b[0m \u001b[1m0s\u001b[0m 9ms/step - loss: 0.0601 - mae: 0.1620 - mse: 0.0588 - val_loss: 0.0612 - val_mae: 0.1640 - val_mse: 0.0598 - learning_rate: 1.2207e-07\n",
            "Epoch 175/500\n",
            "\u001b[1m20/25\u001b[0m \u001b[32m━━━━━━━━━━━━━━━━\u001b[0m\u001b[37m━━━━\u001b[0m \u001b[1m0s\u001b[0m 5ms/step - loss: 0.0607 - mae: 0.1628 - mse: 0.0593\n",
            "Epoch 175: ReduceLROnPlateau reducing learning rate to 1e-07.\n",
            "\u001b[1m25/25\u001b[0m \u001b[32m━━━━━━━━━━━━━━━━━━━━\u001b[0m\u001b[37m\u001b[0m \u001b[1m0s\u001b[0m 9ms/step - loss: 0.0606 - mae: 0.1626 - mse: 0.0592 - val_loss: 0.0612 - val_mae: 0.1640 - val_mse: 0.0598 - learning_rate: 1.2207e-07\n",
            "Epoch 176/500\n",
            "\u001b[1m25/25\u001b[0m \u001b[32m━━━━━━━━━━━━━━━━━━━━\u001b[0m\u001b[37m\u001b[0m \u001b[1m0s\u001b[0m 10ms/step - loss: 0.0608 - mae: 0.1629 - mse: 0.0594 - val_loss: 0.0612 - val_mae: 0.1640 - val_mse: 0.0598 - learning_rate: 1.0000e-07\n",
            "Epoch 177/500\n",
            "\u001b[1m25/25\u001b[0m \u001b[32m━━━━━━━━━━━━━━━━━━━━\u001b[0m\u001b[37m\u001b[0m \u001b[1m0s\u001b[0m 11ms/step - loss: 0.0604 - mae: 0.1622 - mse: 0.0591 - val_loss: 0.0612 - val_mae: 0.1640 - val_mse: 0.0598 - learning_rate: 1.0000e-07\n",
            "Epoch 178/500\n",
            "\u001b[1m25/25\u001b[0m \u001b[32m━━━━━━━━━━━━━━━━━━━━\u001b[0m\u001b[37m\u001b[0m \u001b[1m0s\u001b[0m 10ms/step - loss: 0.0607 - mae: 0.1628 - mse: 0.0593 - val_loss: 0.0612 - val_mae: 0.1640 - val_mse: 0.0598 - learning_rate: 1.0000e-07\n",
            "Epoch 179/500\n",
            "\u001b[1m25/25\u001b[0m \u001b[32m━━━━━━━━━━━━━━━━━━━━\u001b[0m\u001b[37m\u001b[0m \u001b[1m0s\u001b[0m 10ms/step - loss: 0.0610 - mae: 0.1632 - mse: 0.0596 - val_loss: 0.0612 - val_mae: 0.1640 - val_mse: 0.0598 - learning_rate: 1.0000e-07\n",
            "Epoch 180/500\n",
            "\u001b[1m25/25\u001b[0m \u001b[32m━━━━━━━━━━━━━━━━━━━━\u001b[0m\u001b[37m\u001b[0m \u001b[1m0s\u001b[0m 10ms/step - loss: 0.0607 - mae: 0.1625 - mse: 0.0593 - val_loss: 0.0612 - val_mae: 0.1640 - val_mse: 0.0598 - learning_rate: 1.0000e-07\n",
            "Epoch 181/500\n",
            "\u001b[1m25/25\u001b[0m \u001b[32m━━━━━━━━━━━━━━━━━━━━\u001b[0m\u001b[37m\u001b[0m \u001b[1m0s\u001b[0m 9ms/step - loss: 0.0603 - mae: 0.1619 - mse: 0.0589 - val_loss: 0.0612 - val_mae: 0.1640 - val_mse: 0.0598 - learning_rate: 1.0000e-07\n",
            "Epoch 182/500\n",
            "\u001b[1m25/25\u001b[0m \u001b[32m━━━━━━━━━━━━━━━━━━━━\u001b[0m\u001b[37m\u001b[0m \u001b[1m0s\u001b[0m 9ms/step - loss: 0.0605 - mae: 0.1631 - mse: 0.0591 - val_loss: 0.0612 - val_mae: 0.1640 - val_mse: 0.0598 - learning_rate: 1.0000e-07\n",
            "Epoch 183/500\n",
            "\u001b[1m25/25\u001b[0m \u001b[32m━━━━━━━━━━━━━━━━━━━━\u001b[0m\u001b[37m\u001b[0m \u001b[1m0s\u001b[0m 10ms/step - loss: 0.0601 - mae: 0.1613 - mse: 0.0587 - val_loss: 0.0612 - val_mae: 0.1640 - val_mse: 0.0598 - learning_rate: 1.0000e-07\n",
            "Epoch 184/500\n",
            "\u001b[1m25/25\u001b[0m \u001b[32m━━━━━━━━━━━━━━━━━━━━\u001b[0m\u001b[37m\u001b[0m \u001b[1m0s\u001b[0m 10ms/step - loss: 0.0605 - mae: 0.1628 - mse: 0.0592 - val_loss: 0.0612 - val_mae: 0.1640 - val_mse: 0.0598 - learning_rate: 1.0000e-07\n",
            "Epoch 185/500\n",
            "\u001b[1m25/25\u001b[0m \u001b[32m━━━━━━━━━━━━━━━━━━━━\u001b[0m\u001b[37m\u001b[0m \u001b[1m0s\u001b[0m 9ms/step - loss: 0.0608 - mae: 0.1628 - mse: 0.0594 - val_loss: 0.0612 - val_mae: 0.1640 - val_mse: 0.0598 - learning_rate: 1.0000e-07\n",
            "Epoch 186/500\n",
            "\u001b[1m25/25\u001b[0m \u001b[32m━━━━━━━━━━━━━━━━━━━━\u001b[0m\u001b[37m\u001b[0m \u001b[1m0s\u001b[0m 10ms/step - loss: 0.0609 - mae: 0.1631 - mse: 0.0595 - val_loss: 0.0612 - val_mae: 0.1640 - val_mse: 0.0598 - learning_rate: 1.0000e-07\n",
            "Epoch 187/500\n",
            "\u001b[1m25/25\u001b[0m \u001b[32m━━━━━━━━━━━━━━━━━━━━\u001b[0m\u001b[37m\u001b[0m \u001b[1m0s\u001b[0m 9ms/step - loss: 0.0604 - mae: 0.1625 - mse: 0.0590 - val_loss: 0.0612 - val_mae: 0.1640 - val_mse: 0.0598 - learning_rate: 1.0000e-07\n",
            "Epoch 188/500\n",
            "\u001b[1m25/25\u001b[0m \u001b[32m━━━━━━━━━━━━━━━━━━━━\u001b[0m\u001b[37m\u001b[0m \u001b[1m0s\u001b[0m 11ms/step - loss: 0.0600 - mae: 0.1615 - mse: 0.0587 - val_loss: 0.0612 - val_mae: 0.1640 - val_mse: 0.0598 - learning_rate: 1.0000e-07\n",
            "Epoch 189/500\n",
            "\u001b[1m25/25\u001b[0m \u001b[32m━━━━━━━━━━━━━━━━━━━━\u001b[0m\u001b[37m\u001b[0m \u001b[1m0s\u001b[0m 9ms/step - loss: 0.0611 - mae: 0.1636 - mse: 0.0597 - val_loss: 0.0612 - val_mae: 0.1640 - val_mse: 0.0598 - learning_rate: 1.0000e-07\n",
            "Epoch 190/500\n",
            "\u001b[1m25/25\u001b[0m \u001b[32m━━━━━━━━━━━━━━━━━━━━\u001b[0m\u001b[37m\u001b[0m \u001b[1m0s\u001b[0m 10ms/step - loss: 0.0605 - mae: 0.1625 - mse: 0.0592 - val_loss: 0.0612 - val_mae: 0.1640 - val_mse: 0.0598 - learning_rate: 1.0000e-07\n",
            "Epoch 191/500\n",
            "\u001b[1m25/25\u001b[0m \u001b[32m━━━━━━━━━━━━━━━━━━━━\u001b[0m\u001b[37m\u001b[0m \u001b[1m0s\u001b[0m 10ms/step - loss: 0.0606 - mae: 0.1625 - mse: 0.0592 - val_loss: 0.0612 - val_mae: 0.1640 - val_mse: 0.0598 - learning_rate: 1.0000e-07\n",
            "Epoch 192/500\n",
            "\u001b[1m25/25\u001b[0m \u001b[32m━━━━━━━━━━━━━━━━━━━━\u001b[0m\u001b[37m\u001b[0m \u001b[1m0s\u001b[0m 10ms/step - loss: 0.0599 - mae: 0.1616 - mse: 0.0585 - val_loss: 0.0612 - val_mae: 0.1640 - val_mse: 0.0598 - learning_rate: 1.0000e-07\n",
            "Epoch 193/500\n",
            "\u001b[1m25/25\u001b[0m \u001b[32m━━━━━━━━━━━━━━━━━━━━\u001b[0m\u001b[37m\u001b[0m \u001b[1m0s\u001b[0m 10ms/step - loss: 0.0615 - mae: 0.1639 - mse: 0.0601 - val_loss: 0.0612 - val_mae: 0.1640 - val_mse: 0.0598 - learning_rate: 1.0000e-07\n",
            "Epoch 194/500\n",
            "\u001b[1m25/25\u001b[0m \u001b[32m━━━━━━━━━━━━━━━━━━━━\u001b[0m\u001b[37m\u001b[0m \u001b[1m0s\u001b[0m 10ms/step - loss: 0.0601 - mae: 0.1619 - mse: 0.0587 - val_loss: 0.0612 - val_mae: 0.1640 - val_mse: 0.0598 - learning_rate: 1.0000e-07\n",
            "Epoch 195/500\n",
            "\u001b[1m25/25\u001b[0m \u001b[32m━━━━━━━━━━━━━━━━━━━━\u001b[0m\u001b[37m\u001b[0m \u001b[1m0s\u001b[0m 9ms/step - loss: 0.0605 - mae: 0.1624 - mse: 0.0592 - val_loss: 0.0612 - val_mae: 0.1640 - val_mse: 0.0598 - learning_rate: 1.0000e-07\n",
            "Epoch 196/500\n",
            "\u001b[1m25/25\u001b[0m \u001b[32m━━━━━━━━━━━━━━━━━━━━\u001b[0m\u001b[37m\u001b[0m \u001b[1m0s\u001b[0m 9ms/step - loss: 0.0609 - mae: 0.1629 - mse: 0.0595 - val_loss: 0.0612 - val_mae: 0.1640 - val_mse: 0.0598 - learning_rate: 1.0000e-07\n",
            "Epoch 197/500\n",
            "\u001b[1m25/25\u001b[0m \u001b[32m━━━━━━━━━━━━━━━━━━━━\u001b[0m\u001b[37m\u001b[0m \u001b[1m0s\u001b[0m 10ms/step - loss: 0.0608 - mae: 0.1626 - mse: 0.0594 - val_loss: 0.0612 - val_mae: 0.1640 - val_mse: 0.0598 - learning_rate: 1.0000e-07\n",
            "Epoch 198/500\n",
            "\u001b[1m25/25\u001b[0m \u001b[32m━━━━━━━━━━━━━━━━━━━━\u001b[0m\u001b[37m\u001b[0m \u001b[1m0s\u001b[0m 9ms/step - loss: 0.0606 - mae: 0.1628 - mse: 0.0592 - val_loss: 0.0612 - val_mae: 0.1640 - val_mse: 0.0598 - learning_rate: 1.0000e-07\n",
            "Epoch 199/500\n",
            "\u001b[1m25/25\u001b[0m \u001b[32m━━━━━━━━━━━━━━━━━━━━\u001b[0m\u001b[37m\u001b[0m \u001b[1m0s\u001b[0m 9ms/step - loss: 0.0603 - mae: 0.1620 - mse: 0.0589 - val_loss: 0.0612 - val_mae: 0.1640 - val_mse: 0.0598 - learning_rate: 1.0000e-07\n",
            "Epoch 200/500\n",
            "\u001b[1m25/25\u001b[0m \u001b[32m━━━━━━━━━━━━━━━━━━━━\u001b[0m\u001b[37m\u001b[0m \u001b[1m0s\u001b[0m 10ms/step - loss: 0.0603 - mae: 0.1619 - mse: 0.0589 - val_loss: 0.0612 - val_mae: 0.1640 - val_mse: 0.0598 - learning_rate: 1.0000e-07\n",
            "Epoch 201/500\n",
            "\u001b[1m25/25\u001b[0m \u001b[32m━━━━━━━━━━━━━━━━━━━━\u001b[0m\u001b[37m\u001b[0m \u001b[1m0s\u001b[0m 10ms/step - loss: 0.0605 - mae: 0.1621 - mse: 0.0591 - val_loss: 0.0612 - val_mae: 0.1640 - val_mse: 0.0598 - learning_rate: 1.0000e-07\n",
            "Epoch 202/500\n",
            "\u001b[1m25/25\u001b[0m \u001b[32m━━━━━━━━━━━━━━━━━━━━\u001b[0m\u001b[37m\u001b[0m \u001b[1m0s\u001b[0m 11ms/step - loss: 0.0607 - mae: 0.1631 - mse: 0.0593 - val_loss: 0.0612 - val_mae: 0.1640 - val_mse: 0.0598 - learning_rate: 1.0000e-07\n",
            "Epoch 203/500\n",
            "\u001b[1m25/25\u001b[0m \u001b[32m━━━━━━━━━━━━━━━━━━━━\u001b[0m\u001b[37m\u001b[0m \u001b[1m0s\u001b[0m 11ms/step - loss: 0.0603 - mae: 0.1620 - mse: 0.0589 - val_loss: 0.0612 - val_mae: 0.1640 - val_mse: 0.0598 - learning_rate: 1.0000e-07\n",
            "Epoch 204/500\n",
            "\u001b[1m25/25\u001b[0m \u001b[32m━━━━━━━━━━━━━━━━━━━━\u001b[0m\u001b[37m\u001b[0m \u001b[1m0s\u001b[0m 16ms/step - loss: 0.0602 - mae: 0.1619 - mse: 0.0588 - val_loss: 0.0612 - val_mae: 0.1640 - val_mse: 0.0598 - learning_rate: 1.0000e-07\n",
            "Epoch 205/500\n",
            "\u001b[1m25/25\u001b[0m \u001b[32m━━━━━━━━━━━━━━━━━━━━\u001b[0m\u001b[37m\u001b[0m \u001b[1m0s\u001b[0m 19ms/step - loss: 0.0606 - mae: 0.1623 - mse: 0.0592 - val_loss: 0.0612 - val_mae: 0.1640 - val_mse: 0.0598 - learning_rate: 1.0000e-07\n",
            "Epoch 206/500\n",
            "\u001b[1m25/25\u001b[0m \u001b[32m━━━━━━━━━━━━━━━━━━━━\u001b[0m\u001b[37m\u001b[0m \u001b[1m0s\u001b[0m 16ms/step - loss: 0.0605 - mae: 0.1624 - mse: 0.0591 - val_loss: 0.0612 - val_mae: 0.1640 - val_mse: 0.0598 - learning_rate: 1.0000e-07\n",
            "Epoch 207/500\n",
            "\u001b[1m25/25\u001b[0m \u001b[32m━━━━━━━━━━━━━━━━━━━━\u001b[0m\u001b[37m\u001b[0m \u001b[1m1s\u001b[0m 20ms/step - loss: 0.0603 - mae: 0.1620 - mse: 0.0589 - val_loss: 0.0612 - val_mae: 0.1640 - val_mse: 0.0598 - learning_rate: 1.0000e-07\n",
            "Epoch 208/500\n",
            "\u001b[1m25/25\u001b[0m \u001b[32m━━━━━━━━━━━━━━━━━━━━\u001b[0m\u001b[37m\u001b[0m \u001b[1m1s\u001b[0m 15ms/step - loss: 0.0604 - mae: 0.1620 - mse: 0.0590 - val_loss: 0.0612 - val_mae: 0.1640 - val_mse: 0.0598 - learning_rate: 1.0000e-07\n",
            "Epoch 209/500\n",
            "\u001b[1m25/25\u001b[0m \u001b[32m━━━━━━━━━━━━━━━━━━━━\u001b[0m\u001b[37m\u001b[0m \u001b[1m0s\u001b[0m 10ms/step - loss: 0.0598 - mae: 0.1614 - mse: 0.0584 - val_loss: 0.0612 - val_mae: 0.1640 - val_mse: 0.0598 - learning_rate: 1.0000e-07\n",
            "Epoch 210/500\n",
            "\u001b[1m25/25\u001b[0m \u001b[32m━━━━━━━━━━━━━━━━━━━━\u001b[0m\u001b[37m\u001b[0m \u001b[1m0s\u001b[0m 9ms/step - loss: 0.0611 - mae: 0.1634 - mse: 0.0597 - val_loss: 0.0612 - val_mae: 0.1640 - val_mse: 0.0598 - learning_rate: 1.0000e-07\n",
            "Epoch 211/500\n",
            "\u001b[1m25/25\u001b[0m \u001b[32m━━━━━━━━━━━━━━━━━━━━\u001b[0m\u001b[37m\u001b[0m \u001b[1m0s\u001b[0m 10ms/step - loss: 0.0607 - mae: 0.1627 - mse: 0.0593 - val_loss: 0.0612 - val_mae: 0.1640 - val_mse: 0.0598 - learning_rate: 1.0000e-07\n",
            "Epoch 212/500\n",
            "\u001b[1m25/25\u001b[0m \u001b[32m━━━━━━━━━━━━━━━━━━━━\u001b[0m\u001b[37m\u001b[0m \u001b[1m0s\u001b[0m 9ms/step - loss: 0.0600 - mae: 0.1615 - mse: 0.0586 - val_loss: 0.0612 - val_mae: 0.1640 - val_mse: 0.0598 - learning_rate: 1.0000e-07\n",
            "Epoch 213/500\n",
            "\u001b[1m25/25\u001b[0m \u001b[32m━━━━━━━━━━━━━━━━━━━━\u001b[0m\u001b[37m\u001b[0m \u001b[1m0s\u001b[0m 10ms/step - loss: 0.0605 - mae: 0.1626 - mse: 0.0591 - val_loss: 0.0612 - val_mae: 0.1640 - val_mse: 0.0598 - learning_rate: 1.0000e-07\n",
            "Epoch 214/500\n",
            "\u001b[1m25/25\u001b[0m \u001b[32m━━━━━━━━━━━━━━━━━━━━\u001b[0m\u001b[37m\u001b[0m \u001b[1m0s\u001b[0m 9ms/step - loss: 0.0601 - mae: 0.1619 - mse: 0.0587 - val_loss: 0.0612 - val_mae: 0.1640 - val_mse: 0.0598 - learning_rate: 1.0000e-07\n",
            "Epoch 215/500\n",
            "\u001b[1m25/25\u001b[0m \u001b[32m━━━━━━━━━━━━━━━━━━━━\u001b[0m\u001b[37m\u001b[0m \u001b[1m0s\u001b[0m 9ms/step - loss: 0.0600 - mae: 0.1617 - mse: 0.0586 - val_loss: 0.0612 - val_mae: 0.1640 - val_mse: 0.0598 - learning_rate: 1.0000e-07\n",
            "Epoch 216/500\n",
            "\u001b[1m25/25\u001b[0m \u001b[32m━━━━━━━━━━━━━━━━━━━━\u001b[0m\u001b[37m\u001b[0m \u001b[1m0s\u001b[0m 10ms/step - loss: 0.0613 - mae: 0.1639 - mse: 0.0600 - val_loss: 0.0612 - val_mae: 0.1640 - val_mse: 0.0598 - learning_rate: 1.0000e-07\n",
            "Epoch 217/500\n",
            "\u001b[1m25/25\u001b[0m \u001b[32m━━━━━━━━━━━━━━━━━━━━\u001b[0m\u001b[37m\u001b[0m \u001b[1m0s\u001b[0m 11ms/step - loss: 0.0608 - mae: 0.1630 - mse: 0.0594 - val_loss: 0.0612 - val_mae: 0.1640 - val_mse: 0.0598 - learning_rate: 1.0000e-07\n",
            "Epoch 218/500\n",
            "\u001b[1m25/25\u001b[0m \u001b[32m━━━━━━━━━━━━━━━━━━━━\u001b[0m\u001b[37m\u001b[0m \u001b[1m0s\u001b[0m 10ms/step - loss: 0.0599 - mae: 0.1613 - mse: 0.0585 - val_loss: 0.0612 - val_mae: 0.1640 - val_mse: 0.0598 - learning_rate: 1.0000e-07\n",
            "Epoch 219/500\n",
            "\u001b[1m25/25\u001b[0m \u001b[32m━━━━━━━━━━━━━━━━━━━━\u001b[0m\u001b[37m\u001b[0m \u001b[1m0s\u001b[0m 10ms/step - loss: 0.0604 - mae: 0.1621 - mse: 0.0591 - val_loss: 0.0612 - val_mae: 0.1640 - val_mse: 0.0598 - learning_rate: 1.0000e-07\n",
            "Epoch 220/500\n",
            "\u001b[1m25/25\u001b[0m \u001b[32m━━━━━━━━━━━━━━━━━━━━\u001b[0m\u001b[37m\u001b[0m \u001b[1m0s\u001b[0m 10ms/step - loss: 0.0611 - mae: 0.1635 - mse: 0.0598 - val_loss: 0.0612 - val_mae: 0.1640 - val_mse: 0.0598 - learning_rate: 1.0000e-07\n",
            "Epoch 221/500\n",
            "\u001b[1m25/25\u001b[0m \u001b[32m━━━━━━━━━━━━━━━━━━━━\u001b[0m\u001b[37m\u001b[0m \u001b[1m0s\u001b[0m 10ms/step - loss: 0.0609 - mae: 0.1632 - mse: 0.0596 - val_loss: 0.0612 - val_mae: 0.1640 - val_mse: 0.0598 - learning_rate: 1.0000e-07\n",
            "Epoch 222/500\n",
            "\u001b[1m25/25\u001b[0m \u001b[32m━━━━━━━━━━━━━━━━━━━━\u001b[0m\u001b[37m\u001b[0m \u001b[1m0s\u001b[0m 9ms/step - loss: 0.0601 - mae: 0.1616 - mse: 0.0587 - val_loss: 0.0612 - val_mae: 0.1640 - val_mse: 0.0598 - learning_rate: 1.0000e-07\n",
            "Epoch 223/500\n",
            "\u001b[1m25/25\u001b[0m \u001b[32m━━━━━━━━━━━━━━━━━━━━\u001b[0m\u001b[37m\u001b[0m \u001b[1m0s\u001b[0m 11ms/step - loss: 0.0605 - mae: 0.1623 - mse: 0.0592 - val_loss: 0.0612 - val_mae: 0.1640 - val_mse: 0.0598 - learning_rate: 1.0000e-07\n",
            "Epoch 224/500\n",
            "\u001b[1m25/25\u001b[0m \u001b[32m━━━━━━━━━━━━━━━━━━━━\u001b[0m\u001b[37m\u001b[0m \u001b[1m0s\u001b[0m 9ms/step - loss: 0.0605 - mae: 0.1621 - mse: 0.0591 - val_loss: 0.0612 - val_mae: 0.1640 - val_mse: 0.0598 - learning_rate: 1.0000e-07\n",
            "Epoch 225/500\n",
            "\u001b[1m25/25\u001b[0m \u001b[32m━━━━━━━━━━━━━━━━━━━━\u001b[0m\u001b[37m\u001b[0m \u001b[1m0s\u001b[0m 9ms/step - loss: 0.0610 - mae: 0.1632 - mse: 0.0596 - val_loss: 0.0612 - val_mae: 0.1640 - val_mse: 0.0598 - learning_rate: 1.0000e-07\n",
            "Epoch 226/500\n",
            "\u001b[1m25/25\u001b[0m \u001b[32m━━━━━━━━━━━━━━━━━━━━\u001b[0m\u001b[37m\u001b[0m \u001b[1m0s\u001b[0m 10ms/step - loss: 0.0607 - mae: 0.1628 - mse: 0.0593 - val_loss: 0.0612 - val_mae: 0.1640 - val_mse: 0.0598 - learning_rate: 1.0000e-07\n",
            "Epoch 227/500\n",
            "\u001b[1m25/25\u001b[0m \u001b[32m━━━━━━━━━━━━━━━━━━━━\u001b[0m\u001b[37m\u001b[0m \u001b[1m0s\u001b[0m 10ms/step - loss: 0.0598 - mae: 0.1615 - mse: 0.0585 - val_loss: 0.0612 - val_mae: 0.1640 - val_mse: 0.0598 - learning_rate: 1.0000e-07\n",
            "Epoch 228/500\n",
            "\u001b[1m25/25\u001b[0m \u001b[32m━━━━━━━━━━━━━━━━━━━━\u001b[0m\u001b[37m\u001b[0m \u001b[1m0s\u001b[0m 10ms/step - loss: 0.0605 - mae: 0.1624 - mse: 0.0591 - val_loss: 0.0612 - val_mae: 0.1640 - val_mse: 0.0598 - learning_rate: 1.0000e-07\n",
            "Epoch 229/500\n",
            "\u001b[1m25/25\u001b[0m \u001b[32m━━━━━━━━━━━━━━━━━━━━\u001b[0m\u001b[37m\u001b[0m \u001b[1m0s\u001b[0m 9ms/step - loss: 0.0612 - mae: 0.1635 - mse: 0.0599 - val_loss: 0.0612 - val_mae: 0.1640 - val_mse: 0.0598 - learning_rate: 1.0000e-07\n",
            "Epoch 230/500\n",
            "\u001b[1m25/25\u001b[0m \u001b[32m━━━━━━━━━━━━━━━━━━━━\u001b[0m\u001b[37m\u001b[0m \u001b[1m0s\u001b[0m 10ms/step - loss: 0.0606 - mae: 0.1625 - mse: 0.0592 - val_loss: 0.0612 - val_mae: 0.1640 - val_mse: 0.0598 - learning_rate: 1.0000e-07\n",
            "Epoch 231/500\n",
            "\u001b[1m25/25\u001b[0m \u001b[32m━━━━━━━━━━━━━━━━━━━━\u001b[0m\u001b[37m\u001b[0m \u001b[1m0s\u001b[0m 11ms/step - loss: 0.0603 - mae: 0.1620 - mse: 0.0589 - val_loss: 0.0612 - val_mae: 0.1640 - val_mse: 0.0598 - learning_rate: 1.0000e-07\n",
            "Epoch 232/500\n",
            "\u001b[1m25/25\u001b[0m \u001b[32m━━━━━━━━━━━━━━━━━━━━\u001b[0m\u001b[37m\u001b[0m \u001b[1m0s\u001b[0m 10ms/step - loss: 0.0604 - mae: 0.1622 - mse: 0.0590 - val_loss: 0.0612 - val_mae: 0.1640 - val_mse: 0.0598 - learning_rate: 1.0000e-07\n",
            "Epoch 233/500\n",
            "\u001b[1m25/25\u001b[0m \u001b[32m━━━━━━━━━━━━━━━━━━━━\u001b[0m\u001b[37m\u001b[0m \u001b[1m0s\u001b[0m 11ms/step - loss: 0.0608 - mae: 0.1628 - mse: 0.0594 - val_loss: 0.0612 - val_mae: 0.1640 - val_mse: 0.0598 - learning_rate: 1.0000e-07\n",
            "Epoch 234/500\n",
            "\u001b[1m25/25\u001b[0m \u001b[32m━━━━━━━━━━━━━━━━━━━━\u001b[0m\u001b[37m\u001b[0m \u001b[1m0s\u001b[0m 11ms/step - loss: 0.0604 - mae: 0.1621 - mse: 0.0590 - val_loss: 0.0612 - val_mae: 0.1640 - val_mse: 0.0598 - learning_rate: 1.0000e-07\n",
            "Epoch 235/500\n",
            "\u001b[1m25/25\u001b[0m \u001b[32m━━━━━━━━━━━━━━━━━━━━\u001b[0m\u001b[37m\u001b[0m \u001b[1m0s\u001b[0m 10ms/step - loss: 0.0607 - mae: 0.1630 - mse: 0.0593 - val_loss: 0.0612 - val_mae: 0.1640 - val_mse: 0.0598 - learning_rate: 1.0000e-07\n",
            "Epoch 236/500\n",
            "\u001b[1m25/25\u001b[0m \u001b[32m━━━━━━━━━━━━━━━━━━━━\u001b[0m\u001b[37m\u001b[0m \u001b[1m0s\u001b[0m 10ms/step - loss: 0.0609 - mae: 0.1630 - mse: 0.0596 - val_loss: 0.0612 - val_mae: 0.1640 - val_mse: 0.0598 - learning_rate: 1.0000e-07\n",
            "Epoch 237/500\n",
            "\u001b[1m25/25\u001b[0m \u001b[32m━━━━━━━━━━━━━━━━━━━━\u001b[0m\u001b[37m\u001b[0m \u001b[1m0s\u001b[0m 10ms/step - loss: 0.0601 - mae: 0.1617 - mse: 0.0588 - val_loss: 0.0612 - val_mae: 0.1640 - val_mse: 0.0598 - learning_rate: 1.0000e-07\n",
            "Epoch 238/500\n",
            "\u001b[1m25/25\u001b[0m \u001b[32m━━━━━━━━━━━━━━━━━━━━\u001b[0m\u001b[37m\u001b[0m \u001b[1m0s\u001b[0m 10ms/step - loss: 0.0613 - mae: 0.1635 - mse: 0.0599 - val_loss: 0.0612 - val_mae: 0.1640 - val_mse: 0.0598 - learning_rate: 1.0000e-07\n",
            "Epoch 239/500\n",
            "\u001b[1m25/25\u001b[0m \u001b[32m━━━━━━━━━━━━━━━━━━━━\u001b[0m\u001b[37m\u001b[0m \u001b[1m0s\u001b[0m 9ms/step - loss: 0.0610 - mae: 0.1632 - mse: 0.0596 - val_loss: 0.0612 - val_mae: 0.1640 - val_mse: 0.0598 - learning_rate: 1.0000e-07\n",
            "Epoch 240/500\n",
            "\u001b[1m25/25\u001b[0m \u001b[32m━━━━━━━━━━━━━━━━━━━━\u001b[0m\u001b[37m\u001b[0m \u001b[1m0s\u001b[0m 10ms/step - loss: 0.0607 - mae: 0.1629 - mse: 0.0594 - val_loss: 0.0612 - val_mae: 0.1640 - val_mse: 0.0598 - learning_rate: 1.0000e-07\n",
            "Epoch 241/500\n",
            "\u001b[1m25/25\u001b[0m \u001b[32m━━━━━━━━━━━━━━━━━━━━\u001b[0m\u001b[37m\u001b[0m \u001b[1m0s\u001b[0m 11ms/step - loss: 0.0605 - mae: 0.1626 - mse: 0.0591 - val_loss: 0.0612 - val_mae: 0.1640 - val_mse: 0.0598 - learning_rate: 1.0000e-07\n",
            "Epoch 242/500\n",
            "\u001b[1m25/25\u001b[0m \u001b[32m━━━━━━━━━━━━━━━━━━━━\u001b[0m\u001b[37m\u001b[0m \u001b[1m0s\u001b[0m 11ms/step - loss: 0.0605 - mae: 0.1626 - mse: 0.0591 - val_loss: 0.0612 - val_mae: 0.1640 - val_mse: 0.0598 - learning_rate: 1.0000e-07\n",
            "Epoch 243/500\n",
            "\u001b[1m25/25\u001b[0m \u001b[32m━━━━━━━━━━━━━━━━━━━━\u001b[0m\u001b[37m\u001b[0m \u001b[1m1s\u001b[0m 16ms/step - loss: 0.0607 - mae: 0.1631 - mse: 0.0593 - val_loss: 0.0612 - val_mae: 0.1640 - val_mse: 0.0598 - learning_rate: 1.0000e-07\n",
            "Epoch 244/500\n",
            "\u001b[1m25/25\u001b[0m \u001b[32m━━━━━━━━━━━━━━━━━━━━\u001b[0m\u001b[37m\u001b[0m \u001b[1m1s\u001b[0m 14ms/step - loss: 0.0607 - mae: 0.1631 - mse: 0.0593 - val_loss: 0.0612 - val_mae: 0.1640 - val_mse: 0.0598 - learning_rate: 1.0000e-07\n",
            "Epoch 245/500\n",
            "\u001b[1m25/25\u001b[0m \u001b[32m━━━━━━━━━━━━━━━━━━━━\u001b[0m\u001b[37m\u001b[0m \u001b[1m1s\u001b[0m 19ms/step - loss: 0.0608 - mae: 0.1630 - mse: 0.0594 - val_loss: 0.0612 - val_mae: 0.1640 - val_mse: 0.0598 - learning_rate: 1.0000e-07\n",
            "Epoch 246/500\n",
            "\u001b[1m25/25\u001b[0m \u001b[32m━━━━━━━━━━━━━━━━━━━━\u001b[0m\u001b[37m\u001b[0m \u001b[1m0s\u001b[0m 19ms/step - loss: 0.0604 - mae: 0.1621 - mse: 0.0590 - val_loss: 0.0612 - val_mae: 0.1640 - val_mse: 0.0598 - learning_rate: 1.0000e-07\n",
            "Epoch 247/500\n",
            "\u001b[1m25/25\u001b[0m \u001b[32m━━━━━━━━━━━━━━━━━━━━\u001b[0m\u001b[37m\u001b[0m \u001b[1m0s\u001b[0m 10ms/step - loss: 0.0605 - mae: 0.1625 - mse: 0.0591 - val_loss: 0.0612 - val_mae: 0.1640 - val_mse: 0.0598 - learning_rate: 1.0000e-07\n",
            "Epoch 248/500\n",
            "\u001b[1m25/25\u001b[0m \u001b[32m━━━━━━━━━━━━━━━━━━━━\u001b[0m\u001b[37m\u001b[0m \u001b[1m0s\u001b[0m 10ms/step - loss: 0.0604 - mae: 0.1624 - mse: 0.0591 - val_loss: 0.0612 - val_mae: 0.1640 - val_mse: 0.0598 - learning_rate: 1.0000e-07\n",
            "Epoch 249/500\n",
            "\u001b[1m25/25\u001b[0m \u001b[32m━━━━━━━━━━━━━━━━━━━━\u001b[0m\u001b[37m\u001b[0m \u001b[1m0s\u001b[0m 10ms/step - loss: 0.0608 - mae: 0.1624 - mse: 0.0594 - val_loss: 0.0612 - val_mae: 0.1640 - val_mse: 0.0598 - learning_rate: 1.0000e-07\n",
            "Epoch 250/500\n",
            "\u001b[1m25/25\u001b[0m \u001b[32m━━━━━━━━━━━━━━━━━━━━\u001b[0m\u001b[37m\u001b[0m \u001b[1m0s\u001b[0m 9ms/step - loss: 0.0599 - mae: 0.1618 - mse: 0.0585 - val_loss: 0.0612 - val_mae: 0.1640 - val_mse: 0.0598 - learning_rate: 1.0000e-07\n",
            "Epoch 251/500\n",
            "\u001b[1m25/25\u001b[0m \u001b[32m━━━━━━━━━━━━━━━━━━━━\u001b[0m\u001b[37m\u001b[0m \u001b[1m0s\u001b[0m 11ms/step - loss: 0.0606 - mae: 0.1624 - mse: 0.0592 - val_loss: 0.0612 - val_mae: 0.1640 - val_mse: 0.0598 - learning_rate: 1.0000e-07\n",
            "Epoch 252/500\n",
            "\u001b[1m25/25\u001b[0m \u001b[32m━━━━━━━━━━━━━━━━━━━━\u001b[0m\u001b[37m\u001b[0m \u001b[1m0s\u001b[0m 9ms/step - loss: 0.0603 - mae: 0.1620 - mse: 0.0590 - val_loss: 0.0612 - val_mae: 0.1640 - val_mse: 0.0598 - learning_rate: 1.0000e-07\n",
            "Epoch 253/500\n",
            "\u001b[1m25/25\u001b[0m \u001b[32m━━━━━━━━━━━━━━━━━━━━\u001b[0m\u001b[37m\u001b[0m \u001b[1m0s\u001b[0m 9ms/step - loss: 0.0609 - mae: 0.1632 - mse: 0.0596 - val_loss: 0.0612 - val_mae: 0.1640 - val_mse: 0.0598 - learning_rate: 1.0000e-07\n",
            "Epoch 254/500\n",
            "\u001b[1m25/25\u001b[0m \u001b[32m━━━━━━━━━━━━━━━━━━━━\u001b[0m\u001b[37m\u001b[0m \u001b[1m0s\u001b[0m 10ms/step - loss: 0.0602 - mae: 0.1616 - mse: 0.0588 - val_loss: 0.0612 - val_mae: 0.1640 - val_mse: 0.0598 - learning_rate: 1.0000e-07\n",
            "Epoch 255/500\n",
            "\u001b[1m25/25\u001b[0m \u001b[32m━━━━━━━━━━━━━━━━━━━━\u001b[0m\u001b[37m\u001b[0m \u001b[1m0s\u001b[0m 10ms/step - loss: 0.0602 - mae: 0.1618 - mse: 0.0589 - val_loss: 0.0612 - val_mae: 0.1640 - val_mse: 0.0598 - learning_rate: 1.0000e-07\n",
            "Epoch 256/500\n",
            "\u001b[1m25/25\u001b[0m \u001b[32m━━━━━━━━━━━━━━━━━━━━\u001b[0m\u001b[37m\u001b[0m \u001b[1m0s\u001b[0m 11ms/step - loss: 0.0606 - mae: 0.1625 - mse: 0.0592 - val_loss: 0.0612 - val_mae: 0.1640 - val_mse: 0.0598 - learning_rate: 1.0000e-07\n",
            "Epoch 257/500\n",
            "\u001b[1m25/25\u001b[0m \u001b[32m━━━━━━━━━━━━━━━━━━━━\u001b[0m\u001b[37m\u001b[0m \u001b[1m1s\u001b[0m 11ms/step - loss: 0.0599 - mae: 0.1616 - mse: 0.0585 - val_loss: 0.0612 - val_mae: 0.1640 - val_mse: 0.0598 - learning_rate: 1.0000e-07\n",
            "Epoch 258/500\n",
            "\u001b[1m25/25\u001b[0m \u001b[32m━━━━━━━━━━━━━━━━━━━━\u001b[0m\u001b[37m\u001b[0m \u001b[1m0s\u001b[0m 9ms/step - loss: 0.0602 - mae: 0.1618 - mse: 0.0588 - val_loss: 0.0612 - val_mae: 0.1640 - val_mse: 0.0598 - learning_rate: 1.0000e-07\n",
            "Epoch 259/500\n",
            "\u001b[1m25/25\u001b[0m \u001b[32m━━━━━━━━━━━━━━━━━━━━\u001b[0m\u001b[37m\u001b[0m \u001b[1m0s\u001b[0m 9ms/step - loss: 0.0607 - mae: 0.1629 - mse: 0.0594 - val_loss: 0.0612 - val_mae: 0.1640 - val_mse: 0.0598 - learning_rate: 1.0000e-07\n",
            "Epoch 260/500\n",
            "\u001b[1m25/25\u001b[0m \u001b[32m━━━━━━━━━━━━━━━━━━━━\u001b[0m\u001b[37m\u001b[0m \u001b[1m0s\u001b[0m 9ms/step - loss: 0.0602 - mae: 0.1621 - mse: 0.0588 - val_loss: 0.0612 - val_mae: 0.1640 - val_mse: 0.0598 - learning_rate: 1.0000e-07\n",
            "Epoch 261/500\n",
            "\u001b[1m25/25\u001b[0m \u001b[32m━━━━━━━━━━━━━━━━━━━━\u001b[0m\u001b[37m\u001b[0m \u001b[1m1s\u001b[0m 18ms/step - loss: 0.0599 - mae: 0.1615 - mse: 0.0586 - val_loss: 0.0612 - val_mae: 0.1640 - val_mse: 0.0598 - learning_rate: 1.0000e-07\n",
            "Epoch 262/500\n",
            "\u001b[1m25/25\u001b[0m \u001b[32m━━━━━━━━━━━━━━━━━━━━\u001b[0m\u001b[37m\u001b[0m \u001b[1m0s\u001b[0m 10ms/step - loss: 0.0603 - mae: 0.1621 - mse: 0.0589 - val_loss: 0.0612 - val_mae: 0.1640 - val_mse: 0.0598 - learning_rate: 1.0000e-07\n",
            "Epoch 263/500\n",
            "\u001b[1m25/25\u001b[0m \u001b[32m━━━━━━━━━━━━━━━━━━━━\u001b[0m\u001b[37m\u001b[0m \u001b[1m0s\u001b[0m 10ms/step - loss: 0.0602 - mae: 0.1617 - mse: 0.0588 - val_loss: 0.0612 - val_mae: 0.1640 - val_mse: 0.0598 - learning_rate: 1.0000e-07\n",
            "Epoch 264/500\n",
            "\u001b[1m25/25\u001b[0m \u001b[32m━━━━━━━━━━━━━━━━━━━━\u001b[0m\u001b[37m\u001b[0m \u001b[1m0s\u001b[0m 9ms/step - loss: 0.0612 - mae: 0.1637 - mse: 0.0598 - val_loss: 0.0612 - val_mae: 0.1640 - val_mse: 0.0598 - learning_rate: 1.0000e-07\n",
            "Epoch 265/500\n",
            "\u001b[1m25/25\u001b[0m \u001b[32m━━━━━━━━━━━━━━━━━━━━\u001b[0m\u001b[37m\u001b[0m \u001b[1m0s\u001b[0m 10ms/step - loss: 0.0601 - mae: 0.1620 - mse: 0.0587 - val_loss: 0.0612 - val_mae: 0.1640 - val_mse: 0.0598 - learning_rate: 1.0000e-07\n",
            "Epoch 266/500\n",
            "\u001b[1m25/25\u001b[0m \u001b[32m━━━━━━━━━━━━━━━━━━━━\u001b[0m\u001b[37m\u001b[0m \u001b[1m0s\u001b[0m 9ms/step - loss: 0.0610 - mae: 0.1633 - mse: 0.0597 - val_loss: 0.0612 - val_mae: 0.1640 - val_mse: 0.0598 - learning_rate: 1.0000e-07\n",
            "Epoch 267/500\n",
            "\u001b[1m25/25\u001b[0m \u001b[32m━━━━━━━━━━━━━━━━━━━━\u001b[0m\u001b[37m\u001b[0m \u001b[1m0s\u001b[0m 10ms/step - loss: 0.0599 - mae: 0.1613 - mse: 0.0585 - val_loss: 0.0612 - val_mae: 0.1640 - val_mse: 0.0598 - learning_rate: 1.0000e-07\n",
            "Epoch 268/500\n",
            "\u001b[1m25/25\u001b[0m \u001b[32m━━━━━━━━━━━━━━━━━━━━\u001b[0m\u001b[37m\u001b[0m \u001b[1m0s\u001b[0m 10ms/step - loss: 0.0608 - mae: 0.1630 - mse: 0.0594 - val_loss: 0.0612 - val_mae: 0.1640 - val_mse: 0.0598 - learning_rate: 1.0000e-07\n",
            "Epoch 269/500\n",
            "\u001b[1m25/25\u001b[0m \u001b[32m━━━━━━━━━━━━━━━━━━━━\u001b[0m\u001b[37m\u001b[0m \u001b[1m0s\u001b[0m 11ms/step - loss: 0.0613 - mae: 0.1637 - mse: 0.0599 - val_loss: 0.0612 - val_mae: 0.1640 - val_mse: 0.0598 - learning_rate: 1.0000e-07\n",
            "Epoch 270/500\n",
            "\u001b[1m25/25\u001b[0m \u001b[32m━━━━━━━━━━━━━━━━━━━━\u001b[0m\u001b[37m\u001b[0m \u001b[1m0s\u001b[0m 9ms/step - loss: 0.0597 - mae: 0.1610 - mse: 0.0583 - val_loss: 0.0612 - val_mae: 0.1640 - val_mse: 0.0598 - learning_rate: 1.0000e-07\n",
            "Epoch 271/500\n",
            "\u001b[1m25/25\u001b[0m \u001b[32m━━━━━━━━━━━━━━━━━━━━\u001b[0m\u001b[37m\u001b[0m \u001b[1m0s\u001b[0m 9ms/step - loss: 0.0601 - mae: 0.1615 - mse: 0.0587 - val_loss: 0.0612 - val_mae: 0.1640 - val_mse: 0.0598 - learning_rate: 1.0000e-07\n",
            "Epoch 272/500\n",
            "\u001b[1m25/25\u001b[0m \u001b[32m━━━━━━━━━━━━━━━━━━━━\u001b[0m\u001b[37m\u001b[0m \u001b[1m0s\u001b[0m 10ms/step - loss: 0.0604 - mae: 0.1622 - mse: 0.0590 - val_loss: 0.0612 - val_mae: 0.1640 - val_mse: 0.0598 - learning_rate: 1.0000e-07\n",
            "Epoch 273/500\n",
            "\u001b[1m25/25\u001b[0m \u001b[32m━━━━━━━━━━━━━━━━━━━━\u001b[0m\u001b[37m\u001b[0m \u001b[1m0s\u001b[0m 10ms/step - loss: 0.0607 - mae: 0.1629 - mse: 0.0593 - val_loss: 0.0612 - val_mae: 0.1640 - val_mse: 0.0598 - learning_rate: 1.0000e-07\n",
            "Epoch 274/500\n",
            "\u001b[1m25/25\u001b[0m \u001b[32m━━━━━━━━━━━━━━━━━━━━\u001b[0m\u001b[37m\u001b[0m \u001b[1m0s\u001b[0m 10ms/step - loss: 0.0602 - mae: 0.1622 - mse: 0.0589 - val_loss: 0.0612 - val_mae: 0.1640 - val_mse: 0.0598 - learning_rate: 1.0000e-07\n",
            "Epoch 275/500\n",
            "\u001b[1m25/25\u001b[0m \u001b[32m━━━━━━━━━━━━━━━━━━━━\u001b[0m\u001b[37m\u001b[0m \u001b[1m0s\u001b[0m 10ms/step - loss: 0.0610 - mae: 0.1633 - mse: 0.0597 - val_loss: 0.0612 - val_mae: 0.1640 - val_mse: 0.0598 - learning_rate: 1.0000e-07\n",
            "Epoch 276/500\n",
            "\u001b[1m25/25\u001b[0m \u001b[32m━━━━━━━━━━━━━━━━━━━━\u001b[0m\u001b[37m\u001b[0m \u001b[1m0s\u001b[0m 11ms/step - loss: 0.0605 - mae: 0.1624 - mse: 0.0591 - val_loss: 0.0612 - val_mae: 0.1640 - val_mse: 0.0598 - learning_rate: 1.0000e-07\n",
            "Epoch 277/500\n",
            "\u001b[1m25/25\u001b[0m \u001b[32m━━━━━━━━━━━━━━━━━━━━\u001b[0m\u001b[37m\u001b[0m \u001b[1m0s\u001b[0m 11ms/step - loss: 0.0601 - mae: 0.1615 - mse: 0.0587 - val_loss: 0.0612 - val_mae: 0.1640 - val_mse: 0.0598 - learning_rate: 1.0000e-07\n",
            "Epoch 278/500\n",
            "\u001b[1m25/25\u001b[0m \u001b[32m━━━━━━━━━━━━━━━━━━━━\u001b[0m\u001b[37m\u001b[0m \u001b[1m1s\u001b[0m 15ms/step - loss: 0.0604 - mae: 0.1626 - mse: 0.0591 - val_loss: 0.0612 - val_mae: 0.1640 - val_mse: 0.0598 - learning_rate: 1.0000e-07\n",
            "Epoch 279/500\n",
            "\u001b[1m25/25\u001b[0m \u001b[32m━━━━━━━━━━━━━━━━━━━━\u001b[0m\u001b[37m\u001b[0m \u001b[1m0s\u001b[0m 14ms/step - loss: 0.0602 - mae: 0.1618 - mse: 0.0588 - val_loss: 0.0612 - val_mae: 0.1640 - val_mse: 0.0598 - learning_rate: 1.0000e-07\n",
            "Epoch 280/500\n",
            "\u001b[1m25/25\u001b[0m \u001b[32m━━━━━━━━━━━━━━━━━━━━\u001b[0m\u001b[37m\u001b[0m \u001b[1m1s\u001b[0m 17ms/step - loss: 0.0605 - mae: 0.1625 - mse: 0.0591 - val_loss: 0.0612 - val_mae: 0.1640 - val_mse: 0.0598 - learning_rate: 1.0000e-07\n",
            "Epoch 281/500\n",
            "\u001b[1m25/25\u001b[0m \u001b[32m━━━━━━━━━━━━━━━━━━━━\u001b[0m\u001b[37m\u001b[0m \u001b[1m1s\u001b[0m 19ms/step - loss: 0.0608 - mae: 0.1631 - mse: 0.0595 - val_loss: 0.0612 - val_mae: 0.1640 - val_mse: 0.0598 - learning_rate: 1.0000e-07\n",
            "Epoch 282/500\n",
            "\u001b[1m25/25\u001b[0m \u001b[32m━━━━━━━━━━━━━━━━━━━━\u001b[0m\u001b[37m\u001b[0m \u001b[1m0s\u001b[0m 9ms/step - loss: 0.0607 - mae: 0.1630 - mse: 0.0593 - val_loss: 0.0612 - val_mae: 0.1640 - val_mse: 0.0598 - learning_rate: 1.0000e-07\n",
            "Epoch 283/500\n",
            "\u001b[1m25/25\u001b[0m \u001b[32m━━━━━━━━━━━━━━━━━━━━\u001b[0m\u001b[37m\u001b[0m \u001b[1m0s\u001b[0m 10ms/step - loss: 0.0610 - mae: 0.1631 - mse: 0.0596 - val_loss: 0.0612 - val_mae: 0.1640 - val_mse: 0.0598 - learning_rate: 1.0000e-07\n",
            "Epoch 284/500\n",
            "\u001b[1m25/25\u001b[0m \u001b[32m━━━━━━━━━━━━━━━━━━━━\u001b[0m\u001b[37m\u001b[0m \u001b[1m0s\u001b[0m 9ms/step - loss: 0.0606 - mae: 0.1626 - mse: 0.0593 - val_loss: 0.0612 - val_mae: 0.1640 - val_mse: 0.0598 - learning_rate: 1.0000e-07\n",
            "Epoch 285/500\n",
            "\u001b[1m25/25\u001b[0m \u001b[32m━━━━━━━━━━━━━━━━━━━━\u001b[0m\u001b[37m\u001b[0m \u001b[1m0s\u001b[0m 10ms/step - loss: 0.0605 - mae: 0.1626 - mse: 0.0591 - val_loss: 0.0612 - val_mae: 0.1640 - val_mse: 0.0598 - learning_rate: 1.0000e-07\n",
            "Epoch 286/500\n",
            "\u001b[1m25/25\u001b[0m \u001b[32m━━━━━━━━━━━━━━━━━━━━\u001b[0m\u001b[37m\u001b[0m \u001b[1m0s\u001b[0m 9ms/step - loss: 0.0607 - mae: 0.1631 - mse: 0.0593 - val_loss: 0.0612 - val_mae: 0.1640 - val_mse: 0.0598 - learning_rate: 1.0000e-07\n",
            "Epoch 287/500\n",
            "\u001b[1m25/25\u001b[0m \u001b[32m━━━━━━━━━━━━━━━━━━━━\u001b[0m\u001b[37m\u001b[0m \u001b[1m0s\u001b[0m 9ms/step - loss: 0.0604 - mae: 0.1621 - mse: 0.0590 - val_loss: 0.0612 - val_mae: 0.1640 - val_mse: 0.0598 - learning_rate: 1.0000e-07\n",
            "Epoch 288/500\n",
            "\u001b[1m25/25\u001b[0m \u001b[32m━━━━━━━━━━━━━━━━━━━━\u001b[0m\u001b[37m\u001b[0m \u001b[1m0s\u001b[0m 9ms/step - loss: 0.0604 - mae: 0.1620 - mse: 0.0591 - val_loss: 0.0612 - val_mae: 0.1640 - val_mse: 0.0598 - learning_rate: 1.0000e-07\n",
            "Epoch 289/500\n",
            "\u001b[1m25/25\u001b[0m \u001b[32m━━━━━━━━━━━━━━━━━━━━\u001b[0m\u001b[37m\u001b[0m \u001b[1m0s\u001b[0m 10ms/step - loss: 0.0600 - mae: 0.1619 - mse: 0.0587 - val_loss: 0.0612 - val_mae: 0.1640 - val_mse: 0.0598 - learning_rate: 1.0000e-07\n",
            "Epoch 290/500\n",
            "\u001b[1m25/25\u001b[0m \u001b[32m━━━━━━━━━━━━━━━━━━━━\u001b[0m\u001b[37m\u001b[0m \u001b[1m0s\u001b[0m 11ms/step - loss: 0.0599 - mae: 0.1612 - mse: 0.0586 - val_loss: 0.0612 - val_mae: 0.1640 - val_mse: 0.0598 - learning_rate: 1.0000e-07\n",
            "Epoch 291/500\n",
            "\u001b[1m25/25\u001b[0m \u001b[32m━━━━━━━━━━━━━━━━━━━━\u001b[0m\u001b[37m\u001b[0m \u001b[1m0s\u001b[0m 9ms/step - loss: 0.0606 - mae: 0.1625 - mse: 0.0592 - val_loss: 0.0612 - val_mae: 0.1640 - val_mse: 0.0598 - learning_rate: 1.0000e-07\n",
            "Epoch 292/500\n",
            "\u001b[1m25/25\u001b[0m \u001b[32m━━━━━━━━━━━━━━━━━━━━\u001b[0m\u001b[37m\u001b[0m \u001b[1m0s\u001b[0m 10ms/step - loss: 0.0601 - mae: 0.1617 - mse: 0.0587 - val_loss: 0.0612 - val_mae: 0.1640 - val_mse: 0.0598 - learning_rate: 1.0000e-07\n",
            "Epoch 293/500\n",
            "\u001b[1m25/25\u001b[0m \u001b[32m━━━━━━━━━━━━━━━━━━━━\u001b[0m\u001b[37m\u001b[0m \u001b[1m0s\u001b[0m 11ms/step - loss: 0.0607 - mae: 0.1629 - mse: 0.0594 - val_loss: 0.0612 - val_mae: 0.1640 - val_mse: 0.0598 - learning_rate: 1.0000e-07\n",
            "Epoch 294/500\n",
            "\u001b[1m25/25\u001b[0m \u001b[32m━━━━━━━━━━━━━━━━━━━━\u001b[0m\u001b[37m\u001b[0m \u001b[1m0s\u001b[0m 10ms/step - loss: 0.0604 - mae: 0.1620 - mse: 0.0591 - val_loss: 0.0612 - val_mae: 0.1640 - val_mse: 0.0598 - learning_rate: 1.0000e-07\n",
            "Epoch 295/500\n",
            "\u001b[1m25/25\u001b[0m \u001b[32m━━━━━━━━━━━━━━━━━━━━\u001b[0m\u001b[37m\u001b[0m \u001b[1m0s\u001b[0m 11ms/step - loss: 0.0608 - mae: 0.1629 - mse: 0.0594 - val_loss: 0.0612 - val_mae: 0.1640 - val_mse: 0.0598 - learning_rate: 1.0000e-07\n",
            "Epoch 296/500\n",
            "\u001b[1m25/25\u001b[0m \u001b[32m━━━━━━━━━━━━━━━━━━━━\u001b[0m\u001b[37m\u001b[0m \u001b[1m0s\u001b[0m 9ms/step - loss: 0.0609 - mae: 0.1632 - mse: 0.0595 - val_loss: 0.0612 - val_mae: 0.1640 - val_mse: 0.0598 - learning_rate: 1.0000e-07\n",
            "Epoch 297/500\n",
            "\u001b[1m25/25\u001b[0m \u001b[32m━━━━━━━━━━━━━━━━━━━━\u001b[0m\u001b[37m\u001b[0m \u001b[1m0s\u001b[0m 10ms/step - loss: 0.0604 - mae: 0.1622 - mse: 0.0590 - val_loss: 0.0612 - val_mae: 0.1640 - val_mse: 0.0598 - learning_rate: 1.0000e-07\n",
            "Epoch 298/500\n",
            "\u001b[1m25/25\u001b[0m \u001b[32m━━━━━━━━━━━━━━━━━━━━\u001b[0m\u001b[37m\u001b[0m \u001b[1m0s\u001b[0m 10ms/step - loss: 0.0607 - mae: 0.1627 - mse: 0.0594 - val_loss: 0.0612 - val_mae: 0.1640 - val_mse: 0.0598 - learning_rate: 1.0000e-07\n",
            "Epoch 299/500\n",
            "\u001b[1m25/25\u001b[0m \u001b[32m━━━━━━━━━━━━━━━━━━━━\u001b[0m\u001b[37m\u001b[0m \u001b[1m0s\u001b[0m 10ms/step - loss: 0.0600 - mae: 0.1615 - mse: 0.0586 - val_loss: 0.0612 - val_mae: 0.1640 - val_mse: 0.0598 - learning_rate: 1.0000e-07\n",
            "Epoch 300/500\n",
            "\u001b[1m25/25\u001b[0m \u001b[32m━━━━━━━━━━━━━━━━━━━━\u001b[0m\u001b[37m\u001b[0m \u001b[1m0s\u001b[0m 11ms/step - loss: 0.0602 - mae: 0.1618 - mse: 0.0589 - val_loss: 0.0612 - val_mae: 0.1640 - val_mse: 0.0598 - learning_rate: 1.0000e-07\n",
            "Epoch 301/500\n",
            "\u001b[1m25/25\u001b[0m \u001b[32m━━━━━━━━━━━━━━━━━━━━\u001b[0m\u001b[37m\u001b[0m \u001b[1m0s\u001b[0m 10ms/step - loss: 0.0604 - mae: 0.1623 - mse: 0.0590 - val_loss: 0.0612 - val_mae: 0.1640 - val_mse: 0.0598 - learning_rate: 1.0000e-07\n",
            "Epoch 302/500\n",
            "\u001b[1m25/25\u001b[0m \u001b[32m━━━━━━━━━━━━━━━━━━━━\u001b[0m\u001b[37m\u001b[0m \u001b[1m0s\u001b[0m 10ms/step - loss: 0.0604 - mae: 0.1619 - mse: 0.0591 - val_loss: 0.0612 - val_mae: 0.1640 - val_mse: 0.0598 - learning_rate: 1.0000e-07\n",
            "Epoch 303/500\n",
            "\u001b[1m25/25\u001b[0m \u001b[32m━━━━━━━━━━━━━━━━━━━━\u001b[0m\u001b[37m\u001b[0m \u001b[1m0s\u001b[0m 9ms/step - loss: 0.0605 - mae: 0.1626 - mse: 0.0591 - val_loss: 0.0612 - val_mae: 0.1640 - val_mse: 0.0598 - learning_rate: 1.0000e-07\n",
            "Epoch 304/500\n",
            "\u001b[1m25/25\u001b[0m \u001b[32m━━━━━━━━━━━━━━━━━━━━\u001b[0m\u001b[37m\u001b[0m \u001b[1m0s\u001b[0m 10ms/step - loss: 0.0604 - mae: 0.1624 - mse: 0.0590 - val_loss: 0.0612 - val_mae: 0.1640 - val_mse: 0.0598 - learning_rate: 1.0000e-07\n",
            "Epoch 305/500\n",
            "\u001b[1m25/25\u001b[0m \u001b[32m━━━━━━━━━━━━━━━━━━━━\u001b[0m\u001b[37m\u001b[0m \u001b[1m0s\u001b[0m 10ms/step - loss: 0.0600 - mae: 0.1617 - mse: 0.0587 - val_loss: 0.0612 - val_mae: 0.1640 - val_mse: 0.0598 - learning_rate: 1.0000e-07\n",
            "Epoch 306/500\n",
            "\u001b[1m25/25\u001b[0m \u001b[32m━━━━━━━━━━━━━━━━━━━━\u001b[0m\u001b[37m\u001b[0m \u001b[1m0s\u001b[0m 10ms/step - loss: 0.0609 - mae: 0.1630 - mse: 0.0595 - val_loss: 0.0612 - val_mae: 0.1640 - val_mse: 0.0598 - learning_rate: 1.0000e-07\n",
            "Epoch 307/500\n",
            "\u001b[1m25/25\u001b[0m \u001b[32m━━━━━━━━━━━━━━━━━━━━\u001b[0m\u001b[37m\u001b[0m \u001b[1m0s\u001b[0m 10ms/step - loss: 0.0601 - mae: 0.1615 - mse: 0.0588 - val_loss: 0.0612 - val_mae: 0.1640 - val_mse: 0.0598 - learning_rate: 1.0000e-07\n",
            "Epoch 308/500\n",
            "\u001b[1m25/25\u001b[0m \u001b[32m━━━━━━━━━━━━━━━━━━━━\u001b[0m\u001b[37m\u001b[0m \u001b[1m0s\u001b[0m 10ms/step - loss: 0.0606 - mae: 0.1624 - mse: 0.0593 - val_loss: 0.0612 - val_mae: 0.1640 - val_mse: 0.0598 - learning_rate: 1.0000e-07\n",
            "Epoch 309/500\n",
            "\u001b[1m25/25\u001b[0m \u001b[32m━━━━━━━━━━━━━━━━━━━━\u001b[0m\u001b[37m\u001b[0m \u001b[1m0s\u001b[0m 10ms/step - loss: 0.0608 - mae: 0.1628 - mse: 0.0595 - val_loss: 0.0612 - val_mae: 0.1640 - val_mse: 0.0598 - learning_rate: 1.0000e-07\n",
            "Epoch 310/500\n",
            "\u001b[1m25/25\u001b[0m \u001b[32m━━━━━━━━━━━━━━━━━━━━\u001b[0m\u001b[37m\u001b[0m \u001b[1m0s\u001b[0m 9ms/step - loss: 0.0595 - mae: 0.1605 - mse: 0.0581 - val_loss: 0.0612 - val_mae: 0.1640 - val_mse: 0.0598 - learning_rate: 1.0000e-07\n",
            "Epoch 311/500\n",
            "\u001b[1m25/25\u001b[0m \u001b[32m━━━━━━━━━━━━━━━━━━━━\u001b[0m\u001b[37m\u001b[0m \u001b[1m0s\u001b[0m 10ms/step - loss: 0.0605 - mae: 0.1625 - mse: 0.0591 - val_loss: 0.0612 - val_mae: 0.1640 - val_mse: 0.0598 - learning_rate: 1.0000e-07\n",
            "Epoch 312/500\n",
            "\u001b[1m25/25\u001b[0m \u001b[32m━━━━━━━━━━━━━━━━━━━━\u001b[0m\u001b[37m\u001b[0m \u001b[1m0s\u001b[0m 10ms/step - loss: 0.0604 - mae: 0.1623 - mse: 0.0591 - val_loss: 0.0612 - val_mae: 0.1640 - val_mse: 0.0598 - learning_rate: 1.0000e-07\n",
            "Epoch 313/500\n",
            "\u001b[1m25/25\u001b[0m \u001b[32m━━━━━━━━━━━━━━━━━━━━\u001b[0m\u001b[37m\u001b[0m \u001b[1m0s\u001b[0m 10ms/step - loss: 0.0611 - mae: 0.1631 - mse: 0.0597 - val_loss: 0.0612 - val_mae: 0.1640 - val_mse: 0.0598 - learning_rate: 1.0000e-07\n",
            "Epoch 314/500\n",
            "\u001b[1m25/25\u001b[0m \u001b[32m━━━━━━━━━━━━━━━━━━━━\u001b[0m\u001b[37m\u001b[0m \u001b[1m0s\u001b[0m 11ms/step - loss: 0.0597 - mae: 0.1610 - mse: 0.0583 - val_loss: 0.0612 - val_mae: 0.1640 - val_mse: 0.0598 - learning_rate: 1.0000e-07\n",
            "Epoch 315/500\n",
            "\u001b[1m25/25\u001b[0m \u001b[32m━━━━━━━━━━━━━━━━━━━━\u001b[0m\u001b[37m\u001b[0m \u001b[1m0s\u001b[0m 11ms/step - loss: 0.0598 - mae: 0.1609 - mse: 0.0584 - val_loss: 0.0612 - val_mae: 0.1640 - val_mse: 0.0598 - learning_rate: 1.0000e-07\n",
            "Epoch 316/500\n",
            "\u001b[1m25/25\u001b[0m \u001b[32m━━━━━━━━━━━━━━━━━━━━\u001b[0m\u001b[37m\u001b[0m \u001b[1m1s\u001b[0m 19ms/step - loss: 0.0600 - mae: 0.1616 - mse: 0.0586 - val_loss: 0.0612 - val_mae: 0.1640 - val_mse: 0.0598 - learning_rate: 1.0000e-07\n",
            "Epoch 317/500\n",
            "\u001b[1m25/25\u001b[0m \u001b[32m━━━━━━━━━━━━━━━━━━━━\u001b[0m\u001b[37m\u001b[0m \u001b[1m1s\u001b[0m 15ms/step - loss: 0.0602 - mae: 0.1621 - mse: 0.0589 - val_loss: 0.0612 - val_mae: 0.1640 - val_mse: 0.0598 - learning_rate: 1.0000e-07\n",
            "Epoch 318/500\n",
            "\u001b[1m25/25\u001b[0m \u001b[32m━━━━━━━━━━━━━━━━━━━━\u001b[0m\u001b[37m\u001b[0m \u001b[1m0s\u001b[0m 16ms/step - loss: 0.0606 - mae: 0.1625 - mse: 0.0592 - val_loss: 0.0612 - val_mae: 0.1640 - val_mse: 0.0598 - learning_rate: 1.0000e-07\n",
            "Epoch 319/500\n",
            "\u001b[1m25/25\u001b[0m \u001b[32m━━━━━━━━━━━━━━━━━━━━\u001b[0m\u001b[37m\u001b[0m \u001b[1m1s\u001b[0m 17ms/step - loss: 0.0605 - mae: 0.1625 - mse: 0.0591 - val_loss: 0.0612 - val_mae: 0.1640 - val_mse: 0.0598 - learning_rate: 1.0000e-07\n",
            "Epoch 320/500\n",
            "\u001b[1m25/25\u001b[0m \u001b[32m━━━━━━━━━━━━━━━━━━━━\u001b[0m\u001b[37m\u001b[0m \u001b[1m1s\u001b[0m 13ms/step - loss: 0.0606 - mae: 0.1626 - mse: 0.0593 - val_loss: 0.0612 - val_mae: 0.1640 - val_mse: 0.0598 - learning_rate: 1.0000e-07\n",
            "Epoch 321/500\n",
            "\u001b[1m25/25\u001b[0m \u001b[32m━━━━━━━━━━━━━━━━━━━━\u001b[0m\u001b[37m\u001b[0m \u001b[1m1s\u001b[0m 10ms/step - loss: 0.0597 - mae: 0.1609 - mse: 0.0583 - val_loss: 0.0612 - val_mae: 0.1640 - val_mse: 0.0598 - learning_rate: 1.0000e-07\n",
            "Epoch 322/500\n",
            "\u001b[1m25/25\u001b[0m \u001b[32m━━━━━━━━━━━━━━━━━━━━\u001b[0m\u001b[37m\u001b[0m \u001b[1m0s\u001b[0m 9ms/step - loss: 0.0610 - mae: 0.1634 - mse: 0.0596 - val_loss: 0.0612 - val_mae: 0.1640 - val_mse: 0.0598 - learning_rate: 1.0000e-07\n",
            "Epoch 323/500\n",
            "\u001b[1m25/25\u001b[0m \u001b[32m━━━━━━━━━━━━━━━━━━━━\u001b[0m\u001b[37m\u001b[0m \u001b[1m0s\u001b[0m 10ms/step - loss: 0.0608 - mae: 0.1627 - mse: 0.0595 - val_loss: 0.0612 - val_mae: 0.1640 - val_mse: 0.0598 - learning_rate: 1.0000e-07\n",
            "Epoch 324/500\n",
            "\u001b[1m25/25\u001b[0m \u001b[32m━━━━━━━━━━━━━━━━━━━━\u001b[0m\u001b[37m\u001b[0m \u001b[1m0s\u001b[0m 11ms/step - loss: 0.0603 - mae: 0.1620 - mse: 0.0589 - val_loss: 0.0612 - val_mae: 0.1640 - val_mse: 0.0598 - learning_rate: 1.0000e-07\n",
            "Epoch 325/500\n",
            "\u001b[1m25/25\u001b[0m \u001b[32m━━━━━━━━━━━━━━━━━━━━\u001b[0m\u001b[37m\u001b[0m \u001b[1m0s\u001b[0m 9ms/step - loss: 0.0602 - mae: 0.1616 - mse: 0.0588 - val_loss: 0.0612 - val_mae: 0.1640 - val_mse: 0.0598 - learning_rate: 1.0000e-07\n",
            "Epoch 326/500\n",
            "\u001b[1m25/25\u001b[0m \u001b[32m━━━━━━━━━━━━━━━━━━━━\u001b[0m\u001b[37m\u001b[0m \u001b[1m0s\u001b[0m 10ms/step - loss: 0.0601 - mae: 0.1618 - mse: 0.0587 - val_loss: 0.0612 - val_mae: 0.1640 - val_mse: 0.0598 - learning_rate: 1.0000e-07\n",
            "Epoch 327/500\n",
            "\u001b[1m25/25\u001b[0m \u001b[32m━━━━━━━━━━━━━━━━━━━━\u001b[0m\u001b[37m\u001b[0m \u001b[1m0s\u001b[0m 9ms/step - loss: 0.0598 - mae: 0.1611 - mse: 0.0584 - val_loss: 0.0612 - val_mae: 0.1640 - val_mse: 0.0598 - learning_rate: 1.0000e-07\n",
            "Epoch 328/500\n",
            "\u001b[1m25/25\u001b[0m \u001b[32m━━━━━━━━━━━━━━━━━━━━\u001b[0m\u001b[37m\u001b[0m \u001b[1m0s\u001b[0m 10ms/step - loss: 0.0602 - mae: 0.1619 - mse: 0.0589 - val_loss: 0.0612 - val_mae: 0.1640 - val_mse: 0.0598 - learning_rate: 1.0000e-07\n",
            "Epoch 329/500\n",
            "\u001b[1m25/25\u001b[0m \u001b[32m━━━━━━━━━━━━━━━━━━━━\u001b[0m\u001b[37m\u001b[0m \u001b[1m0s\u001b[0m 9ms/step - loss: 0.0607 - mae: 0.1626 - mse: 0.0593 - val_loss: 0.0612 - val_mae: 0.1640 - val_mse: 0.0598 - learning_rate: 1.0000e-07\n",
            "Epoch 330/500\n",
            "\u001b[1m25/25\u001b[0m \u001b[32m━━━━━━━━━━━━━━━━━━━━\u001b[0m\u001b[37m\u001b[0m \u001b[1m0s\u001b[0m 9ms/step - loss: 0.0600 - mae: 0.1614 - mse: 0.0586 - val_loss: 0.0612 - val_mae: 0.1640 - val_mse: 0.0598 - learning_rate: 1.0000e-07\n",
            "Epoch 331/500\n",
            "\u001b[1m25/25\u001b[0m \u001b[32m━━━━━━━━━━━━━━━━━━━━\u001b[0m\u001b[37m\u001b[0m \u001b[1m0s\u001b[0m 11ms/step - loss: 0.0604 - mae: 0.1621 - mse: 0.0590 - val_loss: 0.0612 - val_mae: 0.1640 - val_mse: 0.0598 - learning_rate: 1.0000e-07\n",
            "Epoch 332/500\n",
            "\u001b[1m25/25\u001b[0m \u001b[32m━━━━━━━━━━━━━━━━━━━━\u001b[0m\u001b[37m\u001b[0m \u001b[1m0s\u001b[0m 9ms/step - loss: 0.0608 - mae: 0.1626 - mse: 0.0594 - val_loss: 0.0612 - val_mae: 0.1640 - val_mse: 0.0598 - learning_rate: 1.0000e-07\n",
            "Epoch 333/500\n",
            "\u001b[1m25/25\u001b[0m \u001b[32m━━━━━━━━━━━━━━━━━━━━\u001b[0m\u001b[37m\u001b[0m \u001b[1m0s\u001b[0m 10ms/step - loss: 0.0601 - mae: 0.1619 - mse: 0.0587 - val_loss: 0.0612 - val_mae: 0.1640 - val_mse: 0.0598 - learning_rate: 1.0000e-07\n",
            "Epoch 334/500\n",
            "\u001b[1m25/25\u001b[0m \u001b[32m━━━━━━━━━━━━━━━━━━━━\u001b[0m\u001b[37m\u001b[0m \u001b[1m0s\u001b[0m 10ms/step - loss: 0.0610 - mae: 0.1633 - mse: 0.0597 - val_loss: 0.0612 - val_mae: 0.1640 - val_mse: 0.0598 - learning_rate: 1.0000e-07\n",
            "Epoch 335/500\n",
            "\u001b[1m25/25\u001b[0m \u001b[32m━━━━━━━━━━━━━━━━━━━━\u001b[0m\u001b[37m\u001b[0m \u001b[1m0s\u001b[0m 10ms/step - loss: 0.0604 - mae: 0.1619 - mse: 0.0590 - val_loss: 0.0612 - val_mae: 0.1640 - val_mse: 0.0598 - learning_rate: 1.0000e-07\n",
            "Epoch 336/500\n",
            "\u001b[1m25/25\u001b[0m \u001b[32m━━━━━━━━━━━━━━━━━━━━\u001b[0m\u001b[37m\u001b[0m \u001b[1m0s\u001b[0m 9ms/step - loss: 0.0607 - mae: 0.1625 - mse: 0.0593 - val_loss: 0.0612 - val_mae: 0.1640 - val_mse: 0.0598 - learning_rate: 1.0000e-07\n",
            "Epoch 337/500\n",
            "\u001b[1m25/25\u001b[0m \u001b[32m━━━━━━━━━━━━━━━━━━━━\u001b[0m\u001b[37m\u001b[0m \u001b[1m0s\u001b[0m 10ms/step - loss: 0.0607 - mae: 0.1629 - mse: 0.0593 - val_loss: 0.0612 - val_mae: 0.1640 - val_mse: 0.0598 - learning_rate: 1.0000e-07\n",
            "Epoch 338/500\n",
            "\u001b[1m25/25\u001b[0m \u001b[32m━━━━━━━━━━━━━━━━━━━━\u001b[0m\u001b[37m\u001b[0m \u001b[1m0s\u001b[0m 12ms/step - loss: 0.0609 - mae: 0.1632 - mse: 0.0595 - val_loss: 0.0612 - val_mae: 0.1640 - val_mse: 0.0598 - learning_rate: 1.0000e-07\n",
            "Epoch 339/500\n",
            "\u001b[1m25/25\u001b[0m \u001b[32m━━━━━━━━━━━━━━━━━━━━\u001b[0m\u001b[37m\u001b[0m \u001b[1m1s\u001b[0m 10ms/step - loss: 0.0603 - mae: 0.1619 - mse: 0.0590 - val_loss: 0.0612 - val_mae: 0.1640 - val_mse: 0.0598 - learning_rate: 1.0000e-07\n",
            "Epoch 340/500\n",
            "\u001b[1m25/25\u001b[0m \u001b[32m━━━━━━━━━━━━━━━━━━━━\u001b[0m\u001b[37m\u001b[0m \u001b[1m0s\u001b[0m 10ms/step - loss: 0.0606 - mae: 0.1624 - mse: 0.0592 - val_loss: 0.0612 - val_mae: 0.1640 - val_mse: 0.0598 - learning_rate: 1.0000e-07\n",
            "Epoch 341/500\n",
            "\u001b[1m25/25\u001b[0m \u001b[32m━━━━━━━━━━━━━━━━━━━━\u001b[0m\u001b[37m\u001b[0m \u001b[1m0s\u001b[0m 9ms/step - loss: 0.0606 - mae: 0.1626 - mse: 0.0592 - val_loss: 0.0612 - val_mae: 0.1640 - val_mse: 0.0598 - learning_rate: 1.0000e-07\n",
            "Epoch 342/500\n",
            "\u001b[1m25/25\u001b[0m \u001b[32m━━━━━━━━━━━━━━━━━━━━\u001b[0m\u001b[37m\u001b[0m \u001b[1m0s\u001b[0m 11ms/step - loss: 0.0607 - mae: 0.1627 - mse: 0.0593 - val_loss: 0.0612 - val_mae: 0.1640 - val_mse: 0.0598 - learning_rate: 1.0000e-07\n",
            "Epoch 343/500\n",
            "\u001b[1m25/25\u001b[0m \u001b[32m━━━━━━━━━━━━━━━━━━━━\u001b[0m\u001b[37m\u001b[0m \u001b[1m0s\u001b[0m 9ms/step - loss: 0.0605 - mae: 0.1625 - mse: 0.0592 - val_loss: 0.0612 - val_mae: 0.1640 - val_mse: 0.0598 - learning_rate: 1.0000e-07\n",
            "Epoch 344/500\n",
            "\u001b[1m25/25\u001b[0m \u001b[32m━━━━━━━━━━━━━━━━━━━━\u001b[0m\u001b[37m\u001b[0m \u001b[1m0s\u001b[0m 11ms/step - loss: 0.0607 - mae: 0.1624 - mse: 0.0593 - val_loss: 0.0612 - val_mae: 0.1640 - val_mse: 0.0598 - learning_rate: 1.0000e-07\n",
            "Epoch 345/500\n",
            "\u001b[1m25/25\u001b[0m \u001b[32m━━━━━━━━━━━━━━━━━━━━\u001b[0m\u001b[37m\u001b[0m \u001b[1m0s\u001b[0m 10ms/step - loss: 0.0593 - mae: 0.1604 - mse: 0.0579 - val_loss: 0.0612 - val_mae: 0.1640 - val_mse: 0.0598 - learning_rate: 1.0000e-07\n",
            "Epoch 346/500\n",
            "\u001b[1m25/25\u001b[0m \u001b[32m━━━━━━━━━━━━━━━━━━━━\u001b[0m\u001b[37m\u001b[0m \u001b[1m0s\u001b[0m 10ms/step - loss: 0.0604 - mae: 0.1622 - mse: 0.0590 - val_loss: 0.0612 - val_mae: 0.1640 - val_mse: 0.0598 - learning_rate: 1.0000e-07\n",
            "Epoch 347/500\n",
            "\u001b[1m25/25\u001b[0m \u001b[32m━━━━━━━━━━━━━━━━━━━━\u001b[0m\u001b[37m\u001b[0m \u001b[1m0s\u001b[0m 10ms/step - loss: 0.0601 - mae: 0.1617 - mse: 0.0587 - val_loss: 0.0612 - val_mae: 0.1640 - val_mse: 0.0598 - learning_rate: 1.0000e-07\n",
            "Epoch 348/500\n",
            "\u001b[1m25/25\u001b[0m \u001b[32m━━━━━━━━━━━━━━━━━━━━\u001b[0m\u001b[37m\u001b[0m \u001b[1m0s\u001b[0m 10ms/step - loss: 0.0612 - mae: 0.1635 - mse: 0.0598 - val_loss: 0.0612 - val_mae: 0.1640 - val_mse: 0.0598 - learning_rate: 1.0000e-07\n",
            "Epoch 349/500\n",
            "\u001b[1m25/25\u001b[0m \u001b[32m━━━━━━━━━━━━━━━━━━━━\u001b[0m\u001b[37m\u001b[0m \u001b[1m0s\u001b[0m 10ms/step - loss: 0.0610 - mae: 0.1631 - mse: 0.0597 - val_loss: 0.0612 - val_mae: 0.1640 - val_mse: 0.0598 - learning_rate: 1.0000e-07\n",
            "Epoch 350/500\n",
            "\u001b[1m25/25\u001b[0m \u001b[32m━━━━━━━━━━━━━━━━━━━━\u001b[0m\u001b[37m\u001b[0m \u001b[1m0s\u001b[0m 10ms/step - loss: 0.0598 - mae: 0.1612 - mse: 0.0584 - val_loss: 0.0612 - val_mae: 0.1640 - val_mse: 0.0598 - learning_rate: 1.0000e-07\n",
            "Epoch 351/500\n",
            "\u001b[1m25/25\u001b[0m \u001b[32m━━━━━━━━━━━━━━━━━━━━\u001b[0m\u001b[37m\u001b[0m \u001b[1m0s\u001b[0m 11ms/step - loss: 0.0605 - mae: 0.1623 - mse: 0.0591 - val_loss: 0.0612 - val_mae: 0.1640 - val_mse: 0.0598 - learning_rate: 1.0000e-07\n",
            "Epoch 352/500\n",
            "\u001b[1m25/25\u001b[0m \u001b[32m━━━━━━━━━━━━━━━━━━━━\u001b[0m\u001b[37m\u001b[0m \u001b[1m0s\u001b[0m 17ms/step - loss: 0.0605 - mae: 0.1623 - mse: 0.0591 - val_loss: 0.0612 - val_mae: 0.1640 - val_mse: 0.0598 - learning_rate: 1.0000e-07\n",
            "Epoch 353/500\n",
            "\u001b[1m25/25\u001b[0m \u001b[32m━━━━━━━━━━━━━━━━━━━━\u001b[0m\u001b[37m\u001b[0m \u001b[1m0s\u001b[0m 16ms/step - loss: 0.0602 - mae: 0.1618 - mse: 0.0589 - val_loss: 0.0612 - val_mae: 0.1640 - val_mse: 0.0598 - learning_rate: 1.0000e-07\n",
            "Epoch 354/500\n",
            "\u001b[1m25/25\u001b[0m \u001b[32m━━━━━━━━━━━━━━━━━━━━\u001b[0m\u001b[37m\u001b[0m \u001b[1m0s\u001b[0m 18ms/step - loss: 0.0605 - mae: 0.1623 - mse: 0.0592 - val_loss: 0.0612 - val_mae: 0.1640 - val_mse: 0.0598 - learning_rate: 1.0000e-07\n",
            "Epoch 355/500\n",
            "\u001b[1m25/25\u001b[0m \u001b[32m━━━━━━━━━━━━━━━━━━━━\u001b[0m\u001b[37m\u001b[0m \u001b[1m0s\u001b[0m 16ms/step - loss: 0.0599 - mae: 0.1612 - mse: 0.0586 - val_loss: 0.0612 - val_mae: 0.1640 - val_mse: 0.0598 - learning_rate: 1.0000e-07\n",
            "Epoch 356/500\n",
            "\u001b[1m25/25\u001b[0m \u001b[32m━━━━━━━━━━━━━━━━━━━━\u001b[0m\u001b[37m\u001b[0m \u001b[1m1s\u001b[0m 16ms/step - loss: 0.0604 - mae: 0.1626 - mse: 0.0590 - val_loss: 0.0612 - val_mae: 0.1640 - val_mse: 0.0598 - learning_rate: 1.0000e-07\n",
            "Epoch 357/500\n",
            "\u001b[1m25/25\u001b[0m \u001b[32m━━━━━━━━━━━━━━━━━━━━\u001b[0m\u001b[37m\u001b[0m \u001b[1m0s\u001b[0m 15ms/step - loss: 0.0608 - mae: 0.1628 - mse: 0.0594 - val_loss: 0.0612 - val_mae: 0.1640 - val_mse: 0.0598 - learning_rate: 1.0000e-07\n",
            "Epoch 358/500\n",
            "\u001b[1m25/25\u001b[0m \u001b[32m━━━━━━━━━━━━━━━━━━━━\u001b[0m\u001b[37m\u001b[0m \u001b[1m0s\u001b[0m 10ms/step - loss: 0.0600 - mae: 0.1616 - mse: 0.0587 - val_loss: 0.0612 - val_mae: 0.1640 - val_mse: 0.0598 - learning_rate: 1.0000e-07\n",
            "Epoch 359/500\n",
            "\u001b[1m25/25\u001b[0m \u001b[32m━━━━━━━━━━━━━━━━━━━━\u001b[0m\u001b[37m\u001b[0m \u001b[1m0s\u001b[0m 9ms/step - loss: 0.0604 - mae: 0.1625 - mse: 0.0591 - val_loss: 0.0612 - val_mae: 0.1640 - val_mse: 0.0598 - learning_rate: 1.0000e-07\n"
          ]
        }
      ],
      "source": [
        "history = model.fit(\n",
        "    [X_real_train, X_imag_train],\n",
        "    y_train,\n",
        "    epochs=500,\n",
        "    batch_size=32,\n",
        "    validation_data=([X_real_test, X_imag_test], y_test),\n",
        "    callbacks=[adjust_lr, early_stopping]\n",
        ")"
      ]
    },
    {
      "cell_type": "markdown",
      "metadata": {
        "id": "cE8CNDhzP4sr"
      },
      "source": [
        "Evaluate Model"
      ]
    },
    {
      "cell_type": "code",
      "execution_count": 53,
      "metadata": {
        "colab": {
          "base_uri": "https://localhost:8080/"
        },
        "id": "WBH6RRTXP4ss",
        "outputId": "1d6c36dc-5be6-42ee-fe58-7475f8ce063b"
      },
      "outputs": [
        {
          "output_type": "stream",
          "name": "stdout",
          "text": [
            "\u001b[1m7/7\u001b[0m \u001b[32m━━━━━━━━━━━━━━━━━━━━\u001b[0m\u001b[37m\u001b[0m \u001b[1m0s\u001b[0m 7ms/step - loss: 0.0601 - mae: 0.1618 - mse: 0.0588 \n",
            "Test MSE: 0.0598, Test MAE: 0.1640\n"
          ]
        }
      ],
      "source": [
        "test_loss, test_mse, test_mae = model.evaluate([X_real_test, X_imag_test], y_test)\n",
        "print(f\"Test MSE: {test_mse:.4f}, Test MAE: {test_mae:.4f}\")"
      ]
    },
    {
      "cell_type": "code",
      "execution_count": 54,
      "metadata": {
        "colab": {
          "base_uri": "https://localhost:8080/",
          "height": 449
        },
        "id": "9KZhdzmWP4st",
        "outputId": "20f33fb2-8c5b-4539-eb1a-2eafb7d74cc7"
      },
      "outputs": [
        {
          "output_type": "display_data",
          "data": {
            "text/plain": [
              "<Figure size 640x480 with 1 Axes>"
            ],
            "image/png": "[encoded data removed]"
          },
          "metadata": {}
        }
      ],
      "source": [
        "import matplotlib.pyplot as plt\n",
        "\n",
        "plt.plot(history.history['loss'], label='Training Loss')\n",
        "plt.plot(history.history['val_loss'], label='Validation Loss')\n",
        "plt.xlabel('Epochs')\n",
        "plt.ylabel('Loss')\n",
        "plt.legend()\n",
        "plt.show()"
      ]
    },
    {
      "cell_type": "code",
      "execution_count": 55,
      "metadata": {
        "colab": {
          "base_uri": "https://localhost:8080/"
        },
        "id": "LKBMguEAP4st",
        "outputId": "32379641-4eb7-459e-8449-4bc259c52da5"
      },
      "outputs": [
        {
          "output_type": "stream",
          "name": "stdout",
          "text": [
            "\u001b[1m7/7\u001b[0m \u001b[32m━━━━━━━━━━━━━━━━━━━━\u001b[0m\u001b[37m\u001b[0m \u001b[1m3s\u001b[0m 220ms/step\n",
            "Comparison of predictions and ground truth:\n",
            "Sample 1:\n",
            "  Predicted:    [3. 3. 3. 3. 3. 3. 3. 3. 3. 3. 3. 3. 3. 3. 3. 2. 5. 1. 3. 2. 4. 4. 6. 5.\n",
            " 2. 3. 1. 0. 0. 0. 0. 0.]\n",
            "  Ground Truth: [5. 6. 5. 1. 3. 4. 1. 1. 6. 2. 3. 1. 4. 0. 3. 2. 5. 1. 4. 3. 4. 4. 6. 5.\n",
            " 2. 3. 1. 0. 0. 0. 0. 0.]\n",
            "----------------------------------------\n",
            "Sample 2:\n",
            "  Predicted:    [3. 3. 3. 3. 3. 3. 3. 3. 3. 3. 3. 3. 3. 3. 3. 2. 1. 1. 3. 1. 1. 5. 2. 1.\n",
            " 4. 0. 4. 0. 0. 0. 0. 0.]\n",
            "  Ground Truth: [1. 4. 1. 3. 3. 3. 0. 5. 5. 2. 4. 3. 3. 1. 3. 1. 1. 2. 0. 1. 1. 5. 2. 1.\n",
            " 4. 0. 4. 0. 0. 0. 0. 0.]\n",
            "----------------------------------------\n",
            "Sample 3:\n",
            "  Predicted:    [3. 3. 3. 3. 3. 3. 3. 3. 3. 3. 3. 3. 3. 3. 3. 2. 5. 1. 3. 6. 0. 4. 3. 2.\n",
            " 3. 4. 4. 0. 0. 0. 0. 0.]\n",
            "  Ground Truth: [2. 6. 0. 2. 2. 1. 3. 4. 2. 6. 4. 1. 0. 5. 2. 3. 5. 1. 4. 6. 0. 4. 3. 2.\n",
            " 3. 4. 4. 0. 0. 0. 0. 0.]\n",
            "----------------------------------------\n"
          ]
        }
      ],
      "source": [
        "y_pred_test = model.predict([X_real_test, X_imag_test])\n",
        "y_pred_test_rescaled = y_pred_test * (q - 1)\n",
        "y_test_rescaled = y_test * (q - 1)\n",
        "\n",
        "print(\"Comparison of predictions and ground truth:\")\n",
        "for i in range(3):\n",
        "    print(f\"Sample {i+1}:\")\n",
        "    print(f\"  Predicted:    {np.abs(np.round(y_pred_test_rescaled[i]))}\")\n",
        "    print(f\"  Ground Truth: {np.round(y_test_rescaled[i])}\")\n",
        "    print(\"-\" * 40)"
      ]
    },
    {
      "cell_type": "markdown",
      "metadata": {
        "id": "GqrSkd26P4st"
      },
      "source": [
        "predict on unseen data"
      ]
    },
    {
      "cell_type": "code",
      "execution_count": 56,
      "metadata": {
        "colab": {
          "base_uri": "https://localhost:8080/"
        },
        "id": "3EpCycZ-P4sz",
        "outputId": "82122bbc-393f-43b0-c06d-0b98a0c6a7e5"
      },
      "outputs": [
        {
          "output_type": "stream",
          "name": "stdout",
          "text": [
            "\u001b[1m1/1\u001b[0m \u001b[32m━━━━━━━━━━━━━━━━━━━━\u001b[0m\u001b[37m\u001b[0m \u001b[1m0s\u001b[0m 55ms/step\n",
            "\n",
            "Comparison of Unseen Data and Predictions:\n",
            "============================================================\n",
            "Sample 1:\n",
            "  Ground Truth: [0 5 3 5 5 5 3 5 3 4 6 0 1 5 2 4 2 1 3 1 2 1 0 1 5 0 5 0 0 0 0 0]\n",
            "  Prediction  : [1 2 2 6 0 0 5 2 3 5 2 5 6 0 4 6 4 3 5 3 2 0 2 5 1 6 2 0 2 0 0 0]\n",
            "------------------------------------------------------------\n",
            "Sample 2:\n",
            "  Ground Truth: [6 6 1 0 0 6 1 4 3 3 3 0 6 3 6 0 6 4 1 6 6 1 0 0 6 4 3 0 0 0 0 0]\n",
            "  Prediction  : [4 2 6 4 2 6 4 3 5 1 0 0 2 5 2 6 5 6 3 1 4 1 3 3 5 1 2 0 0 0 0 0]\n",
            "------------------------------------------------------------\n",
            "Sample 3:\n",
            "  Ground Truth: [4 1 1 5 3 6 1 5 0 1 2 3 5 3 3 2 4 0 3 1 0 1 0 6 0 5 1 0 0 0 0 0]\n",
            "  Prediction  : [4 0 5 2 5 2 2 3 5 1 1 2 5 6 6 0 3 2 5 0 6 3 3 1 0 6 1 0 1 0 0 0]\n",
            "------------------------------------------------------------\n"
          ]
        }
      ],
      "source": [
        "num_unseen_samples = 3\n",
        "unseen_data = np.random.randint(0, q, size=(num_unseen_samples, n))\n",
        "\n",
        "padded_unseen_data = np.hstack((unseen_data, np.zeros((num_unseen_samples, n_padded - n))))\n",
        "\n",
        "unseen_data_normalized = unseen_data.astype(np.float32) / (q - 1)\n",
        "\n",
        "# print(\"Unseen Input Data (Before Encoding):\")\n",
        "# print(unseen_data)\n",
        "\n",
        "# unseen_encoded = np.array([dft(message, n_padded) for message in padded_unseen_data])\n",
        "unseen_encoded = np.array([np.dot(M_tilde, x) for x in padded_unseen_data])\n",
        "unseen_encoded[np.abs(unseen_encoded) < 1e-10] = 0\n",
        "unseen_encoded = np.round(unseen_encoded, decimals=10)\n",
        "\n",
        "X_real_unseen = np.real(unseen_encoded).astype(np.float32)\n",
        "X_imag_unseen = np.imag(unseen_encoded).astype(np.float32)\n",
        "\n",
        "# print(\"\\nEncoded Unseen Data (Real and Imaginary Parts):\")\n",
        "# print(\"Real Part Shape:\", X_real_unseen.shape)\n",
        "# print(\"Imaginary Part Shape:\", X_imag_unseen.shape)\n",
        "\n",
        "y_pred_unseen = model.predict([X_real_unseen, X_imag_unseen])\n",
        "\n",
        "y_pred_unseen_rescaled = y_pred_unseen * (q - 1)\n",
        "\n",
        "y_pred_unseen_final = np.mod(np.round(y_pred_unseen_rescaled), q)\n",
        "\n",
        "print(\"\\nComparison of Unseen Data and Predictions:\")\n",
        "print(\"=\" * 60)\n",
        "for i in range(num_unseen_samples):\n",
        "    print(f\"Sample {i+1}:\")\n",
        "    print(f\"  Ground Truth: {padded_unseen_data[i].astype(int)}\")\n",
        "    print(f\"  Prediction  : {y_pred_unseen_final[i].astype(int)}\")\n",
        "    print(\"-\" * 60)"
      ]
    },
    {
      "cell_type": "markdown",
      "metadata": {
        "id": "iXex2ev9P4s0"
      },
      "source": [
        "Check gradient flow"
      ]
    },
    {
      "cell_type": "code",
      "execution_count": 56,
      "metadata": {
        "id": "kP9HEZxkP4s1"
      },
      "outputs": [],
      "source": []
    }
  ],
  "metadata": {
    "kernelspec": {
      "display_name": "base",
      "language": "python",
      "name": "python3"
    },
    "language_info": {
      "codemirror_mode": {
        "name": "ipython",
        "version": 3
      },
      "file_extension": ".py",
      "mimetype": "text/x-python",
      "name": "python",
      "nbconvert_exporter": "python",
      "pygments_lexer": "ipython3",
      "version": "3.9.18"
    },
    "colab": {
      "provenance": []
    }
  },
  "nbformat": 4,
  "nbformat_minor": 0
}