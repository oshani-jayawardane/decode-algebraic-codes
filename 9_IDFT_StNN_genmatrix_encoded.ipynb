{
  "cells": [
    {
      "cell_type": "markdown",
      "metadata": {},
      "source": [
        "### Parallel IDFT Model on Gen Matrix Encoded Data"
      ]
    },
    {
      "cell_type": "code",
      "execution_count": 53,
      "metadata": {
        "id": "8m_ze_Sj4q4A"
      },
      "outputs": [],
      "source": [
        "# (r + 1) | (q - 1)\n",
        "# (r + 1) | n\n",
        "# q is a prime number\n",
        "# n = 2^t\n",
        "# r < n"
      ]
    },
    {
      "cell_type": "code",
      "execution_count": 54,
      "metadata": {
        "colab": {
          "base_uri": "https://localhost:8080/"
        },
        "id": "5Ccmbx6f4zPw",
        "outputId": "7e95db5b-80d9-4d4d-8def-f060c6c37414"
      },
      "outputs": [
        {
          "data": {
            "text/plain": [
              "0"
            ]
          },
          "execution_count": 54,
          "metadata": {},
          "output_type": "execute_result"
        }
      ],
      "source": [
        "%reset -f\n",
        "import gc\n",
        "gc.collect()"
      ]
    },
    {
      "cell_type": "code",
      "execution_count": 55,
      "metadata": {
        "id": "rhVrn-AO40rv"
      },
      "outputs": [],
      "source": [
        "w0 = 4\n",
        "z0 = 3"
      ]
    },
    {
      "cell_type": "code",
      "execution_count": 56,
      "metadata": {
        "id": "te9xSExt45Xb"
      },
      "outputs": [],
      "source": [
        "import numpy as np\n",
        "\n",
        "np.random.seed(42)\n",
        "\n",
        "n = 27\n",
        "q = 7\n",
        "num_samples = 1000"
      ]
    },
    {
      "cell_type": "code",
      "execution_count": 57,
      "metadata": {
        "colab": {
          "base_uri": "https://localhost:8080/"
        },
        "id": "Me5-3Y8v42D0",
        "outputId": "66456c64-9b37-4011-98c7-5b0ba643e309"
      },
      "outputs": [
        {
          "name": "stdout",
          "output_type": "stream",
          "text": [
            "Original n: 27\n",
            "Padded n: 32\n",
            "Generated dataset shape: (1000, 32)\n"
          ]
        }
      ],
      "source": [
        "def next_power_of_two(x):\n",
        "    return 1 if x == 0 else 2**(x - 1).bit_length()\n",
        "\n",
        "n_padded = next_power_of_two(n)\n",
        "\n",
        "dataset = np.random.randint(0, q, size=(num_samples, n))\n",
        "\n",
        "if n_padded > n:\n",
        "    pad_width = n_padded - n\n",
        "    dataset = np.pad(dataset, ((0, 0), (0, pad_width)), mode='constant', constant_values=0)\n",
        "\n",
        "print(\"Original n:\", n)\n",
        "print(\"Padded n:\", n_padded)\n",
        "print(\"Generated dataset shape:\", dataset.shape)"
      ]
    },
    {
      "cell_type": "code",
      "execution_count": 58,
      "metadata": {
        "colab": {
          "base_uri": "https://localhost:8080/"
        },
        "id": "VuGqeiKM453b",
        "outputId": "f2b59284-ea10-4f1b-c64c-956107a9dbe5"
      },
      "outputs": [
        {
          "name": "stdout",
          "output_type": "stream",
          "text": [
            "[[6 3 4 ... 0 0 0]\n",
            " [1 5 4 ... 0 0 0]\n",
            " [0 6 1 ... 0 0 0]\n",
            " ...\n",
            " [4 1 1 ... 0 0 0]\n",
            " [6 1 2 ... 0 0 0]\n",
            " [1 5 4 ... 0 0 0]]\n"
          ]
        }
      ],
      "source": [
        "print(dataset)"
      ]
    },
    {
      "cell_type": "markdown",
      "metadata": {
        "id": "7xcJ1tae4-C0"
      },
      "source": [
        "$$\n",
        "\\tilde{M}_{kj} = \\left[ \\left( \\frac{w_0}{z_0} \\right)^j \\zeta^{kj} \\right]_{k,j=0}^{n-1}\n",
        "$$"
      ]
    },
    {
      "cell_type": "code",
      "execution_count": 59,
      "metadata": {
        "id": "k7J3o1bA48XS"
      },
      "outputs": [],
      "source": [
        "def padded_generator_matrix(N, w0, z0):\n",
        "    n = np.arange(N)\n",
        "    k = n.reshape((N, 1))\n",
        "    zeta = np.exp(-2j * np.pi / N)\n",
        "    M_tilde = ((w0 / z0) ** n) * (zeta ** (k * n))\n",
        "    return M_tilde"
      ]
    },
    {
      "cell_type": "code",
      "execution_count": 60,
      "metadata": {
        "colab": {
          "base_uri": "https://localhost:8080/"
        },
        "id": "TBG-7uZo4_20",
        "outputId": "f688fde7-c53c-4363-ce80-3f3032d6944b"
      },
      "outputs": [
        {
          "name": "stdout",
          "output_type": "stream",
          "text": [
            "(32, 32)\n"
          ]
        }
      ],
      "source": [
        "M_tilde = padded_generator_matrix(n_padded, w0, z0)\n",
        "print(M_tilde.shape)"
      ]
    },
    {
      "cell_type": "code",
      "execution_count": 61,
      "metadata": {
        "id": "TWiwL_m35BJQ"
      },
      "outputs": [],
      "source": [
        "encoded_dataset = np.array([np.dot(M_tilde, x) for x in dataset])\n",
        "encoded_dataset[np.abs(encoded_dataset) < 1e-10] = 0\n",
        "encoded_dataset = np.round(encoded_dataset, decimals=10)"
      ]
    },
    {
      "cell_type": "code",
      "execution_count": 62,
      "metadata": {
        "colab": {
          "base_uri": "https://localhost:8080/"
        },
        "id": "ruM0ZOQr5CrT",
        "outputId": "1f90135a-1e43-411e-99fc-9296f12f204b"
      },
      "outputs": [
        {
          "name": "stdout",
          "output_type": "stream",
          "text": [
            "(1000, 32)\n"
          ]
        }
      ],
      "source": [
        "print(encoded_dataset.shape)"
      ]
    },
    {
      "cell_type": "code",
      "execution_count": 63,
      "metadata": {
        "colab": {
          "base_uri": "https://localhost:8080/"
        },
        "id": "fgk2CBTy5Igf",
        "outputId": "5c2b00f0-eba2-4f73-bcc4-033f16d31800"
      },
      "outputs": [
        {
          "name": "stdout",
          "output_type": "stream",
          "text": [
            "[6 3 4 6 2 4 4 6 1 2 6 2 2 4 3 2 5 4 1 3 5 5 1 3 4 0 3 0 0 0 0 0]\n",
            "[18563.60052945    +0.j         -3175.07412411+14542.65392496j\n",
            " -9480.13851167 -1549.89213738j  -850.18419129 -5788.51248279j\n",
            "  2813.63372348 -2457.36436449j  3312.0476391   +337.88077825j\n",
            "  1059.2907911  +3489.68169028j -2366.82367016  +909.74502726j\n",
            "  -210.29906943  +357.85181443j -3878.07651347  +373.95548592j\n",
            "   -49.25036994 -6370.32567308j  6901.71964373 -1088.5938127j\n",
            "  2896.76301761 +7252.43377368j -6714.83312544 +4427.90575271j\n",
            " -5496.28870703 -5330.43278044j  2828.24226801 -6162.17891893j\n",
            "  6446.94186958    -0.j          2828.24226801 +6162.17891893j\n",
            " -5496.28870703 +5330.43278044j -6714.83312544 -4427.90575271j\n",
            "  2896.76301761 -7252.43377368j  6901.71964373 +1088.5938127j\n",
            "   -49.25036994 +6370.32567308j -3878.07651347  -373.95548592j\n",
            "  -210.29906943  -357.85181443j -2366.82367016  -909.74502726j\n",
            "  1059.2907911  -3489.68169028j  3312.0476391   -337.88077825j\n",
            "  2813.63372348 +2457.36436449j  -850.18419129 +5788.51248279j\n",
            " -9480.13851167 +1549.89213738j -3175.07412411-14542.65392496j]\n"
          ]
        }
      ],
      "source": [
        "print(dataset[0])\n",
        "print(encoded_dataset[0])"
      ]
    },
    {
      "cell_type": "code",
      "execution_count": 64,
      "metadata": {
        "colab": {
          "base_uri": "https://localhost:8080/"
        },
        "id": "kPAzs4ML5JtN",
        "outputId": "86085f53-2843-4917-9a72-e62dfb0f02c7"
      },
      "outputs": [
        {
          "name": "stdout",
          "output_type": "stream",
          "text": [
            "\n",
            "X_train_real : (1000, 32)\n",
            "[18563.6     -3175.0742  -9480.139    -850.1842   2813.6338   3312.0476\n",
            "  1059.2908  -2366.8237   -210.29907 -3878.0764    -49.25037  6901.7197\n",
            "  2896.763   -6714.833   -5496.2886   2828.2422   6446.942    2828.2422\n",
            " -5496.2886  -6714.833    2896.763    6901.7197    -49.25037 -3878.0764\n",
            "  -210.29907 -2366.8237   1059.2908   3312.0476   2813.6338   -850.1842\n",
            " -9480.139   -3175.0742 ]\n",
            "\n",
            "X_train_imag : (1000, 32)\n",
            "[     0.       14542.654    -1549.8921   -5788.5127   -2457.3643\n",
            "    337.88077   3489.6816     909.74506    357.8518     373.95547\n",
            "  -6370.3257   -1088.5939    7252.4336    4427.906    -5330.4326\n",
            "  -6162.1787      -0.        6162.1787    5330.4326   -4427.906\n",
            "  -7252.4336    1088.5939    6370.3257    -373.95547   -357.8518\n",
            "   -909.74506  -3489.6816    -337.88077   2457.3643    5788.5127\n",
            "   1549.8921  -14542.654  ]\n"
          ]
        }
      ],
      "source": [
        "X_real = np.real(encoded_dataset).astype(np.float32)\n",
        "X_imag = np.imag(encoded_dataset).astype(np.float32)\n",
        "\n",
        "print(\"\\nX_train_real :\", X_real.shape)\n",
        "print(X_real[0])\n",
        "print(\"\\nX_train_imag :\", X_imag.shape)\n",
        "print(X_imag[0])"
      ]
    },
    {
      "cell_type": "code",
      "execution_count": 65,
      "metadata": {
        "colab": {
          "base_uri": "https://localhost:8080/"
        },
        "id": "nZ9O-pNK5LPX",
        "outputId": "604a0e7a-10be-408b-affe-065cad560067"
      },
      "outputs": [
        {
          "name": "stdout",
          "output_type": "stream",
          "text": [
            "[1.         0.5        0.6666667  1.         0.33333334 0.6666667\n",
            " 0.6666667  1.         0.16666667 0.33333334 1.         0.33333334\n",
            " 0.33333334 0.6666667  0.5        0.33333334 0.8333333  0.6666667\n",
            " 0.16666667 0.5        0.8333333  0.8333333  0.16666667 0.5\n",
            " 0.6666667  0.         0.5        0.         0.         0.\n",
            " 0.         0.        ]\n"
          ]
        }
      ],
      "source": [
        "y = dataset.astype(np.float32)\n",
        "y_normalized = y / (q - 1)  # Scale to [0, 1]\n",
        "\n",
        "print(y_normalized[0])\n",
        "\n",
        "labels = y_normalized"
      ]
    },
    {
      "cell_type": "code",
      "execution_count": 66,
      "metadata": {
        "colab": {
          "base_uri": "https://localhost:8080/"
        },
        "id": "RTSgp2pR5U3a",
        "outputId": "f096ec9c-ef0d-4ee4-ebcf-419a170de153"
      },
      "outputs": [
        {
          "name": "stdout",
          "output_type": "stream",
          "text": [
            "Training data shapes: X_real: (800, 32) X_imag: (800, 32) y: (800, 32)\n",
            "Testing data shapes: X_real: (200, 32) X_imag: (200, 32) y: (200, 32)\n"
          ]
        }
      ],
      "source": [
        "from sklearn.model_selection import train_test_split\n",
        "\n",
        "X_real_train, X_real_test, y_train, y_test = train_test_split(\n",
        "    X_real, labels, test_size=0.2, random_state=42\n",
        ")\n",
        "\n",
        "X_imag_train, X_imag_test, _, _ = train_test_split(\n",
        "    X_imag, labels, test_size=0.2, random_state=42\n",
        ")\n",
        "\n",
        "print(\"Training data shapes: X_real:\", X_real_train.shape, \"X_imag:\", X_imag_train.shape, \"y:\", y_train.shape)\n",
        "print(\"Testing data shapes: X_real:\", X_real_test.shape, \"X_imag:\", X_imag_test.shape, \"y:\", y_test.shape)"
      ]
    },
    {
      "cell_type": "code",
      "execution_count": 67,
      "metadata": {
        "id": "KOHGgxkC5XwY"
      },
      "outputs": [],
      "source": [
        "# Normalize real part\n",
        "real_mean = np.mean(X_real_train, axis=0)\n",
        "real_std = np.std(X_real_train, axis=0)\n",
        "X_real_train = (X_real_train - real_mean) / (real_std + 1e-8)\n",
        "X_real_test = (X_real_test - real_mean) / (real_std + 1e-8)\n",
        "\n",
        "# Normalize imag part\n",
        "imag_mean = np.mean(X_imag_train, axis=0)\n",
        "imag_std = np.std(X_imag_train, axis=0)\n",
        "X_imag_train = (X_imag_train - imag_mean) / (imag_std + 1e-8)\n",
        "X_imag_test = (X_imag_test - imag_mean) / (imag_std + 1e-8)"
      ]
    },
    {
      "cell_type": "markdown",
      "metadata": {
        "id": "Bqr4Z1EV6AZ9"
      },
      "source": [
        "IDFT - Structure Imposed Neural Network"
      ]
    },
    {
      "cell_type": "code",
      "execution_count": 68,
      "metadata": {
        "id": "YhDWyV9M6AuE"
      },
      "outputs": [],
      "source": [
        "import tensorflow as tf"
      ]
    },
    {
      "cell_type": "code",
      "execution_count": 69,
      "metadata": {
        "id": "Ip1i_Iab6CVu"
      },
      "outputs": [],
      "source": [
        "class IDFT(tf.keras.layers.Layer):\n",
        "    def __init__(self, n, kernel_initializer='he_normal', trainable=True, **kwargs):\n",
        "        super(IDFT, self).__init__(**kwargs)\n",
        "        self.n = n\n",
        "        self.n1 = n // 2\n",
        "        self.trainable = trainable\n",
        "        self.kernel_initializer = kernel_initializer\n",
        "\n",
        "        if n == 2:\n",
        "            self.F_2 = self.add_weight(\n",
        "                shape=(2, 2),\n",
        "                initializer=tf.keras.initializers.Constant([[0.5, 0.5], [0.5, -0.5]]),\n",
        "                trainable=self.trainable,\n",
        "                name='F_2'\n",
        "            )\n",
        "        else:\n",
        "            self.idft1 = IDFT(self.n1, trainable=self.trainable)\n",
        "            self.idft2 = IDFT(self.n1, trainable=self.trainable)\n",
        "\n",
        "            self.Dn = self.add_weight(\n",
        "                shape=(self.n1,),\n",
        "                initializer=tf.keras.initializers.get(self.kernel_initializer),\n",
        "                trainable=self.trainable,\n",
        "                name='Dn'\n",
        "            )\n",
        "\n",
        "    def call(self, x):\n",
        "        if self.n == 2:\n",
        "            return tf.matmul(x, self.F_2)\n",
        "\n",
        "        even = x[:, ::2]\n",
        "        odd = x[:, 1::2]\n",
        "\n",
        "        B1 = self.idft1(even)\n",
        "        B2 = self.idft2(odd)\n",
        "\n",
        "        Dn_scaled = tf.multiply(B2, self.Dn)\n",
        "\n",
        "        sum_part = B1 + Dn_scaled\n",
        "        diff_part = B1 - Dn_scaled\n",
        "\n",
        "        out = tf.concat([sum_part, diff_part], axis=1) / tf.sqrt(tf.constant(2.0, dtype=tf.float32))\n",
        "\n",
        "        return out"
      ]
    },
    {
      "cell_type": "code",
      "execution_count": 70,
      "metadata": {
        "id": "NnX9oB2-6GVp"
      },
      "outputs": [],
      "source": [
        "class FirstIDFTLayer(tf.keras.layers.Layer):\n",
        "    def __init__(self, units, kernel_initializer='he_normal', bias_initializer='zeros', trainable=True, **kwargs):\n",
        "        super(FirstIDFTLayer, self).__init__(**kwargs)\n",
        "        self.n = units\n",
        "        self.n1 = units // 2\n",
        "        self.trainable = trainable\n",
        "        self.kernel_initializer = kernel_initializer\n",
        "        self.bias_initializer = bias_initializer\n",
        "\n",
        "        self.b1 = IDFT(self.n1, kernel_initializer=self.kernel_initializer, trainable=self.trainable)\n",
        "        self.b2 = IDFT(self.n1, kernel_initializer=self.kernel_initializer, trainable=self.trainable)\n",
        "\n",
        "        self.bias = self.add_weight(\n",
        "            shape=(units,),\n",
        "            initializer=tf.keras.initializers.get(self.bias_initializer),\n",
        "            trainable=True,\n",
        "            name='bias'\n",
        "        )\n",
        "\n",
        "    def call(self, x):\n",
        "      q = tf.concat([x[:, ::2], x[:, 1::2]], axis=1)\n",
        "      B1 = self.b1(q[:, :self.n1])\n",
        "      B2 = self.b2(q[:, self.n1:])\n",
        "      out = tf.concat([B1, B2], axis=1)\n",
        "\n",
        "      return out + self.bias"
      ]
    },
    {
      "cell_type": "code",
      "execution_count": 71,
      "metadata": {
        "id": "8JU2xoi46Imn"
      },
      "outputs": [],
      "source": [
        "class SecondIDFTLayer(tf.keras.layers.Layer):\n",
        "    def __init__(self, units, kernel_initializer='he_normal', bias_initializer='zeros', trainable=True, **kwargs):\n",
        "        super(SecondIDFTLayer, self).__init__(**kwargs)\n",
        "        self.n = units\n",
        "        self.n1 = units // 2\n",
        "        self.trainable = trainable\n",
        "        self.kernel_initializer = kernel_initializer\n",
        "        self.bias_initializer = bias_initializer\n",
        "\n",
        "        self.Dn = self.add_weight(\n",
        "                shape=(self.n1,),\n",
        "                initializer=tf.keras.initializers.get(self.kernel_initializer),\n",
        "                trainable=self.trainable,\n",
        "                name='Dn'\n",
        "            )\n",
        "\n",
        "        self.bias = self.add_weight(\n",
        "            shape=(units,),\n",
        "            initializer=tf.keras.initializers.get(self.bias_initializer),\n",
        "            trainable=True,\n",
        "            name='bias'\n",
        "        )\n",
        "\n",
        "    def call(self, x):\n",
        "        x1 = x[:, :self.n1]\n",
        "        x2 = x[:, self.n1:]\n",
        "\n",
        "        Dn_scaled = tf.multiply(x2, self.Dn)\n",
        "\n",
        "        sum_part = x1 + Dn_scaled\n",
        "        diff_part = x1 - Dn_scaled\n",
        "\n",
        "        out = tf.concat([sum_part, diff_part], axis=1) / tf.sqrt(tf.constant(2.0, dtype=tf.float32))\n",
        "\n",
        "        return out + self.bias"
      ]
    },
    {
      "cell_type": "code",
      "execution_count": 72,
      "metadata": {
        "id": "FD3tKDxV6yTv"
      },
      "outputs": [],
      "source": [
        "class DiagonalLayer(tf.keras.layers.Layer):\n",
        "    def __init__(self, units, kernel_initializer='he_normal', bias_initializer='zeros', use_bias=True, **kwargs):\n",
        "        super(DiagonalLayer, self).__init__(**kwargs)\n",
        "        self.units = units\n",
        "        self.kernel_initializer = kernel_initializer\n",
        "        self.bias_initializer = bias_initializer\n",
        "        self.use_bias = use_bias\n",
        "\n",
        "    def build(self, input_shape):\n",
        "        n = self.units\n",
        "\n",
        "        self.m = self.add_weight(name=\"kernel_m\",\n",
        "                                 shape=(n,),\n",
        "                                 initializer=tf.keras.initializers.get(self.kernel_initializer),\n",
        "                                 trainable=True)\n",
        "\n",
        "        if self.use_bias:\n",
        "            self.bias = self.add_weight(name=\"bias\",\n",
        "                                        shape=(self.units,),\n",
        "                                        initializer=tf.keras.initializers.get(self.bias_initializer),\n",
        "                                        trainable=True)\n",
        "\n",
        "    def call(self, inputs):\n",
        "        out = tf.multiply(inputs, self.m)\n",
        "        if self.use_bias:\n",
        "            out += self.bias\n",
        "        return out"
      ]
    },
    {
      "cell_type": "code",
      "execution_count": 73,
      "metadata": {
        "id": "GAIISW2C63qj"
      },
      "outputs": [],
      "source": [
        "class ScalingLayer(tf.keras.layers.Layer):\n",
        "    def __init__(self, units, initial_scale=0.1, kernel_initializer='ones', bias_initializer='zeros', use_bias=True, **kwargs):\n",
        "        super(ScalingLayer, self).__init__(**kwargs)\n",
        "        self.units = units\n",
        "        self.kernel_initializer = kernel_initializer\n",
        "        self.bias_initializer = bias_initializer\n",
        "        self.use_bias = use_bias\n",
        "        self.initial_scale = initial_scale\n",
        "\n",
        "    def build(self, input_shape):\n",
        "        n = self.units\n",
        "\n",
        "        self.m = self.add_weight(name=\"kernel_m_1\",\n",
        "                                 shape=(n,),\n",
        "                                 initializer=tf.keras.initializers.get(self.kernel_initializer),\n",
        "                                 regularizer=tf.keras.regularizers.l2(1e-4),\n",
        "                                 trainable=True)\n",
        "\n",
        "        self.log_scale = self.add_weight(\n",
        "                                  shape=(),\n",
        "                                  initializer=tf.keras.initializers.Constant(self.initial_scale),\n",
        "                                  trainable=True,\n",
        "                                  name=\"log_scale\",\n",
        "                                  )\n",
        "\n",
        "        if self.use_bias:\n",
        "            self.bias = self.add_weight(name=\"bias\",\n",
        "                                        shape=(self.units,),\n",
        "                                        initializer=tf.keras.initializers.get(self.bias_initializer),\n",
        "                                        trainable=True)\n",
        "\n",
        "    def call(self, inputs):\n",
        "        inputs1 = inputs[:, :int(inputs.shape[1] / 2)]\n",
        "        inputs2 = inputs[:, int(inputs.shape[1] / 2):]\n",
        "\n",
        "        out = tf.math.sqrt(inputs1**2 + inputs2**2)\n",
        "\n",
        "        dim = tf.shape(out)[1]\n",
        "        D_hat_n = tf.exp(self.log_scale * tf.cast(tf.range(dim), tf.float32))\n",
        "\n",
        "        out2 = out * D_hat_n * self.m\n",
        "\n",
        "        if self.use_bias:\n",
        "            out2 += self.bias\n",
        "\n",
        "        return out2"
      ]
    },
    {
      "cell_type": "markdown",
      "metadata": {
        "id": "UZE0QuJE7W6R"
      },
      "source": [
        "Model"
      ]
    },
    {
      "cell_type": "code",
      "execution_count": 74,
      "metadata": {
        "id": "LysmDMtv7YEB"
      },
      "outputs": [],
      "source": [
        "def custom_accuracy(y_true, y_pred):\n",
        "    y_true_int = tf.cast(y_true*(q-1), tf.int32)\n",
        "    y_pred_int = tf.cast(tf.round(y_pred*(q-1)), tf.int32)\n",
        "    correct = tf.cast(tf.equal(y_true_int, y_pred_int), tf.float32)\n",
        "    return tf.reduce_mean(correct)\n",
        "\n",
        "def custom_accuracy_without_padding(y_true, y_pred):\n",
        "    y_true_int = tf.cast(y_true * (q - 1), tf.int32)\n",
        "    y_pred_int = tf.cast(tf.round(y_pred * (q - 1)), tf.int32)\n",
        "    mask = tf.concat(\n",
        "        [tf.ones((tf.shape(y_true)[0], n), dtype=tf.float32),\n",
        "         tf.zeros((tf.shape(y_true)[0], n_padded - n), dtype=tf.float32)],\n",
        "        axis=1\n",
        "    )\n",
        "    correct = tf.cast(tf.equal(y_true_int, y_pred_int), tf.float32) * mask\n",
        "    return tf.reduce_sum(correct) / tf.reduce_sum(mask)\n",
        "\n",
        "def custom_mse(y_true, y_pred):\n",
        "    y_true = tf.cast(y_true, tf.float32)\n",
        "    y_pred = tf.cast(y_pred, tf.float32)\n",
        "    # weights = 1.0 / (1.0 + tf.abs(y_true))\n",
        "    # loss = tf.reduce_mean(weights * tf.square(y_true - y_pred))\n",
        "    loss = tf.reduce_mean(tf.square(tf.cast(y_true - y_pred, tf.float32)))\n",
        "    return loss"
      ]
    },
    {
      "cell_type": "code",
      "execution_count": 75,
      "metadata": {
        "colab": {
          "base_uri": "https://localhost:8080/",
          "height": 993
        },
        "id": "AONwiXc1692g",
        "outputId": "94ac03d6-c8b5-4eff-85c2-0fbfc6ed7546"
      },
      "outputs": [
        {
          "data": {
            "text/html": [
              "<pre style=\"white-space:pre;overflow-x:auto;line-height:normal;font-family:Menlo,'DejaVu Sans Mono',consolas,'Courier New',monospace\"><span style=\"font-weight: bold\">Model: \"functional_2\"</span>\n",
              "</pre>\n"
            ],
            "text/plain": [
              "\u001b[1mModel: \"functional_2\"\u001b[0m\n"
            ]
          },
          "metadata": {},
          "output_type": "display_data"
        },
        {
          "data": {
            "text/html": [
              "<pre style=\"white-space:pre;overflow-x:auto;line-height:normal;font-family:Menlo,'DejaVu Sans Mono',consolas,'Courier New',monospace\">┏━━━━━━━━━━━━━━━━━━━━━━━━━━━┳━━━━━━━━━━━━━━━━━━━━━━━━┳━━━━━━━━━━━━━━━━┳━━━━━━━━━━━━━━━━━━━━━━━━┓\n",
              "┃<span style=\"font-weight: bold\"> Layer (type)              </span>┃<span style=\"font-weight: bold\"> Output Shape           </span>┃<span style=\"font-weight: bold\">        Param # </span>┃<span style=\"font-weight: bold\"> Connected to           </span>┃\n",
              "┡━━━━━━━━━━━━━━━━━━━━━━━━━━━╇━━━━━━━━━━━━━━━━━━━━━━━━╇━━━━━━━━━━━━━━━━╇━━━━━━━━━━━━━━━━━━━━━━━━┩\n",
              "│ real_input (<span style=\"color: #0087ff; text-decoration-color: #0087ff\">InputLayer</span>)   │ (<span style=\"color: #00d7ff; text-decoration-color: #00d7ff\">None</span>, <span style=\"color: #00af00; text-decoration-color: #00af00\">32</span>)             │              <span style=\"color: #00af00; text-decoration-color: #00af00\">0</span> │ -                      │\n",
              "├───────────────────────────┼────────────────────────┼────────────────┼────────────────────────┤\n",
              "│ imag_input (<span style=\"color: #0087ff; text-decoration-color: #0087ff\">InputLayer</span>)   │ (<span style=\"color: #00d7ff; text-decoration-color: #00d7ff\">None</span>, <span style=\"color: #00af00; text-decoration-color: #00af00\">32</span>)             │              <span style=\"color: #00af00; text-decoration-color: #00af00\">0</span> │ -                      │\n",
              "├───────────────────────────┼────────────────────────┼────────────────┼────────────────────────┤\n",
              "│ real_layer1               │ (<span style=\"color: #00d7ff; text-decoration-color: #00d7ff\">None</span>, <span style=\"color: #00af00; text-decoration-color: #00af00\">32</span>)             │            <span style=\"color: #00af00; text-decoration-color: #00af00\">144</span> │ real_input[<span style=\"color: #00af00; text-decoration-color: #00af00\">0</span>][<span style=\"color: #00af00; text-decoration-color: #00af00\">0</span>]       │\n",
              "│ (<span style=\"color: #0087ff; text-decoration-color: #0087ff\">FirstIDFTLayer</span>)          │                        │                │                        │\n",
              "├───────────────────────────┼────────────────────────┼────────────────┼────────────────────────┤\n",
              "│ imag_layer1               │ (<span style=\"color: #00d7ff; text-decoration-color: #00d7ff\">None</span>, <span style=\"color: #00af00; text-decoration-color: #00af00\">32</span>)             │            <span style=\"color: #00af00; text-decoration-color: #00af00\">144</span> │ imag_input[<span style=\"color: #00af00; text-decoration-color: #00af00\">0</span>][<span style=\"color: #00af00; text-decoration-color: #00af00\">0</span>]       │\n",
              "│ (<span style=\"color: #0087ff; text-decoration-color: #0087ff\">FirstIDFTLayer</span>)          │                        │                │                        │\n",
              "├───────────────────────────┼────────────────────────┼────────────────┼────────────────────────┤\n",
              "│ leaky_re_lu_13            │ (<span style=\"color: #00d7ff; text-decoration-color: #00d7ff\">None</span>, <span style=\"color: #00af00; text-decoration-color: #00af00\">32</span>)             │              <span style=\"color: #00af00; text-decoration-color: #00af00\">0</span> │ real_layer1[<span style=\"color: #00af00; text-decoration-color: #00af00\">0</span>][<span style=\"color: #00af00; text-decoration-color: #00af00\">0</span>]      │\n",
              "│ (<span style=\"color: #0087ff; text-decoration-color: #0087ff\">LeakyReLU</span>)               │                        │                │                        │\n",
              "├───────────────────────────┼────────────────────────┼────────────────┼────────────────────────┤\n",
              "│ leaky_re_lu_16            │ (<span style=\"color: #00d7ff; text-decoration-color: #00d7ff\">None</span>, <span style=\"color: #00af00; text-decoration-color: #00af00\">32</span>)             │              <span style=\"color: #00af00; text-decoration-color: #00af00\">0</span> │ imag_layer1[<span style=\"color: #00af00; text-decoration-color: #00af00\">0</span>][<span style=\"color: #00af00; text-decoration-color: #00af00\">0</span>]      │\n",
              "│ (<span style=\"color: #0087ff; text-decoration-color: #0087ff\">LeakyReLU</span>)               │                        │                │                        │\n",
              "├───────────────────────────┼────────────────────────┼────────────────┼────────────────────────┤\n",
              "│ real_support_layer_1      │ (<span style=\"color: #00d7ff; text-decoration-color: #00d7ff\">None</span>, <span style=\"color: #00af00; text-decoration-color: #00af00\">32</span>)             │             <span style=\"color: #00af00; text-decoration-color: #00af00\">64</span> │ leaky_re_lu_13[<span style=\"color: #00af00; text-decoration-color: #00af00\">0</span>][<span style=\"color: #00af00; text-decoration-color: #00af00\">0</span>]   │\n",
              "│ (<span style=\"color: #0087ff; text-decoration-color: #0087ff\">DiagonalLayer</span>)           │                        │                │                        │\n",
              "├───────────────────────────┼────────────────────────┼────────────────┼────────────────────────┤\n",
              "│ imag_support_layer_1      │ (<span style=\"color: #00d7ff; text-decoration-color: #00d7ff\">None</span>, <span style=\"color: #00af00; text-decoration-color: #00af00\">32</span>)             │             <span style=\"color: #00af00; text-decoration-color: #00af00\">64</span> │ leaky_re_lu_16[<span style=\"color: #00af00; text-decoration-color: #00af00\">0</span>][<span style=\"color: #00af00; text-decoration-color: #00af00\">0</span>]   │\n",
              "│ (<span style=\"color: #0087ff; text-decoration-color: #0087ff\">DiagonalLayer</span>)           │                        │                │                        │\n",
              "├───────────────────────────┼────────────────────────┼────────────────┼────────────────────────┤\n",
              "│ leaky_re_lu_14            │ (<span style=\"color: #00d7ff; text-decoration-color: #00d7ff\">None</span>, <span style=\"color: #00af00; text-decoration-color: #00af00\">32</span>)             │              <span style=\"color: #00af00; text-decoration-color: #00af00\">0</span> │ real_support_layer_1[<span style=\"color: #00af00; text-decoration-color: #00af00\">…</span> │\n",
              "│ (<span style=\"color: #0087ff; text-decoration-color: #0087ff\">LeakyReLU</span>)               │                        │                │                        │\n",
              "├───────────────────────────┼────────────────────────┼────────────────┼────────────────────────┤\n",
              "│ leaky_re_lu_17            │ (<span style=\"color: #00d7ff; text-decoration-color: #00d7ff\">None</span>, <span style=\"color: #00af00; text-decoration-color: #00af00\">32</span>)             │              <span style=\"color: #00af00; text-decoration-color: #00af00\">0</span> │ imag_support_layer_1[<span style=\"color: #00af00; text-decoration-color: #00af00\">…</span> │\n",
              "│ (<span style=\"color: #0087ff; text-decoration-color: #0087ff\">LeakyReLU</span>)               │                        │                │                        │\n",
              "├───────────────────────────┼────────────────────────┼────────────────┼────────────────────────┤\n",
              "│ real_layer2               │ (<span style=\"color: #00d7ff; text-decoration-color: #00d7ff\">None</span>, <span style=\"color: #00af00; text-decoration-color: #00af00\">32</span>)             │             <span style=\"color: #00af00; text-decoration-color: #00af00\">48</span> │ leaky_re_lu_14[<span style=\"color: #00af00; text-decoration-color: #00af00\">0</span>][<span style=\"color: #00af00; text-decoration-color: #00af00\">0</span>]   │\n",
              "│ (<span style=\"color: #0087ff; text-decoration-color: #0087ff\">SecondIDFTLayer</span>)         │                        │                │                        │\n",
              "├───────────────────────────┼────────────────────────┼────────────────┼────────────────────────┤\n",
              "│ imag_layer2               │ (<span style=\"color: #00d7ff; text-decoration-color: #00d7ff\">None</span>, <span style=\"color: #00af00; text-decoration-color: #00af00\">32</span>)             │             <span style=\"color: #00af00; text-decoration-color: #00af00\">48</span> │ leaky_re_lu_17[<span style=\"color: #00af00; text-decoration-color: #00af00\">0</span>][<span style=\"color: #00af00; text-decoration-color: #00af00\">0</span>]   │\n",
              "│ (<span style=\"color: #0087ff; text-decoration-color: #0087ff\">SecondIDFTLayer</span>)         │                        │                │                        │\n",
              "├───────────────────────────┼────────────────────────┼────────────────┼────────────────────────┤\n",
              "│ leaky_re_lu_15            │ (<span style=\"color: #00d7ff; text-decoration-color: #00d7ff\">None</span>, <span style=\"color: #00af00; text-decoration-color: #00af00\">32</span>)             │              <span style=\"color: #00af00; text-decoration-color: #00af00\">0</span> │ real_layer2[<span style=\"color: #00af00; text-decoration-color: #00af00\">0</span>][<span style=\"color: #00af00; text-decoration-color: #00af00\">0</span>]      │\n",
              "│ (<span style=\"color: #0087ff; text-decoration-color: #0087ff\">LeakyReLU</span>)               │                        │                │                        │\n",
              "├───────────────────────────┼────────────────────────┼────────────────┼────────────────────────┤\n",
              "│ leaky_re_lu_18            │ (<span style=\"color: #00d7ff; text-decoration-color: #00d7ff\">None</span>, <span style=\"color: #00af00; text-decoration-color: #00af00\">32</span>)             │              <span style=\"color: #00af00; text-decoration-color: #00af00\">0</span> │ imag_layer2[<span style=\"color: #00af00; text-decoration-color: #00af00\">0</span>][<span style=\"color: #00af00; text-decoration-color: #00af00\">0</span>]      │\n",
              "│ (<span style=\"color: #0087ff; text-decoration-color: #0087ff\">LeakyReLU</span>)               │                        │                │                        │\n",
              "├───────────────────────────┼────────────────────────┼────────────────┼────────────────────────┤\n",
              "│ merge_real_imag           │ (<span style=\"color: #00d7ff; text-decoration-color: #00d7ff\">None</span>, <span style=\"color: #00af00; text-decoration-color: #00af00\">64</span>)             │              <span style=\"color: #00af00; text-decoration-color: #00af00\">0</span> │ leaky_re_lu_15[<span style=\"color: #00af00; text-decoration-color: #00af00\">0</span>][<span style=\"color: #00af00; text-decoration-color: #00af00\">0</span>],  │\n",
              "│ (<span style=\"color: #0087ff; text-decoration-color: #0087ff\">Concatenate</span>)             │                        │                │ leaky_re_lu_18[<span style=\"color: #00af00; text-decoration-color: #00af00\">0</span>][<span style=\"color: #00af00; text-decoration-color: #00af00\">0</span>]   │\n",
              "├───────────────────────────┼────────────────────────┼────────────────┼────────────────────────┤\n",
              "│ scaling_layer             │ (<span style=\"color: #00d7ff; text-decoration-color: #00d7ff\">None</span>, <span style=\"color: #00af00; text-decoration-color: #00af00\">32</span>)             │             <span style=\"color: #00af00; text-decoration-color: #00af00\">65</span> │ merge_real_imag[<span style=\"color: #00af00; text-decoration-color: #00af00\">0</span>][<span style=\"color: #00af00; text-decoration-color: #00af00\">0</span>]  │\n",
              "│ (<span style=\"color: #0087ff; text-decoration-color: #0087ff\">ScalingLayer</span>)            │                        │                │                        │\n",
              "├───────────────────────────┼────────────────────────┼────────────────┼────────────────────────┤\n",
              "│ leaky_re_lu_19            │ (<span style=\"color: #00d7ff; text-decoration-color: #00d7ff\">None</span>, <span style=\"color: #00af00; text-decoration-color: #00af00\">32</span>)             │              <span style=\"color: #00af00; text-decoration-color: #00af00\">0</span> │ scaling_layer[<span style=\"color: #00af00; text-decoration-color: #00af00\">0</span>][<span style=\"color: #00af00; text-decoration-color: #00af00\">0</span>]    │\n",
              "│ (<span style=\"color: #0087ff; text-decoration-color: #0087ff\">LeakyReLU</span>)               │                        │                │                        │\n",
              "├───────────────────────────┼────────────────────────┼────────────────┼────────────────────────┤\n",
              "│ output_layer              │ (<span style=\"color: #00d7ff; text-decoration-color: #00d7ff\">None</span>, <span style=\"color: #00af00; text-decoration-color: #00af00\">32</span>)             │             <span style=\"color: #00af00; text-decoration-color: #00af00\">64</span> │ leaky_re_lu_19[<span style=\"color: #00af00; text-decoration-color: #00af00\">0</span>][<span style=\"color: #00af00; text-decoration-color: #00af00\">0</span>]   │\n",
              "│ (<span style=\"color: #0087ff; text-decoration-color: #0087ff\">DiagonalLayer</span>)           │                        │                │                        │\n",
              "├───────────────────────────┼────────────────────────┼────────────────┼────────────────────────┤\n",
              "│ activation_2 (<span style=\"color: #0087ff; text-decoration-color: #0087ff\">Activation</span>) │ (<span style=\"color: #00d7ff; text-decoration-color: #00d7ff\">None</span>, <span style=\"color: #00af00; text-decoration-color: #00af00\">32</span>)             │              <span style=\"color: #00af00; text-decoration-color: #00af00\">0</span> │ output_layer[<span style=\"color: #00af00; text-decoration-color: #00af00\">0</span>][<span style=\"color: #00af00; text-decoration-color: #00af00\">0</span>]     │\n",
              "└───────────────────────────┴────────────────────────┴────────────────┴────────────────────────┘\n",
              "</pre>\n"
            ],
            "text/plain": [
              "┏━━━━━━━━━━━━━━━━━━━━━━━━━━━┳━━━━━━━━━━━━━━━━━━━━━━━━┳━━━━━━━━━━━━━━━━┳━━━━━━━━━━━━━━━━━━━━━━━━┓\n",
              "┃\u001b[1m \u001b[0m\u001b[1mLayer (type)             \u001b[0m\u001b[1m \u001b[0m┃\u001b[1m \u001b[0m\u001b[1mOutput Shape          \u001b[0m\u001b[1m \u001b[0m┃\u001b[1m \u001b[0m\u001b[1m       Param #\u001b[0m\u001b[1m \u001b[0m┃\u001b[1m \u001b[0m\u001b[1mConnected to          \u001b[0m\u001b[1m \u001b[0m┃\n",
              "┡━━━━━━━━━━━━━━━━━━━━━━━━━━━╇━━━━━━━━━━━━━━━━━━━━━━━━╇━━━━━━━━━━━━━━━━╇━━━━━━━━━━━━━━━━━━━━━━━━┩\n",
              "│ real_input (\u001b[38;5;33mInputLayer\u001b[0m)   │ (\u001b[38;5;45mNone\u001b[0m, \u001b[38;5;34m32\u001b[0m)             │              \u001b[38;5;34m0\u001b[0m │ -                      │\n",
              "├───────────────────────────┼────────────────────────┼────────────────┼────────────────────────┤\n",
              "│ imag_input (\u001b[38;5;33mInputLayer\u001b[0m)   │ (\u001b[38;5;45mNone\u001b[0m, \u001b[38;5;34m32\u001b[0m)             │              \u001b[38;5;34m0\u001b[0m │ -                      │\n",
              "├───────────────────────────┼────────────────────────┼────────────────┼────────────────────────┤\n",
              "│ real_layer1               │ (\u001b[38;5;45mNone\u001b[0m, \u001b[38;5;34m32\u001b[0m)             │            \u001b[38;5;34m144\u001b[0m │ real_input[\u001b[38;5;34m0\u001b[0m][\u001b[38;5;34m0\u001b[0m]       │\n",
              "│ (\u001b[38;5;33mFirstIDFTLayer\u001b[0m)          │                        │                │                        │\n",
              "├───────────────────────────┼────────────────────────┼────────────────┼────────────────────────┤\n",
              "│ imag_layer1               │ (\u001b[38;5;45mNone\u001b[0m, \u001b[38;5;34m32\u001b[0m)             │            \u001b[38;5;34m144\u001b[0m │ imag_input[\u001b[38;5;34m0\u001b[0m][\u001b[38;5;34m0\u001b[0m]       │\n",
              "│ (\u001b[38;5;33mFirstIDFTLayer\u001b[0m)          │                        │                │                        │\n",
              "├───────────────────────────┼────────────────────────┼────────────────┼────────────────────────┤\n",
              "│ leaky_re_lu_13            │ (\u001b[38;5;45mNone\u001b[0m, \u001b[38;5;34m32\u001b[0m)             │              \u001b[38;5;34m0\u001b[0m │ real_layer1[\u001b[38;5;34m0\u001b[0m][\u001b[38;5;34m0\u001b[0m]      │\n",
              "│ (\u001b[38;5;33mLeakyReLU\u001b[0m)               │                        │                │                        │\n",
              "├───────────────────────────┼────────────────────────┼────────────────┼────────────────────────┤\n",
              "│ leaky_re_lu_16            │ (\u001b[38;5;45mNone\u001b[0m, \u001b[38;5;34m32\u001b[0m)             │              \u001b[38;5;34m0\u001b[0m │ imag_layer1[\u001b[38;5;34m0\u001b[0m][\u001b[38;5;34m0\u001b[0m]      │\n",
              "│ (\u001b[38;5;33mLeakyReLU\u001b[0m)               │                        │                │                        │\n",
              "├───────────────────────────┼────────────────────────┼────────────────┼────────────────────────┤\n",
              "│ real_support_layer_1      │ (\u001b[38;5;45mNone\u001b[0m, \u001b[38;5;34m32\u001b[0m)             │             \u001b[38;5;34m64\u001b[0m │ leaky_re_lu_13[\u001b[38;5;34m0\u001b[0m][\u001b[38;5;34m0\u001b[0m]   │\n",
              "│ (\u001b[38;5;33mDiagonalLayer\u001b[0m)           │                        │                │                        │\n",
              "├───────────────────────────┼────────────────────────┼────────────────┼────────────────────────┤\n",
              "│ imag_support_layer_1      │ (\u001b[38;5;45mNone\u001b[0m, \u001b[38;5;34m32\u001b[0m)             │             \u001b[38;5;34m64\u001b[0m │ leaky_re_lu_16[\u001b[38;5;34m0\u001b[0m][\u001b[38;5;34m0\u001b[0m]   │\n",
              "│ (\u001b[38;5;33mDiagonalLayer\u001b[0m)           │                        │                │                        │\n",
              "├───────────────────────────┼────────────────────────┼────────────────┼────────────────────────┤\n",
              "│ leaky_re_lu_14            │ (\u001b[38;5;45mNone\u001b[0m, \u001b[38;5;34m32\u001b[0m)             │              \u001b[38;5;34m0\u001b[0m │ real_support_layer_1[\u001b[38;5;34m…\u001b[0m │\n",
              "│ (\u001b[38;5;33mLeakyReLU\u001b[0m)               │                        │                │                        │\n",
              "├───────────────────────────┼────────────────────────┼────────────────┼────────────────────────┤\n",
              "│ leaky_re_lu_17            │ (\u001b[38;5;45mNone\u001b[0m, \u001b[38;5;34m32\u001b[0m)             │              \u001b[38;5;34m0\u001b[0m │ imag_support_layer_1[\u001b[38;5;34m…\u001b[0m │\n",
              "│ (\u001b[38;5;33mLeakyReLU\u001b[0m)               │                        │                │                        │\n",
              "├───────────────────────────┼────────────────────────┼────────────────┼────────────────────────┤\n",
              "│ real_layer2               │ (\u001b[38;5;45mNone\u001b[0m, \u001b[38;5;34m32\u001b[0m)             │             \u001b[38;5;34m48\u001b[0m │ leaky_re_lu_14[\u001b[38;5;34m0\u001b[0m][\u001b[38;5;34m0\u001b[0m]   │\n",
              "│ (\u001b[38;5;33mSecondIDFTLayer\u001b[0m)         │                        │                │                        │\n",
              "├───────────────────────────┼────────────────────────┼────────────────┼────────────────────────┤\n",
              "│ imag_layer2               │ (\u001b[38;5;45mNone\u001b[0m, \u001b[38;5;34m32\u001b[0m)             │             \u001b[38;5;34m48\u001b[0m │ leaky_re_lu_17[\u001b[38;5;34m0\u001b[0m][\u001b[38;5;34m0\u001b[0m]   │\n",
              "│ (\u001b[38;5;33mSecondIDFTLayer\u001b[0m)         │                        │                │                        │\n",
              "├───────────────────────────┼────────────────────────┼────────────────┼────────────────────────┤\n",
              "│ leaky_re_lu_15            │ (\u001b[38;5;45mNone\u001b[0m, \u001b[38;5;34m32\u001b[0m)             │              \u001b[38;5;34m0\u001b[0m │ real_layer2[\u001b[38;5;34m0\u001b[0m][\u001b[38;5;34m0\u001b[0m]      │\n",
              "│ (\u001b[38;5;33mLeakyReLU\u001b[0m)               │                        │                │                        │\n",
              "├───────────────────────────┼────────────────────────┼────────────────┼────────────────────────┤\n",
              "│ leaky_re_lu_18            │ (\u001b[38;5;45mNone\u001b[0m, \u001b[38;5;34m32\u001b[0m)             │              \u001b[38;5;34m0\u001b[0m │ imag_layer2[\u001b[38;5;34m0\u001b[0m][\u001b[38;5;34m0\u001b[0m]      │\n",
              "│ (\u001b[38;5;33mLeakyReLU\u001b[0m)               │                        │                │                        │\n",
              "├───────────────────────────┼────────────────────────┼────────────────┼────────────────────────┤\n",
              "│ merge_real_imag           │ (\u001b[38;5;45mNone\u001b[0m, \u001b[38;5;34m64\u001b[0m)             │              \u001b[38;5;34m0\u001b[0m │ leaky_re_lu_15[\u001b[38;5;34m0\u001b[0m][\u001b[38;5;34m0\u001b[0m],  │\n",
              "│ (\u001b[38;5;33mConcatenate\u001b[0m)             │                        │                │ leaky_re_lu_18[\u001b[38;5;34m0\u001b[0m][\u001b[38;5;34m0\u001b[0m]   │\n",
              "├───────────────────────────┼────────────────────────┼────────────────┼────────────────────────┤\n",
              "│ scaling_layer             │ (\u001b[38;5;45mNone\u001b[0m, \u001b[38;5;34m32\u001b[0m)             │             \u001b[38;5;34m65\u001b[0m │ merge_real_imag[\u001b[38;5;34m0\u001b[0m][\u001b[38;5;34m0\u001b[0m]  │\n",
              "│ (\u001b[38;5;33mScalingLayer\u001b[0m)            │                        │                │                        │\n",
              "├───────────────────────────┼────────────────────────┼────────────────┼────────────────────────┤\n",
              "│ leaky_re_lu_19            │ (\u001b[38;5;45mNone\u001b[0m, \u001b[38;5;34m32\u001b[0m)             │              \u001b[38;5;34m0\u001b[0m │ scaling_layer[\u001b[38;5;34m0\u001b[0m][\u001b[38;5;34m0\u001b[0m]    │\n",
              "│ (\u001b[38;5;33mLeakyReLU\u001b[0m)               │                        │                │                        │\n",
              "├───────────────────────────┼────────────────────────┼────────────────┼────────────────────────┤\n",
              "│ output_layer              │ (\u001b[38;5;45mNone\u001b[0m, \u001b[38;5;34m32\u001b[0m)             │             \u001b[38;5;34m64\u001b[0m │ leaky_re_lu_19[\u001b[38;5;34m0\u001b[0m][\u001b[38;5;34m0\u001b[0m]   │\n",
              "│ (\u001b[38;5;33mDiagonalLayer\u001b[0m)           │                        │                │                        │\n",
              "├───────────────────────────┼────────────────────────┼────────────────┼────────────────────────┤\n",
              "│ activation_2 (\u001b[38;5;33mActivation\u001b[0m) │ (\u001b[38;5;45mNone\u001b[0m, \u001b[38;5;34m32\u001b[0m)             │              \u001b[38;5;34m0\u001b[0m │ output_layer[\u001b[38;5;34m0\u001b[0m][\u001b[38;5;34m0\u001b[0m]     │\n",
              "└───────────────────────────┴────────────────────────┴────────────────┴────────────────────────┘\n"
            ]
          },
          "metadata": {},
          "output_type": "display_data"
        },
        {
          "data": {
            "text/html": [
              "<pre style=\"white-space:pre;overflow-x:auto;line-height:normal;font-family:Menlo,'DejaVu Sans Mono',consolas,'Courier New',monospace\"><span style=\"font-weight: bold\"> Total params: </span><span style=\"color: #00af00; text-decoration-color: #00af00\">641</span> (2.50 KB)\n",
              "</pre>\n"
            ],
            "text/plain": [
              "\u001b[1m Total params: \u001b[0m\u001b[38;5;34m641\u001b[0m (2.50 KB)\n"
            ]
          },
          "metadata": {},
          "output_type": "display_data"
        },
        {
          "data": {
            "text/html": [
              "<pre style=\"white-space:pre;overflow-x:auto;line-height:normal;font-family:Menlo,'DejaVu Sans Mono',consolas,'Courier New',monospace\"><span style=\"font-weight: bold\"> Trainable params: </span><span style=\"color: #00af00; text-decoration-color: #00af00\">577</span> (2.25 KB)\n",
              "</pre>\n"
            ],
            "text/plain": [
              "\u001b[1m Trainable params: \u001b[0m\u001b[38;5;34m577\u001b[0m (2.25 KB)\n"
            ]
          },
          "metadata": {},
          "output_type": "display_data"
        },
        {
          "data": {
            "text/html": [
              "<pre style=\"white-space:pre;overflow-x:auto;line-height:normal;font-family:Menlo,'DejaVu Sans Mono',consolas,'Courier New',monospace\"><span style=\"font-weight: bold\"> Non-trainable params: </span><span style=\"color: #00af00; text-decoration-color: #00af00\">64</span> (256.00 B)\n",
              "</pre>\n"
            ],
            "text/plain": [
              "\u001b[1m Non-trainable params: \u001b[0m\u001b[38;5;34m64\u001b[0m (256.00 B)\n"
            ]
          },
          "metadata": {},
          "output_type": "display_data"
        }
      ],
      "source": [
        "import tensorflow as tf\n",
        "from tensorflow.keras.models import Model\n",
        "from tensorflow.keras.layers import Input, Concatenate, LeakyReLU, Activation\n",
        "from tensorflow.keras.optimizers import Adam\n",
        "\n",
        "global initial_log_scale\n",
        "initial_log_scale = np.log(z0 / w0)\n",
        "\n",
        "def structured_NN(input_dim, output_dim):\n",
        "    real_input = Input(shape=(input_dim,), name=\"real_input\")\n",
        "    imag_input = Input(shape=(input_dim,), name=\"imag_input\")\n",
        "\n",
        "    real_x = FirstIDFTLayer(units=input_dim, kernel_initializer='he_normal', bias_initializer='zeros', name=\"real_layer1\")(real_input)\n",
        "    real_x = LeakyReLU(negative_slope=0.1)(real_x)\n",
        "    real_x = DiagonalLayer(units=input_dim, kernel_initializer='he_normal', bias_initializer='zeros', name=\"real_support_layer_1\")(real_x)\n",
        "    real_x = LeakyReLU(negative_slope=0.1)(real_x)\n",
        "    real_x = SecondIDFTLayer(units=input_dim, kernel_initializer='he_normal', bias_initializer='zeros', name=\"real_layer2\")(real_x)\n",
        "    real_x = LeakyReLU(negative_slope=0.1)(real_x)\n",
        "\n",
        "    imag_x = FirstIDFTLayer(units=input_dim, kernel_initializer='he_normal', bias_initializer='zeros', name=\"imag_layer1\")(imag_input)\n",
        "    imag_x = LeakyReLU(negative_slope=0.1)(imag_x)\n",
        "    imag_x = DiagonalLayer(units=input_dim, kernel_initializer='he_normal', bias_initializer='zeros', name=\"imag_support_layer_1\")(imag_x)\n",
        "    imag_x = LeakyReLU(negative_slope=0.1)(imag_x)\n",
        "    imag_x = SecondIDFTLayer(units=input_dim, kernel_initializer='he_normal', bias_initializer='zeros', name=\"imag_layer2\")(imag_x)\n",
        "    imag_x = LeakyReLU(negative_slope=0.1)(imag_x)\n",
        "\n",
        "    merged = Concatenate(name=\"merge_real_imag\")([real_x, imag_x])\n",
        "\n",
        "    output = ScalingLayer(units=output_dim, initial_scale=initial_log_scale, kernel_initializer='ones', bias_initializer='zeros', name=\"scaling_layer\")(merged)\n",
        "    output = LeakyReLU(negative_slope=0.1)(output)\n",
        "    output = DiagonalLayer(units=output_dim, trainable=False, kernel_initializer='ones', bias_initializer='zeros', name=\"output_layer\")(output)\n",
        "    output = Activation('linear')(output)\n",
        "\n",
        "    model = Model(inputs=[real_input, imag_input], outputs=output)\n",
        "    model.compile(optimizer=Adam(learning_rate=0.001), loss=custom_mse, metrics=[custom_mse, custom_accuracy_without_padding])\n",
        "\n",
        "    return model\n",
        "\n",
        "input_dim = X_real_train.shape[1]\n",
        "output_dim = y_train.shape[1]\n",
        "model = structured_NN(input_dim, output_dim)\n",
        "model.summary()"
      ]
    },
    {
      "cell_type": "markdown",
      "metadata": {
        "id": "m6uKLzpY7MRQ"
      },
      "source": [
        "Train Model"
      ]
    },
    {
      "cell_type": "code",
      "execution_count": 76,
      "metadata": {
        "id": "ITd5fVNW7M-3"
      },
      "outputs": [],
      "source": [
        "from tensorflow.keras.callbacks import EarlyStopping, ReduceLROnPlateau\n",
        "\n",
        "early_stopping = EarlyStopping(monitor='val_loss', patience=10, restore_best_weights=True)\n",
        "\n",
        "adjust_lr = ReduceLROnPlateau(\n",
        "    monitor='val_loss',\n",
        "    factor=0.5,\n",
        "    patience=5,\n",
        "    min_lr=1e-7,\n",
        "    verbose=1\n",
        ")"
      ]
    },
    {
      "cell_type": "code",
      "execution_count": 77,
      "metadata": {
        "colab": {
          "base_uri": "https://localhost:8080/"
        },
        "id": "hJU4uyCJ7NoL",
        "outputId": "61611bc7-1baf-4355-ac83-d175803fd702"
      },
      "outputs": [
        {
          "name": "stdout",
          "output_type": "stream",
          "text": [
            "Epoch 1/500\n",
            "\u001b[1m25/25\u001b[0m \u001b[32m━━━━━━━━━━━━━━━━━━━━\u001b[0m\u001b[37m\u001b[0m \u001b[1m16s\u001b[0m 57ms/step - custom_accuracy_without_padding: 0.1429 - custom_mse: 0.2951 - loss: 0.2983 - val_custom_accuracy_without_padding: 0.1501 - val_custom_mse: 0.2679 - val_loss: 0.2716 - learning_rate: 0.0010\n",
            "Epoch 2/500\n",
            "\u001b[1m25/25\u001b[0m \u001b[32m━━━━━━━━━━━━━━━━━━━━\u001b[0m\u001b[37m\u001b[0m \u001b[1m1s\u001b[0m 13ms/step - custom_accuracy_without_padding: 0.1419 - custom_mse: 0.2710 - loss: 0.2741 - val_custom_accuracy_without_padding: 0.1500 - val_custom_mse: 0.2400 - val_loss: 0.2437 - learning_rate: 0.0010\n",
            "Epoch 3/500\n",
            "\u001b[1m25/25\u001b[0m \u001b[32m━━━━━━━━━━━━━━━━━━━━\u001b[0m\u001b[37m\u001b[0m \u001b[1m1s\u001b[0m 13ms/step - custom_accuracy_without_padding: 0.1421 - custom_mse: 0.2416 - loss: 0.2447 - val_custom_accuracy_without_padding: 0.1485 - val_custom_mse: 0.2116 - val_loss: 0.2155 - learning_rate: 0.0010\n",
            "Epoch 4/500\n",
            "\u001b[1m25/25\u001b[0m \u001b[32m━━━━━━━━━━━━━━━━━━━━\u001b[0m\u001b[37m\u001b[0m \u001b[1m0s\u001b[0m 14ms/step - custom_accuracy_without_padding: 0.1418 - custom_mse: 0.2129 - loss: 0.2160 - val_custom_accuracy_without_padding: 0.1538 - val_custom_mse: 0.1811 - val_loss: 0.1851 - learning_rate: 0.0010\n",
            "Epoch 5/500\n",
            "\u001b[1m25/25\u001b[0m \u001b[32m━━━━━━━━━━━━━━━━━━━━\u001b[0m\u001b[37m\u001b[0m \u001b[1m1s\u001b[0m 13ms/step - custom_accuracy_without_padding: 0.1426 - custom_mse: 0.1813 - loss: 0.1845 - val_custom_accuracy_without_padding: 0.1481 - val_custom_mse: 0.1461 - val_loss: 0.1503 - learning_rate: 0.0010\n",
            "Epoch 6/500\n",
            "\u001b[1m25/25\u001b[0m \u001b[32m━━━━━━━━━━━━━━━━━━━━\u001b[0m\u001b[37m\u001b[0m \u001b[1m1s\u001b[0m 14ms/step - custom_accuracy_without_padding: 0.1426 - custom_mse: 0.1403 - loss: 0.1437 - val_custom_accuracy_without_padding: 0.1417 - val_custom_mse: 0.1116 - val_loss: 0.1156 - learning_rate: 0.0010\n",
            "Epoch 7/500\n",
            "\u001b[1m25/25\u001b[0m \u001b[32m━━━━━━━━━━━━━━━━━━━━\u001b[0m\u001b[37m\u001b[0m \u001b[1m0s\u001b[0m 14ms/step - custom_accuracy_without_padding: 0.1397 - custom_mse: 0.1074 - loss: 0.1110 - val_custom_accuracy_without_padding: 0.1396 - val_custom_mse: 0.0991 - val_loss: 0.1028 - learning_rate: 0.0010\n",
            "Epoch 8/500\n",
            "\u001b[1m25/25\u001b[0m \u001b[32m━━━━━━━━━━━━━━━━━━━━\u001b[0m\u001b[37m\u001b[0m \u001b[1m1s\u001b[0m 13ms/step - custom_accuracy_without_padding: 0.1437 - custom_mse: 0.0969 - loss: 0.1005 - val_custom_accuracy_without_padding: 0.1338 - val_custom_mse: 0.0944 - val_loss: 0.0981 - learning_rate: 0.0010\n",
            "Epoch 9/500\n",
            "\u001b[1m25/25\u001b[0m \u001b[32m━━━━━━━━━━━━━━━━━━━━\u001b[0m\u001b[37m\u001b[0m \u001b[1m0s\u001b[0m 15ms/step - custom_accuracy_without_padding: 0.1462 - custom_mse: 0.0937 - loss: 0.0972 - val_custom_accuracy_without_padding: 0.1329 - val_custom_mse: 0.0929 - val_loss: 0.0965 - learning_rate: 0.0010\n",
            "Epoch 10/500\n",
            "\u001b[1m25/25\u001b[0m \u001b[32m━━━━━━━━━━━━━━━━━━━━\u001b[0m\u001b[37m\u001b[0m \u001b[1m0s\u001b[0m 13ms/step - custom_accuracy_without_padding: 0.1433 - custom_mse: 0.0921 - loss: 0.0956 - val_custom_accuracy_without_padding: 0.1310 - val_custom_mse: 0.0919 - val_loss: 0.0955 - learning_rate: 0.0010\n",
            "Epoch 11/500\n",
            "\u001b[1m25/25\u001b[0m \u001b[32m━━━━━━━━━━━━━━━━━━━━\u001b[0m\u001b[37m\u001b[0m \u001b[1m0s\u001b[0m 11ms/step - custom_accuracy_without_padding: 0.1479 - custom_mse: 0.0911 - loss: 0.0946 - val_custom_accuracy_without_padding: 0.1306 - val_custom_mse: 0.0910 - val_loss: 0.0945 - learning_rate: 0.0010\n",
            "Epoch 12/500\n",
            "\u001b[1m25/25\u001b[0m \u001b[32m━━━━━━━━━━━━━━━━━━━━\u001b[0m\u001b[37m\u001b[0m \u001b[1m0s\u001b[0m 16ms/step - custom_accuracy_without_padding: 0.1475 - custom_mse: 0.0901 - loss: 0.0935 - val_custom_accuracy_without_padding: 0.1359 - val_custom_mse: 0.0903 - val_loss: 0.0936 - learning_rate: 0.0010\n",
            "Epoch 13/500\n",
            "\u001b[1m25/25\u001b[0m \u001b[32m━━━━━━━━━━━━━━━━━━━━\u001b[0m\u001b[37m\u001b[0m \u001b[1m0s\u001b[0m 16ms/step - custom_accuracy_without_padding: 0.1464 - custom_mse: 0.0903 - loss: 0.0936 - val_custom_accuracy_without_padding: 0.1396 - val_custom_mse: 0.0894 - val_loss: 0.0928 - learning_rate: 0.0010\n",
            "Epoch 14/500\n",
            "\u001b[1m25/25\u001b[0m \u001b[32m━━━━━━━━━━━━━━━━━━━━\u001b[0m\u001b[37m\u001b[0m \u001b[1m1s\u001b[0m 16ms/step - custom_accuracy_without_padding: 0.1571 - custom_mse: 0.0886 - loss: 0.0919 - val_custom_accuracy_without_padding: 0.1488 - val_custom_mse: 0.0887 - val_loss: 0.0920 - learning_rate: 0.0010\n",
            "Epoch 15/500\n",
            "\u001b[1m25/25\u001b[0m \u001b[32m━━━━━━━━━━━━━━━━━━━━\u001b[0m\u001b[37m\u001b[0m \u001b[1m1s\u001b[0m 19ms/step - custom_accuracy_without_padding: 0.1591 - custom_mse: 0.0877 - loss: 0.0910 - val_custom_accuracy_without_padding: 0.1551 - val_custom_mse: 0.0877 - val_loss: 0.0909 - learning_rate: 0.0010\n",
            "Epoch 16/500\n",
            "\u001b[1m25/25\u001b[0m \u001b[32m━━━━━━━━━━━━━━━━━━━━\u001b[0m\u001b[37m\u001b[0m \u001b[1m0s\u001b[0m 12ms/step - custom_accuracy_without_padding: 0.1630 - custom_mse: 0.0869 - loss: 0.0901 - val_custom_accuracy_without_padding: 0.1574 - val_custom_mse: 0.0867 - val_loss: 0.0899 - learning_rate: 0.0010\n",
            "Epoch 17/500\n",
            "\u001b[1m25/25\u001b[0m \u001b[32m━━━━━━━━━━━━━━━━━━━━\u001b[0m\u001b[37m\u001b[0m \u001b[1m1s\u001b[0m 15ms/step - custom_accuracy_without_padding: 0.1628 - custom_mse: 0.0860 - loss: 0.0892 - val_custom_accuracy_without_padding: 0.1589 - val_custom_mse: 0.0857 - val_loss: 0.0888 - learning_rate: 0.0010\n",
            "Epoch 18/500\n",
            "\u001b[1m25/25\u001b[0m \u001b[32m━━━━━━━━━━━━━━━━━━━━\u001b[0m\u001b[37m\u001b[0m \u001b[1m0s\u001b[0m 13ms/step - custom_accuracy_without_padding: 0.1672 - custom_mse: 0.0851 - loss: 0.0883 - val_custom_accuracy_without_padding: 0.1662 - val_custom_mse: 0.0848 - val_loss: 0.0879 - learning_rate: 0.0010\n",
            "Epoch 19/500\n",
            "\u001b[1m25/25\u001b[0m \u001b[32m━━━━━━━━━━━━━━━━━━━━\u001b[0m\u001b[37m\u001b[0m \u001b[1m1s\u001b[0m 10ms/step - custom_accuracy_without_padding: 0.1763 - custom_mse: 0.0842 - loss: 0.0874 - val_custom_accuracy_without_padding: 0.1670 - val_custom_mse: 0.0838 - val_loss: 0.0868 - learning_rate: 0.0010\n",
            "Epoch 20/500\n",
            "\u001b[1m25/25\u001b[0m \u001b[32m━━━━━━━━━━━━━━━━━━━━\u001b[0m\u001b[37m\u001b[0m \u001b[1m0s\u001b[0m 10ms/step - custom_accuracy_without_padding: 0.1811 - custom_mse: 0.0839 - loss: 0.0869 - val_custom_accuracy_without_padding: 0.1835 - val_custom_mse: 0.0830 - val_loss: 0.0859 - learning_rate: 0.0010\n",
            "Epoch 21/500\n",
            "\u001b[1m25/25\u001b[0m \u001b[32m━━━━━━━━━━━━━━━━━━━━\u001b[0m\u001b[37m\u001b[0m \u001b[1m0s\u001b[0m 10ms/step - custom_accuracy_without_padding: 0.1926 - custom_mse: 0.0826 - loss: 0.0856 - val_custom_accuracy_without_padding: 0.1887 - val_custom_mse: 0.0821 - val_loss: 0.0850 - learning_rate: 0.0010\n",
            "Epoch 22/500\n",
            "\u001b[1m25/25\u001b[0m \u001b[32m━━━━━━━━━━━━━━━━━━━━\u001b[0m\u001b[37m\u001b[0m \u001b[1m0s\u001b[0m 13ms/step - custom_accuracy_without_padding: 0.1913 - custom_mse: 0.0815 - loss: 0.0845 - val_custom_accuracy_without_padding: 0.1923 - val_custom_mse: 0.0812 - val_loss: 0.0841 - learning_rate: 0.0010\n",
            "Epoch 23/500\n",
            "\u001b[1m25/25\u001b[0m \u001b[32m━━━━━━━━━━━━━━━━━━━━\u001b[0m\u001b[37m\u001b[0m \u001b[1m0s\u001b[0m 14ms/step - custom_accuracy_without_padding: 0.1988 - custom_mse: 0.0800 - loss: 0.0830 - val_custom_accuracy_without_padding: 0.1928 - val_custom_mse: 0.0802 - val_loss: 0.0830 - learning_rate: 0.0010\n",
            "Epoch 24/500\n",
            "\u001b[1m25/25\u001b[0m \u001b[32m━━━━━━━━━━━━━━━━━━━━\u001b[0m\u001b[37m\u001b[0m \u001b[1m0s\u001b[0m 13ms/step - custom_accuracy_without_padding: 0.2028 - custom_mse: 0.0804 - loss: 0.0833 - val_custom_accuracy_without_padding: 0.1963 - val_custom_mse: 0.0791 - val_loss: 0.0819 - learning_rate: 0.0010\n",
            "Epoch 25/500\n",
            "\u001b[1m25/25\u001b[0m \u001b[32m━━━━━━━━━━━━━━━━━━━━\u001b[0m\u001b[37m\u001b[0m \u001b[1m0s\u001b[0m 13ms/step - custom_accuracy_without_padding: 0.2110 - custom_mse: 0.0774 - loss: 0.0803 - val_custom_accuracy_without_padding: 0.1986 - val_custom_mse: 0.0779 - val_loss: 0.0808 - learning_rate: 0.0010\n",
            "Epoch 26/500\n",
            "\u001b[1m25/25\u001b[0m \u001b[32m━━━━━━━━━━━━━━━━━━━━\u001b[0m\u001b[37m\u001b[0m \u001b[1m1s\u001b[0m 20ms/step - custom_accuracy_without_padding: 0.2127 - custom_mse: 0.0768 - loss: 0.0797 - val_custom_accuracy_without_padding: 0.2059 - val_custom_mse: 0.0767 - val_loss: 0.0796 - learning_rate: 0.0010\n",
            "Epoch 27/500\n",
            "\u001b[1m25/25\u001b[0m \u001b[32m━━━━━━━━━━━━━━━━━━━━\u001b[0m\u001b[37m\u001b[0m \u001b[1m0s\u001b[0m 13ms/step - custom_accuracy_without_padding: 0.2223 - custom_mse: 0.0757 - loss: 0.0785 - val_custom_accuracy_without_padding: 0.2113 - val_custom_mse: 0.0758 - val_loss: 0.0786 - learning_rate: 0.0010\n",
            "Epoch 28/500\n",
            "\u001b[1m25/25\u001b[0m \u001b[32m━━━━━━━━━━━━━━━━━━━━\u001b[0m\u001b[37m\u001b[0m \u001b[1m1s\u001b[0m 10ms/step - custom_accuracy_without_padding: 0.2248 - custom_mse: 0.0748 - loss: 0.0776 - val_custom_accuracy_without_padding: 0.2202 - val_custom_mse: 0.0750 - val_loss: 0.0778 - learning_rate: 0.0010\n",
            "Epoch 29/500\n",
            "\u001b[1m25/25\u001b[0m \u001b[32m━━━━━━━━━━━━━━━━━━━━\u001b[0m\u001b[37m\u001b[0m \u001b[1m0s\u001b[0m 11ms/step - custom_accuracy_without_padding: 0.2392 - custom_mse: 0.0729 - loss: 0.0757 - val_custom_accuracy_without_padding: 0.2292 - val_custom_mse: 0.0740 - val_loss: 0.0768 - learning_rate: 0.0010\n",
            "Epoch 30/500\n",
            "\u001b[1m25/25\u001b[0m \u001b[32m━━━━━━━━━━━━━━━━━━━━\u001b[0m\u001b[37m\u001b[0m \u001b[1m0s\u001b[0m 10ms/step - custom_accuracy_without_padding: 0.2396 - custom_mse: 0.0737 - loss: 0.0764 - val_custom_accuracy_without_padding: 0.2356 - val_custom_mse: 0.0733 - val_loss: 0.0760 - learning_rate: 0.0010\n",
            "Epoch 31/500\n",
            "\u001b[1m25/25\u001b[0m \u001b[32m━━━━━━━━━━━━━━━━━━━━\u001b[0m\u001b[37m\u001b[0m \u001b[1m0s\u001b[0m 14ms/step - custom_accuracy_without_padding: 0.2472 - custom_mse: 0.0723 - loss: 0.0750 - val_custom_accuracy_without_padding: 0.2404 - val_custom_mse: 0.0723 - val_loss: 0.0750 - learning_rate: 0.0010\n",
            "Epoch 32/500\n",
            "\u001b[1m25/25\u001b[0m \u001b[32m━━━━━━━━━━━━━━━━━━━━\u001b[0m\u001b[37m\u001b[0m \u001b[1m1s\u001b[0m 13ms/step - custom_accuracy_without_padding: 0.2554 - custom_mse: 0.0719 - loss: 0.0746 - val_custom_accuracy_without_padding: 0.2464 - val_custom_mse: 0.0714 - val_loss: 0.0741 - learning_rate: 0.0010\n",
            "Epoch 33/500\n",
            "\u001b[1m25/25\u001b[0m \u001b[32m━━━━━━━━━━━━━━━━━━━━\u001b[0m\u001b[37m\u001b[0m \u001b[1m1s\u001b[0m 14ms/step - custom_accuracy_without_padding: 0.2581 - custom_mse: 0.0711 - loss: 0.0738 - val_custom_accuracy_without_padding: 0.2485 - val_custom_mse: 0.0706 - val_loss: 0.0733 - learning_rate: 0.0010\n",
            "Epoch 34/500\n",
            "\u001b[1m25/25\u001b[0m \u001b[32m━━━━━━━━━━━━━━━━━━━━\u001b[0m\u001b[37m\u001b[0m \u001b[1m1s\u001b[0m 13ms/step - custom_accuracy_without_padding: 0.2669 - custom_mse: 0.0693 - loss: 0.0720 - val_custom_accuracy_without_padding: 0.2564 - val_custom_mse: 0.0698 - val_loss: 0.0725 - learning_rate: 0.0010\n",
            "Epoch 35/500\n",
            "\u001b[1m25/25\u001b[0m \u001b[32m━━━━━━━━━━━━━━━━━━━━\u001b[0m\u001b[37m\u001b[0m \u001b[1m0s\u001b[0m 13ms/step - custom_accuracy_without_padding: 0.2716 - custom_mse: 0.0691 - loss: 0.0717 - val_custom_accuracy_without_padding: 0.2622 - val_custom_mse: 0.0693 - val_loss: 0.0720 - learning_rate: 0.0010\n",
            "Epoch 36/500\n",
            "\u001b[1m25/25\u001b[0m \u001b[32m━━━━━━━━━━━━━━━━━━━━\u001b[0m\u001b[37m\u001b[0m \u001b[1m1s\u001b[0m 13ms/step - custom_accuracy_without_padding: 0.2770 - custom_mse: 0.0694 - loss: 0.0720 - val_custom_accuracy_without_padding: 0.2677 - val_custom_mse: 0.0688 - val_loss: 0.0714 - learning_rate: 0.0010\n",
            "Epoch 37/500\n",
            "\u001b[1m25/25\u001b[0m \u001b[32m━━━━━━━━━━━━━━━━━━━━\u001b[0m\u001b[37m\u001b[0m \u001b[1m0s\u001b[0m 11ms/step - custom_accuracy_without_padding: 0.2827 - custom_mse: 0.0683 - loss: 0.0709 - val_custom_accuracy_without_padding: 0.2745 - val_custom_mse: 0.0683 - val_loss: 0.0709 - learning_rate: 0.0010\n",
            "Epoch 38/500\n",
            "\u001b[1m25/25\u001b[0m \u001b[32m━━━━━━━━━━━━━━━━━━━━\u001b[0m\u001b[37m\u001b[0m \u001b[1m0s\u001b[0m 10ms/step - custom_accuracy_without_padding: 0.2849 - custom_mse: 0.0673 - loss: 0.0698 - val_custom_accuracy_without_padding: 0.2753 - val_custom_mse: 0.0680 - val_loss: 0.0705 - learning_rate: 0.0010\n",
            "Epoch 39/500\n",
            "\u001b[1m25/25\u001b[0m \u001b[32m━━━━━━━━━━━━━━━━━━━━\u001b[0m\u001b[37m\u001b[0m \u001b[1m0s\u001b[0m 17ms/step - custom_accuracy_without_padding: 0.2932 - custom_mse: 0.0666 - loss: 0.0691 - val_custom_accuracy_without_padding: 0.2817 - val_custom_mse: 0.0678 - val_loss: 0.0703 - learning_rate: 0.0010\n",
            "Epoch 40/500\n",
            "\u001b[1m25/25\u001b[0m \u001b[32m━━━━━━━━━━━━━━━━━━━━\u001b[0m\u001b[37m\u001b[0m \u001b[1m0s\u001b[0m 19ms/step - custom_accuracy_without_padding: 0.2982 - custom_mse: 0.0667 - loss: 0.0692 - val_custom_accuracy_without_padding: 0.2865 - val_custom_mse: 0.0674 - val_loss: 0.0698 - learning_rate: 0.0010\n",
            "Epoch 41/500\n",
            "\u001b[1m25/25\u001b[0m \u001b[32m━━━━━━━━━━━━━━━━━━━━\u001b[0m\u001b[37m\u001b[0m \u001b[1m0s\u001b[0m 16ms/step - custom_accuracy_without_padding: 0.2975 - custom_mse: 0.0670 - loss: 0.0695 - val_custom_accuracy_without_padding: 0.2880 - val_custom_mse: 0.0673 - val_loss: 0.0697 - learning_rate: 0.0010\n",
            "Epoch 42/500\n",
            "\u001b[1m25/25\u001b[0m \u001b[32m━━━━━━━━━━━━━━━━━━━━\u001b[0m\u001b[37m\u001b[0m \u001b[1m0s\u001b[0m 19ms/step - custom_accuracy_without_padding: 0.3050 - custom_mse: 0.0663 - loss: 0.0687 - val_custom_accuracy_without_padding: 0.2978 - val_custom_mse: 0.0669 - val_loss: 0.0694 - learning_rate: 0.0010\n",
            "Epoch 43/500\n",
            "\u001b[1m25/25\u001b[0m \u001b[32m━━━━━━━━━━━━━━━━━━━━\u001b[0m\u001b[37m\u001b[0m \u001b[1m1s\u001b[0m 21ms/step - custom_accuracy_without_padding: 0.3080 - custom_mse: 0.0657 - loss: 0.0681 - val_custom_accuracy_without_padding: 0.3042 - val_custom_mse: 0.0667 - val_loss: 0.0691 - learning_rate: 0.0010\n",
            "Epoch 44/500\n",
            "\u001b[1m25/25\u001b[0m \u001b[32m━━━━━━━━━━━━━━━━━━━━\u001b[0m\u001b[37m\u001b[0m \u001b[1m0s\u001b[0m 14ms/step - custom_accuracy_without_padding: 0.3140 - custom_mse: 0.0661 - loss: 0.0685 - val_custom_accuracy_without_padding: 0.3052 - val_custom_mse: 0.0666 - val_loss: 0.0690 - learning_rate: 0.0010\n",
            "Epoch 45/500\n",
            "\u001b[1m25/25\u001b[0m \u001b[32m━━━━━━━━━━━━━━━━━━━━\u001b[0m\u001b[37m\u001b[0m \u001b[1m1s\u001b[0m 13ms/step - custom_accuracy_without_padding: 0.3150 - custom_mse: 0.0659 - loss: 0.0683 - val_custom_accuracy_without_padding: 0.3113 - val_custom_mse: 0.0664 - val_loss: 0.0687 - learning_rate: 0.0010\n",
            "Epoch 46/500\n",
            "\u001b[1m25/25\u001b[0m \u001b[32m━━━━━━━━━━━━━━━━━━━━\u001b[0m\u001b[37m\u001b[0m \u001b[1m1s\u001b[0m 13ms/step - custom_accuracy_without_padding: 0.3257 - custom_mse: 0.0656 - loss: 0.0679 - val_custom_accuracy_without_padding: 0.3102 - val_custom_mse: 0.0662 - val_loss: 0.0685 - learning_rate: 0.0010\n",
            "Epoch 47/500\n",
            "\u001b[1m25/25\u001b[0m \u001b[32m━━━━━━━━━━━━━━━━━━━━\u001b[0m\u001b[37m\u001b[0m \u001b[1m1s\u001b[0m 11ms/step - custom_accuracy_without_padding: 0.3193 - custom_mse: 0.0644 - loss: 0.0667 - val_custom_accuracy_without_padding: 0.3173 - val_custom_mse: 0.0660 - val_loss: 0.0683 - learning_rate: 0.0010\n",
            "Epoch 48/500\n",
            "\u001b[1m25/25\u001b[0m \u001b[32m━━━━━━━━━━━━━━━━━━━━\u001b[0m\u001b[37m\u001b[0m \u001b[1m0s\u001b[0m 10ms/step - custom_accuracy_without_padding: 0.3275 - custom_mse: 0.0642 - loss: 0.0665 - val_custom_accuracy_without_padding: 0.3218 - val_custom_mse: 0.0658 - val_loss: 0.0681 - learning_rate: 0.0010\n",
            "Epoch 49/500\n",
            "\u001b[1m25/25\u001b[0m \u001b[32m━━━━━━━━━━━━━━━━━━━━\u001b[0m\u001b[37m\u001b[0m \u001b[1m0s\u001b[0m 10ms/step - custom_accuracy_without_padding: 0.3234 - custom_mse: 0.0653 - loss: 0.0676 - val_custom_accuracy_without_padding: 0.3249 - val_custom_mse: 0.0656 - val_loss: 0.0679 - learning_rate: 0.0010\n",
            "Epoch 50/500\n",
            "\u001b[1m25/25\u001b[0m \u001b[32m━━━━━━━━━━━━━━━━━━━━\u001b[0m\u001b[37m\u001b[0m \u001b[1m0s\u001b[0m 10ms/step - custom_accuracy_without_padding: 0.3311 - custom_mse: 0.0653 - loss: 0.0675 - val_custom_accuracy_without_padding: 0.3257 - val_custom_mse: 0.0654 - val_loss: 0.0677 - learning_rate: 0.0010\n",
            "Epoch 51/500\n",
            "\u001b[1m25/25\u001b[0m \u001b[32m━━━━━━━━━━━━━━━━━━━━\u001b[0m\u001b[37m\u001b[0m \u001b[1m0s\u001b[0m 11ms/step - custom_accuracy_without_padding: 0.3332 - custom_mse: 0.0642 - loss: 0.0665 - val_custom_accuracy_without_padding: 0.3292 - val_custom_mse: 0.0652 - val_loss: 0.0673 - learning_rate: 0.0010\n",
            "Epoch 52/500\n",
            "\u001b[1m25/25\u001b[0m \u001b[32m━━━━━━━━━━━━━━━━━━━━\u001b[0m\u001b[37m\u001b[0m \u001b[1m0s\u001b[0m 11ms/step - custom_accuracy_without_padding: 0.3361 - custom_mse: 0.0644 - loss: 0.0666 - val_custom_accuracy_without_padding: 0.3299 - val_custom_mse: 0.0649 - val_loss: 0.0670 - learning_rate: 0.0010\n",
            "Epoch 53/500\n",
            "\u001b[1m25/25\u001b[0m \u001b[32m━━━━━━━━━━━━━━━━━━━━\u001b[0m\u001b[37m\u001b[0m \u001b[1m0s\u001b[0m 11ms/step - custom_accuracy_without_padding: 0.3388 - custom_mse: 0.0641 - loss: 0.0663 - val_custom_accuracy_without_padding: 0.3335 - val_custom_mse: 0.0645 - val_loss: 0.0666 - learning_rate: 0.0010\n",
            "Epoch 54/500\n",
            "\u001b[1m25/25\u001b[0m \u001b[32m━━━━━━━━━━━━━━━━━━━━\u001b[0m\u001b[37m\u001b[0m \u001b[1m0s\u001b[0m 14ms/step - custom_accuracy_without_padding: 0.3394 - custom_mse: 0.0636 - loss: 0.0658 - val_custom_accuracy_without_padding: 0.3353 - val_custom_mse: 0.0643 - val_loss: 0.0663 - learning_rate: 0.0010\n",
            "Epoch 55/500\n",
            "\u001b[1m25/25\u001b[0m \u001b[32m━━━━━━━━━━━━━━━━━━━━\u001b[0m\u001b[37m\u001b[0m \u001b[1m0s\u001b[0m 13ms/step - custom_accuracy_without_padding: 0.3429 - custom_mse: 0.0628 - loss: 0.0649 - val_custom_accuracy_without_padding: 0.3376 - val_custom_mse: 0.0640 - val_loss: 0.0660 - learning_rate: 0.0010\n",
            "Epoch 56/500\n",
            "\u001b[1m25/25\u001b[0m \u001b[32m━━━━━━━━━━━━━━━━━━━━\u001b[0m\u001b[37m\u001b[0m \u001b[1m0s\u001b[0m 13ms/step - custom_accuracy_without_padding: 0.3475 - custom_mse: 0.0623 - loss: 0.0645 - val_custom_accuracy_without_padding: 0.3396 - val_custom_mse: 0.0637 - val_loss: 0.0657 - learning_rate: 0.0010\n",
            "Epoch 57/500\n",
            "\u001b[1m25/25\u001b[0m \u001b[32m━━━━━━━━━━━━━━━━━━━━\u001b[0m\u001b[37m\u001b[0m \u001b[1m0s\u001b[0m 11ms/step - custom_accuracy_without_padding: 0.3470 - custom_mse: 0.0621 - loss: 0.0642 - val_custom_accuracy_without_padding: 0.3421 - val_custom_mse: 0.0634 - val_loss: 0.0654 - learning_rate: 0.0010\n",
            "Epoch 58/500\n",
            "\u001b[1m25/25\u001b[0m \u001b[32m━━━━━━━━━━━━━━━━━━━━\u001b[0m\u001b[37m\u001b[0m \u001b[1m0s\u001b[0m 10ms/step - custom_accuracy_without_padding: 0.3469 - custom_mse: 0.0621 - loss: 0.0642 - val_custom_accuracy_without_padding: 0.3438 - val_custom_mse: 0.0632 - val_loss: 0.0651 - learning_rate: 0.0010\n",
            "Epoch 59/500\n",
            "\u001b[1m25/25\u001b[0m \u001b[32m━━━━━━━━━━━━━━━━━━━━\u001b[0m\u001b[37m\u001b[0m \u001b[1m0s\u001b[0m 10ms/step - custom_accuracy_without_padding: 0.3542 - custom_mse: 0.0613 - loss: 0.0633 - val_custom_accuracy_without_padding: 0.3451 - val_custom_mse: 0.0629 - val_loss: 0.0649 - learning_rate: 0.0010\n",
            "Epoch 60/500\n",
            "\u001b[1m25/25\u001b[0m \u001b[32m━━━━━━━━━━━━━━━━━━━━\u001b[0m\u001b[37m\u001b[0m \u001b[1m0s\u001b[0m 11ms/step - custom_accuracy_without_padding: 0.3514 - custom_mse: 0.0618 - loss: 0.0638 - val_custom_accuracy_without_padding: 0.3482 - val_custom_mse: 0.0627 - val_loss: 0.0646 - learning_rate: 0.0010\n",
            "Epoch 61/500\n",
            "\u001b[1m25/25\u001b[0m \u001b[32m━━━━━━━━━━━━━━━━━━━━\u001b[0m\u001b[37m\u001b[0m \u001b[1m0s\u001b[0m 11ms/step - custom_accuracy_without_padding: 0.3542 - custom_mse: 0.0619 - loss: 0.0640 - val_custom_accuracy_without_padding: 0.3507 - val_custom_mse: 0.0624 - val_loss: 0.0643 - learning_rate: 0.0010\n",
            "Epoch 62/500\n",
            "\u001b[1m25/25\u001b[0m \u001b[32m━━━━━━━━━━━━━━━━━━━━\u001b[0m\u001b[37m\u001b[0m \u001b[1m0s\u001b[0m 11ms/step - custom_accuracy_without_padding: 0.3579 - custom_mse: 0.0613 - loss: 0.0633 - val_custom_accuracy_without_padding: 0.3510 - val_custom_mse: 0.0622 - val_loss: 0.0641 - learning_rate: 0.0010\n",
            "Epoch 63/500\n",
            "\u001b[1m25/25\u001b[0m \u001b[32m━━━━━━━━━━━━━━━━━━━━\u001b[0m\u001b[37m\u001b[0m \u001b[1m0s\u001b[0m 10ms/step - custom_accuracy_without_padding: 0.3618 - custom_mse: 0.0604 - loss: 0.0624 - val_custom_accuracy_without_padding: 0.3527 - val_custom_mse: 0.0621 - val_loss: 0.0639 - learning_rate: 0.0010\n",
            "Epoch 64/500\n",
            "\u001b[1m25/25\u001b[0m \u001b[32m━━━━━━━━━━━━━━━━━━━━\u001b[0m\u001b[37m\u001b[0m \u001b[1m0s\u001b[0m 12ms/step - custom_accuracy_without_padding: 0.3625 - custom_mse: 0.0608 - loss: 0.0628 - val_custom_accuracy_without_padding: 0.3543 - val_custom_mse: 0.0619 - val_loss: 0.0637 - learning_rate: 0.0010\n",
            "Epoch 65/500\n",
            "\u001b[1m25/25\u001b[0m \u001b[32m━━━━━━━━━━━━━━━━━━━━\u001b[0m\u001b[37m\u001b[0m \u001b[1m0s\u001b[0m 10ms/step - custom_accuracy_without_padding: 0.3608 - custom_mse: 0.0605 - loss: 0.0625 - val_custom_accuracy_without_padding: 0.3603 - val_custom_mse: 0.0616 - val_loss: 0.0633 - learning_rate: 0.0010\n",
            "Epoch 66/500\n",
            "\u001b[1m25/25\u001b[0m \u001b[32m━━━━━━━━━━━━━━━━━━━━\u001b[0m\u001b[37m\u001b[0m \u001b[1m0s\u001b[0m 10ms/step - custom_accuracy_without_padding: 0.3662 - custom_mse: 0.0604 - loss: 0.0623 - val_custom_accuracy_without_padding: 0.3634 - val_custom_mse: 0.0614 - val_loss: 0.0632 - learning_rate: 0.0010\n",
            "Epoch 67/500\n",
            "\u001b[1m25/25\u001b[0m \u001b[32m━━━━━━━━━━━━━━━━━━━━\u001b[0m\u001b[37m\u001b[0m \u001b[1m0s\u001b[0m 10ms/step - custom_accuracy_without_padding: 0.3696 - custom_mse: 0.0601 - loss: 0.0620 - val_custom_accuracy_without_padding: 0.3633 - val_custom_mse: 0.0612 - val_loss: 0.0629 - learning_rate: 0.0010\n",
            "Epoch 68/500\n",
            "\u001b[1m25/25\u001b[0m \u001b[32m━━━━━━━━━━━━━━━━━━━━\u001b[0m\u001b[37m\u001b[0m \u001b[1m0s\u001b[0m 11ms/step - custom_accuracy_without_padding: 0.3738 - custom_mse: 0.0601 - loss: 0.0620 - val_custom_accuracy_without_padding: 0.3661 - val_custom_mse: 0.0610 - val_loss: 0.0627 - learning_rate: 0.0010\n",
            "Epoch 69/500\n",
            "\u001b[1m25/25\u001b[0m \u001b[32m━━━━━━━━━━━━━━━━━━━━\u001b[0m\u001b[37m\u001b[0m \u001b[1m0s\u001b[0m 11ms/step - custom_accuracy_without_padding: 0.3708 - custom_mse: 0.0603 - loss: 0.0622 - val_custom_accuracy_without_padding: 0.3714 - val_custom_mse: 0.0609 - val_loss: 0.0625 - learning_rate: 0.0010\n",
            "Epoch 70/500\n",
            "\u001b[1m25/25\u001b[0m \u001b[32m━━━━━━━━━━━━━━━━━━━━\u001b[0m\u001b[37m\u001b[0m \u001b[1m0s\u001b[0m 11ms/step - custom_accuracy_without_padding: 0.3766 - custom_mse: 0.0596 - loss: 0.0615 - val_custom_accuracy_without_padding: 0.3729 - val_custom_mse: 0.0606 - val_loss: 0.0623 - learning_rate: 0.0010\n",
            "Epoch 71/500\n",
            "\u001b[1m25/25\u001b[0m \u001b[32m━━━━━━━━━━━━━━━━━━━━\u001b[0m\u001b[37m\u001b[0m \u001b[1m0s\u001b[0m 11ms/step - custom_accuracy_without_padding: 0.3799 - custom_mse: 0.0596 - loss: 0.0614 - val_custom_accuracy_without_padding: 0.3742 - val_custom_mse: 0.0605 - val_loss: 0.0621 - learning_rate: 0.0010\n",
            "Epoch 72/500\n",
            "\u001b[1m25/25\u001b[0m \u001b[32m━━━━━━━━━━━━━━━━━━━━\u001b[0m\u001b[37m\u001b[0m \u001b[1m0s\u001b[0m 11ms/step - custom_accuracy_without_padding: 0.3790 - custom_mse: 0.0591 - loss: 0.0609 - val_custom_accuracy_without_padding: 0.3770 - val_custom_mse: 0.0602 - val_loss: 0.0618 - learning_rate: 0.0010\n",
            "Epoch 73/500\n",
            "\u001b[1m25/25\u001b[0m \u001b[32m━━━━━━━━━━━━━━━━━━━━\u001b[0m\u001b[37m\u001b[0m \u001b[1m1s\u001b[0m 23ms/step - custom_accuracy_without_padding: 0.3781 - custom_mse: 0.0588 - loss: 0.0606 - val_custom_accuracy_without_padding: 0.3791 - val_custom_mse: 0.0600 - val_loss: 0.0616 - learning_rate: 0.0010\n",
            "Epoch 74/500\n",
            "\u001b[1m25/25\u001b[0m \u001b[32m━━━━━━━━━━━━━━━━━━━━\u001b[0m\u001b[37m\u001b[0m \u001b[1m0s\u001b[0m 16ms/step - custom_accuracy_without_padding: 0.3837 - custom_mse: 0.0586 - loss: 0.0604 - val_custom_accuracy_without_padding: 0.3791 - val_custom_mse: 0.0599 - val_loss: 0.0614 - learning_rate: 0.0010\n",
            "Epoch 75/500\n",
            "\u001b[1m25/25\u001b[0m \u001b[32m━━━━━━━━━━━━━━━━━━━━\u001b[0m\u001b[37m\u001b[0m \u001b[1m1s\u001b[0m 21ms/step - custom_accuracy_without_padding: 0.3870 - custom_mse: 0.0586 - loss: 0.0604 - val_custom_accuracy_without_padding: 0.3816 - val_custom_mse: 0.0597 - val_loss: 0.0612 - learning_rate: 0.0010\n",
            "Epoch 76/500\n",
            "\u001b[1m25/25\u001b[0m \u001b[32m━━━━━━━━━━━━━━━━━━━━\u001b[0m\u001b[37m\u001b[0m \u001b[1m0s\u001b[0m 17ms/step - custom_accuracy_without_padding: 0.3851 - custom_mse: 0.0587 - loss: 0.0604 - val_custom_accuracy_without_padding: 0.3824 - val_custom_mse: 0.0594 - val_loss: 0.0608 - learning_rate: 0.0010\n",
            "Epoch 77/500\n",
            "\u001b[1m25/25\u001b[0m \u001b[32m━━━━━━━━━━━━━━━━━━━━\u001b[0m\u001b[37m\u001b[0m \u001b[1m0s\u001b[0m 10ms/step - custom_accuracy_without_padding: 0.3815 - custom_mse: 0.0592 - loss: 0.0609 - val_custom_accuracy_without_padding: 0.3862 - val_custom_mse: 0.0592 - val_loss: 0.0606 - learning_rate: 0.0010\n",
            "Epoch 78/500\n",
            "\u001b[1m25/25\u001b[0m \u001b[32m━━━━━━━━━━━━━━━━━━━━\u001b[0m\u001b[37m\u001b[0m \u001b[1m0s\u001b[0m 11ms/step - custom_accuracy_without_padding: 0.3886 - custom_mse: 0.0572 - loss: 0.0589 - val_custom_accuracy_without_padding: 0.3867 - val_custom_mse: 0.0590 - val_loss: 0.0604 - learning_rate: 0.0010\n",
            "Epoch 79/500\n",
            "\u001b[1m25/25\u001b[0m \u001b[32m━━━━━━━━━━━━━━━━━━━━\u001b[0m\u001b[37m\u001b[0m \u001b[1m0s\u001b[0m 10ms/step - custom_accuracy_without_padding: 0.3905 - custom_mse: 0.0578 - loss: 0.0595 - val_custom_accuracy_without_padding: 0.3867 - val_custom_mse: 0.0588 - val_loss: 0.0601 - learning_rate: 0.0010\n",
            "Epoch 80/500\n",
            "\u001b[1m25/25\u001b[0m \u001b[32m━━━━━━━━━━━━━━━━━━━━\u001b[0m\u001b[37m\u001b[0m \u001b[1m0s\u001b[0m 10ms/step - custom_accuracy_without_padding: 0.3911 - custom_mse: 0.0565 - loss: 0.0582 - val_custom_accuracy_without_padding: 0.3836 - val_custom_mse: 0.0587 - val_loss: 0.0600 - learning_rate: 0.0010\n",
            "Epoch 81/500\n",
            "\u001b[1m25/25\u001b[0m \u001b[32m━━━━━━━━━━━━━━━━━━━━\u001b[0m\u001b[37m\u001b[0m \u001b[1m0s\u001b[0m 11ms/step - custom_accuracy_without_padding: 0.3887 - custom_mse: 0.0572 - loss: 0.0589 - val_custom_accuracy_without_padding: 0.3859 - val_custom_mse: 0.0584 - val_loss: 0.0597 - learning_rate: 0.0010\n",
            "Epoch 82/500\n",
            "\u001b[1m25/25\u001b[0m \u001b[32m━━━━━━━━━━━━━━━━━━━━\u001b[0m\u001b[37m\u001b[0m \u001b[1m0s\u001b[0m 10ms/step - custom_accuracy_without_padding: 0.3903 - custom_mse: 0.0571 - loss: 0.0587 - val_custom_accuracy_without_padding: 0.3897 - val_custom_mse: 0.0581 - val_loss: 0.0593 - learning_rate: 0.0010\n",
            "Epoch 83/500\n",
            "\u001b[1m25/25\u001b[0m \u001b[32m━━━━━━━━━━━━━━━━━━━━\u001b[0m\u001b[37m\u001b[0m \u001b[1m0s\u001b[0m 10ms/step - custom_accuracy_without_padding: 0.3931 - custom_mse: 0.0562 - loss: 0.0578 - val_custom_accuracy_without_padding: 0.3894 - val_custom_mse: 0.0578 - val_loss: 0.0591 - learning_rate: 0.0010\n",
            "Epoch 84/500\n",
            "\u001b[1m25/25\u001b[0m \u001b[32m━━━━━━━━━━━━━━━━━━━━\u001b[0m\u001b[37m\u001b[0m \u001b[1m0s\u001b[0m 14ms/step - custom_accuracy_without_padding: 0.3966 - custom_mse: 0.0555 - loss: 0.0571 - val_custom_accuracy_without_padding: 0.3902 - val_custom_mse: 0.0576 - val_loss: 0.0588 - learning_rate: 0.0010\n",
            "Epoch 85/500\n",
            "\u001b[1m25/25\u001b[0m \u001b[32m━━━━━━━━━━━━━━━━━━━━\u001b[0m\u001b[37m\u001b[0m \u001b[1m1s\u001b[0m 15ms/step - custom_accuracy_without_padding: 0.4014 - custom_mse: 0.0559 - loss: 0.0575 - val_custom_accuracy_without_padding: 0.3934 - val_custom_mse: 0.0574 - val_loss: 0.0586 - learning_rate: 0.0010\n",
            "Epoch 86/500\n",
            "\u001b[1m25/25\u001b[0m \u001b[32m━━━━━━━━━━━━━━━━━━━━\u001b[0m\u001b[37m\u001b[0m \u001b[1m1s\u001b[0m 13ms/step - custom_accuracy_without_padding: 0.4017 - custom_mse: 0.0563 - loss: 0.0579 - val_custom_accuracy_without_padding: 0.3965 - val_custom_mse: 0.0572 - val_loss: 0.0584 - learning_rate: 0.0010\n",
            "Epoch 87/500\n",
            "\u001b[1m25/25\u001b[0m \u001b[32m━━━━━━━━━━━━━━━━━━━━\u001b[0m\u001b[37m\u001b[0m \u001b[1m0s\u001b[0m 14ms/step - custom_accuracy_without_padding: 0.4019 - custom_mse: 0.0560 - loss: 0.0576 - val_custom_accuracy_without_padding: 0.3945 - val_custom_mse: 0.0569 - val_loss: 0.0580 - learning_rate: 0.0010\n",
            "Epoch 88/500\n",
            "\u001b[1m25/25\u001b[0m \u001b[32m━━━━━━━━━━━━━━━━━━━━\u001b[0m\u001b[37m\u001b[0m \u001b[1m0s\u001b[0m 12ms/step - custom_accuracy_without_padding: 0.4023 - custom_mse: 0.0555 - loss: 0.0571 - val_custom_accuracy_without_padding: 0.3985 - val_custom_mse: 0.0567 - val_loss: 0.0579 - learning_rate: 0.0010\n",
            "Epoch 89/500\n",
            "\u001b[1m25/25\u001b[0m \u001b[32m━━━━━━━━━━━━━━━━━━━━\u001b[0m\u001b[37m\u001b[0m \u001b[1m0s\u001b[0m 16ms/step - custom_accuracy_without_padding: 0.4065 - custom_mse: 0.0547 - loss: 0.0563 - val_custom_accuracy_without_padding: 0.3993 - val_custom_mse: 0.0567 - val_loss: 0.0578 - learning_rate: 0.0010\n",
            "Epoch 90/500\n",
            "\u001b[1m25/25\u001b[0m \u001b[32m━━━━━━━━━━━━━━━━━━━━\u001b[0m\u001b[37m\u001b[0m \u001b[1m1s\u001b[0m 13ms/step - custom_accuracy_without_padding: 0.4113 - custom_mse: 0.0549 - loss: 0.0565 - val_custom_accuracy_without_padding: 0.4041 - val_custom_mse: 0.0564 - val_loss: 0.0575 - learning_rate: 0.0010\n",
            "Epoch 91/500\n",
            "\u001b[1m25/25\u001b[0m \u001b[32m━━━━━━━━━━━━━━━━━━━━\u001b[0m\u001b[37m\u001b[0m \u001b[1m1s\u001b[0m 13ms/step - custom_accuracy_without_padding: 0.4113 - custom_mse: 0.0544 - loss: 0.0560 - val_custom_accuracy_without_padding: 0.4038 - val_custom_mse: 0.0565 - val_loss: 0.0575 - learning_rate: 0.0010\n",
            "Epoch 92/500\n",
            "\u001b[1m25/25\u001b[0m \u001b[32m━━━━━━━━━━━━━━━━━━━━\u001b[0m\u001b[37m\u001b[0m \u001b[1m1s\u001b[0m 14ms/step - custom_accuracy_without_padding: 0.4118 - custom_mse: 0.0556 - loss: 0.0571 - val_custom_accuracy_without_padding: 0.4079 - val_custom_mse: 0.0563 - val_loss: 0.0574 - learning_rate: 0.0010\n",
            "Epoch 93/500\n",
            "\u001b[1m25/25\u001b[0m \u001b[32m━━━━━━━━━━━━━━━━━━━━\u001b[0m\u001b[37m\u001b[0m \u001b[1m0s\u001b[0m 14ms/step - custom_accuracy_without_padding: 0.4172 - custom_mse: 0.0544 - loss: 0.0559 - val_custom_accuracy_without_padding: 0.4074 - val_custom_mse: 0.0561 - val_loss: 0.0572 - learning_rate: 0.0010\n",
            "Epoch 94/500\n",
            "\u001b[1m25/25\u001b[0m \u001b[32m━━━━━━━━━━━━━━━━━━━━\u001b[0m\u001b[37m\u001b[0m \u001b[1m1s\u001b[0m 14ms/step - custom_accuracy_without_padding: 0.4172 - custom_mse: 0.0551 - loss: 0.0566 - val_custom_accuracy_without_padding: 0.4150 - val_custom_mse: 0.0560 - val_loss: 0.0571 - learning_rate: 0.0010\n",
            "Epoch 95/500\n",
            "\u001b[1m25/25\u001b[0m \u001b[32m━━━━━━━━━━━━━━━━━━━━\u001b[0m\u001b[37m\u001b[0m \u001b[1m0s\u001b[0m 15ms/step - custom_accuracy_without_padding: 0.4198 - custom_mse: 0.0551 - loss: 0.0565 - val_custom_accuracy_without_padding: 0.4147 - val_custom_mse: 0.0560 - val_loss: 0.0570 - learning_rate: 0.0010\n",
            "Epoch 96/500\n",
            "\u001b[1m25/25\u001b[0m \u001b[32m━━━━━━━━━━━━━━━━━━━━\u001b[0m\u001b[37m\u001b[0m \u001b[1m0s\u001b[0m 13ms/step - custom_accuracy_without_padding: 0.4263 - custom_mse: 0.0540 - loss: 0.0555 - val_custom_accuracy_without_padding: 0.4203 - val_custom_mse: 0.0561 - val_loss: 0.0571 - learning_rate: 0.0010\n",
            "Epoch 97/500\n",
            "\u001b[1m25/25\u001b[0m \u001b[32m━━━━━━━━━━━━━━━━━━━━\u001b[0m\u001b[37m\u001b[0m \u001b[1m0s\u001b[0m 15ms/step - custom_accuracy_without_padding: 0.4282 - custom_mse: 0.0540 - loss: 0.0555 - val_custom_accuracy_without_padding: 0.4244 - val_custom_mse: 0.0560 - val_loss: 0.0570 - learning_rate: 0.0010\n",
            "Epoch 98/500\n",
            "\u001b[1m25/25\u001b[0m \u001b[32m━━━━━━━━━━━━━━━━━━━━\u001b[0m\u001b[37m\u001b[0m \u001b[1m0s\u001b[0m 15ms/step - custom_accuracy_without_padding: 0.4291 - custom_mse: 0.0547 - loss: 0.0561 - val_custom_accuracy_without_padding: 0.4256 - val_custom_mse: 0.0558 - val_loss: 0.0569 - learning_rate: 0.0010\n",
            "Epoch 99/500\n",
            "\u001b[1m25/25\u001b[0m \u001b[32m━━━━━━━━━━━━━━━━━━━━\u001b[0m\u001b[37m\u001b[0m \u001b[1m1s\u001b[0m 14ms/step - custom_accuracy_without_padding: 0.4264 - custom_mse: 0.0549 - loss: 0.0563 - val_custom_accuracy_without_padding: 0.4284 - val_custom_mse: 0.0558 - val_loss: 0.0568 - learning_rate: 0.0010\n",
            "Epoch 100/500\n",
            "\u001b[1m25/25\u001b[0m \u001b[32m━━━━━━━━━━━━━━━━━━━━\u001b[0m\u001b[37m\u001b[0m \u001b[1m1s\u001b[0m 22ms/step - custom_accuracy_without_padding: 0.4322 - custom_mse: 0.0539 - loss: 0.0553 - val_custom_accuracy_without_padding: 0.4330 - val_custom_mse: 0.0557 - val_loss: 0.0567 - learning_rate: 0.0010\n",
            "Epoch 101/500\n",
            "\u001b[1m25/25\u001b[0m \u001b[32m━━━━━━━━━━━━━━━━━━━━\u001b[0m\u001b[37m\u001b[0m \u001b[1m1s\u001b[0m 21ms/step - custom_accuracy_without_padding: 0.4316 - custom_mse: 0.0546 - loss: 0.0561 - val_custom_accuracy_without_padding: 0.4320 - val_custom_mse: 0.0557 - val_loss: 0.0567 - learning_rate: 0.0010\n",
            "Epoch 102/500\n",
            "\u001b[1m25/25\u001b[0m \u001b[32m━━━━━━━━━━━━━━━━━━━━\u001b[0m\u001b[37m\u001b[0m \u001b[1m1s\u001b[0m 25ms/step - custom_accuracy_without_padding: 0.4365 - custom_mse: 0.0541 - loss: 0.0555 - val_custom_accuracy_without_padding: 0.4306 - val_custom_mse: 0.0557 - val_loss: 0.0567 - learning_rate: 0.0010\n",
            "Epoch 103/500\n",
            "\u001b[1m25/25\u001b[0m \u001b[32m━━━━━━━━━━━━━━━━━━━━\u001b[0m\u001b[37m\u001b[0m \u001b[1m1s\u001b[0m 21ms/step - custom_accuracy_without_padding: 0.4349 - custom_mse: 0.0545 - loss: 0.0559 - val_custom_accuracy_without_padding: 0.4354 - val_custom_mse: 0.0557 - val_loss: 0.0566 - learning_rate: 0.0010\n",
            "Epoch 104/500\n",
            "\u001b[1m25/25\u001b[0m \u001b[32m━━━━━━━━━━━━━━━━━━━━\u001b[0m\u001b[37m\u001b[0m \u001b[1m0s\u001b[0m 14ms/step - custom_accuracy_without_padding: 0.4384 - custom_mse: 0.0538 - loss: 0.0552 - val_custom_accuracy_without_padding: 0.4314 - val_custom_mse: 0.0556 - val_loss: 0.0566 - learning_rate: 0.0010\n",
            "Epoch 105/500\n",
            "\u001b[1m25/25\u001b[0m \u001b[32m━━━━━━━━━━━━━━━━━━━━\u001b[0m\u001b[37m\u001b[0m \u001b[1m0s\u001b[0m 14ms/step - custom_accuracy_without_padding: 0.4388 - custom_mse: 0.0538 - loss: 0.0552 - val_custom_accuracy_without_padding: 0.4349 - val_custom_mse: 0.0555 - val_loss: 0.0565 - learning_rate: 0.0010\n",
            "Epoch 106/500\n",
            "\u001b[1m25/25\u001b[0m \u001b[32m━━━━━━━━━━━━━━━━━━━━\u001b[0m\u001b[37m\u001b[0m \u001b[1m0s\u001b[0m 13ms/step - custom_accuracy_without_padding: 0.4407 - custom_mse: 0.0539 - loss: 0.0553 - val_custom_accuracy_without_padding: 0.4349 - val_custom_mse: 0.0554 - val_loss: 0.0564 - learning_rate: 0.0010\n",
            "Epoch 107/500\n",
            "\u001b[1m25/25\u001b[0m \u001b[32m━━━━━━━━━━━━━━━━━━━━\u001b[0m\u001b[37m\u001b[0m \u001b[1m1s\u001b[0m 14ms/step - custom_accuracy_without_padding: 0.4409 - custom_mse: 0.0540 - loss: 0.0553 - val_custom_accuracy_without_padding: 0.4368 - val_custom_mse: 0.0554 - val_loss: 0.0563 - learning_rate: 0.0010\n",
            "Epoch 108/500\n",
            "\u001b[1m25/25\u001b[0m \u001b[32m━━━━━━━━━━━━━━━━━━━━\u001b[0m\u001b[37m\u001b[0m \u001b[1m1s\u001b[0m 14ms/step - custom_accuracy_without_padding: 0.4413 - custom_mse: 0.0540 - loss: 0.0554 - val_custom_accuracy_without_padding: 0.4408 - val_custom_mse: 0.0554 - val_loss: 0.0563 - learning_rate: 0.0010\n",
            "Epoch 109/500\n",
            "\u001b[1m25/25\u001b[0m \u001b[32m━━━━━━━━━━━━━━━━━━━━\u001b[0m\u001b[37m\u001b[0m \u001b[1m1s\u001b[0m 12ms/step - custom_accuracy_without_padding: 0.4421 - custom_mse: 0.0540 - loss: 0.0554 - val_custom_accuracy_without_padding: 0.4410 - val_custom_mse: 0.0554 - val_loss: 0.0563 - learning_rate: 0.0010\n",
            "Epoch 110/500\n",
            "\u001b[1m25/25\u001b[0m \u001b[32m━━━━━━━━━━━━━━━━━━━━\u001b[0m\u001b[37m\u001b[0m \u001b[1m1s\u001b[0m 14ms/step - custom_accuracy_without_padding: 0.4413 - custom_mse: 0.0544 - loss: 0.0557 - val_custom_accuracy_without_padding: 0.4401 - val_custom_mse: 0.0553 - val_loss: 0.0562 - learning_rate: 0.0010\n",
            "Epoch 111/500\n",
            "\u001b[1m25/25\u001b[0m \u001b[32m━━━━━━━━━━━━━━━━━━━━\u001b[0m\u001b[37m\u001b[0m \u001b[1m1s\u001b[0m 13ms/step - custom_accuracy_without_padding: 0.4428 - custom_mse: 0.0541 - loss: 0.0554 - val_custom_accuracy_without_padding: 0.4415 - val_custom_mse: 0.0552 - val_loss: 0.0561 - learning_rate: 0.0010\n",
            "Epoch 112/500\n",
            "\u001b[1m25/25\u001b[0m \u001b[32m━━━━━━━━━━━━━━━━━━━━\u001b[0m\u001b[37m\u001b[0m \u001b[1m1s\u001b[0m 13ms/step - custom_accuracy_without_padding: 0.4419 - custom_mse: 0.0535 - loss: 0.0548 - val_custom_accuracy_without_padding: 0.4408 - val_custom_mse: 0.0552 - val_loss: 0.0561 - learning_rate: 0.0010\n",
            "Epoch 113/500\n",
            "\u001b[1m25/25\u001b[0m \u001b[32m━━━━━━━━━━━━━━━━━━━━\u001b[0m\u001b[37m\u001b[0m \u001b[1m1s\u001b[0m 16ms/step - custom_accuracy_without_padding: 0.4461 - custom_mse: 0.0533 - loss: 0.0546 - val_custom_accuracy_without_padding: 0.4398 - val_custom_mse: 0.0552 - val_loss: 0.0561 - learning_rate: 0.0010\n",
            "Epoch 114/500\n",
            "\u001b[1m25/25\u001b[0m \u001b[32m━━━━━━━━━━━━━━━━━━━━\u001b[0m\u001b[37m\u001b[0m \u001b[1m0s\u001b[0m 13ms/step - custom_accuracy_without_padding: 0.4498 - custom_mse: 0.0538 - loss: 0.0551 - val_custom_accuracy_without_padding: 0.4416 - val_custom_mse: 0.0551 - val_loss: 0.0560 - learning_rate: 0.0010\n",
            "Epoch 115/500\n",
            "\u001b[1m25/25\u001b[0m \u001b[32m━━━━━━━━━━━━━━━━━━━━\u001b[0m\u001b[37m\u001b[0m \u001b[1m0s\u001b[0m 14ms/step - custom_accuracy_without_padding: 0.4441 - custom_mse: 0.0542 - loss: 0.0555 - val_custom_accuracy_without_padding: 0.4453 - val_custom_mse: 0.0551 - val_loss: 0.0560 - learning_rate: 0.0010\n",
            "Epoch 116/500\n",
            "\u001b[1m25/25\u001b[0m \u001b[32m━━━━━━━━━━━━━━━━━━━━\u001b[0m\u001b[37m\u001b[0m \u001b[1m0s\u001b[0m 14ms/step - custom_accuracy_without_padding: 0.4471 - custom_mse: 0.0540 - loss: 0.0552 - val_custom_accuracy_without_padding: 0.4411 - val_custom_mse: 0.0551 - val_loss: 0.0559 - learning_rate: 0.0010\n",
            "Epoch 117/500\n",
            "\u001b[1m25/25\u001b[0m \u001b[32m━━━━━━━━━━━━━━━━━━━━\u001b[0m\u001b[37m\u001b[0m \u001b[1m1s\u001b[0m 12ms/step - custom_accuracy_without_padding: 0.4456 - custom_mse: 0.0532 - loss: 0.0544 - val_custom_accuracy_without_padding: 0.4436 - val_custom_mse: 0.0551 - val_loss: 0.0560 - learning_rate: 0.0010\n",
            "Epoch 118/500\n",
            "\u001b[1m25/25\u001b[0m \u001b[32m━━━━━━━━━━━━━━━━━━━━\u001b[0m\u001b[37m\u001b[0m \u001b[1m0s\u001b[0m 15ms/step - custom_accuracy_without_padding: 0.4503 - custom_mse: 0.0533 - loss: 0.0546 - val_custom_accuracy_without_padding: 0.4430 - val_custom_mse: 0.0549 - val_loss: 0.0558 - learning_rate: 0.0010\n",
            "Epoch 119/500\n",
            "\u001b[1m25/25\u001b[0m \u001b[32m━━━━━━━━━━━━━━━━━━━━\u001b[0m\u001b[37m\u001b[0m \u001b[1m0s\u001b[0m 14ms/step - custom_accuracy_without_padding: 0.4483 - custom_mse: 0.0536 - loss: 0.0548 - val_custom_accuracy_without_padding: 0.4466 - val_custom_mse: 0.0551 - val_loss: 0.0559 - learning_rate: 0.0010\n",
            "Epoch 120/500\n",
            "\u001b[1m25/25\u001b[0m \u001b[32m━━━━━━━━━━━━━━━━━━━━\u001b[0m\u001b[37m\u001b[0m \u001b[1m1s\u001b[0m 13ms/step - custom_accuracy_without_padding: 0.4537 - custom_mse: 0.0537 - loss: 0.0549 - val_custom_accuracy_without_padding: 0.4453 - val_custom_mse: 0.0550 - val_loss: 0.0558 - learning_rate: 0.0010\n",
            "Epoch 121/500\n",
            "\u001b[1m25/25\u001b[0m \u001b[32m━━━━━━━━━━━━━━━━━━━━\u001b[0m\u001b[37m\u001b[0m \u001b[1m0s\u001b[0m 12ms/step - custom_accuracy_without_padding: 0.4476 - custom_mse: 0.0541 - loss: 0.0553 - val_custom_accuracy_without_padding: 0.4444 - val_custom_mse: 0.0549 - val_loss: 0.0558 - learning_rate: 0.0010\n",
            "Epoch 122/500\n",
            "\u001b[1m25/25\u001b[0m \u001b[32m━━━━━━━━━━━━━━━━━━━━\u001b[0m\u001b[37m\u001b[0m \u001b[1m0s\u001b[0m 10ms/step - custom_accuracy_without_padding: 0.4462 - custom_mse: 0.0541 - loss: 0.0553 - val_custom_accuracy_without_padding: 0.4463 - val_custom_mse: 0.0549 - val_loss: 0.0557 - learning_rate: 0.0010\n",
            "Epoch 123/500\n",
            "\u001b[1m25/25\u001b[0m \u001b[32m━━━━━━━━━━━━━━━━━━━━\u001b[0m\u001b[37m\u001b[0m \u001b[1m0s\u001b[0m 12ms/step - custom_accuracy_without_padding: 0.4509 - custom_mse: 0.0535 - loss: 0.0547 - val_custom_accuracy_without_padding: 0.4466 - val_custom_mse: 0.0548 - val_loss: 0.0556 - learning_rate: 0.0010\n",
            "Epoch 124/500\n",
            "\u001b[1m25/25\u001b[0m \u001b[32m━━━━━━━━━━━━━━━━━━━━\u001b[0m\u001b[37m\u001b[0m \u001b[1m1s\u001b[0m 26ms/step - custom_accuracy_without_padding: 0.4517 - custom_mse: 0.0538 - loss: 0.0550 - val_custom_accuracy_without_padding: 0.4469 - val_custom_mse: 0.0549 - val_loss: 0.0557 - learning_rate: 0.0010\n",
            "Epoch 125/500\n",
            "\u001b[1m25/25\u001b[0m \u001b[32m━━━━━━━━━━━━━━━━━━━━\u001b[0m\u001b[37m\u001b[0m \u001b[1m1s\u001b[0m 24ms/step - custom_accuracy_without_padding: 0.4552 - custom_mse: 0.0535 - loss: 0.0547 - val_custom_accuracy_without_padding: 0.4449 - val_custom_mse: 0.0548 - val_loss: 0.0556 - learning_rate: 0.0010\n",
            "Epoch 126/500\n",
            "\u001b[1m25/25\u001b[0m \u001b[32m━━━━━━━━━━━━━━━━━━━━\u001b[0m\u001b[37m\u001b[0m \u001b[1m1s\u001b[0m 14ms/step - custom_accuracy_without_padding: 0.4489 - custom_mse: 0.0529 - loss: 0.0541 - val_custom_accuracy_without_padding: 0.4492 - val_custom_mse: 0.0548 - val_loss: 0.0556 - learning_rate: 0.0010\n",
            "Epoch 127/500\n",
            "\u001b[1m25/25\u001b[0m \u001b[32m━━━━━━━━━━━━━━━━━━━━\u001b[0m\u001b[37m\u001b[0m \u001b[1m0s\u001b[0m 14ms/step - custom_accuracy_without_padding: 0.4549 - custom_mse: 0.0531 - loss: 0.0543 - val_custom_accuracy_without_padding: 0.4516 - val_custom_mse: 0.0546 - val_loss: 0.0554 - learning_rate: 0.0010\n",
            "Epoch 128/500\n",
            "\u001b[1m25/25\u001b[0m \u001b[32m━━━━━━━━━━━━━━━━━━━━\u001b[0m\u001b[37m\u001b[0m \u001b[1m0s\u001b[0m 14ms/step - custom_accuracy_without_padding: 0.4562 - custom_mse: 0.0532 - loss: 0.0544 - val_custom_accuracy_without_padding: 0.4517 - val_custom_mse: 0.0547 - val_loss: 0.0554 - learning_rate: 0.0010\n",
            "Epoch 129/500\n",
            "\u001b[1m25/25\u001b[0m \u001b[32m━━━━━━━━━━━━━━━━━━━━\u001b[0m\u001b[37m\u001b[0m \u001b[1m0s\u001b[0m 15ms/step - custom_accuracy_without_padding: 0.4580 - custom_mse: 0.0533 - loss: 0.0544 - val_custom_accuracy_without_padding: 0.4491 - val_custom_mse: 0.0546 - val_loss: 0.0554 - learning_rate: 0.0010\n",
            "Epoch 130/500\n",
            "\u001b[1m25/25\u001b[0m \u001b[32m━━━━━━━━━━━━━━━━━━━━\u001b[0m\u001b[37m\u001b[0m \u001b[1m0s\u001b[0m 14ms/step - custom_accuracy_without_padding: 0.4530 - custom_mse: 0.0536 - loss: 0.0548 - val_custom_accuracy_without_padding: 0.4454 - val_custom_mse: 0.0545 - val_loss: 0.0553 - learning_rate: 0.0010\n",
            "Epoch 131/500\n",
            "\u001b[1m25/25\u001b[0m \u001b[32m━━━━━━━━━━━━━━━━━━━━\u001b[0m\u001b[37m\u001b[0m \u001b[1m1s\u001b[0m 15ms/step - custom_accuracy_without_padding: 0.4557 - custom_mse: 0.0538 - loss: 0.0549 - val_custom_accuracy_without_padding: 0.4496 - val_custom_mse: 0.0546 - val_loss: 0.0553 - learning_rate: 0.0010\n",
            "Epoch 132/500\n",
            "\u001b[1m25/25\u001b[0m \u001b[32m━━━━━━━━━━━━━━━━━━━━\u001b[0m\u001b[37m\u001b[0m \u001b[1m1s\u001b[0m 12ms/step - custom_accuracy_without_padding: 0.4579 - custom_mse: 0.0531 - loss: 0.0542 - val_custom_accuracy_without_padding: 0.4517 - val_custom_mse: 0.0545 - val_loss: 0.0552 - learning_rate: 0.0010\n",
            "Epoch 133/500\n",
            "\u001b[1m25/25\u001b[0m \u001b[32m━━━━━━━━━━━━━━━━━━━━\u001b[0m\u001b[37m\u001b[0m \u001b[1m0s\u001b[0m 12ms/step - custom_accuracy_without_padding: 0.4601 - custom_mse: 0.0525 - loss: 0.0536 - val_custom_accuracy_without_padding: 0.4544 - val_custom_mse: 0.0544 - val_loss: 0.0551 - learning_rate: 0.0010\n",
            "Epoch 134/500\n",
            "\u001b[1m25/25\u001b[0m \u001b[32m━━━━━━━━━━━━━━━━━━━━\u001b[0m\u001b[37m\u001b[0m \u001b[1m0s\u001b[0m 13ms/step - custom_accuracy_without_padding: 0.4595 - custom_mse: 0.0529 - loss: 0.0541 - val_custom_accuracy_without_padding: 0.4549 - val_custom_mse: 0.0543 - val_loss: 0.0550 - learning_rate: 0.0010\n",
            "Epoch 135/500\n",
            "\u001b[1m25/25\u001b[0m \u001b[32m━━━━━━━━━━━━━━━━━━━━\u001b[0m\u001b[37m\u001b[0m \u001b[1m1s\u001b[0m 15ms/step - custom_accuracy_without_padding: 0.4624 - custom_mse: 0.0533 - loss: 0.0544 - val_custom_accuracy_without_padding: 0.4562 - val_custom_mse: 0.0542 - val_loss: 0.0549 - learning_rate: 0.0010\n",
            "Epoch 136/500\n",
            "\u001b[1m25/25\u001b[0m \u001b[32m━━━━━━━━━━━━━━━━━━━━\u001b[0m\u001b[37m\u001b[0m \u001b[1m0s\u001b[0m 10ms/step - custom_accuracy_without_padding: 0.4640 - custom_mse: 0.0530 - loss: 0.0541 - val_custom_accuracy_without_padding: 0.4563 - val_custom_mse: 0.0543 - val_loss: 0.0549 - learning_rate: 0.0010\n",
            "Epoch 137/500\n",
            "\u001b[1m25/25\u001b[0m \u001b[32m━━━━━━━━━━━━━━━━━━━━\u001b[0m\u001b[37m\u001b[0m \u001b[1m0s\u001b[0m 11ms/step - custom_accuracy_without_padding: 0.4618 - custom_mse: 0.0524 - loss: 0.0535 - val_custom_accuracy_without_padding: 0.4595 - val_custom_mse: 0.0541 - val_loss: 0.0548 - learning_rate: 0.0010\n",
            "Epoch 138/500\n",
            "\u001b[1m25/25\u001b[0m \u001b[32m━━━━━━━━━━━━━━━━━━━━\u001b[0m\u001b[37m\u001b[0m \u001b[1m0s\u001b[0m 10ms/step - custom_accuracy_without_padding: 0.4637 - custom_mse: 0.0528 - loss: 0.0539 - val_custom_accuracy_without_padding: 0.4582 - val_custom_mse: 0.0540 - val_loss: 0.0546 - learning_rate: 0.0010\n",
            "Epoch 139/500\n",
            "\u001b[1m25/25\u001b[0m \u001b[32m━━━━━━━━━━━━━━━━━━━━\u001b[0m\u001b[37m\u001b[0m \u001b[1m0s\u001b[0m 14ms/step - custom_accuracy_without_padding: 0.4586 - custom_mse: 0.0532 - loss: 0.0543 - val_custom_accuracy_without_padding: 0.4590 - val_custom_mse: 0.0539 - val_loss: 0.0546 - learning_rate: 0.0010\n",
            "Epoch 140/500\n",
            "\u001b[1m25/25\u001b[0m \u001b[32m━━━━━━━━━━━━━━━━━━━━\u001b[0m\u001b[37m\u001b[0m \u001b[1m1s\u001b[0m 14ms/step - custom_accuracy_without_padding: 0.4690 - custom_mse: 0.0517 - loss: 0.0528 - val_custom_accuracy_without_padding: 0.4592 - val_custom_mse: 0.0538 - val_loss: 0.0545 - learning_rate: 0.0010\n",
            "Epoch 141/500\n",
            "\u001b[1m25/25\u001b[0m \u001b[32m━━━━━━━━━━━━━━━━━━━━\u001b[0m\u001b[37m\u001b[0m \u001b[1m0s\u001b[0m 14ms/step - custom_accuracy_without_padding: 0.4643 - custom_mse: 0.0530 - loss: 0.0541 - val_custom_accuracy_without_padding: 0.4608 - val_custom_mse: 0.0539 - val_loss: 0.0545 - learning_rate: 0.0010\n",
            "Epoch 142/500\n",
            "\u001b[1m25/25\u001b[0m \u001b[32m━━━━━━━━━━━━━━━━━━━━\u001b[0m\u001b[37m\u001b[0m \u001b[1m0s\u001b[0m 14ms/step - custom_accuracy_without_padding: 0.4694 - custom_mse: 0.0527 - loss: 0.0537 - val_custom_accuracy_without_padding: 0.4605 - val_custom_mse: 0.0539 - val_loss: 0.0545 - learning_rate: 0.0010\n",
            "Epoch 143/500\n",
            "\u001b[1m25/25\u001b[0m \u001b[32m━━━━━━━━━━━━━━━━━━━━\u001b[0m\u001b[37m\u001b[0m \u001b[1m0s\u001b[0m 14ms/step - custom_accuracy_without_padding: 0.4660 - custom_mse: 0.0524 - loss: 0.0535 - val_custom_accuracy_without_padding: 0.4618 - val_custom_mse: 0.0537 - val_loss: 0.0543 - learning_rate: 0.0010\n",
            "Epoch 144/500\n",
            "\u001b[1m25/25\u001b[0m \u001b[32m━━━━━━━━━━━━━━━━━━━━\u001b[0m\u001b[37m\u001b[0m \u001b[1m1s\u001b[0m 13ms/step - custom_accuracy_without_padding: 0.4706 - custom_mse: 0.0526 - loss: 0.0536 - val_custom_accuracy_without_padding: 0.4628 - val_custom_mse: 0.0535 - val_loss: 0.0541 - learning_rate: 0.0010\n",
            "Epoch 145/500\n",
            "\u001b[1m25/25\u001b[0m \u001b[32m━━━━━━━━━━━━━━━━━━━━\u001b[0m\u001b[37m\u001b[0m \u001b[1m1s\u001b[0m 11ms/step - custom_accuracy_without_padding: 0.4672 - custom_mse: 0.0526 - loss: 0.0536 - val_custom_accuracy_without_padding: 0.4640 - val_custom_mse: 0.0535 - val_loss: 0.0540 - learning_rate: 0.0010\n",
            "Epoch 146/500\n",
            "\u001b[1m25/25\u001b[0m \u001b[32m━━━━━━━━━━━━━━━━━━━━\u001b[0m\u001b[37m\u001b[0m \u001b[1m0s\u001b[0m 10ms/step - custom_accuracy_without_padding: 0.4668 - custom_mse: 0.0519 - loss: 0.0529 - val_custom_accuracy_without_padding: 0.4623 - val_custom_mse: 0.0534 - val_loss: 0.0540 - learning_rate: 0.0010\n",
            "Epoch 147/500\n",
            "\u001b[1m25/25\u001b[0m \u001b[32m━━━━━━━━━━━━━━━━━━━━\u001b[0m\u001b[37m\u001b[0m \u001b[1m0s\u001b[0m 15ms/step - custom_accuracy_without_padding: 0.4677 - custom_mse: 0.0523 - loss: 0.0533 - val_custom_accuracy_without_padding: 0.4625 - val_custom_mse: 0.0534 - val_loss: 0.0540 - learning_rate: 0.0010\n",
            "Epoch 148/500\n",
            "\u001b[1m25/25\u001b[0m \u001b[32m━━━━━━━━━━━━━━━━━━━━\u001b[0m\u001b[37m\u001b[0m \u001b[1m1s\u001b[0m 27ms/step - custom_accuracy_without_padding: 0.4637 - custom_mse: 0.0528 - loss: 0.0538 - val_custom_accuracy_without_padding: 0.4646 - val_custom_mse: 0.0533 - val_loss: 0.0539 - learning_rate: 0.0010\n",
            "Epoch 149/500\n",
            "\u001b[1m25/25\u001b[0m \u001b[32m━━━━━━━━━━━━━━━━━━━━\u001b[0m\u001b[37m\u001b[0m \u001b[1m1s\u001b[0m 25ms/step - custom_accuracy_without_padding: 0.4670 - custom_mse: 0.0519 - loss: 0.0529 - val_custom_accuracy_without_padding: 0.4628 - val_custom_mse: 0.0532 - val_loss: 0.0538 - learning_rate: 0.0010\n",
            "Epoch 150/500\n",
            "\u001b[1m25/25\u001b[0m \u001b[32m━━━━━━━━━━━━━━━━━━━━\u001b[0m\u001b[37m\u001b[0m \u001b[1m0s\u001b[0m 16ms/step - custom_accuracy_without_padding: 0.4682 - custom_mse: 0.0524 - loss: 0.0534 - val_custom_accuracy_without_padding: 0.4658 - val_custom_mse: 0.0531 - val_loss: 0.0537 - learning_rate: 0.0010\n",
            "Epoch 151/500\n",
            "\u001b[1m25/25\u001b[0m \u001b[32m━━━━━━━━━━━━━━━━━━━━\u001b[0m\u001b[37m\u001b[0m \u001b[1m0s\u001b[0m 14ms/step - custom_accuracy_without_padding: 0.4696 - custom_mse: 0.0517 - loss: 0.0526 - val_custom_accuracy_without_padding: 0.4621 - val_custom_mse: 0.0532 - val_loss: 0.0537 - learning_rate: 0.0010\n",
            "Epoch 152/500\n",
            "\u001b[1m25/25\u001b[0m \u001b[32m━━━━━━━━━━━━━━━━━━━━\u001b[0m\u001b[37m\u001b[0m \u001b[1m0s\u001b[0m 16ms/step - custom_accuracy_without_padding: 0.4698 - custom_mse: 0.0519 - loss: 0.0529 - val_custom_accuracy_without_padding: 0.4635 - val_custom_mse: 0.0530 - val_loss: 0.0535 - learning_rate: 0.0010\n",
            "Epoch 153/500\n",
            "\u001b[1m25/25\u001b[0m \u001b[32m━━━━━━━━━━━━━━━━━━━━\u001b[0m\u001b[37m\u001b[0m \u001b[1m0s\u001b[0m 11ms/step - custom_accuracy_without_padding: 0.4682 - custom_mse: 0.0522 - loss: 0.0531 - val_custom_accuracy_without_padding: 0.4645 - val_custom_mse: 0.0529 - val_loss: 0.0535 - learning_rate: 0.0010\n",
            "Epoch 154/500\n",
            "\u001b[1m25/25\u001b[0m \u001b[32m━━━━━━━━━━━━━━━━━━━━\u001b[0m\u001b[37m\u001b[0m \u001b[1m0s\u001b[0m 10ms/step - custom_accuracy_without_padding: 0.4688 - custom_mse: 0.0515 - loss: 0.0525 - val_custom_accuracy_without_padding: 0.4658 - val_custom_mse: 0.0530 - val_loss: 0.0535 - learning_rate: 0.0010\n",
            "Epoch 155/500\n",
            "\u001b[1m25/25\u001b[0m \u001b[32m━━━━━━━━━━━━━━━━━━━━\u001b[0m\u001b[37m\u001b[0m \u001b[1m0s\u001b[0m 12ms/step - custom_accuracy_without_padding: 0.4717 - custom_mse: 0.0515 - loss: 0.0525 - val_custom_accuracy_without_padding: 0.4661 - val_custom_mse: 0.0529 - val_loss: 0.0534 - learning_rate: 0.0010\n",
            "Epoch 156/500\n",
            "\u001b[1m25/25\u001b[0m \u001b[32m━━━━━━━━━━━━━━━━━━━━\u001b[0m\u001b[37m\u001b[0m \u001b[1m1s\u001b[0m 15ms/step - custom_accuracy_without_padding: 0.4696 - custom_mse: 0.0520 - loss: 0.0530 - val_custom_accuracy_without_padding: 0.4654 - val_custom_mse: 0.0528 - val_loss: 0.0534 - learning_rate: 0.0010\n",
            "Epoch 157/500\n",
            "\u001b[1m25/25\u001b[0m \u001b[32m━━━━━━━━━━━━━━━━━━━━\u001b[0m\u001b[37m\u001b[0m \u001b[1m0s\u001b[0m 15ms/step - custom_accuracy_without_padding: 0.4703 - custom_mse: 0.0520 - loss: 0.0529 - val_custom_accuracy_without_padding: 0.4678 - val_custom_mse: 0.0527 - val_loss: 0.0532 - learning_rate: 0.0010\n",
            "Epoch 158/500\n",
            "\u001b[1m25/25\u001b[0m \u001b[32m━━━━━━━━━━━━━━━━━━━━\u001b[0m\u001b[37m\u001b[0m \u001b[1m1s\u001b[0m 10ms/step - custom_accuracy_without_padding: 0.4681 - custom_mse: 0.0519 - loss: 0.0528 - val_custom_accuracy_without_padding: 0.4635 - val_custom_mse: 0.0527 - val_loss: 0.0533 - learning_rate: 0.0010\n",
            "Epoch 159/500\n",
            "\u001b[1m25/25\u001b[0m \u001b[32m━━━━━━━━━━━━━━━━━━━━\u001b[0m\u001b[37m\u001b[0m \u001b[1m0s\u001b[0m 12ms/step - custom_accuracy_without_padding: 0.4699 - custom_mse: 0.0517 - loss: 0.0526 - val_custom_accuracy_without_padding: 0.4666 - val_custom_mse: 0.0529 - val_loss: 0.0534 - learning_rate: 0.0010\n",
            "Epoch 160/500\n",
            "\u001b[1m25/25\u001b[0m \u001b[32m━━━━━━━━━━━━━━━━━━━━\u001b[0m\u001b[37m\u001b[0m \u001b[1m0s\u001b[0m 12ms/step - custom_accuracy_without_padding: 0.4697 - custom_mse: 0.0519 - loss: 0.0528 - val_custom_accuracy_without_padding: 0.4683 - val_custom_mse: 0.0526 - val_loss: 0.0531 - learning_rate: 0.0010\n",
            "Epoch 161/500\n",
            "\u001b[1m25/25\u001b[0m \u001b[32m━━━━━━━━━━━━━━━━━━━━\u001b[0m\u001b[37m\u001b[0m \u001b[1m0s\u001b[0m 11ms/step - custom_accuracy_without_padding: 0.4703 - custom_mse: 0.0522 - loss: 0.0531 - val_custom_accuracy_without_padding: 0.4674 - val_custom_mse: 0.0527 - val_loss: 0.0532 - learning_rate: 0.0010\n",
            "Epoch 162/500\n",
            "\u001b[1m25/25\u001b[0m \u001b[32m━━━━━━━━━━━━━━━━━━━━\u001b[0m\u001b[37m\u001b[0m \u001b[1m0s\u001b[0m 11ms/step - custom_accuracy_without_padding: 0.4693 - custom_mse: 0.0518 - loss: 0.0528 - val_custom_accuracy_without_padding: 0.4688 - val_custom_mse: 0.0525 - val_loss: 0.0530 - learning_rate: 0.0010\n",
            "Epoch 163/500\n",
            "\u001b[1m25/25\u001b[0m \u001b[32m━━━━━━━━━━━━━━━━━━━━\u001b[0m\u001b[37m\u001b[0m \u001b[1m0s\u001b[0m 12ms/step - custom_accuracy_without_padding: 0.4696 - custom_mse: 0.0517 - loss: 0.0526 - val_custom_accuracy_without_padding: 0.4694 - val_custom_mse: 0.0524 - val_loss: 0.0529 - learning_rate: 0.0010\n",
            "Epoch 164/500\n",
            "\u001b[1m25/25\u001b[0m \u001b[32m━━━━━━━━━━━━━━━━━━━━\u001b[0m\u001b[37m\u001b[0m \u001b[1m0s\u001b[0m 10ms/step - custom_accuracy_without_padding: 0.4694 - custom_mse: 0.0519 - loss: 0.0528 - val_custom_accuracy_without_padding: 0.4689 - val_custom_mse: 0.0526 - val_loss: 0.0530 - learning_rate: 0.0010\n",
            "Epoch 165/500\n",
            "\u001b[1m25/25\u001b[0m \u001b[32m━━━━━━━━━━━━━━━━━━━━\u001b[0m\u001b[37m\u001b[0m \u001b[1m0s\u001b[0m 11ms/step - custom_accuracy_without_padding: 0.4720 - custom_mse: 0.0513 - loss: 0.0522 - val_custom_accuracy_without_padding: 0.4669 - val_custom_mse: 0.0523 - val_loss: 0.0528 - learning_rate: 0.0010\n",
            "Epoch 166/500\n",
            "\u001b[1m25/25\u001b[0m \u001b[32m━━━━━━━━━━━━━━━━━━━━\u001b[0m\u001b[37m\u001b[0m \u001b[1m0s\u001b[0m 12ms/step - custom_accuracy_without_padding: 0.4689 - custom_mse: 0.0519 - loss: 0.0528 - val_custom_accuracy_without_padding: 0.4663 - val_custom_mse: 0.0523 - val_loss: 0.0528 - learning_rate: 0.0010\n",
            "Epoch 167/500\n",
            "\u001b[1m25/25\u001b[0m \u001b[32m━━━━━━━━━━━━━━━━━━━━\u001b[0m\u001b[37m\u001b[0m \u001b[1m0s\u001b[0m 11ms/step - custom_accuracy_without_padding: 0.4729 - custom_mse: 0.0510 - loss: 0.0519 - val_custom_accuracy_without_padding: 0.4668 - val_custom_mse: 0.0524 - val_loss: 0.0528 - learning_rate: 0.0010\n",
            "Epoch 168/500\n",
            "\u001b[1m25/25\u001b[0m \u001b[32m━━━━━━━━━━━━━━━━━━━━\u001b[0m\u001b[37m\u001b[0m \u001b[1m0s\u001b[0m 10ms/step - custom_accuracy_without_padding: 0.4706 - custom_mse: 0.0512 - loss: 0.0521 - val_custom_accuracy_without_padding: 0.4678 - val_custom_mse: 0.0523 - val_loss: 0.0528 - learning_rate: 0.0010\n",
            "Epoch 169/500\n",
            "\u001b[1m25/25\u001b[0m \u001b[32m━━━━━━━━━━━━━━━━━━━━\u001b[0m\u001b[37m\u001b[0m \u001b[1m0s\u001b[0m 12ms/step - custom_accuracy_without_padding: 0.4714 - custom_mse: 0.0514 - loss: 0.0523 - val_custom_accuracy_without_padding: 0.4714 - val_custom_mse: 0.0522 - val_loss: 0.0527 - learning_rate: 0.0010\n",
            "Epoch 170/500\n",
            "\u001b[1m25/25\u001b[0m \u001b[32m━━━━━━━━━━━━━━━━━━━━\u001b[0m\u001b[37m\u001b[0m \u001b[1m0s\u001b[0m 14ms/step - custom_accuracy_without_padding: 0.4715 - custom_mse: 0.0512 - loss: 0.0521 - val_custom_accuracy_without_padding: 0.4717 - val_custom_mse: 0.0522 - val_loss: 0.0527 - learning_rate: 0.0010\n",
            "Epoch 171/500\n",
            "\u001b[1m25/25\u001b[0m \u001b[32m━━━━━━━━━━━━━━━━━━━━\u001b[0m\u001b[37m\u001b[0m \u001b[1m0s\u001b[0m 14ms/step - custom_accuracy_without_padding: 0.4760 - custom_mse: 0.0509 - loss: 0.0518 - val_custom_accuracy_without_padding: 0.4714 - val_custom_mse: 0.0523 - val_loss: 0.0528 - learning_rate: 0.0010\n",
            "Epoch 172/500\n",
            "\u001b[1m25/25\u001b[0m \u001b[32m━━━━━━━━━━━━━━━━━━━━\u001b[0m\u001b[37m\u001b[0m \u001b[1m1s\u001b[0m 13ms/step - custom_accuracy_without_padding: 0.4710 - custom_mse: 0.0515 - loss: 0.0524 - val_custom_accuracy_without_padding: 0.4735 - val_custom_mse: 0.0521 - val_loss: 0.0526 - learning_rate: 0.0010\n",
            "Epoch 173/500\n",
            "\u001b[1m25/25\u001b[0m \u001b[32m━━━━━━━━━━━━━━━━━━━━\u001b[0m\u001b[37m\u001b[0m \u001b[1m0s\u001b[0m 14ms/step - custom_accuracy_without_padding: 0.4775 - custom_mse: 0.0513 - loss: 0.0522 - val_custom_accuracy_without_padding: 0.4691 - val_custom_mse: 0.0521 - val_loss: 0.0526 - learning_rate: 0.0010\n",
            "Epoch 174/500\n",
            "\u001b[1m25/25\u001b[0m \u001b[32m━━━━━━━━━━━━━━━━━━━━\u001b[0m\u001b[37m\u001b[0m \u001b[1m1s\u001b[0m 10ms/step - custom_accuracy_without_padding: 0.4694 - custom_mse: 0.0511 - loss: 0.0519 - val_custom_accuracy_without_padding: 0.4716 - val_custom_mse: 0.0521 - val_loss: 0.0526 - learning_rate: 0.0010\n",
            "Epoch 175/500\n",
            "\u001b[1m25/25\u001b[0m \u001b[32m━━━━━━━━━━━━━━━━━━━━\u001b[0m\u001b[37m\u001b[0m \u001b[1m0s\u001b[0m 11ms/step - custom_accuracy_without_padding: 0.4744 - custom_mse: 0.0509 - loss: 0.0518 - val_custom_accuracy_without_padding: 0.4727 - val_custom_mse: 0.0519 - val_loss: 0.0524 - learning_rate: 0.0010\n",
            "Epoch 176/500\n",
            "\u001b[1m25/25\u001b[0m \u001b[32m━━━━━━━━━━━━━━━━━━━━\u001b[0m\u001b[37m\u001b[0m \u001b[1m0s\u001b[0m 10ms/step - custom_accuracy_without_padding: 0.4751 - custom_mse: 0.0507 - loss: 0.0516 - val_custom_accuracy_without_padding: 0.4719 - val_custom_mse: 0.0520 - val_loss: 0.0525 - learning_rate: 0.0010\n",
            "Epoch 177/500\n",
            "\u001b[1m25/25\u001b[0m \u001b[32m━━━━━━━━━━━━━━━━━━━━\u001b[0m\u001b[37m\u001b[0m \u001b[1m0s\u001b[0m 18ms/step - custom_accuracy_without_padding: 0.4750 - custom_mse: 0.0512 - loss: 0.0520 - val_custom_accuracy_without_padding: 0.4711 - val_custom_mse: 0.0522 - val_loss: 0.0527 - learning_rate: 0.0010\n",
            "Epoch 178/500\n",
            "\u001b[1m25/25\u001b[0m \u001b[32m━━━━━━━━━━━━━━━━━━━━\u001b[0m\u001b[37m\u001b[0m \u001b[1m1s\u001b[0m 16ms/step - custom_accuracy_without_padding: 0.4758 - custom_mse: 0.0515 - loss: 0.0523 - val_custom_accuracy_without_padding: 0.4732 - val_custom_mse: 0.0520 - val_loss: 0.0525 - learning_rate: 0.0010\n",
            "Epoch 179/500\n",
            "\u001b[1m25/25\u001b[0m \u001b[32m━━━━━━━━━━━━━━━━━━━━\u001b[0m\u001b[37m\u001b[0m \u001b[1m0s\u001b[0m 16ms/step - custom_accuracy_without_padding: 0.4742 - custom_mse: 0.0513 - loss: 0.0521 - val_custom_accuracy_without_padding: 0.4717 - val_custom_mse: 0.0519 - val_loss: 0.0524 - learning_rate: 0.0010\n",
            "Epoch 180/500\n",
            "\u001b[1m21/25\u001b[0m \u001b[32m━━━━━━━━━━━━━━━━\u001b[0m\u001b[37m━━━━\u001b[0m \u001b[1m0s\u001b[0m 11ms/step - custom_accuracy_without_padding: 0.4737 - custom_mse: 0.0511 - loss: 0.0519\n",
            "Epoch 180: ReduceLROnPlateau reducing learning rate to 0.0005000000237487257.\n",
            "\u001b[1m25/25\u001b[0m \u001b[32m━━━━━━━━━━━━━━━━━━━━\u001b[0m\u001b[37m\u001b[0m \u001b[1m0s\u001b[0m 17ms/step - custom_accuracy_without_padding: 0.4738 - custom_mse: 0.0511 - loss: 0.0519 - val_custom_accuracy_without_padding: 0.4754 - val_custom_mse: 0.0520 - val_loss: 0.0525 - learning_rate: 0.0010\n",
            "Epoch 181/500\n",
            "\u001b[1m25/25\u001b[0m \u001b[32m━━━━━━━━━━━━━━━━━━━━\u001b[0m\u001b[37m\u001b[0m \u001b[1m1s\u001b[0m 21ms/step - custom_accuracy_without_padding: 0.4764 - custom_mse: 0.0508 - loss: 0.0516 - val_custom_accuracy_without_padding: 0.4711 - val_custom_mse: 0.0518 - val_loss: 0.0523 - learning_rate: 5.0000e-04\n",
            "Epoch 182/500\n",
            "\u001b[1m25/25\u001b[0m \u001b[32m━━━━━━━━━━━━━━━━━━━━\u001b[0m\u001b[37m\u001b[0m \u001b[1m0s\u001b[0m 15ms/step - custom_accuracy_without_padding: 0.4775 - custom_mse: 0.0506 - loss: 0.0514 - val_custom_accuracy_without_padding: 0.4749 - val_custom_mse: 0.0518 - val_loss: 0.0523 - learning_rate: 5.0000e-04\n",
            "Epoch 183/500\n",
            "\u001b[1m25/25\u001b[0m \u001b[32m━━━━━━━━━━━━━━━━━━━━\u001b[0m\u001b[37m\u001b[0m \u001b[1m1s\u001b[0m 13ms/step - custom_accuracy_without_padding: 0.4750 - custom_mse: 0.0509 - loss: 0.0517 - val_custom_accuracy_without_padding: 0.4721 - val_custom_mse: 0.0518 - val_loss: 0.0523 - learning_rate: 5.0000e-04\n",
            "Epoch 184/500\n",
            "\u001b[1m25/25\u001b[0m \u001b[32m━━━━━━━━━━━━━━━━━━━━\u001b[0m\u001b[37m\u001b[0m \u001b[1m0s\u001b[0m 15ms/step - custom_accuracy_without_padding: 0.4758 - custom_mse: 0.0509 - loss: 0.0517 - val_custom_accuracy_without_padding: 0.4724 - val_custom_mse: 0.0518 - val_loss: 0.0523 - learning_rate: 5.0000e-04\n",
            "Epoch 185/500\n",
            "\u001b[1m25/25\u001b[0m \u001b[32m━━━━━━━━━━━━━━━━━━━━\u001b[0m\u001b[37m\u001b[0m \u001b[1m0s\u001b[0m 14ms/step - custom_accuracy_without_padding: 0.4770 - custom_mse: 0.0506 - loss: 0.0514 - val_custom_accuracy_without_padding: 0.4739 - val_custom_mse: 0.0518 - val_loss: 0.0523 - learning_rate: 5.0000e-04\n",
            "Epoch 186/500\n",
            "\u001b[1m25/25\u001b[0m \u001b[32m━━━━━━━━━━━━━━━━━━━━\u001b[0m\u001b[37m\u001b[0m \u001b[1m0s\u001b[0m 11ms/step - custom_accuracy_without_padding: 0.4729 - custom_mse: 0.0507 - loss: 0.0515 - val_custom_accuracy_without_padding: 0.4737 - val_custom_mse: 0.0517 - val_loss: 0.0522 - learning_rate: 5.0000e-04\n",
            "Epoch 187/500\n",
            "\u001b[1m25/25\u001b[0m \u001b[32m━━━━━━━━━━━━━━━━━━━━\u001b[0m\u001b[37m\u001b[0m \u001b[1m0s\u001b[0m 11ms/step - custom_accuracy_without_padding: 0.4785 - custom_mse: 0.0507 - loss: 0.0515 - val_custom_accuracy_without_padding: 0.4757 - val_custom_mse: 0.0517 - val_loss: 0.0522 - learning_rate: 5.0000e-04\n",
            "Epoch 188/500\n",
            "\u001b[1m25/25\u001b[0m \u001b[32m━━━━━━━━━━━━━━━━━━━━\u001b[0m\u001b[37m\u001b[0m \u001b[1m0s\u001b[0m 12ms/step - custom_accuracy_without_padding: 0.4787 - custom_mse: 0.0507 - loss: 0.0515 - val_custom_accuracy_without_padding: 0.4759 - val_custom_mse: 0.0517 - val_loss: 0.0522 - learning_rate: 5.0000e-04\n",
            "Epoch 189/500\n",
            "\u001b[1m25/25\u001b[0m \u001b[32m━━━━━━━━━━━━━━━━━━━━\u001b[0m\u001b[37m\u001b[0m \u001b[1m1s\u001b[0m 30ms/step - custom_accuracy_without_padding: 0.4769 - custom_mse: 0.0508 - loss: 0.0516 - val_custom_accuracy_without_padding: 0.4754 - val_custom_mse: 0.0517 - val_loss: 0.0522 - learning_rate: 5.0000e-04\n",
            "Epoch 190/500\n",
            "\u001b[1m25/25\u001b[0m \u001b[32m━━━━━━━━━━━━━━━━━━━━\u001b[0m\u001b[37m\u001b[0m \u001b[1m0s\u001b[0m 13ms/step - custom_accuracy_without_padding: 0.4774 - custom_mse: 0.0504 - loss: 0.0512 - val_custom_accuracy_without_padding: 0.4737 - val_custom_mse: 0.0517 - val_loss: 0.0522 - learning_rate: 5.0000e-04\n",
            "Epoch 191/500\n",
            "\u001b[1m25/25\u001b[0m \u001b[32m━━━━━━━━━━━━━━━━━━━━\u001b[0m\u001b[37m\u001b[0m \u001b[1m0s\u001b[0m 9ms/step - custom_accuracy_without_padding: 0.4778 - custom_mse: 0.0512 - loss: 0.0520\n",
            "Epoch 191: ReduceLROnPlateau reducing learning rate to 0.0002500000118743628.\n",
            "\u001b[1m25/25\u001b[0m \u001b[32m━━━━━━━━━━━━━━━━━━━━\u001b[0m\u001b[37m\u001b[0m \u001b[1m0s\u001b[0m 14ms/step - custom_accuracy_without_padding: 0.4778 - custom_mse: 0.0512 - loss: 0.0520 - val_custom_accuracy_without_padding: 0.4777 - val_custom_mse: 0.0517 - val_loss: 0.0521 - learning_rate: 5.0000e-04\n",
            "Epoch 192/500\n",
            "\u001b[1m25/25\u001b[0m \u001b[32m━━━━━━━━━━━━━━━━━━━━\u001b[0m\u001b[37m\u001b[0m \u001b[1m1s\u001b[0m 15ms/step - custom_accuracy_without_padding: 0.4777 - custom_mse: 0.0505 - loss: 0.0512 - val_custom_accuracy_without_padding: 0.4765 - val_custom_mse: 0.0517 - val_loss: 0.0522 - learning_rate: 2.5000e-04\n",
            "Epoch 193/500\n",
            "\u001b[1m25/25\u001b[0m \u001b[32m━━━━━━━━━━━━━━━━━━━━\u001b[0m\u001b[37m\u001b[0m \u001b[1m0s\u001b[0m 17ms/step - custom_accuracy_without_padding: 0.4770 - custom_mse: 0.0511 - loss: 0.0519 - val_custom_accuracy_without_padding: 0.4770 - val_custom_mse: 0.0516 - val_loss: 0.0521 - learning_rate: 2.5000e-04\n",
            "Epoch 194/500\n",
            "\u001b[1m25/25\u001b[0m \u001b[32m━━━━━━━━━━━━━━━━━━━━\u001b[0m\u001b[37m\u001b[0m \u001b[1m1s\u001b[0m 13ms/step - custom_accuracy_without_padding: 0.4769 - custom_mse: 0.0503 - loss: 0.0511 - val_custom_accuracy_without_padding: 0.4769 - val_custom_mse: 0.0516 - val_loss: 0.0521 - learning_rate: 2.5000e-04\n",
            "Epoch 195/500\n",
            "\u001b[1m25/25\u001b[0m \u001b[32m━━━━━━━━━━━━━━━━━━━━\u001b[0m\u001b[37m\u001b[0m \u001b[1m1s\u001b[0m 11ms/step - custom_accuracy_without_padding: 0.4782 - custom_mse: 0.0511 - loss: 0.0518 - val_custom_accuracy_without_padding: 0.4762 - val_custom_mse: 0.0517 - val_loss: 0.0521 - learning_rate: 2.5000e-04\n",
            "Epoch 196/500\n",
            "\u001b[1m20/25\u001b[0m \u001b[32m━━━━━━━━━━━━━━━━\u001b[0m\u001b[37m━━━━\u001b[0m \u001b[1m0s\u001b[0m 9ms/step - custom_accuracy_without_padding: 0.4789 - custom_mse: 0.0507 - loss: 0.0515\n",
            "Epoch 196: ReduceLROnPlateau reducing learning rate to 0.0001250000059371814.\n",
            "\u001b[1m25/25\u001b[0m \u001b[32m━━━━━━━━━━━━━━━━━━━━\u001b[0m\u001b[37m\u001b[0m \u001b[1m1s\u001b[0m 14ms/step - custom_accuracy_without_padding: 0.4787 - custom_mse: 0.0507 - loss: 0.0515 - val_custom_accuracy_without_padding: 0.4772 - val_custom_mse: 0.0517 - val_loss: 0.0521 - learning_rate: 2.5000e-04\n",
            "Epoch 197/500\n",
            "\u001b[1m25/25\u001b[0m \u001b[32m━━━━━━━━━━━━━━━━━━━━\u001b[0m\u001b[37m\u001b[0m \u001b[1m1s\u001b[0m 14ms/step - custom_accuracy_without_padding: 0.4767 - custom_mse: 0.0512 - loss: 0.0519 - val_custom_accuracy_without_padding: 0.4759 - val_custom_mse: 0.0516 - val_loss: 0.0521 - learning_rate: 1.2500e-04\n",
            "Epoch 198/500\n",
            "\u001b[1m25/25\u001b[0m \u001b[32m━━━━━━━━━━━━━━━━━━━━\u001b[0m\u001b[37m\u001b[0m \u001b[1m0s\u001b[0m 12ms/step - custom_accuracy_without_padding: 0.4791 - custom_mse: 0.0505 - loss: 0.0513 - val_custom_accuracy_without_padding: 0.4755 - val_custom_mse: 0.0516 - val_loss: 0.0521 - learning_rate: 1.2500e-04\n",
            "Epoch 199/500\n",
            "\u001b[1m25/25\u001b[0m \u001b[32m━━━━━━━━━━━━━━━━━━━━\u001b[0m\u001b[37m\u001b[0m \u001b[1m0s\u001b[0m 14ms/step - custom_accuracy_without_padding: 0.4812 - custom_mse: 0.0506 - loss: 0.0514 - val_custom_accuracy_without_padding: 0.4767 - val_custom_mse: 0.0516 - val_loss: 0.0521 - learning_rate: 1.2500e-04\n",
            "Epoch 200/500\n",
            "\u001b[1m25/25\u001b[0m \u001b[32m━━━━━━━━━━━━━━━━━━━━\u001b[0m\u001b[37m\u001b[0m \u001b[1m0s\u001b[0m 13ms/step - custom_accuracy_without_padding: 0.4812 - custom_mse: 0.0506 - loss: 0.0514 - val_custom_accuracy_without_padding: 0.4762 - val_custom_mse: 0.0516 - val_loss: 0.0521 - learning_rate: 1.2500e-04\n",
            "Epoch 201/500\n",
            "\u001b[1m25/25\u001b[0m \u001b[32m━━━━━━━━━━━━━━━━━━━━\u001b[0m\u001b[37m\u001b[0m \u001b[1m0s\u001b[0m 13ms/step - custom_accuracy_without_padding: 0.4797 - custom_mse: 0.0507 - loss: 0.0514 - val_custom_accuracy_without_padding: 0.4765 - val_custom_mse: 0.0516 - val_loss: 0.0521 - learning_rate: 1.2500e-04\n",
            "Epoch 202/500\n",
            "\u001b[1m25/25\u001b[0m \u001b[32m━━━━━━━━━━━━━━━━━━━━\u001b[0m\u001b[37m\u001b[0m \u001b[1m0s\u001b[0m 14ms/step - custom_accuracy_without_padding: 0.4782 - custom_mse: 0.0502 - loss: 0.0510 - val_custom_accuracy_without_padding: 0.4754 - val_custom_mse: 0.0516 - val_loss: 0.0521 - learning_rate: 1.2500e-04\n",
            "Epoch 203/500\n",
            "\u001b[1m25/25\u001b[0m \u001b[32m━━━━━━━━━━━━━━━━━━━━\u001b[0m\u001b[37m\u001b[0m \u001b[1m1s\u001b[0m 21ms/step - custom_accuracy_without_padding: 0.4766 - custom_mse: 0.0508 - loss: 0.0515 - val_custom_accuracy_without_padding: 0.4773 - val_custom_mse: 0.0516 - val_loss: 0.0521 - learning_rate: 1.2500e-04\n",
            "Epoch 204/500\n",
            "\u001b[1m24/25\u001b[0m \u001b[32m━━━━━━━━━━━━━━━━━━━\u001b[0m\u001b[37m━\u001b[0m \u001b[1m0s\u001b[0m 15ms/step - custom_accuracy_without_padding: 0.4769 - custom_mse: 0.0512 - loss: 0.0520\n",
            "Epoch 204: ReduceLROnPlateau reducing learning rate to 6.25000029685907e-05.\n",
            "\u001b[1m25/25\u001b[0m \u001b[32m━━━━━━━━━━━━━━━━━━━━\u001b[0m\u001b[37m\u001b[0m \u001b[1m1s\u001b[0m 23ms/step - custom_accuracy_without_padding: 0.4770 - custom_mse: 0.0512 - loss: 0.0520 - val_custom_accuracy_without_padding: 0.4765 - val_custom_mse: 0.0516 - val_loss: 0.0521 - learning_rate: 1.2500e-04\n",
            "Epoch 205/500\n",
            "\u001b[1m25/25\u001b[0m \u001b[32m━━━━━━━━━━━━━━━━━━━━\u001b[0m\u001b[37m\u001b[0m \u001b[1m1s\u001b[0m 21ms/step - custom_accuracy_without_padding: 0.4822 - custom_mse: 0.0507 - loss: 0.0514 - val_custom_accuracy_without_padding: 0.4762 - val_custom_mse: 0.0516 - val_loss: 0.0521 - learning_rate: 6.2500e-05\n",
            "Epoch 206/500\n",
            "\u001b[1m25/25\u001b[0m \u001b[32m━━━━━━━━━━━━━━━━━━━━\u001b[0m\u001b[37m\u001b[0m \u001b[1m1s\u001b[0m 24ms/step - custom_accuracy_without_padding: 0.4770 - custom_mse: 0.0509 - loss: 0.0516 - val_custom_accuracy_without_padding: 0.4765 - val_custom_mse: 0.0516 - val_loss: 0.0521 - learning_rate: 6.2500e-05\n",
            "Epoch 207/500\n",
            "\u001b[1m25/25\u001b[0m \u001b[32m━━━━━━━━━━━━━━━━━━━━\u001b[0m\u001b[37m\u001b[0m \u001b[1m1s\u001b[0m 27ms/step - custom_accuracy_without_padding: 0.4755 - custom_mse: 0.0509 - loss: 0.0517 - val_custom_accuracy_without_padding: 0.4765 - val_custom_mse: 0.0516 - val_loss: 0.0521 - learning_rate: 6.2500e-05\n",
            "Epoch 208/500\n",
            "\u001b[1m25/25\u001b[0m \u001b[32m━━━━━━━━━━━━━━━━━━━━\u001b[0m\u001b[37m\u001b[0m \u001b[1m0s\u001b[0m 12ms/step - custom_accuracy_without_padding: 0.4776 - custom_mse: 0.0504 - loss: 0.0512 - val_custom_accuracy_without_padding: 0.4754 - val_custom_mse: 0.0516 - val_loss: 0.0521 - learning_rate: 6.2500e-05\n",
            "Epoch 209/500\n",
            "\u001b[1m21/25\u001b[0m \u001b[32m━━━━━━━━━━━━━━━━\u001b[0m\u001b[37m━━━━\u001b[0m \u001b[1m0s\u001b[0m 8ms/step - custom_accuracy_without_padding: 0.4764 - custom_mse: 0.0513 - loss: 0.0521\n",
            "Epoch 209: ReduceLROnPlateau reducing learning rate to 3.125000148429535e-05.\n",
            "\u001b[1m25/25\u001b[0m \u001b[32m━━━━━━━━━━━━━━━━━━━━\u001b[0m\u001b[37m\u001b[0m \u001b[1m0s\u001b[0m 12ms/step - custom_accuracy_without_padding: 0.4768 - custom_mse: 0.0512 - loss: 0.0520 - val_custom_accuracy_without_padding: 0.4757 - val_custom_mse: 0.0516 - val_loss: 0.0521 - learning_rate: 6.2500e-05\n",
            "Epoch 210/500\n",
            "\u001b[1m25/25\u001b[0m \u001b[32m━━━━━━━━━━━━━━━━━━━━\u001b[0m\u001b[37m\u001b[0m \u001b[1m1s\u001b[0m 16ms/step - custom_accuracy_without_padding: 0.4775 - custom_mse: 0.0509 - loss: 0.0517 - val_custom_accuracy_without_padding: 0.4760 - val_custom_mse: 0.0516 - val_loss: 0.0521 - learning_rate: 3.1250e-05\n",
            "Epoch 211/500\n",
            "\u001b[1m25/25\u001b[0m \u001b[32m━━━━━━━━━━━━━━━━━━━━\u001b[0m\u001b[37m\u001b[0m \u001b[1m1s\u001b[0m 15ms/step - custom_accuracy_without_padding: 0.4809 - custom_mse: 0.0501 - loss: 0.0509 - val_custom_accuracy_without_padding: 0.4762 - val_custom_mse: 0.0516 - val_loss: 0.0521 - learning_rate: 3.1250e-05\n",
            "Epoch 212/500\n",
            "\u001b[1m25/25\u001b[0m \u001b[32m━━━━━━━━━━━━━━━━━━━━\u001b[0m\u001b[37m\u001b[0m \u001b[1m0s\u001b[0m 12ms/step - custom_accuracy_without_padding: 0.4817 - custom_mse: 0.0497 - loss: 0.0505 - val_custom_accuracy_without_padding: 0.4760 - val_custom_mse: 0.0516 - val_loss: 0.0521 - learning_rate: 3.1250e-05\n",
            "Epoch 213/500\n",
            "\u001b[1m25/25\u001b[0m \u001b[32m━━━━━━━━━━━━━━━━━━━━\u001b[0m\u001b[37m\u001b[0m \u001b[1m1s\u001b[0m 13ms/step - custom_accuracy_without_padding: 0.4776 - custom_mse: 0.0504 - loss: 0.0512 - val_custom_accuracy_without_padding: 0.4760 - val_custom_mse: 0.0516 - val_loss: 0.0521 - learning_rate: 3.1250e-05\n",
            "Epoch 214/500\n",
            "\u001b[1m21/25\u001b[0m \u001b[32m━━━━━━━━━━━━━━━━\u001b[0m\u001b[37m━━━━\u001b[0m \u001b[1m0s\u001b[0m 11ms/step - custom_accuracy_without_padding: 0.4853 - custom_mse: 0.0494 - loss: 0.0501\n",
            "Epoch 214: ReduceLROnPlateau reducing learning rate to 1.5625000742147677e-05.\n",
            "\u001b[1m25/25\u001b[0m \u001b[32m━━━━━━━━━━━━━━━━━━━━\u001b[0m\u001b[37m\u001b[0m \u001b[1m0s\u001b[0m 17ms/step - custom_accuracy_without_padding: 0.4840 - custom_mse: 0.0496 - loss: 0.0504 - val_custom_accuracy_without_padding: 0.4759 - val_custom_mse: 0.0516 - val_loss: 0.0521 - learning_rate: 3.1250e-05\n",
            "Epoch 215/500\n",
            "\u001b[1m25/25\u001b[0m \u001b[32m━━━━━━━━━━━━━━━━━━━━\u001b[0m\u001b[37m\u001b[0m \u001b[1m0s\u001b[0m 14ms/step - custom_accuracy_without_padding: 0.4800 - custom_mse: 0.0501 - loss: 0.0508 - val_custom_accuracy_without_padding: 0.4762 - val_custom_mse: 0.0516 - val_loss: 0.0521 - learning_rate: 1.5625e-05\n",
            "Epoch 216/500\n",
            "\u001b[1m25/25\u001b[0m \u001b[32m━━━━━━━━━━━━━━━━━━━━\u001b[0m\u001b[37m\u001b[0m \u001b[1m1s\u001b[0m 13ms/step - custom_accuracy_without_padding: 0.4786 - custom_mse: 0.0505 - loss: 0.0513 - val_custom_accuracy_without_padding: 0.4760 - val_custom_mse: 0.0516 - val_loss: 0.0521 - learning_rate: 1.5625e-05\n",
            "Epoch 217/500\n",
            "\u001b[1m25/25\u001b[0m \u001b[32m━━━━━━━━━━━━━━━━━━━━\u001b[0m\u001b[37m\u001b[0m \u001b[1m0s\u001b[0m 11ms/step - custom_accuracy_without_padding: 0.4772 - custom_mse: 0.0511 - loss: 0.0518 - val_custom_accuracy_without_padding: 0.4762 - val_custom_mse: 0.0516 - val_loss: 0.0521 - learning_rate: 1.5625e-05\n",
            "Epoch 218/500\n",
            "\u001b[1m25/25\u001b[0m \u001b[32m━━━━━━━━━━━━━━━━━━━━\u001b[0m\u001b[37m\u001b[0m \u001b[1m0s\u001b[0m 13ms/step - custom_accuracy_without_padding: 0.4821 - custom_mse: 0.0501 - loss: 0.0509 - val_custom_accuracy_without_padding: 0.4764 - val_custom_mse: 0.0516 - val_loss: 0.0521 - learning_rate: 1.5625e-05\n",
            "Epoch 219/500\n",
            "\u001b[1m21/25\u001b[0m \u001b[32m━━━━━━━━━━━━━━━━\u001b[0m\u001b[37m━━━━\u001b[0m \u001b[1m0s\u001b[0m 11ms/step - custom_accuracy_without_padding: 0.4806 - custom_mse: 0.0505 - loss: 0.0512\n",
            "Epoch 219: ReduceLROnPlateau reducing learning rate to 7.812500371073838e-06.\n",
            "\u001b[1m25/25\u001b[0m \u001b[32m━━━━━━━━━━━━━━━━━━━━\u001b[0m\u001b[37m\u001b[0m \u001b[1m1s\u001b[0m 17ms/step - custom_accuracy_without_padding: 0.4803 - custom_mse: 0.0505 - loss: 0.0513 - val_custom_accuracy_without_padding: 0.4762 - val_custom_mse: 0.0516 - val_loss: 0.0521 - learning_rate: 1.5625e-05\n",
            "Epoch 220/500\n",
            "\u001b[1m25/25\u001b[0m \u001b[32m━━━━━━━━━━━━━━━━━━━━\u001b[0m\u001b[37m\u001b[0m \u001b[1m1s\u001b[0m 13ms/step - custom_accuracy_without_padding: 0.4777 - custom_mse: 0.0513 - loss: 0.0521 - val_custom_accuracy_without_padding: 0.4762 - val_custom_mse: 0.0516 - val_loss: 0.0521 - learning_rate: 7.8125e-06\n",
            "Epoch 221/500\n",
            "\u001b[1m25/25\u001b[0m \u001b[32m━━━━━━━━━━━━━━━━━━━━\u001b[0m\u001b[37m\u001b[0m \u001b[1m0s\u001b[0m 12ms/step - custom_accuracy_without_padding: 0.4766 - custom_mse: 0.0510 - loss: 0.0517 - val_custom_accuracy_without_padding: 0.4760 - val_custom_mse: 0.0516 - val_loss: 0.0521 - learning_rate: 7.8125e-06\n",
            "Epoch 222/500\n",
            "\u001b[1m25/25\u001b[0m \u001b[32m━━━━━━━━━━━━━━━━━━━━\u001b[0m\u001b[37m\u001b[0m \u001b[1m0s\u001b[0m 12ms/step - custom_accuracy_without_padding: 0.4796 - custom_mse: 0.0506 - loss: 0.0513 - val_custom_accuracy_without_padding: 0.4760 - val_custom_mse: 0.0516 - val_loss: 0.0521 - learning_rate: 7.8125e-06\n",
            "Epoch 223/500\n",
            "\u001b[1m25/25\u001b[0m \u001b[32m━━━━━━━━━━━━━━━━━━━━\u001b[0m\u001b[37m\u001b[0m \u001b[1m1s\u001b[0m 12ms/step - custom_accuracy_without_padding: 0.4792 - custom_mse: 0.0506 - loss: 0.0514 - val_custom_accuracy_without_padding: 0.4760 - val_custom_mse: 0.0516 - val_loss: 0.0521 - learning_rate: 7.8125e-06\n",
            "Epoch 224/500\n",
            "\u001b[1m20/25\u001b[0m \u001b[32m━━━━━━━━━━━━━━━━\u001b[0m\u001b[37m━━━━\u001b[0m \u001b[1m0s\u001b[0m 9ms/step - custom_accuracy_without_padding: 0.4816 - custom_mse: 0.0497 - loss: 0.0505\n",
            "Epoch 224: ReduceLROnPlateau reducing learning rate to 3.906250185536919e-06.\n",
            "\u001b[1m25/25\u001b[0m \u001b[32m━━━━━━━━━━━━━━━━━━━━\u001b[0m\u001b[37m\u001b[0m \u001b[1m0s\u001b[0m 14ms/step - custom_accuracy_without_padding: 0.4809 - custom_mse: 0.0499 - loss: 0.0507 - val_custom_accuracy_without_padding: 0.4762 - val_custom_mse: 0.0516 - val_loss: 0.0521 - learning_rate: 7.8125e-06\n",
            "Epoch 225/500\n",
            "\u001b[1m25/25\u001b[0m \u001b[32m━━━━━━━━━━━━━━━━━━━━\u001b[0m\u001b[37m\u001b[0m \u001b[1m0s\u001b[0m 16ms/step - custom_accuracy_without_padding: 0.4771 - custom_mse: 0.0509 - loss: 0.0517 - val_custom_accuracy_without_padding: 0.4762 - val_custom_mse: 0.0516 - val_loss: 0.0521 - learning_rate: 3.9063e-06\n",
            "Epoch 226/500\n",
            "\u001b[1m25/25\u001b[0m \u001b[32m━━━━━━━━━━━━━━━━━━━━\u001b[0m\u001b[37m\u001b[0m \u001b[1m1s\u001b[0m 16ms/step - custom_accuracy_without_padding: 0.4776 - custom_mse: 0.0506 - loss: 0.0514 - val_custom_accuracy_without_padding: 0.4762 - val_custom_mse: 0.0516 - val_loss: 0.0521 - learning_rate: 3.9063e-06\n",
            "Epoch 227/500\n",
            "\u001b[1m25/25\u001b[0m \u001b[32m━━━━━━━━━━━━━━━━━━━━\u001b[0m\u001b[37m\u001b[0m \u001b[1m1s\u001b[0m 15ms/step - custom_accuracy_without_padding: 0.4809 - custom_mse: 0.0507 - loss: 0.0514 - val_custom_accuracy_without_padding: 0.4762 - val_custom_mse: 0.0516 - val_loss: 0.0521 - learning_rate: 3.9063e-06\n",
            "Epoch 228/500\n",
            "\u001b[1m25/25\u001b[0m \u001b[32m━━━━━━━━━━━━━━━━━━━━\u001b[0m\u001b[37m\u001b[0m \u001b[1m1s\u001b[0m 21ms/step - custom_accuracy_without_padding: 0.4786 - custom_mse: 0.0506 - loss: 0.0514 - val_custom_accuracy_without_padding: 0.4762 - val_custom_mse: 0.0516 - val_loss: 0.0521 - learning_rate: 3.9063e-06\n",
            "Epoch 229/500\n",
            "\u001b[1m20/25\u001b[0m \u001b[32m━━━━━━━━━━━━━━━━\u001b[0m\u001b[37m━━━━\u001b[0m \u001b[1m0s\u001b[0m 12ms/step - custom_accuracy_without_padding: 0.4838 - custom_mse: 0.0505 - loss: 0.0513\n",
            "Epoch 229: ReduceLROnPlateau reducing learning rate to 1.9531250927684596e-06.\n",
            "\u001b[1m25/25\u001b[0m \u001b[32m━━━━━━━━━━━━━━━━━━━━\u001b[0m\u001b[37m\u001b[0m \u001b[1m0s\u001b[0m 17ms/step - custom_accuracy_without_padding: 0.4826 - custom_mse: 0.0505 - loss: 0.0513 - val_custom_accuracy_without_padding: 0.4762 - val_custom_mse: 0.0516 - val_loss: 0.0521 - learning_rate: 3.9063e-06\n",
            "Epoch 230/500\n",
            "\u001b[1m25/25\u001b[0m \u001b[32m━━━━━━━━━━━━━━━━━━━━\u001b[0m\u001b[37m\u001b[0m \u001b[1m1s\u001b[0m 19ms/step - custom_accuracy_without_padding: 0.4796 - custom_mse: 0.0508 - loss: 0.0516 - val_custom_accuracy_without_padding: 0.4762 - val_custom_mse: 0.0516 - val_loss: 0.0521 - learning_rate: 1.9531e-06\n",
            "Epoch 231/500\n",
            "\u001b[1m25/25\u001b[0m \u001b[32m━━━━━━━━━━━━━━━━━━━━\u001b[0m\u001b[37m\u001b[0m \u001b[1m1s\u001b[0m 19ms/step - custom_accuracy_without_padding: 0.4773 - custom_mse: 0.0506 - loss: 0.0514 - val_custom_accuracy_without_padding: 0.4762 - val_custom_mse: 0.0516 - val_loss: 0.0521 - learning_rate: 1.9531e-06\n",
            "Epoch 232/500\n",
            "\u001b[1m25/25\u001b[0m \u001b[32m━━━━━━━━━━━━━━━━━━━━\u001b[0m\u001b[37m\u001b[0m \u001b[1m1s\u001b[0m 19ms/step - custom_accuracy_without_padding: 0.4796 - custom_mse: 0.0503 - loss: 0.0511 - val_custom_accuracy_without_padding: 0.4762 - val_custom_mse: 0.0516 - val_loss: 0.0521 - learning_rate: 1.9531e-06\n",
            "Epoch 233/500\n",
            "\u001b[1m25/25\u001b[0m \u001b[32m━━━━━━━━━━━━━━━━━━━━\u001b[0m\u001b[37m\u001b[0m \u001b[1m0s\u001b[0m 13ms/step - custom_accuracy_without_padding: 0.4782 - custom_mse: 0.0505 - loss: 0.0513 - val_custom_accuracy_without_padding: 0.4762 - val_custom_mse: 0.0516 - val_loss: 0.0521 - learning_rate: 1.9531e-06\n",
            "Epoch 234/500\n",
            "\u001b[1m23/25\u001b[0m \u001b[32m━━━━━━━━━━━━━━━━━━\u001b[0m\u001b[37m━━\u001b[0m \u001b[1m0s\u001b[0m 7ms/step - custom_accuracy_without_padding: 0.4804 - custom_mse: 0.0503 - loss: 0.0510\n",
            "Epoch 234: ReduceLROnPlateau reducing learning rate to 9.765625463842298e-07.\n",
            "\u001b[1m25/25\u001b[0m \u001b[32m━━━━━━━━━━━━━━━━━━━━\u001b[0m\u001b[37m\u001b[0m \u001b[1m1s\u001b[0m 13ms/step - custom_accuracy_without_padding: 0.4803 - custom_mse: 0.0503 - loss: 0.0511 - val_custom_accuracy_without_padding: 0.4762 - val_custom_mse: 0.0516 - val_loss: 0.0521 - learning_rate: 1.9531e-06\n",
            "Epoch 235/500\n",
            "\u001b[1m25/25\u001b[0m \u001b[32m━━━━━━━━━━━━━━━━━━━━\u001b[0m\u001b[37m\u001b[0m \u001b[1m1s\u001b[0m 11ms/step - custom_accuracy_without_padding: 0.4757 - custom_mse: 0.0511 - loss: 0.0519 - val_custom_accuracy_without_padding: 0.4762 - val_custom_mse: 0.0516 - val_loss: 0.0521 - learning_rate: 9.7656e-07\n",
            "Epoch 236/500\n",
            "\u001b[1m25/25\u001b[0m \u001b[32m━━━━━━━━━━━━━━━━━━━━\u001b[0m\u001b[37m\u001b[0m \u001b[1m0s\u001b[0m 13ms/step - custom_accuracy_without_padding: 0.4751 - custom_mse: 0.0509 - loss: 0.0517 - val_custom_accuracy_without_padding: 0.4762 - val_custom_mse: 0.0516 - val_loss: 0.0521 - learning_rate: 9.7656e-07\n",
            "Epoch 237/500\n",
            "\u001b[1m25/25\u001b[0m \u001b[32m━━━━━━━━━━━━━━━━━━━━\u001b[0m\u001b[37m\u001b[0m \u001b[1m1s\u001b[0m 15ms/step - custom_accuracy_without_padding: 0.4828 - custom_mse: 0.0504 - loss: 0.0512 - val_custom_accuracy_without_padding: 0.4762 - val_custom_mse: 0.0516 - val_loss: 0.0521 - learning_rate: 9.7656e-07\n",
            "Epoch 238/500\n",
            "\u001b[1m25/25\u001b[0m \u001b[32m━━━━━━━━━━━━━━━━━━━━\u001b[0m\u001b[37m\u001b[0m \u001b[1m0s\u001b[0m 13ms/step - custom_accuracy_without_padding: 0.4769 - custom_mse: 0.0507 - loss: 0.0514 - val_custom_accuracy_without_padding: 0.4762 - val_custom_mse: 0.0516 - val_loss: 0.0521 - learning_rate: 9.7656e-07\n"
          ]
        }
      ],
      "source": [
        "history = model.fit(\n",
        "    [X_real_train, X_imag_train],\n",
        "    y_train,\n",
        "    epochs=500,\n",
        "    batch_size=32,\n",
        "    validation_data=([X_real_test, X_imag_test], y_test),\n",
        "    callbacks=[adjust_lr, early_stopping]\n",
        ")"
      ]
    },
    {
      "cell_type": "markdown",
      "metadata": {
        "id": "sdTEAalW7iId"
      },
      "source": [
        "Evaluate"
      ]
    },
    {
      "cell_type": "code",
      "execution_count": 78,
      "metadata": {
        "colab": {
          "base_uri": "https://localhost:8080/"
        },
        "id": "VTR1e_VB7jSD",
        "outputId": "42a7e656-eaf1-4023-973c-6cab2a739856"
      },
      "outputs": [
        {
          "name": "stdout",
          "output_type": "stream",
          "text": [
            "\u001b[1m7/7\u001b[0m \u001b[32m━━━━━━━━━━━━━━━━━━━━\u001b[0m\u001b[37m\u001b[0m \u001b[1m0s\u001b[0m 7ms/step - custom_accuracy_without_padding: 0.4788 - custom_mse: 0.0503 - loss: 0.0510 \n",
            "Test results - Loss: 0.05205358564853668, MSE: 0.05160055682063103, Accuracy: 0.4761905074119568\n"
          ]
        }
      ],
      "source": [
        "# Evaluate the model on the test set\n",
        "eval_results = model.evaluate([X_real_test, X_imag_test], y_test)\n",
        "print(f\"Test results - Loss: {eval_results[0]}, MSE: {eval_results[1]}, Accuracy: {eval_results[2]}\")"
      ]
    },
    {
      "cell_type": "code",
      "execution_count": 79,
      "metadata": {
        "colab": {
          "base_uri": "https://localhost:8080/",
          "height": 487
        },
        "id": "KUzLnrru7j8g",
        "outputId": "7c42e2e9-458a-4a41-dc6b-5d482d603b6a"
      },
      "outputs": [
        {
          "data": {
            "image/png": "[encoded data removed]",
            "text/plain": [
              "<Figure size 1200x500 with 2 Axes>"
            ]
          },
          "metadata": {},
          "output_type": "display_data"
        }
      ],
      "source": [
        "import matplotlib.pyplot as plt\n",
        "\n",
        "plt.figure(figsize=(12, 5))\n",
        "\n",
        "plt.subplot(1, 2, 1)\n",
        "plt.plot(history.history['loss'], label='Training Loss')\n",
        "plt.plot(history.history['val_loss'], label='Validation Loss')\n",
        "plt.title('Loss Over Epochs')\n",
        "plt.xlabel('Epochs')\n",
        "plt.ylabel('MSE Loss')\n",
        "plt.legend()\n",
        "\n",
        "plt.subplot(1, 2, 2)\n",
        "plt.plot(history.history['custom_accuracy_without_padding'], label='Training Accuracy')\n",
        "plt.plot(history.history['val_custom_accuracy_without_padding'], label='Validation Accuracy')\n",
        "plt.title('Accuracy Over Epochs')\n",
        "plt.xlabel('Epochs')\n",
        "plt.ylabel('Accuracy (%)')\n",
        "plt.legend()\n",
        "\n",
        "plt.show()"
      ]
    },
    {
      "cell_type": "code",
      "execution_count": 80,
      "metadata": {
        "colab": {
          "base_uri": "https://localhost:8080/"
        },
        "id": "-oE06hol7ldu",
        "outputId": "6570dc97-ec40-418e-e073-aad5b4a008ea"
      },
      "outputs": [
        {
          "name": "stdout",
          "output_type": "stream",
          "text": [
            "\u001b[1m7/7\u001b[0m \u001b[32m━━━━━━━━━━━━━━━━━━━━\u001b[0m\u001b[37m\u001b[0m \u001b[1m2s\u001b[0m 135ms/step\n",
            "R² Score: 0.3815\n"
          ]
        }
      ],
      "source": [
        "from sklearn.metrics import r2_score\n",
        "\n",
        "y_pred = model.predict([X_real_test, X_imag_test])\n",
        "\n",
        "r2 = r2_score(y_test, y_pred)\n",
        "\n",
        "print(f\"R² Score: {r2:.4f}\")"
      ]
    },
    {
      "cell_type": "code",
      "execution_count": 81,
      "metadata": {
        "colab": {
          "base_uri": "https://localhost:8080/"
        },
        "id": "qzFpgUhX7m-u",
        "outputId": "5e361702-0d3b-49b7-825c-eb9eba818efa"
      },
      "outputs": [
        {
          "name": "stdout",
          "output_type": "stream",
          "text": [
            "\u001b[1m7/7\u001b[0m \u001b[32m━━━━━━━━━━━━━━━━━━━━\u001b[0m\u001b[37m\u001b[0m \u001b[1m0s\u001b[0m 8ms/step \n",
            "Comparison of predictions and ground truth:\n",
            "Sample 1:\n",
            "  Predicted:    [3 3 3 3 3 3 3 3 3 3 3 3 3 2 3 2 5 1 4 3 4 4 6 5 2 3 1 0 0 0 0 0]\n",
            "  Ground Truth: [5 6 5 1 3 4 1 1 6 2 3 1 4 0 3 2 5 1 4 3 4 4 6 5 2 3 1 0 0 0 0 0]\n",
            "----------------------------------------\n",
            "Sample 2:\n",
            "  Predicted:    [3 3 3 3 3 3 3 3 3 3 3 3 3 3 4 1 1 1 0 1 1 5 2 1 4 0 4 0 0 0 0 0]\n",
            "  Ground Truth: [1 4 1 3 3 3 0 5 5 2 4 3 3 1 3 1 1 2 0 1 1 5 2 1 4 0 4 0 0 0 0 0]\n",
            "----------------------------------------\n",
            "Sample 3:\n",
            "  Predicted:    [3 3 3 3 3 3 3 3 3 3 3 3 3 4 2 3 5 1 4 6 0 4 3 2 3 4 4 0 0 0 0 0]\n",
            "  Ground Truth: [2 6 0 2 2 1 3 4 2 6 4 1 0 5 2 3 5 1 4 6 0 4 3 2 3 4 4 0 0 0 0 0]\n",
            "----------------------------------------\n"
          ]
        }
      ],
      "source": [
        "y_pred = model.predict([X_real_test, X_imag_test])\n",
        "y_test_rescaled = y_test * (q - 1)\n",
        "y_pred_rescaled = y_pred * (q - 1)\n",
        "\n",
        "print(\"Comparison of predictions and ground truth:\")\n",
        "for i in range(3):\n",
        "    print(f\"Sample {i+1}:\")\n",
        "    print(f\"  Predicted:    {np.round(y_pred_rescaled[i]).astype(int)}\")\n",
        "    print(f\"  Ground Truth: {np.round(y_test_rescaled[i]).astype(int)}\")\n",
        "    print(\"-\" * 40)"
      ]
    },
    {
      "cell_type": "markdown",
      "metadata": {
        "id": "NVHVWjrd7v7N"
      },
      "source": [
        "Test on Unseen Samples"
      ]
    },
    {
      "cell_type": "code",
      "execution_count": 81,
      "metadata": {
        "id": "qUUlrNBb7xqG"
      },
      "outputs": [],
      "source": []
    }
  ],
  "metadata": {
    "colab": {
      "provenance": []
    },
    "kernelspec": {
      "display_name": "Python 3",
      "name": "python3"
    },
    "language_info": {
      "name": "python"
    }
  },
  "nbformat": 4,
  "nbformat_minor": 0
}
