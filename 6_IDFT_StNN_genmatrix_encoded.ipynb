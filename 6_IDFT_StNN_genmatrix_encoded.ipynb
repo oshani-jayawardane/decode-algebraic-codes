{
  "cells": [
    {
      "cell_type": "markdown",
      "metadata": {
        "id": "dkjKooLOZB--"
      },
      "source": [
        "### Parallel IDFT Model on Gen Matrix Encoded Data"
      ]
    },
    {
      "cell_type": "code",
      "execution_count": 164,
      "metadata": {
        "id": "8m_ze_Sj4q4A"
      },
      "outputs": [],
      "source": [
        "# (r + 1) | (q - 1)\n",
        "# (r + 1) | n\n",
        "# q is a prime number\n",
        "# n = 2^t\n",
        "# r < n"
      ]
    },
    {
      "cell_type": "code",
      "execution_count": 165,
      "metadata": {
        "colab": {
          "base_uri": "https://localhost:8080/"
        },
        "id": "5Ccmbx6f4zPw",
        "outputId": "1d4c8af6-f4fa-45ca-e2b5-4fab7975e534"
      },
      "outputs": [
        {
          "output_type": "execute_result",
          "data": {
            "text/plain": [
              "0"
            ]
          },
          "metadata": {},
          "execution_count": 165
        }
      ],
      "source": [
        "%reset -f\n",
        "import gc\n",
        "gc.collect()"
      ]
    },
    {
      "cell_type": "code",
      "execution_count": 166,
      "metadata": {
        "id": "rhVrn-AO40rv"
      },
      "outputs": [],
      "source": [
        "global w0\n",
        "global z0\n",
        "\n",
        "w0 = 4\n",
        "z0 = 3\n",
        "\n",
        "n = 27\n",
        "q = 7\n",
        "num_samples = 1000\n",
        "\n",
        "num_unseen_samples = 20"
      ]
    },
    {
      "cell_type": "code",
      "execution_count": 167,
      "metadata": {
        "id": "te9xSExt45Xb"
      },
      "outputs": [],
      "source": [
        "import numpy as np\n",
        "import tensorflow as tf\n",
        "\n",
        "np.random.seed(42)"
      ]
    },
    {
      "cell_type": "code",
      "execution_count": 168,
      "metadata": {
        "colab": {
          "base_uri": "https://localhost:8080/"
        },
        "id": "Me5-3Y8v42D0",
        "outputId": "38a279e3-9fcf-4baa-db1f-04b0b75b2b88"
      },
      "outputs": [
        {
          "output_type": "stream",
          "name": "stdout",
          "text": [
            "Original n: 27\n",
            "Padded n: 32\n",
            "Generated dataset shape: (1000, 32)\n"
          ]
        }
      ],
      "source": [
        "def next_power_of_two(x):\n",
        "    return 1 if x == 0 else 2**(x - 1).bit_length()\n",
        "\n",
        "n_padded = next_power_of_two(n)\n",
        "\n",
        "dataset = np.random.randint(0, q, size=(num_samples, n))\n",
        "\n",
        "if n_padded > n:\n",
        "    pad_width = n_padded - n\n",
        "    dataset = np.pad(dataset, ((0, 0), (0, pad_width)), mode='constant', constant_values=0)\n",
        "\n",
        "print(\"Original n:\", n)\n",
        "print(\"Padded n:\", n_padded)\n",
        "print(\"Generated dataset shape:\", dataset.shape)"
      ]
    },
    {
      "cell_type": "code",
      "execution_count": 169,
      "metadata": {
        "colab": {
          "base_uri": "https://localhost:8080/"
        },
        "id": "VuGqeiKM453b",
        "outputId": "3c20bdd0-345d-4ad6-93a5-6242ef72dc44"
      },
      "outputs": [
        {
          "output_type": "stream",
          "name": "stdout",
          "text": [
            "[[6 3 4 ... 0 0 0]\n",
            " [1 5 4 ... 0 0 0]\n",
            " [0 6 1 ... 0 0 0]\n",
            " ...\n",
            " [4 1 1 ... 0 0 0]\n",
            " [6 1 2 ... 0 0 0]\n",
            " [1 5 4 ... 0 0 0]]\n"
          ]
        }
      ],
      "source": [
        "print(dataset)"
      ]
    },
    {
      "cell_type": "markdown",
      "metadata": {
        "id": "7xcJ1tae4-C0"
      },
      "source": [
        "$$\n",
        "\\tilde{M}_{kj} = \\left[ \\left( \\frac{w_0}{z_0} \\right)^j \\zeta^{kj} \\right]_{k,j=0}^{n-1}\n",
        "$$"
      ]
    },
    {
      "cell_type": "code",
      "execution_count": 170,
      "metadata": {
        "id": "k7J3o1bA48XS"
      },
      "outputs": [],
      "source": [
        "def padded_generator_matrix(N, w0, z0):\n",
        "    n = np.arange(N)\n",
        "    k = n.reshape((N, 1))\n",
        "    zeta = np.exp(-2j * np.pi / N)\n",
        "    M_tilde = ((w0 / z0) ** n) * (zeta ** (k * n))\n",
        "    return M_tilde"
      ]
    },
    {
      "cell_type": "code",
      "execution_count": 171,
      "metadata": {
        "colab": {
          "base_uri": "https://localhost:8080/"
        },
        "id": "TBG-7uZo4_20",
        "outputId": "0168b4d6-fb2c-4680-b758-dc5f6dec6f26"
      },
      "outputs": [
        {
          "output_type": "stream",
          "name": "stdout",
          "text": [
            "(32, 32)\n"
          ]
        }
      ],
      "source": [
        "M_tilde = padded_generator_matrix(n_padded, w0, z0)\n",
        "print(M_tilde.shape)"
      ]
    },
    {
      "cell_type": "code",
      "execution_count": 172,
      "metadata": {
        "id": "TWiwL_m35BJQ"
      },
      "outputs": [],
      "source": [
        "encoded_dataset = np.array([np.dot(M_tilde, x) for x in dataset])\n",
        "encoded_dataset[np.abs(encoded_dataset) < 1e-10] = 0\n",
        "encoded_dataset = np.round(encoded_dataset, decimals=10)"
      ]
    },
    {
      "cell_type": "code",
      "execution_count": 173,
      "metadata": {
        "colab": {
          "base_uri": "https://localhost:8080/"
        },
        "id": "ruM0ZOQr5CrT",
        "outputId": "dc687f9d-0b67-4cca-81f1-d690151ca82a"
      },
      "outputs": [
        {
          "output_type": "stream",
          "name": "stdout",
          "text": [
            "(1000, 32)\n"
          ]
        }
      ],
      "source": [
        "print(encoded_dataset.shape)"
      ]
    },
    {
      "cell_type": "code",
      "execution_count": 174,
      "metadata": {
        "colab": {
          "base_uri": "https://localhost:8080/"
        },
        "id": "fgk2CBTy5Igf",
        "outputId": "dd8bfc25-e745-45d2-9d6b-fdbf39c0a5c8"
      },
      "outputs": [
        {
          "output_type": "stream",
          "name": "stdout",
          "text": [
            "[6 3 4 6 2 4 4 6 1 2 6 2 2 4 3 2 5 4 1 3 5 5 1 3 4 0 3 0 0 0 0 0]\n",
            "[18563.60052945    +0.j         -3175.07412411+14542.65392496j\n",
            " -9480.13851167 -1549.89213738j  -850.18419129 -5788.51248279j\n",
            "  2813.63372348 -2457.36436449j  3312.0476391   +337.88077825j\n",
            "  1059.2907911  +3489.68169028j -2366.82367016  +909.74502726j\n",
            "  -210.29906943  +357.85181443j -3878.07651347  +373.95548592j\n",
            "   -49.25036994 -6370.32567308j  6901.71964373 -1088.5938127j\n",
            "  2896.76301761 +7252.43377368j -6714.83312544 +4427.90575271j\n",
            " -5496.28870703 -5330.43278044j  2828.24226801 -6162.17891893j\n",
            "  6446.94186958    -0.j          2828.24226801 +6162.17891893j\n",
            " -5496.28870703 +5330.43278044j -6714.83312544 -4427.90575271j\n",
            "  2896.76301761 -7252.43377368j  6901.71964373 +1088.5938127j\n",
            "   -49.25036994 +6370.32567308j -3878.07651347  -373.95548592j\n",
            "  -210.29906943  -357.85181443j -2366.82367016  -909.74502726j\n",
            "  1059.2907911  -3489.68169028j  3312.0476391   -337.88077825j\n",
            "  2813.63372348 +2457.36436449j  -850.18419129 +5788.51248279j\n",
            " -9480.13851167 +1549.89213738j -3175.07412411-14542.65392496j]\n"
          ]
        }
      ],
      "source": [
        "print(dataset[0])\n",
        "print(encoded_dataset[0])"
      ]
    },
    {
      "cell_type": "code",
      "execution_count": 175,
      "metadata": {
        "colab": {
          "base_uri": "https://localhost:8080/"
        },
        "id": "kPAzs4ML5JtN",
        "outputId": "da039779-20b5-45a7-d470-5a64e887464f"
      },
      "outputs": [
        {
          "output_type": "stream",
          "name": "stdout",
          "text": [
            "\n",
            "X_train_real : (1000, 32)\n",
            "[18563.6     -3175.0742  -9480.139    -850.1842   2813.6338   3312.0476\n",
            "  1059.2908  -2366.8237   -210.29907 -3878.0764    -49.25037  6901.7197\n",
            "  2896.763   -6714.833   -5496.2886   2828.2422   6446.942    2828.2422\n",
            " -5496.2886  -6714.833    2896.763    6901.7197    -49.25037 -3878.0764\n",
            "  -210.29907 -2366.8237   1059.2908   3312.0476   2813.6338   -850.1842\n",
            " -9480.139   -3175.0742 ]\n",
            "\n",
            "X_train_imag : (1000, 32)\n",
            "[     0.       14542.654    -1549.8921   -5788.5127   -2457.3643\n",
            "    337.88077   3489.6816     909.74506    357.8518     373.95547\n",
            "  -6370.3257   -1088.5939    7252.4336    4427.906    -5330.4326\n",
            "  -6162.1787      -0.        6162.1787    5330.4326   -4427.906\n",
            "  -7252.4336    1088.5939    6370.3257    -373.95547   -357.8518\n",
            "   -909.74506  -3489.6816    -337.88077   2457.3643    5788.5127\n",
            "   1549.8921  -14542.654  ]\n"
          ]
        }
      ],
      "source": [
        "X_real = np.real(encoded_dataset).astype(np.float32)\n",
        "X_imag = np.imag(encoded_dataset).astype(np.float32)\n",
        "\n",
        "print(\"\\nX_train_real :\", X_real.shape)\n",
        "print(X_real[0])\n",
        "print(\"\\nX_train_imag :\", X_imag.shape)\n",
        "print(X_imag[0])"
      ]
    },
    {
      "cell_type": "code",
      "execution_count": 176,
      "metadata": {
        "colab": {
          "base_uri": "https://localhost:8080/"
        },
        "id": "nZ9O-pNK5LPX",
        "outputId": "bdf00a98-9602-46cb-8e48-f3baa01891ec"
      },
      "outputs": [
        {
          "output_type": "stream",
          "name": "stdout",
          "text": [
            "[1.         0.5        0.6666667  1.         0.33333334 0.6666667\n",
            " 0.6666667  1.         0.16666667 0.33333334 1.         0.33333334\n",
            " 0.33333334 0.6666667  0.5        0.33333334 0.8333333  0.6666667\n",
            " 0.16666667 0.5        0.8333333  0.8333333  0.16666667 0.5\n",
            " 0.6666667  0.         0.5        0.         0.         0.\n",
            " 0.         0.        ]\n"
          ]
        }
      ],
      "source": [
        "y = dataset.astype(np.float32)\n",
        "y_normalized = y / (q - 1)  # Scale to [0, 1]\n",
        "\n",
        "print(y_normalized[0])\n",
        "\n",
        "labels = y_normalized"
      ]
    },
    {
      "cell_type": "code",
      "execution_count": 177,
      "metadata": {
        "colab": {
          "base_uri": "https://localhost:8080/"
        },
        "id": "RTSgp2pR5U3a",
        "outputId": "1d01ddfa-51a0-4636-de7f-80cc8850f325"
      },
      "outputs": [
        {
          "output_type": "stream",
          "name": "stdout",
          "text": [
            "Training data shapes: X_real: (800, 32) X_imag: (800, 32) y: (800, 32)\n",
            "Testing data shapes: X_real: (200, 32) X_imag: (200, 32) y: (200, 32)\n"
          ]
        }
      ],
      "source": [
        "from sklearn.model_selection import train_test_split\n",
        "\n",
        "X_real_train, X_real_test, y_train, y_test = train_test_split(\n",
        "    X_real, labels, test_size=0.2, random_state=42\n",
        ")\n",
        "\n",
        "X_imag_train, X_imag_test, _, _ = train_test_split(\n",
        "    X_imag, labels, test_size=0.2, random_state=42\n",
        ")\n",
        "\n",
        "print(\"Training data shapes: X_real:\", X_real_train.shape, \"X_imag:\", X_imag_train.shape, \"y:\", y_train.shape)\n",
        "print(\"Testing data shapes: X_real:\", X_real_test.shape, \"X_imag:\", X_imag_test.shape, \"y:\", y_test.shape)"
      ]
    },
    {
      "cell_type": "code",
      "execution_count": 178,
      "metadata": {
        "id": "KOHGgxkC5XwY"
      },
      "outputs": [],
      "source": [
        "# Normalize real part\n",
        "real_mean = np.mean(X_real_train, axis=0)\n",
        "real_std = np.std(X_real_train, axis=0)\n",
        "X_real_train = (X_real_train - real_mean) / (real_std + 1e-8)\n",
        "X_real_test = (X_real_test - real_mean) / (real_std + 1e-8)\n",
        "\n",
        "# Normalize imag part\n",
        "imag_mean = np.mean(X_imag_train, axis=0)\n",
        "imag_std = np.std(X_imag_train, axis=0)\n",
        "X_imag_train = (X_imag_train - imag_mean) / (imag_std + 1e-8)\n",
        "X_imag_test = (X_imag_test - imag_mean) / (imag_std + 1e-8)"
      ]
    },
    {
      "cell_type": "markdown",
      "metadata": {
        "id": "Bqr4Z1EV6AZ9"
      },
      "source": [
        "IDFT - Structure Imposed Neural Network"
      ]
    },
    {
      "cell_type": "code",
      "execution_count": 179,
      "metadata": {
        "id": "Ip1i_Iab6CVu"
      },
      "outputs": [],
      "source": [
        "class IDFT(tf.keras.layers.Layer):\n",
        "    def __init__(self, n, kernel_initializer='he_normal', trainable=True, **kwargs):\n",
        "        super(IDFT, self).__init__(**kwargs)\n",
        "        self.n = n\n",
        "        self.n1 = n // 2\n",
        "        self.trainable = trainable\n",
        "        self.kernel_initializer = kernel_initializer\n",
        "\n",
        "        if n == 2:\n",
        "            self.F_2 = self.add_weight(\n",
        "                shape=(2, 2),\n",
        "                initializer=tf.keras.initializers.Constant([[0.5, 0.5], [0.5, -0.5]]),\n",
        "                trainable=self.trainable,\n",
        "                name='F_2'\n",
        "            )\n",
        "        else:\n",
        "            self.idft1 = IDFT(self.n1, trainable=self.trainable)\n",
        "            self.idft2 = IDFT(self.n1, trainable=self.trainable)\n",
        "\n",
        "            self.Dn = self.add_weight(\n",
        "                shape=(self.n1,),\n",
        "                initializer=tf.keras.initializers.get(self.kernel_initializer),\n",
        "                trainable=self.trainable,\n",
        "                name='Dn'\n",
        "            )\n",
        "\n",
        "    def call(self, x):\n",
        "        if self.n == 2:\n",
        "            return tf.matmul(x, self.F_2)\n",
        "\n",
        "        even = x[:, ::2]\n",
        "        odd = x[:, 1::2]\n",
        "\n",
        "        B1 = self.idft1(even)\n",
        "        B2 = self.idft2(odd)\n",
        "\n",
        "        Dn_scaled = tf.multiply(B2, self.Dn)\n",
        "\n",
        "        sum_part = B1 + Dn_scaled\n",
        "        diff_part = B1 - Dn_scaled\n",
        "\n",
        "        out = tf.concat([sum_part, diff_part], axis=1) / tf.sqrt(tf.constant(2.0, dtype=tf.float32))\n",
        "\n",
        "        return out"
      ]
    },
    {
      "cell_type": "code",
      "execution_count": 180,
      "metadata": {
        "id": "NnX9oB2-6GVp"
      },
      "outputs": [],
      "source": [
        "class FirstIDFTLayer(tf.keras.layers.Layer):\n",
        "    def __init__(self, units, kernel_initializer='he_normal', bias_initializer='zeros', trainable=True, **kwargs):\n",
        "        super(FirstIDFTLayer, self).__init__(**kwargs)\n",
        "        self.n = units\n",
        "        self.n1 = units // 2\n",
        "        self.trainable = trainable\n",
        "        self.kernel_initializer = kernel_initializer\n",
        "        self.bias_initializer = bias_initializer\n",
        "\n",
        "        self.b1 = IDFT(self.n1, kernel_initializer=self.kernel_initializer, trainable=self.trainable)\n",
        "        self.b2 = IDFT(self.n1, kernel_initializer=self.kernel_initializer, trainable=self.trainable)\n",
        "\n",
        "        self.bias = self.add_weight(\n",
        "            shape=(units,),\n",
        "            initializer=tf.keras.initializers.get(self.bias_initializer),\n",
        "            trainable=True,\n",
        "            name='bias'\n",
        "        )\n",
        "\n",
        "    def call(self, x):\n",
        "      q = tf.concat([x[:, ::2], x[:, 1::2]], axis=1)\n",
        "      B1 = self.b1(q[:, :self.n1])\n",
        "      B2 = self.b2(q[:, self.n1:])\n",
        "      out = tf.concat([B1, B2], axis=1)\n",
        "\n",
        "      return out + self.bias"
      ]
    },
    {
      "cell_type": "code",
      "execution_count": 181,
      "metadata": {
        "id": "8JU2xoi46Imn"
      },
      "outputs": [],
      "source": [
        "class SecondIDFTLayer(tf.keras.layers.Layer):\n",
        "    def __init__(self, units, kernel_initializer='he_normal', bias_initializer='zeros', trainable=True, **kwargs):\n",
        "        super(SecondIDFTLayer, self).__init__(**kwargs)\n",
        "        self.n = units\n",
        "        self.n1 = units // 2\n",
        "        self.trainable = trainable\n",
        "        self.kernel_initializer = kernel_initializer\n",
        "        self.bias_initializer = bias_initializer\n",
        "\n",
        "        self.Dn = self.add_weight(\n",
        "                shape=(self.n1,),\n",
        "                initializer=tf.keras.initializers.get(self.kernel_initializer),\n",
        "                trainable=self.trainable,\n",
        "                name='Dn'\n",
        "            )\n",
        "\n",
        "        self.bias = self.add_weight(\n",
        "            shape=(units,),\n",
        "            initializer=tf.keras.initializers.get(self.bias_initializer),\n",
        "            trainable=True,\n",
        "            name='bias'\n",
        "        )\n",
        "\n",
        "    def call(self, x):\n",
        "        x1 = x[:, :self.n1]\n",
        "        x2 = x[:, self.n1:]\n",
        "\n",
        "        Dn_scaled = tf.multiply(x2, self.Dn)\n",
        "\n",
        "        sum_part = x1 + Dn_scaled\n",
        "        diff_part = x1 - Dn_scaled\n",
        "\n",
        "        out = tf.concat([sum_part, diff_part], axis=1) / tf.sqrt(tf.constant(2.0, dtype=tf.float32))\n",
        "\n",
        "        return out + self.bias"
      ]
    },
    {
      "cell_type": "code",
      "execution_count": 182,
      "metadata": {
        "id": "FD3tKDxV6yTv"
      },
      "outputs": [],
      "source": [
        "class DiagonalLayer(tf.keras.layers.Layer):\n",
        "    def __init__(self, units, kernel_initializer='he_normal', bias_initializer='zeros', use_bias=True, **kwargs):\n",
        "        super(DiagonalLayer, self).__init__(**kwargs)\n",
        "        self.units = units\n",
        "        self.kernel_initializer = kernel_initializer\n",
        "        self.bias_initializer = bias_initializer\n",
        "        self.use_bias = use_bias\n",
        "\n",
        "    def build(self, input_shape):\n",
        "        n = self.units\n",
        "\n",
        "        self.m = self.add_weight(name=\"kernel_m\",\n",
        "                                 shape=(n,),\n",
        "                                 initializer=tf.keras.initializers.get(self.kernel_initializer),\n",
        "                                 trainable=True)\n",
        "\n",
        "        if self.use_bias:\n",
        "            self.bias = self.add_weight(name=\"bias\",\n",
        "                                        shape=(self.units,),\n",
        "                                        initializer=tf.keras.initializers.get(self.bias_initializer),\n",
        "                                        trainable=True)\n",
        "\n",
        "    def call(self, inputs):\n",
        "        out = tf.multiply(inputs, self.m)\n",
        "        if self.use_bias:\n",
        "            out += self.bias\n",
        "        return out"
      ]
    },
    {
      "cell_type": "code",
      "execution_count": 183,
      "metadata": {
        "id": "GAIISW2C63qj"
      },
      "outputs": [],
      "source": [
        "class ScalingLayer(tf.keras.layers.Layer):\n",
        "    def __init__(self, units, initial_scale=0.1, kernel_initializer='ones', bias_initializer='zeros', use_bias=True, **kwargs):\n",
        "        super(ScalingLayer, self).__init__(**kwargs)\n",
        "        self.units = units\n",
        "        self.kernel_initializer = kernel_initializer\n",
        "        self.bias_initializer = bias_initializer\n",
        "        self.use_bias = use_bias\n",
        "        self.initial_scale = initial_scale\n",
        "\n",
        "    def build(self, input_shape):\n",
        "        n = self.units\n",
        "\n",
        "        self.m = self.add_weight(name=\"kernel_m_1\",\n",
        "                                 shape=(n,),\n",
        "                                 initializer=tf.keras.initializers.get(self.kernel_initializer),\n",
        "                                 regularizer=tf.keras.regularizers.l2(1e-4),\n",
        "                                 trainable=True)\n",
        "\n",
        "        self.log_scale = self.add_weight(\n",
        "                                  shape=(),\n",
        "                                  initializer=tf.keras.initializers.Constant(self.initial_scale),\n",
        "                                  trainable=True,\n",
        "                                  name=\"log_scale\",\n",
        "                                  )\n",
        "\n",
        "        if self.use_bias:\n",
        "            self.bias = self.add_weight(name=\"bias\",\n",
        "                                        shape=(self.units,),\n",
        "                                        initializer=tf.keras.initializers.get(self.bias_initializer),\n",
        "                                        trainable=True)\n",
        "\n",
        "    def call(self, inputs):\n",
        "        inputs1 = inputs[:, :int(inputs.shape[1] / 2)]\n",
        "        inputs2 = inputs[:, int(inputs.shape[1] / 2):]\n",
        "\n",
        "        out = tf.math.sqrt(inputs1**2 + inputs2**2)\n",
        "\n",
        "        dim = tf.shape(out)[1]\n",
        "        D_hat_n = tf.exp(self.log_scale * tf.cast(tf.range(dim), tf.float32))\n",
        "\n",
        "        out2 = out * D_hat_n * self.m\n",
        "\n",
        "        if self.use_bias:\n",
        "            out2 += self.bias\n",
        "\n",
        "        return out2"
      ]
    },
    {
      "cell_type": "markdown",
      "metadata": {
        "id": "UZE0QuJE7W6R"
      },
      "source": [
        "Model"
      ]
    },
    {
      "cell_type": "code",
      "execution_count": 184,
      "metadata": {
        "id": "LysmDMtv7YEB"
      },
      "outputs": [],
      "source": [
        "def custom_accuracy(y_true, y_pred):\n",
        "    y_true_int = tf.cast(y_true*(q-1), tf.int32)\n",
        "    y_pred_int = tf.cast(tf.round(y_pred*(q-1)), tf.int32)\n",
        "    correct = tf.cast(tf.equal(y_true_int, y_pred_int), tf.float32)\n",
        "    return tf.reduce_mean(correct)\n",
        "\n",
        "def custom_accuracy_without_padding(y_true, y_pred):\n",
        "    y_true_int = tf.cast(y_true * (q - 1), tf.int32)\n",
        "    y_pred_int = tf.cast(tf.round(y_pred * (q - 1)), tf.int32)\n",
        "    mask = tf.concat(\n",
        "        [tf.ones((tf.shape(y_true)[0], n), dtype=tf.float32),\n",
        "         tf.zeros((tf.shape(y_true)[0], n_padded - n), dtype=tf.float32)],\n",
        "        axis=1\n",
        "    )\n",
        "    correct = tf.cast(tf.equal(y_true_int, y_pred_int), tf.float32) * mask\n",
        "    return tf.reduce_sum(correct) / tf.reduce_sum(mask)\n",
        "\n",
        "def custom_mse(y_true, y_pred):\n",
        "    y_true = tf.cast(y_true, tf.float32)\n",
        "    y_pred = tf.cast(y_pred, tf.float32)\n",
        "    # weights = 1.0 / (1.0 + tf.abs(y_true))\n",
        "    # loss = tf.reduce_mean(weights * tf.square(y_true - y_pred))\n",
        "    loss = tf.reduce_mean(tf.square(tf.cast(y_true - y_pred, tf.float32)))\n",
        "    return loss"
      ]
    },
    {
      "cell_type": "code",
      "execution_count": 185,
      "metadata": {
        "colab": {
          "base_uri": "https://localhost:8080/",
          "height": 753
        },
        "id": "AONwiXc1692g",
        "outputId": "002fc984-06fb-4020-b44e-c7727c4cbbbb"
      },
      "outputs": [
        {
          "output_type": "display_data",
          "data": {
            "text/plain": [
              "\u001b[1mModel: \"functional_5\"\u001b[0m\n"
            ],
            "text/html": [
              "<pre style=\"white-space:pre;overflow-x:auto;line-height:normal;font-family:Menlo,'DejaVu Sans Mono',consolas,'Courier New',monospace\"><span style=\"font-weight: bold\">Model: \"functional_5\"</span>\n",
              "</pre>\n"
            ]
          },
          "metadata": {}
        },
        {
          "output_type": "display_data",
          "data": {
            "text/plain": [
              "┏━━━━━━━━━━━━━━━━━━━━━┳━━━━━━━━━━━━━━━━━━━┳━━━━━━━━━━━━┳━━━━━━━━━━━━━━━━━━━┓\n",
              "┃\u001b[1m \u001b[0m\u001b[1mLayer (type)       \u001b[0m\u001b[1m \u001b[0m┃\u001b[1m \u001b[0m\u001b[1mOutput Shape     \u001b[0m\u001b[1m \u001b[0m┃\u001b[1m \u001b[0m\u001b[1m   Param #\u001b[0m\u001b[1m \u001b[0m┃\u001b[1m \u001b[0m\u001b[1mConnected to     \u001b[0m\u001b[1m \u001b[0m┃\n",
              "┡━━━━━━━━━━━━━━━━━━━━━╇━━━━━━━━━━━━━━━━━━━╇━━━━━━━━━━━━╇━━━━━━━━━━━━━━━━━━━┩\n",
              "│ real_input          │ (\u001b[38;5;45mNone\u001b[0m, \u001b[38;5;34m32\u001b[0m)        │          \u001b[38;5;34m0\u001b[0m │ -                 │\n",
              "│ (\u001b[38;5;33mInputLayer\u001b[0m)        │                   │            │                   │\n",
              "├─────────────────────┼───────────────────┼────────────┼───────────────────┤\n",
              "│ imag_input          │ (\u001b[38;5;45mNone\u001b[0m, \u001b[38;5;34m32\u001b[0m)        │          \u001b[38;5;34m0\u001b[0m │ -                 │\n",
              "│ (\u001b[38;5;33mInputLayer\u001b[0m)        │                   │            │                   │\n",
              "├─────────────────────┼───────────────────┼────────────┼───────────────────┤\n",
              "│ real_layer1         │ (\u001b[38;5;45mNone\u001b[0m, \u001b[38;5;34m32\u001b[0m)        │        \u001b[38;5;34m144\u001b[0m │ real_input[\u001b[38;5;34m0\u001b[0m][\u001b[38;5;34m0\u001b[0m]  │\n",
              "│ (\u001b[38;5;33mFirstIDFTLayer\u001b[0m)    │                   │            │                   │\n",
              "├─────────────────────┼───────────────────┼────────────┼───────────────────┤\n",
              "│ imag_layer1         │ (\u001b[38;5;45mNone\u001b[0m, \u001b[38;5;34m32\u001b[0m)        │        \u001b[38;5;34m144\u001b[0m │ imag_input[\u001b[38;5;34m0\u001b[0m][\u001b[38;5;34m0\u001b[0m]  │\n",
              "│ (\u001b[38;5;33mFirstIDFTLayer\u001b[0m)    │                   │            │                   │\n",
              "├─────────────────────┼───────────────────┼────────────┼───────────────────┤\n",
              "│ real_layer2         │ (\u001b[38;5;45mNone\u001b[0m, \u001b[38;5;34m32\u001b[0m)        │         \u001b[38;5;34m48\u001b[0m │ real_layer1[\u001b[38;5;34m0\u001b[0m][\u001b[38;5;34m0\u001b[0m] │\n",
              "│ (\u001b[38;5;33mSecondIDFTLayer\u001b[0m)   │                   │            │                   │\n",
              "├─────────────────────┼───────────────────┼────────────┼───────────────────┤\n",
              "│ imag_layer2         │ (\u001b[38;5;45mNone\u001b[0m, \u001b[38;5;34m32\u001b[0m)        │         \u001b[38;5;34m48\u001b[0m │ imag_layer1[\u001b[38;5;34m0\u001b[0m][\u001b[38;5;34m0\u001b[0m] │\n",
              "│ (\u001b[38;5;33mSecondIDFTLayer\u001b[0m)   │                   │            │                   │\n",
              "├─────────────────────┼───────────────────┼────────────┼───────────────────┤\n",
              "│ leaky_re_lu_15      │ (\u001b[38;5;45mNone\u001b[0m, \u001b[38;5;34m32\u001b[0m)        │          \u001b[38;5;34m0\u001b[0m │ real_layer2[\u001b[38;5;34m0\u001b[0m][\u001b[38;5;34m0\u001b[0m] │\n",
              "│ (\u001b[38;5;33mLeakyReLU\u001b[0m)         │                   │            │                   │\n",
              "├─────────────────────┼───────────────────┼────────────┼───────────────────┤\n",
              "│ leaky_re_lu_16      │ (\u001b[38;5;45mNone\u001b[0m, \u001b[38;5;34m32\u001b[0m)        │          \u001b[38;5;34m0\u001b[0m │ imag_layer2[\u001b[38;5;34m0\u001b[0m][\u001b[38;5;34m0\u001b[0m] │\n",
              "│ (\u001b[38;5;33mLeakyReLU\u001b[0m)         │                   │            │                   │\n",
              "├─────────────────────┼───────────────────┼────────────┼───────────────────┤\n",
              "│ merge_real_imag     │ (\u001b[38;5;45mNone\u001b[0m, \u001b[38;5;34m64\u001b[0m)        │          \u001b[38;5;34m0\u001b[0m │ leaky_re_lu_15[\u001b[38;5;34m0\u001b[0m… │\n",
              "│ (\u001b[38;5;33mConcatenate\u001b[0m)       │                   │            │ leaky_re_lu_16[\u001b[38;5;34m0\u001b[0m… │\n",
              "├─────────────────────┼───────────────────┼────────────┼───────────────────┤\n",
              "│ scaling_layer       │ (\u001b[38;5;45mNone\u001b[0m, \u001b[38;5;34m32\u001b[0m)        │         \u001b[38;5;34m65\u001b[0m │ merge_real_imag[\u001b[38;5;34m…\u001b[0m │\n",
              "│ (\u001b[38;5;33mScalingLayer\u001b[0m)      │                   │            │                   │\n",
              "├─────────────────────┼───────────────────┼────────────┼───────────────────┤\n",
              "│ leaky_re_lu_17      │ (\u001b[38;5;45mNone\u001b[0m, \u001b[38;5;34m32\u001b[0m)        │          \u001b[38;5;34m0\u001b[0m │ scaling_layer[\u001b[38;5;34m0\u001b[0m]… │\n",
              "│ (\u001b[38;5;33mLeakyReLU\u001b[0m)         │                   │            │                   │\n",
              "├─────────────────────┼───────────────────┼────────────┼───────────────────┤\n",
              "│ output_layer        │ (\u001b[38;5;45mNone\u001b[0m, \u001b[38;5;34m32\u001b[0m)        │         \u001b[38;5;34m64\u001b[0m │ leaky_re_lu_17[\u001b[38;5;34m0\u001b[0m… │\n",
              "│ (\u001b[38;5;33mDiagonalLayer\u001b[0m)     │                   │            │                   │\n",
              "├─────────────────────┼───────────────────┼────────────┼───────────────────┤\n",
              "│ activation_5        │ (\u001b[38;5;45mNone\u001b[0m, \u001b[38;5;34m32\u001b[0m)        │          \u001b[38;5;34m0\u001b[0m │ output_layer[\u001b[38;5;34m0\u001b[0m][\u001b[38;5;34m…\u001b[0m │\n",
              "│ (\u001b[38;5;33mActivation\u001b[0m)        │                   │            │                   │\n",
              "└─────────────────────┴───────────────────┴────────────┴───────────────────┘\n"
            ],
            "text/html": [
              "<pre style=\"white-space:pre;overflow-x:auto;line-height:normal;font-family:Menlo,'DejaVu Sans Mono',consolas,'Courier New',monospace\">┏━━━━━━━━━━━━━━━━━━━━━┳━━━━━━━━━━━━━━━━━━━┳━━━━━━━━━━━━┳━━━━━━━━━━━━━━━━━━━┓\n",
              "┃<span style=\"font-weight: bold\"> Layer (type)        </span>┃<span style=\"font-weight: bold\"> Output Shape      </span>┃<span style=\"font-weight: bold\">    Param # </span>┃<span style=\"font-weight: bold\"> Connected to      </span>┃\n",
              "┡━━━━━━━━━━━━━━━━━━━━━╇━━━━━━━━━━━━━━━━━━━╇━━━━━━━━━━━━╇━━━━━━━━━━━━━━━━━━━┩\n",
              "│ real_input          │ (<span style=\"color: #00d7ff; text-decoration-color: #00d7ff\">None</span>, <span style=\"color: #00af00; text-decoration-color: #00af00\">32</span>)        │          <span style=\"color: #00af00; text-decoration-color: #00af00\">0</span> │ -                 │\n",
              "│ (<span style=\"color: #0087ff; text-decoration-color: #0087ff\">InputLayer</span>)        │                   │            │                   │\n",
              "├─────────────────────┼───────────────────┼────────────┼───────────────────┤\n",
              "│ imag_input          │ (<span style=\"color: #00d7ff; text-decoration-color: #00d7ff\">None</span>, <span style=\"color: #00af00; text-decoration-color: #00af00\">32</span>)        │          <span style=\"color: #00af00; text-decoration-color: #00af00\">0</span> │ -                 │\n",
              "│ (<span style=\"color: #0087ff; text-decoration-color: #0087ff\">InputLayer</span>)        │                   │            │                   │\n",
              "├─────────────────────┼───────────────────┼────────────┼───────────────────┤\n",
              "│ real_layer1         │ (<span style=\"color: #00d7ff; text-decoration-color: #00d7ff\">None</span>, <span style=\"color: #00af00; text-decoration-color: #00af00\">32</span>)        │        <span style=\"color: #00af00; text-decoration-color: #00af00\">144</span> │ real_input[<span style=\"color: #00af00; text-decoration-color: #00af00\">0</span>][<span style=\"color: #00af00; text-decoration-color: #00af00\">0</span>]  │\n",
              "│ (<span style=\"color: #0087ff; text-decoration-color: #0087ff\">FirstIDFTLayer</span>)    │                   │            │                   │\n",
              "├─────────────────────┼───────────────────┼────────────┼───────────────────┤\n",
              "│ imag_layer1         │ (<span style=\"color: #00d7ff; text-decoration-color: #00d7ff\">None</span>, <span style=\"color: #00af00; text-decoration-color: #00af00\">32</span>)        │        <span style=\"color: #00af00; text-decoration-color: #00af00\">144</span> │ imag_input[<span style=\"color: #00af00; text-decoration-color: #00af00\">0</span>][<span style=\"color: #00af00; text-decoration-color: #00af00\">0</span>]  │\n",
              "│ (<span style=\"color: #0087ff; text-decoration-color: #0087ff\">FirstIDFTLayer</span>)    │                   │            │                   │\n",
              "├─────────────────────┼───────────────────┼────────────┼───────────────────┤\n",
              "│ real_layer2         │ (<span style=\"color: #00d7ff; text-decoration-color: #00d7ff\">None</span>, <span style=\"color: #00af00; text-decoration-color: #00af00\">32</span>)        │         <span style=\"color: #00af00; text-decoration-color: #00af00\">48</span> │ real_layer1[<span style=\"color: #00af00; text-decoration-color: #00af00\">0</span>][<span style=\"color: #00af00; text-decoration-color: #00af00\">0</span>] │\n",
              "│ (<span style=\"color: #0087ff; text-decoration-color: #0087ff\">SecondIDFTLayer</span>)   │                   │            │                   │\n",
              "├─────────────────────┼───────────────────┼────────────┼───────────────────┤\n",
              "│ imag_layer2         │ (<span style=\"color: #00d7ff; text-decoration-color: #00d7ff\">None</span>, <span style=\"color: #00af00; text-decoration-color: #00af00\">32</span>)        │         <span style=\"color: #00af00; text-decoration-color: #00af00\">48</span> │ imag_layer1[<span style=\"color: #00af00; text-decoration-color: #00af00\">0</span>][<span style=\"color: #00af00; text-decoration-color: #00af00\">0</span>] │\n",
              "│ (<span style=\"color: #0087ff; text-decoration-color: #0087ff\">SecondIDFTLayer</span>)   │                   │            │                   │\n",
              "├─────────────────────┼───────────────────┼────────────┼───────────────────┤\n",
              "│ leaky_re_lu_15      │ (<span style=\"color: #00d7ff; text-decoration-color: #00d7ff\">None</span>, <span style=\"color: #00af00; text-decoration-color: #00af00\">32</span>)        │          <span style=\"color: #00af00; text-decoration-color: #00af00\">0</span> │ real_layer2[<span style=\"color: #00af00; text-decoration-color: #00af00\">0</span>][<span style=\"color: #00af00; text-decoration-color: #00af00\">0</span>] │\n",
              "│ (<span style=\"color: #0087ff; text-decoration-color: #0087ff\">LeakyReLU</span>)         │                   │            │                   │\n",
              "├─────────────────────┼───────────────────┼────────────┼───────────────────┤\n",
              "│ leaky_re_lu_16      │ (<span style=\"color: #00d7ff; text-decoration-color: #00d7ff\">None</span>, <span style=\"color: #00af00; text-decoration-color: #00af00\">32</span>)        │          <span style=\"color: #00af00; text-decoration-color: #00af00\">0</span> │ imag_layer2[<span style=\"color: #00af00; text-decoration-color: #00af00\">0</span>][<span style=\"color: #00af00; text-decoration-color: #00af00\">0</span>] │\n",
              "│ (<span style=\"color: #0087ff; text-decoration-color: #0087ff\">LeakyReLU</span>)         │                   │            │                   │\n",
              "├─────────────────────┼───────────────────┼────────────┼───────────────────┤\n",
              "│ merge_real_imag     │ (<span style=\"color: #00d7ff; text-decoration-color: #00d7ff\">None</span>, <span style=\"color: #00af00; text-decoration-color: #00af00\">64</span>)        │          <span style=\"color: #00af00; text-decoration-color: #00af00\">0</span> │ leaky_re_lu_15[<span style=\"color: #00af00; text-decoration-color: #00af00\">0</span>… │\n",
              "│ (<span style=\"color: #0087ff; text-decoration-color: #0087ff\">Concatenate</span>)       │                   │            │ leaky_re_lu_16[<span style=\"color: #00af00; text-decoration-color: #00af00\">0</span>… │\n",
              "├─────────────────────┼───────────────────┼────────────┼───────────────────┤\n",
              "│ scaling_layer       │ (<span style=\"color: #00d7ff; text-decoration-color: #00d7ff\">None</span>, <span style=\"color: #00af00; text-decoration-color: #00af00\">32</span>)        │         <span style=\"color: #00af00; text-decoration-color: #00af00\">65</span> │ merge_real_imag[<span style=\"color: #00af00; text-decoration-color: #00af00\">…</span> │\n",
              "│ (<span style=\"color: #0087ff; text-decoration-color: #0087ff\">ScalingLayer</span>)      │                   │            │                   │\n",
              "├─────────────────────┼───────────────────┼────────────┼───────────────────┤\n",
              "│ leaky_re_lu_17      │ (<span style=\"color: #00d7ff; text-decoration-color: #00d7ff\">None</span>, <span style=\"color: #00af00; text-decoration-color: #00af00\">32</span>)        │          <span style=\"color: #00af00; text-decoration-color: #00af00\">0</span> │ scaling_layer[<span style=\"color: #00af00; text-decoration-color: #00af00\">0</span>]… │\n",
              "│ (<span style=\"color: #0087ff; text-decoration-color: #0087ff\">LeakyReLU</span>)         │                   │            │                   │\n",
              "├─────────────────────┼───────────────────┼────────────┼───────────────────┤\n",
              "│ output_layer        │ (<span style=\"color: #00d7ff; text-decoration-color: #00d7ff\">None</span>, <span style=\"color: #00af00; text-decoration-color: #00af00\">32</span>)        │         <span style=\"color: #00af00; text-decoration-color: #00af00\">64</span> │ leaky_re_lu_17[<span style=\"color: #00af00; text-decoration-color: #00af00\">0</span>… │\n",
              "│ (<span style=\"color: #0087ff; text-decoration-color: #0087ff\">DiagonalLayer</span>)     │                   │            │                   │\n",
              "├─────────────────────┼───────────────────┼────────────┼───────────────────┤\n",
              "│ activation_5        │ (<span style=\"color: #00d7ff; text-decoration-color: #00d7ff\">None</span>, <span style=\"color: #00af00; text-decoration-color: #00af00\">32</span>)        │          <span style=\"color: #00af00; text-decoration-color: #00af00\">0</span> │ output_layer[<span style=\"color: #00af00; text-decoration-color: #00af00\">0</span>][<span style=\"color: #00af00; text-decoration-color: #00af00\">…</span> │\n",
              "│ (<span style=\"color: #0087ff; text-decoration-color: #0087ff\">Activation</span>)        │                   │            │                   │\n",
              "└─────────────────────┴───────────────────┴────────────┴───────────────────┘\n",
              "</pre>\n"
            ]
          },
          "metadata": {}
        },
        {
          "output_type": "display_data",
          "data": {
            "text/plain": [
              "\u001b[1m Total params: \u001b[0m\u001b[38;5;34m513\u001b[0m (2.00 KB)\n"
            ],
            "text/html": [
              "<pre style=\"white-space:pre;overflow-x:auto;line-height:normal;font-family:Menlo,'DejaVu Sans Mono',consolas,'Courier New',monospace\"><span style=\"font-weight: bold\"> Total params: </span><span style=\"color: #00af00; text-decoration-color: #00af00\">513</span> (2.00 KB)\n",
              "</pre>\n"
            ]
          },
          "metadata": {}
        },
        {
          "output_type": "display_data",
          "data": {
            "text/plain": [
              "\u001b[1m Trainable params: \u001b[0m\u001b[38;5;34m449\u001b[0m (1.75 KB)\n"
            ],
            "text/html": [
              "<pre style=\"white-space:pre;overflow-x:auto;line-height:normal;font-family:Menlo,'DejaVu Sans Mono',consolas,'Courier New',monospace\"><span style=\"font-weight: bold\"> Trainable params: </span><span style=\"color: #00af00; text-decoration-color: #00af00\">449</span> (1.75 KB)\n",
              "</pre>\n"
            ]
          },
          "metadata": {}
        },
        {
          "output_type": "display_data",
          "data": {
            "text/plain": [
              "\u001b[1m Non-trainable params: \u001b[0m\u001b[38;5;34m64\u001b[0m (256.00 B)\n"
            ],
            "text/html": [
              "<pre style=\"white-space:pre;overflow-x:auto;line-height:normal;font-family:Menlo,'DejaVu Sans Mono',consolas,'Courier New',monospace\"><span style=\"font-weight: bold\"> Non-trainable params: </span><span style=\"color: #00af00; text-decoration-color: #00af00\">64</span> (256.00 B)\n",
              "</pre>\n"
            ]
          },
          "metadata": {}
        }
      ],
      "source": [
        "import tensorflow as tf\n",
        "from tensorflow.keras.models import Model\n",
        "from tensorflow.keras.layers import Input, Concatenate, LeakyReLU, Activation\n",
        "from tensorflow.keras.optimizers import Adam\n",
        "\n",
        "global initial_log_scale\n",
        "initial_log_scale = np.log(z0 / w0)\n",
        "\n",
        "def structured_NN(input_dim, output_dim):\n",
        "    real_input = Input(shape=(input_dim,), name=\"real_input\")\n",
        "    imag_input = Input(shape=(input_dim,), name=\"imag_input\")\n",
        "\n",
        "    real_x = FirstIDFTLayer(units=input_dim, kernel_initializer='he_normal', bias_initializer='zeros', name=\"real_layer1\")(real_input)\n",
        "    # real_x = LeakyReLU(negative_slope=0.1)(real_x)\n",
        "    # real_x = DiagonalLayer(units=input_dim, kernel_initializer='he_normal', bias_initializer='zeros', name=\"real_support_layer_1\")(real_x)\n",
        "    # real_x = LeakyReLU(negative_slope=0.1)(real_x)\n",
        "    real_x = SecondIDFTLayer(units=input_dim, kernel_initializer='he_normal', bias_initializer='zeros', name=\"real_layer2\")(real_x)\n",
        "    real_x = LeakyReLU(negative_slope=0.1)(real_x)\n",
        "\n",
        "    imag_x = FirstIDFTLayer(units=input_dim, kernel_initializer='he_normal', bias_initializer='zeros', name=\"imag_layer1\")(imag_input)\n",
        "    # imag_x = LeakyReLU(negative_slope=0.1)(imag_x)\n",
        "    # imag_x = DiagonalLayer(units=input_dim, kernel_initializer='he_normal', bias_initializer='zeros', name=\"imag_support_layer_1\")(imag_x)\n",
        "    # imag_x = LeakyReLU(negative_slope=0.1)(imag_x)\n",
        "    imag_x = SecondIDFTLayer(units=input_dim, kernel_initializer='he_normal', bias_initializer='zeros', name=\"imag_layer2\")(imag_x)\n",
        "    imag_x = LeakyReLU(negative_slope=0.1)(imag_x)\n",
        "\n",
        "    merged = Concatenate(name=\"merge_real_imag\")([real_x, imag_x])\n",
        "\n",
        "    output = ScalingLayer(units=output_dim, initial_scale=initial_log_scale, kernel_initializer='ones', bias_initializer='zeros', name=\"scaling_layer\")(merged)\n",
        "    output = LeakyReLU(negative_slope=0.1)(output)\n",
        "    output = DiagonalLayer(units=output_dim, trainable=False, kernel_initializer='ones', bias_initializer='zeros', name=\"output_layer\")(output)\n",
        "    output = Activation('linear')(output)\n",
        "\n",
        "    model = Model(inputs=[real_input, imag_input], outputs=output)\n",
        "    model.compile(optimizer=Adam(learning_rate=0.001), loss=custom_mse, metrics=[custom_mse, custom_accuracy_without_padding])\n",
        "\n",
        "    return model\n",
        "\n",
        "input_dim = X_real_train.shape[1]\n",
        "output_dim = y_train.shape[1]\n",
        "model = structured_NN(input_dim, output_dim)\n",
        "model.summary()"
      ]
    },
    {
      "cell_type": "code",
      "source": [
        "# ------------- FLOP counts ---------------\n",
        "\n",
        "# create concrete function for multiple inputs\n",
        "input_shape = (1, input_dim)  # batch size 1\n",
        "\n",
        "concrete_func = tf.function(model).get_concrete_function(\n",
        "    [tf.TensorSpec(input_shape, tf.float32),  # real_input\n",
        "     tf.TensorSpec(input_shape, tf.float32)]  # imag_input\n",
        ")\n",
        "\n",
        "from tensorflow.python.profiler import model_analyzer\n",
        "from tensorflow.python.profiler.option_builder import ProfileOptionBuilder\n",
        "\n",
        "profile_opts = ProfileOptionBuilder.float_operation()\n",
        "flops = model_analyzer.profile(concrete_func.graph, options=profile_opts)\n",
        "\n",
        "print('FLOPs:', flops.total_float_ops)"
      ],
      "metadata": {
        "colab": {
          "base_uri": "https://localhost:8080/"
        },
        "id": "5BaUchmzZbv8",
        "outputId": "7c701990-4f88-4163-88df-f15d502b668d"
      },
      "execution_count": 186,
      "outputs": [
        {
          "output_type": "stream",
          "name": "stdout",
          "text": [
            "FLOPs: 1312\n"
          ]
        }
      ]
    },
    {
      "cell_type": "markdown",
      "metadata": {
        "id": "m6uKLzpY7MRQ"
      },
      "source": [
        "Train Model"
      ]
    },
    {
      "cell_type": "code",
      "source": [
        "# from google.colab import drive\n",
        "# drive.mount('/content/drive')"
      ],
      "metadata": {
        "id": "9zZ7NyguUu4s"
      },
      "execution_count": 187,
      "outputs": []
    },
    {
      "cell_type": "code",
      "execution_count": 188,
      "metadata": {
        "colab": {
          "base_uri": "https://localhost:8080/"
        },
        "id": "hJU4uyCJ7NoL",
        "outputId": "fadca9af-d6b8-412d-d68b-0293061026af"
      },
      "outputs": [
        {
          "output_type": "stream",
          "name": "stdout",
          "text": [
            "Epoch 1/500\n",
            "\u001b[1m24/25\u001b[0m \u001b[32m━━━━━━━━━━━━━━━━━━━\u001b[0m\u001b[37m━\u001b[0m \u001b[1m0s\u001b[0m 7ms/step - custom_accuracy_without_padding: 0.1437 - custom_mse: 0.2791 - loss: 0.2823\n",
            "Epoch 1: val_loss improved from inf to 0.25722, saving model to /content/drive/MyDrive/10 Masters/Research/error-correcting-codes/ThisIsTheCleanest/weights/DFT_model_27.keras\n",
            "\u001b[1m25/25\u001b[0m \u001b[32m━━━━━━━━━━━━━━━━━━━━\u001b[0m\u001b[37m\u001b[0m \u001b[1m16s\u001b[0m 68ms/step - custom_accuracy_without_padding: 0.1435 - custom_mse: 0.2789 - loss: 0.2821 - val_custom_accuracy_without_padding: 0.1531 - val_custom_mse: 0.2531 - val_loss: 0.2572 - learning_rate: 0.0010\n",
            "Epoch 2/500\n",
            "\u001b[1m23/25\u001b[0m \u001b[32m━━━━━━━━━━━━━━━━━━\u001b[0m\u001b[37m━━\u001b[0m \u001b[1m0s\u001b[0m 7ms/step - custom_accuracy_without_padding: 0.1470 - custom_mse: 0.2539 - loss: 0.2570\n",
            "Epoch 2: val_loss improved from 0.25722 to 0.23294, saving model to /content/drive/MyDrive/10 Masters/Research/error-correcting-codes/ThisIsTheCleanest/weights/DFT_model_27.keras\n",
            "\u001b[1m25/25\u001b[0m \u001b[32m━━━━━━━━━━━━━━━━━━━━\u001b[0m\u001b[37m\u001b[0m \u001b[1m1s\u001b[0m 21ms/step - custom_accuracy_without_padding: 0.1465 - custom_mse: 0.2535 - loss: 0.2566 - val_custom_accuracy_without_padding: 0.1470 - val_custom_mse: 0.2288 - val_loss: 0.2329 - learning_rate: 0.0010\n",
            "Epoch 3/500\n",
            "\u001b[1m25/25\u001b[0m \u001b[32m━━━━━━━━━━━━━━━━━━━━\u001b[0m\u001b[37m\u001b[0m \u001b[1m0s\u001b[0m 7ms/step - custom_accuracy_without_padding: 0.1400 - custom_mse: 0.2338 - loss: 0.2369\n",
            "Epoch 3: val_loss improved from 0.23294 to 0.21006, saving model to /content/drive/MyDrive/10 Masters/Research/error-correcting-codes/ThisIsTheCleanest/weights/DFT_model_27.keras\n",
            "\u001b[1m25/25\u001b[0m \u001b[32m━━━━━━━━━━━━━━━━━━━━\u001b[0m\u001b[37m\u001b[0m \u001b[1m1s\u001b[0m 27ms/step - custom_accuracy_without_padding: 0.1401 - custom_mse: 0.2335 - loss: 0.2366 - val_custom_accuracy_without_padding: 0.1523 - val_custom_mse: 0.2061 - val_loss: 0.2101 - learning_rate: 0.0010\n",
            "Epoch 4/500\n",
            "\u001b[1m25/25\u001b[0m \u001b[32m━━━━━━━━━━━━━━━━━━━━\u001b[0m\u001b[37m\u001b[0m \u001b[1m0s\u001b[0m 12ms/step - custom_accuracy_without_padding: 0.1403 - custom_mse: 0.2086 - loss: 0.2118\n",
            "Epoch 4: val_loss improved from 0.21006 to 0.18758, saving model to /content/drive/MyDrive/10 Masters/Research/error-correcting-codes/ThisIsTheCleanest/weights/DFT_model_27.keras\n",
            "\u001b[1m25/25\u001b[0m \u001b[32m━━━━━━━━━━━━━━━━━━━━\u001b[0m\u001b[37m\u001b[0m \u001b[1m1s\u001b[0m 36ms/step - custom_accuracy_without_padding: 0.1404 - custom_mse: 0.2084 - loss: 0.2116 - val_custom_accuracy_without_padding: 0.1505 - val_custom_mse: 0.1837 - val_loss: 0.1876 - learning_rate: 0.0010\n",
            "Epoch 5/500\n",
            "\u001b[1m19/25\u001b[0m \u001b[32m━━━━━━━━━━━━━━━\u001b[0m\u001b[37m━━━━━\u001b[0m \u001b[1m0s\u001b[0m 6ms/step - custom_accuracy_without_padding: 0.1508 - custom_mse: 0.1837 - loss: 0.1870\n",
            "Epoch 5: val_loss improved from 0.18758 to 0.16436, saving model to /content/drive/MyDrive/10 Masters/Research/error-correcting-codes/ThisIsTheCleanest/weights/DFT_model_27.keras\n",
            "\u001b[1m25/25\u001b[0m \u001b[32m━━━━━━━━━━━━━━━━━━━━\u001b[0m\u001b[37m\u001b[0m \u001b[1m1s\u001b[0m 21ms/step - custom_accuracy_without_padding: 0.1496 - custom_mse: 0.1823 - loss: 0.1856 - val_custom_accuracy_without_padding: 0.1491 - val_custom_mse: 0.1607 - val_loss: 0.1644 - learning_rate: 0.0010\n",
            "Epoch 6/500\n",
            "\u001b[1m19/25\u001b[0m \u001b[32m━━━━━━━━━━━━━━━\u001b[0m\u001b[37m━━━━━\u001b[0m \u001b[1m0s\u001b[0m 6ms/step - custom_accuracy_without_padding: 0.1437 - custom_mse: 0.1613 - loss: 0.1647\n",
            "Epoch 6: val_loss improved from 0.16436 to 0.14173, saving model to /content/drive/MyDrive/10 Masters/Research/error-correcting-codes/ThisIsTheCleanest/weights/DFT_model_27.keras\n",
            "\u001b[1m25/25\u001b[0m \u001b[32m━━━━━━━━━━━━━━━━━━━━\u001b[0m\u001b[37m\u001b[0m \u001b[1m1s\u001b[0m 19ms/step - custom_accuracy_without_padding: 0.1438 - custom_mse: 0.1593 - loss: 0.1628 - val_custom_accuracy_without_padding: 0.1405 - val_custom_mse: 0.1385 - val_loss: 0.1417 - learning_rate: 0.0010\n",
            "Epoch 7/500\n",
            "\u001b[1m18/25\u001b[0m \u001b[32m━━━━━━━━━━━━━━\u001b[0m\u001b[37m━━━━━━\u001b[0m \u001b[1m0s\u001b[0m 6ms/step - custom_accuracy_without_padding: 0.1463 - custom_mse: 0.1358 - loss: 0.1394\n",
            "Epoch 7: val_loss improved from 0.14173 to 0.12666, saving model to /content/drive/MyDrive/10 Masters/Research/error-correcting-codes/ThisIsTheCleanest/weights/DFT_model_27.keras\n",
            "\u001b[1m25/25\u001b[0m \u001b[32m━━━━━━━━━━━━━━━━━━━━\u001b[0m\u001b[37m\u001b[0m \u001b[1m1s\u001b[0m 19ms/step - custom_accuracy_without_padding: 0.1454 - custom_mse: 0.1345 - loss: 0.1381 - val_custom_accuracy_without_padding: 0.1472 - val_custom_mse: 0.1240 - val_loss: 0.1267 - learning_rate: 0.0010\n",
            "Epoch 8/500\n",
            "\u001b[1m25/25\u001b[0m \u001b[32m━━━━━━━━━━━━━━━━━━━━\u001b[0m\u001b[37m\u001b[0m \u001b[1m0s\u001b[0m 6ms/step - custom_accuracy_without_padding: 0.1386 - custom_mse: 0.1190 - loss: 0.1226\n",
            "Epoch 8: val_loss improved from 0.12666 to 0.11643, saving model to /content/drive/MyDrive/10 Masters/Research/error-correcting-codes/ThisIsTheCleanest/weights/DFT_model_27.keras\n",
            "\u001b[1m25/25\u001b[0m \u001b[32m━━━━━━━━━━━━━━━━━━━━\u001b[0m\u001b[37m\u001b[0m \u001b[1m1s\u001b[0m 20ms/step - custom_accuracy_without_padding: 0.1386 - custom_mse: 0.1190 - loss: 0.1225 - val_custom_accuracy_without_padding: 0.1432 - val_custom_mse: 0.1138 - val_loss: 0.1164 - learning_rate: 0.0010\n",
            "Epoch 9/500\n",
            "\u001b[1m19/25\u001b[0m \u001b[32m━━━━━━━━━━━━━━━\u001b[0m\u001b[37m━━━━━\u001b[0m \u001b[1m0s\u001b[0m 6ms/step - custom_accuracy_without_padding: 0.1419 - custom_mse: 0.1091 - loss: 0.1126\n",
            "Epoch 9: val_loss improved from 0.11643 to 0.10978, saving model to /content/drive/MyDrive/10 Masters/Research/error-correcting-codes/ThisIsTheCleanest/weights/DFT_model_27.keras\n",
            "\u001b[1m25/25\u001b[0m \u001b[32m━━━━━━━━━━━━━━━━━━━━\u001b[0m\u001b[37m\u001b[0m \u001b[1m0s\u001b[0m 19ms/step - custom_accuracy_without_padding: 0.1417 - custom_mse: 0.1090 - loss: 0.1125 - val_custom_accuracy_without_padding: 0.1442 - val_custom_mse: 0.1071 - val_loss: 0.1098 - learning_rate: 0.0010\n",
            "Epoch 10/500\n",
            "\u001b[1m20/25\u001b[0m \u001b[32m━━━━━━━━━━━━━━━━\u001b[0m\u001b[37m━━━━\u001b[0m \u001b[1m0s\u001b[0m 6ms/step - custom_accuracy_without_padding: 0.1458 - custom_mse: 0.1039 - loss: 0.1073\n",
            "Epoch 10: val_loss improved from 0.10978 to 0.10520, saving model to /content/drive/MyDrive/10 Masters/Research/error-correcting-codes/ThisIsTheCleanest/weights/DFT_model_27.keras\n",
            "\u001b[1m25/25\u001b[0m \u001b[32m━━━━━━━━━━━━━━━━━━━━\u001b[0m\u001b[37m\u001b[0m \u001b[1m1s\u001b[0m 19ms/step - custom_accuracy_without_padding: 0.1456 - custom_mse: 0.1037 - loss: 0.1072 - val_custom_accuracy_without_padding: 0.1445 - val_custom_mse: 0.1025 - val_loss: 0.1052 - learning_rate: 0.0010\n",
            "Epoch 11/500\n",
            "\u001b[1m18/25\u001b[0m \u001b[32m━━━━━━━━━━━━━━\u001b[0m\u001b[37m━━━━━━\u001b[0m \u001b[1m0s\u001b[0m 6ms/step - custom_accuracy_without_padding: 0.1427 - custom_mse: 0.1004 - loss: 0.1038\n",
            "Epoch 11: val_loss improved from 0.10520 to 0.10182, saving model to /content/drive/MyDrive/10 Masters/Research/error-correcting-codes/ThisIsTheCleanest/weights/DFT_model_27.keras\n",
            "\u001b[1m25/25\u001b[0m \u001b[32m━━━━━━━━━━━━━━━━━━━━\u001b[0m\u001b[37m\u001b[0m \u001b[1m1s\u001b[0m 19ms/step - custom_accuracy_without_padding: 0.1445 - custom_mse: 0.1000 - loss: 0.1034 - val_custom_accuracy_without_padding: 0.1480 - val_custom_mse: 0.0992 - val_loss: 0.1018 - learning_rate: 0.0010\n",
            "Epoch 12/500\n",
            "\u001b[1m21/25\u001b[0m \u001b[32m━━━━━━━━━━━━━━━━\u001b[0m\u001b[37m━━━━\u001b[0m \u001b[1m0s\u001b[0m 8ms/step - custom_accuracy_without_padding: 0.1528 - custom_mse: 0.0958 - loss: 0.0992\n",
            "Epoch 12: val_loss improved from 0.10182 to 0.09897, saving model to /content/drive/MyDrive/10 Masters/Research/error-correcting-codes/ThisIsTheCleanest/weights/DFT_model_27.keras\n",
            "\u001b[1m25/25\u001b[0m \u001b[32m━━━━━━━━━━━━━━━━━━━━\u001b[0m\u001b[37m\u001b[0m \u001b[1m1s\u001b[0m 21ms/step - custom_accuracy_without_padding: 0.1529 - custom_mse: 0.0958 - loss: 0.0991 - val_custom_accuracy_without_padding: 0.1437 - val_custom_mse: 0.0964 - val_loss: 0.0990 - learning_rate: 0.0010\n",
            "Epoch 13/500\n",
            "\u001b[1m17/25\u001b[0m \u001b[32m━━━━━━━━━━━━━\u001b[0m\u001b[37m━━━━━━━\u001b[0m \u001b[1m0s\u001b[0m 7ms/step - custom_accuracy_without_padding: 0.1535 - custom_mse: 0.0938 - loss: 0.0971\n",
            "Epoch 13: val_loss improved from 0.09897 to 0.09693, saving model to /content/drive/MyDrive/10 Masters/Research/error-correcting-codes/ThisIsTheCleanest/weights/DFT_model_27.keras\n",
            "\u001b[1m25/25\u001b[0m \u001b[32m━━━━━━━━━━━━━━━━━━━━\u001b[0m\u001b[37m\u001b[0m \u001b[1m1s\u001b[0m 20ms/step - custom_accuracy_without_padding: 0.1535 - custom_mse: 0.0938 - loss: 0.0971 - val_custom_accuracy_without_padding: 0.1480 - val_custom_mse: 0.0944 - val_loss: 0.0969 - learning_rate: 0.0010\n",
            "Epoch 14/500\n",
            "\u001b[1m17/25\u001b[0m \u001b[32m━━━━━━━━━━━━━\u001b[0m\u001b[37m━━━━━━━\u001b[0m \u001b[1m0s\u001b[0m 6ms/step - custom_accuracy_without_padding: 0.1615 - custom_mse: 0.0923 - loss: 0.0956\n",
            "Epoch 14: val_loss improved from 0.09693 to 0.09517, saving model to /content/drive/MyDrive/10 Masters/Research/error-correcting-codes/ThisIsTheCleanest/weights/DFT_model_27.keras\n",
            "\u001b[1m25/25\u001b[0m \u001b[32m━━━━━━━━━━━━━━━━━━━━\u001b[0m\u001b[37m\u001b[0m \u001b[1m1s\u001b[0m 20ms/step - custom_accuracy_without_padding: 0.1605 - custom_mse: 0.0921 - loss: 0.0954 - val_custom_accuracy_without_padding: 0.1506 - val_custom_mse: 0.0926 - val_loss: 0.0952 - learning_rate: 0.0010\n",
            "Epoch 15/500\n",
            "\u001b[1m18/25\u001b[0m \u001b[32m━━━━━━━━━━━━━━\u001b[0m\u001b[37m━━━━━━\u001b[0m \u001b[1m0s\u001b[0m 6ms/step - custom_accuracy_without_padding: 0.1638 - custom_mse: 0.0899 - loss: 0.0931\n",
            "Epoch 15: val_loss improved from 0.09517 to 0.09373, saving model to /content/drive/MyDrive/10 Masters/Research/error-correcting-codes/ThisIsTheCleanest/weights/DFT_model_27.keras\n",
            "\u001b[1m25/25\u001b[0m \u001b[32m━━━━━━━━━━━━━━━━━━━━\u001b[0m\u001b[37m\u001b[0m \u001b[1m0s\u001b[0m 19ms/step - custom_accuracy_without_padding: 0.1628 - custom_mse: 0.0900 - loss: 0.0932 - val_custom_accuracy_without_padding: 0.1503 - val_custom_mse: 0.0913 - val_loss: 0.0937 - learning_rate: 0.0010\n",
            "Epoch 16/500\n",
            "\u001b[1m18/25\u001b[0m \u001b[32m━━━━━━━━━━━━━━\u001b[0m\u001b[37m━━━━━━\u001b[0m \u001b[1m0s\u001b[0m 6ms/step - custom_accuracy_without_padding: 0.1576 - custom_mse: 0.0889 - loss: 0.0921\n",
            "Epoch 16: val_loss improved from 0.09373 to 0.09254, saving model to /content/drive/MyDrive/10 Masters/Research/error-correcting-codes/ThisIsTheCleanest/weights/DFT_model_27.keras\n",
            "\u001b[1m25/25\u001b[0m \u001b[32m━━━━━━━━━━━━━━━━━━━━\u001b[0m\u001b[37m\u001b[0m \u001b[1m1s\u001b[0m 20ms/step - custom_accuracy_without_padding: 0.1589 - custom_mse: 0.0890 - loss: 0.0922 - val_custom_accuracy_without_padding: 0.1539 - val_custom_mse: 0.0901 - val_loss: 0.0925 - learning_rate: 0.0010\n",
            "Epoch 17/500\n",
            "\u001b[1m19/25\u001b[0m \u001b[32m━━━━━━━━━━━━━━━\u001b[0m\u001b[37m━━━━━\u001b[0m \u001b[1m0s\u001b[0m 6ms/step - custom_accuracy_without_padding: 0.1657 - custom_mse: 0.0882 - loss: 0.0914\n",
            "Epoch 17: val_loss improved from 0.09254 to 0.09142, saving model to /content/drive/MyDrive/10 Masters/Research/error-correcting-codes/ThisIsTheCleanest/weights/DFT_model_27.keras\n",
            "\u001b[1m25/25\u001b[0m \u001b[32m━━━━━━━━━━━━━━━━━━━━\u001b[0m\u001b[37m\u001b[0m \u001b[1m0s\u001b[0m 19ms/step - custom_accuracy_without_padding: 0.1661 - custom_mse: 0.0881 - loss: 0.0913 - val_custom_accuracy_without_padding: 0.1564 - val_custom_mse: 0.0890 - val_loss: 0.0914 - learning_rate: 0.0010\n",
            "Epoch 18/500\n",
            "\u001b[1m19/25\u001b[0m \u001b[32m━━━━━━━━━━━━━━━\u001b[0m\u001b[37m━━━━━\u001b[0m \u001b[1m0s\u001b[0m 6ms/step - custom_accuracy_without_padding: 0.1679 - custom_mse: 0.0866 - loss: 0.0896\n",
            "Epoch 18: val_loss improved from 0.09142 to 0.09045, saving model to /content/drive/MyDrive/10 Masters/Research/error-correcting-codes/ThisIsTheCleanest/weights/DFT_model_27.keras\n",
            "\u001b[1m25/25\u001b[0m \u001b[32m━━━━━━━━━━━━━━━━━━━━\u001b[0m\u001b[37m\u001b[0m \u001b[1m1s\u001b[0m 20ms/step - custom_accuracy_without_padding: 0.1676 - custom_mse: 0.0867 - loss: 0.0898 - val_custom_accuracy_without_padding: 0.1564 - val_custom_mse: 0.0881 - val_loss: 0.0904 - learning_rate: 0.0010\n",
            "Epoch 19/500\n",
            "\u001b[1m18/25\u001b[0m \u001b[32m━━━━━━━━━━━━━━\u001b[0m\u001b[37m━━━━━━\u001b[0m \u001b[1m0s\u001b[0m 6ms/step - custom_accuracy_without_padding: 0.1655 - custom_mse: 0.0876 - loss: 0.0907\n",
            "Epoch 19: val_loss improved from 0.09045 to 0.08960, saving model to /content/drive/MyDrive/10 Masters/Research/error-correcting-codes/ThisIsTheCleanest/weights/DFT_model_27.keras\n",
            "\u001b[1m25/25\u001b[0m \u001b[32m━━━━━━━━━━━━━━━━━━━━\u001b[0m\u001b[37m\u001b[0m \u001b[1m1s\u001b[0m 20ms/step - custom_accuracy_without_padding: 0.1668 - custom_mse: 0.0872 - loss: 0.0902 - val_custom_accuracy_without_padding: 0.1597 - val_custom_mse: 0.0873 - val_loss: 0.0896 - learning_rate: 0.0010\n",
            "Epoch 20/500\n",
            "\u001b[1m19/25\u001b[0m \u001b[32m━━━━━━━━━━━━━━━\u001b[0m\u001b[37m━━━━━\u001b[0m \u001b[1m0s\u001b[0m 6ms/step - custom_accuracy_without_padding: 0.1725 - custom_mse: 0.0851 - loss: 0.0882\n",
            "Epoch 20: val_loss improved from 0.08960 to 0.08862, saving model to /content/drive/MyDrive/10 Masters/Research/error-correcting-codes/ThisIsTheCleanest/weights/DFT_model_27.keras\n",
            "\u001b[1m25/25\u001b[0m \u001b[32m━━━━━━━━━━━━━━━━━━━━\u001b[0m\u001b[37m\u001b[0m \u001b[1m1s\u001b[0m 20ms/step - custom_accuracy_without_padding: 0.1724 - custom_mse: 0.0852 - loss: 0.0882 - val_custom_accuracy_without_padding: 0.1612 - val_custom_mse: 0.0863 - val_loss: 0.0886 - learning_rate: 0.0010\n",
            "Epoch 21/500\n",
            "\u001b[1m25/25\u001b[0m \u001b[32m━━━━━━━━━━━━━━━━━━━━\u001b[0m\u001b[37m\u001b[0m \u001b[1m0s\u001b[0m 7ms/step - custom_accuracy_without_padding: 0.1754 - custom_mse: 0.0845 - loss: 0.0875\n",
            "Epoch 21: val_loss improved from 0.08862 to 0.08772, saving model to /content/drive/MyDrive/10 Masters/Research/error-correcting-codes/ThisIsTheCleanest/weights/DFT_model_27.keras\n",
            "\u001b[1m25/25\u001b[0m \u001b[32m━━━━━━━━━━━━━━━━━━━━\u001b[0m\u001b[37m\u001b[0m \u001b[1m1s\u001b[0m 23ms/step - custom_accuracy_without_padding: 0.1754 - custom_mse: 0.0845 - loss: 0.0875 - val_custom_accuracy_without_padding: 0.1637 - val_custom_mse: 0.0854 - val_loss: 0.0877 - learning_rate: 0.0010\n",
            "Epoch 22/500\n",
            "\u001b[1m25/25\u001b[0m \u001b[32m━━━━━━━━━━━━━━━━━━━━\u001b[0m\u001b[37m\u001b[0m \u001b[1m0s\u001b[0m 11ms/step - custom_accuracy_without_padding: 0.1788 - custom_mse: 0.0832 - loss: 0.0862\n",
            "Epoch 22: val_loss improved from 0.08772 to 0.08671, saving model to /content/drive/MyDrive/10 Masters/Research/error-correcting-codes/ThisIsTheCleanest/weights/DFT_model_27.keras\n",
            "\u001b[1m25/25\u001b[0m \u001b[32m━━━━━━━━━━━━━━━━━━━━\u001b[0m\u001b[37m\u001b[0m \u001b[1m1s\u001b[0m 34ms/step - custom_accuracy_without_padding: 0.1788 - custom_mse: 0.0832 - loss: 0.0862 - val_custom_accuracy_without_padding: 0.1640 - val_custom_mse: 0.0844 - val_loss: 0.0867 - learning_rate: 0.0010\n",
            "Epoch 23/500\n",
            "\u001b[1m23/25\u001b[0m \u001b[32m━━━━━━━━━━━━━━━━━━\u001b[0m\u001b[37m━━\u001b[0m \u001b[1m0s\u001b[0m 12ms/step - custom_accuracy_without_padding: 0.1802 - custom_mse: 0.0823 - loss: 0.0852\n",
            "Epoch 23: val_loss improved from 0.08671 to 0.08569, saving model to /content/drive/MyDrive/10 Masters/Research/error-correcting-codes/ThisIsTheCleanest/weights/DFT_model_27.keras\n",
            "\u001b[1m25/25\u001b[0m \u001b[32m━━━━━━━━━━━━━━━━━━━━\u001b[0m\u001b[37m\u001b[0m \u001b[1m1s\u001b[0m 37ms/step - custom_accuracy_without_padding: 0.1804 - custom_mse: 0.0823 - loss: 0.0852 - val_custom_accuracy_without_padding: 0.1691 - val_custom_mse: 0.0834 - val_loss: 0.0857 - learning_rate: 0.0010\n",
            "Epoch 24/500\n",
            "\u001b[1m24/25\u001b[0m \u001b[32m━━━━━━━━━━━━━━━━━━━\u001b[0m\u001b[37m━\u001b[0m \u001b[1m0s\u001b[0m 7ms/step - custom_accuracy_without_padding: 0.1819 - custom_mse: 0.0816 - loss: 0.0845\n",
            "Epoch 24: val_loss improved from 0.08569 to 0.08462, saving model to /content/drive/MyDrive/10 Masters/Research/error-correcting-codes/ThisIsTheCleanest/weights/DFT_model_27.keras\n",
            "\u001b[1m25/25\u001b[0m \u001b[32m━━━━━━━━━━━━━━━━━━━━\u001b[0m\u001b[37m\u001b[0m \u001b[1m1s\u001b[0m 21ms/step - custom_accuracy_without_padding: 0.1822 - custom_mse: 0.0816 - loss: 0.0845 - val_custom_accuracy_without_padding: 0.1725 - val_custom_mse: 0.0824 - val_loss: 0.0846 - learning_rate: 0.0010\n",
            "Epoch 25/500\n",
            "\u001b[1m18/25\u001b[0m \u001b[32m━━━━━━━━━━━━━━\u001b[0m\u001b[37m━━━━━━\u001b[0m \u001b[1m0s\u001b[0m 6ms/step - custom_accuracy_without_padding: 0.1846 - custom_mse: 0.0819 - loss: 0.0847\n",
            "Epoch 25: val_loss improved from 0.08462 to 0.08366, saving model to /content/drive/MyDrive/10 Masters/Research/error-correcting-codes/ThisIsTheCleanest/weights/DFT_model_27.keras\n",
            "\u001b[1m25/25\u001b[0m \u001b[32m━━━━━━━━━━━━━━━━━━━━\u001b[0m\u001b[37m\u001b[0m \u001b[1m1s\u001b[0m 20ms/step - custom_accuracy_without_padding: 0.1855 - custom_mse: 0.0816 - loss: 0.0844 - val_custom_accuracy_without_padding: 0.1761 - val_custom_mse: 0.0814 - val_loss: 0.0837 - learning_rate: 0.0010\n",
            "Epoch 26/500\n",
            "\u001b[1m24/25\u001b[0m \u001b[32m━━━━━━━━━━━━━━━━━━━\u001b[0m\u001b[37m━\u001b[0m \u001b[1m0s\u001b[0m 7ms/step - custom_accuracy_without_padding: 0.1922 - custom_mse: 0.0798 - loss: 0.0826\n",
            "Epoch 26: val_loss improved from 0.08366 to 0.08249, saving model to /content/drive/MyDrive/10 Masters/Research/error-correcting-codes/ThisIsTheCleanest/weights/DFT_model_27.keras\n",
            "\u001b[1m25/25\u001b[0m \u001b[32m━━━━━━━━━━━━━━━━━━━━\u001b[0m\u001b[37m\u001b[0m \u001b[1m1s\u001b[0m 20ms/step - custom_accuracy_without_padding: 0.1922 - custom_mse: 0.0798 - loss: 0.0826 - val_custom_accuracy_without_padding: 0.1787 - val_custom_mse: 0.0802 - val_loss: 0.0825 - learning_rate: 0.0010\n",
            "Epoch 27/500\n",
            "\u001b[1m19/25\u001b[0m \u001b[32m━━━━━━━━━━━━━━━\u001b[0m\u001b[37m━━━━━\u001b[0m \u001b[1m0s\u001b[0m 6ms/step - custom_accuracy_without_padding: 0.1952 - custom_mse: 0.0788 - loss: 0.0816\n",
            "Epoch 27: val_loss improved from 0.08249 to 0.08138, saving model to /content/drive/MyDrive/10 Masters/Research/error-correcting-codes/ThisIsTheCleanest/weights/DFT_model_27.keras\n",
            "\u001b[1m25/25\u001b[0m \u001b[32m━━━━━━━━━━━━━━━━━━━━\u001b[0m\u001b[37m\u001b[0m \u001b[1m0s\u001b[0m 19ms/step - custom_accuracy_without_padding: 0.1959 - custom_mse: 0.0788 - loss: 0.0816 - val_custom_accuracy_without_padding: 0.1842 - val_custom_mse: 0.0791 - val_loss: 0.0814 - learning_rate: 0.0010\n",
            "Epoch 28/500\n",
            "\u001b[1m19/25\u001b[0m \u001b[32m━━━━━━━━━━━━━━━\u001b[0m\u001b[37m━━━━━\u001b[0m \u001b[1m0s\u001b[0m 6ms/step - custom_accuracy_without_padding: 0.2011 - custom_mse: 0.0778 - loss: 0.0806\n",
            "Epoch 28: val_loss improved from 0.08138 to 0.08036, saving model to /content/drive/MyDrive/10 Masters/Research/error-correcting-codes/ThisIsTheCleanest/weights/DFT_model_27.keras\n",
            "\u001b[1m25/25\u001b[0m \u001b[32m━━━━━━━━━━━━━━━━━━━━\u001b[0m\u001b[37m\u001b[0m \u001b[1m1s\u001b[0m 20ms/step - custom_accuracy_without_padding: 0.2012 - custom_mse: 0.0779 - loss: 0.0806 - val_custom_accuracy_without_padding: 0.1938 - val_custom_mse: 0.0781 - val_loss: 0.0804 - learning_rate: 0.0010\n",
            "Epoch 29/500\n",
            "\u001b[1m19/25\u001b[0m \u001b[32m━━━━━━━━━━━━━━━\u001b[0m\u001b[37m━━━━━\u001b[0m \u001b[1m0s\u001b[0m 6ms/step - custom_accuracy_without_padding: 0.2032 - custom_mse: 0.0768 - loss: 0.0795\n",
            "Epoch 29: val_loss improved from 0.08036 to 0.07929, saving model to /content/drive/MyDrive/10 Masters/Research/error-correcting-codes/ThisIsTheCleanest/weights/DFT_model_27.keras\n",
            "\u001b[1m25/25\u001b[0m \u001b[32m━━━━━━━━━━━━━━━━━━━━\u001b[0m\u001b[37m\u001b[0m \u001b[1m1s\u001b[0m 20ms/step - custom_accuracy_without_padding: 0.2040 - custom_mse: 0.0769 - loss: 0.0796 - val_custom_accuracy_without_padding: 0.1996 - val_custom_mse: 0.0770 - val_loss: 0.0793 - learning_rate: 0.0010\n",
            "Epoch 30/500\n",
            "\u001b[1m19/25\u001b[0m \u001b[32m━━━━━━━━━━━━━━━\u001b[0m\u001b[37m━━━━━\u001b[0m \u001b[1m0s\u001b[0m 6ms/step - custom_accuracy_without_padding: 0.2056 - custom_mse: 0.0766 - loss: 0.0793\n",
            "Epoch 30: val_loss improved from 0.07929 to 0.07838, saving model to /content/drive/MyDrive/10 Masters/Research/error-correcting-codes/ThisIsTheCleanest/weights/DFT_model_27.keras\n",
            "\u001b[1m25/25\u001b[0m \u001b[32m━━━━━━━━━━━━━━━━━━━━\u001b[0m\u001b[37m\u001b[0m \u001b[1m1s\u001b[0m 19ms/step - custom_accuracy_without_padding: 0.2077 - custom_mse: 0.0764 - loss: 0.0791 - val_custom_accuracy_without_padding: 0.2052 - val_custom_mse: 0.0761 - val_loss: 0.0784 - learning_rate: 0.0010\n",
            "Epoch 31/500\n",
            "\u001b[1m23/25\u001b[0m \u001b[32m━━━━━━━━━━━━━━━━━━\u001b[0m\u001b[37m━━\u001b[0m \u001b[1m0s\u001b[0m 7ms/step - custom_accuracy_without_padding: 0.2209 - custom_mse: 0.0751 - loss: 0.0778\n",
            "Epoch 31: val_loss improved from 0.07838 to 0.07742, saving model to /content/drive/MyDrive/10 Masters/Research/error-correcting-codes/ThisIsTheCleanest/weights/DFT_model_27.keras\n",
            "\u001b[1m25/25\u001b[0m \u001b[32m━━━━━━━━━━━━━━━━━━━━\u001b[0m\u001b[37m\u001b[0m \u001b[1m1s\u001b[0m 21ms/step - custom_accuracy_without_padding: 0.2210 - custom_mse: 0.0751 - loss: 0.0778 - val_custom_accuracy_without_padding: 0.2164 - val_custom_mse: 0.0751 - val_loss: 0.0774 - learning_rate: 0.0010\n",
            "Epoch 32/500\n",
            "\u001b[1m17/25\u001b[0m \u001b[32m━━━━━━━━━━━━━\u001b[0m\u001b[37m━━━━━━━\u001b[0m \u001b[1m0s\u001b[0m 6ms/step - custom_accuracy_without_padding: 0.2289 - custom_mse: 0.0751 - loss: 0.0778\n",
            "Epoch 32: val_loss improved from 0.07742 to 0.07664, saving model to /content/drive/MyDrive/10 Masters/Research/error-correcting-codes/ThisIsTheCleanest/weights/DFT_model_27.keras\n",
            "\u001b[1m25/25\u001b[0m \u001b[32m━━━━━━━━━━━━━━━━━━━━\u001b[0m\u001b[37m\u001b[0m \u001b[1m1s\u001b[0m 20ms/step - custom_accuracy_without_padding: 0.2287 - custom_mse: 0.0749 - loss: 0.0776 - val_custom_accuracy_without_padding: 0.2234 - val_custom_mse: 0.0742 - val_loss: 0.0766 - learning_rate: 0.0010\n",
            "Epoch 33/500\n",
            "\u001b[1m23/25\u001b[0m \u001b[32m━━━━━━━━━━━━━━━━━━\u001b[0m\u001b[37m━━\u001b[0m \u001b[1m0s\u001b[0m 7ms/step - custom_accuracy_without_padding: 0.2329 - custom_mse: 0.0734 - loss: 0.0760\n",
            "Epoch 33: val_loss improved from 0.07664 to 0.07584, saving model to /content/drive/MyDrive/10 Masters/Research/error-correcting-codes/ThisIsTheCleanest/weights/DFT_model_27.keras\n",
            "\u001b[1m25/25\u001b[0m \u001b[32m━━━━━━━━━━━━━━━━━━━━\u001b[0m\u001b[37m\u001b[0m \u001b[1m1s\u001b[0m 21ms/step - custom_accuracy_without_padding: 0.2332 - custom_mse: 0.0735 - loss: 0.0761 - val_custom_accuracy_without_padding: 0.2307 - val_custom_mse: 0.0734 - val_loss: 0.0758 - learning_rate: 0.0010\n",
            "Epoch 34/500\n",
            "\u001b[1m25/25\u001b[0m \u001b[32m━━━━━━━━━━━━━━━━━━━━\u001b[0m\u001b[37m\u001b[0m \u001b[1m0s\u001b[0m 6ms/step - custom_accuracy_without_padding: 0.2426 - custom_mse: 0.0731 - loss: 0.0756\n",
            "Epoch 34: val_loss improved from 0.07584 to 0.07519, saving model to /content/drive/MyDrive/10 Masters/Research/error-correcting-codes/ThisIsTheCleanest/weights/DFT_model_27.keras\n",
            "\u001b[1m25/25\u001b[0m \u001b[32m━━━━━━━━━━━━━━━━━━━━\u001b[0m\u001b[37m\u001b[0m \u001b[1m1s\u001b[0m 20ms/step - custom_accuracy_without_padding: 0.2425 - custom_mse: 0.0731 - loss: 0.0757 - val_custom_accuracy_without_padding: 0.2396 - val_custom_mse: 0.0727 - val_loss: 0.0752 - learning_rate: 0.0010\n",
            "Epoch 35/500\n",
            "\u001b[1m18/25\u001b[0m \u001b[32m━━━━━━━━━━━━━━\u001b[0m\u001b[37m━━━━━━\u001b[0m \u001b[1m0s\u001b[0m 6ms/step - custom_accuracy_without_padding: 0.2466 - custom_mse: 0.0728 - loss: 0.0753\n",
            "Epoch 35: val_loss improved from 0.07519 to 0.07460, saving model to /content/drive/MyDrive/10 Masters/Research/error-correcting-codes/ThisIsTheCleanest/weights/DFT_model_27.keras\n",
            "\u001b[1m25/25\u001b[0m \u001b[32m━━━━━━━━━━━━━━━━━━━━\u001b[0m\u001b[37m\u001b[0m \u001b[1m1s\u001b[0m 19ms/step - custom_accuracy_without_padding: 0.2466 - custom_mse: 0.0728 - loss: 0.0753 - val_custom_accuracy_without_padding: 0.2449 - val_custom_mse: 0.0722 - val_loss: 0.0746 - learning_rate: 0.0010\n",
            "Epoch 36/500\n",
            "\u001b[1m19/25\u001b[0m \u001b[32m━━━━━━━━━━━━━━━\u001b[0m\u001b[37m━━━━━\u001b[0m \u001b[1m0s\u001b[0m 6ms/step - custom_accuracy_without_padding: 0.2563 - custom_mse: 0.0714 - loss: 0.0740\n",
            "Epoch 36: val_loss improved from 0.07460 to 0.07401, saving model to /content/drive/MyDrive/10 Masters/Research/error-correcting-codes/ThisIsTheCleanest/weights/DFT_model_27.keras\n",
            "\u001b[1m25/25\u001b[0m \u001b[32m━━━━━━━━━━━━━━━━━━━━\u001b[0m\u001b[37m\u001b[0m \u001b[1m1s\u001b[0m 20ms/step - custom_accuracy_without_padding: 0.2552 - custom_mse: 0.0716 - loss: 0.0741 - val_custom_accuracy_without_padding: 0.2482 - val_custom_mse: 0.0715 - val_loss: 0.0740 - learning_rate: 0.0010\n",
            "Epoch 37/500\n",
            "\u001b[1m18/25\u001b[0m \u001b[32m━━━━━━━━━━━━━━\u001b[0m\u001b[37m━━━━━━\u001b[0m \u001b[1m0s\u001b[0m 6ms/step - custom_accuracy_without_padding: 0.2499 - custom_mse: 0.0716 - loss: 0.0741\n",
            "Epoch 37: val_loss improved from 0.07401 to 0.07344, saving model to /content/drive/MyDrive/10 Masters/Research/error-correcting-codes/ThisIsTheCleanest/weights/DFT_model_27.keras\n",
            "\u001b[1m25/25\u001b[0m \u001b[32m━━━━━━━━━━━━━━━━━━━━\u001b[0m\u001b[37m\u001b[0m \u001b[1m1s\u001b[0m 21ms/step - custom_accuracy_without_padding: 0.2512 - custom_mse: 0.0716 - loss: 0.0741 - val_custom_accuracy_without_padding: 0.2545 - val_custom_mse: 0.0710 - val_loss: 0.0734 - learning_rate: 0.0010\n",
            "Epoch 38/500\n",
            "\u001b[1m19/25\u001b[0m \u001b[32m━━━━━━━━━━━━━━━\u001b[0m\u001b[37m━━━━━\u001b[0m \u001b[1m0s\u001b[0m 6ms/step - custom_accuracy_without_padding: 0.2596 - custom_mse: 0.0713 - loss: 0.0737\n",
            "Epoch 38: val_loss improved from 0.07344 to 0.07300, saving model to /content/drive/MyDrive/10 Masters/Research/error-correcting-codes/ThisIsTheCleanest/weights/DFT_model_27.keras\n",
            "\u001b[1m25/25\u001b[0m \u001b[32m━━━━━━━━━━━━━━━━━━━━\u001b[0m\u001b[37m\u001b[0m \u001b[1m0s\u001b[0m 19ms/step - custom_accuracy_without_padding: 0.2589 - custom_mse: 0.0713 - loss: 0.0738 - val_custom_accuracy_without_padding: 0.2571 - val_custom_mse: 0.0705 - val_loss: 0.0730 - learning_rate: 0.0010\n",
            "Epoch 39/500\n",
            "\u001b[1m19/25\u001b[0m \u001b[32m━━━━━━━━━━━━━━━\u001b[0m\u001b[37m━━━━━\u001b[0m \u001b[1m0s\u001b[0m 6ms/step - custom_accuracy_without_padding: 0.2547 - custom_mse: 0.0721 - loss: 0.0745\n",
            "Epoch 39: val_loss improved from 0.07300 to 0.07251, saving model to /content/drive/MyDrive/10 Masters/Research/error-correcting-codes/ThisIsTheCleanest/weights/DFT_model_27.keras\n",
            "\u001b[1m25/25\u001b[0m \u001b[32m━━━━━━━━━━━━━━━━━━━━\u001b[0m\u001b[37m\u001b[0m \u001b[1m0s\u001b[0m 19ms/step - custom_accuracy_without_padding: 0.2560 - custom_mse: 0.0718 - loss: 0.0742 - val_custom_accuracy_without_padding: 0.2612 - val_custom_mse: 0.0701 - val_loss: 0.0725 - learning_rate: 0.0010\n",
            "Epoch 40/500\n",
            "\u001b[1m17/25\u001b[0m \u001b[32m━━━━━━━━━━━━━\u001b[0m\u001b[37m━━━━━━━\u001b[0m \u001b[1m0s\u001b[0m 6ms/step - custom_accuracy_without_padding: 0.2676 - custom_mse: 0.0702 - loss: 0.0726\n",
            "Epoch 40: val_loss improved from 0.07251 to 0.07198, saving model to /content/drive/MyDrive/10 Masters/Research/error-correcting-codes/ThisIsTheCleanest/weights/DFT_model_27.keras\n",
            "\u001b[1m25/25\u001b[0m \u001b[32m━━━━━━━━━━━━━━━━━━━━\u001b[0m\u001b[37m\u001b[0m \u001b[1m1s\u001b[0m 22ms/step - custom_accuracy_without_padding: 0.2661 - custom_mse: 0.0702 - loss: 0.0727 - val_custom_accuracy_without_padding: 0.2655 - val_custom_mse: 0.0696 - val_loss: 0.0720 - learning_rate: 0.0010\n",
            "Epoch 41/500\n",
            "\u001b[1m25/25\u001b[0m \u001b[32m━━━━━━━━━━━━━━━━━━━━\u001b[0m\u001b[37m\u001b[0m \u001b[1m0s\u001b[0m 6ms/step - custom_accuracy_without_padding: 0.2630 - custom_mse: 0.0699 - loss: 0.0723\n",
            "Epoch 41: val_loss improved from 0.07198 to 0.07150, saving model to /content/drive/MyDrive/10 Masters/Research/error-correcting-codes/ThisIsTheCleanest/weights/DFT_model_27.keras\n",
            "\u001b[1m25/25\u001b[0m \u001b[32m━━━━━━━━━━━━━━━━━━━━\u001b[0m\u001b[37m\u001b[0m \u001b[1m1s\u001b[0m 29ms/step - custom_accuracy_without_padding: 0.2631 - custom_mse: 0.0699 - loss: 0.0723 - val_custom_accuracy_without_padding: 0.2679 - val_custom_mse: 0.0691 - val_loss: 0.0715 - learning_rate: 0.0010\n",
            "Epoch 42/500\n",
            "\u001b[1m23/25\u001b[0m \u001b[32m━━━━━━━━━━━━━━━━━━\u001b[0m\u001b[37m━━\u001b[0m \u001b[1m0s\u001b[0m 12ms/step - custom_accuracy_without_padding: 0.2620 - custom_mse: 0.0693 - loss: 0.0717\n",
            "Epoch 42: val_loss improved from 0.07150 to 0.07109, saving model to /content/drive/MyDrive/10 Masters/Research/error-correcting-codes/ThisIsTheCleanest/weights/DFT_model_27.keras\n",
            "\u001b[1m25/25\u001b[0m \u001b[32m━━━━━━━━━━━━━━━━━━━━\u001b[0m\u001b[37m\u001b[0m \u001b[1m1s\u001b[0m 32ms/step - custom_accuracy_without_padding: 0.2626 - custom_mse: 0.0693 - loss: 0.0717 - val_custom_accuracy_without_padding: 0.2697 - val_custom_mse: 0.0687 - val_loss: 0.0711 - learning_rate: 0.0010\n",
            "Epoch 43/500\n",
            "\u001b[1m25/25\u001b[0m \u001b[32m━━━━━━━━━━━━━━━━━━━━\u001b[0m\u001b[37m\u001b[0m \u001b[1m0s\u001b[0m 12ms/step - custom_accuracy_without_padding: 0.2734 - custom_mse: 0.0692 - loss: 0.0716\n",
            "Epoch 43: val_loss improved from 0.07109 to 0.07057, saving model to /content/drive/MyDrive/10 Masters/Research/error-correcting-codes/ThisIsTheCleanest/weights/DFT_model_27.keras\n",
            "\u001b[1m25/25\u001b[0m \u001b[32m━━━━━━━━━━━━━━━━━━━━\u001b[0m\u001b[37m\u001b[0m \u001b[1m1s\u001b[0m 31ms/step - custom_accuracy_without_padding: 0.2733 - custom_mse: 0.0692 - loss: 0.0716 - val_custom_accuracy_without_padding: 0.2712 - val_custom_mse: 0.0683 - val_loss: 0.0706 - learning_rate: 0.0010\n",
            "Epoch 44/500\n",
            "\u001b[1m25/25\u001b[0m \u001b[32m━━━━━━━━━━━━━━━━━━━━\u001b[0m\u001b[37m\u001b[0m \u001b[1m0s\u001b[0m 7ms/step - custom_accuracy_without_padding: 0.2736 - custom_mse: 0.0685 - loss: 0.0708\n",
            "Epoch 44: val_loss improved from 0.07057 to 0.07024, saving model to /content/drive/MyDrive/10 Masters/Research/error-correcting-codes/ThisIsTheCleanest/weights/DFT_model_27.keras\n",
            "\u001b[1m25/25\u001b[0m \u001b[32m━━━━━━━━━━━━━━━━━━━━\u001b[0m\u001b[37m\u001b[0m \u001b[1m1s\u001b[0m 20ms/step - custom_accuracy_without_padding: 0.2735 - custom_mse: 0.0685 - loss: 0.0708 - val_custom_accuracy_without_padding: 0.2733 - val_custom_mse: 0.0680 - val_loss: 0.0702 - learning_rate: 0.0010\n",
            "Epoch 45/500\n",
            "\u001b[1m18/25\u001b[0m \u001b[32m━━━━━━━━━━━━━━\u001b[0m\u001b[37m━━━━━━\u001b[0m \u001b[1m0s\u001b[0m 6ms/step - custom_accuracy_without_padding: 0.2809 - custom_mse: 0.0684 - loss: 0.0707\n",
            "Epoch 45: val_loss improved from 0.07024 to 0.06982, saving model to /content/drive/MyDrive/10 Masters/Research/error-correcting-codes/ThisIsTheCleanest/weights/DFT_model_27.keras\n",
            "\u001b[1m25/25\u001b[0m \u001b[32m━━━━━━━━━━━━━━━━━━━━\u001b[0m\u001b[37m\u001b[0m \u001b[1m0s\u001b[0m 19ms/step - custom_accuracy_without_padding: 0.2795 - custom_mse: 0.0683 - loss: 0.0706 - val_custom_accuracy_without_padding: 0.2740 - val_custom_mse: 0.0676 - val_loss: 0.0698 - learning_rate: 0.0010\n",
            "Epoch 46/500\n",
            "\u001b[1m17/25\u001b[0m \u001b[32m━━━━━━━━━━━━━\u001b[0m\u001b[37m━━━━━━━\u001b[0m \u001b[1m0s\u001b[0m 6ms/step - custom_accuracy_without_padding: 0.2746 - custom_mse: 0.0681 - loss: 0.0704\n",
            "Epoch 46: val_loss improved from 0.06982 to 0.06945, saving model to /content/drive/MyDrive/10 Masters/Research/error-correcting-codes/ThisIsTheCleanest/weights/DFT_model_27.keras\n",
            "\u001b[1m25/25\u001b[0m \u001b[32m━━━━━━━━━━━━━━━━━━━━\u001b[0m\u001b[37m\u001b[0m \u001b[1m1s\u001b[0m 20ms/step - custom_accuracy_without_padding: 0.2755 - custom_mse: 0.0680 - loss: 0.0703 - val_custom_accuracy_without_padding: 0.2778 - val_custom_mse: 0.0673 - val_loss: 0.0695 - learning_rate: 0.0010\n",
            "Epoch 47/500\n",
            "\u001b[1m25/25\u001b[0m \u001b[32m━━━━━━━━━━━━━━━━━━━━\u001b[0m\u001b[37m\u001b[0m \u001b[1m0s\u001b[0m 7ms/step - custom_accuracy_without_padding: 0.2809 - custom_mse: 0.0673 - loss: 0.0695\n",
            "Epoch 47: val_loss improved from 0.06945 to 0.06916, saving model to /content/drive/MyDrive/10 Masters/Research/error-correcting-codes/ThisIsTheCleanest/weights/DFT_model_27.keras\n",
            "\u001b[1m25/25\u001b[0m \u001b[32m━━━━━━━━━━━━━━━━━━━━\u001b[0m\u001b[37m\u001b[0m \u001b[1m1s\u001b[0m 20ms/step - custom_accuracy_without_padding: 0.2808 - custom_mse: 0.0673 - loss: 0.0695 - val_custom_accuracy_without_padding: 0.2816 - val_custom_mse: 0.0670 - val_loss: 0.0692 - learning_rate: 0.0010\n",
            "Epoch 48/500\n",
            "\u001b[1m17/25\u001b[0m \u001b[32m━━━━━━━━━━━━━\u001b[0m\u001b[37m━━━━━━━\u001b[0m \u001b[1m0s\u001b[0m 7ms/step - custom_accuracy_without_padding: 0.2881 - custom_mse: 0.0660 - loss: 0.0682\n",
            "Epoch 48: val_loss improved from 0.06916 to 0.06878, saving model to /content/drive/MyDrive/10 Masters/Research/error-correcting-codes/ThisIsTheCleanest/weights/DFT_model_27.keras\n",
            "\u001b[1m25/25\u001b[0m \u001b[32m━━━━━━━━━━━━━━━━━━━━\u001b[0m\u001b[37m\u001b[0m \u001b[1m1s\u001b[0m 20ms/step - custom_accuracy_without_padding: 0.2870 - custom_mse: 0.0663 - loss: 0.0685 - val_custom_accuracy_without_padding: 0.2872 - val_custom_mse: 0.0667 - val_loss: 0.0688 - learning_rate: 0.0010\n",
            "Epoch 49/500\n",
            "\u001b[1m18/25\u001b[0m \u001b[32m━━━━━━━━━━━━━━\u001b[0m\u001b[37m━━━━━━\u001b[0m \u001b[1m0s\u001b[0m 6ms/step - custom_accuracy_without_padding: 0.2832 - custom_mse: 0.0671 - loss: 0.0694\n",
            "Epoch 49: val_loss improved from 0.06878 to 0.06848, saving model to /content/drive/MyDrive/10 Masters/Research/error-correcting-codes/ThisIsTheCleanest/weights/DFT_model_27.keras\n",
            "\u001b[1m25/25\u001b[0m \u001b[32m━━━━━━━━━━━━━━━━━━━━\u001b[0m\u001b[37m\u001b[0m \u001b[1m1s\u001b[0m 20ms/step - custom_accuracy_without_padding: 0.2840 - custom_mse: 0.0671 - loss: 0.0693 - val_custom_accuracy_without_padding: 0.2862 - val_custom_mse: 0.0664 - val_loss: 0.0685 - learning_rate: 0.0010\n",
            "Epoch 50/500\n",
            "\u001b[1m18/25\u001b[0m \u001b[32m━━━━━━━━━━━━━━\u001b[0m\u001b[37m━━━━━━\u001b[0m \u001b[1m0s\u001b[0m 6ms/step - custom_accuracy_without_padding: 0.2924 - custom_mse: 0.0667 - loss: 0.0690\n",
            "Epoch 50: val_loss improved from 0.06848 to 0.06811, saving model to /content/drive/MyDrive/10 Masters/Research/error-correcting-codes/ThisIsTheCleanest/weights/DFT_model_27.keras\n",
            "\u001b[1m25/25\u001b[0m \u001b[32m━━━━━━━━━━━━━━━━━━━━\u001b[0m\u001b[37m\u001b[0m \u001b[1m1s\u001b[0m 19ms/step - custom_accuracy_without_padding: 0.2916 - custom_mse: 0.0667 - loss: 0.0689 - val_custom_accuracy_without_padding: 0.2925 - val_custom_mse: 0.0661 - val_loss: 0.0681 - learning_rate: 0.0010\n",
            "Epoch 51/500\n",
            "\u001b[1m18/25\u001b[0m \u001b[32m━━━━━━━━━━━━━━\u001b[0m\u001b[37m━━━━━━\u001b[0m \u001b[1m0s\u001b[0m 6ms/step - custom_accuracy_without_padding: 0.2901 - custom_mse: 0.0668 - loss: 0.0689\n",
            "Epoch 51: val_loss improved from 0.06811 to 0.06776, saving model to /content/drive/MyDrive/10 Masters/Research/error-correcting-codes/ThisIsTheCleanest/weights/DFT_model_27.keras\n",
            "\u001b[1m25/25\u001b[0m \u001b[32m━━━━━━━━━━━━━━━━━━━━\u001b[0m\u001b[37m\u001b[0m \u001b[1m0s\u001b[0m 19ms/step - custom_accuracy_without_padding: 0.2903 - custom_mse: 0.0666 - loss: 0.0687 - val_custom_accuracy_without_padding: 0.2928 - val_custom_mse: 0.0658 - val_loss: 0.0678 - learning_rate: 0.0010\n",
            "Epoch 52/500\n",
            "\u001b[1m21/25\u001b[0m \u001b[32m━━━━━━━━━━━━━━━━\u001b[0m\u001b[37m━━━━\u001b[0m \u001b[1m0s\u001b[0m 8ms/step - custom_accuracy_without_padding: 0.2940 - custom_mse: 0.0665 - loss: 0.0687\n",
            "Epoch 52: val_loss improved from 0.06776 to 0.06752, saving model to /content/drive/MyDrive/10 Masters/Research/error-correcting-codes/ThisIsTheCleanest/weights/DFT_model_27.keras\n",
            "\u001b[1m25/25\u001b[0m \u001b[32m━━━━━━━━━━━━━━━━━━━━\u001b[0m\u001b[37m\u001b[0m \u001b[1m1s\u001b[0m 21ms/step - custom_accuracy_without_padding: 0.2944 - custom_mse: 0.0664 - loss: 0.0686 - val_custom_accuracy_without_padding: 0.3003 - val_custom_mse: 0.0656 - val_loss: 0.0675 - learning_rate: 0.0010\n",
            "Epoch 53/500\n",
            "\u001b[1m24/25\u001b[0m \u001b[32m━━━━━━━━━━━━━━━━━━━\u001b[0m\u001b[37m━\u001b[0m \u001b[1m0s\u001b[0m 7ms/step - custom_accuracy_without_padding: 0.2969 - custom_mse: 0.0653 - loss: 0.0675\n",
            "Epoch 53: val_loss improved from 0.06752 to 0.06718, saving model to /content/drive/MyDrive/10 Masters/Research/error-correcting-codes/ThisIsTheCleanest/weights/DFT_model_27.keras\n",
            "\u001b[1m25/25\u001b[0m \u001b[32m━━━━━━━━━━━━━━━━━━━━\u001b[0m\u001b[37m\u001b[0m \u001b[1m1s\u001b[0m 21ms/step - custom_accuracy_without_padding: 0.2969 - custom_mse: 0.0654 - loss: 0.0675 - val_custom_accuracy_without_padding: 0.3001 - val_custom_mse: 0.0653 - val_loss: 0.0672 - learning_rate: 0.0010\n",
            "Epoch 54/500\n",
            "\u001b[1m18/25\u001b[0m \u001b[32m━━━━━━━━━━━━━━\u001b[0m\u001b[37m━━━━━━\u001b[0m \u001b[1m0s\u001b[0m 6ms/step - custom_accuracy_without_padding: 0.3004 - custom_mse: 0.0649 - loss: 0.0670\n",
            "Epoch 54: val_loss improved from 0.06718 to 0.06688, saving model to /content/drive/MyDrive/10 Masters/Research/error-correcting-codes/ThisIsTheCleanest/weights/DFT_model_27.keras\n",
            "\u001b[1m25/25\u001b[0m \u001b[32m━━━━━━━━━━━━━━━━━━━━\u001b[0m\u001b[37m\u001b[0m \u001b[1m0s\u001b[0m 19ms/step - custom_accuracy_without_padding: 0.3006 - custom_mse: 0.0650 - loss: 0.0672 - val_custom_accuracy_without_padding: 0.3049 - val_custom_mse: 0.0651 - val_loss: 0.0669 - learning_rate: 0.0010\n",
            "Epoch 55/500\n",
            "\u001b[1m18/25\u001b[0m \u001b[32m━━━━━━━━━━━━━━\u001b[0m\u001b[37m━━━━━━\u001b[0m \u001b[1m0s\u001b[0m 6ms/step - custom_accuracy_without_padding: 0.3062 - custom_mse: 0.0640 - loss: 0.0661\n",
            "Epoch 55: val_loss improved from 0.06688 to 0.06648, saving model to /content/drive/MyDrive/10 Masters/Research/error-correcting-codes/ThisIsTheCleanest/weights/DFT_model_27.keras\n",
            "\u001b[1m25/25\u001b[0m \u001b[32m━━━━━━━━━━━━━━━━━━━━\u001b[0m\u001b[37m\u001b[0m \u001b[1m1s\u001b[0m 20ms/step - custom_accuracy_without_padding: 0.3058 - custom_mse: 0.0643 - loss: 0.0664 - val_custom_accuracy_without_padding: 0.3031 - val_custom_mse: 0.0647 - val_loss: 0.0665 - learning_rate: 0.0010\n",
            "Epoch 56/500\n",
            "\u001b[1m22/25\u001b[0m \u001b[32m━━━━━━━━━━━━━━━━━\u001b[0m\u001b[37m━━━\u001b[0m \u001b[1m0s\u001b[0m 8ms/step - custom_accuracy_without_padding: 0.3071 - custom_mse: 0.0653 - loss: 0.0674\n",
            "Epoch 56: val_loss improved from 0.06648 to 0.06626, saving model to /content/drive/MyDrive/10 Masters/Research/error-correcting-codes/ThisIsTheCleanest/weights/DFT_model_27.keras\n",
            "\u001b[1m25/25\u001b[0m \u001b[32m━━━━━━━━━━━━━━━━━━━━\u001b[0m\u001b[37m\u001b[0m \u001b[1m1s\u001b[0m 21ms/step - custom_accuracy_without_padding: 0.3069 - custom_mse: 0.0652 - loss: 0.0673 - val_custom_accuracy_without_padding: 0.3051 - val_custom_mse: 0.0645 - val_loss: 0.0663 - learning_rate: 0.0010\n",
            "Epoch 57/500\n",
            "\u001b[1m25/25\u001b[0m \u001b[32m━━━━━━━━━━━━━━━━━━━━\u001b[0m\u001b[37m\u001b[0m \u001b[1m0s\u001b[0m 7ms/step - custom_accuracy_without_padding: 0.3082 - custom_mse: 0.0639 - loss: 0.0659\n",
            "Epoch 57: val_loss improved from 0.06626 to 0.06603, saving model to /content/drive/MyDrive/10 Masters/Research/error-correcting-codes/ThisIsTheCleanest/weights/DFT_model_27.keras\n",
            "\u001b[1m25/25\u001b[0m \u001b[32m━━━━━━━━━━━━━━━━━━━━\u001b[0m\u001b[37m\u001b[0m \u001b[1m1s\u001b[0m 21ms/step - custom_accuracy_without_padding: 0.3083 - custom_mse: 0.0639 - loss: 0.0659 - val_custom_accuracy_without_padding: 0.3090 - val_custom_mse: 0.0643 - val_loss: 0.0660 - learning_rate: 0.0010\n",
            "Epoch 58/500\n",
            "\u001b[1m24/25\u001b[0m \u001b[32m━━━━━━━━━━━━━━━━━━━\u001b[0m\u001b[37m━\u001b[0m \u001b[1m0s\u001b[0m 7ms/step - custom_accuracy_without_padding: 0.3080 - custom_mse: 0.0652 - loss: 0.0672\n",
            "Epoch 58: val_loss improved from 0.06603 to 0.06570, saving model to /content/drive/MyDrive/10 Masters/Research/error-correcting-codes/ThisIsTheCleanest/weights/DFT_model_27.keras\n",
            "\u001b[1m25/25\u001b[0m \u001b[32m━━━━━━━━━━━━━━━━━━━━\u001b[0m\u001b[37m\u001b[0m \u001b[1m1s\u001b[0m 21ms/step - custom_accuracy_without_padding: 0.3084 - custom_mse: 0.0651 - loss: 0.0671 - val_custom_accuracy_without_padding: 0.3128 - val_custom_mse: 0.0640 - val_loss: 0.0657 - learning_rate: 0.0010\n",
            "Epoch 59/500\n",
            "\u001b[1m23/25\u001b[0m \u001b[32m━━━━━━━━━━━━━━━━━━\u001b[0m\u001b[37m━━\u001b[0m \u001b[1m0s\u001b[0m 7ms/step - custom_accuracy_without_padding: 0.3101 - custom_mse: 0.0642 - loss: 0.0662\n",
            "Epoch 59: val_loss improved from 0.06570 to 0.06551, saving model to /content/drive/MyDrive/10 Masters/Research/error-correcting-codes/ThisIsTheCleanest/weights/DFT_model_27.keras\n",
            "\u001b[1m25/25\u001b[0m \u001b[32m━━━━━━━━━━━━━━━━━━━━\u001b[0m\u001b[37m\u001b[0m \u001b[1m1s\u001b[0m 21ms/step - custom_accuracy_without_padding: 0.3108 - custom_mse: 0.0641 - loss: 0.0661 - val_custom_accuracy_without_padding: 0.3142 - val_custom_mse: 0.0639 - val_loss: 0.0655 - learning_rate: 0.0010\n",
            "Epoch 60/500\n",
            "\u001b[1m24/25\u001b[0m \u001b[32m━━━━━━━━━━━━━━━━━━━\u001b[0m\u001b[37m━\u001b[0m \u001b[1m0s\u001b[0m 7ms/step - custom_accuracy_without_padding: 0.3186 - custom_mse: 0.0635 - loss: 0.0655\n",
            "Epoch 60: val_loss improved from 0.06551 to 0.06522, saving model to /content/drive/MyDrive/10 Masters/Research/error-correcting-codes/ThisIsTheCleanest/weights/DFT_model_27.keras\n",
            "\u001b[1m25/25\u001b[0m \u001b[32m━━━━━━━━━━━━━━━━━━━━\u001b[0m\u001b[37m\u001b[0m \u001b[1m1s\u001b[0m 21ms/step - custom_accuracy_without_padding: 0.3188 - custom_mse: 0.0635 - loss: 0.0655 - val_custom_accuracy_without_padding: 0.3183 - val_custom_mse: 0.0636 - val_loss: 0.0652 - learning_rate: 0.0010\n",
            "Epoch 61/500\n",
            "\u001b[1m25/25\u001b[0m \u001b[32m━━━━━━━━━━━━━━━━━━━━\u001b[0m\u001b[37m\u001b[0m \u001b[1m0s\u001b[0m 7ms/step - custom_accuracy_without_padding: 0.3188 - custom_mse: 0.0632 - loss: 0.0651\n",
            "Epoch 61: val_loss improved from 0.06522 to 0.06503, saving model to /content/drive/MyDrive/10 Masters/Research/error-correcting-codes/ThisIsTheCleanest/weights/DFT_model_27.keras\n",
            "\u001b[1m25/25\u001b[0m \u001b[32m━━━━━━━━━━━━━━━━━━━━\u001b[0m\u001b[37m\u001b[0m \u001b[1m1s\u001b[0m 30ms/step - custom_accuracy_without_padding: 0.3189 - custom_mse: 0.0632 - loss: 0.0651 - val_custom_accuracy_without_padding: 0.3213 - val_custom_mse: 0.0634 - val_loss: 0.0650 - learning_rate: 0.0010\n",
            "Epoch 62/500\n",
            "\u001b[1m22/25\u001b[0m \u001b[32m━━━━━━━━━━━━━━━━━\u001b[0m\u001b[37m━━━\u001b[0m \u001b[1m0s\u001b[0m 13ms/step - custom_accuracy_without_padding: 0.3346 - custom_mse: 0.0620 - loss: 0.0639\n",
            "Epoch 62: val_loss improved from 0.06503 to 0.06477, saving model to /content/drive/MyDrive/10 Masters/Research/error-correcting-codes/ThisIsTheCleanest/weights/DFT_model_27.keras\n",
            "\u001b[1m25/25\u001b[0m \u001b[32m━━━━━━━━━━━━━━━━━━━━\u001b[0m\u001b[37m\u001b[0m \u001b[1m1s\u001b[0m 31ms/step - custom_accuracy_without_padding: 0.3331 - custom_mse: 0.0621 - loss: 0.0641 - val_custom_accuracy_without_padding: 0.3254 - val_custom_mse: 0.0632 - val_loss: 0.0648 - learning_rate: 0.0010\n",
            "Epoch 63/500\n",
            "\u001b[1m25/25\u001b[0m \u001b[32m━━━━━━━━━━━━━━━━━━━━\u001b[0m\u001b[37m\u001b[0m \u001b[1m0s\u001b[0m 12ms/step - custom_accuracy_without_padding: 0.3228 - custom_mse: 0.0631 - loss: 0.0651\n",
            "Epoch 63: val_loss improved from 0.06477 to 0.06470, saving model to /content/drive/MyDrive/10 Masters/Research/error-correcting-codes/ThisIsTheCleanest/weights/DFT_model_27.keras\n",
            "\u001b[1m25/25\u001b[0m \u001b[32m━━━━━━━━━━━━━━━━━━━━\u001b[0m\u001b[37m\u001b[0m \u001b[1m1s\u001b[0m 32ms/step - custom_accuracy_without_padding: 0.3229 - custom_mse: 0.0631 - loss: 0.0651 - val_custom_accuracy_without_padding: 0.3234 - val_custom_mse: 0.0632 - val_loss: 0.0647 - learning_rate: 0.0010\n",
            "Epoch 64/500\n",
            "\u001b[1m23/25\u001b[0m \u001b[32m━━━━━━━━━━━━━━━━━━\u001b[0m\u001b[37m━━\u001b[0m \u001b[1m0s\u001b[0m 12ms/step - custom_accuracy_without_padding: 0.3235 - custom_mse: 0.0624 - loss: 0.0643\n",
            "Epoch 64: val_loss improved from 0.06470 to 0.06445, saving model to /content/drive/MyDrive/10 Masters/Research/error-correcting-codes/ThisIsTheCleanest/weights/DFT_model_27.keras\n",
            "\u001b[1m25/25\u001b[0m \u001b[32m━━━━━━━━━━━━━━━━━━━━\u001b[0m\u001b[37m\u001b[0m \u001b[1m1s\u001b[0m 31ms/step - custom_accuracy_without_padding: 0.3238 - custom_mse: 0.0624 - loss: 0.0644 - val_custom_accuracy_without_padding: 0.3277 - val_custom_mse: 0.0629 - val_loss: 0.0645 - learning_rate: 0.0010\n",
            "Epoch 65/500\n",
            "\u001b[1m24/25\u001b[0m \u001b[32m━━━━━━━━━━━━━━━━━━━\u001b[0m\u001b[37m━\u001b[0m \u001b[1m0s\u001b[0m 7ms/step - custom_accuracy_without_padding: 0.3319 - custom_mse: 0.0626 - loss: 0.0645\n",
            "Epoch 65: val_loss improved from 0.06445 to 0.06410, saving model to /content/drive/MyDrive/10 Masters/Research/error-correcting-codes/ThisIsTheCleanest/weights/DFT_model_27.keras\n",
            "\u001b[1m25/25\u001b[0m \u001b[32m━━━━━━━━━━━━━━━━━━━━\u001b[0m\u001b[37m\u001b[0m \u001b[1m1s\u001b[0m 21ms/step - custom_accuracy_without_padding: 0.3317 - custom_mse: 0.0626 - loss: 0.0645 - val_custom_accuracy_without_padding: 0.3318 - val_custom_mse: 0.0626 - val_loss: 0.0641 - learning_rate: 0.0010\n",
            "Epoch 66/500\n",
            "\u001b[1m25/25\u001b[0m \u001b[32m━━━━━━━━━━━━━━━━━━━━\u001b[0m\u001b[37m\u001b[0m \u001b[1m0s\u001b[0m 7ms/step - custom_accuracy_without_padding: 0.3348 - custom_mse: 0.0614 - loss: 0.0633\n",
            "Epoch 66: val_loss improved from 0.06410 to 0.06394, saving model to /content/drive/MyDrive/10 Masters/Research/error-correcting-codes/ThisIsTheCleanest/weights/DFT_model_27.keras\n",
            "\u001b[1m25/25\u001b[0m \u001b[32m━━━━━━━━━━━━━━━━━━━━\u001b[0m\u001b[37m\u001b[0m \u001b[1m1s\u001b[0m 20ms/step - custom_accuracy_without_padding: 0.3347 - custom_mse: 0.0615 - loss: 0.0634 - val_custom_accuracy_without_padding: 0.3332 - val_custom_mse: 0.0625 - val_loss: 0.0639 - learning_rate: 0.0010\n",
            "Epoch 67/500\n",
            "\u001b[1m24/25\u001b[0m \u001b[32m━━━━━━━━━━━━━━━━━━━\u001b[0m\u001b[37m━\u001b[0m \u001b[1m0s\u001b[0m 7ms/step - custom_accuracy_without_padding: 0.3322 - custom_mse: 0.0631 - loss: 0.0650\n",
            "Epoch 67: val_loss improved from 0.06394 to 0.06379, saving model to /content/drive/MyDrive/10 Masters/Research/error-correcting-codes/ThisIsTheCleanest/weights/DFT_model_27.keras\n",
            "\u001b[1m25/25\u001b[0m \u001b[32m━━━━━━━━━━━━━━━━━━━━\u001b[0m\u001b[37m\u001b[0m \u001b[1m1s\u001b[0m 21ms/step - custom_accuracy_without_padding: 0.3324 - custom_mse: 0.0630 - loss: 0.0649 - val_custom_accuracy_without_padding: 0.3399 - val_custom_mse: 0.0623 - val_loss: 0.0638 - learning_rate: 0.0010\n",
            "Epoch 68/500\n",
            "\u001b[1m25/25\u001b[0m \u001b[32m━━━━━━━━━━━━━━━━━━━━\u001b[0m\u001b[37m\u001b[0m \u001b[1m0s\u001b[0m 7ms/step - custom_accuracy_without_padding: 0.3367 - custom_mse: 0.0619 - loss: 0.0638\n",
            "Epoch 68: val_loss improved from 0.06379 to 0.06354, saving model to /content/drive/MyDrive/10 Masters/Research/error-correcting-codes/ThisIsTheCleanest/weights/DFT_model_27.keras\n",
            "\u001b[1m25/25\u001b[0m \u001b[32m━━━━━━━━━━━━━━━━━━━━\u001b[0m\u001b[37m\u001b[0m \u001b[1m1s\u001b[0m 20ms/step - custom_accuracy_without_padding: 0.3367 - custom_mse: 0.0619 - loss: 0.0638 - val_custom_accuracy_without_padding: 0.3315 - val_custom_mse: 0.0621 - val_loss: 0.0635 - learning_rate: 0.0010\n",
            "Epoch 69/500\n",
            "\u001b[1m22/25\u001b[0m \u001b[32m━━━━━━━━━━━━━━━━━\u001b[0m\u001b[37m━━━\u001b[0m \u001b[1m0s\u001b[0m 8ms/step - custom_accuracy_without_padding: 0.3384 - custom_mse: 0.0614 - loss: 0.0632\n",
            "Epoch 69: val_loss improved from 0.06354 to 0.06330, saving model to /content/drive/MyDrive/10 Masters/Research/error-correcting-codes/ThisIsTheCleanest/weights/DFT_model_27.keras\n",
            "\u001b[1m25/25\u001b[0m \u001b[32m━━━━━━━━━━━━━━━━━━━━\u001b[0m\u001b[37m\u001b[0m \u001b[1m1s\u001b[0m 21ms/step - custom_accuracy_without_padding: 0.3385 - custom_mse: 0.0614 - loss: 0.0633 - val_custom_accuracy_without_padding: 0.3409 - val_custom_mse: 0.0619 - val_loss: 0.0633 - learning_rate: 0.0010\n",
            "Epoch 70/500\n",
            "\u001b[1m17/25\u001b[0m \u001b[32m━━━━━━━━━━━━━\u001b[0m\u001b[37m━━━━━━━\u001b[0m \u001b[1m0s\u001b[0m 7ms/step - custom_accuracy_without_padding: 0.3405 - custom_mse: 0.0612 - loss: 0.0630\n",
            "Epoch 70: val_loss improved from 0.06330 to 0.06307, saving model to /content/drive/MyDrive/10 Masters/Research/error-correcting-codes/ThisIsTheCleanest/weights/DFT_model_27.keras\n",
            "\u001b[1m25/25\u001b[0m \u001b[32m━━━━━━━━━━━━━━━━━━━━\u001b[0m\u001b[37m\u001b[0m \u001b[1m1s\u001b[0m 20ms/step - custom_accuracy_without_padding: 0.3407 - custom_mse: 0.0613 - loss: 0.0631 - val_custom_accuracy_without_padding: 0.3419 - val_custom_mse: 0.0617 - val_loss: 0.0631 - learning_rate: 0.0010\n",
            "Epoch 71/500\n",
            "\u001b[1m25/25\u001b[0m \u001b[32m━━━━━━━━━━━━━━━━━━━━\u001b[0m\u001b[37m\u001b[0m \u001b[1m0s\u001b[0m 6ms/step - custom_accuracy_without_padding: 0.3400 - custom_mse: 0.0616 - loss: 0.0634\n",
            "Epoch 71: val_loss improved from 0.06307 to 0.06290, saving model to /content/drive/MyDrive/10 Masters/Research/error-correcting-codes/ThisIsTheCleanest/weights/DFT_model_27.keras\n",
            "\u001b[1m25/25\u001b[0m \u001b[32m━━━━━━━━━━━━━━━━━━━━\u001b[0m\u001b[37m\u001b[0m \u001b[1m1s\u001b[0m 21ms/step - custom_accuracy_without_padding: 0.3401 - custom_mse: 0.0616 - loss: 0.0634 - val_custom_accuracy_without_padding: 0.3423 - val_custom_mse: 0.0615 - val_loss: 0.0629 - learning_rate: 0.0010\n",
            "Epoch 72/500\n",
            "\u001b[1m25/25\u001b[0m \u001b[32m━━━━━━━━━━━━━━━━━━━━\u001b[0m\u001b[37m\u001b[0m \u001b[1m0s\u001b[0m 7ms/step - custom_accuracy_without_padding: 0.3416 - custom_mse: 0.0608 - loss: 0.0626\n",
            "Epoch 72: val_loss improved from 0.06290 to 0.06262, saving model to /content/drive/MyDrive/10 Masters/Research/error-correcting-codes/ThisIsTheCleanest/weights/DFT_model_27.keras\n",
            "\u001b[1m25/25\u001b[0m \u001b[32m━━━━━━━━━━━━━━━━━━━━\u001b[0m\u001b[37m\u001b[0m \u001b[1m1s\u001b[0m 21ms/step - custom_accuracy_without_padding: 0.3417 - custom_mse: 0.0608 - loss: 0.0626 - val_custom_accuracy_without_padding: 0.3474 - val_custom_mse: 0.0613 - val_loss: 0.0626 - learning_rate: 0.0010\n",
            "Epoch 73/500\n",
            "\u001b[1m19/25\u001b[0m \u001b[32m━━━━━━━━━━━━━━━\u001b[0m\u001b[37m━━━━━\u001b[0m \u001b[1m0s\u001b[0m 6ms/step - custom_accuracy_without_padding: 0.3443 - custom_mse: 0.0610 - loss: 0.0628\n",
            "Epoch 73: val_loss improved from 0.06262 to 0.06239, saving model to /content/drive/MyDrive/10 Masters/Research/error-correcting-codes/ThisIsTheCleanest/weights/DFT_model_27.keras\n",
            "\u001b[1m25/25\u001b[0m \u001b[32m━━━━━━━━━━━━━━━━━━━━\u001b[0m\u001b[37m\u001b[0m \u001b[1m1s\u001b[0m 19ms/step - custom_accuracy_without_padding: 0.3451 - custom_mse: 0.0609 - loss: 0.0627 - val_custom_accuracy_without_padding: 0.3444 - val_custom_mse: 0.0611 - val_loss: 0.0624 - learning_rate: 0.0010\n",
            "Epoch 74/500\n",
            "\u001b[1m23/25\u001b[0m \u001b[32m━━━━━━━━━━━━━━━━━━\u001b[0m\u001b[37m━━\u001b[0m \u001b[1m0s\u001b[0m 7ms/step - custom_accuracy_without_padding: 0.3509 - custom_mse: 0.0603 - loss: 0.0620\n",
            "Epoch 74: val_loss improved from 0.06239 to 0.06220, saving model to /content/drive/MyDrive/10 Masters/Research/error-correcting-codes/ThisIsTheCleanest/weights/DFT_model_27.keras\n",
            "\u001b[1m25/25\u001b[0m \u001b[32m━━━━━━━━━━━━━━━━━━━━\u001b[0m\u001b[37m\u001b[0m \u001b[1m1s\u001b[0m 21ms/step - custom_accuracy_without_padding: 0.3509 - custom_mse: 0.0603 - loss: 0.0621 - val_custom_accuracy_without_padding: 0.3502 - val_custom_mse: 0.0609 - val_loss: 0.0622 - learning_rate: 0.0010\n",
            "Epoch 75/500\n",
            "\u001b[1m17/25\u001b[0m \u001b[32m━━━━━━━━━━━━━\u001b[0m\u001b[37m━━━━━━━\u001b[0m \u001b[1m0s\u001b[0m 6ms/step - custom_accuracy_without_padding: 0.3500 - custom_mse: 0.0598 - loss: 0.0616\n",
            "Epoch 75: val_loss improved from 0.06220 to 0.06194, saving model to /content/drive/MyDrive/10 Masters/Research/error-correcting-codes/ThisIsTheCleanest/weights/DFT_model_27.keras\n",
            "\u001b[1m25/25\u001b[0m \u001b[32m━━━━━━━━━━━━━━━━━━━━\u001b[0m\u001b[37m\u001b[0m \u001b[1m1s\u001b[0m 19ms/step - custom_accuracy_without_padding: 0.3505 - custom_mse: 0.0600 - loss: 0.0617 - val_custom_accuracy_without_padding: 0.3500 - val_custom_mse: 0.0606 - val_loss: 0.0619 - learning_rate: 0.0010\n",
            "Epoch 76/500\n",
            "\u001b[1m21/25\u001b[0m \u001b[32m━━━━━━━━━━━━━━━━\u001b[0m\u001b[37m━━━━\u001b[0m \u001b[1m0s\u001b[0m 8ms/step - custom_accuracy_without_padding: 0.3545 - custom_mse: 0.0599 - loss: 0.0616\n",
            "Epoch 76: val_loss improved from 0.06194 to 0.06173, saving model to /content/drive/MyDrive/10 Masters/Research/error-correcting-codes/ThisIsTheCleanest/weights/DFT_model_27.keras\n",
            "\u001b[1m25/25\u001b[0m \u001b[32m━━━━━━━━━━━━━━━━━━━━\u001b[0m\u001b[37m\u001b[0m \u001b[1m1s\u001b[0m 21ms/step - custom_accuracy_without_padding: 0.3544 - custom_mse: 0.0599 - loss: 0.0617 - val_custom_accuracy_without_padding: 0.3581 - val_custom_mse: 0.0604 - val_loss: 0.0617 - learning_rate: 0.0010\n",
            "Epoch 77/500\n",
            "\u001b[1m25/25\u001b[0m \u001b[32m━━━━━━━━━━━━━━━━━━━━\u001b[0m\u001b[37m\u001b[0m \u001b[1m0s\u001b[0m 7ms/step - custom_accuracy_without_padding: 0.3600 - custom_mse: 0.0599 - loss: 0.0616\n",
            "Epoch 77: val_loss improved from 0.06173 to 0.06146, saving model to /content/drive/MyDrive/10 Masters/Research/error-correcting-codes/ThisIsTheCleanest/weights/DFT_model_27.keras\n",
            "\u001b[1m25/25\u001b[0m \u001b[32m━━━━━━━━━━━━━━━━━━━━\u001b[0m\u001b[37m\u001b[0m \u001b[1m1s\u001b[0m 20ms/step - custom_accuracy_without_padding: 0.3600 - custom_mse: 0.0599 - loss: 0.0616 - val_custom_accuracy_without_padding: 0.3611 - val_custom_mse: 0.0602 - val_loss: 0.0615 - learning_rate: 0.0010\n",
            "Epoch 78/500\n",
            "\u001b[1m21/25\u001b[0m \u001b[32m━━━━━━━━━━━━━━━━\u001b[0m\u001b[37m━━━━\u001b[0m \u001b[1m0s\u001b[0m 8ms/step - custom_accuracy_without_padding: 0.3600 - custom_mse: 0.0591 - loss: 0.0608\n",
            "Epoch 78: val_loss improved from 0.06146 to 0.06129, saving model to /content/drive/MyDrive/10 Masters/Research/error-correcting-codes/ThisIsTheCleanest/weights/DFT_model_27.keras\n",
            "\u001b[1m25/25\u001b[0m \u001b[32m━━━━━━━━━━━━━━━━━━━━\u001b[0m\u001b[37m\u001b[0m \u001b[1m1s\u001b[0m 21ms/step - custom_accuracy_without_padding: 0.3603 - custom_mse: 0.0592 - loss: 0.0609 - val_custom_accuracy_without_padding: 0.3633 - val_custom_mse: 0.0600 - val_loss: 0.0613 - learning_rate: 0.0010\n",
            "Epoch 79/500\n",
            "\u001b[1m24/25\u001b[0m \u001b[32m━━━━━━━━━━━━━━━━━━━\u001b[0m\u001b[37m━\u001b[0m \u001b[1m0s\u001b[0m 7ms/step - custom_accuracy_without_padding: 0.3603 - custom_mse: 0.0610 - loss: 0.0627\n",
            "Epoch 79: val_loss improved from 0.06129 to 0.06098, saving model to /content/drive/MyDrive/10 Masters/Research/error-correcting-codes/ThisIsTheCleanest/weights/DFT_model_27.keras\n",
            "\u001b[1m25/25\u001b[0m \u001b[32m━━━━━━━━━━━━━━━━━━━━\u001b[0m\u001b[37m\u001b[0m \u001b[1m1s\u001b[0m 20ms/step - custom_accuracy_without_padding: 0.3606 - custom_mse: 0.0609 - loss: 0.0626 - val_custom_accuracy_without_padding: 0.3644 - val_custom_mse: 0.0597 - val_loss: 0.0610 - learning_rate: 0.0010\n",
            "Epoch 80/500\n",
            "\u001b[1m24/25\u001b[0m \u001b[32m━━━━━━━━━━━━━━━━━━━\u001b[0m\u001b[37m━\u001b[0m \u001b[1m0s\u001b[0m 7ms/step - custom_accuracy_without_padding: 0.3634 - custom_mse: 0.0606 - loss: 0.0623\n",
            "Epoch 80: val_loss improved from 0.06098 to 0.06089, saving model to /content/drive/MyDrive/10 Masters/Research/error-correcting-codes/ThisIsTheCleanest/weights/DFT_model_27.keras\n",
            "\u001b[1m25/25\u001b[0m \u001b[32m━━━━━━━━━━━━━━━━━━━━\u001b[0m\u001b[37m\u001b[0m \u001b[1m1s\u001b[0m 20ms/step - custom_accuracy_without_padding: 0.3637 - custom_mse: 0.0605 - loss: 0.0621 - val_custom_accuracy_without_padding: 0.3664 - val_custom_mse: 0.0597 - val_loss: 0.0609 - learning_rate: 0.0010\n",
            "Epoch 81/500\n",
            "\u001b[1m25/25\u001b[0m \u001b[32m━━━━━━━━━━━━━━━━━━━━\u001b[0m\u001b[37m\u001b[0m \u001b[1m0s\u001b[0m 12ms/step - custom_accuracy_without_padding: 0.3693 - custom_mse: 0.0590 - loss: 0.0607\n",
            "Epoch 81: val_loss improved from 0.06089 to 0.06043, saving model to /content/drive/MyDrive/10 Masters/Research/error-correcting-codes/ThisIsTheCleanest/weights/DFT_model_27.keras\n",
            "\u001b[1m25/25\u001b[0m \u001b[32m━━━━━━━━━━━━━━━━━━━━\u001b[0m\u001b[37m\u001b[0m \u001b[1m1s\u001b[0m 34ms/step - custom_accuracy_without_padding: 0.3694 - custom_mse: 0.0590 - loss: 0.0607 - val_custom_accuracy_without_padding: 0.3686 - val_custom_mse: 0.0592 - val_loss: 0.0604 - learning_rate: 0.0010\n",
            "Epoch 82/500\n",
            "\u001b[1m23/25\u001b[0m \u001b[32m━━━━━━━━━━━━━━━━━━\u001b[0m\u001b[37m━━\u001b[0m \u001b[1m0s\u001b[0m 12ms/step - custom_accuracy_without_padding: 0.3739 - custom_mse: 0.0587 - loss: 0.0603\n",
            "Epoch 82: val_loss improved from 0.06043 to 0.06031, saving model to /content/drive/MyDrive/10 Masters/Research/error-correcting-codes/ThisIsTheCleanest/weights/DFT_model_27.keras\n",
            "\u001b[1m25/25\u001b[0m \u001b[32m━━━━━━━━━━━━━━━━━━━━\u001b[0m\u001b[37m\u001b[0m \u001b[1m1s\u001b[0m 33ms/step - custom_accuracy_without_padding: 0.3738 - custom_mse: 0.0587 - loss: 0.0603 - val_custom_accuracy_without_padding: 0.3750 - val_custom_mse: 0.0591 - val_loss: 0.0603 - learning_rate: 0.0010\n",
            "Epoch 83/500\n",
            "\u001b[1m25/25\u001b[0m \u001b[32m━━━━━━━━━━━━━━━━━━━━\u001b[0m\u001b[37m\u001b[0m \u001b[1m0s\u001b[0m 6ms/step - custom_accuracy_without_padding: 0.3783 - custom_mse: 0.0585 - loss: 0.0601\n",
            "Epoch 83: val_loss improved from 0.06031 to 0.06012, saving model to /content/drive/MyDrive/10 Masters/Research/error-correcting-codes/ThisIsTheCleanest/weights/DFT_model_27.keras\n",
            "\u001b[1m25/25\u001b[0m \u001b[32m━━━━━━━━━━━━━━━━━━━━\u001b[0m\u001b[37m\u001b[0m \u001b[1m1s\u001b[0m 20ms/step - custom_accuracy_without_padding: 0.3782 - custom_mse: 0.0585 - loss: 0.0601 - val_custom_accuracy_without_padding: 0.3740 - val_custom_mse: 0.0589 - val_loss: 0.0601 - learning_rate: 0.0010\n",
            "Epoch 84/500\n",
            "\u001b[1m25/25\u001b[0m \u001b[32m━━━━━━━━━━━━━━━━━━━━\u001b[0m\u001b[37m\u001b[0m \u001b[1m0s\u001b[0m 6ms/step - custom_accuracy_without_padding: 0.3792 - custom_mse: 0.0581 - loss: 0.0597\n",
            "Epoch 84: val_loss improved from 0.06012 to 0.05986, saving model to /content/drive/MyDrive/10 Masters/Research/error-correcting-codes/ThisIsTheCleanest/weights/DFT_model_27.keras\n",
            "\u001b[1m25/25\u001b[0m \u001b[32m━━━━━━━━━━━━━━━━━━━━\u001b[0m\u001b[37m\u001b[0m \u001b[1m1s\u001b[0m 21ms/step - custom_accuracy_without_padding: 0.3793 - custom_mse: 0.0582 - loss: 0.0597 - val_custom_accuracy_without_padding: 0.3793 - val_custom_mse: 0.0587 - val_loss: 0.0599 - learning_rate: 0.0010\n",
            "Epoch 85/500\n",
            "\u001b[1m25/25\u001b[0m \u001b[32m━━━━━━━━━━━━━━━━━━━━\u001b[0m\u001b[37m\u001b[0m \u001b[1m0s\u001b[0m 7ms/step - custom_accuracy_without_padding: 0.3796 - custom_mse: 0.0590 - loss: 0.0605\n",
            "Epoch 85: val_loss improved from 0.05986 to 0.05966, saving model to /content/drive/MyDrive/10 Masters/Research/error-correcting-codes/ThisIsTheCleanest/weights/DFT_model_27.keras\n",
            "\u001b[1m25/25\u001b[0m \u001b[32m━━━━━━━━━━━━━━━━━━━━\u001b[0m\u001b[37m\u001b[0m \u001b[1m1s\u001b[0m 20ms/step - custom_accuracy_without_padding: 0.3797 - custom_mse: 0.0589 - loss: 0.0605 - val_custom_accuracy_without_padding: 0.3861 - val_custom_mse: 0.0585 - val_loss: 0.0597 - learning_rate: 0.0010\n",
            "Epoch 86/500\n",
            "\u001b[1m24/25\u001b[0m \u001b[32m━━━━━━━━━━━━━━━━━━━\u001b[0m\u001b[37m━\u001b[0m \u001b[1m0s\u001b[0m 7ms/step - custom_accuracy_without_padding: 0.3882 - custom_mse: 0.0581 - loss: 0.0596\n",
            "Epoch 86: val_loss improved from 0.05966 to 0.05951, saving model to /content/drive/MyDrive/10 Masters/Research/error-correcting-codes/ThisIsTheCleanest/weights/DFT_model_27.keras\n",
            "\u001b[1m25/25\u001b[0m \u001b[32m━━━━━━━━━━━━━━━━━━━━\u001b[0m\u001b[37m\u001b[0m \u001b[1m1s\u001b[0m 22ms/step - custom_accuracy_without_padding: 0.3880 - custom_mse: 0.0581 - loss: 0.0596 - val_custom_accuracy_without_padding: 0.3862 - val_custom_mse: 0.0584 - val_loss: 0.0595 - learning_rate: 0.0010\n",
            "Epoch 87/500\n",
            "\u001b[1m24/25\u001b[0m \u001b[32m━━━━━━━━━━━━━━━━━━━\u001b[0m\u001b[37m━\u001b[0m \u001b[1m0s\u001b[0m 7ms/step - custom_accuracy_without_padding: 0.3862 - custom_mse: 0.0579 - loss: 0.0594\n",
            "Epoch 87: val_loss improved from 0.05951 to 0.05928, saving model to /content/drive/MyDrive/10 Masters/Research/error-correcting-codes/ThisIsTheCleanest/weights/DFT_model_27.keras\n",
            "\u001b[1m25/25\u001b[0m \u001b[32m━━━━━━━━━━━━━━━━━━━━\u001b[0m\u001b[37m\u001b[0m \u001b[1m1s\u001b[0m 20ms/step - custom_accuracy_without_padding: 0.3864 - custom_mse: 0.0579 - loss: 0.0594 - val_custom_accuracy_without_padding: 0.3907 - val_custom_mse: 0.0581 - val_loss: 0.0593 - learning_rate: 0.0010\n",
            "Epoch 88/500\n",
            "\u001b[1m18/25\u001b[0m \u001b[32m━━━━━━━━━━━━━━\u001b[0m\u001b[37m━━━━━━\u001b[0m \u001b[1m0s\u001b[0m 6ms/step - custom_accuracy_without_padding: 0.3988 - custom_mse: 0.0572 - loss: 0.0587\n",
            "Epoch 88: val_loss improved from 0.05928 to 0.05914, saving model to /content/drive/MyDrive/10 Masters/Research/error-correcting-codes/ThisIsTheCleanest/weights/DFT_model_27.keras\n",
            "\u001b[1m25/25\u001b[0m \u001b[32m━━━━━━━━━━━━━━━━━━━━\u001b[0m\u001b[37m\u001b[0m \u001b[1m1s\u001b[0m 20ms/step - custom_accuracy_without_padding: 0.3970 - custom_mse: 0.0573 - loss: 0.0588 - val_custom_accuracy_without_padding: 0.3909 - val_custom_mse: 0.0580 - val_loss: 0.0591 - learning_rate: 0.0010\n",
            "Epoch 89/500\n",
            "\u001b[1m25/25\u001b[0m \u001b[32m━━━━━━━━━━━━━━━━━━━━\u001b[0m\u001b[37m\u001b[0m \u001b[1m0s\u001b[0m 7ms/step - custom_accuracy_without_padding: 0.3935 - custom_mse: 0.0576 - loss: 0.0591\n",
            "Epoch 89: val_loss improved from 0.05914 to 0.05882, saving model to /content/drive/MyDrive/10 Masters/Research/error-correcting-codes/ThisIsTheCleanest/weights/DFT_model_27.keras\n",
            "\u001b[1m25/25\u001b[0m \u001b[32m━━━━━━━━━━━━━━━━━━━━\u001b[0m\u001b[37m\u001b[0m \u001b[1m1s\u001b[0m 22ms/step - custom_accuracy_without_padding: 0.3936 - custom_mse: 0.0576 - loss: 0.0591 - val_custom_accuracy_without_padding: 0.3947 - val_custom_mse: 0.0577 - val_loss: 0.0588 - learning_rate: 0.0010\n",
            "Epoch 90/500\n",
            "\u001b[1m25/25\u001b[0m \u001b[32m━━━━━━━━━━━━━━━━━━━━\u001b[0m\u001b[37m\u001b[0m \u001b[1m0s\u001b[0m 7ms/step - custom_accuracy_without_padding: 0.3936 - custom_mse: 0.0574 - loss: 0.0589\n",
            "Epoch 90: val_loss improved from 0.05882 to 0.05873, saving model to /content/drive/MyDrive/10 Masters/Research/error-correcting-codes/ThisIsTheCleanest/weights/DFT_model_27.keras\n",
            "\u001b[1m25/25\u001b[0m \u001b[32m━━━━━━━━━━━━━━━━━━━━\u001b[0m\u001b[37m\u001b[0m \u001b[1m1s\u001b[0m 20ms/step - custom_accuracy_without_padding: 0.3937 - custom_mse: 0.0574 - loss: 0.0589 - val_custom_accuracy_without_padding: 0.3965 - val_custom_mse: 0.0577 - val_loss: 0.0587 - learning_rate: 0.0010\n",
            "Epoch 91/500\n",
            "\u001b[1m25/25\u001b[0m \u001b[32m━━━━━━━━━━━━━━━━━━━━\u001b[0m\u001b[37m\u001b[0m \u001b[1m0s\u001b[0m 7ms/step - custom_accuracy_without_padding: 0.4008 - custom_mse: 0.0569 - loss: 0.0584\n",
            "Epoch 91: val_loss improved from 0.05873 to 0.05852, saving model to /content/drive/MyDrive/10 Masters/Research/error-correcting-codes/ThisIsTheCleanest/weights/DFT_model_27.keras\n",
            "\u001b[1m25/25\u001b[0m \u001b[32m━━━━━━━━━━━━━━━━━━━━\u001b[0m\u001b[37m\u001b[0m \u001b[1m1s\u001b[0m 21ms/step - custom_accuracy_without_padding: 0.4008 - custom_mse: 0.0569 - loss: 0.0584 - val_custom_accuracy_without_padding: 0.3990 - val_custom_mse: 0.0574 - val_loss: 0.0585 - learning_rate: 0.0010\n",
            "Epoch 92/500\n",
            "\u001b[1m24/25\u001b[0m \u001b[32m━━━━━━━━━━━━━━━━━━━\u001b[0m\u001b[37m━\u001b[0m \u001b[1m0s\u001b[0m 7ms/step - custom_accuracy_without_padding: 0.4005 - custom_mse: 0.0565 - loss: 0.0580\n",
            "Epoch 92: val_loss improved from 0.05852 to 0.05830, saving model to /content/drive/MyDrive/10 Masters/Research/error-correcting-codes/ThisIsTheCleanest/weights/DFT_model_27.keras\n",
            "\u001b[1m25/25\u001b[0m \u001b[32m━━━━━━━━━━━━━━━━━━━━\u001b[0m\u001b[37m\u001b[0m \u001b[1m1s\u001b[0m 20ms/step - custom_accuracy_without_padding: 0.4007 - custom_mse: 0.0565 - loss: 0.0580 - val_custom_accuracy_without_padding: 0.4013 - val_custom_mse: 0.0573 - val_loss: 0.0583 - learning_rate: 0.0010\n",
            "Epoch 93/500\n",
            "\u001b[1m21/25\u001b[0m \u001b[32m━━━━━━━━━━━━━━━━\u001b[0m\u001b[37m━━━━\u001b[0m \u001b[1m0s\u001b[0m 8ms/step - custom_accuracy_without_padding: 0.4101 - custom_mse: 0.0556 - loss: 0.0571\n",
            "Epoch 93: val_loss did not improve from 0.05830\n",
            "\u001b[1m25/25\u001b[0m \u001b[32m━━━━━━━━━━━━━━━━━━━━\u001b[0m\u001b[37m\u001b[0m \u001b[1m0s\u001b[0m 12ms/step - custom_accuracy_without_padding: 0.4093 - custom_mse: 0.0558 - loss: 0.0573 - val_custom_accuracy_without_padding: 0.4049 - val_custom_mse: 0.0573 - val_loss: 0.0583 - learning_rate: 0.0010\n",
            "Epoch 94/500\n",
            "\u001b[1m25/25\u001b[0m \u001b[32m━━━━━━━━━━━━━━━━━━━━\u001b[0m\u001b[37m\u001b[0m \u001b[1m0s\u001b[0m 7ms/step - custom_accuracy_without_padding: 0.4073 - custom_mse: 0.0562 - loss: 0.0577\n",
            "Epoch 94: val_loss improved from 0.05830 to 0.05806, saving model to /content/drive/MyDrive/10 Masters/Research/error-correcting-codes/ThisIsTheCleanest/weights/DFT_model_27.keras\n",
            "\u001b[1m25/25\u001b[0m \u001b[32m━━━━━━━━━━━━━━━━━━━━\u001b[0m\u001b[37m\u001b[0m \u001b[1m1s\u001b[0m 21ms/step - custom_accuracy_without_padding: 0.4073 - custom_mse: 0.0562 - loss: 0.0577 - val_custom_accuracy_without_padding: 0.4081 - val_custom_mse: 0.0570 - val_loss: 0.0581 - learning_rate: 0.0010\n",
            "Epoch 95/500\n",
            "\u001b[1m24/25\u001b[0m \u001b[32m━━━━━━━━━━━━━━━━━━━\u001b[0m\u001b[37m━\u001b[0m \u001b[1m0s\u001b[0m 7ms/step - custom_accuracy_without_padding: 0.4096 - custom_mse: 0.0567 - loss: 0.0581\n",
            "Epoch 95: val_loss improved from 0.05806 to 0.05795, saving model to /content/drive/MyDrive/10 Masters/Research/error-correcting-codes/ThisIsTheCleanest/weights/DFT_model_27.keras\n",
            "\u001b[1m25/25\u001b[0m \u001b[32m━━━━━━━━━━━━━━━━━━━━\u001b[0m\u001b[37m\u001b[0m \u001b[1m1s\u001b[0m 22ms/step - custom_accuracy_without_padding: 0.4097 - custom_mse: 0.0567 - loss: 0.0581 - val_custom_accuracy_without_padding: 0.4129 - val_custom_mse: 0.0569 - val_loss: 0.0580 - learning_rate: 0.0010\n",
            "Epoch 96/500\n",
            "\u001b[1m25/25\u001b[0m \u001b[32m━━━━━━━━━━━━━━━━━━━━\u001b[0m\u001b[37m\u001b[0m \u001b[1m0s\u001b[0m 7ms/step - custom_accuracy_without_padding: 0.4135 - custom_mse: 0.0558 - loss: 0.0573\n",
            "Epoch 96: val_loss improved from 0.05795 to 0.05774, saving model to /content/drive/MyDrive/10 Masters/Research/error-correcting-codes/ThisIsTheCleanest/weights/DFT_model_27.keras\n",
            "\u001b[1m25/25\u001b[0m \u001b[32m━━━━━━━━━━━━━━━━━━━━\u001b[0m\u001b[37m\u001b[0m \u001b[1m1s\u001b[0m 20ms/step - custom_accuracy_without_padding: 0.4136 - custom_mse: 0.0559 - loss: 0.0573 - val_custom_accuracy_without_padding: 0.4162 - val_custom_mse: 0.0567 - val_loss: 0.0577 - learning_rate: 0.0010\n",
            "Epoch 97/500\n",
            "\u001b[1m21/25\u001b[0m \u001b[32m━━━━━━━━━━━━━━━━\u001b[0m\u001b[37m━━━━\u001b[0m \u001b[1m0s\u001b[0m 8ms/step - custom_accuracy_without_padding: 0.4156 - custom_mse: 0.0553 - loss: 0.0567\n",
            "Epoch 97: val_loss improved from 0.05774 to 0.05762, saving model to /content/drive/MyDrive/10 Masters/Research/error-correcting-codes/ThisIsTheCleanest/weights/DFT_model_27.keras\n",
            "\u001b[1m25/25\u001b[0m \u001b[32m━━━━━━━━━━━━━━━━━━━━\u001b[0m\u001b[37m\u001b[0m \u001b[1m1s\u001b[0m 21ms/step - custom_accuracy_without_padding: 0.4160 - custom_mse: 0.0554 - loss: 0.0568 - val_custom_accuracy_without_padding: 0.4147 - val_custom_mse: 0.0566 - val_loss: 0.0576 - learning_rate: 0.0010\n",
            "Epoch 98/500\n",
            "\u001b[1m23/25\u001b[0m \u001b[32m━━━━━━━━━━━━━━━━━━\u001b[0m\u001b[37m━━\u001b[0m \u001b[1m0s\u001b[0m 7ms/step - custom_accuracy_without_padding: 0.4242 - custom_mse: 0.0559 - loss: 0.0572\n",
            "Epoch 98: val_loss improved from 0.05762 to 0.05762, saving model to /content/drive/MyDrive/10 Masters/Research/error-correcting-codes/ThisIsTheCleanest/weights/DFT_model_27.keras\n",
            "\u001b[1m25/25\u001b[0m \u001b[32m━━━━━━━━━━━━━━━━━━━━\u001b[0m\u001b[37m\u001b[0m \u001b[1m1s\u001b[0m 22ms/step - custom_accuracy_without_padding: 0.4238 - custom_mse: 0.0559 - loss: 0.0573 - val_custom_accuracy_without_padding: 0.4205 - val_custom_mse: 0.0566 - val_loss: 0.0576 - learning_rate: 0.0010\n",
            "Epoch 99/500\n",
            "\u001b[1m24/25\u001b[0m \u001b[32m━━━━━━━━━━━━━━━━━━━\u001b[0m\u001b[37m━\u001b[0m \u001b[1m0s\u001b[0m 9ms/step - custom_accuracy_without_padding: 0.4256 - custom_mse: 0.0554 - loss: 0.0568 \n",
            "Epoch 99: val_loss improved from 0.05762 to 0.05756, saving model to /content/drive/MyDrive/10 Masters/Research/error-correcting-codes/ThisIsTheCleanest/weights/DFT_model_27.keras\n",
            "\u001b[1m25/25\u001b[0m \u001b[32m━━━━━━━━━━━━━━━━━━━━\u001b[0m\u001b[37m\u001b[0m \u001b[1m1s\u001b[0m 25ms/step - custom_accuracy_without_padding: 0.4255 - custom_mse: 0.0555 - loss: 0.0568 - val_custom_accuracy_without_padding: 0.4203 - val_custom_mse: 0.0566 - val_loss: 0.0576 - learning_rate: 0.0010\n",
            "Epoch 100/500\n",
            "\u001b[1m25/25\u001b[0m \u001b[32m━━━━━━━━━━━━━━━━━━━━\u001b[0m\u001b[37m\u001b[0m \u001b[1m0s\u001b[0m 12ms/step - custom_accuracy_without_padding: 0.4194 - custom_mse: 0.0565 - loss: 0.0578\n",
            "Epoch 100: val_loss improved from 0.05756 to 0.05751, saving model to /content/drive/MyDrive/10 Masters/Research/error-correcting-codes/ThisIsTheCleanest/weights/DFT_model_27.keras\n",
            "\u001b[1m25/25\u001b[0m \u001b[32m━━━━━━━━━━━━━━━━━━━━\u001b[0m\u001b[37m\u001b[0m \u001b[1m1s\u001b[0m 32ms/step - custom_accuracy_without_padding: 0.4195 - custom_mse: 0.0564 - loss: 0.0578 - val_custom_accuracy_without_padding: 0.4253 - val_custom_mse: 0.0565 - val_loss: 0.0575 - learning_rate: 0.0010\n",
            "Epoch 101/500\n",
            "\u001b[1m23/25\u001b[0m \u001b[32m━━━━━━━━━━━━━━━━━━\u001b[0m\u001b[37m━━\u001b[0m \u001b[1m0s\u001b[0m 12ms/step - custom_accuracy_without_padding: 0.4287 - custom_mse: 0.0557 - loss: 0.0571\n",
            "Epoch 101: val_loss improved from 0.05751 to 0.05742, saving model to /content/drive/MyDrive/10 Masters/Research/error-correcting-codes/ThisIsTheCleanest/weights/DFT_model_27.keras\n",
            "\u001b[1m25/25\u001b[0m \u001b[32m━━━━━━━━━━━━━━━━━━━━\u001b[0m\u001b[37m\u001b[0m \u001b[1m1s\u001b[0m 34ms/step - custom_accuracy_without_padding: 0.4285 - custom_mse: 0.0557 - loss: 0.0571 - val_custom_accuracy_without_padding: 0.4259 - val_custom_mse: 0.0565 - val_loss: 0.0574 - learning_rate: 0.0010\n",
            "Epoch 102/500\n",
            "\u001b[1m24/25\u001b[0m \u001b[32m━━━━━━━━━━━━━━━━━━━\u001b[0m\u001b[37m━\u001b[0m \u001b[1m0s\u001b[0m 7ms/step - custom_accuracy_without_padding: 0.4270 - custom_mse: 0.0550 - loss: 0.0563\n",
            "Epoch 102: val_loss improved from 0.05742 to 0.05737, saving model to /content/drive/MyDrive/10 Masters/Research/error-correcting-codes/ThisIsTheCleanest/weights/DFT_model_27.keras\n",
            "\u001b[1m25/25\u001b[0m \u001b[32m━━━━━━━━━━━━━━━━━━━━\u001b[0m\u001b[37m\u001b[0m \u001b[1m1s\u001b[0m 21ms/step - custom_accuracy_without_padding: 0.4270 - custom_mse: 0.0550 - loss: 0.0564 - val_custom_accuracy_without_padding: 0.4251 - val_custom_mse: 0.0564 - val_loss: 0.0574 - learning_rate: 0.0010\n",
            "Epoch 103/500\n",
            "\u001b[1m21/25\u001b[0m \u001b[32m━━━━━━━━━━━━━━━━\u001b[0m\u001b[37m━━━━\u001b[0m \u001b[1m0s\u001b[0m 8ms/step - custom_accuracy_without_padding: 0.4279 - custom_mse: 0.0561 - loss: 0.0574\n",
            "Epoch 103: val_loss improved from 0.05737 to 0.05724, saving model to /content/drive/MyDrive/10 Masters/Research/error-correcting-codes/ThisIsTheCleanest/weights/DFT_model_27.keras\n",
            "\u001b[1m25/25\u001b[0m \u001b[32m━━━━━━━━━━━━━━━━━━━━\u001b[0m\u001b[37m\u001b[0m \u001b[1m1s\u001b[0m 22ms/step - custom_accuracy_without_padding: 0.4283 - custom_mse: 0.0560 - loss: 0.0573 - val_custom_accuracy_without_padding: 0.4276 - val_custom_mse: 0.0563 - val_loss: 0.0572 - learning_rate: 0.0010\n",
            "Epoch 104/500\n",
            "\u001b[1m22/25\u001b[0m \u001b[32m━━━━━━━━━━━━━━━━━\u001b[0m\u001b[37m━━━\u001b[0m \u001b[1m0s\u001b[0m 8ms/step - custom_accuracy_without_padding: 0.4246 - custom_mse: 0.0560 - loss: 0.0573\n",
            "Epoch 104: val_loss did not improve from 0.05724\n",
            "\u001b[1m25/25\u001b[0m \u001b[32m━━━━━━━━━━━━━━━━━━━━\u001b[0m\u001b[37m\u001b[0m \u001b[1m0s\u001b[0m 12ms/step - custom_accuracy_without_padding: 0.4255 - custom_mse: 0.0560 - loss: 0.0573 - val_custom_accuracy_without_padding: 0.4281 - val_custom_mse: 0.0564 - val_loss: 0.0573 - learning_rate: 0.0010\n",
            "Epoch 105/500\n",
            "\u001b[1m23/25\u001b[0m \u001b[32m━━━━━━━━━━━━━━━━━━\u001b[0m\u001b[37m━━\u001b[0m \u001b[1m0s\u001b[0m 7ms/step - custom_accuracy_without_padding: 0.4295 - custom_mse: 0.0559 - loss: 0.0572\n",
            "Epoch 105: val_loss improved from 0.05724 to 0.05716, saving model to /content/drive/MyDrive/10 Masters/Research/error-correcting-codes/ThisIsTheCleanest/weights/DFT_model_27.keras\n",
            "\u001b[1m25/25\u001b[0m \u001b[32m━━━━━━━━━━━━━━━━━━━━\u001b[0m\u001b[37m\u001b[0m \u001b[1m1s\u001b[0m 21ms/step - custom_accuracy_without_padding: 0.4297 - custom_mse: 0.0559 - loss: 0.0572 - val_custom_accuracy_without_padding: 0.4304 - val_custom_mse: 0.0562 - val_loss: 0.0572 - learning_rate: 0.0010\n",
            "Epoch 106/500\n",
            "\u001b[1m24/25\u001b[0m \u001b[32m━━━━━━━━━━━━━━━━━━━\u001b[0m\u001b[37m━\u001b[0m \u001b[1m0s\u001b[0m 7ms/step - custom_accuracy_without_padding: 0.4345 - custom_mse: 0.0553 - loss: 0.0566\n",
            "Epoch 106: val_loss improved from 0.05716 to 0.05713, saving model to /content/drive/MyDrive/10 Masters/Research/error-correcting-codes/ThisIsTheCleanest/weights/DFT_model_27.keras\n",
            "\u001b[1m25/25\u001b[0m \u001b[32m━━━━━━━━━━━━━━━━━━━━\u001b[0m\u001b[37m\u001b[0m \u001b[1m1s\u001b[0m 21ms/step - custom_accuracy_without_padding: 0.4344 - custom_mse: 0.0554 - loss: 0.0566 - val_custom_accuracy_without_padding: 0.4319 - val_custom_mse: 0.0563 - val_loss: 0.0571 - learning_rate: 0.0010\n",
            "Epoch 107/500\n",
            "\u001b[1m22/25\u001b[0m \u001b[32m━━━━━━━━━━━━━━━━━\u001b[0m\u001b[37m━━━\u001b[0m \u001b[1m0s\u001b[0m 8ms/step - custom_accuracy_without_padding: 0.4332 - custom_mse: 0.0548 - loss: 0.0561\n",
            "Epoch 107: val_loss improved from 0.05713 to 0.05708, saving model to /content/drive/MyDrive/10 Masters/Research/error-correcting-codes/ThisIsTheCleanest/weights/DFT_model_27.keras\n",
            "\u001b[1m25/25\u001b[0m \u001b[32m━━━━━━━━━━━━━━━━━━━━\u001b[0m\u001b[37m\u001b[0m \u001b[1m1s\u001b[0m 21ms/step - custom_accuracy_without_padding: 0.4333 - custom_mse: 0.0549 - loss: 0.0562 - val_custom_accuracy_without_padding: 0.4339 - val_custom_mse: 0.0562 - val_loss: 0.0571 - learning_rate: 0.0010\n",
            "Epoch 108/500\n",
            "\u001b[1m20/25\u001b[0m \u001b[32m━━━━━━━━━━━━━━━━\u001b[0m\u001b[37m━━━━\u001b[0m \u001b[1m0s\u001b[0m 8ms/step - custom_accuracy_without_padding: 0.4375 - custom_mse: 0.0554 - loss: 0.0567\n",
            "Epoch 108: val_loss improved from 0.05708 to 0.05704, saving model to /content/drive/MyDrive/10 Masters/Research/error-correcting-codes/ThisIsTheCleanest/weights/DFT_model_27.keras\n",
            "\u001b[1m25/25\u001b[0m \u001b[32m━━━━━━━━━━━━━━━━━━━━\u001b[0m\u001b[37m\u001b[0m \u001b[1m1s\u001b[0m 23ms/step - custom_accuracy_without_padding: 0.4369 - custom_mse: 0.0554 - loss: 0.0567 - val_custom_accuracy_without_padding: 0.4358 - val_custom_mse: 0.0562 - val_loss: 0.0570 - learning_rate: 0.0010\n",
            "Epoch 109/500\n",
            "\u001b[1m23/25\u001b[0m \u001b[32m━━━━━━━━━━━━━━━━━━\u001b[0m\u001b[37m━━\u001b[0m \u001b[1m0s\u001b[0m 7ms/step - custom_accuracy_without_padding: 0.4431 - custom_mse: 0.0546 - loss: 0.0558\n",
            "Epoch 109: val_loss improved from 0.05704 to 0.05698, saving model to /content/drive/MyDrive/10 Masters/Research/error-correcting-codes/ThisIsTheCleanest/weights/DFT_model_27.keras\n",
            "\u001b[1m25/25\u001b[0m \u001b[32m━━━━━━━━━━━━━━━━━━━━\u001b[0m\u001b[37m\u001b[0m \u001b[1m1s\u001b[0m 22ms/step - custom_accuracy_without_padding: 0.4426 - custom_mse: 0.0547 - loss: 0.0559 - val_custom_accuracy_without_padding: 0.4363 - val_custom_mse: 0.0561 - val_loss: 0.0570 - learning_rate: 0.0010\n",
            "Epoch 110/500\n",
            "\u001b[1m20/25\u001b[0m \u001b[32m━━━━━━━━━━━━━━━━\u001b[0m\u001b[37m━━━━\u001b[0m \u001b[1m0s\u001b[0m 8ms/step - custom_accuracy_without_padding: 0.4373 - custom_mse: 0.0550 - loss: 0.0563\n",
            "Epoch 110: val_loss did not improve from 0.05698\n",
            "\u001b[1m25/25\u001b[0m \u001b[32m━━━━━━━━━━━━━━━━━━━━\u001b[0m\u001b[37m\u001b[0m \u001b[1m0s\u001b[0m 13ms/step - custom_accuracy_without_padding: 0.4375 - custom_mse: 0.0551 - loss: 0.0564 - val_custom_accuracy_without_padding: 0.4368 - val_custom_mse: 0.0562 - val_loss: 0.0570 - learning_rate: 0.0010\n",
            "Epoch 111/500\n",
            "\u001b[1m23/25\u001b[0m \u001b[32m━━━━━━━━━━━━━━━━━━\u001b[0m\u001b[37m━━\u001b[0m \u001b[1m0s\u001b[0m 7ms/step - custom_accuracy_without_padding: 0.4407 - custom_mse: 0.0541 - loss: 0.0554\n",
            "Epoch 111: val_loss improved from 0.05698 to 0.05689, saving model to /content/drive/MyDrive/10 Masters/Research/error-correcting-codes/ThisIsTheCleanest/weights/DFT_model_27.keras\n",
            "\u001b[1m25/25\u001b[0m \u001b[32m━━━━━━━━━━━━━━━━━━━━\u001b[0m\u001b[37m\u001b[0m \u001b[1m1s\u001b[0m 21ms/step - custom_accuracy_without_padding: 0.4406 - custom_mse: 0.0543 - loss: 0.0555 - val_custom_accuracy_without_padding: 0.4368 - val_custom_mse: 0.0561 - val_loss: 0.0569 - learning_rate: 0.0010\n",
            "Epoch 112/500\n",
            "\u001b[1m20/25\u001b[0m \u001b[32m━━━━━━━━━━━━━━━━\u001b[0m\u001b[37m━━━━\u001b[0m \u001b[1m0s\u001b[0m 8ms/step - custom_accuracy_without_padding: 0.4401 - custom_mse: 0.0550 - loss: 0.0562\n",
            "Epoch 112: val_loss improved from 0.05689 to 0.05687, saving model to /content/drive/MyDrive/10 Masters/Research/error-correcting-codes/ThisIsTheCleanest/weights/DFT_model_27.keras\n",
            "\u001b[1m25/25\u001b[0m \u001b[32m━━━━━━━━━━━━━━━━━━━━\u001b[0m\u001b[37m\u001b[0m \u001b[1m1s\u001b[0m 22ms/step - custom_accuracy_without_padding: 0.4403 - custom_mse: 0.0550 - loss: 0.0563 - val_custom_accuracy_without_padding: 0.4403 - val_custom_mse: 0.0561 - val_loss: 0.0569 - learning_rate: 0.0010\n",
            "Epoch 113/500\n",
            "\u001b[1m24/25\u001b[0m \u001b[32m━━━━━━━━━━━━━━━━━━━\u001b[0m\u001b[37m━\u001b[0m \u001b[1m0s\u001b[0m 7ms/step - custom_accuracy_without_padding: 0.4379 - custom_mse: 0.0558 - loss: 0.0571\n",
            "Epoch 113: val_loss improved from 0.05687 to 0.05675, saving model to /content/drive/MyDrive/10 Masters/Research/error-correcting-codes/ThisIsTheCleanest/weights/DFT_model_27.keras\n",
            "\u001b[1m25/25\u001b[0m \u001b[32m━━━━━━━━━━━━━━━━━━━━\u001b[0m\u001b[37m\u001b[0m \u001b[1m1s\u001b[0m 21ms/step - custom_accuracy_without_padding: 0.4382 - custom_mse: 0.0558 - loss: 0.0570 - val_custom_accuracy_without_padding: 0.4370 - val_custom_mse: 0.0560 - val_loss: 0.0567 - learning_rate: 0.0010\n",
            "Epoch 114/500\n",
            "\u001b[1m24/25\u001b[0m \u001b[32m━━━━━━━━━━━━━━━━━━━\u001b[0m\u001b[37m━\u001b[0m \u001b[1m0s\u001b[0m 7ms/step - custom_accuracy_without_padding: 0.4404 - custom_mse: 0.0556 - loss: 0.0568\n",
            "Epoch 114: val_loss did not improve from 0.05675\n",
            "\u001b[1m25/25\u001b[0m \u001b[32m━━━━━━━━━━━━━━━━━━━━\u001b[0m\u001b[37m\u001b[0m \u001b[1m0s\u001b[0m 12ms/step - custom_accuracy_without_padding: 0.4405 - custom_mse: 0.0555 - loss: 0.0567 - val_custom_accuracy_without_padding: 0.4393 - val_custom_mse: 0.0561 - val_loss: 0.0569 - learning_rate: 0.0010\n",
            "Epoch 115/500\n",
            "\u001b[1m25/25\u001b[0m \u001b[32m━━━━━━━━━━━━━━━━━━━━\u001b[0m\u001b[37m\u001b[0m \u001b[1m0s\u001b[0m 9ms/step - custom_accuracy_without_padding: 0.4424 - custom_mse: 0.0549 - loss: 0.0561\n",
            "Epoch 115: val_loss improved from 0.05675 to 0.05666, saving model to /content/drive/MyDrive/10 Masters/Research/error-correcting-codes/ThisIsTheCleanest/weights/DFT_model_27.keras\n",
            "\u001b[1m25/25\u001b[0m \u001b[32m━━━━━━━━━━━━━━━━━━━━\u001b[0m\u001b[37m\u001b[0m \u001b[1m1s\u001b[0m 30ms/step - custom_accuracy_without_padding: 0.4424 - custom_mse: 0.0549 - loss: 0.0561 - val_custom_accuracy_without_padding: 0.4410 - val_custom_mse: 0.0559 - val_loss: 0.0567 - learning_rate: 0.0010\n",
            "Epoch 116/500\n",
            "\u001b[1m22/25\u001b[0m \u001b[32m━━━━━━━━━━━━━━━━━\u001b[0m\u001b[37m━━━\u001b[0m \u001b[1m0s\u001b[0m 8ms/step - custom_accuracy_without_padding: 0.4456 - custom_mse: 0.0546 - loss: 0.0558\n",
            "Epoch 116: val_loss did not improve from 0.05666\n",
            "\u001b[1m25/25\u001b[0m \u001b[32m━━━━━━━━━━━━━━━━━━━━\u001b[0m\u001b[37m\u001b[0m \u001b[1m1s\u001b[0m 12ms/step - custom_accuracy_without_padding: 0.4452 - custom_mse: 0.0547 - loss: 0.0559 - val_custom_accuracy_without_padding: 0.4411 - val_custom_mse: 0.0559 - val_loss: 0.0567 - learning_rate: 0.0010\n",
            "Epoch 117/500\n",
            "\u001b[1m22/25\u001b[0m \u001b[32m━━━━━━━━━━━━━━━━━\u001b[0m\u001b[37m━━━\u001b[0m \u001b[1m0s\u001b[0m 13ms/step - custom_accuracy_without_padding: 0.4443 - custom_mse: 0.0545 - loss: 0.0557\n",
            "Epoch 117: val_loss improved from 0.05666 to 0.05662, saving model to /content/drive/MyDrive/10 Masters/Research/error-correcting-codes/ThisIsTheCleanest/weights/DFT_model_27.keras\n",
            "\u001b[1m25/25\u001b[0m \u001b[32m━━━━━━━━━━━━━━━━━━━━\u001b[0m\u001b[37m\u001b[0m \u001b[1m1s\u001b[0m 33ms/step - custom_accuracy_without_padding: 0.4444 - custom_mse: 0.0546 - loss: 0.0558 - val_custom_accuracy_without_padding: 0.4425 - val_custom_mse: 0.0559 - val_loss: 0.0566 - learning_rate: 0.0010\n",
            "Epoch 118/500\n",
            "\u001b[1m22/25\u001b[0m \u001b[32m━━━━━━━━━━━━━━━━━\u001b[0m\u001b[37m━━━\u001b[0m \u001b[1m0s\u001b[0m 10ms/step - custom_accuracy_without_padding: 0.4411 - custom_mse: 0.0552 - loss: 0.0563\n",
            "Epoch 118: val_loss improved from 0.05662 to 0.05658, saving model to /content/drive/MyDrive/10 Masters/Research/error-correcting-codes/ThisIsTheCleanest/weights/DFT_model_27.keras\n",
            "\u001b[1m25/25\u001b[0m \u001b[32m━━━━━━━━━━━━━━━━━━━━\u001b[0m\u001b[37m\u001b[0m \u001b[1m1s\u001b[0m 35ms/step - custom_accuracy_without_padding: 0.4417 - custom_mse: 0.0552 - loss: 0.0563 - val_custom_accuracy_without_padding: 0.4433 - val_custom_mse: 0.0558 - val_loss: 0.0566 - learning_rate: 0.0010\n",
            "Epoch 119/500\n",
            "\u001b[1m21/25\u001b[0m \u001b[32m━━━━━━━━━━━━━━━━\u001b[0m\u001b[37m━━━━\u001b[0m \u001b[1m0s\u001b[0m 8ms/step - custom_accuracy_without_padding: 0.4412 - custom_mse: 0.0551 - loss: 0.0562\n",
            "Epoch 119: val_loss improved from 0.05658 to 0.05656, saving model to /content/drive/MyDrive/10 Masters/Research/error-correcting-codes/ThisIsTheCleanest/weights/DFT_model_27.keras\n",
            "\u001b[1m25/25\u001b[0m \u001b[32m━━━━━━━━━━━━━━━━━━━━\u001b[0m\u001b[37m\u001b[0m \u001b[1m1s\u001b[0m 22ms/step - custom_accuracy_without_padding: 0.4420 - custom_mse: 0.0551 - loss: 0.0562 - val_custom_accuracy_without_padding: 0.4449 - val_custom_mse: 0.0558 - val_loss: 0.0566 - learning_rate: 0.0010\n",
            "Epoch 120/500\n",
            "\u001b[1m24/25\u001b[0m \u001b[32m━━━━━━━━━━━━━━━━━━━\u001b[0m\u001b[37m━\u001b[0m \u001b[1m0s\u001b[0m 7ms/step - custom_accuracy_without_padding: 0.4445 - custom_mse: 0.0549 - loss: 0.0560\n",
            "Epoch 120: val_loss improved from 0.05656 to 0.05646, saving model to /content/drive/MyDrive/10 Masters/Research/error-correcting-codes/ThisIsTheCleanest/weights/DFT_model_27.keras\n",
            "\u001b[1m25/25\u001b[0m \u001b[32m━━━━━━━━━━━━━━━━━━━━\u001b[0m\u001b[37m\u001b[0m \u001b[1m1s\u001b[0m 22ms/step - custom_accuracy_without_padding: 0.4446 - custom_mse: 0.0549 - loss: 0.0560 - val_custom_accuracy_without_padding: 0.4430 - val_custom_mse: 0.0558 - val_loss: 0.0565 - learning_rate: 0.0010\n",
            "Epoch 121/500\n",
            "\u001b[1m25/25\u001b[0m \u001b[32m━━━━━━━━━━━━━━━━━━━━\u001b[0m\u001b[37m\u001b[0m \u001b[1m0s\u001b[0m 7ms/step - custom_accuracy_without_padding: 0.4467 - custom_mse: 0.0549 - loss: 0.0560\n",
            "Epoch 121: val_loss did not improve from 0.05646\n",
            "\u001b[1m25/25\u001b[0m \u001b[32m━━━━━━━━━━━━━━━━━━━━\u001b[0m\u001b[37m\u001b[0m \u001b[1m0s\u001b[0m 11ms/step - custom_accuracy_without_padding: 0.4467 - custom_mse: 0.0549 - loss: 0.0560 - val_custom_accuracy_without_padding: 0.4446 - val_custom_mse: 0.0558 - val_loss: 0.0565 - learning_rate: 0.0010\n",
            "Epoch 122/500\n",
            "\u001b[1m23/25\u001b[0m \u001b[32m━━━━━━━━━━━━━━━━━━\u001b[0m\u001b[37m━━\u001b[0m \u001b[1m0s\u001b[0m 7ms/step - custom_accuracy_without_padding: 0.4475 - custom_mse: 0.0549 - loss: 0.0560\n",
            "Epoch 122: val_loss improved from 0.05646 to 0.05643, saving model to /content/drive/MyDrive/10 Masters/Research/error-correcting-codes/ThisIsTheCleanest/weights/DFT_model_27.keras\n",
            "\u001b[1m25/25\u001b[0m \u001b[32m━━━━━━━━━━━━━━━━━━━━\u001b[0m\u001b[37m\u001b[0m \u001b[1m1s\u001b[0m 20ms/step - custom_accuracy_without_padding: 0.4475 - custom_mse: 0.0549 - loss: 0.0560 - val_custom_accuracy_without_padding: 0.4453 - val_custom_mse: 0.0557 - val_loss: 0.0564 - learning_rate: 0.0010\n",
            "Epoch 123/500\n",
            "\u001b[1m21/25\u001b[0m \u001b[32m━━━━━━━━━━━━━━━━\u001b[0m\u001b[37m━━━━\u001b[0m \u001b[1m0s\u001b[0m 8ms/step - custom_accuracy_without_padding: 0.4492 - custom_mse: 0.0552 - loss: 0.0563\n",
            "Epoch 123: val_loss improved from 0.05643 to 0.05643, saving model to /content/drive/MyDrive/10 Masters/Research/error-correcting-codes/ThisIsTheCleanest/weights/DFT_model_27.keras\n",
            "\u001b[1m25/25\u001b[0m \u001b[32m━━━━━━━━━━━━━━━━━━━━\u001b[0m\u001b[37m\u001b[0m \u001b[1m1s\u001b[0m 21ms/step - custom_accuracy_without_padding: 0.4489 - custom_mse: 0.0551 - loss: 0.0562 - val_custom_accuracy_without_padding: 0.4443 - val_custom_mse: 0.0558 - val_loss: 0.0564 - learning_rate: 0.0010\n",
            "Epoch 124/500\n",
            "\u001b[1m24/25\u001b[0m \u001b[32m━━━━━━━━━━━━━━━━━━━\u001b[0m\u001b[37m━\u001b[0m \u001b[1m0s\u001b[0m 7ms/step - custom_accuracy_without_padding: 0.4516 - custom_mse: 0.0545 - loss: 0.0556\n",
            "Epoch 124: val_loss improved from 0.05643 to 0.05640, saving model to /content/drive/MyDrive/10 Masters/Research/error-correcting-codes/ThisIsTheCleanest/weights/DFT_model_27.keras\n",
            "\u001b[1m25/25\u001b[0m \u001b[32m━━━━━━━━━━━━━━━━━━━━\u001b[0m\u001b[37m\u001b[0m \u001b[1m1s\u001b[0m 21ms/step - custom_accuracy_without_padding: 0.4514 - custom_mse: 0.0545 - loss: 0.0556 - val_custom_accuracy_without_padding: 0.4474 - val_custom_mse: 0.0557 - val_loss: 0.0564 - learning_rate: 0.0010\n",
            "Epoch 125/500\n",
            "\u001b[1m23/25\u001b[0m \u001b[32m━━━━━━━━━━━━━━━━━━\u001b[0m\u001b[37m━━\u001b[0m \u001b[1m0s\u001b[0m 7ms/step - custom_accuracy_without_padding: 0.4468 - custom_mse: 0.0546 - loss: 0.0557\n",
            "Epoch 125: val_loss improved from 0.05640 to 0.05634, saving model to /content/drive/MyDrive/10 Masters/Research/error-correcting-codes/ThisIsTheCleanest/weights/DFT_model_27.keras\n",
            "\u001b[1m25/25\u001b[0m \u001b[32m━━━━━━━━━━━━━━━━━━━━\u001b[0m\u001b[37m\u001b[0m \u001b[1m1s\u001b[0m 20ms/step - custom_accuracy_without_padding: 0.4469 - custom_mse: 0.0546 - loss: 0.0557 - val_custom_accuracy_without_padding: 0.4456 - val_custom_mse: 0.0557 - val_loss: 0.0563 - learning_rate: 0.0010\n",
            "Epoch 126/500\n",
            "\u001b[1m23/25\u001b[0m \u001b[32m━━━━━━━━━━━━━━━━━━\u001b[0m\u001b[37m━━\u001b[0m \u001b[1m0s\u001b[0m 7ms/step - custom_accuracy_without_padding: 0.4492 - custom_mse: 0.0544 - loss: 0.0555\n",
            "Epoch 126: val_loss improved from 0.05634 to 0.05627, saving model to /content/drive/MyDrive/10 Masters/Research/error-correcting-codes/ThisIsTheCleanest/weights/DFT_model_27.keras\n",
            "\u001b[1m25/25\u001b[0m \u001b[32m━━━━━━━━━━━━━━━━━━━━\u001b[0m\u001b[37m\u001b[0m \u001b[1m1s\u001b[0m 22ms/step - custom_accuracy_without_padding: 0.4493 - custom_mse: 0.0545 - loss: 0.0555 - val_custom_accuracy_without_padding: 0.4463 - val_custom_mse: 0.0556 - val_loss: 0.0563 - learning_rate: 0.0010\n",
            "Epoch 127/500\n",
            "\u001b[1m21/25\u001b[0m \u001b[32m━━━━━━━━━━━━━━━━\u001b[0m\u001b[37m━━━━\u001b[0m \u001b[1m0s\u001b[0m 8ms/step - custom_accuracy_without_padding: 0.4477 - custom_mse: 0.0556 - loss: 0.0567\n",
            "Epoch 127: val_loss did not improve from 0.05627\n",
            "\u001b[1m25/25\u001b[0m \u001b[32m━━━━━━━━━━━━━━━━━━━━\u001b[0m\u001b[37m\u001b[0m \u001b[1m0s\u001b[0m 12ms/step - custom_accuracy_without_padding: 0.4482 - custom_mse: 0.0554 - loss: 0.0565 - val_custom_accuracy_without_padding: 0.4464 - val_custom_mse: 0.0557 - val_loss: 0.0563 - learning_rate: 0.0010\n",
            "Epoch 128/500\n",
            "\u001b[1m21/25\u001b[0m \u001b[32m━━━━━━━━━━━━━━━━\u001b[0m\u001b[37m━━━━\u001b[0m \u001b[1m0s\u001b[0m 8ms/step - custom_accuracy_without_padding: 0.4516 - custom_mse: 0.0547 - loss: 0.0558\n",
            "Epoch 128: val_loss did not improve from 0.05627\n",
            "\u001b[1m25/25\u001b[0m \u001b[32m━━━━━━━━━━━━━━━━━━━━\u001b[0m\u001b[37m\u001b[0m \u001b[1m1s\u001b[0m 13ms/step - custom_accuracy_without_padding: 0.4513 - custom_mse: 0.0548 - loss: 0.0558 - val_custom_accuracy_without_padding: 0.4458 - val_custom_mse: 0.0558 - val_loss: 0.0564 - learning_rate: 0.0010\n",
            "Epoch 129/500\n",
            "\u001b[1m22/25\u001b[0m \u001b[32m━━━━━━━━━━━━━━━━━\u001b[0m\u001b[37m━━━\u001b[0m \u001b[1m0s\u001b[0m 8ms/step - custom_accuracy_without_padding: 0.4509 - custom_mse: 0.0543 - loss: 0.0553\n",
            "Epoch 129: val_loss improved from 0.05627 to 0.05619, saving model to /content/drive/MyDrive/10 Masters/Research/error-correcting-codes/ThisIsTheCleanest/weights/DFT_model_27.keras\n",
            "\u001b[1m25/25\u001b[0m \u001b[32m━━━━━━━━━━━━━━━━━━━━\u001b[0m\u001b[37m\u001b[0m \u001b[1m1s\u001b[0m 22ms/step - custom_accuracy_without_padding: 0.4509 - custom_mse: 0.0544 - loss: 0.0554 - val_custom_accuracy_without_padding: 0.4501 - val_custom_mse: 0.0556 - val_loss: 0.0562 - learning_rate: 0.0010\n",
            "Epoch 130/500\n",
            "\u001b[1m22/25\u001b[0m \u001b[32m━━━━━━━━━━━━━━━━━\u001b[0m\u001b[37m━━━\u001b[0m \u001b[1m0s\u001b[0m 7ms/step - custom_accuracy_without_padding: 0.4537 - custom_mse: 0.0552 - loss: 0.0562\n",
            "Epoch 130: val_loss did not improve from 0.05619\n",
            "\u001b[1m25/25\u001b[0m \u001b[32m━━━━━━━━━━━━━━━━━━━━\u001b[0m\u001b[37m\u001b[0m \u001b[1m0s\u001b[0m 11ms/step - custom_accuracy_without_padding: 0.4536 - custom_mse: 0.0551 - loss: 0.0562 - val_custom_accuracy_without_padding: 0.4494 - val_custom_mse: 0.0556 - val_loss: 0.0562 - learning_rate: 0.0010\n",
            "Epoch 131/500\n",
            "\u001b[1m21/25\u001b[0m \u001b[32m━━━━━━━━━━━━━━━━\u001b[0m\u001b[37m━━━━\u001b[0m \u001b[1m0s\u001b[0m 8ms/step - custom_accuracy_without_padding: 0.4496 - custom_mse: 0.0552 - loss: 0.0562\n",
            "Epoch 131: val_loss did not improve from 0.05619\n",
            "\u001b[1m25/25\u001b[0m \u001b[32m━━━━━━━━━━━━━━━━━━━━\u001b[0m\u001b[37m\u001b[0m \u001b[1m0s\u001b[0m 11ms/step - custom_accuracy_without_padding: 0.4500 - custom_mse: 0.0551 - loss: 0.0561 - val_custom_accuracy_without_padding: 0.4481 - val_custom_mse: 0.0556 - val_loss: 0.0562 - learning_rate: 0.0010\n",
            "Epoch 132/500\n",
            "\u001b[1m25/25\u001b[0m \u001b[32m━━━━━━━━━━━━━━━━━━━━\u001b[0m\u001b[37m\u001b[0m \u001b[1m0s\u001b[0m 7ms/step - custom_accuracy_without_padding: 0.4579 - custom_mse: 0.0545 - loss: 0.0556\n",
            "Epoch 132: val_loss improved from 0.05619 to 0.05609, saving model to /content/drive/MyDrive/10 Masters/Research/error-correcting-codes/ThisIsTheCleanest/weights/DFT_model_27.keras\n",
            "\u001b[1m25/25\u001b[0m \u001b[32m━━━━━━━━━━━━━━━━━━━━\u001b[0m\u001b[37m\u001b[0m \u001b[1m1s\u001b[0m 21ms/step - custom_accuracy_without_padding: 0.4577 - custom_mse: 0.0545 - loss: 0.0556 - val_custom_accuracy_without_padding: 0.4479 - val_custom_mse: 0.0555 - val_loss: 0.0561 - learning_rate: 0.0010\n",
            "Epoch 133/500\n",
            "\u001b[1m25/25\u001b[0m \u001b[32m━━━━━━━━━━━━━━━━━━━━\u001b[0m\u001b[37m\u001b[0m \u001b[1m0s\u001b[0m 7ms/step - custom_accuracy_without_padding: 0.4543 - custom_mse: 0.0541 - loss: 0.0551\n",
            "Epoch 133: val_loss did not improve from 0.05609\n",
            "\u001b[1m25/25\u001b[0m \u001b[32m━━━━━━━━━━━━━━━━━━━━\u001b[0m\u001b[37m\u001b[0m \u001b[1m0s\u001b[0m 11ms/step - custom_accuracy_without_padding: 0.4543 - custom_mse: 0.0541 - loss: 0.0551 - val_custom_accuracy_without_padding: 0.4479 - val_custom_mse: 0.0556 - val_loss: 0.0562 - learning_rate: 0.0010\n",
            "Epoch 134/500\n",
            "\u001b[1m24/25\u001b[0m \u001b[32m━━━━━━━━━━━━━━━━━━━\u001b[0m\u001b[37m━\u001b[0m \u001b[1m0s\u001b[0m 7ms/step - custom_accuracy_without_padding: 0.4546 - custom_mse: 0.0541 - loss: 0.0551\n",
            "Epoch 134: val_loss improved from 0.05609 to 0.05603, saving model to /content/drive/MyDrive/10 Masters/Research/error-correcting-codes/ThisIsTheCleanest/weights/DFT_model_27.keras\n",
            "\u001b[1m25/25\u001b[0m \u001b[32m━━━━━━━━━━━━━━━━━━━━\u001b[0m\u001b[37m\u001b[0m \u001b[1m1s\u001b[0m 22ms/step - custom_accuracy_without_padding: 0.4546 - custom_mse: 0.0541 - loss: 0.0551 - val_custom_accuracy_without_padding: 0.4507 - val_custom_mse: 0.0554 - val_loss: 0.0560 - learning_rate: 0.0010\n",
            "Epoch 135/500\n",
            "\u001b[1m23/25\u001b[0m \u001b[32m━━━━━━━━━━━━━━━━━━\u001b[0m\u001b[37m━━\u001b[0m \u001b[1m0s\u001b[0m 7ms/step - custom_accuracy_without_padding: 0.4539 - custom_mse: 0.0550 - loss: 0.0560\n",
            "Epoch 135: val_loss improved from 0.05603 to 0.05600, saving model to /content/drive/MyDrive/10 Masters/Research/error-correcting-codes/ThisIsTheCleanest/weights/DFT_model_27.keras\n",
            "\u001b[1m25/25\u001b[0m \u001b[32m━━━━━━━━━━━━━━━━━━━━\u001b[0m\u001b[37m\u001b[0m \u001b[1m1s\u001b[0m 22ms/step - custom_accuracy_without_padding: 0.4540 - custom_mse: 0.0550 - loss: 0.0560 - val_custom_accuracy_without_padding: 0.4504 - val_custom_mse: 0.0554 - val_loss: 0.0560 - learning_rate: 0.0010\n",
            "Epoch 136/500\n",
            "\u001b[1m22/25\u001b[0m \u001b[32m━━━━━━━━━━━━━━━━━\u001b[0m\u001b[37m━━━\u001b[0m \u001b[1m0s\u001b[0m 8ms/step - custom_accuracy_without_padding: 0.4569 - custom_mse: 0.0546 - loss: 0.0556\n",
            "Epoch 136: val_loss did not improve from 0.05600\n",
            "\u001b[1m25/25\u001b[0m \u001b[32m━━━━━━━━━━━━━━━━━━━━\u001b[0m\u001b[37m\u001b[0m \u001b[1m0s\u001b[0m 11ms/step - custom_accuracy_without_padding: 0.4568 - custom_mse: 0.0546 - loss: 0.0556 - val_custom_accuracy_without_padding: 0.4499 - val_custom_mse: 0.0555 - val_loss: 0.0561 - learning_rate: 0.0010\n",
            "Epoch 137/500\n",
            "\u001b[1m24/25\u001b[0m \u001b[32m━━━━━━━━━━━━━━━━━━━\u001b[0m\u001b[37m━\u001b[0m \u001b[1m0s\u001b[0m 7ms/step - custom_accuracy_without_padding: 0.4548 - custom_mse: 0.0547 - loss: 0.0556\n",
            "Epoch 137: val_loss improved from 0.05600 to 0.05599, saving model to /content/drive/MyDrive/10 Masters/Research/error-correcting-codes/ThisIsTheCleanest/weights/DFT_model_27.keras\n",
            "\u001b[1m25/25\u001b[0m \u001b[32m━━━━━━━━━━━━━━━━━━━━\u001b[0m\u001b[37m\u001b[0m \u001b[1m1s\u001b[0m 24ms/step - custom_accuracy_without_padding: 0.4549 - custom_mse: 0.0546 - loss: 0.0556 - val_custom_accuracy_without_padding: 0.4496 - val_custom_mse: 0.0554 - val_loss: 0.0560 - learning_rate: 0.0010\n",
            "Epoch 138/500\n",
            "\u001b[1m24/25\u001b[0m \u001b[32m━━━━━━━━━━━━━━━━━━━\u001b[0m\u001b[37m━\u001b[0m \u001b[1m0s\u001b[0m 12ms/step - custom_accuracy_without_padding: 0.4531 - custom_mse: 0.0544 - loss: 0.0554\n",
            "Epoch 138: val_loss did not improve from 0.05599\n",
            "\u001b[1m25/25\u001b[0m \u001b[32m━━━━━━━━━━━━━━━━━━━━\u001b[0m\u001b[37m\u001b[0m \u001b[1m1s\u001b[0m 21ms/step - custom_accuracy_without_padding: 0.4533 - custom_mse: 0.0544 - loss: 0.0554 - val_custom_accuracy_without_padding: 0.4501 - val_custom_mse: 0.0555 - val_loss: 0.0560 - learning_rate: 0.0010\n",
            "Epoch 139/500\n",
            "\u001b[1m25/25\u001b[0m \u001b[32m━━━━━━━━━━━━━━━━━━━━\u001b[0m\u001b[37m\u001b[0m \u001b[1m0s\u001b[0m 11ms/step - custom_accuracy_without_padding: 0.4592 - custom_mse: 0.0543 - loss: 0.0553\n",
            "Epoch 139: ReduceLROnPlateau reducing learning rate to 0.0005000000237487257.\n",
            "\n",
            "Epoch 139: val_loss improved from 0.05599 to 0.05595, saving model to /content/drive/MyDrive/10 Masters/Research/error-correcting-codes/ThisIsTheCleanest/weights/DFT_model_27.keras\n",
            "\u001b[1m25/25\u001b[0m \u001b[32m━━━━━━━━━━━━━━━━━━━━\u001b[0m\u001b[37m\u001b[0m \u001b[1m1s\u001b[0m 30ms/step - custom_accuracy_without_padding: 0.4592 - custom_mse: 0.0543 - loss: 0.0553 - val_custom_accuracy_without_padding: 0.4511 - val_custom_mse: 0.0554 - val_loss: 0.0559 - learning_rate: 0.0010\n",
            "Epoch 140/500\n",
            "\u001b[1m23/25\u001b[0m \u001b[32m━━━━━━━━━━━━━━━━━━\u001b[0m\u001b[37m━━\u001b[0m \u001b[1m0s\u001b[0m 12ms/step - custom_accuracy_without_padding: 0.4575 - custom_mse: 0.0541 - loss: 0.0551\n",
            "Epoch 140: val_loss improved from 0.05595 to 0.05591, saving model to /content/drive/MyDrive/10 Masters/Research/error-correcting-codes/ThisIsTheCleanest/weights/DFT_model_27.keras\n",
            "\u001b[1m25/25\u001b[0m \u001b[32m━━━━━━━━━━━━━━━━━━━━\u001b[0m\u001b[37m\u001b[0m \u001b[1m1s\u001b[0m 31ms/step - custom_accuracy_without_padding: 0.4575 - custom_mse: 0.0541 - loss: 0.0551 - val_custom_accuracy_without_padding: 0.4537 - val_custom_mse: 0.0554 - val_loss: 0.0559 - learning_rate: 5.0000e-04\n",
            "Epoch 141/500\n",
            "\u001b[1m22/25\u001b[0m \u001b[32m━━━━━━━━━━━━━━━━━\u001b[0m\u001b[37m━━━\u001b[0m \u001b[1m0s\u001b[0m 13ms/step - custom_accuracy_without_padding: 0.4580 - custom_mse: 0.0546 - loss: 0.0555\n",
            "Epoch 141: val_loss did not improve from 0.05591\n",
            "\u001b[1m25/25\u001b[0m \u001b[32m━━━━━━━━━━━━━━━━━━━━\u001b[0m\u001b[37m\u001b[0m \u001b[1m1s\u001b[0m 23ms/step - custom_accuracy_without_padding: 0.4580 - custom_mse: 0.0545 - loss: 0.0555 - val_custom_accuracy_without_padding: 0.4519 - val_custom_mse: 0.0554 - val_loss: 0.0559 - learning_rate: 5.0000e-04\n",
            "Epoch 142/500\n",
            "\u001b[1m22/25\u001b[0m \u001b[32m━━━━━━━━━━━━━━━━━\u001b[0m\u001b[37m━━━\u001b[0m \u001b[1m0s\u001b[0m 10ms/step - custom_accuracy_without_padding: 0.4579 - custom_mse: 0.0546 - loss: 0.0556\n",
            "Epoch 142: val_loss improved from 0.05591 to 0.05586, saving model to /content/drive/MyDrive/10 Masters/Research/error-correcting-codes/ThisIsTheCleanest/weights/DFT_model_27.keras\n",
            "\u001b[1m25/25\u001b[0m \u001b[32m━━━━━━━━━━━━━━━━━━━━\u001b[0m\u001b[37m\u001b[0m \u001b[1m1s\u001b[0m 24ms/step - custom_accuracy_without_padding: 0.4581 - custom_mse: 0.0546 - loss: 0.0555 - val_custom_accuracy_without_padding: 0.4532 - val_custom_mse: 0.0553 - val_loss: 0.0559 - learning_rate: 5.0000e-04\n",
            "Epoch 143/500\n",
            "\u001b[1m24/25\u001b[0m \u001b[32m━━━━━━━━━━━━━━━━━━━\u001b[0m\u001b[37m━\u001b[0m \u001b[1m0s\u001b[0m 7ms/step - custom_accuracy_without_padding: 0.4594 - custom_mse: 0.0539 - loss: 0.0548\n",
            "Epoch 143: val_loss did not improve from 0.05586\n",
            "\u001b[1m25/25\u001b[0m \u001b[32m━━━━━━━━━━━━━━━━━━━━\u001b[0m\u001b[37m\u001b[0m \u001b[1m1s\u001b[0m 11ms/step - custom_accuracy_without_padding: 0.4594 - custom_mse: 0.0539 - loss: 0.0548 - val_custom_accuracy_without_padding: 0.4519 - val_custom_mse: 0.0554 - val_loss: 0.0559 - learning_rate: 5.0000e-04\n",
            "Epoch 144/500\n",
            "\u001b[1m22/25\u001b[0m \u001b[32m━━━━━━━━━━━━━━━━━\u001b[0m\u001b[37m━━━\u001b[0m \u001b[1m0s\u001b[0m 8ms/step - custom_accuracy_without_padding: 0.4589 - custom_mse: 0.0540 - loss: 0.0549\n",
            "Epoch 144: val_loss did not improve from 0.05586\n",
            "\u001b[1m25/25\u001b[0m \u001b[32m━━━━━━━━━━━━━━━━━━━━\u001b[0m\u001b[37m\u001b[0m \u001b[1m0s\u001b[0m 12ms/step - custom_accuracy_without_padding: 0.4587 - custom_mse: 0.0541 - loss: 0.0550 - val_custom_accuracy_without_padding: 0.4535 - val_custom_mse: 0.0554 - val_loss: 0.0559 - learning_rate: 5.0000e-04\n",
            "Epoch 145/500\n",
            "\u001b[1m25/25\u001b[0m \u001b[32m━━━━━━━━━━━━━━━━━━━━\u001b[0m\u001b[37m\u001b[0m \u001b[1m0s\u001b[0m 7ms/step - custom_accuracy_without_padding: 0.4642 - custom_mse: 0.0531 - loss: 0.0540\n",
            "Epoch 145: ReduceLROnPlateau reducing learning rate to 0.0002500000118743628.\n",
            "\n",
            "Epoch 145: val_loss improved from 0.05586 to 0.05585, saving model to /content/drive/MyDrive/10 Masters/Research/error-correcting-codes/ThisIsTheCleanest/weights/DFT_model_27.keras\n",
            "\u001b[1m25/25\u001b[0m \u001b[32m━━━━━━━━━━━━━━━━━━━━\u001b[0m\u001b[37m\u001b[0m \u001b[1m1s\u001b[0m 21ms/step - custom_accuracy_without_padding: 0.4640 - custom_mse: 0.0532 - loss: 0.0541 - val_custom_accuracy_without_padding: 0.4519 - val_custom_mse: 0.0554 - val_loss: 0.0559 - learning_rate: 5.0000e-04\n",
            "Epoch 146/500\n",
            "\u001b[1m22/25\u001b[0m \u001b[32m━━━━━━━━━━━━━━━━━\u001b[0m\u001b[37m━━━\u001b[0m \u001b[1m0s\u001b[0m 8ms/step - custom_accuracy_without_padding: 0.4589 - custom_mse: 0.0548 - loss: 0.0558\n",
            "Epoch 146: val_loss improved from 0.05585 to 0.05583, saving model to /content/drive/MyDrive/10 Masters/Research/error-correcting-codes/ThisIsTheCleanest/weights/DFT_model_27.keras\n",
            "\u001b[1m25/25\u001b[0m \u001b[32m━━━━━━━━━━━━━━━━━━━━\u001b[0m\u001b[37m\u001b[0m \u001b[1m1s\u001b[0m 21ms/step - custom_accuracy_without_padding: 0.4592 - custom_mse: 0.0547 - loss: 0.0557 - val_custom_accuracy_without_padding: 0.4545 - val_custom_mse: 0.0553 - val_loss: 0.0558 - learning_rate: 2.5000e-04\n",
            "Epoch 147/500\n",
            "\u001b[1m22/25\u001b[0m \u001b[32m━━━━━━━━━━━━━━━━━\u001b[0m\u001b[37m━━━\u001b[0m \u001b[1m0s\u001b[0m 7ms/step - custom_accuracy_without_padding: 0.4634 - custom_mse: 0.0537 - loss: 0.0547\n",
            "Epoch 147: val_loss improved from 0.05583 to 0.05583, saving model to /content/drive/MyDrive/10 Masters/Research/error-correcting-codes/ThisIsTheCleanest/weights/DFT_model_27.keras\n",
            "\u001b[1m25/25\u001b[0m \u001b[32m━━━━━━━━━━━━━━━━━━━━\u001b[0m\u001b[37m\u001b[0m \u001b[1m1s\u001b[0m 22ms/step - custom_accuracy_without_padding: 0.4629 - custom_mse: 0.0538 - loss: 0.0547 - val_custom_accuracy_without_padding: 0.4516 - val_custom_mse: 0.0553 - val_loss: 0.0558 - learning_rate: 2.5000e-04\n",
            "Epoch 148/500\n",
            "\u001b[1m19/25\u001b[0m \u001b[32m━━━━━━━━━━━━━━━\u001b[0m\u001b[37m━━━━━\u001b[0m \u001b[1m0s\u001b[0m 9ms/step - custom_accuracy_without_padding: 0.4604 - custom_mse: 0.0542 - loss: 0.0551 \n",
            "Epoch 148: val_loss improved from 0.05583 to 0.05582, saving model to /content/drive/MyDrive/10 Masters/Research/error-correcting-codes/ThisIsTheCleanest/weights/DFT_model_27.keras\n",
            "\u001b[1m25/25\u001b[0m \u001b[32m━━━━━━━━━━━━━━━━━━━━\u001b[0m\u001b[37m\u001b[0m \u001b[1m1s\u001b[0m 22ms/step - custom_accuracy_without_padding: 0.4603 - custom_mse: 0.0542 - loss: 0.0551 - val_custom_accuracy_without_padding: 0.4525 - val_custom_mse: 0.0553 - val_loss: 0.0558 - learning_rate: 2.5000e-04\n",
            "Epoch 149/500\n",
            "\u001b[1m22/25\u001b[0m \u001b[32m━━━━━━━━━━━━━━━━━\u001b[0m\u001b[37m━━━\u001b[0m \u001b[1m0s\u001b[0m 8ms/step - custom_accuracy_without_padding: 0.4606 - custom_mse: 0.0539 - loss: 0.0548\n",
            "Epoch 149: val_loss did not improve from 0.05582\n",
            "\u001b[1m25/25\u001b[0m \u001b[32m━━━━━━━━━━━━━━━━━━━━\u001b[0m\u001b[37m\u001b[0m \u001b[1m0s\u001b[0m 12ms/step - custom_accuracy_without_padding: 0.4606 - custom_mse: 0.0539 - loss: 0.0548 - val_custom_accuracy_without_padding: 0.4535 - val_custom_mse: 0.0553 - val_loss: 0.0558 - learning_rate: 2.5000e-04\n",
            "Epoch 150/500\n",
            "\u001b[1m21/25\u001b[0m \u001b[32m━━━━━━━━━━━━━━━━\u001b[0m\u001b[37m━━━━\u001b[0m \u001b[1m0s\u001b[0m 8ms/step - custom_accuracy_without_padding: 0.4576 - custom_mse: 0.0541 - loss: 0.0550\n",
            "Epoch 150: ReduceLROnPlateau reducing learning rate to 0.0001250000059371814.\n",
            "\n",
            "Epoch 150: val_loss did not improve from 0.05582\n",
            "\u001b[1m25/25\u001b[0m \u001b[32m━━━━━━━━━━━━━━━━━━━━\u001b[0m\u001b[37m\u001b[0m \u001b[1m1s\u001b[0m 12ms/step - custom_accuracy_without_padding: 0.4581 - custom_mse: 0.0541 - loss: 0.0550 - val_custom_accuracy_without_padding: 0.4532 - val_custom_mse: 0.0553 - val_loss: 0.0558 - learning_rate: 2.5000e-04\n",
            "Epoch 151/500\n",
            "\u001b[1m23/25\u001b[0m \u001b[32m━━━━━━━━━━━━━━━━━━\u001b[0m\u001b[37m━━\u001b[0m \u001b[1m0s\u001b[0m 7ms/step - custom_accuracy_without_padding: 0.4574 - custom_mse: 0.0541 - loss: 0.0550\n",
            "Epoch 151: val_loss improved from 0.05582 to 0.05580, saving model to /content/drive/MyDrive/10 Masters/Research/error-correcting-codes/ThisIsTheCleanest/weights/DFT_model_27.keras\n",
            "\u001b[1m25/25\u001b[0m \u001b[32m━━━━━━━━━━━━━━━━━━━━\u001b[0m\u001b[37m\u001b[0m \u001b[1m1s\u001b[0m 22ms/step - custom_accuracy_without_padding: 0.4578 - custom_mse: 0.0541 - loss: 0.0550 - val_custom_accuracy_without_padding: 0.4534 - val_custom_mse: 0.0553 - val_loss: 0.0558 - learning_rate: 1.2500e-04\n",
            "Epoch 152/500\n",
            "\u001b[1m22/25\u001b[0m \u001b[32m━━━━━━━━━━━━━━━━━\u001b[0m\u001b[37m━━━\u001b[0m \u001b[1m0s\u001b[0m 7ms/step - custom_accuracy_without_padding: 0.4602 - custom_mse: 0.0546 - loss: 0.0556\n",
            "Epoch 152: val_loss improved from 0.05580 to 0.05579, saving model to /content/drive/MyDrive/10 Masters/Research/error-correcting-codes/ThisIsTheCleanest/weights/DFT_model_27.keras\n",
            "\u001b[1m25/25\u001b[0m \u001b[32m━━━━━━━━━━━━━━━━━━━━\u001b[0m\u001b[37m\u001b[0m \u001b[1m1s\u001b[0m 22ms/step - custom_accuracy_without_padding: 0.4602 - custom_mse: 0.0546 - loss: 0.0555 - val_custom_accuracy_without_padding: 0.4529 - val_custom_mse: 0.0553 - val_loss: 0.0558 - learning_rate: 1.2500e-04\n",
            "Epoch 153/500\n",
            "\u001b[1m19/25\u001b[0m \u001b[32m━━━━━━━━━━━━━━━\u001b[0m\u001b[37m━━━━━\u001b[0m \u001b[1m0s\u001b[0m 9ms/step - custom_accuracy_without_padding: 0.4626 - custom_mse: 0.0543 - loss: 0.0552\n",
            "Epoch 153: val_loss did not improve from 0.05579\n",
            "\u001b[1m25/25\u001b[0m \u001b[32m━━━━━━━━━━━━━━━━━━━━\u001b[0m\u001b[37m\u001b[0m \u001b[1m0s\u001b[0m 13ms/step - custom_accuracy_without_padding: 0.4623 - custom_mse: 0.0542 - loss: 0.0551 - val_custom_accuracy_without_padding: 0.4534 - val_custom_mse: 0.0553 - val_loss: 0.0558 - learning_rate: 1.2500e-04\n",
            "Epoch 154/500\n",
            "\u001b[1m21/25\u001b[0m \u001b[32m━━━━━━━━━━━━━━━━\u001b[0m\u001b[37m━━━━\u001b[0m \u001b[1m0s\u001b[0m 8ms/step - custom_accuracy_without_padding: 0.4645 - custom_mse: 0.0538 - loss: 0.0548\n",
            "Epoch 154: val_loss did not improve from 0.05579\n",
            "\u001b[1m25/25\u001b[0m \u001b[32m━━━━━━━━━━━━━━━━━━━━\u001b[0m\u001b[37m\u001b[0m \u001b[1m0s\u001b[0m 13ms/step - custom_accuracy_without_padding: 0.4637 - custom_mse: 0.0539 - loss: 0.0548 - val_custom_accuracy_without_padding: 0.4532 - val_custom_mse: 0.0553 - val_loss: 0.0558 - learning_rate: 1.2500e-04\n",
            "Epoch 155/500\n",
            "\u001b[1m22/25\u001b[0m \u001b[32m━━━━━━━━━━━━━━━━━\u001b[0m\u001b[37m━━━\u001b[0m \u001b[1m0s\u001b[0m 8ms/step - custom_accuracy_without_padding: 0.4608 - custom_mse: 0.0537 - loss: 0.0546\n",
            "Epoch 155: val_loss improved from 0.05579 to 0.05578, saving model to /content/drive/MyDrive/10 Masters/Research/error-correcting-codes/ThisIsTheCleanest/weights/DFT_model_27.keras\n",
            "\u001b[1m25/25\u001b[0m \u001b[32m━━━━━━━━━━━━━━━━━━━━\u001b[0m\u001b[37m\u001b[0m \u001b[1m1s\u001b[0m 22ms/step - custom_accuracy_without_padding: 0.4607 - custom_mse: 0.0538 - loss: 0.0547 - val_custom_accuracy_without_padding: 0.4521 - val_custom_mse: 0.0553 - val_loss: 0.0558 - learning_rate: 1.2500e-04\n",
            "Epoch 156/500\n",
            "\u001b[1m23/25\u001b[0m \u001b[32m━━━━━━━━━━━━━━━━━━\u001b[0m\u001b[37m━━\u001b[0m \u001b[1m0s\u001b[0m 7ms/step - custom_accuracy_without_padding: 0.4597 - custom_mse: 0.0539 - loss: 0.0548\n",
            "Epoch 156: ReduceLROnPlateau reducing learning rate to 6.25000029685907e-05.\n",
            "\n",
            "Epoch 156: val_loss did not improve from 0.05578\n",
            "\u001b[1m25/25\u001b[0m \u001b[32m━━━━━━━━━━━━━━━━━━━━\u001b[0m\u001b[37m\u001b[0m \u001b[1m0s\u001b[0m 12ms/step - custom_accuracy_without_padding: 0.4599 - custom_mse: 0.0540 - loss: 0.0549 - val_custom_accuracy_without_padding: 0.4530 - val_custom_mse: 0.0553 - val_loss: 0.0558 - learning_rate: 1.2500e-04\n",
            "Epoch 157/500\n",
            "\u001b[1m23/25\u001b[0m \u001b[32m━━━━━━━━━━━━━━━━━━\u001b[0m\u001b[37m━━\u001b[0m \u001b[1m0s\u001b[0m 7ms/step - custom_accuracy_without_padding: 0.4597 - custom_mse: 0.0545 - loss: 0.0554\n",
            "Epoch 157: val_loss improved from 0.05578 to 0.05578, saving model to /content/drive/MyDrive/10 Masters/Research/error-correcting-codes/ThisIsTheCleanest/weights/DFT_model_27.keras\n",
            "\u001b[1m25/25\u001b[0m \u001b[32m━━━━━━━━━━━━━━━━━━━━\u001b[0m\u001b[37m\u001b[0m \u001b[1m1s\u001b[0m 21ms/step - custom_accuracy_without_padding: 0.4598 - custom_mse: 0.0545 - loss: 0.0554 - val_custom_accuracy_without_padding: 0.4534 - val_custom_mse: 0.0553 - val_loss: 0.0558 - learning_rate: 6.2500e-05\n",
            "Epoch 158/500\n",
            "\u001b[1m21/25\u001b[0m \u001b[32m━━━━━━━━━━━━━━━━\u001b[0m\u001b[37m━━━━\u001b[0m \u001b[1m0s\u001b[0m 8ms/step - custom_accuracy_without_padding: 0.4595 - custom_mse: 0.0548 - loss: 0.0557\n",
            "Epoch 158: val_loss did not improve from 0.05578\n",
            "\u001b[1m25/25\u001b[0m \u001b[32m━━━━━━━━━━━━━━━━━━━━\u001b[0m\u001b[37m\u001b[0m \u001b[1m0s\u001b[0m 13ms/step - custom_accuracy_without_padding: 0.4597 - custom_mse: 0.0546 - loss: 0.0556 - val_custom_accuracy_without_padding: 0.4535 - val_custom_mse: 0.0553 - val_loss: 0.0558 - learning_rate: 6.2500e-05\n",
            "Epoch 159/500\n",
            "\u001b[1m23/25\u001b[0m \u001b[32m━━━━━━━━━━━━━━━━━━\u001b[0m\u001b[37m━━\u001b[0m \u001b[1m0s\u001b[0m 7ms/step - custom_accuracy_without_padding: 0.4610 - custom_mse: 0.0550 - loss: 0.0559\n",
            "Epoch 159: val_loss did not improve from 0.05578\n",
            "\u001b[1m25/25\u001b[0m \u001b[32m━━━━━━━━━━━━━━━━━━━━\u001b[0m\u001b[37m\u001b[0m \u001b[1m0s\u001b[0m 11ms/step - custom_accuracy_without_padding: 0.4609 - custom_mse: 0.0549 - loss: 0.0558 - val_custom_accuracy_without_padding: 0.4532 - val_custom_mse: 0.0553 - val_loss: 0.0558 - learning_rate: 6.2500e-05\n",
            "Epoch 160/500\n",
            "\u001b[1m25/25\u001b[0m \u001b[32m━━━━━━━━━━━━━━━━━━━━\u001b[0m\u001b[37m\u001b[0m \u001b[1m0s\u001b[0m 12ms/step - custom_accuracy_without_padding: 0.4595 - custom_mse: 0.0536 - loss: 0.0545\n",
            "Epoch 160: val_loss did not improve from 0.05578\n",
            "\u001b[1m25/25\u001b[0m \u001b[32m━━━━━━━━━━━━━━━━━━━━\u001b[0m\u001b[37m\u001b[0m \u001b[1m0s\u001b[0m 18ms/step - custom_accuracy_without_padding: 0.4596 - custom_mse: 0.0537 - loss: 0.0546 - val_custom_accuracy_without_padding: 0.4529 - val_custom_mse: 0.0553 - val_loss: 0.0558 - learning_rate: 6.2500e-05\n",
            "Epoch 161/500\n",
            "\u001b[1m24/25\u001b[0m \u001b[32m━━━━━━━━━━━━━━━━━━━\u001b[0m\u001b[37m━\u001b[0m \u001b[1m0s\u001b[0m 12ms/step - custom_accuracy_without_padding: 0.4609 - custom_mse: 0.0534 - loss: 0.0543\n",
            "Epoch 161: ReduceLROnPlateau reducing learning rate to 3.125000148429535e-05.\n",
            "\n",
            "Epoch 161: val_loss improved from 0.05578 to 0.05577, saving model to /content/drive/MyDrive/10 Masters/Research/error-correcting-codes/ThisIsTheCleanest/weights/DFT_model_27.keras\n",
            "\u001b[1m25/25\u001b[0m \u001b[32m━━━━━━━━━━━━━━━━━━━━\u001b[0m\u001b[37m\u001b[0m \u001b[1m1s\u001b[0m 34ms/step - custom_accuracy_without_padding: 0.4610 - custom_mse: 0.0535 - loss: 0.0544 - val_custom_accuracy_without_padding: 0.4539 - val_custom_mse: 0.0553 - val_loss: 0.0558 - learning_rate: 6.2500e-05\n",
            "Epoch 162/500\n",
            "\u001b[1m22/25\u001b[0m \u001b[32m━━━━━━━━━━━━━━━━━\u001b[0m\u001b[37m━━━\u001b[0m \u001b[1m0s\u001b[0m 10ms/step - custom_accuracy_without_padding: 0.4609 - custom_mse: 0.0542 - loss: 0.0552\n",
            "Epoch 162: val_loss improved from 0.05577 to 0.05577, saving model to /content/drive/MyDrive/10 Masters/Research/error-correcting-codes/ThisIsTheCleanest/weights/DFT_model_27.keras\n",
            "\u001b[1m25/25\u001b[0m \u001b[32m━━━━━━━━━━━━━━━━━━━━\u001b[0m\u001b[37m\u001b[0m \u001b[1m1s\u001b[0m 35ms/step - custom_accuracy_without_padding: 0.4610 - custom_mse: 0.0542 - loss: 0.0552 - val_custom_accuracy_without_padding: 0.4535 - val_custom_mse: 0.0553 - val_loss: 0.0558 - learning_rate: 3.1250e-05\n",
            "Epoch 163/500\n",
            "\u001b[1m22/25\u001b[0m \u001b[32m━━━━━━━━━━━━━━━━━\u001b[0m\u001b[37m━━━\u001b[0m \u001b[1m0s\u001b[0m 8ms/step - custom_accuracy_without_padding: 0.4595 - custom_mse: 0.0547 - loss: 0.0556\n",
            "Epoch 163: val_loss did not improve from 0.05577\n",
            "\u001b[1m25/25\u001b[0m \u001b[32m━━━━━━━━━━━━━━━━━━━━\u001b[0m\u001b[37m\u001b[0m \u001b[1m1s\u001b[0m 12ms/step - custom_accuracy_without_padding: 0.4599 - custom_mse: 0.0546 - loss: 0.0555 - val_custom_accuracy_without_padding: 0.4535 - val_custom_mse: 0.0553 - val_loss: 0.0558 - learning_rate: 3.1250e-05\n",
            "Epoch 164/500\n",
            "\u001b[1m22/25\u001b[0m \u001b[32m━━━━━━━━━━━━━━━━━\u001b[0m\u001b[37m━━━\u001b[0m \u001b[1m0s\u001b[0m 7ms/step - custom_accuracy_without_padding: 0.4653 - custom_mse: 0.0536 - loss: 0.0545\n",
            "Epoch 164: val_loss did not improve from 0.05577\n",
            "\u001b[1m25/25\u001b[0m \u001b[32m━━━━━━━━━━━━━━━━━━━━\u001b[0m\u001b[37m\u001b[0m \u001b[1m1s\u001b[0m 11ms/step - custom_accuracy_without_padding: 0.4646 - custom_mse: 0.0537 - loss: 0.0546 - val_custom_accuracy_without_padding: 0.4537 - val_custom_mse: 0.0553 - val_loss: 0.0558 - learning_rate: 3.1250e-05\n",
            "Epoch 165/500\n",
            "\u001b[1m23/25\u001b[0m \u001b[32m━━━━━━━━━━━━━━━━━━\u001b[0m\u001b[37m━━\u001b[0m \u001b[1m0s\u001b[0m 7ms/step - custom_accuracy_without_padding: 0.4606 - custom_mse: 0.0540 - loss: 0.0549\n",
            "Epoch 165: val_loss improved from 0.05577 to 0.05577, saving model to /content/drive/MyDrive/10 Masters/Research/error-correcting-codes/ThisIsTheCleanest/weights/DFT_model_27.keras\n",
            "\u001b[1m25/25\u001b[0m \u001b[32m━━━━━━━━━━━━━━━━━━━━\u001b[0m\u001b[37m\u001b[0m \u001b[1m1s\u001b[0m 21ms/step - custom_accuracy_without_padding: 0.4607 - custom_mse: 0.0540 - loss: 0.0550 - val_custom_accuracy_without_padding: 0.4535 - val_custom_mse: 0.0553 - val_loss: 0.0558 - learning_rate: 3.1250e-05\n",
            "Epoch 166/500\n",
            "\u001b[1m21/25\u001b[0m \u001b[32m━━━━━━━━━━━━━━━━\u001b[0m\u001b[37m━━━━\u001b[0m \u001b[1m0s\u001b[0m 8ms/step - custom_accuracy_without_padding: 0.4633 - custom_mse: 0.0546 - loss: 0.0555\n",
            "Epoch 166: ReduceLROnPlateau reducing learning rate to 1.5625000742147677e-05.\n",
            "\n",
            "Epoch 166: val_loss did not improve from 0.05577\n",
            "\u001b[1m25/25\u001b[0m \u001b[32m━━━━━━━━━━━━━━━━━━━━\u001b[0m\u001b[37m\u001b[0m \u001b[1m0s\u001b[0m 12ms/step - custom_accuracy_without_padding: 0.4629 - custom_mse: 0.0545 - loss: 0.0554 - val_custom_accuracy_without_padding: 0.4534 - val_custom_mse: 0.0553 - val_loss: 0.0558 - learning_rate: 3.1250e-05\n",
            "Epoch 167/500\n",
            "\u001b[1m24/25\u001b[0m \u001b[32m━━━━━━━━━━━━━━━━━━━\u001b[0m\u001b[37m━\u001b[0m \u001b[1m0s\u001b[0m 7ms/step - custom_accuracy_without_padding: 0.4630 - custom_mse: 0.0542 - loss: 0.0551\n",
            "Epoch 167: val_loss did not improve from 0.05577\n",
            "\u001b[1m25/25\u001b[0m \u001b[32m━━━━━━━━━━━━━━━━━━━━\u001b[0m\u001b[37m\u001b[0m \u001b[1m0s\u001b[0m 12ms/step - custom_accuracy_without_padding: 0.4629 - custom_mse: 0.0542 - loss: 0.0551 - val_custom_accuracy_without_padding: 0.4537 - val_custom_mse: 0.0553 - val_loss: 0.0558 - learning_rate: 1.5625e-05\n",
            "Epoch 168/500\n",
            "\u001b[1m21/25\u001b[0m \u001b[32m━━━━━━━━━━━━━━━━\u001b[0m\u001b[37m━━━━\u001b[0m \u001b[1m0s\u001b[0m 8ms/step - custom_accuracy_without_padding: 0.4648 - custom_mse: 0.0534 - loss: 0.0543\n",
            "Epoch 168: val_loss improved from 0.05577 to 0.05577, saving model to /content/drive/MyDrive/10 Masters/Research/error-correcting-codes/ThisIsTheCleanest/weights/DFT_model_27.keras\n",
            "\u001b[1m25/25\u001b[0m \u001b[32m━━━━━━━━━━━━━━━━━━━━\u001b[0m\u001b[37m\u001b[0m \u001b[1m1s\u001b[0m 22ms/step - custom_accuracy_without_padding: 0.4641 - custom_mse: 0.0536 - loss: 0.0545 - val_custom_accuracy_without_padding: 0.4535 - val_custom_mse: 0.0553 - val_loss: 0.0558 - learning_rate: 1.5625e-05\n",
            "Epoch 169/500\n",
            "\u001b[1m22/25\u001b[0m \u001b[32m━━━━━━━━━━━━━━━━━\u001b[0m\u001b[37m━━━\u001b[0m \u001b[1m0s\u001b[0m 7ms/step - custom_accuracy_without_padding: 0.4616 - custom_mse: 0.0535 - loss: 0.0544\n",
            "Epoch 169: val_loss did not improve from 0.05577\n",
            "\u001b[1m25/25\u001b[0m \u001b[32m━━━━━━━━━━━━━━━━━━━━\u001b[0m\u001b[37m\u001b[0m \u001b[1m0s\u001b[0m 12ms/step - custom_accuracy_without_padding: 0.4616 - custom_mse: 0.0536 - loss: 0.0545 - val_custom_accuracy_without_padding: 0.4537 - val_custom_mse: 0.0553 - val_loss: 0.0558 - learning_rate: 1.5625e-05\n",
            "Epoch 170/500\n",
            "\u001b[1m22/25\u001b[0m \u001b[32m━━━━━━━━━━━━━━━━━\u001b[0m\u001b[37m━━━\u001b[0m \u001b[1m0s\u001b[0m 7ms/step - custom_accuracy_without_padding: 0.4668 - custom_mse: 0.0537 - loss: 0.0546\n",
            "Epoch 170: val_loss did not improve from 0.05577\n",
            "\u001b[1m25/25\u001b[0m \u001b[32m━━━━━━━━━━━━━━━━━━━━\u001b[0m\u001b[37m\u001b[0m \u001b[1m0s\u001b[0m 12ms/step - custom_accuracy_without_padding: 0.4660 - custom_mse: 0.0537 - loss: 0.0547 - val_custom_accuracy_without_padding: 0.4535 - val_custom_mse: 0.0553 - val_loss: 0.0558 - learning_rate: 1.5625e-05\n",
            "Epoch 171/500\n",
            "\u001b[1m21/25\u001b[0m \u001b[32m━━━━━━━━━━━━━━━━\u001b[0m\u001b[37m━━━━\u001b[0m \u001b[1m0s\u001b[0m 8ms/step - custom_accuracy_without_padding: 0.4599 - custom_mse: 0.0541 - loss: 0.0550\n",
            "Epoch 171: ReduceLROnPlateau reducing learning rate to 7.812500371073838e-06.\n",
            "\n",
            "Epoch 171: val_loss did not improve from 0.05577\n",
            "\u001b[1m25/25\u001b[0m \u001b[32m━━━━━━━━━━━━━━━━━━━━\u001b[0m\u001b[37m\u001b[0m \u001b[1m1s\u001b[0m 12ms/step - custom_accuracy_without_padding: 0.4603 - custom_mse: 0.0541 - loss: 0.0550 - val_custom_accuracy_without_padding: 0.4539 - val_custom_mse: 0.0553 - val_loss: 0.0558 - learning_rate: 1.5625e-05\n",
            "Epoch 172/500\n",
            "\u001b[1m19/25\u001b[0m \u001b[32m━━━━━━━━━━━━━━━\u001b[0m\u001b[37m━━━━━\u001b[0m \u001b[1m0s\u001b[0m 9ms/step - custom_accuracy_without_padding: 0.4632 - custom_mse: 0.0539 - loss: 0.0548\n",
            "Epoch 172: val_loss did not improve from 0.05577\n",
            "\u001b[1m25/25\u001b[0m \u001b[32m━━━━━━━━━━━━━━━━━━━━\u001b[0m\u001b[37m\u001b[0m \u001b[1m1s\u001b[0m 12ms/step - custom_accuracy_without_padding: 0.4628 - custom_mse: 0.0540 - loss: 0.0549 - val_custom_accuracy_without_padding: 0.4539 - val_custom_mse: 0.0553 - val_loss: 0.0558 - learning_rate: 7.8125e-06\n",
            "Epoch 173/500\n",
            "\u001b[1m23/25\u001b[0m \u001b[32m━━━━━━━━━━━━━━━━━━\u001b[0m\u001b[37m━━\u001b[0m \u001b[1m0s\u001b[0m 7ms/step - custom_accuracy_without_padding: 0.4583 - custom_mse: 0.0540 - loss: 0.0549\n",
            "Epoch 173: val_loss did not improve from 0.05577\n",
            "\u001b[1m25/25\u001b[0m \u001b[32m━━━━━━━━━━━━━━━━━━━━\u001b[0m\u001b[37m\u001b[0m \u001b[1m1s\u001b[0m 11ms/step - custom_accuracy_without_padding: 0.4587 - custom_mse: 0.0540 - loss: 0.0549 - val_custom_accuracy_without_padding: 0.4535 - val_custom_mse: 0.0553 - val_loss: 0.0558 - learning_rate: 7.8125e-06\n",
            "Epoch 174/500\n",
            "\u001b[1m20/25\u001b[0m \u001b[32m━━━━━━━━━━━━━━━━\u001b[0m\u001b[37m━━━━\u001b[0m \u001b[1m0s\u001b[0m 8ms/step - custom_accuracy_without_padding: 0.4620 - custom_mse: 0.0539 - loss: 0.0548\n",
            "Epoch 174: val_loss improved from 0.05577 to 0.05577, saving model to /content/drive/MyDrive/10 Masters/Research/error-correcting-codes/ThisIsTheCleanest/weights/DFT_model_27.keras\n",
            "\u001b[1m25/25\u001b[0m \u001b[32m━━━━━━━━━━━━━━━━━━━━\u001b[0m\u001b[37m\u001b[0m \u001b[1m1s\u001b[0m 21ms/step - custom_accuracy_without_padding: 0.4619 - custom_mse: 0.0539 - loss: 0.0548 - val_custom_accuracy_without_padding: 0.4535 - val_custom_mse: 0.0553 - val_loss: 0.0558 - learning_rate: 7.8125e-06\n",
            "Epoch 175/500\n",
            "\u001b[1m21/25\u001b[0m \u001b[32m━━━━━━━━━━━━━━━━\u001b[0m\u001b[37m━━━━\u001b[0m \u001b[1m0s\u001b[0m 8ms/step - custom_accuracy_without_padding: 0.4606 - custom_mse: 0.0542 - loss: 0.0552\n",
            "Epoch 175: val_loss did not improve from 0.05577\n",
            "\u001b[1m25/25\u001b[0m \u001b[32m━━━━━━━━━━━━━━━━━━━━\u001b[0m\u001b[37m\u001b[0m \u001b[1m0s\u001b[0m 12ms/step - custom_accuracy_without_padding: 0.4608 - custom_mse: 0.0542 - loss: 0.0551 - val_custom_accuracy_without_padding: 0.4535 - val_custom_mse: 0.0553 - val_loss: 0.0558 - learning_rate: 7.8125e-06\n",
            "Epoch 176/500\n",
            "\u001b[1m21/25\u001b[0m \u001b[32m━━━━━━━━━━━━━━━━\u001b[0m\u001b[37m━━━━\u001b[0m \u001b[1m0s\u001b[0m 8ms/step - custom_accuracy_without_padding: 0.4637 - custom_mse: 0.0546 - loss: 0.0556\n",
            "Epoch 176: ReduceLROnPlateau reducing learning rate to 3.906250185536919e-06.\n",
            "\n",
            "Epoch 176: val_loss improved from 0.05577 to 0.05577, saving model to /content/drive/MyDrive/10 Masters/Research/error-correcting-codes/ThisIsTheCleanest/weights/DFT_model_27.keras\n",
            "\u001b[1m25/25\u001b[0m \u001b[32m━━━━━━━━━━━━━━━━━━━━\u001b[0m\u001b[37m\u001b[0m \u001b[1m1s\u001b[0m 21ms/step - custom_accuracy_without_padding: 0.4632 - custom_mse: 0.0545 - loss: 0.0554 - val_custom_accuracy_without_padding: 0.4537 - val_custom_mse: 0.0553 - val_loss: 0.0558 - learning_rate: 7.8125e-06\n",
            "Epoch 177/500\n",
            "\u001b[1m22/25\u001b[0m \u001b[32m━━━━━━━━━━━━━━━━━\u001b[0m\u001b[37m━━━\u001b[0m \u001b[1m0s\u001b[0m 8ms/step - custom_accuracy_without_padding: 0.4626 - custom_mse: 0.0536 - loss: 0.0545\n",
            "Epoch 177: val_loss did not improve from 0.05577\n",
            "\u001b[1m25/25\u001b[0m \u001b[32m━━━━━━━━━━━━━━━━━━━━\u001b[0m\u001b[37m\u001b[0m \u001b[1m0s\u001b[0m 11ms/step - custom_accuracy_without_padding: 0.4624 - custom_mse: 0.0536 - loss: 0.0545 - val_custom_accuracy_without_padding: 0.4535 - val_custom_mse: 0.0553 - val_loss: 0.0558 - learning_rate: 3.9063e-06\n",
            "Epoch 178/500\n",
            "\u001b[1m22/25\u001b[0m \u001b[32m━━━━━━━━━━━━━━━━━\u001b[0m\u001b[37m━━━\u001b[0m \u001b[1m0s\u001b[0m 8ms/step - custom_accuracy_without_padding: 0.4614 - custom_mse: 0.0543 - loss: 0.0552\n",
            "Epoch 178: val_loss did not improve from 0.05577\n",
            "\u001b[1m25/25\u001b[0m \u001b[32m━━━━━━━━━━━━━━━━━━━━\u001b[0m\u001b[37m\u001b[0m \u001b[1m1s\u001b[0m 11ms/step - custom_accuracy_without_padding: 0.4614 - custom_mse: 0.0543 - loss: 0.0552 - val_custom_accuracy_without_padding: 0.4537 - val_custom_mse: 0.0553 - val_loss: 0.0558 - learning_rate: 3.9063e-06\n",
            "Epoch 179/500\n",
            "\u001b[1m23/25\u001b[0m \u001b[32m━━━━━━━━━━━━━━━━━━\u001b[0m\u001b[37m━━\u001b[0m \u001b[1m0s\u001b[0m 7ms/step - custom_accuracy_without_padding: 0.4631 - custom_mse: 0.0541 - loss: 0.0550\n",
            "Epoch 179: val_loss did not improve from 0.05577\n",
            "\u001b[1m25/25\u001b[0m \u001b[32m━━━━━━━━━━━━━━━━━━━━\u001b[0m\u001b[37m\u001b[0m \u001b[1m0s\u001b[0m 12ms/step - custom_accuracy_without_padding: 0.4629 - custom_mse: 0.0541 - loss: 0.0550 - val_custom_accuracy_without_padding: 0.4539 - val_custom_mse: 0.0553 - val_loss: 0.0558 - learning_rate: 3.9063e-06\n",
            "Epoch 180/500\n",
            "\u001b[1m23/25\u001b[0m \u001b[32m━━━━━━━━━━━━━━━━━━\u001b[0m\u001b[37m━━\u001b[0m \u001b[1m0s\u001b[0m 7ms/step - custom_accuracy_without_padding: 0.4609 - custom_mse: 0.0544 - loss: 0.0553\n",
            "Epoch 180: val_loss did not improve from 0.05577\n",
            "\u001b[1m25/25\u001b[0m \u001b[32m━━━━━━━━━━━━━━━━━━━━\u001b[0m\u001b[37m\u001b[0m \u001b[1m0s\u001b[0m 11ms/step - custom_accuracy_without_padding: 0.4610 - custom_mse: 0.0544 - loss: 0.0553 - val_custom_accuracy_without_padding: 0.4539 - val_custom_mse: 0.0553 - val_loss: 0.0558 - learning_rate: 3.9063e-06\n",
            "Epoch 181/500\n",
            "\u001b[1m20/25\u001b[0m \u001b[32m━━━━━━━━━━━━━━━━\u001b[0m\u001b[37m━━━━\u001b[0m \u001b[1m0s\u001b[0m 8ms/step - custom_accuracy_without_padding: 0.4616 - custom_mse: 0.0544 - loss: 0.0553\n",
            "Epoch 181: ReduceLROnPlateau reducing learning rate to 1.9531250927684596e-06.\n",
            "\n",
            "Epoch 181: val_loss improved from 0.05577 to 0.05577, saving model to /content/drive/MyDrive/10 Masters/Research/error-correcting-codes/ThisIsTheCleanest/weights/DFT_model_27.keras\n",
            "\u001b[1m25/25\u001b[0m \u001b[32m━━━━━━━━━━━━━━━━━━━━\u001b[0m\u001b[37m\u001b[0m \u001b[1m1s\u001b[0m 23ms/step - custom_accuracy_without_padding: 0.4617 - custom_mse: 0.0543 - loss: 0.0552 - val_custom_accuracy_without_padding: 0.4537 - val_custom_mse: 0.0553 - val_loss: 0.0558 - learning_rate: 3.9063e-06\n",
            "Epoch 182/500\n",
            "\u001b[1m23/25\u001b[0m \u001b[32m━━━━━━━━━━━━━━━━━━\u001b[0m\u001b[37m━━\u001b[0m \u001b[1m0s\u001b[0m 7ms/step - custom_accuracy_without_padding: 0.4623 - custom_mse: 0.0542 - loss: 0.0551\n",
            "Epoch 182: val_loss improved from 0.05577 to 0.05577, saving model to /content/drive/MyDrive/10 Masters/Research/error-correcting-codes/ThisIsTheCleanest/weights/DFT_model_27.keras\n",
            "\u001b[1m25/25\u001b[0m \u001b[32m━━━━━━━━━━━━━━━━━━━━\u001b[0m\u001b[37m\u001b[0m \u001b[1m1s\u001b[0m 22ms/step - custom_accuracy_without_padding: 0.4622 - custom_mse: 0.0542 - loss: 0.0551 - val_custom_accuracy_without_padding: 0.4539 - val_custom_mse: 0.0553 - val_loss: 0.0558 - learning_rate: 1.9531e-06\n",
            "Epoch 183/500\n",
            "\u001b[1m22/25\u001b[0m \u001b[32m━━━━━━━━━━━━━━━━━\u001b[0m\u001b[37m━━━\u001b[0m \u001b[1m0s\u001b[0m 11ms/step - custom_accuracy_without_padding: 0.4575 - custom_mse: 0.0550 - loss: 0.0559\n",
            "Epoch 183: val_loss improved from 0.05577 to 0.05577, saving model to /content/drive/MyDrive/10 Masters/Research/error-correcting-codes/ThisIsTheCleanest/weights/DFT_model_27.keras\n",
            "\u001b[1m25/25\u001b[0m \u001b[32m━━━━━━━━━━━━━━━━━━━━\u001b[0m\u001b[37m\u001b[0m \u001b[1m1s\u001b[0m 30ms/step - custom_accuracy_without_padding: 0.4581 - custom_mse: 0.0549 - loss: 0.0558 - val_custom_accuracy_without_padding: 0.4535 - val_custom_mse: 0.0553 - val_loss: 0.0558 - learning_rate: 1.9531e-06\n",
            "Epoch 184/500\n",
            "\u001b[1m25/25\u001b[0m \u001b[32m━━━━━━━━━━━━━━━━━━━━\u001b[0m\u001b[37m\u001b[0m \u001b[1m0s\u001b[0m 14ms/step - custom_accuracy_without_padding: 0.4626 - custom_mse: 0.0539 - loss: 0.0548\n",
            "Epoch 184: val_loss improved from 0.05577 to 0.05577, saving model to /content/drive/MyDrive/10 Masters/Research/error-correcting-codes/ThisIsTheCleanest/weights/DFT_model_27.keras\n",
            "\u001b[1m25/25\u001b[0m \u001b[32m━━━━━━━━━━━━━━━━━━━━\u001b[0m\u001b[37m\u001b[0m \u001b[1m1s\u001b[0m 34ms/step - custom_accuracy_without_padding: 0.4625 - custom_mse: 0.0539 - loss: 0.0548 - val_custom_accuracy_without_padding: 0.4537 - val_custom_mse: 0.0553 - val_loss: 0.0558 - learning_rate: 1.9531e-06\n",
            "Epoch 185/500\n",
            "\u001b[1m25/25\u001b[0m \u001b[32m━━━━━━━━━━━━━━━━━━━━\u001b[0m\u001b[37m\u001b[0m \u001b[1m0s\u001b[0m 14ms/step - custom_accuracy_without_padding: 0.4621 - custom_mse: 0.0538 - loss: 0.0547\n",
            "Epoch 185: val_loss improved from 0.05577 to 0.05577, saving model to /content/drive/MyDrive/10 Masters/Research/error-correcting-codes/ThisIsTheCleanest/weights/DFT_model_27.keras\n",
            "\u001b[1m25/25\u001b[0m \u001b[32m━━━━━━━━━━━━━━━━━━━━\u001b[0m\u001b[37m\u001b[0m \u001b[1m1s\u001b[0m 37ms/step - custom_accuracy_without_padding: 0.4620 - custom_mse: 0.0538 - loss: 0.0547 - val_custom_accuracy_without_padding: 0.4539 - val_custom_mse: 0.0553 - val_loss: 0.0558 - learning_rate: 1.9531e-06\n",
            "Epoch 186/500\n",
            "\u001b[1m19/25\u001b[0m \u001b[32m━━━━━━━━━━━━━━━\u001b[0m\u001b[37m━━━━━\u001b[0m \u001b[1m0s\u001b[0m 9ms/step - custom_accuracy_without_padding: 0.4614 - custom_mse: 0.0537 - loss: 0.0546\n",
            "Epoch 186: ReduceLROnPlateau reducing learning rate to 9.765625463842298e-07.\n",
            "\n",
            "Epoch 186: val_loss did not improve from 0.05577\n",
            "\u001b[1m25/25\u001b[0m \u001b[32m━━━━━━━━━━━━━━━━━━━━\u001b[0m\u001b[37m\u001b[0m \u001b[1m0s\u001b[0m 12ms/step - custom_accuracy_without_padding: 0.4614 - custom_mse: 0.0538 - loss: 0.0547 - val_custom_accuracy_without_padding: 0.4539 - val_custom_mse: 0.0553 - val_loss: 0.0558 - learning_rate: 1.9531e-06\n",
            "Epoch 187/500\n",
            "\u001b[1m22/25\u001b[0m \u001b[32m━━━━━━━━━━━━━━━━━\u001b[0m\u001b[37m━━━\u001b[0m \u001b[1m0s\u001b[0m 7ms/step - custom_accuracy_without_padding: 0.4649 - custom_mse: 0.0535 - loss: 0.0544\n",
            "Epoch 187: val_loss improved from 0.05577 to 0.05577, saving model to /content/drive/MyDrive/10 Masters/Research/error-correcting-codes/ThisIsTheCleanest/weights/DFT_model_27.keras\n",
            "\u001b[1m25/25\u001b[0m \u001b[32m━━━━━━━━━━━━━━━━━━━━\u001b[0m\u001b[37m\u001b[0m \u001b[1m1s\u001b[0m 21ms/step - custom_accuracy_without_padding: 0.4643 - custom_mse: 0.0536 - loss: 0.0545 - val_custom_accuracy_without_padding: 0.4539 - val_custom_mse: 0.0553 - val_loss: 0.0558 - learning_rate: 9.7656e-07\n",
            "Epoch 188/500\n",
            "\u001b[1m21/25\u001b[0m \u001b[32m━━━━━━━━━━━━━━━━\u001b[0m\u001b[37m━━━━\u001b[0m \u001b[1m0s\u001b[0m 8ms/step - custom_accuracy_without_padding: 0.4616 - custom_mse: 0.0544 - loss: 0.0553\n",
            "Epoch 188: val_loss improved from 0.05577 to 0.05577, saving model to /content/drive/MyDrive/10 Masters/Research/error-correcting-codes/ThisIsTheCleanest/weights/DFT_model_27.keras\n",
            "\u001b[1m25/25\u001b[0m \u001b[32m━━━━━━━━━━━━━━━━━━━━\u001b[0m\u001b[37m\u001b[0m \u001b[1m1s\u001b[0m 21ms/step - custom_accuracy_without_padding: 0.4616 - custom_mse: 0.0543 - loss: 0.0553 - val_custom_accuracy_without_padding: 0.4539 - val_custom_mse: 0.0553 - val_loss: 0.0558 - learning_rate: 9.7656e-07\n",
            "Epoch 189/500\n",
            "\u001b[1m21/25\u001b[0m \u001b[32m━━━━━━━━━━━━━━━━\u001b[0m\u001b[37m━━━━\u001b[0m \u001b[1m0s\u001b[0m 8ms/step - custom_accuracy_without_padding: 0.4592 - custom_mse: 0.0538 - loss: 0.0547\n",
            "Epoch 189: val_loss did not improve from 0.05577\n",
            "\u001b[1m25/25\u001b[0m \u001b[32m━━━━━━━━━━━━━━━━━━━━\u001b[0m\u001b[37m\u001b[0m \u001b[1m0s\u001b[0m 12ms/step - custom_accuracy_without_padding: 0.4596 - custom_mse: 0.0539 - loss: 0.0548 - val_custom_accuracy_without_padding: 0.4539 - val_custom_mse: 0.0553 - val_loss: 0.0558 - learning_rate: 9.7656e-07\n",
            "Epoch 190/500\n",
            "\u001b[1m23/25\u001b[0m \u001b[32m━━━━━━━━━━━━━━━━━━\u001b[0m\u001b[37m━━\u001b[0m \u001b[1m0s\u001b[0m 7ms/step - custom_accuracy_without_padding: 0.4613 - custom_mse: 0.0538 - loss: 0.0547\n",
            "Epoch 190: val_loss did not improve from 0.05577\n",
            "\u001b[1m25/25\u001b[0m \u001b[32m━━━━━━━━━━━━━━━━━━━━\u001b[0m\u001b[37m\u001b[0m \u001b[1m0s\u001b[0m 12ms/step - custom_accuracy_without_padding: 0.4613 - custom_mse: 0.0539 - loss: 0.0548 - val_custom_accuracy_without_padding: 0.4539 - val_custom_mse: 0.0553 - val_loss: 0.0558 - learning_rate: 9.7656e-07\n",
            "Epoch 191/500\n",
            "\u001b[1m20/25\u001b[0m \u001b[32m━━━━━━━━━━━━━━━━\u001b[0m\u001b[37m━━━━\u001b[0m \u001b[1m0s\u001b[0m 8ms/step - custom_accuracy_without_padding: 0.4585 - custom_mse: 0.0539 - loss: 0.0548\n",
            "Epoch 191: ReduceLROnPlateau reducing learning rate to 4.882812731921149e-07.\n",
            "\n",
            "Epoch 191: val_loss did not improve from 0.05577\n",
            "\u001b[1m25/25\u001b[0m \u001b[32m━━━━━━━━━━━━━━━━━━━━\u001b[0m\u001b[37m\u001b[0m \u001b[1m0s\u001b[0m 12ms/step - custom_accuracy_without_padding: 0.4591 - custom_mse: 0.0539 - loss: 0.0549 - val_custom_accuracy_without_padding: 0.4539 - val_custom_mse: 0.0553 - val_loss: 0.0558 - learning_rate: 9.7656e-07\n",
            "Epoch 192/500\n",
            "\u001b[1m21/25\u001b[0m \u001b[32m━━━━━━━━━━━━━━━━\u001b[0m\u001b[37m━━━━\u001b[0m \u001b[1m0s\u001b[0m 8ms/step - custom_accuracy_without_padding: 0.4608 - custom_mse: 0.0539 - loss: 0.0548\n",
            "Epoch 192: val_loss did not improve from 0.05577\n",
            "\u001b[1m25/25\u001b[0m \u001b[32m━━━━━━━━━━━━━━━━━━━━\u001b[0m\u001b[37m\u001b[0m \u001b[1m0s\u001b[0m 12ms/step - custom_accuracy_without_padding: 0.4610 - custom_mse: 0.0539 - loss: 0.0549 - val_custom_accuracy_without_padding: 0.4539 - val_custom_mse: 0.0553 - val_loss: 0.0558 - learning_rate: 4.8828e-07\n",
            "Epoch 193/500\n",
            "\u001b[1m24/25\u001b[0m \u001b[32m━━━━━━━━━━━━━━━━━━━\u001b[0m\u001b[37m━\u001b[0m \u001b[1m0s\u001b[0m 7ms/step - custom_accuracy_without_padding: 0.4589 - custom_mse: 0.0547 - loss: 0.0556\n",
            "Epoch 193: val_loss did not improve from 0.05577\n",
            "\u001b[1m25/25\u001b[0m \u001b[32m━━━━━━━━━━━━━━━━━━━━\u001b[0m\u001b[37m\u001b[0m \u001b[1m1s\u001b[0m 12ms/step - custom_accuracy_without_padding: 0.4591 - custom_mse: 0.0547 - loss: 0.0556 - val_custom_accuracy_without_padding: 0.4539 - val_custom_mse: 0.0553 - val_loss: 0.0558 - learning_rate: 4.8828e-07\n",
            "Epoch 194/500\n",
            "\u001b[1m22/25\u001b[0m \u001b[32m━━━━━━━━━━━━━━━━━\u001b[0m\u001b[37m━━━\u001b[0m \u001b[1m0s\u001b[0m 7ms/step - custom_accuracy_without_padding: 0.4584 - custom_mse: 0.0534 - loss: 0.0543\n",
            "Epoch 194: val_loss did not improve from 0.05577\n",
            "\u001b[1m25/25\u001b[0m \u001b[32m━━━━━━━━━━━━━━━━━━━━\u001b[0m\u001b[37m\u001b[0m \u001b[1m0s\u001b[0m 11ms/step - custom_accuracy_without_padding: 0.4588 - custom_mse: 0.0535 - loss: 0.0544 - val_custom_accuracy_without_padding: 0.4539 - val_custom_mse: 0.0553 - val_loss: 0.0558 - learning_rate: 4.8828e-07\n",
            "Epoch 195/500\n",
            "\u001b[1m22/25\u001b[0m \u001b[32m━━━━━━━━━━━━━━━━━\u001b[0m\u001b[37m━━━\u001b[0m \u001b[1m0s\u001b[0m 7ms/step - custom_accuracy_without_padding: 0.4570 - custom_mse: 0.0547 - loss: 0.0556\n",
            "Epoch 195: val_loss did not improve from 0.05577\n",
            "\u001b[1m25/25\u001b[0m \u001b[32m━━━━━━━━━━━━━━━━━━━━\u001b[0m\u001b[37m\u001b[0m \u001b[1m1s\u001b[0m 11ms/step - custom_accuracy_without_padding: 0.4576 - custom_mse: 0.0546 - loss: 0.0555 - val_custom_accuracy_without_padding: 0.4539 - val_custom_mse: 0.0553 - val_loss: 0.0558 - learning_rate: 4.8828e-07\n",
            "Epoch 196/500\n",
            "\u001b[1m22/25\u001b[0m \u001b[32m━━━━━━━━━━━━━━━━━\u001b[0m\u001b[37m━━━\u001b[0m \u001b[1m0s\u001b[0m 8ms/step - custom_accuracy_without_padding: 0.4590 - custom_mse: 0.0552 - loss: 0.0562\n",
            "Epoch 196: ReduceLROnPlateau reducing learning rate to 2.4414063659605745e-07.\n",
            "\n",
            "Epoch 196: val_loss did not improve from 0.05577\n",
            "\u001b[1m25/25\u001b[0m \u001b[32m━━━━━━━━━━━━━━━━━━━━\u001b[0m\u001b[37m\u001b[0m \u001b[1m1s\u001b[0m 12ms/step - custom_accuracy_without_padding: 0.4593 - custom_mse: 0.0551 - loss: 0.0560 - val_custom_accuracy_without_padding: 0.4539 - val_custom_mse: 0.0553 - val_loss: 0.0558 - learning_rate: 4.8828e-07\n",
            "Epoch 197/500\n",
            "\u001b[1m23/25\u001b[0m \u001b[32m━━━━━━━━━━━━━━━━━━\u001b[0m\u001b[37m━━\u001b[0m \u001b[1m0s\u001b[0m 7ms/step - custom_accuracy_without_padding: 0.4610 - custom_mse: 0.0538 - loss: 0.0547\n",
            "Epoch 197: val_loss improved from 0.05577 to 0.05577, saving model to /content/drive/MyDrive/10 Masters/Research/error-correcting-codes/ThisIsTheCleanest/weights/DFT_model_27.keras\n",
            "\u001b[1m25/25\u001b[0m \u001b[32m━━━━━━━━━━━━━━━━━━━━\u001b[0m\u001b[37m\u001b[0m \u001b[1m1s\u001b[0m 21ms/step - custom_accuracy_without_padding: 0.4610 - custom_mse: 0.0538 - loss: 0.0547 - val_custom_accuracy_without_padding: 0.4539 - val_custom_mse: 0.0553 - val_loss: 0.0558 - learning_rate: 2.4414e-07\n",
            "Epoch 198/500\n",
            "\u001b[1m23/25\u001b[0m \u001b[32m━━━━━━━━━━━━━━━━━━\u001b[0m\u001b[37m━━\u001b[0m \u001b[1m0s\u001b[0m 10ms/step - custom_accuracy_without_padding: 0.4620 - custom_mse: 0.0548 - loss: 0.0557\n",
            "Epoch 198: val_loss did not improve from 0.05577\n",
            "\u001b[1m25/25\u001b[0m \u001b[32m━━━━━━━━━━━━━━━━━━━━\u001b[0m\u001b[37m\u001b[0m \u001b[1m0s\u001b[0m 14ms/step - custom_accuracy_without_padding: 0.4620 - custom_mse: 0.0547 - loss: 0.0556 - val_custom_accuracy_without_padding: 0.4539 - val_custom_mse: 0.0553 - val_loss: 0.0558 - learning_rate: 2.4414e-07\n",
            "Epoch 199/500\n",
            "\u001b[1m24/25\u001b[0m \u001b[32m━━━━━━━━━━━━━━━━━━━\u001b[0m\u001b[37m━\u001b[0m \u001b[1m0s\u001b[0m 9ms/step - custom_accuracy_without_padding: 0.4587 - custom_mse: 0.0547 - loss: 0.0556 \n",
            "Epoch 199: val_loss did not improve from 0.05577\n",
            "\u001b[1m25/25\u001b[0m \u001b[32m━━━━━━━━━━━━━━━━━━━━\u001b[0m\u001b[37m\u001b[0m \u001b[1m1s\u001b[0m 14ms/step - custom_accuracy_without_padding: 0.4589 - custom_mse: 0.0547 - loss: 0.0556 - val_custom_accuracy_without_padding: 0.4539 - val_custom_mse: 0.0553 - val_loss: 0.0558 - learning_rate: 2.4414e-07\n",
            "Epoch 200/500\n",
            "\u001b[1m19/25\u001b[0m \u001b[32m━━━━━━━━━━━━━━━\u001b[0m\u001b[37m━━━━━\u001b[0m \u001b[1m0s\u001b[0m 9ms/step - custom_accuracy_without_padding: 0.4602 - custom_mse: 0.0544 - loss: 0.0553\n",
            "Epoch 200: val_loss improved from 0.05577 to 0.05577, saving model to /content/drive/MyDrive/10 Masters/Research/error-correcting-codes/ThisIsTheCleanest/weights/DFT_model_27.keras\n",
            "\u001b[1m25/25\u001b[0m \u001b[32m━━━━━━━━━━━━━━━━━━━━\u001b[0m\u001b[37m\u001b[0m \u001b[1m1s\u001b[0m 22ms/step - custom_accuracy_without_padding: 0.4606 - custom_mse: 0.0543 - loss: 0.0552 - val_custom_accuracy_without_padding: 0.4539 - val_custom_mse: 0.0553 - val_loss: 0.0558 - learning_rate: 2.4414e-07\n",
            "Epoch 201/500\n",
            "\u001b[1m22/25\u001b[0m \u001b[32m━━━━━━━━━━━━━━━━━\u001b[0m\u001b[37m━━━\u001b[0m \u001b[1m0s\u001b[0m 7ms/step - custom_accuracy_without_padding: 0.4578 - custom_mse: 0.0545 - loss: 0.0554\n",
            "Epoch 201: ReduceLROnPlateau reducing learning rate to 1.2207031829802872e-07.\n",
            "\n",
            "Epoch 201: val_loss did not improve from 0.05577\n",
            "\u001b[1m25/25\u001b[0m \u001b[32m━━━━━━━━━━━━━━━━━━━━\u001b[0m\u001b[37m\u001b[0m \u001b[1m0s\u001b[0m 12ms/step - custom_accuracy_without_padding: 0.4583 - custom_mse: 0.0544 - loss: 0.0553 - val_custom_accuracy_without_padding: 0.4539 - val_custom_mse: 0.0553 - val_loss: 0.0558 - learning_rate: 2.4414e-07\n",
            "Epoch 202/500\n",
            "\u001b[1m22/25\u001b[0m \u001b[32m━━━━━━━━━━━━━━━━━\u001b[0m\u001b[37m━━━\u001b[0m \u001b[1m0s\u001b[0m 7ms/step - custom_accuracy_without_padding: 0.4629 - custom_mse: 0.0536 - loss: 0.0545\n",
            "Epoch 202: val_loss did not improve from 0.05577\n",
            "\u001b[1m25/25\u001b[0m \u001b[32m━━━━━━━━━━━━━━━━━━━━\u001b[0m\u001b[37m\u001b[0m \u001b[1m1s\u001b[0m 11ms/step - custom_accuracy_without_padding: 0.4626 - custom_mse: 0.0537 - loss: 0.0546 - val_custom_accuracy_without_padding: 0.4539 - val_custom_mse: 0.0553 - val_loss: 0.0558 - learning_rate: 1.2207e-07\n",
            "Epoch 203/500\n",
            "\u001b[1m25/25\u001b[0m \u001b[32m━━━━━━━━━━━━━━━━━━━━\u001b[0m\u001b[37m\u001b[0m \u001b[1m0s\u001b[0m 9ms/step - custom_accuracy_without_padding: 0.4611 - custom_mse: 0.0536 - loss: 0.0545\n",
            "Epoch 203: val_loss did not improve from 0.05577\n",
            "\u001b[1m25/25\u001b[0m \u001b[32m━━━━━━━━━━━━━━━━━━━━\u001b[0m\u001b[37m\u001b[0m \u001b[1m1s\u001b[0m 14ms/step - custom_accuracy_without_padding: 0.4611 - custom_mse: 0.0536 - loss: 0.0545 - val_custom_accuracy_without_padding: 0.4539 - val_custom_mse: 0.0553 - val_loss: 0.0558 - learning_rate: 1.2207e-07\n",
            "Epoch 204/500\n",
            "\u001b[1m22/25\u001b[0m \u001b[32m━━━━━━━━━━━━━━━━━\u001b[0m\u001b[37m━━━\u001b[0m \u001b[1m0s\u001b[0m 8ms/step - custom_accuracy_without_padding: 0.4641 - custom_mse: 0.0541 - loss: 0.0550\n",
            "Epoch 204: val_loss did not improve from 0.05577\n",
            "\u001b[1m25/25\u001b[0m \u001b[32m━━━━━━━━━━━━━━━━━━━━\u001b[0m\u001b[37m\u001b[0m \u001b[1m0s\u001b[0m 12ms/step - custom_accuracy_without_padding: 0.4637 - custom_mse: 0.0541 - loss: 0.0550 - val_custom_accuracy_without_padding: 0.4539 - val_custom_mse: 0.0553 - val_loss: 0.0558 - learning_rate: 1.2207e-07\n",
            "Epoch 205/500\n",
            "\u001b[1m22/25\u001b[0m \u001b[32m━━━━━━━━━━━━━━━━━\u001b[0m\u001b[37m━━━\u001b[0m \u001b[1m0s\u001b[0m 14ms/step - custom_accuracy_without_padding: 0.4624 - custom_mse: 0.0542 - loss: 0.0551\n",
            "Epoch 205: val_loss did not improve from 0.05577\n",
            "\u001b[1m25/25\u001b[0m \u001b[32m━━━━━━━━━━━━━━━━━━━━\u001b[0m\u001b[37m\u001b[0m \u001b[1m1s\u001b[0m 22ms/step - custom_accuracy_without_padding: 0.4623 - custom_mse: 0.0542 - loss: 0.0551 - val_custom_accuracy_without_padding: 0.4539 - val_custom_mse: 0.0553 - val_loss: 0.0558 - learning_rate: 1.2207e-07\n",
            "Epoch 206/500\n",
            "\u001b[1m25/25\u001b[0m \u001b[32m━━━━━━━━━━━━━━━━━━━━\u001b[0m\u001b[37m\u001b[0m \u001b[1m0s\u001b[0m 14ms/step - custom_accuracy_without_padding: 0.4618 - custom_mse: 0.0545 - loss: 0.0554\n",
            "Epoch 206: ReduceLROnPlateau reducing learning rate to 1e-07.\n",
            "\n",
            "Epoch 206: val_loss did not improve from 0.05577\n",
            "\u001b[1m25/25\u001b[0m \u001b[32m━━━━━━━━━━━━━━━━━━━━\u001b[0m\u001b[37m\u001b[0m \u001b[1m1s\u001b[0m 20ms/step - custom_accuracy_without_padding: 0.4618 - custom_mse: 0.0545 - loss: 0.0554 - val_custom_accuracy_without_padding: 0.4539 - val_custom_mse: 0.0553 - val_loss: 0.0558 - learning_rate: 1.2207e-07\n",
            "Epoch 207/500\n",
            "\u001b[1m25/25\u001b[0m \u001b[32m━━━━━━━━━━━━━━━━━━━━\u001b[0m\u001b[37m\u001b[0m \u001b[1m0s\u001b[0m 14ms/step - custom_accuracy_without_padding: 0.4629 - custom_mse: 0.0541 - loss: 0.0550\n",
            "Epoch 207: val_loss did not improve from 0.05577\n",
            "\u001b[1m25/25\u001b[0m \u001b[32m━━━━━━━━━━━━━━━━━━━━\u001b[0m\u001b[37m\u001b[0m \u001b[1m1s\u001b[0m 23ms/step - custom_accuracy_without_padding: 0.4629 - custom_mse: 0.0541 - loss: 0.0550 - val_custom_accuracy_without_padding: 0.4539 - val_custom_mse: 0.0553 - val_loss: 0.0558 - learning_rate: 1.0000e-07\n",
            "Epoch 208/500\n",
            "\u001b[1m24/25\u001b[0m \u001b[32m━━━━━━━━━━━━━━━━━━━\u001b[0m\u001b[37m━\u001b[0m \u001b[1m0s\u001b[0m 15ms/step - custom_accuracy_without_padding: 0.4575 - custom_mse: 0.0541 - loss: 0.0551\n",
            "Epoch 208: val_loss did not improve from 0.05577\n",
            "\u001b[1m25/25\u001b[0m \u001b[32m━━━━━━━━━━━━━━━━━━━━\u001b[0m\u001b[37m\u001b[0m \u001b[1m1s\u001b[0m 20ms/step - custom_accuracy_without_padding: 0.4578 - custom_mse: 0.0541 - loss: 0.0550 - val_custom_accuracy_without_padding: 0.4539 - val_custom_mse: 0.0553 - val_loss: 0.0558 - learning_rate: 1.0000e-07\n",
            "Epoch 209/500\n",
            "\u001b[1m25/25\u001b[0m \u001b[32m━━━━━━━━━━━━━━━━━━━━\u001b[0m\u001b[37m\u001b[0m \u001b[1m0s\u001b[0m 14ms/step - custom_accuracy_without_padding: 0.4603 - custom_mse: 0.0542 - loss: 0.0551\n",
            "Epoch 209: val_loss did not improve from 0.05577\n",
            "\u001b[1m25/25\u001b[0m \u001b[32m━━━━━━━━━━━━━━━━━━━━\u001b[0m\u001b[37m\u001b[0m \u001b[1m1s\u001b[0m 20ms/step - custom_accuracy_without_padding: 0.4603 - custom_mse: 0.0542 - loss: 0.0551 - val_custom_accuracy_without_padding: 0.4539 - val_custom_mse: 0.0553 - val_loss: 0.0558 - learning_rate: 1.0000e-07\n",
            "Epoch 210/500\n",
            "\u001b[1m24/25\u001b[0m \u001b[32m━━━━━━━━━━━━━━━━━━━\u001b[0m\u001b[37m━\u001b[0m \u001b[1m0s\u001b[0m 12ms/step - custom_accuracy_without_padding: 0.4604 - custom_mse: 0.0538 - loss: 0.0547\n",
            "Epoch 210: val_loss did not improve from 0.05577\n",
            "\u001b[1m25/25\u001b[0m \u001b[32m━━━━━━━━━━━━━━━━━━━━\u001b[0m\u001b[37m\u001b[0m \u001b[1m1s\u001b[0m 18ms/step - custom_accuracy_without_padding: 0.4605 - custom_mse: 0.0538 - loss: 0.0547 - val_custom_accuracy_without_padding: 0.4539 - val_custom_mse: 0.0553 - val_loss: 0.0558 - learning_rate: 1.0000e-07\n"
          ]
        }
      ],
      "source": [
        "from tensorflow.keras.callbacks import EarlyStopping, ReduceLROnPlateau, ModelCheckpoint\n",
        "\n",
        "checkpoint_path = f\"/content/drive/MyDrive/10 Masters/Research/error-correcting-codes/ThisIsTheCleanest/weights/DFT_model_{n}.keras\"\n",
        "\n",
        "model_checkpoint = ModelCheckpoint(\n",
        "    filepath=checkpoint_path,\n",
        "    monitor='val_loss',\n",
        "    save_best_only=True,\n",
        "    save_weights_only=False,\n",
        "    verbose=1\n",
        ")\n",
        "\n",
        "early_stopping = EarlyStopping(monitor='val_loss', patience=10, restore_best_weights=True)\n",
        "\n",
        "adjust_lr = ReduceLROnPlateau(\n",
        "    monitor='val_loss',\n",
        "    factor=0.5,\n",
        "    patience=5,\n",
        "    min_lr=1e-7,\n",
        "    verbose=1\n",
        ")\n",
        "\n",
        "history = model.fit(\n",
        "    [X_real_train, X_imag_train],\n",
        "    y_train,\n",
        "    epochs=500,\n",
        "    batch_size=32,\n",
        "    validation_data=([X_real_test, X_imag_test], y_test),\n",
        "    callbacks=[adjust_lr, early_stopping, model_checkpoint]\n",
        ")"
      ]
    },
    {
      "cell_type": "markdown",
      "metadata": {
        "id": "sdTEAalW7iId"
      },
      "source": [
        "Evaluate"
      ]
    },
    {
      "cell_type": "code",
      "execution_count": 189,
      "metadata": {
        "colab": {
          "base_uri": "https://localhost:8080/"
        },
        "id": "VTR1e_VB7jSD",
        "outputId": "fecb69c0-93e5-48db-9ea7-4799d292f063"
      },
      "outputs": [
        {
          "output_type": "stream",
          "name": "stdout",
          "text": [
            "\u001b[1m7/7\u001b[0m \u001b[32m━━━━━━━━━━━━━━━━━━━━\u001b[0m\u001b[37m\u001b[0m \u001b[1m0s\u001b[0m 7ms/step - custom_accuracy_without_padding: 0.4590 - custom_mse: 0.0538 - loss: 0.0546 \n",
            "Test results - Loss: 0.05577055364847183, MSE: 0.05529003590345383, Accuracy: 0.4538690447807312\n"
          ]
        }
      ],
      "source": [
        "eval_results = model.evaluate([X_real_test, X_imag_test], y_test)\n",
        "print(f\"Test results - Loss: {eval_results[0]}, MSE: {eval_results[1]}, Accuracy: {eval_results[2]}\")"
      ]
    },
    {
      "cell_type": "code",
      "execution_count": 190,
      "metadata": {
        "colab": {
          "base_uri": "https://localhost:8080/",
          "height": 487
        },
        "id": "KUzLnrru7j8g",
        "outputId": "822f6373-21db-4068-e5eb-c5fcce7500fc"
      },
      "outputs": [
        {
          "output_type": "display_data",
          "data": {
            "text/plain": [
              "<Figure size 1200x500 with 2 Axes>"
            ],
            "image/png": "[encoded data removed]"
          },
          "metadata": {}
        }
      ],
      "source": [
        "import matplotlib.pyplot as plt\n",
        "\n",
        "plt.figure(figsize=(12, 5))\n",
        "\n",
        "plt.subplot(1, 2, 1)\n",
        "plt.plot(history.history['loss'], label='Training Loss')\n",
        "plt.plot(history.history['val_loss'], label='Validation Loss')\n",
        "plt.title('Loss Over Epochs')\n",
        "plt.xlabel('Epochs')\n",
        "plt.ylabel('MSE Loss')\n",
        "plt.legend()\n",
        "\n",
        "plt.subplot(1, 2, 2)\n",
        "plt.plot(history.history['custom_accuracy_without_padding'], label='Training Accuracy')\n",
        "plt.plot(history.history['val_custom_accuracy_without_padding'], label='Validation Accuracy')\n",
        "plt.title('Accuracy Over Epochs')\n",
        "plt.xlabel('Epochs')\n",
        "plt.ylabel('Accuracy (%)')\n",
        "plt.legend()\n",
        "\n",
        "plt.show()"
      ]
    },
    {
      "cell_type": "code",
      "execution_count": 191,
      "metadata": {
        "colab": {
          "base_uri": "https://localhost:8080/"
        },
        "id": "qzFpgUhX7m-u",
        "outputId": "659df2ea-b396-459a-e9ae-66250d4884fd"
      },
      "outputs": [
        {
          "output_type": "stream",
          "name": "stdout",
          "text": [
            "\u001b[1m7/7\u001b[0m \u001b[32m━━━━━━━━━━━━━━━━━━━━\u001b[0m\u001b[37m\u001b[0m \u001b[1m2s\u001b[0m 134ms/step\n",
            "Comparison of predictions and ground truth:\n",
            "Sample 1:\n",
            "  Predicted:    [3 3 3 3 3 3 3 3 3 3 3 3 3 2 2 1 5 1 4 3 4 4 6 5 2 3 1 0 0 0 0 0]\n",
            "  Ground Truth: [5 6 5 1 3 4 1 1 6 2 3 1 4 0 3 2 5 1 4 3 4 4 6 5 2 3 1 0 0 0 0 0]\n",
            "----------------------------------------\n",
            "Sample 2:\n",
            "  Predicted:    [3 3 3 3 3 3 3 3 3 3 3 3 3 3 4 2 1 2 0 1 1 5 2 1 4 0 4 0 0 0 0 0]\n",
            "  Ground Truth: [1 4 1 3 3 3 0 5 5 2 4 3 3 1 3 1 1 2 0 1 1 5 2 1 4 0 4 0 0 0 0 0]\n",
            "----------------------------------------\n",
            "Sample 3:\n",
            "  Predicted:    [3 3 3 3 3 3 3 3 3 3 3 3 3 4 3 2 5 1 4 5 0 4 3 2 3 4 4 0 0 0 0 0]\n",
            "  Ground Truth: [2 6 0 2 2 1 3 4 2 6 4 1 0 5 2 3 5 1 4 6 0 4 3 2 3 4 4 0 0 0 0 0]\n",
            "----------------------------------------\n"
          ]
        }
      ],
      "source": [
        "y_pred = model.predict([X_real_test, X_imag_test])\n",
        "y_test_rescaled = y_test * (q - 1)\n",
        "y_pred_rescaled = y_pred * (q - 1)\n",
        "\n",
        "print(\"Comparison of predictions and ground truth:\")\n",
        "for i in range(3):\n",
        "    print(f\"Sample {i+1}:\")\n",
        "    print(f\"  Predicted:    {np.round(y_pred_rescaled[i]).astype(int)}\")\n",
        "    print(f\"  Ground Truth: {np.round(y_test_rescaled[i]).astype(int)}\")\n",
        "    print(\"-\" * 40)"
      ]
    },
    {
      "cell_type": "code",
      "execution_count": 192,
      "metadata": {
        "colab": {
          "base_uri": "https://localhost:8080/"
        },
        "id": "-oE06hol7ldu",
        "outputId": "76b0433e-02f6-4a20-8ae4-647f8c94168c"
      },
      "outputs": [
        {
          "output_type": "stream",
          "name": "stdout",
          "text": [
            "R² Score: 0.3494\n"
          ]
        }
      ],
      "source": [
        "from sklearn.metrics import r2_score\n",
        "\n",
        "r2 = r2_score(y_test, y_pred)\n",
        "\n",
        "print(f\"R² Score: {r2:.4f}\")"
      ]
    },
    {
      "cell_type": "code",
      "source": [
        "# ---------------------- Inference time on Test Set ----------------------------\n",
        "\n",
        "import time\n",
        "\n",
        "_ = model.predict([X_real_test, X_imag_test], verbose=0) # warm up\n",
        "\n",
        "times = []\n",
        "for _ in range(100):\n",
        "    start = time.perf_counter()\n",
        "    _ = model.predict([X_real_test, X_imag_test], verbose=0)\n",
        "    end = time.perf_counter()\n",
        "    times.append(end - start)\n",
        "\n",
        "average_inference_time = np.mean(times)\n",
        "print(f\"Average batch inference time over 100 runs: {average_inference_time:.6f} seconds\")\n",
        "\n",
        "average_per_sample = average_inference_time / X_real_test.shape[0]\n",
        "print(f\"Average inference time per sample (from batch): {average_per_sample:.6f} seconds\")\n"
      ],
      "metadata": {
        "colab": {
          "base_uri": "https://localhost:8080/"
        },
        "id": "LxeWJ_VMVWgx",
        "outputId": "27885be1-352e-493b-8492-8a2730d3fbeb"
      },
      "execution_count": 193,
      "outputs": [
        {
          "output_type": "stream",
          "name": "stdout",
          "text": [
            "Average batch inference time over 100 runs: 0.122749 seconds\n",
            "Average inference time per sample (from batch): 0.000614 seconds\n"
          ]
        }
      ]
    },
    {
      "cell_type": "markdown",
      "metadata": {
        "id": "NVHVWjrd7v7N"
      },
      "source": [
        "Test on Unseen Samples"
      ]
    },
    {
      "cell_type": "code",
      "source": [
        "# --------------------- Predictions on unseen samples (for two-input model) -------------------------\n",
        "\n",
        "np.random.seed(42)\n",
        "\n",
        "unseen_data = np.random.randint(0, q, size=(num_unseen_samples, n))\n",
        "padded_unseen_data = np.hstack((unseen_data, np.zeros((num_unseen_samples, n_padded - n))))\n",
        "\n",
        "unseen_data_normalized = padded_unseen_data.astype(np.float32) / (q - 1)\n",
        "\n",
        "unseen_encoded = np.array([np.dot(M_tilde, x) for x in padded_unseen_data])\n",
        "unseen_encoded[np.abs(unseen_encoded) < 1e-10] = 0\n",
        "unseen_encoded = np.round(unseen_encoded, decimals=10)\n",
        "\n",
        "X_real_unseen = np.real(unseen_encoded).astype(np.float32)\n",
        "X_imag_unseen = np.imag(unseen_encoded).astype(np.float32)\n",
        "\n",
        "# Normalize\n",
        "X_real_unseen = (X_real_unseen - real_mean) / (real_std + 1e-8)\n",
        "X_imag_unseen = (X_imag_unseen - imag_mean) / (imag_std + 1e-8)\n",
        "\n",
        "# Predict\n",
        "y_pred_unseen = model.predict([X_real_unseen, X_imag_unseen], verbose=0)\n",
        "\n",
        "mse_unseen = tf.reduce_mean(tf.square(unseen_data_normalized - y_pred_unseen)).numpy()\n",
        "print(f\"MSE on unseen data: {mse_unseen:.6f}\")\n",
        "\n",
        "accuracy_unseen = custom_accuracy_without_padding(unseen_data_normalized, y_pred_unseen)\n",
        "print(f\"Accuracy on unseen data: {accuracy_unseen:.6f}\")\n",
        "\n",
        "num_display_samples = 3\n",
        "for i in range(num_display_samples):\n",
        "    print(f\"\\nSample {i+1}:\")\n",
        "    true_labels = padded_unseen_data[i]\n",
        "    pred_scaled = y_pred_unseen[i] * (q - 1)\n",
        "    pred_rounded = tf.round(pred_scaled).numpy().astype(int)\n",
        "    print(f\"True     : {true_labels.astype(int)}\")\n",
        "    print(f\"Predicted: {pred_rounded}\")\n",
        "    print(\"-\" * 30)"
      ],
      "metadata": {
        "colab": {
          "base_uri": "https://localhost:8080/"
        },
        "id": "krIchpaPe9sN",
        "outputId": "e8436803-b310-47d0-8d40-3e5d2a211858"
      },
      "execution_count": 194,
      "outputs": [
        {
          "output_type": "stream",
          "name": "stdout",
          "text": [
            "MSE on unseen data: 0.056453\n",
            "Accuracy on unseen data: 0.462963\n",
            "\n",
            "Sample 1:\n",
            "True     : [6 3 4 6 2 4 4 6 1 2 6 2 2 4 3 2 5 4 1 3 5 5 1 3 4 0 3 0 0 0 0 0]\n",
            "Predicted: [3 3 3 3 3 3 3 3 3 3 3 3 3 3 3 3 5 4 1 3 5 5 1 3 4 0 3 0 0 0 0 0]\n",
            "------------------------------\n",
            "\n",
            "Sample 2:\n",
            "True     : [1 5 4 3 0 0 2 2 6 1 3 3 6 5 5 6 5 2 3 6 3 0 2 4 2 6 4 0 0 0 0 0]\n",
            "Predicted: [3 3 3 3 3 3 3 3 3 3 3 4 3 4 3 3 5 2 3 6 3 0 2 4 2 6 4 0 0 0 0 0]\n",
            "------------------------------\n",
            "\n",
            "Sample 3:\n",
            "True     : [0 6 1 3 0 3 5 1 1 0 1 4 1 3 3 6 3 6 3 4 6 2 5 0 3 1 3 0 0 0 0 0]\n",
            "Predicted: [3 3 3 3 3 3 3 3 3 3 3 3 3 3 2 5 3 6 3 4 6 2 5 0 3 1 3 0 0 0 0 0]\n",
            "------------------------------\n"
          ]
        }
      ]
    },
    {
      "cell_type": "code",
      "source": [
        "import matplotlib.pyplot as plt\n",
        "\n",
        "# exclude zero pads\n",
        "y_pred_first_n = y_pred[:, :n]\n",
        "y_pred_first_n_rescaled = y_pred_first_n * (q - 1)\n",
        "\n",
        "plt.hist(y_pred_first_n_rescaled.flatten(), bins=50)\n",
        "plt.xlabel('Prediction Value')\n",
        "plt.ylabel('Frequency')\n",
        "plt.show()"
      ],
      "metadata": {
        "colab": {
          "base_uri": "https://localhost:8080/",
          "height": 449
        },
        "id": "P0ho16utp-Ag",
        "outputId": "f9fc3a06-531c-4406-d8de-2adcc8fccf6f"
      },
      "execution_count": 195,
      "outputs": [
        {
          "output_type": "display_data",
          "data": {
            "text/plain": [
              "<Figure size 640x480 with 1 Axes>"
            ],
            "image/png": "[encoded data removed]"
          },
          "metadata": {}
        }
      ]
    },
    {
      "cell_type": "code",
      "source": [],
      "metadata": {
        "id": "NZe2oVBhqD1r"
      },
      "execution_count": 195,
      "outputs": []
    }
  ],
  "metadata": {
    "colab": {
      "provenance": []
    },
    "kernelspec": {
      "display_name": "Python 3",
      "name": "python3"
    },
    "language_info": {
      "name": "python"
    }
  },
  "nbformat": 4,
  "nbformat_minor": 0
}