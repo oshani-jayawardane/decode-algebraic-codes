{
  "cells": [
    {
      "cell_type": "markdown",
      "metadata": {
        "id": "C-ud9f6pKYDR"
      },
      "source": [
        "### 3-layer DCT-III StNN - Generator matrix encoded data"
      ]
    },
    {
      "cell_type": "code",
      "execution_count": 1,
      "metadata": {
        "colab": {
          "base_uri": "https://localhost:8080/"
        },
        "id": "Qocs-9CH8ygv",
        "outputId": "eb4a4726-65ba-438e-c750-d751f2464a92"
      },
      "outputs": [
        {
          "output_type": "execute_result",
          "data": {
            "text/plain": [
              "0"
            ]
          },
          "metadata": {},
          "execution_count": 1
        }
      ],
      "source": [
        "%reset -f\n",
        "import gc\n",
        "gc.collect()"
      ]
    },
    {
      "cell_type": "code",
      "execution_count": 2,
      "metadata": {
        "id": "MtNHp_3SQTvu"
      },
      "outputs": [],
      "source": [
        "global w0\n",
        "global z0\n",
        "\n",
        "w0 = 4\n",
        "z0 = 3\n",
        "\n",
        "n = 27\n",
        "q = 7\n",
        "num_samples = 1000\n",
        "\n",
        "num_unseen_samples = 20"
      ]
    },
    {
      "cell_type": "code",
      "execution_count": 3,
      "metadata": {
        "id": "oneNe27mQFge"
      },
      "outputs": [],
      "source": [
        "import numpy as np\n",
        "import tensorflow as tf\n",
        "import math\n",
        "\n",
        "np.random.seed(42)"
      ]
    },
    {
      "cell_type": "code",
      "execution_count": 4,
      "metadata": {
        "colab": {
          "base_uri": "https://localhost:8080/"
        },
        "id": "e0r-9MqtY73B",
        "outputId": "32965c7a-1c6d-476c-efa9-88b57cd0931f"
      },
      "outputs": [
        {
          "output_type": "stream",
          "name": "stdout",
          "text": [
            "Original n: 27, Padded to: 32\n"
          ]
        }
      ],
      "source": [
        "def next_power_of_two(x):\n",
        "    return 2 ** math.ceil(math.log2(x))\n",
        "\n",
        "n_padded = next_power_of_two(n)\n",
        "\n",
        "x_original = np.random.randint(0, q, size=(num_samples, n))\n",
        "\n",
        "padding = n_padded - n\n",
        "dataset = np.pad(x_original, ((0, 0), (0, padding)), mode='constant', constant_values=0)\n",
        "\n",
        "print(f\"Original n: {n}, Padded to: {n_padded}\")"
      ]
    },
    {
      "cell_type": "code",
      "execution_count": 5,
      "metadata": {
        "colab": {
          "base_uri": "https://localhost:8080/"
        },
        "id": "mzQ0bCdWQXOk",
        "outputId": "3b996fc8-ed5e-4a9d-e625-9522560ae3cd"
      },
      "outputs": [
        {
          "output_type": "execute_result",
          "data": {
            "text/plain": [
              "(1000, 27)"
            ]
          },
          "metadata": {},
          "execution_count": 5
        }
      ],
      "source": [
        "x_original.shape"
      ]
    },
    {
      "cell_type": "code",
      "execution_count": 6,
      "metadata": {
        "colab": {
          "base_uri": "https://localhost:8080/"
        },
        "id": "vboxM2LadPcr",
        "outputId": "754a7872-16b6-4b9b-c967-bf00553337a6"
      },
      "outputs": [
        {
          "output_type": "execute_result",
          "data": {
            "text/plain": [
              "(1000, 32)"
            ]
          },
          "metadata": {},
          "execution_count": 6
        }
      ],
      "source": [
        "dataset.shape"
      ]
    },
    {
      "cell_type": "markdown",
      "metadata": {
        "id": "pqoj-jjAZAWc"
      },
      "source": [
        "Encode using generator matrix\n",
        "$$\n",
        "\\tilde{M}_{kj} = \\left[ \\left( \\frac{w_0}{z_0} \\right)^j \\zeta^{kj} \\right]_{k,j=0}^{n-1}\n",
        "$$"
      ]
    },
    {
      "cell_type": "code",
      "execution_count": 7,
      "metadata": {
        "id": "64eOPlmF9Ex_"
      },
      "outputs": [],
      "source": [
        "def padded_generator_matrix(N, w0, z0):\n",
        "    n = np.arange(N)\n",
        "    k = n.reshape((N, 1))\n",
        "    zeta = np.exp(-2j * np.pi / N)\n",
        "    M_tilde = ((w0 / z0) ** n) * (zeta ** (k * n))\n",
        "    return M_tilde"
      ]
    },
    {
      "cell_type": "code",
      "execution_count": 8,
      "metadata": {
        "colab": {
          "base_uri": "https://localhost:8080/"
        },
        "id": "PSIUpVnGQsG1",
        "outputId": "31549065-e1ac-4b86-b284-27b4a25eb7d3"
      },
      "outputs": [
        {
          "output_type": "stream",
          "name": "stdout",
          "text": [
            "(32, 32)\n"
          ]
        }
      ],
      "source": [
        "M_tilde = padded_generator_matrix(n_padded, w0, z0)\n",
        "print(M_tilde.shape)"
      ]
    },
    {
      "cell_type": "code",
      "execution_count": 9,
      "metadata": {
        "colab": {
          "base_uri": "https://localhost:8080/"
        },
        "id": "RRGEWiz9NzyQ",
        "outputId": "4ab6d994-c0d2-444e-ee24-25917e7f5719"
      },
      "outputs": [
        {
          "output_type": "execute_result",
          "data": {
            "text/plain": [
              "(1000, 32)"
            ]
          },
          "metadata": {},
          "execution_count": 9
        }
      ],
      "source": [
        "encoded_dataset = np.array([np.dot(M_tilde, x) for x in dataset])\n",
        "encoded_dataset[np.abs(encoded_dataset) < 1e-10] = 0\n",
        "encoded_dataset = np.round(encoded_dataset, decimals=10)\n",
        "encoded_dataset.shape"
      ]
    },
    {
      "cell_type": "code",
      "execution_count": 10,
      "metadata": {
        "colab": {
          "base_uri": "https://localhost:8080/"
        },
        "id": "3X06HpkJZG0d",
        "outputId": "8dc6e181-813c-4eb9-92af-362a1252e87f"
      },
      "outputs": [
        {
          "output_type": "stream",
          "name": "stdout",
          "text": [
            "x_original[0]: [6 3 4 6 2 4 4 6 1 2 6 2 2 4 3 2 5 4 1 3 5 5 1 3 4 0 3]\n",
            "\n",
            "After encoding:\n",
            " [18563.60052945    +0.j         -3175.07412411+14542.65392496j\n",
            " -9480.13851167 -1549.89213738j  -850.18419129 -5788.51248279j\n",
            "  2813.63372348 -2457.36436449j  3312.0476391   +337.88077825j\n",
            "  1059.2907911  +3489.68169028j -2366.82367016  +909.74502726j\n",
            "  -210.29906943  +357.85181443j -3878.07651347  +373.95548592j\n",
            "   -49.25036994 -6370.32567308j  6901.71964373 -1088.5938127j\n",
            "  2896.76301761 +7252.43377368j -6714.83312544 +4427.90575271j\n",
            " -5496.28870703 -5330.43278044j  2828.24226801 -6162.17891893j\n",
            "  6446.94186958    -0.j          2828.24226801 +6162.17891893j\n",
            " -5496.28870703 +5330.43278044j -6714.83312544 -4427.90575271j\n",
            "  2896.76301761 -7252.43377368j  6901.71964373 +1088.5938127j\n",
            "   -49.25036994 +6370.32567308j -3878.07651347  -373.95548592j\n",
            "  -210.29906943  -357.85181443j -2366.82367016  -909.74502726j\n",
            "  1059.2907911  -3489.68169028j  3312.0476391   -337.88077825j\n",
            "  2813.63372348 +2457.36436449j  -850.18419129 +5788.51248279j\n",
            " -9480.13851167 +1549.89213738j -3175.07412411-14542.65392496j]\n"
          ]
        }
      ],
      "source": [
        "print(f\"x_original[0]:\", x_original[0])\n",
        "print(f\"\\nAfter encoding:\\n\", encoded_dataset[0])"
      ]
    },
    {
      "cell_type": "markdown",
      "source": [
        "Pre-processing"
      ],
      "metadata": {
        "id": "GBd0NwgaLymz"
      }
    },
    {
      "cell_type": "code",
      "execution_count": 11,
      "metadata": {
        "id": "WWUxLrXBZIcT"
      },
      "outputs": [],
      "source": [
        "N = encoded_dataset.shape[1]\n",
        "\n",
        "k = np.arange(N)\n",
        "shift = np.exp(-1j * np.pi * k / (2 * N))\n",
        "alpha_k = np.where(k == 0, np.sqrt(1/N), np.sqrt(2/N))\n",
        "\n",
        "dct2_dataset = np.array([np.real(alpha_k * shift * y) for y in encoded_dataset])\n",
        "dct2_dataset[np.abs(dct2_dataset) < 1e-10] = 0\n",
        "dct2_dataset = np.round(dct2_dataset, decimals=10) # Round for numerical stability"
      ]
    },
    {
      "cell_type": "code",
      "execution_count": 12,
      "metadata": {
        "colab": {
          "base_uri": "https://localhost:8080/"
        },
        "id": "HwXaAAfPZKP4",
        "outputId": "a5e4e7e7-5ed7-4536-f319-b0d316b7ec76"
      },
      "outputs": [
        {
          "output_type": "stream",
          "name": "stdout",
          "text": [
            "Original x: [4 3 6 4 2 0 5 6 6 2 2 1 6 1 1 5 1 4 3 0 2 4 0 6 6 6 4 0 0 0 0 0]\n",
            "\n",
            "Encoded y: [ 29916.11588021    +0.j            328.95686704+26422.4846445j\n",
            " -21936.20111033 +3988.95593508j  -7301.38988823-17810.36382931j\n",
            "  13577.84642585 -8953.74117052j   9354.9421295  +8727.48732799j\n",
            "  -4221.49645678 +8798.15590637j  -7861.90722461  -861.73832776j\n",
            "   -779.76795929 -5322.56486315j   2168.22506293 -1740.90057156j\n",
            "   1615.33333537 -1441.8771791j    5127.91361716 +2018.69510167j\n",
            "  -2943.81135295 +6208.60576073j  -5262.87924206 -2070.18847016j\n",
            "    798.8487054  -4460.7613612j    2679.94226354  +633.97975698j\n",
            "   -477.22622529    -0.j           2679.94226354  -633.97975698j\n",
            "    798.8487054  +4460.7613612j   -5262.87924206 +2070.18847016j\n",
            "  -2943.81135295 -6208.60576073j   5127.91361716 -2018.69510167j\n",
            "   1615.33333537 +1441.8771791j    2168.22506293 +1740.90057156j\n",
            "   -779.76795929 +5322.56486315j  -7861.90722461  +861.73832776j\n",
            "  -4221.49645678 -8798.15590637j   9354.9421295  -8727.48732799j\n",
            "  13577.84642585 +8953.74117052j  -7301.38988823+17810.36382931j\n",
            " -21936.20111033 -3988.95593508j    328.95686704-26422.4846445j ]\n",
            "\n",
            "DCT Coefficients: [ 5288.4721   406.2626 -5359.8966 -2458.9216  2892.5409  2798.7982\n",
            "  -371.4376 -1923.1607  -689.3173   303.9303   186.2252  1359.0437\n",
            "   250.4067 -1365.0985  -553.0897   602.8653   -84.3625   332.4978\n",
            "   988.7499  -368.0756 -1699.4402   226.1955   508.2713   625.1978\n",
            "  1154.7511  -459.308  -2411.1865 -1548.2175  2857.651   4136.5643\n",
            " -1529.9679 -6593.6291]\n",
            "\n",
            "Reconstructed Signal: [ 4.0000000e+00  0.0000000e+00  4.0000000e+00  0.0000000e+00\n",
            "  1.0666700e+01 -0.0000000e+00  9.4815000e+00  0.0000000e+00\n",
            "  6.3210000e+00  0.0000000e+00  0.0000000e+00  7.0870769e+03\n",
            "  2.8093300e+01  7.9729615e+03  4.4949200e+01  5.9797211e+03\n",
            "  5.9932300e+01  4.4847908e+03  2.6636600e+01 -0.0000000e+00\n",
            "  3.5515500e+01  1.6817966e+03  2.3677000e+01  6.3067370e+02\n",
            "  1.8941580e+02  0.0000000e+00  4.2092400e+01  5.3213090e+02\n",
            "  5.6123200e+01  5.3213090e+02  3.7415460e+02  9.9774600e+01]\n",
            "\n",
            "After Permutation: [ 4.0000000e+00  4.0000000e+00  1.0666700e+01  9.4815000e+00\n",
            "  6.3210000e+00  0.0000000e+00  2.8093300e+01  4.4949200e+01\n",
            "  5.9932300e+01  2.6636600e+01  3.5515500e+01  2.3677000e+01\n",
            "  1.8941580e+02  4.2092400e+01  5.6123200e+01  3.7415460e+02\n",
            "  9.9774600e+01  5.3213090e+02  5.3213090e+02  0.0000000e+00\n",
            "  6.3067370e+02  1.6817966e+03 -0.0000000e+00  4.4847908e+03\n",
            "  5.9797211e+03  7.9729615e+03  7.0870769e+03  0.0000000e+00\n",
            "  0.0000000e+00 -0.0000000e+00  0.0000000e+00  0.0000000e+00]\n",
            "\n",
            "After Scaling: [ 4.  3.  6.  4.  2.  0.  5.  6.  6.  2.  2.  1.  6.  1.  1.  5.  1.  4.\n",
            "  3.  0.  2.  4. -0.  6.  6.  6.  4.  0.  0. -0.  0.  0.]\n"
          ]
        }
      ],
      "source": [
        "\"\"\"\n",
        "The part below is for testing purposes only\n",
        "\"\"\"\n",
        "\n",
        "from scipy.fftpack import dct\n",
        "\n",
        "dct3_dataset = np.array([dct(x, type=3, norm='ortho') for x in dct2_dataset])\n",
        "\n",
        "X_perm = np.hstack((dct3_dataset[:, ::2], dct3_dataset[:, 1::2][:, ::-1]))\n",
        "\n",
        "D_hat_n = np.array([(z0 / w0) ** k for k in range(N)])\n",
        "decoded_dataset = X_perm * D_hat_n\n",
        "\n",
        "# Print verification (for one sample)\n",
        "sample_idx = 78\n",
        "print(\"Original x:\", dataset[sample_idx])\n",
        "print(\"\\nEncoded y:\", encoded_dataset[sample_idx])\n",
        "print(\"\\nDCT Coefficients:\", np.round(dct2_dataset[sample_idx], 4))\n",
        "print(\"\\nReconstructed Signal:\", np.round(dct3_dataset[sample_idx], 4))\n",
        "print(\"\\nAfter Permutation:\", np.round(X_perm[sample_idx], 4))\n",
        "print(\"\\nAfter Scaling:\", np.round(decoded_dataset[sample_idx], 4))"
      ]
    },
    {
      "cell_type": "code",
      "execution_count": 13,
      "metadata": {
        "id": "928uXOxxWlF0"
      },
      "outputs": [],
      "source": [
        "y = dataset.astype(np.float32)\n",
        "y_normalized = y / (q - 1)  # Scale to [0, 1]\n",
        "\n",
        "# labels = y\n",
        "labels = y_normalized"
      ]
    },
    {
      "cell_type": "code",
      "execution_count": 14,
      "metadata": {
        "colab": {
          "base_uri": "https://localhost:8080/"
        },
        "id": "zZOVVoAFZLyI",
        "outputId": "6262d95f-2d08-4e02-8775-dc8bf86b8be7"
      },
      "outputs": [
        {
          "output_type": "stream",
          "name": "stdout",
          "text": [
            "(800, 32) (800, 32)\n",
            "(200, 32) (200, 32)\n"
          ]
        }
      ],
      "source": [
        "from sklearn.model_selection import train_test_split\n",
        "\n",
        "X_train, X_test, y_train, y_test = train_test_split(\n",
        "    dct2_dataset, labels, test_size=0.2, random_state=42\n",
        ")\n",
        "\n",
        "print(X_train.shape, y_train.shape)\n",
        "print(X_test.shape, y_test.shape)"
      ]
    },
    {
      "cell_type": "code",
      "execution_count": 15,
      "metadata": {
        "id": "8zK2aRevZPoV"
      },
      "outputs": [],
      "source": [
        "X_train = (X_train - X_train.mean()) / X_train.std()\n",
        "X_test = (X_test - X_test.mean()) / X_test.std()"
      ]
    },
    {
      "cell_type": "markdown",
      "metadata": {
        "id": "W5pqrx0t9He3"
      },
      "source": [
        "DCT-3 imposed StNN"
      ]
    },
    {
      "cell_type": "code",
      "execution_count": 16,
      "metadata": {
        "id": "oS5eTBiryfqP"
      },
      "outputs": [],
      "source": [
        "class FirstLayer(tf.keras.layers.Layer):\n",
        "    def __init__(self, units, trainable=True, **kwargs):\n",
        "        super(FirstLayer, self).__init__(**kwargs)\n",
        "        self.n = units\n",
        "        self.n1 = units // 2\n",
        "        self.trainable = trainable\n",
        "\n",
        "        init_diag = tf.ones(self.n1, dtype=tf.float32)\n",
        "        init_diag = tf.tensor_scatter_nd_update(init_diag, [[0]], [tf.sqrt(2.0)])\n",
        "\n",
        "        self.B_1 = self.add_weight(\n",
        "                shape=(self.n1,),\n",
        "                initializer=tf.keras.initializers.Constant(init_diag),\n",
        "                trainable=self.trainable,\n",
        "                name='B_1'\n",
        "            )\n",
        "        self.B_2 = self.add_weight(\n",
        "                shape=(self.n1,),\n",
        "                initializer='ones',\n",
        "                trainable=self.trainable,\n",
        "                name='B_2'\n",
        "            )\n",
        "        self.bias = self.add_weight(\n",
        "            shape=(self.n,),\n",
        "            initializer='zeros',\n",
        "            trainable=True,\n",
        "            name='bias'\n",
        "        )\n",
        "\n",
        "    def call(self, x):\n",
        "        even = x[:, ::2]\n",
        "        odd = x[:, 1::2]\n",
        "\n",
        "        d1 = tf.multiply(odd, self.B_1) # diagonal\n",
        "        d2 = tf.multiply(tf.concat([tf.zeros_like(odd[:, :1]), odd[:, :-1]], axis=1), self.B_2) # off-diagonal\n",
        "        B_n = tf.add(d1, d2)\n",
        "\n",
        "        u = tf.concat([even, B_n], axis=1)\n",
        "\n",
        "        return u + self.bias"
      ]
    },
    {
      "cell_type": "code",
      "execution_count": 17,
      "metadata": {
        "id": "fcaYg5rTygAg"
      },
      "outputs": [],
      "source": [
        "class DCTIII(tf.keras.layers.Layer):\n",
        "    def __init__(self, n, trainable=True, **kwargs):\n",
        "        super(DCTIII, self).__init__(**kwargs)\n",
        "        self.n = n\n",
        "        self.n1 = n // 2 if n > 2 else 1\n",
        "        self.trainable = trainable\n",
        "\n",
        "        if n == 2:\n",
        "            # Base case: trainable 2x2 matrix\n",
        "            self.C_2 = self.add_weight(\n",
        "                shape=(2, 2),\n",
        "                initializer=tf.keras.initializers.Constant((1 / np.sqrt(2)) * np.array([[1., 1.], [1., -1.]])),\n",
        "                trainable=self.trainable,\n",
        "                name='C_2'\n",
        "            )\n",
        "        else:\n",
        "            init_diag = tf.ones(self.n1, dtype=tf.float32)\n",
        "            init_diag = tf.tensor_scatter_nd_update(init_diag, [[0]], [tf.sqrt(2.0)])\n",
        "\n",
        "            # Weights for B^T_{n/2}\n",
        "            self.B_1 = self.add_weight(\n",
        "                shape=(self.n1,),\n",
        "                initializer=tf.keras.initializers.Constant(init_diag),\n",
        "                trainable=self.trainable,\n",
        "                name='B_1'\n",
        "            )\n",
        "            self.B_2 = self.add_weight(\n",
        "                shape=(self.n1,),\n",
        "                initializer='ones',\n",
        "                trainable=self.trainable,\n",
        "                name='B_2'\n",
        "            )\n",
        "\n",
        "            k = tf.cast(tf.range(1, self.n1 + 1), tf.float32)\n",
        "            pi = tf.constant(np.pi, dtype=tf.float32)\n",
        "            init_W_c = 1 / (2 * tf.cos((2 * k - 1) * (pi / (2 * self.n))))\n",
        "\n",
        "            # Weight for W_c\n",
        "            self.w_c = self.add_weight(\n",
        "                shape=(self.n1,),\n",
        "                initializer=tf.keras.initializers.Constant(init_W_c),\n",
        "                trainable=self.trainable,\n",
        "                name='W_c'\n",
        "            )\n",
        "\n",
        "            # Recursive DCTIII for n/2\n",
        "            self.dctiii_layer1 = DCTIII(self.n1,trainable=self.trainable)\n",
        "            self.dctiii_layer2 = DCTIII(self.n1,trainable=self.trainable)\n",
        "\n",
        "    def call(self, x):\n",
        "        if self.n == 2:\n",
        "            y = tf.matmul(self.C_2, x, transpose_b=True)\n",
        "            return tf.transpose(y)\n",
        "        else:\n",
        "            # Permutation\n",
        "            even = x[:, ::2]\n",
        "            odd = x[:, 1::2]\n",
        "\n",
        "            # B^T\n",
        "            d1 = tf.multiply(odd, self.B_1)\n",
        "            d2 = tf.multiply(tf.concat([tf.zeros_like(odd[:, :1]), odd[:, :-1]], axis=1), self.B_2)\n",
        "            B_n = tf.add(d1, d2)\n",
        "            u = tf.concat([even, B_n], axis=1)\n",
        "\n",
        "            # Recursive DCTIII\n",
        "            z1 = self.dctiii_layer1(u[:, :self.n1])\n",
        "            z2 = self.dctiii_layer2(u[:, self.n1:])\n",
        "            recurs_out = tf.concat([z1, z2], axis=1)\n",
        "\n",
        "            # W_c\n",
        "            W_n = tf.multiply(recurs_out[:, self.n1:], self.w_c)\n",
        "            v = tf.concat([recurs_out[:, :self.n1], W_n], axis=1)\n",
        "\n",
        "            # H_n\n",
        "            out1 = v[:, :self.n1]\n",
        "            out2 = v[:, self.n1:]\n",
        "            y = (1 / tf.sqrt(tf.constant(2.0, dtype=tf.float32))) * tf.concat(\n",
        "                [(out1 + out2), tf.reverse((out1 - out2), axis=[1])],\n",
        "                axis=1\n",
        "            )\n",
        "\n",
        "            return y"
      ]
    },
    {
      "cell_type": "code",
      "execution_count": 18,
      "metadata": {
        "id": "MeXg1Z4SygVQ"
      },
      "outputs": [],
      "source": [
        "class SecondLayer(tf.keras.layers.Layer):\n",
        "    def __init__(self, units, trainable=True, **kwargs):\n",
        "        super(SecondLayer, self).__init__(**kwargs)\n",
        "        self.n = units\n",
        "        self.n1 = units // 2\n",
        "        self.trainable = trainable\n",
        "\n",
        "        self.bias = self.add_weight(\n",
        "            shape=(self.n,),\n",
        "            initializer='zeros',\n",
        "            trainable=True,\n",
        "            name='bias'\n",
        "        )\n",
        "\n",
        "        # Recursive DCTIII for n/2\n",
        "        self.dctiii1 = DCTIII(self.n1, trainable=self.trainable)\n",
        "        self.dctiii2 = DCTIII(self.n1,trainable=self.trainable)\n",
        "\n",
        "    def call(self, x):\n",
        "        z1 = self.dctiii1(x[:, :self.n1])\n",
        "        z2 = self.dctiii2(x[:, self.n1:])\n",
        "        out = tf.concat([z1, z2], axis=1)\n",
        "        return out + self.bias"
      ]
    },
    {
      "cell_type": "code",
      "execution_count": 19,
      "metadata": {
        "id": "glm5oQbeyg3Y"
      },
      "outputs": [],
      "source": [
        "class ThirdLayer(tf.keras.layers.Layer):\n",
        "    def __init__(self, units, trainable=True, **kwargs):\n",
        "        super(ThirdLayer, self).__init__(**kwargs)\n",
        "        self.n = units\n",
        "        self.n1 = units // 2\n",
        "        self.trainable = trainable\n",
        "\n",
        "        k = tf.cast(tf.range(1, self.n1 + 1), tf.float32)\n",
        "        pi = tf.constant(np.pi, dtype=tf.float32)\n",
        "        init_W_c = 1 / (2 * tf.cos((2 * k - 1) * (pi / (2 * self.n))))\n",
        "\n",
        "        self.w_c = self.add_weight(\n",
        "                shape=(self.n1,),\n",
        "                initializer=tf.keras.initializers.Constant(init_W_c),\n",
        "                trainable=self.trainable,\n",
        "                name='W_c'\n",
        "            )\n",
        "\n",
        "        self.bias = self.add_weight(\n",
        "            shape=(self.n,),\n",
        "            initializer='zeros',\n",
        "            trainable=True,\n",
        "            name='bias'\n",
        "        )\n",
        "\n",
        "    def call(self, x):\n",
        "        input1 = x[:, :self.n1]\n",
        "        input2 = x[:, self.n1:]\n",
        "\n",
        "        # W_{N/2}\n",
        "        W_n = tf.multiply(input2, self.w_c)\n",
        "        v = tf.concat([input1, W_n], axis=1)\n",
        "\n",
        "        # H_n^T\n",
        "        out1 = v[:, :self.n1]\n",
        "        out2 = v[:, self.n1:]\n",
        "\n",
        "        y = (1 / tf.sqrt(tf.constant(2.0, dtype=tf.float32))) * tf.concat([(out1 + out2), tf.reverse((out1 - out2), axis=[1])], axis=1)\n",
        "\n",
        "        return y + self.bias"
      ]
    },
    {
      "cell_type": "code",
      "execution_count": 20,
      "metadata": {
        "id": "pf57bB4nAyhO"
      },
      "outputs": [],
      "source": [
        "class DiagonalLayer(tf.keras.layers.Layer):\n",
        "    def __init__(self, units, trainable=True, kernel_initializer='he_normal', bias_initializer='zeros', **kwargs):\n",
        "        super(DiagonalLayer, self).__init__(**kwargs)\n",
        "        self.units = units\n",
        "        self.kernel_initializer = kernel_initializer\n",
        "        self.bias_initializer = bias_initializer\n",
        "        self.trainable = trainable\n",
        "\n",
        "    def build(self, input_shape):\n",
        "        self.diag = self.add_weight(\n",
        "            shape=(self.units,),\n",
        "            initializer=tf.keras.initializers.get(self.kernel_initializer),\n",
        "            trainable=self.trainable,\n",
        "            name='diag'\n",
        "        )\n",
        "        self.bias = self.add_weight(\n",
        "            shape=(self.units,),\n",
        "            initializer=tf.keras.initializers.get(self.bias_initializer),\n",
        "            trainable=self.trainable,\n",
        "            name='bias'\n",
        "        )\n",
        "\n",
        "    def call(self, inputs):\n",
        "        scaled = tf.multiply(inputs, self.diag)\n",
        "        return scaled + self.bias"
      ]
    },
    {
      "cell_type": "code",
      "execution_count": 21,
      "metadata": {
        "id": "2AmJRF7yZkyY"
      },
      "outputs": [],
      "source": [
        "class ScalingLayer(tf.keras.layers.Layer):\n",
        "    def __init__(self, units, initial_scale=1.0, trainable=True, kernel_initializer='he_normal', bias_initializer='zeros', **kwargs):\n",
        "        super(ScalingLayer, self).__init__(**kwargs)\n",
        "        self.units = units\n",
        "        self.initial_scale = initial_scale\n",
        "        self.kernel_initializer = kernel_initializer\n",
        "        self.bias_initializer = bias_initializer\n",
        "\n",
        "    def build(self, input_shape):\n",
        "\n",
        "      self.log_scale = self.add_weight(\n",
        "          shape=(),\n",
        "          initializer=tf.keras.initializers.Constant(self.initial_scale),\n",
        "          trainable=True,\n",
        "          name=\"log_scale\",\n",
        "      )\n",
        "      self.diag = self.add_weight(\n",
        "          shape=(self.units,),\n",
        "          initializer=tf.keras.initializers.get(self.kernel_initializer),\n",
        "          regularizer=tf.keras.regularizers.l2(1e-4),\n",
        "          trainable=True,\n",
        "          name='diag'\n",
        "      )\n",
        "      self.bias = self.add_weight(\n",
        "          shape=(self.units,),\n",
        "          initializer=tf.keras.initializers.get(self.bias_initializer),\n",
        "          trainable=True,\n",
        "          name='bias'\n",
        "        )\n",
        "\n",
        "      super().build(input_shape)\n",
        "\n",
        "    def call(self, inputs):\n",
        "      perm = tf.concat([inputs[:, ::2], inputs[:, 1::2][:, ::-1]], axis=-1)\n",
        "\n",
        "      dim = tf.shape(perm)[1]\n",
        "\n",
        "      D_hat_n = tf.exp(self.log_scale * tf.cast(tf.range(dim), tf.float32))\n",
        "\n",
        "      scaled = perm * D_hat_n * self.diag\n",
        "\n",
        "      return scaled + self.bias"
      ]
    },
    {
      "cell_type": "markdown",
      "metadata": {
        "id": "RT8qO-gPZmDh"
      },
      "source": [
        "Model"
      ]
    },
    {
      "cell_type": "code",
      "execution_count": 22,
      "metadata": {
        "id": "hJeHHbsUZXRH"
      },
      "outputs": [],
      "source": [
        "def custom_accuracy(y_true, y_pred):\n",
        "    y_true_int = tf.cast(y_true*(q-1), tf.int32)\n",
        "    y_pred_int = tf.cast(tf.round(y_pred*(q-1)), tf.int32)\n",
        "    correct = tf.cast(tf.equal(y_true_int, y_pred_int), tf.float32)\n",
        "    return tf.reduce_mean(correct)\n",
        "\n",
        "def custom_accuracy_without_padding(y_true, y_pred):\n",
        "    y_true_int = tf.cast(y_true * (q - 1), tf.int32)\n",
        "    y_pred_int = tf.cast(tf.round(y_pred * (q - 1)), tf.int32)\n",
        "    mask = tf.concat(\n",
        "        [tf.ones((tf.shape(y_true)[0], n), dtype=tf.float32),\n",
        "         tf.zeros((tf.shape(y_true)[0], n_padded - n), dtype=tf.float32)],\n",
        "        axis=1\n",
        "    )\n",
        "    correct = tf.cast(tf.equal(y_true_int, y_pred_int), tf.float32) * mask\n",
        "    return tf.reduce_sum(correct) / tf.reduce_sum(mask)\n",
        "\n",
        "def custom_mse(y_true, y_pred):\n",
        "    y_true = tf.cast(y_true, tf.float32)\n",
        "    y_pred = tf.cast(y_pred, tf.float32)\n",
        "    loss = tf.reduce_mean(tf.square(tf.cast(y_true - y_pred, tf.float32)))\n",
        "    return loss"
      ]
    },
    {
      "cell_type": "code",
      "execution_count": 23,
      "metadata": {
        "colab": {
          "base_uri": "https://localhost:8080/",
          "height": 321
        },
        "id": "CSdpIWpo_gzq",
        "outputId": "8f273000-5c22-4013-ac36-0cb6edc60870"
      },
      "outputs": [
        {
          "output_type": "display_data",
          "data": {
            "text/plain": [
              "\u001b[1mModel: \"sequential\"\u001b[0m\n"
            ],
            "text/html": [
              "<pre style=\"white-space:pre;overflow-x:auto;line-height:normal;font-family:Menlo,'DejaVu Sans Mono',consolas,'Courier New',monospace\"><span style=\"font-weight: bold\">Model: \"sequential\"</span>\n",
              "</pre>\n"
            ]
          },
          "metadata": {}
        },
        {
          "output_type": "display_data",
          "data": {
            "text/plain": [
              "┏━━━━━━━━━━━━━━━━━━━━━━━━━━━━━━━━━┳━━━━━━━━━━━━━━━━━━━━━━━━┳━━━━━━━━━━━━━━━┓\n",
              "┃\u001b[1m \u001b[0m\u001b[1mLayer (type)                   \u001b[0m\u001b[1m \u001b[0m┃\u001b[1m \u001b[0m\u001b[1mOutput Shape          \u001b[0m\u001b[1m \u001b[0m┃\u001b[1m \u001b[0m\u001b[1m      Param #\u001b[0m\u001b[1m \u001b[0m┃\n",
              "┡━━━━━━━━━━━━━━━━━━━━━━━━━━━━━━━━━╇━━━━━━━━━━━━━━━━━━━━━━━━╇━━━━━━━━━━━━━━━┩\n",
              "│ first_layer (\u001b[38;5;33mFirstLayer\u001b[0m)        │ (\u001b[38;5;45mNone\u001b[0m, \u001b[38;5;34m32\u001b[0m)             │            \u001b[38;5;34m64\u001b[0m │\n",
              "├─────────────────────────────────┼────────────────────────┼───────────────┤\n",
              "│ second_layer (\u001b[38;5;33mSecondLayer\u001b[0m)      │ (\u001b[38;5;45mNone\u001b[0m, \u001b[38;5;34m32\u001b[0m)             │           \u001b[38;5;34m240\u001b[0m │\n",
              "├─────────────────────────────────┼────────────────────────┼───────────────┤\n",
              "│ third_layer (\u001b[38;5;33mThirdLayer\u001b[0m)        │ (\u001b[38;5;45mNone\u001b[0m, \u001b[38;5;34m32\u001b[0m)             │            \u001b[38;5;34m48\u001b[0m │\n",
              "├─────────────────────────────────┼────────────────────────┼───────────────┤\n",
              "│ leaky_re_lu (\u001b[38;5;33mLeakyReLU\u001b[0m)         │ (\u001b[38;5;45mNone\u001b[0m, \u001b[38;5;34m32\u001b[0m)             │             \u001b[38;5;34m0\u001b[0m │\n",
              "├─────────────────────────────────┼────────────────────────┼───────────────┤\n",
              "│ scaling_layer (\u001b[38;5;33mScalingLayer\u001b[0m)    │ (\u001b[38;5;45mNone\u001b[0m, \u001b[38;5;34m32\u001b[0m)             │            \u001b[38;5;34m65\u001b[0m │\n",
              "├─────────────────────────────────┼────────────────────────┼───────────────┤\n",
              "│ leaky_re_lu_1 (\u001b[38;5;33mLeakyReLU\u001b[0m)       │ (\u001b[38;5;45mNone\u001b[0m, \u001b[38;5;34m32\u001b[0m)             │             \u001b[38;5;34m0\u001b[0m │\n",
              "└─────────────────────────────────┴────────────────────────┴───────────────┘\n"
            ],
            "text/html": [
              "<pre style=\"white-space:pre;overflow-x:auto;line-height:normal;font-family:Menlo,'DejaVu Sans Mono',consolas,'Courier New',monospace\">┏━━━━━━━━━━━━━━━━━━━━━━━━━━━━━━━━━┳━━━━━━━━━━━━━━━━━━━━━━━━┳━━━━━━━━━━━━━━━┓\n",
              "┃<span style=\"font-weight: bold\"> Layer (type)                    </span>┃<span style=\"font-weight: bold\"> Output Shape           </span>┃<span style=\"font-weight: bold\">       Param # </span>┃\n",
              "┡━━━━━━━━━━━━━━━━━━━━━━━━━━━━━━━━━╇━━━━━━━━━━━━━━━━━━━━━━━━╇━━━━━━━━━━━━━━━┩\n",
              "│ first_layer (<span style=\"color: #0087ff; text-decoration-color: #0087ff\">FirstLayer</span>)        │ (<span style=\"color: #00d7ff; text-decoration-color: #00d7ff\">None</span>, <span style=\"color: #00af00; text-decoration-color: #00af00\">32</span>)             │            <span style=\"color: #00af00; text-decoration-color: #00af00\">64</span> │\n",
              "├─────────────────────────────────┼────────────────────────┼───────────────┤\n",
              "│ second_layer (<span style=\"color: #0087ff; text-decoration-color: #0087ff\">SecondLayer</span>)      │ (<span style=\"color: #00d7ff; text-decoration-color: #00d7ff\">None</span>, <span style=\"color: #00af00; text-decoration-color: #00af00\">32</span>)             │           <span style=\"color: #00af00; text-decoration-color: #00af00\">240</span> │\n",
              "├─────────────────────────────────┼────────────────────────┼───────────────┤\n",
              "│ third_layer (<span style=\"color: #0087ff; text-decoration-color: #0087ff\">ThirdLayer</span>)        │ (<span style=\"color: #00d7ff; text-decoration-color: #00d7ff\">None</span>, <span style=\"color: #00af00; text-decoration-color: #00af00\">32</span>)             │            <span style=\"color: #00af00; text-decoration-color: #00af00\">48</span> │\n",
              "├─────────────────────────────────┼────────────────────────┼───────────────┤\n",
              "│ leaky_re_lu (<span style=\"color: #0087ff; text-decoration-color: #0087ff\">LeakyReLU</span>)         │ (<span style=\"color: #00d7ff; text-decoration-color: #00d7ff\">None</span>, <span style=\"color: #00af00; text-decoration-color: #00af00\">32</span>)             │             <span style=\"color: #00af00; text-decoration-color: #00af00\">0</span> │\n",
              "├─────────────────────────────────┼────────────────────────┼───────────────┤\n",
              "│ scaling_layer (<span style=\"color: #0087ff; text-decoration-color: #0087ff\">ScalingLayer</span>)    │ (<span style=\"color: #00d7ff; text-decoration-color: #00d7ff\">None</span>, <span style=\"color: #00af00; text-decoration-color: #00af00\">32</span>)             │            <span style=\"color: #00af00; text-decoration-color: #00af00\">65</span> │\n",
              "├─────────────────────────────────┼────────────────────────┼───────────────┤\n",
              "│ leaky_re_lu_1 (<span style=\"color: #0087ff; text-decoration-color: #0087ff\">LeakyReLU</span>)       │ (<span style=\"color: #00d7ff; text-decoration-color: #00d7ff\">None</span>, <span style=\"color: #00af00; text-decoration-color: #00af00\">32</span>)             │             <span style=\"color: #00af00; text-decoration-color: #00af00\">0</span> │\n",
              "└─────────────────────────────────┴────────────────────────┴───────────────┘\n",
              "</pre>\n"
            ]
          },
          "metadata": {}
        },
        {
          "output_type": "display_data",
          "data": {
            "text/plain": [
              "\u001b[1m Total params: \u001b[0m\u001b[38;5;34m417\u001b[0m (1.63 KB)\n"
            ],
            "text/html": [
              "<pre style=\"white-space:pre;overflow-x:auto;line-height:normal;font-family:Menlo,'DejaVu Sans Mono',consolas,'Courier New',monospace\"><span style=\"font-weight: bold\"> Total params: </span><span style=\"color: #00af00; text-decoration-color: #00af00\">417</span> (1.63 KB)\n",
              "</pre>\n"
            ]
          },
          "metadata": {}
        },
        {
          "output_type": "display_data",
          "data": {
            "text/plain": [
              "\u001b[1m Trainable params: \u001b[0m\u001b[38;5;34m417\u001b[0m (1.63 KB)\n"
            ],
            "text/html": [
              "<pre style=\"white-space:pre;overflow-x:auto;line-height:normal;font-family:Menlo,'DejaVu Sans Mono',consolas,'Courier New',monospace\"><span style=\"font-weight: bold\"> Trainable params: </span><span style=\"color: #00af00; text-decoration-color: #00af00\">417</span> (1.63 KB)\n",
              "</pre>\n"
            ]
          },
          "metadata": {}
        },
        {
          "output_type": "display_data",
          "data": {
            "text/plain": [
              "\u001b[1m Non-trainable params: \u001b[0m\u001b[38;5;34m0\u001b[0m (0.00 B)\n"
            ],
            "text/html": [
              "<pre style=\"white-space:pre;overflow-x:auto;line-height:normal;font-family:Menlo,'DejaVu Sans Mono',consolas,'Courier New',monospace\"><span style=\"font-weight: bold\"> Non-trainable params: </span><span style=\"color: #00af00; text-decoration-color: #00af00\">0</span> (0.00 B)\n",
              "</pre>\n"
            ]
          },
          "metadata": {}
        }
      ],
      "source": [
        "from tensorflow.keras.layers import InputLayer, LeakyReLU, Activation\n",
        "from tensorflow.keras.models import Sequential\n",
        "from tensorflow.keras.optimizers import Adam\n",
        "\n",
        "initial_log_scale = np.log(z0 / w0)\n",
        "initial_scale = (z0 / w0)\n",
        "\n",
        "input_shape = (n_padded,)\n",
        "model = Sequential([\n",
        "    InputLayer(shape=input_shape),\n",
        "    FirstLayer(units=n_padded, trainable=True, name=\"first_layer\"),\n",
        "    # LeakyReLU(negative_slope=0.1),\n",
        "    SecondLayer(units=n_padded, trainable=True, name=\"second_layer\"),\n",
        "    # LeakyReLU(negative_slope=0.1),\n",
        "    ThirdLayer(units=n_padded, trainable=True, name=\"third_layer\"),\n",
        "    LeakyReLU(negative_slope=0.1),\n",
        "    ScalingLayer(units=n_padded, initial_scale=initial_log_scale, trainable=True, kernel_initializer='ones', bias_initializer='zeros', name=\"scaling_layer\"),\n",
        "    LeakyReLU(negative_slope=0.1)\n",
        "    # DiagonalLayer(units=n_padded, trainable=False, kernel_initializer='ones', bias_initializer='zeros', name=\"output_layer\"),\n",
        "    # Activation('linear')\n",
        "])\n",
        "\n",
        "# notes:\n",
        "# 1. adding the diagonal layers in the middle worsens results\n",
        "# 2. residual connections does not work\n",
        "# 3. removing bias in hidden layers worsens performance\n",
        "# 4. removing \"LeakyReLU\" activation in between layers improved performance\n",
        "\n",
        "\n",
        "model.compile(\n",
        "    optimizer=Adam(learning_rate=0.001),\n",
        "    loss=custom_mse,\n",
        "    metrics=[custom_mse, custom_accuracy_without_padding]\n",
        ")\n",
        "\n",
        "model.summary()"
      ]
    },
    {
      "cell_type": "code",
      "source": [
        "# ------------- FLOP counts ---------------\n",
        "\n",
        "# Create concrete function\n",
        "input_shape = (1, n_padded)  # batch size 1\n",
        "concrete_func = tf.function(model).get_concrete_function(tf.TensorSpec(input_shape, tf.float32))\n",
        "\n",
        "from tensorflow.python.profiler import model_analyzer\n",
        "from tensorflow.python.profiler.option_builder import ProfileOptionBuilder\n",
        "\n",
        "profile_opts = ProfileOptionBuilder.float_operation()\n",
        "flops = model_analyzer.profile(concrete_func.graph, options=profile_opts)\n",
        "\n",
        "print('FLOPs:', flops.total_float_ops)"
      ],
      "metadata": {
        "colab": {
          "base_uri": "https://localhost:8080/"
        },
        "id": "VabLWwvEaAj6",
        "outputId": "69b5c539-2382-4b75-83b4-92b170748b65"
      },
      "execution_count": 24,
      "outputs": [
        {
          "output_type": "stream",
          "name": "stderr",
          "text": [
            "WARNING:tensorflow:From /usr/local/lib/python3.12/dist-packages/tensorflow/python/profiler/internal/flops_registry.py:140: tensor_shape_from_node_def_name (from tensorflow.python.framework.graph_util_impl) is deprecated and will be removed in a future version.\n",
            "Instructions for updating:\n",
            "This API was designed for TensorFlow v1. See https://www.tensorflow.org/guide/migrate for instructions on how to migrate your code to TensorFlow v2.\n"
          ]
        },
        {
          "output_type": "stream",
          "name": "stdout",
          "text": [
            "FLOPs: 879\n"
          ]
        }
      ]
    },
    {
      "cell_type": "markdown",
      "metadata": {
        "id": "tyCrYB69D1dF"
      },
      "source": [
        "Training"
      ]
    },
    {
      "cell_type": "code",
      "source": [
        "# from google.colab import drive\n",
        "# drive.mount('/content/drive')"
      ],
      "metadata": {
        "id": "srmEutLqBJZG"
      },
      "execution_count": 25,
      "outputs": []
    },
    {
      "cell_type": "code",
      "execution_count": 26,
      "metadata": {
        "colab": {
          "base_uri": "https://localhost:8080/"
        },
        "id": "U_4ibK4NcIlO",
        "outputId": "07aa07fd-1486-4a11-d138-0cc9e124eca9"
      },
      "outputs": [
        {
          "output_type": "stream",
          "name": "stdout",
          "text": [
            "Epoch 1/500\n",
            "\u001b[1m18/25\u001b[0m \u001b[32m━━━━━━━━━━━━━━\u001b[0m\u001b[37m━━━━━━\u001b[0m \u001b[1m0s\u001b[0m 6ms/step - custom_accuracy_without_padding: 0.1410 - custom_mse: 0.2908 - loss: 0.2940\n",
            "Epoch 1: val_loss improved from inf to 0.24415, saving model to /content/drive/MyDrive/10 Masters/Research/error-correcting-codes/ThisIsTheCleanest/weights/DCT_model_27.keras\n",
            "\u001b[1m25/25\u001b[0m \u001b[32m━━━━━━━━━━━━━━━━━━━━\u001b[0m\u001b[37m\u001b[0m \u001b[1m23s\u001b[0m 151ms/step - custom_accuracy_without_padding: 0.1412 - custom_mse: 0.2867 - loss: 0.2899 - val_custom_accuracy_without_padding: 0.1481 - val_custom_mse: 0.2401 - val_loss: 0.2442 - learning_rate: 0.0010\n",
            "Epoch 2/500\n",
            "\u001b[1m14/25\u001b[0m \u001b[32m━━━━━━━━━━━\u001b[0m\u001b[37m━━━━━━━━━\u001b[0m \u001b[1m0s\u001b[0m 4ms/step - custom_accuracy_without_padding: 0.1475 - custom_mse: 0.2449 - loss: 0.2481 \n",
            "Epoch 2: val_loss improved from 0.24415 to 0.21094, saving model to /content/drive/MyDrive/10 Masters/Research/error-correcting-codes/ThisIsTheCleanest/weights/DCT_model_27.keras\n",
            "\u001b[1m25/25\u001b[0m \u001b[32m━━━━━━━━━━━━━━━━━━━━\u001b[0m\u001b[37m\u001b[0m \u001b[1m0s\u001b[0m 14ms/step - custom_accuracy_without_padding: 0.1455 - custom_mse: 0.2400 - loss: 0.2431 - val_custom_accuracy_without_padding: 0.1524 - val_custom_mse: 0.2067 - val_loss: 0.2109 - learning_rate: 0.0010\n",
            "Epoch 3/500\n",
            "\u001b[1m25/25\u001b[0m \u001b[32m━━━━━━━━━━━━━━━━━━━━\u001b[0m\u001b[37m\u001b[0m \u001b[1m0s\u001b[0m 4ms/step - custom_accuracy_without_padding: 0.1413 - custom_mse: 0.2091 - loss: 0.2123\n",
            "Epoch 3: val_loss improved from 0.21094 to 0.18645, saving model to /content/drive/MyDrive/10 Masters/Research/error-correcting-codes/ThisIsTheCleanest/weights/DCT_model_27.keras\n",
            "\u001b[1m25/25\u001b[0m \u001b[32m━━━━━━━━━━━━━━━━━━━━\u001b[0m\u001b[37m\u001b[0m \u001b[1m1s\u001b[0m 16ms/step - custom_accuracy_without_padding: 0.1413 - custom_mse: 0.2089 - loss: 0.2121 - val_custom_accuracy_without_padding: 0.1549 - val_custom_mse: 0.1822 - val_loss: 0.1865 - learning_rate: 0.0010\n",
            "Epoch 4/500\n",
            "\u001b[1m14/25\u001b[0m \u001b[32m━━━━━━━━━━━\u001b[0m\u001b[37m━━━━━━━━━\u001b[0m \u001b[1m0s\u001b[0m 4ms/step - custom_accuracy_without_padding: 0.1503 - custom_mse: 0.1863 - loss: 0.1896 \n",
            "Epoch 4: val_loss improved from 0.18645 to 0.16475, saving model to /content/drive/MyDrive/10 Masters/Research/error-correcting-codes/ThisIsTheCleanest/weights/DCT_model_27.keras\n",
            "\u001b[1m25/25\u001b[0m \u001b[32m━━━━━━━━━━━━━━━━━━━━\u001b[0m\u001b[37m\u001b[0m \u001b[1m0s\u001b[0m 14ms/step - custom_accuracy_without_padding: 0.1499 - custom_mse: 0.1840 - loss: 0.1872 - val_custom_accuracy_without_padding: 0.1490 - val_custom_mse: 0.1607 - val_loss: 0.1647 - learning_rate: 0.0010\n",
            "Epoch 5/500\n",
            "\u001b[1m24/25\u001b[0m \u001b[32m━━━━━━━━━━━━━━━━━━━\u001b[0m\u001b[37m━\u001b[0m \u001b[1m0s\u001b[0m 4ms/step - custom_accuracy_without_padding: 0.1384 - custom_mse: 0.1631 - loss: 0.1665\n",
            "Epoch 5: val_loss improved from 0.16475 to 0.13638, saving model to /content/drive/MyDrive/10 Masters/Research/error-correcting-codes/ThisIsTheCleanest/weights/DCT_model_27.keras\n",
            "\u001b[1m25/25\u001b[0m \u001b[32m━━━━━━━━━━━━━━━━━━━━\u001b[0m\u001b[37m\u001b[0m \u001b[1m1s\u001b[0m 14ms/step - custom_accuracy_without_padding: 0.1389 - custom_mse: 0.1624 - loss: 0.1658 - val_custom_accuracy_without_padding: 0.1505 - val_custom_mse: 0.1326 - val_loss: 0.1364 - learning_rate: 0.0010\n",
            "Epoch 6/500\n",
            "\u001b[1m14/25\u001b[0m \u001b[32m━━━━━━━━━━━\u001b[0m\u001b[37m━━━━━━━━━\u001b[0m \u001b[1m0s\u001b[0m 4ms/step - custom_accuracy_without_padding: 0.1456 - custom_mse: 0.1304 - loss: 0.1339  \n",
            "Epoch 6: val_loss improved from 0.13638 to 0.08964, saving model to /content/drive/MyDrive/10 Masters/Research/error-correcting-codes/ThisIsTheCleanest/weights/DCT_model_27.keras\n",
            "\u001b[1m25/25\u001b[0m \u001b[32m━━━━━━━━━━━━━━━━━━━━\u001b[0m\u001b[37m\u001b[0m \u001b[1m1s\u001b[0m 14ms/step - custom_accuracy_without_padding: 0.1482 - custom_mse: 0.1252 - loss: 0.1287 - val_custom_accuracy_without_padding: 0.1964 - val_custom_mse: 0.0862 - val_loss: 0.0896 - learning_rate: 0.0010\n",
            "Epoch 7/500\n",
            "\u001b[1m15/25\u001b[0m \u001b[32m━━━━━━━━━━━━\u001b[0m\u001b[37m━━━━━━━━\u001b[0m \u001b[1m0s\u001b[0m 4ms/step - custom_accuracy_without_padding: 0.1866 - custom_mse: 0.0823 - loss: 0.0859 \n",
            "Epoch 7: val_loss improved from 0.08964 to 0.07285, saving model to /content/drive/MyDrive/10 Masters/Research/error-correcting-codes/ThisIsTheCleanest/weights/DCT_model_27.keras\n",
            "\u001b[1m25/25\u001b[0m \u001b[32m━━━━━━━━━━━━━━━━━━━━\u001b[0m\u001b[37m\u001b[0m \u001b[1m0s\u001b[0m 14ms/step - custom_accuracy_without_padding: 0.1888 - custom_mse: 0.0801 - loss: 0.0837 - val_custom_accuracy_without_padding: 0.1943 - val_custom_mse: 0.0692 - val_loss: 0.0729 - learning_rate: 0.0010\n",
            "Epoch 8/500\n",
            "\u001b[1m15/25\u001b[0m \u001b[32m━━━━━━━━━━━━\u001b[0m\u001b[37m━━━━━━━━\u001b[0m \u001b[1m0s\u001b[0m 4ms/step - custom_accuracy_without_padding: 0.2087 - custom_mse: 0.0693 - loss: 0.0729 \n",
            "Epoch 8: val_loss improved from 0.07285 to 0.06984, saving model to /content/drive/MyDrive/10 Masters/Research/error-correcting-codes/ThisIsTheCleanest/weights/DCT_model_27.keras\n",
            "\u001b[1m25/25\u001b[0m \u001b[32m━━━━━━━━━━━━━━━━━━━━\u001b[0m\u001b[37m\u001b[0m \u001b[1m0s\u001b[0m 15ms/step - custom_accuracy_without_padding: 0.2083 - custom_mse: 0.0688 - loss: 0.0724 - val_custom_accuracy_without_padding: 0.1963 - val_custom_mse: 0.0663 - val_loss: 0.0698 - learning_rate: 0.0010\n",
            "Epoch 9/500\n",
            "\u001b[1m14/25\u001b[0m \u001b[32m━━━━━━━━━━━\u001b[0m\u001b[37m━━━━━━━━━\u001b[0m \u001b[1m0s\u001b[0m 4ms/step - custom_accuracy_without_padding: 0.2084 - custom_mse: 0.0665 - loss: 0.0702  \n",
            "Epoch 9: val_loss improved from 0.06984 to 0.06781, saving model to /content/drive/MyDrive/10 Masters/Research/error-correcting-codes/ThisIsTheCleanest/weights/DCT_model_27.keras\n",
            "\u001b[1m25/25\u001b[0m \u001b[32m━━━━━━━━━━━━━━━━━━━━\u001b[0m\u001b[37m\u001b[0m \u001b[1m1s\u001b[0m 14ms/step - custom_accuracy_without_padding: 0.2112 - custom_mse: 0.0660 - loss: 0.0697 - val_custom_accuracy_without_padding: 0.2159 - val_custom_mse: 0.0642 - val_loss: 0.0678 - learning_rate: 0.0010\n",
            "Epoch 10/500\n",
            "\u001b[1m14/25\u001b[0m \u001b[32m━━━━━━━━━━━\u001b[0m\u001b[37m━━━━━━━━━\u001b[0m \u001b[1m0s\u001b[0m 4ms/step - custom_accuracy_without_padding: 0.2298 - custom_mse: 0.0644 - loss: 0.0681 \n",
            "Epoch 10: val_loss improved from 0.06781 to 0.06706, saving model to /content/drive/MyDrive/10 Masters/Research/error-correcting-codes/ThisIsTheCleanest/weights/DCT_model_27.keras\n",
            "\u001b[1m25/25\u001b[0m \u001b[32m━━━━━━━━━━━━━━━━━━━━\u001b[0m\u001b[37m\u001b[0m \u001b[1m0s\u001b[0m 15ms/step - custom_accuracy_without_padding: 0.2338 - custom_mse: 0.0641 - loss: 0.0678 - val_custom_accuracy_without_padding: 0.2310 - val_custom_mse: 0.0635 - val_loss: 0.0671 - learning_rate: 0.0010\n",
            "Epoch 11/500\n",
            "\u001b[1m14/25\u001b[0m \u001b[32m━━━━━━━━━━━\u001b[0m\u001b[37m━━━━━━━━━\u001b[0m \u001b[1m0s\u001b[0m 4ms/step - custom_accuracy_without_padding: 0.2490 - custom_mse: 0.0632 - loss: 0.0669  \n",
            "Epoch 11: val_loss improved from 0.06706 to 0.06619, saving model to /content/drive/MyDrive/10 Masters/Research/error-correcting-codes/ThisIsTheCleanest/weights/DCT_model_27.keras\n",
            "\u001b[1m25/25\u001b[0m \u001b[32m━━━━━━━━━━━━━━━━━━━━\u001b[0m\u001b[37m\u001b[0m \u001b[1m1s\u001b[0m 14ms/step - custom_accuracy_without_padding: 0.2503 - custom_mse: 0.0630 - loss: 0.0667 - val_custom_accuracy_without_padding: 0.2497 - val_custom_mse: 0.0626 - val_loss: 0.0662 - learning_rate: 0.0010\n",
            "Epoch 12/500\n",
            "\u001b[1m13/25\u001b[0m \u001b[32m━━━━━━━━━━\u001b[0m\u001b[37m━━━━━━━━━━\u001b[0m \u001b[1m0s\u001b[0m 4ms/step - custom_accuracy_without_padding: 0.2596 - custom_mse: 0.0623 - loss: 0.0660 \n",
            "Epoch 12: val_loss improved from 0.06619 to 0.06529, saving model to /content/drive/MyDrive/10 Masters/Research/error-correcting-codes/ThisIsTheCleanest/weights/DCT_model_27.keras\n",
            "\u001b[1m25/25\u001b[0m \u001b[32m━━━━━━━━━━━━━━━━━━━━\u001b[0m\u001b[37m\u001b[0m \u001b[1m0s\u001b[0m 14ms/step - custom_accuracy_without_padding: 0.2603 - custom_mse: 0.0621 - loss: 0.0658 - val_custom_accuracy_without_padding: 0.2584 - val_custom_mse: 0.0617 - val_loss: 0.0653 - learning_rate: 0.0010\n",
            "Epoch 13/500\n",
            "\u001b[1m14/25\u001b[0m \u001b[32m━━━━━━━━━━━\u001b[0m\u001b[37m━━━━━━━━━\u001b[0m \u001b[1m0s\u001b[0m 4ms/step - custom_accuracy_without_padding: 0.2700 - custom_mse: 0.0616 - loss: 0.0653 \n",
            "Epoch 13: val_loss improved from 0.06529 to 0.06438, saving model to /content/drive/MyDrive/10 Masters/Research/error-correcting-codes/ThisIsTheCleanest/weights/DCT_model_27.keras\n",
            "\u001b[1m25/25\u001b[0m \u001b[32m━━━━━━━━━━━━━━━━━━━━\u001b[0m\u001b[37m\u001b[0m \u001b[1m0s\u001b[0m 14ms/step - custom_accuracy_without_padding: 0.2696 - custom_mse: 0.0614 - loss: 0.0651 - val_custom_accuracy_without_padding: 0.2750 - val_custom_mse: 0.0608 - val_loss: 0.0644 - learning_rate: 0.0010\n",
            "Epoch 14/500\n",
            "\u001b[1m14/25\u001b[0m \u001b[32m━━━━━━━━━━━\u001b[0m\u001b[37m━━━━━━━━━\u001b[0m \u001b[1m0s\u001b[0m 4ms/step - custom_accuracy_without_padding: 0.2804 - custom_mse: 0.0609 - loss: 0.0646 \n",
            "Epoch 14: val_loss improved from 0.06438 to 0.06367, saving model to /content/drive/MyDrive/10 Masters/Research/error-correcting-codes/ThisIsTheCleanest/weights/DCT_model_27.keras\n",
            "\u001b[1m25/25\u001b[0m \u001b[32m━━━━━━━━━━━━━━━━━━━━\u001b[0m\u001b[37m\u001b[0m \u001b[1m0s\u001b[0m 14ms/step - custom_accuracy_without_padding: 0.2806 - custom_mse: 0.0606 - loss: 0.0642 - val_custom_accuracy_without_padding: 0.2816 - val_custom_mse: 0.0602 - val_loss: 0.0637 - learning_rate: 0.0010\n",
            "Epoch 15/500\n",
            "\u001b[1m14/25\u001b[0m \u001b[32m━━━━━━━━━━━\u001b[0m\u001b[37m━━━━━━━━━\u001b[0m \u001b[1m0s\u001b[0m 4ms/step - custom_accuracy_without_padding: 0.2816 - custom_mse: 0.0604 - loss: 0.0640 \n",
            "Epoch 15: val_loss improved from 0.06367 to 0.06293, saving model to /content/drive/MyDrive/10 Masters/Research/error-correcting-codes/ThisIsTheCleanest/weights/DCT_model_27.keras\n",
            "\u001b[1m25/25\u001b[0m \u001b[32m━━━━━━━━━━━━━━━━━━━━\u001b[0m\u001b[37m\u001b[0m \u001b[1m0s\u001b[0m 14ms/step - custom_accuracy_without_padding: 0.2841 - custom_mse: 0.0601 - loss: 0.0637 - val_custom_accuracy_without_padding: 0.2927 - val_custom_mse: 0.0594 - val_loss: 0.0629 - learning_rate: 0.0010\n",
            "Epoch 16/500\n",
            "\u001b[1m14/25\u001b[0m \u001b[32m━━━━━━━━━━━\u001b[0m\u001b[37m━━━━━━━━━\u001b[0m \u001b[1m0s\u001b[0m 4ms/step - custom_accuracy_without_padding: 0.2925 - custom_mse: 0.0592 - loss: 0.0628 \n",
            "Epoch 16: val_loss improved from 0.06293 to 0.06226, saving model to /content/drive/MyDrive/10 Masters/Research/error-correcting-codes/ThisIsTheCleanest/weights/DCT_model_27.keras\n",
            "\u001b[1m25/25\u001b[0m \u001b[32m━━━━━━━━━━━━━━━━━━━━\u001b[0m\u001b[37m\u001b[0m \u001b[1m0s\u001b[0m 14ms/step - custom_accuracy_without_padding: 0.2935 - custom_mse: 0.0590 - loss: 0.0626 - val_custom_accuracy_without_padding: 0.2930 - val_custom_mse: 0.0588 - val_loss: 0.0623 - learning_rate: 0.0010\n",
            "Epoch 17/500\n",
            "\u001b[1m14/25\u001b[0m \u001b[32m━━━━━━━━━━━\u001b[0m\u001b[37m━━━━━━━━━\u001b[0m \u001b[1m0s\u001b[0m 4ms/step - custom_accuracy_without_padding: 0.2967 - custom_mse: 0.0578 - loss: 0.0614  \n",
            "Epoch 17: val_loss improved from 0.06226 to 0.06185, saving model to /content/drive/MyDrive/10 Masters/Research/error-correcting-codes/ThisIsTheCleanest/weights/DCT_model_27.keras\n",
            "\u001b[1m25/25\u001b[0m \u001b[32m━━━━━━━━━━━━━━━━━━━━\u001b[0m\u001b[37m\u001b[0m \u001b[1m1s\u001b[0m 14ms/step - custom_accuracy_without_padding: 0.2986 - custom_mse: 0.0579 - loss: 0.0615 - val_custom_accuracy_without_padding: 0.2965 - val_custom_mse: 0.0583 - val_loss: 0.0619 - learning_rate: 0.0010\n",
            "Epoch 18/500\n",
            "\u001b[1m14/25\u001b[0m \u001b[32m━━━━━━━━━━━\u001b[0m\u001b[37m━━━━━━━━━\u001b[0m \u001b[1m0s\u001b[0m 4ms/step - custom_accuracy_without_padding: 0.2949 - custom_mse: 0.0583 - loss: 0.0619 \n",
            "Epoch 18: val_loss improved from 0.06185 to 0.06095, saving model to /content/drive/MyDrive/10 Masters/Research/error-correcting-codes/ThisIsTheCleanest/weights/DCT_model_27.keras\n",
            "\u001b[1m25/25\u001b[0m \u001b[32m━━━━━━━━━━━━━━━━━━━━\u001b[0m\u001b[37m\u001b[0m \u001b[1m0s\u001b[0m 14ms/step - custom_accuracy_without_padding: 0.2997 - custom_mse: 0.0581 - loss: 0.0618 - val_custom_accuracy_without_padding: 0.3084 - val_custom_mse: 0.0574 - val_loss: 0.0609 - learning_rate: 0.0010\n",
            "Epoch 19/500\n",
            "\u001b[1m14/25\u001b[0m \u001b[32m━━━━━━━━━━━\u001b[0m\u001b[37m━━━━━━━━━\u001b[0m \u001b[1m0s\u001b[0m 4ms/step - custom_accuracy_without_padding: 0.3148 - custom_mse: 0.0572 - loss: 0.0608  \n",
            "Epoch 19: val_loss improved from 0.06095 to 0.06041, saving model to /content/drive/MyDrive/10 Masters/Research/error-correcting-codes/ThisIsTheCleanest/weights/DCT_model_27.keras\n",
            "\u001b[1m25/25\u001b[0m \u001b[32m━━━━━━━━━━━━━━━━━━━━\u001b[0m\u001b[37m\u001b[0m \u001b[1m1s\u001b[0m 16ms/step - custom_accuracy_without_padding: 0.3143 - custom_mse: 0.0569 - loss: 0.0606 - val_custom_accuracy_without_padding: 0.3130 - val_custom_mse: 0.0569 - val_loss: 0.0604 - learning_rate: 0.0010\n",
            "Epoch 20/500\n",
            "\u001b[1m19/25\u001b[0m \u001b[32m━━━━━━━━━━━━━━━\u001b[0m\u001b[37m━━━━━\u001b[0m \u001b[1m0s\u001b[0m 6ms/step - custom_accuracy_without_padding: 0.3160 - custom_mse: 0.0561 - loss: 0.0597\n",
            "Epoch 20: val_loss improved from 0.06041 to 0.06003, saving model to /content/drive/MyDrive/10 Masters/Research/error-correcting-codes/ThisIsTheCleanest/weights/DCT_model_27.keras\n",
            "\u001b[1m25/25\u001b[0m \u001b[32m━━━━━━━━━━━━━━━━━━━━\u001b[0m\u001b[37m\u001b[0m \u001b[1m1s\u001b[0m 20ms/step - custom_accuracy_without_padding: 0.3160 - custom_mse: 0.0561 - loss: 0.0598 - val_custom_accuracy_without_padding: 0.3137 - val_custom_mse: 0.0566 - val_loss: 0.0600 - learning_rate: 0.0010\n",
            "Epoch 21/500\n",
            "\u001b[1m18/25\u001b[0m \u001b[32m━━━━━━━━━━━━━━\u001b[0m\u001b[37m━━━━━━\u001b[0m \u001b[1m0s\u001b[0m 6ms/step - custom_accuracy_without_padding: 0.3205 - custom_mse: 0.0562 - loss: 0.0599\n",
            "Epoch 21: val_loss improved from 0.06003 to 0.05922, saving model to /content/drive/MyDrive/10 Masters/Research/error-correcting-codes/ThisIsTheCleanest/weights/DCT_model_27.keras\n",
            "\u001b[1m25/25\u001b[0m \u001b[32m━━━━━━━━━━━━━━━━━━━━\u001b[0m\u001b[37m\u001b[0m \u001b[1m1s\u001b[0m 21ms/step - custom_accuracy_without_padding: 0.3213 - custom_mse: 0.0561 - loss: 0.0597 - val_custom_accuracy_without_padding: 0.3208 - val_custom_mse: 0.0558 - val_loss: 0.0592 - learning_rate: 0.0010\n",
            "Epoch 22/500\n",
            "\u001b[1m24/25\u001b[0m \u001b[32m━━━━━━━━━━━━━━━━━━━\u001b[0m\u001b[37m━\u001b[0m \u001b[1m0s\u001b[0m 7ms/step - custom_accuracy_without_padding: 0.3238 - custom_mse: 0.0557 - loss: 0.0593\n",
            "Epoch 22: val_loss improved from 0.05922 to 0.05858, saving model to /content/drive/MyDrive/10 Masters/Research/error-correcting-codes/ThisIsTheCleanest/weights/DCT_model_27.keras\n",
            "\u001b[1m25/25\u001b[0m \u001b[32m━━━━━━━━━━━━━━━━━━━━\u001b[0m\u001b[37m\u001b[0m \u001b[1m1s\u001b[0m 17ms/step - custom_accuracy_without_padding: 0.3241 - custom_mse: 0.0556 - loss: 0.0592 - val_custom_accuracy_without_padding: 0.3237 - val_custom_mse: 0.0551 - val_loss: 0.0586 - learning_rate: 0.0010\n",
            "Epoch 23/500\n",
            "\u001b[1m14/25\u001b[0m \u001b[32m━━━━━━━━━━━\u001b[0m\u001b[37m━━━━━━━━━\u001b[0m \u001b[1m0s\u001b[0m 4ms/step - custom_accuracy_without_padding: 0.3351 - custom_mse: 0.0551 - loss: 0.0587 \n",
            "Epoch 23: val_loss improved from 0.05858 to 0.05820, saving model to /content/drive/MyDrive/10 Masters/Research/error-correcting-codes/ThisIsTheCleanest/weights/DCT_model_27.keras\n",
            "\u001b[1m25/25\u001b[0m \u001b[32m━━━━━━━━━━━━━━━━━━━━\u001b[0m\u001b[37m\u001b[0m \u001b[1m0s\u001b[0m 14ms/step - custom_accuracy_without_padding: 0.3329 - custom_mse: 0.0549 - loss: 0.0585 - val_custom_accuracy_without_padding: 0.3251 - val_custom_mse: 0.0548 - val_loss: 0.0582 - learning_rate: 0.0010\n",
            "Epoch 24/500\n",
            "\u001b[1m23/25\u001b[0m \u001b[32m━━━━━━━━━━━━━━━━━━\u001b[0m\u001b[37m━━\u001b[0m \u001b[1m0s\u001b[0m 5ms/step - custom_accuracy_without_padding: 0.3368 - custom_mse: 0.0535 - loss: 0.0571\n",
            "Epoch 24: val_loss improved from 0.05820 to 0.05770, saving model to /content/drive/MyDrive/10 Masters/Research/error-correcting-codes/ThisIsTheCleanest/weights/DCT_model_27.keras\n",
            "\u001b[1m25/25\u001b[0m \u001b[32m━━━━━━━━━━━━━━━━━━━━\u001b[0m\u001b[37m\u001b[0m \u001b[1m1s\u001b[0m 16ms/step - custom_accuracy_without_padding: 0.3366 - custom_mse: 0.0535 - loss: 0.0571 - val_custom_accuracy_without_padding: 0.3322 - val_custom_mse: 0.0543 - val_loss: 0.0577 - learning_rate: 0.0010\n",
            "Epoch 25/500\n",
            "\u001b[1m14/25\u001b[0m \u001b[32m━━━━━━━━━━━\u001b[0m\u001b[37m━━━━━━━━━\u001b[0m \u001b[1m0s\u001b[0m 4ms/step - custom_accuracy_without_padding: 0.3381 - custom_mse: 0.0528 - loss: 0.0565 \n",
            "Epoch 25: val_loss improved from 0.05770 to 0.05713, saving model to /content/drive/MyDrive/10 Masters/Research/error-correcting-codes/ThisIsTheCleanest/weights/DCT_model_27.keras\n",
            "\u001b[1m25/25\u001b[0m \u001b[32m━━━━━━━━━━━━━━━━━━━━\u001b[0m\u001b[37m\u001b[0m \u001b[1m0s\u001b[0m 14ms/step - custom_accuracy_without_padding: 0.3399 - custom_mse: 0.0532 - loss: 0.0568 - val_custom_accuracy_without_padding: 0.3381 - val_custom_mse: 0.0537 - val_loss: 0.0571 - learning_rate: 0.0010\n",
            "Epoch 26/500\n",
            "\u001b[1m14/25\u001b[0m \u001b[32m━━━━━━━━━━━\u001b[0m\u001b[37m━━━━━━━━━\u001b[0m \u001b[1m0s\u001b[0m 4ms/step - custom_accuracy_without_padding: 0.3377 - custom_mse: 0.0531 - loss: 0.0567 \n",
            "Epoch 26: val_loss improved from 0.05713 to 0.05675, saving model to /content/drive/MyDrive/10 Masters/Research/error-correcting-codes/ThisIsTheCleanest/weights/DCT_model_27.keras\n",
            "\u001b[1m25/25\u001b[0m \u001b[32m━━━━━━━━━━━━━━━━━━━━\u001b[0m\u001b[37m\u001b[0m \u001b[1m0s\u001b[0m 14ms/step - custom_accuracy_without_padding: 0.3415 - custom_mse: 0.0530 - loss: 0.0566 - val_custom_accuracy_without_padding: 0.3418 - val_custom_mse: 0.0533 - val_loss: 0.0568 - learning_rate: 0.0010\n",
            "Epoch 27/500\n",
            "\u001b[1m14/25\u001b[0m \u001b[32m━━━━━━━━━━━\u001b[0m\u001b[37m━━━━━━━━━\u001b[0m \u001b[1m0s\u001b[0m 4ms/step - custom_accuracy_without_padding: 0.3562 - custom_mse: 0.0513 - loss: 0.0549 \n",
            "Epoch 27: val_loss improved from 0.05675 to 0.05615, saving model to /content/drive/MyDrive/10 Masters/Research/error-correcting-codes/ThisIsTheCleanest/weights/DCT_model_27.keras\n",
            "\u001b[1m25/25\u001b[0m \u001b[32m━━━━━━━━━━━━━━━━━━━━\u001b[0m\u001b[37m\u001b[0m \u001b[1m0s\u001b[0m 14ms/step - custom_accuracy_without_padding: 0.3550 - custom_mse: 0.0518 - loss: 0.0554 - val_custom_accuracy_without_padding: 0.3525 - val_custom_mse: 0.0528 - val_loss: 0.0561 - learning_rate: 0.0010\n",
            "Epoch 28/500\n",
            "\u001b[1m14/25\u001b[0m \u001b[32m━━━━━━━━━━━\u001b[0m\u001b[37m━━━━━━━━━\u001b[0m \u001b[1m0s\u001b[0m 4ms/step - custom_accuracy_without_padding: 0.3587 - custom_mse: 0.0526 - loss: 0.0562 \n",
            "Epoch 28: val_loss improved from 0.05615 to 0.05565, saving model to /content/drive/MyDrive/10 Masters/Research/error-correcting-codes/ThisIsTheCleanest/weights/DCT_model_27.keras\n",
            "\u001b[1m25/25\u001b[0m \u001b[32m━━━━━━━━━━━━━━━━━━━━\u001b[0m\u001b[37m\u001b[0m \u001b[1m0s\u001b[0m 14ms/step - custom_accuracy_without_padding: 0.3592 - custom_mse: 0.0522 - loss: 0.0558 - val_custom_accuracy_without_padding: 0.3552 - val_custom_mse: 0.0523 - val_loss: 0.0557 - learning_rate: 0.0010\n",
            "Epoch 29/500\n",
            "\u001b[1m21/25\u001b[0m \u001b[32m━━━━━━━━━━━━━━━━\u001b[0m\u001b[37m━━━━\u001b[0m \u001b[1m0s\u001b[0m 5ms/step - custom_accuracy_without_padding: 0.3696 - custom_mse: 0.0516 - loss: 0.0552\n",
            "Epoch 29: val_loss improved from 0.05565 to 0.05526, saving model to /content/drive/MyDrive/10 Masters/Research/error-correcting-codes/ThisIsTheCleanest/weights/DCT_model_27.keras\n",
            "\u001b[1m25/25\u001b[0m \u001b[32m━━━━━━━━━━━━━━━━━━━━\u001b[0m\u001b[37m\u001b[0m \u001b[1m1s\u001b[0m 15ms/step - custom_accuracy_without_padding: 0.3699 - custom_mse: 0.0516 - loss: 0.0552 - val_custom_accuracy_without_padding: 0.3639 - val_custom_mse: 0.0519 - val_loss: 0.0553 - learning_rate: 0.0010\n",
            "Epoch 30/500\n",
            "\u001b[1m15/25\u001b[0m \u001b[32m━━━━━━━━━━━━\u001b[0m\u001b[37m━━━━━━━━\u001b[0m \u001b[1m0s\u001b[0m 4ms/step - custom_accuracy_without_padding: 0.3738 - custom_mse: 0.0502 - loss: 0.0538 \n",
            "Epoch 30: val_loss improved from 0.05526 to 0.05489, saving model to /content/drive/MyDrive/10 Masters/Research/error-correcting-codes/ThisIsTheCleanest/weights/DCT_model_27.keras\n",
            "\u001b[1m25/25\u001b[0m \u001b[32m━━━━━━━━━━━━━━━━━━━━\u001b[0m\u001b[37m\u001b[0m \u001b[1m0s\u001b[0m 14ms/step - custom_accuracy_without_padding: 0.3759 - custom_mse: 0.0506 - loss: 0.0542 - val_custom_accuracy_without_padding: 0.3714 - val_custom_mse: 0.0516 - val_loss: 0.0549 - learning_rate: 0.0010\n",
            "Epoch 31/500\n",
            "\u001b[1m14/25\u001b[0m \u001b[32m━━━━━━━━━━━\u001b[0m\u001b[37m━━━━━━━━━\u001b[0m \u001b[1m0s\u001b[0m 4ms/step - custom_accuracy_without_padding: 0.3819 - custom_mse: 0.0500 - loss: 0.0536  \n",
            "Epoch 31: val_loss improved from 0.05489 to 0.05426, saving model to /content/drive/MyDrive/10 Masters/Research/error-correcting-codes/ThisIsTheCleanest/weights/DCT_model_27.keras\n",
            "\u001b[1m25/25\u001b[0m \u001b[32m━━━━━━━━━━━━━━━━━━━━\u001b[0m\u001b[37m\u001b[0m \u001b[1m1s\u001b[0m 14ms/step - custom_accuracy_without_padding: 0.3837 - custom_mse: 0.0503 - loss: 0.0539 - val_custom_accuracy_without_padding: 0.3755 - val_custom_mse: 0.0510 - val_loss: 0.0543 - learning_rate: 0.0010\n",
            "Epoch 32/500\n",
            "\u001b[1m14/25\u001b[0m \u001b[32m━━━━━━━━━━━\u001b[0m\u001b[37m━━━━━━━━━\u001b[0m \u001b[1m0s\u001b[0m 4ms/step - custom_accuracy_without_padding: 0.3926 - custom_mse: 0.0500 - loss: 0.0536 \n",
            "Epoch 32: val_loss improved from 0.05426 to 0.05376, saving model to /content/drive/MyDrive/10 Masters/Research/error-correcting-codes/ThisIsTheCleanest/weights/DCT_model_27.keras\n",
            "\u001b[1m25/25\u001b[0m \u001b[32m━━━━━━━━━━━━━━━━━━━━\u001b[0m\u001b[37m\u001b[0m \u001b[1m0s\u001b[0m 14ms/step - custom_accuracy_without_padding: 0.3926 - custom_mse: 0.0501 - loss: 0.0537 - val_custom_accuracy_without_padding: 0.3867 - val_custom_mse: 0.0504 - val_loss: 0.0538 - learning_rate: 0.0010\n",
            "Epoch 33/500\n",
            "\u001b[1m14/25\u001b[0m \u001b[32m━━━━━━━━━━━\u001b[0m\u001b[37m━━━━━━━━━\u001b[0m \u001b[1m0s\u001b[0m 4ms/step - custom_accuracy_without_padding: 0.3904 - custom_mse: 0.0495 - loss: 0.0531  \n",
            "Epoch 33: val_loss improved from 0.05376 to 0.05330, saving model to /content/drive/MyDrive/10 Masters/Research/error-correcting-codes/ThisIsTheCleanest/weights/DCT_model_27.keras\n",
            "\u001b[1m25/25\u001b[0m \u001b[32m━━━━━━━━━━━━━━━━━━━━\u001b[0m\u001b[37m\u001b[0m \u001b[1m1s\u001b[0m 14ms/step - custom_accuracy_without_padding: 0.3936 - custom_mse: 0.0495 - loss: 0.0531 - val_custom_accuracy_without_padding: 0.3927 - val_custom_mse: 0.0501 - val_loss: 0.0533 - learning_rate: 0.0010\n",
            "Epoch 34/500\n",
            "\u001b[1m14/25\u001b[0m \u001b[32m━━━━━━━━━━━\u001b[0m\u001b[37m━━━━━━━━━\u001b[0m \u001b[1m0s\u001b[0m 4ms/step - custom_accuracy_without_padding: 0.3946 - custom_mse: 0.0485 - loss: 0.0521 \n",
            "Epoch 34: val_loss improved from 0.05330 to 0.05305, saving model to /content/drive/MyDrive/10 Masters/Research/error-correcting-codes/ThisIsTheCleanest/weights/DCT_model_27.keras\n",
            "\u001b[1m25/25\u001b[0m \u001b[32m━━━━━━━━━━━━━━━━━━━━\u001b[0m\u001b[37m\u001b[0m \u001b[1m0s\u001b[0m 15ms/step - custom_accuracy_without_padding: 0.3988 - custom_mse: 0.0488 - loss: 0.0523 - val_custom_accuracy_without_padding: 0.3970 - val_custom_mse: 0.0497 - val_loss: 0.0530 - learning_rate: 0.0010\n",
            "Epoch 35/500\n",
            "\u001b[1m14/25\u001b[0m \u001b[32m━━━━━━━━━━━\u001b[0m\u001b[37m━━━━━━━━━\u001b[0m \u001b[1m0s\u001b[0m 4ms/step - custom_accuracy_without_padding: 0.4046 - custom_mse: 0.0495 - loss: 0.0530 \n",
            "Epoch 35: val_loss improved from 0.05305 to 0.05245, saving model to /content/drive/MyDrive/10 Masters/Research/error-correcting-codes/ThisIsTheCleanest/weights/DCT_model_27.keras\n",
            "\u001b[1m25/25\u001b[0m \u001b[32m━━━━━━━━━━━━━━━━━━━━\u001b[0m\u001b[37m\u001b[0m \u001b[1m0s\u001b[0m 15ms/step - custom_accuracy_without_padding: 0.4068 - custom_mse: 0.0493 - loss: 0.0528 - val_custom_accuracy_without_padding: 0.4079 - val_custom_mse: 0.0492 - val_loss: 0.0525 - learning_rate: 0.0010\n",
            "Epoch 36/500\n",
            "\u001b[1m14/25\u001b[0m \u001b[32m━━━━━━━━━━━\u001b[0m\u001b[37m━━━━━━━━━\u001b[0m \u001b[1m0s\u001b[0m 4ms/step - custom_accuracy_without_padding: 0.4251 - custom_mse: 0.0478 - loss: 0.0513  \n",
            "Epoch 36: val_loss improved from 0.05245 to 0.05218, saving model to /content/drive/MyDrive/10 Masters/Research/error-correcting-codes/ThisIsTheCleanest/weights/DCT_model_27.keras\n",
            "\u001b[1m25/25\u001b[0m \u001b[32m━━━━━━━━━━━━━━━━━━━━\u001b[0m\u001b[37m\u001b[0m \u001b[1m1s\u001b[0m 14ms/step - custom_accuracy_without_padding: 0.4233 - custom_mse: 0.0479 - loss: 0.0514 - val_custom_accuracy_without_padding: 0.4142 - val_custom_mse: 0.0489 - val_loss: 0.0522 - learning_rate: 0.0010\n",
            "Epoch 37/500\n",
            "\u001b[1m14/25\u001b[0m \u001b[32m━━━━━━━━━━━\u001b[0m\u001b[37m━━━━━━━━━\u001b[0m \u001b[1m0s\u001b[0m 4ms/step - custom_accuracy_without_padding: 0.4310 - custom_mse: 0.0480 - loss: 0.0515 \n",
            "Epoch 37: val_loss improved from 0.05218 to 0.05165, saving model to /content/drive/MyDrive/10 Masters/Research/error-correcting-codes/ThisIsTheCleanest/weights/DCT_model_27.keras\n",
            "\u001b[1m25/25\u001b[0m \u001b[32m━━━━━━━━━━━━━━━━━━━━\u001b[0m\u001b[37m\u001b[0m \u001b[1m0s\u001b[0m 15ms/step - custom_accuracy_without_padding: 0.4305 - custom_mse: 0.0480 - loss: 0.0516 - val_custom_accuracy_without_padding: 0.4342 - val_custom_mse: 0.0484 - val_loss: 0.0517 - learning_rate: 0.0010\n",
            "Epoch 38/500\n",
            "\u001b[1m14/25\u001b[0m \u001b[32m━━━━━━━━━━━\u001b[0m\u001b[37m━━━━━━━━━\u001b[0m \u001b[1m0s\u001b[0m 4ms/step - custom_accuracy_without_padding: 0.4390 - custom_mse: 0.0473 - loss: 0.0508 \n",
            "Epoch 38: val_loss improved from 0.05165 to 0.05147, saving model to /content/drive/MyDrive/10 Masters/Research/error-correcting-codes/ThisIsTheCleanest/weights/DCT_model_27.keras\n",
            "\u001b[1m25/25\u001b[0m \u001b[32m━━━━━━━━━━━━━━━━━━━━\u001b[0m\u001b[37m\u001b[0m \u001b[1m0s\u001b[0m 15ms/step - custom_accuracy_without_padding: 0.4394 - custom_mse: 0.0475 - loss: 0.0510 - val_custom_accuracy_without_padding: 0.4362 - val_custom_mse: 0.0483 - val_loss: 0.0515 - learning_rate: 0.0010\n",
            "Epoch 39/500\n",
            "\u001b[1m13/25\u001b[0m \u001b[32m━━━━━━━━━━\u001b[0m\u001b[37m━━━━━━━━━━\u001b[0m \u001b[1m0s\u001b[0m 4ms/step - custom_accuracy_without_padding: 0.4412 - custom_mse: 0.0467 - loss: 0.0502  \n",
            "Epoch 39: val_loss improved from 0.05147 to 0.05113, saving model to /content/drive/MyDrive/10 Masters/Research/error-correcting-codes/ThisIsTheCleanest/weights/DCT_model_27.keras\n",
            "\u001b[1m25/25\u001b[0m \u001b[32m━━━━━━━━━━━━━━━━━━━━\u001b[0m\u001b[37m\u001b[0m \u001b[1m1s\u001b[0m 15ms/step - custom_accuracy_without_padding: 0.4458 - custom_mse: 0.0469 - loss: 0.0504 - val_custom_accuracy_without_padding: 0.4392 - val_custom_mse: 0.0480 - val_loss: 0.0511 - learning_rate: 0.0010\n",
            "Epoch 40/500\n",
            "\u001b[1m14/25\u001b[0m \u001b[32m━━━━━━━━━━━\u001b[0m\u001b[37m━━━━━━━━━\u001b[0m \u001b[1m0s\u001b[0m 4ms/step - custom_accuracy_without_padding: 0.4502 - custom_mse: 0.0470 - loss: 0.0505  \n",
            "Epoch 40: val_loss improved from 0.05113 to 0.05048, saving model to /content/drive/MyDrive/10 Masters/Research/error-correcting-codes/ThisIsTheCleanest/weights/DCT_model_27.keras\n",
            "\u001b[1m25/25\u001b[0m \u001b[32m━━━━━━━━━━━━━━━━━━━━\u001b[0m\u001b[37m\u001b[0m \u001b[1m1s\u001b[0m 14ms/step - custom_accuracy_without_padding: 0.4528 - custom_mse: 0.0471 - loss: 0.0506 - val_custom_accuracy_without_padding: 0.4542 - val_custom_mse: 0.0473 - val_loss: 0.0505 - learning_rate: 0.0010\n",
            "Epoch 41/500\n",
            "\u001b[1m14/25\u001b[0m \u001b[32m━━━━━━━━━━━\u001b[0m\u001b[37m━━━━━━━━━\u001b[0m \u001b[1m0s\u001b[0m 4ms/step - custom_accuracy_without_padding: 0.4633 - custom_mse: 0.0461 - loss: 0.0496  \n",
            "Epoch 41: val_loss improved from 0.05048 to 0.05017, saving model to /content/drive/MyDrive/10 Masters/Research/error-correcting-codes/ThisIsTheCleanest/weights/DCT_model_27.keras\n",
            "\u001b[1m25/25\u001b[0m \u001b[32m━━━━━━━━━━━━━━━━━━━━\u001b[0m\u001b[37m\u001b[0m \u001b[1m1s\u001b[0m 14ms/step - custom_accuracy_without_padding: 0.4649 - custom_mse: 0.0465 - loss: 0.0500 - val_custom_accuracy_without_padding: 0.4593 - val_custom_mse: 0.0470 - val_loss: 0.0502 - learning_rate: 0.0010\n",
            "Epoch 42/500\n",
            "\u001b[1m14/25\u001b[0m \u001b[32m━━━━━━━━━━━\u001b[0m\u001b[37m━━━━━━━━━\u001b[0m \u001b[1m0s\u001b[0m 4ms/step - custom_accuracy_without_padding: 0.4681 - custom_mse: 0.0463 - loss: 0.0498 \n",
            "Epoch 42: val_loss did not improve from 0.05017\n",
            "\u001b[1m25/25\u001b[0m \u001b[32m━━━━━━━━━━━━━━━━━━━━\u001b[0m\u001b[37m\u001b[0m \u001b[1m0s\u001b[0m 7ms/step - custom_accuracy_without_padding: 0.4695 - custom_mse: 0.0463 - loss: 0.0497 - val_custom_accuracy_without_padding: 0.4587 - val_custom_mse: 0.0471 - val_loss: 0.0502 - learning_rate: 0.0010\n",
            "Epoch 43/500\n",
            "\u001b[1m14/25\u001b[0m \u001b[32m━━━━━━━━━━━\u001b[0m\u001b[37m━━━━━━━━━\u001b[0m \u001b[1m0s\u001b[0m 4ms/step - custom_accuracy_without_padding: 0.4738 - custom_mse: 0.0458 - loss: 0.0492 \n",
            "Epoch 43: val_loss improved from 0.05017 to 0.04954, saving model to /content/drive/MyDrive/10 Masters/Research/error-correcting-codes/ThisIsTheCleanest/weights/DCT_model_27.keras\n",
            "\u001b[1m25/25\u001b[0m \u001b[32m━━━━━━━━━━━━━━━━━━━━\u001b[0m\u001b[37m\u001b[0m \u001b[1m0s\u001b[0m 14ms/step - custom_accuracy_without_padding: 0.4761 - custom_mse: 0.0459 - loss: 0.0493 - val_custom_accuracy_without_padding: 0.4778 - val_custom_mse: 0.0465 - val_loss: 0.0495 - learning_rate: 0.0010\n",
            "Epoch 44/500\n",
            "\u001b[1m19/25\u001b[0m \u001b[32m━━━━━━━━━━━━━━━\u001b[0m\u001b[37m━━━━━\u001b[0m \u001b[1m0s\u001b[0m 6ms/step - custom_accuracy_without_padding: 0.4799 - custom_mse: 0.0453 - loss: 0.0487\n",
            "Epoch 44: val_loss improved from 0.04954 to 0.04924, saving model to /content/drive/MyDrive/10 Masters/Research/error-correcting-codes/ThisIsTheCleanest/weights/DCT_model_27.keras\n",
            "\u001b[1m25/25\u001b[0m \u001b[32m━━━━━━━━━━━━━━━━━━━━\u001b[0m\u001b[37m\u001b[0m \u001b[1m1s\u001b[0m 20ms/step - custom_accuracy_without_padding: 0.4816 - custom_mse: 0.0454 - loss: 0.0488 - val_custom_accuracy_without_padding: 0.4798 - val_custom_mse: 0.0462 - val_loss: 0.0492 - learning_rate: 0.0010\n",
            "Epoch 45/500\n",
            "\u001b[1m19/25\u001b[0m \u001b[32m━━━━━━━━━━━━━━━\u001b[0m\u001b[37m━━━━━\u001b[0m \u001b[1m0s\u001b[0m 6ms/step - custom_accuracy_without_padding: 0.4943 - custom_mse: 0.0456 - loss: 0.0490\n",
            "Epoch 45: val_loss improved from 0.04924 to 0.04903, saving model to /content/drive/MyDrive/10 Masters/Research/error-correcting-codes/ThisIsTheCleanest/weights/DCT_model_27.keras\n",
            "\u001b[1m25/25\u001b[0m \u001b[32m━━━━━━━━━━━━━━━━━━━━\u001b[0m\u001b[37m\u001b[0m \u001b[1m1s\u001b[0m 19ms/step - custom_accuracy_without_padding: 0.4947 - custom_mse: 0.0455 - loss: 0.0489 - val_custom_accuracy_without_padding: 0.4876 - val_custom_mse: 0.0460 - val_loss: 0.0490 - learning_rate: 0.0010\n",
            "Epoch 46/500\n",
            "\u001b[1m17/25\u001b[0m \u001b[32m━━━━━━━━━━━━━\u001b[0m\u001b[37m━━━━━━━\u001b[0m \u001b[1m0s\u001b[0m 7ms/step - custom_accuracy_without_padding: 0.5043 - custom_mse: 0.0440 - loss: 0.0474\n",
            "Epoch 46: val_loss improved from 0.04903 to 0.04850, saving model to /content/drive/MyDrive/10 Masters/Research/error-correcting-codes/ThisIsTheCleanest/weights/DCT_model_27.keras\n",
            "\u001b[1m25/25\u001b[0m \u001b[32m━━━━━━━━━━━━━━━━━━━━\u001b[0m\u001b[37m\u001b[0m \u001b[1m1s\u001b[0m 21ms/step - custom_accuracy_without_padding: 0.5047 - custom_mse: 0.0444 - loss: 0.0478 - val_custom_accuracy_without_padding: 0.4937 - val_custom_mse: 0.0455 - val_loss: 0.0485 - learning_rate: 0.0010\n",
            "Epoch 47/500\n",
            "\u001b[1m25/25\u001b[0m \u001b[32m━━━━━━━━━━━━━━━━━━━━\u001b[0m\u001b[37m\u001b[0m \u001b[1m0s\u001b[0m 4ms/step - custom_accuracy_without_padding: 0.5071 - custom_mse: 0.0452 - loss: 0.0486\n",
            "Epoch 47: val_loss improved from 0.04850 to 0.04831, saving model to /content/drive/MyDrive/10 Masters/Research/error-correcting-codes/ThisIsTheCleanest/weights/DCT_model_27.keras\n",
            "\u001b[1m25/25\u001b[0m \u001b[32m━━━━━━━━━━━━━━━━━━━━\u001b[0m\u001b[37m\u001b[0m \u001b[1m0s\u001b[0m 15ms/step - custom_accuracy_without_padding: 0.5072 - custom_mse: 0.0452 - loss: 0.0486 - val_custom_accuracy_without_padding: 0.5041 - val_custom_mse: 0.0453 - val_loss: 0.0483 - learning_rate: 0.0010\n",
            "Epoch 48/500\n",
            "\u001b[1m14/25\u001b[0m \u001b[32m━━━━━━━━━━━\u001b[0m\u001b[37m━━━━━━━━━\u001b[0m \u001b[1m0s\u001b[0m 4ms/step - custom_accuracy_without_padding: 0.5164 - custom_mse: 0.0443 - loss: 0.0476  \n",
            "Epoch 48: val_loss improved from 0.04831 to 0.04815, saving model to /content/drive/MyDrive/10 Masters/Research/error-correcting-codes/ThisIsTheCleanest/weights/DCT_model_27.keras\n",
            "\u001b[1m25/25\u001b[0m \u001b[32m━━━━━━━━━━━━━━━━━━━━\u001b[0m\u001b[37m\u001b[0m \u001b[1m1s\u001b[0m 14ms/step - custom_accuracy_without_padding: 0.5162 - custom_mse: 0.0444 - loss: 0.0478 - val_custom_accuracy_without_padding: 0.5061 - val_custom_mse: 0.0452 - val_loss: 0.0482 - learning_rate: 0.0010\n",
            "Epoch 49/500\n",
            "\u001b[1m25/25\u001b[0m \u001b[32m━━━━━━━━━━━━━━━━━━━━\u001b[0m\u001b[37m\u001b[0m \u001b[1m0s\u001b[0m 4ms/step - custom_accuracy_without_padding: 0.5151 - custom_mse: 0.0443 - loss: 0.0477\n",
            "Epoch 49: val_loss improved from 0.04815 to 0.04781, saving model to /content/drive/MyDrive/10 Masters/Research/error-correcting-codes/ThisIsTheCleanest/weights/DCT_model_27.keras\n",
            "\u001b[1m25/25\u001b[0m \u001b[32m━━━━━━━━━━━━━━━━━━━━\u001b[0m\u001b[37m\u001b[0m \u001b[1m1s\u001b[0m 15ms/step - custom_accuracy_without_padding: 0.5151 - custom_mse: 0.0443 - loss: 0.0476 - val_custom_accuracy_without_padding: 0.5048 - val_custom_mse: 0.0449 - val_loss: 0.0478 - learning_rate: 0.0010\n",
            "Epoch 50/500\n",
            "\u001b[1m14/25\u001b[0m \u001b[32m━━━━━━━━━━━\u001b[0m\u001b[37m━━━━━━━━━\u001b[0m \u001b[1m0s\u001b[0m 4ms/step - custom_accuracy_without_padding: 0.5247 - custom_mse: 0.0447 - loss: 0.0479  \n",
            "Epoch 50: val_loss improved from 0.04781 to 0.04754, saving model to /content/drive/MyDrive/10 Masters/Research/error-correcting-codes/ThisIsTheCleanest/weights/DCT_model_27.keras\n",
            "\u001b[1m25/25\u001b[0m \u001b[32m━━━━━━━━━━━━━━━━━━━━\u001b[0m\u001b[37m\u001b[0m \u001b[1m1s\u001b[0m 15ms/step - custom_accuracy_without_padding: 0.5248 - custom_mse: 0.0445 - loss: 0.0478 - val_custom_accuracy_without_padding: 0.5167 - val_custom_mse: 0.0447 - val_loss: 0.0475 - learning_rate: 0.0010\n",
            "Epoch 51/500\n",
            "\u001b[1m14/25\u001b[0m \u001b[32m━━━━━━━━━━━\u001b[0m\u001b[37m━━━━━━━━━\u001b[0m \u001b[1m0s\u001b[0m 4ms/step - custom_accuracy_without_padding: 0.5276 - custom_mse: 0.0446 - loss: 0.0479 \n",
            "Epoch 51: val_loss improved from 0.04754 to 0.04699, saving model to /content/drive/MyDrive/10 Masters/Research/error-correcting-codes/ThisIsTheCleanest/weights/DCT_model_27.keras\n",
            "\u001b[1m25/25\u001b[0m \u001b[32m━━━━━━━━━━━━━━━━━━━━\u001b[0m\u001b[37m\u001b[0m \u001b[1m0s\u001b[0m 14ms/step - custom_accuracy_without_padding: 0.5284 - custom_mse: 0.0442 - loss: 0.0475 - val_custom_accuracy_without_padding: 0.5200 - val_custom_mse: 0.0441 - val_loss: 0.0470 - learning_rate: 0.0010\n",
            "Epoch 52/500\n",
            "\u001b[1m14/25\u001b[0m \u001b[32m━━━━━━━━━━━\u001b[0m\u001b[37m━━━━━━━━━\u001b[0m \u001b[1m0s\u001b[0m 4ms/step - custom_accuracy_without_padding: 0.5308 - custom_mse: 0.0435 - loss: 0.0467 \n",
            "Epoch 52: val_loss improved from 0.04699 to 0.04690, saving model to /content/drive/MyDrive/10 Masters/Research/error-correcting-codes/ThisIsTheCleanest/weights/DCT_model_27.keras\n",
            "\u001b[1m25/25\u001b[0m \u001b[32m━━━━━━━━━━━━━━━━━━━━\u001b[0m\u001b[37m\u001b[0m \u001b[1m0s\u001b[0m 15ms/step - custom_accuracy_without_padding: 0.5316 - custom_mse: 0.0435 - loss: 0.0467 - val_custom_accuracy_without_padding: 0.5187 - val_custom_mse: 0.0439 - val_loss: 0.0469 - learning_rate: 0.0010\n",
            "Epoch 53/500\n",
            "\u001b[1m14/25\u001b[0m \u001b[32m━━━━━━━━━━━\u001b[0m\u001b[37m━━━━━━━━━\u001b[0m \u001b[1m0s\u001b[0m 4ms/step - custom_accuracy_without_padding: 0.5413 - custom_mse: 0.0427 - loss: 0.0459  \n",
            "Epoch 53: val_loss improved from 0.04690 to 0.04661, saving model to /content/drive/MyDrive/10 Masters/Research/error-correcting-codes/ThisIsTheCleanest/weights/DCT_model_27.keras\n",
            "\u001b[1m25/25\u001b[0m \u001b[32m━━━━━━━━━━━━━━━━━━━━\u001b[0m\u001b[37m\u001b[0m \u001b[1m1s\u001b[0m 14ms/step - custom_accuracy_without_padding: 0.5390 - custom_mse: 0.0429 - loss: 0.0461 - val_custom_accuracy_without_padding: 0.5298 - val_custom_mse: 0.0437 - val_loss: 0.0466 - learning_rate: 0.0010\n",
            "Epoch 54/500\n",
            "\u001b[1m13/25\u001b[0m \u001b[32m━━━━━━━━━━\u001b[0m\u001b[37m━━━━━━━━━━\u001b[0m \u001b[1m0s\u001b[0m 4ms/step - custom_accuracy_without_padding: 0.5379 - custom_mse: 0.0433 - loss: 0.0465  \n",
            "Epoch 54: val_loss improved from 0.04661 to 0.04621, saving model to /content/drive/MyDrive/10 Masters/Research/error-correcting-codes/ThisIsTheCleanest/weights/DCT_model_27.keras\n",
            "\u001b[1m25/25\u001b[0m \u001b[32m━━━━━━━━━━━━━━━━━━━━\u001b[0m\u001b[37m\u001b[0m \u001b[1m1s\u001b[0m 15ms/step - custom_accuracy_without_padding: 0.5386 - custom_mse: 0.0433 - loss: 0.0465 - val_custom_accuracy_without_padding: 0.5351 - val_custom_mse: 0.0434 - val_loss: 0.0462 - learning_rate: 0.0010\n",
            "Epoch 55/500\n",
            "\u001b[1m23/25\u001b[0m \u001b[32m━━━━━━━━━━━━━━━━━━\u001b[0m\u001b[37m━━\u001b[0m \u001b[1m0s\u001b[0m 5ms/step - custom_accuracy_without_padding: 0.5413 - custom_mse: 0.0429 - loss: 0.0461\n",
            "Epoch 55: val_loss improved from 0.04621 to 0.04590, saving model to /content/drive/MyDrive/10 Masters/Research/error-correcting-codes/ThisIsTheCleanest/weights/DCT_model_27.keras\n",
            "\u001b[1m25/25\u001b[0m \u001b[32m━━━━━━━━━━━━━━━━━━━━\u001b[0m\u001b[37m\u001b[0m \u001b[1m1s\u001b[0m 16ms/step - custom_accuracy_without_padding: 0.5417 - custom_mse: 0.0429 - loss: 0.0460 - val_custom_accuracy_without_padding: 0.5377 - val_custom_mse: 0.0430 - val_loss: 0.0459 - learning_rate: 0.0010\n",
            "Epoch 56/500\n",
            "\u001b[1m14/25\u001b[0m \u001b[32m━━━━━━━━━━━\u001b[0m\u001b[37m━━━━━━━━━\u001b[0m \u001b[1m0s\u001b[0m 4ms/step - custom_accuracy_without_padding: 0.5495 - custom_mse: 0.0423 - loss: 0.0455 \n",
            "Epoch 56: val_loss improved from 0.04590 to 0.04561, saving model to /content/drive/MyDrive/10 Masters/Research/error-correcting-codes/ThisIsTheCleanest/weights/DCT_model_27.keras\n",
            "\u001b[1m25/25\u001b[0m \u001b[32m━━━━━━━━━━━━━━━━━━━━\u001b[0m\u001b[37m\u001b[0m \u001b[1m0s\u001b[0m 14ms/step - custom_accuracy_without_padding: 0.5484 - custom_mse: 0.0424 - loss: 0.0456 - val_custom_accuracy_without_padding: 0.5430 - val_custom_mse: 0.0428 - val_loss: 0.0456 - learning_rate: 0.0010\n",
            "Epoch 57/500\n",
            "\u001b[1m14/25\u001b[0m \u001b[32m━━━━━━━━━━━\u001b[0m\u001b[37m━━━━━━━━━\u001b[0m \u001b[1m0s\u001b[0m 4ms/step - custom_accuracy_without_padding: 0.5514 - custom_mse: 0.0426 - loss: 0.0457 \n",
            "Epoch 57: val_loss improved from 0.04561 to 0.04555, saving model to /content/drive/MyDrive/10 Masters/Research/error-correcting-codes/ThisIsTheCleanest/weights/DCT_model_27.keras\n",
            "\u001b[1m25/25\u001b[0m \u001b[32m━━━━━━━━━━━━━━━━━━━━\u001b[0m\u001b[37m\u001b[0m \u001b[1m0s\u001b[0m 14ms/step - custom_accuracy_without_padding: 0.5509 - custom_mse: 0.0425 - loss: 0.0456 - val_custom_accuracy_without_padding: 0.5441 - val_custom_mse: 0.0427 - val_loss: 0.0455 - learning_rate: 0.0010\n",
            "Epoch 58/500\n",
            "\u001b[1m14/25\u001b[0m \u001b[32m━━━━━━━━━━━\u001b[0m\u001b[37m━━━━━━━━━\u001b[0m \u001b[1m0s\u001b[0m 4ms/step - custom_accuracy_without_padding: 0.5551 - custom_mse: 0.0413 - loss: 0.0444 \n",
            "Epoch 58: val_loss improved from 0.04555 to 0.04530, saving model to /content/drive/MyDrive/10 Masters/Research/error-correcting-codes/ThisIsTheCleanest/weights/DCT_model_27.keras\n",
            "\u001b[1m25/25\u001b[0m \u001b[32m━━━━━━━━━━━━━━━━━━━━\u001b[0m\u001b[37m\u001b[0m \u001b[1m0s\u001b[0m 14ms/step - custom_accuracy_without_padding: 0.5548 - custom_mse: 0.0416 - loss: 0.0447 - val_custom_accuracy_without_padding: 0.5539 - val_custom_mse: 0.0425 - val_loss: 0.0453 - learning_rate: 0.0010\n",
            "Epoch 59/500\n",
            "\u001b[1m14/25\u001b[0m \u001b[32m━━━━━━━━━━━\u001b[0m\u001b[37m━━━━━━━━━\u001b[0m \u001b[1m0s\u001b[0m 4ms/step - custom_accuracy_without_padding: 0.5604 - custom_mse: 0.0414 - loss: 0.0445 \n",
            "Epoch 59: val_loss improved from 0.04530 to 0.04482, saving model to /content/drive/MyDrive/10 Masters/Research/error-correcting-codes/ThisIsTheCleanest/weights/DCT_model_27.keras\n",
            "\u001b[1m25/25\u001b[0m \u001b[32m━━━━━━━━━━━━━━━━━━━━\u001b[0m\u001b[37m\u001b[0m \u001b[1m0s\u001b[0m 15ms/step - custom_accuracy_without_padding: 0.5596 - custom_mse: 0.0417 - loss: 0.0447 - val_custom_accuracy_without_padding: 0.5531 - val_custom_mse: 0.0420 - val_loss: 0.0448 - learning_rate: 0.0010\n",
            "Epoch 60/500\n",
            "\u001b[1m14/25\u001b[0m \u001b[32m━━━━━━━━━━━\u001b[0m\u001b[37m━━━━━━━━━\u001b[0m \u001b[1m0s\u001b[0m 4ms/step - custom_accuracy_without_padding: 0.5618 - custom_mse: 0.0420 - loss: 0.0450  \n",
            "Epoch 60: val_loss improved from 0.04482 to 0.04467, saving model to /content/drive/MyDrive/10 Masters/Research/error-correcting-codes/ThisIsTheCleanest/weights/DCT_model_27.keras\n",
            "\u001b[1m25/25\u001b[0m \u001b[32m━━━━━━━━━━━━━━━━━━━━\u001b[0m\u001b[37m\u001b[0m \u001b[1m1s\u001b[0m 15ms/step - custom_accuracy_without_padding: 0.5616 - custom_mse: 0.0418 - loss: 0.0448 - val_custom_accuracy_without_padding: 0.5546 - val_custom_mse: 0.0419 - val_loss: 0.0447 - learning_rate: 0.0010\n",
            "Epoch 61/500\n",
            "\u001b[1m14/25\u001b[0m \u001b[32m━━━━━━━━━━━\u001b[0m\u001b[37m━━━━━━━━━\u001b[0m \u001b[1m0s\u001b[0m 4ms/step - custom_accuracy_without_padding: 0.5627 - custom_mse: 0.0418 - loss: 0.0448  \n",
            "Epoch 61: val_loss improved from 0.04467 to 0.04446, saving model to /content/drive/MyDrive/10 Masters/Research/error-correcting-codes/ThisIsTheCleanest/weights/DCT_model_27.keras\n",
            "\u001b[1m25/25\u001b[0m \u001b[32m━━━━━━━━━━━━━━━━━━━━\u001b[0m\u001b[37m\u001b[0m \u001b[1m1s\u001b[0m 14ms/step - custom_accuracy_without_padding: 0.5633 - custom_mse: 0.0417 - loss: 0.0447 - val_custom_accuracy_without_padding: 0.5562 - val_custom_mse: 0.0417 - val_loss: 0.0445 - learning_rate: 0.0010\n",
            "Epoch 62/500\n",
            "\u001b[1m14/25\u001b[0m \u001b[32m━━━━━━━━━━━\u001b[0m\u001b[37m━━━━━━━━━\u001b[0m \u001b[1m0s\u001b[0m 4ms/step - custom_accuracy_without_padding: 0.5613 - custom_mse: 0.0410 - loss: 0.0440 \n",
            "Epoch 62: val_loss improved from 0.04446 to 0.04426, saving model to /content/drive/MyDrive/10 Masters/Research/error-correcting-codes/ThisIsTheCleanest/weights/DCT_model_27.keras\n",
            "\u001b[1m25/25\u001b[0m \u001b[32m━━━━━━━━━━━━━━━━━━━━\u001b[0m\u001b[37m\u001b[0m \u001b[1m0s\u001b[0m 15ms/step - custom_accuracy_without_padding: 0.5631 - custom_mse: 0.0411 - loss: 0.0441 - val_custom_accuracy_without_padding: 0.5628 - val_custom_mse: 0.0415 - val_loss: 0.0443 - learning_rate: 0.0010\n",
            "Epoch 63/500\n",
            "\u001b[1m13/25\u001b[0m \u001b[32m━━━━━━━━━━\u001b[0m\u001b[37m━━━━━━━━━━\u001b[0m \u001b[1m0s\u001b[0m 4ms/step - custom_accuracy_without_padding: 0.5627 - custom_mse: 0.0416 - loss: 0.0445  \n",
            "Epoch 63: val_loss improved from 0.04426 to 0.04411, saving model to /content/drive/MyDrive/10 Masters/Research/error-correcting-codes/ThisIsTheCleanest/weights/DCT_model_27.keras\n",
            "\u001b[1m25/25\u001b[0m \u001b[32m━━━━━━━━━━━━━━━━━━━━\u001b[0m\u001b[37m\u001b[0m \u001b[1m1s\u001b[0m 14ms/step - custom_accuracy_without_padding: 0.5658 - custom_mse: 0.0415 - loss: 0.0445 - val_custom_accuracy_without_padding: 0.5670 - val_custom_mse: 0.0413 - val_loss: 0.0441 - learning_rate: 0.0010\n",
            "Epoch 64/500\n",
            "\u001b[1m13/25\u001b[0m \u001b[32m━━━━━━━━━━\u001b[0m\u001b[37m━━━━━━━━━━\u001b[0m \u001b[1m0s\u001b[0m 4ms/step - custom_accuracy_without_padding: 0.5775 - custom_mse: 0.0412 - loss: 0.0441  \n",
            "Epoch 64: val_loss improved from 0.04411 to 0.04393, saving model to /content/drive/MyDrive/10 Masters/Research/error-correcting-codes/ThisIsTheCleanest/weights/DCT_model_27.keras\n",
            "\u001b[1m25/25\u001b[0m \u001b[32m━━━━━━━━━━━━━━━━━━━━\u001b[0m\u001b[37m\u001b[0m \u001b[1m1s\u001b[0m 14ms/step - custom_accuracy_without_padding: 0.5755 - custom_mse: 0.0411 - loss: 0.0441 - val_custom_accuracy_without_padding: 0.5658 - val_custom_mse: 0.0412 - val_loss: 0.0439 - learning_rate: 0.0010\n",
            "Epoch 65/500\n",
            "\u001b[1m14/25\u001b[0m \u001b[32m━━━━━━━━━━━\u001b[0m\u001b[37m━━━━━━━━━\u001b[0m \u001b[1m0s\u001b[0m 4ms/step - custom_accuracy_without_padding: 0.5775 - custom_mse: 0.0403 - loss: 0.0432 \n",
            "Epoch 65: val_loss improved from 0.04393 to 0.04363, saving model to /content/drive/MyDrive/10 Masters/Research/error-correcting-codes/ThisIsTheCleanest/weights/DCT_model_27.keras\n",
            "\u001b[1m25/25\u001b[0m \u001b[32m━━━━━━━━━━━━━━━━━━━━\u001b[0m\u001b[37m\u001b[0m \u001b[1m0s\u001b[0m 14ms/step - custom_accuracy_without_padding: 0.5768 - custom_mse: 0.0406 - loss: 0.0435 - val_custom_accuracy_without_padding: 0.5742 - val_custom_mse: 0.0410 - val_loss: 0.0436 - learning_rate: 0.0010\n",
            "Epoch 66/500\n",
            "\u001b[1m25/25\u001b[0m \u001b[32m━━━━━━━━━━━━━━━━━━━━\u001b[0m\u001b[37m\u001b[0m \u001b[1m0s\u001b[0m 4ms/step - custom_accuracy_without_padding: 0.5840 - custom_mse: 0.0403 - loss: 0.0431\n",
            "Epoch 66: val_loss improved from 0.04363 to 0.04342, saving model to /content/drive/MyDrive/10 Masters/Research/error-correcting-codes/ThisIsTheCleanest/weights/DCT_model_27.keras\n",
            "\u001b[1m25/25\u001b[0m \u001b[32m━━━━━━━━━━━━━━━━━━━━\u001b[0m\u001b[37m\u001b[0m \u001b[1m0s\u001b[0m 15ms/step - custom_accuracy_without_padding: 0.5839 - custom_mse: 0.0403 - loss: 0.0431 - val_custom_accuracy_without_padding: 0.5747 - val_custom_mse: 0.0407 - val_loss: 0.0434 - learning_rate: 0.0010\n",
            "Epoch 67/500\n",
            "\u001b[1m25/25\u001b[0m \u001b[32m━━━━━━━━━━━━━━━━━━━━\u001b[0m\u001b[37m\u001b[0m \u001b[1m0s\u001b[0m 6ms/step - custom_accuracy_without_padding: 0.5854 - custom_mse: 0.0403 - loss: 0.0432\n",
            "Epoch 67: val_loss improved from 0.04342 to 0.04328, saving model to /content/drive/MyDrive/10 Masters/Research/error-correcting-codes/ThisIsTheCleanest/weights/DCT_model_27.keras\n",
            "\u001b[1m25/25\u001b[0m \u001b[32m━━━━━━━━━━━━━━━━━━━━\u001b[0m\u001b[37m\u001b[0m \u001b[1m1s\u001b[0m 21ms/step - custom_accuracy_without_padding: 0.5853 - custom_mse: 0.0403 - loss: 0.0432 - val_custom_accuracy_without_padding: 0.5792 - val_custom_mse: 0.0406 - val_loss: 0.0433 - learning_rate: 0.0010\n",
            "Epoch 68/500\n",
            "\u001b[1m20/25\u001b[0m \u001b[32m━━━━━━━━━━━━━━━━\u001b[0m\u001b[37m━━━━\u001b[0m \u001b[1m0s\u001b[0m 6ms/step - custom_accuracy_without_padding: 0.5853 - custom_mse: 0.0394 - loss: 0.0422\n",
            "Epoch 68: val_loss did not improve from 0.04328\n",
            "\u001b[1m25/25\u001b[0m \u001b[32m━━━━━━━━━━━━━━━━━━━━\u001b[0m\u001b[37m\u001b[0m \u001b[1m0s\u001b[0m 10ms/step - custom_accuracy_without_padding: 0.5847 - custom_mse: 0.0396 - loss: 0.0425 - val_custom_accuracy_without_padding: 0.5823 - val_custom_mse: 0.0408 - val_loss: 0.0433 - learning_rate: 0.0010\n",
            "Epoch 69/500\n",
            "\u001b[1m24/25\u001b[0m \u001b[32m━━━━━━━━━━━━━━━━━━━\u001b[0m\u001b[37m━\u001b[0m \u001b[1m0s\u001b[0m 7ms/step - custom_accuracy_without_padding: 0.5837 - custom_mse: 0.0405 - loss: 0.0433\n",
            "Epoch 69: val_loss improved from 0.04328 to 0.04310, saving model to /content/drive/MyDrive/10 Masters/Research/error-correcting-codes/ThisIsTheCleanest/weights/DCT_model_27.keras\n",
            "\u001b[1m25/25\u001b[0m \u001b[32m━━━━━━━━━━━━━━━━━━━━\u001b[0m\u001b[37m\u001b[0m \u001b[1m1s\u001b[0m 45ms/step - custom_accuracy_without_padding: 0.5838 - custom_mse: 0.0405 - loss: 0.0433 - val_custom_accuracy_without_padding: 0.5852 - val_custom_mse: 0.0405 - val_loss: 0.0431 - learning_rate: 0.0010\n",
            "Epoch 70/500\n",
            "\u001b[1m14/25\u001b[0m \u001b[32m━━━━━━━━━━━\u001b[0m\u001b[37m━━━━━━━━━\u001b[0m \u001b[1m0s\u001b[0m 4ms/step - custom_accuracy_without_padding: 0.5849 - custom_mse: 0.0391 - loss: 0.0419  \n",
            "Epoch 70: val_loss improved from 0.04310 to 0.04299, saving model to /content/drive/MyDrive/10 Masters/Research/error-correcting-codes/ThisIsTheCleanest/weights/DCT_model_27.keras\n",
            "\u001b[1m25/25\u001b[0m \u001b[32m━━━━━━━━━━━━━━━━━━━━\u001b[0m\u001b[37m\u001b[0m \u001b[1m1s\u001b[0m 14ms/step - custom_accuracy_without_padding: 0.5864 - custom_mse: 0.0395 - loss: 0.0423 - val_custom_accuracy_without_padding: 0.5885 - val_custom_mse: 0.0406 - val_loss: 0.0430 - learning_rate: 0.0010\n",
            "Epoch 71/500\n",
            "\u001b[1m14/25\u001b[0m \u001b[32m━━━━━━━━━━━\u001b[0m\u001b[37m━━━━━━━━━\u001b[0m \u001b[1m0s\u001b[0m 4ms/step - custom_accuracy_without_padding: 0.5897 - custom_mse: 0.0404 - loss: 0.0431  \n",
            "Epoch 71: val_loss improved from 0.04299 to 0.04258, saving model to /content/drive/MyDrive/10 Masters/Research/error-correcting-codes/ThisIsTheCleanest/weights/DCT_model_27.keras\n",
            "\u001b[1m25/25\u001b[0m \u001b[32m━━━━━━━━━━━━━━━━━━━━\u001b[0m\u001b[37m\u001b[0m \u001b[1m1s\u001b[0m 14ms/step - custom_accuracy_without_padding: 0.5899 - custom_mse: 0.0404 - loss: 0.0431 - val_custom_accuracy_without_padding: 0.5901 - val_custom_mse: 0.0400 - val_loss: 0.0426 - learning_rate: 0.0010\n",
            "Epoch 72/500\n",
            "\u001b[1m14/25\u001b[0m \u001b[32m━━━━━━━━━━━\u001b[0m\u001b[37m━━━━━━━━━\u001b[0m \u001b[1m0s\u001b[0m 4ms/step - custom_accuracy_without_padding: 0.5938 - custom_mse: 0.0392 - loss: 0.0419 \n",
            "Epoch 72: val_loss improved from 0.04258 to 0.04247, saving model to /content/drive/MyDrive/10 Masters/Research/error-correcting-codes/ThisIsTheCleanest/weights/DCT_model_27.keras\n",
            "\u001b[1m25/25\u001b[0m \u001b[32m━━━━━━━━━━━━━━━━━━━━\u001b[0m\u001b[37m\u001b[0m \u001b[1m0s\u001b[0m 14ms/step - custom_accuracy_without_padding: 0.5926 - custom_mse: 0.0395 - loss: 0.0422 - val_custom_accuracy_without_padding: 0.5899 - val_custom_mse: 0.0399 - val_loss: 0.0425 - learning_rate: 0.0010\n",
            "Epoch 73/500\n",
            "\u001b[1m14/25\u001b[0m \u001b[32m━━━━━━━━━━━\u001b[0m\u001b[37m━━━━━━━━━\u001b[0m \u001b[1m0s\u001b[0m 4ms/step - custom_accuracy_without_padding: 0.5946 - custom_mse: 0.0400 - loss: 0.0427 \n",
            "Epoch 73: val_loss improved from 0.04247 to 0.04230, saving model to /content/drive/MyDrive/10 Masters/Research/error-correcting-codes/ThisIsTheCleanest/weights/DCT_model_27.keras\n",
            "\u001b[1m25/25\u001b[0m \u001b[32m━━━━━━━━━━━━━━━━━━━━\u001b[0m\u001b[37m\u001b[0m \u001b[1m0s\u001b[0m 15ms/step - custom_accuracy_without_padding: 0.5936 - custom_mse: 0.0401 - loss: 0.0428 - val_custom_accuracy_without_padding: 0.5895 - val_custom_mse: 0.0397 - val_loss: 0.0423 - learning_rate: 0.0010\n",
            "Epoch 74/500\n",
            "\u001b[1m14/25\u001b[0m \u001b[32m━━━━━━━━━━━\u001b[0m\u001b[37m━━━━━━━━━\u001b[0m \u001b[1m0s\u001b[0m 4ms/step - custom_accuracy_without_padding: 0.5927 - custom_mse: 0.0395 - loss: 0.0422 \n",
            "Epoch 74: val_loss improved from 0.04230 to 0.04209, saving model to /content/drive/MyDrive/10 Masters/Research/error-correcting-codes/ThisIsTheCleanest/weights/DCT_model_27.keras\n",
            "\u001b[1m25/25\u001b[0m \u001b[32m━━━━━━━━━━━━━━━━━━━━\u001b[0m\u001b[37m\u001b[0m \u001b[1m0s\u001b[0m 14ms/step - custom_accuracy_without_padding: 0.5929 - custom_mse: 0.0396 - loss: 0.0422 - val_custom_accuracy_without_padding: 0.5903 - val_custom_mse: 0.0396 - val_loss: 0.0421 - learning_rate: 0.0010\n",
            "Epoch 75/500\n",
            "\u001b[1m13/25\u001b[0m \u001b[32m━━━━━━━━━━\u001b[0m\u001b[37m━━━━━━━━━━\u001b[0m \u001b[1m0s\u001b[0m 4ms/step - custom_accuracy_without_padding: 0.5992 - custom_mse: 0.0388 - loss: 0.0414  \n",
            "Epoch 75: val_loss improved from 0.04209 to 0.04196, saving model to /content/drive/MyDrive/10 Masters/Research/error-correcting-codes/ThisIsTheCleanest/weights/DCT_model_27.keras\n",
            "\u001b[1m25/25\u001b[0m \u001b[32m━━━━━━━━━━━━━━━━━━━━\u001b[0m\u001b[37m\u001b[0m \u001b[1m1s\u001b[0m 16ms/step - custom_accuracy_without_padding: 0.5974 - custom_mse: 0.0390 - loss: 0.0417 - val_custom_accuracy_without_padding: 0.5952 - val_custom_mse: 0.0395 - val_loss: 0.0420 - learning_rate: 0.0010\n",
            "Epoch 76/500\n",
            "\u001b[1m25/25\u001b[0m \u001b[32m━━━━━━━━━━━━━━━━━━━━\u001b[0m\u001b[37m\u001b[0m \u001b[1m0s\u001b[0m 4ms/step - custom_accuracy_without_padding: 0.5972 - custom_mse: 0.0395 - loss: 0.0421\n",
            "Epoch 76: val_loss did not improve from 0.04196\n",
            "\u001b[1m25/25\u001b[0m \u001b[32m━━━━━━━━━━━━━━━━━━━━\u001b[0m\u001b[37m\u001b[0m \u001b[1m0s\u001b[0m 7ms/step - custom_accuracy_without_padding: 0.5972 - custom_mse: 0.0395 - loss: 0.0421 - val_custom_accuracy_without_padding: 0.5928 - val_custom_mse: 0.0398 - val_loss: 0.0423 - learning_rate: 0.0010\n",
            "Epoch 77/500\n",
            "\u001b[1m14/25\u001b[0m \u001b[32m━━━━━━━━━━━\u001b[0m\u001b[37m━━━━━━━━━\u001b[0m \u001b[1m0s\u001b[0m 4ms/step - custom_accuracy_without_padding: 0.5936 - custom_mse: 0.0394 - loss: 0.0420  \n",
            "Epoch 77: val_loss improved from 0.04196 to 0.04162, saving model to /content/drive/MyDrive/10 Masters/Research/error-correcting-codes/ThisIsTheCleanest/weights/DCT_model_27.keras\n",
            "\u001b[1m25/25\u001b[0m \u001b[32m━━━━━━━━━━━━━━━━━━━━\u001b[0m\u001b[37m\u001b[0m \u001b[1m0s\u001b[0m 15ms/step - custom_accuracy_without_padding: 0.5940 - custom_mse: 0.0393 - loss: 0.0419 - val_custom_accuracy_without_padding: 0.5942 - val_custom_mse: 0.0393 - val_loss: 0.0416 - learning_rate: 0.0010\n",
            "Epoch 78/500\n",
            "\u001b[1m13/25\u001b[0m \u001b[32m━━━━━━━━━━\u001b[0m\u001b[37m━━━━━━━━━━\u001b[0m \u001b[1m0s\u001b[0m 4ms/step - custom_accuracy_without_padding: 0.5981 - custom_mse: 0.0390 - loss: 0.0415  \n",
            "Epoch 78: val_loss did not improve from 0.04162\n",
            "\u001b[1m25/25\u001b[0m \u001b[32m━━━━━━━━━━━━━━━━━━━━\u001b[0m\u001b[37m\u001b[0m \u001b[1m0s\u001b[0m 7ms/step - custom_accuracy_without_padding: 0.5976 - custom_mse: 0.0388 - loss: 0.0414 - val_custom_accuracy_without_padding: 0.5946 - val_custom_mse: 0.0393 - val_loss: 0.0417 - learning_rate: 0.0010\n",
            "Epoch 79/500\n",
            "\u001b[1m14/25\u001b[0m \u001b[32m━━━━━━━━━━━\u001b[0m\u001b[37m━━━━━━━━━\u001b[0m \u001b[1m0s\u001b[0m 4ms/step - custom_accuracy_without_padding: 0.5999 - custom_mse: 0.0394 - loss: 0.0420  \n",
            "Epoch 79: val_loss improved from 0.04162 to 0.04149, saving model to /content/drive/MyDrive/10 Masters/Research/error-correcting-codes/ThisIsTheCleanest/weights/DCT_model_27.keras\n",
            "\u001b[1m25/25\u001b[0m \u001b[32m━━━━━━━━━━━━━━━━━━━━\u001b[0m\u001b[37m\u001b[0m \u001b[1m0s\u001b[0m 14ms/step - custom_accuracy_without_padding: 0.5993 - custom_mse: 0.0393 - loss: 0.0418 - val_custom_accuracy_without_padding: 0.5969 - val_custom_mse: 0.0391 - val_loss: 0.0415 - learning_rate: 0.0010\n",
            "Epoch 80/500\n",
            "\u001b[1m13/25\u001b[0m \u001b[32m━━━━━━━━━━\u001b[0m\u001b[37m━━━━━━━━━━\u001b[0m \u001b[1m0s\u001b[0m 4ms/step - custom_accuracy_without_padding: 0.5963 - custom_mse: 0.0391 - loss: 0.0416  \n",
            "Epoch 80: val_loss improved from 0.04149 to 0.04108, saving model to /content/drive/MyDrive/10 Masters/Research/error-correcting-codes/ThisIsTheCleanest/weights/DCT_model_27.keras\n",
            "\u001b[1m25/25\u001b[0m \u001b[32m━━━━━━━━━━━━━━━━━━━━\u001b[0m\u001b[37m\u001b[0m \u001b[1m1s\u001b[0m 14ms/step - custom_accuracy_without_padding: 0.5968 - custom_mse: 0.0389 - loss: 0.0414 - val_custom_accuracy_without_padding: 0.5987 - val_custom_mse: 0.0387 - val_loss: 0.0411 - learning_rate: 0.0010\n",
            "Epoch 81/500\n",
            "\u001b[1m13/25\u001b[0m \u001b[32m━━━━━━━━━━\u001b[0m\u001b[37m━━━━━━━━━━\u001b[0m \u001b[1m0s\u001b[0m 4ms/step - custom_accuracy_without_padding: 0.6038 - custom_mse: 0.0377 - loss: 0.0402  \n",
            "Epoch 81: val_loss improved from 0.04108 to 0.04095, saving model to /content/drive/MyDrive/10 Masters/Research/error-correcting-codes/ThisIsTheCleanest/weights/DCT_model_27.keras\n",
            "\u001b[1m25/25\u001b[0m \u001b[32m━━━━━━━━━━━━━━━━━━━━\u001b[0m\u001b[37m\u001b[0m \u001b[1m1s\u001b[0m 16ms/step - custom_accuracy_without_padding: 0.6018 - custom_mse: 0.0380 - loss: 0.0405 - val_custom_accuracy_without_padding: 0.5976 - val_custom_mse: 0.0386 - val_loss: 0.0409 - learning_rate: 0.0010\n",
            "Epoch 82/500\n",
            "\u001b[1m14/25\u001b[0m \u001b[32m━━━━━━━━━━━\u001b[0m\u001b[37m━━━━━━━━━\u001b[0m \u001b[1m0s\u001b[0m 4ms/step - custom_accuracy_without_padding: 0.6059 - custom_mse: 0.0378 - loss: 0.0403 \n",
            "Epoch 82: val_loss improved from 0.04095 to 0.04067, saving model to /content/drive/MyDrive/10 Masters/Research/error-correcting-codes/ThisIsTheCleanest/weights/DCT_model_27.keras\n",
            "\u001b[1m25/25\u001b[0m \u001b[32m━━━━━━━━━━━━━━━━━━━━\u001b[0m\u001b[37m\u001b[0m \u001b[1m0s\u001b[0m 15ms/step - custom_accuracy_without_padding: 0.6039 - custom_mse: 0.0381 - loss: 0.0405 - val_custom_accuracy_without_padding: 0.5995 - val_custom_mse: 0.0383 - val_loss: 0.0407 - learning_rate: 0.0010\n",
            "Epoch 83/500\n",
            "\u001b[1m14/25\u001b[0m \u001b[32m━━━━━━━━━━━\u001b[0m\u001b[37m━━━━━━━━━\u001b[0m \u001b[1m0s\u001b[0m 4ms/step - custom_accuracy_without_padding: 0.6017 - custom_mse: 0.0387 - loss: 0.0411  \n",
            "Epoch 83: val_loss improved from 0.04067 to 0.04064, saving model to /content/drive/MyDrive/10 Masters/Research/error-correcting-codes/ThisIsTheCleanest/weights/DCT_model_27.keras\n",
            "\u001b[1m25/25\u001b[0m \u001b[32m━━━━━━━━━━━━━━━━━━━━\u001b[0m\u001b[37m\u001b[0m \u001b[1m1s\u001b[0m 16ms/step - custom_accuracy_without_padding: 0.6014 - custom_mse: 0.0384 - loss: 0.0409 - val_custom_accuracy_without_padding: 0.5979 - val_custom_mse: 0.0383 - val_loss: 0.0406 - learning_rate: 0.0010\n",
            "Epoch 84/500\n",
            "\u001b[1m13/25\u001b[0m \u001b[32m━━━━━━━━━━\u001b[0m\u001b[37m━━━━━━━━━━\u001b[0m \u001b[1m0s\u001b[0m 4ms/step - custom_accuracy_without_padding: 0.6036 - custom_mse: 0.0379 - loss: 0.0403  \n",
            "Epoch 84: val_loss improved from 0.04064 to 0.04043, saving model to /content/drive/MyDrive/10 Masters/Research/error-correcting-codes/ThisIsTheCleanest/weights/DCT_model_27.keras\n",
            "\u001b[1m25/25\u001b[0m \u001b[32m━━━━━━━━━━━━━━━━━━━━\u001b[0m\u001b[37m\u001b[0m \u001b[1m1s\u001b[0m 14ms/step - custom_accuracy_without_padding: 0.6034 - custom_mse: 0.0379 - loss: 0.0404 - val_custom_accuracy_without_padding: 0.5980 - val_custom_mse: 0.0381 - val_loss: 0.0404 - learning_rate: 0.0010\n",
            "Epoch 85/500\n",
            "\u001b[1m14/25\u001b[0m \u001b[32m━━━━━━━━━━━\u001b[0m\u001b[37m━━━━━━━━━\u001b[0m \u001b[1m0s\u001b[0m 4ms/step - custom_accuracy_without_padding: 0.5975 - custom_mse: 0.0378 - loss: 0.0402 \n",
            "Epoch 85: val_loss improved from 0.04043 to 0.04026, saving model to /content/drive/MyDrive/10 Masters/Research/error-correcting-codes/ThisIsTheCleanest/weights/DCT_model_27.keras\n",
            "\u001b[1m25/25\u001b[0m \u001b[32m━━━━━━━━━━━━━━━━━━━━\u001b[0m\u001b[37m\u001b[0m \u001b[1m0s\u001b[0m 15ms/step - custom_accuracy_without_padding: 0.5998 - custom_mse: 0.0379 - loss: 0.0403 - val_custom_accuracy_without_padding: 0.6040 - val_custom_mse: 0.0380 - val_loss: 0.0403 - learning_rate: 0.0010\n",
            "Epoch 86/500\n",
            "\u001b[1m24/25\u001b[0m \u001b[32m━━━━━━━━━━━━━━━━━━━\u001b[0m\u001b[37m━\u001b[0m \u001b[1m0s\u001b[0m 8ms/step - custom_accuracy_without_padding: 0.6026 - custom_mse: 0.0383 - loss: 0.0407\n",
            "Epoch 86: val_loss did not improve from 0.04026\n",
            "\u001b[1m25/25\u001b[0m \u001b[32m━━━━━━━━━━━━━━━━━━━━\u001b[0m\u001b[37m\u001b[0m \u001b[1m1s\u001b[0m 20ms/step - custom_accuracy_without_padding: 0.6027 - custom_mse: 0.0383 - loss: 0.0406 - val_custom_accuracy_without_padding: 0.6048 - val_custom_mse: 0.0380 - val_loss: 0.0403 - learning_rate: 0.0010\n",
            "Epoch 87/500\n",
            "\u001b[1m24/25\u001b[0m \u001b[32m━━━━━━━━━━━━━━━━━━━\u001b[0m\u001b[37m━\u001b[0m \u001b[1m0s\u001b[0m 4ms/step - custom_accuracy_without_padding: 0.6066 - custom_mse: 0.0379 - loss: 0.0402\n",
            "Epoch 87: val_loss improved from 0.04026 to 0.04010, saving model to /content/drive/MyDrive/10 Masters/Research/error-correcting-codes/ThisIsTheCleanest/weights/DCT_model_27.keras\n",
            "\u001b[1m25/25\u001b[0m \u001b[32m━━━━━━━━━━━━━━━━━━━━\u001b[0m\u001b[37m\u001b[0m \u001b[1m0s\u001b[0m 15ms/step - custom_accuracy_without_padding: 0.6066 - custom_mse: 0.0379 - loss: 0.0402 - val_custom_accuracy_without_padding: 0.6068 - val_custom_mse: 0.0379 - val_loss: 0.0401 - learning_rate: 0.0010\n",
            "Epoch 88/500\n",
            "\u001b[1m23/25\u001b[0m \u001b[32m━━━━━━━━━━━━━━━━━━\u001b[0m\u001b[37m━━\u001b[0m \u001b[1m0s\u001b[0m 12ms/step - custom_accuracy_without_padding: 0.6112 - custom_mse: 0.0375 - loss: 0.0398\n",
            "Epoch 88: val_loss improved from 0.04010 to 0.03970, saving model to /content/drive/MyDrive/10 Masters/Research/error-correcting-codes/ThisIsTheCleanest/weights/DCT_model_27.keras\n",
            "\u001b[1m25/25\u001b[0m \u001b[32m━━━━━━━━━━━━━━━━━━━━\u001b[0m\u001b[37m\u001b[0m \u001b[1m1s\u001b[0m 25ms/step - custom_accuracy_without_padding: 0.6110 - custom_mse: 0.0375 - loss: 0.0398 - val_custom_accuracy_without_padding: 0.6103 - val_custom_mse: 0.0375 - val_loss: 0.0397 - learning_rate: 0.0010\n",
            "Epoch 89/500\n",
            "\u001b[1m18/25\u001b[0m \u001b[32m━━━━━━━━━━━━━━\u001b[0m\u001b[37m━━━━━━\u001b[0m \u001b[1m0s\u001b[0m 6ms/step - custom_accuracy_without_padding: 0.6094 - custom_mse: 0.0370 - loss: 0.0393\n",
            "Epoch 89: val_loss did not improve from 0.03970\n",
            "\u001b[1m25/25\u001b[0m \u001b[32m━━━━━━━━━━━━━━━━━━━━\u001b[0m\u001b[37m\u001b[0m \u001b[1m0s\u001b[0m 11ms/step - custom_accuracy_without_padding: 0.6093 - custom_mse: 0.0371 - loss: 0.0394 - val_custom_accuracy_without_padding: 0.6060 - val_custom_mse: 0.0381 - val_loss: 0.0401 - learning_rate: 0.0010\n",
            "Epoch 90/500\n",
            "\u001b[1m25/25\u001b[0m \u001b[32m━━━━━━━━━━━━━━━━━━━━\u001b[0m\u001b[37m\u001b[0m \u001b[1m0s\u001b[0m 7ms/step - custom_accuracy_without_padding: 0.6093 - custom_mse: 0.0376 - loss: 0.0399\n",
            "Epoch 90: val_loss improved from 0.03970 to 0.03953, saving model to /content/drive/MyDrive/10 Masters/Research/error-correcting-codes/ThisIsTheCleanest/weights/DCT_model_27.keras\n",
            "\u001b[1m25/25\u001b[0m \u001b[32m━━━━━━━━━━━━━━━━━━━━\u001b[0m\u001b[37m\u001b[0m \u001b[1m1s\u001b[0m 20ms/step - custom_accuracy_without_padding: 0.6094 - custom_mse: 0.0376 - loss: 0.0399 - val_custom_accuracy_without_padding: 0.6118 - val_custom_mse: 0.0374 - val_loss: 0.0395 - learning_rate: 0.0010\n",
            "Epoch 91/500\n",
            "\u001b[1m19/25\u001b[0m \u001b[32m━━━━━━━━━━━━━━━\u001b[0m\u001b[37m━━━━━\u001b[0m \u001b[1m0s\u001b[0m 6ms/step - custom_accuracy_without_padding: 0.6090 - custom_mse: 0.0373 - loss: 0.0396\n",
            "Epoch 91: val_loss improved from 0.03953 to 0.03938, saving model to /content/drive/MyDrive/10 Masters/Research/error-correcting-codes/ThisIsTheCleanest/weights/DCT_model_27.keras\n",
            "\u001b[1m25/25\u001b[0m \u001b[32m━━━━━━━━━━━━━━━━━━━━\u001b[0m\u001b[37m\u001b[0m \u001b[1m1s\u001b[0m 20ms/step - custom_accuracy_without_padding: 0.6101 - custom_mse: 0.0373 - loss: 0.0396 - val_custom_accuracy_without_padding: 0.6143 - val_custom_mse: 0.0372 - val_loss: 0.0394 - learning_rate: 0.0010\n",
            "Epoch 92/500\n",
            "\u001b[1m23/25\u001b[0m \u001b[32m━━━━━━━━━━━━━━━━━━\u001b[0m\u001b[37m━━\u001b[0m \u001b[1m0s\u001b[0m 5ms/step - custom_accuracy_without_padding: 0.6146 - custom_mse: 0.0368 - loss: 0.0391\n",
            "Epoch 92: val_loss improved from 0.03938 to 0.03926, saving model to /content/drive/MyDrive/10 Masters/Research/error-correcting-codes/ThisIsTheCleanest/weights/DCT_model_27.keras\n",
            "\u001b[1m25/25\u001b[0m \u001b[32m━━━━━━━━━━━━━━━━━━━━\u001b[0m\u001b[37m\u001b[0m \u001b[1m0s\u001b[0m 15ms/step - custom_accuracy_without_padding: 0.6147 - custom_mse: 0.0369 - loss: 0.0391 - val_custom_accuracy_without_padding: 0.6197 - val_custom_mse: 0.0371 - val_loss: 0.0393 - learning_rate: 0.0010\n",
            "Epoch 93/500\n",
            "\u001b[1m13/25\u001b[0m \u001b[32m━━━━━━━━━━\u001b[0m\u001b[37m━━━━━━━━━━\u001b[0m \u001b[1m0s\u001b[0m 4ms/step - custom_accuracy_without_padding: 0.6174 - custom_mse: 0.0370 - loss: 0.0392  \n",
            "Epoch 93: val_loss did not improve from 0.03926\n",
            "\u001b[1m25/25\u001b[0m \u001b[32m━━━━━━━━━━━━━━━━━━━━\u001b[0m\u001b[37m\u001b[0m \u001b[1m0s\u001b[0m 7ms/step - custom_accuracy_without_padding: 0.6182 - custom_mse: 0.0370 - loss: 0.0392 - val_custom_accuracy_without_padding: 0.6207 - val_custom_mse: 0.0372 - val_loss: 0.0393 - learning_rate: 0.0010\n",
            "Epoch 94/500\n",
            "\u001b[1m13/25\u001b[0m \u001b[32m━━━━━━━━━━\u001b[0m\u001b[37m━━━━━━━━━━\u001b[0m \u001b[1m0s\u001b[0m 4ms/step - custom_accuracy_without_padding: 0.6163 - custom_mse: 0.0371 - loss: 0.0393  \n",
            "Epoch 94: val_loss improved from 0.03926 to 0.03889, saving model to /content/drive/MyDrive/10 Masters/Research/error-correcting-codes/ThisIsTheCleanest/weights/DCT_model_27.keras\n",
            "\u001b[1m25/25\u001b[0m \u001b[32m━━━━━━━━━━━━━━━━━━━━\u001b[0m\u001b[37m\u001b[0m \u001b[1m1s\u001b[0m 16ms/step - custom_accuracy_without_padding: 0.6180 - custom_mse: 0.0371 - loss: 0.0393 - val_custom_accuracy_without_padding: 0.6210 - val_custom_mse: 0.0368 - val_loss: 0.0389 - learning_rate: 0.0010\n",
            "Epoch 95/500\n",
            "\u001b[1m13/25\u001b[0m \u001b[32m━━━━━━━━━━\u001b[0m\u001b[37m━━━━━━━━━━\u001b[0m \u001b[1m0s\u001b[0m 4ms/step - custom_accuracy_without_padding: 0.6254 - custom_mse: 0.0368 - loss: 0.0390 \n",
            "Epoch 95: val_loss improved from 0.03889 to 0.03886, saving model to /content/drive/MyDrive/10 Masters/Research/error-correcting-codes/ThisIsTheCleanest/weights/DCT_model_27.keras\n",
            "\u001b[1m25/25\u001b[0m \u001b[32m━━━━━━━━━━━━━━━━━━━━\u001b[0m\u001b[37m\u001b[0m \u001b[1m0s\u001b[0m 14ms/step - custom_accuracy_without_padding: 0.6242 - custom_mse: 0.0369 - loss: 0.0390 - val_custom_accuracy_without_padding: 0.6184 - val_custom_mse: 0.0369 - val_loss: 0.0389 - learning_rate: 0.0010\n",
            "Epoch 96/500\n",
            "\u001b[1m13/25\u001b[0m \u001b[32m━━━━━━━━━━\u001b[0m\u001b[37m━━━━━━━━━━\u001b[0m \u001b[1m0s\u001b[0m 4ms/step - custom_accuracy_without_padding: 0.6281 - custom_mse: 0.0365 - loss: 0.0386  \n",
            "Epoch 96: val_loss improved from 0.03886 to 0.03855, saving model to /content/drive/MyDrive/10 Masters/Research/error-correcting-codes/ThisIsTheCleanest/weights/DCT_model_27.keras\n",
            "\u001b[1m25/25\u001b[0m \u001b[32m━━━━━━━━━━━━━━━━━━━━\u001b[0m\u001b[37m\u001b[0m \u001b[1m1s\u001b[0m 15ms/step - custom_accuracy_without_padding: 0.6269 - custom_mse: 0.0365 - loss: 0.0387 - val_custom_accuracy_without_padding: 0.6233 - val_custom_mse: 0.0366 - val_loss: 0.0385 - learning_rate: 0.0010\n",
            "Epoch 97/500\n",
            "\u001b[1m13/25\u001b[0m \u001b[32m━━━━━━━━━━\u001b[0m\u001b[37m━━━━━━━━━━\u001b[0m \u001b[1m0s\u001b[0m 4ms/step - custom_accuracy_without_padding: 0.6269 - custom_mse: 0.0364 - loss: 0.0386 \n",
            "Epoch 97: val_loss did not improve from 0.03855\n",
            "\u001b[1m25/25\u001b[0m \u001b[32m━━━━━━━━━━━━━━━━━━━━\u001b[0m\u001b[37m\u001b[0m \u001b[1m0s\u001b[0m 7ms/step - custom_accuracy_without_padding: 0.6265 - custom_mse: 0.0365 - loss: 0.0386 - val_custom_accuracy_without_padding: 0.6252 - val_custom_mse: 0.0370 - val_loss: 0.0390 - learning_rate: 0.0010\n",
            "Epoch 98/500\n",
            "\u001b[1m13/25\u001b[0m \u001b[32m━━━━━━━━━━\u001b[0m\u001b[37m━━━━━━━━━━\u001b[0m \u001b[1m0s\u001b[0m 4ms/step - custom_accuracy_without_padding: 0.6261 - custom_mse: 0.0359 - loss: 0.0380  \n",
            "Epoch 98: val_loss did not improve from 0.03855\n",
            "\u001b[1m25/25\u001b[0m \u001b[32m━━━━━━━━━━━━━━━━━━━━\u001b[0m\u001b[37m\u001b[0m \u001b[1m0s\u001b[0m 7ms/step - custom_accuracy_without_padding: 0.6249 - custom_mse: 0.0362 - loss: 0.0383 - val_custom_accuracy_without_padding: 0.6285 - val_custom_mse: 0.0368 - val_loss: 0.0388 - learning_rate: 0.0010\n",
            "Epoch 99/500\n",
            "\u001b[1m13/25\u001b[0m \u001b[32m━━━━━━━━━━\u001b[0m\u001b[37m━━━━━━━━━━\u001b[0m \u001b[1m0s\u001b[0m 4ms/step - custom_accuracy_without_padding: 0.6302 - custom_mse: 0.0363 - loss: 0.0384 \n",
            "Epoch 99: val_loss improved from 0.03855 to 0.03845, saving model to /content/drive/MyDrive/10 Masters/Research/error-correcting-codes/ThisIsTheCleanest/weights/DCT_model_27.keras\n",
            "\u001b[1m25/25\u001b[0m \u001b[32m━━━━━━━━━━━━━━━━━━━━\u001b[0m\u001b[37m\u001b[0m \u001b[1m0s\u001b[0m 14ms/step - custom_accuracy_without_padding: 0.6292 - custom_mse: 0.0362 - loss: 0.0383 - val_custom_accuracy_without_padding: 0.6326 - val_custom_mse: 0.0366 - val_loss: 0.0385 - learning_rate: 0.0010\n",
            "Epoch 100/500\n",
            "\u001b[1m13/25\u001b[0m \u001b[32m━━━━━━━━━━\u001b[0m\u001b[37m━━━━━━━━━━\u001b[0m \u001b[1m0s\u001b[0m 4ms/step - custom_accuracy_without_padding: 0.6324 - custom_mse: 0.0361 - loss: 0.0382 \n",
            "Epoch 100: val_loss did not improve from 0.03845\n",
            "\u001b[1m25/25\u001b[0m \u001b[32m━━━━━━━━━━━━━━━━━━━━\u001b[0m\u001b[37m\u001b[0m \u001b[1m0s\u001b[0m 7ms/step - custom_accuracy_without_padding: 0.6299 - custom_mse: 0.0361 - loss: 0.0382 - val_custom_accuracy_without_padding: 0.6288 - val_custom_mse: 0.0365 - val_loss: 0.0385 - learning_rate: 0.0010\n",
            "Epoch 101/500\n",
            "\u001b[1m14/25\u001b[0m \u001b[32m━━━━━━━━━━━\u001b[0m\u001b[37m━━━━━━━━━\u001b[0m \u001b[1m0s\u001b[0m 4ms/step - custom_accuracy_without_padding: 0.6332 - custom_mse: 0.0361 - loss: 0.0382  \n",
            "Epoch 101: val_loss improved from 0.03845 to 0.03815, saving model to /content/drive/MyDrive/10 Masters/Research/error-correcting-codes/ThisIsTheCleanest/weights/DCT_model_27.keras\n",
            "\u001b[1m25/25\u001b[0m \u001b[32m━━━━━━━━━━━━━━━━━━━━\u001b[0m\u001b[37m\u001b[0m \u001b[1m1s\u001b[0m 16ms/step - custom_accuracy_without_padding: 0.6329 - custom_mse: 0.0361 - loss: 0.0382 - val_custom_accuracy_without_padding: 0.6308 - val_custom_mse: 0.0363 - val_loss: 0.0382 - learning_rate: 0.0010\n",
            "Epoch 102/500\n",
            "\u001b[1m14/25\u001b[0m \u001b[32m━━━━━━━━━━━\u001b[0m\u001b[37m━━━━━━━━━\u001b[0m \u001b[1m0s\u001b[0m 4ms/step - custom_accuracy_without_padding: 0.6354 - custom_mse: 0.0352 - loss: 0.0373 \n",
            "Epoch 102: val_loss improved from 0.03815 to 0.03811, saving model to /content/drive/MyDrive/10 Masters/Research/error-correcting-codes/ThisIsTheCleanest/weights/DCT_model_27.keras\n",
            "\u001b[1m25/25\u001b[0m \u001b[32m━━━━━━━━━━━━━━━━━━━━\u001b[0m\u001b[37m\u001b[0m \u001b[1m0s\u001b[0m 16ms/step - custom_accuracy_without_padding: 0.6349 - custom_mse: 0.0355 - loss: 0.0376 - val_custom_accuracy_without_padding: 0.6333 - val_custom_mse: 0.0362 - val_loss: 0.0381 - learning_rate: 0.0010\n",
            "Epoch 103/500\n",
            "\u001b[1m14/25\u001b[0m \u001b[32m━━━━━━━━━━━\u001b[0m\u001b[37m━━━━━━━━━\u001b[0m \u001b[1m0s\u001b[0m 4ms/step - custom_accuracy_without_padding: 0.6356 - custom_mse: 0.0363 - loss: 0.0383 \n",
            "Epoch 103: val_loss did not improve from 0.03811\n",
            "\u001b[1m25/25\u001b[0m \u001b[32m━━━━━━━━━━━━━━━━━━━━\u001b[0m\u001b[37m\u001b[0m \u001b[1m0s\u001b[0m 7ms/step - custom_accuracy_without_padding: 0.6350 - custom_mse: 0.0361 - loss: 0.0381 - val_custom_accuracy_without_padding: 0.6263 - val_custom_mse: 0.0364 - val_loss: 0.0384 - learning_rate: 0.0010\n",
            "Epoch 104/500\n",
            "\u001b[1m13/25\u001b[0m \u001b[32m━━━━━━━━━━\u001b[0m\u001b[37m━━━━━━━━━━\u001b[0m \u001b[1m0s\u001b[0m 4ms/step - custom_accuracy_without_padding: 0.6380 - custom_mse: 0.0360 - loss: 0.0380 \n",
            "Epoch 104: val_loss improved from 0.03811 to 0.03763, saving model to /content/drive/MyDrive/10 Masters/Research/error-correcting-codes/ThisIsTheCleanest/weights/DCT_model_27.keras\n",
            "\u001b[1m25/25\u001b[0m \u001b[32m━━━━━━━━━━━━━━━━━━━━\u001b[0m\u001b[37m\u001b[0m \u001b[1m0s\u001b[0m 14ms/step - custom_accuracy_without_padding: 0.6372 - custom_mse: 0.0360 - loss: 0.0380 - val_custom_accuracy_without_padding: 0.6386 - val_custom_mse: 0.0359 - val_loss: 0.0376 - learning_rate: 0.0010\n",
            "Epoch 105/500\n",
            "\u001b[1m24/25\u001b[0m \u001b[32m━━━━━━━━━━━━━━━━━━━\u001b[0m\u001b[37m━\u001b[0m \u001b[1m0s\u001b[0m 5ms/step - custom_accuracy_without_padding: 0.6395 - custom_mse: 0.0357 - loss: 0.0377\n",
            "Epoch 105: val_loss improved from 0.03763 to 0.03746, saving model to /content/drive/MyDrive/10 Masters/Research/error-correcting-codes/ThisIsTheCleanest/weights/DCT_model_27.keras\n",
            "\u001b[1m25/25\u001b[0m \u001b[32m━━━━━━━━━━━━━━━━━━━━\u001b[0m\u001b[37m\u001b[0m \u001b[1m1s\u001b[0m 15ms/step - custom_accuracy_without_padding: 0.6394 - custom_mse: 0.0357 - loss: 0.0377 - val_custom_accuracy_without_padding: 0.6356 - val_custom_mse: 0.0356 - val_loss: 0.0375 - learning_rate: 0.0010\n",
            "Epoch 106/500\n",
            "\u001b[1m25/25\u001b[0m \u001b[32m━━━━━━━━━━━━━━━━━━━━\u001b[0m\u001b[37m\u001b[0m \u001b[1m0s\u001b[0m 4ms/step - custom_accuracy_without_padding: 0.6375 - custom_mse: 0.0357 - loss: 0.0377\n",
            "Epoch 106: val_loss did not improve from 0.03746\n",
            "\u001b[1m25/25\u001b[0m \u001b[32m━━━━━━━━━━━━━━━━━━━━\u001b[0m\u001b[37m\u001b[0m \u001b[1m0s\u001b[0m 7ms/step - custom_accuracy_without_padding: 0.6376 - custom_mse: 0.0357 - loss: 0.0377 - val_custom_accuracy_without_padding: 0.6351 - val_custom_mse: 0.0356 - val_loss: 0.0375 - learning_rate: 0.0010\n",
            "Epoch 107/500\n",
            "\u001b[1m14/25\u001b[0m \u001b[32m━━━━━━━━━━━\u001b[0m\u001b[37m━━━━━━━━━\u001b[0m \u001b[1m0s\u001b[0m 4ms/step - custom_accuracy_without_padding: 0.6386 - custom_mse: 0.0361 - loss: 0.0381 \n",
            "Epoch 107: val_loss did not improve from 0.03746\n",
            "\u001b[1m25/25\u001b[0m \u001b[32m━━━━━━━━━━━━━━━━━━━━\u001b[0m\u001b[37m\u001b[0m \u001b[1m0s\u001b[0m 7ms/step - custom_accuracy_without_padding: 0.6390 - custom_mse: 0.0360 - loss: 0.0379 - val_custom_accuracy_without_padding: 0.6338 - val_custom_mse: 0.0357 - val_loss: 0.0376 - learning_rate: 0.0010\n",
            "Epoch 108/500\n",
            "\u001b[1m14/25\u001b[0m \u001b[32m━━━━━━━━━━━\u001b[0m\u001b[37m━━━━━━━━━\u001b[0m \u001b[1m0s\u001b[0m 4ms/step - custom_accuracy_without_padding: 0.6397 - custom_mse: 0.0351 - loss: 0.0370 \n",
            "Epoch 108: val_loss did not improve from 0.03746\n",
            "\u001b[1m25/25\u001b[0m \u001b[32m━━━━━━━━━━━━━━━━━━━━\u001b[0m\u001b[37m\u001b[0m \u001b[1m0s\u001b[0m 7ms/step - custom_accuracy_without_padding: 0.6394 - custom_mse: 0.0352 - loss: 0.0372 - val_custom_accuracy_without_padding: 0.6336 - val_custom_mse: 0.0356 - val_loss: 0.0375 - learning_rate: 0.0010\n",
            "Epoch 109/500\n",
            "\u001b[1m14/25\u001b[0m \u001b[32m━━━━━━━━━━━\u001b[0m\u001b[37m━━━━━━━━━\u001b[0m \u001b[1m0s\u001b[0m 4ms/step - custom_accuracy_without_padding: 0.6349 - custom_mse: 0.0356 - loss: 0.0375 \n",
            "Epoch 109: val_loss improved from 0.03746 to 0.03723, saving model to /content/drive/MyDrive/10 Masters/Research/error-correcting-codes/ThisIsTheCleanest/weights/DCT_model_27.keras\n",
            "\u001b[1m25/25\u001b[0m \u001b[32m━━━━━━━━━━━━━━━━━━━━\u001b[0m\u001b[37m\u001b[0m \u001b[1m0s\u001b[0m 15ms/step - custom_accuracy_without_padding: 0.6366 - custom_mse: 0.0356 - loss: 0.0375 - val_custom_accuracy_without_padding: 0.6478 - val_custom_mse: 0.0355 - val_loss: 0.0372 - learning_rate: 0.0010\n",
            "Epoch 110/500\n",
            "\u001b[1m14/25\u001b[0m \u001b[32m━━━━━━━━━━━\u001b[0m\u001b[37m━━━━━━━━━\u001b[0m \u001b[1m0s\u001b[0m 4ms/step - custom_accuracy_without_padding: 0.6447 - custom_mse: 0.0354 - loss: 0.0373 \n",
            "Epoch 110: val_loss improved from 0.03723 to 0.03714, saving model to /content/drive/MyDrive/10 Masters/Research/error-correcting-codes/ThisIsTheCleanest/weights/DCT_model_27.keras\n",
            "\u001b[1m25/25\u001b[0m \u001b[32m━━━━━━━━━━━━━━━━━━━━\u001b[0m\u001b[37m\u001b[0m \u001b[1m0s\u001b[0m 16ms/step - custom_accuracy_without_padding: 0.6437 - custom_mse: 0.0353 - loss: 0.0372 - val_custom_accuracy_without_padding: 0.6407 - val_custom_mse: 0.0353 - val_loss: 0.0371 - learning_rate: 0.0010\n",
            "Epoch 111/500\n",
            "\u001b[1m14/25\u001b[0m \u001b[32m━━━━━━━━━━━\u001b[0m\u001b[37m━━━━━━━━━\u001b[0m \u001b[1m0s\u001b[0m 4ms/step - custom_accuracy_without_padding: 0.6458 - custom_mse: 0.0351 - loss: 0.0370 \n",
            "Epoch 111: val_loss improved from 0.03714 to 0.03701, saving model to /content/drive/MyDrive/10 Masters/Research/error-correcting-codes/ThisIsTheCleanest/weights/DCT_model_27.keras\n",
            "\u001b[1m25/25\u001b[0m \u001b[32m━━━━━━━━━━━━━━━━━━━━\u001b[0m\u001b[37m\u001b[0m \u001b[1m0s\u001b[0m 15ms/step - custom_accuracy_without_padding: 0.6461 - custom_mse: 0.0352 - loss: 0.0371 - val_custom_accuracy_without_padding: 0.6442 - val_custom_mse: 0.0353 - val_loss: 0.0370 - learning_rate: 0.0010\n",
            "Epoch 112/500\n",
            "\u001b[1m14/25\u001b[0m \u001b[32m━━━━━━━━━━━\u001b[0m\u001b[37m━━━━━━━━━\u001b[0m \u001b[1m0s\u001b[0m 4ms/step - custom_accuracy_without_padding: 0.6439 - custom_mse: 0.0351 - loss: 0.0369 \n",
            "Epoch 112: val_loss improved from 0.03701 to 0.03685, saving model to /content/drive/MyDrive/10 Masters/Research/error-correcting-codes/ThisIsTheCleanest/weights/DCT_model_27.keras\n",
            "\u001b[1m25/25\u001b[0m \u001b[32m━━━━━━━━━━━━━━━━━━━━\u001b[0m\u001b[37m\u001b[0m \u001b[1m0s\u001b[0m 14ms/step - custom_accuracy_without_padding: 0.6452 - custom_mse: 0.0351 - loss: 0.0370 - val_custom_accuracy_without_padding: 0.6463 - val_custom_mse: 0.0350 - val_loss: 0.0369 - learning_rate: 0.0010\n",
            "Epoch 113/500\n",
            "\u001b[1m23/25\u001b[0m \u001b[32m━━━━━━━━━━━━━━━━━━\u001b[0m\u001b[37m━━\u001b[0m \u001b[1m0s\u001b[0m 5ms/step - custom_accuracy_without_padding: 0.6477 - custom_mse: 0.0346 - loss: 0.0364\n",
            "Epoch 113: val_loss improved from 0.03685 to 0.03669, saving model to /content/drive/MyDrive/10 Masters/Research/error-correcting-codes/ThisIsTheCleanest/weights/DCT_model_27.keras\n",
            "\u001b[1m25/25\u001b[0m \u001b[32m━━━━━━━━━━━━━━━━━━━━\u001b[0m\u001b[37m\u001b[0m \u001b[1m0s\u001b[0m 16ms/step - custom_accuracy_without_padding: 0.6477 - custom_mse: 0.0346 - loss: 0.0365 - val_custom_accuracy_without_padding: 0.6488 - val_custom_mse: 0.0350 - val_loss: 0.0367 - learning_rate: 0.0010\n",
            "Epoch 114/500\n",
            "\u001b[1m13/25\u001b[0m \u001b[32m━━━━━━━━━━\u001b[0m\u001b[37m━━━━━━━━━━\u001b[0m \u001b[1m0s\u001b[0m 4ms/step - custom_accuracy_without_padding: 0.6509 - custom_mse: 0.0351 - loss: 0.0369  \n",
            "Epoch 114: val_loss improved from 0.03669 to 0.03656, saving model to /content/drive/MyDrive/10 Masters/Research/error-correcting-codes/ThisIsTheCleanest/weights/DCT_model_27.keras\n",
            "\u001b[1m25/25\u001b[0m \u001b[32m━━━━━━━━━━━━━━━━━━━━\u001b[0m\u001b[37m\u001b[0m \u001b[1m1s\u001b[0m 15ms/step - custom_accuracy_without_padding: 0.6500 - custom_mse: 0.0351 - loss: 0.0369 - val_custom_accuracy_without_padding: 0.6453 - val_custom_mse: 0.0348 - val_loss: 0.0366 - learning_rate: 0.0010\n",
            "Epoch 115/500\n",
            "\u001b[1m13/25\u001b[0m \u001b[32m━━━━━━━━━━\u001b[0m\u001b[37m━━━━━━━━━━\u001b[0m \u001b[1m0s\u001b[0m 4ms/step - custom_accuracy_without_padding: 0.6482 - custom_mse: 0.0347 - loss: 0.0365  \n",
            "Epoch 115: val_loss did not improve from 0.03656\n",
            "\u001b[1m25/25\u001b[0m \u001b[32m━━━━━━━━━━━━━━━━━━━━\u001b[0m\u001b[37m\u001b[0m \u001b[1m0s\u001b[0m 7ms/step - custom_accuracy_without_padding: 0.6476 - custom_mse: 0.0349 - loss: 0.0367 - val_custom_accuracy_without_padding: 0.6435 - val_custom_mse: 0.0355 - val_loss: 0.0372 - learning_rate: 0.0010\n",
            "Epoch 116/500\n",
            "\u001b[1m24/25\u001b[0m \u001b[32m━━━━━━━━━━━━━━━━━━━\u001b[0m\u001b[37m━\u001b[0m \u001b[1m0s\u001b[0m 4ms/step - custom_accuracy_without_padding: 0.6462 - custom_mse: 0.0349 - loss: 0.0368\n",
            "Epoch 116: val_loss did not improve from 0.03656\n",
            "\u001b[1m25/25\u001b[0m \u001b[32m━━━━━━━━━━━━━━━━━━━━\u001b[0m\u001b[37m\u001b[0m \u001b[1m0s\u001b[0m 7ms/step - custom_accuracy_without_padding: 0.6463 - custom_mse: 0.0349 - loss: 0.0368 - val_custom_accuracy_without_padding: 0.6410 - val_custom_mse: 0.0352 - val_loss: 0.0369 - learning_rate: 0.0010\n",
            "Epoch 117/500\n",
            "\u001b[1m13/25\u001b[0m \u001b[32m━━━━━━━━━━\u001b[0m\u001b[37m━━━━━━━━━━\u001b[0m \u001b[1m0s\u001b[0m 4ms/step - custom_accuracy_without_padding: 0.6450 - custom_mse: 0.0347 - loss: 0.0365 \n",
            "Epoch 117: val_loss improved from 0.03656 to 0.03655, saving model to /content/drive/MyDrive/10 Masters/Research/error-correcting-codes/ThisIsTheCleanest/weights/DCT_model_27.keras\n",
            "\u001b[1m25/25\u001b[0m \u001b[32m━━━━━━━━━━━━━━━━━━━━\u001b[0m\u001b[37m\u001b[0m \u001b[1m0s\u001b[0m 18ms/step - custom_accuracy_without_padding: 0.6459 - custom_mse: 0.0347 - loss: 0.0365 - val_custom_accuracy_without_padding: 0.6435 - val_custom_mse: 0.0348 - val_loss: 0.0366 - learning_rate: 0.0010\n",
            "Epoch 118/500\n",
            "\u001b[1m23/25\u001b[0m \u001b[32m━━━━━━━━━━━━━━━━━━\u001b[0m\u001b[37m━━\u001b[0m \u001b[1m0s\u001b[0m 7ms/step - custom_accuracy_without_padding: 0.6492 - custom_mse: 0.0341 - loss: 0.0359\n",
            "Epoch 118: val_loss improved from 0.03655 to 0.03653, saving model to /content/drive/MyDrive/10 Masters/Research/error-correcting-codes/ThisIsTheCleanest/weights/DCT_model_27.keras\n",
            "\u001b[1m25/25\u001b[0m \u001b[32m━━━━━━━━━━━━━━━━━━━━\u001b[0m\u001b[37m\u001b[0m \u001b[1m1s\u001b[0m 21ms/step - custom_accuracy_without_padding: 0.6490 - custom_mse: 0.0342 - loss: 0.0360 - val_custom_accuracy_without_padding: 0.6434 - val_custom_mse: 0.0349 - val_loss: 0.0365 - learning_rate: 0.0010\n",
            "Epoch 119/500\n",
            "\u001b[1m20/25\u001b[0m \u001b[32m━━━━━━━━━━━━━━━━\u001b[0m\u001b[37m━━━━\u001b[0m \u001b[1m0s\u001b[0m 6ms/step - custom_accuracy_without_padding: 0.6425 - custom_mse: 0.0347 - loss: 0.0364\n",
            "Epoch 119: val_loss improved from 0.03653 to 0.03627, saving model to /content/drive/MyDrive/10 Masters/Research/error-correcting-codes/ThisIsTheCleanest/weights/DCT_model_27.keras\n",
            "\u001b[1m25/25\u001b[0m \u001b[32m━━━━━━━━━━━━━━━━━━━━\u001b[0m\u001b[37m\u001b[0m \u001b[1m1s\u001b[0m 20ms/step - custom_accuracy_without_padding: 0.6430 - custom_mse: 0.0347 - loss: 0.0365 - val_custom_accuracy_without_padding: 0.6495 - val_custom_mse: 0.0347 - val_loss: 0.0363 - learning_rate: 0.0010\n",
            "Epoch 120/500\n",
            "\u001b[1m19/25\u001b[0m \u001b[32m━━━━━━━━━━━━━━━\u001b[0m\u001b[37m━━━━━\u001b[0m \u001b[1m0s\u001b[0m 6ms/step - custom_accuracy_without_padding: 0.6532 - custom_mse: 0.0337 - loss: 0.0354\n",
            "Epoch 120: val_loss improved from 0.03627 to 0.03618, saving model to /content/drive/MyDrive/10 Masters/Research/error-correcting-codes/ThisIsTheCleanest/weights/DCT_model_27.keras\n",
            "\u001b[1m25/25\u001b[0m \u001b[32m━━━━━━━━━━━━━━━━━━━━\u001b[0m\u001b[37m\u001b[0m \u001b[1m1s\u001b[0m 19ms/step - custom_accuracy_without_padding: 0.6525 - custom_mse: 0.0339 - loss: 0.0357 - val_custom_accuracy_without_padding: 0.6485 - val_custom_mse: 0.0345 - val_loss: 0.0362 - learning_rate: 0.0010\n",
            "Epoch 121/500\n",
            "\u001b[1m13/25\u001b[0m \u001b[32m━━━━━━━━━━\u001b[0m\u001b[37m━━━━━━━━━━\u001b[0m \u001b[1m0s\u001b[0m 4ms/step - custom_accuracy_without_padding: 0.6456 - custom_mse: 0.0348 - loss: 0.0366  \n",
            "Epoch 121: val_loss improved from 0.03618 to 0.03617, saving model to /content/drive/MyDrive/10 Masters/Research/error-correcting-codes/ThisIsTheCleanest/weights/DCT_model_27.keras\n",
            "\u001b[1m25/25\u001b[0m \u001b[32m━━━━━━━━━━━━━━━━━━━━\u001b[0m\u001b[37m\u001b[0m \u001b[1m0s\u001b[0m 14ms/step - custom_accuracy_without_padding: 0.6466 - custom_mse: 0.0347 - loss: 0.0364 - val_custom_accuracy_without_padding: 0.6467 - val_custom_mse: 0.0346 - val_loss: 0.0362 - learning_rate: 0.0010\n",
            "Epoch 122/500\n",
            "\u001b[1m13/25\u001b[0m \u001b[32m━━━━━━━━━━\u001b[0m\u001b[37m━━━━━━━━━━\u001b[0m \u001b[1m0s\u001b[0m 4ms/step - custom_accuracy_without_padding: 0.6470 - custom_mse: 0.0341 - loss: 0.0359 \n",
            "Epoch 122: val_loss did not improve from 0.03617\n",
            "\u001b[1m25/25\u001b[0m \u001b[32m━━━━━━━━━━━━━━━━━━━━\u001b[0m\u001b[37m\u001b[0m \u001b[1m0s\u001b[0m 8ms/step - custom_accuracy_without_padding: 0.6474 - custom_mse: 0.0345 - loss: 0.0362 - val_custom_accuracy_without_padding: 0.6414 - val_custom_mse: 0.0347 - val_loss: 0.0363 - learning_rate: 0.0010\n",
            "Epoch 123/500\n",
            "\u001b[1m13/25\u001b[0m \u001b[32m━━━━━━━━━━\u001b[0m\u001b[37m━━━━━━━━━━\u001b[0m \u001b[1m0s\u001b[0m 4ms/step - custom_accuracy_without_padding: 0.6444 - custom_mse: 0.0352 - loss: 0.0369 \n",
            "Epoch 123: val_loss improved from 0.03617 to 0.03607, saving model to /content/drive/MyDrive/10 Masters/Research/error-correcting-codes/ThisIsTheCleanest/weights/DCT_model_27.keras\n",
            "\u001b[1m25/25\u001b[0m \u001b[32m━━━━━━━━━━━━━━━━━━━━\u001b[0m\u001b[37m\u001b[0m \u001b[1m0s\u001b[0m 15ms/step - custom_accuracy_without_padding: 0.6450 - custom_mse: 0.0349 - loss: 0.0366 - val_custom_accuracy_without_padding: 0.6438 - val_custom_mse: 0.0344 - val_loss: 0.0361 - learning_rate: 0.0010\n",
            "Epoch 124/500\n",
            "\u001b[1m25/25\u001b[0m \u001b[32m━━━━━━━━━━━━━━━━━━━━\u001b[0m\u001b[37m\u001b[0m \u001b[1m0s\u001b[0m 4ms/step - custom_accuracy_without_padding: 0.6425 - custom_mse: 0.0353 - loss: 0.0370\n",
            "Epoch 124: val_loss improved from 0.03607 to 0.03581, saving model to /content/drive/MyDrive/10 Masters/Research/error-correcting-codes/ThisIsTheCleanest/weights/DCT_model_27.keras\n",
            "\u001b[1m25/25\u001b[0m \u001b[32m━━━━━━━━━━━━━━━━━━━━\u001b[0m\u001b[37m\u001b[0m \u001b[1m0s\u001b[0m 15ms/step - custom_accuracy_without_padding: 0.6427 - custom_mse: 0.0353 - loss: 0.0370 - val_custom_accuracy_without_padding: 0.6434 - val_custom_mse: 0.0342 - val_loss: 0.0358 - learning_rate: 0.0010\n",
            "Epoch 125/500\n",
            "\u001b[1m13/25\u001b[0m \u001b[32m━━━━━━━━━━\u001b[0m\u001b[37m━━━━━━━━━━\u001b[0m \u001b[1m0s\u001b[0m 4ms/step - custom_accuracy_without_padding: 0.6438 - custom_mse: 0.0341 - loss: 0.0358 \n",
            "Epoch 125: val_loss improved from 0.03581 to 0.03577, saving model to /content/drive/MyDrive/10 Masters/Research/error-correcting-codes/ThisIsTheCleanest/weights/DCT_model_27.keras\n",
            "\u001b[1m25/25\u001b[0m \u001b[32m━━━━━━━━━━━━━━━━━━━━\u001b[0m\u001b[37m\u001b[0m \u001b[1m0s\u001b[0m 16ms/step - custom_accuracy_without_padding: 0.6449 - custom_mse: 0.0341 - loss: 0.0358 - val_custom_accuracy_without_padding: 0.6460 - val_custom_mse: 0.0341 - val_loss: 0.0358 - learning_rate: 0.0010\n",
            "Epoch 126/500\n",
            "\u001b[1m13/25\u001b[0m \u001b[32m━━━━━━━━━━\u001b[0m\u001b[37m━━━━━━━━━━\u001b[0m \u001b[1m0s\u001b[0m 4ms/step - custom_accuracy_without_padding: 0.6506 - custom_mse: 0.0334 - loss: 0.0351  \n",
            "Epoch 126: val_loss did not improve from 0.03577\n",
            "\u001b[1m25/25\u001b[0m \u001b[32m━━━━━━━━━━━━━━━━━━━━\u001b[0m\u001b[37m\u001b[0m \u001b[1m0s\u001b[0m 7ms/step - custom_accuracy_without_padding: 0.6501 - custom_mse: 0.0336 - loss: 0.0353 - val_custom_accuracy_without_padding: 0.6438 - val_custom_mse: 0.0344 - val_loss: 0.0359 - learning_rate: 0.0010\n",
            "Epoch 127/500\n",
            "\u001b[1m24/25\u001b[0m \u001b[32m━━━━━━━━━━━━━━━━━━━\u001b[0m\u001b[37m━\u001b[0m \u001b[1m0s\u001b[0m 5ms/step - custom_accuracy_without_padding: 0.6451 - custom_mse: 0.0339 - loss: 0.0356\n",
            "Epoch 127: val_loss improved from 0.03577 to 0.03539, saving model to /content/drive/MyDrive/10 Masters/Research/error-correcting-codes/ThisIsTheCleanest/weights/DCT_model_27.keras\n",
            "\u001b[1m25/25\u001b[0m \u001b[32m━━━━━━━━━━━━━━━━━━━━\u001b[0m\u001b[37m\u001b[0m \u001b[1m0s\u001b[0m 15ms/step - custom_accuracy_without_padding: 0.6452 - custom_mse: 0.0339 - loss: 0.0356 - val_custom_accuracy_without_padding: 0.6442 - val_custom_mse: 0.0339 - val_loss: 0.0354 - learning_rate: 0.0010\n",
            "Epoch 128/500\n",
            "\u001b[1m13/25\u001b[0m \u001b[32m━━━━━━━━━━\u001b[0m\u001b[37m━━━━━━━━━━\u001b[0m \u001b[1m0s\u001b[0m 4ms/step - custom_accuracy_without_padding: 0.6475 - custom_mse: 0.0338 - loss: 0.0355 \n",
            "Epoch 128: val_loss did not improve from 0.03539\n",
            "\u001b[1m25/25\u001b[0m \u001b[32m━━━━━━━━━━━━━━━━━━━━\u001b[0m\u001b[37m\u001b[0m \u001b[1m0s\u001b[0m 7ms/step - custom_accuracy_without_padding: 0.6471 - custom_mse: 0.0338 - loss: 0.0354 - val_custom_accuracy_without_padding: 0.6381 - val_custom_mse: 0.0337 - val_loss: 0.0354 - learning_rate: 0.0010\n",
            "Epoch 129/500\n",
            "\u001b[1m14/25\u001b[0m \u001b[32m━━━━━━━━━━━\u001b[0m\u001b[37m━━━━━━━━━\u001b[0m \u001b[1m0s\u001b[0m 4ms/step - custom_accuracy_without_padding: 0.6455 - custom_mse: 0.0338 - loss: 0.0354 \n",
            "Epoch 129: val_loss did not improve from 0.03539\n",
            "\u001b[1m25/25\u001b[0m \u001b[32m━━━━━━━━━━━━━━━━━━━━\u001b[0m\u001b[37m\u001b[0m \u001b[1m0s\u001b[0m 7ms/step - custom_accuracy_without_padding: 0.6458 - custom_mse: 0.0339 - loss: 0.0355 - val_custom_accuracy_without_padding: 0.6422 - val_custom_mse: 0.0340 - val_loss: 0.0356 - learning_rate: 0.0010\n",
            "Epoch 130/500\n",
            "\u001b[1m25/25\u001b[0m \u001b[32m━━━━━━━━━━━━━━━━━━━━\u001b[0m\u001b[37m\u001b[0m \u001b[1m0s\u001b[0m 4ms/step - custom_accuracy_without_padding: 0.6486 - custom_mse: 0.0329 - loss: 0.0345\n",
            "Epoch 130: val_loss improved from 0.03539 to 0.03536, saving model to /content/drive/MyDrive/10 Masters/Research/error-correcting-codes/ThisIsTheCleanest/weights/DCT_model_27.keras\n",
            "\u001b[1m25/25\u001b[0m \u001b[32m━━━━━━━━━━━━━━━━━━━━\u001b[0m\u001b[37m\u001b[0m \u001b[1m0s\u001b[0m 15ms/step - custom_accuracy_without_padding: 0.6485 - custom_mse: 0.0329 - loss: 0.0345 - val_custom_accuracy_without_padding: 0.6437 - val_custom_mse: 0.0339 - val_loss: 0.0354 - learning_rate: 0.0010\n",
            "Epoch 131/500\n",
            "\u001b[1m13/25\u001b[0m \u001b[32m━━━━━━━━━━\u001b[0m\u001b[37m━━━━━━━━━━\u001b[0m \u001b[1m0s\u001b[0m 4ms/step - custom_accuracy_without_padding: 0.6448 - custom_mse: 0.0332 - loss: 0.0348  \n",
            "Epoch 131: val_loss improved from 0.03536 to 0.03534, saving model to /content/drive/MyDrive/10 Masters/Research/error-correcting-codes/ThisIsTheCleanest/weights/DCT_model_27.keras\n",
            "\u001b[1m25/25\u001b[0m \u001b[32m━━━━━━━━━━━━━━━━━━━━\u001b[0m\u001b[37m\u001b[0m \u001b[1m1s\u001b[0m 16ms/step - custom_accuracy_without_padding: 0.6455 - custom_mse: 0.0334 - loss: 0.0350 - val_custom_accuracy_without_padding: 0.6343 - val_custom_mse: 0.0338 - val_loss: 0.0353 - learning_rate: 0.0010\n",
            "Epoch 132/500\n",
            "\u001b[1m22/25\u001b[0m \u001b[32m━━━━━━━━━━━━━━━━━\u001b[0m\u001b[37m━━━\u001b[0m \u001b[1m0s\u001b[0m 5ms/step - custom_accuracy_without_padding: 0.6389 - custom_mse: 0.0339 - loss: 0.0355\n",
            "Epoch 132: val_loss improved from 0.03534 to 0.03518, saving model to /content/drive/MyDrive/10 Masters/Research/error-correcting-codes/ThisIsTheCleanest/weights/DCT_model_27.keras\n",
            "\u001b[1m25/25\u001b[0m \u001b[32m━━━━━━━━━━━━━━━━━━━━\u001b[0m\u001b[37m\u001b[0m \u001b[1m1s\u001b[0m 15ms/step - custom_accuracy_without_padding: 0.6394 - custom_mse: 0.0339 - loss: 0.0355 - val_custom_accuracy_without_padding: 0.6303 - val_custom_mse: 0.0337 - val_loss: 0.0352 - learning_rate: 0.0010\n",
            "Epoch 133/500\n",
            "\u001b[1m24/25\u001b[0m \u001b[32m━━━━━━━━━━━━━━━━━━━\u001b[0m\u001b[37m━\u001b[0m \u001b[1m0s\u001b[0m 4ms/step - custom_accuracy_without_padding: 0.6436 - custom_mse: 0.0335 - loss: 0.0350\n",
            "Epoch 133: val_loss improved from 0.03518 to 0.03491, saving model to /content/drive/MyDrive/10 Masters/Research/error-correcting-codes/ThisIsTheCleanest/weights/DCT_model_27.keras\n",
            "\u001b[1m25/25\u001b[0m \u001b[32m━━━━━━━━━━━━━━━━━━━━\u001b[0m\u001b[37m\u001b[0m \u001b[1m0s\u001b[0m 15ms/step - custom_accuracy_without_padding: 0.6436 - custom_mse: 0.0335 - loss: 0.0350 - val_custom_accuracy_without_padding: 0.6354 - val_custom_mse: 0.0335 - val_loss: 0.0349 - learning_rate: 0.0010\n",
            "Epoch 134/500\n",
            "\u001b[1m25/25\u001b[0m \u001b[32m━━━━━━━━━━━━━━━━━━━━\u001b[0m\u001b[37m\u001b[0m \u001b[1m0s\u001b[0m 4ms/step - custom_accuracy_without_padding: 0.6438 - custom_mse: 0.0334 - loss: 0.0349\n",
            "Epoch 134: val_loss did not improve from 0.03491\n",
            "\u001b[1m25/25\u001b[0m \u001b[32m━━━━━━━━━━━━━━━━━━━━\u001b[0m\u001b[37m\u001b[0m \u001b[1m0s\u001b[0m 7ms/step - custom_accuracy_without_padding: 0.6438 - custom_mse: 0.0334 - loss: 0.0349 - val_custom_accuracy_without_padding: 0.6377 - val_custom_mse: 0.0337 - val_loss: 0.0352 - learning_rate: 0.0010\n",
            "Epoch 135/500\n",
            "\u001b[1m20/25\u001b[0m \u001b[32m━━━━━━━━━━━━━━━━\u001b[0m\u001b[37m━━━━\u001b[0m \u001b[1m0s\u001b[0m 5ms/step - custom_accuracy_without_padding: 0.6468 - custom_mse: 0.0337 - loss: 0.0353\n",
            "Epoch 135: val_loss improved from 0.03491 to 0.03488, saving model to /content/drive/MyDrive/10 Masters/Research/error-correcting-codes/ThisIsTheCleanest/weights/DCT_model_27.keras\n",
            "\u001b[1m25/25\u001b[0m \u001b[32m━━━━━━━━━━━━━━━━━━━━\u001b[0m\u001b[37m\u001b[0m \u001b[1m0s\u001b[0m 17ms/step - custom_accuracy_without_padding: 0.6469 - custom_mse: 0.0337 - loss: 0.0352 - val_custom_accuracy_without_padding: 0.6462 - val_custom_mse: 0.0334 - val_loss: 0.0349 - learning_rate: 0.0010\n",
            "Epoch 136/500\n",
            "\u001b[1m14/25\u001b[0m \u001b[32m━━━━━━━━━━━\u001b[0m\u001b[37m━━━━━━━━━\u001b[0m \u001b[1m0s\u001b[0m 4ms/step - custom_accuracy_without_padding: 0.6450 - custom_mse: 0.0332 - loss: 0.0348  \n",
            "Epoch 136: val_loss did not improve from 0.03488\n",
            "\u001b[1m25/25\u001b[0m \u001b[32m━━━━━━━━━━━━━━━━━━━━\u001b[0m\u001b[37m\u001b[0m \u001b[1m0s\u001b[0m 7ms/step - custom_accuracy_without_padding: 0.6453 - custom_mse: 0.0332 - loss: 0.0348 - val_custom_accuracy_without_padding: 0.6405 - val_custom_mse: 0.0339 - val_loss: 0.0353 - learning_rate: 0.0010\n",
            "Epoch 137/500\n",
            "\u001b[1m14/25\u001b[0m \u001b[32m━━━━━━━━━━━\u001b[0m\u001b[37m━━━━━━━━━\u001b[0m \u001b[1m0s\u001b[0m 4ms/step - custom_accuracy_without_padding: 0.6482 - custom_mse: 0.0332 - loss: 0.0347 \n",
            "Epoch 137: val_loss improved from 0.03488 to 0.03419, saving model to /content/drive/MyDrive/10 Masters/Research/error-correcting-codes/ThisIsTheCleanest/weights/DCT_model_27.keras\n",
            "\u001b[1m25/25\u001b[0m \u001b[32m━━━━━━━━━━━━━━━━━━━━\u001b[0m\u001b[37m\u001b[0m \u001b[1m0s\u001b[0m 15ms/step - custom_accuracy_without_padding: 0.6462 - custom_mse: 0.0331 - loss: 0.0346 - val_custom_accuracy_without_padding: 0.6448 - val_custom_mse: 0.0327 - val_loss: 0.0342 - learning_rate: 0.0010\n",
            "Epoch 138/500\n",
            "\u001b[1m25/25\u001b[0m \u001b[32m━━━━━━━━━━━━━━━━━━━━\u001b[0m\u001b[37m\u001b[0m \u001b[1m0s\u001b[0m 4ms/step - custom_accuracy_without_padding: 0.6452 - custom_mse: 0.0324 - loss: 0.0339\n",
            "Epoch 138: val_loss did not improve from 0.03419\n",
            "\u001b[1m25/25\u001b[0m \u001b[32m━━━━━━━━━━━━━━━━━━━━\u001b[0m\u001b[37m\u001b[0m \u001b[1m0s\u001b[0m 7ms/step - custom_accuracy_without_padding: 0.6452 - custom_mse: 0.0324 - loss: 0.0339 - val_custom_accuracy_without_padding: 0.6500 - val_custom_mse: 0.0330 - val_loss: 0.0344 - learning_rate: 0.0010\n",
            "Epoch 139/500\n",
            "\u001b[1m25/25\u001b[0m \u001b[32m━━━━━━━━━━━━━━━━━━━━\u001b[0m\u001b[37m\u001b[0m \u001b[1m0s\u001b[0m 4ms/step - custom_accuracy_without_padding: 0.6487 - custom_mse: 0.0330 - loss: 0.0345\n",
            "Epoch 139: val_loss improved from 0.03419 to 0.03374, saving model to /content/drive/MyDrive/10 Masters/Research/error-correcting-codes/ThisIsTheCleanest/weights/DCT_model_27.keras\n",
            "\u001b[1m25/25\u001b[0m \u001b[32m━━━━━━━━━━━━━━━━━━━━\u001b[0m\u001b[37m\u001b[0m \u001b[1m0s\u001b[0m 14ms/step - custom_accuracy_without_padding: 0.6486 - custom_mse: 0.0330 - loss: 0.0345 - val_custom_accuracy_without_padding: 0.6455 - val_custom_mse: 0.0323 - val_loss: 0.0337 - learning_rate: 0.0010\n",
            "Epoch 140/500\n",
            "\u001b[1m13/25\u001b[0m \u001b[32m━━━━━━━━━━\u001b[0m\u001b[37m━━━━━━━━━━\u001b[0m \u001b[1m0s\u001b[0m 4ms/step - custom_accuracy_without_padding: 0.6399 - custom_mse: 0.0331 - loss: 0.0346 \n",
            "Epoch 140: val_loss did not improve from 0.03374\n",
            "\u001b[1m25/25\u001b[0m \u001b[32m━━━━━━━━━━━━━━━━━━━━\u001b[0m\u001b[37m\u001b[0m \u001b[1m0s\u001b[0m 7ms/step - custom_accuracy_without_padding: 0.6411 - custom_mse: 0.0329 - loss: 0.0344 - val_custom_accuracy_without_padding: 0.6396 - val_custom_mse: 0.0324 - val_loss: 0.0339 - learning_rate: 0.0010\n",
            "Epoch 141/500\n",
            "\u001b[1m25/25\u001b[0m \u001b[32m━━━━━━━━━━━━━━━━━━━━\u001b[0m\u001b[37m\u001b[0m \u001b[1m0s\u001b[0m 4ms/step - custom_accuracy_without_padding: 0.6446 - custom_mse: 0.0327 - loss: 0.0342\n",
            "Epoch 141: val_loss improved from 0.03374 to 0.03359, saving model to /content/drive/MyDrive/10 Masters/Research/error-correcting-codes/ThisIsTheCleanest/weights/DCT_model_27.keras\n",
            "\u001b[1m25/25\u001b[0m \u001b[32m━━━━━━━━━━━━━━━━━━━━\u001b[0m\u001b[37m\u001b[0m \u001b[1m0s\u001b[0m 14ms/step - custom_accuracy_without_padding: 0.6446 - custom_mse: 0.0327 - loss: 0.0342 - val_custom_accuracy_without_padding: 0.6386 - val_custom_mse: 0.0321 - val_loss: 0.0336 - learning_rate: 0.0010\n",
            "Epoch 142/500\n",
            "\u001b[1m25/25\u001b[0m \u001b[32m━━━━━━━━━━━━━━━━━━━━\u001b[0m\u001b[37m\u001b[0m \u001b[1m0s\u001b[0m 4ms/step - custom_accuracy_without_padding: 0.6456 - custom_mse: 0.0323 - loss: 0.0338\n",
            "Epoch 142: val_loss did not improve from 0.03359\n",
            "\u001b[1m25/25\u001b[0m \u001b[32m━━━━━━━━━━━━━━━━━━━━\u001b[0m\u001b[37m\u001b[0m \u001b[1m0s\u001b[0m 7ms/step - custom_accuracy_without_padding: 0.6456 - custom_mse: 0.0323 - loss: 0.0338 - val_custom_accuracy_without_padding: 0.6480 - val_custom_mse: 0.0325 - val_loss: 0.0338 - learning_rate: 0.0010\n",
            "Epoch 143/500\n",
            "\u001b[1m13/25\u001b[0m \u001b[32m━━━━━━━━━━\u001b[0m\u001b[37m━━━━━━━━━━\u001b[0m \u001b[1m0s\u001b[0m 4ms/step - custom_accuracy_without_padding: 0.6412 - custom_mse: 0.0329 - loss: 0.0344 \n",
            "Epoch 143: val_loss improved from 0.03359 to 0.03354, saving model to /content/drive/MyDrive/10 Masters/Research/error-correcting-codes/ThisIsTheCleanest/weights/DCT_model_27.keras\n",
            "\u001b[1m25/25\u001b[0m \u001b[32m━━━━━━━━━━━━━━━━━━━━\u001b[0m\u001b[37m\u001b[0m \u001b[1m0s\u001b[0m 15ms/step - custom_accuracy_without_padding: 0.6431 - custom_mse: 0.0326 - loss: 0.0341 - val_custom_accuracy_without_padding: 0.6448 - val_custom_mse: 0.0322 - val_loss: 0.0335 - learning_rate: 0.0010\n",
            "Epoch 144/500\n",
            "\u001b[1m24/25\u001b[0m \u001b[32m━━━━━━━━━━━━━━━━━━━\u001b[0m\u001b[37m━\u001b[0m \u001b[1m0s\u001b[0m 4ms/step - custom_accuracy_without_padding: 0.6472 - custom_mse: 0.0322 - loss: 0.0336\n",
            "Epoch 144: val_loss improved from 0.03354 to 0.03317, saving model to /content/drive/MyDrive/10 Masters/Research/error-correcting-codes/ThisIsTheCleanest/weights/DCT_model_27.keras\n",
            "\u001b[1m25/25\u001b[0m \u001b[32m━━━━━━━━━━━━━━━━━━━━\u001b[0m\u001b[37m\u001b[0m \u001b[1m1s\u001b[0m 15ms/step - custom_accuracy_without_padding: 0.6472 - custom_mse: 0.0322 - loss: 0.0336 - val_custom_accuracy_without_padding: 0.6473 - val_custom_mse: 0.0318 - val_loss: 0.0332 - learning_rate: 0.0010\n",
            "Epoch 145/500\n",
            "\u001b[1m25/25\u001b[0m \u001b[32m━━━━━━━━━━━━━━━━━━━━\u001b[0m\u001b[37m\u001b[0m \u001b[1m0s\u001b[0m 4ms/step - custom_accuracy_without_padding: 0.6519 - custom_mse: 0.0322 - loss: 0.0336\n",
            "Epoch 145: val_loss did not improve from 0.03317\n",
            "\u001b[1m25/25\u001b[0m \u001b[32m━━━━━━━━━━━━━━━━━━━━\u001b[0m\u001b[37m\u001b[0m \u001b[1m0s\u001b[0m 8ms/step - custom_accuracy_without_padding: 0.6519 - custom_mse: 0.0322 - loss: 0.0336 - val_custom_accuracy_without_padding: 0.6455 - val_custom_mse: 0.0317 - val_loss: 0.0332 - learning_rate: 0.0010\n",
            "Epoch 146/500\n",
            "\u001b[1m19/25\u001b[0m \u001b[32m━━━━━━━━━━━━━━━\u001b[0m\u001b[37m━━━━━\u001b[0m \u001b[1m0s\u001b[0m 6ms/step - custom_accuracy_without_padding: 0.6480 - custom_mse: 0.0316 - loss: 0.0331\n",
            "Epoch 146: val_loss improved from 0.03317 to 0.03303, saving model to /content/drive/MyDrive/10 Masters/Research/error-correcting-codes/ThisIsTheCleanest/weights/DCT_model_27.keras\n",
            "\u001b[1m25/25\u001b[0m \u001b[32m━━━━━━━━━━━━━━━━━━━━\u001b[0m\u001b[37m\u001b[0m \u001b[1m1s\u001b[0m 20ms/step - custom_accuracy_without_padding: 0.6473 - custom_mse: 0.0317 - loss: 0.0331 - val_custom_accuracy_without_padding: 0.6465 - val_custom_mse: 0.0317 - val_loss: 0.0330 - learning_rate: 0.0010\n",
            "Epoch 147/500\n",
            "\u001b[1m17/25\u001b[0m \u001b[32m━━━━━━━━━━━━━\u001b[0m\u001b[37m━━━━━━━\u001b[0m \u001b[1m0s\u001b[0m 7ms/step - custom_accuracy_without_padding: 0.6493 - custom_mse: 0.0316 - loss: 0.0331\n",
            "Epoch 147: val_loss did not improve from 0.03303\n",
            "\u001b[1m25/25\u001b[0m \u001b[32m━━━━━━━━━━━━━━━━━━━━\u001b[0m\u001b[37m\u001b[0m \u001b[1m0s\u001b[0m 11ms/step - custom_accuracy_without_padding: 0.6476 - custom_mse: 0.0317 - loss: 0.0331 - val_custom_accuracy_without_padding: 0.6303 - val_custom_mse: 0.0318 - val_loss: 0.0333 - learning_rate: 0.0010\n",
            "Epoch 148/500\n",
            "\u001b[1m19/25\u001b[0m \u001b[32m━━━━━━━━━━━━━━━\u001b[0m\u001b[37m━━━━━\u001b[0m \u001b[1m0s\u001b[0m 6ms/step - custom_accuracy_without_padding: 0.6443 - custom_mse: 0.0317 - loss: 0.0332\n",
            "Epoch 148: val_loss improved from 0.03303 to 0.03221, saving model to /content/drive/MyDrive/10 Masters/Research/error-correcting-codes/ThisIsTheCleanest/weights/DCT_model_27.keras\n",
            "\u001b[1m25/25\u001b[0m \u001b[32m━━━━━━━━━━━━━━━━━━━━\u001b[0m\u001b[37m\u001b[0m \u001b[1m1s\u001b[0m 19ms/step - custom_accuracy_without_padding: 0.6453 - custom_mse: 0.0316 - loss: 0.0331 - val_custom_accuracy_without_padding: 0.6541 - val_custom_mse: 0.0307 - val_loss: 0.0322 - learning_rate: 0.0010\n",
            "Epoch 149/500\n",
            "\u001b[1m22/25\u001b[0m \u001b[32m━━━━━━━━━━━━━━━━━\u001b[0m\u001b[37m━━━\u001b[0m \u001b[1m0s\u001b[0m 7ms/step - custom_accuracy_without_padding: 0.6522 - custom_mse: 0.0308 - loss: 0.0323\n",
            "Epoch 149: val_loss did not improve from 0.03221\n",
            "\u001b[1m25/25\u001b[0m \u001b[32m━━━━━━━━━━━━━━━━━━━━\u001b[0m\u001b[37m\u001b[0m \u001b[1m0s\u001b[0m 12ms/step - custom_accuracy_without_padding: 0.6515 - custom_mse: 0.0309 - loss: 0.0323 - val_custom_accuracy_without_padding: 0.6510 - val_custom_mse: 0.0309 - val_loss: 0.0323 - learning_rate: 0.0010\n",
            "Epoch 150/500\n",
            "\u001b[1m25/25\u001b[0m \u001b[32m━━━━━━━━━━━━━━━━━━━━\u001b[0m\u001b[37m\u001b[0m \u001b[1m0s\u001b[0m 4ms/step - custom_accuracy_without_padding: 0.6464 - custom_mse: 0.0311 - loss: 0.0325\n",
            "Epoch 150: val_loss did not improve from 0.03221\n",
            "\u001b[1m25/25\u001b[0m \u001b[32m━━━━━━━━━━━━━━━━━━━━\u001b[0m\u001b[37m\u001b[0m \u001b[1m0s\u001b[0m 7ms/step - custom_accuracy_without_padding: 0.6462 - custom_mse: 0.0311 - loss: 0.0325 - val_custom_accuracy_without_padding: 0.6359 - val_custom_mse: 0.0311 - val_loss: 0.0325 - learning_rate: 0.0010\n",
            "Epoch 151/500\n",
            "\u001b[1m24/25\u001b[0m \u001b[32m━━━━━━━━━━━━━━━━━━━\u001b[0m\u001b[37m━\u001b[0m \u001b[1m0s\u001b[0m 4ms/step - custom_accuracy_without_padding: 0.6475 - custom_mse: 0.0311 - loss: 0.0325\n",
            "Epoch 151: val_loss did not improve from 0.03221\n",
            "\u001b[1m25/25\u001b[0m \u001b[32m━━━━━━━━━━━━━━━━━━━━\u001b[0m\u001b[37m\u001b[0m \u001b[1m0s\u001b[0m 7ms/step - custom_accuracy_without_padding: 0.6478 - custom_mse: 0.0311 - loss: 0.0325 - val_custom_accuracy_without_padding: 0.6419 - val_custom_mse: 0.0310 - val_loss: 0.0323 - learning_rate: 0.0010\n",
            "Epoch 152/500\n",
            "\u001b[1m13/25\u001b[0m \u001b[32m━━━━━━━━━━\u001b[0m\u001b[37m━━━━━━━━━━\u001b[0m \u001b[1m0s\u001b[0m 4ms/step - custom_accuracy_without_padding: 0.6487 - custom_mse: 0.0296 - loss: 0.0310 \n",
            "Epoch 152: val_loss did not improve from 0.03221\n",
            "\u001b[1m25/25\u001b[0m \u001b[32m━━━━━━━━━━━━━━━━━━━━\u001b[0m\u001b[37m\u001b[0m \u001b[1m0s\u001b[0m 7ms/step - custom_accuracy_without_padding: 0.6499 - custom_mse: 0.0301 - loss: 0.0315 - val_custom_accuracy_without_padding: 0.6457 - val_custom_mse: 0.0313 - val_loss: 0.0329 - learning_rate: 0.0010\n",
            "Epoch 153/500\n",
            "\u001b[1m13/25\u001b[0m \u001b[32m━━━━━━━━━━\u001b[0m\u001b[37m━━━━━━━━━━\u001b[0m \u001b[1m0s\u001b[0m 4ms/step - custom_accuracy_without_padding: 0.6532 - custom_mse: 0.0314 - loss: 0.0328 \n",
            "Epoch 153: ReduceLROnPlateau reducing learning rate to 0.0005000000237487257.\n",
            "\n",
            "Epoch 153: val_loss did not improve from 0.03221\n",
            "\u001b[1m25/25\u001b[0m \u001b[32m━━━━━━━━━━━━━━━━━━━━\u001b[0m\u001b[37m\u001b[0m \u001b[1m0s\u001b[0m 7ms/step - custom_accuracy_without_padding: 0.6514 - custom_mse: 0.0313 - loss: 0.0327 - val_custom_accuracy_without_padding: 0.6612 - val_custom_mse: 0.0317 - val_loss: 0.0333 - learning_rate: 0.0010\n",
            "Epoch 154/500\n",
            "\u001b[1m21/25\u001b[0m \u001b[32m━━━━━━━━━━━━━━━━\u001b[0m\u001b[37m━━━━\u001b[0m \u001b[1m0s\u001b[0m 5ms/step - custom_accuracy_without_padding: 0.6587 - custom_mse: 0.0314 - loss: 0.0328\n",
            "Epoch 154: val_loss improved from 0.03221 to 0.03120, saving model to /content/drive/MyDrive/10 Masters/Research/error-correcting-codes/ThisIsTheCleanest/weights/DCT_model_27.keras\n",
            "\u001b[1m25/25\u001b[0m \u001b[32m━━━━━━━━━━━━━━━━━━━━\u001b[0m\u001b[37m\u001b[0m \u001b[1m1s\u001b[0m 16ms/step - custom_accuracy_without_padding: 0.6594 - custom_mse: 0.0312 - loss: 0.0327 - val_custom_accuracy_without_padding: 0.6582 - val_custom_mse: 0.0297 - val_loss: 0.0312 - learning_rate: 5.0000e-04\n",
            "Epoch 155/500\n",
            "\u001b[1m14/25\u001b[0m \u001b[32m━━━━━━━━━━━\u001b[0m\u001b[37m━━━━━━━━━\u001b[0m \u001b[1m0s\u001b[0m 4ms/step - custom_accuracy_without_padding: 0.6642 - custom_mse: 0.0299 - loss: 0.0313 \n",
            "Epoch 155: val_loss did not improve from 0.03120\n",
            "\u001b[1m25/25\u001b[0m \u001b[32m━━━━━━━━━━━━━━━━━━━━\u001b[0m\u001b[37m\u001b[0m \u001b[1m0s\u001b[0m 7ms/step - custom_accuracy_without_padding: 0.6656 - custom_mse: 0.0299 - loss: 0.0314 - val_custom_accuracy_without_padding: 0.6672 - val_custom_mse: 0.0299 - val_loss: 0.0312 - learning_rate: 5.0000e-04\n",
            "Epoch 156/500\n",
            "\u001b[1m13/25\u001b[0m \u001b[32m━━━━━━━━━━\u001b[0m\u001b[37m━━━━━━━━━━\u001b[0m \u001b[1m0s\u001b[0m 4ms/step - custom_accuracy_without_padding: 0.6699 - custom_mse: 0.0296 - loss: 0.0310  \n",
            "Epoch 156: val_loss did not improve from 0.03120\n",
            "\u001b[1m25/25\u001b[0m \u001b[32m━━━━━━━━━━━━━━━━━━━━\u001b[0m\u001b[37m\u001b[0m \u001b[1m0s\u001b[0m 8ms/step - custom_accuracy_without_padding: 0.6690 - custom_mse: 0.0296 - loss: 0.0311 - val_custom_accuracy_without_padding: 0.6720 - val_custom_mse: 0.0299 - val_loss: 0.0313 - learning_rate: 5.0000e-04\n",
            "Epoch 157/500\n",
            "\u001b[1m23/25\u001b[0m \u001b[32m━━━━━━━━━━━━━━━━━━\u001b[0m\u001b[37m━━\u001b[0m \u001b[1m0s\u001b[0m 5ms/step - custom_accuracy_without_padding: 0.6728 - custom_mse: 0.0297 - loss: 0.0311\n",
            "Epoch 157: val_loss improved from 0.03120 to 0.03075, saving model to /content/drive/MyDrive/10 Masters/Research/error-correcting-codes/ThisIsTheCleanest/weights/DCT_model_27.keras\n",
            "\u001b[1m25/25\u001b[0m \u001b[32m━━━━━━━━━━━━━━━━━━━━\u001b[0m\u001b[37m\u001b[0m \u001b[1m0s\u001b[0m 15ms/step - custom_accuracy_without_padding: 0.6727 - custom_mse: 0.0297 - loss: 0.0311 - val_custom_accuracy_without_padding: 0.6728 - val_custom_mse: 0.0293 - val_loss: 0.0308 - learning_rate: 5.0000e-04\n",
            "Epoch 158/500\n",
            "\u001b[1m24/25\u001b[0m \u001b[32m━━━━━━━━━━━━━━━━━━━\u001b[0m\u001b[37m━\u001b[0m \u001b[1m0s\u001b[0m 4ms/step - custom_accuracy_without_padding: 0.6748 - custom_mse: 0.0295 - loss: 0.0309\n",
            "Epoch 158: val_loss did not improve from 0.03075\n",
            "\u001b[1m25/25\u001b[0m \u001b[32m━━━━━━━━━━━━━━━━━━━━\u001b[0m\u001b[37m\u001b[0m \u001b[1m0s\u001b[0m 9ms/step - custom_accuracy_without_padding: 0.6747 - custom_mse: 0.0295 - loss: 0.0309 - val_custom_accuracy_without_padding: 0.6723 - val_custom_mse: 0.0299 - val_loss: 0.0313 - learning_rate: 5.0000e-04\n",
            "Epoch 159/500\n",
            "\u001b[1m13/25\u001b[0m \u001b[32m━━━━━━━━━━\u001b[0m\u001b[37m━━━━━━━━━━\u001b[0m \u001b[1m0s\u001b[0m 4ms/step - custom_accuracy_without_padding: 0.6721 - custom_mse: 0.0302 - loss: 0.0316 \n",
            "Epoch 159: val_loss improved from 0.03075 to 0.03049, saving model to /content/drive/MyDrive/10 Masters/Research/error-correcting-codes/ThisIsTheCleanest/weights/DCT_model_27.keras\n",
            "\u001b[1m25/25\u001b[0m \u001b[32m━━━━━━━━━━━━━━━━━━━━\u001b[0m\u001b[37m\u001b[0m \u001b[1m0s\u001b[0m 15ms/step - custom_accuracy_without_padding: 0.6725 - custom_mse: 0.0299 - loss: 0.0313 - val_custom_accuracy_without_padding: 0.6766 - val_custom_mse: 0.0291 - val_loss: 0.0305 - learning_rate: 5.0000e-04\n",
            "Epoch 160/500\n",
            "\u001b[1m24/25\u001b[0m \u001b[32m━━━━━━━━━━━━━━━━━━━\u001b[0m\u001b[37m━\u001b[0m \u001b[1m0s\u001b[0m 4ms/step - custom_accuracy_without_padding: 0.6749 - custom_mse: 0.0295 - loss: 0.0309\n",
            "Epoch 160: val_loss did not improve from 0.03049\n",
            "\u001b[1m25/25\u001b[0m \u001b[32m━━━━━━━━━━━━━━━━━━━━\u001b[0m\u001b[37m\u001b[0m \u001b[1m0s\u001b[0m 7ms/step - custom_accuracy_without_padding: 0.6749 - custom_mse: 0.0294 - loss: 0.0309 - val_custom_accuracy_without_padding: 0.6729 - val_custom_mse: 0.0292 - val_loss: 0.0305 - learning_rate: 5.0000e-04\n",
            "Epoch 161/500\n",
            "\u001b[1m13/25\u001b[0m \u001b[32m━━━━━━━━━━\u001b[0m\u001b[37m━━━━━━━━━━\u001b[0m \u001b[1m0s\u001b[0m 4ms/step - custom_accuracy_without_padding: 0.6780 - custom_mse: 0.0285 - loss: 0.0299  \n",
            "Epoch 161: val_loss improved from 0.03049 to 0.03037, saving model to /content/drive/MyDrive/10 Masters/Research/error-correcting-codes/ThisIsTheCleanest/weights/DCT_model_27.keras\n",
            "\u001b[1m25/25\u001b[0m \u001b[32m━━━━━━━━━━━━━━━━━━━━\u001b[0m\u001b[37m\u001b[0m \u001b[1m0s\u001b[0m 14ms/step - custom_accuracy_without_padding: 0.6777 - custom_mse: 0.0289 - loss: 0.0303 - val_custom_accuracy_without_padding: 0.6796 - val_custom_mse: 0.0289 - val_loss: 0.0304 - learning_rate: 5.0000e-04\n",
            "Epoch 162/500\n",
            "\u001b[1m25/25\u001b[0m \u001b[32m━━━━━━━━━━━━━━━━━━━━\u001b[0m\u001b[37m\u001b[0m \u001b[1m0s\u001b[0m 4ms/step - custom_accuracy_without_padding: 0.6773 - custom_mse: 0.0298 - loss: 0.0312\n",
            "Epoch 162: val_loss did not improve from 0.03037\n",
            "\u001b[1m25/25\u001b[0m \u001b[32m━━━━━━━━━━━━━━━━━━━━\u001b[0m\u001b[37m\u001b[0m \u001b[1m0s\u001b[0m 8ms/step - custom_accuracy_without_padding: 0.6774 - custom_mse: 0.0298 - loss: 0.0312 - val_custom_accuracy_without_padding: 0.6792 - val_custom_mse: 0.0292 - val_loss: 0.0307 - learning_rate: 5.0000e-04\n",
            "Epoch 163/500\n",
            "\u001b[1m25/25\u001b[0m \u001b[32m━━━━━━━━━━━━━━━━━━━━\u001b[0m\u001b[37m\u001b[0m \u001b[1m0s\u001b[0m 4ms/step - custom_accuracy_without_padding: 0.6771 - custom_mse: 0.0294 - loss: 0.0308\n",
            "Epoch 163: val_loss did not improve from 0.03037\n",
            "\u001b[1m25/25\u001b[0m \u001b[32m━━━━━━━━━━━━━━━━━━━━\u001b[0m\u001b[37m\u001b[0m \u001b[1m0s\u001b[0m 7ms/step - custom_accuracy_without_padding: 0.6770 - custom_mse: 0.0294 - loss: 0.0308 - val_custom_accuracy_without_padding: 0.6472 - val_custom_mse: 0.0296 - val_loss: 0.0310 - learning_rate: 5.0000e-04\n",
            "Epoch 164/500\n",
            "\u001b[1m14/25\u001b[0m \u001b[32m━━━━━━━━━━━\u001b[0m\u001b[37m━━━━━━━━━\u001b[0m \u001b[1m0s\u001b[0m 4ms/step - custom_accuracy_without_padding: 0.6627 - custom_mse: 0.0295 - loss: 0.0309 \n",
            "Epoch 164: val_loss did not improve from 0.03037\n",
            "\u001b[1m25/25\u001b[0m \u001b[32m━━━━━━━━━━━━━━━━━━━━\u001b[0m\u001b[37m\u001b[0m \u001b[1m0s\u001b[0m 8ms/step - custom_accuracy_without_padding: 0.6667 - custom_mse: 0.0294 - loss: 0.0308 - val_custom_accuracy_without_padding: 0.6713 - val_custom_mse: 0.0293 - val_loss: 0.0308 - learning_rate: 5.0000e-04\n",
            "Epoch 165/500\n",
            "\u001b[1m25/25\u001b[0m \u001b[32m━━━━━━━━━━━━━━━━━━━━\u001b[0m\u001b[37m\u001b[0m \u001b[1m0s\u001b[0m 4ms/step - custom_accuracy_without_padding: 0.6765 - custom_mse: 0.0292 - loss: 0.0306\n",
            "Epoch 165: val_loss improved from 0.03037 to 0.03015, saving model to /content/drive/MyDrive/10 Masters/Research/error-correcting-codes/ThisIsTheCleanest/weights/DCT_model_27.keras\n",
            "\u001b[1m25/25\u001b[0m \u001b[32m━━━━━━━━━━━━━━━━━━━━\u001b[0m\u001b[37m\u001b[0m \u001b[1m0s\u001b[0m 15ms/step - custom_accuracy_without_padding: 0.6767 - custom_mse: 0.0292 - loss: 0.0306 - val_custom_accuracy_without_padding: 0.6845 - val_custom_mse: 0.0288 - val_loss: 0.0301 - learning_rate: 5.0000e-04\n",
            "Epoch 166/500\n",
            "\u001b[1m13/25\u001b[0m \u001b[32m━━━━━━━━━━\u001b[0m\u001b[37m━━━━━━━━━━\u001b[0m \u001b[1m0s\u001b[0m 4ms/step - custom_accuracy_without_padding: 0.6833 - custom_mse: 0.0294 - loss: 0.0308  \n",
            "Epoch 166: val_loss did not improve from 0.03015\n",
            "\u001b[1m25/25\u001b[0m \u001b[32m━━━━━━━━━━━━━━━━━━━━\u001b[0m\u001b[37m\u001b[0m \u001b[1m0s\u001b[0m 8ms/step - custom_accuracy_without_padding: 0.6830 - custom_mse: 0.0293 - loss: 0.0307 - val_custom_accuracy_without_padding: 0.6662 - val_custom_mse: 0.0289 - val_loss: 0.0303 - learning_rate: 5.0000e-04\n",
            "Epoch 167/500\n",
            "\u001b[1m13/25\u001b[0m \u001b[32m━━━━━━━━━━\u001b[0m\u001b[37m━━━━━━━━━━\u001b[0m \u001b[1m0s\u001b[0m 4ms/step - custom_accuracy_without_padding: 0.6783 - custom_mse: 0.0289 - loss: 0.0303  \n",
            "Epoch 167: val_loss improved from 0.03015 to 0.02981, saving model to /content/drive/MyDrive/10 Masters/Research/error-correcting-codes/ThisIsTheCleanest/weights/DCT_model_27.keras\n",
            "\u001b[1m25/25\u001b[0m \u001b[32m━━━━━━━━━━━━━━━━━━━━\u001b[0m\u001b[37m\u001b[0m \u001b[1m0s\u001b[0m 14ms/step - custom_accuracy_without_padding: 0.6807 - custom_mse: 0.0289 - loss: 0.0303 - val_custom_accuracy_without_padding: 0.6857 - val_custom_mse: 0.0284 - val_loss: 0.0298 - learning_rate: 5.0000e-04\n",
            "Epoch 168/500\n",
            "\u001b[1m25/25\u001b[0m \u001b[32m━━━━━━━━━━━━━━━━━━━━\u001b[0m\u001b[37m\u001b[0m \u001b[1m0s\u001b[0m 4ms/step - custom_accuracy_without_padding: 0.6909 - custom_mse: 0.0283 - loss: 0.0297\n",
            "Epoch 168: val_loss did not improve from 0.02981\n",
            "\u001b[1m25/25\u001b[0m \u001b[32m━━━━━━━━━━━━━━━━━━━━\u001b[0m\u001b[37m\u001b[0m \u001b[1m0s\u001b[0m 9ms/step - custom_accuracy_without_padding: 0.6908 - custom_mse: 0.0283 - loss: 0.0297 - val_custom_accuracy_without_padding: 0.6839 - val_custom_mse: 0.0286 - val_loss: 0.0300 - learning_rate: 5.0000e-04\n",
            "Epoch 169/500\n",
            "\u001b[1m22/25\u001b[0m \u001b[32m━━━━━━━━━━━━━━━━━\u001b[0m\u001b[37m━━━\u001b[0m \u001b[1m0s\u001b[0m 5ms/step - custom_accuracy_without_padding: 0.6939 - custom_mse: 0.0282 - loss: 0.0296\n",
            "Epoch 169: val_loss did not improve from 0.02981\n",
            "\u001b[1m25/25\u001b[0m \u001b[32m━━━━━━━━━━━━━━━━━━━━\u001b[0m\u001b[37m\u001b[0m \u001b[1m0s\u001b[0m 9ms/step - custom_accuracy_without_padding: 0.6934 - custom_mse: 0.0282 - loss: 0.0296 - val_custom_accuracy_without_padding: 0.6920 - val_custom_mse: 0.0292 - val_loss: 0.0305 - learning_rate: 5.0000e-04\n",
            "Epoch 170/500\n",
            "\u001b[1m13/25\u001b[0m \u001b[32m━━━━━━━━━━\u001b[0m\u001b[37m━━━━━━━━━━\u001b[0m \u001b[1m0s\u001b[0m 4ms/step - custom_accuracy_without_padding: 0.6915 - custom_mse: 0.0290 - loss: 0.0304 \n",
            "Epoch 170: val_loss did not improve from 0.02981\n",
            "\u001b[1m25/25\u001b[0m \u001b[32m━━━━━━━━━━━━━━━━━━━━\u001b[0m\u001b[37m\u001b[0m \u001b[1m0s\u001b[0m 7ms/step - custom_accuracy_without_padding: 0.6919 - custom_mse: 0.0291 - loss: 0.0305 - val_custom_accuracy_without_padding: 0.6968 - val_custom_mse: 0.0287 - val_loss: 0.0301 - learning_rate: 5.0000e-04\n",
            "Epoch 171/500\n",
            "\u001b[1m13/25\u001b[0m \u001b[32m━━━━━━━━━━\u001b[0m\u001b[37m━━━━━━━━━━\u001b[0m \u001b[1m0s\u001b[0m 4ms/step - custom_accuracy_without_padding: 0.6951 - custom_mse: 0.0293 - loss: 0.0307  \n",
            "Epoch 171: val_loss did not improve from 0.02981\n",
            "\u001b[1m25/25\u001b[0m \u001b[32m━━━━━━━━━━━━━━━━━━━━\u001b[0m\u001b[37m\u001b[0m \u001b[1m0s\u001b[0m 7ms/step - custom_accuracy_without_padding: 0.6948 - custom_mse: 0.0291 - loss: 0.0305 - val_custom_accuracy_without_padding: 0.6959 - val_custom_mse: 0.0284 - val_loss: 0.0299 - learning_rate: 5.0000e-04\n",
            "Epoch 172/500\n",
            "\u001b[1m24/25\u001b[0m \u001b[32m━━━━━━━━━━━━━━━━━━━\u001b[0m\u001b[37m━\u001b[0m \u001b[1m0s\u001b[0m 5ms/step - custom_accuracy_without_padding: 0.6945 - custom_mse: 0.0291 - loss: 0.0305\n",
            "Epoch 172: val_loss improved from 0.02981 to 0.02966, saving model to /content/drive/MyDrive/10 Masters/Research/error-correcting-codes/ThisIsTheCleanest/weights/DCT_model_27.keras\n",
            "\u001b[1m25/25\u001b[0m \u001b[32m━━━━━━━━━━━━━━━━━━━━\u001b[0m\u001b[37m\u001b[0m \u001b[1m0s\u001b[0m 15ms/step - custom_accuracy_without_padding: 0.6946 - custom_mse: 0.0291 - loss: 0.0305 - val_custom_accuracy_without_padding: 0.6944 - val_custom_mse: 0.0283 - val_loss: 0.0297 - learning_rate: 5.0000e-04\n",
            "Epoch 173/500\n",
            "\u001b[1m24/25\u001b[0m \u001b[32m━━━━━━━━━━━━━━━━━━━\u001b[0m\u001b[37m━\u001b[0m \u001b[1m0s\u001b[0m 5ms/step - custom_accuracy_without_padding: 0.6927 - custom_mse: 0.0294 - loss: 0.0308\n",
            "Epoch 173: val_loss did not improve from 0.02966\n",
            "\u001b[1m25/25\u001b[0m \u001b[32m━━━━━━━━━━━━━━━━━━━━\u001b[0m\u001b[37m\u001b[0m \u001b[1m0s\u001b[0m 8ms/step - custom_accuracy_without_padding: 0.6926 - custom_mse: 0.0294 - loss: 0.0308 - val_custom_accuracy_without_padding: 0.6951 - val_custom_mse: 0.0287 - val_loss: 0.0300 - learning_rate: 5.0000e-04\n",
            "Epoch 174/500\n",
            "\u001b[1m13/25\u001b[0m \u001b[32m━━━━━━━━━━\u001b[0m\u001b[37m━━━━━━━━━━\u001b[0m \u001b[1m0s\u001b[0m 4ms/step - custom_accuracy_without_padding: 0.6930 - custom_mse: 0.0290 - loss: 0.0304 \n",
            "Epoch 174: val_loss improved from 0.02966 to 0.02963, saving model to /content/drive/MyDrive/10 Masters/Research/error-correcting-codes/ThisIsTheCleanest/weights/DCT_model_27.keras\n",
            "\u001b[1m25/25\u001b[0m \u001b[32m━━━━━━━━━━━━━━━━━━━━\u001b[0m\u001b[37m\u001b[0m \u001b[1m0s\u001b[0m 14ms/step - custom_accuracy_without_padding: 0.6939 - custom_mse: 0.0287 - loss: 0.0301 - val_custom_accuracy_without_padding: 0.6979 - val_custom_mse: 0.0282 - val_loss: 0.0296 - learning_rate: 5.0000e-04\n",
            "Epoch 175/500\n",
            "\u001b[1m13/25\u001b[0m \u001b[32m━━━━━━━━━━\u001b[0m\u001b[37m━━━━━━━━━━\u001b[0m \u001b[1m0s\u001b[0m 4ms/step - custom_accuracy_without_padding: 0.6989 - custom_mse: 0.0288 - loss: 0.0302 \n",
            "Epoch 175: val_loss improved from 0.02963 to 0.02959, saving model to /content/drive/MyDrive/10 Masters/Research/error-correcting-codes/ThisIsTheCleanest/weights/DCT_model_27.keras\n",
            "\u001b[1m25/25\u001b[0m \u001b[32m━━━━━━━━━━━━━━━━━━━━\u001b[0m\u001b[37m\u001b[0m \u001b[1m0s\u001b[0m 15ms/step - custom_accuracy_without_padding: 0.6992 - custom_mse: 0.0287 - loss: 0.0301 - val_custom_accuracy_without_padding: 0.6916 - val_custom_mse: 0.0282 - val_loss: 0.0296 - learning_rate: 5.0000e-04\n",
            "Epoch 176/500\n",
            "\u001b[1m13/25\u001b[0m \u001b[32m━━━━━━━━━━\u001b[0m\u001b[37m━━━━━━━━━━\u001b[0m \u001b[1m0s\u001b[0m 4ms/step - custom_accuracy_without_padding: 0.6964 - custom_mse: 0.0291 - loss: 0.0305 \n",
            "Epoch 176: val_loss did not improve from 0.02959\n",
            "\u001b[1m25/25\u001b[0m \u001b[32m━━━━━━━━━━━━━━━━━━━━\u001b[0m\u001b[37m\u001b[0m \u001b[1m0s\u001b[0m 7ms/step - custom_accuracy_without_padding: 0.6943 - custom_mse: 0.0288 - loss: 0.0302 - val_custom_accuracy_without_padding: 0.6812 - val_custom_mse: 0.0284 - val_loss: 0.0298 - learning_rate: 5.0000e-04\n",
            "Epoch 177/500\n",
            "\u001b[1m14/25\u001b[0m \u001b[32m━━━━━━━━━━━\u001b[0m\u001b[37m━━━━━━━━━\u001b[0m \u001b[1m0s\u001b[0m 4ms/step - custom_accuracy_without_padding: 0.6848 - custom_mse: 0.0296 - loss: 0.0310 \n",
            "Epoch 177: ReduceLROnPlateau reducing learning rate to 0.0002500000118743628.\n",
            "\n",
            "Epoch 177: val_loss did not improve from 0.02959\n",
            "\u001b[1m25/25\u001b[0m \u001b[32m━━━━━━━━━━━━━━━━━━━━\u001b[0m\u001b[37m\u001b[0m \u001b[1m0s\u001b[0m 8ms/step - custom_accuracy_without_padding: 0.6861 - custom_mse: 0.0293 - loss: 0.0306 - val_custom_accuracy_without_padding: 0.6812 - val_custom_mse: 0.0285 - val_loss: 0.0300 - learning_rate: 5.0000e-04\n",
            "Epoch 178/500\n",
            "\u001b[1m18/25\u001b[0m \u001b[32m━━━━━━━━━━━━━━\u001b[0m\u001b[37m━━━━━━\u001b[0m \u001b[1m0s\u001b[0m 6ms/step - custom_accuracy_without_padding: 0.6948 - custom_mse: 0.0287 - loss: 0.0301\n",
            "Epoch 178: val_loss improved from 0.02959 to 0.02903, saving model to /content/drive/MyDrive/10 Masters/Research/error-correcting-codes/ThisIsTheCleanest/weights/DCT_model_27.keras\n",
            "\u001b[1m25/25\u001b[0m \u001b[32m━━━━━━━━━━━━━━━━━━━━\u001b[0m\u001b[37m\u001b[0m \u001b[1m1s\u001b[0m 21ms/step - custom_accuracy_without_padding: 0.6966 - custom_mse: 0.0286 - loss: 0.0299 - val_custom_accuracy_without_padding: 0.7042 - val_custom_mse: 0.0276 - val_loss: 0.0290 - learning_rate: 2.5000e-04\n",
            "Epoch 179/500\n",
            "\u001b[1m19/25\u001b[0m \u001b[32m━━━━━━━━━━━━━━━\u001b[0m\u001b[37m━━━━━\u001b[0m \u001b[1m0s\u001b[0m 6ms/step - custom_accuracy_without_padding: 0.7058 - custom_mse: 0.0281 - loss: 0.0295\n",
            "Epoch 179: val_loss did not improve from 0.02903\n",
            "\u001b[1m25/25\u001b[0m \u001b[32m━━━━━━━━━━━━━━━━━━━━\u001b[0m\u001b[37m\u001b[0m \u001b[1m0s\u001b[0m 9ms/step - custom_accuracy_without_padding: 0.7060 - custom_mse: 0.0281 - loss: 0.0294 - val_custom_accuracy_without_padding: 0.7067 - val_custom_mse: 0.0277 - val_loss: 0.0291 - learning_rate: 2.5000e-04\n",
            "Epoch 180/500\n",
            "\u001b[1m17/25\u001b[0m \u001b[32m━━━━━━━━━━━━━\u001b[0m\u001b[37m━━━━━━━\u001b[0m \u001b[1m0s\u001b[0m 6ms/step - custom_accuracy_without_padding: 0.7070 - custom_mse: 0.0280 - loss: 0.0293\n",
            "Epoch 180: val_loss did not improve from 0.02903\n",
            "\u001b[1m25/25\u001b[0m \u001b[32m━━━━━━━━━━━━━━━━━━━━\u001b[0m\u001b[37m\u001b[0m \u001b[1m0s\u001b[0m 11ms/step - custom_accuracy_without_padding: 0.7062 - custom_mse: 0.0280 - loss: 0.0294 - val_custom_accuracy_without_padding: 0.7022 - val_custom_mse: 0.0277 - val_loss: 0.0291 - learning_rate: 2.5000e-04\n",
            "Epoch 181/500\n",
            "\u001b[1m19/25\u001b[0m \u001b[32m━━━━━━━━━━━━━━━\u001b[0m\u001b[37m━━━━━\u001b[0m \u001b[1m0s\u001b[0m 6ms/step - custom_accuracy_without_padding: 0.7063 - custom_mse: 0.0278 - loss: 0.0292\n",
            "Epoch 181: val_loss improved from 0.02903 to 0.02894, saving model to /content/drive/MyDrive/10 Masters/Research/error-correcting-codes/ThisIsTheCleanest/weights/DCT_model_27.keras\n",
            "\u001b[1m25/25\u001b[0m \u001b[32m━━━━━━━━━━━━━━━━━━━━\u001b[0m\u001b[37m\u001b[0m \u001b[1m1s\u001b[0m 20ms/step - custom_accuracy_without_padding: 0.7066 - custom_mse: 0.0278 - loss: 0.0292 - val_custom_accuracy_without_padding: 0.7044 - val_custom_mse: 0.0275 - val_loss: 0.0289 - learning_rate: 2.5000e-04\n",
            "Epoch 182/500\n",
            "\u001b[1m24/25\u001b[0m \u001b[32m━━━━━━━━━━━━━━━━━━━\u001b[0m\u001b[37m━\u001b[0m \u001b[1m0s\u001b[0m 7ms/step - custom_accuracy_without_padding: 0.7095 - custom_mse: 0.0276 - loss: 0.0290\n",
            "Epoch 182: val_loss did not improve from 0.02894\n",
            "\u001b[1m25/25\u001b[0m \u001b[32m━━━━━━━━━━━━━━━━━━━━\u001b[0m\u001b[37m\u001b[0m \u001b[1m0s\u001b[0m 12ms/step - custom_accuracy_without_padding: 0.7093 - custom_mse: 0.0277 - loss: 0.0290 - val_custom_accuracy_without_padding: 0.7004 - val_custom_mse: 0.0277 - val_loss: 0.0291 - learning_rate: 2.5000e-04\n",
            "Epoch 183/500\n",
            "\u001b[1m16/25\u001b[0m \u001b[32m━━━━━━━━━━━━\u001b[0m\u001b[37m━━━━━━━━\u001b[0m \u001b[1m0s\u001b[0m 7ms/step - custom_accuracy_without_padding: 0.7034 - custom_mse: 0.0281 - loss: 0.0295\n",
            "Epoch 183: ReduceLROnPlateau reducing learning rate to 0.0001250000059371814.\n",
            "\n",
            "Epoch 183: val_loss did not improve from 0.02894\n",
            "\u001b[1m25/25\u001b[0m \u001b[32m━━━━━━━━━━━━━━━━━━━━\u001b[0m\u001b[37m\u001b[0m \u001b[1m0s\u001b[0m 9ms/step - custom_accuracy_without_padding: 0.7047 - custom_mse: 0.0281 - loss: 0.0294 - val_custom_accuracy_without_padding: 0.7057 - val_custom_mse: 0.0280 - val_loss: 0.0294 - learning_rate: 2.5000e-04\n",
            "Epoch 184/500\n",
            "\u001b[1m13/25\u001b[0m \u001b[32m━━━━━━━━━━\u001b[0m\u001b[37m━━━━━━━━━━\u001b[0m \u001b[1m0s\u001b[0m 4ms/step - custom_accuracy_without_padding: 0.7077 - custom_mse: 0.0279 - loss: 0.0293 \n",
            "Epoch 184: val_loss improved from 0.02894 to 0.02884, saving model to /content/drive/MyDrive/10 Masters/Research/error-correcting-codes/ThisIsTheCleanest/weights/DCT_model_27.keras\n",
            "\u001b[1m25/25\u001b[0m \u001b[32m━━━━━━━━━━━━━━━━━━━━\u001b[0m\u001b[37m\u001b[0m \u001b[1m0s\u001b[0m 14ms/step - custom_accuracy_without_padding: 0.7079 - custom_mse: 0.0280 - loss: 0.0293 - val_custom_accuracy_without_padding: 0.7059 - val_custom_mse: 0.0274 - val_loss: 0.0288 - learning_rate: 1.2500e-04\n",
            "Epoch 185/500\n",
            "\u001b[1m24/25\u001b[0m \u001b[32m━━━━━━━━━━━━━━━━━━━\u001b[0m\u001b[37m━\u001b[0m \u001b[1m0s\u001b[0m 5ms/step - custom_accuracy_without_padding: 0.7124 - custom_mse: 0.0276 - loss: 0.0290\n",
            "Epoch 185: val_loss improved from 0.02884 to 0.02879, saving model to /content/drive/MyDrive/10 Masters/Research/error-correcting-codes/ThisIsTheCleanest/weights/DCT_model_27.keras\n",
            "\u001b[1m25/25\u001b[0m \u001b[32m━━━━━━━━━━━━━━━━━━━━\u001b[0m\u001b[37m\u001b[0m \u001b[1m0s\u001b[0m 15ms/step - custom_accuracy_without_padding: 0.7122 - custom_mse: 0.0276 - loss: 0.0290 - val_custom_accuracy_without_padding: 0.7078 - val_custom_mse: 0.0274 - val_loss: 0.0288 - learning_rate: 1.2500e-04\n",
            "Epoch 186/500\n",
            "\u001b[1m25/25\u001b[0m \u001b[32m━━━━━━━━━━━━━━━━━━━━\u001b[0m\u001b[37m\u001b[0m \u001b[1m0s\u001b[0m 4ms/step - custom_accuracy_without_padding: 0.7103 - custom_mse: 0.0279 - loss: 0.0292\n",
            "Epoch 186: val_loss did not improve from 0.02879\n",
            "\u001b[1m25/25\u001b[0m \u001b[32m━━━━━━━━━━━━━━━━━━━━\u001b[0m\u001b[37m\u001b[0m \u001b[1m0s\u001b[0m 7ms/step - custom_accuracy_without_padding: 0.7104 - custom_mse: 0.0279 - loss: 0.0292 - val_custom_accuracy_without_padding: 0.7045 - val_custom_mse: 0.0276 - val_loss: 0.0291 - learning_rate: 1.2500e-04\n",
            "Epoch 187/500\n",
            "\u001b[1m22/25\u001b[0m \u001b[32m━━━━━━━━━━━━━━━━━\u001b[0m\u001b[37m━━━\u001b[0m \u001b[1m0s\u001b[0m 5ms/step - custom_accuracy_without_padding: 0.7079 - custom_mse: 0.0283 - loss: 0.0297\n",
            "Epoch 187: val_loss improved from 0.02879 to 0.02878, saving model to /content/drive/MyDrive/10 Masters/Research/error-correcting-codes/ThisIsTheCleanest/weights/DCT_model_27.keras\n",
            "\u001b[1m25/25\u001b[0m \u001b[32m━━━━━━━━━━━━━━━━━━━━\u001b[0m\u001b[37m\u001b[0m \u001b[1m0s\u001b[0m 17ms/step - custom_accuracy_without_padding: 0.7085 - custom_mse: 0.0282 - loss: 0.0296 - val_custom_accuracy_without_padding: 0.7095 - val_custom_mse: 0.0274 - val_loss: 0.0288 - learning_rate: 1.2500e-04\n",
            "Epoch 188/500\n",
            "\u001b[1m24/25\u001b[0m \u001b[32m━━━━━━━━━━━━━━━━━━━\u001b[0m\u001b[37m━\u001b[0m \u001b[1m0s\u001b[0m 4ms/step - custom_accuracy_without_padding: 0.7128 - custom_mse: 0.0272 - loss: 0.0285\n",
            "Epoch 188: val_loss improved from 0.02878 to 0.02876, saving model to /content/drive/MyDrive/10 Masters/Research/error-correcting-codes/ThisIsTheCleanest/weights/DCT_model_27.keras\n",
            "\u001b[1m25/25\u001b[0m \u001b[32m━━━━━━━━━━━━━━━━━━━━\u001b[0m\u001b[37m\u001b[0m \u001b[1m1s\u001b[0m 15ms/step - custom_accuracy_without_padding: 0.7126 - custom_mse: 0.0272 - loss: 0.0286 - val_custom_accuracy_without_padding: 0.7080 - val_custom_mse: 0.0273 - val_loss: 0.0288 - learning_rate: 1.2500e-04\n",
            "Epoch 189/500\n",
            "\u001b[1m22/25\u001b[0m \u001b[32m━━━━━━━━━━━━━━━━━\u001b[0m\u001b[37m━━━\u001b[0m \u001b[1m0s\u001b[0m 5ms/step - custom_accuracy_without_padding: 0.7130 - custom_mse: 0.0279 - loss: 0.0293\n",
            "Epoch 189: ReduceLROnPlateau reducing learning rate to 6.25000029685907e-05.\n",
            "\n",
            "Epoch 189: val_loss did not improve from 0.02876\n",
            "\u001b[1m25/25\u001b[0m \u001b[32m━━━━━━━━━━━━━━━━━━━━\u001b[0m\u001b[37m\u001b[0m \u001b[1m0s\u001b[0m 8ms/step - custom_accuracy_without_padding: 0.7129 - custom_mse: 0.0279 - loss: 0.0292 - val_custom_accuracy_without_padding: 0.7057 - val_custom_mse: 0.0273 - val_loss: 0.0288 - learning_rate: 1.2500e-04\n",
            "Epoch 190/500\n",
            "\u001b[1m25/25\u001b[0m \u001b[32m━━━━━━━━━━━━━━━━━━━━\u001b[0m\u001b[37m\u001b[0m \u001b[1m0s\u001b[0m 4ms/step - custom_accuracy_without_padding: 0.7120 - custom_mse: 0.0271 - loss: 0.0285\n",
            "Epoch 190: val_loss improved from 0.02876 to 0.02874, saving model to /content/drive/MyDrive/10 Masters/Research/error-correcting-codes/ThisIsTheCleanest/weights/DCT_model_27.keras\n",
            "\u001b[1m25/25\u001b[0m \u001b[32m━━━━━━━━━━━━━━━━━━━━\u001b[0m\u001b[37m\u001b[0m \u001b[1m0s\u001b[0m 15ms/step - custom_accuracy_without_padding: 0.7120 - custom_mse: 0.0271 - loss: 0.0285 - val_custom_accuracy_without_padding: 0.7090 - val_custom_mse: 0.0273 - val_loss: 0.0287 - learning_rate: 6.2500e-05\n",
            "Epoch 191/500\n",
            "\u001b[1m25/25\u001b[0m \u001b[32m━━━━━━━━━━━━━━━━━━━━\u001b[0m\u001b[37m\u001b[0m \u001b[1m0s\u001b[0m 4ms/step - custom_accuracy_without_padding: 0.7142 - custom_mse: 0.0274 - loss: 0.0288\n",
            "Epoch 191: val_loss improved from 0.02874 to 0.02873, saving model to /content/drive/MyDrive/10 Masters/Research/error-correcting-codes/ThisIsTheCleanest/weights/DCT_model_27.keras\n",
            "\u001b[1m25/25\u001b[0m \u001b[32m━━━━━━━━━━━━━━━━━━━━\u001b[0m\u001b[37m\u001b[0m \u001b[1m1s\u001b[0m 15ms/step - custom_accuracy_without_padding: 0.7142 - custom_mse: 0.0274 - loss: 0.0288 - val_custom_accuracy_without_padding: 0.7080 - val_custom_mse: 0.0273 - val_loss: 0.0287 - learning_rate: 6.2500e-05\n",
            "Epoch 192/500\n",
            "\u001b[1m24/25\u001b[0m \u001b[32m━━━━━━━━━━━━━━━━━━━\u001b[0m\u001b[37m━\u001b[0m \u001b[1m0s\u001b[0m 4ms/step - custom_accuracy_without_padding: 0.7126 - custom_mse: 0.0277 - loss: 0.0291\n",
            "Epoch 192: val_loss improved from 0.02873 to 0.02868, saving model to /content/drive/MyDrive/10 Masters/Research/error-correcting-codes/ThisIsTheCleanest/weights/DCT_model_27.keras\n",
            "\u001b[1m25/25\u001b[0m \u001b[32m━━━━━━━━━━━━━━━━━━━━\u001b[0m\u001b[37m\u001b[0m \u001b[1m1s\u001b[0m 15ms/step - custom_accuracy_without_padding: 0.7127 - custom_mse: 0.0277 - loss: 0.0291 - val_custom_accuracy_without_padding: 0.7087 - val_custom_mse: 0.0273 - val_loss: 0.0287 - learning_rate: 6.2500e-05\n",
            "Epoch 193/500\n",
            "\u001b[1m23/25\u001b[0m \u001b[32m━━━━━━━━━━━━━━━━━━\u001b[0m\u001b[37m━━\u001b[0m \u001b[1m0s\u001b[0m 5ms/step - custom_accuracy_without_padding: 0.7142 - custom_mse: 0.0276 - loss: 0.0290\n",
            "Epoch 193: val_loss improved from 0.02868 to 0.02868, saving model to /content/drive/MyDrive/10 Masters/Research/error-correcting-codes/ThisIsTheCleanest/weights/DCT_model_27.keras\n",
            "\u001b[1m25/25\u001b[0m \u001b[32m━━━━━━━━━━━━━━━━━━━━\u001b[0m\u001b[37m\u001b[0m \u001b[1m1s\u001b[0m 17ms/step - custom_accuracy_without_padding: 0.7139 - custom_mse: 0.0276 - loss: 0.0290 - val_custom_accuracy_without_padding: 0.7078 - val_custom_mse: 0.0273 - val_loss: 0.0287 - learning_rate: 6.2500e-05\n",
            "Epoch 194/500\n",
            "\u001b[1m25/25\u001b[0m \u001b[32m━━━━━━━━━━━━━━━━━━━━\u001b[0m\u001b[37m\u001b[0m \u001b[1m0s\u001b[0m 4ms/step - custom_accuracy_without_padding: 0.7114 - custom_mse: 0.0276 - loss: 0.0290\n",
            "Epoch 194: val_loss did not improve from 0.02868\n",
            "\u001b[1m25/25\u001b[0m \u001b[32m━━━━━━━━━━━━━━━━━━━━\u001b[0m\u001b[37m\u001b[0m \u001b[1m0s\u001b[0m 7ms/step - custom_accuracy_without_padding: 0.7114 - custom_mse: 0.0276 - loss: 0.0290 - val_custom_accuracy_without_padding: 0.7060 - val_custom_mse: 0.0273 - val_loss: 0.0287 - learning_rate: 6.2500e-05\n",
            "Epoch 195/500\n",
            "\u001b[1m25/25\u001b[0m \u001b[32m━━━━━━━━━━━━━━━━━━━━\u001b[0m\u001b[37m\u001b[0m \u001b[1m0s\u001b[0m 4ms/step - custom_accuracy_without_padding: 0.7107 - custom_mse: 0.0275 - loss: 0.0288\n",
            "Epoch 195: ReduceLROnPlateau reducing learning rate to 3.125000148429535e-05.\n",
            "\n",
            "Epoch 195: val_loss did not improve from 0.02868\n",
            "\u001b[1m25/25\u001b[0m \u001b[32m━━━━━━━━━━━━━━━━━━━━\u001b[0m\u001b[37m\u001b[0m \u001b[1m0s\u001b[0m 7ms/step - custom_accuracy_without_padding: 0.7108 - custom_mse: 0.0275 - loss: 0.0288 - val_custom_accuracy_without_padding: 0.7082 - val_custom_mse: 0.0273 - val_loss: 0.0287 - learning_rate: 6.2500e-05\n",
            "Epoch 196/500\n",
            "\u001b[1m25/25\u001b[0m \u001b[32m━━━━━━━━━━━━━━━━━━━━\u001b[0m\u001b[37m\u001b[0m \u001b[1m0s\u001b[0m 4ms/step - custom_accuracy_without_padding: 0.7139 - custom_mse: 0.0272 - loss: 0.0285\n",
            "Epoch 196: val_loss improved from 0.02868 to 0.02866, saving model to /content/drive/MyDrive/10 Masters/Research/error-correcting-codes/ThisIsTheCleanest/weights/DCT_model_27.keras\n",
            "\u001b[1m25/25\u001b[0m \u001b[32m━━━━━━━━━━━━━━━━━━━━\u001b[0m\u001b[37m\u001b[0m \u001b[1m0s\u001b[0m 15ms/step - custom_accuracy_without_padding: 0.7138 - custom_mse: 0.0272 - loss: 0.0286 - val_custom_accuracy_without_padding: 0.7092 - val_custom_mse: 0.0273 - val_loss: 0.0287 - learning_rate: 3.1250e-05\n",
            "Epoch 197/500\n",
            "\u001b[1m25/25\u001b[0m \u001b[32m━━━━━━━━━━━━━━━━━━━━\u001b[0m\u001b[37m\u001b[0m \u001b[1m0s\u001b[0m 4ms/step - custom_accuracy_without_padding: 0.7121 - custom_mse: 0.0279 - loss: 0.0292\n",
            "Epoch 197: val_loss did not improve from 0.02866\n",
            "\u001b[1m25/25\u001b[0m \u001b[32m━━━━━━━━━━━━━━━━━━━━\u001b[0m\u001b[37m\u001b[0m \u001b[1m0s\u001b[0m 7ms/step - custom_accuracy_without_padding: 0.7121 - custom_mse: 0.0278 - loss: 0.0292 - val_custom_accuracy_without_padding: 0.7085 - val_custom_mse: 0.0273 - val_loss: 0.0287 - learning_rate: 3.1250e-05\n",
            "Epoch 198/500\n",
            "\u001b[1m25/25\u001b[0m \u001b[32m━━━━━━━━━━━━━━━━━━━━\u001b[0m\u001b[37m\u001b[0m \u001b[1m0s\u001b[0m 4ms/step - custom_accuracy_without_padding: 0.7119 - custom_mse: 0.0272 - loss: 0.0286\n",
            "Epoch 198: val_loss did not improve from 0.02866\n",
            "\u001b[1m25/25\u001b[0m \u001b[32m━━━━━━━━━━━━━━━━━━━━\u001b[0m\u001b[37m\u001b[0m \u001b[1m0s\u001b[0m 7ms/step - custom_accuracy_without_padding: 0.7120 - custom_mse: 0.0272 - loss: 0.0286 - val_custom_accuracy_without_padding: 0.7073 - val_custom_mse: 0.0273 - val_loss: 0.0287 - learning_rate: 3.1250e-05\n",
            "Epoch 199/500\n",
            "\u001b[1m23/25\u001b[0m \u001b[32m━━━━━━━━━━━━━━━━━━\u001b[0m\u001b[37m━━\u001b[0m \u001b[1m0s\u001b[0m 5ms/step - custom_accuracy_without_padding: 0.7132 - custom_mse: 0.0276 - loss: 0.0289\n",
            "Epoch 199: val_loss did not improve from 0.02866\n",
            "\u001b[1m25/25\u001b[0m \u001b[32m━━━━━━━━━━━━━━━━━━━━\u001b[0m\u001b[37m\u001b[0m \u001b[1m0s\u001b[0m 8ms/step - custom_accuracy_without_padding: 0.7131 - custom_mse: 0.0275 - loss: 0.0289 - val_custom_accuracy_without_padding: 0.7082 - val_custom_mse: 0.0273 - val_loss: 0.0287 - learning_rate: 3.1250e-05\n",
            "Epoch 200/500\n",
            "\u001b[1m25/25\u001b[0m \u001b[32m━━━━━━━━━━━━━━━━━━━━\u001b[0m\u001b[37m\u001b[0m \u001b[1m0s\u001b[0m 4ms/step - custom_accuracy_without_padding: 0.7129 - custom_mse: 0.0278 - loss: 0.0292\n",
            "Epoch 200: ReduceLROnPlateau reducing learning rate to 1.5625000742147677e-05.\n",
            "\n",
            "Epoch 200: val_loss did not improve from 0.02866\n",
            "\u001b[1m25/25\u001b[0m \u001b[32m━━━━━━━━━━━━━━━━━━━━\u001b[0m\u001b[37m\u001b[0m \u001b[1m0s\u001b[0m 8ms/step - custom_accuracy_without_padding: 0.7129 - custom_mse: 0.0278 - loss: 0.0292 - val_custom_accuracy_without_padding: 0.7075 - val_custom_mse: 0.0272 - val_loss: 0.0287 - learning_rate: 3.1250e-05\n",
            "Epoch 201/500\n",
            "\u001b[1m24/25\u001b[0m \u001b[32m━━━━━━━━━━━━━━━━━━━\u001b[0m\u001b[37m━\u001b[0m \u001b[1m0s\u001b[0m 4ms/step - custom_accuracy_without_padding: 0.7134 - custom_mse: 0.0273 - loss: 0.0287\n",
            "Epoch 201: val_loss improved from 0.02866 to 0.02864, saving model to /content/drive/MyDrive/10 Masters/Research/error-correcting-codes/ThisIsTheCleanest/weights/DCT_model_27.keras\n",
            "\u001b[1m25/25\u001b[0m \u001b[32m━━━━━━━━━━━━━━━━━━━━\u001b[0m\u001b[37m\u001b[0m \u001b[1m0s\u001b[0m 15ms/step - custom_accuracy_without_padding: 0.7134 - custom_mse: 0.0274 - loss: 0.0287 - val_custom_accuracy_without_padding: 0.7090 - val_custom_mse: 0.0272 - val_loss: 0.0286 - learning_rate: 1.5625e-05\n",
            "Epoch 202/500\n",
            "\u001b[1m13/25\u001b[0m \u001b[32m━━━━━━━━━━\u001b[0m\u001b[37m━━━━━━━━━━\u001b[0m \u001b[1m0s\u001b[0m 4ms/step - custom_accuracy_without_padding: 0.7137 - custom_mse: 0.0275 - loss: 0.0288 \n",
            "Epoch 202: val_loss did not improve from 0.02864\n",
            "\u001b[1m25/25\u001b[0m \u001b[32m━━━━━━━━━━━━━━━━━━━━\u001b[0m\u001b[37m\u001b[0m \u001b[1m0s\u001b[0m 8ms/step - custom_accuracy_without_padding: 0.7136 - custom_mse: 0.0275 - loss: 0.0288 - val_custom_accuracy_without_padding: 0.7093 - val_custom_mse: 0.0272 - val_loss: 0.0286 - learning_rate: 1.5625e-05\n",
            "Epoch 203/500\n",
            "\u001b[1m23/25\u001b[0m \u001b[32m━━━━━━━━━━━━━━━━━━\u001b[0m\u001b[37m━━\u001b[0m \u001b[1m0s\u001b[0m 5ms/step - custom_accuracy_without_padding: 0.7117 - custom_mse: 0.0274 - loss: 0.0288\n",
            "Epoch 203: val_loss improved from 0.02864 to 0.02863, saving model to /content/drive/MyDrive/10 Masters/Research/error-correcting-codes/ThisIsTheCleanest/weights/DCT_model_27.keras\n",
            "\u001b[1m25/25\u001b[0m \u001b[32m━━━━━━━━━━━━━━━━━━━━\u001b[0m\u001b[37m\u001b[0m \u001b[1m0s\u001b[0m 15ms/step - custom_accuracy_without_padding: 0.7118 - custom_mse: 0.0274 - loss: 0.0288 - val_custom_accuracy_without_padding: 0.7087 - val_custom_mse: 0.0272 - val_loss: 0.0286 - learning_rate: 1.5625e-05\n",
            "Epoch 204/500\n",
            "\u001b[1m24/25\u001b[0m \u001b[32m━━━━━━━━━━━━━━━━━━━\u001b[0m\u001b[37m━\u001b[0m \u001b[1m0s\u001b[0m 4ms/step - custom_accuracy_without_padding: 0.7148 - custom_mse: 0.0275 - loss: 0.0288\n",
            "Epoch 204: val_loss did not improve from 0.02863\n",
            "\u001b[1m25/25\u001b[0m \u001b[32m━━━━━━━━━━━━━━━━━━━━\u001b[0m\u001b[37m\u001b[0m \u001b[1m0s\u001b[0m 7ms/step - custom_accuracy_without_padding: 0.7146 - custom_mse: 0.0275 - loss: 0.0288 - val_custom_accuracy_without_padding: 0.7097 - val_custom_mse: 0.0272 - val_loss: 0.0286 - learning_rate: 1.5625e-05\n",
            "Epoch 205/500\n",
            "\u001b[1m22/25\u001b[0m \u001b[32m━━━━━━━━━━━━━━━━━\u001b[0m\u001b[37m━━━\u001b[0m \u001b[1m0s\u001b[0m 5ms/step - custom_accuracy_without_padding: 0.7108 - custom_mse: 0.0276 - loss: 0.0290\n",
            "Epoch 205: val_loss did not improve from 0.02863\n",
            "\u001b[1m25/25\u001b[0m \u001b[32m━━━━━━━━━━━━━━━━━━━━\u001b[0m\u001b[37m\u001b[0m \u001b[1m0s\u001b[0m 8ms/step - custom_accuracy_without_padding: 0.7111 - custom_mse: 0.0276 - loss: 0.0290 - val_custom_accuracy_without_padding: 0.7078 - val_custom_mse: 0.0272 - val_loss: 0.0286 - learning_rate: 1.5625e-05\n",
            "Epoch 206/500\n",
            "\u001b[1m25/25\u001b[0m \u001b[32m━━━━━━━━━━━━━━━━━━━━\u001b[0m\u001b[37m\u001b[0m \u001b[1m0s\u001b[0m 4ms/step - custom_accuracy_without_padding: 0.7126 - custom_mse: 0.0280 - loss: 0.0293\n",
            "Epoch 206: val_loss did not improve from 0.02863\n",
            "\u001b[1m25/25\u001b[0m \u001b[32m━━━━━━━━━━━━━━━━━━━━\u001b[0m\u001b[37m\u001b[0m \u001b[1m0s\u001b[0m 8ms/step - custom_accuracy_without_padding: 0.7127 - custom_mse: 0.0279 - loss: 0.0293 - val_custom_accuracy_without_padding: 0.7082 - val_custom_mse: 0.0272 - val_loss: 0.0286 - learning_rate: 1.5625e-05\n",
            "Epoch 207/500\n",
            "\u001b[1m13/25\u001b[0m \u001b[32m━━━━━━━━━━\u001b[0m\u001b[37m━━━━━━━━━━\u001b[0m \u001b[1m0s\u001b[0m 4ms/step - custom_accuracy_without_padding: 0.7136 - custom_mse: 0.0277 - loss: 0.0291 \n",
            "Epoch 207: val_loss did not improve from 0.02863\n",
            "\u001b[1m25/25\u001b[0m \u001b[32m━━━━━━━━━━━━━━━━━━━━\u001b[0m\u001b[37m\u001b[0m \u001b[1m0s\u001b[0m 7ms/step - custom_accuracy_without_padding: 0.7135 - custom_mse: 0.0276 - loss: 0.0289 - val_custom_accuracy_without_padding: 0.7082 - val_custom_mse: 0.0272 - val_loss: 0.0286 - learning_rate: 1.5625e-05\n",
            "Epoch 208/500\n",
            "\u001b[1m25/25\u001b[0m \u001b[32m━━━━━━━━━━━━━━━━━━━━\u001b[0m\u001b[37m\u001b[0m \u001b[1m0s\u001b[0m 4ms/step - custom_accuracy_without_padding: 0.7142 - custom_mse: 0.0271 - loss: 0.0285\n",
            "Epoch 208: ReduceLROnPlateau reducing learning rate to 7.812500371073838e-06.\n",
            "\n",
            "Epoch 208: val_loss improved from 0.02863 to 0.02863, saving model to /content/drive/MyDrive/10 Masters/Research/error-correcting-codes/ThisIsTheCleanest/weights/DCT_model_27.keras\n",
            "\u001b[1m25/25\u001b[0m \u001b[32m━━━━━━━━━━━━━━━━━━━━\u001b[0m\u001b[37m\u001b[0m \u001b[1m1s\u001b[0m 15ms/step - custom_accuracy_without_padding: 0.7141 - custom_mse: 0.0271 - loss: 0.0285 - val_custom_accuracy_without_padding: 0.7082 - val_custom_mse: 0.0272 - val_loss: 0.0286 - learning_rate: 1.5625e-05\n",
            "Epoch 209/500\n",
            "\u001b[1m25/25\u001b[0m \u001b[32m━━━━━━━━━━━━━━━━━━━━\u001b[0m\u001b[37m\u001b[0m \u001b[1m0s\u001b[0m 4ms/step - custom_accuracy_without_padding: 0.7152 - custom_mse: 0.0268 - loss: 0.0282\n",
            "Epoch 209: val_loss did not improve from 0.02863\n",
            "\u001b[1m25/25\u001b[0m \u001b[32m━━━━━━━━━━━━━━━━━━━━\u001b[0m\u001b[37m\u001b[0m \u001b[1m0s\u001b[0m 7ms/step - custom_accuracy_without_padding: 0.7151 - custom_mse: 0.0269 - loss: 0.0282 - val_custom_accuracy_without_padding: 0.7083 - val_custom_mse: 0.0272 - val_loss: 0.0286 - learning_rate: 7.8125e-06\n",
            "Epoch 210/500\n",
            "\u001b[1m24/25\u001b[0m \u001b[32m━━━━━━━━━━━━━━━━━━━\u001b[0m\u001b[37m━\u001b[0m \u001b[1m0s\u001b[0m 4ms/step - custom_accuracy_without_padding: 0.7130 - custom_mse: 0.0273 - loss: 0.0287\n",
            "Epoch 210: val_loss improved from 0.02863 to 0.02863, saving model to /content/drive/MyDrive/10 Masters/Research/error-correcting-codes/ThisIsTheCleanest/weights/DCT_model_27.keras\n",
            "\u001b[1m25/25\u001b[0m \u001b[32m━━━━━━━━━━━━━━━━━━━━\u001b[0m\u001b[37m\u001b[0m \u001b[1m1s\u001b[0m 20ms/step - custom_accuracy_without_padding: 0.7130 - custom_mse: 0.0273 - loss: 0.0287 - val_custom_accuracy_without_padding: 0.7078 - val_custom_mse: 0.0272 - val_loss: 0.0286 - learning_rate: 7.8125e-06\n",
            "Epoch 211/500\n",
            "\u001b[1m19/25\u001b[0m \u001b[32m━━━━━━━━━━━━━━━\u001b[0m\u001b[37m━━━━━\u001b[0m \u001b[1m0s\u001b[0m 9ms/step - custom_accuracy_without_padding: 0.7154 - custom_mse: 0.0267 - loss: 0.0281 \n",
            "Epoch 211: val_loss did not improve from 0.02863\n",
            "\u001b[1m25/25\u001b[0m \u001b[32m━━━━━━━━━━━━━━━━━━━━\u001b[0m\u001b[37m\u001b[0m \u001b[1m0s\u001b[0m 13ms/step - custom_accuracy_without_padding: 0.7149 - custom_mse: 0.0269 - loss: 0.0282 - val_custom_accuracy_without_padding: 0.7088 - val_custom_mse: 0.0272 - val_loss: 0.0286 - learning_rate: 7.8125e-06\n",
            "Epoch 212/500\n",
            "\u001b[1m17/25\u001b[0m \u001b[32m━━━━━━━━━━━━━\u001b[0m\u001b[37m━━━━━━━\u001b[0m \u001b[1m0s\u001b[0m 7ms/step - custom_accuracy_without_padding: 0.7096 - custom_mse: 0.0276 - loss: 0.0289\n",
            "Epoch 212: val_loss improved from 0.02863 to 0.02862, saving model to /content/drive/MyDrive/10 Masters/Research/error-correcting-codes/ThisIsTheCleanest/weights/DCT_model_27.keras\n",
            "\u001b[1m25/25\u001b[0m \u001b[32m━━━━━━━━━━━━━━━━━━━━\u001b[0m\u001b[37m\u001b[0m \u001b[1m1s\u001b[0m 20ms/step - custom_accuracy_without_padding: 0.7107 - custom_mse: 0.0275 - loss: 0.0289 - val_custom_accuracy_without_padding: 0.7083 - val_custom_mse: 0.0272 - val_loss: 0.0286 - learning_rate: 7.8125e-06\n",
            "Epoch 213/500\n",
            "\u001b[1m23/25\u001b[0m \u001b[32m━━━━━━━━━━━━━━━━━━\u001b[0m\u001b[37m━━\u001b[0m \u001b[1m0s\u001b[0m 7ms/step - custom_accuracy_without_padding: 0.7127 - custom_mse: 0.0274 - loss: 0.0288\n",
            "Epoch 213: ReduceLROnPlateau reducing learning rate to 3.906250185536919e-06.\n",
            "\n",
            "Epoch 213: val_loss did not improve from 0.02862\n",
            "\u001b[1m25/25\u001b[0m \u001b[32m━━━━━━━━━━━━━━━━━━━━\u001b[0m\u001b[37m\u001b[0m \u001b[1m0s\u001b[0m 11ms/step - custom_accuracy_without_padding: 0.7127 - custom_mse: 0.0274 - loss: 0.0288 - val_custom_accuracy_without_padding: 0.7083 - val_custom_mse: 0.0272 - val_loss: 0.0286 - learning_rate: 7.8125e-06\n",
            "Epoch 214/500\n",
            "\u001b[1m17/25\u001b[0m \u001b[32m━━━━━━━━━━━━━\u001b[0m\u001b[37m━━━━━━━\u001b[0m \u001b[1m0s\u001b[0m 7ms/step - custom_accuracy_without_padding: 0.7142 - custom_mse: 0.0274 - loss: 0.0288\n",
            "Epoch 214: val_loss did not improve from 0.02862\n",
            "\u001b[1m25/25\u001b[0m \u001b[32m━━━━━━━━━━━━━━━━━━━━\u001b[0m\u001b[37m\u001b[0m \u001b[1m0s\u001b[0m 8ms/step - custom_accuracy_without_padding: 0.7136 - custom_mse: 0.0275 - loss: 0.0288 - val_custom_accuracy_without_padding: 0.7077 - val_custom_mse: 0.0272 - val_loss: 0.0286 - learning_rate: 3.9063e-06\n",
            "Epoch 215/500\n",
            "\u001b[1m24/25\u001b[0m \u001b[32m━━━━━━━━━━━━━━━━━━━\u001b[0m\u001b[37m━\u001b[0m \u001b[1m0s\u001b[0m 4ms/step - custom_accuracy_without_padding: 0.7128 - custom_mse: 0.0272 - loss: 0.0285\n",
            "Epoch 215: val_loss improved from 0.02862 to 0.02862, saving model to /content/drive/MyDrive/10 Masters/Research/error-correcting-codes/ThisIsTheCleanest/weights/DCT_model_27.keras\n",
            "\u001b[1m25/25\u001b[0m \u001b[32m━━━━━━━━━━━━━━━━━━━━\u001b[0m\u001b[37m\u001b[0m \u001b[1m0s\u001b[0m 15ms/step - custom_accuracy_without_padding: 0.7128 - custom_mse: 0.0272 - loss: 0.0286 - val_custom_accuracy_without_padding: 0.7087 - val_custom_mse: 0.0272 - val_loss: 0.0286 - learning_rate: 3.9063e-06\n",
            "Epoch 216/500\n",
            "\u001b[1m25/25\u001b[0m \u001b[32m━━━━━━━━━━━━━━━━━━━━\u001b[0m\u001b[37m\u001b[0m \u001b[1m0s\u001b[0m 4ms/step - custom_accuracy_without_padding: 0.7134 - custom_mse: 0.0275 - loss: 0.0289\n",
            "Epoch 216: val_loss did not improve from 0.02862\n",
            "\u001b[1m25/25\u001b[0m \u001b[32m━━━━━━━━━━━━━━━━━━━━\u001b[0m\u001b[37m\u001b[0m \u001b[1m0s\u001b[0m 7ms/step - custom_accuracy_without_padding: 0.7134 - custom_mse: 0.0275 - loss: 0.0289 - val_custom_accuracy_without_padding: 0.7082 - val_custom_mse: 0.0272 - val_loss: 0.0286 - learning_rate: 3.9063e-06\n",
            "Epoch 217/500\n",
            "\u001b[1m25/25\u001b[0m \u001b[32m━━━━━━━━━━━━━━━━━━━━\u001b[0m\u001b[37m\u001b[0m \u001b[1m0s\u001b[0m 4ms/step - custom_accuracy_without_padding: 0.7151 - custom_mse: 0.0279 - loss: 0.0293\n",
            "Epoch 217: val_loss improved from 0.02862 to 0.02861, saving model to /content/drive/MyDrive/10 Masters/Research/error-correcting-codes/ThisIsTheCleanest/weights/DCT_model_27.keras\n",
            "\u001b[1m25/25\u001b[0m \u001b[32m━━━━━━━━━━━━━━━━━━━━\u001b[0m\u001b[37m\u001b[0m \u001b[1m0s\u001b[0m 15ms/step - custom_accuracy_without_padding: 0.7150 - custom_mse: 0.0279 - loss: 0.0293 - val_custom_accuracy_without_padding: 0.7087 - val_custom_mse: 0.0272 - val_loss: 0.0286 - learning_rate: 3.9063e-06\n",
            "Epoch 218/500\n",
            "\u001b[1m25/25\u001b[0m \u001b[32m━━━━━━━━━━━━━━━━━━━━\u001b[0m\u001b[37m\u001b[0m \u001b[1m0s\u001b[0m 4ms/step - custom_accuracy_without_padding: 0.7128 - custom_mse: 0.0269 - loss: 0.0283\n",
            "Epoch 218: ReduceLROnPlateau reducing learning rate to 1.9531250927684596e-06.\n",
            "\n",
            "Epoch 218: val_loss did not improve from 0.02861\n",
            "\u001b[1m25/25\u001b[0m \u001b[32m━━━━━━━━━━━━━━━━━━━━\u001b[0m\u001b[37m\u001b[0m \u001b[1m0s\u001b[0m 7ms/step - custom_accuracy_without_padding: 0.7128 - custom_mse: 0.0269 - loss: 0.0283 - val_custom_accuracy_without_padding: 0.7080 - val_custom_mse: 0.0272 - val_loss: 0.0286 - learning_rate: 3.9063e-06\n",
            "Epoch 219/500\n",
            "\u001b[1m22/25\u001b[0m \u001b[32m━━━━━━━━━━━━━━━━━\u001b[0m\u001b[37m━━━\u001b[0m \u001b[1m0s\u001b[0m 5ms/step - custom_accuracy_without_padding: 0.7125 - custom_mse: 0.0277 - loss: 0.0290\n",
            "Epoch 219: val_loss improved from 0.02861 to 0.02861, saving model to /content/drive/MyDrive/10 Masters/Research/error-correcting-codes/ThisIsTheCleanest/weights/DCT_model_27.keras\n",
            "\u001b[1m25/25\u001b[0m \u001b[32m━━━━━━━━━━━━━━━━━━━━\u001b[0m\u001b[37m\u001b[0m \u001b[1m0s\u001b[0m 15ms/step - custom_accuracy_without_padding: 0.7125 - custom_mse: 0.0276 - loss: 0.0290 - val_custom_accuracy_without_padding: 0.7087 - val_custom_mse: 0.0272 - val_loss: 0.0286 - learning_rate: 1.9531e-06\n",
            "Epoch 220/500\n",
            "\u001b[1m25/25\u001b[0m \u001b[32m━━━━━━━━━━━━━━━━━━━━\u001b[0m\u001b[37m\u001b[0m \u001b[1m0s\u001b[0m 4ms/step - custom_accuracy_without_padding: 0.7135 - custom_mse: 0.0273 - loss: 0.0287\n",
            "Epoch 220: val_loss did not improve from 0.02861\n",
            "\u001b[1m25/25\u001b[0m \u001b[32m━━━━━━━━━━━━━━━━━━━━\u001b[0m\u001b[37m\u001b[0m \u001b[1m0s\u001b[0m 7ms/step - custom_accuracy_without_padding: 0.7135 - custom_mse: 0.0273 - loss: 0.0287 - val_custom_accuracy_without_padding: 0.7082 - val_custom_mse: 0.0272 - val_loss: 0.0286 - learning_rate: 1.9531e-06\n",
            "Epoch 221/500\n",
            "\u001b[1m25/25\u001b[0m \u001b[32m━━━━━━━━━━━━━━━━━━━━\u001b[0m\u001b[37m\u001b[0m \u001b[1m0s\u001b[0m 4ms/step - custom_accuracy_without_padding: 0.7110 - custom_mse: 0.0274 - loss: 0.0288\n",
            "Epoch 221: val_loss did not improve from 0.02861\n",
            "\u001b[1m25/25\u001b[0m \u001b[32m━━━━━━━━━━━━━━━━━━━━\u001b[0m\u001b[37m\u001b[0m \u001b[1m0s\u001b[0m 9ms/step - custom_accuracy_without_padding: 0.7111 - custom_mse: 0.0274 - loss: 0.0288 - val_custom_accuracy_without_padding: 0.7077 - val_custom_mse: 0.0272 - val_loss: 0.0286 - learning_rate: 1.9531e-06\n",
            "Epoch 222/500\n",
            "\u001b[1m25/25\u001b[0m \u001b[32m━━━━━━━━━━━━━━━━━━━━\u001b[0m\u001b[37m\u001b[0m \u001b[1m0s\u001b[0m 4ms/step - custom_accuracy_without_padding: 0.7112 - custom_mse: 0.0274 - loss: 0.0287\n",
            "Epoch 222: val_loss did not improve from 0.02861\n",
            "\u001b[1m25/25\u001b[0m \u001b[32m━━━━━━━━━━━━━━━━━━━━\u001b[0m\u001b[37m\u001b[0m \u001b[1m0s\u001b[0m 9ms/step - custom_accuracy_without_padding: 0.7113 - custom_mse: 0.0274 - loss: 0.0287 - val_custom_accuracy_without_padding: 0.7080 - val_custom_mse: 0.0272 - val_loss: 0.0286 - learning_rate: 1.9531e-06\n",
            "Epoch 223/500\n",
            "\u001b[1m24/25\u001b[0m \u001b[32m━━━━━━━━━━━━━━━━━━━\u001b[0m\u001b[37m━\u001b[0m \u001b[1m0s\u001b[0m 5ms/step - custom_accuracy_without_padding: 0.7123 - custom_mse: 0.0275 - loss: 0.0288\n",
            "Epoch 223: ReduceLROnPlateau reducing learning rate to 9.765625463842298e-07.\n",
            "\n",
            "Epoch 223: val_loss did not improve from 0.02861\n",
            "\u001b[1m25/25\u001b[0m \u001b[32m━━━━━━━━━━━━━━━━━━━━\u001b[0m\u001b[37m\u001b[0m \u001b[1m0s\u001b[0m 9ms/step - custom_accuracy_without_padding: 0.7124 - custom_mse: 0.0274 - loss: 0.0288 - val_custom_accuracy_without_padding: 0.7087 - val_custom_mse: 0.0272 - val_loss: 0.0286 - learning_rate: 1.9531e-06\n",
            "Epoch 224/500\n",
            "\u001b[1m25/25\u001b[0m \u001b[32m━━━━━━━━━━━━━━━━━━━━\u001b[0m\u001b[37m\u001b[0m \u001b[1m0s\u001b[0m 4ms/step - custom_accuracy_without_padding: 0.7107 - custom_mse: 0.0275 - loss: 0.0288\n",
            "Epoch 224: val_loss did not improve from 0.02861\n",
            "\u001b[1m25/25\u001b[0m \u001b[32m━━━━━━━━━━━━━━━━━━━━\u001b[0m\u001b[37m\u001b[0m \u001b[1m0s\u001b[0m 7ms/step - custom_accuracy_without_padding: 0.7108 - custom_mse: 0.0275 - loss: 0.0288 - val_custom_accuracy_without_padding: 0.7078 - val_custom_mse: 0.0272 - val_loss: 0.0286 - learning_rate: 9.7656e-07\n",
            "Epoch 225/500\n",
            "\u001b[1m24/25\u001b[0m \u001b[32m━━━━━━━━━━━━━━━━━━━\u001b[0m\u001b[37m━\u001b[0m \u001b[1m0s\u001b[0m 5ms/step - custom_accuracy_without_padding: 0.7097 - custom_mse: 0.0279 - loss: 0.0293\n",
            "Epoch 225: val_loss did not improve from 0.02861\n",
            "\u001b[1m25/25\u001b[0m \u001b[32m━━━━━━━━━━━━━━━━━━━━\u001b[0m\u001b[37m\u001b[0m \u001b[1m0s\u001b[0m 9ms/step - custom_accuracy_without_padding: 0.7099 - custom_mse: 0.0279 - loss: 0.0293 - val_custom_accuracy_without_padding: 0.7082 - val_custom_mse: 0.0272 - val_loss: 0.0286 - learning_rate: 9.7656e-07\n",
            "Epoch 226/500\n",
            "\u001b[1m24/25\u001b[0m \u001b[32m━━━━━━━━━━━━━━━━━━━\u001b[0m\u001b[37m━\u001b[0m \u001b[1m0s\u001b[0m 5ms/step - custom_accuracy_without_padding: 0.7107 - custom_mse: 0.0277 - loss: 0.0290\n",
            "Epoch 226: val_loss did not improve from 0.02861\n",
            "\u001b[1m25/25\u001b[0m \u001b[32m━━━━━━━━━━━━━━━━━━━━\u001b[0m\u001b[37m\u001b[0m \u001b[1m0s\u001b[0m 8ms/step - custom_accuracy_without_padding: 0.7109 - custom_mse: 0.0276 - loss: 0.0290 - val_custom_accuracy_without_padding: 0.7087 - val_custom_mse: 0.0272 - val_loss: 0.0286 - learning_rate: 9.7656e-07\n",
            "Epoch 227/500\n",
            "\u001b[1m23/25\u001b[0m \u001b[32m━━━━━━━━━━━━━━━━━━\u001b[0m\u001b[37m━━\u001b[0m \u001b[1m0s\u001b[0m 5ms/step - custom_accuracy_without_padding: 0.7111 - custom_mse: 0.0277 - loss: 0.0291\n",
            "Epoch 227: val_loss did not improve from 0.02861\n",
            "\u001b[1m25/25\u001b[0m \u001b[32m━━━━━━━━━━━━━━━━━━━━\u001b[0m\u001b[37m\u001b[0m \u001b[1m0s\u001b[0m 8ms/step - custom_accuracy_without_padding: 0.7113 - custom_mse: 0.0277 - loss: 0.0290 - val_custom_accuracy_without_padding: 0.7083 - val_custom_mse: 0.0272 - val_loss: 0.0286 - learning_rate: 9.7656e-07\n",
            "Epoch 228/500\n",
            "\u001b[1m25/25\u001b[0m \u001b[32m━━━━━━━━━━━━━━━━━━━━\u001b[0m\u001b[37m\u001b[0m \u001b[1m0s\u001b[0m 4ms/step - custom_accuracy_without_padding: 0.7115 - custom_mse: 0.0277 - loss: 0.0290\n",
            "Epoch 228: ReduceLROnPlateau reducing learning rate to 4.882812731921149e-07.\n",
            "\n",
            "Epoch 228: val_loss did not improve from 0.02861\n",
            "\u001b[1m25/25\u001b[0m \u001b[32m━━━━━━━━━━━━━━━━━━━━\u001b[0m\u001b[37m\u001b[0m \u001b[1m0s\u001b[0m 7ms/step - custom_accuracy_without_padding: 0.7115 - custom_mse: 0.0276 - loss: 0.0290 - val_custom_accuracy_without_padding: 0.7080 - val_custom_mse: 0.0272 - val_loss: 0.0286 - learning_rate: 9.7656e-07\n",
            "Epoch 229/500\n",
            "\u001b[1m25/25\u001b[0m \u001b[32m━━━━━━━━━━━━━━━━━━━━\u001b[0m\u001b[37m\u001b[0m \u001b[1m0s\u001b[0m 4ms/step - custom_accuracy_without_padding: 0.7147 - custom_mse: 0.0275 - loss: 0.0288\n",
            "Epoch 229: val_loss did not improve from 0.02861\n",
            "\u001b[1m25/25\u001b[0m \u001b[32m━━━━━━━━━━━━━━━━━━━━\u001b[0m\u001b[37m\u001b[0m \u001b[1m0s\u001b[0m 9ms/step - custom_accuracy_without_padding: 0.7146 - custom_mse: 0.0275 - loss: 0.0288 - val_custom_accuracy_without_padding: 0.7078 - val_custom_mse: 0.0272 - val_loss: 0.0286 - learning_rate: 4.8828e-07\n"
          ]
        }
      ],
      "source": [
        "from tensorflow.keras.callbacks import EarlyStopping, ReduceLROnPlateau, ModelCheckpoint\n",
        "\n",
        "checkpoint_path = f\"/content/drive/MyDrive/10 Masters/Research/error-correcting-codes/ThisIsTheCleanest/weights/DCT_model_{n}.keras\"\n",
        "\n",
        "model_checkpoint = ModelCheckpoint(\n",
        "    filepath=checkpoint_path,\n",
        "    monitor='val_loss',\n",
        "    save_best_only=True,\n",
        "    save_weights_only=False,\n",
        "    verbose=1\n",
        ")\n",
        "\n",
        "early_stopping = EarlyStopping(monitor='val_loss', patience=10, restore_best_weights=True)\n",
        "\n",
        "adjust_lr = ReduceLROnPlateau(\n",
        "    monitor='val_loss',\n",
        "    factor=0.5,\n",
        "    patience=5,\n",
        "    min_lr=1e-7,\n",
        "    verbose=1\n",
        ")\n",
        "\n",
        "history = model.fit(\n",
        "    X_train, y_train,\n",
        "    epochs=500,\n",
        "    batch_size=32,\n",
        "    validation_data=(X_test, y_test),\n",
        "    callbacks=[adjust_lr, early_stopping, model_checkpoint]\n",
        ")"
      ]
    },
    {
      "cell_type": "code",
      "execution_count": 27,
      "metadata": {
        "colab": {
          "base_uri": "https://localhost:8080/"
        },
        "id": "98_GbV7sEJVR",
        "outputId": "5d724d1e-a309-47c6-cd26-633f654d1798"
      },
      "outputs": [
        {
          "output_type": "stream",
          "name": "stdout",
          "text": [
            "\u001b[1m7/7\u001b[0m \u001b[32m━━━━━━━━━━━━━━━━━━━━\u001b[0m\u001b[37m\u001b[0m \u001b[1m0s\u001b[0m 5ms/step - custom_accuracy_without_padding: 0.7106 - custom_mse: 0.0267 - loss: 0.0281 \n",
            "Test results - Loss: 0.028612636029720306, MSE: 0.027206091210246086, Accuracy: 0.708664059638977\n"
          ]
        }
      ],
      "source": [
        "# Evaluate the model on the test set\n",
        "eval_results = model.evaluate(X_test, y_test)\n",
        "print(f\"Test results - Loss: {eval_results[0]}, MSE: {eval_results[1]}, Accuracy: {eval_results[2]}\")"
      ]
    },
    {
      "cell_type": "code",
      "execution_count": 28,
      "metadata": {
        "colab": {
          "base_uri": "https://localhost:8080/",
          "height": 487
        },
        "id": "Dj_btsBkEPeB",
        "outputId": "1adf8712-cda0-4823-ba41-743742f5ca00"
      },
      "outputs": [
        {
          "output_type": "display_data",
          "data": {
            "text/plain": [
              "<Figure size 1200x500 with 2 Axes>"
            ],
            "image/png": "[encoded data removed]"
          },
          "metadata": {}
        }
      ],
      "source": [
        "import matplotlib.pyplot as plt\n",
        "\n",
        "plt.figure(figsize=(12, 5))\n",
        "\n",
        "plt.subplot(1, 2, 1)\n",
        "plt.plot(history.history['loss'], label='Training Loss')\n",
        "plt.plot(history.history['val_loss'], label='Validation Loss')\n",
        "plt.title('Loss Over Epochs')\n",
        "plt.xlabel('Epochs')\n",
        "plt.ylabel('MSE Loss')\n",
        "plt.legend()\n",
        "\n",
        "plt.subplot(1, 2, 2)\n",
        "plt.plot(history.history['custom_accuracy_without_padding'], label='Training Accuracy')\n",
        "plt.plot(history.history['val_custom_accuracy_without_padding'], label='Validation Accuracy')\n",
        "plt.title('Accuracy Over Epochs')\n",
        "plt.xlabel('Epochs')\n",
        "plt.ylabel('Accuracy (%)')\n",
        "plt.legend()\n",
        "\n",
        "plt.show()"
      ]
    },
    {
      "cell_type": "code",
      "execution_count": 29,
      "metadata": {
        "colab": {
          "base_uri": "https://localhost:8080/"
        },
        "id": "xc61iBzoEY73",
        "outputId": "3a36bd5c-7d5b-415d-a11c-de5971062317"
      },
      "outputs": [
        {
          "output_type": "stream",
          "name": "stdout",
          "text": [
            "\u001b[1m7/7\u001b[0m \u001b[32m━━━━━━━━━━━━━━━━━━━━\u001b[0m\u001b[37m\u001b[0m \u001b[1m3s\u001b[0m 278ms/step\n",
            "Comparison of predictions and ground truth:\n",
            "Sample 1:\n",
            "  Predicted:    [3 3 3 3 3 3 3 3 4 2 3 1 4 0 3 2 5 1 4 3 4 4 6 5 2 3 1 0 0 0 0 0]\n",
            "  Ground Truth: [5 6 5 1 3 4 1 1 6 2 3 1 4 0 3 2 5 1 4 3 4 4 6 5 2 3 1 0 0 0 0 0]\n",
            "----------------------------------------\n",
            "Sample 2:\n",
            "  Predicted:    [3 3 3 3 3 3 3 3 3 2 4 3 3 1 3 1 1 2 0 1 1 5 2 1 4 0 4 0 0 0 0 0]\n",
            "  Ground Truth: [1 4 1 3 3 3 0 5 5 2 4 3 3 1 3 1 1 2 0 1 1 5 2 1 4 0 4 0 0 0 0 0]\n",
            "----------------------------------------\n",
            "Sample 3:\n",
            "  Predicted:    [3 3 3 3 3 3 3 3 3 6 4 1 0 5 2 3 5 1 4 6 0 4 3 2 3 4 4 0 0 0 0 0]\n",
            "  Ground Truth: [2 6 0 2 2 1 3 4 2 6 4 1 0 5 2 3 5 1 4 6 0 4 3 2 3 4 4 0 0 0 0 0]\n",
            "----------------------------------------\n"
          ]
        }
      ],
      "source": [
        "y_pred = model.predict(X_test)\n",
        "y_test_rescaled = y_test * (q - 1)\n",
        "y_pred_rescaled = y_pred * (q - 1)\n",
        "\n",
        "print(\"Comparison of predictions and ground truth:\")\n",
        "for i in range(3):\n",
        "    print(f\"Sample {i+1}:\")\n",
        "    print(f\"  Predicted:    {np.round(y_pred_rescaled[i]).astype(int)}\")\n",
        "    print(f\"  Ground Truth: {np.round(y_test_rescaled[i]).astype(int)}\")\n",
        "    print(\"-\" * 40)"
      ]
    },
    {
      "cell_type": "code",
      "execution_count": 30,
      "metadata": {
        "colab": {
          "base_uri": "https://localhost:8080/"
        },
        "id": "8fHImfiSERH2",
        "outputId": "f8db7261-df9f-445d-d42f-51139f5c1ce4"
      },
      "outputs": [
        {
          "output_type": "stream",
          "name": "stdout",
          "text": [
            "R² Score: 0.5993\n"
          ]
        }
      ],
      "source": [
        "from sklearn.metrics import r2_score\n",
        "\n",
        "r2 = r2_score(y_test, y_pred)\n",
        "\n",
        "print(f\"R² Score: {r2:.4f}\")"
      ]
    },
    {
      "cell_type": "code",
      "source": [
        "# ---------------------- Inference time on Test Set ----------------------------\n",
        "\n",
        "import time\n",
        "\n",
        "_ = model.predict(X_test, verbose=0)  # warm up\n",
        "\n",
        "times = []\n",
        "for _ in range(100):\n",
        "    start = time.perf_counter()\n",
        "    _ = model.predict(X_test, verbose=0)\n",
        "    end = time.perf_counter()\n",
        "    times.append(end - start)\n",
        "\n",
        "average_inference_time = np.mean(times)\n",
        "print(f\"Average batch inference time over 100 runs: {average_inference_time:.6f} seconds\")\n",
        "\n",
        "average_per_sample = average_inference_time / X_test.shape[0]\n",
        "print(f\"Average inference time per sample (from batch): {average_per_sample:.6f} seconds\")"
      ],
      "metadata": {
        "colab": {
          "base_uri": "https://localhost:8080/"
        },
        "id": "riEf8Qq4NaOQ",
        "outputId": "8f2e2b45-ec03-4b39-a703-c89074bbb52e"
      },
      "execution_count": 31,
      "outputs": [
        {
          "output_type": "stream",
          "name": "stdout",
          "text": [
            "Average batch inference time over 100 runs: 0.089716 seconds\n",
            "Average inference time per sample (from batch): 0.000449 seconds\n"
          ]
        }
      ]
    },
    {
      "cell_type": "markdown",
      "metadata": {
        "id": "pjgc4S3JQ0Ix"
      },
      "source": [
        "Test on unseen samples"
      ]
    },
    {
      "cell_type": "code",
      "execution_count": 32,
      "metadata": {
        "id": "PmZu8EKvTttT",
        "colab": {
          "base_uri": "https://localhost:8080/"
        },
        "outputId": "221b2443-61ff-47a6-fc1a-d851f230d6cc"
      },
      "outputs": [
        {
          "output_type": "stream",
          "name": "stdout",
          "text": [
            "\u001b[1m1/1\u001b[0m \u001b[32m━━━━━━━━━━━━━━━━━━━━\u001b[0m\u001b[37m\u001b[0m \u001b[1m1s\u001b[0m 740ms/step\n",
            "MSE on unseen data (no noise): 0.02803669311106205\n",
            "Accuracy on unseen data (no noise): 0.7259259223937988\n",
            "\n",
            "Sample 1:\n",
            "Original : [6 3 4 6 2 4 4 6 1 2 6 2 2 4 3 2 5 4 1 3 5 5 1 3 4 0 3 0 0 0 0 0]\n",
            "NN Pred  : [3 3 3 3 3 3 3 4 2 2 6 2 2 4 3 2 5 4 1 3 5 5 1 3 4 0 3 0 0 0 0 0]\n",
            "\n",
            "Sample 2:\n",
            "Original : [1 5 4 3 0 0 2 2 6 1 3 3 6 5 5 6 5 2 3 6 3 0 2 4 2 6 4 0 0 0 0 0]\n",
            "NN Pred  : [3 3 3 3 3 3 3 3 4 1 3 3 6 5 5 6 5 2 3 6 3 0 2 4 2 6 4 0 0 0 0 0]\n",
            "\n",
            "Sample 3:\n",
            "Original : [0 6 1 3 0 3 5 1 1 0 1 4 1 3 3 6 3 6 3 4 6 2 5 0 3 1 3 0 0 0 0 0]\n",
            "NN Pred  : [3 3 3 3 3 3 3 3 2 0 1 4 1 3 3 6 3 6 3 4 6 2 5 0 3 1 3 0 0 0 0 0]\n"
          ]
        }
      ],
      "source": [
        "# --------------------- Predictions on unseen samples (no noise) -------------------------\n",
        "\n",
        "np.random.seed(42)\n",
        "\n",
        "x_unseen_original = np.random.randint(0, q, size=(num_unseen_samples, n))\n",
        "x_unseen_original_padded = np.pad(x_unseen_original, ((0, 0), (0, padding)), mode='constant', constant_values=0)\n",
        "\n",
        "# encode\n",
        "encoded_dataset_unseen = np.array([np.dot(M_tilde, x) for x in x_unseen_original_padded])\n",
        "encoded_dataset_unseen[np.abs(encoded_dataset_unseen) < 1e-10] = 0\n",
        "encoded_dataset_unseen = np.round(encoded_dataset_unseen, decimals=10)\n",
        "\n",
        "# pre-process\n",
        "N = encoded_dataset_unseen.shape[1]\n",
        "k = np.arange(N)\n",
        "shift = np.exp(-1j * np.pi * k / (2 * N))\n",
        "alpha_k = np.where(k == 0, np.sqrt(1/N), np.sqrt(2/N))\n",
        "\n",
        "x_unseen_dct2 = np.array([np.real(alpha_k * shift * y) for y in encoded_dataset_unseen])\n",
        "x_unseen_dct2[np.abs(x_unseen_dct2) < 1e-10] = 0\n",
        "x_unseen_dct2 = np.round(x_unseen_dct2, decimals=10)\n",
        "\n",
        "# Normalize\n",
        "x_unseen_dct2_normalized = (x_unseen_dct2 - x_unseen_dct2.mean()) / x_unseen_dct2.std()\n",
        "\n",
        "# Predict\n",
        "nn_pred = model.predict(x_unseen_dct2_normalized)\n",
        "\n",
        "# Rescale prediction\n",
        "y_pred_final = np.mod(np.round(nn_pred * (q - 1)), q)\n",
        "\n",
        "# Evaluate\n",
        "x_unseen_original_padded_normalized = x_unseen_original_padded.astype(np.float32) / (q - 1)\n",
        "\n",
        "mse_nn = custom_mse(x_unseen_original_padded_normalized, nn_pred)\n",
        "acc_nn = custom_accuracy_without_padding(x_unseen_original_padded_normalized, nn_pred)\n",
        "\n",
        "print(f\"MSE on unseen data (no noise): {mse_nn}\")\n",
        "print(f\"Accuracy on unseen data (no noise): {acc_nn}\")\n",
        "\n",
        "num_display_samples = 3\n",
        "for i in range(num_display_samples):\n",
        "    print(f\"\\nSample {i+1}:\")\n",
        "    print(f\"Original : {x_unseen_original_padded[i]}\")\n",
        "    print(f\"NN Pred  : {y_pred_final[i].astype(int)}\")"
      ]
    },
    {
      "cell_type": "markdown",
      "metadata": {
        "id": "d8BovHaCR0xB"
      },
      "source": [
        "Visualize and Analyse model training"
      ]
    },
    {
      "cell_type": "code",
      "execution_count": 33,
      "metadata": {
        "colab": {
          "base_uri": "https://localhost:8080/",
          "height": 449
        },
        "id": "LUT9w-n75IKZ",
        "outputId": "2104966b-6b57-4f56-d0da-381b7db70dab"
      },
      "outputs": [
        {
          "output_type": "display_data",
          "data": {
            "text/plain": [
              "<Figure size 640x480 with 1 Axes>"
            ],
            "image/png": "[encoded data removed]"
          },
          "metadata": {}
        }
      ],
      "source": [
        "import matplotlib.pyplot as plt\n",
        "\n",
        "# exclude zero pads\n",
        "y_pred_first_n = y_pred[:, :n]\n",
        "y_pred_first_n_rescaled = y_pred_first_n * (q - 1)\n",
        "\n",
        "plt.hist(y_pred_first_n_rescaled.flatten(), bins=50)\n",
        "plt.xlabel('Prediction Value')\n",
        "plt.ylabel('Frequency')\n",
        "plt.show()"
      ]
    },
    {
      "cell_type": "code",
      "execution_count": 34,
      "metadata": {
        "id": "ORZAY2sdoc3a"
      },
      "outputs": [],
      "source": [
        "# for layer in model.layers:\n",
        "#     if layer.trainable_variables:  # Check if the layer has trainable variables\n",
        "#         for i, var in enumerate(layer.trainable_variables):\n",
        "#             print(f\"{layer.name} - Variable {i} ({var.name}): values: {var.numpy()}\")\n",
        "#     else:\n",
        "#         print(layer.name, \"has no trainable variables.\")"
      ]
    },
    {
      "cell_type": "code",
      "execution_count": 35,
      "metadata": {
        "id": "iIDKNMn9P4aW"
      },
      "outputs": [],
      "source": [
        "# from tensorflow.keras import backend as K\n",
        "# K.clear_session()"
      ]
    },
    {
      "cell_type": "code",
      "execution_count": 35,
      "metadata": {
        "id": "qfK5aX4sZt2Q"
      },
      "outputs": [],
      "source": []
    }
  ],
  "metadata": {
    "accelerator": "GPU",
    "colab": {
      "gpuType": "T4",
      "provenance": []
    },
    "kernelspec": {
      "display_name": "Python 3",
      "name": "python3"
    },
    "language_info": {
      "name": "python"
    }
  },
  "nbformat": 4,
  "nbformat_minor": 0
}