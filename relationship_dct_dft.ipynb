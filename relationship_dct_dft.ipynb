{
  "cells": [
    {
      "cell_type": "markdown",
      "metadata": {
        "id": "1lsWi_yoNr6l"
      },
      "source": [
        "# Testing DFT, DCT2, gen_matrix"
      ]
    },
    {
      "cell_type": "code",
      "execution_count": 1,
      "metadata": {
        "id": "PRJEpjnVNr6p"
      },
      "outputs": [],
      "source": [
        "import numpy as np\n",
        "from scipy.fft import fft, ifft\n",
        "from scipy.fftpack import dct\n",
        "\n",
        "# x = np.array([1,2,3,4]) # N -> even\n",
        "# x = np.array([1,2,3,4,5]) # N -> odd\n",
        "# x = np.array([1,2,3,4,5,6,7,8])\n",
        "# x = np.array([1,2,3,4,5,6,7,8,9,10,11,12,13,14,15,16])\n",
        "# x = np.array([1,2,3,4,4,3,2,1])\n",
        "\n",
        "# q = 10\n",
        "# n = 8\n",
        "# x = np.random.randint(0, q, n)\n",
        "\n",
        "x = np.array([1,6,2,4,0,6,7,2])"
      ]
    },
    {
      "cell_type": "markdown",
      "metadata": {
        "id": "G3YctdvqNr6r"
      },
      "source": [
        "## DFT"
      ]
    },
    {
      "cell_type": "markdown",
      "metadata": {
        "id": "-kaElqxaNr6r"
      },
      "source": [
        "$$\n",
        "    X[k] = \\sum_{n=0}^{N-1} x[n] e^{-j \\frac{2\\pi}{N} kn}, \\quad k = 0,1,\\dots, N-1\n",
        "$$"
      ]
    },
    {
      "cell_type": "markdown",
      "metadata": {
        "id": "DC_DtNzZNr6s"
      },
      "source": [
        "#### DFT, IDFT - Scipy (For testing)"
      ]
    },
    {
      "cell_type": "code",
      "execution_count": 2,
      "metadata": {
        "id": "gt0CkCz0Nr6s",
        "outputId": "b8e179dd-da14-4b94-af76-7e49602d6281"
      },
      "outputs": [
        {
          "name": "stdout",
          "output_type": "stream",
          "text": [
            "Original Signal:        [1 6 2 4 0 6 7 2]\n",
            "\n",
            "\n",
            "Scipy DFT:              [28.    -0.j     -0.4142+3.5858j -8.    -6.j      2.4142-6.4142j\n",
            " -8.    -0.j      2.4142+6.4142j -8.    +6.j     -0.4142-3.5858j]\n",
            "Scipy IDFT:             [1.+0.j 6.+0.j 2.+0.j 4.+0.j 0.+0.j 6.+0.j 7.-0.j 2.+0.j]\n",
            "\n",
            "\n",
            "Numpy DFT:              [28.    +0.j     -0.4142+3.5858j -8.    -6.j      2.4142-6.4142j\n",
            " -8.    +0.j      2.4142+6.4142j -8.    +6.j     -0.4142-3.5858j]\n",
            "Numpy IDFT:             [1.+0.j 6.+0.j 2.+0.j 4.+0.j 0.+0.j 6.+0.j 7.+0.j 2.+0.j]\n"
          ]
        }
      ],
      "source": [
        "scipy_dft = fft(x)\n",
        "scipy_idft = ifft(scipy_dft)\n",
        "\n",
        "numpy_dft = np.fft.fft(x)\n",
        "numpy_idft = np.fft.ifft(numpy_dft)\n",
        "\n",
        "print(\"Original Signal:       \", x)\n",
        "print(\"\\n\")\n",
        "\n",
        "print(\"Scipy DFT:             \", np.round(scipy_dft,4))\n",
        "print(\"Scipy IDFT:            \", np.round(scipy_idft,4))\n",
        "print(\"\\n\")\n",
        "\n",
        "print(\"Numpy DFT:             \", np.round(numpy_dft,4))\n",
        "print(\"Numpy IDFT:            \", np.round(numpy_idft,4))"
      ]
    },
    {
      "cell_type": "markdown",
      "metadata": {
        "id": "2XyNV1NmNr6t"
      },
      "source": [
        "#### DFT - Brute Force"
      ]
    },
    {
      "cell_type": "code",
      "execution_count": 3,
      "metadata": {
        "id": "TVhoqCVjNr6t",
        "outputId": "3201b386-8d0c-4bc3-8dd5-958056b1cd18"
      },
      "outputs": [
        {
          "name": "stdout",
          "output_type": "stream",
          "text": [
            "[1 6 2 4 0 6 7 2]\n",
            "[28.    +0.j     -0.4142+3.5858j -8.    -6.j      2.4142-6.4142j\n",
            " -8.    -0.j      2.4142+6.4142j -8.    +6.j     -0.4142-3.5858j]\n"
          ]
        }
      ],
      "source": [
        "def brute_force_dft(x, N):\n",
        "    X = np.zeros(N, dtype=complex)\n",
        "\n",
        "    for k in range(N):\n",
        "        for n in range(N):\n",
        "            X[k] += x[n] * np.exp(-2j * np.pi * k * n / N)\n",
        "\n",
        "    return np.round(X, 4)\n",
        "\n",
        "X_dft = brute_force_dft(x=x, N=len(x))\n",
        "print(x)\n",
        "print(X_dft)"
      ]
    },
    {
      "cell_type": "code",
      "execution_count": 4,
      "metadata": {
        "id": "I8jRAXr6Nr6u",
        "outputId": "1471346f-98c2-44f8-bf54-07a6416852cd"
      },
      "outputs": [
        {
          "name": "stdout",
          "output_type": "stream",
          "text": [
            "X[0] = (28+0j)\n",
            "X[1] = (-0.4142+3.5858j)\n",
            "X[2] = (-8-6j)\n",
            "X[3] = (2.4142-6.4142j)\n",
            "X[4] = (-8-0j)\n",
            "X[5] = (2.4142+6.4142j)\n",
            "X[6] = (-8+6j)\n",
            "X[7] = (-0.4142-3.5858j)\n"
          ]
        }
      ],
      "source": [
        "for k, value in enumerate(X_dft):\n",
        "    print(f\"X[{k}] = {value}\")"
      ]
    },
    {
      "cell_type": "markdown",
      "metadata": {
        "id": "-MJec4alNr6u"
      },
      "source": [
        "#### IDFT - Brute Force"
      ]
    },
    {
      "cell_type": "code",
      "execution_count": 5,
      "metadata": {
        "id": "szNIp3peNr6u",
        "outputId": "7ab4f4e3-bf61-4ad3-91a5-d5a258963d64"
      },
      "outputs": [
        {
          "name": "stdout",
          "output_type": "stream",
          "text": [
            "[1.+0.j 6.-0.j 2.+0.j 4.-0.j 0.+0.j 6.-0.j 7.-0.j 2.-0.j]\n",
            "[1. 6. 2. 4. 0. 6. 7. 2.]\n"
          ]
        }
      ],
      "source": [
        "def idft(X, N):\n",
        "    x = np.zeros(N, dtype=complex)\n",
        "\n",
        "    for n in range(N):\n",
        "        for k in range(N):\n",
        "            x[n] += X[k] * np.exp(2j * np.pi * k * n / N)\n",
        "\n",
        "    return np.round(x / N, 4)\n",
        "\n",
        "x_idft = idft(X=X_dft, N=len(X_dft))\n",
        "print(x_idft)\n",
        "print(np.sqrt(np.real(x_idft)**2 + np.imag(x_idft)**2))"
      ]
    },
    {
      "cell_type": "markdown",
      "metadata": {
        "id": "_0K-F2HWNr6v"
      },
      "source": [
        "#### Recursive DFT"
      ]
    },
    {
      "cell_type": "code",
      "execution_count": 6,
      "metadata": {
        "id": "Osrif-ImNr6v",
        "outputId": "ff479c34-4564-484d-eab3-c7626fc0d5ba"
      },
      "outputs": [
        {
          "name": "stdout",
          "output_type": "stream",
          "text": [
            "[1 6 2 4 0 6 7 2]\n",
            "[28.        +0.j         -0.41421356+3.58578644j -8.        -6.j\n",
            "  2.41421356-6.41421356j -8.        +0.j          2.41421356+6.41421356j\n",
            " -8.        +6.j         -0.41421356-3.58578644j]\n"
          ]
        }
      ],
      "source": [
        "def dft(u, n):\n",
        "    n1 = n // 2\n",
        "    if n == 2:\n",
        "        return np.array([u[0] + u[1], u[0] - u[1]])\n",
        "\n",
        "    zeta = np.exp(-2j * np.pi / n)\n",
        "    Dn = np.diag([zeta**k for k in range(n1)])\n",
        "    Hn = np.block([[np.eye(n1), np.eye(n1)],\n",
        "                   [Dn, -Dn]])\n",
        "\n",
        "    p = np.dot(Hn, u)\n",
        "    # p = Hn @ u\n",
        "\n",
        "    s1 = dft(p[:n1], n1)\n",
        "    s2 = dft(p[n1:], n1)\n",
        "\n",
        "    interleaved = np.empty((len(s1) + len(s2)), dtype=complex)  # data type - complex\n",
        "    interleaved[0::2] = s1  # even indices with s1\n",
        "    interleaved[1::2] = s2  # odd indices with s2\n",
        "\n",
        "    y = interleaved\n",
        "\n",
        "    return y\n",
        "\n",
        "X_dft = dft(x, len(x))\n",
        "print(x)\n",
        "print(X_dft)"
      ]
    },
    {
      "cell_type": "markdown",
      "metadata": {
        "id": "pcA0OlbwNr6v"
      },
      "source": [
        "#### Recursive IDFT"
      ]
    },
    {
      "cell_type": "code",
      "execution_count": 7,
      "metadata": {
        "id": "qAthlRO7Nr6v",
        "outputId": "9c8c6f31-871d-4510-aa4f-7019b0127f56"
      },
      "outputs": [
        {
          "name": "stdout",
          "output_type": "stream",
          "text": [
            "[1 6 2 4 0 6 7 2]\n",
            "[ 3.5      +0.j        -0.0517767-0.4482233j -1.       +0.75j\n",
            "  0.3017767+0.8017767j -1.       +0.j         0.3017767-0.8017767j\n",
            " -1.       -0.75j      -0.0517767+0.4482233j]\n",
            "[3.5        0.4512039  1.25       0.85668842 1.         0.85668842\n",
            " 1.25       0.4512039 ]\n"
          ]
        }
      ],
      "source": [
        "def idft(y, n):\n",
        "    n1 = n// 2\n",
        "\n",
        "    if n == 2:\n",
        "        return np.array([y[0] + y[1], y[0] - y[1]]) / 2\n",
        "\n",
        "    elif n >= 4:\n",
        "        q = np.concatenate((y[0:n:2], y[1:n:2]))\n",
        "\n",
        "        b1 = idft(q[:n1], n1)\n",
        "        b2 = idft(q[n1:], n1)\n",
        "\n",
        "        b_out = np.concatenate((b1, b2))\n",
        "\n",
        "        zeta = np.exp(-2j * np.pi / n)\n",
        "        Dn = np.diag([zeta**k for k in range(n1)])\n",
        "        Hn = np.block([[np.eye(n1), np.eye(n1)],\n",
        "                       [Dn, -Dn]])\n",
        "\n",
        "        Hn_conj = np.conjugate(Hn).T\n",
        "\n",
        "        z1 = np.dot(Hn_conj, b_out)\n",
        "\n",
        "        out = z1 / 2 # scale down since IDFT requires normalization\n",
        "\n",
        "        return out\n",
        "\n",
        "X_idft = idft(x, len(x))\n",
        "print(x)\n",
        "print(X_idft)\n",
        "print(np.sqrt(np.real(X_idft)**2 + np.imag(X_idft)**2))"
      ]
    },
    {
      "cell_type": "markdown",
      "metadata": {
        "id": "9r7zUZfNNr6w"
      },
      "source": [
        "# DCT"
      ]
    },
    {
      "cell_type": "markdown",
      "metadata": {
        "id": "2pzh3fvnOI4C"
      },
      "source": [
        "\\begin{equation}\n",
        "    c[k] = \\alpha[k] \\sum_{n=0}^{N-1} x[n] \\cdot \\cos\\left( \\frac{\\pi (2n+1) k}{2N} \\right), \\quad 0 \\leq k \\leq N-1\n",
        "\\end{equation}\n",
        "\n",
        "where $\\alpha[0] = \\sqrt{\\frac{1}{N}}$, and $\\alpha[k] = \\sqrt{\\frac{2}{N}}$ for $ k \\in \\{ 1, 2, \\dots , N-1\\}$"
      ]
    },
    {
      "cell_type": "markdown",
      "metadata": {
        "id": "A3cZ5pODNr6w"
      },
      "source": [
        "#### Sci-py Library (test for comparison)"
      ]
    },
    {
      "cell_type": "code",
      "execution_count": 8,
      "metadata": {
        "id": "Jl17TRV1Nr6w",
        "outputId": "c218ace6-b51d-4084-86cc-ed96e1b93fd4"
      },
      "outputs": [
        {
          "name": "stdout",
          "output_type": "stream",
          "text": [
            "Original Signal:        [1 6 2 4 0 6 7 2]\n",
            "\n",
            "\n",
            "Scipy DCT-II:           [ 9.8995 -1.6271  0.4948  0.5322 -4.9497  1.4854 -2.501  -3.4443]\n",
            "Scipy DCT-III:          [1. 6. 2. 4. 0. 6. 7. 2.]\n"
          ]
        }
      ],
      "source": [
        "scipy_dct2 = dct(x, type=2, norm='ortho')\n",
        "scipy_dct3 = dct(scipy_dct2, type=3, norm='ortho')\n",
        "\n",
        "print(\"Original Signal:       \", x)\n",
        "print(\"\\n\")\n",
        "\n",
        "print(\"Scipy DCT-II:          \", np.round(scipy_dct2,4))\n",
        "print(\"Scipy DCT-III:         \", np.round(scipy_dct3,4))"
      ]
    },
    {
      "cell_type": "markdown",
      "metadata": {
        "id": "uBglcxA8Nr6w"
      },
      "source": [
        "#### Brute Force"
      ]
    },
    {
      "cell_type": "code",
      "execution_count": 9,
      "metadata": {
        "id": "DrcVsMbDNr6w",
        "outputId": "0c56ffbf-04a6-41e6-a39e-079b3b86196e"
      },
      "outputs": [
        {
          "name": "stdout",
          "output_type": "stream",
          "text": [
            "[1 6 2 4 0 6 7 2]\n",
            "[ 9.8995 -1.6271  0.4948  0.5322 -4.9497  1.4854 -2.501  -3.4443]\n"
          ]
        }
      ],
      "source": [
        "def dct_ii(x):\n",
        "    N = len(x)\n",
        "    v = np.zeros(N)\n",
        "\n",
        "    for k in range(N):\n",
        "        alpha_k = np.sqrt(1/N) if k == 0 else np.sqrt(2/N)\n",
        "        summation = sum(x[n] * np.cos(np.pi * (2 * n + 1) * k / (2 * N)) for n in range(N))\n",
        "        v[k] = alpha_k * summation\n",
        "\n",
        "    return np.round(v,4)\n",
        "\n",
        "X_dct2 = dct_ii(x)\n",
        "print(x)\n",
        "print(X_dct2)"
      ]
    },
    {
      "cell_type": "markdown",
      "metadata": {
        "id": "IyslAbApNr6x"
      },
      "source": [
        "#### Recursive radix-2 DCT-II"
      ]
    },
    {
      "cell_type": "code",
      "execution_count": 10,
      "metadata": {
        "id": "MT1I4KNsNr6x",
        "outputId": "345b657c-6c08-431f-8205-0c503e2c5160"
      },
      "outputs": [
        {
          "name": "stdout",
          "output_type": "stream",
          "text": [
            "[1 6 2 4 0 6 7 2]\n",
            "[ 9.89949494 -1.62708727  0.49476881  0.53224045 -4.94974747  1.4853661\n",
            " -2.50104055 -3.44426983]\n"
          ]
        }
      ],
      "source": [
        "def cos2(x, n):\n",
        "    if n == 2:\n",
        "        H_2 = (1 / np.sqrt(2)) * np.array([[1, 1], [1, -1]])\n",
        "        return H_2 @ x\n",
        "    else:\n",
        "        # recursive case: n >= 4\n",
        "        n1 = n // 2\n",
        "\n",
        "        # Orthogonal matrix (Hadamard-like)\n",
        "        I_half = np.eye(n1)\n",
        "        I_tilde_half = np.flip(I_half, axis=1)\n",
        "        H = np.block([\n",
        "            [I_half, I_tilde_half],\n",
        "            [I_half, -I_tilde_half]\n",
        "        ])\n",
        "        H_n = (1 / np.sqrt(2)) * H\n",
        "        u = H_n @ x\n",
        "\n",
        "        # Diagonal weight matrix [W_c] - matrix 3\n",
        "        W_entries = [1] * n1 + [ (1 / np.cos((2*k - 1)*np.pi / (2*n))) / 2 for k in range(1, n1+1) ]\n",
        "        W_c = np.diag(W_entries)\n",
        "        v = W_c @ u\n",
        "\n",
        "        # Recursive DCT-II on halves - matrix 2\n",
        "        z1 = cos2(v[:n1], n1)\n",
        "        z2 = cos2(v[n1:], n1)\n",
        "\n",
        "        # Bidiagonal matrix\n",
        "        B = np.eye(n1)\n",
        "        np.fill_diagonal(B[:-1, 1:], 1)\n",
        "        B[0, 0] = np.sqrt(2)\n",
        "        B_c = np.block([\n",
        "            [np.eye(n1), np.zeros((n1, n1))],\n",
        "            [np.zeros((n1, n1)), B]\n",
        "        ])\n",
        "        w = B_c @ np.concatenate([z1, z2])\n",
        "\n",
        "        y_my = np.concatenate([w[::2], w[1::2]])\n",
        "        # print(\"\\ny_my: \", y_my)\n",
        "        # Permutation (bit-reversal-like)\n",
        "        perm = np.arange(n).reshape(2, -1).T.flatten()\n",
        "        # print(\"\\nperm: \", perm)\n",
        "        y = w[perm]\n",
        "        # print(\"\\ny_perm: \", y)\n",
        "\n",
        "        return y\n",
        "\n",
        "X_dct2 = cos2(x, len(x))\n",
        "print(x)\n",
        "print(X_dct2)"
      ]
    },
    {
      "cell_type": "markdown",
      "metadata": {
        "id": "uceTzDohNr6x"
      },
      "source": [
        "#### Recursive radix-2 DCT-III"
      ]
    },
    {
      "cell_type": "code",
      "execution_count": 11,
      "metadata": {
        "id": "O9pfHNl7Nr6x",
        "outputId": "3ec25652-803b-4a07-b528-cc0eaeeb2a44"
      },
      "outputs": [
        {
          "name": "stdout",
          "output_type": "stream",
          "text": [
            "[1 6 2 4 0 6 7 2]\n",
            "[ 9.08392102 -3.89103942  4.32632904 -0.9219641  -2.89747221  2.08256761\n",
            " -1.10364366 -3.85027115]\n"
          ]
        }
      ],
      "source": [
        "def cos3(x, n):\n",
        "    if n == 2:\n",
        "        # base case: n = 2\n",
        "        H_2 = (1 / np.sqrt(2)) * np.array([[1, 1], [1, -1]])\n",
        "        y = H_2 @ x\n",
        "        return y\n",
        "\n",
        "    else:\n",
        "        # recursive case: n >= 4\n",
        "        n1 = n // 2\n",
        "\n",
        "        # Step 1: Permutation P_n\n",
        "        P_n = np.concatenate([x[::2], x[1::2]])\n",
        "\n",
        "        # Step 2: Apply B_c^T\n",
        "        B = np.eye(n1)\n",
        "        np.fill_diagonal(B[:-1, 1:], 1)\n",
        "        B[0, 0] = np.sqrt(2)\n",
        "\n",
        "        B_c_T = np.block([\n",
        "            [np.eye(n1), np.zeros((n1, n1))],\n",
        "            [np.zeros((n1, n1)), B.T]\n",
        "        ])\n",
        "        u = B_c_T @ P_n\n",
        "\n",
        "        # Step 3: Recursive calls for z1 and z2\n",
        "        z1 = cos3(u[:n1], n1)\n",
        "        z2 = cos3(u[n1:], n1)\n",
        "\n",
        "        # Step 4: Combine results using W_c\n",
        "        W_c = np.diag([1] * n1 + [1 / np.cos((2 * k - 1) * np.pi / (2 * n)) / 2 for k in range(1, n1 + 1)])\n",
        "        w = W_c @ np.concatenate([z1, z2])\n",
        "\n",
        "        # Step 5: Apply H_n^T\n",
        "        I_half = np.eye(n1)\n",
        "        I_tilde_half = np.flip(I_half, axis=1)\n",
        "        H = np.block([\n",
        "            [I_half, I_tilde_half],\n",
        "            [I_half, -I_tilde_half]\n",
        "        ])\n",
        "        H_n_T = (1 / np.sqrt(2)) * H.T\n",
        "        y = H_n_T @ w\n",
        "\n",
        "        return y\n",
        "\n",
        "X_dct3 = cos3(x, len(x))\n",
        "print(x)\n",
        "print(X_dct3)"
      ]
    },
    {
      "cell_type": "markdown",
      "metadata": {
        "id": "4KfU3T15Nr6y"
      },
      "source": [
        "# Relationship between DFT and DCT"
      ]
    },
    {
      "cell_type": "markdown",
      "metadata": {
        "id": "v-dNTSHrNr6y"
      },
      "source": [
        "References:\n",
        "- Ahmed, Nasir, T_ Natarajan, and Kamisetty R. Rao. \"Discrete cosine transform.\" IEEE transactions on Computers 100.1 (2006): 90-93.\n",
        "- Strang, Gilbert. \"The discrete cosine transform.\" SIAM review 41.1 (1999): 135-147."
      ]
    },
    {
      "cell_type": "markdown",
      "metadata": {
        "id": "Gbym2albOWOe"
      },
      "source": [
        "\\begin{equation}\n",
        "    c[k] = \\operatorname{Re} \\left\\{ \\alpha[k] \\cdot e^{-j \\frac{\\pi k}{2N}} \\cdot (F\\hat{x})[k] \\right\\}\n",
        "\\end{equation}\n",
        "\n",
        "where $\\hat{x}[n]$ represents an even and symmetric extension of the input sequence, defined as:\n",
        "\n",
        "\\begin{equation}\n",
        "    \\hat{x}[n] = x[2n], \\quad \\hat{x}[N - n - 1] = x[2n + 1], \\quad 0 \\leq n \\leq \\frac{N}{2} - 1\n",
        "\\end{equation}"
      ]
    },
    {
      "cell_type": "markdown",
      "metadata": {
        "id": "85bXj-yrN8SU"
      },
      "source": [
        "![image.png](data:image/png;base64,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)"
      ]
    },
    {
      "cell_type": "code",
      "execution_count": 12,
      "metadata": {
        "id": "5NDjoNTuNr6y",
        "outputId": "6a487e5b-abac-4a29-8c03-ee4123df0c4a"
      },
      "outputs": [
        {
          "name": "stdout",
          "output_type": "stream",
          "text": [
            "[1 6 2 4 0 6 7 2]\n",
            "\n",
            " DFT on original vector:  [28.        +0.j         -0.41421356+3.58578644j -8.        -6.j\n",
            "  2.41421356-6.41421356j -8.        +0.j          2.41421356+6.41421356j\n",
            " -8.        +6.j         -0.41421356-3.58578644j]\n",
            "\n",
            " x_hat before FFT:  [1. 2. 0. 7. 2. 6. 4. 6.]\n",
            "\n",
            " X_hat after FFT:  [ 28.        +0.j          -4.53553391+6.12132034j\n",
            "  -1.        +5.j           2.53553391-1.87867966j\n",
            " -14.        +0.j           2.53553391+1.87867966j\n",
            "  -1.        -5.j          -4.53553391-6.12132034j]\n",
            "[ 9.8995 -1.6271  0.4948  0.5322 -4.9497  1.4854 -2.501  -3.4443]\n",
            "\n",
            "\n",
            "\n",
            " x_hat before FFT:  [1. 2. 0. 7. 2. 6. 4. 6.]\n",
            "\n",
            " X_hat after FFT:  [ 28.        +0.j          -4.53553391+6.12132034j\n",
            "  -1.        +5.j           2.53553391-1.87867966j\n",
            " -14.        +0.j           2.53553391+1.87867966j\n",
            "  -1.        -5.j          -4.53553391-6.12132034j]\n",
            "DCT coefficients obtained from DFT:  [ 9.8995 -1.6271  0.4948  0.5322 -4.9497  1.4854 -2.501  -3.4443]\n",
            "DCT coefficients obtained from recursive radix-2 algo:  [ 9.89949494 -1.62708727  0.49476881  0.53224045 -4.94974747  1.4853661\n",
            " -2.50104055 -3.44426983]\n",
            "[ 1.  6.  2.  4. -0.  6.  7.  2.]\n"
          ]
        }
      ],
      "source": [
        "def dct_new(x):\n",
        "    N = len(x)\n",
        "    if N % 2 != 0:\n",
        "        raise ValueError(\"Sequence length must be even.\")\n",
        "\n",
        "    x_hat = np.zeros(N, dtype=np.complex128)\n",
        "    half_N = N // 2\n",
        "\n",
        "    # permutation\n",
        "    for n in range(half_N):\n",
        "        x_hat[n] = x[2 * n]          # even-indexed elements\n",
        "        x_hat[N - n - 1] = x[2 * n + 1]  # odd-indexed elements (reversed)\n",
        "\n",
        "    print(\"\\n x_hat before FFT: \", np.real(x_hat))\n",
        "\n",
        "    # compute DFT\n",
        "    X_hat_dft = dft(x_hat, len(x_hat))\n",
        "\n",
        "    print(\"\\n X_hat after FFT: \", X_hat_dft)\n",
        "\n",
        "    # shift and scaling\n",
        "    k = np.arange(N)\n",
        "    shift = np.exp(-1j * np.pi * k / (2 * N))\n",
        "\n",
        "    alpha_k = np.where(k == 0, np.sqrt(1/N), np.sqrt(2/N))\n",
        "\n",
        "    X_dct = np.real(alpha_k * shift * X_hat_dft)\n",
        "\n",
        "    return X_dct\n",
        "\n",
        "print(x)\n",
        "print(\"\\n DFT on original vector: \", dft(x, len(x)))\n",
        "print(np.round(dct_new(x),4))\n",
        "print(\"\\n\")\n",
        "\n",
        "dct_coeff_from_dft = np.round(dct_new(x),4)\n",
        "print(\"DCT coefficients obtained from DFT: \", dct_coeff_from_dft)\n",
        "\n",
        "dct_coeff = cos2(x, len(x))\n",
        "print(\"DCT coefficients obtained from recursive radix-2 algo: \", dct_coeff)\n",
        "\n",
        "# coefficients are same\n",
        "\n",
        "# original signal can be reconstructed by applying DCT-III on dct_coeff_from_dft\n",
        "original_signal = cos3(dct_coeff_from_dft, len(dct_coeff_from_dft))\n",
        "print(np.round(original_signal))"
      ]
    },
    {
      "cell_type": "code",
      "execution_count": 13,
      "metadata": {
        "id": "XjvCAaNiNr6y",
        "outputId": "4abf8e82-5f3e-4578-c7ff-e8341f05e03a"
      },
      "outputs": [
        {
          "name": "stdout",
          "output_type": "stream",
          "text": [
            "\n",
            "we don't know what x is (sender has encoded this already): [1 6 2 4 0 6 7 2]\n",
            "\n",
            "what we were given (encoded vector):  [28.        +0.j         -0.41421356+3.58578644j -8.        -6.j\n",
            "  2.41421356-6.41421356j -8.        +0.j          2.41421356+6.41421356j\n",
            " -8.        +6.j         -0.41421356-3.58578644j]\n",
            "\n",
            "DCT coefficients constructed using given fft:  [ 9.8995  0.1466 -4.8436 -0.7781 -2.8284  3.3372  1.2409 -1.7988]\n",
            "\n",
            "reconstructed signal (through DCT-III):  [ 1.  2.  6.  7.  2.  6.  4. -0.]\n",
            "DCT-III is replaced by the DCT-III imposed neural network\n",
            "\n",
            "What we obtain from our end (this matches with the sender's data):  [ 1.  6.  2.  4. -0.  6.  7.  2.]\n"
          ]
        }
      ],
      "source": [
        "N = len(x)\n",
        "\n",
        "print(\"\\nwe don't know what x is (sender has encoded this already):\", x)\n",
        "\n",
        "X_dft = dft(x, len(x))\n",
        "print(\"\\nwhat we were given (encoded vector): \", X_dft)\n",
        "\n",
        "k = np.arange(N)\n",
        "shift = np.exp(-1j * np.pi * k / (2 * N))\n",
        "alpha_k = np.where(k == 0, np.sqrt(1/N), np.sqrt(2/N))\n",
        "X_dct = np.real(alpha_k * shift * X_dft)\n",
        "\n",
        "print(\"\\nDCT coefficients constructed using given fft: \", np.round(X_dct,4))\n",
        "\n",
        "X = cos3(X_dct, len(X_dct))\n",
        "print(\"\\nreconstructed signal (through DCT-III): \", np.round(X,4))\n",
        "print(\"DCT-III is replaced by the DCT-III imposed neural network\")\n",
        "\n",
        "perm = np.concatenate((X[::2], X[1::2][::-1])) # even indexes + odd indexes - reversed order\n",
        "print(\"\\nWhat we obtain from our end (this matches with the sender's data): \", np.round(perm,4))"
      ]
    },
    {
      "cell_type": "markdown",
      "metadata": {
        "id": "wm-EbrqCNr6z"
      },
      "source": [
        "# If the codewords were encoded using the Gen Matrix"
      ]
    },
    {
      "cell_type": "markdown",
      "metadata": {
        "id": "wf2PU7ZWNr6z"
      },
      "source": [
        "$$\n",
        "\\text{Generator matrix: } \\quad \\tilde{M}_{kj} = \\left[ \\left( \\frac{w_0}{z_0} \\right)^j \\zeta^{kj} \\right]_{k,j=0}^{n-1} \\\\\n",
        "\\text{DFT matrix: } \\quad F_{kj} = \\left[ \\zeta^{kj} \\right]_{k,j=0}^{n-1} \\\\\n",
        "\\text{where:} \\quad \\zeta = e^{- \\frac{2\\pi i}{n}}\n",
        "$$"
      ]
    },
    {
      "cell_type": "code",
      "execution_count": 14,
      "metadata": {
        "id": "nDvndGpmNr6z",
        "outputId": "89552e63-2cdc-456c-d503-6e395ae036b3"
      },
      "outputs": [
        {
          "name": "stdout",
          "output_type": "stream",
          "text": [
            "Original Signal:        [5 0 0 9 4 1 5 1]\n",
            "\n",
            "Gen-Matrix Encoded:     [ 78.7741 +0.j     -20.4093+21.2854j -10.4513+24.6109j   5.1254-34.9012j\n",
            "  12.6964 +0.j       5.1254+34.9012j -10.4513-24.6109j -20.4093-21.2854j]\n",
            "\n",
            "Data decoded using IDFT (before resclaing):  [ 5.    -0.j -0.    -0.j -0.    +0.j 21.3333+0.j 12.642 +0.j  4.214 +0.j\n",
            " 28.0933+0.j  7.4915-0.j]\n",
            "[ 5.      0.      0.     21.3333 12.642   4.214  28.0933  7.4915]\n",
            "Decoded data after rescaling:  [5. 0. 0. 9. 4. 1. 5. 1.]\n"
          ]
        }
      ],
      "source": [
        "q = 10\n",
        "n = 8\n",
        "x = np.random.randint(0, q, n)\n",
        "\n",
        "def padded_generator_matrix(N, w0, z0):\n",
        "    n = np.arange(N)\n",
        "    k = n.reshape((N, 1))\n",
        "    zeta = np.exp(-2j * np.pi / N)\n",
        "    M_tilde = ((w0 / z0) ** n) * (zeta ** (k * n))\n",
        "    return M_tilde\n",
        "\n",
        "w0 = 4\n",
        "z0 = 3\n",
        "M_tilde = padded_generator_matrix(n, w0, z0)\n",
        "gen_matrix_encoded = np.dot(M_tilde, x)\n",
        "\n",
        "print(\"Original Signal:       \", x)\n",
        "\n",
        "print(\"\\nGen-Matrix Encoded:    \", np.round(gen_matrix_encoded,4))\n",
        "\n",
        "decoded = idft(gen_matrix_encoded, len(gen_matrix_encoded))\n",
        "print(\"\\nData decoded using IDFT (before resclaing): \", np.round(decoded, 4))\n",
        "\n",
        "decoded = np.sqrt(np.real(decoded)**2 + np.imag(decoded)**2)\n",
        "print(np.round(decoded, 4))\n",
        "\n",
        "D_hat_n = np.array([(z0 / w0) ** k for k in range(n)])\n",
        "decoded = D_hat_n * decoded\n",
        "\n",
        "print(\"Decoded data after rescaling: \", np.round(decoded, 4))"
      ]
    },
    {
      "cell_type": "code",
      "execution_count": 15,
      "metadata": {
        "id": "KByWRzGkNr6z",
        "outputId": "4446276e-3fe6-45f3-8156-edabd7618544"
      },
      "outputs": [
        {
          "name": "stdout",
          "output_type": "stream",
          "text": [
            "X[0] = (78.7741+0j)\n",
            "X[1] = (-20.4093+21.2854j)\n",
            "X[2] = (-10.4513+24.6109j)\n",
            "X[3] = (5.1254-34.9012j)\n",
            "X[4] = (12.6964+0j)\n",
            "X[5] = (5.1254+34.9012j)\n",
            "X[6] = (-10.4513-24.6109j)\n",
            "X[7] = (-20.4093-21.2854j)\n"
          ]
        }
      ],
      "source": [
        "for k, value in enumerate(gen_matrix_encoded):\n",
        "    print(f\"X[{k}] = {np.round(value, 4)}\")"
      ]
    },
    {
      "cell_type": "code",
      "execution_count": 16,
      "metadata": {
        "id": "tYGrL3p1Nr6z",
        "outputId": "fcdbb6b7-b5b9-451b-bcc5-4deeee052c2a"
      },
      "outputs": [
        {
          "data": {
            "text/plain": [
              "array([[1.        , 0.        , 0.        , 0.        , 0.        ,\n",
              "        0.        , 0.        , 0.        ],\n",
              "       [0.        , 0.75      , 0.        , 0.        , 0.        ,\n",
              "        0.        , 0.        , 0.        ],\n",
              "       [0.        , 0.        , 0.5625    , 0.        , 0.        ,\n",
              "        0.        , 0.        , 0.        ],\n",
              "       [0.        , 0.        , 0.        , 0.421875  , 0.        ,\n",
              "        0.        , 0.        , 0.        ],\n",
              "       [0.        , 0.        , 0.        , 0.        , 0.31640625,\n",
              "        0.        , 0.        , 0.        ],\n",
              "       [0.        , 0.        , 0.        , 0.        , 0.        ,\n",
              "        0.23730469, 0.        , 0.        ],\n",
              "       [0.        , 0.        , 0.        , 0.        , 0.        ,\n",
              "        0.        , 0.17797852, 0.        ],\n",
              "       [0.        , 0.        , 0.        , 0.        , 0.        ,\n",
              "        0.        , 0.        , 0.13348389]])"
            ]
          },
          "execution_count": 16,
          "metadata": {},
          "output_type": "execute_result"
        }
      ],
      "source": [
        "D_hat_n = np.diag([(z0 / w0) ** k for k in range(n)])\n",
        "D_hat_n"
      ]
    },
    {
      "cell_type": "code",
      "execution_count": 17,
      "metadata": {
        "id": "ppN3bc-RNr6z",
        "outputId": "2f47447d-9b51-4c9d-e1f0-3541c5a0dc34"
      },
      "outputs": [
        {
          "name": "stdout",
          "output_type": "stream",
          "text": [
            "WARNING:tensorflow:From c:\\Users\\Asus\\anaconda3\\lib\\site-packages\\keras\\src\\losses.py:2976: The name tf.losses.sparse_softmax_cross_entropy is deprecated. Please use tf.compat.v1.losses.sparse_softmax_cross_entropy instead.\n",
            "\n",
            "Initialized weights: [1.       0.75     0.5625   0.421875]\n"
          ]
        }
      ],
      "source": [
        "#  this test is to see if we can use the diagonal scaling as a custom weight matrix initializer in our neural network\n",
        "\n",
        "import tensorflow as tf\n",
        "\n",
        "output_dim = 4\n",
        "\n",
        "def custom_initializer(shape, dtype=None):\n",
        "    n = shape[0]\n",
        "    values = np.array([(z0 / w0) ** k for k in range(n)], dtype=np.float32)\n",
        "    return tf.convert_to_tensor(values, dtype=dtype)\n",
        "\n",
        "weights = custom_initializer((output_dim,))\n",
        "print(\"Initialized weights:\", weights.numpy())"
      ]
    },
    {
      "cell_type": "markdown",
      "metadata": {
        "id": "N3TOBcKvNr60"
      },
      "source": [
        "#### Testing the DCT2 and DFT relationship with gen matrix"
      ]
    },
    {
      "cell_type": "code",
      "execution_count": 18,
      "metadata": {
        "id": "7yuka9JzNr60",
        "outputId": "18f951a8-d098-40be-841c-61b1566a7fbb"
      },
      "outputs": [
        {
          "name": "stdout",
          "output_type": "stream",
          "text": [
            "we don't know what x is (what we want to reconstruct): [5 0 0 9 4 1 5 1]\n",
            "\n",
            "what we were given (encoded vector):  [ 78.7741198  +0.j         -20.40934274+21.28539534j\n",
            " -10.45130316+24.61088249j   5.12539212-34.90116158j\n",
            "  12.69638775 +0.j           5.12539212+34.90116158j\n",
            " -10.45130316-24.61088249j -20.40934274-21.28539534j]\n",
            "\n",
            "DCT coefficients constructed using given fft:  [ 27.8509  -7.9323  -0.1188  -7.5642   4.4889  15.9334 -13.3685 -12.429 ]\n",
            "\n",
            "reconstructed signal (through DCT-III):  [ 5.      7.4915 -0.     28.0933 -0.      4.214  21.3333 12.642 ]\n",
            "DCT-III is replaced by the DCT-III imposed neural network\n",
            "\n",
            "After permutation:  [ 5. -0. -0. 21. 13.  4. 28.  7.]\n",
            "After Scaling:  [ 5. -0. -0.  9.  4.  1.  5.  1.]\n",
            "\n",
            "Our results match with the sender's original results\n"
          ]
        }
      ],
      "source": [
        "#  we assume that we are given a data sample encoded using a DFT-like matrix (the generator matrix)\n",
        "#  we already have the gen_matrix_encoded data\n",
        "\n",
        "y = gen_matrix_encoded\n",
        "\n",
        "print(\"we don't know what x is (what we want to reconstruct):\", x)\n",
        "\n",
        "print(\"\\nwhat we were given (encoded vector): \", y)\n",
        "\n",
        "k = np.arange(N)\n",
        "shift = np.exp(-1j * np.pi * k / (2 * N))\n",
        "alpha_k = np.where(k == 0, np.sqrt(1/N), np.sqrt(2/N))\n",
        "X_dct = np.real(alpha_k * shift * y)\n",
        "\n",
        "print(\"\\nDCT coefficients constructed using given fft: \", np.round(X_dct,4))\n",
        "\n",
        "X = cos3(X_dct, len(X_dct))\n",
        "print(\"\\nreconstructed signal (through DCT-III): \", np.round(X, 4))\n",
        "print(\"DCT-III is replaced by the DCT-III imposed neural network\")\n",
        "\n",
        "perm = np.concatenate((X[::2], X[1::2][::-1])) # even indexes + odd indexes - reversed order\n",
        "print(\"\\nAfter permutation: \", np.round(perm))\n",
        "\n",
        "# D_hat_n = np.array([(z0 / w0) ** k for k in range(len(x))]) # scaling back -> do after permutation\n",
        "D_hat_n = tf.pow(tf.constant(z0, dtype=tf.float32) / tf.constant(w0, dtype=tf.float32),\n",
        "                         tf.cast(tf.range(len(x)), dtype=tf.float32))\n",
        "decoded = D_hat_n * perm\n",
        "print(\"After Scaling: \", np.round(decoded, 4))\n",
        "print(\"\\nOur results match with the sender's original results\")"
      ]
    },
    {
      "cell_type": "code",
      "execution_count": null,
      "metadata": {
        "id": "cB5VCSjyNr64"
      },
      "outputs": [],
      "source": []
    }
  ],
  "metadata": {
    "colab": {
      "provenance": []
    },
    "kernelspec": {
      "display_name": "base",
      "language": "python",
      "name": "python3"
    },
    "language_info": {
      "codemirror_mode": {
        "name": "ipython",
        "version": 3
      },
      "file_extension": ".py",
      "mimetype": "text/x-python",
      "name": "python",
      "nbconvert_exporter": "python",
      "pygments_lexer": "ipython3",
      "version": "3.9.18"
    }
  },
  "nbformat": 4,
  "nbformat_minor": 0
}
